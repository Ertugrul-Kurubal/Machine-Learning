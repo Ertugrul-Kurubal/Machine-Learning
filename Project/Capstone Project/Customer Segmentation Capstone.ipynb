{
  "nbformat": 4,
  "nbformat_minor": 2,
  "metadata": {
    "colab": {
      "name": "RFM - Customer Segmentation_Student_V3.ipynb",
      "provenance": [],
      "collapsed_sections": [
        "lf4OsPmSQGXA"
      ],
      "toc_visible": true
    },
    "kernelspec": {
      "name": "python3",
      "display_name": "Python 3.9.0 64-bit (system)"
    },
    "language_info": {
      "codemirror_mode": {
        "name": "ipython",
        "version": 3
      },
      "file_extension": ".py",
      "mimetype": "text/x-python",
      "name": "python",
      "nbconvert_exporter": "python",
      "pygments_lexer": "ipython3",
      "version": "3.9.0"
    },
    "interpreter": {
      "hash": "43a9cd95aa030499ef934e4da31e07dde54f3fc3a1fd0cc4aeef7f16459ee2ac"
    }
  },
  "cells": [
    {
      "cell_type": "markdown",
      "source": [
        "___\n",
        "\n",
        "<p style=\"text-align: center;\"><img src=\"https://docs.google.com/uc?id=1lY0Uj5R04yMY3-ZppPWxqCr5pvBLYPnV\" class=\"img-fluid\" alt=\"CLRSWY\"></p>\n",
        "\n",
        "___"
      ],
      "metadata": {
        "id": "yG6Ti6UOiqav"
      }
    },
    {
      "cell_type": "markdown",
      "source": [
        "# WELCOME!"
      ],
      "metadata": {
        "id": "M2v-2JDuiqa0"
      }
    },
    {
      "cell_type": "markdown",
      "source": [
        "Welcome to \"RFM Customer Segmentation & Cohort Analysis Project\". This is the first project of the Capstone Project Series, which consists of 4 different project that contain different scenarios.\n",
        "\n",
        "This is a project which you will learn what is RFM? And how to apply RFM Analysis and Customer Segmentation using K-Means Clustering. Also you will improve your Data Cleaning, Data Visualization and Exploratory Data Analysis capabilities. On the other hand you will create Cohort and Conduct Cohort Analysis. \n",
        "\n",
        "Before diving into the project, please take a look at the determines and project structure.\n",
        "\n",
        "- **NOTE:** This tutorial assumes that you already know the basics of coding in Python and are familiar with the theory behind K-Means Clustering.\n",
        "\n"
      ],
      "metadata": {
        "id": "oLS5y2Jqiqa1"
      }
    },
    {
      "cell_type": "markdown",
      "source": [
        "# #Determines\r\n",
        "\r\n",
        "Using the [Online Retail dataset](https://archive.ics.uci.edu/ml/datasets/Online+Retail) from the UCI Machine Learning Repository for exploratory data analysis, ***Customer Segmentation***, ***RFM Analysis***, ***K-Means Clustering*** and ***Cohort Analysis***.\r\n",
        "\r\n",
        "This is a transnational data set which contains all the transactions occurring between 01/12/2010 and 09/12/2011 for a UK-based and registered non-store online retail. The company mainly sells unique all-occasion gifts. Many customers of the company are wholesalers.\r\n",
        "\r\n",
        "Feature Information:\r\n",
        "\r\n",
        "**InvoiceNo**: Invoice number. *Nominal*, a 6-digit integral number uniquely assigned to each transaction. If this code starts with letter 'c', it indicates a cancellation. \r\n",
        "<br>\r\n",
        "**StockCode**: Product (item) code. *Nominal*, a 5-digit integral number uniquely assigned to each distinct product.\r\n",
        "<br>\r\n",
        "**Description**: Product (item) name. *Nominal*. \r\n",
        "<br>\r\n",
        "**Quantity**: The quantities of each product (item) per transaction. *Numeric*.\r\n",
        "<br>\r\n",
        "**InvoiceDate**: Invoice Date and time. *Numeric*, the day and time when each transaction was generated.\r\n",
        "<br>\r\n",
        "**UnitPrice**: Unit price. *Numeric*, Product price per unit in sterling.\r\n",
        "<br>\r\n",
        "**CustomerID**: Customer number. *Nominal*, a 5-digit integral number uniquely assigned to each customer.\r\n",
        "<br>\r\n",
        "**Country**: Country name. *Nominal*, the name of the country where each customer resides.\r\n",
        "\r\n",
        "\r\n",
        "---\r\n",
        "\r\n",
        "\r\n",
        "First of all, to observe the structure of the data and missing values, you can use exploratory data analysis and data visualization techniques.\r\n",
        "\r\n",
        "You must do descriptive analysis. Because you must understand the relationship of the features to each other and clear the noise and missing values in the data. After that, the data set will be ready for RFM analysis.\r\n",
        "\r\n",
        "Before starting the RFM Analysis, you will be asked to do some analysis regarding the distribution of *Orders*, *Customers* and *Countries*. These analyzes will help the company develop its sales policies and contribute to the correct use of resources.\r\n",
        "\r\n",
        "You will notice that the UK not only has the most sales revenue, but also the most customers. So you will continue to analyze only UK transactions in the next RFM Analysis, Customer Segmentation and K-Means Clustering topics.\r\n",
        "\r\n",
        "Next, you will begin RFM Analysis, a customer segmentation technique based on customers' past purchasing behavior. \r\n",
        "\r\n",
        "By using RFM Analysis, you can enable companies to develop different approaches to different customer segments so that they can get to know their customers better, observe trends better, and increase customer retention and sales revenues.\r\n",
        "\r\n",
        "You will calculate the Recency, Frequency and Monetary values of the customers in the RFM Analysis you will make using the data consisting of UK transactions. Ultimately, you have to create an RFM table containing these values.\r\n",
        "\r\n",
        "In the Customer Segmentation section, you will create an RFM Segmentation Table where you segment your customers by using the RFM table. For example, you can label the best customer as \"Big Spenders\" and the lost customer as \"Lost Customer\".\r\n",
        "\r\n",
        "We will segment the customers ourselves based on their recency, frequency, and monetary values. But can an **unsupervised learning** model do this better for us? You will use the K-Means algorithm to find the answer to this question. Then you will compare the classification made by the algorithm with the classification you have made yourself.\r\n",
        "\r\n",
        "Before applying K-Means Clustering, you should do data pre-processing. In this context, it will be useful to examine feature correlations and distributions. In addition, the data you apply for K-Means should be normalized.\r\n",
        "\r\n",
        "On the other hand, you should inform the K-means algorithm about the number of clusters it will predict. You will also try the *** Elbow method *** and *** Silhouette Analysis *** to find the optimum number of clusters.\r\n",
        "\r\n",
        "After the above operations, you will have made cluster estimation with K-Means. You should visualize the cluster distribution by using a scatter plot. You can observe the properties of the resulting clusters with the help of the boxplot. Thus you will be able to tag clusters and interpret results.\r\n",
        "\r\n",
        "Finally, you will do Cohort Analysis with the data you used at the beginning, regardless of the analysis you have done before. Cohort analysis is a subset of behavioral analytics that takes the user data and breaks them into related groups for analysis. This analysis can further be used to do customer segmentation and track metrics like retention, churn, and lifetime value.\r\n"
      ],
      "metadata": {
        "id": "1SCOFEfqiqa1"
      }
    },
    {
      "cell_type": "markdown",
      "source": [
        "# #Project Structures\n",
        "\n",
        "- Data Cleaning & Exploratory Data Analysis\n",
        "- RFM Analysis\n",
        "- Customer Segmentation\n",
        "- Applying K-Means Clustering\n",
        "- Create Cohort and Conduct Cohort Analysis"
      ],
      "metadata": {
        "id": "KQ62QseViqa2"
      }
    },
    {
      "cell_type": "markdown",
      "source": [
        "# #Tasks\n",
        "\n",
        "#### 1. Data Cleaning & Exploratory Data Analysis\n",
        "\n",
        "- Import Modules, Load Data & Data Review\n",
        "- Follow the Steps Below\n",
        "\n",
        "    *i. Take a look at relationships between InvoiceNo, Quantity and UnitPrice columns.*\n",
        "    \n",
        "    *ii. What does the letter \"C\" in the invoiceno column mean?*\n",
        "    \n",
        "    *iii. Handling Missing Values*\n",
        "    \n",
        "    *iv. Clean the Data from the Noise and Missing Values*\n",
        "    \n",
        "    *v. Explore the Orders*\n",
        "    \n",
        "    *vi. Explore Customers by Country*\n",
        "    \n",
        "    *vii. Explore the UK Market*\n",
        "    \n",
        "#### 2. RFM Analysis\n",
        "\n",
        "- Follow the steps below\n",
        "\n",
        "   *i. Import Libraries*\n",
        "   \n",
        "   *ii. Review \"df_uk\" DataFrame (the df_uk what you create at the end of the Task 1)*\n",
        "   \n",
        "   *iii. Calculate Recency*\n",
        "   \n",
        "   *iv. Calculate Frequency*\n",
        "   \n",
        "   *v. Calculate Monetary Values*\n",
        "   \n",
        "   *vi. Create RFM Table*\n",
        "\n",
        "#### 3. Customer Segmentation with RFM Scores\n",
        "- Calculate RFM Scoring\n",
        "\n",
        "    *i. Creating the RFM Segmentation Table*\n",
        " \n",
        "- Plot RFM Segments\n",
        "\n",
        "#### 4. Applying K-Means Clustering\n",
        "- Data Pre-Processing and Exploring\n",
        "\n",
        "    *i. Define and Plot Feature Correlations*\n",
        " \n",
        "    *ii. Visualize Feature Distributions*\n",
        " \n",
        "    *iii. Data Normalization*\n",
        "\n",
        "- K-Means Implementation\n",
        "\n",
        "    *i. Define Optimal Cluster Number (K) by using \"Elbow Method\" and \"Silhouette Analysis\"*\n",
        " \n",
        "    *ii. Visualize the Clusters*\n",
        " \n",
        "    *iii. Assign the label*\n",
        " \n",
        "    *iv. Conclusion*\n",
        " \n",
        "#### 5. Create Cohort and Conduct Cohort Analysis\n",
        "- Future Engineering\n",
        "\n",
        "    *i. Extract the Month of the Purchase*\n",
        " \n",
        "    *ii. Calculating time offset in Months i.e. Cohort Index*\n",
        " \n",
        "- Create 1st Cohort: User Number & Retention Rate \n",
        "\n",
        "    *i. Pivot Cohort and Cohort Retention*\n",
        " \n",
        "    *ii. Visualize analysis of cohort 1 using seaborn and matplotlib*\n",
        "\n",
        "- Create 2nd Cohort: Average Quantity Sold \n",
        "\n",
        "    *i. Pivot Cohort and Cohort Retention*\n",
        " \n",
        "    *ii. Visualize analysis of cohort 2 using seaborn and matplotlib*\n",
        "\n",
        "- Create 3rd Cohort: Average Sales\n",
        "\n",
        "    *i. Pivot Cohort and Cohort Retention*\n",
        " \n",
        "    *ii. Visualize analysis of cohort 3 using seaborn and matplotlib*\n",
        "    \n",
        "- **Note: There may be sub-tasks associated with each task, you will see them in order during the course of the work.**\n"
      ],
      "metadata": {
        "id": "wsPQ1tUwiqa2"
      }
    },
    {
      "cell_type": "markdown",
      "source": [
        "# 1. Data Cleaning & Exploratory Data Analysis"
      ],
      "metadata": {
        "id": "k-NlVU1UQGVA"
      }
    },
    {
      "cell_type": "markdown",
      "source": [
        "## Import Modules, Load Data & Data Review"
      ],
      "metadata": {
        "id": "L63G_-Dqiqa3"
      }
    },
    {
      "cell_type": "code",
      "execution_count": 1,
      "source": [
        "import pandas as pd\r\n",
        "import numpy as np\r\n",
        "import matplotlib.pyplot as plt\r\n",
        "import seaborn as sns"
      ],
      "outputs": [],
      "metadata": {
        "id": "J-Zb5JfOiqa3"
      }
    },
    {
      "cell_type": "code",
      "execution_count": 2,
      "source": [
        "df = pd.read_excel(\"Online Retail.xlsx\")"
      ],
      "outputs": [],
      "metadata": {}
    },
    {
      "cell_type": "code",
      "execution_count": 3,
      "source": [
        "df.head()"
      ],
      "outputs": [
        {
          "output_type": "execute_result",
          "data": {
            "text/plain": [
              "  InvoiceNo StockCode                          Description  Quantity  \\\n",
              "0    536365    85123A   WHITE HANGING HEART T-LIGHT HOLDER         6   \n",
              "1    536365     71053                  WHITE METAL LANTERN         6   \n",
              "2    536365    84406B       CREAM CUPID HEARTS COAT HANGER         8   \n",
              "3    536365    84029G  KNITTED UNION FLAG HOT WATER BOTTLE         6   \n",
              "4    536365    84029E       RED WOOLLY HOTTIE WHITE HEART.         6   \n",
              "\n",
              "          InvoiceDate  UnitPrice  CustomerID         Country  \n",
              "0 2010-12-01 08:26:00       2.55     17850.0  United Kingdom  \n",
              "1 2010-12-01 08:26:00       3.39     17850.0  United Kingdom  \n",
              "2 2010-12-01 08:26:00       2.75     17850.0  United Kingdom  \n",
              "3 2010-12-01 08:26:00       3.39     17850.0  United Kingdom  \n",
              "4 2010-12-01 08:26:00       3.39     17850.0  United Kingdom  "
            ],
            "text/html": [
              "<div>\n",
              "<style scoped>\n",
              "    .dataframe tbody tr th:only-of-type {\n",
              "        vertical-align: middle;\n",
              "    }\n",
              "\n",
              "    .dataframe tbody tr th {\n",
              "        vertical-align: top;\n",
              "    }\n",
              "\n",
              "    .dataframe thead th {\n",
              "        text-align: right;\n",
              "    }\n",
              "</style>\n",
              "<table border=\"1\" class=\"dataframe\">\n",
              "  <thead>\n",
              "    <tr style=\"text-align: right;\">\n",
              "      <th></th>\n",
              "      <th>InvoiceNo</th>\n",
              "      <th>StockCode</th>\n",
              "      <th>Description</th>\n",
              "      <th>Quantity</th>\n",
              "      <th>InvoiceDate</th>\n",
              "      <th>UnitPrice</th>\n",
              "      <th>CustomerID</th>\n",
              "      <th>Country</th>\n",
              "    </tr>\n",
              "  </thead>\n",
              "  <tbody>\n",
              "    <tr>\n",
              "      <th>0</th>\n",
              "      <td>536365</td>\n",
              "      <td>85123A</td>\n",
              "      <td>WHITE HANGING HEART T-LIGHT HOLDER</td>\n",
              "      <td>6</td>\n",
              "      <td>2010-12-01 08:26:00</td>\n",
              "      <td>2.55</td>\n",
              "      <td>17850.0</td>\n",
              "      <td>United Kingdom</td>\n",
              "    </tr>\n",
              "    <tr>\n",
              "      <th>1</th>\n",
              "      <td>536365</td>\n",
              "      <td>71053</td>\n",
              "      <td>WHITE METAL LANTERN</td>\n",
              "      <td>6</td>\n",
              "      <td>2010-12-01 08:26:00</td>\n",
              "      <td>3.39</td>\n",
              "      <td>17850.0</td>\n",
              "      <td>United Kingdom</td>\n",
              "    </tr>\n",
              "    <tr>\n",
              "      <th>2</th>\n",
              "      <td>536365</td>\n",
              "      <td>84406B</td>\n",
              "      <td>CREAM CUPID HEARTS COAT HANGER</td>\n",
              "      <td>8</td>\n",
              "      <td>2010-12-01 08:26:00</td>\n",
              "      <td>2.75</td>\n",
              "      <td>17850.0</td>\n",
              "      <td>United Kingdom</td>\n",
              "    </tr>\n",
              "    <tr>\n",
              "      <th>3</th>\n",
              "      <td>536365</td>\n",
              "      <td>84029G</td>\n",
              "      <td>KNITTED UNION FLAG HOT WATER BOTTLE</td>\n",
              "      <td>6</td>\n",
              "      <td>2010-12-01 08:26:00</td>\n",
              "      <td>3.39</td>\n",
              "      <td>17850.0</td>\n",
              "      <td>United Kingdom</td>\n",
              "    </tr>\n",
              "    <tr>\n",
              "      <th>4</th>\n",
              "      <td>536365</td>\n",
              "      <td>84029E</td>\n",
              "      <td>RED WOOLLY HOTTIE WHITE HEART.</td>\n",
              "      <td>6</td>\n",
              "      <td>2010-12-01 08:26:00</td>\n",
              "      <td>3.39</td>\n",
              "      <td>17850.0</td>\n",
              "      <td>United Kingdom</td>\n",
              "    </tr>\n",
              "  </tbody>\n",
              "</table>\n",
              "</div>"
            ]
          },
          "metadata": {},
          "execution_count": 3
        }
      ],
      "metadata": {}
    },
    {
      "cell_type": "code",
      "execution_count": 4,
      "source": [
        "df.info()"
      ],
      "outputs": [
        {
          "output_type": "stream",
          "name": "stdout",
          "text": [
            "<class 'pandas.core.frame.DataFrame'>\n",
            "RangeIndex: 541909 entries, 0 to 541908\n",
            "Data columns (total 8 columns):\n",
            " #   Column       Non-Null Count   Dtype         \n",
            "---  ------       --------------   -----         \n",
            " 0   InvoiceNo    541909 non-null  object        \n",
            " 1   StockCode    541909 non-null  object        \n",
            " 2   Description  540455 non-null  object        \n",
            " 3   Quantity     541909 non-null  int64         \n",
            " 4   InvoiceDate  541909 non-null  datetime64[ns]\n",
            " 5   UnitPrice    541909 non-null  float64       \n",
            " 6   CustomerID   406829 non-null  float64       \n",
            " 7   Country      541909 non-null  object        \n",
            "dtypes: datetime64[ns](1), float64(2), int64(1), object(4)\n",
            "memory usage: 33.1+ MB\n"
          ]
        }
      ],
      "metadata": {}
    },
    {
      "cell_type": "code",
      "execution_count": 5,
      "source": [
        "df.describe()"
      ],
      "outputs": [
        {
          "output_type": "execute_result",
          "data": {
            "text/plain": [
              "            Quantity      UnitPrice     CustomerID\n",
              "count  541909.000000  541909.000000  406829.000000\n",
              "mean        9.552250       4.611114   15287.690570\n",
              "std       218.081158      96.759853    1713.600303\n",
              "min    -80995.000000  -11062.060000   12346.000000\n",
              "25%         1.000000       1.250000   13953.000000\n",
              "50%         3.000000       2.080000   15152.000000\n",
              "75%        10.000000       4.130000   16791.000000\n",
              "max     80995.000000   38970.000000   18287.000000"
            ],
            "text/html": [
              "<div>\n",
              "<style scoped>\n",
              "    .dataframe tbody tr th:only-of-type {\n",
              "        vertical-align: middle;\n",
              "    }\n",
              "\n",
              "    .dataframe tbody tr th {\n",
              "        vertical-align: top;\n",
              "    }\n",
              "\n",
              "    .dataframe thead th {\n",
              "        text-align: right;\n",
              "    }\n",
              "</style>\n",
              "<table border=\"1\" class=\"dataframe\">\n",
              "  <thead>\n",
              "    <tr style=\"text-align: right;\">\n",
              "      <th></th>\n",
              "      <th>Quantity</th>\n",
              "      <th>UnitPrice</th>\n",
              "      <th>CustomerID</th>\n",
              "    </tr>\n",
              "  </thead>\n",
              "  <tbody>\n",
              "    <tr>\n",
              "      <th>count</th>\n",
              "      <td>541909.000000</td>\n",
              "      <td>541909.000000</td>\n",
              "      <td>406829.000000</td>\n",
              "    </tr>\n",
              "    <tr>\n",
              "      <th>mean</th>\n",
              "      <td>9.552250</td>\n",
              "      <td>4.611114</td>\n",
              "      <td>15287.690570</td>\n",
              "    </tr>\n",
              "    <tr>\n",
              "      <th>std</th>\n",
              "      <td>218.081158</td>\n",
              "      <td>96.759853</td>\n",
              "      <td>1713.600303</td>\n",
              "    </tr>\n",
              "    <tr>\n",
              "      <th>min</th>\n",
              "      <td>-80995.000000</td>\n",
              "      <td>-11062.060000</td>\n",
              "      <td>12346.000000</td>\n",
              "    </tr>\n",
              "    <tr>\n",
              "      <th>25%</th>\n",
              "      <td>1.000000</td>\n",
              "      <td>1.250000</td>\n",
              "      <td>13953.000000</td>\n",
              "    </tr>\n",
              "    <tr>\n",
              "      <th>50%</th>\n",
              "      <td>3.000000</td>\n",
              "      <td>2.080000</td>\n",
              "      <td>15152.000000</td>\n",
              "    </tr>\n",
              "    <tr>\n",
              "      <th>75%</th>\n",
              "      <td>10.000000</td>\n",
              "      <td>4.130000</td>\n",
              "      <td>16791.000000</td>\n",
              "    </tr>\n",
              "    <tr>\n",
              "      <th>max</th>\n",
              "      <td>80995.000000</td>\n",
              "      <td>38970.000000</td>\n",
              "      <td>18287.000000</td>\n",
              "    </tr>\n",
              "  </tbody>\n",
              "</table>\n",
              "</div>"
            ]
          },
          "metadata": {},
          "execution_count": 5
        }
      ],
      "metadata": {}
    },
    {
      "cell_type": "code",
      "execution_count": 6,
      "source": [
        "df.isnull().sum()"
      ],
      "outputs": [
        {
          "output_type": "execute_result",
          "data": {
            "text/plain": [
              "InvoiceNo           0\n",
              "StockCode           0\n",
              "Description      1454\n",
              "Quantity            0\n",
              "InvoiceDate         0\n",
              "UnitPrice           0\n",
              "CustomerID     135080\n",
              "Country             0\n",
              "dtype: int64"
            ]
          },
          "metadata": {},
          "execution_count": 6
        }
      ],
      "metadata": {}
    },
    {
      "cell_type": "code",
      "execution_count": 7,
      "source": [
        "for i in df.columns:\r\n",
        "    nvalue = df[i].nunique()\r\n",
        "    print(f\"{i} has {nvalue} unique values\")"
      ],
      "outputs": [
        {
          "output_type": "stream",
          "name": "stdout",
          "text": [
            "InvoiceNo has 25900 unique values\n",
            "StockCode has 4070 unique values\n",
            "Description has 4223 unique values\n",
            "Quantity has 722 unique values\n",
            "InvoiceDate has 23260 unique values\n",
            "UnitPrice has 1630 unique values\n",
            "CustomerID has 4372 unique values\n",
            "Country has 38 unique values\n"
          ]
        }
      ],
      "metadata": {}
    },
    {
      "cell_type": "markdown",
      "source": [
        "### i. Take a look at relationships between InvoiceNo, Quantity and UnitPrice columns."
      ],
      "metadata": {
        "id": "YECMxCzUQGV7"
      }
    },
    {
      "cell_type": "code",
      "execution_count": 8,
      "source": [
        "InvQUnit = df[[\"InvoiceNo\", \"Quantity\", \"UnitPrice\"]]\r\n",
        "InvQUnit"
      ],
      "outputs": [
        {
          "output_type": "execute_result",
          "data": {
            "text/plain": [
              "       InvoiceNo  Quantity  UnitPrice\n",
              "0         536365         6       2.55\n",
              "1         536365         6       3.39\n",
              "2         536365         8       2.75\n",
              "3         536365         6       3.39\n",
              "4         536365         6       3.39\n",
              "...          ...       ...        ...\n",
              "541904    581587        12       0.85\n",
              "541905    581587         6       2.10\n",
              "541906    581587         4       4.15\n",
              "541907    581587         4       4.15\n",
              "541908    581587         3       4.95\n",
              "\n",
              "[541909 rows x 3 columns]"
            ],
            "text/html": [
              "<div>\n",
              "<style scoped>\n",
              "    .dataframe tbody tr th:only-of-type {\n",
              "        vertical-align: middle;\n",
              "    }\n",
              "\n",
              "    .dataframe tbody tr th {\n",
              "        vertical-align: top;\n",
              "    }\n",
              "\n",
              "    .dataframe thead th {\n",
              "        text-align: right;\n",
              "    }\n",
              "</style>\n",
              "<table border=\"1\" class=\"dataframe\">\n",
              "  <thead>\n",
              "    <tr style=\"text-align: right;\">\n",
              "      <th></th>\n",
              "      <th>InvoiceNo</th>\n",
              "      <th>Quantity</th>\n",
              "      <th>UnitPrice</th>\n",
              "    </tr>\n",
              "  </thead>\n",
              "  <tbody>\n",
              "    <tr>\n",
              "      <th>0</th>\n",
              "      <td>536365</td>\n",
              "      <td>6</td>\n",
              "      <td>2.55</td>\n",
              "    </tr>\n",
              "    <tr>\n",
              "      <th>1</th>\n",
              "      <td>536365</td>\n",
              "      <td>6</td>\n",
              "      <td>3.39</td>\n",
              "    </tr>\n",
              "    <tr>\n",
              "      <th>2</th>\n",
              "      <td>536365</td>\n",
              "      <td>8</td>\n",
              "      <td>2.75</td>\n",
              "    </tr>\n",
              "    <tr>\n",
              "      <th>3</th>\n",
              "      <td>536365</td>\n",
              "      <td>6</td>\n",
              "      <td>3.39</td>\n",
              "    </tr>\n",
              "    <tr>\n",
              "      <th>4</th>\n",
              "      <td>536365</td>\n",
              "      <td>6</td>\n",
              "      <td>3.39</td>\n",
              "    </tr>\n",
              "    <tr>\n",
              "      <th>...</th>\n",
              "      <td>...</td>\n",
              "      <td>...</td>\n",
              "      <td>...</td>\n",
              "    </tr>\n",
              "    <tr>\n",
              "      <th>541904</th>\n",
              "      <td>581587</td>\n",
              "      <td>12</td>\n",
              "      <td>0.85</td>\n",
              "    </tr>\n",
              "    <tr>\n",
              "      <th>541905</th>\n",
              "      <td>581587</td>\n",
              "      <td>6</td>\n",
              "      <td>2.10</td>\n",
              "    </tr>\n",
              "    <tr>\n",
              "      <th>541906</th>\n",
              "      <td>581587</td>\n",
              "      <td>4</td>\n",
              "      <td>4.15</td>\n",
              "    </tr>\n",
              "    <tr>\n",
              "      <th>541907</th>\n",
              "      <td>581587</td>\n",
              "      <td>4</td>\n",
              "      <td>4.15</td>\n",
              "    </tr>\n",
              "    <tr>\n",
              "      <th>541908</th>\n",
              "      <td>581587</td>\n",
              "      <td>3</td>\n",
              "      <td>4.95</td>\n",
              "    </tr>\n",
              "  </tbody>\n",
              "</table>\n",
              "<p>541909 rows × 3 columns</p>\n",
              "</div>"
            ]
          },
          "metadata": {},
          "execution_count": 8
        }
      ],
      "metadata": {
        "id": "nQ8vAKbbiqa4"
      }
    },
    {
      "cell_type": "markdown",
      "source": [
        "We see that there are negative values in the Quantity and UnitPrice columns. These are possibly canceled and returned orders. Let's check it out."
      ],
      "metadata": {
        "id": "KiSW67N_QGV8"
      }
    },
    {
      "cell_type": "code",
      "execution_count": 9,
      "source": [
        "neg_quan = InvQUnit[InvQUnit.Quantity<0]\r\n",
        "neg_quan"
      ],
      "outputs": [
        {
          "output_type": "execute_result",
          "data": {
            "text/plain": [
              "       InvoiceNo  Quantity  UnitPrice\n",
              "141      C536379        -1      27.50\n",
              "154      C536383        -1       4.65\n",
              "235      C536391       -12       1.65\n",
              "236      C536391       -24       0.29\n",
              "237      C536391       -24       0.29\n",
              "...          ...       ...        ...\n",
              "540449   C581490       -11       0.83\n",
              "541541   C581499        -1     224.69\n",
              "541715   C581568        -5      10.95\n",
              "541716   C581569        -1       1.25\n",
              "541717   C581569        -5       1.25\n",
              "\n",
              "[10624 rows x 3 columns]"
            ],
            "text/html": [
              "<div>\n",
              "<style scoped>\n",
              "    .dataframe tbody tr th:only-of-type {\n",
              "        vertical-align: middle;\n",
              "    }\n",
              "\n",
              "    .dataframe tbody tr th {\n",
              "        vertical-align: top;\n",
              "    }\n",
              "\n",
              "    .dataframe thead th {\n",
              "        text-align: right;\n",
              "    }\n",
              "</style>\n",
              "<table border=\"1\" class=\"dataframe\">\n",
              "  <thead>\n",
              "    <tr style=\"text-align: right;\">\n",
              "      <th></th>\n",
              "      <th>InvoiceNo</th>\n",
              "      <th>Quantity</th>\n",
              "      <th>UnitPrice</th>\n",
              "    </tr>\n",
              "  </thead>\n",
              "  <tbody>\n",
              "    <tr>\n",
              "      <th>141</th>\n",
              "      <td>C536379</td>\n",
              "      <td>-1</td>\n",
              "      <td>27.50</td>\n",
              "    </tr>\n",
              "    <tr>\n",
              "      <th>154</th>\n",
              "      <td>C536383</td>\n",
              "      <td>-1</td>\n",
              "      <td>4.65</td>\n",
              "    </tr>\n",
              "    <tr>\n",
              "      <th>235</th>\n",
              "      <td>C536391</td>\n",
              "      <td>-12</td>\n",
              "      <td>1.65</td>\n",
              "    </tr>\n",
              "    <tr>\n",
              "      <th>236</th>\n",
              "      <td>C536391</td>\n",
              "      <td>-24</td>\n",
              "      <td>0.29</td>\n",
              "    </tr>\n",
              "    <tr>\n",
              "      <th>237</th>\n",
              "      <td>C536391</td>\n",
              "      <td>-24</td>\n",
              "      <td>0.29</td>\n",
              "    </tr>\n",
              "    <tr>\n",
              "      <th>...</th>\n",
              "      <td>...</td>\n",
              "      <td>...</td>\n",
              "      <td>...</td>\n",
              "    </tr>\n",
              "    <tr>\n",
              "      <th>540449</th>\n",
              "      <td>C581490</td>\n",
              "      <td>-11</td>\n",
              "      <td>0.83</td>\n",
              "    </tr>\n",
              "    <tr>\n",
              "      <th>541541</th>\n",
              "      <td>C581499</td>\n",
              "      <td>-1</td>\n",
              "      <td>224.69</td>\n",
              "    </tr>\n",
              "    <tr>\n",
              "      <th>541715</th>\n",
              "      <td>C581568</td>\n",
              "      <td>-5</td>\n",
              "      <td>10.95</td>\n",
              "    </tr>\n",
              "    <tr>\n",
              "      <th>541716</th>\n",
              "      <td>C581569</td>\n",
              "      <td>-1</td>\n",
              "      <td>1.25</td>\n",
              "    </tr>\n",
              "    <tr>\n",
              "      <th>541717</th>\n",
              "      <td>C581569</td>\n",
              "      <td>-5</td>\n",
              "      <td>1.25</td>\n",
              "    </tr>\n",
              "  </tbody>\n",
              "</table>\n",
              "<p>10624 rows × 3 columns</p>\n",
              "</div>"
            ]
          },
          "metadata": {},
          "execution_count": 9
        }
      ],
      "metadata": {
        "id": "ZoHopX7-iqa4"
      }
    },
    {
      "cell_type": "code",
      "execution_count": 10,
      "source": [
        "len(neg_quan)"
      ],
      "outputs": [
        {
          "output_type": "execute_result",
          "data": {
            "text/plain": [
              "10624"
            ]
          },
          "metadata": {},
          "execution_count": 10
        }
      ],
      "metadata": {}
    },
    {
      "cell_type": "code",
      "execution_count": 34,
      "source": [
        "InvQUnit.InvoiceNo.sample(10) # All data"
      ],
      "outputs": [
        {
          "output_type": "execute_result",
          "data": {
            "text/plain": [
              "12661      537391\n",
              "275666     561001\n",
              "466731     576329\n",
              "370083    C569128\n",
              "428214     573415\n",
              "254431     559311\n",
              "416610     572553\n",
              "14560      537604\n",
              "223226     556474\n",
              "216303     555841\n",
              "Name: InvoiceNo, dtype: object"
            ]
          },
          "metadata": {},
          "execution_count": 34
        }
      ],
      "metadata": {}
    },
    {
      "cell_type": "markdown",
      "source": [
        "### ii. What does the letter \"C\" in the InvoiceNo column mean?"
      ],
      "metadata": {
        "id": "7OoPE-QLiqa4"
      }
    },
    {
      "cell_type": "code",
      "execution_count": 11,
      "source": [
        "C_Invoice = InvQUnit[InvQUnit.InvoiceNo.str.contains(\"C\", na=False)] # All data\r\n",
        "C_Invoice"
      ],
      "outputs": [
        {
          "output_type": "execute_result",
          "data": {
            "text/plain": [
              "       InvoiceNo  Quantity  UnitPrice\n",
              "141      C536379        -1      27.50\n",
              "154      C536383        -1       4.65\n",
              "235      C536391       -12       1.65\n",
              "236      C536391       -24       0.29\n",
              "237      C536391       -24       0.29\n",
              "...          ...       ...        ...\n",
              "540449   C581490       -11       0.83\n",
              "541541   C581499        -1     224.69\n",
              "541715   C581568        -5      10.95\n",
              "541716   C581569        -1       1.25\n",
              "541717   C581569        -5       1.25\n",
              "\n",
              "[9288 rows x 3 columns]"
            ],
            "text/html": [
              "<div>\n",
              "<style scoped>\n",
              "    .dataframe tbody tr th:only-of-type {\n",
              "        vertical-align: middle;\n",
              "    }\n",
              "\n",
              "    .dataframe tbody tr th {\n",
              "        vertical-align: top;\n",
              "    }\n",
              "\n",
              "    .dataframe thead th {\n",
              "        text-align: right;\n",
              "    }\n",
              "</style>\n",
              "<table border=\"1\" class=\"dataframe\">\n",
              "  <thead>\n",
              "    <tr style=\"text-align: right;\">\n",
              "      <th></th>\n",
              "      <th>InvoiceNo</th>\n",
              "      <th>Quantity</th>\n",
              "      <th>UnitPrice</th>\n",
              "    </tr>\n",
              "  </thead>\n",
              "  <tbody>\n",
              "    <tr>\n",
              "      <th>141</th>\n",
              "      <td>C536379</td>\n",
              "      <td>-1</td>\n",
              "      <td>27.50</td>\n",
              "    </tr>\n",
              "    <tr>\n",
              "      <th>154</th>\n",
              "      <td>C536383</td>\n",
              "      <td>-1</td>\n",
              "      <td>4.65</td>\n",
              "    </tr>\n",
              "    <tr>\n",
              "      <th>235</th>\n",
              "      <td>C536391</td>\n",
              "      <td>-12</td>\n",
              "      <td>1.65</td>\n",
              "    </tr>\n",
              "    <tr>\n",
              "      <th>236</th>\n",
              "      <td>C536391</td>\n",
              "      <td>-24</td>\n",
              "      <td>0.29</td>\n",
              "    </tr>\n",
              "    <tr>\n",
              "      <th>237</th>\n",
              "      <td>C536391</td>\n",
              "      <td>-24</td>\n",
              "      <td>0.29</td>\n",
              "    </tr>\n",
              "    <tr>\n",
              "      <th>...</th>\n",
              "      <td>...</td>\n",
              "      <td>...</td>\n",
              "      <td>...</td>\n",
              "    </tr>\n",
              "    <tr>\n",
              "      <th>540449</th>\n",
              "      <td>C581490</td>\n",
              "      <td>-11</td>\n",
              "      <td>0.83</td>\n",
              "    </tr>\n",
              "    <tr>\n",
              "      <th>541541</th>\n",
              "      <td>C581499</td>\n",
              "      <td>-1</td>\n",
              "      <td>224.69</td>\n",
              "    </tr>\n",
              "    <tr>\n",
              "      <th>541715</th>\n",
              "      <td>C581568</td>\n",
              "      <td>-5</td>\n",
              "      <td>10.95</td>\n",
              "    </tr>\n",
              "    <tr>\n",
              "      <th>541716</th>\n",
              "      <td>C581569</td>\n",
              "      <td>-1</td>\n",
              "      <td>1.25</td>\n",
              "    </tr>\n",
              "    <tr>\n",
              "      <th>541717</th>\n",
              "      <td>C581569</td>\n",
              "      <td>-5</td>\n",
              "      <td>1.25</td>\n",
              "    </tr>\n",
              "  </tbody>\n",
              "</table>\n",
              "<p>9288 rows × 3 columns</p>\n",
              "</div>"
            ]
          },
          "metadata": {},
          "execution_count": 11
        }
      ],
      "metadata": {
        "id": "PgN0C80Giqa5"
      }
    },
    {
      "cell_type": "code",
      "execution_count": 12,
      "source": [
        "neg_quan[neg_quan.InvoiceNo.str.contains(\"C\", na=False)] # Neg Quantity Data"
      ],
      "outputs": [
        {
          "output_type": "execute_result",
          "data": {
            "text/plain": [
              "       InvoiceNo  Quantity  UnitPrice\n",
              "141      C536379        -1      27.50\n",
              "154      C536383        -1       4.65\n",
              "235      C536391       -12       1.65\n",
              "236      C536391       -24       0.29\n",
              "237      C536391       -24       0.29\n",
              "...          ...       ...        ...\n",
              "540449   C581490       -11       0.83\n",
              "541541   C581499        -1     224.69\n",
              "541715   C581568        -5      10.95\n",
              "541716   C581569        -1       1.25\n",
              "541717   C581569        -5       1.25\n",
              "\n",
              "[9288 rows x 3 columns]"
            ],
            "text/html": [
              "<div>\n",
              "<style scoped>\n",
              "    .dataframe tbody tr th:only-of-type {\n",
              "        vertical-align: middle;\n",
              "    }\n",
              "\n",
              "    .dataframe tbody tr th {\n",
              "        vertical-align: top;\n",
              "    }\n",
              "\n",
              "    .dataframe thead th {\n",
              "        text-align: right;\n",
              "    }\n",
              "</style>\n",
              "<table border=\"1\" class=\"dataframe\">\n",
              "  <thead>\n",
              "    <tr style=\"text-align: right;\">\n",
              "      <th></th>\n",
              "      <th>InvoiceNo</th>\n",
              "      <th>Quantity</th>\n",
              "      <th>UnitPrice</th>\n",
              "    </tr>\n",
              "  </thead>\n",
              "  <tbody>\n",
              "    <tr>\n",
              "      <th>141</th>\n",
              "      <td>C536379</td>\n",
              "      <td>-1</td>\n",
              "      <td>27.50</td>\n",
              "    </tr>\n",
              "    <tr>\n",
              "      <th>154</th>\n",
              "      <td>C536383</td>\n",
              "      <td>-1</td>\n",
              "      <td>4.65</td>\n",
              "    </tr>\n",
              "    <tr>\n",
              "      <th>235</th>\n",
              "      <td>C536391</td>\n",
              "      <td>-12</td>\n",
              "      <td>1.65</td>\n",
              "    </tr>\n",
              "    <tr>\n",
              "      <th>236</th>\n",
              "      <td>C536391</td>\n",
              "      <td>-24</td>\n",
              "      <td>0.29</td>\n",
              "    </tr>\n",
              "    <tr>\n",
              "      <th>237</th>\n",
              "      <td>C536391</td>\n",
              "      <td>-24</td>\n",
              "      <td>0.29</td>\n",
              "    </tr>\n",
              "    <tr>\n",
              "      <th>...</th>\n",
              "      <td>...</td>\n",
              "      <td>...</td>\n",
              "      <td>...</td>\n",
              "    </tr>\n",
              "    <tr>\n",
              "      <th>540449</th>\n",
              "      <td>C581490</td>\n",
              "      <td>-11</td>\n",
              "      <td>0.83</td>\n",
              "    </tr>\n",
              "    <tr>\n",
              "      <th>541541</th>\n",
              "      <td>C581499</td>\n",
              "      <td>-1</td>\n",
              "      <td>224.69</td>\n",
              "    </tr>\n",
              "    <tr>\n",
              "      <th>541715</th>\n",
              "      <td>C581568</td>\n",
              "      <td>-5</td>\n",
              "      <td>10.95</td>\n",
              "    </tr>\n",
              "    <tr>\n",
              "      <th>541716</th>\n",
              "      <td>C581569</td>\n",
              "      <td>-1</td>\n",
              "      <td>1.25</td>\n",
              "    </tr>\n",
              "    <tr>\n",
              "      <th>541717</th>\n",
              "      <td>C581569</td>\n",
              "      <td>-5</td>\n",
              "      <td>1.25</td>\n",
              "    </tr>\n",
              "  </tbody>\n",
              "</table>\n",
              "<p>9288 rows × 3 columns</p>\n",
              "</div>"
            ]
          },
          "metadata": {},
          "execution_count": 12
        }
      ],
      "metadata": {}
    },
    {
      "cell_type": "markdown",
      "source": [
        "If the invoice number starts with the letter \"C\", it means the order was cancelled. Or those who abandon their order."
      ],
      "metadata": {
        "id": "Kt32SZgJQGV8"
      }
    },
    {
      "cell_type": "code",
      "execution_count": 13,
      "source": [
        "len(InvQUnit[InvQUnit.InvoiceNo.str.contains(\"C\", na=False)]) # In All Data"
      ],
      "outputs": [
        {
          "output_type": "execute_result",
          "data": {
            "text/plain": [
              "9288"
            ]
          },
          "metadata": {},
          "execution_count": 13
        }
      ],
      "metadata": {
        "id": "-sdD1F4Xiqa5"
      }
    },
    {
      "cell_type": "code",
      "execution_count": 14,
      "source": [
        "len(neg_quan[neg_quan.InvoiceNo.str.contains(\"C\", na=False)]) # In Negative Quantity"
      ],
      "outputs": [
        {
          "output_type": "execute_result",
          "data": {
            "text/plain": [
              "9288"
            ]
          },
          "metadata": {},
          "execution_count": 14
        }
      ],
      "metadata": {}
    },
    {
      "cell_type": "markdown",
      "source": [
        "When we filter canceled orders by Quantity> 0 or filter non-canceled orders by Quantity <0 nothing returns, this confirms that negative values mean the order was canceled. So lets find out how many orders were cancelled?"
      ],
      "metadata": {
        "id": "YP5RPZq1QGV_"
      }
    },
    {
      "cell_type": "code",
      "execution_count": 15,
      "source": [
        "C_Invoice[C_Invoice.Quantity > 0]"
      ],
      "outputs": [
        {
          "output_type": "execute_result",
          "data": {
            "text/plain": [
              "Empty DataFrame\n",
              "Columns: [InvoiceNo, Quantity, UnitPrice]\n",
              "Index: []"
            ],
            "text/html": [
              "<div>\n",
              "<style scoped>\n",
              "    .dataframe tbody tr th:only-of-type {\n",
              "        vertical-align: middle;\n",
              "    }\n",
              "\n",
              "    .dataframe tbody tr th {\n",
              "        vertical-align: top;\n",
              "    }\n",
              "\n",
              "    .dataframe thead th {\n",
              "        text-align: right;\n",
              "    }\n",
              "</style>\n",
              "<table border=\"1\" class=\"dataframe\">\n",
              "  <thead>\n",
              "    <tr style=\"text-align: right;\">\n",
              "      <th></th>\n",
              "      <th>InvoiceNo</th>\n",
              "      <th>Quantity</th>\n",
              "      <th>UnitPrice</th>\n",
              "    </tr>\n",
              "  </thead>\n",
              "  <tbody>\n",
              "  </tbody>\n",
              "</table>\n",
              "</div>"
            ]
          },
          "metadata": {},
          "execution_count": 15
        }
      ],
      "metadata": {
        "id": "IxrhRFHhiqa5"
      }
    },
    {
      "cell_type": "code",
      "execution_count": 16,
      "source": [
        "neg_quan[~neg_quan.InvoiceNo.str.contains(\"C\", na=False)] # Not C letter include Invoice but they are negative quantity and also UnitPrice are 0.0 "
      ],
      "outputs": [
        {
          "output_type": "execute_result",
          "data": {
            "text/plain": [
              "       InvoiceNo  Quantity  UnitPrice\n",
              "2406      536589       -10        0.0\n",
              "4347      536764       -38        0.0\n",
              "7188      536996       -20        0.0\n",
              "7189      536997       -20        0.0\n",
              "7190      536998        -6        0.0\n",
              "...          ...       ...        ...\n",
              "535333    581210       -26        0.0\n",
              "535335    581212     -1050        0.0\n",
              "535336    581213       -30        0.0\n",
              "536908    581226      -338        0.0\n",
              "538919    581422      -235        0.0\n",
              "\n",
              "[1336 rows x 3 columns]"
            ],
            "text/html": [
              "<div>\n",
              "<style scoped>\n",
              "    .dataframe tbody tr th:only-of-type {\n",
              "        vertical-align: middle;\n",
              "    }\n",
              "\n",
              "    .dataframe tbody tr th {\n",
              "        vertical-align: top;\n",
              "    }\n",
              "\n",
              "    .dataframe thead th {\n",
              "        text-align: right;\n",
              "    }\n",
              "</style>\n",
              "<table border=\"1\" class=\"dataframe\">\n",
              "  <thead>\n",
              "    <tr style=\"text-align: right;\">\n",
              "      <th></th>\n",
              "      <th>InvoiceNo</th>\n",
              "      <th>Quantity</th>\n",
              "      <th>UnitPrice</th>\n",
              "    </tr>\n",
              "  </thead>\n",
              "  <tbody>\n",
              "    <tr>\n",
              "      <th>2406</th>\n",
              "      <td>536589</td>\n",
              "      <td>-10</td>\n",
              "      <td>0.0</td>\n",
              "    </tr>\n",
              "    <tr>\n",
              "      <th>4347</th>\n",
              "      <td>536764</td>\n",
              "      <td>-38</td>\n",
              "      <td>0.0</td>\n",
              "    </tr>\n",
              "    <tr>\n",
              "      <th>7188</th>\n",
              "      <td>536996</td>\n",
              "      <td>-20</td>\n",
              "      <td>0.0</td>\n",
              "    </tr>\n",
              "    <tr>\n",
              "      <th>7189</th>\n",
              "      <td>536997</td>\n",
              "      <td>-20</td>\n",
              "      <td>0.0</td>\n",
              "    </tr>\n",
              "    <tr>\n",
              "      <th>7190</th>\n",
              "      <td>536998</td>\n",
              "      <td>-6</td>\n",
              "      <td>0.0</td>\n",
              "    </tr>\n",
              "    <tr>\n",
              "      <th>...</th>\n",
              "      <td>...</td>\n",
              "      <td>...</td>\n",
              "      <td>...</td>\n",
              "    </tr>\n",
              "    <tr>\n",
              "      <th>535333</th>\n",
              "      <td>581210</td>\n",
              "      <td>-26</td>\n",
              "      <td>0.0</td>\n",
              "    </tr>\n",
              "    <tr>\n",
              "      <th>535335</th>\n",
              "      <td>581212</td>\n",
              "      <td>-1050</td>\n",
              "      <td>0.0</td>\n",
              "    </tr>\n",
              "    <tr>\n",
              "      <th>535336</th>\n",
              "      <td>581213</td>\n",
              "      <td>-30</td>\n",
              "      <td>0.0</td>\n",
              "    </tr>\n",
              "    <tr>\n",
              "      <th>536908</th>\n",
              "      <td>581226</td>\n",
              "      <td>-338</td>\n",
              "      <td>0.0</td>\n",
              "    </tr>\n",
              "    <tr>\n",
              "      <th>538919</th>\n",
              "      <td>581422</td>\n",
              "      <td>-235</td>\n",
              "      <td>0.0</td>\n",
              "    </tr>\n",
              "  </tbody>\n",
              "</table>\n",
              "<p>1336 rows × 3 columns</p>\n",
              "</div>"
            ]
          },
          "metadata": {},
          "execution_count": 16
        }
      ],
      "metadata": {}
    },
    {
      "cell_type": "code",
      "execution_count": 17,
      "source": [
        "neg_quan[~neg_quan.InvoiceNo.str.contains(\"C\", na=False)][\"UnitPrice\"].value_counts() # All UnitPrice are 0.0"
      ],
      "outputs": [
        {
          "output_type": "execute_result",
          "data": {
            "text/plain": [
              "0.0    1336\n",
              "Name: UnitPrice, dtype: int64"
            ]
          },
          "metadata": {},
          "execution_count": 17
        }
      ],
      "metadata": {}
    },
    {
      "cell_type": "markdown",
      "source": [
        "NOT: All InvoiceNo starting with C letter are in negative quantity data and there are no bigger than zero Quantity in InvoiceNo starting with C letter. So C means cancel order."
      ],
      "metadata": {}
    },
    {
      "cell_type": "markdown",
      "source": [
        "#### 9288 or about 36% of the orders were cancelled. Looking deeper into why these orders were cancelled may prevent future cancellations. Now let's find out what a negative UnitPrice means.\n"
      ],
      "metadata": {
        "id": "nrp8logRQGWA"
      }
    },
    {
      "cell_type": "code",
      "execution_count": 18,
      "source": [
        "neg_unit = InvQUnit[InvQUnit.UnitPrice<0] # Negative Unit\r\n",
        "neg_unit"
      ],
      "outputs": [
        {
          "output_type": "execute_result",
          "data": {
            "text/plain": [
              "       InvoiceNo  Quantity  UnitPrice\n",
              "299983   A563186         1  -11062.06\n",
              "299984   A563187         1  -11062.06"
            ],
            "text/html": [
              "<div>\n",
              "<style scoped>\n",
              "    .dataframe tbody tr th:only-of-type {\n",
              "        vertical-align: middle;\n",
              "    }\n",
              "\n",
              "    .dataframe tbody tr th {\n",
              "        vertical-align: top;\n",
              "    }\n",
              "\n",
              "    .dataframe thead th {\n",
              "        text-align: right;\n",
              "    }\n",
              "</style>\n",
              "<table border=\"1\" class=\"dataframe\">\n",
              "  <thead>\n",
              "    <tr style=\"text-align: right;\">\n",
              "      <th></th>\n",
              "      <th>InvoiceNo</th>\n",
              "      <th>Quantity</th>\n",
              "      <th>UnitPrice</th>\n",
              "    </tr>\n",
              "  </thead>\n",
              "  <tbody>\n",
              "    <tr>\n",
              "      <th>299983</th>\n",
              "      <td>A563186</td>\n",
              "      <td>1</td>\n",
              "      <td>-11062.06</td>\n",
              "    </tr>\n",
              "    <tr>\n",
              "      <th>299984</th>\n",
              "      <td>A563187</td>\n",
              "      <td>1</td>\n",
              "      <td>-11062.06</td>\n",
              "    </tr>\n",
              "  </tbody>\n",
              "</table>\n",
              "</div>"
            ]
          },
          "metadata": {},
          "execution_count": 18
        }
      ],
      "metadata": {}
    },
    {
      "cell_type": "code",
      "execution_count": 19,
      "source": [
        "InvQUnit[InvQUnit.InvoiceNo.str.contains(\"A\", na=False)] # A letter include Invoice in all data"
      ],
      "outputs": [
        {
          "output_type": "execute_result",
          "data": {
            "text/plain": [
              "       InvoiceNo  Quantity  UnitPrice\n",
              "299982   A563185         1   11062.06\n",
              "299983   A563186         1  -11062.06\n",
              "299984   A563187         1  -11062.06"
            ],
            "text/html": [
              "<div>\n",
              "<style scoped>\n",
              "    .dataframe tbody tr th:only-of-type {\n",
              "        vertical-align: middle;\n",
              "    }\n",
              "\n",
              "    .dataframe tbody tr th {\n",
              "        vertical-align: top;\n",
              "    }\n",
              "\n",
              "    .dataframe thead th {\n",
              "        text-align: right;\n",
              "    }\n",
              "</style>\n",
              "<table border=\"1\" class=\"dataframe\">\n",
              "  <thead>\n",
              "    <tr style=\"text-align: right;\">\n",
              "      <th></th>\n",
              "      <th>InvoiceNo</th>\n",
              "      <th>Quantity</th>\n",
              "      <th>UnitPrice</th>\n",
              "    </tr>\n",
              "  </thead>\n",
              "  <tbody>\n",
              "    <tr>\n",
              "      <th>299982</th>\n",
              "      <td>A563185</td>\n",
              "      <td>1</td>\n",
              "      <td>11062.06</td>\n",
              "    </tr>\n",
              "    <tr>\n",
              "      <th>299983</th>\n",
              "      <td>A563186</td>\n",
              "      <td>1</td>\n",
              "      <td>-11062.06</td>\n",
              "    </tr>\n",
              "    <tr>\n",
              "      <th>299984</th>\n",
              "      <td>A563187</td>\n",
              "      <td>1</td>\n",
              "      <td>-11062.06</td>\n",
              "    </tr>\n",
              "  </tbody>\n",
              "</table>\n",
              "</div>"
            ]
          },
          "metadata": {},
          "execution_count": 19
        }
      ],
      "metadata": {}
    },
    {
      "cell_type": "markdown",
      "source": [
        "NOT : A means abandon orders. The invoice numbers are consecutive and the prices are the same. It may be due to card limit issue or connection issue. "
      ],
      "metadata": {}
    },
    {
      "cell_type": "markdown",
      "source": [
        "### iii. Handling Missing Values"
      ],
      "metadata": {
        "id": "nXVVls6sQGVQ"
      }
    },
    {
      "cell_type": "code",
      "execution_count": 20,
      "source": [
        "df[df.CustomerID.isnull()]"
      ],
      "outputs": [
        {
          "output_type": "execute_result",
          "data": {
            "text/plain": [
              "       InvoiceNo StockCode                      Description  Quantity  \\\n",
              "622       536414     22139                              NaN        56   \n",
              "1443      536544     21773  DECORATIVE ROSE BATHROOM BOTTLE         1   \n",
              "1444      536544     21774  DECORATIVE CATS BATHROOM BOTTLE         2   \n",
              "1445      536544     21786               POLKADOT RAIN HAT          4   \n",
              "1446      536544     21787            RAIN PONCHO RETROSPOT         2   \n",
              "...          ...       ...                              ...       ...   \n",
              "541536    581498    85099B          JUMBO BAG RED RETROSPOT         5   \n",
              "541537    581498    85099C   JUMBO  BAG BAROQUE BLACK WHITE         4   \n",
              "541538    581498     85150    LADIES & GENTLEMEN METAL SIGN         1   \n",
              "541539    581498     85174                S/4 CACTI CANDLES         1   \n",
              "541540    581498       DOT                   DOTCOM POSTAGE         1   \n",
              "\n",
              "               InvoiceDate  UnitPrice  CustomerID         Country  \n",
              "622    2010-12-01 11:52:00       0.00         NaN  United Kingdom  \n",
              "1443   2010-12-01 14:32:00       2.51         NaN  United Kingdom  \n",
              "1444   2010-12-01 14:32:00       2.51         NaN  United Kingdom  \n",
              "1445   2010-12-01 14:32:00       0.85         NaN  United Kingdom  \n",
              "1446   2010-12-01 14:32:00       1.66         NaN  United Kingdom  \n",
              "...                    ...        ...         ...             ...  \n",
              "541536 2011-12-09 10:26:00       4.13         NaN  United Kingdom  \n",
              "541537 2011-12-09 10:26:00       4.13         NaN  United Kingdom  \n",
              "541538 2011-12-09 10:26:00       4.96         NaN  United Kingdom  \n",
              "541539 2011-12-09 10:26:00      10.79         NaN  United Kingdom  \n",
              "541540 2011-12-09 10:26:00    1714.17         NaN  United Kingdom  \n",
              "\n",
              "[135080 rows x 8 columns]"
            ],
            "text/html": [
              "<div>\n",
              "<style scoped>\n",
              "    .dataframe tbody tr th:only-of-type {\n",
              "        vertical-align: middle;\n",
              "    }\n",
              "\n",
              "    .dataframe tbody tr th {\n",
              "        vertical-align: top;\n",
              "    }\n",
              "\n",
              "    .dataframe thead th {\n",
              "        text-align: right;\n",
              "    }\n",
              "</style>\n",
              "<table border=\"1\" class=\"dataframe\">\n",
              "  <thead>\n",
              "    <tr style=\"text-align: right;\">\n",
              "      <th></th>\n",
              "      <th>InvoiceNo</th>\n",
              "      <th>StockCode</th>\n",
              "      <th>Description</th>\n",
              "      <th>Quantity</th>\n",
              "      <th>InvoiceDate</th>\n",
              "      <th>UnitPrice</th>\n",
              "      <th>CustomerID</th>\n",
              "      <th>Country</th>\n",
              "    </tr>\n",
              "  </thead>\n",
              "  <tbody>\n",
              "    <tr>\n",
              "      <th>622</th>\n",
              "      <td>536414</td>\n",
              "      <td>22139</td>\n",
              "      <td>NaN</td>\n",
              "      <td>56</td>\n",
              "      <td>2010-12-01 11:52:00</td>\n",
              "      <td>0.00</td>\n",
              "      <td>NaN</td>\n",
              "      <td>United Kingdom</td>\n",
              "    </tr>\n",
              "    <tr>\n",
              "      <th>1443</th>\n",
              "      <td>536544</td>\n",
              "      <td>21773</td>\n",
              "      <td>DECORATIVE ROSE BATHROOM BOTTLE</td>\n",
              "      <td>1</td>\n",
              "      <td>2010-12-01 14:32:00</td>\n",
              "      <td>2.51</td>\n",
              "      <td>NaN</td>\n",
              "      <td>United Kingdom</td>\n",
              "    </tr>\n",
              "    <tr>\n",
              "      <th>1444</th>\n",
              "      <td>536544</td>\n",
              "      <td>21774</td>\n",
              "      <td>DECORATIVE CATS BATHROOM BOTTLE</td>\n",
              "      <td>2</td>\n",
              "      <td>2010-12-01 14:32:00</td>\n",
              "      <td>2.51</td>\n",
              "      <td>NaN</td>\n",
              "      <td>United Kingdom</td>\n",
              "    </tr>\n",
              "    <tr>\n",
              "      <th>1445</th>\n",
              "      <td>536544</td>\n",
              "      <td>21786</td>\n",
              "      <td>POLKADOT RAIN HAT</td>\n",
              "      <td>4</td>\n",
              "      <td>2010-12-01 14:32:00</td>\n",
              "      <td>0.85</td>\n",
              "      <td>NaN</td>\n",
              "      <td>United Kingdom</td>\n",
              "    </tr>\n",
              "    <tr>\n",
              "      <th>1446</th>\n",
              "      <td>536544</td>\n",
              "      <td>21787</td>\n",
              "      <td>RAIN PONCHO RETROSPOT</td>\n",
              "      <td>2</td>\n",
              "      <td>2010-12-01 14:32:00</td>\n",
              "      <td>1.66</td>\n",
              "      <td>NaN</td>\n",
              "      <td>United Kingdom</td>\n",
              "    </tr>\n",
              "    <tr>\n",
              "      <th>...</th>\n",
              "      <td>...</td>\n",
              "      <td>...</td>\n",
              "      <td>...</td>\n",
              "      <td>...</td>\n",
              "      <td>...</td>\n",
              "      <td>...</td>\n",
              "      <td>...</td>\n",
              "      <td>...</td>\n",
              "    </tr>\n",
              "    <tr>\n",
              "      <th>541536</th>\n",
              "      <td>581498</td>\n",
              "      <td>85099B</td>\n",
              "      <td>JUMBO BAG RED RETROSPOT</td>\n",
              "      <td>5</td>\n",
              "      <td>2011-12-09 10:26:00</td>\n",
              "      <td>4.13</td>\n",
              "      <td>NaN</td>\n",
              "      <td>United Kingdom</td>\n",
              "    </tr>\n",
              "    <tr>\n",
              "      <th>541537</th>\n",
              "      <td>581498</td>\n",
              "      <td>85099C</td>\n",
              "      <td>JUMBO  BAG BAROQUE BLACK WHITE</td>\n",
              "      <td>4</td>\n",
              "      <td>2011-12-09 10:26:00</td>\n",
              "      <td>4.13</td>\n",
              "      <td>NaN</td>\n",
              "      <td>United Kingdom</td>\n",
              "    </tr>\n",
              "    <tr>\n",
              "      <th>541538</th>\n",
              "      <td>581498</td>\n",
              "      <td>85150</td>\n",
              "      <td>LADIES &amp; GENTLEMEN METAL SIGN</td>\n",
              "      <td>1</td>\n",
              "      <td>2011-12-09 10:26:00</td>\n",
              "      <td>4.96</td>\n",
              "      <td>NaN</td>\n",
              "      <td>United Kingdom</td>\n",
              "    </tr>\n",
              "    <tr>\n",
              "      <th>541539</th>\n",
              "      <td>581498</td>\n",
              "      <td>85174</td>\n",
              "      <td>S/4 CACTI CANDLES</td>\n",
              "      <td>1</td>\n",
              "      <td>2011-12-09 10:26:00</td>\n",
              "      <td>10.79</td>\n",
              "      <td>NaN</td>\n",
              "      <td>United Kingdom</td>\n",
              "    </tr>\n",
              "    <tr>\n",
              "      <th>541540</th>\n",
              "      <td>581498</td>\n",
              "      <td>DOT</td>\n",
              "      <td>DOTCOM POSTAGE</td>\n",
              "      <td>1</td>\n",
              "      <td>2011-12-09 10:26:00</td>\n",
              "      <td>1714.17</td>\n",
              "      <td>NaN</td>\n",
              "      <td>United Kingdom</td>\n",
              "    </tr>\n",
              "  </tbody>\n",
              "</table>\n",
              "<p>135080 rows × 8 columns</p>\n",
              "</div>"
            ]
          },
          "metadata": {},
          "execution_count": 20
        }
      ],
      "metadata": {
        "id": "yExVxnQsiqa6"
      }
    },
    {
      "cell_type": "code",
      "execution_count": 24,
      "source": [
        "# df.dropna()"
      ],
      "outputs": [],
      "metadata": {}
    },
    {
      "cell_type": "markdown",
      "source": [
        "Since the customer ID's are missing, lets assume these orders were not made by the customers already in the data set because those customers already have ID's. \r\n",
        "\r\n",
        "We also don't want to assign these orders to those customers because this would alter the insights we draw from the data. \r\n"
      ],
      "metadata": {
        "id": "EQtZK5paQGVf"
      }
    },
    {
      "cell_type": "code",
      "execution_count": 30,
      "source": [
        "df[df.InvoiceNo == 581498]"
      ],
      "outputs": [
        {
          "output_type": "execute_result",
          "data": {
            "text/plain": [
              "Empty DataFrame\n",
              "Columns: [InvoiceNo, StockCode, Description, Quantity, InvoiceDate, UnitPrice, CustomerID, Country]\n",
              "Index: []"
            ],
            "text/html": [
              "<div>\n",
              "<style scoped>\n",
              "    .dataframe tbody tr th:only-of-type {\n",
              "        vertical-align: middle;\n",
              "    }\n",
              "\n",
              "    .dataframe tbody tr th {\n",
              "        vertical-align: top;\n",
              "    }\n",
              "\n",
              "    .dataframe thead th {\n",
              "        text-align: right;\n",
              "    }\n",
              "</style>\n",
              "<table border=\"1\" class=\"dataframe\">\n",
              "  <thead>\n",
              "    <tr style=\"text-align: right;\">\n",
              "      <th></th>\n",
              "      <th>InvoiceNo</th>\n",
              "      <th>StockCode</th>\n",
              "      <th>Description</th>\n",
              "      <th>Quantity</th>\n",
              "      <th>InvoiceDate</th>\n",
              "      <th>UnitPrice</th>\n",
              "      <th>CustomerID</th>\n",
              "      <th>Country</th>\n",
              "    </tr>\n",
              "  </thead>\n",
              "  <tbody>\n",
              "  </tbody>\n",
              "</table>\n",
              "</div>"
            ]
          },
          "metadata": {},
          "execution_count": 30
        }
      ],
      "metadata": {}
    },
    {
      "cell_type": "code",
      "execution_count": null,
      "source": [
        "df[df.InvoiceNo == 581498][\"CustomerID\"].unique() # Check any CustomerId assignee same InvoiceNo in NaN CustomerID"
      ],
      "outputs": [],
      "metadata": {}
    },
    {
      "cell_type": "code",
      "execution_count": null,
      "source": [
        "df[df.InvoiceNo == 536544]"
      ],
      "outputs": [],
      "metadata": {}
    },
    {
      "cell_type": "code",
      "execution_count": null,
      "source": [
        "df[df.InvoiceNo == 536544][\"CustomerID\"].unique()"
      ],
      "outputs": [],
      "metadata": {}
    },
    {
      "cell_type": "markdown",
      "source": [
        "NOT: There are not any non CustomerID(NaN) and CustomerID assignee same InvoiceNo"
      ],
      "metadata": {}
    },
    {
      "cell_type": "markdown",
      "source": [
        "### iv. Clean the Data from the Noise and Missing Values"
      ],
      "metadata": {
        "id": "llu-bMTAiqa6"
      }
    },
    {
      "cell_type": "code",
      "execution_count": null,
      "source": [
        "df.dropna(subset=[\"CustomerID\"], axis=0, inplace=True)"
      ],
      "outputs": [],
      "metadata": {
        "id": "R-TgtE4Ziqa6"
      }
    },
    {
      "cell_type": "code",
      "execution_count": null,
      "source": [
        "df.isnull().sum()"
      ],
      "outputs": [],
      "metadata": {}
    },
    {
      "cell_type": "markdown",
      "source": [
        "### v. Explore the Orders\n"
      ],
      "metadata": {
        "id": "25MkNjZqQGWC"
      }
    },
    {
      "cell_type": "markdown",
      "source": [
        "1. Find the unique number of InvoiceNo  per customer"
      ],
      "metadata": {
        "id": "8OAkPoUjiqa7"
      }
    },
    {
      "cell_type": "code",
      "execution_count": 31,
      "source": [
        "df.groupby(\"CustomerID\")[\"InvoiceNo\"].nunique()"
      ],
      "outputs": [
        {
          "output_type": "execute_result",
          "data": {
            "text/plain": [
              "CustomerID\n",
              "12346.0     2\n",
              "12347.0     7\n",
              "12348.0     4\n",
              "12349.0     1\n",
              "12350.0     1\n",
              "           ..\n",
              "18280.0     1\n",
              "18281.0     1\n",
              "18282.0     3\n",
              "18283.0    16\n",
              "18287.0     3\n",
              "Name: InvoiceNo, Length: 4372, dtype: int64"
            ]
          },
          "metadata": {},
          "execution_count": 31
        }
      ],
      "metadata": {
        "id": "n1A76M7Jiqa7"
      }
    },
    {
      "cell_type": "markdown",
      "source": [
        "2. What's the average number of unqiue items per order or per customer?"
      ],
      "metadata": {
        "id": "di03OKjzQGWE"
      }
    },
    {
      "cell_type": "code",
      "execution_count": 32,
      "source": [
        "df.groupby(\"CustomerID\")[\"InvoiceNo\"].nunique().mean()"
      ],
      "outputs": [
        {
          "output_type": "execute_result",
          "data": {
            "text/plain": [
              "5.07548032936871"
            ]
          },
          "metadata": {},
          "execution_count": 32
        }
      ],
      "metadata": {
        "id": "V4LxkeIIiqa7"
      }
    },
    {
      "cell_type": "markdown",
      "source": [
        "3. Let's see how this compares to the number of unique products per customer."
      ],
      "metadata": {
        "id": "HUKzA73dQGWH"
      }
    },
    {
      "cell_type": "code",
      "execution_count": 34,
      "source": [
        "df.Description.unique()"
      ],
      "outputs": [
        {
          "output_type": "execute_result",
          "data": {
            "text/plain": [
              "array(['WHITE HANGING HEART T-LIGHT HOLDER', 'WHITE METAL LANTERN',\n",
              "       'CREAM CUPID HEARTS COAT HANGER', ...,\n",
              "       'PINK CRYSTAL SKULL PHONE CHARM',\n",
              "       'CREAM HANGING HEART T-LIGHT HOLDER',\n",
              "       'PAPER CRAFT , LITTLE BIRDIE'], dtype=object)"
            ]
          },
          "metadata": {},
          "execution_count": 34
        }
      ],
      "metadata": {}
    },
    {
      "cell_type": "code",
      "execution_count": 35,
      "source": [
        "df.Description.nunique()"
      ],
      "outputs": [
        {
          "output_type": "execute_result",
          "data": {
            "text/plain": [
              "3896"
            ]
          },
          "metadata": {},
          "execution_count": 35
        }
      ],
      "metadata": {}
    },
    {
      "cell_type": "code",
      "execution_count": 33,
      "source": [
        "df.groupby(\"CustomerID\")[\"Description\"].nunique()"
      ],
      "outputs": [
        {
          "output_type": "execute_result",
          "data": {
            "text/plain": [
              "CustomerID\n",
              "12346.0      1\n",
              "12347.0    103\n",
              "12348.0     22\n",
              "12349.0     73\n",
              "12350.0     17\n",
              "          ... \n",
              "18280.0     10\n",
              "18281.0      7\n",
              "18282.0     12\n",
              "18283.0    272\n",
              "18287.0     59\n",
              "Name: Description, Length: 4372, dtype: int64"
            ]
          },
          "metadata": {},
          "execution_count": 33
        }
      ],
      "metadata": {
        "id": "b8uzjYyKiqa7"
      }
    },
    {
      "cell_type": "markdown",
      "source": [
        "### vi. Explore Customers by Country"
      ],
      "metadata": {
        "id": "I_Ozp-U5QGWK"
      }
    },
    {
      "cell_type": "markdown",
      "source": [
        "1. What's the total revenue per country?"
      ],
      "metadata": {
        "id": "SP6M3isLiqa8"
      }
    },
    {
      "cell_type": "code",
      "execution_count": 43,
      "source": [
        "df.groupby(\"Country\")[\"UnitPrice\"].sum().sort_values(ascending=False)"
      ],
      "outputs": [
        {
          "output_type": "execute_result",
          "data": {
            "text/plain": [
              "Country\n",
              "United Kingdom          1.178277e+06\n",
              "France                  4.287124e+04\n",
              "EIRE                    3.825358e+04\n",
              "Germany                 3.766600e+04\n",
              "Singapore               2.510889e+04\n",
              "Portugal                1.292986e+04\n",
              "Spain                   1.263345e+04\n",
              "Belgium                 7.540130e+03\n",
              "Switzerland             6.568600e+03\n",
              "Norway                  6.529060e+03\n",
              "Netherlands             6.492550e+03\n",
              "Australia               4.054750e+03\n",
              "Cyprus                  3.920070e+03\n",
              "Italy                   3.879390e+03\n",
              "Finland                 3.786850e+03\n",
              "Channel Islands         3.738550e+03\n",
              "Sweden                  1.806830e+03\n",
              "Austria                 1.701520e+03\n",
              "Poland                  1.422270e+03\n",
              "Denmark                 1.266950e+03\n",
              "Israel                  9.125000e+02\n",
              "Canada                  9.105800e+02\n",
              "Japan                   8.148600e+02\n",
              "Unspecified             7.810000e+02\n",
              "Greece                  7.132900e+02\n",
              "Malta                   6.660100e+02\n",
              "USA                     6.449800e+02\n",
              "Iceland                 4.812100e+02\n",
              "European Community      2.940500e+02\n",
              "RSA                     2.481000e+02\n",
              "Lebanon                 2.424400e+02\n",
              "United Arab Emirates    2.298900e+02\n",
              "Brazil                  1.426000e+02\n",
              "Lithuania               9.944000e+01\n",
              "Czech Republic          8.815000e+01\n",
              "Bahrain                 7.895000e+01\n",
              "Saudi Arabia            2.411000e+01\n",
              "Name: UnitPrice, dtype: float64"
            ]
          },
          "metadata": {},
          "execution_count": 43
        }
      ],
      "metadata": {
        "id": "VISxZ3Ixiqa8"
      }
    },
    {
      "cell_type": "markdown",
      "source": [
        "2. Visualize number of customer per country"
      ],
      "metadata": {
        "id": "qk64qtEliqa8"
      }
    },
    {
      "cell_type": "code",
      "execution_count": 51,
      "source": [
        "df.groupby(\"Country\")[\"CustomerID\"].sum().sort_values()"
      ],
      "outputs": [
        {
          "output_type": "execute_result",
          "data": {
            "text/plain": [
              "Country\n",
              "Saudi Arabia            1.256500e+05\n",
              "Bahrain                 2.100270e+05\n",
              "Czech Republic          3.834300e+05\n",
              "Brazil                  4.086080e+05\n",
              "Lithuania               5.366200e+05\n",
              "Lebanon                 5.743800e+05\n",
              "RSA                     7.218680e+05\n",
              "European Community      9.215880e+05\n",
              "United Arab Emirates    1.018952e+06\n",
              "Greece                  2.008584e+06\n",
              "Malta                   2.158496e+06\n",
              "Iceland                 2.247154e+06\n",
              "Canada                  2.615483e+06\n",
              "Singapore               2.918376e+06\n",
              "Israel                  3.164467e+06\n",
              "Unspecified             3.348046e+06\n",
              "USA                     3.672086e+06\n",
              "Poland                  4.341972e+06\n",
              "Japan                   4.567292e+06\n",
              "Denmark                 4.876734e+06\n",
              "Austria                 5.021102e+06\n",
              "Sweden                  6.790083e+06\n",
              "Cyprus                  7.715880e+06\n",
              "Finland                 8.699324e+06\n",
              "Italy                   1.015666e+07\n",
              "Channel Islands         1.128522e+07\n",
              "Norway                  1.350765e+07\n",
              "Australia               1.569300e+07\n",
              "Portugal                1.886480e+07\n",
              "Switzerland             2.377592e+07\n",
              "Belgium                 2.571829e+07\n",
              "Spain                   3.268929e+07\n",
              "Netherlands             3.419054e+07\n",
              "France                  1.076489e+08\n",
              "EIRE                    1.103917e+08\n",
              "Germany                 1.200751e+08\n",
              "United Kingdom          5.626433e+09\n",
              "Name: CustomerID, dtype: float64"
            ]
          },
          "metadata": {},
          "execution_count": 51
        }
      ],
      "metadata": {
        "id": "atuYU8W2iqa8"
      }
    },
    {
      "cell_type": "code",
      "execution_count": 62,
      "source": [
        "# df.groupby(\"Country\")[\"CustomerID\"].sum().sort_values().plot(kind=\"bar\")"
      ],
      "outputs": [],
      "metadata": {}
    },
    {
      "cell_type": "code",
      "execution_count": 58,
      "source": [
        "df.groupby(\"Country\")[\"CustomerID\"].sum().sort_values().index"
      ],
      "outputs": [
        {
          "output_type": "execute_result",
          "data": {
            "text/plain": [
              "Index(['Saudi Arabia', 'Bahrain', 'Czech Republic', 'Brazil', 'Lithuania',\n",
              "       'Lebanon', 'RSA', 'European Community', 'United Arab Emirates',\n",
              "       'Greece', 'Malta', 'Iceland', 'Canada', 'Singapore', 'Israel',\n",
              "       'Unspecified', 'USA', 'Poland', 'Japan', 'Denmark', 'Austria', 'Sweden',\n",
              "       'Cyprus', 'Finland', 'Italy', 'Channel Islands', 'Norway', 'Australia',\n",
              "       'Portugal', 'Switzerland', 'Belgium', 'Spain', 'Netherlands', 'France',\n",
              "       'EIRE', 'Germany', 'United Kingdom'],\n",
              "      dtype='object', name='Country')"
            ]
          },
          "metadata": {},
          "execution_count": 58
        }
      ],
      "metadata": {}
    },
    {
      "cell_type": "code",
      "execution_count": 60,
      "source": [
        "plt.figure(figsize=(12,8))\r\n",
        "sns.barplot(x=df.groupby(\"Country\")[\"CustomerID\"].sum().sort_values().index, y=df.groupby(\"Country\")[\"CustomerID\"].sum().sort_values())\r\n",
        "plt.xticks(rotation=90);"
      ],
      "outputs": [
        {
          "output_type": "display_data",
          "data": {
            "text/plain": [
              "<Figure size 864x576 with 1 Axes>"
            ],
            "image/svg+xml": "<?xml version=\"1.0\" encoding=\"utf-8\" standalone=\"no\"?>\r\n<!DOCTYPE svg PUBLIC \"-//W3C//DTD SVG 1.1//EN\"\r\n  \"http://www.w3.org/Graphics/SVG/1.1/DTD/svg11.dtd\">\r\n<!-- Created with matplotlib (https://matplotlib.org/) -->\r\n<svg height=\"589.237813pt\" version=\"1.1\" viewBox=\"0 0 711.040625 589.237813\" width=\"711.040625pt\" xmlns=\"http://www.w3.org/2000/svg\" xmlns:xlink=\"http://www.w3.org/1999/xlink\">\r\n <metadata>\r\n  <rdf:RDF xmlns:cc=\"http://creativecommons.org/ns#\" xmlns:dc=\"http://purl.org/dc/elements/1.1/\" xmlns:rdf=\"http://www.w3.org/1999/02/22-rdf-syntax-ns#\">\r\n   <cc:Work>\r\n    <dc:type rdf:resource=\"http://purl.org/dc/dcmitype/StillImage\"/>\r\n    <dc:date>2021-08-22T12:57:01.897047</dc:date>\r\n    <dc:format>image/svg+xml</dc:format>\r\n    <dc:creator>\r\n     <cc:Agent>\r\n      <dc:title>Matplotlib v3.3.4, https://matplotlib.org/</dc:title>\r\n     </cc:Agent>\r\n    </dc:creator>\r\n   </cc:Work>\r\n  </rdf:RDF>\r\n </metadata>\r\n <defs>\r\n  <style type=\"text/css\">*{stroke-linecap:butt;stroke-linejoin:round;}</style>\r\n </defs>\r\n <g id=\"figure_1\">\r\n  <g id=\"patch_1\">\r\n   <path d=\"M 0 589.237813 \r\nL 711.040625 589.237813 \r\nL 711.040625 0 \r\nL 0 0 \r\nz\r\n\" style=\"fill:none;\"/>\r\n  </g>\r\n  <g id=\"axes_1\">\r\n   <g id=\"patch_2\">\r\n    <path d=\"M 34.240625 452.678438 \r\nL 703.840625 452.678438 \r\nL 703.840625 17.798437 \r\nL 34.240625 17.798437 \r\nz\r\n\" style=\"fill:#ffffff;\"/>\r\n   </g>\r\n   <g id=\"patch_3\">\r\n    <path clip-path=\"url(#pfb918cef0e)\" d=\"M 36.050355 452.678438 \r\nL 50.528193 452.678438 \r\nL 50.528193 452.669188 \r\nL 36.050355 452.669188 \r\nz\r\n\" style=\"fill:#ea96a3;\"/>\r\n   </g>\r\n   <g id=\"patch_4\">\r\n    <path clip-path=\"url(#pfb918cef0e)\" d=\"M 54.147652 452.678438 \r\nL 68.62549 452.678438 \r\nL 68.62549 452.662977 \r\nL 54.147652 452.662977 \r\nz\r\n\" style=\"fill:#ea9795;\"/>\r\n   </g>\r\n   <g id=\"patch_5\">\r\n    <path clip-path=\"url(#pfb918cef0e)\" d=\"M 72.244949 452.678438 \r\nL 86.722787 452.678438 \r\nL 86.722787 452.650213 \r\nL 72.244949 452.650213 \r\nz\r\n\" style=\"fill:#e7967f;\"/>\r\n   </g>\r\n   <g id=\"patch_6\">\r\n    <path clip-path=\"url(#pfb918cef0e)\" d=\"M 90.342247 452.678438 \r\nL 104.820084 452.678438 \r\nL 104.820084 452.648359 \r\nL 90.342247 452.648359 \r\nz\r\n\" style=\"fill:#e19258;\"/>\r\n   </g>\r\n   <g id=\"patch_7\">\r\n    <path clip-path=\"url(#pfb918cef0e)\" d=\"M 108.439544 452.678438 \r\nL 122.917382 452.678438 \r\nL 122.917382 452.638936 \r\nL 108.439544 452.638936 \r\nz\r\n\" style=\"fill:#d3954d;\"/>\r\n   </g>\r\n   <g id=\"patch_8\">\r\n    <path clip-path=\"url(#pfb918cef0e)\" d=\"M 126.536841 452.678438 \r\nL 141.014679 452.678438 \r\nL 141.014679 452.636156 \r\nL 126.536841 452.636156 \r\nz\r\n\" style=\"fill:#c6994b;\"/>\r\n   </g>\r\n   <g id=\"patch_9\">\r\n    <path clip-path=\"url(#pfb918cef0e)\" d=\"M 144.634139 452.678438 \r\nL 159.111976 452.678438 \r\nL 159.111976 452.6253 \r\nL 144.634139 452.6253 \r\nz\r\n\" style=\"fill:#ba9b49;\"/>\r\n   </g>\r\n   <g id=\"patch_10\">\r\n    <path clip-path=\"url(#pfb918cef0e)\" d=\"M 162.731436 452.678438 \r\nL 177.209274 452.678438 \r\nL 177.209274 452.610598 \r\nL 162.731436 452.610598 \r\nz\r\n\" style=\"fill:#b09d48;\"/>\r\n   </g>\r\n   <g id=\"patch_11\">\r\n    <path clip-path=\"url(#pfb918cef0e)\" d=\"M 180.828733 452.678438 \r\nL 195.306571 452.678438 \r\nL 195.306571 452.603431 \r\nL 180.828733 452.603431 \r\nz\r\n\" style=\"fill:#a59f46;\"/>\r\n   </g>\r\n   <g id=\"patch_12\">\r\n    <path clip-path=\"url(#pfb918cef0e)\" d=\"M 198.92603 452.678438 \r\nL 213.403868 452.678438 \r\nL 213.403868 452.530582 \r\nL 198.92603 452.530582 \r\nz\r\n\" style=\"fill:#9aa146;\"/>\r\n   </g>\r\n   <g id=\"patch_13\">\r\n    <path clip-path=\"url(#pfb918cef0e)\" d=\"M 217.023328 452.678438 \r\nL 231.501166 452.678438 \r\nL 231.501166 452.519547 \r\nL 217.023328 452.519547 \r\nz\r\n\" style=\"fill:#8fa546;\"/>\r\n   </g>\r\n   <g id=\"patch_14\">\r\n    <path clip-path=\"url(#pfb918cef0e)\" d=\"M 235.120625 452.678438 \r\nL 249.598463 452.678438 \r\nL 249.598463 452.513021 \r\nL 235.120625 452.513021 \r\nz\r\n\" style=\"fill:#81a846;\"/>\r\n   </g>\r\n   <g id=\"patch_15\">\r\n    <path clip-path=\"url(#pfb918cef0e)\" d=\"M 253.217922 452.678438 \r\nL 267.69576 452.678438 \r\nL 267.69576 452.485907 \r\nL 253.217922 452.485907 \r\nz\r\n\" style=\"fill:#6bad47;\"/>\r\n   </g>\r\n   <g id=\"patch_16\">\r\n    <path clip-path=\"url(#pfb918cef0e)\" d=\"M 271.31522 452.678438 \r\nL 285.793057 452.678438 \r\nL 285.793057 452.463611 \r\nL 271.31522 452.463611 \r\nz\r\n\" style=\"fill:#48b055;\"/>\r\n   </g>\r\n   <g id=\"patch_17\">\r\n    <path clip-path=\"url(#pfb918cef0e)\" d=\"M 289.412517 452.678438 \r\nL 303.890355 452.678438 \r\nL 303.890355 452.445496 \r\nL 289.412517 452.445496 \r\nz\r\n\" style=\"fill:#49af75;\"/>\r\n   </g>\r\n   <g id=\"patch_18\">\r\n    <path clip-path=\"url(#pfb918cef0e)\" d=\"M 307.509814 452.678438 \r\nL 321.987652 452.678438 \r\nL 321.987652 452.431982 \r\nL 307.509814 452.431982 \r\nz\r\n\" style=\"fill:#49ae85;\"/>\r\n   </g>\r\n   <g id=\"patch_19\">\r\n    <path clip-path=\"url(#pfb918cef0e)\" d=\"M 325.607111 452.678438 \r\nL 340.084949 452.678438 \r\nL 340.084949 452.408129 \r\nL 325.607111 452.408129 \r\nz\r\n\" style=\"fill:#4aad91;\"/>\r\n   </g>\r\n   <g id=\"patch_20\">\r\n    <path clip-path=\"url(#pfb918cef0e)\" d=\"M 343.704409 452.678438 \r\nL 358.182247 452.678438 \r\nL 358.182247 452.358817 \r\nL 343.704409 452.358817 \r\nz\r\n\" style=\"fill:#4aac99;\"/>\r\n   </g>\r\n   <g id=\"patch_21\">\r\n    <path clip-path=\"url(#pfb918cef0e)\" d=\"M 361.801706 452.678438 \r\nL 376.279544 452.678438 \r\nL 376.279544 452.342231 \r\nL 361.801706 452.342231 \r\nz\r\n\" style=\"fill:#4baca1;\"/>\r\n   </g>\r\n   <g id=\"patch_22\">\r\n    <path clip-path=\"url(#pfb918cef0e)\" d=\"M 379.899003 452.678438 \r\nL 394.376841 452.678438 \r\nL 394.376841 452.319453 \r\nL 379.899003 452.319453 \r\nz\r\n\" style=\"fill:#4baba8;\"/>\r\n   </g>\r\n   <g id=\"patch_23\">\r\n    <path clip-path=\"url(#pfb918cef0e)\" d=\"M 397.996301 452.678438 \r\nL 412.474139 452.678438 \r\nL 412.474139 452.308826 \r\nL 397.996301 452.308826 \r\nz\r\n\" style=\"fill:#4cabaf;\"/>\r\n   </g>\r\n   <g id=\"patch_24\">\r\n    <path clip-path=\"url(#pfb918cef0e)\" d=\"M 416.093598 452.678438 \r\nL 430.571436 452.678438 \r\nL 430.571436 452.178608 \r\nL 416.093598 452.178608 \r\nz\r\n\" style=\"fill:#4eabb7;\"/>\r\n   </g>\r\n   <g id=\"patch_25\">\r\n    <path clip-path=\"url(#pfb918cef0e)\" d=\"M 434.190895 452.678438 \r\nL 448.668733 452.678438 \r\nL 448.668733 452.110458 \r\nL 434.190895 452.110458 \r\nz\r\n\" style=\"fill:#50acc1;\"/>\r\n   </g>\r\n   <g id=\"patch_26\">\r\n    <path clip-path=\"url(#pfb918cef0e)\" d=\"M 452.288193 452.678438 \r\nL 466.76603 452.678438 \r\nL 466.76603 452.038065 \r\nL 452.288193 452.038065 \r\nz\r\n\" style=\"fill:#53accc;\"/>\r\n   </g>\r\n   <g id=\"patch_27\">\r\n    <path clip-path=\"url(#pfb918cef0e)\" d=\"M 470.38549 452.678438 \r\nL 484.863328 452.678438 \r\nL 484.863328 451.930788 \r\nL 470.38549 451.930788 \r\nz\r\n\" style=\"fill:#56adda;\"/>\r\n   </g>\r\n   <g id=\"patch_28\">\r\n    <path clip-path=\"url(#pfb918cef0e)\" d=\"M 488.482787 452.678438 \r\nL 502.960625 452.678438 \r\nL 502.960625 451.847713 \r\nL 488.482787 451.847713 \r\nz\r\n\" style=\"fill:#7aaee4;\"/>\r\n   </g>\r\n   <g id=\"patch_29\">\r\n    <path clip-path=\"url(#pfb918cef0e)\" d=\"M 506.580084 452.678438 \r\nL 521.057922 452.678438 \r\nL 521.057922 451.684116 \r\nL 506.580084 451.684116 \r\nz\r\n\" style=\"fill:#96ade8;\"/>\r\n   </g>\r\n   <g id=\"patch_30\">\r\n    <path clip-path=\"url(#pfb918cef0e)\" d=\"M 524.677382 452.678438 \r\nL 539.15522 452.678438 \r\nL 539.15522 451.523248 \r\nL 524.677382 451.523248 \r\nz\r\n\" style=\"fill:#abaceb;\"/>\r\n   </g>\r\n   <g id=\"patch_31\">\r\n    <path clip-path=\"url(#pfb918cef0e)\" d=\"M 542.774679 452.678438 \r\nL 557.252517 452.678438 \r\nL 557.252517 451.289767 \r\nL 542.774679 451.289767 \r\nz\r\n\" style=\"fill:#b9a6eb;\"/>\r\n   </g>\r\n   <g id=\"patch_32\">\r\n    <path clip-path=\"url(#pfb918cef0e)\" d=\"M 560.871976 452.678438 \r\nL 575.349814 452.678438 \r\nL 575.349814 450.928251 \r\nL 560.871976 450.928251 \r\nz\r\n\" style=\"fill:#c6a0ea;\"/>\r\n   </g>\r\n   <g id=\"patch_33\">\r\n    <path clip-path=\"url(#pfb918cef0e)\" d=\"M 578.969274 452.678438 \r\nL 593.447111 452.678438 \r\nL 593.447111 450.78527 \r\nL 578.969274 450.78527 \r\nz\r\n\" style=\"fill:#d398e8;\"/>\r\n   </g>\r\n   <g id=\"patch_34\">\r\n    <path clip-path=\"url(#pfb918cef0e)\" d=\"M 597.066571 452.678438 \r\nL 611.544409 452.678438 \r\nL 611.544409 450.272122 \r\nL 597.066571 450.272122 \r\nz\r\n\" style=\"fill:#e18de7;\"/>\r\n   </g>\r\n   <g id=\"patch_35\">\r\n    <path clip-path=\"url(#pfb918cef0e)\" d=\"M 615.163868 452.678438 \r\nL 629.641706 452.678438 \r\nL 629.641706 450.161613 \r\nL 615.163868 450.161613 \r\nz\r\n\" style=\"fill:#e78bdc;\"/>\r\n   </g>\r\n   <g id=\"patch_36\">\r\n    <path clip-path=\"url(#pfb918cef0e)\" d=\"M 633.261166 452.678438 \r\nL 647.739003 452.678438 \r\nL 647.739003 444.754219 \r\nL 633.261166 444.754219 \r\nz\r\n\" style=\"fill:#e88ed0;\"/>\r\n   </g>\r\n   <g id=\"patch_37\">\r\n    <path clip-path=\"url(#pfb918cef0e)\" d=\"M 651.358463 452.678438 \r\nL 665.836301 452.678438 \r\nL 665.836301 444.55231 \r\nL 651.358463 444.55231 \r\nz\r\n\" style=\"fill:#e890c5;\"/>\r\n   </g>\r\n   <g id=\"patch_38\">\r\n    <path clip-path=\"url(#pfb918cef0e)\" d=\"M 669.45576 452.678438 \r\nL 683.933598 452.678438 \r\nL 683.933598 443.839502 \r\nL 669.45576 443.839502 \r\nz\r\n\" style=\"fill:#e992ba;\"/>\r\n   </g>\r\n   <g id=\"patch_39\">\r\n    <path clip-path=\"url(#pfb918cef0e)\" d=\"M 687.553057 452.678438 \r\nL 702.030895 452.678438 \r\nL 702.030895 38.507009 \r\nL 687.553057 38.507009 \r\nz\r\n\" style=\"fill:#e994b0;\"/>\r\n   </g>\r\n   <g id=\"matplotlib.axis_1\">\r\n    <g id=\"xtick_1\">\r\n     <g id=\"line2d_1\">\r\n      <defs>\r\n       <path d=\"M 0 0 \r\nL 0 3.5 \r\n\" id=\"m77fff4aa49\" style=\"stroke:#000000;stroke-width:0.8;\"/>\r\n      </defs>\r\n      <g>\r\n       <use style=\"stroke:#000000;stroke-width:0.8;\" x=\"43.289274\" xlink:href=\"#m77fff4aa49\" y=\"452.678438\"/>\r\n      </g>\r\n     </g>\r\n     <g id=\"text_1\">\r\n      <!-- Saudi Arabia -->\r\n      <g transform=\"translate(46.048649 523.131562)rotate(-90)scale(0.1 -0.1)\">\r\n       <defs>\r\n        <path d=\"M 53.515625 70.515625 \r\nL 53.515625 60.890625 \r\nQ 47.90625 63.578125 42.921875 64.890625 \r\nQ 37.9375 66.21875 33.296875 66.21875 \r\nQ 25.25 66.21875 20.875 63.09375 \r\nQ 16.5 59.96875 16.5 54.203125 \r\nQ 16.5 49.359375 19.40625 46.890625 \r\nQ 22.3125 44.4375 30.421875 42.921875 \r\nL 36.375 41.703125 \r\nQ 47.40625 39.59375 52.65625 34.296875 \r\nQ 57.90625 29 57.90625 20.125 \r\nQ 57.90625 9.515625 50.796875 4.046875 \r\nQ 43.703125 -1.421875 29.984375 -1.421875 \r\nQ 24.8125 -1.421875 18.96875 -0.25 \r\nQ 13.140625 0.921875 6.890625 3.21875 \r\nL 6.890625 13.375 \r\nQ 12.890625 10.015625 18.65625 8.296875 \r\nQ 24.421875 6.59375 29.984375 6.59375 \r\nQ 38.421875 6.59375 43.015625 9.90625 \r\nQ 47.609375 13.234375 47.609375 19.390625 \r\nQ 47.609375 24.75 44.3125 27.78125 \r\nQ 41.015625 30.8125 33.5 32.328125 \r\nL 27.484375 33.5 \r\nQ 16.453125 35.6875 11.515625 40.375 \r\nQ 6.59375 45.0625 6.59375 53.421875 \r\nQ 6.59375 63.09375 13.40625 68.65625 \r\nQ 20.21875 74.21875 32.171875 74.21875 \r\nQ 37.3125 74.21875 42.625 73.28125 \r\nQ 47.953125 72.359375 53.515625 70.515625 \r\nz\r\n\" id=\"DejaVuSans-83\"/>\r\n        <path d=\"M 34.28125 27.484375 \r\nQ 23.390625 27.484375 19.1875 25 \r\nQ 14.984375 22.515625 14.984375 16.5 \r\nQ 14.984375 11.71875 18.140625 8.90625 \r\nQ 21.296875 6.109375 26.703125 6.109375 \r\nQ 34.1875 6.109375 38.703125 11.40625 \r\nQ 43.21875 16.703125 43.21875 25.484375 \r\nL 43.21875 27.484375 \r\nz\r\nM 52.203125 31.203125 \r\nL 52.203125 0 \r\nL 43.21875 0 \r\nL 43.21875 8.296875 \r\nQ 40.140625 3.328125 35.546875 0.953125 \r\nQ 30.953125 -1.421875 24.3125 -1.421875 \r\nQ 15.921875 -1.421875 10.953125 3.296875 \r\nQ 6 8.015625 6 15.921875 \r\nQ 6 25.140625 12.171875 29.828125 \r\nQ 18.359375 34.515625 30.609375 34.515625 \r\nL 43.21875 34.515625 \r\nL 43.21875 35.40625 \r\nQ 43.21875 41.609375 39.140625 45 \r\nQ 35.0625 48.390625 27.6875 48.390625 \r\nQ 23 48.390625 18.546875 47.265625 \r\nQ 14.109375 46.140625 10.015625 43.890625 \r\nL 10.015625 52.203125 \r\nQ 14.9375 54.109375 19.578125 55.046875 \r\nQ 24.21875 56 28.609375 56 \r\nQ 40.484375 56 46.34375 49.84375 \r\nQ 52.203125 43.703125 52.203125 31.203125 \r\nz\r\n\" id=\"DejaVuSans-97\"/>\r\n        <path d=\"M 8.5 21.578125 \r\nL 8.5 54.6875 \r\nL 17.484375 54.6875 \r\nL 17.484375 21.921875 \r\nQ 17.484375 14.15625 20.5 10.265625 \r\nQ 23.53125 6.390625 29.59375 6.390625 \r\nQ 36.859375 6.390625 41.078125 11.03125 \r\nQ 45.3125 15.671875 45.3125 23.6875 \r\nL 45.3125 54.6875 \r\nL 54.296875 54.6875 \r\nL 54.296875 0 \r\nL 45.3125 0 \r\nL 45.3125 8.40625 \r\nQ 42.046875 3.421875 37.71875 1 \r\nQ 33.40625 -1.421875 27.6875 -1.421875 \r\nQ 18.265625 -1.421875 13.375 4.4375 \r\nQ 8.5 10.296875 8.5 21.578125 \r\nz\r\nM 31.109375 56 \r\nz\r\n\" id=\"DejaVuSans-117\"/>\r\n        <path d=\"M 45.40625 46.390625 \r\nL 45.40625 75.984375 \r\nL 54.390625 75.984375 \r\nL 54.390625 0 \r\nL 45.40625 0 \r\nL 45.40625 8.203125 \r\nQ 42.578125 3.328125 38.25 0.953125 \r\nQ 33.9375 -1.421875 27.875 -1.421875 \r\nQ 17.96875 -1.421875 11.734375 6.484375 \r\nQ 5.515625 14.40625 5.515625 27.296875 \r\nQ 5.515625 40.1875 11.734375 48.09375 \r\nQ 17.96875 56 27.875 56 \r\nQ 33.9375 56 38.25 53.625 \r\nQ 42.578125 51.265625 45.40625 46.390625 \r\nz\r\nM 14.796875 27.296875 \r\nQ 14.796875 17.390625 18.875 11.75 \r\nQ 22.953125 6.109375 30.078125 6.109375 \r\nQ 37.203125 6.109375 41.296875 11.75 \r\nQ 45.40625 17.390625 45.40625 27.296875 \r\nQ 45.40625 37.203125 41.296875 42.84375 \r\nQ 37.203125 48.484375 30.078125 48.484375 \r\nQ 22.953125 48.484375 18.875 42.84375 \r\nQ 14.796875 37.203125 14.796875 27.296875 \r\nz\r\n\" id=\"DejaVuSans-100\"/>\r\n        <path d=\"M 9.421875 54.6875 \r\nL 18.40625 54.6875 \r\nL 18.40625 0 \r\nL 9.421875 0 \r\nz\r\nM 9.421875 75.984375 \r\nL 18.40625 75.984375 \r\nL 18.40625 64.59375 \r\nL 9.421875 64.59375 \r\nz\r\n\" id=\"DejaVuSans-105\"/>\r\n        <path id=\"DejaVuSans-32\"/>\r\n        <path d=\"M 34.1875 63.1875 \r\nL 20.796875 26.90625 \r\nL 47.609375 26.90625 \r\nz\r\nM 28.609375 72.90625 \r\nL 39.796875 72.90625 \r\nL 67.578125 0 \r\nL 57.328125 0 \r\nL 50.6875 18.703125 \r\nL 17.828125 18.703125 \r\nL 11.1875 0 \r\nL 0.78125 0 \r\nz\r\n\" id=\"DejaVuSans-65\"/>\r\n        <path d=\"M 41.109375 46.296875 \r\nQ 39.59375 47.171875 37.8125 47.578125 \r\nQ 36.03125 48 33.890625 48 \r\nQ 26.265625 48 22.1875 43.046875 \r\nQ 18.109375 38.09375 18.109375 28.8125 \r\nL 18.109375 0 \r\nL 9.078125 0 \r\nL 9.078125 54.6875 \r\nL 18.109375 54.6875 \r\nL 18.109375 46.1875 \r\nQ 20.953125 51.171875 25.484375 53.578125 \r\nQ 30.03125 56 36.53125 56 \r\nQ 37.453125 56 38.578125 55.875 \r\nQ 39.703125 55.765625 41.0625 55.515625 \r\nz\r\n\" id=\"DejaVuSans-114\"/>\r\n        <path d=\"M 48.6875 27.296875 \r\nQ 48.6875 37.203125 44.609375 42.84375 \r\nQ 40.53125 48.484375 33.40625 48.484375 \r\nQ 26.265625 48.484375 22.1875 42.84375 \r\nQ 18.109375 37.203125 18.109375 27.296875 \r\nQ 18.109375 17.390625 22.1875 11.75 \r\nQ 26.265625 6.109375 33.40625 6.109375 \r\nQ 40.53125 6.109375 44.609375 11.75 \r\nQ 48.6875 17.390625 48.6875 27.296875 \r\nz\r\nM 18.109375 46.390625 \r\nQ 20.953125 51.265625 25.265625 53.625 \r\nQ 29.59375 56 35.59375 56 \r\nQ 45.5625 56 51.78125 48.09375 \r\nQ 58.015625 40.1875 58.015625 27.296875 \r\nQ 58.015625 14.40625 51.78125 6.484375 \r\nQ 45.5625 -1.421875 35.59375 -1.421875 \r\nQ 29.59375 -1.421875 25.265625 0.953125 \r\nQ 20.953125 3.328125 18.109375 8.203125 \r\nL 18.109375 0 \r\nL 9.078125 0 \r\nL 9.078125 75.984375 \r\nL 18.109375 75.984375 \r\nz\r\n\" id=\"DejaVuSans-98\"/>\r\n       </defs>\r\n       <use xlink:href=\"#DejaVuSans-83\"/>\r\n       <use x=\"63.476562\" xlink:href=\"#DejaVuSans-97\"/>\r\n       <use x=\"124.755859\" xlink:href=\"#DejaVuSans-117\"/>\r\n       <use x=\"188.134766\" xlink:href=\"#DejaVuSans-100\"/>\r\n       <use x=\"251.611328\" xlink:href=\"#DejaVuSans-105\"/>\r\n       <use x=\"279.394531\" xlink:href=\"#DejaVuSans-32\"/>\r\n       <use x=\"311.181641\" xlink:href=\"#DejaVuSans-65\"/>\r\n       <use x=\"379.589844\" xlink:href=\"#DejaVuSans-114\"/>\r\n       <use x=\"420.703125\" xlink:href=\"#DejaVuSans-97\"/>\r\n       <use x=\"481.982422\" xlink:href=\"#DejaVuSans-98\"/>\r\n       <use x=\"545.458984\" xlink:href=\"#DejaVuSans-105\"/>\r\n       <use x=\"573.242188\" xlink:href=\"#DejaVuSans-97\"/>\r\n      </g>\r\n     </g>\r\n    </g>\r\n    <g id=\"xtick_2\">\r\n     <g id=\"line2d_2\">\r\n      <g>\r\n       <use style=\"stroke:#000000;stroke-width:0.8;\" x=\"61.386571\" xlink:href=\"#m77fff4aa49\" y=\"452.678438\"/>\r\n      </g>\r\n     </g>\r\n     <g id=\"text_2\">\r\n      <!-- Bahrain -->\r\n      <g transform=\"translate(64.145946 498.359688)rotate(-90)scale(0.1 -0.1)\">\r\n       <defs>\r\n        <path d=\"M 19.671875 34.8125 \r\nL 19.671875 8.109375 \r\nL 35.5 8.109375 \r\nQ 43.453125 8.109375 47.28125 11.40625 \r\nQ 51.125 14.703125 51.125 21.484375 \r\nQ 51.125 28.328125 47.28125 31.5625 \r\nQ 43.453125 34.8125 35.5 34.8125 \r\nz\r\nM 19.671875 64.796875 \r\nL 19.671875 42.828125 \r\nL 34.28125 42.828125 \r\nQ 41.5 42.828125 45.03125 45.53125 \r\nQ 48.578125 48.25 48.578125 53.8125 \r\nQ 48.578125 59.328125 45.03125 62.0625 \r\nQ 41.5 64.796875 34.28125 64.796875 \r\nz\r\nM 9.8125 72.90625 \r\nL 35.015625 72.90625 \r\nQ 46.296875 72.90625 52.390625 68.21875 \r\nQ 58.5 63.53125 58.5 54.890625 \r\nQ 58.5 48.1875 55.375 44.234375 \r\nQ 52.25 40.28125 46.1875 39.3125 \r\nQ 53.46875 37.75 57.5 32.78125 \r\nQ 61.53125 27.828125 61.53125 20.40625 \r\nQ 61.53125 10.640625 54.890625 5.3125 \r\nQ 48.25 0 35.984375 0 \r\nL 9.8125 0 \r\nz\r\n\" id=\"DejaVuSans-66\"/>\r\n        <path d=\"M 54.890625 33.015625 \r\nL 54.890625 0 \r\nL 45.90625 0 \r\nL 45.90625 32.71875 \r\nQ 45.90625 40.484375 42.875 44.328125 \r\nQ 39.84375 48.1875 33.796875 48.1875 \r\nQ 26.515625 48.1875 22.3125 43.546875 \r\nQ 18.109375 38.921875 18.109375 30.90625 \r\nL 18.109375 0 \r\nL 9.078125 0 \r\nL 9.078125 75.984375 \r\nL 18.109375 75.984375 \r\nL 18.109375 46.1875 \r\nQ 21.34375 51.125 25.703125 53.5625 \r\nQ 30.078125 56 35.796875 56 \r\nQ 45.21875 56 50.046875 50.171875 \r\nQ 54.890625 44.34375 54.890625 33.015625 \r\nz\r\n\" id=\"DejaVuSans-104\"/>\r\n        <path d=\"M 54.890625 33.015625 \r\nL 54.890625 0 \r\nL 45.90625 0 \r\nL 45.90625 32.71875 \r\nQ 45.90625 40.484375 42.875 44.328125 \r\nQ 39.84375 48.1875 33.796875 48.1875 \r\nQ 26.515625 48.1875 22.3125 43.546875 \r\nQ 18.109375 38.921875 18.109375 30.90625 \r\nL 18.109375 0 \r\nL 9.078125 0 \r\nL 9.078125 54.6875 \r\nL 18.109375 54.6875 \r\nL 18.109375 46.1875 \r\nQ 21.34375 51.125 25.703125 53.5625 \r\nQ 30.078125 56 35.796875 56 \r\nQ 45.21875 56 50.046875 50.171875 \r\nQ 54.890625 44.34375 54.890625 33.015625 \r\nz\r\n\" id=\"DejaVuSans-110\"/>\r\n       </defs>\r\n       <use xlink:href=\"#DejaVuSans-66\"/>\r\n       <use x=\"68.603516\" xlink:href=\"#DejaVuSans-97\"/>\r\n       <use x=\"129.882812\" xlink:href=\"#DejaVuSans-104\"/>\r\n       <use x=\"193.261719\" xlink:href=\"#DejaVuSans-114\"/>\r\n       <use x=\"234.375\" xlink:href=\"#DejaVuSans-97\"/>\r\n       <use x=\"295.654297\" xlink:href=\"#DejaVuSans-105\"/>\r\n       <use x=\"323.4375\" xlink:href=\"#DejaVuSans-110\"/>\r\n      </g>\r\n     </g>\r\n    </g>\r\n    <g id=\"xtick_3\">\r\n     <g id=\"line2d_3\">\r\n      <g>\r\n       <use style=\"stroke:#000000;stroke-width:0.8;\" x=\"79.483868\" xlink:href=\"#m77fff4aa49\" y=\"452.678438\"/>\r\n      </g>\r\n     </g>\r\n     <g id=\"text_3\">\r\n      <!-- Czech Republic -->\r\n      <g transform=\"translate(82.243243 535.8175)rotate(-90)scale(0.1 -0.1)\">\r\n       <defs>\r\n        <path d=\"M 64.40625 67.28125 \r\nL 64.40625 56.890625 \r\nQ 59.421875 61.53125 53.78125 63.8125 \r\nQ 48.140625 66.109375 41.796875 66.109375 \r\nQ 29.296875 66.109375 22.65625 58.46875 \r\nQ 16.015625 50.828125 16.015625 36.375 \r\nQ 16.015625 21.96875 22.65625 14.328125 \r\nQ 29.296875 6.6875 41.796875 6.6875 \r\nQ 48.140625 6.6875 53.78125 8.984375 \r\nQ 59.421875 11.28125 64.40625 15.921875 \r\nL 64.40625 5.609375 \r\nQ 59.234375 2.09375 53.4375 0.328125 \r\nQ 47.65625 -1.421875 41.21875 -1.421875 \r\nQ 24.65625 -1.421875 15.125 8.703125 \r\nQ 5.609375 18.84375 5.609375 36.375 \r\nQ 5.609375 53.953125 15.125 64.078125 \r\nQ 24.65625 74.21875 41.21875 74.21875 \r\nQ 47.75 74.21875 53.53125 72.484375 \r\nQ 59.328125 70.75 64.40625 67.28125 \r\nz\r\n\" id=\"DejaVuSans-67\"/>\r\n        <path d=\"M 5.515625 54.6875 \r\nL 48.1875 54.6875 \r\nL 48.1875 46.484375 \r\nL 14.40625 7.171875 \r\nL 48.1875 7.171875 \r\nL 48.1875 0 \r\nL 4.296875 0 \r\nL 4.296875 8.203125 \r\nL 38.09375 47.515625 \r\nL 5.515625 47.515625 \r\nz\r\n\" id=\"DejaVuSans-122\"/>\r\n        <path d=\"M 56.203125 29.59375 \r\nL 56.203125 25.203125 \r\nL 14.890625 25.203125 \r\nQ 15.484375 15.921875 20.484375 11.0625 \r\nQ 25.484375 6.203125 34.421875 6.203125 \r\nQ 39.59375 6.203125 44.453125 7.46875 \r\nQ 49.3125 8.734375 54.109375 11.28125 \r\nL 54.109375 2.78125 \r\nQ 49.265625 0.734375 44.1875 -0.34375 \r\nQ 39.109375 -1.421875 33.890625 -1.421875 \r\nQ 20.796875 -1.421875 13.15625 6.1875 \r\nQ 5.515625 13.8125 5.515625 26.8125 \r\nQ 5.515625 40.234375 12.765625 48.109375 \r\nQ 20.015625 56 32.328125 56 \r\nQ 43.359375 56 49.78125 48.890625 \r\nQ 56.203125 41.796875 56.203125 29.59375 \r\nz\r\nM 47.21875 32.234375 \r\nQ 47.125 39.59375 43.09375 43.984375 \r\nQ 39.0625 48.390625 32.421875 48.390625 \r\nQ 24.90625 48.390625 20.390625 44.140625 \r\nQ 15.875 39.890625 15.1875 32.171875 \r\nz\r\n\" id=\"DejaVuSans-101\"/>\r\n        <path d=\"M 48.78125 52.59375 \r\nL 48.78125 44.1875 \r\nQ 44.96875 46.296875 41.140625 47.34375 \r\nQ 37.3125 48.390625 33.40625 48.390625 \r\nQ 24.65625 48.390625 19.8125 42.84375 \r\nQ 14.984375 37.3125 14.984375 27.296875 \r\nQ 14.984375 17.28125 19.8125 11.734375 \r\nQ 24.65625 6.203125 33.40625 6.203125 \r\nQ 37.3125 6.203125 41.140625 7.25 \r\nQ 44.96875 8.296875 48.78125 10.40625 \r\nL 48.78125 2.09375 \r\nQ 45.015625 0.34375 40.984375 -0.53125 \r\nQ 36.96875 -1.421875 32.421875 -1.421875 \r\nQ 20.0625 -1.421875 12.78125 6.34375 \r\nQ 5.515625 14.109375 5.515625 27.296875 \r\nQ 5.515625 40.671875 12.859375 48.328125 \r\nQ 20.21875 56 33.015625 56 \r\nQ 37.15625 56 41.109375 55.140625 \r\nQ 45.0625 54.296875 48.78125 52.59375 \r\nz\r\n\" id=\"DejaVuSans-99\"/>\r\n        <path d=\"M 44.390625 34.1875 \r\nQ 47.5625 33.109375 50.5625 29.59375 \r\nQ 53.5625 26.078125 56.59375 19.921875 \r\nL 66.609375 0 \r\nL 56 0 \r\nL 46.6875 18.703125 \r\nQ 43.0625 26.03125 39.671875 28.421875 \r\nQ 36.28125 30.8125 30.421875 30.8125 \r\nL 19.671875 30.8125 \r\nL 19.671875 0 \r\nL 9.8125 0 \r\nL 9.8125 72.90625 \r\nL 32.078125 72.90625 \r\nQ 44.578125 72.90625 50.734375 67.671875 \r\nQ 56.890625 62.453125 56.890625 51.90625 \r\nQ 56.890625 45.015625 53.6875 40.46875 \r\nQ 50.484375 35.9375 44.390625 34.1875 \r\nz\r\nM 19.671875 64.796875 \r\nL 19.671875 38.921875 \r\nL 32.078125 38.921875 \r\nQ 39.203125 38.921875 42.84375 42.21875 \r\nQ 46.484375 45.515625 46.484375 51.90625 \r\nQ 46.484375 58.296875 42.84375 61.546875 \r\nQ 39.203125 64.796875 32.078125 64.796875 \r\nz\r\n\" id=\"DejaVuSans-82\"/>\r\n        <path d=\"M 18.109375 8.203125 \r\nL 18.109375 -20.796875 \r\nL 9.078125 -20.796875 \r\nL 9.078125 54.6875 \r\nL 18.109375 54.6875 \r\nL 18.109375 46.390625 \r\nQ 20.953125 51.265625 25.265625 53.625 \r\nQ 29.59375 56 35.59375 56 \r\nQ 45.5625 56 51.78125 48.09375 \r\nQ 58.015625 40.1875 58.015625 27.296875 \r\nQ 58.015625 14.40625 51.78125 6.484375 \r\nQ 45.5625 -1.421875 35.59375 -1.421875 \r\nQ 29.59375 -1.421875 25.265625 0.953125 \r\nQ 20.953125 3.328125 18.109375 8.203125 \r\nz\r\nM 48.6875 27.296875 \r\nQ 48.6875 37.203125 44.609375 42.84375 \r\nQ 40.53125 48.484375 33.40625 48.484375 \r\nQ 26.265625 48.484375 22.1875 42.84375 \r\nQ 18.109375 37.203125 18.109375 27.296875 \r\nQ 18.109375 17.390625 22.1875 11.75 \r\nQ 26.265625 6.109375 33.40625 6.109375 \r\nQ 40.53125 6.109375 44.609375 11.75 \r\nQ 48.6875 17.390625 48.6875 27.296875 \r\nz\r\n\" id=\"DejaVuSans-112\"/>\r\n        <path d=\"M 9.421875 75.984375 \r\nL 18.40625 75.984375 \r\nL 18.40625 0 \r\nL 9.421875 0 \r\nz\r\n\" id=\"DejaVuSans-108\"/>\r\n       </defs>\r\n       <use xlink:href=\"#DejaVuSans-67\"/>\r\n       <use x=\"69.824219\" xlink:href=\"#DejaVuSans-122\"/>\r\n       <use x=\"122.314453\" xlink:href=\"#DejaVuSans-101\"/>\r\n       <use x=\"183.837891\" xlink:href=\"#DejaVuSans-99\"/>\r\n       <use x=\"238.818359\" xlink:href=\"#DejaVuSans-104\"/>\r\n       <use x=\"302.197266\" xlink:href=\"#DejaVuSans-32\"/>\r\n       <use x=\"333.984375\" xlink:href=\"#DejaVuSans-82\"/>\r\n       <use x=\"398.966797\" xlink:href=\"#DejaVuSans-101\"/>\r\n       <use x=\"460.490234\" xlink:href=\"#DejaVuSans-112\"/>\r\n       <use x=\"523.966797\" xlink:href=\"#DejaVuSans-117\"/>\r\n       <use x=\"587.345703\" xlink:href=\"#DejaVuSans-98\"/>\r\n       <use x=\"650.822266\" xlink:href=\"#DejaVuSans-108\"/>\r\n       <use x=\"678.605469\" xlink:href=\"#DejaVuSans-105\"/>\r\n       <use x=\"706.388672\" xlink:href=\"#DejaVuSans-99\"/>\r\n      </g>\r\n     </g>\r\n    </g>\r\n    <g id=\"xtick_4\">\r\n     <g id=\"line2d_4\">\r\n      <g>\r\n       <use style=\"stroke:#000000;stroke-width:0.8;\" x=\"97.581166\" xlink:href=\"#m77fff4aa49\" y=\"452.678438\"/>\r\n      </g>\r\n     </g>\r\n     <g id=\"text_4\">\r\n      <!-- Brazil -->\r\n      <g transform=\"translate(100.340541 487.583125)rotate(-90)scale(0.1 -0.1)\">\r\n       <use xlink:href=\"#DejaVuSans-66\"/>\r\n       <use x=\"68.603516\" xlink:href=\"#DejaVuSans-114\"/>\r\n       <use x=\"109.716797\" xlink:href=\"#DejaVuSans-97\"/>\r\n       <use x=\"170.996094\" xlink:href=\"#DejaVuSans-122\"/>\r\n       <use x=\"223.486328\" xlink:href=\"#DejaVuSans-105\"/>\r\n       <use x=\"251.269531\" xlink:href=\"#DejaVuSans-108\"/>\r\n      </g>\r\n     </g>\r\n    </g>\r\n    <g id=\"xtick_5\">\r\n     <g id=\"line2d_5\">\r\n      <g>\r\n       <use style=\"stroke:#000000;stroke-width:0.8;\" x=\"115.678463\" xlink:href=\"#m77fff4aa49\" y=\"452.678438\"/>\r\n      </g>\r\n     </g>\r\n     <g id=\"text_5\">\r\n      <!-- Lithuania -->\r\n      <g transform=\"translate(118.437838 505.995625)rotate(-90)scale(0.1 -0.1)\">\r\n       <defs>\r\n        <path d=\"M 9.8125 72.90625 \r\nL 19.671875 72.90625 \r\nL 19.671875 8.296875 \r\nL 55.171875 8.296875 \r\nL 55.171875 0 \r\nL 9.8125 0 \r\nz\r\n\" id=\"DejaVuSans-76\"/>\r\n        <path d=\"M 18.3125 70.21875 \r\nL 18.3125 54.6875 \r\nL 36.8125 54.6875 \r\nL 36.8125 47.703125 \r\nL 18.3125 47.703125 \r\nL 18.3125 18.015625 \r\nQ 18.3125 11.328125 20.140625 9.421875 \r\nQ 21.96875 7.515625 27.59375 7.515625 \r\nL 36.8125 7.515625 \r\nL 36.8125 0 \r\nL 27.59375 0 \r\nQ 17.1875 0 13.234375 3.875 \r\nQ 9.28125 7.765625 9.28125 18.015625 \r\nL 9.28125 47.703125 \r\nL 2.6875 47.703125 \r\nL 2.6875 54.6875 \r\nL 9.28125 54.6875 \r\nL 9.28125 70.21875 \r\nz\r\n\" id=\"DejaVuSans-116\"/>\r\n       </defs>\r\n       <use xlink:href=\"#DejaVuSans-76\"/>\r\n       <use x=\"55.712891\" xlink:href=\"#DejaVuSans-105\"/>\r\n       <use x=\"83.496094\" xlink:href=\"#DejaVuSans-116\"/>\r\n       <use x=\"122.705078\" xlink:href=\"#DejaVuSans-104\"/>\r\n       <use x=\"186.083984\" xlink:href=\"#DejaVuSans-117\"/>\r\n       <use x=\"249.462891\" xlink:href=\"#DejaVuSans-97\"/>\r\n       <use x=\"310.742188\" xlink:href=\"#DejaVuSans-110\"/>\r\n       <use x=\"374.121094\" xlink:href=\"#DejaVuSans-105\"/>\r\n       <use x=\"401.904297\" xlink:href=\"#DejaVuSans-97\"/>\r\n      </g>\r\n     </g>\r\n    </g>\r\n    <g id=\"xtick_6\">\r\n     <g id=\"line2d_6\">\r\n      <g>\r\n       <use style=\"stroke:#000000;stroke-width:0.8;\" x=\"133.77576\" xlink:href=\"#m77fff4aa49\" y=\"452.678438\"/>\r\n      </g>\r\n     </g>\r\n     <g id=\"text_6\">\r\n      <!-- Lebanon -->\r\n      <g transform=\"translate(136.535135 502.49875)rotate(-90)scale(0.1 -0.1)\">\r\n       <defs>\r\n        <path d=\"M 30.609375 48.390625 \r\nQ 23.390625 48.390625 19.1875 42.75 \r\nQ 14.984375 37.109375 14.984375 27.296875 \r\nQ 14.984375 17.484375 19.15625 11.84375 \r\nQ 23.34375 6.203125 30.609375 6.203125 \r\nQ 37.796875 6.203125 41.984375 11.859375 \r\nQ 46.1875 17.53125 46.1875 27.296875 \r\nQ 46.1875 37.015625 41.984375 42.703125 \r\nQ 37.796875 48.390625 30.609375 48.390625 \r\nz\r\nM 30.609375 56 \r\nQ 42.328125 56 49.015625 48.375 \r\nQ 55.71875 40.765625 55.71875 27.296875 \r\nQ 55.71875 13.875 49.015625 6.21875 \r\nQ 42.328125 -1.421875 30.609375 -1.421875 \r\nQ 18.84375 -1.421875 12.171875 6.21875 \r\nQ 5.515625 13.875 5.515625 27.296875 \r\nQ 5.515625 40.765625 12.171875 48.375 \r\nQ 18.84375 56 30.609375 56 \r\nz\r\n\" id=\"DejaVuSans-111\"/>\r\n       </defs>\r\n       <use xlink:href=\"#DejaVuSans-76\"/>\r\n       <use x=\"53.962891\" xlink:href=\"#DejaVuSans-101\"/>\r\n       <use x=\"115.486328\" xlink:href=\"#DejaVuSans-98\"/>\r\n       <use x=\"178.962891\" xlink:href=\"#DejaVuSans-97\"/>\r\n       <use x=\"240.242188\" xlink:href=\"#DejaVuSans-110\"/>\r\n       <use x=\"303.621094\" xlink:href=\"#DejaVuSans-111\"/>\r\n       <use x=\"364.802734\" xlink:href=\"#DejaVuSans-110\"/>\r\n      </g>\r\n     </g>\r\n    </g>\r\n    <g id=\"xtick_7\">\r\n     <g id=\"line2d_7\">\r\n      <g>\r\n       <use style=\"stroke:#000000;stroke-width:0.8;\" x=\"151.873057\" xlink:href=\"#m77fff4aa49\" y=\"452.678438\"/>\r\n      </g>\r\n     </g>\r\n     <g id=\"text_7\">\r\n      <!-- RSA -->\r\n      <g transform=\"translate(154.632432 480.003438)rotate(-90)scale(0.1 -0.1)\">\r\n       <use xlink:href=\"#DejaVuSans-82\"/>\r\n       <use x=\"69.482422\" xlink:href=\"#DejaVuSans-83\"/>\r\n       <use x=\"134.833984\" xlink:href=\"#DejaVuSans-65\"/>\r\n      </g>\r\n     </g>\r\n    </g>\r\n    <g id=\"xtick_8\">\r\n     <g id=\"line2d_8\">\r\n      <g>\r\n       <use style=\"stroke:#000000;stroke-width:0.8;\" x=\"169.970355\" xlink:href=\"#m77fff4aa49\" y=\"452.678438\"/>\r\n      </g>\r\n     </g>\r\n     <g id=\"text_8\">\r\n      <!-- European Community -->\r\n      <g transform=\"translate(172.72973 568.359688)rotate(-90)scale(0.1 -0.1)\">\r\n       <defs>\r\n        <path d=\"M 9.8125 72.90625 \r\nL 55.90625 72.90625 \r\nL 55.90625 64.59375 \r\nL 19.671875 64.59375 \r\nL 19.671875 43.015625 \r\nL 54.390625 43.015625 \r\nL 54.390625 34.71875 \r\nL 19.671875 34.71875 \r\nL 19.671875 8.296875 \r\nL 56.78125 8.296875 \r\nL 56.78125 0 \r\nL 9.8125 0 \r\nz\r\n\" id=\"DejaVuSans-69\"/>\r\n        <path d=\"M 52 44.1875 \r\nQ 55.375 50.25 60.0625 53.125 \r\nQ 64.75 56 71.09375 56 \r\nQ 79.640625 56 84.28125 50.015625 \r\nQ 88.921875 44.046875 88.921875 33.015625 \r\nL 88.921875 0 \r\nL 79.890625 0 \r\nL 79.890625 32.71875 \r\nQ 79.890625 40.578125 77.09375 44.375 \r\nQ 74.3125 48.1875 68.609375 48.1875 \r\nQ 61.625 48.1875 57.5625 43.546875 \r\nQ 53.515625 38.921875 53.515625 30.90625 \r\nL 53.515625 0 \r\nL 44.484375 0 \r\nL 44.484375 32.71875 \r\nQ 44.484375 40.625 41.703125 44.40625 \r\nQ 38.921875 48.1875 33.109375 48.1875 \r\nQ 26.21875 48.1875 22.15625 43.53125 \r\nQ 18.109375 38.875 18.109375 30.90625 \r\nL 18.109375 0 \r\nL 9.078125 0 \r\nL 9.078125 54.6875 \r\nL 18.109375 54.6875 \r\nL 18.109375 46.1875 \r\nQ 21.1875 51.21875 25.484375 53.609375 \r\nQ 29.78125 56 35.6875 56 \r\nQ 41.65625 56 45.828125 52.96875 \r\nQ 50 49.953125 52 44.1875 \r\nz\r\n\" id=\"DejaVuSans-109\"/>\r\n        <path d=\"M 32.171875 -5.078125 \r\nQ 28.375 -14.84375 24.75 -17.8125 \r\nQ 21.140625 -20.796875 15.09375 -20.796875 \r\nL 7.90625 -20.796875 \r\nL 7.90625 -13.28125 \r\nL 13.1875 -13.28125 \r\nQ 16.890625 -13.28125 18.9375 -11.515625 \r\nQ 21 -9.765625 23.484375 -3.21875 \r\nL 25.09375 0.875 \r\nL 2.984375 54.6875 \r\nL 12.5 54.6875 \r\nL 29.59375 11.921875 \r\nL 46.6875 54.6875 \r\nL 56.203125 54.6875 \r\nz\r\n\" id=\"DejaVuSans-121\"/>\r\n       </defs>\r\n       <use xlink:href=\"#DejaVuSans-69\"/>\r\n       <use x=\"63.183594\" xlink:href=\"#DejaVuSans-117\"/>\r\n       <use x=\"126.5625\" xlink:href=\"#DejaVuSans-114\"/>\r\n       <use x=\"165.425781\" xlink:href=\"#DejaVuSans-111\"/>\r\n       <use x=\"226.607422\" xlink:href=\"#DejaVuSans-112\"/>\r\n       <use x=\"290.083984\" xlink:href=\"#DejaVuSans-101\"/>\r\n       <use x=\"351.607422\" xlink:href=\"#DejaVuSans-97\"/>\r\n       <use x=\"412.886719\" xlink:href=\"#DejaVuSans-110\"/>\r\n       <use x=\"476.265625\" xlink:href=\"#DejaVuSans-32\"/>\r\n       <use x=\"508.052734\" xlink:href=\"#DejaVuSans-67\"/>\r\n       <use x=\"577.876953\" xlink:href=\"#DejaVuSans-111\"/>\r\n       <use x=\"639.058594\" xlink:href=\"#DejaVuSans-109\"/>\r\n       <use x=\"736.470703\" xlink:href=\"#DejaVuSans-109\"/>\r\n       <use x=\"833.882812\" xlink:href=\"#DejaVuSans-117\"/>\r\n       <use x=\"897.261719\" xlink:href=\"#DejaVuSans-110\"/>\r\n       <use x=\"960.640625\" xlink:href=\"#DejaVuSans-105\"/>\r\n       <use x=\"988.423828\" xlink:href=\"#DejaVuSans-116\"/>\r\n       <use x=\"1027.632812\" xlink:href=\"#DejaVuSans-121\"/>\r\n      </g>\r\n     </g>\r\n    </g>\r\n    <g id=\"xtick_9\">\r\n     <g id=\"line2d_9\">\r\n      <g>\r\n       <use style=\"stroke:#000000;stroke-width:0.8;\" x=\"188.067652\" xlink:href=\"#m77fff4aa49\" y=\"452.678438\"/>\r\n      </g>\r\n     </g>\r\n     <g id=\"text_9\">\r\n      <!-- United Arab Emirates -->\r\n      <g transform=\"translate(190.827027 566.678437)rotate(-90)scale(0.1 -0.1)\">\r\n       <defs>\r\n        <path d=\"M 8.6875 72.90625 \r\nL 18.609375 72.90625 \r\nL 18.609375 28.609375 \r\nQ 18.609375 16.890625 22.84375 11.734375 \r\nQ 27.09375 6.59375 36.625 6.59375 \r\nQ 46.09375 6.59375 50.34375 11.734375 \r\nQ 54.59375 16.890625 54.59375 28.609375 \r\nL 54.59375 72.90625 \r\nL 64.5 72.90625 \r\nL 64.5 27.390625 \r\nQ 64.5 13.140625 57.4375 5.859375 \r\nQ 50.390625 -1.421875 36.625 -1.421875 \r\nQ 22.796875 -1.421875 15.734375 5.859375 \r\nQ 8.6875 13.140625 8.6875 27.390625 \r\nz\r\n\" id=\"DejaVuSans-85\"/>\r\n        <path d=\"M 44.28125 53.078125 \r\nL 44.28125 44.578125 \r\nQ 40.484375 46.53125 36.375 47.5 \r\nQ 32.28125 48.484375 27.875 48.484375 \r\nQ 21.1875 48.484375 17.84375 46.4375 \r\nQ 14.5 44.390625 14.5 40.28125 \r\nQ 14.5 37.15625 16.890625 35.375 \r\nQ 19.28125 33.59375 26.515625 31.984375 \r\nL 29.59375 31.296875 \r\nQ 39.15625 29.25 43.1875 25.515625 \r\nQ 47.21875 21.78125 47.21875 15.09375 \r\nQ 47.21875 7.46875 41.1875 3.015625 \r\nQ 35.15625 -1.421875 24.609375 -1.421875 \r\nQ 20.21875 -1.421875 15.453125 -0.5625 \r\nQ 10.6875 0.296875 5.421875 2 \r\nL 5.421875 11.28125 \r\nQ 10.40625 8.6875 15.234375 7.390625 \r\nQ 20.0625 6.109375 24.8125 6.109375 \r\nQ 31.15625 6.109375 34.5625 8.28125 \r\nQ 37.984375 10.453125 37.984375 14.40625 \r\nQ 37.984375 18.0625 35.515625 20.015625 \r\nQ 33.0625 21.96875 24.703125 23.78125 \r\nL 21.578125 24.515625 \r\nQ 13.234375 26.265625 9.515625 29.90625 \r\nQ 5.8125 33.546875 5.8125 39.890625 \r\nQ 5.8125 47.609375 11.28125 51.796875 \r\nQ 16.75 56 26.8125 56 \r\nQ 31.78125 56 36.171875 55.265625 \r\nQ 40.578125 54.546875 44.28125 53.078125 \r\nz\r\n\" id=\"DejaVuSans-115\"/>\r\n       </defs>\r\n       <use xlink:href=\"#DejaVuSans-85\"/>\r\n       <use x=\"73.193359\" xlink:href=\"#DejaVuSans-110\"/>\r\n       <use x=\"136.572266\" xlink:href=\"#DejaVuSans-105\"/>\r\n       <use x=\"164.355469\" xlink:href=\"#DejaVuSans-116\"/>\r\n       <use x=\"203.564453\" xlink:href=\"#DejaVuSans-101\"/>\r\n       <use x=\"265.087891\" xlink:href=\"#DejaVuSans-100\"/>\r\n       <use x=\"328.564453\" xlink:href=\"#DejaVuSans-32\"/>\r\n       <use x=\"360.351562\" xlink:href=\"#DejaVuSans-65\"/>\r\n       <use x=\"428.759766\" xlink:href=\"#DejaVuSans-114\"/>\r\n       <use x=\"469.873047\" xlink:href=\"#DejaVuSans-97\"/>\r\n       <use x=\"531.152344\" xlink:href=\"#DejaVuSans-98\"/>\r\n       <use x=\"594.628906\" xlink:href=\"#DejaVuSans-32\"/>\r\n       <use x=\"626.416016\" xlink:href=\"#DejaVuSans-69\"/>\r\n       <use x=\"689.599609\" xlink:href=\"#DejaVuSans-109\"/>\r\n       <use x=\"787.011719\" xlink:href=\"#DejaVuSans-105\"/>\r\n       <use x=\"814.794922\" xlink:href=\"#DejaVuSans-114\"/>\r\n       <use x=\"855.908203\" xlink:href=\"#DejaVuSans-97\"/>\r\n       <use x=\"917.1875\" xlink:href=\"#DejaVuSans-116\"/>\r\n       <use x=\"956.396484\" xlink:href=\"#DejaVuSans-101\"/>\r\n       <use x=\"1017.919922\" xlink:href=\"#DejaVuSans-115\"/>\r\n      </g>\r\n     </g>\r\n    </g>\r\n    <g id=\"xtick_10\">\r\n     <g id=\"line2d_10\">\r\n      <g>\r\n       <use style=\"stroke:#000000;stroke-width:0.8;\" x=\"206.164949\" xlink:href=\"#m77fff4aa49\" y=\"452.678438\"/>\r\n      </g>\r\n     </g>\r\n     <g id=\"text_10\">\r\n      <!-- Greece -->\r\n      <g transform=\"translate(208.924324 495.270625)rotate(-90)scale(0.1 -0.1)\">\r\n       <defs>\r\n        <path d=\"M 59.515625 10.40625 \r\nL 59.515625 29.984375 \r\nL 43.40625 29.984375 \r\nL 43.40625 38.09375 \r\nL 69.28125 38.09375 \r\nL 69.28125 6.78125 \r\nQ 63.578125 2.734375 56.6875 0.65625 \r\nQ 49.8125 -1.421875 42 -1.421875 \r\nQ 24.90625 -1.421875 15.25 8.5625 \r\nQ 5.609375 18.5625 5.609375 36.375 \r\nQ 5.609375 54.25 15.25 64.234375 \r\nQ 24.90625 74.21875 42 74.21875 \r\nQ 49.125 74.21875 55.546875 72.453125 \r\nQ 61.96875 70.703125 67.390625 67.28125 \r\nL 67.390625 56.78125 \r\nQ 61.921875 61.421875 55.765625 63.765625 \r\nQ 49.609375 66.109375 42.828125 66.109375 \r\nQ 29.4375 66.109375 22.71875 58.640625 \r\nQ 16.015625 51.171875 16.015625 36.375 \r\nQ 16.015625 21.625 22.71875 14.15625 \r\nQ 29.4375 6.6875 42.828125 6.6875 \r\nQ 48.046875 6.6875 52.140625 7.59375 \r\nQ 56.25 8.5 59.515625 10.40625 \r\nz\r\n\" id=\"DejaVuSans-71\"/>\r\n       </defs>\r\n       <use xlink:href=\"#DejaVuSans-71\"/>\r\n       <use x=\"77.490234\" xlink:href=\"#DejaVuSans-114\"/>\r\n       <use x=\"116.353516\" xlink:href=\"#DejaVuSans-101\"/>\r\n       <use x=\"177.876953\" xlink:href=\"#DejaVuSans-101\"/>\r\n       <use x=\"239.400391\" xlink:href=\"#DejaVuSans-99\"/>\r\n       <use x=\"294.380859\" xlink:href=\"#DejaVuSans-101\"/>\r\n      </g>\r\n     </g>\r\n    </g>\r\n    <g id=\"xtick_11\">\r\n     <g id=\"line2d_11\">\r\n      <g>\r\n       <use style=\"stroke:#000000;stroke-width:0.8;\" x=\"224.262247\" xlink:href=\"#m77fff4aa49\" y=\"452.678438\"/>\r\n      </g>\r\n     </g>\r\n     <g id=\"text_11\">\r\n      <!-- Malta -->\r\n      <g transform=\"translate(227.021622 487.26125)rotate(-90)scale(0.1 -0.1)\">\r\n       <defs>\r\n        <path d=\"M 9.8125 72.90625 \r\nL 24.515625 72.90625 \r\nL 43.109375 23.296875 \r\nL 61.8125 72.90625 \r\nL 76.515625 72.90625 \r\nL 76.515625 0 \r\nL 66.890625 0 \r\nL 66.890625 64.015625 \r\nL 48.09375 14.015625 \r\nL 38.1875 14.015625 \r\nL 19.390625 64.015625 \r\nL 19.390625 0 \r\nL 9.8125 0 \r\nz\r\n\" id=\"DejaVuSans-77\"/>\r\n       </defs>\r\n       <use xlink:href=\"#DejaVuSans-77\"/>\r\n       <use x=\"86.279297\" xlink:href=\"#DejaVuSans-97\"/>\r\n       <use x=\"147.558594\" xlink:href=\"#DejaVuSans-108\"/>\r\n       <use x=\"175.341797\" xlink:href=\"#DejaVuSans-116\"/>\r\n       <use x=\"214.550781\" xlink:href=\"#DejaVuSans-97\"/>\r\n      </g>\r\n     </g>\r\n    </g>\r\n    <g id=\"xtick_12\">\r\n     <g id=\"line2d_12\">\r\n      <g>\r\n       <use style=\"stroke:#000000;stroke-width:0.8;\" x=\"242.359544\" xlink:href=\"#m77fff4aa49\" y=\"452.678438\"/>\r\n      </g>\r\n     </g>\r\n     <g id=\"text_12\">\r\n      <!-- Iceland -->\r\n      <g transform=\"translate(245.118919 495.872187)rotate(-90)scale(0.1 -0.1)\">\r\n       <defs>\r\n        <path d=\"M 9.8125 72.90625 \r\nL 19.671875 72.90625 \r\nL 19.671875 0 \r\nL 9.8125 0 \r\nz\r\n\" id=\"DejaVuSans-73\"/>\r\n       </defs>\r\n       <use xlink:href=\"#DejaVuSans-73\"/>\r\n       <use x=\"29.492188\" xlink:href=\"#DejaVuSans-99\"/>\r\n       <use x=\"84.472656\" xlink:href=\"#DejaVuSans-101\"/>\r\n       <use x=\"145.996094\" xlink:href=\"#DejaVuSans-108\"/>\r\n       <use x=\"173.779297\" xlink:href=\"#DejaVuSans-97\"/>\r\n       <use x=\"235.058594\" xlink:href=\"#DejaVuSans-110\"/>\r\n       <use x=\"298.4375\" xlink:href=\"#DejaVuSans-100\"/>\r\n      </g>\r\n     </g>\r\n    </g>\r\n    <g id=\"xtick_13\">\r\n     <g id=\"line2d_13\">\r\n      <g>\r\n       <use style=\"stroke:#000000;stroke-width:0.8;\" x=\"260.456841\" xlink:href=\"#m77fff4aa49\" y=\"452.678438\"/>\r\n      </g>\r\n     </g>\r\n     <g id=\"text_13\">\r\n      <!-- Canada -->\r\n      <g transform=\"translate(263.216216 497.731562)rotate(-90)scale(0.1 -0.1)\">\r\n       <use xlink:href=\"#DejaVuSans-67\"/>\r\n       <use x=\"69.824219\" xlink:href=\"#DejaVuSans-97\"/>\r\n       <use x=\"131.103516\" xlink:href=\"#DejaVuSans-110\"/>\r\n       <use x=\"194.482422\" xlink:href=\"#DejaVuSans-97\"/>\r\n       <use x=\"255.761719\" xlink:href=\"#DejaVuSans-100\"/>\r\n       <use x=\"319.238281\" xlink:href=\"#DejaVuSans-97\"/>\r\n      </g>\r\n     </g>\r\n    </g>\r\n    <g id=\"xtick_14\">\r\n     <g id=\"line2d_14\">\r\n      <g>\r\n       <use style=\"stroke:#000000;stroke-width:0.8;\" x=\"278.554139\" xlink:href=\"#m77fff4aa49\" y=\"452.678438\"/>\r\n      </g>\r\n     </g>\r\n     <g id=\"text_14\">\r\n      <!-- Singapore -->\r\n      <g transform=\"translate(281.313514 510.125313)rotate(-90)scale(0.1 -0.1)\">\r\n       <defs>\r\n        <path d=\"M 45.40625 27.984375 \r\nQ 45.40625 37.75 41.375 43.109375 \r\nQ 37.359375 48.484375 30.078125 48.484375 \r\nQ 22.859375 48.484375 18.828125 43.109375 \r\nQ 14.796875 37.75 14.796875 27.984375 \r\nQ 14.796875 18.265625 18.828125 12.890625 \r\nQ 22.859375 7.515625 30.078125 7.515625 \r\nQ 37.359375 7.515625 41.375 12.890625 \r\nQ 45.40625 18.265625 45.40625 27.984375 \r\nz\r\nM 54.390625 6.78125 \r\nQ 54.390625 -7.171875 48.1875 -13.984375 \r\nQ 42 -20.796875 29.203125 -20.796875 \r\nQ 24.46875 -20.796875 20.265625 -20.09375 \r\nQ 16.0625 -19.390625 12.109375 -17.921875 \r\nL 12.109375 -9.1875 \r\nQ 16.0625 -11.328125 19.921875 -12.34375 \r\nQ 23.78125 -13.375 27.78125 -13.375 \r\nQ 36.625 -13.375 41.015625 -8.765625 \r\nQ 45.40625 -4.15625 45.40625 5.171875 \r\nL 45.40625 9.625 \r\nQ 42.625 4.78125 38.28125 2.390625 \r\nQ 33.9375 0 27.875 0 \r\nQ 17.828125 0 11.671875 7.65625 \r\nQ 5.515625 15.328125 5.515625 27.984375 \r\nQ 5.515625 40.671875 11.671875 48.328125 \r\nQ 17.828125 56 27.875 56 \r\nQ 33.9375 56 38.28125 53.609375 \r\nQ 42.625 51.21875 45.40625 46.390625 \r\nL 45.40625 54.6875 \r\nL 54.390625 54.6875 \r\nz\r\n\" id=\"DejaVuSans-103\"/>\r\n       </defs>\r\n       <use xlink:href=\"#DejaVuSans-83\"/>\r\n       <use x=\"63.476562\" xlink:href=\"#DejaVuSans-105\"/>\r\n       <use x=\"91.259766\" xlink:href=\"#DejaVuSans-110\"/>\r\n       <use x=\"154.638672\" xlink:href=\"#DejaVuSans-103\"/>\r\n       <use x=\"218.115234\" xlink:href=\"#DejaVuSans-97\"/>\r\n       <use x=\"279.394531\" xlink:href=\"#DejaVuSans-112\"/>\r\n       <use x=\"342.871094\" xlink:href=\"#DejaVuSans-111\"/>\r\n       <use x=\"404.052734\" xlink:href=\"#DejaVuSans-114\"/>\r\n       <use x=\"442.916016\" xlink:href=\"#DejaVuSans-101\"/>\r\n      </g>\r\n     </g>\r\n    </g>\r\n    <g id=\"xtick_15\">\r\n     <g id=\"line2d_15\">\r\n      <g>\r\n       <use style=\"stroke:#000000;stroke-width:0.8;\" x=\"296.651436\" xlink:href=\"#m77fff4aa49\" y=\"452.678438\"/>\r\n      </g>\r\n     </g>\r\n     <g id=\"text_15\">\r\n      <!-- Israel -->\r\n      <g transform=\"translate(299.410811 487.008125)rotate(-90)scale(0.1 -0.1)\">\r\n       <use xlink:href=\"#DejaVuSans-73\"/>\r\n       <use x=\"29.492188\" xlink:href=\"#DejaVuSans-115\"/>\r\n       <use x=\"81.591797\" xlink:href=\"#DejaVuSans-114\"/>\r\n       <use x=\"122.705078\" xlink:href=\"#DejaVuSans-97\"/>\r\n       <use x=\"183.984375\" xlink:href=\"#DejaVuSans-101\"/>\r\n       <use x=\"245.507812\" xlink:href=\"#DejaVuSans-108\"/>\r\n      </g>\r\n     </g>\r\n    </g>\r\n    <g id=\"xtick_16\">\r\n     <g id=\"line2d_16\">\r\n      <g>\r\n       <use style=\"stroke:#000000;stroke-width:0.8;\" x=\"314.748733\" xlink:href=\"#m77fff4aa49\" y=\"452.678438\"/>\r\n      </g>\r\n     </g>\r\n     <g id=\"text_16\">\r\n      <!-- Unspecified -->\r\n      <g transform=\"translate(317.508108 518.122187)rotate(-90)scale(0.1 -0.1)\">\r\n       <defs>\r\n        <path d=\"M 37.109375 75.984375 \r\nL 37.109375 68.5 \r\nL 28.515625 68.5 \r\nQ 23.6875 68.5 21.796875 66.546875 \r\nQ 19.921875 64.59375 19.921875 59.515625 \r\nL 19.921875 54.6875 \r\nL 34.71875 54.6875 \r\nL 34.71875 47.703125 \r\nL 19.921875 47.703125 \r\nL 19.921875 0 \r\nL 10.890625 0 \r\nL 10.890625 47.703125 \r\nL 2.296875 47.703125 \r\nL 2.296875 54.6875 \r\nL 10.890625 54.6875 \r\nL 10.890625 58.5 \r\nQ 10.890625 67.625 15.140625 71.796875 \r\nQ 19.390625 75.984375 28.609375 75.984375 \r\nz\r\n\" id=\"DejaVuSans-102\"/>\r\n       </defs>\r\n       <use xlink:href=\"#DejaVuSans-85\"/>\r\n       <use x=\"73.193359\" xlink:href=\"#DejaVuSans-110\"/>\r\n       <use x=\"136.572266\" xlink:href=\"#DejaVuSans-115\"/>\r\n       <use x=\"188.671875\" xlink:href=\"#DejaVuSans-112\"/>\r\n       <use x=\"252.148438\" xlink:href=\"#DejaVuSans-101\"/>\r\n       <use x=\"313.671875\" xlink:href=\"#DejaVuSans-99\"/>\r\n       <use x=\"368.652344\" xlink:href=\"#DejaVuSans-105\"/>\r\n       <use x=\"396.435547\" xlink:href=\"#DejaVuSans-102\"/>\r\n       <use x=\"431.640625\" xlink:href=\"#DejaVuSans-105\"/>\r\n       <use x=\"459.423828\" xlink:href=\"#DejaVuSans-101\"/>\r\n       <use x=\"520.947266\" xlink:href=\"#DejaVuSans-100\"/>\r\n      </g>\r\n     </g>\r\n    </g>\r\n    <g id=\"xtick_17\">\r\n     <g id=\"line2d_17\">\r\n      <g>\r\n       <use style=\"stroke:#000000;stroke-width:0.8;\" x=\"332.84603\" xlink:href=\"#m77fff4aa49\" y=\"452.678438\"/>\r\n      </g>\r\n     </g>\r\n     <g id=\"text_17\">\r\n      <!-- USA -->\r\n      <g transform=\"translate(335.605405 480.37375)rotate(-90)scale(0.1 -0.1)\">\r\n       <use xlink:href=\"#DejaVuSans-85\"/>\r\n       <use x=\"73.193359\" xlink:href=\"#DejaVuSans-83\"/>\r\n       <use x=\"138.544922\" xlink:href=\"#DejaVuSans-65\"/>\r\n      </g>\r\n     </g>\r\n    </g>\r\n    <g id=\"xtick_18\">\r\n     <g id=\"line2d_18\">\r\n      <g>\r\n       <use style=\"stroke:#000000;stroke-width:0.8;\" x=\"350.943328\" xlink:href=\"#m77fff4aa49\" y=\"452.678438\"/>\r\n      </g>\r\n     </g>\r\n     <g id=\"text_18\">\r\n      <!-- Poland -->\r\n      <g transform=\"translate(353.702703 493.056563)rotate(-90)scale(0.1 -0.1)\">\r\n       <defs>\r\n        <path d=\"M 19.671875 64.796875 \r\nL 19.671875 37.40625 \r\nL 32.078125 37.40625 \r\nQ 38.96875 37.40625 42.71875 40.96875 \r\nQ 46.484375 44.53125 46.484375 51.125 \r\nQ 46.484375 57.671875 42.71875 61.234375 \r\nQ 38.96875 64.796875 32.078125 64.796875 \r\nz\r\nM 9.8125 72.90625 \r\nL 32.078125 72.90625 \r\nQ 44.34375 72.90625 50.609375 67.359375 \r\nQ 56.890625 61.8125 56.890625 51.125 \r\nQ 56.890625 40.328125 50.609375 34.8125 \r\nQ 44.34375 29.296875 32.078125 29.296875 \r\nL 19.671875 29.296875 \r\nL 19.671875 0 \r\nL 9.8125 0 \r\nz\r\n\" id=\"DejaVuSans-80\"/>\r\n       </defs>\r\n       <use xlink:href=\"#DejaVuSans-80\"/>\r\n       <use x=\"56.677734\" xlink:href=\"#DejaVuSans-111\"/>\r\n       <use x=\"117.859375\" xlink:href=\"#DejaVuSans-108\"/>\r\n       <use x=\"145.642578\" xlink:href=\"#DejaVuSans-97\"/>\r\n       <use x=\"206.921875\" xlink:href=\"#DejaVuSans-110\"/>\r\n       <use x=\"270.300781\" xlink:href=\"#DejaVuSans-100\"/>\r\n      </g>\r\n     </g>\r\n    </g>\r\n    <g id=\"xtick_19\">\r\n     <g id=\"line2d_19\">\r\n      <g>\r\n       <use style=\"stroke:#000000;stroke-width:0.8;\" x=\"369.040625\" xlink:href=\"#m77fff4aa49\" y=\"452.678438\"/>\r\n      </g>\r\n     </g>\r\n     <g id=\"text_19\">\r\n      <!-- Japan -->\r\n      <g transform=\"translate(371.8 487.570625)rotate(-90)scale(0.1 -0.1)\">\r\n       <defs>\r\n        <path d=\"M 9.8125 72.90625 \r\nL 19.671875 72.90625 \r\nL 19.671875 5.078125 \r\nQ 19.671875 -8.109375 14.671875 -14.0625 \r\nQ 9.671875 -20.015625 -1.421875 -20.015625 \r\nL -5.171875 -20.015625 \r\nL -5.171875 -11.71875 \r\nL -2.09375 -11.71875 \r\nQ 4.4375 -11.71875 7.125 -8.046875 \r\nQ 9.8125 -4.390625 9.8125 5.078125 \r\nz\r\n\" id=\"DejaVuSans-74\"/>\r\n       </defs>\r\n       <use xlink:href=\"#DejaVuSans-74\"/>\r\n       <use x=\"29.492188\" xlink:href=\"#DejaVuSans-97\"/>\r\n       <use x=\"90.771484\" xlink:href=\"#DejaVuSans-112\"/>\r\n       <use x=\"154.248047\" xlink:href=\"#DejaVuSans-97\"/>\r\n       <use x=\"215.527344\" xlink:href=\"#DejaVuSans-110\"/>\r\n      </g>\r\n     </g>\r\n    </g>\r\n    <g id=\"xtick_20\">\r\n     <g id=\"line2d_20\">\r\n      <g>\r\n       <use style=\"stroke:#000000;stroke-width:0.8;\" x=\"387.137922\" xlink:href=\"#m77fff4aa49\" y=\"452.678438\"/>\r\n      </g>\r\n     </g>\r\n     <g id=\"text_20\">\r\n      <!-- Denmark -->\r\n      <g transform=\"translate(389.897297 505.639375)rotate(-90)scale(0.1 -0.1)\">\r\n       <defs>\r\n        <path d=\"M 19.671875 64.796875 \r\nL 19.671875 8.109375 \r\nL 31.59375 8.109375 \r\nQ 46.6875 8.109375 53.6875 14.9375 \r\nQ 60.6875 21.78125 60.6875 36.53125 \r\nQ 60.6875 51.171875 53.6875 57.984375 \r\nQ 46.6875 64.796875 31.59375 64.796875 \r\nz\r\nM 9.8125 72.90625 \r\nL 30.078125 72.90625 \r\nQ 51.265625 72.90625 61.171875 64.09375 \r\nQ 71.09375 55.28125 71.09375 36.53125 \r\nQ 71.09375 17.671875 61.125 8.828125 \r\nQ 51.171875 0 30.078125 0 \r\nL 9.8125 0 \r\nz\r\n\" id=\"DejaVuSans-68\"/>\r\n        <path d=\"M 9.078125 75.984375 \r\nL 18.109375 75.984375 \r\nL 18.109375 31.109375 \r\nL 44.921875 54.6875 \r\nL 56.390625 54.6875 \r\nL 27.390625 29.109375 \r\nL 57.625 0 \r\nL 45.90625 0 \r\nL 18.109375 26.703125 \r\nL 18.109375 0 \r\nL 9.078125 0 \r\nz\r\n\" id=\"DejaVuSans-107\"/>\r\n       </defs>\r\n       <use xlink:href=\"#DejaVuSans-68\"/>\r\n       <use x=\"77.001953\" xlink:href=\"#DejaVuSans-101\"/>\r\n       <use x=\"138.525391\" xlink:href=\"#DejaVuSans-110\"/>\r\n       <use x=\"201.904297\" xlink:href=\"#DejaVuSans-109\"/>\r\n       <use x=\"299.316406\" xlink:href=\"#DejaVuSans-97\"/>\r\n       <use x=\"360.595703\" xlink:href=\"#DejaVuSans-114\"/>\r\n       <use x=\"401.708984\" xlink:href=\"#DejaVuSans-107\"/>\r\n      </g>\r\n     </g>\r\n    </g>\r\n    <g id=\"xtick_21\">\r\n     <g id=\"line2d_21\">\r\n      <g>\r\n       <use style=\"stroke:#000000;stroke-width:0.8;\" x=\"405.23522\" xlink:href=\"#m77fff4aa49\" y=\"452.678438\"/>\r\n      </g>\r\n     </g>\r\n     <g id=\"text_21\">\r\n      <!-- Austria -->\r\n      <g transform=\"translate(407.994595 495.003438)rotate(-90)scale(0.1 -0.1)\">\r\n       <use xlink:href=\"#DejaVuSans-65\"/>\r\n       <use x=\"68.408203\" xlink:href=\"#DejaVuSans-117\"/>\r\n       <use x=\"131.787109\" xlink:href=\"#DejaVuSans-115\"/>\r\n       <use x=\"183.886719\" xlink:href=\"#DejaVuSans-116\"/>\r\n       <use x=\"223.095703\" xlink:href=\"#DejaVuSans-114\"/>\r\n       <use x=\"264.208984\" xlink:href=\"#DejaVuSans-105\"/>\r\n       <use x=\"291.992188\" xlink:href=\"#DejaVuSans-97\"/>\r\n      </g>\r\n     </g>\r\n    </g>\r\n    <g id=\"xtick_22\">\r\n     <g id=\"line2d_22\">\r\n      <g>\r\n       <use style=\"stroke:#000000;stroke-width:0.8;\" x=\"423.332517\" xlink:href=\"#m77fff4aa49\" y=\"452.678438\"/>\r\n      </g>\r\n     </g>\r\n     <g id=\"text_22\">\r\n      <!-- Sweden -->\r\n      <g transform=\"translate(426.091892 499.197188)rotate(-90)scale(0.1 -0.1)\">\r\n       <defs>\r\n        <path d=\"M 4.203125 54.6875 \r\nL 13.1875 54.6875 \r\nL 24.421875 12.015625 \r\nL 35.59375 54.6875 \r\nL 46.1875 54.6875 \r\nL 57.421875 12.015625 \r\nL 68.609375 54.6875 \r\nL 77.59375 54.6875 \r\nL 63.28125 0 \r\nL 52.6875 0 \r\nL 40.921875 44.828125 \r\nL 29.109375 0 \r\nL 18.5 0 \r\nz\r\n\" id=\"DejaVuSans-119\"/>\r\n       </defs>\r\n       <use xlink:href=\"#DejaVuSans-83\"/>\r\n       <use x=\"63.476562\" xlink:href=\"#DejaVuSans-119\"/>\r\n       <use x=\"145.263672\" xlink:href=\"#DejaVuSans-101\"/>\r\n       <use x=\"206.787109\" xlink:href=\"#DejaVuSans-100\"/>\r\n       <use x=\"270.263672\" xlink:href=\"#DejaVuSans-101\"/>\r\n       <use x=\"331.787109\" xlink:href=\"#DejaVuSans-110\"/>\r\n      </g>\r\n     </g>\r\n    </g>\r\n    <g id=\"xtick_23\">\r\n     <g id=\"line2d_23\">\r\n      <g>\r\n       <use style=\"stroke:#000000;stroke-width:0.8;\" x=\"441.429814\" xlink:href=\"#m77fff4aa49\" y=\"452.678438\"/>\r\n      </g>\r\n     </g>\r\n     <g id=\"text_23\">\r\n      <!-- Cyprus -->\r\n      <g transform=\"translate(444.189189 494.58625)rotate(-90)scale(0.1 -0.1)\">\r\n       <use xlink:href=\"#DejaVuSans-67\"/>\r\n       <use x=\"69.824219\" xlink:href=\"#DejaVuSans-121\"/>\r\n       <use x=\"129.003906\" xlink:href=\"#DejaVuSans-112\"/>\r\n       <use x=\"192.480469\" xlink:href=\"#DejaVuSans-114\"/>\r\n       <use x=\"233.59375\" xlink:href=\"#DejaVuSans-117\"/>\r\n       <use x=\"296.972656\" xlink:href=\"#DejaVuSans-115\"/>\r\n      </g>\r\n     </g>\r\n    </g>\r\n    <g id=\"xtick_24\">\r\n     <g id=\"line2d_24\">\r\n      <g>\r\n       <use style=\"stroke:#000000;stroke-width:0.8;\" x=\"459.527111\" xlink:href=\"#m77fff4aa49\" y=\"452.678438\"/>\r\n      </g>\r\n     </g>\r\n     <g id=\"text_24\">\r\n      <!-- Finland -->\r\n      <g transform=\"translate(462.286486 495.412813)rotate(-90)scale(0.1 -0.1)\">\r\n       <defs>\r\n        <path d=\"M 9.8125 72.90625 \r\nL 51.703125 72.90625 \r\nL 51.703125 64.59375 \r\nL 19.671875 64.59375 \r\nL 19.671875 43.109375 \r\nL 48.578125 43.109375 \r\nL 48.578125 34.8125 \r\nL 19.671875 34.8125 \r\nL 19.671875 0 \r\nL 9.8125 0 \r\nz\r\n\" id=\"DejaVuSans-70\"/>\r\n       </defs>\r\n       <use xlink:href=\"#DejaVuSans-70\"/>\r\n       <use x=\"50.269531\" xlink:href=\"#DejaVuSans-105\"/>\r\n       <use x=\"78.052734\" xlink:href=\"#DejaVuSans-110\"/>\r\n       <use x=\"141.431641\" xlink:href=\"#DejaVuSans-108\"/>\r\n       <use x=\"169.214844\" xlink:href=\"#DejaVuSans-97\"/>\r\n       <use x=\"230.494141\" xlink:href=\"#DejaVuSans-110\"/>\r\n       <use x=\"293.873047\" xlink:href=\"#DejaVuSans-100\"/>\r\n      </g>\r\n     </g>\r\n    </g>\r\n    <g id=\"xtick_25\">\r\n     <g id=\"line2d_25\">\r\n      <g>\r\n       <use style=\"stroke:#000000;stroke-width:0.8;\" x=\"477.624409\" xlink:href=\"#m77fff4aa49\" y=\"452.678438\"/>\r\n      </g>\r\n     </g>\r\n     <g id=\"text_25\">\r\n      <!-- Italy -->\r\n      <g transform=\"translate(480.383784 481.37375)rotate(-90)scale(0.1 -0.1)\">\r\n       <use xlink:href=\"#DejaVuSans-73\"/>\r\n       <use x=\"29.492188\" xlink:href=\"#DejaVuSans-116\"/>\r\n       <use x=\"68.701172\" xlink:href=\"#DejaVuSans-97\"/>\r\n       <use x=\"129.980469\" xlink:href=\"#DejaVuSans-108\"/>\r\n       <use x=\"157.763672\" xlink:href=\"#DejaVuSans-121\"/>\r\n      </g>\r\n     </g>\r\n    </g>\r\n    <g id=\"xtick_26\">\r\n     <g id=\"line2d_26\">\r\n      <g>\r\n       <use style=\"stroke:#000000;stroke-width:0.8;\" x=\"495.721706\" xlink:href=\"#m77fff4aa49\" y=\"452.678438\"/>\r\n      </g>\r\n     </g>\r\n     <g id=\"text_26\">\r\n      <!-- Channel Islands -->\r\n      <g transform=\"translate(498.481081 538.872187)rotate(-90)scale(0.1 -0.1)\">\r\n       <use xlink:href=\"#DejaVuSans-67\"/>\r\n       <use x=\"69.824219\" xlink:href=\"#DejaVuSans-104\"/>\r\n       <use x=\"133.203125\" xlink:href=\"#DejaVuSans-97\"/>\r\n       <use x=\"194.482422\" xlink:href=\"#DejaVuSans-110\"/>\r\n       <use x=\"257.861328\" xlink:href=\"#DejaVuSans-110\"/>\r\n       <use x=\"321.240234\" xlink:href=\"#DejaVuSans-101\"/>\r\n       <use x=\"382.763672\" xlink:href=\"#DejaVuSans-108\"/>\r\n       <use x=\"410.546875\" xlink:href=\"#DejaVuSans-32\"/>\r\n       <use x=\"442.333984\" xlink:href=\"#DejaVuSans-73\"/>\r\n       <use x=\"471.826172\" xlink:href=\"#DejaVuSans-115\"/>\r\n       <use x=\"523.925781\" xlink:href=\"#DejaVuSans-108\"/>\r\n       <use x=\"551.708984\" xlink:href=\"#DejaVuSans-97\"/>\r\n       <use x=\"612.988281\" xlink:href=\"#DejaVuSans-110\"/>\r\n       <use x=\"676.367188\" xlink:href=\"#DejaVuSans-100\"/>\r\n       <use x=\"739.84375\" xlink:href=\"#DejaVuSans-115\"/>\r\n      </g>\r\n     </g>\r\n    </g>\r\n    <g id=\"xtick_27\">\r\n     <g id=\"line2d_27\">\r\n      <g>\r\n       <use style=\"stroke:#000000;stroke-width:0.8;\" x=\"513.819003\" xlink:href=\"#m77fff4aa49\" y=\"452.678438\"/>\r\n      </g>\r\n     </g>\r\n     <g id=\"text_27\">\r\n      <!-- Norway -->\r\n      <g transform=\"translate(516.578378 497.614375)rotate(-90)scale(0.1 -0.1)\">\r\n       <defs>\r\n        <path d=\"M 9.8125 72.90625 \r\nL 23.09375 72.90625 \r\nL 55.421875 11.921875 \r\nL 55.421875 72.90625 \r\nL 64.984375 72.90625 \r\nL 64.984375 0 \r\nL 51.703125 0 \r\nL 19.390625 60.984375 \r\nL 19.390625 0 \r\nL 9.8125 0 \r\nz\r\n\" id=\"DejaVuSans-78\"/>\r\n       </defs>\r\n       <use xlink:href=\"#DejaVuSans-78\"/>\r\n       <use x=\"74.804688\" xlink:href=\"#DejaVuSans-111\"/>\r\n       <use x=\"135.986328\" xlink:href=\"#DejaVuSans-114\"/>\r\n       <use x=\"177.099609\" xlink:href=\"#DejaVuSans-119\"/>\r\n       <use x=\"258.886719\" xlink:href=\"#DejaVuSans-97\"/>\r\n       <use x=\"320.166016\" xlink:href=\"#DejaVuSans-121\"/>\r\n      </g>\r\n     </g>\r\n    </g>\r\n    <g id=\"xtick_28\">\r\n     <g id=\"line2d_28\">\r\n      <g>\r\n       <use style=\"stroke:#000000;stroke-width:0.8;\" x=\"531.916301\" xlink:href=\"#m77fff4aa49\" y=\"452.678438\"/>\r\n      </g>\r\n     </g>\r\n     <g id=\"text_28\">\r\n      <!-- Australia -->\r\n      <g transform=\"translate(534.675676 503.909688)rotate(-90)scale(0.1 -0.1)\">\r\n       <use xlink:href=\"#DejaVuSans-65\"/>\r\n       <use x=\"68.408203\" xlink:href=\"#DejaVuSans-117\"/>\r\n       <use x=\"131.787109\" xlink:href=\"#DejaVuSans-115\"/>\r\n       <use x=\"183.886719\" xlink:href=\"#DejaVuSans-116\"/>\r\n       <use x=\"223.095703\" xlink:href=\"#DejaVuSans-114\"/>\r\n       <use x=\"264.208984\" xlink:href=\"#DejaVuSans-97\"/>\r\n       <use x=\"325.488281\" xlink:href=\"#DejaVuSans-108\"/>\r\n       <use x=\"353.271484\" xlink:href=\"#DejaVuSans-105\"/>\r\n       <use x=\"381.054688\" xlink:href=\"#DejaVuSans-97\"/>\r\n      </g>\r\n     </g>\r\n    </g>\r\n    <g id=\"xtick_29\">\r\n     <g id=\"line2d_29\">\r\n      <g>\r\n       <use style=\"stroke:#000000;stroke-width:0.8;\" x=\"550.013598\" xlink:href=\"#m77fff4aa49\" y=\"452.678438\"/>\r\n      </g>\r\n     </g>\r\n     <g id=\"text_29\">\r\n      <!-- Portugal -->\r\n      <g transform=\"translate(552.772973 501.087813)rotate(-90)scale(0.1 -0.1)\">\r\n       <use xlink:href=\"#DejaVuSans-80\"/>\r\n       <use x=\"56.677734\" xlink:href=\"#DejaVuSans-111\"/>\r\n       <use x=\"117.859375\" xlink:href=\"#DejaVuSans-114\"/>\r\n       <use x=\"158.972656\" xlink:href=\"#DejaVuSans-116\"/>\r\n       <use x=\"198.181641\" xlink:href=\"#DejaVuSans-117\"/>\r\n       <use x=\"261.560547\" xlink:href=\"#DejaVuSans-103\"/>\r\n       <use x=\"325.037109\" xlink:href=\"#DejaVuSans-97\"/>\r\n       <use x=\"386.316406\" xlink:href=\"#DejaVuSans-108\"/>\r\n      </g>\r\n     </g>\r\n    </g>\r\n    <g id=\"xtick_30\">\r\n     <g id=\"line2d_30\">\r\n      <g>\r\n       <use style=\"stroke:#000000;stroke-width:0.8;\" x=\"568.110895\" xlink:href=\"#m77fff4aa49\" y=\"452.678438\"/>\r\n      </g>\r\n     </g>\r\n     <g id=\"text_30\">\r\n      <!-- Switzerland -->\r\n      <g transform=\"translate(570.87027 518.008125)rotate(-90)scale(0.1 -0.1)\">\r\n       <use xlink:href=\"#DejaVuSans-83\"/>\r\n       <use x=\"63.476562\" xlink:href=\"#DejaVuSans-119\"/>\r\n       <use x=\"145.263672\" xlink:href=\"#DejaVuSans-105\"/>\r\n       <use x=\"173.046875\" xlink:href=\"#DejaVuSans-116\"/>\r\n       <use x=\"212.255859\" xlink:href=\"#DejaVuSans-122\"/>\r\n       <use x=\"264.746094\" xlink:href=\"#DejaVuSans-101\"/>\r\n       <use x=\"326.269531\" xlink:href=\"#DejaVuSans-114\"/>\r\n       <use x=\"367.382812\" xlink:href=\"#DejaVuSans-108\"/>\r\n       <use x=\"395.166016\" xlink:href=\"#DejaVuSans-97\"/>\r\n       <use x=\"456.445312\" xlink:href=\"#DejaVuSans-110\"/>\r\n       <use x=\"519.824219\" xlink:href=\"#DejaVuSans-100\"/>\r\n      </g>\r\n     </g>\r\n    </g>\r\n    <g id=\"xtick_31\">\r\n     <g id=\"line2d_31\">\r\n      <g>\r\n       <use style=\"stroke:#000000;stroke-width:0.8;\" x=\"586.208193\" xlink:href=\"#m77fff4aa49\" y=\"452.678438\"/>\r\n      </g>\r\n     </g>\r\n     <g id=\"text_31\">\r\n      <!-- Belgium -->\r\n      <g transform=\"translate(588.967568 500.675313)rotate(-90)scale(0.1 -0.1)\">\r\n       <use xlink:href=\"#DejaVuSans-66\"/>\r\n       <use x=\"68.603516\" xlink:href=\"#DejaVuSans-101\"/>\r\n       <use x=\"130.126953\" xlink:href=\"#DejaVuSans-108\"/>\r\n       <use x=\"157.910156\" xlink:href=\"#DejaVuSans-103\"/>\r\n       <use x=\"221.386719\" xlink:href=\"#DejaVuSans-105\"/>\r\n       <use x=\"249.169922\" xlink:href=\"#DejaVuSans-117\"/>\r\n       <use x=\"312.548828\" xlink:href=\"#DejaVuSans-109\"/>\r\n      </g>\r\n     </g>\r\n    </g>\r\n    <g id=\"xtick_32\">\r\n     <g id=\"line2d_32\">\r\n      <g>\r\n       <use style=\"stroke:#000000;stroke-width:0.8;\" x=\"604.30549\" xlink:href=\"#m77fff4aa49\" y=\"452.678438\"/>\r\n      </g>\r\n     </g>\r\n     <g id=\"text_32\">\r\n      <!-- Spain -->\r\n      <g transform=\"translate(607.064865 487.619063)rotate(-90)scale(0.1 -0.1)\">\r\n       <use xlink:href=\"#DejaVuSans-83\"/>\r\n       <use x=\"63.476562\" xlink:href=\"#DejaVuSans-112\"/>\r\n       <use x=\"126.953125\" xlink:href=\"#DejaVuSans-97\"/>\r\n       <use x=\"188.232422\" xlink:href=\"#DejaVuSans-105\"/>\r\n       <use x=\"216.015625\" xlink:href=\"#DejaVuSans-110\"/>\r\n      </g>\r\n     </g>\r\n    </g>\r\n    <g id=\"xtick_33\">\r\n     <g id=\"line2d_33\">\r\n      <g>\r\n       <use style=\"stroke:#000000;stroke-width:0.8;\" x=\"622.402787\" xlink:href=\"#m77fff4aa49\" y=\"452.678438\"/>\r\n      </g>\r\n     </g>\r\n     <g id=\"text_33\">\r\n      <!-- Netherlands -->\r\n      <g transform=\"translate(625.162162 520.63625)rotate(-90)scale(0.1 -0.1)\">\r\n       <use xlink:href=\"#DejaVuSans-78\"/>\r\n       <use x=\"74.804688\" xlink:href=\"#DejaVuSans-101\"/>\r\n       <use x=\"136.328125\" xlink:href=\"#DejaVuSans-116\"/>\r\n       <use x=\"175.537109\" xlink:href=\"#DejaVuSans-104\"/>\r\n       <use x=\"238.916016\" xlink:href=\"#DejaVuSans-101\"/>\r\n       <use x=\"300.439453\" xlink:href=\"#DejaVuSans-114\"/>\r\n       <use x=\"341.552734\" xlink:href=\"#DejaVuSans-108\"/>\r\n       <use x=\"369.335938\" xlink:href=\"#DejaVuSans-97\"/>\r\n       <use x=\"430.615234\" xlink:href=\"#DejaVuSans-110\"/>\r\n       <use x=\"493.994141\" xlink:href=\"#DejaVuSans-100\"/>\r\n       <use x=\"557.470703\" xlink:href=\"#DejaVuSans-115\"/>\r\n      </g>\r\n     </g>\r\n    </g>\r\n    <g id=\"xtick_34\">\r\n     <g id=\"line2d_34\">\r\n      <g>\r\n       <use style=\"stroke:#000000;stroke-width:0.8;\" x=\"640.500084\" xlink:href=\"#m77fff4aa49\" y=\"452.678438\"/>\r\n      </g>\r\n     </g>\r\n     <g id=\"text_34\">\r\n      <!-- France -->\r\n      <g transform=\"translate(643.259459 492.933125)rotate(-90)scale(0.1 -0.1)\">\r\n       <use xlink:href=\"#DejaVuSans-70\"/>\r\n       <use x=\"50.269531\" xlink:href=\"#DejaVuSans-114\"/>\r\n       <use x=\"91.382812\" xlink:href=\"#DejaVuSans-97\"/>\r\n       <use x=\"152.662109\" xlink:href=\"#DejaVuSans-110\"/>\r\n       <use x=\"216.041016\" xlink:href=\"#DejaVuSans-99\"/>\r\n       <use x=\"271.021484\" xlink:href=\"#DejaVuSans-101\"/>\r\n      </g>\r\n     </g>\r\n    </g>\r\n    <g id=\"xtick_35\">\r\n     <g id=\"line2d_35\">\r\n      <g>\r\n       <use style=\"stroke:#000000;stroke-width:0.8;\" x=\"658.597382\" xlink:href=\"#m77fff4aa49\" y=\"452.678438\"/>\r\n      </g>\r\n     </g>\r\n     <g id=\"text_35\">\r\n      <!-- EIRE -->\r\n      <g transform=\"translate(661.356757 482.214375)rotate(-90)scale(0.1 -0.1)\">\r\n       <use xlink:href=\"#DejaVuSans-69\"/>\r\n       <use x=\"63.183594\" xlink:href=\"#DejaVuSans-73\"/>\r\n       <use x=\"92.675781\" xlink:href=\"#DejaVuSans-82\"/>\r\n       <use x=\"162.158203\" xlink:href=\"#DejaVuSans-69\"/>\r\n      </g>\r\n     </g>\r\n    </g>\r\n    <g id=\"xtick_36\">\r\n     <g id=\"line2d_36\">\r\n      <g>\r\n       <use style=\"stroke:#000000;stroke-width:0.8;\" x=\"676.694679\" xlink:href=\"#m77fff4aa49\" y=\"452.678438\"/>\r\n      </g>\r\n     </g>\r\n     <g id=\"text_36\">\r\n      <!-- Germany -->\r\n      <g transform=\"translate(679.454054 505.640938)rotate(-90)scale(0.1 -0.1)\">\r\n       <use xlink:href=\"#DejaVuSans-71\"/>\r\n       <use x=\"77.490234\" xlink:href=\"#DejaVuSans-101\"/>\r\n       <use x=\"139.013672\" xlink:href=\"#DejaVuSans-114\"/>\r\n       <use x=\"178.376953\" xlink:href=\"#DejaVuSans-109\"/>\r\n       <use x=\"275.789062\" xlink:href=\"#DejaVuSans-97\"/>\r\n       <use x=\"337.068359\" xlink:href=\"#DejaVuSans-110\"/>\r\n       <use x=\"400.447266\" xlink:href=\"#DejaVuSans-121\"/>\r\n      </g>\r\n     </g>\r\n    </g>\r\n    <g id=\"xtick_37\">\r\n     <g id=\"line2d_37\">\r\n      <g>\r\n       <use style=\"stroke:#000000;stroke-width:0.8;\" x=\"694.791976\" xlink:href=\"#m77fff4aa49\" y=\"452.678438\"/>\r\n      </g>\r\n     </g>\r\n     <g id=\"text_37\">\r\n      <!-- United Kingdom -->\r\n      <g transform=\"translate(697.551351 539.9425)rotate(-90)scale(0.1 -0.1)\">\r\n       <defs>\r\n        <path d=\"M 9.8125 72.90625 \r\nL 19.671875 72.90625 \r\nL 19.671875 42.09375 \r\nL 52.390625 72.90625 \r\nL 65.09375 72.90625 \r\nL 28.90625 38.921875 \r\nL 67.671875 0 \r\nL 54.6875 0 \r\nL 19.671875 35.109375 \r\nL 19.671875 0 \r\nL 9.8125 0 \r\nz\r\n\" id=\"DejaVuSans-75\"/>\r\n       </defs>\r\n       <use xlink:href=\"#DejaVuSans-85\"/>\r\n       <use x=\"73.193359\" xlink:href=\"#DejaVuSans-110\"/>\r\n       <use x=\"136.572266\" xlink:href=\"#DejaVuSans-105\"/>\r\n       <use x=\"164.355469\" xlink:href=\"#DejaVuSans-116\"/>\r\n       <use x=\"203.564453\" xlink:href=\"#DejaVuSans-101\"/>\r\n       <use x=\"265.087891\" xlink:href=\"#DejaVuSans-100\"/>\r\n       <use x=\"328.564453\" xlink:href=\"#DejaVuSans-32\"/>\r\n       <use x=\"360.351562\" xlink:href=\"#DejaVuSans-75\"/>\r\n       <use x=\"425.927734\" xlink:href=\"#DejaVuSans-105\"/>\r\n       <use x=\"453.710938\" xlink:href=\"#DejaVuSans-110\"/>\r\n       <use x=\"517.089844\" xlink:href=\"#DejaVuSans-103\"/>\r\n       <use x=\"580.566406\" xlink:href=\"#DejaVuSans-100\"/>\r\n       <use x=\"644.042969\" xlink:href=\"#DejaVuSans-111\"/>\r\n       <use x=\"705.224609\" xlink:href=\"#DejaVuSans-109\"/>\r\n      </g>\r\n     </g>\r\n    </g>\r\n    <g id=\"text_38\">\r\n     <!-- Country -->\r\n     <g transform=\"translate(349.177344 579.958125)scale(0.1 -0.1)\">\r\n      <use xlink:href=\"#DejaVuSans-67\"/>\r\n      <use x=\"69.824219\" xlink:href=\"#DejaVuSans-111\"/>\r\n      <use x=\"131.005859\" xlink:href=\"#DejaVuSans-117\"/>\r\n      <use x=\"194.384766\" xlink:href=\"#DejaVuSans-110\"/>\r\n      <use x=\"257.763672\" xlink:href=\"#DejaVuSans-116\"/>\r\n      <use x=\"296.972656\" xlink:href=\"#DejaVuSans-114\"/>\r\n      <use x=\"338.085938\" xlink:href=\"#DejaVuSans-121\"/>\r\n     </g>\r\n    </g>\r\n   </g>\r\n   <g id=\"matplotlib.axis_2\">\r\n    <g id=\"ytick_1\">\r\n     <g id=\"line2d_38\">\r\n      <defs>\r\n       <path d=\"M 0 0 \r\nL -3.5 0 \r\n\" id=\"m9c0ca1e5d6\" style=\"stroke:#000000;stroke-width:0.8;\"/>\r\n      </defs>\r\n      <g>\r\n       <use style=\"stroke:#000000;stroke-width:0.8;\" x=\"34.240625\" xlink:href=\"#m9c0ca1e5d6\" y=\"452.678438\"/>\r\n      </g>\r\n     </g>\r\n     <g id=\"text_39\">\r\n      <!-- 0 -->\r\n      <g transform=\"translate(20.878125 456.477656)scale(0.1 -0.1)\">\r\n       <defs>\r\n        <path d=\"M 31.78125 66.40625 \r\nQ 24.171875 66.40625 20.328125 58.90625 \r\nQ 16.5 51.421875 16.5 36.375 \r\nQ 16.5 21.390625 20.328125 13.890625 \r\nQ 24.171875 6.390625 31.78125 6.390625 \r\nQ 39.453125 6.390625 43.28125 13.890625 \r\nQ 47.125 21.390625 47.125 36.375 \r\nQ 47.125 51.421875 43.28125 58.90625 \r\nQ 39.453125 66.40625 31.78125 66.40625 \r\nz\r\nM 31.78125 74.21875 \r\nQ 44.046875 74.21875 50.515625 64.515625 \r\nQ 56.984375 54.828125 56.984375 36.375 \r\nQ 56.984375 17.96875 50.515625 8.265625 \r\nQ 44.046875 -1.421875 31.78125 -1.421875 \r\nQ 19.53125 -1.421875 13.0625 8.265625 \r\nQ 6.59375 17.96875 6.59375 36.375 \r\nQ 6.59375 54.828125 13.0625 64.515625 \r\nQ 19.53125 74.21875 31.78125 74.21875 \r\nz\r\n\" id=\"DejaVuSans-48\"/>\r\n       </defs>\r\n       <use xlink:href=\"#DejaVuSans-48\"/>\r\n      </g>\r\n     </g>\r\n    </g>\r\n    <g id=\"ytick_2\">\r\n     <g id=\"line2d_39\">\r\n      <g>\r\n       <use style=\"stroke:#000000;stroke-width:0.8;\" x=\"34.240625\" xlink:href=\"#m9c0ca1e5d6\" y=\"379.066709\"/>\r\n      </g>\r\n     </g>\r\n     <g id=\"text_40\">\r\n      <!-- 1 -->\r\n      <g transform=\"translate(20.878125 382.865928)scale(0.1 -0.1)\">\r\n       <defs>\r\n        <path d=\"M 12.40625 8.296875 \r\nL 28.515625 8.296875 \r\nL 28.515625 63.921875 \r\nL 10.984375 60.40625 \r\nL 10.984375 69.390625 \r\nL 28.421875 72.90625 \r\nL 38.28125 72.90625 \r\nL 38.28125 8.296875 \r\nL 54.390625 8.296875 \r\nL 54.390625 0 \r\nL 12.40625 0 \r\nz\r\n\" id=\"DejaVuSans-49\"/>\r\n       </defs>\r\n       <use xlink:href=\"#DejaVuSans-49\"/>\r\n      </g>\r\n     </g>\r\n    </g>\r\n    <g id=\"ytick_3\">\r\n     <g id=\"line2d_40\">\r\n      <g>\r\n       <use style=\"stroke:#000000;stroke-width:0.8;\" x=\"34.240625\" xlink:href=\"#m9c0ca1e5d6\" y=\"305.454981\"/>\r\n      </g>\r\n     </g>\r\n     <g id=\"text_41\">\r\n      <!-- 2 -->\r\n      <g transform=\"translate(20.878125 309.254199)scale(0.1 -0.1)\">\r\n       <defs>\r\n        <path d=\"M 19.1875 8.296875 \r\nL 53.609375 8.296875 \r\nL 53.609375 0 \r\nL 7.328125 0 \r\nL 7.328125 8.296875 \r\nQ 12.9375 14.109375 22.625 23.890625 \r\nQ 32.328125 33.6875 34.8125 36.53125 \r\nQ 39.546875 41.84375 41.421875 45.53125 \r\nQ 43.3125 49.21875 43.3125 52.78125 \r\nQ 43.3125 58.59375 39.234375 62.25 \r\nQ 35.15625 65.921875 28.609375 65.921875 \r\nQ 23.96875 65.921875 18.8125 64.3125 \r\nQ 13.671875 62.703125 7.8125 59.421875 \r\nL 7.8125 69.390625 \r\nQ 13.765625 71.78125 18.9375 73 \r\nQ 24.125 74.21875 28.421875 74.21875 \r\nQ 39.75 74.21875 46.484375 68.546875 \r\nQ 53.21875 62.890625 53.21875 53.421875 \r\nQ 53.21875 48.921875 51.53125 44.890625 \r\nQ 49.859375 40.875 45.40625 35.40625 \r\nQ 44.1875 33.984375 37.640625 27.21875 \r\nQ 31.109375 20.453125 19.1875 8.296875 \r\nz\r\n\" id=\"DejaVuSans-50\"/>\r\n       </defs>\r\n       <use xlink:href=\"#DejaVuSans-50\"/>\r\n      </g>\r\n     </g>\r\n    </g>\r\n    <g id=\"ytick_4\">\r\n     <g id=\"line2d_41\">\r\n      <g>\r\n       <use style=\"stroke:#000000;stroke-width:0.8;\" x=\"34.240625\" xlink:href=\"#m9c0ca1e5d6\" y=\"231.843252\"/>\r\n      </g>\r\n     </g>\r\n     <g id=\"text_42\">\r\n      <!-- 3 -->\r\n      <g transform=\"translate(20.878125 235.642471)scale(0.1 -0.1)\">\r\n       <defs>\r\n        <path d=\"M 40.578125 39.3125 \r\nQ 47.65625 37.796875 51.625 33 \r\nQ 55.609375 28.21875 55.609375 21.1875 \r\nQ 55.609375 10.40625 48.1875 4.484375 \r\nQ 40.765625 -1.421875 27.09375 -1.421875 \r\nQ 22.515625 -1.421875 17.65625 -0.515625 \r\nQ 12.796875 0.390625 7.625 2.203125 \r\nL 7.625 11.71875 \r\nQ 11.71875 9.328125 16.59375 8.109375 \r\nQ 21.484375 6.890625 26.8125 6.890625 \r\nQ 36.078125 6.890625 40.9375 10.546875 \r\nQ 45.796875 14.203125 45.796875 21.1875 \r\nQ 45.796875 27.640625 41.28125 31.265625 \r\nQ 36.765625 34.90625 28.71875 34.90625 \r\nL 20.21875 34.90625 \r\nL 20.21875 43.015625 \r\nL 29.109375 43.015625 \r\nQ 36.375 43.015625 40.234375 45.921875 \r\nQ 44.09375 48.828125 44.09375 54.296875 \r\nQ 44.09375 59.90625 40.109375 62.90625 \r\nQ 36.140625 65.921875 28.71875 65.921875 \r\nQ 24.65625 65.921875 20.015625 65.03125 \r\nQ 15.375 64.15625 9.8125 62.3125 \r\nL 9.8125 71.09375 \r\nQ 15.4375 72.65625 20.34375 73.4375 \r\nQ 25.25 74.21875 29.59375 74.21875 \r\nQ 40.828125 74.21875 47.359375 69.109375 \r\nQ 53.90625 64.015625 53.90625 55.328125 \r\nQ 53.90625 49.265625 50.4375 45.09375 \r\nQ 46.96875 40.921875 40.578125 39.3125 \r\nz\r\n\" id=\"DejaVuSans-51\"/>\r\n       </defs>\r\n       <use xlink:href=\"#DejaVuSans-51\"/>\r\n      </g>\r\n     </g>\r\n    </g>\r\n    <g id=\"ytick_5\">\r\n     <g id=\"line2d_42\">\r\n      <g>\r\n       <use style=\"stroke:#000000;stroke-width:0.8;\" x=\"34.240625\" xlink:href=\"#m9c0ca1e5d6\" y=\"158.231524\"/>\r\n      </g>\r\n     </g>\r\n     <g id=\"text_43\">\r\n      <!-- 4 -->\r\n      <g transform=\"translate(20.878125 162.030742)scale(0.1 -0.1)\">\r\n       <defs>\r\n        <path d=\"M 37.796875 64.3125 \r\nL 12.890625 25.390625 \r\nL 37.796875 25.390625 \r\nz\r\nM 35.203125 72.90625 \r\nL 47.609375 72.90625 \r\nL 47.609375 25.390625 \r\nL 58.015625 25.390625 \r\nL 58.015625 17.1875 \r\nL 47.609375 17.1875 \r\nL 47.609375 0 \r\nL 37.796875 0 \r\nL 37.796875 17.1875 \r\nL 4.890625 17.1875 \r\nL 4.890625 26.703125 \r\nz\r\n\" id=\"DejaVuSans-52\"/>\r\n       </defs>\r\n       <use xlink:href=\"#DejaVuSans-52\"/>\r\n      </g>\r\n     </g>\r\n    </g>\r\n    <g id=\"ytick_6\">\r\n     <g id=\"line2d_43\">\r\n      <g>\r\n       <use style=\"stroke:#000000;stroke-width:0.8;\" x=\"34.240625\" xlink:href=\"#m9c0ca1e5d6\" y=\"84.619795\"/>\r\n      </g>\r\n     </g>\r\n     <g id=\"text_44\">\r\n      <!-- 5 -->\r\n      <g transform=\"translate(20.878125 88.419014)scale(0.1 -0.1)\">\r\n       <defs>\r\n        <path d=\"M 10.796875 72.90625 \r\nL 49.515625 72.90625 \r\nL 49.515625 64.59375 \r\nL 19.828125 64.59375 \r\nL 19.828125 46.734375 \r\nQ 21.96875 47.46875 24.109375 47.828125 \r\nQ 26.265625 48.1875 28.421875 48.1875 \r\nQ 40.625 48.1875 47.75 41.5 \r\nQ 54.890625 34.8125 54.890625 23.390625 \r\nQ 54.890625 11.625 47.5625 5.09375 \r\nQ 40.234375 -1.421875 26.90625 -1.421875 \r\nQ 22.3125 -1.421875 17.546875 -0.640625 \r\nQ 12.796875 0.140625 7.71875 1.703125 \r\nL 7.71875 11.625 \r\nQ 12.109375 9.234375 16.796875 8.0625 \r\nQ 21.484375 6.890625 26.703125 6.890625 \r\nQ 35.15625 6.890625 40.078125 11.328125 \r\nQ 45.015625 15.765625 45.015625 23.390625 \r\nQ 45.015625 31 40.078125 35.4375 \r\nQ 35.15625 39.890625 26.703125 39.890625 \r\nQ 22.75 39.890625 18.8125 39.015625 \r\nQ 14.890625 38.140625 10.796875 36.28125 \r\nz\r\n\" id=\"DejaVuSans-53\"/>\r\n       </defs>\r\n       <use xlink:href=\"#DejaVuSans-53\"/>\r\n      </g>\r\n     </g>\r\n    </g>\r\n    <g id=\"text_45\">\r\n     <!-- CustomerID -->\r\n     <g transform=\"translate(14.798438 264.850156)rotate(-90)scale(0.1 -0.1)\">\r\n      <use xlink:href=\"#DejaVuSans-67\"/>\r\n      <use x=\"69.824219\" xlink:href=\"#DejaVuSans-117\"/>\r\n      <use x=\"133.203125\" xlink:href=\"#DejaVuSans-115\"/>\r\n      <use x=\"185.302734\" xlink:href=\"#DejaVuSans-116\"/>\r\n      <use x=\"224.511719\" xlink:href=\"#DejaVuSans-111\"/>\r\n      <use x=\"285.693359\" xlink:href=\"#DejaVuSans-109\"/>\r\n      <use x=\"383.105469\" xlink:href=\"#DejaVuSans-101\"/>\r\n      <use x=\"444.628906\" xlink:href=\"#DejaVuSans-114\"/>\r\n      <use x=\"485.742188\" xlink:href=\"#DejaVuSans-73\"/>\r\n      <use x=\"515.234375\" xlink:href=\"#DejaVuSans-68\"/>\r\n     </g>\r\n    </g>\r\n    <g id=\"text_46\">\r\n     <!-- 1e9 -->\r\n     <g transform=\"translate(34.240625 14.798437)scale(0.1 -0.1)\">\r\n      <defs>\r\n       <path d=\"M 10.984375 1.515625 \r\nL 10.984375 10.5 \r\nQ 14.703125 8.734375 18.5 7.8125 \r\nQ 22.3125 6.890625 25.984375 6.890625 \r\nQ 35.75 6.890625 40.890625 13.453125 \r\nQ 46.046875 20.015625 46.78125 33.40625 \r\nQ 43.953125 29.203125 39.59375 26.953125 \r\nQ 35.25 24.703125 29.984375 24.703125 \r\nQ 19.046875 24.703125 12.671875 31.3125 \r\nQ 6.296875 37.9375 6.296875 49.421875 \r\nQ 6.296875 60.640625 12.9375 67.421875 \r\nQ 19.578125 74.21875 30.609375 74.21875 \r\nQ 43.265625 74.21875 49.921875 64.515625 \r\nQ 56.59375 54.828125 56.59375 36.375 \r\nQ 56.59375 19.140625 48.40625 8.859375 \r\nQ 40.234375 -1.421875 26.421875 -1.421875 \r\nQ 22.703125 -1.421875 18.890625 -0.6875 \r\nQ 15.09375 0.046875 10.984375 1.515625 \r\nz\r\nM 30.609375 32.421875 \r\nQ 37.25 32.421875 41.125 36.953125 \r\nQ 45.015625 41.5 45.015625 49.421875 \r\nQ 45.015625 57.28125 41.125 61.84375 \r\nQ 37.25 66.40625 30.609375 66.40625 \r\nQ 23.96875 66.40625 20.09375 61.84375 \r\nQ 16.21875 57.28125 16.21875 49.421875 \r\nQ 16.21875 41.5 20.09375 36.953125 \r\nQ 23.96875 32.421875 30.609375 32.421875 \r\nz\r\n\" id=\"DejaVuSans-57\"/>\r\n      </defs>\r\n      <use xlink:href=\"#DejaVuSans-49\"/>\r\n      <use x=\"63.623047\" xlink:href=\"#DejaVuSans-101\"/>\r\n      <use x=\"125.146484\" xlink:href=\"#DejaVuSans-57\"/>\r\n     </g>\r\n    </g>\r\n   </g>\r\n   <g id=\"line2d_44\">\r\n    <path clip-path=\"url(#pfb918cef0e)\" d=\"M 0 0 \r\n\" style=\"fill:none;stroke:#424242;stroke-linecap:square;stroke-width:2.7;\"/>\r\n   </g>\r\n   <g id=\"line2d_45\">\r\n    <path clip-path=\"url(#pfb918cef0e)\" d=\"M 0 0 \r\n\" style=\"fill:none;stroke:#424242;stroke-linecap:square;stroke-width:2.7;\"/>\r\n   </g>\r\n   <g id=\"line2d_46\">\r\n    <path clip-path=\"url(#pfb918cef0e)\" d=\"M 0 0 \r\n\" style=\"fill:none;stroke:#424242;stroke-linecap:square;stroke-width:2.7;\"/>\r\n   </g>\r\n   <g id=\"line2d_47\">\r\n    <path clip-path=\"url(#pfb918cef0e)\" d=\"M 0 0 \r\n\" style=\"fill:none;stroke:#424242;stroke-linecap:square;stroke-width:2.7;\"/>\r\n   </g>\r\n   <g id=\"line2d_48\">\r\n    <path clip-path=\"url(#pfb918cef0e)\" d=\"M 0 0 \r\n\" style=\"fill:none;stroke:#424242;stroke-linecap:square;stroke-width:2.7;\"/>\r\n   </g>\r\n   <g id=\"line2d_49\">\r\n    <path clip-path=\"url(#pfb918cef0e)\" d=\"M 0 0 \r\n\" style=\"fill:none;stroke:#424242;stroke-linecap:square;stroke-width:2.7;\"/>\r\n   </g>\r\n   <g id=\"line2d_50\">\r\n    <path clip-path=\"url(#pfb918cef0e)\" d=\"M 0 0 \r\n\" style=\"fill:none;stroke:#424242;stroke-linecap:square;stroke-width:2.7;\"/>\r\n   </g>\r\n   <g id=\"line2d_51\">\r\n    <path clip-path=\"url(#pfb918cef0e)\" d=\"M 0 0 \r\n\" style=\"fill:none;stroke:#424242;stroke-linecap:square;stroke-width:2.7;\"/>\r\n   </g>\r\n   <g id=\"line2d_52\">\r\n    <path clip-path=\"url(#pfb918cef0e)\" d=\"M 0 0 \r\n\" style=\"fill:none;stroke:#424242;stroke-linecap:square;stroke-width:2.7;\"/>\r\n   </g>\r\n   <g id=\"line2d_53\">\r\n    <path clip-path=\"url(#pfb918cef0e)\" d=\"M 0 0 \r\n\" style=\"fill:none;stroke:#424242;stroke-linecap:square;stroke-width:2.7;\"/>\r\n   </g>\r\n   <g id=\"line2d_54\">\r\n    <path clip-path=\"url(#pfb918cef0e)\" d=\"M 0 0 \r\n\" style=\"fill:none;stroke:#424242;stroke-linecap:square;stroke-width:2.7;\"/>\r\n   </g>\r\n   <g id=\"line2d_55\">\r\n    <path clip-path=\"url(#pfb918cef0e)\" d=\"M 0 0 \r\n\" style=\"fill:none;stroke:#424242;stroke-linecap:square;stroke-width:2.7;\"/>\r\n   </g>\r\n   <g id=\"line2d_56\">\r\n    <path clip-path=\"url(#pfb918cef0e)\" d=\"M 0 0 \r\n\" style=\"fill:none;stroke:#424242;stroke-linecap:square;stroke-width:2.7;\"/>\r\n   </g>\r\n   <g id=\"line2d_57\">\r\n    <path clip-path=\"url(#pfb918cef0e)\" d=\"M 0 0 \r\n\" style=\"fill:none;stroke:#424242;stroke-linecap:square;stroke-width:2.7;\"/>\r\n   </g>\r\n   <g id=\"line2d_58\">\r\n    <path clip-path=\"url(#pfb918cef0e)\" d=\"M 0 0 \r\n\" style=\"fill:none;stroke:#424242;stroke-linecap:square;stroke-width:2.7;\"/>\r\n   </g>\r\n   <g id=\"line2d_59\">\r\n    <path clip-path=\"url(#pfb918cef0e)\" d=\"M 0 0 \r\n\" style=\"fill:none;stroke:#424242;stroke-linecap:square;stroke-width:2.7;\"/>\r\n   </g>\r\n   <g id=\"line2d_60\">\r\n    <path clip-path=\"url(#pfb918cef0e)\" d=\"M 0 0 \r\n\" style=\"fill:none;stroke:#424242;stroke-linecap:square;stroke-width:2.7;\"/>\r\n   </g>\r\n   <g id=\"line2d_61\">\r\n    <path clip-path=\"url(#pfb918cef0e)\" d=\"M 0 0 \r\n\" style=\"fill:none;stroke:#424242;stroke-linecap:square;stroke-width:2.7;\"/>\r\n   </g>\r\n   <g id=\"line2d_62\">\r\n    <path clip-path=\"url(#pfb918cef0e)\" d=\"M 0 0 \r\n\" style=\"fill:none;stroke:#424242;stroke-linecap:square;stroke-width:2.7;\"/>\r\n   </g>\r\n   <g id=\"line2d_63\">\r\n    <path clip-path=\"url(#pfb918cef0e)\" d=\"M 0 0 \r\n\" style=\"fill:none;stroke:#424242;stroke-linecap:square;stroke-width:2.7;\"/>\r\n   </g>\r\n   <g id=\"line2d_64\">\r\n    <path clip-path=\"url(#pfb918cef0e)\" d=\"M 0 0 \r\n\" style=\"fill:none;stroke:#424242;stroke-linecap:square;stroke-width:2.7;\"/>\r\n   </g>\r\n   <g id=\"line2d_65\">\r\n    <path clip-path=\"url(#pfb918cef0e)\" d=\"M 0 0 \r\n\" style=\"fill:none;stroke:#424242;stroke-linecap:square;stroke-width:2.7;\"/>\r\n   </g>\r\n   <g id=\"line2d_66\">\r\n    <path clip-path=\"url(#pfb918cef0e)\" d=\"M 0 0 \r\n\" style=\"fill:none;stroke:#424242;stroke-linecap:square;stroke-width:2.7;\"/>\r\n   </g>\r\n   <g id=\"line2d_67\">\r\n    <path clip-path=\"url(#pfb918cef0e)\" d=\"M 0 0 \r\n\" style=\"fill:none;stroke:#424242;stroke-linecap:square;stroke-width:2.7;\"/>\r\n   </g>\r\n   <g id=\"line2d_68\">\r\n    <path clip-path=\"url(#pfb918cef0e)\" d=\"M 0 0 \r\n\" style=\"fill:none;stroke:#424242;stroke-linecap:square;stroke-width:2.7;\"/>\r\n   </g>\r\n   <g id=\"line2d_69\">\r\n    <path clip-path=\"url(#pfb918cef0e)\" d=\"M 0 0 \r\n\" style=\"fill:none;stroke:#424242;stroke-linecap:square;stroke-width:2.7;\"/>\r\n   </g>\r\n   <g id=\"line2d_70\">\r\n    <path clip-path=\"url(#pfb918cef0e)\" d=\"M 0 0 \r\n\" style=\"fill:none;stroke:#424242;stroke-linecap:square;stroke-width:2.7;\"/>\r\n   </g>\r\n   <g id=\"line2d_71\">\r\n    <path clip-path=\"url(#pfb918cef0e)\" d=\"M 0 0 \r\n\" style=\"fill:none;stroke:#424242;stroke-linecap:square;stroke-width:2.7;\"/>\r\n   </g>\r\n   <g id=\"line2d_72\">\r\n    <path clip-path=\"url(#pfb918cef0e)\" d=\"M 0 0 \r\n\" style=\"fill:none;stroke:#424242;stroke-linecap:square;stroke-width:2.7;\"/>\r\n   </g>\r\n   <g id=\"line2d_73\">\r\n    <path clip-path=\"url(#pfb918cef0e)\" d=\"M 0 0 \r\n\" style=\"fill:none;stroke:#424242;stroke-linecap:square;stroke-width:2.7;\"/>\r\n   </g>\r\n   <g id=\"line2d_74\">\r\n    <path clip-path=\"url(#pfb918cef0e)\" d=\"M 0 0 \r\n\" style=\"fill:none;stroke:#424242;stroke-linecap:square;stroke-width:2.7;\"/>\r\n   </g>\r\n   <g id=\"line2d_75\">\r\n    <path clip-path=\"url(#pfb918cef0e)\" d=\"M 0 0 \r\n\" style=\"fill:none;stroke:#424242;stroke-linecap:square;stroke-width:2.7;\"/>\r\n   </g>\r\n   <g id=\"line2d_76\">\r\n    <path clip-path=\"url(#pfb918cef0e)\" d=\"M 0 0 \r\n\" style=\"fill:none;stroke:#424242;stroke-linecap:square;stroke-width:2.7;\"/>\r\n   </g>\r\n   <g id=\"line2d_77\">\r\n    <path clip-path=\"url(#pfb918cef0e)\" d=\"M 0 0 \r\n\" style=\"fill:none;stroke:#424242;stroke-linecap:square;stroke-width:2.7;\"/>\r\n   </g>\r\n   <g id=\"line2d_78\">\r\n    <path clip-path=\"url(#pfb918cef0e)\" d=\"M 0 0 \r\n\" style=\"fill:none;stroke:#424242;stroke-linecap:square;stroke-width:2.7;\"/>\r\n   </g>\r\n   <g id=\"line2d_79\">\r\n    <path clip-path=\"url(#pfb918cef0e)\" d=\"M 0 0 \r\n\" style=\"fill:none;stroke:#424242;stroke-linecap:square;stroke-width:2.7;\"/>\r\n   </g>\r\n   <g id=\"line2d_80\">\r\n    <path clip-path=\"url(#pfb918cef0e)\" d=\"M 0 0 \r\n\" style=\"fill:none;stroke:#424242;stroke-linecap:square;stroke-width:2.7;\"/>\r\n   </g>\r\n   <g id=\"patch_40\">\r\n    <path d=\"M 34.240625 452.678438 \r\nL 34.240625 17.798437 \r\n\" style=\"fill:none;stroke:#000000;stroke-linecap:square;stroke-linejoin:miter;stroke-width:0.8;\"/>\r\n   </g>\r\n   <g id=\"patch_41\">\r\n    <path d=\"M 703.840625 452.678438 \r\nL 703.840625 17.798437 \r\n\" style=\"fill:none;stroke:#000000;stroke-linecap:square;stroke-linejoin:miter;stroke-width:0.8;\"/>\r\n   </g>\r\n   <g id=\"patch_42\">\r\n    <path d=\"M 34.240625 452.678438 \r\nL 703.840625 452.678438 \r\n\" style=\"fill:none;stroke:#000000;stroke-linecap:square;stroke-linejoin:miter;stroke-width:0.8;\"/>\r\n   </g>\r\n   <g id=\"patch_43\">\r\n    <path d=\"M 34.240625 17.798437 \r\nL 703.840625 17.798437 \r\n\" style=\"fill:none;stroke:#000000;stroke-linecap:square;stroke-linejoin:miter;stroke-width:0.8;\"/>\r\n   </g>\r\n  </g>\r\n </g>\r\n <defs>\r\n  <clipPath id=\"pfb918cef0e\">\r\n   <rect height=\"434.88\" width=\"669.6\" x=\"34.240625\" y=\"17.798437\"/>\r\n  </clipPath>\r\n </defs>\r\n</svg>\r\n",
            "image/png": "[encoded data removed]"
          },
          "metadata": {
            "needs_background": "light"
          }
        }
      ],
      "metadata": {}
    },
    {
      "cell_type": "markdown",
      "source": [
        "3. Visualize total cost per country"
      ],
      "metadata": {
        "id": "2TD66fT3iqa8"
      }
    },
    {
      "cell_type": "code",
      "execution_count": 61,
      "source": [
        "plt.figure(figsize=(12,8))\r\n",
        "sns.barplot(x=\"Country\", y=\"UnitPrice\", data=df, estimator=np.sum)\r\n",
        "plt.xticks(rotation=90);"
      ],
      "outputs": [
        {
          "output_type": "display_data",
          "data": {
            "text/plain": [
              "<Figure size 864x576 with 1 Axes>"
            ],
            "image/svg+xml": "<?xml version=\"1.0\" encoding=\"utf-8\" standalone=\"no\"?>\r\n<!DOCTYPE svg PUBLIC \"-//W3C//DTD SVG 1.1//EN\"\r\n  \"http://www.w3.org/Graphics/SVG/1.1/DTD/svg11.dtd\">\r\n<!-- Created with matplotlib (https://matplotlib.org/) -->\r\n<svg height=\"589.237813pt\" version=\"1.1\" viewBox=\"0 0 720.58125 589.237813\" width=\"720.58125pt\" xmlns=\"http://www.w3.org/2000/svg\" xmlns:xlink=\"http://www.w3.org/1999/xlink\">\r\n <metadata>\r\n  <rdf:RDF xmlns:cc=\"http://creativecommons.org/ns#\" xmlns:dc=\"http://purl.org/dc/elements/1.1/\" xmlns:rdf=\"http://www.w3.org/1999/02/22-rdf-syntax-ns#\">\r\n   <cc:Work>\r\n    <dc:type rdf:resource=\"http://purl.org/dc/dcmitype/StillImage\"/>\r\n    <dc:date>2021-08-22T12:57:14.572654</dc:date>\r\n    <dc:format>image/svg+xml</dc:format>\r\n    <dc:creator>\r\n     <cc:Agent>\r\n      <dc:title>Matplotlib v3.3.4, https://matplotlib.org/</dc:title>\r\n     </cc:Agent>\r\n    </dc:creator>\r\n   </cc:Work>\r\n  </rdf:RDF>\r\n </metadata>\r\n <defs>\r\n  <style type=\"text/css\">*{stroke-linecap:butt;stroke-linejoin:round;}</style>\r\n </defs>\r\n <g id=\"figure_1\">\r\n  <g id=\"patch_1\">\r\n   <path d=\"M 0 589.237813 \r\nL 720.58125 589.237813 \r\nL 720.58125 0 \r\nL 0 0 \r\nz\r\n\" style=\"fill:none;\"/>\r\n  </g>\r\n  <g id=\"axes_1\">\r\n   <g id=\"patch_2\">\r\n    <path d=\"M 43.78125 452.678438 \r\nL 713.38125 452.678438 \r\nL 713.38125 17.798437 \r\nL 43.78125 17.798437 \r\nz\r\n\" style=\"fill:#ffffff;\"/>\r\n   </g>\r\n   <g id=\"patch_3\">\r\n    <path clip-path=\"url(#p8856caebd0)\" d=\"M 45.59098 452.678438 \r\nL 60.068818 452.678438 \r\nL 60.068818 69.30689 \r\nL 45.59098 69.30689 \r\nz\r\n\" style=\"fill:#ea96a3;\"/>\r\n   </g>\r\n   <g id=\"patch_4\">\r\n    <path clip-path=\"url(#p8856caebd0)\" d=\"M 63.688277 452.678438 \r\nL 78.166115 452.678438 \r\nL 78.166115 438.729587 \r\nL 63.688277 438.729587 \r\nz\r\n\" style=\"fill:#ea9795;\"/>\r\n   </g>\r\n   <g id=\"patch_5\">\r\n    <path clip-path=\"url(#p8856caebd0)\" d=\"M 81.785574 452.678438 \r\nL 96.263412 452.678438 \r\nL 96.263412 451.359159 \r\nL 81.785574 451.359159 \r\nz\r\n\" style=\"fill:#e7967f;\"/>\r\n   </g>\r\n   <g id=\"patch_6\">\r\n    <path clip-path=\"url(#p8856caebd0)\" d=\"M 99.882872 452.678438 \r\nL 114.360709 452.678438 \r\nL 114.360709 450.565981 \r\nL 99.882872 450.565981 \r\nz\r\n\" style=\"fill:#e19258;\"/>\r\n   </g>\r\n   <g id=\"patch_7\">\r\n    <path clip-path=\"url(#p8856caebd0)\" d=\"M 117.980169 452.678438 \r\nL 132.458007 452.678438 \r\nL 132.458007 440.423196 \r\nL 117.980169 440.423196 \r\nz\r\n\" style=\"fill:#d3954d;\"/>\r\n   </g>\r\n   <g id=\"patch_8\">\r\n    <path clip-path=\"url(#p8856caebd0)\" d=\"M 136.077466 452.678438 \r\nL 150.555304 452.678438 \r\nL 150.555304 450.554102 \r\nL 136.077466 450.554102 \r\nz\r\n\" style=\"fill:#c6994b;\"/>\r\n   </g>\r\n   <g id=\"patch_9\">\r\n    <path clip-path=\"url(#p8856caebd0)\" d=\"M 154.174764 452.678438 \r\nL 168.652601 452.678438 \r\nL 168.652601 440.232017 \r\nL 154.174764 440.232017 \r\nz\r\n\" style=\"fill:#ba9b49;\"/>\r\n   </g>\r\n   <g id=\"patch_10\">\r\n    <path clip-path=\"url(#p8856caebd0)\" d=\"M 172.272061 452.678438 \r\nL 186.749899 452.678438 \r\nL 186.749899 450.541237 \r\nL 172.272061 450.541237 \r\nz\r\n\" style=\"fill:#b09d48;\"/>\r\n   </g>\r\n   <g id=\"patch_11\">\r\n    <path clip-path=\"url(#p8856caebd0)\" d=\"M 190.369358 452.678438 \r\nL 204.847196 452.678438 \r\nL 204.847196 448.56794 \r\nL 190.369358 448.56794 \r\nz\r\n\" style=\"fill:#a59f46;\"/>\r\n   </g>\r\n   <g id=\"patch_12\">\r\n    <path clip-path=\"url(#p8856caebd0)\" d=\"M 208.466655 452.678438 \r\nL 222.944493 452.678438 \r\nL 222.944493 452.215679 \r\nL 208.466655 452.215679 \r\nz\r\n\" style=\"fill:#9aa146;\"/>\r\n   </g>\r\n   <g id=\"patch_13\">\r\n    <path clip-path=\"url(#p8856caebd0)\" d=\"M 226.563953 452.678438 \r\nL 241.041791 452.678438 \r\nL 241.041791 448.471499 \r\nL 226.563953 448.471499 \r\nz\r\n\" style=\"fill:#8fa546;\"/>\r\n   </g>\r\n   <g id=\"patch_14\">\r\n    <path clip-path=\"url(#p8856caebd0)\" d=\"M 244.66125 452.678438 \r\nL 259.139088 452.678438 \r\nL 259.139088 451.416215 \r\nL 244.66125 451.416215 \r\nz\r\n\" style=\"fill:#81a846;\"/>\r\n   </g>\r\n   <g id=\"patch_15\">\r\n    <path clip-path=\"url(#p8856caebd0)\" d=\"M 262.758547 452.678438 \r\nL 277.236385 452.678438 \r\nL 277.236385 450.225134 \r\nL 262.758547 450.225134 \r\nz\r\n\" style=\"fill:#6bad47;\"/>\r\n   </g>\r\n   <g id=\"patch_16\">\r\n    <path clip-path=\"url(#p8856caebd0)\" d=\"M 280.855845 452.678438 \r\nL 295.333682 452.678438 \r\nL 295.333682 452.646083 \r\nL 280.855845 452.646083 \r\nz\r\n\" style=\"fill:#48b055;\"/>\r\n   </g>\r\n   <g id=\"patch_17\">\r\n    <path clip-path=\"url(#p8856caebd0)\" d=\"M 298.953142 452.678438 \r\nL 313.43098 452.678438 \r\nL 313.43098 452.41331 \r\nL 298.953142 452.41331 \r\nz\r\n\" style=\"fill:#49af75;\"/>\r\n   </g>\r\n   <g id=\"patch_18\">\r\n    <path clip-path=\"url(#p8856caebd0)\" d=\"M 317.050439 452.678438 \r\nL 331.528277 452.678438 \r\nL 331.528277 452.521868 \r\nL 317.050439 452.521868 \r\nz\r\n\" style=\"fill:#49ae85;\"/>\r\n   </g>\r\n   <g id=\"patch_19\">\r\n    <path clip-path=\"url(#p8856caebd0)\" d=\"M 335.147736 452.678438 \r\nL 349.625574 452.678438 \r\nL 349.625574 451.46204 \r\nL 335.147736 451.46204 \r\nz\r\n\" style=\"fill:#4aad91;\"/>\r\n   </g>\r\n   <g id=\"patch_20\">\r\n    <path clip-path=\"url(#p8856caebd0)\" d=\"M 353.245034 452.678438 \r\nL 367.722872 452.678438 \r\nL 367.722872 452.266215 \r\nL 353.245034 452.266215 \r\nz\r\n\" style=\"fill:#4aac99;\"/>\r\n   </g>\r\n   <g id=\"patch_21\">\r\n    <path clip-path=\"url(#p8856caebd0)\" d=\"M 371.342331 452.678438 \r\nL 385.820169 452.678438 \r\nL 385.820169 451.402979 \r\nL 371.342331 451.402979 \r\nz\r\n\" style=\"fill:#4baca1;\"/>\r\n   </g>\r\n   <g id=\"patch_22\">\r\n    <path clip-path=\"url(#p8856caebd0)\" d=\"M 389.439628 452.678438 \r\nL 403.917466 452.678438 \r\nL 403.917466 452.090556 \r\nL 389.439628 452.090556 \r\nz\r\n\" style=\"fill:#4baba8;\"/>\r\n   </g>\r\n   <g id=\"patch_23\">\r\n    <path clip-path=\"url(#p8856caebd0)\" d=\"M 407.536926 452.678438 \r\nL 422.014764 452.678438 \r\nL 422.014764 452.12482 \r\nL 407.536926 452.12482 \r\nz\r\n\" style=\"fill:#4cabaf;\"/>\r\n   </g>\r\n   <g id=\"patch_24\">\r\n    <path clip-path=\"url(#p8856caebd0)\" d=\"M 425.634223 452.678438 \r\nL 440.112061 452.678438 \r\nL 440.112061 452.381541 \r\nL 425.634223 452.381541 \r\nz\r\n\" style=\"fill:#4eabb7;\"/>\r\n   </g>\r\n   <g id=\"patch_25\">\r\n    <path clip-path=\"url(#p8856caebd0)\" d=\"M 443.73152 452.678438 \r\nL 458.209358 452.678438 \r\nL 458.209358 451.446325 \r\nL 443.73152 451.446325 \r\nz\r\n\" style=\"fill:#50acc1;\"/>\r\n   </g>\r\n   <g id=\"patch_26\">\r\n    <path clip-path=\"url(#p8856caebd0)\" d=\"M 461.828818 452.678438 \r\nL 476.306655 452.678438 \r\nL 476.306655 452.446357 \r\nL 461.828818 452.446357 \r\nz\r\n\" style=\"fill:#53accc;\"/>\r\n   </g>\r\n   <g id=\"patch_27\">\r\n    <path clip-path=\"url(#p8856caebd0)\" d=\"M 479.926115 452.678438 \r\nL 494.403953 452.678438 \r\nL 494.403953 444.508854 \r\nL 479.926115 444.508854 \r\nz\r\n\" style=\"fill:#56adda;\"/>\r\n   </g>\r\n   <g id=\"patch_28\">\r\n    <path clip-path=\"url(#p8856caebd0)\" d=\"M 498.023412 452.678438 \r\nL 512.50125 452.678438 \r\nL 512.50125 452.599556 \r\nL 498.023412 452.599556 \r\nz\r\n\" style=\"fill:#7aaee4;\"/>\r\n   </g>\r\n   <g id=\"patch_29\">\r\n    <path clip-path=\"url(#p8856caebd0)\" d=\"M 516.120709 452.678438 \r\nL 530.598547 452.678438 \r\nL 530.598547 452.603639 \r\nL 516.120709 452.603639 \r\nz\r\n\" style=\"fill:#96ade8;\"/>\r\n   </g>\r\n   <g id=\"patch_30\">\r\n    <path clip-path=\"url(#p8856caebd0)\" d=\"M 534.218007 452.678438 \r\nL 548.695845 452.678438 \r\nL 548.695845 452.670593 \r\nL 534.218007 452.670593 \r\nz\r\n\" style=\"fill:#abaceb;\"/>\r\n   </g>\r\n   <g id=\"patch_31\">\r\n    <path clip-path=\"url(#p8856caebd0)\" d=\"M 552.315304 452.678438 \r\nL 566.793142 452.678438 \r\nL 566.793142 452.649756 \r\nL 552.315304 452.649756 \r\nz\r\n\" style=\"fill:#b9a6eb;\"/>\r\n   </g>\r\n   <g id=\"patch_32\">\r\n    <path clip-path=\"url(#p8856caebd0)\" d=\"M 570.412601 452.678438 \r\nL 584.890439 452.678438 \r\nL 584.890439 452.382166 \r\nL 570.412601 452.382166 \r\nz\r\n\" style=\"fill:#c6a0ea;\"/>\r\n   </g>\r\n   <g id=\"patch_33\">\r\n    <path clip-path=\"url(#p8856caebd0)\" d=\"M 588.509899 452.678438 \r\nL 602.987736 452.678438 \r\nL 602.987736 452.424327 \r\nL 588.509899 452.424327 \r\nz\r\n\" style=\"fill:#d398e8;\"/>\r\n   </g>\r\n   <g id=\"patch_34\">\r\n    <path clip-path=\"url(#p8856caebd0)\" d=\"M 606.607196 452.678438 \r\nL 621.085034 452.678438 \r\nL 621.085034 452.63204 \r\nL 606.607196 452.63204 \r\nz\r\n\" style=\"fill:#e18de7;\"/>\r\n   </g>\r\n   <g id=\"patch_35\">\r\n    <path clip-path=\"url(#p8856caebd0)\" d=\"M 624.704493 452.678438 \r\nL 639.182331 452.678438 \r\nL 639.182331 452.468583 \r\nL 624.704493 452.468583 \r\nz\r\n\" style=\"fill:#e78bdc;\"/>\r\n   </g>\r\n   <g id=\"patch_36\">\r\n    <path clip-path=\"url(#p8856caebd0)\" d=\"M 642.801791 452.678438 \r\nL 657.279628 452.678438 \r\nL 657.279628 452.582764 \r\nL 642.801791 452.582764 \r\nz\r\n\" style=\"fill:#e88ed0;\"/>\r\n   </g>\r\n   <g id=\"patch_37\">\r\n    <path clip-path=\"url(#p8856caebd0)\" d=\"M 660.899088 452.678438 \r\nL 675.376926 452.678438 \r\nL 675.376926 452.65275 \r\nL 660.899088 452.65275 \r\nz\r\n\" style=\"fill:#e890c5;\"/>\r\n   </g>\r\n   <g id=\"patch_38\">\r\n    <path clip-path=\"url(#p8856caebd0)\" d=\"M 678.996385 452.678438 \r\nL 693.474223 452.678438 \r\nL 693.474223 452.46174 \r\nL 678.996385 452.46174 \r\nz\r\n\" style=\"fill:#e992ba;\"/>\r\n   </g>\r\n   <g id=\"patch_39\">\r\n    <path clip-path=\"url(#p8856caebd0)\" d=\"M 697.093682 452.678438 \r\nL 711.57152 452.678438 \r\nL 711.57152 452.597714 \r\nL 697.093682 452.597714 \r\nz\r\n\" style=\"fill:#e994b0;\"/>\r\n   </g>\r\n   <g id=\"matplotlib.axis_1\">\r\n    <g id=\"xtick_1\">\r\n     <g id=\"line2d_1\">\r\n      <defs>\r\n       <path d=\"M 0 0 \r\nL 0 3.5 \r\n\" id=\"m9e4a3c6073\" style=\"stroke:#000000;stroke-width:0.8;\"/>\r\n      </defs>\r\n      <g>\r\n       <use style=\"stroke:#000000;stroke-width:0.8;\" x=\"52.829899\" xlink:href=\"#m9e4a3c6073\" y=\"452.678438\"/>\r\n      </g>\r\n     </g>\r\n     <g id=\"text_1\">\r\n      <!-- United Kingdom -->\r\n      <g transform=\"translate(55.589274 539.9425)rotate(-90)scale(0.1 -0.1)\">\r\n       <defs>\r\n        <path d=\"M 8.6875 72.90625 \r\nL 18.609375 72.90625 \r\nL 18.609375 28.609375 \r\nQ 18.609375 16.890625 22.84375 11.734375 \r\nQ 27.09375 6.59375 36.625 6.59375 \r\nQ 46.09375 6.59375 50.34375 11.734375 \r\nQ 54.59375 16.890625 54.59375 28.609375 \r\nL 54.59375 72.90625 \r\nL 64.5 72.90625 \r\nL 64.5 27.390625 \r\nQ 64.5 13.140625 57.4375 5.859375 \r\nQ 50.390625 -1.421875 36.625 -1.421875 \r\nQ 22.796875 -1.421875 15.734375 5.859375 \r\nQ 8.6875 13.140625 8.6875 27.390625 \r\nz\r\n\" id=\"DejaVuSans-85\"/>\r\n        <path d=\"M 54.890625 33.015625 \r\nL 54.890625 0 \r\nL 45.90625 0 \r\nL 45.90625 32.71875 \r\nQ 45.90625 40.484375 42.875 44.328125 \r\nQ 39.84375 48.1875 33.796875 48.1875 \r\nQ 26.515625 48.1875 22.3125 43.546875 \r\nQ 18.109375 38.921875 18.109375 30.90625 \r\nL 18.109375 0 \r\nL 9.078125 0 \r\nL 9.078125 54.6875 \r\nL 18.109375 54.6875 \r\nL 18.109375 46.1875 \r\nQ 21.34375 51.125 25.703125 53.5625 \r\nQ 30.078125 56 35.796875 56 \r\nQ 45.21875 56 50.046875 50.171875 \r\nQ 54.890625 44.34375 54.890625 33.015625 \r\nz\r\n\" id=\"DejaVuSans-110\"/>\r\n        <path d=\"M 9.421875 54.6875 \r\nL 18.40625 54.6875 \r\nL 18.40625 0 \r\nL 9.421875 0 \r\nz\r\nM 9.421875 75.984375 \r\nL 18.40625 75.984375 \r\nL 18.40625 64.59375 \r\nL 9.421875 64.59375 \r\nz\r\n\" id=\"DejaVuSans-105\"/>\r\n        <path d=\"M 18.3125 70.21875 \r\nL 18.3125 54.6875 \r\nL 36.8125 54.6875 \r\nL 36.8125 47.703125 \r\nL 18.3125 47.703125 \r\nL 18.3125 18.015625 \r\nQ 18.3125 11.328125 20.140625 9.421875 \r\nQ 21.96875 7.515625 27.59375 7.515625 \r\nL 36.8125 7.515625 \r\nL 36.8125 0 \r\nL 27.59375 0 \r\nQ 17.1875 0 13.234375 3.875 \r\nQ 9.28125 7.765625 9.28125 18.015625 \r\nL 9.28125 47.703125 \r\nL 2.6875 47.703125 \r\nL 2.6875 54.6875 \r\nL 9.28125 54.6875 \r\nL 9.28125 70.21875 \r\nz\r\n\" id=\"DejaVuSans-116\"/>\r\n        <path d=\"M 56.203125 29.59375 \r\nL 56.203125 25.203125 \r\nL 14.890625 25.203125 \r\nQ 15.484375 15.921875 20.484375 11.0625 \r\nQ 25.484375 6.203125 34.421875 6.203125 \r\nQ 39.59375 6.203125 44.453125 7.46875 \r\nQ 49.3125 8.734375 54.109375 11.28125 \r\nL 54.109375 2.78125 \r\nQ 49.265625 0.734375 44.1875 -0.34375 \r\nQ 39.109375 -1.421875 33.890625 -1.421875 \r\nQ 20.796875 -1.421875 13.15625 6.1875 \r\nQ 5.515625 13.8125 5.515625 26.8125 \r\nQ 5.515625 40.234375 12.765625 48.109375 \r\nQ 20.015625 56 32.328125 56 \r\nQ 43.359375 56 49.78125 48.890625 \r\nQ 56.203125 41.796875 56.203125 29.59375 \r\nz\r\nM 47.21875 32.234375 \r\nQ 47.125 39.59375 43.09375 43.984375 \r\nQ 39.0625 48.390625 32.421875 48.390625 \r\nQ 24.90625 48.390625 20.390625 44.140625 \r\nQ 15.875 39.890625 15.1875 32.171875 \r\nz\r\n\" id=\"DejaVuSans-101\"/>\r\n        <path d=\"M 45.40625 46.390625 \r\nL 45.40625 75.984375 \r\nL 54.390625 75.984375 \r\nL 54.390625 0 \r\nL 45.40625 0 \r\nL 45.40625 8.203125 \r\nQ 42.578125 3.328125 38.25 0.953125 \r\nQ 33.9375 -1.421875 27.875 -1.421875 \r\nQ 17.96875 -1.421875 11.734375 6.484375 \r\nQ 5.515625 14.40625 5.515625 27.296875 \r\nQ 5.515625 40.1875 11.734375 48.09375 \r\nQ 17.96875 56 27.875 56 \r\nQ 33.9375 56 38.25 53.625 \r\nQ 42.578125 51.265625 45.40625 46.390625 \r\nz\r\nM 14.796875 27.296875 \r\nQ 14.796875 17.390625 18.875 11.75 \r\nQ 22.953125 6.109375 30.078125 6.109375 \r\nQ 37.203125 6.109375 41.296875 11.75 \r\nQ 45.40625 17.390625 45.40625 27.296875 \r\nQ 45.40625 37.203125 41.296875 42.84375 \r\nQ 37.203125 48.484375 30.078125 48.484375 \r\nQ 22.953125 48.484375 18.875 42.84375 \r\nQ 14.796875 37.203125 14.796875 27.296875 \r\nz\r\n\" id=\"DejaVuSans-100\"/>\r\n        <path id=\"DejaVuSans-32\"/>\r\n        <path d=\"M 9.8125 72.90625 \r\nL 19.671875 72.90625 \r\nL 19.671875 42.09375 \r\nL 52.390625 72.90625 \r\nL 65.09375 72.90625 \r\nL 28.90625 38.921875 \r\nL 67.671875 0 \r\nL 54.6875 0 \r\nL 19.671875 35.109375 \r\nL 19.671875 0 \r\nL 9.8125 0 \r\nz\r\n\" id=\"DejaVuSans-75\"/>\r\n        <path d=\"M 45.40625 27.984375 \r\nQ 45.40625 37.75 41.375 43.109375 \r\nQ 37.359375 48.484375 30.078125 48.484375 \r\nQ 22.859375 48.484375 18.828125 43.109375 \r\nQ 14.796875 37.75 14.796875 27.984375 \r\nQ 14.796875 18.265625 18.828125 12.890625 \r\nQ 22.859375 7.515625 30.078125 7.515625 \r\nQ 37.359375 7.515625 41.375 12.890625 \r\nQ 45.40625 18.265625 45.40625 27.984375 \r\nz\r\nM 54.390625 6.78125 \r\nQ 54.390625 -7.171875 48.1875 -13.984375 \r\nQ 42 -20.796875 29.203125 -20.796875 \r\nQ 24.46875 -20.796875 20.265625 -20.09375 \r\nQ 16.0625 -19.390625 12.109375 -17.921875 \r\nL 12.109375 -9.1875 \r\nQ 16.0625 -11.328125 19.921875 -12.34375 \r\nQ 23.78125 -13.375 27.78125 -13.375 \r\nQ 36.625 -13.375 41.015625 -8.765625 \r\nQ 45.40625 -4.15625 45.40625 5.171875 \r\nL 45.40625 9.625 \r\nQ 42.625 4.78125 38.28125 2.390625 \r\nQ 33.9375 0 27.875 0 \r\nQ 17.828125 0 11.671875 7.65625 \r\nQ 5.515625 15.328125 5.515625 27.984375 \r\nQ 5.515625 40.671875 11.671875 48.328125 \r\nQ 17.828125 56 27.875 56 \r\nQ 33.9375 56 38.28125 53.609375 \r\nQ 42.625 51.21875 45.40625 46.390625 \r\nL 45.40625 54.6875 \r\nL 54.390625 54.6875 \r\nz\r\n\" id=\"DejaVuSans-103\"/>\r\n        <path d=\"M 30.609375 48.390625 \r\nQ 23.390625 48.390625 19.1875 42.75 \r\nQ 14.984375 37.109375 14.984375 27.296875 \r\nQ 14.984375 17.484375 19.15625 11.84375 \r\nQ 23.34375 6.203125 30.609375 6.203125 \r\nQ 37.796875 6.203125 41.984375 11.859375 \r\nQ 46.1875 17.53125 46.1875 27.296875 \r\nQ 46.1875 37.015625 41.984375 42.703125 \r\nQ 37.796875 48.390625 30.609375 48.390625 \r\nz\r\nM 30.609375 56 \r\nQ 42.328125 56 49.015625 48.375 \r\nQ 55.71875 40.765625 55.71875 27.296875 \r\nQ 55.71875 13.875 49.015625 6.21875 \r\nQ 42.328125 -1.421875 30.609375 -1.421875 \r\nQ 18.84375 -1.421875 12.171875 6.21875 \r\nQ 5.515625 13.875 5.515625 27.296875 \r\nQ 5.515625 40.765625 12.171875 48.375 \r\nQ 18.84375 56 30.609375 56 \r\nz\r\n\" id=\"DejaVuSans-111\"/>\r\n        <path d=\"M 52 44.1875 \r\nQ 55.375 50.25 60.0625 53.125 \r\nQ 64.75 56 71.09375 56 \r\nQ 79.640625 56 84.28125 50.015625 \r\nQ 88.921875 44.046875 88.921875 33.015625 \r\nL 88.921875 0 \r\nL 79.890625 0 \r\nL 79.890625 32.71875 \r\nQ 79.890625 40.578125 77.09375 44.375 \r\nQ 74.3125 48.1875 68.609375 48.1875 \r\nQ 61.625 48.1875 57.5625 43.546875 \r\nQ 53.515625 38.921875 53.515625 30.90625 \r\nL 53.515625 0 \r\nL 44.484375 0 \r\nL 44.484375 32.71875 \r\nQ 44.484375 40.625 41.703125 44.40625 \r\nQ 38.921875 48.1875 33.109375 48.1875 \r\nQ 26.21875 48.1875 22.15625 43.53125 \r\nQ 18.109375 38.875 18.109375 30.90625 \r\nL 18.109375 0 \r\nL 9.078125 0 \r\nL 9.078125 54.6875 \r\nL 18.109375 54.6875 \r\nL 18.109375 46.1875 \r\nQ 21.1875 51.21875 25.484375 53.609375 \r\nQ 29.78125 56 35.6875 56 \r\nQ 41.65625 56 45.828125 52.96875 \r\nQ 50 49.953125 52 44.1875 \r\nz\r\n\" id=\"DejaVuSans-109\"/>\r\n       </defs>\r\n       <use xlink:href=\"#DejaVuSans-85\"/>\r\n       <use x=\"73.193359\" xlink:href=\"#DejaVuSans-110\"/>\r\n       <use x=\"136.572266\" xlink:href=\"#DejaVuSans-105\"/>\r\n       <use x=\"164.355469\" xlink:href=\"#DejaVuSans-116\"/>\r\n       <use x=\"203.564453\" xlink:href=\"#DejaVuSans-101\"/>\r\n       <use x=\"265.087891\" xlink:href=\"#DejaVuSans-100\"/>\r\n       <use x=\"328.564453\" xlink:href=\"#DejaVuSans-32\"/>\r\n       <use x=\"360.351562\" xlink:href=\"#DejaVuSans-75\"/>\r\n       <use x=\"425.927734\" xlink:href=\"#DejaVuSans-105\"/>\r\n       <use x=\"453.710938\" xlink:href=\"#DejaVuSans-110\"/>\r\n       <use x=\"517.089844\" xlink:href=\"#DejaVuSans-103\"/>\r\n       <use x=\"580.566406\" xlink:href=\"#DejaVuSans-100\"/>\r\n       <use x=\"644.042969\" xlink:href=\"#DejaVuSans-111\"/>\r\n       <use x=\"705.224609\" xlink:href=\"#DejaVuSans-109\"/>\r\n      </g>\r\n     </g>\r\n    </g>\r\n    <g id=\"xtick_2\">\r\n     <g id=\"line2d_2\">\r\n      <g>\r\n       <use style=\"stroke:#000000;stroke-width:0.8;\" x=\"70.927196\" xlink:href=\"#m9e4a3c6073\" y=\"452.678438\"/>\r\n      </g>\r\n     </g>\r\n     <g id=\"text_2\">\r\n      <!-- France -->\r\n      <g transform=\"translate(73.686571 492.933125)rotate(-90)scale(0.1 -0.1)\">\r\n       <defs>\r\n        <path d=\"M 9.8125 72.90625 \r\nL 51.703125 72.90625 \r\nL 51.703125 64.59375 \r\nL 19.671875 64.59375 \r\nL 19.671875 43.109375 \r\nL 48.578125 43.109375 \r\nL 48.578125 34.8125 \r\nL 19.671875 34.8125 \r\nL 19.671875 0 \r\nL 9.8125 0 \r\nz\r\n\" id=\"DejaVuSans-70\"/>\r\n        <path d=\"M 41.109375 46.296875 \r\nQ 39.59375 47.171875 37.8125 47.578125 \r\nQ 36.03125 48 33.890625 48 \r\nQ 26.265625 48 22.1875 43.046875 \r\nQ 18.109375 38.09375 18.109375 28.8125 \r\nL 18.109375 0 \r\nL 9.078125 0 \r\nL 9.078125 54.6875 \r\nL 18.109375 54.6875 \r\nL 18.109375 46.1875 \r\nQ 20.953125 51.171875 25.484375 53.578125 \r\nQ 30.03125 56 36.53125 56 \r\nQ 37.453125 56 38.578125 55.875 \r\nQ 39.703125 55.765625 41.0625 55.515625 \r\nz\r\n\" id=\"DejaVuSans-114\"/>\r\n        <path d=\"M 34.28125 27.484375 \r\nQ 23.390625 27.484375 19.1875 25 \r\nQ 14.984375 22.515625 14.984375 16.5 \r\nQ 14.984375 11.71875 18.140625 8.90625 \r\nQ 21.296875 6.109375 26.703125 6.109375 \r\nQ 34.1875 6.109375 38.703125 11.40625 \r\nQ 43.21875 16.703125 43.21875 25.484375 \r\nL 43.21875 27.484375 \r\nz\r\nM 52.203125 31.203125 \r\nL 52.203125 0 \r\nL 43.21875 0 \r\nL 43.21875 8.296875 \r\nQ 40.140625 3.328125 35.546875 0.953125 \r\nQ 30.953125 -1.421875 24.3125 -1.421875 \r\nQ 15.921875 -1.421875 10.953125 3.296875 \r\nQ 6 8.015625 6 15.921875 \r\nQ 6 25.140625 12.171875 29.828125 \r\nQ 18.359375 34.515625 30.609375 34.515625 \r\nL 43.21875 34.515625 \r\nL 43.21875 35.40625 \r\nQ 43.21875 41.609375 39.140625 45 \r\nQ 35.0625 48.390625 27.6875 48.390625 \r\nQ 23 48.390625 18.546875 47.265625 \r\nQ 14.109375 46.140625 10.015625 43.890625 \r\nL 10.015625 52.203125 \r\nQ 14.9375 54.109375 19.578125 55.046875 \r\nQ 24.21875 56 28.609375 56 \r\nQ 40.484375 56 46.34375 49.84375 \r\nQ 52.203125 43.703125 52.203125 31.203125 \r\nz\r\n\" id=\"DejaVuSans-97\"/>\r\n        <path d=\"M 48.78125 52.59375 \r\nL 48.78125 44.1875 \r\nQ 44.96875 46.296875 41.140625 47.34375 \r\nQ 37.3125 48.390625 33.40625 48.390625 \r\nQ 24.65625 48.390625 19.8125 42.84375 \r\nQ 14.984375 37.3125 14.984375 27.296875 \r\nQ 14.984375 17.28125 19.8125 11.734375 \r\nQ 24.65625 6.203125 33.40625 6.203125 \r\nQ 37.3125 6.203125 41.140625 7.25 \r\nQ 44.96875 8.296875 48.78125 10.40625 \r\nL 48.78125 2.09375 \r\nQ 45.015625 0.34375 40.984375 -0.53125 \r\nQ 36.96875 -1.421875 32.421875 -1.421875 \r\nQ 20.0625 -1.421875 12.78125 6.34375 \r\nQ 5.515625 14.109375 5.515625 27.296875 \r\nQ 5.515625 40.671875 12.859375 48.328125 \r\nQ 20.21875 56 33.015625 56 \r\nQ 37.15625 56 41.109375 55.140625 \r\nQ 45.0625 54.296875 48.78125 52.59375 \r\nz\r\n\" id=\"DejaVuSans-99\"/>\r\n       </defs>\r\n       <use xlink:href=\"#DejaVuSans-70\"/>\r\n       <use x=\"50.269531\" xlink:href=\"#DejaVuSans-114\"/>\r\n       <use x=\"91.382812\" xlink:href=\"#DejaVuSans-97\"/>\r\n       <use x=\"152.662109\" xlink:href=\"#DejaVuSans-110\"/>\r\n       <use x=\"216.041016\" xlink:href=\"#DejaVuSans-99\"/>\r\n       <use x=\"271.021484\" xlink:href=\"#DejaVuSans-101\"/>\r\n      </g>\r\n     </g>\r\n    </g>\r\n    <g id=\"xtick_3\">\r\n     <g id=\"line2d_3\">\r\n      <g>\r\n       <use style=\"stroke:#000000;stroke-width:0.8;\" x=\"89.024493\" xlink:href=\"#m9e4a3c6073\" y=\"452.678438\"/>\r\n      </g>\r\n     </g>\r\n     <g id=\"text_3\">\r\n      <!-- Australia -->\r\n      <g transform=\"translate(91.783868 503.909688)rotate(-90)scale(0.1 -0.1)\">\r\n       <defs>\r\n        <path d=\"M 34.1875 63.1875 \r\nL 20.796875 26.90625 \r\nL 47.609375 26.90625 \r\nz\r\nM 28.609375 72.90625 \r\nL 39.796875 72.90625 \r\nL 67.578125 0 \r\nL 57.328125 0 \r\nL 50.6875 18.703125 \r\nL 17.828125 18.703125 \r\nL 11.1875 0 \r\nL 0.78125 0 \r\nz\r\n\" id=\"DejaVuSans-65\"/>\r\n        <path d=\"M 8.5 21.578125 \r\nL 8.5 54.6875 \r\nL 17.484375 54.6875 \r\nL 17.484375 21.921875 \r\nQ 17.484375 14.15625 20.5 10.265625 \r\nQ 23.53125 6.390625 29.59375 6.390625 \r\nQ 36.859375 6.390625 41.078125 11.03125 \r\nQ 45.3125 15.671875 45.3125 23.6875 \r\nL 45.3125 54.6875 \r\nL 54.296875 54.6875 \r\nL 54.296875 0 \r\nL 45.3125 0 \r\nL 45.3125 8.40625 \r\nQ 42.046875 3.421875 37.71875 1 \r\nQ 33.40625 -1.421875 27.6875 -1.421875 \r\nQ 18.265625 -1.421875 13.375 4.4375 \r\nQ 8.5 10.296875 8.5 21.578125 \r\nz\r\nM 31.109375 56 \r\nz\r\n\" id=\"DejaVuSans-117\"/>\r\n        <path d=\"M 44.28125 53.078125 \r\nL 44.28125 44.578125 \r\nQ 40.484375 46.53125 36.375 47.5 \r\nQ 32.28125 48.484375 27.875 48.484375 \r\nQ 21.1875 48.484375 17.84375 46.4375 \r\nQ 14.5 44.390625 14.5 40.28125 \r\nQ 14.5 37.15625 16.890625 35.375 \r\nQ 19.28125 33.59375 26.515625 31.984375 \r\nL 29.59375 31.296875 \r\nQ 39.15625 29.25 43.1875 25.515625 \r\nQ 47.21875 21.78125 47.21875 15.09375 \r\nQ 47.21875 7.46875 41.1875 3.015625 \r\nQ 35.15625 -1.421875 24.609375 -1.421875 \r\nQ 20.21875 -1.421875 15.453125 -0.5625 \r\nQ 10.6875 0.296875 5.421875 2 \r\nL 5.421875 11.28125 \r\nQ 10.40625 8.6875 15.234375 7.390625 \r\nQ 20.0625 6.109375 24.8125 6.109375 \r\nQ 31.15625 6.109375 34.5625 8.28125 \r\nQ 37.984375 10.453125 37.984375 14.40625 \r\nQ 37.984375 18.0625 35.515625 20.015625 \r\nQ 33.0625 21.96875 24.703125 23.78125 \r\nL 21.578125 24.515625 \r\nQ 13.234375 26.265625 9.515625 29.90625 \r\nQ 5.8125 33.546875 5.8125 39.890625 \r\nQ 5.8125 47.609375 11.28125 51.796875 \r\nQ 16.75 56 26.8125 56 \r\nQ 31.78125 56 36.171875 55.265625 \r\nQ 40.578125 54.546875 44.28125 53.078125 \r\nz\r\n\" id=\"DejaVuSans-115\"/>\r\n        <path d=\"M 9.421875 75.984375 \r\nL 18.40625 75.984375 \r\nL 18.40625 0 \r\nL 9.421875 0 \r\nz\r\n\" id=\"DejaVuSans-108\"/>\r\n       </defs>\r\n       <use xlink:href=\"#DejaVuSans-65\"/>\r\n       <use x=\"68.408203\" xlink:href=\"#DejaVuSans-117\"/>\r\n       <use x=\"131.787109\" xlink:href=\"#DejaVuSans-115\"/>\r\n       <use x=\"183.886719\" xlink:href=\"#DejaVuSans-116\"/>\r\n       <use x=\"223.095703\" xlink:href=\"#DejaVuSans-114\"/>\r\n       <use x=\"264.208984\" xlink:href=\"#DejaVuSans-97\"/>\r\n       <use x=\"325.488281\" xlink:href=\"#DejaVuSans-108\"/>\r\n       <use x=\"353.271484\" xlink:href=\"#DejaVuSans-105\"/>\r\n       <use x=\"381.054688\" xlink:href=\"#DejaVuSans-97\"/>\r\n      </g>\r\n     </g>\r\n    </g>\r\n    <g id=\"xtick_4\">\r\n     <g id=\"line2d_4\">\r\n      <g>\r\n       <use style=\"stroke:#000000;stroke-width:0.8;\" x=\"107.121791\" xlink:href=\"#m9e4a3c6073\" y=\"452.678438\"/>\r\n      </g>\r\n     </g>\r\n     <g id=\"text_4\">\r\n      <!-- Netherlands -->\r\n      <g transform=\"translate(109.881166 520.63625)rotate(-90)scale(0.1 -0.1)\">\r\n       <defs>\r\n        <path d=\"M 9.8125 72.90625 \r\nL 23.09375 72.90625 \r\nL 55.421875 11.921875 \r\nL 55.421875 72.90625 \r\nL 64.984375 72.90625 \r\nL 64.984375 0 \r\nL 51.703125 0 \r\nL 19.390625 60.984375 \r\nL 19.390625 0 \r\nL 9.8125 0 \r\nz\r\n\" id=\"DejaVuSans-78\"/>\r\n        <path d=\"M 54.890625 33.015625 \r\nL 54.890625 0 \r\nL 45.90625 0 \r\nL 45.90625 32.71875 \r\nQ 45.90625 40.484375 42.875 44.328125 \r\nQ 39.84375 48.1875 33.796875 48.1875 \r\nQ 26.515625 48.1875 22.3125 43.546875 \r\nQ 18.109375 38.921875 18.109375 30.90625 \r\nL 18.109375 0 \r\nL 9.078125 0 \r\nL 9.078125 75.984375 \r\nL 18.109375 75.984375 \r\nL 18.109375 46.1875 \r\nQ 21.34375 51.125 25.703125 53.5625 \r\nQ 30.078125 56 35.796875 56 \r\nQ 45.21875 56 50.046875 50.171875 \r\nQ 54.890625 44.34375 54.890625 33.015625 \r\nz\r\n\" id=\"DejaVuSans-104\"/>\r\n       </defs>\r\n       <use xlink:href=\"#DejaVuSans-78\"/>\r\n       <use x=\"74.804688\" xlink:href=\"#DejaVuSans-101\"/>\r\n       <use x=\"136.328125\" xlink:href=\"#DejaVuSans-116\"/>\r\n       <use x=\"175.537109\" xlink:href=\"#DejaVuSans-104\"/>\r\n       <use x=\"238.916016\" xlink:href=\"#DejaVuSans-101\"/>\r\n       <use x=\"300.439453\" xlink:href=\"#DejaVuSans-114\"/>\r\n       <use x=\"341.552734\" xlink:href=\"#DejaVuSans-108\"/>\r\n       <use x=\"369.335938\" xlink:href=\"#DejaVuSans-97\"/>\r\n       <use x=\"430.615234\" xlink:href=\"#DejaVuSans-110\"/>\r\n       <use x=\"493.994141\" xlink:href=\"#DejaVuSans-100\"/>\r\n       <use x=\"557.470703\" xlink:href=\"#DejaVuSans-115\"/>\r\n      </g>\r\n     </g>\r\n    </g>\r\n    <g id=\"xtick_5\">\r\n     <g id=\"line2d_5\">\r\n      <g>\r\n       <use style=\"stroke:#000000;stroke-width:0.8;\" x=\"125.219088\" xlink:href=\"#m9e4a3c6073\" y=\"452.678438\"/>\r\n      </g>\r\n     </g>\r\n     <g id=\"text_5\">\r\n      <!-- Germany -->\r\n      <g transform=\"translate(127.978463 505.640938)rotate(-90)scale(0.1 -0.1)\">\r\n       <defs>\r\n        <path d=\"M 59.515625 10.40625 \r\nL 59.515625 29.984375 \r\nL 43.40625 29.984375 \r\nL 43.40625 38.09375 \r\nL 69.28125 38.09375 \r\nL 69.28125 6.78125 \r\nQ 63.578125 2.734375 56.6875 0.65625 \r\nQ 49.8125 -1.421875 42 -1.421875 \r\nQ 24.90625 -1.421875 15.25 8.5625 \r\nQ 5.609375 18.5625 5.609375 36.375 \r\nQ 5.609375 54.25 15.25 64.234375 \r\nQ 24.90625 74.21875 42 74.21875 \r\nQ 49.125 74.21875 55.546875 72.453125 \r\nQ 61.96875 70.703125 67.390625 67.28125 \r\nL 67.390625 56.78125 \r\nQ 61.921875 61.421875 55.765625 63.765625 \r\nQ 49.609375 66.109375 42.828125 66.109375 \r\nQ 29.4375 66.109375 22.71875 58.640625 \r\nQ 16.015625 51.171875 16.015625 36.375 \r\nQ 16.015625 21.625 22.71875 14.15625 \r\nQ 29.4375 6.6875 42.828125 6.6875 \r\nQ 48.046875 6.6875 52.140625 7.59375 \r\nQ 56.25 8.5 59.515625 10.40625 \r\nz\r\n\" id=\"DejaVuSans-71\"/>\r\n        <path d=\"M 32.171875 -5.078125 \r\nQ 28.375 -14.84375 24.75 -17.8125 \r\nQ 21.140625 -20.796875 15.09375 -20.796875 \r\nL 7.90625 -20.796875 \r\nL 7.90625 -13.28125 \r\nL 13.1875 -13.28125 \r\nQ 16.890625 -13.28125 18.9375 -11.515625 \r\nQ 21 -9.765625 23.484375 -3.21875 \r\nL 25.09375 0.875 \r\nL 2.984375 54.6875 \r\nL 12.5 54.6875 \r\nL 29.59375 11.921875 \r\nL 46.6875 54.6875 \r\nL 56.203125 54.6875 \r\nz\r\n\" id=\"DejaVuSans-121\"/>\r\n       </defs>\r\n       <use xlink:href=\"#DejaVuSans-71\"/>\r\n       <use x=\"77.490234\" xlink:href=\"#DejaVuSans-101\"/>\r\n       <use x=\"139.013672\" xlink:href=\"#DejaVuSans-114\"/>\r\n       <use x=\"178.376953\" xlink:href=\"#DejaVuSans-109\"/>\r\n       <use x=\"275.789062\" xlink:href=\"#DejaVuSans-97\"/>\r\n       <use x=\"337.068359\" xlink:href=\"#DejaVuSans-110\"/>\r\n       <use x=\"400.447266\" xlink:href=\"#DejaVuSans-121\"/>\r\n      </g>\r\n     </g>\r\n    </g>\r\n    <g id=\"xtick_6\">\r\n     <g id=\"line2d_6\">\r\n      <g>\r\n       <use style=\"stroke:#000000;stroke-width:0.8;\" x=\"143.316385\" xlink:href=\"#m9e4a3c6073\" y=\"452.678438\"/>\r\n      </g>\r\n     </g>\r\n     <g id=\"text_6\">\r\n      <!-- Norway -->\r\n      <g transform=\"translate(146.07576 497.614375)rotate(-90)scale(0.1 -0.1)\">\r\n       <defs>\r\n        <path d=\"M 4.203125 54.6875 \r\nL 13.1875 54.6875 \r\nL 24.421875 12.015625 \r\nL 35.59375 54.6875 \r\nL 46.1875 54.6875 \r\nL 57.421875 12.015625 \r\nL 68.609375 54.6875 \r\nL 77.59375 54.6875 \r\nL 63.28125 0 \r\nL 52.6875 0 \r\nL 40.921875 44.828125 \r\nL 29.109375 0 \r\nL 18.5 0 \r\nz\r\n\" id=\"DejaVuSans-119\"/>\r\n       </defs>\r\n       <use xlink:href=\"#DejaVuSans-78\"/>\r\n       <use x=\"74.804688\" xlink:href=\"#DejaVuSans-111\"/>\r\n       <use x=\"135.986328\" xlink:href=\"#DejaVuSans-114\"/>\r\n       <use x=\"177.099609\" xlink:href=\"#DejaVuSans-119\"/>\r\n       <use x=\"258.886719\" xlink:href=\"#DejaVuSans-97\"/>\r\n       <use x=\"320.166016\" xlink:href=\"#DejaVuSans-121\"/>\r\n      </g>\r\n     </g>\r\n    </g>\r\n    <g id=\"xtick_7\">\r\n     <g id=\"line2d_7\">\r\n      <g>\r\n       <use style=\"stroke:#000000;stroke-width:0.8;\" x=\"161.413682\" xlink:href=\"#m9e4a3c6073\" y=\"452.678438\"/>\r\n      </g>\r\n     </g>\r\n     <g id=\"text_7\">\r\n      <!-- EIRE -->\r\n      <g transform=\"translate(164.173057 482.214375)rotate(-90)scale(0.1 -0.1)\">\r\n       <defs>\r\n        <path d=\"M 9.8125 72.90625 \r\nL 55.90625 72.90625 \r\nL 55.90625 64.59375 \r\nL 19.671875 64.59375 \r\nL 19.671875 43.015625 \r\nL 54.390625 43.015625 \r\nL 54.390625 34.71875 \r\nL 19.671875 34.71875 \r\nL 19.671875 8.296875 \r\nL 56.78125 8.296875 \r\nL 56.78125 0 \r\nL 9.8125 0 \r\nz\r\n\" id=\"DejaVuSans-69\"/>\r\n        <path d=\"M 9.8125 72.90625 \r\nL 19.671875 72.90625 \r\nL 19.671875 0 \r\nL 9.8125 0 \r\nz\r\n\" id=\"DejaVuSans-73\"/>\r\n        <path d=\"M 44.390625 34.1875 \r\nQ 47.5625 33.109375 50.5625 29.59375 \r\nQ 53.5625 26.078125 56.59375 19.921875 \r\nL 66.609375 0 \r\nL 56 0 \r\nL 46.6875 18.703125 \r\nQ 43.0625 26.03125 39.671875 28.421875 \r\nQ 36.28125 30.8125 30.421875 30.8125 \r\nL 19.671875 30.8125 \r\nL 19.671875 0 \r\nL 9.8125 0 \r\nL 9.8125 72.90625 \r\nL 32.078125 72.90625 \r\nQ 44.578125 72.90625 50.734375 67.671875 \r\nQ 56.890625 62.453125 56.890625 51.90625 \r\nQ 56.890625 45.015625 53.6875 40.46875 \r\nQ 50.484375 35.9375 44.390625 34.1875 \r\nz\r\nM 19.671875 64.796875 \r\nL 19.671875 38.921875 \r\nL 32.078125 38.921875 \r\nQ 39.203125 38.921875 42.84375 42.21875 \r\nQ 46.484375 45.515625 46.484375 51.90625 \r\nQ 46.484375 58.296875 42.84375 61.546875 \r\nQ 39.203125 64.796875 32.078125 64.796875 \r\nz\r\n\" id=\"DejaVuSans-82\"/>\r\n       </defs>\r\n       <use xlink:href=\"#DejaVuSans-69\"/>\r\n       <use x=\"63.183594\" xlink:href=\"#DejaVuSans-73\"/>\r\n       <use x=\"92.675781\" xlink:href=\"#DejaVuSans-82\"/>\r\n       <use x=\"162.158203\" xlink:href=\"#DejaVuSans-69\"/>\r\n      </g>\r\n     </g>\r\n    </g>\r\n    <g id=\"xtick_8\">\r\n     <g id=\"line2d_8\">\r\n      <g>\r\n       <use style=\"stroke:#000000;stroke-width:0.8;\" x=\"179.51098\" xlink:href=\"#m9e4a3c6073\" y=\"452.678438\"/>\r\n      </g>\r\n     </g>\r\n     <g id=\"text_8\">\r\n      <!-- Switzerland -->\r\n      <g transform=\"translate(182.270355 518.008125)rotate(-90)scale(0.1 -0.1)\">\r\n       <defs>\r\n        <path d=\"M 53.515625 70.515625 \r\nL 53.515625 60.890625 \r\nQ 47.90625 63.578125 42.921875 64.890625 \r\nQ 37.9375 66.21875 33.296875 66.21875 \r\nQ 25.25 66.21875 20.875 63.09375 \r\nQ 16.5 59.96875 16.5 54.203125 \r\nQ 16.5 49.359375 19.40625 46.890625 \r\nQ 22.3125 44.4375 30.421875 42.921875 \r\nL 36.375 41.703125 \r\nQ 47.40625 39.59375 52.65625 34.296875 \r\nQ 57.90625 29 57.90625 20.125 \r\nQ 57.90625 9.515625 50.796875 4.046875 \r\nQ 43.703125 -1.421875 29.984375 -1.421875 \r\nQ 24.8125 -1.421875 18.96875 -0.25 \r\nQ 13.140625 0.921875 6.890625 3.21875 \r\nL 6.890625 13.375 \r\nQ 12.890625 10.015625 18.65625 8.296875 \r\nQ 24.421875 6.59375 29.984375 6.59375 \r\nQ 38.421875 6.59375 43.015625 9.90625 \r\nQ 47.609375 13.234375 47.609375 19.390625 \r\nQ 47.609375 24.75 44.3125 27.78125 \r\nQ 41.015625 30.8125 33.5 32.328125 \r\nL 27.484375 33.5 \r\nQ 16.453125 35.6875 11.515625 40.375 \r\nQ 6.59375 45.0625 6.59375 53.421875 \r\nQ 6.59375 63.09375 13.40625 68.65625 \r\nQ 20.21875 74.21875 32.171875 74.21875 \r\nQ 37.3125 74.21875 42.625 73.28125 \r\nQ 47.953125 72.359375 53.515625 70.515625 \r\nz\r\n\" id=\"DejaVuSans-83\"/>\r\n        <path d=\"M 5.515625 54.6875 \r\nL 48.1875 54.6875 \r\nL 48.1875 46.484375 \r\nL 14.40625 7.171875 \r\nL 48.1875 7.171875 \r\nL 48.1875 0 \r\nL 4.296875 0 \r\nL 4.296875 8.203125 \r\nL 38.09375 47.515625 \r\nL 5.515625 47.515625 \r\nz\r\n\" id=\"DejaVuSans-122\"/>\r\n       </defs>\r\n       <use xlink:href=\"#DejaVuSans-83\"/>\r\n       <use x=\"63.476562\" xlink:href=\"#DejaVuSans-119\"/>\r\n       <use x=\"145.263672\" xlink:href=\"#DejaVuSans-105\"/>\r\n       <use x=\"173.046875\" xlink:href=\"#DejaVuSans-116\"/>\r\n       <use x=\"212.255859\" xlink:href=\"#DejaVuSans-122\"/>\r\n       <use x=\"264.746094\" xlink:href=\"#DejaVuSans-101\"/>\r\n       <use x=\"326.269531\" xlink:href=\"#DejaVuSans-114\"/>\r\n       <use x=\"367.382812\" xlink:href=\"#DejaVuSans-108\"/>\r\n       <use x=\"395.166016\" xlink:href=\"#DejaVuSans-97\"/>\r\n       <use x=\"456.445312\" xlink:href=\"#DejaVuSans-110\"/>\r\n       <use x=\"519.824219\" xlink:href=\"#DejaVuSans-100\"/>\r\n      </g>\r\n     </g>\r\n    </g>\r\n    <g id=\"xtick_9\">\r\n     <g id=\"line2d_9\">\r\n      <g>\r\n       <use style=\"stroke:#000000;stroke-width:0.8;\" x=\"197.608277\" xlink:href=\"#m9e4a3c6073\" y=\"452.678438\"/>\r\n      </g>\r\n     </g>\r\n     <g id=\"text_9\">\r\n      <!-- Spain -->\r\n      <g transform=\"translate(200.367652 487.619063)rotate(-90)scale(0.1 -0.1)\">\r\n       <defs>\r\n        <path d=\"M 18.109375 8.203125 \r\nL 18.109375 -20.796875 \r\nL 9.078125 -20.796875 \r\nL 9.078125 54.6875 \r\nL 18.109375 54.6875 \r\nL 18.109375 46.390625 \r\nQ 20.953125 51.265625 25.265625 53.625 \r\nQ 29.59375 56 35.59375 56 \r\nQ 45.5625 56 51.78125 48.09375 \r\nQ 58.015625 40.1875 58.015625 27.296875 \r\nQ 58.015625 14.40625 51.78125 6.484375 \r\nQ 45.5625 -1.421875 35.59375 -1.421875 \r\nQ 29.59375 -1.421875 25.265625 0.953125 \r\nQ 20.953125 3.328125 18.109375 8.203125 \r\nz\r\nM 48.6875 27.296875 \r\nQ 48.6875 37.203125 44.609375 42.84375 \r\nQ 40.53125 48.484375 33.40625 48.484375 \r\nQ 26.265625 48.484375 22.1875 42.84375 \r\nQ 18.109375 37.203125 18.109375 27.296875 \r\nQ 18.109375 17.390625 22.1875 11.75 \r\nQ 26.265625 6.109375 33.40625 6.109375 \r\nQ 40.53125 6.109375 44.609375 11.75 \r\nQ 48.6875 17.390625 48.6875 27.296875 \r\nz\r\n\" id=\"DejaVuSans-112\"/>\r\n       </defs>\r\n       <use xlink:href=\"#DejaVuSans-83\"/>\r\n       <use x=\"63.476562\" xlink:href=\"#DejaVuSans-112\"/>\r\n       <use x=\"126.953125\" xlink:href=\"#DejaVuSans-97\"/>\r\n       <use x=\"188.232422\" xlink:href=\"#DejaVuSans-105\"/>\r\n       <use x=\"216.015625\" xlink:href=\"#DejaVuSans-110\"/>\r\n      </g>\r\n     </g>\r\n    </g>\r\n    <g id=\"xtick_10\">\r\n     <g id=\"line2d_10\">\r\n      <g>\r\n       <use style=\"stroke:#000000;stroke-width:0.8;\" x=\"215.705574\" xlink:href=\"#m9e4a3c6073\" y=\"452.678438\"/>\r\n      </g>\r\n     </g>\r\n     <g id=\"text_10\">\r\n      <!-- Poland -->\r\n      <g transform=\"translate(218.464949 493.056563)rotate(-90)scale(0.1 -0.1)\">\r\n       <defs>\r\n        <path d=\"M 19.671875 64.796875 \r\nL 19.671875 37.40625 \r\nL 32.078125 37.40625 \r\nQ 38.96875 37.40625 42.71875 40.96875 \r\nQ 46.484375 44.53125 46.484375 51.125 \r\nQ 46.484375 57.671875 42.71875 61.234375 \r\nQ 38.96875 64.796875 32.078125 64.796875 \r\nz\r\nM 9.8125 72.90625 \r\nL 32.078125 72.90625 \r\nQ 44.34375 72.90625 50.609375 67.359375 \r\nQ 56.890625 61.8125 56.890625 51.125 \r\nQ 56.890625 40.328125 50.609375 34.8125 \r\nQ 44.34375 29.296875 32.078125 29.296875 \r\nL 19.671875 29.296875 \r\nL 19.671875 0 \r\nL 9.8125 0 \r\nz\r\n\" id=\"DejaVuSans-80\"/>\r\n       </defs>\r\n       <use xlink:href=\"#DejaVuSans-80\"/>\r\n       <use x=\"56.677734\" xlink:href=\"#DejaVuSans-111\"/>\r\n       <use x=\"117.859375\" xlink:href=\"#DejaVuSans-108\"/>\r\n       <use x=\"145.642578\" xlink:href=\"#DejaVuSans-97\"/>\r\n       <use x=\"206.921875\" xlink:href=\"#DejaVuSans-110\"/>\r\n       <use x=\"270.300781\" xlink:href=\"#DejaVuSans-100\"/>\r\n      </g>\r\n     </g>\r\n    </g>\r\n    <g id=\"xtick_11\">\r\n     <g id=\"line2d_11\">\r\n      <g>\r\n       <use style=\"stroke:#000000;stroke-width:0.8;\" x=\"233.802872\" xlink:href=\"#m9e4a3c6073\" y=\"452.678438\"/>\r\n      </g>\r\n     </g>\r\n     <g id=\"text_11\">\r\n      <!-- Portugal -->\r\n      <g transform=\"translate(236.562247 501.087813)rotate(-90)scale(0.1 -0.1)\">\r\n       <use xlink:href=\"#DejaVuSans-80\"/>\r\n       <use x=\"56.677734\" xlink:href=\"#DejaVuSans-111\"/>\r\n       <use x=\"117.859375\" xlink:href=\"#DejaVuSans-114\"/>\r\n       <use x=\"158.972656\" xlink:href=\"#DejaVuSans-116\"/>\r\n       <use x=\"198.181641\" xlink:href=\"#DejaVuSans-117\"/>\r\n       <use x=\"261.560547\" xlink:href=\"#DejaVuSans-103\"/>\r\n       <use x=\"325.037109\" xlink:href=\"#DejaVuSans-97\"/>\r\n       <use x=\"386.316406\" xlink:href=\"#DejaVuSans-108\"/>\r\n      </g>\r\n     </g>\r\n    </g>\r\n    <g id=\"xtick_12\">\r\n     <g id=\"line2d_12\">\r\n      <g>\r\n       <use style=\"stroke:#000000;stroke-width:0.8;\" x=\"251.900169\" xlink:href=\"#m9e4a3c6073\" y=\"452.678438\"/>\r\n      </g>\r\n     </g>\r\n     <g id=\"text_12\">\r\n      <!-- Italy -->\r\n      <g transform=\"translate(254.659544 481.37375)rotate(-90)scale(0.1 -0.1)\">\r\n       <use xlink:href=\"#DejaVuSans-73\"/>\r\n       <use x=\"29.492188\" xlink:href=\"#DejaVuSans-116\"/>\r\n       <use x=\"68.701172\" xlink:href=\"#DejaVuSans-97\"/>\r\n       <use x=\"129.980469\" xlink:href=\"#DejaVuSans-108\"/>\r\n       <use x=\"157.763672\" xlink:href=\"#DejaVuSans-121\"/>\r\n      </g>\r\n     </g>\r\n    </g>\r\n    <g id=\"xtick_13\">\r\n     <g id=\"line2d_13\">\r\n      <g>\r\n       <use style=\"stroke:#000000;stroke-width:0.8;\" x=\"269.997466\" xlink:href=\"#m9e4a3c6073\" y=\"452.678438\"/>\r\n      </g>\r\n     </g>\r\n     <g id=\"text_13\">\r\n      <!-- Belgium -->\r\n      <g transform=\"translate(272.756841 500.675313)rotate(-90)scale(0.1 -0.1)\">\r\n       <defs>\r\n        <path d=\"M 19.671875 34.8125 \r\nL 19.671875 8.109375 \r\nL 35.5 8.109375 \r\nQ 43.453125 8.109375 47.28125 11.40625 \r\nQ 51.125 14.703125 51.125 21.484375 \r\nQ 51.125 28.328125 47.28125 31.5625 \r\nQ 43.453125 34.8125 35.5 34.8125 \r\nz\r\nM 19.671875 64.796875 \r\nL 19.671875 42.828125 \r\nL 34.28125 42.828125 \r\nQ 41.5 42.828125 45.03125 45.53125 \r\nQ 48.578125 48.25 48.578125 53.8125 \r\nQ 48.578125 59.328125 45.03125 62.0625 \r\nQ 41.5 64.796875 34.28125 64.796875 \r\nz\r\nM 9.8125 72.90625 \r\nL 35.015625 72.90625 \r\nQ 46.296875 72.90625 52.390625 68.21875 \r\nQ 58.5 63.53125 58.5 54.890625 \r\nQ 58.5 48.1875 55.375 44.234375 \r\nQ 52.25 40.28125 46.1875 39.3125 \r\nQ 53.46875 37.75 57.5 32.78125 \r\nQ 61.53125 27.828125 61.53125 20.40625 \r\nQ 61.53125 10.640625 54.890625 5.3125 \r\nQ 48.25 0 35.984375 0 \r\nL 9.8125 0 \r\nz\r\n\" id=\"DejaVuSans-66\"/>\r\n       </defs>\r\n       <use xlink:href=\"#DejaVuSans-66\"/>\r\n       <use x=\"68.603516\" xlink:href=\"#DejaVuSans-101\"/>\r\n       <use x=\"130.126953\" xlink:href=\"#DejaVuSans-108\"/>\r\n       <use x=\"157.910156\" xlink:href=\"#DejaVuSans-103\"/>\r\n       <use x=\"221.386719\" xlink:href=\"#DejaVuSans-105\"/>\r\n       <use x=\"249.169922\" xlink:href=\"#DejaVuSans-117\"/>\r\n       <use x=\"312.548828\" xlink:href=\"#DejaVuSans-109\"/>\r\n      </g>\r\n     </g>\r\n    </g>\r\n    <g id=\"xtick_14\">\r\n     <g id=\"line2d_14\">\r\n      <g>\r\n       <use style=\"stroke:#000000;stroke-width:0.8;\" x=\"288.094764\" xlink:href=\"#m9e4a3c6073\" y=\"452.678438\"/>\r\n      </g>\r\n     </g>\r\n     <g id=\"text_14\">\r\n      <!-- Lithuania -->\r\n      <g transform=\"translate(290.854139 505.995625)rotate(-90)scale(0.1 -0.1)\">\r\n       <defs>\r\n        <path d=\"M 9.8125 72.90625 \r\nL 19.671875 72.90625 \r\nL 19.671875 8.296875 \r\nL 55.171875 8.296875 \r\nL 55.171875 0 \r\nL 9.8125 0 \r\nz\r\n\" id=\"DejaVuSans-76\"/>\r\n       </defs>\r\n       <use xlink:href=\"#DejaVuSans-76\"/>\r\n       <use x=\"55.712891\" xlink:href=\"#DejaVuSans-105\"/>\r\n       <use x=\"83.496094\" xlink:href=\"#DejaVuSans-116\"/>\r\n       <use x=\"122.705078\" xlink:href=\"#DejaVuSans-104\"/>\r\n       <use x=\"186.083984\" xlink:href=\"#DejaVuSans-117\"/>\r\n       <use x=\"249.462891\" xlink:href=\"#DejaVuSans-97\"/>\r\n       <use x=\"310.742188\" xlink:href=\"#DejaVuSans-110\"/>\r\n       <use x=\"374.121094\" xlink:href=\"#DejaVuSans-105\"/>\r\n       <use x=\"401.904297\" xlink:href=\"#DejaVuSans-97\"/>\r\n      </g>\r\n     </g>\r\n    </g>\r\n    <g id=\"xtick_15\">\r\n     <g id=\"line2d_15\">\r\n      <g>\r\n       <use style=\"stroke:#000000;stroke-width:0.8;\" x=\"306.192061\" xlink:href=\"#m9e4a3c6073\" y=\"452.678438\"/>\r\n      </g>\r\n     </g>\r\n     <g id=\"text_15\">\r\n      <!-- Japan -->\r\n      <g transform=\"translate(308.951436 487.570625)rotate(-90)scale(0.1 -0.1)\">\r\n       <defs>\r\n        <path d=\"M 9.8125 72.90625 \r\nL 19.671875 72.90625 \r\nL 19.671875 5.078125 \r\nQ 19.671875 -8.109375 14.671875 -14.0625 \r\nQ 9.671875 -20.015625 -1.421875 -20.015625 \r\nL -5.171875 -20.015625 \r\nL -5.171875 -11.71875 \r\nL -2.09375 -11.71875 \r\nQ 4.4375 -11.71875 7.125 -8.046875 \r\nQ 9.8125 -4.390625 9.8125 5.078125 \r\nz\r\n\" id=\"DejaVuSans-74\"/>\r\n       </defs>\r\n       <use xlink:href=\"#DejaVuSans-74\"/>\r\n       <use x=\"29.492188\" xlink:href=\"#DejaVuSans-97\"/>\r\n       <use x=\"90.771484\" xlink:href=\"#DejaVuSans-112\"/>\r\n       <use x=\"154.248047\" xlink:href=\"#DejaVuSans-97\"/>\r\n       <use x=\"215.527344\" xlink:href=\"#DejaVuSans-110\"/>\r\n      </g>\r\n     </g>\r\n    </g>\r\n    <g id=\"xtick_16\">\r\n     <g id=\"line2d_16\">\r\n      <g>\r\n       <use style=\"stroke:#000000;stroke-width:0.8;\" x=\"324.289358\" xlink:href=\"#m9e4a3c6073\" y=\"452.678438\"/>\r\n      </g>\r\n     </g>\r\n     <g id=\"text_16\">\r\n      <!-- Iceland -->\r\n      <g transform=\"translate(327.048733 495.872187)rotate(-90)scale(0.1 -0.1)\">\r\n       <use xlink:href=\"#DejaVuSans-73\"/>\r\n       <use x=\"29.492188\" xlink:href=\"#DejaVuSans-99\"/>\r\n       <use x=\"84.472656\" xlink:href=\"#DejaVuSans-101\"/>\r\n       <use x=\"145.996094\" xlink:href=\"#DejaVuSans-108\"/>\r\n       <use x=\"173.779297\" xlink:href=\"#DejaVuSans-97\"/>\r\n       <use x=\"235.058594\" xlink:href=\"#DejaVuSans-110\"/>\r\n       <use x=\"298.4375\" xlink:href=\"#DejaVuSans-100\"/>\r\n      </g>\r\n     </g>\r\n    </g>\r\n    <g id=\"xtick_17\">\r\n     <g id=\"line2d_17\">\r\n      <g>\r\n       <use style=\"stroke:#000000;stroke-width:0.8;\" x=\"342.386655\" xlink:href=\"#m9e4a3c6073\" y=\"452.678438\"/>\r\n      </g>\r\n     </g>\r\n     <g id=\"text_17\">\r\n      <!-- Channel Islands -->\r\n      <g transform=\"translate(345.14603 538.872187)rotate(-90)scale(0.1 -0.1)\">\r\n       <defs>\r\n        <path d=\"M 64.40625 67.28125 \r\nL 64.40625 56.890625 \r\nQ 59.421875 61.53125 53.78125 63.8125 \r\nQ 48.140625 66.109375 41.796875 66.109375 \r\nQ 29.296875 66.109375 22.65625 58.46875 \r\nQ 16.015625 50.828125 16.015625 36.375 \r\nQ 16.015625 21.96875 22.65625 14.328125 \r\nQ 29.296875 6.6875 41.796875 6.6875 \r\nQ 48.140625 6.6875 53.78125 8.984375 \r\nQ 59.421875 11.28125 64.40625 15.921875 \r\nL 64.40625 5.609375 \r\nQ 59.234375 2.09375 53.4375 0.328125 \r\nQ 47.65625 -1.421875 41.21875 -1.421875 \r\nQ 24.65625 -1.421875 15.125 8.703125 \r\nQ 5.609375 18.84375 5.609375 36.375 \r\nQ 5.609375 53.953125 15.125 64.078125 \r\nQ 24.65625 74.21875 41.21875 74.21875 \r\nQ 47.75 74.21875 53.53125 72.484375 \r\nQ 59.328125 70.75 64.40625 67.28125 \r\nz\r\n\" id=\"DejaVuSans-67\"/>\r\n       </defs>\r\n       <use xlink:href=\"#DejaVuSans-67\"/>\r\n       <use x=\"69.824219\" xlink:href=\"#DejaVuSans-104\"/>\r\n       <use x=\"133.203125\" xlink:href=\"#DejaVuSans-97\"/>\r\n       <use x=\"194.482422\" xlink:href=\"#DejaVuSans-110\"/>\r\n       <use x=\"257.861328\" xlink:href=\"#DejaVuSans-110\"/>\r\n       <use x=\"321.240234\" xlink:href=\"#DejaVuSans-101\"/>\r\n       <use x=\"382.763672\" xlink:href=\"#DejaVuSans-108\"/>\r\n       <use x=\"410.546875\" xlink:href=\"#DejaVuSans-32\"/>\r\n       <use x=\"442.333984\" xlink:href=\"#DejaVuSans-73\"/>\r\n       <use x=\"471.826172\" xlink:href=\"#DejaVuSans-115\"/>\r\n       <use x=\"523.925781\" xlink:href=\"#DejaVuSans-108\"/>\r\n       <use x=\"551.708984\" xlink:href=\"#DejaVuSans-97\"/>\r\n       <use x=\"612.988281\" xlink:href=\"#DejaVuSans-110\"/>\r\n       <use x=\"676.367188\" xlink:href=\"#DejaVuSans-100\"/>\r\n       <use x=\"739.84375\" xlink:href=\"#DejaVuSans-115\"/>\r\n      </g>\r\n     </g>\r\n    </g>\r\n    <g id=\"xtick_18\">\r\n     <g id=\"line2d_18\">\r\n      <g>\r\n       <use style=\"stroke:#000000;stroke-width:0.8;\" x=\"360.483953\" xlink:href=\"#m9e4a3c6073\" y=\"452.678438\"/>\r\n      </g>\r\n     </g>\r\n     <g id=\"text_18\">\r\n      <!-- Denmark -->\r\n      <g transform=\"translate(363.243328 505.639375)rotate(-90)scale(0.1 -0.1)\">\r\n       <defs>\r\n        <path d=\"M 19.671875 64.796875 \r\nL 19.671875 8.109375 \r\nL 31.59375 8.109375 \r\nQ 46.6875 8.109375 53.6875 14.9375 \r\nQ 60.6875 21.78125 60.6875 36.53125 \r\nQ 60.6875 51.171875 53.6875 57.984375 \r\nQ 46.6875 64.796875 31.59375 64.796875 \r\nz\r\nM 9.8125 72.90625 \r\nL 30.078125 72.90625 \r\nQ 51.265625 72.90625 61.171875 64.09375 \r\nQ 71.09375 55.28125 71.09375 36.53125 \r\nQ 71.09375 17.671875 61.125 8.828125 \r\nQ 51.171875 0 30.078125 0 \r\nL 9.8125 0 \r\nz\r\n\" id=\"DejaVuSans-68\"/>\r\n        <path d=\"M 9.078125 75.984375 \r\nL 18.109375 75.984375 \r\nL 18.109375 31.109375 \r\nL 44.921875 54.6875 \r\nL 56.390625 54.6875 \r\nL 27.390625 29.109375 \r\nL 57.625 0 \r\nL 45.90625 0 \r\nL 18.109375 26.703125 \r\nL 18.109375 0 \r\nL 9.078125 0 \r\nz\r\n\" id=\"DejaVuSans-107\"/>\r\n       </defs>\r\n       <use xlink:href=\"#DejaVuSans-68\"/>\r\n       <use x=\"77.001953\" xlink:href=\"#DejaVuSans-101\"/>\r\n       <use x=\"138.525391\" xlink:href=\"#DejaVuSans-110\"/>\r\n       <use x=\"201.904297\" xlink:href=\"#DejaVuSans-109\"/>\r\n       <use x=\"299.316406\" xlink:href=\"#DejaVuSans-97\"/>\r\n       <use x=\"360.595703\" xlink:href=\"#DejaVuSans-114\"/>\r\n       <use x=\"401.708984\" xlink:href=\"#DejaVuSans-107\"/>\r\n      </g>\r\n     </g>\r\n    </g>\r\n    <g id=\"xtick_19\">\r\n     <g id=\"line2d_19\">\r\n      <g>\r\n       <use style=\"stroke:#000000;stroke-width:0.8;\" x=\"378.58125\" xlink:href=\"#m9e4a3c6073\" y=\"452.678438\"/>\r\n      </g>\r\n     </g>\r\n     <g id=\"text_19\">\r\n      <!-- Cyprus -->\r\n      <g transform=\"translate(381.340625 494.58625)rotate(-90)scale(0.1 -0.1)\">\r\n       <use xlink:href=\"#DejaVuSans-67\"/>\r\n       <use x=\"69.824219\" xlink:href=\"#DejaVuSans-121\"/>\r\n       <use x=\"129.003906\" xlink:href=\"#DejaVuSans-112\"/>\r\n       <use x=\"192.480469\" xlink:href=\"#DejaVuSans-114\"/>\r\n       <use x=\"233.59375\" xlink:href=\"#DejaVuSans-117\"/>\r\n       <use x=\"296.972656\" xlink:href=\"#DejaVuSans-115\"/>\r\n      </g>\r\n     </g>\r\n    </g>\r\n    <g id=\"xtick_20\">\r\n     <g id=\"line2d_20\">\r\n      <g>\r\n       <use style=\"stroke:#000000;stroke-width:0.8;\" x=\"396.678547\" xlink:href=\"#m9e4a3c6073\" y=\"452.678438\"/>\r\n      </g>\r\n     </g>\r\n     <g id=\"text_20\">\r\n      <!-- Sweden -->\r\n      <g transform=\"translate(399.437922 499.197188)rotate(-90)scale(0.1 -0.1)\">\r\n       <use xlink:href=\"#DejaVuSans-83\"/>\r\n       <use x=\"63.476562\" xlink:href=\"#DejaVuSans-119\"/>\r\n       <use x=\"145.263672\" xlink:href=\"#DejaVuSans-101\"/>\r\n       <use x=\"206.787109\" xlink:href=\"#DejaVuSans-100\"/>\r\n       <use x=\"270.263672\" xlink:href=\"#DejaVuSans-101\"/>\r\n       <use x=\"331.787109\" xlink:href=\"#DejaVuSans-110\"/>\r\n      </g>\r\n     </g>\r\n    </g>\r\n    <g id=\"xtick_21\">\r\n     <g id=\"line2d_21\">\r\n      <g>\r\n       <use style=\"stroke:#000000;stroke-width:0.8;\" x=\"414.775845\" xlink:href=\"#m9e4a3c6073\" y=\"452.678438\"/>\r\n      </g>\r\n     </g>\r\n     <g id=\"text_21\">\r\n      <!-- Austria -->\r\n      <g transform=\"translate(417.53522 495.003438)rotate(-90)scale(0.1 -0.1)\">\r\n       <use xlink:href=\"#DejaVuSans-65\"/>\r\n       <use x=\"68.408203\" xlink:href=\"#DejaVuSans-117\"/>\r\n       <use x=\"131.787109\" xlink:href=\"#DejaVuSans-115\"/>\r\n       <use x=\"183.886719\" xlink:href=\"#DejaVuSans-116\"/>\r\n       <use x=\"223.095703\" xlink:href=\"#DejaVuSans-114\"/>\r\n       <use x=\"264.208984\" xlink:href=\"#DejaVuSans-105\"/>\r\n       <use x=\"291.992188\" xlink:href=\"#DejaVuSans-97\"/>\r\n      </g>\r\n     </g>\r\n    </g>\r\n    <g id=\"xtick_22\">\r\n     <g id=\"line2d_22\">\r\n      <g>\r\n       <use style=\"stroke:#000000;stroke-width:0.8;\" x=\"432.873142\" xlink:href=\"#m9e4a3c6073\" y=\"452.678438\"/>\r\n      </g>\r\n     </g>\r\n     <g id=\"text_22\">\r\n      <!-- Israel -->\r\n      <g transform=\"translate(435.632517 487.008125)rotate(-90)scale(0.1 -0.1)\">\r\n       <use xlink:href=\"#DejaVuSans-73\"/>\r\n       <use x=\"29.492188\" xlink:href=\"#DejaVuSans-115\"/>\r\n       <use x=\"81.591797\" xlink:href=\"#DejaVuSans-114\"/>\r\n       <use x=\"122.705078\" xlink:href=\"#DejaVuSans-97\"/>\r\n       <use x=\"183.984375\" xlink:href=\"#DejaVuSans-101\"/>\r\n       <use x=\"245.507812\" xlink:href=\"#DejaVuSans-108\"/>\r\n      </g>\r\n     </g>\r\n    </g>\r\n    <g id=\"xtick_23\">\r\n     <g id=\"line2d_23\">\r\n      <g>\r\n       <use style=\"stroke:#000000;stroke-width:0.8;\" x=\"450.970439\" xlink:href=\"#m9e4a3c6073\" y=\"452.678438\"/>\r\n      </g>\r\n     </g>\r\n     <g id=\"text_23\">\r\n      <!-- Finland -->\r\n      <g transform=\"translate(453.729814 495.412813)rotate(-90)scale(0.1 -0.1)\">\r\n       <use xlink:href=\"#DejaVuSans-70\"/>\r\n       <use x=\"50.269531\" xlink:href=\"#DejaVuSans-105\"/>\r\n       <use x=\"78.052734\" xlink:href=\"#DejaVuSans-110\"/>\r\n       <use x=\"141.431641\" xlink:href=\"#DejaVuSans-108\"/>\r\n       <use x=\"169.214844\" xlink:href=\"#DejaVuSans-97\"/>\r\n       <use x=\"230.494141\" xlink:href=\"#DejaVuSans-110\"/>\r\n       <use x=\"293.873047\" xlink:href=\"#DejaVuSans-100\"/>\r\n      </g>\r\n     </g>\r\n    </g>\r\n    <g id=\"xtick_24\">\r\n     <g id=\"line2d_24\">\r\n      <g>\r\n       <use style=\"stroke:#000000;stroke-width:0.8;\" x=\"469.067736\" xlink:href=\"#m9e4a3c6073\" y=\"452.678438\"/>\r\n      </g>\r\n     </g>\r\n     <g id=\"text_24\">\r\n      <!-- Greece -->\r\n      <g transform=\"translate(471.827111 495.270625)rotate(-90)scale(0.1 -0.1)\">\r\n       <use xlink:href=\"#DejaVuSans-71\"/>\r\n       <use x=\"77.490234\" xlink:href=\"#DejaVuSans-114\"/>\r\n       <use x=\"116.353516\" xlink:href=\"#DejaVuSans-101\"/>\r\n       <use x=\"177.876953\" xlink:href=\"#DejaVuSans-101\"/>\r\n       <use x=\"239.400391\" xlink:href=\"#DejaVuSans-99\"/>\r\n       <use x=\"294.380859\" xlink:href=\"#DejaVuSans-101\"/>\r\n      </g>\r\n     </g>\r\n    </g>\r\n    <g id=\"xtick_25\">\r\n     <g id=\"line2d_25\">\r\n      <g>\r\n       <use style=\"stroke:#000000;stroke-width:0.8;\" x=\"487.165034\" xlink:href=\"#m9e4a3c6073\" y=\"452.678438\"/>\r\n      </g>\r\n     </g>\r\n     <g id=\"text_25\">\r\n      <!-- Singapore -->\r\n      <g transform=\"translate(489.924409 510.125313)rotate(-90)scale(0.1 -0.1)\">\r\n       <use xlink:href=\"#DejaVuSans-83\"/>\r\n       <use x=\"63.476562\" xlink:href=\"#DejaVuSans-105\"/>\r\n       <use x=\"91.259766\" xlink:href=\"#DejaVuSans-110\"/>\r\n       <use x=\"154.638672\" xlink:href=\"#DejaVuSans-103\"/>\r\n       <use x=\"218.115234\" xlink:href=\"#DejaVuSans-97\"/>\r\n       <use x=\"279.394531\" xlink:href=\"#DejaVuSans-112\"/>\r\n       <use x=\"342.871094\" xlink:href=\"#DejaVuSans-111\"/>\r\n       <use x=\"404.052734\" xlink:href=\"#DejaVuSans-114\"/>\r\n       <use x=\"442.916016\" xlink:href=\"#DejaVuSans-101\"/>\r\n      </g>\r\n     </g>\r\n    </g>\r\n    <g id=\"xtick_26\">\r\n     <g id=\"line2d_26\">\r\n      <g>\r\n       <use style=\"stroke:#000000;stroke-width:0.8;\" x=\"505.262331\" xlink:href=\"#m9e4a3c6073\" y=\"452.678438\"/>\r\n      </g>\r\n     </g>\r\n     <g id=\"text_26\">\r\n      <!-- Lebanon -->\r\n      <g transform=\"translate(508.021706 502.49875)rotate(-90)scale(0.1 -0.1)\">\r\n       <defs>\r\n        <path d=\"M 48.6875 27.296875 \r\nQ 48.6875 37.203125 44.609375 42.84375 \r\nQ 40.53125 48.484375 33.40625 48.484375 \r\nQ 26.265625 48.484375 22.1875 42.84375 \r\nQ 18.109375 37.203125 18.109375 27.296875 \r\nQ 18.109375 17.390625 22.1875 11.75 \r\nQ 26.265625 6.109375 33.40625 6.109375 \r\nQ 40.53125 6.109375 44.609375 11.75 \r\nQ 48.6875 17.390625 48.6875 27.296875 \r\nz\r\nM 18.109375 46.390625 \r\nQ 20.953125 51.265625 25.265625 53.625 \r\nQ 29.59375 56 35.59375 56 \r\nQ 45.5625 56 51.78125 48.09375 \r\nQ 58.015625 40.1875 58.015625 27.296875 \r\nQ 58.015625 14.40625 51.78125 6.484375 \r\nQ 45.5625 -1.421875 35.59375 -1.421875 \r\nQ 29.59375 -1.421875 25.265625 0.953125 \r\nQ 20.953125 3.328125 18.109375 8.203125 \r\nL 18.109375 0 \r\nL 9.078125 0 \r\nL 9.078125 75.984375 \r\nL 18.109375 75.984375 \r\nz\r\n\" id=\"DejaVuSans-98\"/>\r\n       </defs>\r\n       <use xlink:href=\"#DejaVuSans-76\"/>\r\n       <use x=\"53.962891\" xlink:href=\"#DejaVuSans-101\"/>\r\n       <use x=\"115.486328\" xlink:href=\"#DejaVuSans-98\"/>\r\n       <use x=\"178.962891\" xlink:href=\"#DejaVuSans-97\"/>\r\n       <use x=\"240.242188\" xlink:href=\"#DejaVuSans-110\"/>\r\n       <use x=\"303.621094\" xlink:href=\"#DejaVuSans-111\"/>\r\n       <use x=\"364.802734\" xlink:href=\"#DejaVuSans-110\"/>\r\n      </g>\r\n     </g>\r\n    </g>\r\n    <g id=\"xtick_27\">\r\n     <g id=\"line2d_27\">\r\n      <g>\r\n       <use style=\"stroke:#000000;stroke-width:0.8;\" x=\"523.359628\" xlink:href=\"#m9e4a3c6073\" y=\"452.678438\"/>\r\n      </g>\r\n     </g>\r\n     <g id=\"text_27\">\r\n      <!-- United Arab Emirates -->\r\n      <g transform=\"translate(526.119003 566.678437)rotate(-90)scale(0.1 -0.1)\">\r\n       <use xlink:href=\"#DejaVuSans-85\"/>\r\n       <use x=\"73.193359\" xlink:href=\"#DejaVuSans-110\"/>\r\n       <use x=\"136.572266\" xlink:href=\"#DejaVuSans-105\"/>\r\n       <use x=\"164.355469\" xlink:href=\"#DejaVuSans-116\"/>\r\n       <use x=\"203.564453\" xlink:href=\"#DejaVuSans-101\"/>\r\n       <use x=\"265.087891\" xlink:href=\"#DejaVuSans-100\"/>\r\n       <use x=\"328.564453\" xlink:href=\"#DejaVuSans-32\"/>\r\n       <use x=\"360.351562\" xlink:href=\"#DejaVuSans-65\"/>\r\n       <use x=\"428.759766\" xlink:href=\"#DejaVuSans-114\"/>\r\n       <use x=\"469.873047\" xlink:href=\"#DejaVuSans-97\"/>\r\n       <use x=\"531.152344\" xlink:href=\"#DejaVuSans-98\"/>\r\n       <use x=\"594.628906\" xlink:href=\"#DejaVuSans-32\"/>\r\n       <use x=\"626.416016\" xlink:href=\"#DejaVuSans-69\"/>\r\n       <use x=\"689.599609\" xlink:href=\"#DejaVuSans-109\"/>\r\n       <use x=\"787.011719\" xlink:href=\"#DejaVuSans-105\"/>\r\n       <use x=\"814.794922\" xlink:href=\"#DejaVuSans-114\"/>\r\n       <use x=\"855.908203\" xlink:href=\"#DejaVuSans-97\"/>\r\n       <use x=\"917.1875\" xlink:href=\"#DejaVuSans-116\"/>\r\n       <use x=\"956.396484\" xlink:href=\"#DejaVuSans-101\"/>\r\n       <use x=\"1017.919922\" xlink:href=\"#DejaVuSans-115\"/>\r\n      </g>\r\n     </g>\r\n    </g>\r\n    <g id=\"xtick_28\">\r\n     <g id=\"line2d_28\">\r\n      <g>\r\n       <use style=\"stroke:#000000;stroke-width:0.8;\" x=\"541.456926\" xlink:href=\"#m9e4a3c6073\" y=\"452.678438\"/>\r\n      </g>\r\n     </g>\r\n     <g id=\"text_28\">\r\n      <!-- Saudi Arabia -->\r\n      <g transform=\"translate(544.216301 523.131562)rotate(-90)scale(0.1 -0.1)\">\r\n       <use xlink:href=\"#DejaVuSans-83\"/>\r\n       <use x=\"63.476562\" xlink:href=\"#DejaVuSans-97\"/>\r\n       <use x=\"124.755859\" xlink:href=\"#DejaVuSans-117\"/>\r\n       <use x=\"188.134766\" xlink:href=\"#DejaVuSans-100\"/>\r\n       <use x=\"251.611328\" xlink:href=\"#DejaVuSans-105\"/>\r\n       <use x=\"279.394531\" xlink:href=\"#DejaVuSans-32\"/>\r\n       <use x=\"311.181641\" xlink:href=\"#DejaVuSans-65\"/>\r\n       <use x=\"379.589844\" xlink:href=\"#DejaVuSans-114\"/>\r\n       <use x=\"420.703125\" xlink:href=\"#DejaVuSans-97\"/>\r\n       <use x=\"481.982422\" xlink:href=\"#DejaVuSans-98\"/>\r\n       <use x=\"545.458984\" xlink:href=\"#DejaVuSans-105\"/>\r\n       <use x=\"573.242188\" xlink:href=\"#DejaVuSans-97\"/>\r\n      </g>\r\n     </g>\r\n    </g>\r\n    <g id=\"xtick_29\">\r\n     <g id=\"line2d_29\">\r\n      <g>\r\n       <use style=\"stroke:#000000;stroke-width:0.8;\" x=\"559.554223\" xlink:href=\"#m9e4a3c6073\" y=\"452.678438\"/>\r\n      </g>\r\n     </g>\r\n     <g id=\"text_29\">\r\n      <!-- Czech Republic -->\r\n      <g transform=\"translate(562.313598 535.8175)rotate(-90)scale(0.1 -0.1)\">\r\n       <use xlink:href=\"#DejaVuSans-67\"/>\r\n       <use x=\"69.824219\" xlink:href=\"#DejaVuSans-122\"/>\r\n       <use x=\"122.314453\" xlink:href=\"#DejaVuSans-101\"/>\r\n       <use x=\"183.837891\" xlink:href=\"#DejaVuSans-99\"/>\r\n       <use x=\"238.818359\" xlink:href=\"#DejaVuSans-104\"/>\r\n       <use x=\"302.197266\" xlink:href=\"#DejaVuSans-32\"/>\r\n       <use x=\"333.984375\" xlink:href=\"#DejaVuSans-82\"/>\r\n       <use x=\"398.966797\" xlink:href=\"#DejaVuSans-101\"/>\r\n       <use x=\"460.490234\" xlink:href=\"#DejaVuSans-112\"/>\r\n       <use x=\"523.966797\" xlink:href=\"#DejaVuSans-117\"/>\r\n       <use x=\"587.345703\" xlink:href=\"#DejaVuSans-98\"/>\r\n       <use x=\"650.822266\" xlink:href=\"#DejaVuSans-108\"/>\r\n       <use x=\"678.605469\" xlink:href=\"#DejaVuSans-105\"/>\r\n       <use x=\"706.388672\" xlink:href=\"#DejaVuSans-99\"/>\r\n      </g>\r\n     </g>\r\n    </g>\r\n    <g id=\"xtick_30\">\r\n     <g id=\"line2d_30\">\r\n      <g>\r\n       <use style=\"stroke:#000000;stroke-width:0.8;\" x=\"577.65152\" xlink:href=\"#m9e4a3c6073\" y=\"452.678438\"/>\r\n      </g>\r\n     </g>\r\n     <g id=\"text_30\">\r\n      <!-- Canada -->\r\n      <g transform=\"translate(580.410895 497.731562)rotate(-90)scale(0.1 -0.1)\">\r\n       <use xlink:href=\"#DejaVuSans-67\"/>\r\n       <use x=\"69.824219\" xlink:href=\"#DejaVuSans-97\"/>\r\n       <use x=\"131.103516\" xlink:href=\"#DejaVuSans-110\"/>\r\n       <use x=\"194.482422\" xlink:href=\"#DejaVuSans-97\"/>\r\n       <use x=\"255.761719\" xlink:href=\"#DejaVuSans-100\"/>\r\n       <use x=\"319.238281\" xlink:href=\"#DejaVuSans-97\"/>\r\n      </g>\r\n     </g>\r\n    </g>\r\n    <g id=\"xtick_31\">\r\n     <g id=\"line2d_31\">\r\n      <g>\r\n       <use style=\"stroke:#000000;stroke-width:0.8;\" x=\"595.748818\" xlink:href=\"#m9e4a3c6073\" y=\"452.678438\"/>\r\n      </g>\r\n     </g>\r\n     <g id=\"text_31\">\r\n      <!-- Unspecified -->\r\n      <g transform=\"translate(598.508193 518.122187)rotate(-90)scale(0.1 -0.1)\">\r\n       <defs>\r\n        <path d=\"M 37.109375 75.984375 \r\nL 37.109375 68.5 \r\nL 28.515625 68.5 \r\nQ 23.6875 68.5 21.796875 66.546875 \r\nQ 19.921875 64.59375 19.921875 59.515625 \r\nL 19.921875 54.6875 \r\nL 34.71875 54.6875 \r\nL 34.71875 47.703125 \r\nL 19.921875 47.703125 \r\nL 19.921875 0 \r\nL 10.890625 0 \r\nL 10.890625 47.703125 \r\nL 2.296875 47.703125 \r\nL 2.296875 54.6875 \r\nL 10.890625 54.6875 \r\nL 10.890625 58.5 \r\nQ 10.890625 67.625 15.140625 71.796875 \r\nQ 19.390625 75.984375 28.609375 75.984375 \r\nz\r\n\" id=\"DejaVuSans-102\"/>\r\n       </defs>\r\n       <use xlink:href=\"#DejaVuSans-85\"/>\r\n       <use x=\"73.193359\" xlink:href=\"#DejaVuSans-110\"/>\r\n       <use x=\"136.572266\" xlink:href=\"#DejaVuSans-115\"/>\r\n       <use x=\"188.671875\" xlink:href=\"#DejaVuSans-112\"/>\r\n       <use x=\"252.148438\" xlink:href=\"#DejaVuSans-101\"/>\r\n       <use x=\"313.671875\" xlink:href=\"#DejaVuSans-99\"/>\r\n       <use x=\"368.652344\" xlink:href=\"#DejaVuSans-105\"/>\r\n       <use x=\"396.435547\" xlink:href=\"#DejaVuSans-102\"/>\r\n       <use x=\"431.640625\" xlink:href=\"#DejaVuSans-105\"/>\r\n       <use x=\"459.423828\" xlink:href=\"#DejaVuSans-101\"/>\r\n       <use x=\"520.947266\" xlink:href=\"#DejaVuSans-100\"/>\r\n      </g>\r\n     </g>\r\n    </g>\r\n    <g id=\"xtick_32\">\r\n     <g id=\"line2d_32\">\r\n      <g>\r\n       <use style=\"stroke:#000000;stroke-width:0.8;\" x=\"613.846115\" xlink:href=\"#m9e4a3c6073\" y=\"452.678438\"/>\r\n      </g>\r\n     </g>\r\n     <g id=\"text_32\">\r\n      <!-- Brazil -->\r\n      <g transform=\"translate(616.60549 487.583125)rotate(-90)scale(0.1 -0.1)\">\r\n       <use xlink:href=\"#DejaVuSans-66\"/>\r\n       <use x=\"68.603516\" xlink:href=\"#DejaVuSans-114\"/>\r\n       <use x=\"109.716797\" xlink:href=\"#DejaVuSans-97\"/>\r\n       <use x=\"170.996094\" xlink:href=\"#DejaVuSans-122\"/>\r\n       <use x=\"223.486328\" xlink:href=\"#DejaVuSans-105\"/>\r\n       <use x=\"251.269531\" xlink:href=\"#DejaVuSans-108\"/>\r\n      </g>\r\n     </g>\r\n    </g>\r\n    <g id=\"xtick_33\">\r\n     <g id=\"line2d_33\">\r\n      <g>\r\n       <use style=\"stroke:#000000;stroke-width:0.8;\" x=\"631.943412\" xlink:href=\"#m9e4a3c6073\" y=\"452.678438\"/>\r\n      </g>\r\n     </g>\r\n     <g id=\"text_33\">\r\n      <!-- USA -->\r\n      <g transform=\"translate(634.702787 480.37375)rotate(-90)scale(0.1 -0.1)\">\r\n       <use xlink:href=\"#DejaVuSans-85\"/>\r\n       <use x=\"73.193359\" xlink:href=\"#DejaVuSans-83\"/>\r\n       <use x=\"138.544922\" xlink:href=\"#DejaVuSans-65\"/>\r\n      </g>\r\n     </g>\r\n    </g>\r\n    <g id=\"xtick_34\">\r\n     <g id=\"line2d_34\">\r\n      <g>\r\n       <use style=\"stroke:#000000;stroke-width:0.8;\" x=\"650.040709\" xlink:href=\"#m9e4a3c6073\" y=\"452.678438\"/>\r\n      </g>\r\n     </g>\r\n     <g id=\"text_34\">\r\n      <!-- European Community -->\r\n      <g transform=\"translate(652.800084 568.359688)rotate(-90)scale(0.1 -0.1)\">\r\n       <use xlink:href=\"#DejaVuSans-69\"/>\r\n       <use x=\"63.183594\" xlink:href=\"#DejaVuSans-117\"/>\r\n       <use x=\"126.5625\" xlink:href=\"#DejaVuSans-114\"/>\r\n       <use x=\"165.425781\" xlink:href=\"#DejaVuSans-111\"/>\r\n       <use x=\"226.607422\" xlink:href=\"#DejaVuSans-112\"/>\r\n       <use x=\"290.083984\" xlink:href=\"#DejaVuSans-101\"/>\r\n       <use x=\"351.607422\" xlink:href=\"#DejaVuSans-97\"/>\r\n       <use x=\"412.886719\" xlink:href=\"#DejaVuSans-110\"/>\r\n       <use x=\"476.265625\" xlink:href=\"#DejaVuSans-32\"/>\r\n       <use x=\"508.052734\" xlink:href=\"#DejaVuSans-67\"/>\r\n       <use x=\"577.876953\" xlink:href=\"#DejaVuSans-111\"/>\r\n       <use x=\"639.058594\" xlink:href=\"#DejaVuSans-109\"/>\r\n       <use x=\"736.470703\" xlink:href=\"#DejaVuSans-109\"/>\r\n       <use x=\"833.882812\" xlink:href=\"#DejaVuSans-117\"/>\r\n       <use x=\"897.261719\" xlink:href=\"#DejaVuSans-110\"/>\r\n       <use x=\"960.640625\" xlink:href=\"#DejaVuSans-105\"/>\r\n       <use x=\"988.423828\" xlink:href=\"#DejaVuSans-116\"/>\r\n       <use x=\"1027.632812\" xlink:href=\"#DejaVuSans-121\"/>\r\n      </g>\r\n     </g>\r\n    </g>\r\n    <g id=\"xtick_35\">\r\n     <g id=\"line2d_35\">\r\n      <g>\r\n       <use style=\"stroke:#000000;stroke-width:0.8;\" x=\"668.138007\" xlink:href=\"#m9e4a3c6073\" y=\"452.678438\"/>\r\n      </g>\r\n     </g>\r\n     <g id=\"text_35\">\r\n      <!-- Bahrain -->\r\n      <g transform=\"translate(670.897382 498.359688)rotate(-90)scale(0.1 -0.1)\">\r\n       <use xlink:href=\"#DejaVuSans-66\"/>\r\n       <use x=\"68.603516\" xlink:href=\"#DejaVuSans-97\"/>\r\n       <use x=\"129.882812\" xlink:href=\"#DejaVuSans-104\"/>\r\n       <use x=\"193.261719\" xlink:href=\"#DejaVuSans-114\"/>\r\n       <use x=\"234.375\" xlink:href=\"#DejaVuSans-97\"/>\r\n       <use x=\"295.654297\" xlink:href=\"#DejaVuSans-105\"/>\r\n       <use x=\"323.4375\" xlink:href=\"#DejaVuSans-110\"/>\r\n      </g>\r\n     </g>\r\n    </g>\r\n    <g id=\"xtick_36\">\r\n     <g id=\"line2d_36\">\r\n      <g>\r\n       <use style=\"stroke:#000000;stroke-width:0.8;\" x=\"686.235304\" xlink:href=\"#m9e4a3c6073\" y=\"452.678438\"/>\r\n      </g>\r\n     </g>\r\n     <g id=\"text_36\">\r\n      <!-- Malta -->\r\n      <g transform=\"translate(688.994679 487.26125)rotate(-90)scale(0.1 -0.1)\">\r\n       <defs>\r\n        <path d=\"M 9.8125 72.90625 \r\nL 24.515625 72.90625 \r\nL 43.109375 23.296875 \r\nL 61.8125 72.90625 \r\nL 76.515625 72.90625 \r\nL 76.515625 0 \r\nL 66.890625 0 \r\nL 66.890625 64.015625 \r\nL 48.09375 14.015625 \r\nL 38.1875 14.015625 \r\nL 19.390625 64.015625 \r\nL 19.390625 0 \r\nL 9.8125 0 \r\nz\r\n\" id=\"DejaVuSans-77\"/>\r\n       </defs>\r\n       <use xlink:href=\"#DejaVuSans-77\"/>\r\n       <use x=\"86.279297\" xlink:href=\"#DejaVuSans-97\"/>\r\n       <use x=\"147.558594\" xlink:href=\"#DejaVuSans-108\"/>\r\n       <use x=\"175.341797\" xlink:href=\"#DejaVuSans-116\"/>\r\n       <use x=\"214.550781\" xlink:href=\"#DejaVuSans-97\"/>\r\n      </g>\r\n     </g>\r\n    </g>\r\n    <g id=\"xtick_37\">\r\n     <g id=\"line2d_37\">\r\n      <g>\r\n       <use style=\"stroke:#000000;stroke-width:0.8;\" x=\"704.332601\" xlink:href=\"#m9e4a3c6073\" y=\"452.678438\"/>\r\n      </g>\r\n     </g>\r\n     <g id=\"text_37\">\r\n      <!-- RSA -->\r\n      <g transform=\"translate(707.091976 480.003438)rotate(-90)scale(0.1 -0.1)\">\r\n       <use xlink:href=\"#DejaVuSans-82\"/>\r\n       <use x=\"69.482422\" xlink:href=\"#DejaVuSans-83\"/>\r\n       <use x=\"134.833984\" xlink:href=\"#DejaVuSans-65\"/>\r\n      </g>\r\n     </g>\r\n    </g>\r\n    <g id=\"text_38\">\r\n     <!-- Country -->\r\n     <g transform=\"translate(358.717969 579.958125)scale(0.1 -0.1)\">\r\n      <use xlink:href=\"#DejaVuSans-67\"/>\r\n      <use x=\"69.824219\" xlink:href=\"#DejaVuSans-111\"/>\r\n      <use x=\"131.005859\" xlink:href=\"#DejaVuSans-117\"/>\r\n      <use x=\"194.384766\" xlink:href=\"#DejaVuSans-110\"/>\r\n      <use x=\"257.763672\" xlink:href=\"#DejaVuSans-116\"/>\r\n      <use x=\"296.972656\" xlink:href=\"#DejaVuSans-114\"/>\r\n      <use x=\"338.085938\" xlink:href=\"#DejaVuSans-121\"/>\r\n     </g>\r\n    </g>\r\n   </g>\r\n   <g id=\"matplotlib.axis_2\">\r\n    <g id=\"ytick_1\">\r\n     <g id=\"line2d_38\">\r\n      <defs>\r\n       <path d=\"M 0 0 \r\nL -3.5 0 \r\n\" id=\"m1be0f88c0f\" style=\"stroke:#000000;stroke-width:0.8;\"/>\r\n      </defs>\r\n      <g>\r\n       <use style=\"stroke:#000000;stroke-width:0.8;\" x=\"43.78125\" xlink:href=\"#m1be0f88c0f\" y=\"452.678438\"/>\r\n      </g>\r\n     </g>\r\n     <g id=\"text_39\">\r\n      <!-- 0.0 -->\r\n      <g transform=\"translate(20.878125 456.477656)scale(0.1 -0.1)\">\r\n       <defs>\r\n        <path d=\"M 31.78125 66.40625 \r\nQ 24.171875 66.40625 20.328125 58.90625 \r\nQ 16.5 51.421875 16.5 36.375 \r\nQ 16.5 21.390625 20.328125 13.890625 \r\nQ 24.171875 6.390625 31.78125 6.390625 \r\nQ 39.453125 6.390625 43.28125 13.890625 \r\nQ 47.125 21.390625 47.125 36.375 \r\nQ 47.125 51.421875 43.28125 58.90625 \r\nQ 39.453125 66.40625 31.78125 66.40625 \r\nz\r\nM 31.78125 74.21875 \r\nQ 44.046875 74.21875 50.515625 64.515625 \r\nQ 56.984375 54.828125 56.984375 36.375 \r\nQ 56.984375 17.96875 50.515625 8.265625 \r\nQ 44.046875 -1.421875 31.78125 -1.421875 \r\nQ 19.53125 -1.421875 13.0625 8.265625 \r\nQ 6.59375 17.96875 6.59375 36.375 \r\nQ 6.59375 54.828125 13.0625 64.515625 \r\nQ 19.53125 74.21875 31.78125 74.21875 \r\nz\r\n\" id=\"DejaVuSans-48\"/>\r\n        <path d=\"M 10.6875 12.40625 \r\nL 21 12.40625 \r\nL 21 0 \r\nL 10.6875 0 \r\nz\r\n\" id=\"DejaVuSans-46\"/>\r\n       </defs>\r\n       <use xlink:href=\"#DejaVuSans-48\"/>\r\n       <use x=\"63.623047\" xlink:href=\"#DejaVuSans-46\"/>\r\n       <use x=\"95.410156\" xlink:href=\"#DejaVuSans-48\"/>\r\n      </g>\r\n     </g>\r\n    </g>\r\n    <g id=\"ytick_2\">\r\n     <g id=\"line2d_39\">\r\n      <g>\r\n       <use style=\"stroke:#000000;stroke-width:0.8;\" x=\"43.78125\" xlink:href=\"#m1be0f88c0f\" y=\"387.605206\"/>\r\n      </g>\r\n     </g>\r\n     <g id=\"text_40\">\r\n      <!-- 0.2 -->\r\n      <g transform=\"translate(20.878125 391.404424)scale(0.1 -0.1)\">\r\n       <defs>\r\n        <path d=\"M 19.1875 8.296875 \r\nL 53.609375 8.296875 \r\nL 53.609375 0 \r\nL 7.328125 0 \r\nL 7.328125 8.296875 \r\nQ 12.9375 14.109375 22.625 23.890625 \r\nQ 32.328125 33.6875 34.8125 36.53125 \r\nQ 39.546875 41.84375 41.421875 45.53125 \r\nQ 43.3125 49.21875 43.3125 52.78125 \r\nQ 43.3125 58.59375 39.234375 62.25 \r\nQ 35.15625 65.921875 28.609375 65.921875 \r\nQ 23.96875 65.921875 18.8125 64.3125 \r\nQ 13.671875 62.703125 7.8125 59.421875 \r\nL 7.8125 69.390625 \r\nQ 13.765625 71.78125 18.9375 73 \r\nQ 24.125 74.21875 28.421875 74.21875 \r\nQ 39.75 74.21875 46.484375 68.546875 \r\nQ 53.21875 62.890625 53.21875 53.421875 \r\nQ 53.21875 48.921875 51.53125 44.890625 \r\nQ 49.859375 40.875 45.40625 35.40625 \r\nQ 44.1875 33.984375 37.640625 27.21875 \r\nQ 31.109375 20.453125 19.1875 8.296875 \r\nz\r\n\" id=\"DejaVuSans-50\"/>\r\n       </defs>\r\n       <use xlink:href=\"#DejaVuSans-48\"/>\r\n       <use x=\"63.623047\" xlink:href=\"#DejaVuSans-46\"/>\r\n       <use x=\"95.410156\" xlink:href=\"#DejaVuSans-50\"/>\r\n      </g>\r\n     </g>\r\n    </g>\r\n    <g id=\"ytick_3\">\r\n     <g id=\"line2d_40\">\r\n      <g>\r\n       <use style=\"stroke:#000000;stroke-width:0.8;\" x=\"43.78125\" xlink:href=\"#m1be0f88c0f\" y=\"322.531974\"/>\r\n      </g>\r\n     </g>\r\n     <g id=\"text_41\">\r\n      <!-- 0.4 -->\r\n      <g transform=\"translate(20.878125 326.331193)scale(0.1 -0.1)\">\r\n       <defs>\r\n        <path d=\"M 37.796875 64.3125 \r\nL 12.890625 25.390625 \r\nL 37.796875 25.390625 \r\nz\r\nM 35.203125 72.90625 \r\nL 47.609375 72.90625 \r\nL 47.609375 25.390625 \r\nL 58.015625 25.390625 \r\nL 58.015625 17.1875 \r\nL 47.609375 17.1875 \r\nL 47.609375 0 \r\nL 37.796875 0 \r\nL 37.796875 17.1875 \r\nL 4.890625 17.1875 \r\nL 4.890625 26.703125 \r\nz\r\n\" id=\"DejaVuSans-52\"/>\r\n       </defs>\r\n       <use xlink:href=\"#DejaVuSans-48\"/>\r\n       <use x=\"63.623047\" xlink:href=\"#DejaVuSans-46\"/>\r\n       <use x=\"95.410156\" xlink:href=\"#DejaVuSans-52\"/>\r\n      </g>\r\n     </g>\r\n    </g>\r\n    <g id=\"ytick_4\">\r\n     <g id=\"line2d_41\">\r\n      <g>\r\n       <use style=\"stroke:#000000;stroke-width:0.8;\" x=\"43.78125\" xlink:href=\"#m1be0f88c0f\" y=\"257.458742\"/>\r\n      </g>\r\n     </g>\r\n     <g id=\"text_42\">\r\n      <!-- 0.6 -->\r\n      <g transform=\"translate(20.878125 261.257961)scale(0.1 -0.1)\">\r\n       <defs>\r\n        <path d=\"M 33.015625 40.375 \r\nQ 26.375 40.375 22.484375 35.828125 \r\nQ 18.609375 31.296875 18.609375 23.390625 \r\nQ 18.609375 15.53125 22.484375 10.953125 \r\nQ 26.375 6.390625 33.015625 6.390625 \r\nQ 39.65625 6.390625 43.53125 10.953125 \r\nQ 47.40625 15.53125 47.40625 23.390625 \r\nQ 47.40625 31.296875 43.53125 35.828125 \r\nQ 39.65625 40.375 33.015625 40.375 \r\nz\r\nM 52.59375 71.296875 \r\nL 52.59375 62.3125 \r\nQ 48.875 64.0625 45.09375 64.984375 \r\nQ 41.3125 65.921875 37.59375 65.921875 \r\nQ 27.828125 65.921875 22.671875 59.328125 \r\nQ 17.53125 52.734375 16.796875 39.40625 \r\nQ 19.671875 43.65625 24.015625 45.921875 \r\nQ 28.375 48.1875 33.59375 48.1875 \r\nQ 44.578125 48.1875 50.953125 41.515625 \r\nQ 57.328125 34.859375 57.328125 23.390625 \r\nQ 57.328125 12.15625 50.6875 5.359375 \r\nQ 44.046875 -1.421875 33.015625 -1.421875 \r\nQ 20.359375 -1.421875 13.671875 8.265625 \r\nQ 6.984375 17.96875 6.984375 36.375 \r\nQ 6.984375 53.65625 15.1875 63.9375 \r\nQ 23.390625 74.21875 37.203125 74.21875 \r\nQ 40.921875 74.21875 44.703125 73.484375 \r\nQ 48.484375 72.75 52.59375 71.296875 \r\nz\r\n\" id=\"DejaVuSans-54\"/>\r\n       </defs>\r\n       <use xlink:href=\"#DejaVuSans-48\"/>\r\n       <use x=\"63.623047\" xlink:href=\"#DejaVuSans-46\"/>\r\n       <use x=\"95.410156\" xlink:href=\"#DejaVuSans-54\"/>\r\n      </g>\r\n     </g>\r\n    </g>\r\n    <g id=\"ytick_5\">\r\n     <g id=\"line2d_42\">\r\n      <g>\r\n       <use style=\"stroke:#000000;stroke-width:0.8;\" x=\"43.78125\" xlink:href=\"#m1be0f88c0f\" y=\"192.38551\"/>\r\n      </g>\r\n     </g>\r\n     <g id=\"text_43\">\r\n      <!-- 0.8 -->\r\n      <g transform=\"translate(20.878125 196.184729)scale(0.1 -0.1)\">\r\n       <defs>\r\n        <path d=\"M 31.78125 34.625 \r\nQ 24.75 34.625 20.71875 30.859375 \r\nQ 16.703125 27.09375 16.703125 20.515625 \r\nQ 16.703125 13.921875 20.71875 10.15625 \r\nQ 24.75 6.390625 31.78125 6.390625 \r\nQ 38.8125 6.390625 42.859375 10.171875 \r\nQ 46.921875 13.96875 46.921875 20.515625 \r\nQ 46.921875 27.09375 42.890625 30.859375 \r\nQ 38.875 34.625 31.78125 34.625 \r\nz\r\nM 21.921875 38.8125 \r\nQ 15.578125 40.375 12.03125 44.71875 \r\nQ 8.5 49.078125 8.5 55.328125 \r\nQ 8.5 64.0625 14.71875 69.140625 \r\nQ 20.953125 74.21875 31.78125 74.21875 \r\nQ 42.671875 74.21875 48.875 69.140625 \r\nQ 55.078125 64.0625 55.078125 55.328125 \r\nQ 55.078125 49.078125 51.53125 44.71875 \r\nQ 48 40.375 41.703125 38.8125 \r\nQ 48.828125 37.15625 52.796875 32.3125 \r\nQ 56.78125 27.484375 56.78125 20.515625 \r\nQ 56.78125 9.90625 50.3125 4.234375 \r\nQ 43.84375 -1.421875 31.78125 -1.421875 \r\nQ 19.734375 -1.421875 13.25 4.234375 \r\nQ 6.78125 9.90625 6.78125 20.515625 \r\nQ 6.78125 27.484375 10.78125 32.3125 \r\nQ 14.796875 37.15625 21.921875 38.8125 \r\nz\r\nM 18.3125 54.390625 \r\nQ 18.3125 48.734375 21.84375 45.5625 \r\nQ 25.390625 42.390625 31.78125 42.390625 \r\nQ 38.140625 42.390625 41.71875 45.5625 \r\nQ 45.3125 48.734375 45.3125 54.390625 \r\nQ 45.3125 60.0625 41.71875 63.234375 \r\nQ 38.140625 66.40625 31.78125 66.40625 \r\nQ 25.390625 66.40625 21.84375 63.234375 \r\nQ 18.3125 60.0625 18.3125 54.390625 \r\nz\r\n\" id=\"DejaVuSans-56\"/>\r\n       </defs>\r\n       <use xlink:href=\"#DejaVuSans-48\"/>\r\n       <use x=\"63.623047\" xlink:href=\"#DejaVuSans-46\"/>\r\n       <use x=\"95.410156\" xlink:href=\"#DejaVuSans-56\"/>\r\n      </g>\r\n     </g>\r\n    </g>\r\n    <g id=\"ytick_6\">\r\n     <g id=\"line2d_43\">\r\n      <g>\r\n       <use style=\"stroke:#000000;stroke-width:0.8;\" x=\"43.78125\" xlink:href=\"#m1be0f88c0f\" y=\"127.312279\"/>\r\n      </g>\r\n     </g>\r\n     <g id=\"text_44\">\r\n      <!-- 1.0 -->\r\n      <g transform=\"translate(20.878125 131.111497)scale(0.1 -0.1)\">\r\n       <defs>\r\n        <path d=\"M 12.40625 8.296875 \r\nL 28.515625 8.296875 \r\nL 28.515625 63.921875 \r\nL 10.984375 60.40625 \r\nL 10.984375 69.390625 \r\nL 28.421875 72.90625 \r\nL 38.28125 72.90625 \r\nL 38.28125 8.296875 \r\nL 54.390625 8.296875 \r\nL 54.390625 0 \r\nL 12.40625 0 \r\nz\r\n\" id=\"DejaVuSans-49\"/>\r\n       </defs>\r\n       <use xlink:href=\"#DejaVuSans-49\"/>\r\n       <use x=\"63.623047\" xlink:href=\"#DejaVuSans-46\"/>\r\n       <use x=\"95.410156\" xlink:href=\"#DejaVuSans-48\"/>\r\n      </g>\r\n     </g>\r\n    </g>\r\n    <g id=\"ytick_7\">\r\n     <g id=\"line2d_44\">\r\n      <g>\r\n       <use style=\"stroke:#000000;stroke-width:0.8;\" x=\"43.78125\" xlink:href=\"#m1be0f88c0f\" y=\"62.239047\"/>\r\n      </g>\r\n     </g>\r\n     <g id=\"text_45\">\r\n      <!-- 1.2 -->\r\n      <g transform=\"translate(20.878125 66.038266)scale(0.1 -0.1)\">\r\n       <use xlink:href=\"#DejaVuSans-49\"/>\r\n       <use x=\"63.623047\" xlink:href=\"#DejaVuSans-46\"/>\r\n       <use x=\"95.410156\" xlink:href=\"#DejaVuSans-50\"/>\r\n      </g>\r\n     </g>\r\n    </g>\r\n    <g id=\"text_46\">\r\n     <!-- UnitPrice -->\r\n     <g transform=\"translate(14.798438 257.613438)rotate(-90)scale(0.1 -0.1)\">\r\n      <use xlink:href=\"#DejaVuSans-85\"/>\r\n      <use x=\"73.193359\" xlink:href=\"#DejaVuSans-110\"/>\r\n      <use x=\"136.572266\" xlink:href=\"#DejaVuSans-105\"/>\r\n      <use x=\"164.355469\" xlink:href=\"#DejaVuSans-116\"/>\r\n      <use x=\"203.564453\" xlink:href=\"#DejaVuSans-80\"/>\r\n      <use x=\"262.117188\" xlink:href=\"#DejaVuSans-114\"/>\r\n      <use x=\"303.230469\" xlink:href=\"#DejaVuSans-105\"/>\r\n      <use x=\"331.013672\" xlink:href=\"#DejaVuSans-99\"/>\r\n      <use x=\"385.994141\" xlink:href=\"#DejaVuSans-101\"/>\r\n     </g>\r\n    </g>\r\n    <g id=\"text_47\">\r\n     <!-- 1e6 -->\r\n     <g transform=\"translate(43.78125 14.798437)scale(0.1 -0.1)\">\r\n      <use xlink:href=\"#DejaVuSans-49\"/>\r\n      <use x=\"63.623047\" xlink:href=\"#DejaVuSans-101\"/>\r\n      <use x=\"125.146484\" xlink:href=\"#DejaVuSans-54\"/>\r\n     </g>\r\n    </g>\r\n   </g>\r\n   <g id=\"line2d_45\">\r\n    <path clip-path=\"url(#p8856caebd0)\" d=\"M 52.829899 89.001802 \r\nL 52.829899 38.507009 \r\n\" style=\"fill:none;stroke:#424242;stroke-linecap:square;stroke-width:2.7;\"/>\r\n   </g>\r\n   <g id=\"line2d_46\">\r\n    <path clip-path=\"url(#p8856caebd0)\" d=\"M 70.927196 442.547592 \r\nL 70.927196 433.363151 \r\n\" style=\"fill:none;stroke:#424242;stroke-linecap:square;stroke-width:2.7;\"/>\r\n   </g>\r\n   <g id=\"line2d_47\">\r\n    <path clip-path=\"url(#p8856caebd0)\" d=\"M 89.024493 451.578922 \r\nL 89.024493 451.053903 \r\n\" style=\"fill:none;stroke:#424242;stroke-linecap:square;stroke-width:2.7;\"/>\r\n   </g>\r\n   <g id=\"line2d_48\">\r\n    <path clip-path=\"url(#p8856caebd0)\" d=\"M 107.121791 450.743179 \r\nL 107.121791 450.356045 \r\n\" style=\"fill:none;stroke:#424242;stroke-linecap:square;stroke-width:2.7;\"/>\r\n   </g>\r\n   <g id=\"line2d_49\">\r\n    <path clip-path=\"url(#p8856caebd0)\" d=\"M 125.219088 441.381179 \r\nL 125.219088 439.287774 \r\n\" style=\"fill:none;stroke:#424242;stroke-linecap:square;stroke-width:2.7;\"/>\r\n   </g>\r\n   <g id=\"line2d_50\">\r\n    <path clip-path=\"url(#p8856caebd0)\" d=\"M 143.316385 451.075642 \r\nL 143.316385 449.886586 \r\n\" style=\"fill:none;stroke:#424242;stroke-linecap:square;stroke-width:2.7;\"/>\r\n   </g>\r\n   <g id=\"line2d_51\">\r\n    <path clip-path=\"url(#p8856caebd0)\" d=\"M 161.413682 442.140442 \r\nL 161.413682 437.617711 \r\n\" style=\"fill:none;stroke:#424242;stroke-linecap:square;stroke-width:2.7;\"/>\r\n   </g>\r\n   <g id=\"line2d_52\">\r\n    <path clip-path=\"url(#p8856caebd0)\" d=\"M 179.51098 450.677257 \r\nL 179.51098 450.385767 \r\n\" style=\"fill:none;stroke:#424242;stroke-linecap:square;stroke-width:2.7;\"/>\r\n   </g>\r\n   <g id=\"line2d_53\">\r\n    <path clip-path=\"url(#p8856caebd0)\" d=\"M 197.608277 449.566157 \r\nL 197.608277 446.986036 \r\n\" style=\"fill:none;stroke:#424242;stroke-linecap:square;stroke-width:2.7;\"/>\r\n   </g>\r\n   <g id=\"line2d_54\">\r\n    <path clip-path=\"url(#p8856caebd0)\" d=\"M 215.705574 452.277669 \r\nL 215.705574 452.136512 \r\n\" style=\"fill:none;stroke:#424242;stroke-linecap:square;stroke-width:2.7;\"/>\r\n   </g>\r\n   <g id=\"line2d_55\">\r\n    <path clip-path=\"url(#p8856caebd0)\" d=\"M 233.802872 450.020033 \r\nL 233.802872 446.68914 \r\n\" style=\"fill:none;stroke:#424242;stroke-linecap:square;stroke-width:2.7;\"/>\r\n   </g>\r\n   <g id=\"line2d_56\">\r\n    <path clip-path=\"url(#p8856caebd0)\" d=\"M 251.900169 451.588926 \r\nL 251.900169 451.147854 \r\n\" style=\"fill:none;stroke:#424242;stroke-linecap:square;stroke-width:2.7;\"/>\r\n   </g>\r\n   <g id=\"line2d_57\">\r\n    <path clip-path=\"url(#p8856caebd0)\" d=\"M 269.997466 450.345959 \r\nL 269.997466 450.098318 \r\n\" style=\"fill:none;stroke:#424242;stroke-linecap:square;stroke-width:2.7;\"/>\r\n   </g>\r\n   <g id=\"line2d_58\">\r\n    <path clip-path=\"url(#p8856caebd0)\" d=\"M 288.094764 452.651059 \r\nL 288.094764 452.641234 \r\n\" style=\"fill:none;stroke:#424242;stroke-linecap:square;stroke-width:2.7;\"/>\r\n   </g>\r\n   <g id=\"line2d_59\">\r\n    <path clip-path=\"url(#p8856caebd0)\" d=\"M 306.192061 452.444462 \r\nL 306.192061 452.375468 \r\n\" style=\"fill:none;stroke:#424242;stroke-linecap:square;stroke-width:2.7;\"/>\r\n   </g>\r\n   <g id=\"line2d_60\">\r\n    <path clip-path=\"url(#p8856caebd0)\" d=\"M 324.289358 452.540613 \r\nL 324.289358 452.502986 \r\n\" style=\"fill:none;stroke:#424242;stroke-linecap:square;stroke-width:2.7;\"/>\r\n   </g>\r\n   <g id=\"line2d_61\">\r\n    <path clip-path=\"url(#p8856caebd0)\" d=\"M 342.386655 451.682696 \r\nL 342.386655 451.17285 \r\n\" style=\"fill:none;stroke:#424242;stroke-linecap:square;stroke-width:2.7;\"/>\r\n   </g>\r\n   <g id=\"line2d_62\">\r\n    <path clip-path=\"url(#p8856caebd0)\" d=\"M 360.483953 452.317827 \r\nL 360.483953 452.217036 \r\n\" style=\"fill:none;stroke:#424242;stroke-linecap:square;stroke-width:2.7;\"/>\r\n   </g>\r\n   <g id=\"line2d_63\">\r\n    <path clip-path=\"url(#p8856caebd0)\" d=\"M 378.58125 451.701575 \r\nL 378.58125 450.998456 \r\n\" style=\"fill:none;stroke:#424242;stroke-linecap:square;stroke-width:2.7;\"/>\r\n   </g>\r\n   <g id=\"line2d_64\">\r\n    <path clip-path=\"url(#p8856caebd0)\" d=\"M 396.678547 452.19781 \r\nL 396.678547 451.981552 \r\n\" style=\"fill:none;stroke:#424242;stroke-linecap:square;stroke-width:2.7;\"/>\r\n   </g>\r\n   <g id=\"line2d_65\">\r\n    <path clip-path=\"url(#p8856caebd0)\" d=\"M 414.775845 452.223787 \r\nL 414.775845 452.030217 \r\n\" style=\"fill:none;stroke:#424242;stroke-linecap:square;stroke-width:2.7;\"/>\r\n   </g>\r\n   <g id=\"line2d_66\">\r\n    <path clip-path=\"url(#p8856caebd0)\" d=\"M 432.873142 452.457741 \r\nL 432.873142 452.275434 \r\n\" style=\"fill:none;stroke:#424242;stroke-linecap:square;stroke-width:2.7;\"/>\r\n   </g>\r\n   <g id=\"line2d_67\">\r\n    <path clip-path=\"url(#p8856caebd0)\" d=\"M 450.970439 451.629317 \r\nL 450.970439 451.218447 \r\n\" style=\"fill:none;stroke:#424242;stroke-linecap:square;stroke-width:2.7;\"/>\r\n   </g>\r\n   <g id=\"line2d_68\">\r\n    <path clip-path=\"url(#p8856caebd0)\" d=\"M 469.067736 452.506169 \r\nL 469.067736 452.376026 \r\n\" style=\"fill:none;stroke:#424242;stroke-linecap:square;stroke-width:2.7;\"/>\r\n   </g>\r\n   <g id=\"line2d_69\">\r\n    <path clip-path=\"url(#p8856caebd0)\" d=\"M 487.165034 448.886728 \r\nL 487.165034 438.833842 \r\n\" style=\"fill:none;stroke:#424242;stroke-linecap:square;stroke-width:2.7;\"/>\r\n   </g>\r\n   <g id=\"line2d_70\">\r\n    <path clip-path=\"url(#p8856caebd0)\" d=\"M 505.262331 452.61607 \r\nL 505.262331 452.581472 \r\n\" style=\"fill:none;stroke:#424242;stroke-linecap:square;stroke-width:2.7;\"/>\r\n   </g>\r\n   <g id=\"line2d_71\">\r\n    <path clip-path=\"url(#p8856caebd0)\" d=\"M 523.359628 452.628824 \r\nL 523.359628 452.57259 \r\n\" style=\"fill:none;stroke:#424242;stroke-linecap:square;stroke-width:2.7;\"/>\r\n   </g>\r\n   <g id=\"line2d_72\">\r\n    <path clip-path=\"url(#p8856caebd0)\" d=\"M 541.456926 452.672818 \r\nL 541.456926 452.66767 \r\n\" style=\"fill:none;stroke:#424242;stroke-linecap:square;stroke-width:2.7;\"/>\r\n   </g>\r\n   <g id=\"line2d_73\">\r\n    <path clip-path=\"url(#p8856caebd0)\" d=\"M 559.554223 452.665308 \r\nL 559.554223 452.623062 \r\n\" style=\"fill:none;stroke:#424242;stroke-linecap:square;stroke-width:2.7;\"/>\r\n   </g>\r\n   <g id=\"line2d_74\">\r\n    <path clip-path=\"url(#p8856caebd0)\" d=\"M 577.65152 452.574763 \r\nL 577.65152 452.016132 \r\n\" style=\"fill:none;stroke:#424242;stroke-linecap:square;stroke-width:2.7;\"/>\r\n   </g>\r\n   <g id=\"line2d_75\">\r\n    <path clip-path=\"url(#p8856caebd0)\" d=\"M 595.748818 452.454502 \r\nL 595.748818 452.389161 \r\n\" style=\"fill:none;stroke:#424242;stroke-linecap:square;stroke-width:2.7;\"/>\r\n   </g>\r\n   <g id=\"line2d_76\">\r\n    <path clip-path=\"url(#p8856caebd0)\" d=\"M 613.846115 452.641149 \r\nL 613.846115 452.621768 \r\n\" style=\"fill:none;stroke:#424242;stroke-linecap:square;stroke-width:2.7;\"/>\r\n   </g>\r\n   <g id=\"line2d_77\">\r\n    <path clip-path=\"url(#p8856caebd0)\" d=\"M 631.943412 452.492177 \r\nL 631.943412 452.443512 \r\n\" style=\"fill:none;stroke:#424242;stroke-linecap:square;stroke-width:2.7;\"/>\r\n   </g>\r\n   <g id=\"line2d_78\">\r\n    <path clip-path=\"url(#p8856caebd0)\" d=\"M 650.040709 452.602547 \r\nL 650.040709 452.560321 \r\n\" style=\"fill:none;stroke:#424242;stroke-linecap:square;stroke-width:2.7;\"/>\r\n   </g>\r\n   <g id=\"line2d_79\">\r\n    <path clip-path=\"url(#p8856caebd0)\" d=\"M 668.138007 452.660982 \r\nL 668.138007 452.642886 \r\n\" style=\"fill:none;stroke:#424242;stroke-linecap:square;stroke-width:2.7;\"/>\r\n   </g>\r\n   <g id=\"line2d_80\">\r\n    <path clip-path=\"url(#p8856caebd0)\" d=\"M 686.235304 452.519734 \r\nL 686.235304 452.393915 \r\n\" style=\"fill:none;stroke:#424242;stroke-linecap:square;stroke-width:2.7;\"/>\r\n   </g>\r\n   <g id=\"line2d_81\">\r\n    <path clip-path=\"url(#p8856caebd0)\" d=\"M 704.332601 452.616289 \r\nL 704.332601 452.579204 \r\n\" style=\"fill:none;stroke:#424242;stroke-linecap:square;stroke-width:2.7;\"/>\r\n   </g>\r\n   <g id=\"patch_40\">\r\n    <path d=\"M 43.78125 452.678438 \r\nL 43.78125 17.798437 \r\n\" style=\"fill:none;stroke:#000000;stroke-linecap:square;stroke-linejoin:miter;stroke-width:0.8;\"/>\r\n   </g>\r\n   <g id=\"patch_41\">\r\n    <path d=\"M 713.38125 452.678438 \r\nL 713.38125 17.798437 \r\n\" style=\"fill:none;stroke:#000000;stroke-linecap:square;stroke-linejoin:miter;stroke-width:0.8;\"/>\r\n   </g>\r\n   <g id=\"patch_42\">\r\n    <path d=\"M 43.78125 452.678438 \r\nL 713.38125 452.678438 \r\n\" style=\"fill:none;stroke:#000000;stroke-linecap:square;stroke-linejoin:miter;stroke-width:0.8;\"/>\r\n   </g>\r\n   <g id=\"patch_43\">\r\n    <path d=\"M 43.78125 17.798437 \r\nL 713.38125 17.798437 \r\n\" style=\"fill:none;stroke:#000000;stroke-linecap:square;stroke-linejoin:miter;stroke-width:0.8;\"/>\r\n   </g>\r\n  </g>\r\n </g>\r\n <defs>\r\n  <clipPath id=\"p8856caebd0\">\r\n   <rect height=\"434.88\" width=\"669.6\" x=\"43.78125\" y=\"17.798437\"/>\r\n  </clipPath>\r\n </defs>\r\n</svg>\r\n",
            "image/png": "[encoded data removed]"
          },
          "metadata": {
            "needs_background": "light"
          }
        }
      ],
      "metadata": {
        "id": "5i0nVOggiqa8"
      }
    },
    {
      "cell_type": "markdown",
      "source": [
        "#### The UK not only has the most sales revenue, but also the most customers. Since the majority of this data set contains orders from the UK, we can explore the UK market further by finding out what products the customers buy together and any other buying behaviors to improve our sales and targeting strategy."
      ],
      "metadata": {
        "id": "hwfJuBVCQGWR"
      }
    },
    {
      "cell_type": "code",
      "execution_count": 63,
      "source": [
        "df.Country"
      ],
      "outputs": [
        {
          "output_type": "execute_result",
          "data": {
            "text/plain": [
              "0         United Kingdom\n",
              "1         United Kingdom\n",
              "2         United Kingdom\n",
              "3         United Kingdom\n",
              "4         United Kingdom\n",
              "               ...      \n",
              "541904            France\n",
              "541905            France\n",
              "541906            France\n",
              "541907            France\n",
              "541908            France\n",
              "Name: Country, Length: 406829, dtype: object"
            ]
          },
          "metadata": {},
          "execution_count": 63
        }
      ],
      "metadata": {
        "id": "LlyhW9eXiqa9"
      }
    },
    {
      "cell_type": "code",
      "execution_count": 64,
      "source": [
        "df[df.Country == \"United Kingdom\"]"
      ],
      "outputs": [
        {
          "output_type": "execute_result",
          "data": {
            "text/plain": [
              "       InvoiceNo StockCode                          Description  Quantity  \\\n",
              "0         536365    85123A   WHITE HANGING HEART T-LIGHT HOLDER         6   \n",
              "1         536365     71053                  WHITE METAL LANTERN         6   \n",
              "2         536365    84406B       CREAM CUPID HEARTS COAT HANGER         8   \n",
              "3         536365    84029G  KNITTED UNION FLAG HOT WATER BOTTLE         6   \n",
              "4         536365    84029E       RED WOOLLY HOTTIE WHITE HEART.         6   \n",
              "...          ...       ...                                  ...       ...   \n",
              "541889    581585     22466       FAIRY TALE COTTAGE NIGHT LIGHT        12   \n",
              "541890    581586     22061  LARGE CAKE STAND  HANGING STRAWBERY         8   \n",
              "541891    581586     23275     SET OF 3 HANGING OWLS OLLIE BEAK        24   \n",
              "541892    581586     21217        RED RETROSPOT ROUND CAKE TINS        24   \n",
              "541893    581586     20685                DOORMAT RED RETROSPOT        10   \n",
              "\n",
              "               InvoiceDate  UnitPrice  CustomerID         Country  \n",
              "0      2010-12-01 08:26:00       2.55     17850.0  United Kingdom  \n",
              "1      2010-12-01 08:26:00       3.39     17850.0  United Kingdom  \n",
              "2      2010-12-01 08:26:00       2.75     17850.0  United Kingdom  \n",
              "3      2010-12-01 08:26:00       3.39     17850.0  United Kingdom  \n",
              "4      2010-12-01 08:26:00       3.39     17850.0  United Kingdom  \n",
              "...                    ...        ...         ...             ...  \n",
              "541889 2011-12-09 12:31:00       1.95     15804.0  United Kingdom  \n",
              "541890 2011-12-09 12:49:00       2.95     13113.0  United Kingdom  \n",
              "541891 2011-12-09 12:49:00       1.25     13113.0  United Kingdom  \n",
              "541892 2011-12-09 12:49:00       8.95     13113.0  United Kingdom  \n",
              "541893 2011-12-09 12:49:00       7.08     13113.0  United Kingdom  \n",
              "\n",
              "[361878 rows x 8 columns]"
            ],
            "text/html": [
              "<div>\n",
              "<style scoped>\n",
              "    .dataframe tbody tr th:only-of-type {\n",
              "        vertical-align: middle;\n",
              "    }\n",
              "\n",
              "    .dataframe tbody tr th {\n",
              "        vertical-align: top;\n",
              "    }\n",
              "\n",
              "    .dataframe thead th {\n",
              "        text-align: right;\n",
              "    }\n",
              "</style>\n",
              "<table border=\"1\" class=\"dataframe\">\n",
              "  <thead>\n",
              "    <tr style=\"text-align: right;\">\n",
              "      <th></th>\n",
              "      <th>InvoiceNo</th>\n",
              "      <th>StockCode</th>\n",
              "      <th>Description</th>\n",
              "      <th>Quantity</th>\n",
              "      <th>InvoiceDate</th>\n",
              "      <th>UnitPrice</th>\n",
              "      <th>CustomerID</th>\n",
              "      <th>Country</th>\n",
              "    </tr>\n",
              "  </thead>\n",
              "  <tbody>\n",
              "    <tr>\n",
              "      <th>0</th>\n",
              "      <td>536365</td>\n",
              "      <td>85123A</td>\n",
              "      <td>WHITE HANGING HEART T-LIGHT HOLDER</td>\n",
              "      <td>6</td>\n",
              "      <td>2010-12-01 08:26:00</td>\n",
              "      <td>2.55</td>\n",
              "      <td>17850.0</td>\n",
              "      <td>United Kingdom</td>\n",
              "    </tr>\n",
              "    <tr>\n",
              "      <th>1</th>\n",
              "      <td>536365</td>\n",
              "      <td>71053</td>\n",
              "      <td>WHITE METAL LANTERN</td>\n",
              "      <td>6</td>\n",
              "      <td>2010-12-01 08:26:00</td>\n",
              "      <td>3.39</td>\n",
              "      <td>17850.0</td>\n",
              "      <td>United Kingdom</td>\n",
              "    </tr>\n",
              "    <tr>\n",
              "      <th>2</th>\n",
              "      <td>536365</td>\n",
              "      <td>84406B</td>\n",
              "      <td>CREAM CUPID HEARTS COAT HANGER</td>\n",
              "      <td>8</td>\n",
              "      <td>2010-12-01 08:26:00</td>\n",
              "      <td>2.75</td>\n",
              "      <td>17850.0</td>\n",
              "      <td>United Kingdom</td>\n",
              "    </tr>\n",
              "    <tr>\n",
              "      <th>3</th>\n",
              "      <td>536365</td>\n",
              "      <td>84029G</td>\n",
              "      <td>KNITTED UNION FLAG HOT WATER BOTTLE</td>\n",
              "      <td>6</td>\n",
              "      <td>2010-12-01 08:26:00</td>\n",
              "      <td>3.39</td>\n",
              "      <td>17850.0</td>\n",
              "      <td>United Kingdom</td>\n",
              "    </tr>\n",
              "    <tr>\n",
              "      <th>4</th>\n",
              "      <td>536365</td>\n",
              "      <td>84029E</td>\n",
              "      <td>RED WOOLLY HOTTIE WHITE HEART.</td>\n",
              "      <td>6</td>\n",
              "      <td>2010-12-01 08:26:00</td>\n",
              "      <td>3.39</td>\n",
              "      <td>17850.0</td>\n",
              "      <td>United Kingdom</td>\n",
              "    </tr>\n",
              "    <tr>\n",
              "      <th>...</th>\n",
              "      <td>...</td>\n",
              "      <td>...</td>\n",
              "      <td>...</td>\n",
              "      <td>...</td>\n",
              "      <td>...</td>\n",
              "      <td>...</td>\n",
              "      <td>...</td>\n",
              "      <td>...</td>\n",
              "    </tr>\n",
              "    <tr>\n",
              "      <th>541889</th>\n",
              "      <td>581585</td>\n",
              "      <td>22466</td>\n",
              "      <td>FAIRY TALE COTTAGE NIGHT LIGHT</td>\n",
              "      <td>12</td>\n",
              "      <td>2011-12-09 12:31:00</td>\n",
              "      <td>1.95</td>\n",
              "      <td>15804.0</td>\n",
              "      <td>United Kingdom</td>\n",
              "    </tr>\n",
              "    <tr>\n",
              "      <th>541890</th>\n",
              "      <td>581586</td>\n",
              "      <td>22061</td>\n",
              "      <td>LARGE CAKE STAND  HANGING STRAWBERY</td>\n",
              "      <td>8</td>\n",
              "      <td>2011-12-09 12:49:00</td>\n",
              "      <td>2.95</td>\n",
              "      <td>13113.0</td>\n",
              "      <td>United Kingdom</td>\n",
              "    </tr>\n",
              "    <tr>\n",
              "      <th>541891</th>\n",
              "      <td>581586</td>\n",
              "      <td>23275</td>\n",
              "      <td>SET OF 3 HANGING OWLS OLLIE BEAK</td>\n",
              "      <td>24</td>\n",
              "      <td>2011-12-09 12:49:00</td>\n",
              "      <td>1.25</td>\n",
              "      <td>13113.0</td>\n",
              "      <td>United Kingdom</td>\n",
              "    </tr>\n",
              "    <tr>\n",
              "      <th>541892</th>\n",
              "      <td>581586</td>\n",
              "      <td>21217</td>\n",
              "      <td>RED RETROSPOT ROUND CAKE TINS</td>\n",
              "      <td>24</td>\n",
              "      <td>2011-12-09 12:49:00</td>\n",
              "      <td>8.95</td>\n",
              "      <td>13113.0</td>\n",
              "      <td>United Kingdom</td>\n",
              "    </tr>\n",
              "    <tr>\n",
              "      <th>541893</th>\n",
              "      <td>581586</td>\n",
              "      <td>20685</td>\n",
              "      <td>DOORMAT RED RETROSPOT</td>\n",
              "      <td>10</td>\n",
              "      <td>2011-12-09 12:49:00</td>\n",
              "      <td>7.08</td>\n",
              "      <td>13113.0</td>\n",
              "      <td>United Kingdom</td>\n",
              "    </tr>\n",
              "  </tbody>\n",
              "</table>\n",
              "<p>361878 rows × 8 columns</p>\n",
              "</div>"
            ]
          },
          "metadata": {},
          "execution_count": 64
        }
      ],
      "metadata": {}
    },
    {
      "cell_type": "code",
      "execution_count": 66,
      "source": [
        "# df[df.Country == \"United Kingdom\"].isnull().sum()"
      ],
      "outputs": [],
      "metadata": {}
    },
    {
      "cell_type": "markdown",
      "source": [
        "### vii. Explore the UK Market\n"
      ],
      "metadata": {
        "id": "7A25nnqIQGWR"
      }
    },
    {
      "cell_type": "markdown",
      "source": [
        "1. Create df_uk DataFrame"
      ],
      "metadata": {
        "id": "wtWchB1Ziqa9"
      }
    },
    {
      "cell_type": "code",
      "execution_count": 123,
      "source": [
        "df_uk = df[df.Country == \"United Kingdom\"]\r\n",
        "df_uk.head()"
      ],
      "outputs": [
        {
          "output_type": "execute_result",
          "data": {
            "text/plain": [
              "  InvoiceNo StockCode                          Description  Quantity  \\\n",
              "0    536365    85123A   WHITE HANGING HEART T-LIGHT HOLDER         6   \n",
              "1    536365     71053                  WHITE METAL LANTERN         6   \n",
              "2    536365    84406B       CREAM CUPID HEARTS COAT HANGER         8   \n",
              "3    536365    84029G  KNITTED UNION FLAG HOT WATER BOTTLE         6   \n",
              "4    536365    84029E       RED WOOLLY HOTTIE WHITE HEART.         6   \n",
              "\n",
              "          InvoiceDate  UnitPrice  CustomerID         Country  \n",
              "0 2010-12-01 08:26:00       2.55     17850.0  United Kingdom  \n",
              "1 2010-12-01 08:26:00       3.39     17850.0  United Kingdom  \n",
              "2 2010-12-01 08:26:00       2.75     17850.0  United Kingdom  \n",
              "3 2010-12-01 08:26:00       3.39     17850.0  United Kingdom  \n",
              "4 2010-12-01 08:26:00       3.39     17850.0  United Kingdom  "
            ],
            "text/html": [
              "<div>\n",
              "<style scoped>\n",
              "    .dataframe tbody tr th:only-of-type {\n",
              "        vertical-align: middle;\n",
              "    }\n",
              "\n",
              "    .dataframe tbody tr th {\n",
              "        vertical-align: top;\n",
              "    }\n",
              "\n",
              "    .dataframe thead th {\n",
              "        text-align: right;\n",
              "    }\n",
              "</style>\n",
              "<table border=\"1\" class=\"dataframe\">\n",
              "  <thead>\n",
              "    <tr style=\"text-align: right;\">\n",
              "      <th></th>\n",
              "      <th>InvoiceNo</th>\n",
              "      <th>StockCode</th>\n",
              "      <th>Description</th>\n",
              "      <th>Quantity</th>\n",
              "      <th>InvoiceDate</th>\n",
              "      <th>UnitPrice</th>\n",
              "      <th>CustomerID</th>\n",
              "      <th>Country</th>\n",
              "    </tr>\n",
              "  </thead>\n",
              "  <tbody>\n",
              "    <tr>\n",
              "      <th>0</th>\n",
              "      <td>536365</td>\n",
              "      <td>85123A</td>\n",
              "      <td>WHITE HANGING HEART T-LIGHT HOLDER</td>\n",
              "      <td>6</td>\n",
              "      <td>2010-12-01 08:26:00</td>\n",
              "      <td>2.55</td>\n",
              "      <td>17850.0</td>\n",
              "      <td>United Kingdom</td>\n",
              "    </tr>\n",
              "    <tr>\n",
              "      <th>1</th>\n",
              "      <td>536365</td>\n",
              "      <td>71053</td>\n",
              "      <td>WHITE METAL LANTERN</td>\n",
              "      <td>6</td>\n",
              "      <td>2010-12-01 08:26:00</td>\n",
              "      <td>3.39</td>\n",
              "      <td>17850.0</td>\n",
              "      <td>United Kingdom</td>\n",
              "    </tr>\n",
              "    <tr>\n",
              "      <th>2</th>\n",
              "      <td>536365</td>\n",
              "      <td>84406B</td>\n",
              "      <td>CREAM CUPID HEARTS COAT HANGER</td>\n",
              "      <td>8</td>\n",
              "      <td>2010-12-01 08:26:00</td>\n",
              "      <td>2.75</td>\n",
              "      <td>17850.0</td>\n",
              "      <td>United Kingdom</td>\n",
              "    </tr>\n",
              "    <tr>\n",
              "      <th>3</th>\n",
              "      <td>536365</td>\n",
              "      <td>84029G</td>\n",
              "      <td>KNITTED UNION FLAG HOT WATER BOTTLE</td>\n",
              "      <td>6</td>\n",
              "      <td>2010-12-01 08:26:00</td>\n",
              "      <td>3.39</td>\n",
              "      <td>17850.0</td>\n",
              "      <td>United Kingdom</td>\n",
              "    </tr>\n",
              "    <tr>\n",
              "      <th>4</th>\n",
              "      <td>536365</td>\n",
              "      <td>84029E</td>\n",
              "      <td>RED WOOLLY HOTTIE WHITE HEART.</td>\n",
              "      <td>6</td>\n",
              "      <td>2010-12-01 08:26:00</td>\n",
              "      <td>3.39</td>\n",
              "      <td>17850.0</td>\n",
              "      <td>United Kingdom</td>\n",
              "    </tr>\n",
              "  </tbody>\n",
              "</table>\n",
              "</div>"
            ]
          },
          "metadata": {},
          "execution_count": 123
        }
      ],
      "metadata": {
        "id": "dsdH3cuZiqa9"
      }
    },
    {
      "cell_type": "markdown",
      "source": [
        "2. What are the most popular products that are bought in the UK?"
      ],
      "metadata": {
        "id": "is5kus2bQGWT"
      }
    },
    {
      "cell_type": "code",
      "execution_count": 124,
      "source": [
        "df_uk.Description.value_counts().sort_values(ascending=False)"
      ],
      "outputs": [
        {
          "output_type": "execute_result",
          "data": {
            "text/plain": [
              "WHITE HANGING HEART T-LIGHT HOLDER    1980\n",
              "REGENCY CAKESTAND 3 TIER              1574\n",
              "JUMBO BAG RED RETROSPOT               1505\n",
              "ASSORTED COLOUR BIRD ORNAMENT         1343\n",
              "PARTY BUNTING                         1327\n",
              "                                      ... \n",
              "RED PURSE WITH PINK HEART                1\n",
              "CAT WITH SUNGLASSES BLANK CARD           1\n",
              "BLUE FLYING SINGING CANARY               1\n",
              "JADE CRYSTAL+GLASS BRACELET              1\n",
              "PLAYING CARDS VINTAGE DOILEY             1\n",
              "Name: Description, Length: 3860, dtype: int64"
            ]
          },
          "metadata": {},
          "execution_count": 124
        }
      ],
      "metadata": {
        "id": "sCN56amLiqa9"
      }
    },
    {
      "cell_type": "code",
      "execution_count": 125,
      "source": [
        "df_uk.Description.nunique()"
      ],
      "outputs": [
        {
          "output_type": "execute_result",
          "data": {
            "text/plain": [
              "3860"
            ]
          },
          "metadata": {},
          "execution_count": 125
        }
      ],
      "metadata": {}
    },
    {
      "cell_type": "markdown",
      "source": [
        "### We will continue analyzing the UK transactions with customer segmentation."
      ],
      "metadata": {
        "id": "LHbqJD7bQGWU"
      }
    },
    {
      "cell_type": "markdown",
      "source": [
        "# 2. RFM Analysis"
      ],
      "metadata": {
        "id": "MAtzWvugQGWV"
      }
    },
    {
      "cell_type": "markdown",
      "source": [
        "In the age of the internet and e-commerce, companies that do not expand their businesses online or utilize digital tools to reach their customers will run into issues like scalability and a lack of digital precsence. An important marketing strategy e-commerce businesses use for analyzing and predicting customer value is customer segmentation. Customer data is used to sort customers into group based on their behaviors and preferences.\n",
        "\n",
        "**[RFM](https://www.putler.com/rfm-analysis/) (Recency, Frequency, Monetary) Analysis** is a customer segmentation technique for analyzing customer value based on past buying behavior. RFM analysis was first used by the direct mail industry more than four decades ago, yet it is still an effective way to optimize your marketing.\n",
        "<br>\n",
        "<br>\n",
        "Our goal in this Notebook is to cluster the customers in our data set to:\n",
        " - Recognize who are our most valuable customers\n",
        " - Increase revenue\n",
        " - Increase customer retention\n",
        " - Learn more about the trends and behaviors of our customers\n",
        " - Define customers that are at risk\n",
        "\n",
        "We will start with **RFM Analysis** and then compliment our findings with predictive analysis using **K-Means Clustering Algorithms.**\n",
        "\n",
        "- RECENCY (R): Time since last purchase\n",
        "- FREQUENCY (F): Total number of purchases\n",
        "- MONETARY VALUE (M): Total monetary value\n",
        "\n",
        "\n",
        "\n",
        "\n",
        "Benefits of RFM Analysis\n",
        "\n",
        "- Increased customer retention\n",
        "- Increased response rate\n",
        "- Increased conversion rate\n",
        "- Increased revenue\n",
        "\n",
        "RFM Analysis answers the following questions:\n",
        " - Who are our best customers?\n",
        " - Who has the potential to be converted into more profitable customers?\n",
        " - Which customers do we need to retain?\n",
        " - Which group of customers is most likely to respond to our marketing campaign?\n",
        " "
      ],
      "metadata": {
        "id": "v5uUAUQpQGWV"
      }
    },
    {
      "cell_type": "markdown",
      "source": [
        "### i. Import Libraries"
      ],
      "metadata": {
        "id": "zX47_J8OQGWV"
      }
    },
    {
      "cell_type": "code",
      "execution_count": 126,
      "source": [
        "import datetime as dt"
      ],
      "outputs": [],
      "metadata": {
        "id": "MOD15BxHiqa-"
      }
    },
    {
      "cell_type": "markdown",
      "source": [
        "### ii. Review df_uk DataFrame"
      ],
      "metadata": {
        "id": "9rYM4MJsQGWW"
      }
    },
    {
      "cell_type": "code",
      "execution_count": 127,
      "source": [
        "df_uk.head()"
      ],
      "outputs": [
        {
          "output_type": "execute_result",
          "data": {
            "text/plain": [
              "  InvoiceNo StockCode                          Description  Quantity  \\\n",
              "0    536365    85123A   WHITE HANGING HEART T-LIGHT HOLDER         6   \n",
              "1    536365     71053                  WHITE METAL LANTERN         6   \n",
              "2    536365    84406B       CREAM CUPID HEARTS COAT HANGER         8   \n",
              "3    536365    84029G  KNITTED UNION FLAG HOT WATER BOTTLE         6   \n",
              "4    536365    84029E       RED WOOLLY HOTTIE WHITE HEART.         6   \n",
              "\n",
              "          InvoiceDate  UnitPrice  CustomerID         Country  \n",
              "0 2010-12-01 08:26:00       2.55     17850.0  United Kingdom  \n",
              "1 2010-12-01 08:26:00       3.39     17850.0  United Kingdom  \n",
              "2 2010-12-01 08:26:00       2.75     17850.0  United Kingdom  \n",
              "3 2010-12-01 08:26:00       3.39     17850.0  United Kingdom  \n",
              "4 2010-12-01 08:26:00       3.39     17850.0  United Kingdom  "
            ],
            "text/html": [
              "<div>\n",
              "<style scoped>\n",
              "    .dataframe tbody tr th:only-of-type {\n",
              "        vertical-align: middle;\n",
              "    }\n",
              "\n",
              "    .dataframe tbody tr th {\n",
              "        vertical-align: top;\n",
              "    }\n",
              "\n",
              "    .dataframe thead th {\n",
              "        text-align: right;\n",
              "    }\n",
              "</style>\n",
              "<table border=\"1\" class=\"dataframe\">\n",
              "  <thead>\n",
              "    <tr style=\"text-align: right;\">\n",
              "      <th></th>\n",
              "      <th>InvoiceNo</th>\n",
              "      <th>StockCode</th>\n",
              "      <th>Description</th>\n",
              "      <th>Quantity</th>\n",
              "      <th>InvoiceDate</th>\n",
              "      <th>UnitPrice</th>\n",
              "      <th>CustomerID</th>\n",
              "      <th>Country</th>\n",
              "    </tr>\n",
              "  </thead>\n",
              "  <tbody>\n",
              "    <tr>\n",
              "      <th>0</th>\n",
              "      <td>536365</td>\n",
              "      <td>85123A</td>\n",
              "      <td>WHITE HANGING HEART T-LIGHT HOLDER</td>\n",
              "      <td>6</td>\n",
              "      <td>2010-12-01 08:26:00</td>\n",
              "      <td>2.55</td>\n",
              "      <td>17850.0</td>\n",
              "      <td>United Kingdom</td>\n",
              "    </tr>\n",
              "    <tr>\n",
              "      <th>1</th>\n",
              "      <td>536365</td>\n",
              "      <td>71053</td>\n",
              "      <td>WHITE METAL LANTERN</td>\n",
              "      <td>6</td>\n",
              "      <td>2010-12-01 08:26:00</td>\n",
              "      <td>3.39</td>\n",
              "      <td>17850.0</td>\n",
              "      <td>United Kingdom</td>\n",
              "    </tr>\n",
              "    <tr>\n",
              "      <th>2</th>\n",
              "      <td>536365</td>\n",
              "      <td>84406B</td>\n",
              "      <td>CREAM CUPID HEARTS COAT HANGER</td>\n",
              "      <td>8</td>\n",
              "      <td>2010-12-01 08:26:00</td>\n",
              "      <td>2.75</td>\n",
              "      <td>17850.0</td>\n",
              "      <td>United Kingdom</td>\n",
              "    </tr>\n",
              "    <tr>\n",
              "      <th>3</th>\n",
              "      <td>536365</td>\n",
              "      <td>84029G</td>\n",
              "      <td>KNITTED UNION FLAG HOT WATER BOTTLE</td>\n",
              "      <td>6</td>\n",
              "      <td>2010-12-01 08:26:00</td>\n",
              "      <td>3.39</td>\n",
              "      <td>17850.0</td>\n",
              "      <td>United Kingdom</td>\n",
              "    </tr>\n",
              "    <tr>\n",
              "      <th>4</th>\n",
              "      <td>536365</td>\n",
              "      <td>84029E</td>\n",
              "      <td>RED WOOLLY HOTTIE WHITE HEART.</td>\n",
              "      <td>6</td>\n",
              "      <td>2010-12-01 08:26:00</td>\n",
              "      <td>3.39</td>\n",
              "      <td>17850.0</td>\n",
              "      <td>United Kingdom</td>\n",
              "    </tr>\n",
              "  </tbody>\n",
              "</table>\n",
              "</div>"
            ]
          },
          "metadata": {},
          "execution_count": 127
        }
      ],
      "metadata": {
        "id": "oQHyAJNeiqa-"
      }
    },
    {
      "cell_type": "code",
      "execution_count": 128,
      "source": [
        "df_uk.info()"
      ],
      "outputs": [
        {
          "output_type": "stream",
          "name": "stdout",
          "text": [
            "<class 'pandas.core.frame.DataFrame'>\n",
            "Int64Index: 361878 entries, 0 to 541893\n",
            "Data columns (total 8 columns):\n",
            " #   Column       Non-Null Count   Dtype         \n",
            "---  ------       --------------   -----         \n",
            " 0   InvoiceNo    361878 non-null  object        \n",
            " 1   StockCode    361878 non-null  object        \n",
            " 2   Description  361878 non-null  object        \n",
            " 3   Quantity     361878 non-null  int64         \n",
            " 4   InvoiceDate  361878 non-null  datetime64[ns]\n",
            " 5   UnitPrice    361878 non-null  float64       \n",
            " 6   CustomerID   361878 non-null  float64       \n",
            " 7   Country      361878 non-null  object        \n",
            "dtypes: datetime64[ns](1), float64(2), int64(1), object(4)\n",
            "memory usage: 24.8+ MB\n"
          ]
        }
      ],
      "metadata": {}
    },
    {
      "cell_type": "code",
      "execution_count": 129,
      "source": [
        "df_uk[df_uk.UnitPrice < 0]"
      ],
      "outputs": [
        {
          "output_type": "execute_result",
          "data": {
            "text/plain": [
              "Empty DataFrame\n",
              "Columns: [InvoiceNo, StockCode, Description, Quantity, InvoiceDate, UnitPrice, CustomerID, Country]\n",
              "Index: []"
            ],
            "text/html": [
              "<div>\n",
              "<style scoped>\n",
              "    .dataframe tbody tr th:only-of-type {\n",
              "        vertical-align: middle;\n",
              "    }\n",
              "\n",
              "    .dataframe tbody tr th {\n",
              "        vertical-align: top;\n",
              "    }\n",
              "\n",
              "    .dataframe thead th {\n",
              "        text-align: right;\n",
              "    }\n",
              "</style>\n",
              "<table border=\"1\" class=\"dataframe\">\n",
              "  <thead>\n",
              "    <tr style=\"text-align: right;\">\n",
              "      <th></th>\n",
              "      <th>InvoiceNo</th>\n",
              "      <th>StockCode</th>\n",
              "      <th>Description</th>\n",
              "      <th>Quantity</th>\n",
              "      <th>InvoiceDate</th>\n",
              "      <th>UnitPrice</th>\n",
              "      <th>CustomerID</th>\n",
              "      <th>Country</th>\n",
              "    </tr>\n",
              "  </thead>\n",
              "  <tbody>\n",
              "  </tbody>\n",
              "</table>\n",
              "</div>"
            ]
          },
          "metadata": {},
          "execution_count": 129
        }
      ],
      "metadata": {}
    },
    {
      "cell_type": "code",
      "execution_count": 130,
      "source": [
        "df_uk[df_uk.UnitPrice == 0.0]"
      ],
      "outputs": [
        {
          "output_type": "execute_result",
          "data": {
            "text/plain": [
              "       InvoiceNo StockCode                          Description  Quantity  \\\n",
              "33576     539263     22580         ADVENT CALENDAR GINGHAM SACK         4   \n",
              "47068     540372     22090              PAPER BUNTING RETROSPOT        24   \n",
              "47070     540372     22553               PLASTERS IN TIN SKULLS        24   \n",
              "56674     541109     22168        ORGANISER WOOD ANTIQUE WHITE          1   \n",
              "86789     543599    84535B         FAIRY CAKES NOTEBOOK A6 SIZE        16   \n",
              "130188    547417     22062  CERAMIC BOWL WITH LOVE HEART DESIGN        36   \n",
              "139453    548318     22055   MINI CAKE STAND  HANGING STRAWBERY         5   \n",
              "145208    548871     22162          HEART GARLAND RUSTIC PADDED         2   \n",
              "187613    553000     47566                        PARTY BUNTING         4   \n",
              "279324    561284     22167           OVAL WALL MIRROR DIAMANTE          1   \n",
              "285657    561916         M                               Manual         1   \n",
              "358655    568158      PADS           PADS TO MATCH ALL CUSHIONS         1   \n",
              "361825    568384         M                               Manual         1   \n",
              "379913    569716     22778                   GLASS CLOCHE SMALL         2   \n",
              "420404    572893     21208          PASTEL COLOUR HONEYCOMB FAN         5   \n",
              "436597    574175     22065       CHRISTMAS PUDDING TRINKET POT         12   \n",
              "446125    574879     22625                   RED KITCHEN SCALES         2   \n",
              "446793    574920     22899         CHILDREN'S APRON DOLLY GIRL          1   \n",
              "446794    574920     23480       MINI LIGHTS WOODLAND MUSHROOMS         1   \n",
              "454463    575579     22437        SET OF 9 BLACK SKULL BALLOONS        20   \n",
              "454464    575579     22089        PAPER BUNTING VINTAGE PAISLEY        24   \n",
              "479079    577129     22464          HANGING METAL HEART LANTERN         4   \n",
              "485985    577696         M                               Manual         1   \n",
              "502122    578841     84826       ASSTD DESIGN 3D PAPER STICKERS     12540   \n",
              "\n",
              "               InvoiceDate  UnitPrice  CustomerID         Country  \n",
              "33576  2010-12-16 14:36:00        0.0     16560.0  United Kingdom  \n",
              "47068  2011-01-06 16:41:00        0.0     13081.0  United Kingdom  \n",
              "47070  2011-01-06 16:41:00        0.0     13081.0  United Kingdom  \n",
              "56674  2011-01-13 15:10:00        0.0     15107.0  United Kingdom  \n",
              "86789  2011-02-10 13:08:00        0.0     17560.0  United Kingdom  \n",
              "130188 2011-03-23 10:25:00        0.0     13239.0  United Kingdom  \n",
              "139453 2011-03-30 12:45:00        0.0     13113.0  United Kingdom  \n",
              "145208 2011-04-04 14:42:00        0.0     14410.0  United Kingdom  \n",
              "187613 2011-05-12 15:21:00        0.0     17667.0  United Kingdom  \n",
              "279324 2011-07-26 12:24:00        0.0     16818.0  United Kingdom  \n",
              "285657 2011-08-01 11:44:00        0.0     15581.0  United Kingdom  \n",
              "358655 2011-09-25 12:22:00        0.0     16133.0  United Kingdom  \n",
              "361825 2011-09-27 09:46:00        0.0     12748.0  United Kingdom  \n",
              "379913 2011-10-06 08:17:00        0.0     15804.0  United Kingdom  \n",
              "420404 2011-10-26 14:36:00        0.0     18059.0  United Kingdom  \n",
              "436597 2011-11-03 11:47:00        0.0     14110.0  United Kingdom  \n",
              "446125 2011-11-07 13:22:00        0.0     13014.0  United Kingdom  \n",
              "446793 2011-11-07 16:34:00        0.0     13985.0  United Kingdom  \n",
              "446794 2011-11-07 16:34:00        0.0     13985.0  United Kingdom  \n",
              "454463 2011-11-10 11:49:00        0.0     13081.0  United Kingdom  \n",
              "454464 2011-11-10 11:49:00        0.0     13081.0  United Kingdom  \n",
              "479079 2011-11-17 19:52:00        0.0     15602.0  United Kingdom  \n",
              "485985 2011-11-21 11:57:00        0.0     16406.0  United Kingdom  \n",
              "502122 2011-11-25 15:57:00        0.0     13256.0  United Kingdom  "
            ],
            "text/html": [
              "<div>\n",
              "<style scoped>\n",
              "    .dataframe tbody tr th:only-of-type {\n",
              "        vertical-align: middle;\n",
              "    }\n",
              "\n",
              "    .dataframe tbody tr th {\n",
              "        vertical-align: top;\n",
              "    }\n",
              "\n",
              "    .dataframe thead th {\n",
              "        text-align: right;\n",
              "    }\n",
              "</style>\n",
              "<table border=\"1\" class=\"dataframe\">\n",
              "  <thead>\n",
              "    <tr style=\"text-align: right;\">\n",
              "      <th></th>\n",
              "      <th>InvoiceNo</th>\n",
              "      <th>StockCode</th>\n",
              "      <th>Description</th>\n",
              "      <th>Quantity</th>\n",
              "      <th>InvoiceDate</th>\n",
              "      <th>UnitPrice</th>\n",
              "      <th>CustomerID</th>\n",
              "      <th>Country</th>\n",
              "    </tr>\n",
              "  </thead>\n",
              "  <tbody>\n",
              "    <tr>\n",
              "      <th>33576</th>\n",
              "      <td>539263</td>\n",
              "      <td>22580</td>\n",
              "      <td>ADVENT CALENDAR GINGHAM SACK</td>\n",
              "      <td>4</td>\n",
              "      <td>2010-12-16 14:36:00</td>\n",
              "      <td>0.0</td>\n",
              "      <td>16560.0</td>\n",
              "      <td>United Kingdom</td>\n",
              "    </tr>\n",
              "    <tr>\n",
              "      <th>47068</th>\n",
              "      <td>540372</td>\n",
              "      <td>22090</td>\n",
              "      <td>PAPER BUNTING RETROSPOT</td>\n",
              "      <td>24</td>\n",
              "      <td>2011-01-06 16:41:00</td>\n",
              "      <td>0.0</td>\n",
              "      <td>13081.0</td>\n",
              "      <td>United Kingdom</td>\n",
              "    </tr>\n",
              "    <tr>\n",
              "      <th>47070</th>\n",
              "      <td>540372</td>\n",
              "      <td>22553</td>\n",
              "      <td>PLASTERS IN TIN SKULLS</td>\n",
              "      <td>24</td>\n",
              "      <td>2011-01-06 16:41:00</td>\n",
              "      <td>0.0</td>\n",
              "      <td>13081.0</td>\n",
              "      <td>United Kingdom</td>\n",
              "    </tr>\n",
              "    <tr>\n",
              "      <th>56674</th>\n",
              "      <td>541109</td>\n",
              "      <td>22168</td>\n",
              "      <td>ORGANISER WOOD ANTIQUE WHITE</td>\n",
              "      <td>1</td>\n",
              "      <td>2011-01-13 15:10:00</td>\n",
              "      <td>0.0</td>\n",
              "      <td>15107.0</td>\n",
              "      <td>United Kingdom</td>\n",
              "    </tr>\n",
              "    <tr>\n",
              "      <th>86789</th>\n",
              "      <td>543599</td>\n",
              "      <td>84535B</td>\n",
              "      <td>FAIRY CAKES NOTEBOOK A6 SIZE</td>\n",
              "      <td>16</td>\n",
              "      <td>2011-02-10 13:08:00</td>\n",
              "      <td>0.0</td>\n",
              "      <td>17560.0</td>\n",
              "      <td>United Kingdom</td>\n",
              "    </tr>\n",
              "    <tr>\n",
              "      <th>130188</th>\n",
              "      <td>547417</td>\n",
              "      <td>22062</td>\n",
              "      <td>CERAMIC BOWL WITH LOVE HEART DESIGN</td>\n",
              "      <td>36</td>\n",
              "      <td>2011-03-23 10:25:00</td>\n",
              "      <td>0.0</td>\n",
              "      <td>13239.0</td>\n",
              "      <td>United Kingdom</td>\n",
              "    </tr>\n",
              "    <tr>\n",
              "      <th>139453</th>\n",
              "      <td>548318</td>\n",
              "      <td>22055</td>\n",
              "      <td>MINI CAKE STAND  HANGING STRAWBERY</td>\n",
              "      <td>5</td>\n",
              "      <td>2011-03-30 12:45:00</td>\n",
              "      <td>0.0</td>\n",
              "      <td>13113.0</td>\n",
              "      <td>United Kingdom</td>\n",
              "    </tr>\n",
              "    <tr>\n",
              "      <th>145208</th>\n",
              "      <td>548871</td>\n",
              "      <td>22162</td>\n",
              "      <td>HEART GARLAND RUSTIC PADDED</td>\n",
              "      <td>2</td>\n",
              "      <td>2011-04-04 14:42:00</td>\n",
              "      <td>0.0</td>\n",
              "      <td>14410.0</td>\n",
              "      <td>United Kingdom</td>\n",
              "    </tr>\n",
              "    <tr>\n",
              "      <th>187613</th>\n",
              "      <td>553000</td>\n",
              "      <td>47566</td>\n",
              "      <td>PARTY BUNTING</td>\n",
              "      <td>4</td>\n",
              "      <td>2011-05-12 15:21:00</td>\n",
              "      <td>0.0</td>\n",
              "      <td>17667.0</td>\n",
              "      <td>United Kingdom</td>\n",
              "    </tr>\n",
              "    <tr>\n",
              "      <th>279324</th>\n",
              "      <td>561284</td>\n",
              "      <td>22167</td>\n",
              "      <td>OVAL WALL MIRROR DIAMANTE</td>\n",
              "      <td>1</td>\n",
              "      <td>2011-07-26 12:24:00</td>\n",
              "      <td>0.0</td>\n",
              "      <td>16818.0</td>\n",
              "      <td>United Kingdom</td>\n",
              "    </tr>\n",
              "    <tr>\n",
              "      <th>285657</th>\n",
              "      <td>561916</td>\n",
              "      <td>M</td>\n",
              "      <td>Manual</td>\n",
              "      <td>1</td>\n",
              "      <td>2011-08-01 11:44:00</td>\n",
              "      <td>0.0</td>\n",
              "      <td>15581.0</td>\n",
              "      <td>United Kingdom</td>\n",
              "    </tr>\n",
              "    <tr>\n",
              "      <th>358655</th>\n",
              "      <td>568158</td>\n",
              "      <td>PADS</td>\n",
              "      <td>PADS TO MATCH ALL CUSHIONS</td>\n",
              "      <td>1</td>\n",
              "      <td>2011-09-25 12:22:00</td>\n",
              "      <td>0.0</td>\n",
              "      <td>16133.0</td>\n",
              "      <td>United Kingdom</td>\n",
              "    </tr>\n",
              "    <tr>\n",
              "      <th>361825</th>\n",
              "      <td>568384</td>\n",
              "      <td>M</td>\n",
              "      <td>Manual</td>\n",
              "      <td>1</td>\n",
              "      <td>2011-09-27 09:46:00</td>\n",
              "      <td>0.0</td>\n",
              "      <td>12748.0</td>\n",
              "      <td>United Kingdom</td>\n",
              "    </tr>\n",
              "    <tr>\n",
              "      <th>379913</th>\n",
              "      <td>569716</td>\n",
              "      <td>22778</td>\n",
              "      <td>GLASS CLOCHE SMALL</td>\n",
              "      <td>2</td>\n",
              "      <td>2011-10-06 08:17:00</td>\n",
              "      <td>0.0</td>\n",
              "      <td>15804.0</td>\n",
              "      <td>United Kingdom</td>\n",
              "    </tr>\n",
              "    <tr>\n",
              "      <th>420404</th>\n",
              "      <td>572893</td>\n",
              "      <td>21208</td>\n",
              "      <td>PASTEL COLOUR HONEYCOMB FAN</td>\n",
              "      <td>5</td>\n",
              "      <td>2011-10-26 14:36:00</td>\n",
              "      <td>0.0</td>\n",
              "      <td>18059.0</td>\n",
              "      <td>United Kingdom</td>\n",
              "    </tr>\n",
              "    <tr>\n",
              "      <th>436597</th>\n",
              "      <td>574175</td>\n",
              "      <td>22065</td>\n",
              "      <td>CHRISTMAS PUDDING TRINKET POT</td>\n",
              "      <td>12</td>\n",
              "      <td>2011-11-03 11:47:00</td>\n",
              "      <td>0.0</td>\n",
              "      <td>14110.0</td>\n",
              "      <td>United Kingdom</td>\n",
              "    </tr>\n",
              "    <tr>\n",
              "      <th>446125</th>\n",
              "      <td>574879</td>\n",
              "      <td>22625</td>\n",
              "      <td>RED KITCHEN SCALES</td>\n",
              "      <td>2</td>\n",
              "      <td>2011-11-07 13:22:00</td>\n",
              "      <td>0.0</td>\n",
              "      <td>13014.0</td>\n",
              "      <td>United Kingdom</td>\n",
              "    </tr>\n",
              "    <tr>\n",
              "      <th>446793</th>\n",
              "      <td>574920</td>\n",
              "      <td>22899</td>\n",
              "      <td>CHILDREN'S APRON DOLLY GIRL</td>\n",
              "      <td>1</td>\n",
              "      <td>2011-11-07 16:34:00</td>\n",
              "      <td>0.0</td>\n",
              "      <td>13985.0</td>\n",
              "      <td>United Kingdom</td>\n",
              "    </tr>\n",
              "    <tr>\n",
              "      <th>446794</th>\n",
              "      <td>574920</td>\n",
              "      <td>23480</td>\n",
              "      <td>MINI LIGHTS WOODLAND MUSHROOMS</td>\n",
              "      <td>1</td>\n",
              "      <td>2011-11-07 16:34:00</td>\n",
              "      <td>0.0</td>\n",
              "      <td>13985.0</td>\n",
              "      <td>United Kingdom</td>\n",
              "    </tr>\n",
              "    <tr>\n",
              "      <th>454463</th>\n",
              "      <td>575579</td>\n",
              "      <td>22437</td>\n",
              "      <td>SET OF 9 BLACK SKULL BALLOONS</td>\n",
              "      <td>20</td>\n",
              "      <td>2011-11-10 11:49:00</td>\n",
              "      <td>0.0</td>\n",
              "      <td>13081.0</td>\n",
              "      <td>United Kingdom</td>\n",
              "    </tr>\n",
              "    <tr>\n",
              "      <th>454464</th>\n",
              "      <td>575579</td>\n",
              "      <td>22089</td>\n",
              "      <td>PAPER BUNTING VINTAGE PAISLEY</td>\n",
              "      <td>24</td>\n",
              "      <td>2011-11-10 11:49:00</td>\n",
              "      <td>0.0</td>\n",
              "      <td>13081.0</td>\n",
              "      <td>United Kingdom</td>\n",
              "    </tr>\n",
              "    <tr>\n",
              "      <th>479079</th>\n",
              "      <td>577129</td>\n",
              "      <td>22464</td>\n",
              "      <td>HANGING METAL HEART LANTERN</td>\n",
              "      <td>4</td>\n",
              "      <td>2011-11-17 19:52:00</td>\n",
              "      <td>0.0</td>\n",
              "      <td>15602.0</td>\n",
              "      <td>United Kingdom</td>\n",
              "    </tr>\n",
              "    <tr>\n",
              "      <th>485985</th>\n",
              "      <td>577696</td>\n",
              "      <td>M</td>\n",
              "      <td>Manual</td>\n",
              "      <td>1</td>\n",
              "      <td>2011-11-21 11:57:00</td>\n",
              "      <td>0.0</td>\n",
              "      <td>16406.0</td>\n",
              "      <td>United Kingdom</td>\n",
              "    </tr>\n",
              "    <tr>\n",
              "      <th>502122</th>\n",
              "      <td>578841</td>\n",
              "      <td>84826</td>\n",
              "      <td>ASSTD DESIGN 3D PAPER STICKERS</td>\n",
              "      <td>12540</td>\n",
              "      <td>2011-11-25 15:57:00</td>\n",
              "      <td>0.0</td>\n",
              "      <td>13256.0</td>\n",
              "      <td>United Kingdom</td>\n",
              "    </tr>\n",
              "  </tbody>\n",
              "</table>\n",
              "</div>"
            ]
          },
          "metadata": {},
          "execution_count": 130
        }
      ],
      "metadata": {}
    },
    {
      "cell_type": "code",
      "execution_count": 131,
      "source": [
        "df_uk[df_uk.Quantity < 0]"
      ],
      "outputs": [
        {
          "output_type": "execute_result",
          "data": {
            "text/plain": [
              "       InvoiceNo StockCode                       Description  Quantity  \\\n",
              "141      C536379         D                          Discount        -1   \n",
              "154      C536383    35004C   SET OF 3 COLOURED  FLYING DUCKS        -1   \n",
              "235      C536391     22556    PLASTERS IN TIN CIRCUS PARADE        -12   \n",
              "236      C536391     21984  PACK OF 12 PINK PAISLEY TISSUES        -24   \n",
              "237      C536391     21983  PACK OF 12 BLUE PAISLEY TISSUES        -24   \n",
              "...          ...       ...                               ...       ...   \n",
              "540449   C581490     23144   ZINC T-LIGHT HOLDER STARS SMALL       -11   \n",
              "541541   C581499         M                            Manual        -1   \n",
              "541715   C581568     21258        VICTORIAN SEWING BOX LARGE        -5   \n",
              "541716   C581569     84978  HANGING HEART JAR T-LIGHT HOLDER        -1   \n",
              "541717   C581569     20979     36 PENCILS TUBE RED RETROSPOT        -5   \n",
              "\n",
              "               InvoiceDate  UnitPrice  CustomerID         Country  \n",
              "141    2010-12-01 09:41:00      27.50     14527.0  United Kingdom  \n",
              "154    2010-12-01 09:49:00       4.65     15311.0  United Kingdom  \n",
              "235    2010-12-01 10:24:00       1.65     17548.0  United Kingdom  \n",
              "236    2010-12-01 10:24:00       0.29     17548.0  United Kingdom  \n",
              "237    2010-12-01 10:24:00       0.29     17548.0  United Kingdom  \n",
              "...                    ...        ...         ...             ...  \n",
              "540449 2011-12-09 09:57:00       0.83     14397.0  United Kingdom  \n",
              "541541 2011-12-09 10:28:00     224.69     15498.0  United Kingdom  \n",
              "541715 2011-12-09 11:57:00      10.95     15311.0  United Kingdom  \n",
              "541716 2011-12-09 11:58:00       1.25     17315.0  United Kingdom  \n",
              "541717 2011-12-09 11:58:00       1.25     17315.0  United Kingdom  \n",
              "\n",
              "[7533 rows x 8 columns]"
            ],
            "text/html": [
              "<div>\n",
              "<style scoped>\n",
              "    .dataframe tbody tr th:only-of-type {\n",
              "        vertical-align: middle;\n",
              "    }\n",
              "\n",
              "    .dataframe tbody tr th {\n",
              "        vertical-align: top;\n",
              "    }\n",
              "\n",
              "    .dataframe thead th {\n",
              "        text-align: right;\n",
              "    }\n",
              "</style>\n",
              "<table border=\"1\" class=\"dataframe\">\n",
              "  <thead>\n",
              "    <tr style=\"text-align: right;\">\n",
              "      <th></th>\n",
              "      <th>InvoiceNo</th>\n",
              "      <th>StockCode</th>\n",
              "      <th>Description</th>\n",
              "      <th>Quantity</th>\n",
              "      <th>InvoiceDate</th>\n",
              "      <th>UnitPrice</th>\n",
              "      <th>CustomerID</th>\n",
              "      <th>Country</th>\n",
              "    </tr>\n",
              "  </thead>\n",
              "  <tbody>\n",
              "    <tr>\n",
              "      <th>141</th>\n",
              "      <td>C536379</td>\n",
              "      <td>D</td>\n",
              "      <td>Discount</td>\n",
              "      <td>-1</td>\n",
              "      <td>2010-12-01 09:41:00</td>\n",
              "      <td>27.50</td>\n",
              "      <td>14527.0</td>\n",
              "      <td>United Kingdom</td>\n",
              "    </tr>\n",
              "    <tr>\n",
              "      <th>154</th>\n",
              "      <td>C536383</td>\n",
              "      <td>35004C</td>\n",
              "      <td>SET OF 3 COLOURED  FLYING DUCKS</td>\n",
              "      <td>-1</td>\n",
              "      <td>2010-12-01 09:49:00</td>\n",
              "      <td>4.65</td>\n",
              "      <td>15311.0</td>\n",
              "      <td>United Kingdom</td>\n",
              "    </tr>\n",
              "    <tr>\n",
              "      <th>235</th>\n",
              "      <td>C536391</td>\n",
              "      <td>22556</td>\n",
              "      <td>PLASTERS IN TIN CIRCUS PARADE</td>\n",
              "      <td>-12</td>\n",
              "      <td>2010-12-01 10:24:00</td>\n",
              "      <td>1.65</td>\n",
              "      <td>17548.0</td>\n",
              "      <td>United Kingdom</td>\n",
              "    </tr>\n",
              "    <tr>\n",
              "      <th>236</th>\n",
              "      <td>C536391</td>\n",
              "      <td>21984</td>\n",
              "      <td>PACK OF 12 PINK PAISLEY TISSUES</td>\n",
              "      <td>-24</td>\n",
              "      <td>2010-12-01 10:24:00</td>\n",
              "      <td>0.29</td>\n",
              "      <td>17548.0</td>\n",
              "      <td>United Kingdom</td>\n",
              "    </tr>\n",
              "    <tr>\n",
              "      <th>237</th>\n",
              "      <td>C536391</td>\n",
              "      <td>21983</td>\n",
              "      <td>PACK OF 12 BLUE PAISLEY TISSUES</td>\n",
              "      <td>-24</td>\n",
              "      <td>2010-12-01 10:24:00</td>\n",
              "      <td>0.29</td>\n",
              "      <td>17548.0</td>\n",
              "      <td>United Kingdom</td>\n",
              "    </tr>\n",
              "    <tr>\n",
              "      <th>...</th>\n",
              "      <td>...</td>\n",
              "      <td>...</td>\n",
              "      <td>...</td>\n",
              "      <td>...</td>\n",
              "      <td>...</td>\n",
              "      <td>...</td>\n",
              "      <td>...</td>\n",
              "      <td>...</td>\n",
              "    </tr>\n",
              "    <tr>\n",
              "      <th>540449</th>\n",
              "      <td>C581490</td>\n",
              "      <td>23144</td>\n",
              "      <td>ZINC T-LIGHT HOLDER STARS SMALL</td>\n",
              "      <td>-11</td>\n",
              "      <td>2011-12-09 09:57:00</td>\n",
              "      <td>0.83</td>\n",
              "      <td>14397.0</td>\n",
              "      <td>United Kingdom</td>\n",
              "    </tr>\n",
              "    <tr>\n",
              "      <th>541541</th>\n",
              "      <td>C581499</td>\n",
              "      <td>M</td>\n",
              "      <td>Manual</td>\n",
              "      <td>-1</td>\n",
              "      <td>2011-12-09 10:28:00</td>\n",
              "      <td>224.69</td>\n",
              "      <td>15498.0</td>\n",
              "      <td>United Kingdom</td>\n",
              "    </tr>\n",
              "    <tr>\n",
              "      <th>541715</th>\n",
              "      <td>C581568</td>\n",
              "      <td>21258</td>\n",
              "      <td>VICTORIAN SEWING BOX LARGE</td>\n",
              "      <td>-5</td>\n",
              "      <td>2011-12-09 11:57:00</td>\n",
              "      <td>10.95</td>\n",
              "      <td>15311.0</td>\n",
              "      <td>United Kingdom</td>\n",
              "    </tr>\n",
              "    <tr>\n",
              "      <th>541716</th>\n",
              "      <td>C581569</td>\n",
              "      <td>84978</td>\n",
              "      <td>HANGING HEART JAR T-LIGHT HOLDER</td>\n",
              "      <td>-1</td>\n",
              "      <td>2011-12-09 11:58:00</td>\n",
              "      <td>1.25</td>\n",
              "      <td>17315.0</td>\n",
              "      <td>United Kingdom</td>\n",
              "    </tr>\n",
              "    <tr>\n",
              "      <th>541717</th>\n",
              "      <td>C581569</td>\n",
              "      <td>20979</td>\n",
              "      <td>36 PENCILS TUBE RED RETROSPOT</td>\n",
              "      <td>-5</td>\n",
              "      <td>2011-12-09 11:58:00</td>\n",
              "      <td>1.25</td>\n",
              "      <td>17315.0</td>\n",
              "      <td>United Kingdom</td>\n",
              "    </tr>\n",
              "  </tbody>\n",
              "</table>\n",
              "<p>7533 rows × 8 columns</p>\n",
              "</div>"
            ]
          },
          "metadata": {},
          "execution_count": 131
        }
      ],
      "metadata": {}
    },
    {
      "cell_type": "markdown",
      "source": [
        "### iii. Recency: Days since last purchase\n",
        "To calculate the recency values, follow these steps in order:\n",
        "\n",
        "1. To calculate recency, we need to choose a date as a point of reference to evaluate how many days ago was the customer's last purchase.\n",
        "2. Create a new column called Date which contains the invoice date without the timestamp\n",
        "3. Group by CustomerID and check the last date of purchase\n",
        "4. Calculate the days since last purchase\n",
        "5. Drop Last_Purchase_Date since we don't need it anymore\n",
        "6. Plot RFM distributions"
      ],
      "metadata": {
        "id": "MvfCcPLgQGWa"
      }
    },
    {
      "cell_type": "markdown",
      "source": [
        "1. Choose a date as a point of reference to evaluate how many days ago was the customer's last purchase."
      ],
      "metadata": {
        "id": "b7Gzn6r6QGWb"
      }
    },
    {
      "cell_type": "code",
      "execution_count": 132,
      "source": [
        "max_date = df_uk.InvoiceDate.max()\r\n",
        "max_date"
      ],
      "outputs": [
        {
          "output_type": "execute_result",
          "data": {
            "text/plain": [
              "Timestamp('2011-12-09 12:49:00')"
            ]
          },
          "metadata": {},
          "execution_count": 132
        }
      ],
      "metadata": {
        "id": "DwWODVSZiqa-"
      }
    },
    {
      "cell_type": "code",
      "execution_count": 133,
      "source": [
        "pd.to_datetime(max_date).year"
      ],
      "outputs": [
        {
          "output_type": "execute_result",
          "data": {
            "text/plain": [
              "2011"
            ]
          },
          "metadata": {},
          "execution_count": 133
        }
      ],
      "metadata": {}
    },
    {
      "cell_type": "code",
      "execution_count": 134,
      "source": [
        "max_date.day"
      ],
      "outputs": [
        {
          "output_type": "execute_result",
          "data": {
            "text/plain": [
              "9"
            ]
          },
          "metadata": {},
          "execution_count": 134
        }
      ],
      "metadata": {}
    },
    {
      "cell_type": "code",
      "execution_count": 135,
      "source": [
        "df_uk.InvoiceDate.max().week"
      ],
      "outputs": [
        {
          "output_type": "execute_result",
          "data": {
            "text/plain": [
              "49"
            ]
          },
          "metadata": {},
          "execution_count": 135
        }
      ],
      "metadata": {}
    },
    {
      "cell_type": "code",
      "execution_count": 136,
      "source": [
        "min_date = df_uk.InvoiceDate.min()\r\n",
        "min_date"
      ],
      "outputs": [
        {
          "output_type": "execute_result",
          "data": {
            "text/plain": [
              "Timestamp('2010-12-01 08:26:00')"
            ]
          },
          "metadata": {},
          "execution_count": 136
        }
      ],
      "metadata": {}
    },
    {
      "cell_type": "markdown",
      "source": [
        "2. Create a new column called Date which contains the invoice date without the timestamp"
      ],
      "metadata": {
        "id": "Ge34PCT0iqa-"
      }
    },
    {
      "cell_type": "code",
      "execution_count": 137,
      "source": [
        "df_uk[\"Date\"] = df_uk.InvoiceDate.dt.date # dt.week, dt.day, dt.year\r\n",
        "df_uk.head()"
      ],
      "outputs": [
        {
          "output_type": "stream",
          "name": "stderr",
          "text": [
            "<ipython-input-137-760e81731737>:1: SettingWithCopyWarning: \n",
            "A value is trying to be set on a copy of a slice from a DataFrame.\n",
            "Try using .loc[row_indexer,col_indexer] = value instead\n",
            "\n",
            "See the caveats in the documentation: https://pandas.pydata.org/pandas-docs/stable/user_guide/indexing.html#returning-a-view-versus-a-copy\n",
            "  df_uk[\"Date\"] = df_uk.InvoiceDate.dt.date # dt.week, dt.day, dt.year\n"
          ]
        },
        {
          "output_type": "execute_result",
          "data": {
            "text/plain": [
              "  InvoiceNo StockCode                          Description  Quantity  \\\n",
              "0    536365    85123A   WHITE HANGING HEART T-LIGHT HOLDER         6   \n",
              "1    536365     71053                  WHITE METAL LANTERN         6   \n",
              "2    536365    84406B       CREAM CUPID HEARTS COAT HANGER         8   \n",
              "3    536365    84029G  KNITTED UNION FLAG HOT WATER BOTTLE         6   \n",
              "4    536365    84029E       RED WOOLLY HOTTIE WHITE HEART.         6   \n",
              "\n",
              "          InvoiceDate  UnitPrice  CustomerID         Country        Date  \n",
              "0 2010-12-01 08:26:00       2.55     17850.0  United Kingdom  2010-12-01  \n",
              "1 2010-12-01 08:26:00       3.39     17850.0  United Kingdom  2010-12-01  \n",
              "2 2010-12-01 08:26:00       2.75     17850.0  United Kingdom  2010-12-01  \n",
              "3 2010-12-01 08:26:00       3.39     17850.0  United Kingdom  2010-12-01  \n",
              "4 2010-12-01 08:26:00       3.39     17850.0  United Kingdom  2010-12-01  "
            ],
            "text/html": [
              "<div>\n",
              "<style scoped>\n",
              "    .dataframe tbody tr th:only-of-type {\n",
              "        vertical-align: middle;\n",
              "    }\n",
              "\n",
              "    .dataframe tbody tr th {\n",
              "        vertical-align: top;\n",
              "    }\n",
              "\n",
              "    .dataframe thead th {\n",
              "        text-align: right;\n",
              "    }\n",
              "</style>\n",
              "<table border=\"1\" class=\"dataframe\">\n",
              "  <thead>\n",
              "    <tr style=\"text-align: right;\">\n",
              "      <th></th>\n",
              "      <th>InvoiceNo</th>\n",
              "      <th>StockCode</th>\n",
              "      <th>Description</th>\n",
              "      <th>Quantity</th>\n",
              "      <th>InvoiceDate</th>\n",
              "      <th>UnitPrice</th>\n",
              "      <th>CustomerID</th>\n",
              "      <th>Country</th>\n",
              "      <th>Date</th>\n",
              "    </tr>\n",
              "  </thead>\n",
              "  <tbody>\n",
              "    <tr>\n",
              "      <th>0</th>\n",
              "      <td>536365</td>\n",
              "      <td>85123A</td>\n",
              "      <td>WHITE HANGING HEART T-LIGHT HOLDER</td>\n",
              "      <td>6</td>\n",
              "      <td>2010-12-01 08:26:00</td>\n",
              "      <td>2.55</td>\n",
              "      <td>17850.0</td>\n",
              "      <td>United Kingdom</td>\n",
              "      <td>2010-12-01</td>\n",
              "    </tr>\n",
              "    <tr>\n",
              "      <th>1</th>\n",
              "      <td>536365</td>\n",
              "      <td>71053</td>\n",
              "      <td>WHITE METAL LANTERN</td>\n",
              "      <td>6</td>\n",
              "      <td>2010-12-01 08:26:00</td>\n",
              "      <td>3.39</td>\n",
              "      <td>17850.0</td>\n",
              "      <td>United Kingdom</td>\n",
              "      <td>2010-12-01</td>\n",
              "    </tr>\n",
              "    <tr>\n",
              "      <th>2</th>\n",
              "      <td>536365</td>\n",
              "      <td>84406B</td>\n",
              "      <td>CREAM CUPID HEARTS COAT HANGER</td>\n",
              "      <td>8</td>\n",
              "      <td>2010-12-01 08:26:00</td>\n",
              "      <td>2.75</td>\n",
              "      <td>17850.0</td>\n",
              "      <td>United Kingdom</td>\n",
              "      <td>2010-12-01</td>\n",
              "    </tr>\n",
              "    <tr>\n",
              "      <th>3</th>\n",
              "      <td>536365</td>\n",
              "      <td>84029G</td>\n",
              "      <td>KNITTED UNION FLAG HOT WATER BOTTLE</td>\n",
              "      <td>6</td>\n",
              "      <td>2010-12-01 08:26:00</td>\n",
              "      <td>3.39</td>\n",
              "      <td>17850.0</td>\n",
              "      <td>United Kingdom</td>\n",
              "      <td>2010-12-01</td>\n",
              "    </tr>\n",
              "    <tr>\n",
              "      <th>4</th>\n",
              "      <td>536365</td>\n",
              "      <td>84029E</td>\n",
              "      <td>RED WOOLLY HOTTIE WHITE HEART.</td>\n",
              "      <td>6</td>\n",
              "      <td>2010-12-01 08:26:00</td>\n",
              "      <td>3.39</td>\n",
              "      <td>17850.0</td>\n",
              "      <td>United Kingdom</td>\n",
              "      <td>2010-12-01</td>\n",
              "    </tr>\n",
              "  </tbody>\n",
              "</table>\n",
              "</div>"
            ]
          },
          "metadata": {},
          "execution_count": 137
        }
      ],
      "metadata": {
        "id": "xsaFUydXiqa_"
      }
    },
    {
      "cell_type": "markdown",
      "source": [
        "3. Group by CustomerID and check the last date of purchase"
      ],
      "metadata": {
        "id": "1KJzP5Ldiqa_"
      }
    },
    {
      "cell_type": "code",
      "execution_count": 138,
      "source": [
        "df_uk.groupby(\"CustomerID\")[\"Date\"].max()"
      ],
      "outputs": [
        {
          "output_type": "execute_result",
          "data": {
            "text/plain": [
              "CustomerID\n",
              "12346.0    2011-01-18\n",
              "12747.0    2011-12-07\n",
              "12748.0    2011-12-09\n",
              "12749.0    2011-12-06\n",
              "12820.0    2011-12-06\n",
              "              ...    \n",
              "18280.0    2011-03-07\n",
              "18281.0    2011-06-12\n",
              "18282.0    2011-12-02\n",
              "18283.0    2011-12-06\n",
              "18287.0    2011-10-28\n",
              "Name: Date, Length: 3950, dtype: object"
            ]
          },
          "metadata": {},
          "execution_count": 138
        }
      ],
      "metadata": {
        "id": "x8kMt-Uyiqa_"
      }
    },
    {
      "cell_type": "markdown",
      "source": [
        "4. Calculate the days since last purchase"
      ],
      "metadata": {
        "id": "1Zxs1mzPiqa_"
      }
    },
    {
      "cell_type": "code",
      "execution_count": 139,
      "source": [
        "# df_uk[\"Date\"].max() - df_uk[\"Date\"]"
      ],
      "outputs": [],
      "metadata": {}
    },
    {
      "cell_type": "code",
      "execution_count": 140,
      "source": [
        "df_uk[\"Last_Purchase_Date\"] = df_uk[\"Date\"].max() - df_uk[\"Date\"]\r\n",
        "df_uk[\"Last_Purchase_Date\"].head()"
      ],
      "outputs": [
        {
          "output_type": "stream",
          "name": "stderr",
          "text": [
            "<ipython-input-140-b854ddd1e6c4>:1: SettingWithCopyWarning: \n",
            "A value is trying to be set on a copy of a slice from a DataFrame.\n",
            "Try using .loc[row_indexer,col_indexer] = value instead\n",
            "\n",
            "See the caveats in the documentation: https://pandas.pydata.org/pandas-docs/stable/user_guide/indexing.html#returning-a-view-versus-a-copy\n",
            "  df_uk[\"Last_Purchase_Date\"] = df_uk[\"Date\"].max() - df_uk[\"Date\"]\n"
          ]
        },
        {
          "output_type": "execute_result",
          "data": {
            "text/plain": [
              "0   373 days\n",
              "1   373 days\n",
              "2   373 days\n",
              "3   373 days\n",
              "4   373 days\n",
              "Name: Last_Purchase_Date, dtype: timedelta64[ns]"
            ]
          },
          "metadata": {},
          "execution_count": 140
        }
      ],
      "metadata": {
        "id": "iTeKws6giqa_"
      }
    },
    {
      "cell_type": "code",
      "execution_count": 141,
      "source": [
        "df_uk.head()"
      ],
      "outputs": [
        {
          "output_type": "execute_result",
          "data": {
            "text/plain": [
              "  InvoiceNo StockCode                          Description  Quantity  \\\n",
              "0    536365    85123A   WHITE HANGING HEART T-LIGHT HOLDER         6   \n",
              "1    536365     71053                  WHITE METAL LANTERN         6   \n",
              "2    536365    84406B       CREAM CUPID HEARTS COAT HANGER         8   \n",
              "3    536365    84029G  KNITTED UNION FLAG HOT WATER BOTTLE         6   \n",
              "4    536365    84029E       RED WOOLLY HOTTIE WHITE HEART.         6   \n",
              "\n",
              "          InvoiceDate  UnitPrice  CustomerID         Country        Date  \\\n",
              "0 2010-12-01 08:26:00       2.55     17850.0  United Kingdom  2010-12-01   \n",
              "1 2010-12-01 08:26:00       3.39     17850.0  United Kingdom  2010-12-01   \n",
              "2 2010-12-01 08:26:00       2.75     17850.0  United Kingdom  2010-12-01   \n",
              "3 2010-12-01 08:26:00       3.39     17850.0  United Kingdom  2010-12-01   \n",
              "4 2010-12-01 08:26:00       3.39     17850.0  United Kingdom  2010-12-01   \n",
              "\n",
              "  Last_Purchase_Date  \n",
              "0           373 days  \n",
              "1           373 days  \n",
              "2           373 days  \n",
              "3           373 days  \n",
              "4           373 days  "
            ],
            "text/html": [
              "<div>\n",
              "<style scoped>\n",
              "    .dataframe tbody tr th:only-of-type {\n",
              "        vertical-align: middle;\n",
              "    }\n",
              "\n",
              "    .dataframe tbody tr th {\n",
              "        vertical-align: top;\n",
              "    }\n",
              "\n",
              "    .dataframe thead th {\n",
              "        text-align: right;\n",
              "    }\n",
              "</style>\n",
              "<table border=\"1\" class=\"dataframe\">\n",
              "  <thead>\n",
              "    <tr style=\"text-align: right;\">\n",
              "      <th></th>\n",
              "      <th>InvoiceNo</th>\n",
              "      <th>StockCode</th>\n",
              "      <th>Description</th>\n",
              "      <th>Quantity</th>\n",
              "      <th>InvoiceDate</th>\n",
              "      <th>UnitPrice</th>\n",
              "      <th>CustomerID</th>\n",
              "      <th>Country</th>\n",
              "      <th>Date</th>\n",
              "      <th>Last_Purchase_Date</th>\n",
              "    </tr>\n",
              "  </thead>\n",
              "  <tbody>\n",
              "    <tr>\n",
              "      <th>0</th>\n",
              "      <td>536365</td>\n",
              "      <td>85123A</td>\n",
              "      <td>WHITE HANGING HEART T-LIGHT HOLDER</td>\n",
              "      <td>6</td>\n",
              "      <td>2010-12-01 08:26:00</td>\n",
              "      <td>2.55</td>\n",
              "      <td>17850.0</td>\n",
              "      <td>United Kingdom</td>\n",
              "      <td>2010-12-01</td>\n",
              "      <td>373 days</td>\n",
              "    </tr>\n",
              "    <tr>\n",
              "      <th>1</th>\n",
              "      <td>536365</td>\n",
              "      <td>71053</td>\n",
              "      <td>WHITE METAL LANTERN</td>\n",
              "      <td>6</td>\n",
              "      <td>2010-12-01 08:26:00</td>\n",
              "      <td>3.39</td>\n",
              "      <td>17850.0</td>\n",
              "      <td>United Kingdom</td>\n",
              "      <td>2010-12-01</td>\n",
              "      <td>373 days</td>\n",
              "    </tr>\n",
              "    <tr>\n",
              "      <th>2</th>\n",
              "      <td>536365</td>\n",
              "      <td>84406B</td>\n",
              "      <td>CREAM CUPID HEARTS COAT HANGER</td>\n",
              "      <td>8</td>\n",
              "      <td>2010-12-01 08:26:00</td>\n",
              "      <td>2.75</td>\n",
              "      <td>17850.0</td>\n",
              "      <td>United Kingdom</td>\n",
              "      <td>2010-12-01</td>\n",
              "      <td>373 days</td>\n",
              "    </tr>\n",
              "    <tr>\n",
              "      <th>3</th>\n",
              "      <td>536365</td>\n",
              "      <td>84029G</td>\n",
              "      <td>KNITTED UNION FLAG HOT WATER BOTTLE</td>\n",
              "      <td>6</td>\n",
              "      <td>2010-12-01 08:26:00</td>\n",
              "      <td>3.39</td>\n",
              "      <td>17850.0</td>\n",
              "      <td>United Kingdom</td>\n",
              "      <td>2010-12-01</td>\n",
              "      <td>373 days</td>\n",
              "    </tr>\n",
              "    <tr>\n",
              "      <th>4</th>\n",
              "      <td>536365</td>\n",
              "      <td>84029E</td>\n",
              "      <td>RED WOOLLY HOTTIE WHITE HEART.</td>\n",
              "      <td>6</td>\n",
              "      <td>2010-12-01 08:26:00</td>\n",
              "      <td>3.39</td>\n",
              "      <td>17850.0</td>\n",
              "      <td>United Kingdom</td>\n",
              "      <td>2010-12-01</td>\n",
              "      <td>373 days</td>\n",
              "    </tr>\n",
              "  </tbody>\n",
              "</table>\n",
              "</div>"
            ]
          },
          "metadata": {},
          "execution_count": 141
        }
      ],
      "metadata": {}
    },
    {
      "cell_type": "code",
      "execution_count": 142,
      "source": [
        "df_uk.groupby(\"CustomerID\")[\"Last_Purchase_Date\"].min()"
      ],
      "outputs": [
        {
          "output_type": "execute_result",
          "data": {
            "text/plain": [
              "CustomerID\n",
              "12346.0   325 days\n",
              "12747.0     2 days\n",
              "12748.0     0 days\n",
              "12749.0     3 days\n",
              "12820.0     3 days\n",
              "            ...   \n",
              "18280.0   277 days\n",
              "18281.0   180 days\n",
              "18282.0     7 days\n",
              "18283.0     3 days\n",
              "18287.0    42 days\n",
              "Name: Last_Purchase_Date, Length: 3950, dtype: timedelta64[ns]"
            ]
          },
          "metadata": {},
          "execution_count": 142
        }
      ],
      "metadata": {}
    },
    {
      "cell_type": "code",
      "execution_count": 149,
      "source": [
        "day_numeric = df_uk.Last_Purchase_Date.dt.days # We comvert timedelta to int\r\n",
        "day_numeric.head()"
      ],
      "outputs": [
        {
          "output_type": "execute_result",
          "data": {
            "text/plain": [
              "0    373\n",
              "1    373\n",
              "2    373\n",
              "3    373\n",
              "4    373\n",
              "Name: Last_Purchase_Date, dtype: int64"
            ]
          },
          "metadata": {},
          "execution_count": 149
        }
      ],
      "metadata": {}
    },
    {
      "cell_type": "code",
      "execution_count": 153,
      "source": [
        "day_numeric.dtypes"
      ],
      "outputs": [
        {
          "output_type": "execute_result",
          "data": {
            "text/plain": [
              "dtype('int64')"
            ]
          },
          "metadata": {},
          "execution_count": 153
        }
      ],
      "metadata": {}
    },
    {
      "cell_type": "markdown",
      "source": [
        "5. Drop Last_Purchase_Date since we don't need it anymore"
      ],
      "metadata": {
        "id": "yAuMSkfsiqa_"
      }
    },
    {
      "cell_type": "code",
      "execution_count": 154,
      "source": [
        "df_uk.drop(\"Last_Purchase_Date\", axis=1, inplace=True)\r\n",
        "df_uk.head()"
      ],
      "outputs": [
        {
          "output_type": "stream",
          "name": "stderr",
          "text": [
            "C:\\Users\\Ertuğrul\\AppData\\Local\\Programs\\Python\\Python39\\lib\\site-packages\\pandas\\core\\frame.py:4308: SettingWithCopyWarning: \n",
            "A value is trying to be set on a copy of a slice from a DataFrame\n",
            "\n",
            "See the caveats in the documentation: https://pandas.pydata.org/pandas-docs/stable/user_guide/indexing.html#returning-a-view-versus-a-copy\n",
            "  return super().drop(\n"
          ]
        },
        {
          "output_type": "execute_result",
          "data": {
            "text/plain": [
              "  InvoiceNo StockCode                          Description  Quantity  \\\n",
              "0    536365    85123A   WHITE HANGING HEART T-LIGHT HOLDER         6   \n",
              "1    536365     71053                  WHITE METAL LANTERN         6   \n",
              "2    536365    84406B       CREAM CUPID HEARTS COAT HANGER         8   \n",
              "3    536365    84029G  KNITTED UNION FLAG HOT WATER BOTTLE         6   \n",
              "4    536365    84029E       RED WOOLLY HOTTIE WHITE HEART.         6   \n",
              "\n",
              "          InvoiceDate  UnitPrice  CustomerID         Country        Date  \n",
              "0 2010-12-01 08:26:00       2.55     17850.0  United Kingdom  2010-12-01  \n",
              "1 2010-12-01 08:26:00       3.39     17850.0  United Kingdom  2010-12-01  \n",
              "2 2010-12-01 08:26:00       2.75     17850.0  United Kingdom  2010-12-01  \n",
              "3 2010-12-01 08:26:00       3.39     17850.0  United Kingdom  2010-12-01  \n",
              "4 2010-12-01 08:26:00       3.39     17850.0  United Kingdom  2010-12-01  "
            ],
            "text/html": [
              "<div>\n",
              "<style scoped>\n",
              "    .dataframe tbody tr th:only-of-type {\n",
              "        vertical-align: middle;\n",
              "    }\n",
              "\n",
              "    .dataframe tbody tr th {\n",
              "        vertical-align: top;\n",
              "    }\n",
              "\n",
              "    .dataframe thead th {\n",
              "        text-align: right;\n",
              "    }\n",
              "</style>\n",
              "<table border=\"1\" class=\"dataframe\">\n",
              "  <thead>\n",
              "    <tr style=\"text-align: right;\">\n",
              "      <th></th>\n",
              "      <th>InvoiceNo</th>\n",
              "      <th>StockCode</th>\n",
              "      <th>Description</th>\n",
              "      <th>Quantity</th>\n",
              "      <th>InvoiceDate</th>\n",
              "      <th>UnitPrice</th>\n",
              "      <th>CustomerID</th>\n",
              "      <th>Country</th>\n",
              "      <th>Date</th>\n",
              "    </tr>\n",
              "  </thead>\n",
              "  <tbody>\n",
              "    <tr>\n",
              "      <th>0</th>\n",
              "      <td>536365</td>\n",
              "      <td>85123A</td>\n",
              "      <td>WHITE HANGING HEART T-LIGHT HOLDER</td>\n",
              "      <td>6</td>\n",
              "      <td>2010-12-01 08:26:00</td>\n",
              "      <td>2.55</td>\n",
              "      <td>17850.0</td>\n",
              "      <td>United Kingdom</td>\n",
              "      <td>2010-12-01</td>\n",
              "    </tr>\n",
              "    <tr>\n",
              "      <th>1</th>\n",
              "      <td>536365</td>\n",
              "      <td>71053</td>\n",
              "      <td>WHITE METAL LANTERN</td>\n",
              "      <td>6</td>\n",
              "      <td>2010-12-01 08:26:00</td>\n",
              "      <td>3.39</td>\n",
              "      <td>17850.0</td>\n",
              "      <td>United Kingdom</td>\n",
              "      <td>2010-12-01</td>\n",
              "    </tr>\n",
              "    <tr>\n",
              "      <th>2</th>\n",
              "      <td>536365</td>\n",
              "      <td>84406B</td>\n",
              "      <td>CREAM CUPID HEARTS COAT HANGER</td>\n",
              "      <td>8</td>\n",
              "      <td>2010-12-01 08:26:00</td>\n",
              "      <td>2.75</td>\n",
              "      <td>17850.0</td>\n",
              "      <td>United Kingdom</td>\n",
              "      <td>2010-12-01</td>\n",
              "    </tr>\n",
              "    <tr>\n",
              "      <th>3</th>\n",
              "      <td>536365</td>\n",
              "      <td>84029G</td>\n",
              "      <td>KNITTED UNION FLAG HOT WATER BOTTLE</td>\n",
              "      <td>6</td>\n",
              "      <td>2010-12-01 08:26:00</td>\n",
              "      <td>3.39</td>\n",
              "      <td>17850.0</td>\n",
              "      <td>United Kingdom</td>\n",
              "      <td>2010-12-01</td>\n",
              "    </tr>\n",
              "    <tr>\n",
              "      <th>4</th>\n",
              "      <td>536365</td>\n",
              "      <td>84029E</td>\n",
              "      <td>RED WOOLLY HOTTIE WHITE HEART.</td>\n",
              "      <td>6</td>\n",
              "      <td>2010-12-01 08:26:00</td>\n",
              "      <td>3.39</td>\n",
              "      <td>17850.0</td>\n",
              "      <td>United Kingdom</td>\n",
              "      <td>2010-12-01</td>\n",
              "    </tr>\n",
              "  </tbody>\n",
              "</table>\n",
              "</div>"
            ]
          },
          "metadata": {},
          "execution_count": 154
        }
      ],
      "metadata": {
        "id": "4bNmKqHNiqa_"
      }
    },
    {
      "cell_type": "markdown",
      "source": [
        "6. Plot RFM distributions"
      ],
      "metadata": {
        "id": "IB9a0AL9iqa_"
      }
    },
    {
      "cell_type": "code",
      "execution_count": 157,
      "source": [
        "plt.figure(figsize=(12,8))\r\n",
        "sns.histplot(x=day_numeric, kde=True);"
      ],
      "outputs": [
        {
          "output_type": "display_data",
          "data": {
            "text/plain": [
              "<Figure size 864x576 with 1 Axes>"
            ],
            "image/svg+xml": "<?xml version=\"1.0\" encoding=\"utf-8\" standalone=\"no\"?>\r\n<!DOCTYPE svg PUBLIC \"-//W3C//DTD SVG 1.1//EN\"\r\n  \"http://www.w3.org/Graphics/SVG/1.1/DTD/svg11.dtd\">\r\n<!-- Created with matplotlib (https://matplotlib.org/) -->\r\n<svg height=\"479.914375pt\" version=\"1.1\" viewBox=\"0 0 736.490625 479.914375\" width=\"736.490625pt\" xmlns=\"http://www.w3.org/2000/svg\" xmlns:xlink=\"http://www.w3.org/1999/xlink\">\r\n <metadata>\r\n  <rdf:RDF xmlns:cc=\"http://creativecommons.org/ns#\" xmlns:dc=\"http://purl.org/dc/elements/1.1/\" xmlns:rdf=\"http://www.w3.org/1999/02/22-rdf-syntax-ns#\">\r\n   <cc:Work>\r\n    <dc:type rdf:resource=\"http://purl.org/dc/dcmitype/StillImage\"/>\r\n    <dc:date>2021-08-22T18:24:47.645363</dc:date>\r\n    <dc:format>image/svg+xml</dc:format>\r\n    <dc:creator>\r\n     <cc:Agent>\r\n      <dc:title>Matplotlib v3.3.4, https://matplotlib.org/</dc:title>\r\n     </cc:Agent>\r\n    </dc:creator>\r\n   </cc:Work>\r\n  </rdf:RDF>\r\n </metadata>\r\n <defs>\r\n  <style type=\"text/css\">*{stroke-linecap:butt;stroke-linejoin:round;}</style>\r\n </defs>\r\n <g id=\"figure_1\">\r\n  <g id=\"patch_1\">\r\n   <path d=\"M 0 479.914375 \r\nL 736.490625 479.914375 \r\nL 736.490625 0 \r\nL 0 0 \r\nz\r\n\" style=\"fill:none;\"/>\r\n  </g>\r\n  <g id=\"axes_1\">\r\n   <g id=\"patch_2\">\r\n    <path d=\"M 59.690625 442.08 \r\nL 729.290625 442.08 \r\nL 729.290625 7.2 \r\nL 59.690625 7.2 \r\nz\r\n\" style=\"fill:#ffffff;\"/>\r\n   </g>\r\n   <g id=\"patch_3\">\r\n    <path clip-path=\"url(#p381af0fdbc)\" d=\"M 90.126989 442.08 \r\nL 99.21247 442.08 \r\nL 99.21247 84.876279 \r\nL 90.126989 84.876279 \r\nz\r\n\" style=\"fill:#1f77b4;fill-opacity:0.5;stroke:#000000;stroke-linejoin:miter;stroke-width:0.908548;\"/>\r\n   </g>\r\n   <g id=\"patch_4\">\r\n    <path clip-path=\"url(#p381af0fdbc)\" d=\"M 99.21247 442.08 \r\nL 108.297952 442.08 \r\nL 108.297952 119.792921 \r\nL 99.21247 119.792921 \r\nz\r\n\" style=\"fill:#1f77b4;fill-opacity:0.5;stroke:#000000;stroke-linejoin:miter;stroke-width:0.908548;\"/>\r\n   </g>\r\n   <g id=\"patch_5\">\r\n    <path clip-path=\"url(#p381af0fdbc)\" d=\"M 108.297952 442.08 \r\nL 117.383434 442.08 \r\nL 117.383434 168.693884 \r\nL 108.297952 168.693884 \r\nz\r\n\" style=\"fill:#1f77b4;fill-opacity:0.5;stroke:#000000;stroke-linejoin:miter;stroke-width:0.908548;\"/>\r\n   </g>\r\n   <g id=\"patch_6\">\r\n    <path clip-path=\"url(#p381af0fdbc)\" d=\"M 117.383434 442.08 \r\nL 126.468915 442.08 \r\nL 126.468915 87.790906 \r\nL 117.383434 87.790906 \r\nz\r\n\" style=\"fill:#1f77b4;fill-opacity:0.5;stroke:#000000;stroke-linejoin:miter;stroke-width:0.908548;\"/>\r\n   </g>\r\n   <g id=\"patch_7\">\r\n    <path clip-path=\"url(#p381af0fdbc)\" d=\"M 126.468915 442.08 \r\nL 135.554397 442.08 \r\nL 135.554397 149.528004 \r\nL 126.468915 149.528004 \r\nz\r\n\" style=\"fill:#1f77b4;fill-opacity:0.5;stroke:#000000;stroke-linejoin:miter;stroke-width:0.908548;\"/>\r\n   </g>\r\n   <g id=\"patch_8\">\r\n    <path clip-path=\"url(#p381af0fdbc)\" d=\"M 135.554397 442.08 \r\nL 144.639879 442.08 \r\nL 144.639879 27.908571 \r\nL 135.554397 27.908571 \r\nz\r\n\" style=\"fill:#1f77b4;fill-opacity:0.5;stroke:#000000;stroke-linejoin:miter;stroke-width:0.908548;\"/>\r\n   </g>\r\n   <g id=\"patch_9\">\r\n    <path clip-path=\"url(#p381af0fdbc)\" d=\"M 144.639879 442.08 \r\nL 153.72536 442.08 \r\nL 153.72536 225.308303 \r\nL 144.639879 225.308303 \r\nz\r\n\" style=\"fill:#1f77b4;fill-opacity:0.5;stroke:#000000;stroke-linejoin:miter;stroke-width:0.908548;\"/>\r\n   </g>\r\n   <g id=\"patch_10\">\r\n    <path clip-path=\"url(#p381af0fdbc)\" d=\"M 153.72536 442.08 \r\nL 162.810842 442.08 \r\nL 162.810842 167.928426 \r\nL 153.72536 167.928426 \r\nz\r\n\" style=\"fill:#1f77b4;fill-opacity:0.5;stroke:#000000;stroke-linejoin:miter;stroke-width:0.908548;\"/>\r\n   </g>\r\n   <g id=\"patch_11\">\r\n    <path clip-path=\"url(#p381af0fdbc)\" d=\"M 162.810842 442.08 \r\nL 171.896324 442.08 \r\nL 171.896324 187.594798 \r\nL 162.810842 187.594798 \r\nz\r\n\" style=\"fill:#1f77b4;fill-opacity:0.5;stroke:#000000;stroke-linejoin:miter;stroke-width:0.908548;\"/>\r\n   </g>\r\n   <g id=\"patch_12\">\r\n    <path clip-path=\"url(#p381af0fdbc)\" d=\"M 171.896324 442.08 \r\nL 180.981805 442.08 \r\nL 180.981805 247.094404 \r\nL 171.896324 247.094404 \r\nz\r\n\" style=\"fill:#1f77b4;fill-opacity:0.5;stroke:#000000;stroke-linejoin:miter;stroke-width:0.908548;\"/>\r\n   </g>\r\n   <g id=\"patch_13\">\r\n    <path clip-path=\"url(#p381af0fdbc)\" d=\"M 180.981805 442.08 \r\nL 190.067287 442.08 \r\nL 190.067287 174.317053 \r\nL 180.981805 174.317053 \r\nz\r\n\" style=\"fill:#1f77b4;fill-opacity:0.5;stroke:#000000;stroke-linejoin:miter;stroke-width:0.908548;\"/>\r\n   </g>\r\n   <g id=\"patch_14\">\r\n    <path clip-path=\"url(#p381af0fdbc)\" d=\"M 190.067287 442.08 \r\nL 199.152769 442.08 \r\nL 199.152769 211.441745 \r\nL 190.067287 211.441745 \r\nz\r\n\" style=\"fill:#1f77b4;fill-opacity:0.5;stroke:#000000;stroke-linejoin:miter;stroke-width:0.908548;\"/>\r\n   </g>\r\n   <g id=\"patch_15\">\r\n    <path clip-path=\"url(#p381af0fdbc)\" d=\"M 199.152769 442.08 \r\nL 208.238251 442.08 \r\nL 208.238251 194.748882 \r\nL 199.152769 194.748882 \r\nz\r\n\" style=\"fill:#1f77b4;fill-opacity:0.5;stroke:#000000;stroke-linejoin:miter;stroke-width:0.908548;\"/>\r\n   </g>\r\n   <g id=\"patch_16\">\r\n    <path clip-path=\"url(#p381af0fdbc)\" d=\"M 208.238251 442.08 \r\nL 217.323732 442.08 \r\nL 217.323732 259.282843 \r\nL 208.238251 259.282843 \r\nz\r\n\" style=\"fill:#1f77b4;fill-opacity:0.5;stroke:#000000;stroke-linejoin:miter;stroke-width:0.908548;\"/>\r\n   </g>\r\n   <g id=\"patch_17\">\r\n    <path clip-path=\"url(#p381af0fdbc)\" d=\"M 217.323732 442.08 \r\nL 226.409214 442.08 \r\nL 226.409214 228.311252 \r\nL 217.323732 228.311252 \r\nz\r\n\" style=\"fill:#1f77b4;fill-opacity:0.5;stroke:#000000;stroke-linejoin:miter;stroke-width:0.908548;\"/>\r\n   </g>\r\n   <g id=\"patch_18\">\r\n    <path clip-path=\"url(#p381af0fdbc)\" d=\"M 226.409214 442.08 \r\nL 235.494696 442.08 \r\nL 235.494696 176.937273 \r\nL 226.409214 176.937273 \r\nz\r\n\" style=\"fill:#1f77b4;fill-opacity:0.5;stroke:#000000;stroke-linejoin:miter;stroke-width:0.908548;\"/>\r\n   </g>\r\n   <g id=\"patch_19\">\r\n    <path clip-path=\"url(#p381af0fdbc)\" d=\"M 235.494696 442.08 \r\nL 244.580177 442.08 \r\nL 244.580177 326.64311 \r\nL 235.494696 326.64311 \r\nz\r\n\" style=\"fill:#1f77b4;fill-opacity:0.5;stroke:#000000;stroke-linejoin:miter;stroke-width:0.908548;\"/>\r\n   </g>\r\n   <g id=\"patch_20\">\r\n    <path clip-path=\"url(#p381af0fdbc)\" d=\"M 244.580177 442.08 \r\nL 253.665659 442.08 \r\nL 253.665659 285.926655 \r\nL 244.580177 285.926655 \r\nz\r\n\" style=\"fill:#1f77b4;fill-opacity:0.5;stroke:#000000;stroke-linejoin:miter;stroke-width:0.908548;\"/>\r\n   </g>\r\n   <g id=\"patch_21\">\r\n    <path clip-path=\"url(#p381af0fdbc)\" d=\"M 253.665659 442.08 \r\nL 262.751141 442.08 \r\nL 262.751141 380.107377 \r\nL 253.665659 380.107377 \r\nz\r\n\" style=\"fill:#1f77b4;fill-opacity:0.5;stroke:#000000;stroke-linejoin:miter;stroke-width:0.908548;\"/>\r\n   </g>\r\n   <g id=\"patch_22\">\r\n    <path clip-path=\"url(#p381af0fdbc)\" d=\"M 262.751141 442.08 \r\nL 271.836622 442.08 \r\nL 271.836622 272.707792 \r\nL 262.751141 272.707792 \r\nz\r\n\" style=\"fill:#1f77b4;fill-opacity:0.5;stroke:#000000;stroke-linejoin:miter;stroke-width:0.908548;\"/>\r\n   </g>\r\n   <g id=\"patch_23\">\r\n    <path clip-path=\"url(#p381af0fdbc)\" d=\"M 271.836622 442.08 \r\nL 280.922104 442.08 \r\nL 280.922104 302.354552 \r\nL 271.836622 302.354552 \r\nz\r\n\" style=\"fill:#1f77b4;fill-opacity:0.5;stroke:#000000;stroke-linejoin:miter;stroke-width:0.908548;\"/>\r\n   </g>\r\n   <g id=\"patch_24\">\r\n    <path clip-path=\"url(#p381af0fdbc)\" d=\"M 280.922104 442.08 \r\nL 290.007586 442.08 \r\nL 290.007586 331.206415 \r\nL 280.922104 331.206415 \r\nz\r\n\" style=\"fill:#1f77b4;fill-opacity:0.5;stroke:#000000;stroke-linejoin:miter;stroke-width:0.908548;\"/>\r\n   </g>\r\n   <g id=\"patch_25\">\r\n    <path clip-path=\"url(#p381af0fdbc)\" d=\"M 290.007586 442.08 \r\nL 299.093067 442.08 \r\nL 299.093067 292.403604 \r\nL 290.007586 292.403604 \r\nz\r\n\" style=\"fill:#1f77b4;fill-opacity:0.5;stroke:#000000;stroke-linejoin:miter;stroke-width:0.908548;\"/>\r\n   </g>\r\n   <g id=\"patch_26\">\r\n    <path clip-path=\"url(#p381af0fdbc)\" d=\"M 299.093067 442.08 \r\nL 308.178549 442.08 \r\nL 308.178549 339.832533 \r\nL 299.093067 339.832533 \r\nz\r\n\" style=\"fill:#1f77b4;fill-opacity:0.5;stroke:#000000;stroke-linejoin:miter;stroke-width:0.908548;\"/>\r\n   </g>\r\n   <g id=\"patch_27\">\r\n    <path clip-path=\"url(#p381af0fdbc)\" d=\"M 308.178549 442.08 \r\nL 317.264031 442.08 \r\nL 317.264031 309.155348 \r\nL 308.178549 309.155348 \r\nz\r\n\" style=\"fill:#1f77b4;fill-opacity:0.5;stroke:#000000;stroke-linejoin:miter;stroke-width:0.908548;\"/>\r\n   </g>\r\n   <g id=\"patch_28\">\r\n    <path clip-path=\"url(#p381af0fdbc)\" d=\"M 317.264031 442.08 \r\nL 326.349512 442.08 \r\nL 326.349512 288.723519 \r\nL 317.264031 288.723519 \r\nz\r\n\" style=\"fill:#1f77b4;fill-opacity:0.5;stroke:#000000;stroke-linejoin:miter;stroke-width:0.908548;\"/>\r\n   </g>\r\n   <g id=\"patch_29\">\r\n    <path clip-path=\"url(#p381af0fdbc)\" d=\"M 326.349512 442.08 \r\nL 335.434994 442.08 \r\nL 335.434994 300.352586 \r\nL 326.349512 300.352586 \r\nz\r\n\" style=\"fill:#1f77b4;fill-opacity:0.5;stroke:#000000;stroke-linejoin:miter;stroke-width:0.908548;\"/>\r\n   </g>\r\n   <g id=\"patch_30\">\r\n    <path clip-path=\"url(#p381af0fdbc)\" d=\"M 335.434994 442.08 \r\nL 344.520476 442.08 \r\nL 344.520476 337.447838 \r\nL 335.434994 337.447838 \r\nz\r\n\" style=\"fill:#1f77b4;fill-opacity:0.5;stroke:#000000;stroke-linejoin:miter;stroke-width:0.908548;\"/>\r\n   </g>\r\n   <g id=\"patch_31\">\r\n    <path clip-path=\"url(#p381af0fdbc)\" d=\"M 344.520476 442.08 \r\nL 353.605957 442.08 \r\nL 353.605957 320.843297 \r\nL 344.520476 320.843297 \r\nz\r\n\" style=\"fill:#1f77b4;fill-opacity:0.5;stroke:#000000;stroke-linejoin:miter;stroke-width:0.908548;\"/>\r\n   </g>\r\n   <g id=\"patch_32\">\r\n    <path clip-path=\"url(#p381af0fdbc)\" d=\"M 353.605957 442.08 \r\nL 362.691439 442.08 \r\nL 362.691439 331.471381 \r\nL 353.605957 331.471381 \r\nz\r\n\" style=\"fill:#1f77b4;fill-opacity:0.5;stroke:#000000;stroke-linejoin:miter;stroke-width:0.908548;\"/>\r\n   </g>\r\n   <g id=\"patch_33\">\r\n    <path clip-path=\"url(#p381af0fdbc)\" d=\"M 362.691439 442.08 \r\nL 371.776921 442.08 \r\nL 371.776921 303.296654 \r\nL 362.691439 303.296654 \r\nz\r\n\" style=\"fill:#1f77b4;fill-opacity:0.5;stroke:#000000;stroke-linejoin:miter;stroke-width:0.908548;\"/>\r\n   </g>\r\n   <g id=\"patch_34\">\r\n    <path clip-path=\"url(#p381af0fdbc)\" d=\"M 371.776921 442.08 \r\nL 380.862402 442.08 \r\nL 380.862402 295.907044 \r\nL 371.776921 295.907044 \r\nz\r\n\" style=\"fill:#1f77b4;fill-opacity:0.5;stroke:#000000;stroke-linejoin:miter;stroke-width:0.908548;\"/>\r\n   </g>\r\n   <g id=\"patch_35\">\r\n    <path clip-path=\"url(#p381af0fdbc)\" d=\"M 380.862402 442.08 \r\nL 389.947884 442.08 \r\nL 389.947884 330.705923 \r\nL 380.862402 330.705923 \r\nz\r\n\" style=\"fill:#1f77b4;fill-opacity:0.5;stroke:#000000;stroke-linejoin:miter;stroke-width:0.908548;\"/>\r\n   </g>\r\n   <g id=\"patch_36\">\r\n    <path clip-path=\"url(#p381af0fdbc)\" d=\"M 389.947884 442.08 \r\nL 399.033366 442.08 \r\nL 399.033366 279.302503 \r\nL 389.947884 279.302503 \r\nz\r\n\" style=\"fill:#1f77b4;fill-opacity:0.5;stroke:#000000;stroke-linejoin:miter;stroke-width:0.908548;\"/>\r\n   </g>\r\n   <g id=\"patch_37\">\r\n    <path clip-path=\"url(#p381af0fdbc)\" d=\"M 399.033366 442.08 \r\nL 408.118848 442.08 \r\nL 408.118848 356.495955 \r\nL 399.033366 356.495955 \r\nz\r\n\" style=\"fill:#1f77b4;fill-opacity:0.5;stroke:#000000;stroke-linejoin:miter;stroke-width:0.908548;\"/>\r\n   </g>\r\n   <g id=\"patch_38\">\r\n    <path clip-path=\"url(#p381af0fdbc)\" d=\"M 408.118848 442.08 \r\nL 417.204329 442.08 \r\nL 417.204329 305.946315 \r\nL 408.118848 305.946315 \r\nz\r\n\" style=\"fill:#1f77b4;fill-opacity:0.5;stroke:#000000;stroke-linejoin:miter;stroke-width:0.908548;\"/>\r\n   </g>\r\n   <g id=\"patch_39\">\r\n    <path clip-path=\"url(#p381af0fdbc)\" d=\"M 417.204329 442.08 \r\nL 426.289811 442.08 \r\nL 426.289811 302.089586 \r\nL 417.204329 302.089586 \r\nz\r\n\" style=\"fill:#1f77b4;fill-opacity:0.5;stroke:#000000;stroke-linejoin:miter;stroke-width:0.908548;\"/>\r\n   </g>\r\n   <g id=\"patch_40\">\r\n    <path clip-path=\"url(#p381af0fdbc)\" d=\"M 426.289811 442.08 \r\nL 435.375293 442.08 \r\nL 435.375293 285.249519 \r\nL 426.289811 285.249519 \r\nz\r\n\" style=\"fill:#1f77b4;fill-opacity:0.5;stroke:#000000;stroke-linejoin:miter;stroke-width:0.908548;\"/>\r\n   </g>\r\n   <g id=\"patch_41\">\r\n    <path clip-path=\"url(#p381af0fdbc)\" d=\"M 435.375293 442.08 \r\nL 444.460774 442.08 \r\nL 444.460774 259.606691 \r\nL 435.375293 259.606691 \r\nz\r\n\" style=\"fill:#1f77b4;fill-opacity:0.5;stroke:#000000;stroke-linejoin:miter;stroke-width:0.908548;\"/>\r\n   </g>\r\n   <g id=\"patch_42\">\r\n    <path clip-path=\"url(#p381af0fdbc)\" d=\"M 444.460774 442.08 \r\nL 453.546256 442.08 \r\nL 453.546256 339.773651 \r\nL 444.460774 339.773651 \r\nz\r\n\" style=\"fill:#1f77b4;fill-opacity:0.5;stroke:#000000;stroke-linejoin:miter;stroke-width:0.908548;\"/>\r\n   </g>\r\n   <g id=\"patch_43\">\r\n    <path clip-path=\"url(#p381af0fdbc)\" d=\"M 453.546256 442.08 \r\nL 462.631738 442.08 \r\nL 462.631738 349.901244 \r\nL 453.546256 349.901244 \r\nz\r\n\" style=\"fill:#1f77b4;fill-opacity:0.5;stroke:#000000;stroke-linejoin:miter;stroke-width:0.908548;\"/>\r\n   </g>\r\n   <g id=\"patch_44\">\r\n    <path clip-path=\"url(#p381af0fdbc)\" d=\"M 462.631738 442.08 \r\nL 471.717219 442.08 \r\nL 471.717219 380.019055 \r\nL 462.631738 380.019055 \r\nz\r\n\" style=\"fill:#1f77b4;fill-opacity:0.5;stroke:#000000;stroke-linejoin:miter;stroke-width:0.908548;\"/>\r\n   </g>\r\n   <g id=\"patch_45\">\r\n    <path clip-path=\"url(#p381af0fdbc)\" d=\"M 471.717219 442.08 \r\nL 480.802701 442.08 \r\nL 480.802701 279.243622 \r\nL 471.717219 279.243622 \r\nz\r\n\" style=\"fill:#1f77b4;fill-opacity:0.5;stroke:#000000;stroke-linejoin:miter;stroke-width:0.908548;\"/>\r\n   </g>\r\n   <g id=\"patch_46\">\r\n    <path clip-path=\"url(#p381af0fdbc)\" d=\"M 480.802701 442.08 \r\nL 489.888183 442.08 \r\nL 489.888183 324.170093 \r\nL 480.802701 324.170093 \r\nz\r\n\" style=\"fill:#1f77b4;fill-opacity:0.5;stroke:#000000;stroke-linejoin:miter;stroke-width:0.908548;\"/>\r\n   </g>\r\n   <g id=\"patch_47\">\r\n    <path clip-path=\"url(#p381af0fdbc)\" d=\"M 489.888183 442.08 \r\nL 498.973664 442.08 \r\nL 498.973664 279.125859 \r\nL 489.888183 279.125859 \r\nz\r\n\" style=\"fill:#1f77b4;fill-opacity:0.5;stroke:#000000;stroke-linejoin:miter;stroke-width:0.908548;\"/>\r\n   </g>\r\n   <g id=\"patch_48\">\r\n    <path clip-path=\"url(#p381af0fdbc)\" d=\"M 498.973664 442.08 \r\nL 508.059146 442.08 \r\nL 508.059146 284.542943 \r\nL 498.973664 284.542943 \r\nz\r\n\" style=\"fill:#1f77b4;fill-opacity:0.5;stroke:#000000;stroke-linejoin:miter;stroke-width:0.908548;\"/>\r\n   </g>\r\n   <g id=\"patch_49\">\r\n    <path clip-path=\"url(#p381af0fdbc)\" d=\"M 508.059146 442.08 \r\nL 517.144628 442.08 \r\nL 517.144628 327.997381 \r\nL 508.059146 327.997381 \r\nz\r\n\" style=\"fill:#1f77b4;fill-opacity:0.5;stroke:#000000;stroke-linejoin:miter;stroke-width:0.908548;\"/>\r\n   </g>\r\n   <g id=\"patch_50\">\r\n    <path clip-path=\"url(#p381af0fdbc)\" d=\"M 517.144628 442.08 \r\nL 526.230109 442.08 \r\nL 526.230109 294.729417 \r\nL 517.144628 294.729417 \r\nz\r\n\" style=\"fill:#1f77b4;fill-opacity:0.5;stroke:#000000;stroke-linejoin:miter;stroke-width:0.908548;\"/>\r\n   </g>\r\n   <g id=\"patch_51\">\r\n    <path clip-path=\"url(#p381af0fdbc)\" d=\"M 526.230109 442.08 \r\nL 535.315591 442.08 \r\nL 535.315591 355.966023 \r\nL 526.230109 355.966023 \r\nz\r\n\" style=\"fill:#1f77b4;fill-opacity:0.5;stroke:#000000;stroke-linejoin:miter;stroke-width:0.908548;\"/>\r\n   </g>\r\n   <g id=\"patch_52\">\r\n    <path clip-path=\"url(#p381af0fdbc)\" d=\"M 535.315591 442.08 \r\nL 544.401073 442.08 \r\nL 544.401073 286.662672 \r\nL 535.315591 286.662672 \r\nz\r\n\" style=\"fill:#1f77b4;fill-opacity:0.5;stroke:#000000;stroke-linejoin:miter;stroke-width:0.908548;\"/>\r\n   </g>\r\n   <g id=\"patch_53\">\r\n    <path clip-path=\"url(#p381af0fdbc)\" d=\"M 544.401073 442.08 \r\nL 553.486554 442.08 \r\nL 553.486554 347.869837 \r\nL 544.401073 347.869837 \r\nz\r\n\" style=\"fill:#1f77b4;fill-opacity:0.5;stroke:#000000;stroke-linejoin:miter;stroke-width:0.908548;\"/>\r\n   </g>\r\n   <g id=\"patch_54\">\r\n    <path clip-path=\"url(#p381af0fdbc)\" d=\"M 553.486554 442.08 \r\nL 562.572036 442.08 \r\nL 562.572036 312.570467 \r\nL 553.486554 312.570467 \r\nz\r\n\" style=\"fill:#1f77b4;fill-opacity:0.5;stroke:#000000;stroke-linejoin:miter;stroke-width:0.908548;\"/>\r\n   </g>\r\n   <g id=\"patch_55\">\r\n    <path clip-path=\"url(#p381af0fdbc)\" d=\"M 562.572036 442.08 \r\nL 571.657518 442.08 \r\nL 571.657518 319.341822 \r\nL 562.572036 319.341822 \r\nz\r\n\" style=\"fill:#1f77b4;fill-opacity:0.5;stroke:#000000;stroke-linejoin:miter;stroke-width:0.908548;\"/>\r\n   </g>\r\n   <g id=\"patch_56\">\r\n    <path clip-path=\"url(#p381af0fdbc)\" d=\"M 571.657518 442.08 \r\nL 580.742999 442.08 \r\nL 580.742999 357.202531 \r\nL 571.657518 357.202531 \r\nz\r\n\" style=\"fill:#1f77b4;fill-opacity:0.5;stroke:#000000;stroke-linejoin:miter;stroke-width:0.908548;\"/>\r\n   </g>\r\n   <g id=\"patch_57\">\r\n    <path clip-path=\"url(#p381af0fdbc)\" d=\"M 580.742999 442.08 \r\nL 589.828481 442.08 \r\nL 589.828481 346.309481 \r\nL 580.742999 346.309481 \r\nz\r\n\" style=\"fill:#1f77b4;fill-opacity:0.5;stroke:#000000;stroke-linejoin:miter;stroke-width:0.908548;\"/>\r\n   </g>\r\n   <g id=\"patch_58\">\r\n    <path clip-path=\"url(#p381af0fdbc)\" d=\"M 589.828481 442.08 \r\nL 598.913963 442.08 \r\nL 598.913963 341.805058 \r\nL 589.828481 341.805058 \r\nz\r\n\" style=\"fill:#1f77b4;fill-opacity:0.5;stroke:#000000;stroke-linejoin:miter;stroke-width:0.908548;\"/>\r\n   </g>\r\n   <g id=\"patch_59\">\r\n    <path clip-path=\"url(#p381af0fdbc)\" d=\"M 598.913963 442.08 \r\nL 607.999445 442.08 \r\nL 607.999445 321.903161 \r\nL 598.913963 321.903161 \r\nz\r\n\" style=\"fill:#1f77b4;fill-opacity:0.5;stroke:#000000;stroke-linejoin:miter;stroke-width:0.908548;\"/>\r\n   </g>\r\n   <g id=\"patch_60\">\r\n    <path clip-path=\"url(#p381af0fdbc)\" d=\"M 607.999445 442.08 \r\nL 617.084926 442.08 \r\nL 617.084926 348.075922 \r\nL 607.999445 348.075922 \r\nz\r\n\" style=\"fill:#1f77b4;fill-opacity:0.5;stroke:#000000;stroke-linejoin:miter;stroke-width:0.908548;\"/>\r\n   </g>\r\n   <g id=\"patch_61\">\r\n    <path clip-path=\"url(#p381af0fdbc)\" d=\"M 617.084926 442.08 \r\nL 626.170408 442.08 \r\nL 626.170408 346.427244 \r\nL 617.084926 346.427244 \r\nz\r\n\" style=\"fill:#1f77b4;fill-opacity:0.5;stroke:#000000;stroke-linejoin:miter;stroke-width:0.908548;\"/>\r\n   </g>\r\n   <g id=\"patch_62\">\r\n    <path clip-path=\"url(#p381af0fdbc)\" d=\"M 626.170408 442.08 \r\nL 635.25589 442.08 \r\nL 635.25589 309.420314 \r\nL 626.170408 309.420314 \r\nz\r\n\" style=\"fill:#1f77b4;fill-opacity:0.5;stroke:#000000;stroke-linejoin:miter;stroke-width:0.908548;\"/>\r\n   </g>\r\n   <g id=\"patch_63\">\r\n    <path clip-path=\"url(#p381af0fdbc)\" d=\"M 635.25589 442.08 \r\nL 644.341371 442.08 \r\nL 644.341371 332.913974 \r\nL 635.25589 332.913974 \r\nz\r\n\" style=\"fill:#1f77b4;fill-opacity:0.5;stroke:#000000;stroke-linejoin:miter;stroke-width:0.908548;\"/>\r\n   </g>\r\n   <g id=\"patch_64\">\r\n    <path clip-path=\"url(#p381af0fdbc)\" d=\"M 644.341371 442.08 \r\nL 653.426853 442.08 \r\nL 653.426853 442.08 \r\nL 644.341371 442.08 \r\nz\r\n\" style=\"fill:#1f77b4;fill-opacity:0.5;stroke:#000000;stroke-linejoin:miter;stroke-width:0.908548;\"/>\r\n   </g>\r\n   <g id=\"patch_65\">\r\n    <path clip-path=\"url(#p381af0fdbc)\" d=\"M 653.426853 442.08 \r\nL 662.512335 442.08 \r\nL 662.512335 442.08 \r\nL 653.426853 442.08 \r\nz\r\n\" style=\"fill:#1f77b4;fill-opacity:0.5;stroke:#000000;stroke-linejoin:miter;stroke-width:0.908548;\"/>\r\n   </g>\r\n   <g id=\"patch_66\">\r\n    <path clip-path=\"url(#p381af0fdbc)\" d=\"M 662.512335 442.08 \r\nL 671.597816 442.08 \r\nL 671.597816 384.994529 \r\nL 662.512335 384.994529 \r\nz\r\n\" style=\"fill:#1f77b4;fill-opacity:0.5;stroke:#000000;stroke-linejoin:miter;stroke-width:0.908548;\"/>\r\n   </g>\r\n   <g id=\"patch_67\">\r\n    <path clip-path=\"url(#p381af0fdbc)\" d=\"M 671.597816 442.08 \r\nL 680.683298 442.08 \r\nL 680.683298 258.399623 \r\nL 671.597816 258.399623 \r\nz\r\n\" style=\"fill:#1f77b4;fill-opacity:0.5;stroke:#000000;stroke-linejoin:miter;stroke-width:0.908548;\"/>\r\n   </g>\r\n   <g id=\"patch_68\">\r\n    <path clip-path=\"url(#p381af0fdbc)\" d=\"M 680.683298 442.08 \r\nL 689.76878 442.08 \r\nL 689.76878 230.81371 \r\nL 680.683298 230.81371 \r\nz\r\n\" style=\"fill:#1f77b4;fill-opacity:0.5;stroke:#000000;stroke-linejoin:miter;stroke-width:0.908548;\"/>\r\n   </g>\r\n   <g id=\"patch_69\">\r\n    <path clip-path=\"url(#p381af0fdbc)\" d=\"M 689.76878 442.08 \r\nL 698.854261 442.08 \r\nL 698.854261 171.755714 \r\nL 689.76878 171.755714 \r\nz\r\n\" style=\"fill:#1f77b4;fill-opacity:0.5;stroke:#000000;stroke-linejoin:miter;stroke-width:0.908548;\"/>\r\n   </g>\r\n   <g id=\"matplotlib.axis_1\">\r\n    <g id=\"xtick_1\">\r\n     <g id=\"line2d_1\">\r\n      <defs>\r\n       <path d=\"M 0 0 \r\nL 0 3.5 \r\n\" id=\"mfb21b709f5\" style=\"stroke:#000000;stroke-width:0.8;\"/>\r\n      </defs>\r\n      <g>\r\n       <use style=\"stroke:#000000;stroke-width:0.8;\" x=\"90.126989\" xlink:href=\"#mfb21b709f5\" y=\"442.08\"/>\r\n      </g>\r\n     </g>\r\n     <g id=\"text_1\">\r\n      <!-- 0 -->\r\n      <g transform=\"translate(86.945739 456.678437)scale(0.1 -0.1)\">\r\n       <defs>\r\n        <path d=\"M 31.78125 66.40625 \r\nQ 24.171875 66.40625 20.328125 58.90625 \r\nQ 16.5 51.421875 16.5 36.375 \r\nQ 16.5 21.390625 20.328125 13.890625 \r\nQ 24.171875 6.390625 31.78125 6.390625 \r\nQ 39.453125 6.390625 43.28125 13.890625 \r\nQ 47.125 21.390625 47.125 36.375 \r\nQ 47.125 51.421875 43.28125 58.90625 \r\nQ 39.453125 66.40625 31.78125 66.40625 \r\nz\r\nM 31.78125 74.21875 \r\nQ 44.046875 74.21875 50.515625 64.515625 \r\nQ 56.984375 54.828125 56.984375 36.375 \r\nQ 56.984375 17.96875 50.515625 8.265625 \r\nQ 44.046875 -1.421875 31.78125 -1.421875 \r\nQ 19.53125 -1.421875 13.0625 8.265625 \r\nQ 6.59375 17.96875 6.59375 36.375 \r\nQ 6.59375 54.828125 13.0625 64.515625 \r\nQ 19.53125 74.21875 31.78125 74.21875 \r\nz\r\n\" id=\"DejaVuSans-48\"/>\r\n       </defs>\r\n       <use xlink:href=\"#DejaVuSans-48\"/>\r\n      </g>\r\n     </g>\r\n    </g>\r\n    <g id=\"xtick_2\">\r\n     <g id=\"line2d_2\">\r\n      <g>\r\n       <use style=\"stroke:#000000;stroke-width:0.8;\" x=\"171.725819\" xlink:href=\"#mfb21b709f5\" y=\"442.08\"/>\r\n      </g>\r\n     </g>\r\n     <g id=\"text_2\">\r\n      <!-- 50 -->\r\n      <g transform=\"translate(165.363319 456.678437)scale(0.1 -0.1)\">\r\n       <defs>\r\n        <path d=\"M 10.796875 72.90625 \r\nL 49.515625 72.90625 \r\nL 49.515625 64.59375 \r\nL 19.828125 64.59375 \r\nL 19.828125 46.734375 \r\nQ 21.96875 47.46875 24.109375 47.828125 \r\nQ 26.265625 48.1875 28.421875 48.1875 \r\nQ 40.625 48.1875 47.75 41.5 \r\nQ 54.890625 34.8125 54.890625 23.390625 \r\nQ 54.890625 11.625 47.5625 5.09375 \r\nQ 40.234375 -1.421875 26.90625 -1.421875 \r\nQ 22.3125 -1.421875 17.546875 -0.640625 \r\nQ 12.796875 0.140625 7.71875 1.703125 \r\nL 7.71875 11.625 \r\nQ 12.109375 9.234375 16.796875 8.0625 \r\nQ 21.484375 6.890625 26.703125 6.890625 \r\nQ 35.15625 6.890625 40.078125 11.328125 \r\nQ 45.015625 15.765625 45.015625 23.390625 \r\nQ 45.015625 31 40.078125 35.4375 \r\nQ 35.15625 39.890625 26.703125 39.890625 \r\nQ 22.75 39.890625 18.8125 39.015625 \r\nQ 14.890625 38.140625 10.796875 36.28125 \r\nz\r\n\" id=\"DejaVuSans-53\"/>\r\n       </defs>\r\n       <use xlink:href=\"#DejaVuSans-53\"/>\r\n       <use x=\"63.623047\" xlink:href=\"#DejaVuSans-48\"/>\r\n      </g>\r\n     </g>\r\n    </g>\r\n    <g id=\"xtick_3\">\r\n     <g id=\"line2d_3\">\r\n      <g>\r\n       <use style=\"stroke:#000000;stroke-width:0.8;\" x=\"253.324649\" xlink:href=\"#mfb21b709f5\" y=\"442.08\"/>\r\n      </g>\r\n     </g>\r\n     <g id=\"text_3\">\r\n      <!-- 100 -->\r\n      <g transform=\"translate(243.780899 456.678437)scale(0.1 -0.1)\">\r\n       <defs>\r\n        <path d=\"M 12.40625 8.296875 \r\nL 28.515625 8.296875 \r\nL 28.515625 63.921875 \r\nL 10.984375 60.40625 \r\nL 10.984375 69.390625 \r\nL 28.421875 72.90625 \r\nL 38.28125 72.90625 \r\nL 38.28125 8.296875 \r\nL 54.390625 8.296875 \r\nL 54.390625 0 \r\nL 12.40625 0 \r\nz\r\n\" id=\"DejaVuSans-49\"/>\r\n       </defs>\r\n       <use xlink:href=\"#DejaVuSans-49\"/>\r\n       <use x=\"63.623047\" xlink:href=\"#DejaVuSans-48\"/>\r\n       <use x=\"127.246094\" xlink:href=\"#DejaVuSans-48\"/>\r\n      </g>\r\n     </g>\r\n    </g>\r\n    <g id=\"xtick_4\">\r\n     <g id=\"line2d_4\">\r\n      <g>\r\n       <use style=\"stroke:#000000;stroke-width:0.8;\" x=\"334.923479\" xlink:href=\"#mfb21b709f5\" y=\"442.08\"/>\r\n      </g>\r\n     </g>\r\n     <g id=\"text_4\">\r\n      <!-- 150 -->\r\n      <g transform=\"translate(325.379729 456.678437)scale(0.1 -0.1)\">\r\n       <use xlink:href=\"#DejaVuSans-49\"/>\r\n       <use x=\"63.623047\" xlink:href=\"#DejaVuSans-53\"/>\r\n       <use x=\"127.246094\" xlink:href=\"#DejaVuSans-48\"/>\r\n      </g>\r\n     </g>\r\n    </g>\r\n    <g id=\"xtick_5\">\r\n     <g id=\"line2d_5\">\r\n      <g>\r\n       <use style=\"stroke:#000000;stroke-width:0.8;\" x=\"416.522309\" xlink:href=\"#mfb21b709f5\" y=\"442.08\"/>\r\n      </g>\r\n     </g>\r\n     <g id=\"text_5\">\r\n      <!-- 200 -->\r\n      <g transform=\"translate(406.978559 456.678437)scale(0.1 -0.1)\">\r\n       <defs>\r\n        <path d=\"M 19.1875 8.296875 \r\nL 53.609375 8.296875 \r\nL 53.609375 0 \r\nL 7.328125 0 \r\nL 7.328125 8.296875 \r\nQ 12.9375 14.109375 22.625 23.890625 \r\nQ 32.328125 33.6875 34.8125 36.53125 \r\nQ 39.546875 41.84375 41.421875 45.53125 \r\nQ 43.3125 49.21875 43.3125 52.78125 \r\nQ 43.3125 58.59375 39.234375 62.25 \r\nQ 35.15625 65.921875 28.609375 65.921875 \r\nQ 23.96875 65.921875 18.8125 64.3125 \r\nQ 13.671875 62.703125 7.8125 59.421875 \r\nL 7.8125 69.390625 \r\nQ 13.765625 71.78125 18.9375 73 \r\nQ 24.125 74.21875 28.421875 74.21875 \r\nQ 39.75 74.21875 46.484375 68.546875 \r\nQ 53.21875 62.890625 53.21875 53.421875 \r\nQ 53.21875 48.921875 51.53125 44.890625 \r\nQ 49.859375 40.875 45.40625 35.40625 \r\nQ 44.1875 33.984375 37.640625 27.21875 \r\nQ 31.109375 20.453125 19.1875 8.296875 \r\nz\r\n\" id=\"DejaVuSans-50\"/>\r\n       </defs>\r\n       <use xlink:href=\"#DejaVuSans-50\"/>\r\n       <use x=\"63.623047\" xlink:href=\"#DejaVuSans-48\"/>\r\n       <use x=\"127.246094\" xlink:href=\"#DejaVuSans-48\"/>\r\n      </g>\r\n     </g>\r\n    </g>\r\n    <g id=\"xtick_6\">\r\n     <g id=\"line2d_6\">\r\n      <g>\r\n       <use style=\"stroke:#000000;stroke-width:0.8;\" x=\"498.121139\" xlink:href=\"#mfb21b709f5\" y=\"442.08\"/>\r\n      </g>\r\n     </g>\r\n     <g id=\"text_6\">\r\n      <!-- 250 -->\r\n      <g transform=\"translate(488.577389 456.678437)scale(0.1 -0.1)\">\r\n       <use xlink:href=\"#DejaVuSans-50\"/>\r\n       <use x=\"63.623047\" xlink:href=\"#DejaVuSans-53\"/>\r\n       <use x=\"127.246094\" xlink:href=\"#DejaVuSans-48\"/>\r\n      </g>\r\n     </g>\r\n    </g>\r\n    <g id=\"xtick_7\">\r\n     <g id=\"line2d_7\">\r\n      <g>\r\n       <use style=\"stroke:#000000;stroke-width:0.8;\" x=\"579.719969\" xlink:href=\"#mfb21b709f5\" y=\"442.08\"/>\r\n      </g>\r\n     </g>\r\n     <g id=\"text_7\">\r\n      <!-- 300 -->\r\n      <g transform=\"translate(570.176219 456.678437)scale(0.1 -0.1)\">\r\n       <defs>\r\n        <path d=\"M 40.578125 39.3125 \r\nQ 47.65625 37.796875 51.625 33 \r\nQ 55.609375 28.21875 55.609375 21.1875 \r\nQ 55.609375 10.40625 48.1875 4.484375 \r\nQ 40.765625 -1.421875 27.09375 -1.421875 \r\nQ 22.515625 -1.421875 17.65625 -0.515625 \r\nQ 12.796875 0.390625 7.625 2.203125 \r\nL 7.625 11.71875 \r\nQ 11.71875 9.328125 16.59375 8.109375 \r\nQ 21.484375 6.890625 26.8125 6.890625 \r\nQ 36.078125 6.890625 40.9375 10.546875 \r\nQ 45.796875 14.203125 45.796875 21.1875 \r\nQ 45.796875 27.640625 41.28125 31.265625 \r\nQ 36.765625 34.90625 28.71875 34.90625 \r\nL 20.21875 34.90625 \r\nL 20.21875 43.015625 \r\nL 29.109375 43.015625 \r\nQ 36.375 43.015625 40.234375 45.921875 \r\nQ 44.09375 48.828125 44.09375 54.296875 \r\nQ 44.09375 59.90625 40.109375 62.90625 \r\nQ 36.140625 65.921875 28.71875 65.921875 \r\nQ 24.65625 65.921875 20.015625 65.03125 \r\nQ 15.375 64.15625 9.8125 62.3125 \r\nL 9.8125 71.09375 \r\nQ 15.4375 72.65625 20.34375 73.4375 \r\nQ 25.25 74.21875 29.59375 74.21875 \r\nQ 40.828125 74.21875 47.359375 69.109375 \r\nQ 53.90625 64.015625 53.90625 55.328125 \r\nQ 53.90625 49.265625 50.4375 45.09375 \r\nQ 46.96875 40.921875 40.578125 39.3125 \r\nz\r\n\" id=\"DejaVuSans-51\"/>\r\n       </defs>\r\n       <use xlink:href=\"#DejaVuSans-51\"/>\r\n       <use x=\"63.623047\" xlink:href=\"#DejaVuSans-48\"/>\r\n       <use x=\"127.246094\" xlink:href=\"#DejaVuSans-48\"/>\r\n      </g>\r\n     </g>\r\n    </g>\r\n    <g id=\"xtick_8\">\r\n     <g id=\"line2d_8\">\r\n      <g>\r\n       <use style=\"stroke:#000000;stroke-width:0.8;\" x=\"661.3188\" xlink:href=\"#mfb21b709f5\" y=\"442.08\"/>\r\n      </g>\r\n     </g>\r\n     <g id=\"text_8\">\r\n      <!-- 350 -->\r\n      <g transform=\"translate(651.77505 456.678437)scale(0.1 -0.1)\">\r\n       <use xlink:href=\"#DejaVuSans-51\"/>\r\n       <use x=\"63.623047\" xlink:href=\"#DejaVuSans-53\"/>\r\n       <use x=\"127.246094\" xlink:href=\"#DejaVuSans-48\"/>\r\n      </g>\r\n     </g>\r\n    </g>\r\n    <g id=\"text_9\">\r\n     <!-- Last_Purchase_Date -->\r\n     <g transform=\"translate(344.422656 470.356562)scale(0.1 -0.1)\">\r\n      <defs>\r\n       <path d=\"M 9.8125 72.90625 \r\nL 19.671875 72.90625 \r\nL 19.671875 8.296875 \r\nL 55.171875 8.296875 \r\nL 55.171875 0 \r\nL 9.8125 0 \r\nz\r\n\" id=\"DejaVuSans-76\"/>\r\n       <path d=\"M 34.28125 27.484375 \r\nQ 23.390625 27.484375 19.1875 25 \r\nQ 14.984375 22.515625 14.984375 16.5 \r\nQ 14.984375 11.71875 18.140625 8.90625 \r\nQ 21.296875 6.109375 26.703125 6.109375 \r\nQ 34.1875 6.109375 38.703125 11.40625 \r\nQ 43.21875 16.703125 43.21875 25.484375 \r\nL 43.21875 27.484375 \r\nz\r\nM 52.203125 31.203125 \r\nL 52.203125 0 \r\nL 43.21875 0 \r\nL 43.21875 8.296875 \r\nQ 40.140625 3.328125 35.546875 0.953125 \r\nQ 30.953125 -1.421875 24.3125 -1.421875 \r\nQ 15.921875 -1.421875 10.953125 3.296875 \r\nQ 6 8.015625 6 15.921875 \r\nQ 6 25.140625 12.171875 29.828125 \r\nQ 18.359375 34.515625 30.609375 34.515625 \r\nL 43.21875 34.515625 \r\nL 43.21875 35.40625 \r\nQ 43.21875 41.609375 39.140625 45 \r\nQ 35.0625 48.390625 27.6875 48.390625 \r\nQ 23 48.390625 18.546875 47.265625 \r\nQ 14.109375 46.140625 10.015625 43.890625 \r\nL 10.015625 52.203125 \r\nQ 14.9375 54.109375 19.578125 55.046875 \r\nQ 24.21875 56 28.609375 56 \r\nQ 40.484375 56 46.34375 49.84375 \r\nQ 52.203125 43.703125 52.203125 31.203125 \r\nz\r\n\" id=\"DejaVuSans-97\"/>\r\n       <path d=\"M 44.28125 53.078125 \r\nL 44.28125 44.578125 \r\nQ 40.484375 46.53125 36.375 47.5 \r\nQ 32.28125 48.484375 27.875 48.484375 \r\nQ 21.1875 48.484375 17.84375 46.4375 \r\nQ 14.5 44.390625 14.5 40.28125 \r\nQ 14.5 37.15625 16.890625 35.375 \r\nQ 19.28125 33.59375 26.515625 31.984375 \r\nL 29.59375 31.296875 \r\nQ 39.15625 29.25 43.1875 25.515625 \r\nQ 47.21875 21.78125 47.21875 15.09375 \r\nQ 47.21875 7.46875 41.1875 3.015625 \r\nQ 35.15625 -1.421875 24.609375 -1.421875 \r\nQ 20.21875 -1.421875 15.453125 -0.5625 \r\nQ 10.6875 0.296875 5.421875 2 \r\nL 5.421875 11.28125 \r\nQ 10.40625 8.6875 15.234375 7.390625 \r\nQ 20.0625 6.109375 24.8125 6.109375 \r\nQ 31.15625 6.109375 34.5625 8.28125 \r\nQ 37.984375 10.453125 37.984375 14.40625 \r\nQ 37.984375 18.0625 35.515625 20.015625 \r\nQ 33.0625 21.96875 24.703125 23.78125 \r\nL 21.578125 24.515625 \r\nQ 13.234375 26.265625 9.515625 29.90625 \r\nQ 5.8125 33.546875 5.8125 39.890625 \r\nQ 5.8125 47.609375 11.28125 51.796875 \r\nQ 16.75 56 26.8125 56 \r\nQ 31.78125 56 36.171875 55.265625 \r\nQ 40.578125 54.546875 44.28125 53.078125 \r\nz\r\n\" id=\"DejaVuSans-115\"/>\r\n       <path d=\"M 18.3125 70.21875 \r\nL 18.3125 54.6875 \r\nL 36.8125 54.6875 \r\nL 36.8125 47.703125 \r\nL 18.3125 47.703125 \r\nL 18.3125 18.015625 \r\nQ 18.3125 11.328125 20.140625 9.421875 \r\nQ 21.96875 7.515625 27.59375 7.515625 \r\nL 36.8125 7.515625 \r\nL 36.8125 0 \r\nL 27.59375 0 \r\nQ 17.1875 0 13.234375 3.875 \r\nQ 9.28125 7.765625 9.28125 18.015625 \r\nL 9.28125 47.703125 \r\nL 2.6875 47.703125 \r\nL 2.6875 54.6875 \r\nL 9.28125 54.6875 \r\nL 9.28125 70.21875 \r\nz\r\n\" id=\"DejaVuSans-116\"/>\r\n       <path d=\"M 50.984375 -16.609375 \r\nL 50.984375 -23.578125 \r\nL -0.984375 -23.578125 \r\nL -0.984375 -16.609375 \r\nz\r\n\" id=\"DejaVuSans-95\"/>\r\n       <path d=\"M 19.671875 64.796875 \r\nL 19.671875 37.40625 \r\nL 32.078125 37.40625 \r\nQ 38.96875 37.40625 42.71875 40.96875 \r\nQ 46.484375 44.53125 46.484375 51.125 \r\nQ 46.484375 57.671875 42.71875 61.234375 \r\nQ 38.96875 64.796875 32.078125 64.796875 \r\nz\r\nM 9.8125 72.90625 \r\nL 32.078125 72.90625 \r\nQ 44.34375 72.90625 50.609375 67.359375 \r\nQ 56.890625 61.8125 56.890625 51.125 \r\nQ 56.890625 40.328125 50.609375 34.8125 \r\nQ 44.34375 29.296875 32.078125 29.296875 \r\nL 19.671875 29.296875 \r\nL 19.671875 0 \r\nL 9.8125 0 \r\nz\r\n\" id=\"DejaVuSans-80\"/>\r\n       <path d=\"M 8.5 21.578125 \r\nL 8.5 54.6875 \r\nL 17.484375 54.6875 \r\nL 17.484375 21.921875 \r\nQ 17.484375 14.15625 20.5 10.265625 \r\nQ 23.53125 6.390625 29.59375 6.390625 \r\nQ 36.859375 6.390625 41.078125 11.03125 \r\nQ 45.3125 15.671875 45.3125 23.6875 \r\nL 45.3125 54.6875 \r\nL 54.296875 54.6875 \r\nL 54.296875 0 \r\nL 45.3125 0 \r\nL 45.3125 8.40625 \r\nQ 42.046875 3.421875 37.71875 1 \r\nQ 33.40625 -1.421875 27.6875 -1.421875 \r\nQ 18.265625 -1.421875 13.375 4.4375 \r\nQ 8.5 10.296875 8.5 21.578125 \r\nz\r\nM 31.109375 56 \r\nz\r\n\" id=\"DejaVuSans-117\"/>\r\n       <path d=\"M 41.109375 46.296875 \r\nQ 39.59375 47.171875 37.8125 47.578125 \r\nQ 36.03125 48 33.890625 48 \r\nQ 26.265625 48 22.1875 43.046875 \r\nQ 18.109375 38.09375 18.109375 28.8125 \r\nL 18.109375 0 \r\nL 9.078125 0 \r\nL 9.078125 54.6875 \r\nL 18.109375 54.6875 \r\nL 18.109375 46.1875 \r\nQ 20.953125 51.171875 25.484375 53.578125 \r\nQ 30.03125 56 36.53125 56 \r\nQ 37.453125 56 38.578125 55.875 \r\nQ 39.703125 55.765625 41.0625 55.515625 \r\nz\r\n\" id=\"DejaVuSans-114\"/>\r\n       <path d=\"M 48.78125 52.59375 \r\nL 48.78125 44.1875 \r\nQ 44.96875 46.296875 41.140625 47.34375 \r\nQ 37.3125 48.390625 33.40625 48.390625 \r\nQ 24.65625 48.390625 19.8125 42.84375 \r\nQ 14.984375 37.3125 14.984375 27.296875 \r\nQ 14.984375 17.28125 19.8125 11.734375 \r\nQ 24.65625 6.203125 33.40625 6.203125 \r\nQ 37.3125 6.203125 41.140625 7.25 \r\nQ 44.96875 8.296875 48.78125 10.40625 \r\nL 48.78125 2.09375 \r\nQ 45.015625 0.34375 40.984375 -0.53125 \r\nQ 36.96875 -1.421875 32.421875 -1.421875 \r\nQ 20.0625 -1.421875 12.78125 6.34375 \r\nQ 5.515625 14.109375 5.515625 27.296875 \r\nQ 5.515625 40.671875 12.859375 48.328125 \r\nQ 20.21875 56 33.015625 56 \r\nQ 37.15625 56 41.109375 55.140625 \r\nQ 45.0625 54.296875 48.78125 52.59375 \r\nz\r\n\" id=\"DejaVuSans-99\"/>\r\n       <path d=\"M 54.890625 33.015625 \r\nL 54.890625 0 \r\nL 45.90625 0 \r\nL 45.90625 32.71875 \r\nQ 45.90625 40.484375 42.875 44.328125 \r\nQ 39.84375 48.1875 33.796875 48.1875 \r\nQ 26.515625 48.1875 22.3125 43.546875 \r\nQ 18.109375 38.921875 18.109375 30.90625 \r\nL 18.109375 0 \r\nL 9.078125 0 \r\nL 9.078125 75.984375 \r\nL 18.109375 75.984375 \r\nL 18.109375 46.1875 \r\nQ 21.34375 51.125 25.703125 53.5625 \r\nQ 30.078125 56 35.796875 56 \r\nQ 45.21875 56 50.046875 50.171875 \r\nQ 54.890625 44.34375 54.890625 33.015625 \r\nz\r\n\" id=\"DejaVuSans-104\"/>\r\n       <path d=\"M 56.203125 29.59375 \r\nL 56.203125 25.203125 \r\nL 14.890625 25.203125 \r\nQ 15.484375 15.921875 20.484375 11.0625 \r\nQ 25.484375 6.203125 34.421875 6.203125 \r\nQ 39.59375 6.203125 44.453125 7.46875 \r\nQ 49.3125 8.734375 54.109375 11.28125 \r\nL 54.109375 2.78125 \r\nQ 49.265625 0.734375 44.1875 -0.34375 \r\nQ 39.109375 -1.421875 33.890625 -1.421875 \r\nQ 20.796875 -1.421875 13.15625 6.1875 \r\nQ 5.515625 13.8125 5.515625 26.8125 \r\nQ 5.515625 40.234375 12.765625 48.109375 \r\nQ 20.015625 56 32.328125 56 \r\nQ 43.359375 56 49.78125 48.890625 \r\nQ 56.203125 41.796875 56.203125 29.59375 \r\nz\r\nM 47.21875 32.234375 \r\nQ 47.125 39.59375 43.09375 43.984375 \r\nQ 39.0625 48.390625 32.421875 48.390625 \r\nQ 24.90625 48.390625 20.390625 44.140625 \r\nQ 15.875 39.890625 15.1875 32.171875 \r\nz\r\n\" id=\"DejaVuSans-101\"/>\r\n       <path d=\"M 19.671875 64.796875 \r\nL 19.671875 8.109375 \r\nL 31.59375 8.109375 \r\nQ 46.6875 8.109375 53.6875 14.9375 \r\nQ 60.6875 21.78125 60.6875 36.53125 \r\nQ 60.6875 51.171875 53.6875 57.984375 \r\nQ 46.6875 64.796875 31.59375 64.796875 \r\nz\r\nM 9.8125 72.90625 \r\nL 30.078125 72.90625 \r\nQ 51.265625 72.90625 61.171875 64.09375 \r\nQ 71.09375 55.28125 71.09375 36.53125 \r\nQ 71.09375 17.671875 61.125 8.828125 \r\nQ 51.171875 0 30.078125 0 \r\nL 9.8125 0 \r\nz\r\n\" id=\"DejaVuSans-68\"/>\r\n      </defs>\r\n      <use xlink:href=\"#DejaVuSans-76\"/>\r\n      <use x=\"55.712891\" xlink:href=\"#DejaVuSans-97\"/>\r\n      <use x=\"116.992188\" xlink:href=\"#DejaVuSans-115\"/>\r\n      <use x=\"169.091797\" xlink:href=\"#DejaVuSans-116\"/>\r\n      <use x=\"208.300781\" xlink:href=\"#DejaVuSans-95\"/>\r\n      <use x=\"258.300781\" xlink:href=\"#DejaVuSans-80\"/>\r\n      <use x=\"316.853516\" xlink:href=\"#DejaVuSans-117\"/>\r\n      <use x=\"380.232422\" xlink:href=\"#DejaVuSans-114\"/>\r\n      <use x=\"419.095703\" xlink:href=\"#DejaVuSans-99\"/>\r\n      <use x=\"474.076172\" xlink:href=\"#DejaVuSans-104\"/>\r\n      <use x=\"537.455078\" xlink:href=\"#DejaVuSans-97\"/>\r\n      <use x=\"598.734375\" xlink:href=\"#DejaVuSans-115\"/>\r\n      <use x=\"650.833984\" xlink:href=\"#DejaVuSans-101\"/>\r\n      <use x=\"712.357422\" xlink:href=\"#DejaVuSans-95\"/>\r\n      <use x=\"762.357422\" xlink:href=\"#DejaVuSans-68\"/>\r\n      <use x=\"839.359375\" xlink:href=\"#DejaVuSans-97\"/>\r\n      <use x=\"900.638672\" xlink:href=\"#DejaVuSans-116\"/>\r\n      <use x=\"939.847656\" xlink:href=\"#DejaVuSans-101\"/>\r\n     </g>\r\n    </g>\r\n   </g>\r\n   <g id=\"matplotlib.axis_2\">\r\n    <g id=\"ytick_1\">\r\n     <g id=\"line2d_9\">\r\n      <defs>\r\n       <path d=\"M 0 0 \r\nL -3.5 0 \r\n\" id=\"m80ac1aa5f0\" style=\"stroke:#000000;stroke-width:0.8;\"/>\r\n      </defs>\r\n      <g>\r\n       <use style=\"stroke:#000000;stroke-width:0.8;\" x=\"59.690625\" xlink:href=\"#m80ac1aa5f0\" y=\"442.08\"/>\r\n      </g>\r\n     </g>\r\n     <g id=\"text_10\">\r\n      <!-- 0 -->\r\n      <g transform=\"translate(46.328125 445.879219)scale(0.1 -0.1)\">\r\n       <use xlink:href=\"#DejaVuSans-48\"/>\r\n      </g>\r\n     </g>\r\n    </g>\r\n    <g id=\"ytick_2\">\r\n     <g id=\"line2d_10\">\r\n      <g>\r\n       <use style=\"stroke:#000000;stroke-width:0.8;\" x=\"59.690625\" xlink:href=\"#m80ac1aa5f0\" y=\"383.198648\"/>\r\n      </g>\r\n     </g>\r\n     <g id=\"text_11\">\r\n      <!-- 2000 -->\r\n      <g transform=\"translate(27.240625 386.997867)scale(0.1 -0.1)\">\r\n       <use xlink:href=\"#DejaVuSans-50\"/>\r\n       <use x=\"63.623047\" xlink:href=\"#DejaVuSans-48\"/>\r\n       <use x=\"127.246094\" xlink:href=\"#DejaVuSans-48\"/>\r\n       <use x=\"190.869141\" xlink:href=\"#DejaVuSans-48\"/>\r\n      </g>\r\n     </g>\r\n    </g>\r\n    <g id=\"ytick_3\">\r\n     <g id=\"line2d_11\">\r\n      <g>\r\n       <use style=\"stroke:#000000;stroke-width:0.8;\" x=\"59.690625\" xlink:href=\"#m80ac1aa5f0\" y=\"324.317296\"/>\r\n      </g>\r\n     </g>\r\n     <g id=\"text_12\">\r\n      <!-- 4000 -->\r\n      <g transform=\"translate(27.240625 328.116515)scale(0.1 -0.1)\">\r\n       <defs>\r\n        <path d=\"M 37.796875 64.3125 \r\nL 12.890625 25.390625 \r\nL 37.796875 25.390625 \r\nz\r\nM 35.203125 72.90625 \r\nL 47.609375 72.90625 \r\nL 47.609375 25.390625 \r\nL 58.015625 25.390625 \r\nL 58.015625 17.1875 \r\nL 47.609375 17.1875 \r\nL 47.609375 0 \r\nL 37.796875 0 \r\nL 37.796875 17.1875 \r\nL 4.890625 17.1875 \r\nL 4.890625 26.703125 \r\nz\r\n\" id=\"DejaVuSans-52\"/>\r\n       </defs>\r\n       <use xlink:href=\"#DejaVuSans-52\"/>\r\n       <use x=\"63.623047\" xlink:href=\"#DejaVuSans-48\"/>\r\n       <use x=\"127.246094\" xlink:href=\"#DejaVuSans-48\"/>\r\n       <use x=\"190.869141\" xlink:href=\"#DejaVuSans-48\"/>\r\n      </g>\r\n     </g>\r\n    </g>\r\n    <g id=\"ytick_4\">\r\n     <g id=\"line2d_12\">\r\n      <g>\r\n       <use style=\"stroke:#000000;stroke-width:0.8;\" x=\"59.690625\" xlink:href=\"#m80ac1aa5f0\" y=\"265.435945\"/>\r\n      </g>\r\n     </g>\r\n     <g id=\"text_13\">\r\n      <!-- 6000 -->\r\n      <g transform=\"translate(27.240625 269.235163)scale(0.1 -0.1)\">\r\n       <defs>\r\n        <path d=\"M 33.015625 40.375 \r\nQ 26.375 40.375 22.484375 35.828125 \r\nQ 18.609375 31.296875 18.609375 23.390625 \r\nQ 18.609375 15.53125 22.484375 10.953125 \r\nQ 26.375 6.390625 33.015625 6.390625 \r\nQ 39.65625 6.390625 43.53125 10.953125 \r\nQ 47.40625 15.53125 47.40625 23.390625 \r\nQ 47.40625 31.296875 43.53125 35.828125 \r\nQ 39.65625 40.375 33.015625 40.375 \r\nz\r\nM 52.59375 71.296875 \r\nL 52.59375 62.3125 \r\nQ 48.875 64.0625 45.09375 64.984375 \r\nQ 41.3125 65.921875 37.59375 65.921875 \r\nQ 27.828125 65.921875 22.671875 59.328125 \r\nQ 17.53125 52.734375 16.796875 39.40625 \r\nQ 19.671875 43.65625 24.015625 45.921875 \r\nQ 28.375 48.1875 33.59375 48.1875 \r\nQ 44.578125 48.1875 50.953125 41.515625 \r\nQ 57.328125 34.859375 57.328125 23.390625 \r\nQ 57.328125 12.15625 50.6875 5.359375 \r\nQ 44.046875 -1.421875 33.015625 -1.421875 \r\nQ 20.359375 -1.421875 13.671875 8.265625 \r\nQ 6.984375 17.96875 6.984375 36.375 \r\nQ 6.984375 53.65625 15.1875 63.9375 \r\nQ 23.390625 74.21875 37.203125 74.21875 \r\nQ 40.921875 74.21875 44.703125 73.484375 \r\nQ 48.484375 72.75 52.59375 71.296875 \r\nz\r\n\" id=\"DejaVuSans-54\"/>\r\n       </defs>\r\n       <use xlink:href=\"#DejaVuSans-54\"/>\r\n       <use x=\"63.623047\" xlink:href=\"#DejaVuSans-48\"/>\r\n       <use x=\"127.246094\" xlink:href=\"#DejaVuSans-48\"/>\r\n       <use x=\"190.869141\" xlink:href=\"#DejaVuSans-48\"/>\r\n      </g>\r\n     </g>\r\n    </g>\r\n    <g id=\"ytick_5\">\r\n     <g id=\"line2d_13\">\r\n      <g>\r\n       <use style=\"stroke:#000000;stroke-width:0.8;\" x=\"59.690625\" xlink:href=\"#m80ac1aa5f0\" y=\"206.554593\"/>\r\n      </g>\r\n     </g>\r\n     <g id=\"text_14\">\r\n      <!-- 8000 -->\r\n      <g transform=\"translate(27.240625 210.353812)scale(0.1 -0.1)\">\r\n       <defs>\r\n        <path d=\"M 31.78125 34.625 \r\nQ 24.75 34.625 20.71875 30.859375 \r\nQ 16.703125 27.09375 16.703125 20.515625 \r\nQ 16.703125 13.921875 20.71875 10.15625 \r\nQ 24.75 6.390625 31.78125 6.390625 \r\nQ 38.8125 6.390625 42.859375 10.171875 \r\nQ 46.921875 13.96875 46.921875 20.515625 \r\nQ 46.921875 27.09375 42.890625 30.859375 \r\nQ 38.875 34.625 31.78125 34.625 \r\nz\r\nM 21.921875 38.8125 \r\nQ 15.578125 40.375 12.03125 44.71875 \r\nQ 8.5 49.078125 8.5 55.328125 \r\nQ 8.5 64.0625 14.71875 69.140625 \r\nQ 20.953125 74.21875 31.78125 74.21875 \r\nQ 42.671875 74.21875 48.875 69.140625 \r\nQ 55.078125 64.0625 55.078125 55.328125 \r\nQ 55.078125 49.078125 51.53125 44.71875 \r\nQ 48 40.375 41.703125 38.8125 \r\nQ 48.828125 37.15625 52.796875 32.3125 \r\nQ 56.78125 27.484375 56.78125 20.515625 \r\nQ 56.78125 9.90625 50.3125 4.234375 \r\nQ 43.84375 -1.421875 31.78125 -1.421875 \r\nQ 19.734375 -1.421875 13.25 4.234375 \r\nQ 6.78125 9.90625 6.78125 20.515625 \r\nQ 6.78125 27.484375 10.78125 32.3125 \r\nQ 14.796875 37.15625 21.921875 38.8125 \r\nz\r\nM 18.3125 54.390625 \r\nQ 18.3125 48.734375 21.84375 45.5625 \r\nQ 25.390625 42.390625 31.78125 42.390625 \r\nQ 38.140625 42.390625 41.71875 45.5625 \r\nQ 45.3125 48.734375 45.3125 54.390625 \r\nQ 45.3125 60.0625 41.71875 63.234375 \r\nQ 38.140625 66.40625 31.78125 66.40625 \r\nQ 25.390625 66.40625 21.84375 63.234375 \r\nQ 18.3125 60.0625 18.3125 54.390625 \r\nz\r\n\" id=\"DejaVuSans-56\"/>\r\n       </defs>\r\n       <use xlink:href=\"#DejaVuSans-56\"/>\r\n       <use x=\"63.623047\" xlink:href=\"#DejaVuSans-48\"/>\r\n       <use x=\"127.246094\" xlink:href=\"#DejaVuSans-48\"/>\r\n       <use x=\"190.869141\" xlink:href=\"#DejaVuSans-48\"/>\r\n      </g>\r\n     </g>\r\n    </g>\r\n    <g id=\"ytick_6\">\r\n     <g id=\"line2d_14\">\r\n      <g>\r\n       <use style=\"stroke:#000000;stroke-width:0.8;\" x=\"59.690625\" xlink:href=\"#m80ac1aa5f0\" y=\"147.673241\"/>\r\n      </g>\r\n     </g>\r\n     <g id=\"text_15\">\r\n      <!-- 10000 -->\r\n      <g transform=\"translate(20.878125 151.47246)scale(0.1 -0.1)\">\r\n       <use xlink:href=\"#DejaVuSans-49\"/>\r\n       <use x=\"63.623047\" xlink:href=\"#DejaVuSans-48\"/>\r\n       <use x=\"127.246094\" xlink:href=\"#DejaVuSans-48\"/>\r\n       <use x=\"190.869141\" xlink:href=\"#DejaVuSans-48\"/>\r\n       <use x=\"254.492188\" xlink:href=\"#DejaVuSans-48\"/>\r\n      </g>\r\n     </g>\r\n    </g>\r\n    <g id=\"ytick_7\">\r\n     <g id=\"line2d_15\">\r\n      <g>\r\n       <use style=\"stroke:#000000;stroke-width:0.8;\" x=\"59.690625\" xlink:href=\"#m80ac1aa5f0\" y=\"88.791889\"/>\r\n      </g>\r\n     </g>\r\n     <g id=\"text_16\">\r\n      <!-- 12000 -->\r\n      <g transform=\"translate(20.878125 92.591108)scale(0.1 -0.1)\">\r\n       <use xlink:href=\"#DejaVuSans-49\"/>\r\n       <use x=\"63.623047\" xlink:href=\"#DejaVuSans-50\"/>\r\n       <use x=\"127.246094\" xlink:href=\"#DejaVuSans-48\"/>\r\n       <use x=\"190.869141\" xlink:href=\"#DejaVuSans-48\"/>\r\n       <use x=\"254.492188\" xlink:href=\"#DejaVuSans-48\"/>\r\n      </g>\r\n     </g>\r\n    </g>\r\n    <g id=\"ytick_8\">\r\n     <g id=\"line2d_16\">\r\n      <g>\r\n       <use style=\"stroke:#000000;stroke-width:0.8;\" x=\"59.690625\" xlink:href=\"#m80ac1aa5f0\" y=\"29.910537\"/>\r\n      </g>\r\n     </g>\r\n     <g id=\"text_17\">\r\n      <!-- 14000 -->\r\n      <g transform=\"translate(20.878125 33.709756)scale(0.1 -0.1)\">\r\n       <use xlink:href=\"#DejaVuSans-49\"/>\r\n       <use x=\"63.623047\" xlink:href=\"#DejaVuSans-52\"/>\r\n       <use x=\"127.246094\" xlink:href=\"#DejaVuSans-48\"/>\r\n       <use x=\"190.869141\" xlink:href=\"#DejaVuSans-48\"/>\r\n       <use x=\"254.492188\" xlink:href=\"#DejaVuSans-48\"/>\r\n      </g>\r\n     </g>\r\n    </g>\r\n    <g id=\"text_18\">\r\n     <!-- Count -->\r\n     <g transform=\"translate(14.798438 239.488437)rotate(-90)scale(0.1 -0.1)\">\r\n      <defs>\r\n       <path d=\"M 64.40625 67.28125 \r\nL 64.40625 56.890625 \r\nQ 59.421875 61.53125 53.78125 63.8125 \r\nQ 48.140625 66.109375 41.796875 66.109375 \r\nQ 29.296875 66.109375 22.65625 58.46875 \r\nQ 16.015625 50.828125 16.015625 36.375 \r\nQ 16.015625 21.96875 22.65625 14.328125 \r\nQ 29.296875 6.6875 41.796875 6.6875 \r\nQ 48.140625 6.6875 53.78125 8.984375 \r\nQ 59.421875 11.28125 64.40625 15.921875 \r\nL 64.40625 5.609375 \r\nQ 59.234375 2.09375 53.4375 0.328125 \r\nQ 47.65625 -1.421875 41.21875 -1.421875 \r\nQ 24.65625 -1.421875 15.125 8.703125 \r\nQ 5.609375 18.84375 5.609375 36.375 \r\nQ 5.609375 53.953125 15.125 64.078125 \r\nQ 24.65625 74.21875 41.21875 74.21875 \r\nQ 47.75 74.21875 53.53125 72.484375 \r\nQ 59.328125 70.75 64.40625 67.28125 \r\nz\r\n\" id=\"DejaVuSans-67\"/>\r\n       <path d=\"M 30.609375 48.390625 \r\nQ 23.390625 48.390625 19.1875 42.75 \r\nQ 14.984375 37.109375 14.984375 27.296875 \r\nQ 14.984375 17.484375 19.15625 11.84375 \r\nQ 23.34375 6.203125 30.609375 6.203125 \r\nQ 37.796875 6.203125 41.984375 11.859375 \r\nQ 46.1875 17.53125 46.1875 27.296875 \r\nQ 46.1875 37.015625 41.984375 42.703125 \r\nQ 37.796875 48.390625 30.609375 48.390625 \r\nz\r\nM 30.609375 56 \r\nQ 42.328125 56 49.015625 48.375 \r\nQ 55.71875 40.765625 55.71875 27.296875 \r\nQ 55.71875 13.875 49.015625 6.21875 \r\nQ 42.328125 -1.421875 30.609375 -1.421875 \r\nQ 18.84375 -1.421875 12.171875 6.21875 \r\nQ 5.515625 13.875 5.515625 27.296875 \r\nQ 5.515625 40.765625 12.171875 48.375 \r\nQ 18.84375 56 30.609375 56 \r\nz\r\n\" id=\"DejaVuSans-111\"/>\r\n       <path d=\"M 54.890625 33.015625 \r\nL 54.890625 0 \r\nL 45.90625 0 \r\nL 45.90625 32.71875 \r\nQ 45.90625 40.484375 42.875 44.328125 \r\nQ 39.84375 48.1875 33.796875 48.1875 \r\nQ 26.515625 48.1875 22.3125 43.546875 \r\nQ 18.109375 38.921875 18.109375 30.90625 \r\nL 18.109375 0 \r\nL 9.078125 0 \r\nL 9.078125 54.6875 \r\nL 18.109375 54.6875 \r\nL 18.109375 46.1875 \r\nQ 21.34375 51.125 25.703125 53.5625 \r\nQ 30.078125 56 35.796875 56 \r\nQ 45.21875 56 50.046875 50.171875 \r\nQ 54.890625 44.34375 54.890625 33.015625 \r\nz\r\n\" id=\"DejaVuSans-110\"/>\r\n      </defs>\r\n      <use xlink:href=\"#DejaVuSans-67\"/>\r\n      <use x=\"69.824219\" xlink:href=\"#DejaVuSans-111\"/>\r\n      <use x=\"131.005859\" xlink:href=\"#DejaVuSans-117\"/>\r\n      <use x=\"194.384766\" xlink:href=\"#DejaVuSans-110\"/>\r\n      <use x=\"257.763672\" xlink:href=\"#DejaVuSans-116\"/>\r\n     </g>\r\n    </g>\r\n   </g>\r\n   <g id=\"line2d_17\">\r\n    <path clip-path=\"url(#p381af0fdbc)\" d=\"M 90.126989 281.276741 \r\nL 93.18592 253.936915 \r\nL 96.244851 227.63975 \r\nL 99.303782 203.37302 \r\nL 102.362713 181.86455 \r\nL 105.421644 163.535945 \r\nL 108.480575 148.516551 \r\nL 111.539506 136.70371 \r\nL 114.598437 127.846331 \r\nL 117.657368 121.628163 \r\nL 120.716299 117.733196 \r\nL 123.77523 115.884675 \r\nL 126.834161 115.857745 \r\nL 129.893092 117.471454 \r\nL 132.952023 120.568526 \r\nL 136.010954 124.991477 \r\nL 139.069885 130.562445 \r\nL 142.128816 137.071883 \r\nL 145.187747 144.278481 \r\nL 157.423471 174.863626 \r\nL 160.482402 181.777075 \r\nL 163.541333 188.037338 \r\nL 166.600264 193.521868 \r\nL 169.659195 198.136751 \r\nL 172.718126 201.81958 \r\nL 175.777057 204.549306 \r\nL 178.835988 206.360468 \r\nL 181.894919 207.355909 \r\nL 184.95385 207.711129 \r\nL 188.012781 207.665283 \r\nL 191.071712 207.49806 \r\nL 194.130643 207.496461 \r\nL 197.189574 207.918983 \r\nL 200.248505 208.965555 \r\nL 203.307436 210.759688 \r\nL 206.366367 213.34563 \r\nL 209.425298 216.699489 \r\nL 212.484229 220.75033 \r\nL 215.54316 225.405693 \r\nL 218.602091 230.575603 \r\nL 221.661022 236.18956 \r\nL 224.719953 242.202287 \r\nL 227.778884 248.586252 \r\nL 230.837815 255.3124 \r\nL 236.955678 269.514848 \r\nL 243.07354 283.690636 \r\nL 246.132471 290.189247 \r\nL 249.191402 295.96185 \r\nL 252.250333 300.820563 \r\nL 255.309264 304.675234 \r\nL 258.368195 307.55137 \r\nL 261.427126 309.58089 \r\nL 264.486057 310.967463 \r\nL 267.544988 311.936164 \r\nL 273.66285 313.332363 \r\nL 279.780712 314.452986 \r\nL 282.839643 314.825757 \r\nL 285.898574 314.973284 \r\nL 288.957505 314.843326 \r\nL 292.016436 314.425501 \r\nL 295.075367 313.752244 \r\nL 301.193229 311.908229 \r\nL 307.311091 309.91552 \r\nL 310.370022 309.039619 \r\nL 313.428953 308.331174 \r\nL 316.487884 307.857723 \r\nL 319.546815 307.687135 \r\nL 322.605746 307.879003 \r\nL 325.664677 308.471719 \r\nL 328.723608 309.469526 \r\nL 331.782539 310.833873 \r\nL 334.84147 312.481725 \r\nL 344.018263 317.786791 \r\nL 347.077194 319.155564 \r\nL 350.136125 320.085183 \r\nL 353.195056 320.478424 \r\nL 356.253987 320.287711 \r\nL 359.312918 319.522934 \r\nL 362.371849 318.253277 \r\nL 365.43078 316.602561 \r\nL 371.548642 312.8577 \r\nL 374.607573 311.165552 \r\nL 377.666504 309.854945 \r\nL 380.725435 309.080974 \r\nL 383.784366 308.935018 \r\nL 386.843297 309.421022 \r\nL 389.902228 310.440073 \r\nL 396.020091 313.188098 \r\nL 399.079022 314.309687 \r\nL 402.137953 314.84951 \r\nL 405.196884 314.580615 \r\nL 408.255815 313.403908 \r\nL 411.314746 311.373511 \r\nL 414.373677 308.692742 \r\nL 420.491539 302.737778 \r\nL 423.55047 300.263929 \r\nL 426.609401 298.635028 \r\nL 429.668332 298.146291 \r\nL 432.727263 298.981287 \r\nL 435.786194 301.18693 \r\nL 438.845125 304.658189 \r\nL 441.904056 309.136216 \r\nL 451.080849 324.220222 \r\nL 454.13978 328.096885 \r\nL 457.198711 330.672196 \r\nL 460.257642 331.725496 \r\nL 463.316573 331.234157 \r\nL 466.375504 329.368383 \r\nL 469.434435 326.451611 \r\nL 472.493366 322.895837 \r\nL 478.611228 315.516437 \r\nL 481.670159 312.334148 \r\nL 484.72909 309.728519 \r\nL 487.788021 307.735616 \r\nL 490.846952 306.309439 \r\nL 493.905883 305.362696 \r\nL 496.964814 304.806151 \r\nL 500.023745 304.577018 \r\nL 503.082676 304.651184 \r\nL 506.141607 305.038907 \r\nL 509.200538 305.76779 \r\nL 512.259469 306.859525 \r\nL 515.3184 308.307801 \r\nL 518.377331 310.063907 \r\nL 530.613055 317.907683 \r\nL 533.671986 319.443376 \r\nL 536.730917 320.656666 \r\nL 539.789848 321.562794 \r\nL 542.848779 322.229785 \r\nL 548.966641 323.299604 \r\nL 552.025572 323.96553 \r\nL 555.084503 324.881122 \r\nL 558.143435 326.131949 \r\nL 561.202366 327.756096 \r\nL 564.261297 329.732584 \r\nL 570.379159 334.340663 \r\nL 573.43809 336.63602 \r\nL 576.497021 338.653983 \r\nL 579.555952 340.203804 \r\nL 582.614883 341.148409 \r\nL 585.673814 341.433703 \r\nL 588.732745 341.103146 \r\nL 591.791676 340.292863 \r\nL 600.968469 337.13476 \r\nL 604.0274 336.539505 \r\nL 607.086331 336.394697 \r\nL 610.145262 336.729066 \r\nL 613.204193 337.521912 \r\nL 616.263124 338.738447 \r\nL 619.322055 340.367423 \r\nL 622.380986 342.447502 \r\nL 625.439917 345.070826 \r\nL 628.498848 348.358008 \r\nL 631.557779 352.40716 \r\nL 634.61671 357.228279 \r\nL 637.675641 362.680752 \r\nL 643.793503 373.963639 \r\nL 646.852434 378.600031 \r\nL 649.911365 381.608382 \r\nL 652.970296 382.302421 \r\nL 656.029227 380.160753 \r\nL 659.088158 374.927232 \r\nL 662.147089 366.6771 \r\nL 665.20602 355.838567 \r\nL 668.264951 343.16787 \r\nL 674.382813 316.564242 \r\nL 677.441744 305.037172 \r\nL 680.500675 296.2433 \r\nL 683.559606 291.117555 \r\nL 686.618537 290.281474 \r\nL 689.677468 293.967161 \r\nL 692.736399 301.984894 \r\nL 695.79533 313.743775 \r\nL 698.854261 328.327242 \r\nL 698.854261 328.327242 \r\n\" style=\"fill:none;stroke:#1f77b4;stroke-linecap:square;stroke-width:1.5;\"/>\r\n   </g>\r\n   <g id=\"patch_70\">\r\n    <path d=\"M 59.690625 442.08 \r\nL 59.690625 7.2 \r\n\" style=\"fill:none;stroke:#000000;stroke-linecap:square;stroke-linejoin:miter;stroke-width:0.8;\"/>\r\n   </g>\r\n   <g id=\"patch_71\">\r\n    <path d=\"M 729.290625 442.08 \r\nL 729.290625 7.2 \r\n\" style=\"fill:none;stroke:#000000;stroke-linecap:square;stroke-linejoin:miter;stroke-width:0.8;\"/>\r\n   </g>\r\n   <g id=\"patch_72\">\r\n    <path d=\"M 59.690625 442.08 \r\nL 729.290625 442.08 \r\n\" style=\"fill:none;stroke:#000000;stroke-linecap:square;stroke-linejoin:miter;stroke-width:0.8;\"/>\r\n   </g>\r\n   <g id=\"patch_73\">\r\n    <path d=\"M 59.690625 7.2 \r\nL 729.290625 7.2 \r\n\" style=\"fill:none;stroke:#000000;stroke-linecap:square;stroke-linejoin:miter;stroke-width:0.8;\"/>\r\n   </g>\r\n  </g>\r\n </g>\r\n <defs>\r\n  <clipPath id=\"p381af0fdbc\">\r\n   <rect height=\"434.88\" width=\"669.6\" x=\"59.690625\" y=\"7.2\"/>\r\n  </clipPath>\r\n </defs>\r\n</svg>\r\n",
            "image/png": "[encoded data removed]"
          },
          "metadata": {
            "needs_background": "light"
          }
        }
      ],
      "metadata": {}
    },
    {
      "cell_type": "markdown",
      "source": [
        "### iv. Frequency: Number of purchases\n",
        "\n",
        "To calculate how many times a customer purchased something, we need to count how many invoices each customer has. To calculate the frequency values, follow these steps in order:"
      ],
      "metadata": {
        "id": "MAjKZD0KQGWg"
      }
    },
    {
      "cell_type": "markdown",
      "source": [
        "1. Make a copy of df_uk and drop duplicates"
      ],
      "metadata": {
        "id": "TDoNslseiqbA"
      }
    },
    {
      "cell_type": "code",
      "execution_count": 158,
      "source": [
        "df_uk2 = df.copy()\r\n",
        "df_uk2.head()"
      ],
      "outputs": [
        {
          "output_type": "execute_result",
          "data": {
            "text/plain": [
              "  InvoiceNo StockCode                          Description  Quantity  \\\n",
              "0    536365    85123A   WHITE HANGING HEART T-LIGHT HOLDER         6   \n",
              "1    536365     71053                  WHITE METAL LANTERN         6   \n",
              "2    536365    84406B       CREAM CUPID HEARTS COAT HANGER         8   \n",
              "3    536365    84029G  KNITTED UNION FLAG HOT WATER BOTTLE         6   \n",
              "4    536365    84029E       RED WOOLLY HOTTIE WHITE HEART.         6   \n",
              "\n",
              "          InvoiceDate  UnitPrice  CustomerID         Country  \n",
              "0 2010-12-01 08:26:00       2.55     17850.0  United Kingdom  \n",
              "1 2010-12-01 08:26:00       3.39     17850.0  United Kingdom  \n",
              "2 2010-12-01 08:26:00       2.75     17850.0  United Kingdom  \n",
              "3 2010-12-01 08:26:00       3.39     17850.0  United Kingdom  \n",
              "4 2010-12-01 08:26:00       3.39     17850.0  United Kingdom  "
            ],
            "text/html": [
              "<div>\n",
              "<style scoped>\n",
              "    .dataframe tbody tr th:only-of-type {\n",
              "        vertical-align: middle;\n",
              "    }\n",
              "\n",
              "    .dataframe tbody tr th {\n",
              "        vertical-align: top;\n",
              "    }\n",
              "\n",
              "    .dataframe thead th {\n",
              "        text-align: right;\n",
              "    }\n",
              "</style>\n",
              "<table border=\"1\" class=\"dataframe\">\n",
              "  <thead>\n",
              "    <tr style=\"text-align: right;\">\n",
              "      <th></th>\n",
              "      <th>InvoiceNo</th>\n",
              "      <th>StockCode</th>\n",
              "      <th>Description</th>\n",
              "      <th>Quantity</th>\n",
              "      <th>InvoiceDate</th>\n",
              "      <th>UnitPrice</th>\n",
              "      <th>CustomerID</th>\n",
              "      <th>Country</th>\n",
              "    </tr>\n",
              "  </thead>\n",
              "  <tbody>\n",
              "    <tr>\n",
              "      <th>0</th>\n",
              "      <td>536365</td>\n",
              "      <td>85123A</td>\n",
              "      <td>WHITE HANGING HEART T-LIGHT HOLDER</td>\n",
              "      <td>6</td>\n",
              "      <td>2010-12-01 08:26:00</td>\n",
              "      <td>2.55</td>\n",
              "      <td>17850.0</td>\n",
              "      <td>United Kingdom</td>\n",
              "    </tr>\n",
              "    <tr>\n",
              "      <th>1</th>\n",
              "      <td>536365</td>\n",
              "      <td>71053</td>\n",
              "      <td>WHITE METAL LANTERN</td>\n",
              "      <td>6</td>\n",
              "      <td>2010-12-01 08:26:00</td>\n",
              "      <td>3.39</td>\n",
              "      <td>17850.0</td>\n",
              "      <td>United Kingdom</td>\n",
              "    </tr>\n",
              "    <tr>\n",
              "      <th>2</th>\n",
              "      <td>536365</td>\n",
              "      <td>84406B</td>\n",
              "      <td>CREAM CUPID HEARTS COAT HANGER</td>\n",
              "      <td>8</td>\n",
              "      <td>2010-12-01 08:26:00</td>\n",
              "      <td>2.75</td>\n",
              "      <td>17850.0</td>\n",
              "      <td>United Kingdom</td>\n",
              "    </tr>\n",
              "    <tr>\n",
              "      <th>3</th>\n",
              "      <td>536365</td>\n",
              "      <td>84029G</td>\n",
              "      <td>KNITTED UNION FLAG HOT WATER BOTTLE</td>\n",
              "      <td>6</td>\n",
              "      <td>2010-12-01 08:26:00</td>\n",
              "      <td>3.39</td>\n",
              "      <td>17850.0</td>\n",
              "      <td>United Kingdom</td>\n",
              "    </tr>\n",
              "    <tr>\n",
              "      <th>4</th>\n",
              "      <td>536365</td>\n",
              "      <td>84029E</td>\n",
              "      <td>RED WOOLLY HOTTIE WHITE HEART.</td>\n",
              "      <td>6</td>\n",
              "      <td>2010-12-01 08:26:00</td>\n",
              "      <td>3.39</td>\n",
              "      <td>17850.0</td>\n",
              "      <td>United Kingdom</td>\n",
              "    </tr>\n",
              "  </tbody>\n",
              "</table>\n",
              "</div>"
            ]
          },
          "metadata": {},
          "execution_count": 158
        }
      ],
      "metadata": {
        "id": "6gk2gokFiqbA"
      }
    },
    {
      "cell_type": "code",
      "execution_count": 159,
      "source": [
        "df_uk2.shape"
      ],
      "outputs": [
        {
          "output_type": "execute_result",
          "data": {
            "text/plain": [
              "(406829, 8)"
            ]
          },
          "metadata": {},
          "execution_count": 159
        }
      ],
      "metadata": {}
    },
    {
      "cell_type": "code",
      "execution_count": 160,
      "source": [
        "df_uk2.drop_duplicates()"
      ],
      "outputs": [
        {
          "output_type": "execute_result",
          "data": {
            "text/plain": [
              "       InvoiceNo StockCode                          Description  Quantity  \\\n",
              "0         536365    85123A   WHITE HANGING HEART T-LIGHT HOLDER         6   \n",
              "1         536365     71053                  WHITE METAL LANTERN         6   \n",
              "2         536365    84406B       CREAM CUPID HEARTS COAT HANGER         8   \n",
              "3         536365    84029G  KNITTED UNION FLAG HOT WATER BOTTLE         6   \n",
              "4         536365    84029E       RED WOOLLY HOTTIE WHITE HEART.         6   \n",
              "...          ...       ...                                  ...       ...   \n",
              "541904    581587     22613          PACK OF 20 SPACEBOY NAPKINS        12   \n",
              "541905    581587     22899         CHILDREN'S APRON DOLLY GIRL          6   \n",
              "541906    581587     23254        CHILDRENS CUTLERY DOLLY GIRL          4   \n",
              "541907    581587     23255      CHILDRENS CUTLERY CIRCUS PARADE         4   \n",
              "541908    581587     22138        BAKING SET 9 PIECE RETROSPOT          3   \n",
              "\n",
              "               InvoiceDate  UnitPrice  CustomerID         Country  \n",
              "0      2010-12-01 08:26:00       2.55     17850.0  United Kingdom  \n",
              "1      2010-12-01 08:26:00       3.39     17850.0  United Kingdom  \n",
              "2      2010-12-01 08:26:00       2.75     17850.0  United Kingdom  \n",
              "3      2010-12-01 08:26:00       3.39     17850.0  United Kingdom  \n",
              "4      2010-12-01 08:26:00       3.39     17850.0  United Kingdom  \n",
              "...                    ...        ...         ...             ...  \n",
              "541904 2011-12-09 12:50:00       0.85     12680.0          France  \n",
              "541905 2011-12-09 12:50:00       2.10     12680.0          France  \n",
              "541906 2011-12-09 12:50:00       4.15     12680.0          France  \n",
              "541907 2011-12-09 12:50:00       4.15     12680.0          France  \n",
              "541908 2011-12-09 12:50:00       4.95     12680.0          France  \n",
              "\n",
              "[401604 rows x 8 columns]"
            ],
            "text/html": [
              "<div>\n",
              "<style scoped>\n",
              "    .dataframe tbody tr th:only-of-type {\n",
              "        vertical-align: middle;\n",
              "    }\n",
              "\n",
              "    .dataframe tbody tr th {\n",
              "        vertical-align: top;\n",
              "    }\n",
              "\n",
              "    .dataframe thead th {\n",
              "        text-align: right;\n",
              "    }\n",
              "</style>\n",
              "<table border=\"1\" class=\"dataframe\">\n",
              "  <thead>\n",
              "    <tr style=\"text-align: right;\">\n",
              "      <th></th>\n",
              "      <th>InvoiceNo</th>\n",
              "      <th>StockCode</th>\n",
              "      <th>Description</th>\n",
              "      <th>Quantity</th>\n",
              "      <th>InvoiceDate</th>\n",
              "      <th>UnitPrice</th>\n",
              "      <th>CustomerID</th>\n",
              "      <th>Country</th>\n",
              "    </tr>\n",
              "  </thead>\n",
              "  <tbody>\n",
              "    <tr>\n",
              "      <th>0</th>\n",
              "      <td>536365</td>\n",
              "      <td>85123A</td>\n",
              "      <td>WHITE HANGING HEART T-LIGHT HOLDER</td>\n",
              "      <td>6</td>\n",
              "      <td>2010-12-01 08:26:00</td>\n",
              "      <td>2.55</td>\n",
              "      <td>17850.0</td>\n",
              "      <td>United Kingdom</td>\n",
              "    </tr>\n",
              "    <tr>\n",
              "      <th>1</th>\n",
              "      <td>536365</td>\n",
              "      <td>71053</td>\n",
              "      <td>WHITE METAL LANTERN</td>\n",
              "      <td>6</td>\n",
              "      <td>2010-12-01 08:26:00</td>\n",
              "      <td>3.39</td>\n",
              "      <td>17850.0</td>\n",
              "      <td>United Kingdom</td>\n",
              "    </tr>\n",
              "    <tr>\n",
              "      <th>2</th>\n",
              "      <td>536365</td>\n",
              "      <td>84406B</td>\n",
              "      <td>CREAM CUPID HEARTS COAT HANGER</td>\n",
              "      <td>8</td>\n",
              "      <td>2010-12-01 08:26:00</td>\n",
              "      <td>2.75</td>\n",
              "      <td>17850.0</td>\n",
              "      <td>United Kingdom</td>\n",
              "    </tr>\n",
              "    <tr>\n",
              "      <th>3</th>\n",
              "      <td>536365</td>\n",
              "      <td>84029G</td>\n",
              "      <td>KNITTED UNION FLAG HOT WATER BOTTLE</td>\n",
              "      <td>6</td>\n",
              "      <td>2010-12-01 08:26:00</td>\n",
              "      <td>3.39</td>\n",
              "      <td>17850.0</td>\n",
              "      <td>United Kingdom</td>\n",
              "    </tr>\n",
              "    <tr>\n",
              "      <th>4</th>\n",
              "      <td>536365</td>\n",
              "      <td>84029E</td>\n",
              "      <td>RED WOOLLY HOTTIE WHITE HEART.</td>\n",
              "      <td>6</td>\n",
              "      <td>2010-12-01 08:26:00</td>\n",
              "      <td>3.39</td>\n",
              "      <td>17850.0</td>\n",
              "      <td>United Kingdom</td>\n",
              "    </tr>\n",
              "    <tr>\n",
              "      <th>...</th>\n",
              "      <td>...</td>\n",
              "      <td>...</td>\n",
              "      <td>...</td>\n",
              "      <td>...</td>\n",
              "      <td>...</td>\n",
              "      <td>...</td>\n",
              "      <td>...</td>\n",
              "      <td>...</td>\n",
              "    </tr>\n",
              "    <tr>\n",
              "      <th>541904</th>\n",
              "      <td>581587</td>\n",
              "      <td>22613</td>\n",
              "      <td>PACK OF 20 SPACEBOY NAPKINS</td>\n",
              "      <td>12</td>\n",
              "      <td>2011-12-09 12:50:00</td>\n",
              "      <td>0.85</td>\n",
              "      <td>12680.0</td>\n",
              "      <td>France</td>\n",
              "    </tr>\n",
              "    <tr>\n",
              "      <th>541905</th>\n",
              "      <td>581587</td>\n",
              "      <td>22899</td>\n",
              "      <td>CHILDREN'S APRON DOLLY GIRL</td>\n",
              "      <td>6</td>\n",
              "      <td>2011-12-09 12:50:00</td>\n",
              "      <td>2.10</td>\n",
              "      <td>12680.0</td>\n",
              "      <td>France</td>\n",
              "    </tr>\n",
              "    <tr>\n",
              "      <th>541906</th>\n",
              "      <td>581587</td>\n",
              "      <td>23254</td>\n",
              "      <td>CHILDRENS CUTLERY DOLLY GIRL</td>\n",
              "      <td>4</td>\n",
              "      <td>2011-12-09 12:50:00</td>\n",
              "      <td>4.15</td>\n",
              "      <td>12680.0</td>\n",
              "      <td>France</td>\n",
              "    </tr>\n",
              "    <tr>\n",
              "      <th>541907</th>\n",
              "      <td>581587</td>\n",
              "      <td>23255</td>\n",
              "      <td>CHILDRENS CUTLERY CIRCUS PARADE</td>\n",
              "      <td>4</td>\n",
              "      <td>2011-12-09 12:50:00</td>\n",
              "      <td>4.15</td>\n",
              "      <td>12680.0</td>\n",
              "      <td>France</td>\n",
              "    </tr>\n",
              "    <tr>\n",
              "      <th>541908</th>\n",
              "      <td>581587</td>\n",
              "      <td>22138</td>\n",
              "      <td>BAKING SET 9 PIECE RETROSPOT</td>\n",
              "      <td>3</td>\n",
              "      <td>2011-12-09 12:50:00</td>\n",
              "      <td>4.95</td>\n",
              "      <td>12680.0</td>\n",
              "      <td>France</td>\n",
              "    </tr>\n",
              "  </tbody>\n",
              "</table>\n",
              "<p>401604 rows × 8 columns</p>\n",
              "</div>"
            ]
          },
          "metadata": {},
          "execution_count": 160
        }
      ],
      "metadata": {}
    },
    {
      "cell_type": "markdown",
      "source": [
        "2. Calculate the frequency of purchases"
      ],
      "metadata": {
        "id": "7KrnuXrLiqbA"
      }
    },
    {
      "cell_type": "code",
      "execution_count": 161,
      "source": [
        "df_uk2.groupby(\"CustomerID\")[\"InvoiceNo\"].count()"
      ],
      "outputs": [
        {
          "output_type": "execute_result",
          "data": {
            "text/plain": [
              "CustomerID\n",
              "12346.0      2\n",
              "12347.0    182\n",
              "12348.0     31\n",
              "12349.0     73\n",
              "12350.0     17\n",
              "          ... \n",
              "18280.0     10\n",
              "18281.0      7\n",
              "18282.0     13\n",
              "18283.0    756\n",
              "18287.0     70\n",
              "Name: InvoiceNo, Length: 4372, dtype: int64"
            ]
          },
          "metadata": {},
          "execution_count": 161
        }
      ],
      "metadata": {
        "id": "1LTM_cxpiqbA"
      }
    },
    {
      "cell_type": "markdown",
      "source": [
        "3. Plot RFM distributions"
      ],
      "metadata": {
        "id": "V9NNBCNgiqbA"
      }
    },
    {
      "cell_type": "code",
      "execution_count": 162,
      "source": [
        "plt.figure(figsize=(12,8))\r\n",
        "sns.histplot(x=df_uk2.groupby(\"CustomerID\")[\"InvoiceNo\"].count(), kde=True);"
      ],
      "outputs": [
        {
          "output_type": "display_data",
          "data": {
            "text/plain": [
              "<Figure size 864x576 with 1 Axes>"
            ],
            "image/svg+xml": "<?xml version=\"1.0\" encoding=\"utf-8\" standalone=\"no\"?>\r\n<!DOCTYPE svg PUBLIC \"-//W3C//DTD SVG 1.1//EN\"\r\n  \"http://www.w3.org/Graphics/SVG/1.1/DTD/svg11.dtd\">\r\n<!-- Created with matplotlib (https://matplotlib.org/) -->\r\n<svg height=\"479.63625pt\" version=\"1.1\" viewBox=\"0 0 723.765625 479.63625\" width=\"723.765625pt\" xmlns=\"http://www.w3.org/2000/svg\" xmlns:xlink=\"http://www.w3.org/1999/xlink\">\r\n <metadata>\r\n  <rdf:RDF xmlns:cc=\"http://creativecommons.org/ns#\" xmlns:dc=\"http://purl.org/dc/elements/1.1/\" xmlns:rdf=\"http://www.w3.org/1999/02/22-rdf-syntax-ns#\">\r\n   <cc:Work>\r\n    <dc:type rdf:resource=\"http://purl.org/dc/dcmitype/StillImage\"/>\r\n    <dc:date>2021-08-22T18:25:49.348646</dc:date>\r\n    <dc:format>image/svg+xml</dc:format>\r\n    <dc:creator>\r\n     <cc:Agent>\r\n      <dc:title>Matplotlib v3.3.4, https://matplotlib.org/</dc:title>\r\n     </cc:Agent>\r\n    </dc:creator>\r\n   </cc:Work>\r\n  </rdf:RDF>\r\n </metadata>\r\n <defs>\r\n  <style type=\"text/css\">*{stroke-linecap:butt;stroke-linejoin:round;}</style>\r\n </defs>\r\n <g id=\"figure_1\">\r\n  <g id=\"patch_1\">\r\n   <path d=\"M 0 479.63625 \r\nL 723.765625 479.63625 \r\nL 723.765625 0 \r\nL 0 0 \r\nz\r\n\" style=\"fill:none;\"/>\r\n  </g>\r\n  <g id=\"axes_1\">\r\n   <g id=\"patch_2\">\r\n    <path d=\"M 46.965625 442.08 \r\nL 716.565625 442.08 \r\nL 716.565625 7.2 \r\nL 46.965625 7.2 \r\nz\r\n\" style=\"fill:#ffffff;\"/>\r\n   </g>\r\n   <g id=\"patch_3\">\r\n    <path clip-path=\"url(#p1e020dd2c8)\" d=\"M 77.401989 442.08 \r\nL 78.194602 442.08 \r\nL 78.194602 27.908571 \r\nL 77.401989 27.908571 \r\nz\r\n\" style=\"fill:#1f77b4;fill-opacity:0.5;stroke:#000000;stroke-linejoin:miter;stroke-width:0.079261;\"/>\r\n   </g>\r\n   <g id=\"patch_4\">\r\n    <path clip-path=\"url(#p1e020dd2c8)\" d=\"M 78.194602 442.08 \r\nL 78.987216 442.08 \r\nL 78.987216 101.163382 \r\nL 78.194602 101.163382 \r\nz\r\n\" style=\"fill:#1f77b4;fill-opacity:0.5;stroke:#000000;stroke-linejoin:miter;stroke-width:0.079261;\"/>\r\n   </g>\r\n   <g id=\"patch_5\">\r\n    <path clip-path=\"url(#p1e020dd2c8)\" d=\"M 78.987216 442.08 \r\nL 79.77983 442.08 \r\nL 79.77983 132.7193 \r\nL 78.987216 132.7193 \r\nz\r\n\" style=\"fill:#1f77b4;fill-opacity:0.5;stroke:#000000;stroke-linejoin:miter;stroke-width:0.079261;\"/>\r\n   </g>\r\n   <g id=\"patch_6\">\r\n    <path clip-path=\"url(#p1e020dd2c8)\" d=\"M 79.77983 442.08 \r\nL 80.572443 442.08 \r\nL 80.572443 260.069971 \r\nL 79.77983 260.069971 \r\nz\r\n\" style=\"fill:#1f77b4;fill-opacity:0.5;stroke:#000000;stroke-linejoin:miter;stroke-width:0.079261;\"/>\r\n   </g>\r\n   <g id=\"patch_7\">\r\n    <path clip-path=\"url(#p1e020dd2c8)\" d=\"M 80.572443 442.08 \r\nL 81.365057 442.08 \r\nL 81.365057 286.554402 \r\nL 80.572443 286.554402 \r\nz\r\n\" style=\"fill:#1f77b4;fill-opacity:0.5;stroke:#000000;stroke-linejoin:miter;stroke-width:0.079261;\"/>\r\n   </g>\r\n   <g id=\"patch_8\">\r\n    <path clip-path=\"url(#p1e020dd2c8)\" d=\"M 81.365057 442.08 \r\nL 82.15767 442.08 \r\nL 82.15767 304.586356 \r\nL 81.365057 304.586356 \r\nz\r\n\" style=\"fill:#1f77b4;fill-opacity:0.5;stroke:#000000;stroke-linejoin:miter;stroke-width:0.079261;\"/>\r\n   </g>\r\n   <g id=\"patch_9\">\r\n    <path clip-path=\"url(#p1e020dd2c8)\" d=\"M 82.15767 442.08 \r\nL 82.950284 442.08 \r\nL 82.950284 344.594752 \r\nL 82.15767 344.594752 \r\nz\r\n\" style=\"fill:#1f77b4;fill-opacity:0.5;stroke:#000000;stroke-linejoin:miter;stroke-width:0.079261;\"/>\r\n   </g>\r\n   <g id=\"patch_10\">\r\n    <path clip-path=\"url(#p1e020dd2c8)\" d=\"M 82.950284 442.08 \r\nL 83.742898 442.08 \r\nL 83.742898 357.555219 \r\nL 82.950284 357.555219 \r\nz\r\n\" style=\"fill:#1f77b4;fill-opacity:0.5;stroke:#000000;stroke-linejoin:miter;stroke-width:0.079261;\"/>\r\n   </g>\r\n   <g id=\"patch_11\">\r\n    <path clip-path=\"url(#p1e020dd2c8)\" d=\"M 83.742898 442.08 \r\nL 84.535511 442.08 \r\nL 84.535511 364.8807 \r\nL 83.742898 364.8807 \r\nz\r\n\" style=\"fill:#1f77b4;fill-opacity:0.5;stroke:#000000;stroke-linejoin:miter;stroke-width:0.079261;\"/>\r\n   </g>\r\n   <g id=\"patch_12\">\r\n    <path clip-path=\"url(#p1e020dd2c8)\" d=\"M 84.535511 442.08 \r\nL 85.328125 442.08 \r\nL 85.328125 371.642682 \r\nL 84.535511 371.642682 \r\nz\r\n\" style=\"fill:#1f77b4;fill-opacity:0.5;stroke:#000000;stroke-linejoin:miter;stroke-width:0.079261;\"/>\r\n   </g>\r\n   <g id=\"patch_13\">\r\n    <path clip-path=\"url(#p1e020dd2c8)\" d=\"M 85.328125 442.08 \r\nL 86.120739 442.08 \r\nL 86.120739 381.222157 \r\nL 85.328125 381.222157 \r\nz\r\n\" style=\"fill:#1f77b4;fill-opacity:0.5;stroke:#000000;stroke-linejoin:miter;stroke-width:0.079261;\"/>\r\n   </g>\r\n   <g id=\"patch_14\">\r\n    <path clip-path=\"url(#p1e020dd2c8)\" d=\"M 86.120739 442.08 \r\nL 86.913352 442.08 \r\nL 86.913352 392.492128 \r\nL 86.120739 392.492128 \r\nz\r\n\" style=\"fill:#1f77b4;fill-opacity:0.5;stroke:#000000;stroke-linejoin:miter;stroke-width:0.079261;\"/>\r\n   </g>\r\n   <g id=\"patch_15\">\r\n    <path clip-path=\"url(#p1e020dd2c8)\" d=\"M 86.913352 442.08 \r\nL 87.705966 442.08 \r\nL 87.705966 393.055627 \r\nL 86.913352 393.055627 \r\nz\r\n\" style=\"fill:#1f77b4;fill-opacity:0.5;stroke:#000000;stroke-linejoin:miter;stroke-width:0.079261;\"/>\r\n   </g>\r\n   <g id=\"patch_16\">\r\n    <path clip-path=\"url(#p1e020dd2c8)\" d=\"M 87.705966 442.08 \r\nL 88.49858 442.08 \r\nL 88.49858 406.016093 \r\nL 87.705966 406.016093 \r\nz\r\n\" style=\"fill:#1f77b4;fill-opacity:0.5;stroke:#000000;stroke-linejoin:miter;stroke-width:0.079261;\"/>\r\n   </g>\r\n   <g id=\"patch_17\">\r\n    <path clip-path=\"url(#p1e020dd2c8)\" d=\"M 88.49858 442.08 \r\nL 89.291193 442.08 \r\nL 89.291193 408.833586 \r\nL 88.49858 408.833586 \r\nz\r\n\" style=\"fill:#1f77b4;fill-opacity:0.5;stroke:#000000;stroke-linejoin:miter;stroke-width:0.079261;\"/>\r\n   </g>\r\n   <g id=\"patch_18\">\r\n    <path clip-path=\"url(#p1e020dd2c8)\" d=\"M 89.291193 442.08 \r\nL 90.083807 442.08 \r\nL 90.083807 408.833586 \r\nL 89.291193 408.833586 \r\nz\r\n\" style=\"fill:#1f77b4;fill-opacity:0.5;stroke:#000000;stroke-linejoin:miter;stroke-width:0.079261;\"/>\r\n   </g>\r\n   <g id=\"patch_19\">\r\n    <path clip-path=\"url(#p1e020dd2c8)\" d=\"M 90.083807 442.08 \r\nL 90.87642 442.08 \r\nL 90.87642 415.03207 \r\nL 90.083807 415.03207 \r\nz\r\n\" style=\"fill:#1f77b4;fill-opacity:0.5;stroke:#000000;stroke-linejoin:miter;stroke-width:0.079261;\"/>\r\n   </g>\r\n   <g id=\"patch_20\">\r\n    <path clip-path=\"url(#p1e020dd2c8)\" d=\"M 90.87642 442.08 \r\nL 91.669034 442.08 \r\nL 91.669034 425.175044 \r\nL 90.87642 425.175044 \r\nz\r\n\" style=\"fill:#1f77b4;fill-opacity:0.5;stroke:#000000;stroke-linejoin:miter;stroke-width:0.079261;\"/>\r\n   </g>\r\n   <g id=\"patch_21\">\r\n    <path clip-path=\"url(#p1e020dd2c8)\" d=\"M 91.669034 442.08 \r\nL 92.461648 442.08 \r\nL 92.461648 422.357551 \r\nL 91.669034 422.357551 \r\nz\r\n\" style=\"fill:#1f77b4;fill-opacity:0.5;stroke:#000000;stroke-linejoin:miter;stroke-width:0.079261;\"/>\r\n   </g>\r\n   <g id=\"patch_22\">\r\n    <path clip-path=\"url(#p1e020dd2c8)\" d=\"M 92.461648 442.08 \r\nL 93.254261 442.08 \r\nL 93.254261 424.048047 \r\nL 92.461648 424.048047 \r\nz\r\n\" style=\"fill:#1f77b4;fill-opacity:0.5;stroke:#000000;stroke-linejoin:miter;stroke-width:0.079261;\"/>\r\n   </g>\r\n   <g id=\"patch_23\">\r\n    <path clip-path=\"url(#p1e020dd2c8)\" d=\"M 93.254261 442.08 \r\nL 94.046875 442.08 \r\nL 94.046875 419.540058 \r\nL 93.254261 419.540058 \r\nz\r\n\" style=\"fill:#1f77b4;fill-opacity:0.5;stroke:#000000;stroke-linejoin:miter;stroke-width:0.079261;\"/>\r\n   </g>\r\n   <g id=\"patch_24\">\r\n    <path clip-path=\"url(#p1e020dd2c8)\" d=\"M 94.046875 442.08 \r\nL 94.839489 442.08 \r\nL 94.839489 427.992536 \r\nL 94.046875 427.992536 \r\nz\r\n\" style=\"fill:#1f77b4;fill-opacity:0.5;stroke:#000000;stroke-linejoin:miter;stroke-width:0.079261;\"/>\r\n   </g>\r\n   <g id=\"patch_25\">\r\n    <path clip-path=\"url(#p1e020dd2c8)\" d=\"M 94.839489 442.08 \r\nL 95.632102 442.08 \r\nL 95.632102 427.429038 \r\nL 94.839489 427.429038 \r\nz\r\n\" style=\"fill:#1f77b4;fill-opacity:0.5;stroke:#000000;stroke-linejoin:miter;stroke-width:0.079261;\"/>\r\n   </g>\r\n   <g id=\"patch_26\">\r\n    <path clip-path=\"url(#p1e020dd2c8)\" d=\"M 95.632102 442.08 \r\nL 96.424716 442.08 \r\nL 96.424716 433.627522 \r\nL 95.632102 433.627522 \r\nz\r\n\" style=\"fill:#1f77b4;fill-opacity:0.5;stroke:#000000;stroke-linejoin:miter;stroke-width:0.079261;\"/>\r\n   </g>\r\n   <g id=\"patch_27\">\r\n    <path clip-path=\"url(#p1e020dd2c8)\" d=\"M 96.424716 442.08 \r\nL 97.21733 442.08 \r\nL 97.21733 431.373528 \r\nL 96.424716 431.373528 \r\nz\r\n\" style=\"fill:#1f77b4;fill-opacity:0.5;stroke:#000000;stroke-linejoin:miter;stroke-width:0.079261;\"/>\r\n   </g>\r\n   <g id=\"patch_28\">\r\n    <path clip-path=\"url(#p1e020dd2c8)\" d=\"M 97.21733 442.08 \r\nL 98.009943 442.08 \r\nL 98.009943 430.810029 \r\nL 97.21733 430.810029 \r\nz\r\n\" style=\"fill:#1f77b4;fill-opacity:0.5;stroke:#000000;stroke-linejoin:miter;stroke-width:0.079261;\"/>\r\n   </g>\r\n   <g id=\"patch_29\">\r\n    <path clip-path=\"url(#p1e020dd2c8)\" d=\"M 98.009943 442.08 \r\nL 98.802557 442.08 \r\nL 98.802557 427.992536 \r\nL 98.009943 427.992536 \r\nz\r\n\" style=\"fill:#1f77b4;fill-opacity:0.5;stroke:#000000;stroke-linejoin:miter;stroke-width:0.079261;\"/>\r\n   </g>\r\n   <g id=\"patch_30\">\r\n    <path clip-path=\"url(#p1e020dd2c8)\" d=\"M 98.802557 442.08 \r\nL 99.59517 442.08 \r\nL 99.59517 434.19102 \r\nL 98.802557 434.19102 \r\nz\r\n\" style=\"fill:#1f77b4;fill-opacity:0.5;stroke:#000000;stroke-linejoin:miter;stroke-width:0.079261;\"/>\r\n   </g>\r\n   <g id=\"patch_31\">\r\n    <path clip-path=\"url(#p1e020dd2c8)\" d=\"M 99.59517 442.08 \r\nL 100.387784 442.08 \r\nL 100.387784 431.937026 \r\nL 99.59517 431.937026 \r\nz\r\n\" style=\"fill:#1f77b4;fill-opacity:0.5;stroke:#000000;stroke-linejoin:miter;stroke-width:0.079261;\"/>\r\n   </g>\r\n   <g id=\"patch_32\">\r\n    <path clip-path=\"url(#p1e020dd2c8)\" d=\"M 100.387784 442.08 \r\nL 101.180398 442.08 \r\nL 101.180398 434.19102 \r\nL 100.387784 434.19102 \r\nz\r\n\" style=\"fill:#1f77b4;fill-opacity:0.5;stroke:#000000;stroke-linejoin:miter;stroke-width:0.079261;\"/>\r\n   </g>\r\n   <g id=\"patch_33\">\r\n    <path clip-path=\"url(#p1e020dd2c8)\" d=\"M 101.180398 442.08 \r\nL 101.973011 442.08 \r\nL 101.973011 431.373528 \r\nL 101.180398 431.373528 \r\nz\r\n\" style=\"fill:#1f77b4;fill-opacity:0.5;stroke:#000000;stroke-linejoin:miter;stroke-width:0.079261;\"/>\r\n   </g>\r\n   <g id=\"patch_34\">\r\n    <path clip-path=\"url(#p1e020dd2c8)\" d=\"M 101.973011 442.08 \r\nL 102.765625 442.08 \r\nL 102.765625 435.881516 \r\nL 101.973011 435.881516 \r\nz\r\n\" style=\"fill:#1f77b4;fill-opacity:0.5;stroke:#000000;stroke-linejoin:miter;stroke-width:0.079261;\"/>\r\n   </g>\r\n   <g id=\"patch_35\">\r\n    <path clip-path=\"url(#p1e020dd2c8)\" d=\"M 102.765625 442.08 \r\nL 103.558239 442.08 \r\nL 103.558239 437.572012 \r\nL 102.765625 437.572012 \r\nz\r\n\" style=\"fill:#1f77b4;fill-opacity:0.5;stroke:#000000;stroke-linejoin:miter;stroke-width:0.079261;\"/>\r\n   </g>\r\n   <g id=\"patch_36\">\r\n    <path clip-path=\"url(#p1e020dd2c8)\" d=\"M 103.558239 442.08 \r\nL 104.350852 442.08 \r\nL 104.350852 435.318017 \r\nL 103.558239 435.318017 \r\nz\r\n\" style=\"fill:#1f77b4;fill-opacity:0.5;stroke:#000000;stroke-linejoin:miter;stroke-width:0.079261;\"/>\r\n   </g>\r\n   <g id=\"patch_37\">\r\n    <path clip-path=\"url(#p1e020dd2c8)\" d=\"M 104.350852 442.08 \r\nL 105.143466 442.08 \r\nL 105.143466 435.881516 \r\nL 104.350852 435.881516 \r\nz\r\n\" style=\"fill:#1f77b4;fill-opacity:0.5;stroke:#000000;stroke-linejoin:miter;stroke-width:0.079261;\"/>\r\n   </g>\r\n   <g id=\"patch_38\">\r\n    <path clip-path=\"url(#p1e020dd2c8)\" d=\"M 105.143466 442.08 \r\nL 105.93608 442.08 \r\nL 105.93608 438.699009 \r\nL 105.143466 438.699009 \r\nz\r\n\" style=\"fill:#1f77b4;fill-opacity:0.5;stroke:#000000;stroke-linejoin:miter;stroke-width:0.079261;\"/>\r\n   </g>\r\n   <g id=\"patch_39\">\r\n    <path clip-path=\"url(#p1e020dd2c8)\" d=\"M 105.93608 442.08 \r\nL 106.728693 442.08 \r\nL 106.728693 437.008513 \r\nL 105.93608 437.008513 \r\nz\r\n\" style=\"fill:#1f77b4;fill-opacity:0.5;stroke:#000000;stroke-linejoin:miter;stroke-width:0.079261;\"/>\r\n   </g>\r\n   <g id=\"patch_40\">\r\n    <path clip-path=\"url(#p1e020dd2c8)\" d=\"M 106.728693 442.08 \r\nL 107.521307 442.08 \r\nL 107.521307 437.572012 \r\nL 106.728693 437.572012 \r\nz\r\n\" style=\"fill:#1f77b4;fill-opacity:0.5;stroke:#000000;stroke-linejoin:miter;stroke-width:0.079261;\"/>\r\n   </g>\r\n   <g id=\"patch_41\">\r\n    <path clip-path=\"url(#p1e020dd2c8)\" d=\"M 107.521307 442.08 \r\nL 108.31392 442.08 \r\nL 108.31392 439.826006 \r\nL 107.521307 439.826006 \r\nz\r\n\" style=\"fill:#1f77b4;fill-opacity:0.5;stroke:#000000;stroke-linejoin:miter;stroke-width:0.079261;\"/>\r\n   </g>\r\n   <g id=\"patch_42\">\r\n    <path clip-path=\"url(#p1e020dd2c8)\" d=\"M 108.31392 442.08 \r\nL 109.106534 442.08 \r\nL 109.106534 437.008513 \r\nL 108.31392 437.008513 \r\nz\r\n\" style=\"fill:#1f77b4;fill-opacity:0.5;stroke:#000000;stroke-linejoin:miter;stroke-width:0.079261;\"/>\r\n   </g>\r\n   <g id=\"patch_43\">\r\n    <path clip-path=\"url(#p1e020dd2c8)\" d=\"M 109.106534 442.08 \r\nL 109.899148 442.08 \r\nL 109.899148 436.445015 \r\nL 109.106534 436.445015 \r\nz\r\n\" style=\"fill:#1f77b4;fill-opacity:0.5;stroke:#000000;stroke-linejoin:miter;stroke-width:0.079261;\"/>\r\n   </g>\r\n   <g id=\"patch_44\">\r\n    <path clip-path=\"url(#p1e020dd2c8)\" d=\"M 109.899148 442.08 \r\nL 110.691761 442.08 \r\nL 110.691761 439.826006 \r\nL 109.899148 439.826006 \r\nz\r\n\" style=\"fill:#1f77b4;fill-opacity:0.5;stroke:#000000;stroke-linejoin:miter;stroke-width:0.079261;\"/>\r\n   </g>\r\n   <g id=\"patch_45\">\r\n    <path clip-path=\"url(#p1e020dd2c8)\" d=\"M 110.691761 442.08 \r\nL 111.484375 442.08 \r\nL 111.484375 438.699009 \r\nL 110.691761 438.699009 \r\nz\r\n\" style=\"fill:#1f77b4;fill-opacity:0.5;stroke:#000000;stroke-linejoin:miter;stroke-width:0.079261;\"/>\r\n   </g>\r\n   <g id=\"patch_46\">\r\n    <path clip-path=\"url(#p1e020dd2c8)\" d=\"M 111.484375 442.08 \r\nL 112.276989 442.08 \r\nL 112.276989 438.13551 \r\nL 111.484375 438.13551 \r\nz\r\n\" style=\"fill:#1f77b4;fill-opacity:0.5;stroke:#000000;stroke-linejoin:miter;stroke-width:0.079261;\"/>\r\n   </g>\r\n   <g id=\"patch_47\">\r\n    <path clip-path=\"url(#p1e020dd2c8)\" d=\"M 112.276989 442.08 \r\nL 113.069602 442.08 \r\nL 113.069602 439.262507 \r\nL 112.276989 439.262507 \r\nz\r\n\" style=\"fill:#1f77b4;fill-opacity:0.5;stroke:#000000;stroke-linejoin:miter;stroke-width:0.079261;\"/>\r\n   </g>\r\n   <g id=\"patch_48\">\r\n    <path clip-path=\"url(#p1e020dd2c8)\" d=\"M 113.069602 442.08 \r\nL 113.862216 442.08 \r\nL 113.862216 438.13551 \r\nL 113.069602 438.13551 \r\nz\r\n\" style=\"fill:#1f77b4;fill-opacity:0.5;stroke:#000000;stroke-linejoin:miter;stroke-width:0.079261;\"/>\r\n   </g>\r\n   <g id=\"patch_49\">\r\n    <path clip-path=\"url(#p1e020dd2c8)\" d=\"M 113.862216 442.08 \r\nL 114.65483 442.08 \r\nL 114.65483 439.826006 \r\nL 113.862216 439.826006 \r\nz\r\n\" style=\"fill:#1f77b4;fill-opacity:0.5;stroke:#000000;stroke-linejoin:miter;stroke-width:0.079261;\"/>\r\n   </g>\r\n   <g id=\"patch_50\">\r\n    <path clip-path=\"url(#p1e020dd2c8)\" d=\"M 114.65483 442.08 \r\nL 115.447443 442.08 \r\nL 115.447443 441.516501 \r\nL 114.65483 441.516501 \r\nz\r\n\" style=\"fill:#1f77b4;fill-opacity:0.5;stroke:#000000;stroke-linejoin:miter;stroke-width:0.079261;\"/>\r\n   </g>\r\n   <g id=\"patch_51\">\r\n    <path clip-path=\"url(#p1e020dd2c8)\" d=\"M 115.447443 442.08 \r\nL 116.240057 442.08 \r\nL 116.240057 437.008513 \r\nL 115.447443 437.008513 \r\nz\r\n\" style=\"fill:#1f77b4;fill-opacity:0.5;stroke:#000000;stroke-linejoin:miter;stroke-width:0.079261;\"/>\r\n   </g>\r\n   <g id=\"patch_52\">\r\n    <path clip-path=\"url(#p1e020dd2c8)\" d=\"M 116.240057 442.08 \r\nL 117.03267 442.08 \r\nL 117.03267 440.389504 \r\nL 116.240057 440.389504 \r\nz\r\n\" style=\"fill:#1f77b4;fill-opacity:0.5;stroke:#000000;stroke-linejoin:miter;stroke-width:0.079261;\"/>\r\n   </g>\r\n   <g id=\"patch_53\">\r\n    <path clip-path=\"url(#p1e020dd2c8)\" d=\"M 117.03267 442.08 \r\nL 117.825284 442.08 \r\nL 117.825284 440.389504 \r\nL 117.03267 440.389504 \r\nz\r\n\" style=\"fill:#1f77b4;fill-opacity:0.5;stroke:#000000;stroke-linejoin:miter;stroke-width:0.079261;\"/>\r\n   </g>\r\n   <g id=\"patch_54\">\r\n    <path clip-path=\"url(#p1e020dd2c8)\" d=\"M 117.825284 442.08 \r\nL 118.617898 442.08 \r\nL 118.617898 441.516501 \r\nL 117.825284 441.516501 \r\nz\r\n\" style=\"fill:#1f77b4;fill-opacity:0.5;stroke:#000000;stroke-linejoin:miter;stroke-width:0.079261;\"/>\r\n   </g>\r\n   <g id=\"patch_55\">\r\n    <path clip-path=\"url(#p1e020dd2c8)\" d=\"M 118.617898 442.08 \r\nL 119.410511 442.08 \r\nL 119.410511 439.262507 \r\nL 118.617898 439.262507 \r\nz\r\n\" style=\"fill:#1f77b4;fill-opacity:0.5;stroke:#000000;stroke-linejoin:miter;stroke-width:0.079261;\"/>\r\n   </g>\r\n   <g id=\"patch_56\">\r\n    <path clip-path=\"url(#p1e020dd2c8)\" d=\"M 119.410511 442.08 \r\nL 120.203125 442.08 \r\nL 120.203125 440.389504 \r\nL 119.410511 440.389504 \r\nz\r\n\" style=\"fill:#1f77b4;fill-opacity:0.5;stroke:#000000;stroke-linejoin:miter;stroke-width:0.079261;\"/>\r\n   </g>\r\n   <g id=\"patch_57\">\r\n    <path clip-path=\"url(#p1e020dd2c8)\" d=\"M 120.203125 442.08 \r\nL 120.995739 442.08 \r\nL 120.995739 440.389504 \r\nL 120.203125 440.389504 \r\nz\r\n\" style=\"fill:#1f77b4;fill-opacity:0.5;stroke:#000000;stroke-linejoin:miter;stroke-width:0.079261;\"/>\r\n   </g>\r\n   <g id=\"patch_58\">\r\n    <path clip-path=\"url(#p1e020dd2c8)\" d=\"M 120.995739 442.08 \r\nL 121.788352 442.08 \r\nL 121.788352 440.953003 \r\nL 120.995739 440.953003 \r\nz\r\n\" style=\"fill:#1f77b4;fill-opacity:0.5;stroke:#000000;stroke-linejoin:miter;stroke-width:0.079261;\"/>\r\n   </g>\r\n   <g id=\"patch_59\">\r\n    <path clip-path=\"url(#p1e020dd2c8)\" d=\"M 121.788352 442.08 \r\nL 122.580966 442.08 \r\nL 122.580966 440.389504 \r\nL 121.788352 440.389504 \r\nz\r\n\" style=\"fill:#1f77b4;fill-opacity:0.5;stroke:#000000;stroke-linejoin:miter;stroke-width:0.079261;\"/>\r\n   </g>\r\n   <g id=\"patch_60\">\r\n    <path clip-path=\"url(#p1e020dd2c8)\" d=\"M 122.580966 442.08 \r\nL 123.37358 442.08 \r\nL 123.37358 442.08 \r\nL 122.580966 442.08 \r\nz\r\n\" style=\"fill:#1f77b4;fill-opacity:0.5;stroke:#000000;stroke-linejoin:miter;stroke-width:0.079261;\"/>\r\n   </g>\r\n   <g id=\"patch_61\">\r\n    <path clip-path=\"url(#p1e020dd2c8)\" d=\"M 123.37358 442.08 \r\nL 124.166193 442.08 \r\nL 124.166193 439.826006 \r\nL 123.37358 439.826006 \r\nz\r\n\" style=\"fill:#1f77b4;fill-opacity:0.5;stroke:#000000;stroke-linejoin:miter;stroke-width:0.079261;\"/>\r\n   </g>\r\n   <g id=\"patch_62\">\r\n    <path clip-path=\"url(#p1e020dd2c8)\" d=\"M 124.166193 442.08 \r\nL 124.958807 442.08 \r\nL 124.958807 442.08 \r\nL 124.166193 442.08 \r\nz\r\n\" style=\"fill:#1f77b4;fill-opacity:0.5;stroke:#000000;stroke-linejoin:miter;stroke-width:0.079261;\"/>\r\n   </g>\r\n   <g id=\"patch_63\">\r\n    <path clip-path=\"url(#p1e020dd2c8)\" d=\"M 124.958807 442.08 \r\nL 125.75142 442.08 \r\nL 125.75142 440.389504 \r\nL 124.958807 440.389504 \r\nz\r\n\" style=\"fill:#1f77b4;fill-opacity:0.5;stroke:#000000;stroke-linejoin:miter;stroke-width:0.079261;\"/>\r\n   </g>\r\n   <g id=\"patch_64\">\r\n    <path clip-path=\"url(#p1e020dd2c8)\" d=\"M 125.75142 442.08 \r\nL 126.544034 442.08 \r\nL 126.544034 442.08 \r\nL 125.75142 442.08 \r\nz\r\n\" style=\"fill:#1f77b4;fill-opacity:0.5;stroke:#000000;stroke-linejoin:miter;stroke-width:0.079261;\"/>\r\n   </g>\r\n   <g id=\"patch_65\">\r\n    <path clip-path=\"url(#p1e020dd2c8)\" d=\"M 126.544034 442.08 \r\nL 127.336648 442.08 \r\nL 127.336648 440.953003 \r\nL 126.544034 440.953003 \r\nz\r\n\" style=\"fill:#1f77b4;fill-opacity:0.5;stroke:#000000;stroke-linejoin:miter;stroke-width:0.079261;\"/>\r\n   </g>\r\n   <g id=\"patch_66\">\r\n    <path clip-path=\"url(#p1e020dd2c8)\" d=\"M 127.336648 442.08 \r\nL 128.129261 442.08 \r\nL 128.129261 441.516501 \r\nL 127.336648 441.516501 \r\nz\r\n\" style=\"fill:#1f77b4;fill-opacity:0.5;stroke:#000000;stroke-linejoin:miter;stroke-width:0.079261;\"/>\r\n   </g>\r\n   <g id=\"patch_67\">\r\n    <path clip-path=\"url(#p1e020dd2c8)\" d=\"M 128.129261 442.08 \r\nL 128.921875 442.08 \r\nL 128.921875 440.389504 \r\nL 128.129261 440.389504 \r\nz\r\n\" style=\"fill:#1f77b4;fill-opacity:0.5;stroke:#000000;stroke-linejoin:miter;stroke-width:0.079261;\"/>\r\n   </g>\r\n   <g id=\"patch_68\">\r\n    <path clip-path=\"url(#p1e020dd2c8)\" d=\"M 128.921875 442.08 \r\nL 129.714489 442.08 \r\nL 129.714489 442.08 \r\nL 128.921875 442.08 \r\nz\r\n\" style=\"fill:#1f77b4;fill-opacity:0.5;stroke:#000000;stroke-linejoin:miter;stroke-width:0.079261;\"/>\r\n   </g>\r\n   <g id=\"patch_69\">\r\n    <path clip-path=\"url(#p1e020dd2c8)\" d=\"M 129.714489 442.08 \r\nL 130.507102 442.08 \r\nL 130.507102 440.389504 \r\nL 129.714489 440.389504 \r\nz\r\n\" style=\"fill:#1f77b4;fill-opacity:0.5;stroke:#000000;stroke-linejoin:miter;stroke-width:0.079261;\"/>\r\n   </g>\r\n   <g id=\"patch_70\">\r\n    <path clip-path=\"url(#p1e020dd2c8)\" d=\"M 130.507102 442.08 \r\nL 131.299716 442.08 \r\nL 131.299716 440.953003 \r\nL 130.507102 440.953003 \r\nz\r\n\" style=\"fill:#1f77b4;fill-opacity:0.5;stroke:#000000;stroke-linejoin:miter;stroke-width:0.079261;\"/>\r\n   </g>\r\n   <g id=\"patch_71\">\r\n    <path clip-path=\"url(#p1e020dd2c8)\" d=\"M 131.299716 442.08 \r\nL 132.09233 442.08 \r\nL 132.09233 440.953003 \r\nL 131.299716 440.953003 \r\nz\r\n\" style=\"fill:#1f77b4;fill-opacity:0.5;stroke:#000000;stroke-linejoin:miter;stroke-width:0.079261;\"/>\r\n   </g>\r\n   <g id=\"patch_72\">\r\n    <path clip-path=\"url(#p1e020dd2c8)\" d=\"M 132.09233 442.08 \r\nL 132.884943 442.08 \r\nL 132.884943 440.953003 \r\nL 132.09233 440.953003 \r\nz\r\n\" style=\"fill:#1f77b4;fill-opacity:0.5;stroke:#000000;stroke-linejoin:miter;stroke-width:0.079261;\"/>\r\n   </g>\r\n   <g id=\"patch_73\">\r\n    <path clip-path=\"url(#p1e020dd2c8)\" d=\"M 132.884943 442.08 \r\nL 133.677557 442.08 \r\nL 133.677557 442.08 \r\nL 132.884943 442.08 \r\nz\r\n\" style=\"fill:#1f77b4;fill-opacity:0.5;stroke:#000000;stroke-linejoin:miter;stroke-width:0.079261;\"/>\r\n   </g>\r\n   <g id=\"patch_74\">\r\n    <path clip-path=\"url(#p1e020dd2c8)\" d=\"M 133.677557 442.08 \r\nL 134.47017 442.08 \r\nL 134.47017 440.953003 \r\nL 133.677557 440.953003 \r\nz\r\n\" style=\"fill:#1f77b4;fill-opacity:0.5;stroke:#000000;stroke-linejoin:miter;stroke-width:0.079261;\"/>\r\n   </g>\r\n   <g id=\"patch_75\">\r\n    <path clip-path=\"url(#p1e020dd2c8)\" d=\"M 134.47017 442.08 \r\nL 135.262784 442.08 \r\nL 135.262784 440.953003 \r\nL 134.47017 440.953003 \r\nz\r\n\" style=\"fill:#1f77b4;fill-opacity:0.5;stroke:#000000;stroke-linejoin:miter;stroke-width:0.079261;\"/>\r\n   </g>\r\n   <g id=\"patch_76\">\r\n    <path clip-path=\"url(#p1e020dd2c8)\" d=\"M 135.262784 442.08 \r\nL 136.055398 442.08 \r\nL 136.055398 442.08 \r\nL 135.262784 442.08 \r\nz\r\n\" style=\"fill:#1f77b4;fill-opacity:0.5;stroke:#000000;stroke-linejoin:miter;stroke-width:0.079261;\"/>\r\n   </g>\r\n   <g id=\"patch_77\">\r\n    <path clip-path=\"url(#p1e020dd2c8)\" d=\"M 136.055398 442.08 \r\nL 136.848011 442.08 \r\nL 136.848011 441.516501 \r\nL 136.055398 441.516501 \r\nz\r\n\" style=\"fill:#1f77b4;fill-opacity:0.5;stroke:#000000;stroke-linejoin:miter;stroke-width:0.079261;\"/>\r\n   </g>\r\n   <g id=\"patch_78\">\r\n    <path clip-path=\"url(#p1e020dd2c8)\" d=\"M 136.848011 442.08 \r\nL 137.640625 442.08 \r\nL 137.640625 442.08 \r\nL 136.848011 442.08 \r\nz\r\n\" style=\"fill:#1f77b4;fill-opacity:0.5;stroke:#000000;stroke-linejoin:miter;stroke-width:0.079261;\"/>\r\n   </g>\r\n   <g id=\"patch_79\">\r\n    <path clip-path=\"url(#p1e020dd2c8)\" d=\"M 137.640625 442.08 \r\nL 138.433239 442.08 \r\nL 138.433239 442.08 \r\nL 137.640625 442.08 \r\nz\r\n\" style=\"fill:#1f77b4;fill-opacity:0.5;stroke:#000000;stroke-linejoin:miter;stroke-width:0.079261;\"/>\r\n   </g>\r\n   <g id=\"patch_80\">\r\n    <path clip-path=\"url(#p1e020dd2c8)\" d=\"M 138.433239 442.08 \r\nL 139.225852 442.08 \r\nL 139.225852 441.516501 \r\nL 138.433239 441.516501 \r\nz\r\n\" style=\"fill:#1f77b4;fill-opacity:0.5;stroke:#000000;stroke-linejoin:miter;stroke-width:0.079261;\"/>\r\n   </g>\r\n   <g id=\"patch_81\">\r\n    <path clip-path=\"url(#p1e020dd2c8)\" d=\"M 139.225852 442.08 \r\nL 140.018466 442.08 \r\nL 140.018466 442.08 \r\nL 139.225852 442.08 \r\nz\r\n\" style=\"fill:#1f77b4;fill-opacity:0.5;stroke:#000000;stroke-linejoin:miter;stroke-width:0.079261;\"/>\r\n   </g>\r\n   <g id=\"patch_82\">\r\n    <path clip-path=\"url(#p1e020dd2c8)\" d=\"M 140.018466 442.08 \r\nL 140.81108 442.08 \r\nL 140.81108 442.08 \r\nL 140.018466 442.08 \r\nz\r\n\" style=\"fill:#1f77b4;fill-opacity:0.5;stroke:#000000;stroke-linejoin:miter;stroke-width:0.079261;\"/>\r\n   </g>\r\n   <g id=\"patch_83\">\r\n    <path clip-path=\"url(#p1e020dd2c8)\" d=\"M 140.81108 442.08 \r\nL 141.603693 442.08 \r\nL 141.603693 442.08 \r\nL 140.81108 442.08 \r\nz\r\n\" style=\"fill:#1f77b4;fill-opacity:0.5;stroke:#000000;stroke-linejoin:miter;stroke-width:0.079261;\"/>\r\n   </g>\r\n   <g id=\"patch_84\">\r\n    <path clip-path=\"url(#p1e020dd2c8)\" d=\"M 141.603693 442.08 \r\nL 142.396307 442.08 \r\nL 142.396307 442.08 \r\nL 141.603693 442.08 \r\nz\r\n\" style=\"fill:#1f77b4;fill-opacity:0.5;stroke:#000000;stroke-linejoin:miter;stroke-width:0.079261;\"/>\r\n   </g>\r\n   <g id=\"patch_85\">\r\n    <path clip-path=\"url(#p1e020dd2c8)\" d=\"M 142.396307 442.08 \r\nL 143.18892 442.08 \r\nL 143.18892 442.08 \r\nL 142.396307 442.08 \r\nz\r\n\" style=\"fill:#1f77b4;fill-opacity:0.5;stroke:#000000;stroke-linejoin:miter;stroke-width:0.079261;\"/>\r\n   </g>\r\n   <g id=\"patch_86\">\r\n    <path clip-path=\"url(#p1e020dd2c8)\" d=\"M 143.18892 442.08 \r\nL 143.981534 442.08 \r\nL 143.981534 441.516501 \r\nL 143.18892 441.516501 \r\nz\r\n\" style=\"fill:#1f77b4;fill-opacity:0.5;stroke:#000000;stroke-linejoin:miter;stroke-width:0.079261;\"/>\r\n   </g>\r\n   <g id=\"patch_87\">\r\n    <path clip-path=\"url(#p1e020dd2c8)\" d=\"M 143.981534 442.08 \r\nL 144.774148 442.08 \r\nL 144.774148 442.08 \r\nL 143.981534 442.08 \r\nz\r\n\" style=\"fill:#1f77b4;fill-opacity:0.5;stroke:#000000;stroke-linejoin:miter;stroke-width:0.079261;\"/>\r\n   </g>\r\n   <g id=\"patch_88\">\r\n    <path clip-path=\"url(#p1e020dd2c8)\" d=\"M 144.774148 442.08 \r\nL 145.566761 442.08 \r\nL 145.566761 442.08 \r\nL 144.774148 442.08 \r\nz\r\n\" style=\"fill:#1f77b4;fill-opacity:0.5;stroke:#000000;stroke-linejoin:miter;stroke-width:0.079261;\"/>\r\n   </g>\r\n   <g id=\"patch_89\">\r\n    <path clip-path=\"url(#p1e020dd2c8)\" d=\"M 145.566761 442.08 \r\nL 146.359375 442.08 \r\nL 146.359375 441.516501 \r\nL 145.566761 441.516501 \r\nz\r\n\" style=\"fill:#1f77b4;fill-opacity:0.5;stroke:#000000;stroke-linejoin:miter;stroke-width:0.079261;\"/>\r\n   </g>\r\n   <g id=\"patch_90\">\r\n    <path clip-path=\"url(#p1e020dd2c8)\" d=\"M 146.359375 442.08 \r\nL 147.151989 442.08 \r\nL 147.151989 442.08 \r\nL 146.359375 442.08 \r\nz\r\n\" style=\"fill:#1f77b4;fill-opacity:0.5;stroke:#000000;stroke-linejoin:miter;stroke-width:0.079261;\"/>\r\n   </g>\r\n   <g id=\"patch_91\">\r\n    <path clip-path=\"url(#p1e020dd2c8)\" d=\"M 147.151989 442.08 \r\nL 147.944602 442.08 \r\nL 147.944602 441.516501 \r\nL 147.151989 441.516501 \r\nz\r\n\" style=\"fill:#1f77b4;fill-opacity:0.5;stroke:#000000;stroke-linejoin:miter;stroke-width:0.079261;\"/>\r\n   </g>\r\n   <g id=\"patch_92\">\r\n    <path clip-path=\"url(#p1e020dd2c8)\" d=\"M 147.944602 442.08 \r\nL 148.737216 442.08 \r\nL 148.737216 442.08 \r\nL 147.944602 442.08 \r\nz\r\n\" style=\"fill:#1f77b4;fill-opacity:0.5;stroke:#000000;stroke-linejoin:miter;stroke-width:0.079261;\"/>\r\n   </g>\r\n   <g id=\"patch_93\">\r\n    <path clip-path=\"url(#p1e020dd2c8)\" d=\"M 148.737216 442.08 \r\nL 149.52983 442.08 \r\nL 149.52983 441.516501 \r\nL 148.737216 441.516501 \r\nz\r\n\" style=\"fill:#1f77b4;fill-opacity:0.5;stroke:#000000;stroke-linejoin:miter;stroke-width:0.079261;\"/>\r\n   </g>\r\n   <g id=\"patch_94\">\r\n    <path clip-path=\"url(#p1e020dd2c8)\" d=\"M 149.52983 442.08 \r\nL 150.322443 442.08 \r\nL 150.322443 442.08 \r\nL 149.52983 442.08 \r\nz\r\n\" style=\"fill:#1f77b4;fill-opacity:0.5;stroke:#000000;stroke-linejoin:miter;stroke-width:0.079261;\"/>\r\n   </g>\r\n   <g id=\"patch_95\">\r\n    <path clip-path=\"url(#p1e020dd2c8)\" d=\"M 150.322443 442.08 \r\nL 151.115057 442.08 \r\nL 151.115057 442.08 \r\nL 150.322443 442.08 \r\nz\r\n\" style=\"fill:#1f77b4;fill-opacity:0.5;stroke:#000000;stroke-linejoin:miter;stroke-width:0.079261;\"/>\r\n   </g>\r\n   <g id=\"patch_96\">\r\n    <path clip-path=\"url(#p1e020dd2c8)\" d=\"M 151.115057 442.08 \r\nL 151.90767 442.08 \r\nL 151.90767 441.516501 \r\nL 151.115057 441.516501 \r\nz\r\n\" style=\"fill:#1f77b4;fill-opacity:0.5;stroke:#000000;stroke-linejoin:miter;stroke-width:0.079261;\"/>\r\n   </g>\r\n   <g id=\"patch_97\">\r\n    <path clip-path=\"url(#p1e020dd2c8)\" d=\"M 151.90767 442.08 \r\nL 152.700284 442.08 \r\nL 152.700284 441.516501 \r\nL 151.90767 441.516501 \r\nz\r\n\" style=\"fill:#1f77b4;fill-opacity:0.5;stroke:#000000;stroke-linejoin:miter;stroke-width:0.079261;\"/>\r\n   </g>\r\n   <g id=\"patch_98\">\r\n    <path clip-path=\"url(#p1e020dd2c8)\" d=\"M 152.700284 442.08 \r\nL 153.492898 442.08 \r\nL 153.492898 442.08 \r\nL 152.700284 442.08 \r\nz\r\n\" style=\"fill:#1f77b4;fill-opacity:0.5;stroke:#000000;stroke-linejoin:miter;stroke-width:0.079261;\"/>\r\n   </g>\r\n   <g id=\"patch_99\">\r\n    <path clip-path=\"url(#p1e020dd2c8)\" d=\"M 153.492898 442.08 \r\nL 154.285511 442.08 \r\nL 154.285511 442.08 \r\nL 153.492898 442.08 \r\nz\r\n\" style=\"fill:#1f77b4;fill-opacity:0.5;stroke:#000000;stroke-linejoin:miter;stroke-width:0.079261;\"/>\r\n   </g>\r\n   <g id=\"patch_100\">\r\n    <path clip-path=\"url(#p1e020dd2c8)\" d=\"M 154.285511 442.08 \r\nL 155.078125 442.08 \r\nL 155.078125 441.516501 \r\nL 154.285511 441.516501 \r\nz\r\n\" style=\"fill:#1f77b4;fill-opacity:0.5;stroke:#000000;stroke-linejoin:miter;stroke-width:0.079261;\"/>\r\n   </g>\r\n   <g id=\"patch_101\">\r\n    <path clip-path=\"url(#p1e020dd2c8)\" d=\"M 155.078125 442.08 \r\nL 155.870739 442.08 \r\nL 155.870739 442.08 \r\nL 155.078125 442.08 \r\nz\r\n\" style=\"fill:#1f77b4;fill-opacity:0.5;stroke:#000000;stroke-linejoin:miter;stroke-width:0.079261;\"/>\r\n   </g>\r\n   <g id=\"patch_102\">\r\n    <path clip-path=\"url(#p1e020dd2c8)\" d=\"M 155.870739 442.08 \r\nL 156.663352 442.08 \r\nL 156.663352 442.08 \r\nL 155.870739 442.08 \r\nz\r\n\" style=\"fill:#1f77b4;fill-opacity:0.5;stroke:#000000;stroke-linejoin:miter;stroke-width:0.079261;\"/>\r\n   </g>\r\n   <g id=\"patch_103\">\r\n    <path clip-path=\"url(#p1e020dd2c8)\" d=\"M 156.663352 442.08 \r\nL 157.455966 442.08 \r\nL 157.455966 442.08 \r\nL 156.663352 442.08 \r\nz\r\n\" style=\"fill:#1f77b4;fill-opacity:0.5;stroke:#000000;stroke-linejoin:miter;stroke-width:0.079261;\"/>\r\n   </g>\r\n   <g id=\"patch_104\">\r\n    <path clip-path=\"url(#p1e020dd2c8)\" d=\"M 157.455966 442.08 \r\nL 158.24858 442.08 \r\nL 158.24858 441.516501 \r\nL 157.455966 441.516501 \r\nz\r\n\" style=\"fill:#1f77b4;fill-opacity:0.5;stroke:#000000;stroke-linejoin:miter;stroke-width:0.079261;\"/>\r\n   </g>\r\n   <g id=\"patch_105\">\r\n    <path clip-path=\"url(#p1e020dd2c8)\" d=\"M 158.24858 442.08 \r\nL 159.041193 442.08 \r\nL 159.041193 442.08 \r\nL 158.24858 442.08 \r\nz\r\n\" style=\"fill:#1f77b4;fill-opacity:0.5;stroke:#000000;stroke-linejoin:miter;stroke-width:0.079261;\"/>\r\n   </g>\r\n   <g id=\"patch_106\">\r\n    <path clip-path=\"url(#p1e020dd2c8)\" d=\"M 159.041193 442.08 \r\nL 159.833807 442.08 \r\nL 159.833807 441.516501 \r\nL 159.041193 441.516501 \r\nz\r\n\" style=\"fill:#1f77b4;fill-opacity:0.5;stroke:#000000;stroke-linejoin:miter;stroke-width:0.079261;\"/>\r\n   </g>\r\n   <g id=\"patch_107\">\r\n    <path clip-path=\"url(#p1e020dd2c8)\" d=\"M 159.833807 442.08 \r\nL 160.62642 442.08 \r\nL 160.62642 442.08 \r\nL 159.833807 442.08 \r\nz\r\n\" style=\"fill:#1f77b4;fill-opacity:0.5;stroke:#000000;stroke-linejoin:miter;stroke-width:0.079261;\"/>\r\n   </g>\r\n   <g id=\"patch_108\">\r\n    <path clip-path=\"url(#p1e020dd2c8)\" d=\"M 160.62642 442.08 \r\nL 161.419034 442.08 \r\nL 161.419034 441.516501 \r\nL 160.62642 441.516501 \r\nz\r\n\" style=\"fill:#1f77b4;fill-opacity:0.5;stroke:#000000;stroke-linejoin:miter;stroke-width:0.079261;\"/>\r\n   </g>\r\n   <g id=\"patch_109\">\r\n    <path clip-path=\"url(#p1e020dd2c8)\" d=\"M 161.419034 442.08 \r\nL 162.211648 442.08 \r\nL 162.211648 442.08 \r\nL 161.419034 442.08 \r\nz\r\n\" style=\"fill:#1f77b4;fill-opacity:0.5;stroke:#000000;stroke-linejoin:miter;stroke-width:0.079261;\"/>\r\n   </g>\r\n   <g id=\"patch_110\">\r\n    <path clip-path=\"url(#p1e020dd2c8)\" d=\"M 162.211648 442.08 \r\nL 163.004261 442.08 \r\nL 163.004261 442.08 \r\nL 162.211648 442.08 \r\nz\r\n\" style=\"fill:#1f77b4;fill-opacity:0.5;stroke:#000000;stroke-linejoin:miter;stroke-width:0.079261;\"/>\r\n   </g>\r\n   <g id=\"patch_111\">\r\n    <path clip-path=\"url(#p1e020dd2c8)\" d=\"M 163.004261 442.08 \r\nL 163.796875 442.08 \r\nL 163.796875 441.516501 \r\nL 163.004261 441.516501 \r\nz\r\n\" style=\"fill:#1f77b4;fill-opacity:0.5;stroke:#000000;stroke-linejoin:miter;stroke-width:0.079261;\"/>\r\n   </g>\r\n   <g id=\"patch_112\">\r\n    <path clip-path=\"url(#p1e020dd2c8)\" d=\"M 163.796875 442.08 \r\nL 164.589489 442.08 \r\nL 164.589489 442.08 \r\nL 163.796875 442.08 \r\nz\r\n\" style=\"fill:#1f77b4;fill-opacity:0.5;stroke:#000000;stroke-linejoin:miter;stroke-width:0.079261;\"/>\r\n   </g>\r\n   <g id=\"patch_113\">\r\n    <path clip-path=\"url(#p1e020dd2c8)\" d=\"M 164.589489 442.08 \r\nL 165.382102 442.08 \r\nL 165.382102 441.516501 \r\nL 164.589489 441.516501 \r\nz\r\n\" style=\"fill:#1f77b4;fill-opacity:0.5;stroke:#000000;stroke-linejoin:miter;stroke-width:0.079261;\"/>\r\n   </g>\r\n   <g id=\"patch_114\">\r\n    <path clip-path=\"url(#p1e020dd2c8)\" d=\"M 165.382102 442.08 \r\nL 166.174716 442.08 \r\nL 166.174716 440.953003 \r\nL 165.382102 440.953003 \r\nz\r\n\" style=\"fill:#1f77b4;fill-opacity:0.5;stroke:#000000;stroke-linejoin:miter;stroke-width:0.079261;\"/>\r\n   </g>\r\n   <g id=\"patch_115\">\r\n    <path clip-path=\"url(#p1e020dd2c8)\" d=\"M 166.174716 442.08 \r\nL 166.96733 442.08 \r\nL 166.96733 442.08 \r\nL 166.174716 442.08 \r\nz\r\n\" style=\"fill:#1f77b4;fill-opacity:0.5;stroke:#000000;stroke-linejoin:miter;stroke-width:0.079261;\"/>\r\n   </g>\r\n   <g id=\"patch_116\">\r\n    <path clip-path=\"url(#p1e020dd2c8)\" d=\"M 166.96733 442.08 \r\nL 167.759943 442.08 \r\nL 167.759943 442.08 \r\nL 166.96733 442.08 \r\nz\r\n\" style=\"fill:#1f77b4;fill-opacity:0.5;stroke:#000000;stroke-linejoin:miter;stroke-width:0.079261;\"/>\r\n   </g>\r\n   <g id=\"patch_117\">\r\n    <path clip-path=\"url(#p1e020dd2c8)\" d=\"M 167.759943 442.08 \r\nL 168.552557 442.08 \r\nL 168.552557 442.08 \r\nL 167.759943 442.08 \r\nz\r\n\" style=\"fill:#1f77b4;fill-opacity:0.5;stroke:#000000;stroke-linejoin:miter;stroke-width:0.079261;\"/>\r\n   </g>\r\n   <g id=\"patch_118\">\r\n    <path clip-path=\"url(#p1e020dd2c8)\" d=\"M 168.552557 442.08 \r\nL 169.34517 442.08 \r\nL 169.34517 442.08 \r\nL 168.552557 442.08 \r\nz\r\n\" style=\"fill:#1f77b4;fill-opacity:0.5;stroke:#000000;stroke-linejoin:miter;stroke-width:0.079261;\"/>\r\n   </g>\r\n   <g id=\"patch_119\">\r\n    <path clip-path=\"url(#p1e020dd2c8)\" d=\"M 169.34517 442.08 \r\nL 170.137784 442.08 \r\nL 170.137784 441.516501 \r\nL 169.34517 441.516501 \r\nz\r\n\" style=\"fill:#1f77b4;fill-opacity:0.5;stroke:#000000;stroke-linejoin:miter;stroke-width:0.079261;\"/>\r\n   </g>\r\n   <g id=\"patch_120\">\r\n    <path clip-path=\"url(#p1e020dd2c8)\" d=\"M 170.137784 442.08 \r\nL 170.930398 442.08 \r\nL 170.930398 442.08 \r\nL 170.137784 442.08 \r\nz\r\n\" style=\"fill:#1f77b4;fill-opacity:0.5;stroke:#000000;stroke-linejoin:miter;stroke-width:0.079261;\"/>\r\n   </g>\r\n   <g id=\"patch_121\">\r\n    <path clip-path=\"url(#p1e020dd2c8)\" d=\"M 170.930398 442.08 \r\nL 171.723011 442.08 \r\nL 171.723011 442.08 \r\nL 170.930398 442.08 \r\nz\r\n\" style=\"fill:#1f77b4;fill-opacity:0.5;stroke:#000000;stroke-linejoin:miter;stroke-width:0.079261;\"/>\r\n   </g>\r\n   <g id=\"patch_122\">\r\n    <path clip-path=\"url(#p1e020dd2c8)\" d=\"M 171.723011 442.08 \r\nL 172.515625 442.08 \r\nL 172.515625 442.08 \r\nL 171.723011 442.08 \r\nz\r\n\" style=\"fill:#1f77b4;fill-opacity:0.5;stroke:#000000;stroke-linejoin:miter;stroke-width:0.079261;\"/>\r\n   </g>\r\n   <g id=\"patch_123\">\r\n    <path clip-path=\"url(#p1e020dd2c8)\" d=\"M 172.515625 442.08 \r\nL 173.308239 442.08 \r\nL 173.308239 442.08 \r\nL 172.515625 442.08 \r\nz\r\n\" style=\"fill:#1f77b4;fill-opacity:0.5;stroke:#000000;stroke-linejoin:miter;stroke-width:0.079261;\"/>\r\n   </g>\r\n   <g id=\"patch_124\">\r\n    <path clip-path=\"url(#p1e020dd2c8)\" d=\"M 173.308239 442.08 \r\nL 174.100852 442.08 \r\nL 174.100852 442.08 \r\nL 173.308239 442.08 \r\nz\r\n\" style=\"fill:#1f77b4;fill-opacity:0.5;stroke:#000000;stroke-linejoin:miter;stroke-width:0.079261;\"/>\r\n   </g>\r\n   <g id=\"patch_125\">\r\n    <path clip-path=\"url(#p1e020dd2c8)\" d=\"M 174.100852 442.08 \r\nL 174.893466 442.08 \r\nL 174.893466 442.08 \r\nL 174.100852 442.08 \r\nz\r\n\" style=\"fill:#1f77b4;fill-opacity:0.5;stroke:#000000;stroke-linejoin:miter;stroke-width:0.079261;\"/>\r\n   </g>\r\n   <g id=\"patch_126\">\r\n    <path clip-path=\"url(#p1e020dd2c8)\" d=\"M 174.893466 442.08 \r\nL 175.68608 442.08 \r\nL 175.68608 441.516501 \r\nL 174.893466 441.516501 \r\nz\r\n\" style=\"fill:#1f77b4;fill-opacity:0.5;stroke:#000000;stroke-linejoin:miter;stroke-width:0.079261;\"/>\r\n   </g>\r\n   <g id=\"patch_127\">\r\n    <path clip-path=\"url(#p1e020dd2c8)\" d=\"M 175.68608 442.08 \r\nL 176.478693 442.08 \r\nL 176.478693 442.08 \r\nL 175.68608 442.08 \r\nz\r\n\" style=\"fill:#1f77b4;fill-opacity:0.5;stroke:#000000;stroke-linejoin:miter;stroke-width:0.079261;\"/>\r\n   </g>\r\n   <g id=\"patch_128\">\r\n    <path clip-path=\"url(#p1e020dd2c8)\" d=\"M 176.478693 442.08 \r\nL 177.271307 442.08 \r\nL 177.271307 442.08 \r\nL 176.478693 442.08 \r\nz\r\n\" style=\"fill:#1f77b4;fill-opacity:0.5;stroke:#000000;stroke-linejoin:miter;stroke-width:0.079261;\"/>\r\n   </g>\r\n   <g id=\"patch_129\">\r\n    <path clip-path=\"url(#p1e020dd2c8)\" d=\"M 177.271307 442.08 \r\nL 178.06392 442.08 \r\nL 178.06392 442.08 \r\nL 177.271307 442.08 \r\nz\r\n\" style=\"fill:#1f77b4;fill-opacity:0.5;stroke:#000000;stroke-linejoin:miter;stroke-width:0.079261;\"/>\r\n   </g>\r\n   <g id=\"patch_130\">\r\n    <path clip-path=\"url(#p1e020dd2c8)\" d=\"M 178.06392 442.08 \r\nL 178.856534 442.08 \r\nL 178.856534 442.08 \r\nL 178.06392 442.08 \r\nz\r\n\" style=\"fill:#1f77b4;fill-opacity:0.5;stroke:#000000;stroke-linejoin:miter;stroke-width:0.079261;\"/>\r\n   </g>\r\n   <g id=\"patch_131\">\r\n    <path clip-path=\"url(#p1e020dd2c8)\" d=\"M 178.856534 442.08 \r\nL 179.649148 442.08 \r\nL 179.649148 442.08 \r\nL 178.856534 442.08 \r\nz\r\n\" style=\"fill:#1f77b4;fill-opacity:0.5;stroke:#000000;stroke-linejoin:miter;stroke-width:0.079261;\"/>\r\n   </g>\r\n   <g id=\"patch_132\">\r\n    <path clip-path=\"url(#p1e020dd2c8)\" d=\"M 179.649148 442.08 \r\nL 180.441761 442.08 \r\nL 180.441761 442.08 \r\nL 179.649148 442.08 \r\nz\r\n\" style=\"fill:#1f77b4;fill-opacity:0.5;stroke:#000000;stroke-linejoin:miter;stroke-width:0.079261;\"/>\r\n   </g>\r\n   <g id=\"patch_133\">\r\n    <path clip-path=\"url(#p1e020dd2c8)\" d=\"M 180.441761 442.08 \r\nL 181.234375 442.08 \r\nL 181.234375 442.08 \r\nL 180.441761 442.08 \r\nz\r\n\" style=\"fill:#1f77b4;fill-opacity:0.5;stroke:#000000;stroke-linejoin:miter;stroke-width:0.079261;\"/>\r\n   </g>\r\n   <g id=\"patch_134\">\r\n    <path clip-path=\"url(#p1e020dd2c8)\" d=\"M 181.234375 442.08 \r\nL 182.026989 442.08 \r\nL 182.026989 442.08 \r\nL 181.234375 442.08 \r\nz\r\n\" style=\"fill:#1f77b4;fill-opacity:0.5;stroke:#000000;stroke-linejoin:miter;stroke-width:0.079261;\"/>\r\n   </g>\r\n   <g id=\"patch_135\">\r\n    <path clip-path=\"url(#p1e020dd2c8)\" d=\"M 182.026989 442.08 \r\nL 182.819602 442.08 \r\nL 182.819602 442.08 \r\nL 182.026989 442.08 \r\nz\r\n\" style=\"fill:#1f77b4;fill-opacity:0.5;stroke:#000000;stroke-linejoin:miter;stroke-width:0.079261;\"/>\r\n   </g>\r\n   <g id=\"patch_136\">\r\n    <path clip-path=\"url(#p1e020dd2c8)\" d=\"M 182.819602 442.08 \r\nL 183.612216 442.08 \r\nL 183.612216 442.08 \r\nL 182.819602 442.08 \r\nz\r\n\" style=\"fill:#1f77b4;fill-opacity:0.5;stroke:#000000;stroke-linejoin:miter;stroke-width:0.079261;\"/>\r\n   </g>\r\n   <g id=\"patch_137\">\r\n    <path clip-path=\"url(#p1e020dd2c8)\" d=\"M 183.612216 442.08 \r\nL 184.40483 442.08 \r\nL 184.40483 442.08 \r\nL 183.612216 442.08 \r\nz\r\n\" style=\"fill:#1f77b4;fill-opacity:0.5;stroke:#000000;stroke-linejoin:miter;stroke-width:0.079261;\"/>\r\n   </g>\r\n   <g id=\"patch_138\">\r\n    <path clip-path=\"url(#p1e020dd2c8)\" d=\"M 184.40483 442.08 \r\nL 185.197443 442.08 \r\nL 185.197443 442.08 \r\nL 184.40483 442.08 \r\nz\r\n\" style=\"fill:#1f77b4;fill-opacity:0.5;stroke:#000000;stroke-linejoin:miter;stroke-width:0.079261;\"/>\r\n   </g>\r\n   <g id=\"patch_139\">\r\n    <path clip-path=\"url(#p1e020dd2c8)\" d=\"M 185.197443 442.08 \r\nL 185.990057 442.08 \r\nL 185.990057 441.516501 \r\nL 185.197443 441.516501 \r\nz\r\n\" style=\"fill:#1f77b4;fill-opacity:0.5;stroke:#000000;stroke-linejoin:miter;stroke-width:0.079261;\"/>\r\n   </g>\r\n   <g id=\"patch_140\">\r\n    <path clip-path=\"url(#p1e020dd2c8)\" d=\"M 185.990057 442.08 \r\nL 186.78267 442.08 \r\nL 186.78267 442.08 \r\nL 185.990057 442.08 \r\nz\r\n\" style=\"fill:#1f77b4;fill-opacity:0.5;stroke:#000000;stroke-linejoin:miter;stroke-width:0.079261;\"/>\r\n   </g>\r\n   <g id=\"patch_141\">\r\n    <path clip-path=\"url(#p1e020dd2c8)\" d=\"M 186.78267 442.08 \r\nL 187.575284 442.08 \r\nL 187.575284 442.08 \r\nL 186.78267 442.08 \r\nz\r\n\" style=\"fill:#1f77b4;fill-opacity:0.5;stroke:#000000;stroke-linejoin:miter;stroke-width:0.079261;\"/>\r\n   </g>\r\n   <g id=\"patch_142\">\r\n    <path clip-path=\"url(#p1e020dd2c8)\" d=\"M 187.575284 442.08 \r\nL 188.367898 442.08 \r\nL 188.367898 442.08 \r\nL 187.575284 442.08 \r\nz\r\n\" style=\"fill:#1f77b4;fill-opacity:0.5;stroke:#000000;stroke-linejoin:miter;stroke-width:0.079261;\"/>\r\n   </g>\r\n   <g id=\"patch_143\">\r\n    <path clip-path=\"url(#p1e020dd2c8)\" d=\"M 188.367898 442.08 \r\nL 189.160511 442.08 \r\nL 189.160511 442.08 \r\nL 188.367898 442.08 \r\nz\r\n\" style=\"fill:#1f77b4;fill-opacity:0.5;stroke:#000000;stroke-linejoin:miter;stroke-width:0.079261;\"/>\r\n   </g>\r\n   <g id=\"patch_144\">\r\n    <path clip-path=\"url(#p1e020dd2c8)\" d=\"M 189.160511 442.08 \r\nL 189.953125 442.08 \r\nL 189.953125 442.08 \r\nL 189.160511 442.08 \r\nz\r\n\" style=\"fill:#1f77b4;fill-opacity:0.5;stroke:#000000;stroke-linejoin:miter;stroke-width:0.079261;\"/>\r\n   </g>\r\n   <g id=\"patch_145\">\r\n    <path clip-path=\"url(#p1e020dd2c8)\" d=\"M 189.953125 442.08 \r\nL 190.745739 442.08 \r\nL 190.745739 442.08 \r\nL 189.953125 442.08 \r\nz\r\n\" style=\"fill:#1f77b4;fill-opacity:0.5;stroke:#000000;stroke-linejoin:miter;stroke-width:0.079261;\"/>\r\n   </g>\r\n   <g id=\"patch_146\">\r\n    <path clip-path=\"url(#p1e020dd2c8)\" d=\"M 190.745739 442.08 \r\nL 191.538352 442.08 \r\nL 191.538352 442.08 \r\nL 190.745739 442.08 \r\nz\r\n\" style=\"fill:#1f77b4;fill-opacity:0.5;stroke:#000000;stroke-linejoin:miter;stroke-width:0.079261;\"/>\r\n   </g>\r\n   <g id=\"patch_147\">\r\n    <path clip-path=\"url(#p1e020dd2c8)\" d=\"M 191.538352 442.08 \r\nL 192.330966 442.08 \r\nL 192.330966 441.516501 \r\nL 191.538352 441.516501 \r\nz\r\n\" style=\"fill:#1f77b4;fill-opacity:0.5;stroke:#000000;stroke-linejoin:miter;stroke-width:0.079261;\"/>\r\n   </g>\r\n   <g id=\"patch_148\">\r\n    <path clip-path=\"url(#p1e020dd2c8)\" d=\"M 192.330966 442.08 \r\nL 193.12358 442.08 \r\nL 193.12358 442.08 \r\nL 192.330966 442.08 \r\nz\r\n\" style=\"fill:#1f77b4;fill-opacity:0.5;stroke:#000000;stroke-linejoin:miter;stroke-width:0.079261;\"/>\r\n   </g>\r\n   <g id=\"patch_149\">\r\n    <path clip-path=\"url(#p1e020dd2c8)\" d=\"M 193.12358 442.08 \r\nL 193.916193 442.08 \r\nL 193.916193 442.08 \r\nL 193.12358 442.08 \r\nz\r\n\" style=\"fill:#1f77b4;fill-opacity:0.5;stroke:#000000;stroke-linejoin:miter;stroke-width:0.079261;\"/>\r\n   </g>\r\n   <g id=\"patch_150\">\r\n    <path clip-path=\"url(#p1e020dd2c8)\" d=\"M 193.916193 442.08 \r\nL 194.708807 442.08 \r\nL 194.708807 442.08 \r\nL 193.916193 442.08 \r\nz\r\n\" style=\"fill:#1f77b4;fill-opacity:0.5;stroke:#000000;stroke-linejoin:miter;stroke-width:0.079261;\"/>\r\n   </g>\r\n   <g id=\"patch_151\">\r\n    <path clip-path=\"url(#p1e020dd2c8)\" d=\"M 194.708807 442.08 \r\nL 195.50142 442.08 \r\nL 195.50142 442.08 \r\nL 194.708807 442.08 \r\nz\r\n\" style=\"fill:#1f77b4;fill-opacity:0.5;stroke:#000000;stroke-linejoin:miter;stroke-width:0.079261;\"/>\r\n   </g>\r\n   <g id=\"patch_152\">\r\n    <path clip-path=\"url(#p1e020dd2c8)\" d=\"M 195.50142 442.08 \r\nL 196.294034 442.08 \r\nL 196.294034 442.08 \r\nL 195.50142 442.08 \r\nz\r\n\" style=\"fill:#1f77b4;fill-opacity:0.5;stroke:#000000;stroke-linejoin:miter;stroke-width:0.079261;\"/>\r\n   </g>\r\n   <g id=\"patch_153\">\r\n    <path clip-path=\"url(#p1e020dd2c8)\" d=\"M 196.294034 442.08 \r\nL 197.086648 442.08 \r\nL 197.086648 442.08 \r\nL 196.294034 442.08 \r\nz\r\n\" style=\"fill:#1f77b4;fill-opacity:0.5;stroke:#000000;stroke-linejoin:miter;stroke-width:0.079261;\"/>\r\n   </g>\r\n   <g id=\"patch_154\">\r\n    <path clip-path=\"url(#p1e020dd2c8)\" d=\"M 197.086648 442.08 \r\nL 197.879261 442.08 \r\nL 197.879261 442.08 \r\nL 197.086648 442.08 \r\nz\r\n\" style=\"fill:#1f77b4;fill-opacity:0.5;stroke:#000000;stroke-linejoin:miter;stroke-width:0.079261;\"/>\r\n   </g>\r\n   <g id=\"patch_155\">\r\n    <path clip-path=\"url(#p1e020dd2c8)\" d=\"M 197.879261 442.08 \r\nL 198.671875 442.08 \r\nL 198.671875 442.08 \r\nL 197.879261 442.08 \r\nz\r\n\" style=\"fill:#1f77b4;fill-opacity:0.5;stroke:#000000;stroke-linejoin:miter;stroke-width:0.079261;\"/>\r\n   </g>\r\n   <g id=\"patch_156\">\r\n    <path clip-path=\"url(#p1e020dd2c8)\" d=\"M 198.671875 442.08 \r\nL 199.464489 442.08 \r\nL 199.464489 442.08 \r\nL 198.671875 442.08 \r\nz\r\n\" style=\"fill:#1f77b4;fill-opacity:0.5;stroke:#000000;stroke-linejoin:miter;stroke-width:0.079261;\"/>\r\n   </g>\r\n   <g id=\"patch_157\">\r\n    <path clip-path=\"url(#p1e020dd2c8)\" d=\"M 199.464489 442.08 \r\nL 200.257102 442.08 \r\nL 200.257102 442.08 \r\nL 199.464489 442.08 \r\nz\r\n\" style=\"fill:#1f77b4;fill-opacity:0.5;stroke:#000000;stroke-linejoin:miter;stroke-width:0.079261;\"/>\r\n   </g>\r\n   <g id=\"patch_158\">\r\n    <path clip-path=\"url(#p1e020dd2c8)\" d=\"M 200.257102 442.08 \r\nL 201.049716 442.08 \r\nL 201.049716 442.08 \r\nL 200.257102 442.08 \r\nz\r\n\" style=\"fill:#1f77b4;fill-opacity:0.5;stroke:#000000;stroke-linejoin:miter;stroke-width:0.079261;\"/>\r\n   </g>\r\n   <g id=\"patch_159\">\r\n    <path clip-path=\"url(#p1e020dd2c8)\" d=\"M 201.049716 442.08 \r\nL 201.84233 442.08 \r\nL 201.84233 442.08 \r\nL 201.049716 442.08 \r\nz\r\n\" style=\"fill:#1f77b4;fill-opacity:0.5;stroke:#000000;stroke-linejoin:miter;stroke-width:0.079261;\"/>\r\n   </g>\r\n   <g id=\"patch_160\">\r\n    <path clip-path=\"url(#p1e020dd2c8)\" d=\"M 201.84233 442.08 \r\nL 202.634943 442.08 \r\nL 202.634943 441.516501 \r\nL 201.84233 441.516501 \r\nz\r\n\" style=\"fill:#1f77b4;fill-opacity:0.5;stroke:#000000;stroke-linejoin:miter;stroke-width:0.079261;\"/>\r\n   </g>\r\n   <g id=\"patch_161\">\r\n    <path clip-path=\"url(#p1e020dd2c8)\" d=\"M 202.634943 442.08 \r\nL 203.427557 442.08 \r\nL 203.427557 442.08 \r\nL 202.634943 442.08 \r\nz\r\n\" style=\"fill:#1f77b4;fill-opacity:0.5;stroke:#000000;stroke-linejoin:miter;stroke-width:0.079261;\"/>\r\n   </g>\r\n   <g id=\"patch_162\">\r\n    <path clip-path=\"url(#p1e020dd2c8)\" d=\"M 203.427557 442.08 \r\nL 204.22017 442.08 \r\nL 204.22017 442.08 \r\nL 203.427557 442.08 \r\nz\r\n\" style=\"fill:#1f77b4;fill-opacity:0.5;stroke:#000000;stroke-linejoin:miter;stroke-width:0.079261;\"/>\r\n   </g>\r\n   <g id=\"patch_163\">\r\n    <path clip-path=\"url(#p1e020dd2c8)\" d=\"M 204.22017 442.08 \r\nL 205.012784 442.08 \r\nL 205.012784 442.08 \r\nL 204.22017 442.08 \r\nz\r\n\" style=\"fill:#1f77b4;fill-opacity:0.5;stroke:#000000;stroke-linejoin:miter;stroke-width:0.079261;\"/>\r\n   </g>\r\n   <g id=\"patch_164\">\r\n    <path clip-path=\"url(#p1e020dd2c8)\" d=\"M 205.012784 442.08 \r\nL 205.805398 442.08 \r\nL 205.805398 441.516501 \r\nL 205.012784 441.516501 \r\nz\r\n\" style=\"fill:#1f77b4;fill-opacity:0.5;stroke:#000000;stroke-linejoin:miter;stroke-width:0.079261;\"/>\r\n   </g>\r\n   <g id=\"patch_165\">\r\n    <path clip-path=\"url(#p1e020dd2c8)\" d=\"M 205.805398 442.08 \r\nL 206.598011 442.08 \r\nL 206.598011 442.08 \r\nL 205.805398 442.08 \r\nz\r\n\" style=\"fill:#1f77b4;fill-opacity:0.5;stroke:#000000;stroke-linejoin:miter;stroke-width:0.079261;\"/>\r\n   </g>\r\n   <g id=\"patch_166\">\r\n    <path clip-path=\"url(#p1e020dd2c8)\" d=\"M 206.598011 442.08 \r\nL 207.390625 442.08 \r\nL 207.390625 442.08 \r\nL 206.598011 442.08 \r\nz\r\n\" style=\"fill:#1f77b4;fill-opacity:0.5;stroke:#000000;stroke-linejoin:miter;stroke-width:0.079261;\"/>\r\n   </g>\r\n   <g id=\"patch_167\">\r\n    <path clip-path=\"url(#p1e020dd2c8)\" d=\"M 207.390625 442.08 \r\nL 208.183239 442.08 \r\nL 208.183239 442.08 \r\nL 207.390625 442.08 \r\nz\r\n\" style=\"fill:#1f77b4;fill-opacity:0.5;stroke:#000000;stroke-linejoin:miter;stroke-width:0.079261;\"/>\r\n   </g>\r\n   <g id=\"patch_168\">\r\n    <path clip-path=\"url(#p1e020dd2c8)\" d=\"M 208.183239 442.08 \r\nL 208.975852 442.08 \r\nL 208.975852 442.08 \r\nL 208.183239 442.08 \r\nz\r\n\" style=\"fill:#1f77b4;fill-opacity:0.5;stroke:#000000;stroke-linejoin:miter;stroke-width:0.079261;\"/>\r\n   </g>\r\n   <g id=\"patch_169\">\r\n    <path clip-path=\"url(#p1e020dd2c8)\" d=\"M 208.975852 442.08 \r\nL 209.768466 442.08 \r\nL 209.768466 442.08 \r\nL 208.975852 442.08 \r\nz\r\n\" style=\"fill:#1f77b4;fill-opacity:0.5;stroke:#000000;stroke-linejoin:miter;stroke-width:0.079261;\"/>\r\n   </g>\r\n   <g id=\"patch_170\">\r\n    <path clip-path=\"url(#p1e020dd2c8)\" d=\"M 209.768466 442.08 \r\nL 210.56108 442.08 \r\nL 210.56108 442.08 \r\nL 209.768466 442.08 \r\nz\r\n\" style=\"fill:#1f77b4;fill-opacity:0.5;stroke:#000000;stroke-linejoin:miter;stroke-width:0.079261;\"/>\r\n   </g>\r\n   <g id=\"patch_171\">\r\n    <path clip-path=\"url(#p1e020dd2c8)\" d=\"M 210.56108 442.08 \r\nL 211.353693 442.08 \r\nL 211.353693 442.08 \r\nL 210.56108 442.08 \r\nz\r\n\" style=\"fill:#1f77b4;fill-opacity:0.5;stroke:#000000;stroke-linejoin:miter;stroke-width:0.079261;\"/>\r\n   </g>\r\n   <g id=\"patch_172\">\r\n    <path clip-path=\"url(#p1e020dd2c8)\" d=\"M 211.353693 442.08 \r\nL 212.146307 442.08 \r\nL 212.146307 442.08 \r\nL 211.353693 442.08 \r\nz\r\n\" style=\"fill:#1f77b4;fill-opacity:0.5;stroke:#000000;stroke-linejoin:miter;stroke-width:0.079261;\"/>\r\n   </g>\r\n   <g id=\"patch_173\">\r\n    <path clip-path=\"url(#p1e020dd2c8)\" d=\"M 212.146307 442.08 \r\nL 212.93892 442.08 \r\nL 212.93892 442.08 \r\nL 212.146307 442.08 \r\nz\r\n\" style=\"fill:#1f77b4;fill-opacity:0.5;stroke:#000000;stroke-linejoin:miter;stroke-width:0.079261;\"/>\r\n   </g>\r\n   <g id=\"patch_174\">\r\n    <path clip-path=\"url(#p1e020dd2c8)\" d=\"M 212.93892 442.08 \r\nL 213.731534 442.08 \r\nL 213.731534 442.08 \r\nL 212.93892 442.08 \r\nz\r\n\" style=\"fill:#1f77b4;fill-opacity:0.5;stroke:#000000;stroke-linejoin:miter;stroke-width:0.079261;\"/>\r\n   </g>\r\n   <g id=\"patch_175\">\r\n    <path clip-path=\"url(#p1e020dd2c8)\" d=\"M 213.731534 442.08 \r\nL 214.524148 442.08 \r\nL 214.524148 442.08 \r\nL 213.731534 442.08 \r\nz\r\n\" style=\"fill:#1f77b4;fill-opacity:0.5;stroke:#000000;stroke-linejoin:miter;stroke-width:0.079261;\"/>\r\n   </g>\r\n   <g id=\"patch_176\">\r\n    <path clip-path=\"url(#p1e020dd2c8)\" d=\"M 214.524148 442.08 \r\nL 215.316761 442.08 \r\nL 215.316761 442.08 \r\nL 214.524148 442.08 \r\nz\r\n\" style=\"fill:#1f77b4;fill-opacity:0.5;stroke:#000000;stroke-linejoin:miter;stroke-width:0.079261;\"/>\r\n   </g>\r\n   <g id=\"patch_177\">\r\n    <path clip-path=\"url(#p1e020dd2c8)\" d=\"M 215.316761 442.08 \r\nL 216.109375 442.08 \r\nL 216.109375 442.08 \r\nL 215.316761 442.08 \r\nz\r\n\" style=\"fill:#1f77b4;fill-opacity:0.5;stroke:#000000;stroke-linejoin:miter;stroke-width:0.079261;\"/>\r\n   </g>\r\n   <g id=\"patch_178\">\r\n    <path clip-path=\"url(#p1e020dd2c8)\" d=\"M 216.109375 442.08 \r\nL 216.901989 442.08 \r\nL 216.901989 442.08 \r\nL 216.109375 442.08 \r\nz\r\n\" style=\"fill:#1f77b4;fill-opacity:0.5;stroke:#000000;stroke-linejoin:miter;stroke-width:0.079261;\"/>\r\n   </g>\r\n   <g id=\"patch_179\">\r\n    <path clip-path=\"url(#p1e020dd2c8)\" d=\"M 216.901989 442.08 \r\nL 217.694602 442.08 \r\nL 217.694602 442.08 \r\nL 216.901989 442.08 \r\nz\r\n\" style=\"fill:#1f77b4;fill-opacity:0.5;stroke:#000000;stroke-linejoin:miter;stroke-width:0.079261;\"/>\r\n   </g>\r\n   <g id=\"patch_180\">\r\n    <path clip-path=\"url(#p1e020dd2c8)\" d=\"M 217.694602 442.08 \r\nL 218.487216 442.08 \r\nL 218.487216 442.08 \r\nL 217.694602 442.08 \r\nz\r\n\" style=\"fill:#1f77b4;fill-opacity:0.5;stroke:#000000;stroke-linejoin:miter;stroke-width:0.079261;\"/>\r\n   </g>\r\n   <g id=\"patch_181\">\r\n    <path clip-path=\"url(#p1e020dd2c8)\" d=\"M 218.487216 442.08 \r\nL 219.27983 442.08 \r\nL 219.27983 441.516501 \r\nL 218.487216 441.516501 \r\nz\r\n\" style=\"fill:#1f77b4;fill-opacity:0.5;stroke:#000000;stroke-linejoin:miter;stroke-width:0.079261;\"/>\r\n   </g>\r\n   <g id=\"patch_182\">\r\n    <path clip-path=\"url(#p1e020dd2c8)\" d=\"M 219.27983 442.08 \r\nL 220.072443 442.08 \r\nL 220.072443 442.08 \r\nL 219.27983 442.08 \r\nz\r\n\" style=\"fill:#1f77b4;fill-opacity:0.5;stroke:#000000;stroke-linejoin:miter;stroke-width:0.079261;\"/>\r\n   </g>\r\n   <g id=\"patch_183\">\r\n    <path clip-path=\"url(#p1e020dd2c8)\" d=\"M 220.072443 442.08 \r\nL 220.865057 442.08 \r\nL 220.865057 442.08 \r\nL 220.072443 442.08 \r\nz\r\n\" style=\"fill:#1f77b4;fill-opacity:0.5;stroke:#000000;stroke-linejoin:miter;stroke-width:0.079261;\"/>\r\n   </g>\r\n   <g id=\"patch_184\">\r\n    <path clip-path=\"url(#p1e020dd2c8)\" d=\"M 220.865057 442.08 \r\nL 221.65767 442.08 \r\nL 221.65767 442.08 \r\nL 220.865057 442.08 \r\nz\r\n\" style=\"fill:#1f77b4;fill-opacity:0.5;stroke:#000000;stroke-linejoin:miter;stroke-width:0.079261;\"/>\r\n   </g>\r\n   <g id=\"patch_185\">\r\n    <path clip-path=\"url(#p1e020dd2c8)\" d=\"M 221.65767 442.08 \r\nL 222.450284 442.08 \r\nL 222.450284 442.08 \r\nL 221.65767 442.08 \r\nz\r\n\" style=\"fill:#1f77b4;fill-opacity:0.5;stroke:#000000;stroke-linejoin:miter;stroke-width:0.079261;\"/>\r\n   </g>\r\n   <g id=\"patch_186\">\r\n    <path clip-path=\"url(#p1e020dd2c8)\" d=\"M 222.450284 442.08 \r\nL 223.242898 442.08 \r\nL 223.242898 442.08 \r\nL 222.450284 442.08 \r\nz\r\n\" style=\"fill:#1f77b4;fill-opacity:0.5;stroke:#000000;stroke-linejoin:miter;stroke-width:0.079261;\"/>\r\n   </g>\r\n   <g id=\"patch_187\">\r\n    <path clip-path=\"url(#p1e020dd2c8)\" d=\"M 223.242898 442.08 \r\nL 224.035511 442.08 \r\nL 224.035511 442.08 \r\nL 223.242898 442.08 \r\nz\r\n\" style=\"fill:#1f77b4;fill-opacity:0.5;stroke:#000000;stroke-linejoin:miter;stroke-width:0.079261;\"/>\r\n   </g>\r\n   <g id=\"patch_188\">\r\n    <path clip-path=\"url(#p1e020dd2c8)\" d=\"M 224.035511 442.08 \r\nL 224.828125 442.08 \r\nL 224.828125 442.08 \r\nL 224.035511 442.08 \r\nz\r\n\" style=\"fill:#1f77b4;fill-opacity:0.5;stroke:#000000;stroke-linejoin:miter;stroke-width:0.079261;\"/>\r\n   </g>\r\n   <g id=\"patch_189\">\r\n    <path clip-path=\"url(#p1e020dd2c8)\" d=\"M 224.828125 442.08 \r\nL 225.620739 442.08 \r\nL 225.620739 442.08 \r\nL 224.828125 442.08 \r\nz\r\n\" style=\"fill:#1f77b4;fill-opacity:0.5;stroke:#000000;stroke-linejoin:miter;stroke-width:0.079261;\"/>\r\n   </g>\r\n   <g id=\"patch_190\">\r\n    <path clip-path=\"url(#p1e020dd2c8)\" d=\"M 225.620739 442.08 \r\nL 226.413352 442.08 \r\nL 226.413352 442.08 \r\nL 225.620739 442.08 \r\nz\r\n\" style=\"fill:#1f77b4;fill-opacity:0.5;stroke:#000000;stroke-linejoin:miter;stroke-width:0.079261;\"/>\r\n   </g>\r\n   <g id=\"patch_191\">\r\n    <path clip-path=\"url(#p1e020dd2c8)\" d=\"M 226.413352 442.08 \r\nL 227.205966 442.08 \r\nL 227.205966 442.08 \r\nL 226.413352 442.08 \r\nz\r\n\" style=\"fill:#1f77b4;fill-opacity:0.5;stroke:#000000;stroke-linejoin:miter;stroke-width:0.079261;\"/>\r\n   </g>\r\n   <g id=\"patch_192\">\r\n    <path clip-path=\"url(#p1e020dd2c8)\" d=\"M 227.205966 442.08 \r\nL 227.99858 442.08 \r\nL 227.99858 442.08 \r\nL 227.205966 442.08 \r\nz\r\n\" style=\"fill:#1f77b4;fill-opacity:0.5;stroke:#000000;stroke-linejoin:miter;stroke-width:0.079261;\"/>\r\n   </g>\r\n   <g id=\"patch_193\">\r\n    <path clip-path=\"url(#p1e020dd2c8)\" d=\"M 227.99858 442.08 \r\nL 228.791193 442.08 \r\nL 228.791193 442.08 \r\nL 227.99858 442.08 \r\nz\r\n\" style=\"fill:#1f77b4;fill-opacity:0.5;stroke:#000000;stroke-linejoin:miter;stroke-width:0.079261;\"/>\r\n   </g>\r\n   <g id=\"patch_194\">\r\n    <path clip-path=\"url(#p1e020dd2c8)\" d=\"M 228.791193 442.08 \r\nL 229.583807 442.08 \r\nL 229.583807 442.08 \r\nL 228.791193 442.08 \r\nz\r\n\" style=\"fill:#1f77b4;fill-opacity:0.5;stroke:#000000;stroke-linejoin:miter;stroke-width:0.079261;\"/>\r\n   </g>\r\n   <g id=\"patch_195\">\r\n    <path clip-path=\"url(#p1e020dd2c8)\" d=\"M 229.583807 442.08 \r\nL 230.37642 442.08 \r\nL 230.37642 442.08 \r\nL 229.583807 442.08 \r\nz\r\n\" style=\"fill:#1f77b4;fill-opacity:0.5;stroke:#000000;stroke-linejoin:miter;stroke-width:0.079261;\"/>\r\n   </g>\r\n   <g id=\"patch_196\">\r\n    <path clip-path=\"url(#p1e020dd2c8)\" d=\"M 230.37642 442.08 \r\nL 231.169034 442.08 \r\nL 231.169034 442.08 \r\nL 230.37642 442.08 \r\nz\r\n\" style=\"fill:#1f77b4;fill-opacity:0.5;stroke:#000000;stroke-linejoin:miter;stroke-width:0.079261;\"/>\r\n   </g>\r\n   <g id=\"patch_197\">\r\n    <path clip-path=\"url(#p1e020dd2c8)\" d=\"M 231.169034 442.08 \r\nL 231.961648 442.08 \r\nL 231.961648 442.08 \r\nL 231.169034 442.08 \r\nz\r\n\" style=\"fill:#1f77b4;fill-opacity:0.5;stroke:#000000;stroke-linejoin:miter;stroke-width:0.079261;\"/>\r\n   </g>\r\n   <g id=\"patch_198\">\r\n    <path clip-path=\"url(#p1e020dd2c8)\" d=\"M 231.961648 442.08 \r\nL 232.754261 442.08 \r\nL 232.754261 442.08 \r\nL 231.961648 442.08 \r\nz\r\n\" style=\"fill:#1f77b4;fill-opacity:0.5;stroke:#000000;stroke-linejoin:miter;stroke-width:0.079261;\"/>\r\n   </g>\r\n   <g id=\"patch_199\">\r\n    <path clip-path=\"url(#p1e020dd2c8)\" d=\"M 232.754261 442.08 \r\nL 233.546875 442.08 \r\nL 233.546875 442.08 \r\nL 232.754261 442.08 \r\nz\r\n\" style=\"fill:#1f77b4;fill-opacity:0.5;stroke:#000000;stroke-linejoin:miter;stroke-width:0.079261;\"/>\r\n   </g>\r\n   <g id=\"patch_200\">\r\n    <path clip-path=\"url(#p1e020dd2c8)\" d=\"M 233.546875 442.08 \r\nL 234.339489 442.08 \r\nL 234.339489 442.08 \r\nL 233.546875 442.08 \r\nz\r\n\" style=\"fill:#1f77b4;fill-opacity:0.5;stroke:#000000;stroke-linejoin:miter;stroke-width:0.079261;\"/>\r\n   </g>\r\n   <g id=\"patch_201\">\r\n    <path clip-path=\"url(#p1e020dd2c8)\" d=\"M 234.339489 442.08 \r\nL 235.132102 442.08 \r\nL 235.132102 442.08 \r\nL 234.339489 442.08 \r\nz\r\n\" style=\"fill:#1f77b4;fill-opacity:0.5;stroke:#000000;stroke-linejoin:miter;stroke-width:0.079261;\"/>\r\n   </g>\r\n   <g id=\"patch_202\">\r\n    <path clip-path=\"url(#p1e020dd2c8)\" d=\"M 235.132102 442.08 \r\nL 235.924716 442.08 \r\nL 235.924716 442.08 \r\nL 235.132102 442.08 \r\nz\r\n\" style=\"fill:#1f77b4;fill-opacity:0.5;stroke:#000000;stroke-linejoin:miter;stroke-width:0.079261;\"/>\r\n   </g>\r\n   <g id=\"patch_203\">\r\n    <path clip-path=\"url(#p1e020dd2c8)\" d=\"M 235.924716 442.08 \r\nL 236.71733 442.08 \r\nL 236.71733 441.516501 \r\nL 235.924716 441.516501 \r\nz\r\n\" style=\"fill:#1f77b4;fill-opacity:0.5;stroke:#000000;stroke-linejoin:miter;stroke-width:0.079261;\"/>\r\n   </g>\r\n   <g id=\"patch_204\">\r\n    <path clip-path=\"url(#p1e020dd2c8)\" d=\"M 236.71733 442.08 \r\nL 237.509943 442.08 \r\nL 237.509943 442.08 \r\nL 236.71733 442.08 \r\nz\r\n\" style=\"fill:#1f77b4;fill-opacity:0.5;stroke:#000000;stroke-linejoin:miter;stroke-width:0.079261;\"/>\r\n   </g>\r\n   <g id=\"patch_205\">\r\n    <path clip-path=\"url(#p1e020dd2c8)\" d=\"M 237.509943 442.08 \r\nL 238.302557 442.08 \r\nL 238.302557 442.08 \r\nL 237.509943 442.08 \r\nz\r\n\" style=\"fill:#1f77b4;fill-opacity:0.5;stroke:#000000;stroke-linejoin:miter;stroke-width:0.079261;\"/>\r\n   </g>\r\n   <g id=\"patch_206\">\r\n    <path clip-path=\"url(#p1e020dd2c8)\" d=\"M 238.302557 442.08 \r\nL 239.09517 442.08 \r\nL 239.09517 442.08 \r\nL 238.302557 442.08 \r\nz\r\n\" style=\"fill:#1f77b4;fill-opacity:0.5;stroke:#000000;stroke-linejoin:miter;stroke-width:0.079261;\"/>\r\n   </g>\r\n   <g id=\"patch_207\">\r\n    <path clip-path=\"url(#p1e020dd2c8)\" d=\"M 239.09517 442.08 \r\nL 239.887784 442.08 \r\nL 239.887784 442.08 \r\nL 239.09517 442.08 \r\nz\r\n\" style=\"fill:#1f77b4;fill-opacity:0.5;stroke:#000000;stroke-linejoin:miter;stroke-width:0.079261;\"/>\r\n   </g>\r\n   <g id=\"patch_208\">\r\n    <path clip-path=\"url(#p1e020dd2c8)\" d=\"M 239.887784 442.08 \r\nL 240.680398 442.08 \r\nL 240.680398 442.08 \r\nL 239.887784 442.08 \r\nz\r\n\" style=\"fill:#1f77b4;fill-opacity:0.5;stroke:#000000;stroke-linejoin:miter;stroke-width:0.079261;\"/>\r\n   </g>\r\n   <g id=\"patch_209\">\r\n    <path clip-path=\"url(#p1e020dd2c8)\" d=\"M 240.680398 442.08 \r\nL 241.473011 442.08 \r\nL 241.473011 442.08 \r\nL 240.680398 442.08 \r\nz\r\n\" style=\"fill:#1f77b4;fill-opacity:0.5;stroke:#000000;stroke-linejoin:miter;stroke-width:0.079261;\"/>\r\n   </g>\r\n   <g id=\"patch_210\">\r\n    <path clip-path=\"url(#p1e020dd2c8)\" d=\"M 241.473011 442.08 \r\nL 242.265625 442.08 \r\nL 242.265625 442.08 \r\nL 241.473011 442.08 \r\nz\r\n\" style=\"fill:#1f77b4;fill-opacity:0.5;stroke:#000000;stroke-linejoin:miter;stroke-width:0.079261;\"/>\r\n   </g>\r\n   <g id=\"patch_211\">\r\n    <path clip-path=\"url(#p1e020dd2c8)\" d=\"M 242.265625 442.08 \r\nL 243.058239 442.08 \r\nL 243.058239 442.08 \r\nL 242.265625 442.08 \r\nz\r\n\" style=\"fill:#1f77b4;fill-opacity:0.5;stroke:#000000;stroke-linejoin:miter;stroke-width:0.079261;\"/>\r\n   </g>\r\n   <g id=\"patch_212\">\r\n    <path clip-path=\"url(#p1e020dd2c8)\" d=\"M 243.058239 442.08 \r\nL 243.850852 442.08 \r\nL 243.850852 442.08 \r\nL 243.058239 442.08 \r\nz\r\n\" style=\"fill:#1f77b4;fill-opacity:0.5;stroke:#000000;stroke-linejoin:miter;stroke-width:0.079261;\"/>\r\n   </g>\r\n   <g id=\"patch_213\">\r\n    <path clip-path=\"url(#p1e020dd2c8)\" d=\"M 243.850852 442.08 \r\nL 244.643466 442.08 \r\nL 244.643466 442.08 \r\nL 243.850852 442.08 \r\nz\r\n\" style=\"fill:#1f77b4;fill-opacity:0.5;stroke:#000000;stroke-linejoin:miter;stroke-width:0.079261;\"/>\r\n   </g>\r\n   <g id=\"patch_214\">\r\n    <path clip-path=\"url(#p1e020dd2c8)\" d=\"M 244.643466 442.08 \r\nL 245.43608 442.08 \r\nL 245.43608 442.08 \r\nL 244.643466 442.08 \r\nz\r\n\" style=\"fill:#1f77b4;fill-opacity:0.5;stroke:#000000;stroke-linejoin:miter;stroke-width:0.079261;\"/>\r\n   </g>\r\n   <g id=\"patch_215\">\r\n    <path clip-path=\"url(#p1e020dd2c8)\" d=\"M 245.43608 442.08 \r\nL 246.228693 442.08 \r\nL 246.228693 442.08 \r\nL 245.43608 442.08 \r\nz\r\n\" style=\"fill:#1f77b4;fill-opacity:0.5;stroke:#000000;stroke-linejoin:miter;stroke-width:0.079261;\"/>\r\n   </g>\r\n   <g id=\"patch_216\">\r\n    <path clip-path=\"url(#p1e020dd2c8)\" d=\"M 246.228693 442.08 \r\nL 247.021307 442.08 \r\nL 247.021307 442.08 \r\nL 246.228693 442.08 \r\nz\r\n\" style=\"fill:#1f77b4;fill-opacity:0.5;stroke:#000000;stroke-linejoin:miter;stroke-width:0.079261;\"/>\r\n   </g>\r\n   <g id=\"patch_217\">\r\n    <path clip-path=\"url(#p1e020dd2c8)\" d=\"M 247.021307 442.08 \r\nL 247.81392 442.08 \r\nL 247.81392 442.08 \r\nL 247.021307 442.08 \r\nz\r\n\" style=\"fill:#1f77b4;fill-opacity:0.5;stroke:#000000;stroke-linejoin:miter;stroke-width:0.079261;\"/>\r\n   </g>\r\n   <g id=\"patch_218\">\r\n    <path clip-path=\"url(#p1e020dd2c8)\" d=\"M 247.81392 442.08 \r\nL 248.606534 442.08 \r\nL 248.606534 442.08 \r\nL 247.81392 442.08 \r\nz\r\n\" style=\"fill:#1f77b4;fill-opacity:0.5;stroke:#000000;stroke-linejoin:miter;stroke-width:0.079261;\"/>\r\n   </g>\r\n   <g id=\"patch_219\">\r\n    <path clip-path=\"url(#p1e020dd2c8)\" d=\"M 248.606534 442.08 \r\nL 249.399148 442.08 \r\nL 249.399148 442.08 \r\nL 248.606534 442.08 \r\nz\r\n\" style=\"fill:#1f77b4;fill-opacity:0.5;stroke:#000000;stroke-linejoin:miter;stroke-width:0.079261;\"/>\r\n   </g>\r\n   <g id=\"patch_220\">\r\n    <path clip-path=\"url(#p1e020dd2c8)\" d=\"M 249.399148 442.08 \r\nL 250.191761 442.08 \r\nL 250.191761 442.08 \r\nL 249.399148 442.08 \r\nz\r\n\" style=\"fill:#1f77b4;fill-opacity:0.5;stroke:#000000;stroke-linejoin:miter;stroke-width:0.079261;\"/>\r\n   </g>\r\n   <g id=\"patch_221\">\r\n    <path clip-path=\"url(#p1e020dd2c8)\" d=\"M 250.191761 442.08 \r\nL 250.984375 442.08 \r\nL 250.984375 442.08 \r\nL 250.191761 442.08 \r\nz\r\n\" style=\"fill:#1f77b4;fill-opacity:0.5;stroke:#000000;stroke-linejoin:miter;stroke-width:0.079261;\"/>\r\n   </g>\r\n   <g id=\"patch_222\">\r\n    <path clip-path=\"url(#p1e020dd2c8)\" d=\"M 250.984375 442.08 \r\nL 251.776989 442.08 \r\nL 251.776989 442.08 \r\nL 250.984375 442.08 \r\nz\r\n\" style=\"fill:#1f77b4;fill-opacity:0.5;stroke:#000000;stroke-linejoin:miter;stroke-width:0.079261;\"/>\r\n   </g>\r\n   <g id=\"patch_223\">\r\n    <path clip-path=\"url(#p1e020dd2c8)\" d=\"M 251.776989 442.08 \r\nL 252.569602 442.08 \r\nL 252.569602 442.08 \r\nL 251.776989 442.08 \r\nz\r\n\" style=\"fill:#1f77b4;fill-opacity:0.5;stroke:#000000;stroke-linejoin:miter;stroke-width:0.079261;\"/>\r\n   </g>\r\n   <g id=\"patch_224\">\r\n    <path clip-path=\"url(#p1e020dd2c8)\" d=\"M 252.569602 442.08 \r\nL 253.362216 442.08 \r\nL 253.362216 442.08 \r\nL 252.569602 442.08 \r\nz\r\n\" style=\"fill:#1f77b4;fill-opacity:0.5;stroke:#000000;stroke-linejoin:miter;stroke-width:0.079261;\"/>\r\n   </g>\r\n   <g id=\"patch_225\">\r\n    <path clip-path=\"url(#p1e020dd2c8)\" d=\"M 253.362216 442.08 \r\nL 254.15483 442.08 \r\nL 254.15483 442.08 \r\nL 253.362216 442.08 \r\nz\r\n\" style=\"fill:#1f77b4;fill-opacity:0.5;stroke:#000000;stroke-linejoin:miter;stroke-width:0.079261;\"/>\r\n   </g>\r\n   <g id=\"patch_226\">\r\n    <path clip-path=\"url(#p1e020dd2c8)\" d=\"M 254.15483 442.08 \r\nL 254.947443 442.08 \r\nL 254.947443 442.08 \r\nL 254.15483 442.08 \r\nz\r\n\" style=\"fill:#1f77b4;fill-opacity:0.5;stroke:#000000;stroke-linejoin:miter;stroke-width:0.079261;\"/>\r\n   </g>\r\n   <g id=\"patch_227\">\r\n    <path clip-path=\"url(#p1e020dd2c8)\" d=\"M 254.947443 442.08 \r\nL 255.740057 442.08 \r\nL 255.740057 442.08 \r\nL 254.947443 442.08 \r\nz\r\n\" style=\"fill:#1f77b4;fill-opacity:0.5;stroke:#000000;stroke-linejoin:miter;stroke-width:0.079261;\"/>\r\n   </g>\r\n   <g id=\"patch_228\">\r\n    <path clip-path=\"url(#p1e020dd2c8)\" d=\"M 255.740057 442.08 \r\nL 256.53267 442.08 \r\nL 256.53267 442.08 \r\nL 255.740057 442.08 \r\nz\r\n\" style=\"fill:#1f77b4;fill-opacity:0.5;stroke:#000000;stroke-linejoin:miter;stroke-width:0.079261;\"/>\r\n   </g>\r\n   <g id=\"patch_229\">\r\n    <path clip-path=\"url(#p1e020dd2c8)\" d=\"M 256.53267 442.08 \r\nL 257.325284 442.08 \r\nL 257.325284 442.08 \r\nL 256.53267 442.08 \r\nz\r\n\" style=\"fill:#1f77b4;fill-opacity:0.5;stroke:#000000;stroke-linejoin:miter;stroke-width:0.079261;\"/>\r\n   </g>\r\n   <g id=\"patch_230\">\r\n    <path clip-path=\"url(#p1e020dd2c8)\" d=\"M 257.325284 442.08 \r\nL 258.117898 442.08 \r\nL 258.117898 442.08 \r\nL 257.325284 442.08 \r\nz\r\n\" style=\"fill:#1f77b4;fill-opacity:0.5;stroke:#000000;stroke-linejoin:miter;stroke-width:0.079261;\"/>\r\n   </g>\r\n   <g id=\"patch_231\">\r\n    <path clip-path=\"url(#p1e020dd2c8)\" d=\"M 258.117898 442.08 \r\nL 258.910511 442.08 \r\nL 258.910511 442.08 \r\nL 258.117898 442.08 \r\nz\r\n\" style=\"fill:#1f77b4;fill-opacity:0.5;stroke:#000000;stroke-linejoin:miter;stroke-width:0.079261;\"/>\r\n   </g>\r\n   <g id=\"patch_232\">\r\n    <path clip-path=\"url(#p1e020dd2c8)\" d=\"M 258.910511 442.08 \r\nL 259.703125 442.08 \r\nL 259.703125 442.08 \r\nL 258.910511 442.08 \r\nz\r\n\" style=\"fill:#1f77b4;fill-opacity:0.5;stroke:#000000;stroke-linejoin:miter;stroke-width:0.079261;\"/>\r\n   </g>\r\n   <g id=\"patch_233\">\r\n    <path clip-path=\"url(#p1e020dd2c8)\" d=\"M 259.703125 442.08 \r\nL 260.495739 442.08 \r\nL 260.495739 442.08 \r\nL 259.703125 442.08 \r\nz\r\n\" style=\"fill:#1f77b4;fill-opacity:0.5;stroke:#000000;stroke-linejoin:miter;stroke-width:0.079261;\"/>\r\n   </g>\r\n   <g id=\"patch_234\">\r\n    <path clip-path=\"url(#p1e020dd2c8)\" d=\"M 260.495739 442.08 \r\nL 261.288352 442.08 \r\nL 261.288352 442.08 \r\nL 260.495739 442.08 \r\nz\r\n\" style=\"fill:#1f77b4;fill-opacity:0.5;stroke:#000000;stroke-linejoin:miter;stroke-width:0.079261;\"/>\r\n   </g>\r\n   <g id=\"patch_235\">\r\n    <path clip-path=\"url(#p1e020dd2c8)\" d=\"M 261.288352 442.08 \r\nL 262.080966 442.08 \r\nL 262.080966 442.08 \r\nL 261.288352 442.08 \r\nz\r\n\" style=\"fill:#1f77b4;fill-opacity:0.5;stroke:#000000;stroke-linejoin:miter;stroke-width:0.079261;\"/>\r\n   </g>\r\n   <g id=\"patch_236\">\r\n    <path clip-path=\"url(#p1e020dd2c8)\" d=\"M 262.080966 442.08 \r\nL 262.87358 442.08 \r\nL 262.87358 442.08 \r\nL 262.080966 442.08 \r\nz\r\n\" style=\"fill:#1f77b4;fill-opacity:0.5;stroke:#000000;stroke-linejoin:miter;stroke-width:0.079261;\"/>\r\n   </g>\r\n   <g id=\"patch_237\">\r\n    <path clip-path=\"url(#p1e020dd2c8)\" d=\"M 262.87358 442.08 \r\nL 263.666193 442.08 \r\nL 263.666193 442.08 \r\nL 262.87358 442.08 \r\nz\r\n\" style=\"fill:#1f77b4;fill-opacity:0.5;stroke:#000000;stroke-linejoin:miter;stroke-width:0.079261;\"/>\r\n   </g>\r\n   <g id=\"patch_238\">\r\n    <path clip-path=\"url(#p1e020dd2c8)\" d=\"M 263.666193 442.08 \r\nL 264.458807 442.08 \r\nL 264.458807 442.08 \r\nL 263.666193 442.08 \r\nz\r\n\" style=\"fill:#1f77b4;fill-opacity:0.5;stroke:#000000;stroke-linejoin:miter;stroke-width:0.079261;\"/>\r\n   </g>\r\n   <g id=\"patch_239\">\r\n    <path clip-path=\"url(#p1e020dd2c8)\" d=\"M 264.458807 442.08 \r\nL 265.25142 442.08 \r\nL 265.25142 442.08 \r\nL 264.458807 442.08 \r\nz\r\n\" style=\"fill:#1f77b4;fill-opacity:0.5;stroke:#000000;stroke-linejoin:miter;stroke-width:0.079261;\"/>\r\n   </g>\r\n   <g id=\"patch_240\">\r\n    <path clip-path=\"url(#p1e020dd2c8)\" d=\"M 265.25142 442.08 \r\nL 266.044034 442.08 \r\nL 266.044034 442.08 \r\nL 265.25142 442.08 \r\nz\r\n\" style=\"fill:#1f77b4;fill-opacity:0.5;stroke:#000000;stroke-linejoin:miter;stroke-width:0.079261;\"/>\r\n   </g>\r\n   <g id=\"patch_241\">\r\n    <path clip-path=\"url(#p1e020dd2c8)\" d=\"M 266.044034 442.08 \r\nL 266.836648 442.08 \r\nL 266.836648 442.08 \r\nL 266.044034 442.08 \r\nz\r\n\" style=\"fill:#1f77b4;fill-opacity:0.5;stroke:#000000;stroke-linejoin:miter;stroke-width:0.079261;\"/>\r\n   </g>\r\n   <g id=\"patch_242\">\r\n    <path clip-path=\"url(#p1e020dd2c8)\" d=\"M 266.836648 442.08 \r\nL 267.629261 442.08 \r\nL 267.629261 441.516501 \r\nL 266.836648 441.516501 \r\nz\r\n\" style=\"fill:#1f77b4;fill-opacity:0.5;stroke:#000000;stroke-linejoin:miter;stroke-width:0.079261;\"/>\r\n   </g>\r\n   <g id=\"patch_243\">\r\n    <path clip-path=\"url(#p1e020dd2c8)\" d=\"M 267.629261 442.08 \r\nL 268.421875 442.08 \r\nL 268.421875 442.08 \r\nL 267.629261 442.08 \r\nz\r\n\" style=\"fill:#1f77b4;fill-opacity:0.5;stroke:#000000;stroke-linejoin:miter;stroke-width:0.079261;\"/>\r\n   </g>\r\n   <g id=\"patch_244\">\r\n    <path clip-path=\"url(#p1e020dd2c8)\" d=\"M 268.421875 442.08 \r\nL 269.214489 442.08 \r\nL 269.214489 442.08 \r\nL 268.421875 442.08 \r\nz\r\n\" style=\"fill:#1f77b4;fill-opacity:0.5;stroke:#000000;stroke-linejoin:miter;stroke-width:0.079261;\"/>\r\n   </g>\r\n   <g id=\"patch_245\">\r\n    <path clip-path=\"url(#p1e020dd2c8)\" d=\"M 269.214489 442.08 \r\nL 270.007102 442.08 \r\nL 270.007102 442.08 \r\nL 269.214489 442.08 \r\nz\r\n\" style=\"fill:#1f77b4;fill-opacity:0.5;stroke:#000000;stroke-linejoin:miter;stroke-width:0.079261;\"/>\r\n   </g>\r\n   <g id=\"patch_246\">\r\n    <path clip-path=\"url(#p1e020dd2c8)\" d=\"M 270.007102 442.08 \r\nL 270.799716 442.08 \r\nL 270.799716 442.08 \r\nL 270.007102 442.08 \r\nz\r\n\" style=\"fill:#1f77b4;fill-opacity:0.5;stroke:#000000;stroke-linejoin:miter;stroke-width:0.079261;\"/>\r\n   </g>\r\n   <g id=\"patch_247\">\r\n    <path clip-path=\"url(#p1e020dd2c8)\" d=\"M 270.799716 442.08 \r\nL 271.59233 442.08 \r\nL 271.59233 442.08 \r\nL 270.799716 442.08 \r\nz\r\n\" style=\"fill:#1f77b4;fill-opacity:0.5;stroke:#000000;stroke-linejoin:miter;stroke-width:0.079261;\"/>\r\n   </g>\r\n   <g id=\"patch_248\">\r\n    <path clip-path=\"url(#p1e020dd2c8)\" d=\"M 271.59233 442.08 \r\nL 272.384943 442.08 \r\nL 272.384943 442.08 \r\nL 271.59233 442.08 \r\nz\r\n\" style=\"fill:#1f77b4;fill-opacity:0.5;stroke:#000000;stroke-linejoin:miter;stroke-width:0.079261;\"/>\r\n   </g>\r\n   <g id=\"patch_249\">\r\n    <path clip-path=\"url(#p1e020dd2c8)\" d=\"M 272.384943 442.08 \r\nL 273.177557 442.08 \r\nL 273.177557 442.08 \r\nL 272.384943 442.08 \r\nz\r\n\" style=\"fill:#1f77b4;fill-opacity:0.5;stroke:#000000;stroke-linejoin:miter;stroke-width:0.079261;\"/>\r\n   </g>\r\n   <g id=\"patch_250\">\r\n    <path clip-path=\"url(#p1e020dd2c8)\" d=\"M 273.177557 442.08 \r\nL 273.97017 442.08 \r\nL 273.97017 442.08 \r\nL 273.177557 442.08 \r\nz\r\n\" style=\"fill:#1f77b4;fill-opacity:0.5;stroke:#000000;stroke-linejoin:miter;stroke-width:0.079261;\"/>\r\n   </g>\r\n   <g id=\"patch_251\">\r\n    <path clip-path=\"url(#p1e020dd2c8)\" d=\"M 273.97017 442.08 \r\nL 274.762784 442.08 \r\nL 274.762784 442.08 \r\nL 273.97017 442.08 \r\nz\r\n\" style=\"fill:#1f77b4;fill-opacity:0.5;stroke:#000000;stroke-linejoin:miter;stroke-width:0.079261;\"/>\r\n   </g>\r\n   <g id=\"patch_252\">\r\n    <path clip-path=\"url(#p1e020dd2c8)\" d=\"M 274.762784 442.08 \r\nL 275.555398 442.08 \r\nL 275.555398 442.08 \r\nL 274.762784 442.08 \r\nz\r\n\" style=\"fill:#1f77b4;fill-opacity:0.5;stroke:#000000;stroke-linejoin:miter;stroke-width:0.079261;\"/>\r\n   </g>\r\n   <g id=\"patch_253\">\r\n    <path clip-path=\"url(#p1e020dd2c8)\" d=\"M 275.555398 442.08 \r\nL 276.348011 442.08 \r\nL 276.348011 442.08 \r\nL 275.555398 442.08 \r\nz\r\n\" style=\"fill:#1f77b4;fill-opacity:0.5;stroke:#000000;stroke-linejoin:miter;stroke-width:0.079261;\"/>\r\n   </g>\r\n   <g id=\"patch_254\">\r\n    <path clip-path=\"url(#p1e020dd2c8)\" d=\"M 276.348011 442.08 \r\nL 277.140625 442.08 \r\nL 277.140625 442.08 \r\nL 276.348011 442.08 \r\nz\r\n\" style=\"fill:#1f77b4;fill-opacity:0.5;stroke:#000000;stroke-linejoin:miter;stroke-width:0.079261;\"/>\r\n   </g>\r\n   <g id=\"patch_255\">\r\n    <path clip-path=\"url(#p1e020dd2c8)\" d=\"M 277.140625 442.08 \r\nL 277.933239 442.08 \r\nL 277.933239 442.08 \r\nL 277.140625 442.08 \r\nz\r\n\" style=\"fill:#1f77b4;fill-opacity:0.5;stroke:#000000;stroke-linejoin:miter;stroke-width:0.079261;\"/>\r\n   </g>\r\n   <g id=\"patch_256\">\r\n    <path clip-path=\"url(#p1e020dd2c8)\" d=\"M 277.933239 442.08 \r\nL 278.725852 442.08 \r\nL 278.725852 442.08 \r\nL 277.933239 442.08 \r\nz\r\n\" style=\"fill:#1f77b4;fill-opacity:0.5;stroke:#000000;stroke-linejoin:miter;stroke-width:0.079261;\"/>\r\n   </g>\r\n   <g id=\"patch_257\">\r\n    <path clip-path=\"url(#p1e020dd2c8)\" d=\"M 278.725852 442.08 \r\nL 279.518466 442.08 \r\nL 279.518466 442.08 \r\nL 278.725852 442.08 \r\nz\r\n\" style=\"fill:#1f77b4;fill-opacity:0.5;stroke:#000000;stroke-linejoin:miter;stroke-width:0.079261;\"/>\r\n   </g>\r\n   <g id=\"patch_258\">\r\n    <path clip-path=\"url(#p1e020dd2c8)\" d=\"M 279.518466 442.08 \r\nL 280.31108 442.08 \r\nL 280.31108 442.08 \r\nL 279.518466 442.08 \r\nz\r\n\" style=\"fill:#1f77b4;fill-opacity:0.5;stroke:#000000;stroke-linejoin:miter;stroke-width:0.079261;\"/>\r\n   </g>\r\n   <g id=\"patch_259\">\r\n    <path clip-path=\"url(#p1e020dd2c8)\" d=\"M 280.31108 442.08 \r\nL 281.103693 442.08 \r\nL 281.103693 442.08 \r\nL 280.31108 442.08 \r\nz\r\n\" style=\"fill:#1f77b4;fill-opacity:0.5;stroke:#000000;stroke-linejoin:miter;stroke-width:0.079261;\"/>\r\n   </g>\r\n   <g id=\"patch_260\">\r\n    <path clip-path=\"url(#p1e020dd2c8)\" d=\"M 281.103693 442.08 \r\nL 281.896307 442.08 \r\nL 281.896307 442.08 \r\nL 281.103693 442.08 \r\nz\r\n\" style=\"fill:#1f77b4;fill-opacity:0.5;stroke:#000000;stroke-linejoin:miter;stroke-width:0.079261;\"/>\r\n   </g>\r\n   <g id=\"patch_261\">\r\n    <path clip-path=\"url(#p1e020dd2c8)\" d=\"M 281.896307 442.08 \r\nL 282.68892 442.08 \r\nL 282.68892 442.08 \r\nL 281.896307 442.08 \r\nz\r\n\" style=\"fill:#1f77b4;fill-opacity:0.5;stroke:#000000;stroke-linejoin:miter;stroke-width:0.079261;\"/>\r\n   </g>\r\n   <g id=\"patch_262\">\r\n    <path clip-path=\"url(#p1e020dd2c8)\" d=\"M 282.68892 442.08 \r\nL 283.481534 442.08 \r\nL 283.481534 442.08 \r\nL 282.68892 442.08 \r\nz\r\n\" style=\"fill:#1f77b4;fill-opacity:0.5;stroke:#000000;stroke-linejoin:miter;stroke-width:0.079261;\"/>\r\n   </g>\r\n   <g id=\"patch_263\">\r\n    <path clip-path=\"url(#p1e020dd2c8)\" d=\"M 283.481534 442.08 \r\nL 284.274148 442.08 \r\nL 284.274148 442.08 \r\nL 283.481534 442.08 \r\nz\r\n\" style=\"fill:#1f77b4;fill-opacity:0.5;stroke:#000000;stroke-linejoin:miter;stroke-width:0.079261;\"/>\r\n   </g>\r\n   <g id=\"patch_264\">\r\n    <path clip-path=\"url(#p1e020dd2c8)\" d=\"M 284.274148 442.08 \r\nL 285.066761 442.08 \r\nL 285.066761 442.08 \r\nL 284.274148 442.08 \r\nz\r\n\" style=\"fill:#1f77b4;fill-opacity:0.5;stroke:#000000;stroke-linejoin:miter;stroke-width:0.079261;\"/>\r\n   </g>\r\n   <g id=\"patch_265\">\r\n    <path clip-path=\"url(#p1e020dd2c8)\" d=\"M 285.066761 442.08 \r\nL 285.859375 442.08 \r\nL 285.859375 442.08 \r\nL 285.066761 442.08 \r\nz\r\n\" style=\"fill:#1f77b4;fill-opacity:0.5;stroke:#000000;stroke-linejoin:miter;stroke-width:0.079261;\"/>\r\n   </g>\r\n   <g id=\"patch_266\">\r\n    <path clip-path=\"url(#p1e020dd2c8)\" d=\"M 285.859375 442.08 \r\nL 286.651989 442.08 \r\nL 286.651989 442.08 \r\nL 285.859375 442.08 \r\nz\r\n\" style=\"fill:#1f77b4;fill-opacity:0.5;stroke:#000000;stroke-linejoin:miter;stroke-width:0.079261;\"/>\r\n   </g>\r\n   <g id=\"patch_267\">\r\n    <path clip-path=\"url(#p1e020dd2c8)\" d=\"M 286.651989 442.08 \r\nL 287.444602 442.08 \r\nL 287.444602 442.08 \r\nL 286.651989 442.08 \r\nz\r\n\" style=\"fill:#1f77b4;fill-opacity:0.5;stroke:#000000;stroke-linejoin:miter;stroke-width:0.079261;\"/>\r\n   </g>\r\n   <g id=\"patch_268\">\r\n    <path clip-path=\"url(#p1e020dd2c8)\" d=\"M 287.444602 442.08 \r\nL 288.237216 442.08 \r\nL 288.237216 442.08 \r\nL 287.444602 442.08 \r\nz\r\n\" style=\"fill:#1f77b4;fill-opacity:0.5;stroke:#000000;stroke-linejoin:miter;stroke-width:0.079261;\"/>\r\n   </g>\r\n   <g id=\"patch_269\">\r\n    <path clip-path=\"url(#p1e020dd2c8)\" d=\"M 288.237216 442.08 \r\nL 289.02983 442.08 \r\nL 289.02983 442.08 \r\nL 288.237216 442.08 \r\nz\r\n\" style=\"fill:#1f77b4;fill-opacity:0.5;stroke:#000000;stroke-linejoin:miter;stroke-width:0.079261;\"/>\r\n   </g>\r\n   <g id=\"patch_270\">\r\n    <path clip-path=\"url(#p1e020dd2c8)\" d=\"M 289.02983 442.08 \r\nL 289.822443 442.08 \r\nL 289.822443 441.516501 \r\nL 289.02983 441.516501 \r\nz\r\n\" style=\"fill:#1f77b4;fill-opacity:0.5;stroke:#000000;stroke-linejoin:miter;stroke-width:0.079261;\"/>\r\n   </g>\r\n   <g id=\"patch_271\">\r\n    <path clip-path=\"url(#p1e020dd2c8)\" d=\"M 289.822443 442.08 \r\nL 290.615057 442.08 \r\nL 290.615057 442.08 \r\nL 289.822443 442.08 \r\nz\r\n\" style=\"fill:#1f77b4;fill-opacity:0.5;stroke:#000000;stroke-linejoin:miter;stroke-width:0.079261;\"/>\r\n   </g>\r\n   <g id=\"patch_272\">\r\n    <path clip-path=\"url(#p1e020dd2c8)\" d=\"M 290.615057 442.08 \r\nL 291.40767 442.08 \r\nL 291.40767 442.08 \r\nL 290.615057 442.08 \r\nz\r\n\" style=\"fill:#1f77b4;fill-opacity:0.5;stroke:#000000;stroke-linejoin:miter;stroke-width:0.079261;\"/>\r\n   </g>\r\n   <g id=\"patch_273\">\r\n    <path clip-path=\"url(#p1e020dd2c8)\" d=\"M 291.40767 442.08 \r\nL 292.200284 442.08 \r\nL 292.200284 442.08 \r\nL 291.40767 442.08 \r\nz\r\n\" style=\"fill:#1f77b4;fill-opacity:0.5;stroke:#000000;stroke-linejoin:miter;stroke-width:0.079261;\"/>\r\n   </g>\r\n   <g id=\"patch_274\">\r\n    <path clip-path=\"url(#p1e020dd2c8)\" d=\"M 292.200284 442.08 \r\nL 292.992898 442.08 \r\nL 292.992898 442.08 \r\nL 292.200284 442.08 \r\nz\r\n\" style=\"fill:#1f77b4;fill-opacity:0.5;stroke:#000000;stroke-linejoin:miter;stroke-width:0.079261;\"/>\r\n   </g>\r\n   <g id=\"patch_275\">\r\n    <path clip-path=\"url(#p1e020dd2c8)\" d=\"M 292.992898 442.08 \r\nL 293.785511 442.08 \r\nL 293.785511 442.08 \r\nL 292.992898 442.08 \r\nz\r\n\" style=\"fill:#1f77b4;fill-opacity:0.5;stroke:#000000;stroke-linejoin:miter;stroke-width:0.079261;\"/>\r\n   </g>\r\n   <g id=\"patch_276\">\r\n    <path clip-path=\"url(#p1e020dd2c8)\" d=\"M 293.785511 442.08 \r\nL 294.578125 442.08 \r\nL 294.578125 442.08 \r\nL 293.785511 442.08 \r\nz\r\n\" style=\"fill:#1f77b4;fill-opacity:0.5;stroke:#000000;stroke-linejoin:miter;stroke-width:0.079261;\"/>\r\n   </g>\r\n   <g id=\"patch_277\">\r\n    <path clip-path=\"url(#p1e020dd2c8)\" d=\"M 294.578125 442.08 \r\nL 295.370739 442.08 \r\nL 295.370739 442.08 \r\nL 294.578125 442.08 \r\nz\r\n\" style=\"fill:#1f77b4;fill-opacity:0.5;stroke:#000000;stroke-linejoin:miter;stroke-width:0.079261;\"/>\r\n   </g>\r\n   <g id=\"patch_278\">\r\n    <path clip-path=\"url(#p1e020dd2c8)\" d=\"M 295.370739 442.08 \r\nL 296.163352 442.08 \r\nL 296.163352 442.08 \r\nL 295.370739 442.08 \r\nz\r\n\" style=\"fill:#1f77b4;fill-opacity:0.5;stroke:#000000;stroke-linejoin:miter;stroke-width:0.079261;\"/>\r\n   </g>\r\n   <g id=\"patch_279\">\r\n    <path clip-path=\"url(#p1e020dd2c8)\" d=\"M 296.163352 442.08 \r\nL 296.955966 442.08 \r\nL 296.955966 442.08 \r\nL 296.163352 442.08 \r\nz\r\n\" style=\"fill:#1f77b4;fill-opacity:0.5;stroke:#000000;stroke-linejoin:miter;stroke-width:0.079261;\"/>\r\n   </g>\r\n   <g id=\"patch_280\">\r\n    <path clip-path=\"url(#p1e020dd2c8)\" d=\"M 296.955966 442.08 \r\nL 297.74858 442.08 \r\nL 297.74858 442.08 \r\nL 296.955966 442.08 \r\nz\r\n\" style=\"fill:#1f77b4;fill-opacity:0.5;stroke:#000000;stroke-linejoin:miter;stroke-width:0.079261;\"/>\r\n   </g>\r\n   <g id=\"patch_281\">\r\n    <path clip-path=\"url(#p1e020dd2c8)\" d=\"M 297.74858 442.08 \r\nL 298.541193 442.08 \r\nL 298.541193 442.08 \r\nL 297.74858 442.08 \r\nz\r\n\" style=\"fill:#1f77b4;fill-opacity:0.5;stroke:#000000;stroke-linejoin:miter;stroke-width:0.079261;\"/>\r\n   </g>\r\n   <g id=\"patch_282\">\r\n    <path clip-path=\"url(#p1e020dd2c8)\" d=\"M 298.541193 442.08 \r\nL 299.333807 442.08 \r\nL 299.333807 442.08 \r\nL 298.541193 442.08 \r\nz\r\n\" style=\"fill:#1f77b4;fill-opacity:0.5;stroke:#000000;stroke-linejoin:miter;stroke-width:0.079261;\"/>\r\n   </g>\r\n   <g id=\"patch_283\">\r\n    <path clip-path=\"url(#p1e020dd2c8)\" d=\"M 299.333807 442.08 \r\nL 300.12642 442.08 \r\nL 300.12642 442.08 \r\nL 299.333807 442.08 \r\nz\r\n\" style=\"fill:#1f77b4;fill-opacity:0.5;stroke:#000000;stroke-linejoin:miter;stroke-width:0.079261;\"/>\r\n   </g>\r\n   <g id=\"patch_284\">\r\n    <path clip-path=\"url(#p1e020dd2c8)\" d=\"M 300.12642 442.08 \r\nL 300.919034 442.08 \r\nL 300.919034 442.08 \r\nL 300.12642 442.08 \r\nz\r\n\" style=\"fill:#1f77b4;fill-opacity:0.5;stroke:#000000;stroke-linejoin:miter;stroke-width:0.079261;\"/>\r\n   </g>\r\n   <g id=\"patch_285\">\r\n    <path clip-path=\"url(#p1e020dd2c8)\" d=\"M 300.919034 442.08 \r\nL 301.711648 442.08 \r\nL 301.711648 442.08 \r\nL 300.919034 442.08 \r\nz\r\n\" style=\"fill:#1f77b4;fill-opacity:0.5;stroke:#000000;stroke-linejoin:miter;stroke-width:0.079261;\"/>\r\n   </g>\r\n   <g id=\"patch_286\">\r\n    <path clip-path=\"url(#p1e020dd2c8)\" d=\"M 301.711648 442.08 \r\nL 302.504261 442.08 \r\nL 302.504261 442.08 \r\nL 301.711648 442.08 \r\nz\r\n\" style=\"fill:#1f77b4;fill-opacity:0.5;stroke:#000000;stroke-linejoin:miter;stroke-width:0.079261;\"/>\r\n   </g>\r\n   <g id=\"patch_287\">\r\n    <path clip-path=\"url(#p1e020dd2c8)\" d=\"M 302.504261 442.08 \r\nL 303.296875 442.08 \r\nL 303.296875 442.08 \r\nL 302.504261 442.08 \r\nz\r\n\" style=\"fill:#1f77b4;fill-opacity:0.5;stroke:#000000;stroke-linejoin:miter;stroke-width:0.079261;\"/>\r\n   </g>\r\n   <g id=\"patch_288\">\r\n    <path clip-path=\"url(#p1e020dd2c8)\" d=\"M 303.296875 442.08 \r\nL 304.089489 442.08 \r\nL 304.089489 442.08 \r\nL 303.296875 442.08 \r\nz\r\n\" style=\"fill:#1f77b4;fill-opacity:0.5;stroke:#000000;stroke-linejoin:miter;stroke-width:0.079261;\"/>\r\n   </g>\r\n   <g id=\"patch_289\">\r\n    <path clip-path=\"url(#p1e020dd2c8)\" d=\"M 304.089489 442.08 \r\nL 304.882102 442.08 \r\nL 304.882102 442.08 \r\nL 304.089489 442.08 \r\nz\r\n\" style=\"fill:#1f77b4;fill-opacity:0.5;stroke:#000000;stroke-linejoin:miter;stroke-width:0.079261;\"/>\r\n   </g>\r\n   <g id=\"patch_290\">\r\n    <path clip-path=\"url(#p1e020dd2c8)\" d=\"M 304.882102 442.08 \r\nL 305.674716 442.08 \r\nL 305.674716 442.08 \r\nL 304.882102 442.08 \r\nz\r\n\" style=\"fill:#1f77b4;fill-opacity:0.5;stroke:#000000;stroke-linejoin:miter;stroke-width:0.079261;\"/>\r\n   </g>\r\n   <g id=\"patch_291\">\r\n    <path clip-path=\"url(#p1e020dd2c8)\" d=\"M 305.674716 442.08 \r\nL 306.46733 442.08 \r\nL 306.46733 442.08 \r\nL 305.674716 442.08 \r\nz\r\n\" style=\"fill:#1f77b4;fill-opacity:0.5;stroke:#000000;stroke-linejoin:miter;stroke-width:0.079261;\"/>\r\n   </g>\r\n   <g id=\"patch_292\">\r\n    <path clip-path=\"url(#p1e020dd2c8)\" d=\"M 306.46733 442.08 \r\nL 307.259943 442.08 \r\nL 307.259943 442.08 \r\nL 306.46733 442.08 \r\nz\r\n\" style=\"fill:#1f77b4;fill-opacity:0.5;stroke:#000000;stroke-linejoin:miter;stroke-width:0.079261;\"/>\r\n   </g>\r\n   <g id=\"patch_293\">\r\n    <path clip-path=\"url(#p1e020dd2c8)\" d=\"M 307.259943 442.08 \r\nL 308.052557 442.08 \r\nL 308.052557 442.08 \r\nL 307.259943 442.08 \r\nz\r\n\" style=\"fill:#1f77b4;fill-opacity:0.5;stroke:#000000;stroke-linejoin:miter;stroke-width:0.079261;\"/>\r\n   </g>\r\n   <g id=\"patch_294\">\r\n    <path clip-path=\"url(#p1e020dd2c8)\" d=\"M 308.052557 442.08 \r\nL 308.84517 442.08 \r\nL 308.84517 442.08 \r\nL 308.052557 442.08 \r\nz\r\n\" style=\"fill:#1f77b4;fill-opacity:0.5;stroke:#000000;stroke-linejoin:miter;stroke-width:0.079261;\"/>\r\n   </g>\r\n   <g id=\"patch_295\">\r\n    <path clip-path=\"url(#p1e020dd2c8)\" d=\"M 308.84517 442.08 \r\nL 309.637784 442.08 \r\nL 309.637784 442.08 \r\nL 308.84517 442.08 \r\nz\r\n\" style=\"fill:#1f77b4;fill-opacity:0.5;stroke:#000000;stroke-linejoin:miter;stroke-width:0.079261;\"/>\r\n   </g>\r\n   <g id=\"patch_296\">\r\n    <path clip-path=\"url(#p1e020dd2c8)\" d=\"M 309.637784 442.08 \r\nL 310.430398 442.08 \r\nL 310.430398 442.08 \r\nL 309.637784 442.08 \r\nz\r\n\" style=\"fill:#1f77b4;fill-opacity:0.5;stroke:#000000;stroke-linejoin:miter;stroke-width:0.079261;\"/>\r\n   </g>\r\n   <g id=\"patch_297\">\r\n    <path clip-path=\"url(#p1e020dd2c8)\" d=\"M 310.430398 442.08 \r\nL 311.223011 442.08 \r\nL 311.223011 442.08 \r\nL 310.430398 442.08 \r\nz\r\n\" style=\"fill:#1f77b4;fill-opacity:0.5;stroke:#000000;stroke-linejoin:miter;stroke-width:0.079261;\"/>\r\n   </g>\r\n   <g id=\"patch_298\">\r\n    <path clip-path=\"url(#p1e020dd2c8)\" d=\"M 311.223011 442.08 \r\nL 312.015625 442.08 \r\nL 312.015625 442.08 \r\nL 311.223011 442.08 \r\nz\r\n\" style=\"fill:#1f77b4;fill-opacity:0.5;stroke:#000000;stroke-linejoin:miter;stroke-width:0.079261;\"/>\r\n   </g>\r\n   <g id=\"patch_299\">\r\n    <path clip-path=\"url(#p1e020dd2c8)\" d=\"M 312.015625 442.08 \r\nL 312.808239 442.08 \r\nL 312.808239 442.08 \r\nL 312.015625 442.08 \r\nz\r\n\" style=\"fill:#1f77b4;fill-opacity:0.5;stroke:#000000;stroke-linejoin:miter;stroke-width:0.079261;\"/>\r\n   </g>\r\n   <g id=\"patch_300\">\r\n    <path clip-path=\"url(#p1e020dd2c8)\" d=\"M 312.808239 442.08 \r\nL 313.600852 442.08 \r\nL 313.600852 442.08 \r\nL 312.808239 442.08 \r\nz\r\n\" style=\"fill:#1f77b4;fill-opacity:0.5;stroke:#000000;stroke-linejoin:miter;stroke-width:0.079261;\"/>\r\n   </g>\r\n   <g id=\"patch_301\">\r\n    <path clip-path=\"url(#p1e020dd2c8)\" d=\"M 313.600852 442.08 \r\nL 314.393466 442.08 \r\nL 314.393466 442.08 \r\nL 313.600852 442.08 \r\nz\r\n\" style=\"fill:#1f77b4;fill-opacity:0.5;stroke:#000000;stroke-linejoin:miter;stroke-width:0.079261;\"/>\r\n   </g>\r\n   <g id=\"patch_302\">\r\n    <path clip-path=\"url(#p1e020dd2c8)\" d=\"M 314.393466 442.08 \r\nL 315.18608 442.08 \r\nL 315.18608 442.08 \r\nL 314.393466 442.08 \r\nz\r\n\" style=\"fill:#1f77b4;fill-opacity:0.5;stroke:#000000;stroke-linejoin:miter;stroke-width:0.079261;\"/>\r\n   </g>\r\n   <g id=\"patch_303\">\r\n    <path clip-path=\"url(#p1e020dd2c8)\" d=\"M 315.18608 442.08 \r\nL 315.978693 442.08 \r\nL 315.978693 442.08 \r\nL 315.18608 442.08 \r\nz\r\n\" style=\"fill:#1f77b4;fill-opacity:0.5;stroke:#000000;stroke-linejoin:miter;stroke-width:0.079261;\"/>\r\n   </g>\r\n   <g id=\"patch_304\">\r\n    <path clip-path=\"url(#p1e020dd2c8)\" d=\"M 315.978693 442.08 \r\nL 316.771307 442.08 \r\nL 316.771307 442.08 \r\nL 315.978693 442.08 \r\nz\r\n\" style=\"fill:#1f77b4;fill-opacity:0.5;stroke:#000000;stroke-linejoin:miter;stroke-width:0.079261;\"/>\r\n   </g>\r\n   <g id=\"patch_305\">\r\n    <path clip-path=\"url(#p1e020dd2c8)\" d=\"M 316.771307 442.08 \r\nL 317.56392 442.08 \r\nL 317.56392 442.08 \r\nL 316.771307 442.08 \r\nz\r\n\" style=\"fill:#1f77b4;fill-opacity:0.5;stroke:#000000;stroke-linejoin:miter;stroke-width:0.079261;\"/>\r\n   </g>\r\n   <g id=\"patch_306\">\r\n    <path clip-path=\"url(#p1e020dd2c8)\" d=\"M 317.56392 442.08 \r\nL 318.356534 442.08 \r\nL 318.356534 442.08 \r\nL 317.56392 442.08 \r\nz\r\n\" style=\"fill:#1f77b4;fill-opacity:0.5;stroke:#000000;stroke-linejoin:miter;stroke-width:0.079261;\"/>\r\n   </g>\r\n   <g id=\"patch_307\">\r\n    <path clip-path=\"url(#p1e020dd2c8)\" d=\"M 318.356534 442.08 \r\nL 319.149148 442.08 \r\nL 319.149148 442.08 \r\nL 318.356534 442.08 \r\nz\r\n\" style=\"fill:#1f77b4;fill-opacity:0.5;stroke:#000000;stroke-linejoin:miter;stroke-width:0.079261;\"/>\r\n   </g>\r\n   <g id=\"patch_308\">\r\n    <path clip-path=\"url(#p1e020dd2c8)\" d=\"M 319.149148 442.08 \r\nL 319.941761 442.08 \r\nL 319.941761 442.08 \r\nL 319.149148 442.08 \r\nz\r\n\" style=\"fill:#1f77b4;fill-opacity:0.5;stroke:#000000;stroke-linejoin:miter;stroke-width:0.079261;\"/>\r\n   </g>\r\n   <g id=\"patch_309\">\r\n    <path clip-path=\"url(#p1e020dd2c8)\" d=\"M 319.941761 442.08 \r\nL 320.734375 442.08 \r\nL 320.734375 442.08 \r\nL 319.941761 442.08 \r\nz\r\n\" style=\"fill:#1f77b4;fill-opacity:0.5;stroke:#000000;stroke-linejoin:miter;stroke-width:0.079261;\"/>\r\n   </g>\r\n   <g id=\"patch_310\">\r\n    <path clip-path=\"url(#p1e020dd2c8)\" d=\"M 320.734375 442.08 \r\nL 321.526989 442.08 \r\nL 321.526989 442.08 \r\nL 320.734375 442.08 \r\nz\r\n\" style=\"fill:#1f77b4;fill-opacity:0.5;stroke:#000000;stroke-linejoin:miter;stroke-width:0.079261;\"/>\r\n   </g>\r\n   <g id=\"patch_311\">\r\n    <path clip-path=\"url(#p1e020dd2c8)\" d=\"M 321.526989 442.08 \r\nL 322.319602 442.08 \r\nL 322.319602 442.08 \r\nL 321.526989 442.08 \r\nz\r\n\" style=\"fill:#1f77b4;fill-opacity:0.5;stroke:#000000;stroke-linejoin:miter;stroke-width:0.079261;\"/>\r\n   </g>\r\n   <g id=\"patch_312\">\r\n    <path clip-path=\"url(#p1e020dd2c8)\" d=\"M 322.319602 442.08 \r\nL 323.112216 442.08 \r\nL 323.112216 442.08 \r\nL 322.319602 442.08 \r\nz\r\n\" style=\"fill:#1f77b4;fill-opacity:0.5;stroke:#000000;stroke-linejoin:miter;stroke-width:0.079261;\"/>\r\n   </g>\r\n   <g id=\"patch_313\">\r\n    <path clip-path=\"url(#p1e020dd2c8)\" d=\"M 323.112216 442.08 \r\nL 323.90483 442.08 \r\nL 323.90483 442.08 \r\nL 323.112216 442.08 \r\nz\r\n\" style=\"fill:#1f77b4;fill-opacity:0.5;stroke:#000000;stroke-linejoin:miter;stroke-width:0.079261;\"/>\r\n   </g>\r\n   <g id=\"patch_314\">\r\n    <path clip-path=\"url(#p1e020dd2c8)\" d=\"M 323.90483 442.08 \r\nL 324.697443 442.08 \r\nL 324.697443 442.08 \r\nL 323.90483 442.08 \r\nz\r\n\" style=\"fill:#1f77b4;fill-opacity:0.5;stroke:#000000;stroke-linejoin:miter;stroke-width:0.079261;\"/>\r\n   </g>\r\n   <g id=\"patch_315\">\r\n    <path clip-path=\"url(#p1e020dd2c8)\" d=\"M 324.697443 442.08 \r\nL 325.490057 442.08 \r\nL 325.490057 442.08 \r\nL 324.697443 442.08 \r\nz\r\n\" style=\"fill:#1f77b4;fill-opacity:0.5;stroke:#000000;stroke-linejoin:miter;stroke-width:0.079261;\"/>\r\n   </g>\r\n   <g id=\"patch_316\">\r\n    <path clip-path=\"url(#p1e020dd2c8)\" d=\"M 325.490057 442.08 \r\nL 326.28267 442.08 \r\nL 326.28267 442.08 \r\nL 325.490057 442.08 \r\nz\r\n\" style=\"fill:#1f77b4;fill-opacity:0.5;stroke:#000000;stroke-linejoin:miter;stroke-width:0.079261;\"/>\r\n   </g>\r\n   <g id=\"patch_317\">\r\n    <path clip-path=\"url(#p1e020dd2c8)\" d=\"M 326.28267 442.08 \r\nL 327.075284 442.08 \r\nL 327.075284 442.08 \r\nL 326.28267 442.08 \r\nz\r\n\" style=\"fill:#1f77b4;fill-opacity:0.5;stroke:#000000;stroke-linejoin:miter;stroke-width:0.079261;\"/>\r\n   </g>\r\n   <g id=\"patch_318\">\r\n    <path clip-path=\"url(#p1e020dd2c8)\" d=\"M 327.075284 442.08 \r\nL 327.867898 442.08 \r\nL 327.867898 442.08 \r\nL 327.075284 442.08 \r\nz\r\n\" style=\"fill:#1f77b4;fill-opacity:0.5;stroke:#000000;stroke-linejoin:miter;stroke-width:0.079261;\"/>\r\n   </g>\r\n   <g id=\"patch_319\">\r\n    <path clip-path=\"url(#p1e020dd2c8)\" d=\"M 327.867898 442.08 \r\nL 328.660511 442.08 \r\nL 328.660511 442.08 \r\nL 327.867898 442.08 \r\nz\r\n\" style=\"fill:#1f77b4;fill-opacity:0.5;stroke:#000000;stroke-linejoin:miter;stroke-width:0.079261;\"/>\r\n   </g>\r\n   <g id=\"patch_320\">\r\n    <path clip-path=\"url(#p1e020dd2c8)\" d=\"M 328.660511 442.08 \r\nL 329.453125 442.08 \r\nL 329.453125 442.08 \r\nL 328.660511 442.08 \r\nz\r\n\" style=\"fill:#1f77b4;fill-opacity:0.5;stroke:#000000;stroke-linejoin:miter;stroke-width:0.079261;\"/>\r\n   </g>\r\n   <g id=\"patch_321\">\r\n    <path clip-path=\"url(#p1e020dd2c8)\" d=\"M 329.453125 442.08 \r\nL 330.245739 442.08 \r\nL 330.245739 442.08 \r\nL 329.453125 442.08 \r\nz\r\n\" style=\"fill:#1f77b4;fill-opacity:0.5;stroke:#000000;stroke-linejoin:miter;stroke-width:0.079261;\"/>\r\n   </g>\r\n   <g id=\"patch_322\">\r\n    <path clip-path=\"url(#p1e020dd2c8)\" d=\"M 330.245739 442.08 \r\nL 331.038352 442.08 \r\nL 331.038352 442.08 \r\nL 330.245739 442.08 \r\nz\r\n\" style=\"fill:#1f77b4;fill-opacity:0.5;stroke:#000000;stroke-linejoin:miter;stroke-width:0.079261;\"/>\r\n   </g>\r\n   <g id=\"patch_323\">\r\n    <path clip-path=\"url(#p1e020dd2c8)\" d=\"M 331.038352 442.08 \r\nL 331.830966 442.08 \r\nL 331.830966 442.08 \r\nL 331.038352 442.08 \r\nz\r\n\" style=\"fill:#1f77b4;fill-opacity:0.5;stroke:#000000;stroke-linejoin:miter;stroke-width:0.079261;\"/>\r\n   </g>\r\n   <g id=\"patch_324\">\r\n    <path clip-path=\"url(#p1e020dd2c8)\" d=\"M 331.830966 442.08 \r\nL 332.62358 442.08 \r\nL 332.62358 442.08 \r\nL 331.830966 442.08 \r\nz\r\n\" style=\"fill:#1f77b4;fill-opacity:0.5;stroke:#000000;stroke-linejoin:miter;stroke-width:0.079261;\"/>\r\n   </g>\r\n   <g id=\"patch_325\">\r\n    <path clip-path=\"url(#p1e020dd2c8)\" d=\"M 332.62358 442.08 \r\nL 333.416193 442.08 \r\nL 333.416193 442.08 \r\nL 332.62358 442.08 \r\nz\r\n\" style=\"fill:#1f77b4;fill-opacity:0.5;stroke:#000000;stroke-linejoin:miter;stroke-width:0.079261;\"/>\r\n   </g>\r\n   <g id=\"patch_326\">\r\n    <path clip-path=\"url(#p1e020dd2c8)\" d=\"M 333.416193 442.08 \r\nL 334.208807 442.08 \r\nL 334.208807 442.08 \r\nL 333.416193 442.08 \r\nz\r\n\" style=\"fill:#1f77b4;fill-opacity:0.5;stroke:#000000;stroke-linejoin:miter;stroke-width:0.079261;\"/>\r\n   </g>\r\n   <g id=\"patch_327\">\r\n    <path clip-path=\"url(#p1e020dd2c8)\" d=\"M 334.208807 442.08 \r\nL 335.00142 442.08 \r\nL 335.00142 442.08 \r\nL 334.208807 442.08 \r\nz\r\n\" style=\"fill:#1f77b4;fill-opacity:0.5;stroke:#000000;stroke-linejoin:miter;stroke-width:0.079261;\"/>\r\n   </g>\r\n   <g id=\"patch_328\">\r\n    <path clip-path=\"url(#p1e020dd2c8)\" d=\"M 335.00142 442.08 \r\nL 335.794034 442.08 \r\nL 335.794034 442.08 \r\nL 335.00142 442.08 \r\nz\r\n\" style=\"fill:#1f77b4;fill-opacity:0.5;stroke:#000000;stroke-linejoin:miter;stroke-width:0.079261;\"/>\r\n   </g>\r\n   <g id=\"patch_329\">\r\n    <path clip-path=\"url(#p1e020dd2c8)\" d=\"M 335.794034 442.08 \r\nL 336.586648 442.08 \r\nL 336.586648 442.08 \r\nL 335.794034 442.08 \r\nz\r\n\" style=\"fill:#1f77b4;fill-opacity:0.5;stroke:#000000;stroke-linejoin:miter;stroke-width:0.079261;\"/>\r\n   </g>\r\n   <g id=\"patch_330\">\r\n    <path clip-path=\"url(#p1e020dd2c8)\" d=\"M 336.586648 442.08 \r\nL 337.379261 442.08 \r\nL 337.379261 442.08 \r\nL 336.586648 442.08 \r\nz\r\n\" style=\"fill:#1f77b4;fill-opacity:0.5;stroke:#000000;stroke-linejoin:miter;stroke-width:0.079261;\"/>\r\n   </g>\r\n   <g id=\"patch_331\">\r\n    <path clip-path=\"url(#p1e020dd2c8)\" d=\"M 337.379261 442.08 \r\nL 338.171875 442.08 \r\nL 338.171875 442.08 \r\nL 337.379261 442.08 \r\nz\r\n\" style=\"fill:#1f77b4;fill-opacity:0.5;stroke:#000000;stroke-linejoin:miter;stroke-width:0.079261;\"/>\r\n   </g>\r\n   <g id=\"patch_332\">\r\n    <path clip-path=\"url(#p1e020dd2c8)\" d=\"M 338.171875 442.08 \r\nL 338.964489 442.08 \r\nL 338.964489 442.08 \r\nL 338.171875 442.08 \r\nz\r\n\" style=\"fill:#1f77b4;fill-opacity:0.5;stroke:#000000;stroke-linejoin:miter;stroke-width:0.079261;\"/>\r\n   </g>\r\n   <g id=\"patch_333\">\r\n    <path clip-path=\"url(#p1e020dd2c8)\" d=\"M 338.964489 442.08 \r\nL 339.757102 442.08 \r\nL 339.757102 442.08 \r\nL 338.964489 442.08 \r\nz\r\n\" style=\"fill:#1f77b4;fill-opacity:0.5;stroke:#000000;stroke-linejoin:miter;stroke-width:0.079261;\"/>\r\n   </g>\r\n   <g id=\"patch_334\">\r\n    <path clip-path=\"url(#p1e020dd2c8)\" d=\"M 339.757102 442.08 \r\nL 340.549716 442.08 \r\nL 340.549716 442.08 \r\nL 339.757102 442.08 \r\nz\r\n\" style=\"fill:#1f77b4;fill-opacity:0.5;stroke:#000000;stroke-linejoin:miter;stroke-width:0.079261;\"/>\r\n   </g>\r\n   <g id=\"patch_335\">\r\n    <path clip-path=\"url(#p1e020dd2c8)\" d=\"M 340.549716 442.08 \r\nL 341.34233 442.08 \r\nL 341.34233 442.08 \r\nL 340.549716 442.08 \r\nz\r\n\" style=\"fill:#1f77b4;fill-opacity:0.5;stroke:#000000;stroke-linejoin:miter;stroke-width:0.079261;\"/>\r\n   </g>\r\n   <g id=\"patch_336\">\r\n    <path clip-path=\"url(#p1e020dd2c8)\" d=\"M 341.34233 442.08 \r\nL 342.134943 442.08 \r\nL 342.134943 442.08 \r\nL 341.34233 442.08 \r\nz\r\n\" style=\"fill:#1f77b4;fill-opacity:0.5;stroke:#000000;stroke-linejoin:miter;stroke-width:0.079261;\"/>\r\n   </g>\r\n   <g id=\"patch_337\">\r\n    <path clip-path=\"url(#p1e020dd2c8)\" d=\"M 342.134943 442.08 \r\nL 342.927557 442.08 \r\nL 342.927557 442.08 \r\nL 342.134943 442.08 \r\nz\r\n\" style=\"fill:#1f77b4;fill-opacity:0.5;stroke:#000000;stroke-linejoin:miter;stroke-width:0.079261;\"/>\r\n   </g>\r\n   <g id=\"patch_338\">\r\n    <path clip-path=\"url(#p1e020dd2c8)\" d=\"M 342.927557 442.08 \r\nL 343.72017 442.08 \r\nL 343.72017 442.08 \r\nL 342.927557 442.08 \r\nz\r\n\" style=\"fill:#1f77b4;fill-opacity:0.5;stroke:#000000;stroke-linejoin:miter;stroke-width:0.079261;\"/>\r\n   </g>\r\n   <g id=\"patch_339\">\r\n    <path clip-path=\"url(#p1e020dd2c8)\" d=\"M 343.72017 442.08 \r\nL 344.512784 442.08 \r\nL 344.512784 442.08 \r\nL 343.72017 442.08 \r\nz\r\n\" style=\"fill:#1f77b4;fill-opacity:0.5;stroke:#000000;stroke-linejoin:miter;stroke-width:0.079261;\"/>\r\n   </g>\r\n   <g id=\"patch_340\">\r\n    <path clip-path=\"url(#p1e020dd2c8)\" d=\"M 344.512784 442.08 \r\nL 345.305398 442.08 \r\nL 345.305398 442.08 \r\nL 344.512784 442.08 \r\nz\r\n\" style=\"fill:#1f77b4;fill-opacity:0.5;stroke:#000000;stroke-linejoin:miter;stroke-width:0.079261;\"/>\r\n   </g>\r\n   <g id=\"patch_341\">\r\n    <path clip-path=\"url(#p1e020dd2c8)\" d=\"M 345.305398 442.08 \r\nL 346.098011 442.08 \r\nL 346.098011 442.08 \r\nL 345.305398 442.08 \r\nz\r\n\" style=\"fill:#1f77b4;fill-opacity:0.5;stroke:#000000;stroke-linejoin:miter;stroke-width:0.079261;\"/>\r\n   </g>\r\n   <g id=\"patch_342\">\r\n    <path clip-path=\"url(#p1e020dd2c8)\" d=\"M 346.098011 442.08 \r\nL 346.890625 442.08 \r\nL 346.890625 442.08 \r\nL 346.098011 442.08 \r\nz\r\n\" style=\"fill:#1f77b4;fill-opacity:0.5;stroke:#000000;stroke-linejoin:miter;stroke-width:0.079261;\"/>\r\n   </g>\r\n   <g id=\"patch_343\">\r\n    <path clip-path=\"url(#p1e020dd2c8)\" d=\"M 346.890625 442.08 \r\nL 347.683239 442.08 \r\nL 347.683239 442.08 \r\nL 346.890625 442.08 \r\nz\r\n\" style=\"fill:#1f77b4;fill-opacity:0.5;stroke:#000000;stroke-linejoin:miter;stroke-width:0.079261;\"/>\r\n   </g>\r\n   <g id=\"patch_344\">\r\n    <path clip-path=\"url(#p1e020dd2c8)\" d=\"M 347.683239 442.08 \r\nL 348.475852 442.08 \r\nL 348.475852 442.08 \r\nL 347.683239 442.08 \r\nz\r\n\" style=\"fill:#1f77b4;fill-opacity:0.5;stroke:#000000;stroke-linejoin:miter;stroke-width:0.079261;\"/>\r\n   </g>\r\n   <g id=\"patch_345\">\r\n    <path clip-path=\"url(#p1e020dd2c8)\" d=\"M 348.475852 442.08 \r\nL 349.268466 442.08 \r\nL 349.268466 442.08 \r\nL 348.475852 442.08 \r\nz\r\n\" style=\"fill:#1f77b4;fill-opacity:0.5;stroke:#000000;stroke-linejoin:miter;stroke-width:0.079261;\"/>\r\n   </g>\r\n   <g id=\"patch_346\">\r\n    <path clip-path=\"url(#p1e020dd2c8)\" d=\"M 349.268466 442.08 \r\nL 350.06108 442.08 \r\nL 350.06108 442.08 \r\nL 349.268466 442.08 \r\nz\r\n\" style=\"fill:#1f77b4;fill-opacity:0.5;stroke:#000000;stroke-linejoin:miter;stroke-width:0.079261;\"/>\r\n   </g>\r\n   <g id=\"patch_347\">\r\n    <path clip-path=\"url(#p1e020dd2c8)\" d=\"M 350.06108 442.08 \r\nL 350.853693 442.08 \r\nL 350.853693 442.08 \r\nL 350.06108 442.08 \r\nz\r\n\" style=\"fill:#1f77b4;fill-opacity:0.5;stroke:#000000;stroke-linejoin:miter;stroke-width:0.079261;\"/>\r\n   </g>\r\n   <g id=\"patch_348\">\r\n    <path clip-path=\"url(#p1e020dd2c8)\" d=\"M 350.853693 442.08 \r\nL 351.646307 442.08 \r\nL 351.646307 442.08 \r\nL 350.853693 442.08 \r\nz\r\n\" style=\"fill:#1f77b4;fill-opacity:0.5;stroke:#000000;stroke-linejoin:miter;stroke-width:0.079261;\"/>\r\n   </g>\r\n   <g id=\"patch_349\">\r\n    <path clip-path=\"url(#p1e020dd2c8)\" d=\"M 351.646307 442.08 \r\nL 352.43892 442.08 \r\nL 352.43892 442.08 \r\nL 351.646307 442.08 \r\nz\r\n\" style=\"fill:#1f77b4;fill-opacity:0.5;stroke:#000000;stroke-linejoin:miter;stroke-width:0.079261;\"/>\r\n   </g>\r\n   <g id=\"patch_350\">\r\n    <path clip-path=\"url(#p1e020dd2c8)\" d=\"M 352.43892 442.08 \r\nL 353.231534 442.08 \r\nL 353.231534 442.08 \r\nL 352.43892 442.08 \r\nz\r\n\" style=\"fill:#1f77b4;fill-opacity:0.5;stroke:#000000;stroke-linejoin:miter;stroke-width:0.079261;\"/>\r\n   </g>\r\n   <g id=\"patch_351\">\r\n    <path clip-path=\"url(#p1e020dd2c8)\" d=\"M 353.231534 442.08 \r\nL 354.024148 442.08 \r\nL 354.024148 442.08 \r\nL 353.231534 442.08 \r\nz\r\n\" style=\"fill:#1f77b4;fill-opacity:0.5;stroke:#000000;stroke-linejoin:miter;stroke-width:0.079261;\"/>\r\n   </g>\r\n   <g id=\"patch_352\">\r\n    <path clip-path=\"url(#p1e020dd2c8)\" d=\"M 354.024148 442.08 \r\nL 354.816761 442.08 \r\nL 354.816761 442.08 \r\nL 354.024148 442.08 \r\nz\r\n\" style=\"fill:#1f77b4;fill-opacity:0.5;stroke:#000000;stroke-linejoin:miter;stroke-width:0.079261;\"/>\r\n   </g>\r\n   <g id=\"patch_353\">\r\n    <path clip-path=\"url(#p1e020dd2c8)\" d=\"M 354.816761 442.08 \r\nL 355.609375 442.08 \r\nL 355.609375 442.08 \r\nL 354.816761 442.08 \r\nz\r\n\" style=\"fill:#1f77b4;fill-opacity:0.5;stroke:#000000;stroke-linejoin:miter;stroke-width:0.079261;\"/>\r\n   </g>\r\n   <g id=\"patch_354\">\r\n    <path clip-path=\"url(#p1e020dd2c8)\" d=\"M 355.609375 442.08 \r\nL 356.401989 442.08 \r\nL 356.401989 442.08 \r\nL 355.609375 442.08 \r\nz\r\n\" style=\"fill:#1f77b4;fill-opacity:0.5;stroke:#000000;stroke-linejoin:miter;stroke-width:0.079261;\"/>\r\n   </g>\r\n   <g id=\"patch_355\">\r\n    <path clip-path=\"url(#p1e020dd2c8)\" d=\"M 356.401989 442.08 \r\nL 357.194602 442.08 \r\nL 357.194602 442.08 \r\nL 356.401989 442.08 \r\nz\r\n\" style=\"fill:#1f77b4;fill-opacity:0.5;stroke:#000000;stroke-linejoin:miter;stroke-width:0.079261;\"/>\r\n   </g>\r\n   <g id=\"patch_356\">\r\n    <path clip-path=\"url(#p1e020dd2c8)\" d=\"M 357.194602 442.08 \r\nL 357.987216 442.08 \r\nL 357.987216 442.08 \r\nL 357.194602 442.08 \r\nz\r\n\" style=\"fill:#1f77b4;fill-opacity:0.5;stroke:#000000;stroke-linejoin:miter;stroke-width:0.079261;\"/>\r\n   </g>\r\n   <g id=\"patch_357\">\r\n    <path clip-path=\"url(#p1e020dd2c8)\" d=\"M 357.987216 442.08 \r\nL 358.77983 442.08 \r\nL 358.77983 442.08 \r\nL 357.987216 442.08 \r\nz\r\n\" style=\"fill:#1f77b4;fill-opacity:0.5;stroke:#000000;stroke-linejoin:miter;stroke-width:0.079261;\"/>\r\n   </g>\r\n   <g id=\"patch_358\">\r\n    <path clip-path=\"url(#p1e020dd2c8)\" d=\"M 358.77983 442.08 \r\nL 359.572443 442.08 \r\nL 359.572443 442.08 \r\nL 358.77983 442.08 \r\nz\r\n\" style=\"fill:#1f77b4;fill-opacity:0.5;stroke:#000000;stroke-linejoin:miter;stroke-width:0.079261;\"/>\r\n   </g>\r\n   <g id=\"patch_359\">\r\n    <path clip-path=\"url(#p1e020dd2c8)\" d=\"M 359.572443 442.08 \r\nL 360.365057 442.08 \r\nL 360.365057 442.08 \r\nL 359.572443 442.08 \r\nz\r\n\" style=\"fill:#1f77b4;fill-opacity:0.5;stroke:#000000;stroke-linejoin:miter;stroke-width:0.079261;\"/>\r\n   </g>\r\n   <g id=\"patch_360\">\r\n    <path clip-path=\"url(#p1e020dd2c8)\" d=\"M 360.365057 442.08 \r\nL 361.15767 442.08 \r\nL 361.15767 442.08 \r\nL 360.365057 442.08 \r\nz\r\n\" style=\"fill:#1f77b4;fill-opacity:0.5;stroke:#000000;stroke-linejoin:miter;stroke-width:0.079261;\"/>\r\n   </g>\r\n   <g id=\"patch_361\">\r\n    <path clip-path=\"url(#p1e020dd2c8)\" d=\"M 361.15767 442.08 \r\nL 361.950284 442.08 \r\nL 361.950284 442.08 \r\nL 361.15767 442.08 \r\nz\r\n\" style=\"fill:#1f77b4;fill-opacity:0.5;stroke:#000000;stroke-linejoin:miter;stroke-width:0.079261;\"/>\r\n   </g>\r\n   <g id=\"patch_362\">\r\n    <path clip-path=\"url(#p1e020dd2c8)\" d=\"M 361.950284 442.08 \r\nL 362.742898 442.08 \r\nL 362.742898 442.08 \r\nL 361.950284 442.08 \r\nz\r\n\" style=\"fill:#1f77b4;fill-opacity:0.5;stroke:#000000;stroke-linejoin:miter;stroke-width:0.079261;\"/>\r\n   </g>\r\n   <g id=\"patch_363\">\r\n    <path clip-path=\"url(#p1e020dd2c8)\" d=\"M 362.742898 442.08 \r\nL 363.535511 442.08 \r\nL 363.535511 442.08 \r\nL 362.742898 442.08 \r\nz\r\n\" style=\"fill:#1f77b4;fill-opacity:0.5;stroke:#000000;stroke-linejoin:miter;stroke-width:0.079261;\"/>\r\n   </g>\r\n   <g id=\"patch_364\">\r\n    <path clip-path=\"url(#p1e020dd2c8)\" d=\"M 363.535511 442.08 \r\nL 364.328125 442.08 \r\nL 364.328125 442.08 \r\nL 363.535511 442.08 \r\nz\r\n\" style=\"fill:#1f77b4;fill-opacity:0.5;stroke:#000000;stroke-linejoin:miter;stroke-width:0.079261;\"/>\r\n   </g>\r\n   <g id=\"patch_365\">\r\n    <path clip-path=\"url(#p1e020dd2c8)\" d=\"M 364.328125 442.08 \r\nL 365.120739 442.08 \r\nL 365.120739 442.08 \r\nL 364.328125 442.08 \r\nz\r\n\" style=\"fill:#1f77b4;fill-opacity:0.5;stroke:#000000;stroke-linejoin:miter;stroke-width:0.079261;\"/>\r\n   </g>\r\n   <g id=\"patch_366\">\r\n    <path clip-path=\"url(#p1e020dd2c8)\" d=\"M 365.120739 442.08 \r\nL 365.913352 442.08 \r\nL 365.913352 442.08 \r\nL 365.120739 442.08 \r\nz\r\n\" style=\"fill:#1f77b4;fill-opacity:0.5;stroke:#000000;stroke-linejoin:miter;stroke-width:0.079261;\"/>\r\n   </g>\r\n   <g id=\"patch_367\">\r\n    <path clip-path=\"url(#p1e020dd2c8)\" d=\"M 365.913352 442.08 \r\nL 366.705966 442.08 \r\nL 366.705966 442.08 \r\nL 365.913352 442.08 \r\nz\r\n\" style=\"fill:#1f77b4;fill-opacity:0.5;stroke:#000000;stroke-linejoin:miter;stroke-width:0.079261;\"/>\r\n   </g>\r\n   <g id=\"patch_368\">\r\n    <path clip-path=\"url(#p1e020dd2c8)\" d=\"M 366.705966 442.08 \r\nL 367.49858 442.08 \r\nL 367.49858 442.08 \r\nL 366.705966 442.08 \r\nz\r\n\" style=\"fill:#1f77b4;fill-opacity:0.5;stroke:#000000;stroke-linejoin:miter;stroke-width:0.079261;\"/>\r\n   </g>\r\n   <g id=\"patch_369\">\r\n    <path clip-path=\"url(#p1e020dd2c8)\" d=\"M 367.49858 442.08 \r\nL 368.291193 442.08 \r\nL 368.291193 442.08 \r\nL 367.49858 442.08 \r\nz\r\n\" style=\"fill:#1f77b4;fill-opacity:0.5;stroke:#000000;stroke-linejoin:miter;stroke-width:0.079261;\"/>\r\n   </g>\r\n   <g id=\"patch_370\">\r\n    <path clip-path=\"url(#p1e020dd2c8)\" d=\"M 368.291193 442.08 \r\nL 369.083807 442.08 \r\nL 369.083807 442.08 \r\nL 368.291193 442.08 \r\nz\r\n\" style=\"fill:#1f77b4;fill-opacity:0.5;stroke:#000000;stroke-linejoin:miter;stroke-width:0.079261;\"/>\r\n   </g>\r\n   <g id=\"patch_371\">\r\n    <path clip-path=\"url(#p1e020dd2c8)\" d=\"M 369.083807 442.08 \r\nL 369.87642 442.08 \r\nL 369.87642 442.08 \r\nL 369.083807 442.08 \r\nz\r\n\" style=\"fill:#1f77b4;fill-opacity:0.5;stroke:#000000;stroke-linejoin:miter;stroke-width:0.079261;\"/>\r\n   </g>\r\n   <g id=\"patch_372\">\r\n    <path clip-path=\"url(#p1e020dd2c8)\" d=\"M 369.87642 442.08 \r\nL 370.669034 442.08 \r\nL 370.669034 442.08 \r\nL 369.87642 442.08 \r\nz\r\n\" style=\"fill:#1f77b4;fill-opacity:0.5;stroke:#000000;stroke-linejoin:miter;stroke-width:0.079261;\"/>\r\n   </g>\r\n   <g id=\"patch_373\">\r\n    <path clip-path=\"url(#p1e020dd2c8)\" d=\"M 370.669034 442.08 \r\nL 371.461648 442.08 \r\nL 371.461648 442.08 \r\nL 370.669034 442.08 \r\nz\r\n\" style=\"fill:#1f77b4;fill-opacity:0.5;stroke:#000000;stroke-linejoin:miter;stroke-width:0.079261;\"/>\r\n   </g>\r\n   <g id=\"patch_374\">\r\n    <path clip-path=\"url(#p1e020dd2c8)\" d=\"M 371.461648 442.08 \r\nL 372.254261 442.08 \r\nL 372.254261 442.08 \r\nL 371.461648 442.08 \r\nz\r\n\" style=\"fill:#1f77b4;fill-opacity:0.5;stroke:#000000;stroke-linejoin:miter;stroke-width:0.079261;\"/>\r\n   </g>\r\n   <g id=\"patch_375\">\r\n    <path clip-path=\"url(#p1e020dd2c8)\" d=\"M 372.254261 442.08 \r\nL 373.046875 442.08 \r\nL 373.046875 442.08 \r\nL 372.254261 442.08 \r\nz\r\n\" style=\"fill:#1f77b4;fill-opacity:0.5;stroke:#000000;stroke-linejoin:miter;stroke-width:0.079261;\"/>\r\n   </g>\r\n   <g id=\"patch_376\">\r\n    <path clip-path=\"url(#p1e020dd2c8)\" d=\"M 373.046875 442.08 \r\nL 373.839489 442.08 \r\nL 373.839489 442.08 \r\nL 373.046875 442.08 \r\nz\r\n\" style=\"fill:#1f77b4;fill-opacity:0.5;stroke:#000000;stroke-linejoin:miter;stroke-width:0.079261;\"/>\r\n   </g>\r\n   <g id=\"patch_377\">\r\n    <path clip-path=\"url(#p1e020dd2c8)\" d=\"M 373.839489 442.08 \r\nL 374.632102 442.08 \r\nL 374.632102 442.08 \r\nL 373.839489 442.08 \r\nz\r\n\" style=\"fill:#1f77b4;fill-opacity:0.5;stroke:#000000;stroke-linejoin:miter;stroke-width:0.079261;\"/>\r\n   </g>\r\n   <g id=\"patch_378\">\r\n    <path clip-path=\"url(#p1e020dd2c8)\" d=\"M 374.632102 442.08 \r\nL 375.424716 442.08 \r\nL 375.424716 442.08 \r\nL 374.632102 442.08 \r\nz\r\n\" style=\"fill:#1f77b4;fill-opacity:0.5;stroke:#000000;stroke-linejoin:miter;stroke-width:0.079261;\"/>\r\n   </g>\r\n   <g id=\"patch_379\">\r\n    <path clip-path=\"url(#p1e020dd2c8)\" d=\"M 375.424716 442.08 \r\nL 376.21733 442.08 \r\nL 376.21733 442.08 \r\nL 375.424716 442.08 \r\nz\r\n\" style=\"fill:#1f77b4;fill-opacity:0.5;stroke:#000000;stroke-linejoin:miter;stroke-width:0.079261;\"/>\r\n   </g>\r\n   <g id=\"patch_380\">\r\n    <path clip-path=\"url(#p1e020dd2c8)\" d=\"M 376.21733 442.08 \r\nL 377.009943 442.08 \r\nL 377.009943 442.08 \r\nL 376.21733 442.08 \r\nz\r\n\" style=\"fill:#1f77b4;fill-opacity:0.5;stroke:#000000;stroke-linejoin:miter;stroke-width:0.079261;\"/>\r\n   </g>\r\n   <g id=\"patch_381\">\r\n    <path clip-path=\"url(#p1e020dd2c8)\" d=\"M 377.009943 442.08 \r\nL 377.802557 442.08 \r\nL 377.802557 442.08 \r\nL 377.009943 442.08 \r\nz\r\n\" style=\"fill:#1f77b4;fill-opacity:0.5;stroke:#000000;stroke-linejoin:miter;stroke-width:0.079261;\"/>\r\n   </g>\r\n   <g id=\"patch_382\">\r\n    <path clip-path=\"url(#p1e020dd2c8)\" d=\"M 377.802557 442.08 \r\nL 378.59517 442.08 \r\nL 378.59517 442.08 \r\nL 377.802557 442.08 \r\nz\r\n\" style=\"fill:#1f77b4;fill-opacity:0.5;stroke:#000000;stroke-linejoin:miter;stroke-width:0.079261;\"/>\r\n   </g>\r\n   <g id=\"patch_383\">\r\n    <path clip-path=\"url(#p1e020dd2c8)\" d=\"M 378.59517 442.08 \r\nL 379.387784 442.08 \r\nL 379.387784 442.08 \r\nL 378.59517 442.08 \r\nz\r\n\" style=\"fill:#1f77b4;fill-opacity:0.5;stroke:#000000;stroke-linejoin:miter;stroke-width:0.079261;\"/>\r\n   </g>\r\n   <g id=\"patch_384\">\r\n    <path clip-path=\"url(#p1e020dd2c8)\" d=\"M 379.387784 442.08 \r\nL 380.180398 442.08 \r\nL 380.180398 442.08 \r\nL 379.387784 442.08 \r\nz\r\n\" style=\"fill:#1f77b4;fill-opacity:0.5;stroke:#000000;stroke-linejoin:miter;stroke-width:0.079261;\"/>\r\n   </g>\r\n   <g id=\"patch_385\">\r\n    <path clip-path=\"url(#p1e020dd2c8)\" d=\"M 380.180398 442.08 \r\nL 380.973011 442.08 \r\nL 380.973011 442.08 \r\nL 380.180398 442.08 \r\nz\r\n\" style=\"fill:#1f77b4;fill-opacity:0.5;stroke:#000000;stroke-linejoin:miter;stroke-width:0.079261;\"/>\r\n   </g>\r\n   <g id=\"patch_386\">\r\n    <path clip-path=\"url(#p1e020dd2c8)\" d=\"M 380.973011 442.08 \r\nL 381.765625 442.08 \r\nL 381.765625 442.08 \r\nL 380.973011 442.08 \r\nz\r\n\" style=\"fill:#1f77b4;fill-opacity:0.5;stroke:#000000;stroke-linejoin:miter;stroke-width:0.079261;\"/>\r\n   </g>\r\n   <g id=\"patch_387\">\r\n    <path clip-path=\"url(#p1e020dd2c8)\" d=\"M 381.765625 442.08 \r\nL 382.558239 442.08 \r\nL 382.558239 442.08 \r\nL 381.765625 442.08 \r\nz\r\n\" style=\"fill:#1f77b4;fill-opacity:0.5;stroke:#000000;stroke-linejoin:miter;stroke-width:0.079261;\"/>\r\n   </g>\r\n   <g id=\"patch_388\">\r\n    <path clip-path=\"url(#p1e020dd2c8)\" d=\"M 382.558239 442.08 \r\nL 383.350852 442.08 \r\nL 383.350852 442.08 \r\nL 382.558239 442.08 \r\nz\r\n\" style=\"fill:#1f77b4;fill-opacity:0.5;stroke:#000000;stroke-linejoin:miter;stroke-width:0.079261;\"/>\r\n   </g>\r\n   <g id=\"patch_389\">\r\n    <path clip-path=\"url(#p1e020dd2c8)\" d=\"M 383.350852 442.08 \r\nL 384.143466 442.08 \r\nL 384.143466 442.08 \r\nL 383.350852 442.08 \r\nz\r\n\" style=\"fill:#1f77b4;fill-opacity:0.5;stroke:#000000;stroke-linejoin:miter;stroke-width:0.079261;\"/>\r\n   </g>\r\n   <g id=\"patch_390\">\r\n    <path clip-path=\"url(#p1e020dd2c8)\" d=\"M 384.143466 442.08 \r\nL 384.93608 442.08 \r\nL 384.93608 442.08 \r\nL 384.143466 442.08 \r\nz\r\n\" style=\"fill:#1f77b4;fill-opacity:0.5;stroke:#000000;stroke-linejoin:miter;stroke-width:0.079261;\"/>\r\n   </g>\r\n   <g id=\"patch_391\">\r\n    <path clip-path=\"url(#p1e020dd2c8)\" d=\"M 384.93608 442.08 \r\nL 385.728693 442.08 \r\nL 385.728693 442.08 \r\nL 384.93608 442.08 \r\nz\r\n\" style=\"fill:#1f77b4;fill-opacity:0.5;stroke:#000000;stroke-linejoin:miter;stroke-width:0.079261;\"/>\r\n   </g>\r\n   <g id=\"patch_392\">\r\n    <path clip-path=\"url(#p1e020dd2c8)\" d=\"M 385.728693 442.08 \r\nL 386.521307 442.08 \r\nL 386.521307 442.08 \r\nL 385.728693 442.08 \r\nz\r\n\" style=\"fill:#1f77b4;fill-opacity:0.5;stroke:#000000;stroke-linejoin:miter;stroke-width:0.079261;\"/>\r\n   </g>\r\n   <g id=\"patch_393\">\r\n    <path clip-path=\"url(#p1e020dd2c8)\" d=\"M 386.521307 442.08 \r\nL 387.31392 442.08 \r\nL 387.31392 442.08 \r\nL 386.521307 442.08 \r\nz\r\n\" style=\"fill:#1f77b4;fill-opacity:0.5;stroke:#000000;stroke-linejoin:miter;stroke-width:0.079261;\"/>\r\n   </g>\r\n   <g id=\"patch_394\">\r\n    <path clip-path=\"url(#p1e020dd2c8)\" d=\"M 387.31392 442.08 \r\nL 388.106534 442.08 \r\nL 388.106534 442.08 \r\nL 387.31392 442.08 \r\nz\r\n\" style=\"fill:#1f77b4;fill-opacity:0.5;stroke:#000000;stroke-linejoin:miter;stroke-width:0.079261;\"/>\r\n   </g>\r\n   <g id=\"patch_395\">\r\n    <path clip-path=\"url(#p1e020dd2c8)\" d=\"M 388.106534 442.08 \r\nL 388.899148 442.08 \r\nL 388.899148 442.08 \r\nL 388.106534 442.08 \r\nz\r\n\" style=\"fill:#1f77b4;fill-opacity:0.5;stroke:#000000;stroke-linejoin:miter;stroke-width:0.079261;\"/>\r\n   </g>\r\n   <g id=\"patch_396\">\r\n    <path clip-path=\"url(#p1e020dd2c8)\" d=\"M 388.899148 442.08 \r\nL 389.691761 442.08 \r\nL 389.691761 442.08 \r\nL 388.899148 442.08 \r\nz\r\n\" style=\"fill:#1f77b4;fill-opacity:0.5;stroke:#000000;stroke-linejoin:miter;stroke-width:0.079261;\"/>\r\n   </g>\r\n   <g id=\"patch_397\">\r\n    <path clip-path=\"url(#p1e020dd2c8)\" d=\"M 389.691761 442.08 \r\nL 390.484375 442.08 \r\nL 390.484375 442.08 \r\nL 389.691761 442.08 \r\nz\r\n\" style=\"fill:#1f77b4;fill-opacity:0.5;stroke:#000000;stroke-linejoin:miter;stroke-width:0.079261;\"/>\r\n   </g>\r\n   <g id=\"patch_398\">\r\n    <path clip-path=\"url(#p1e020dd2c8)\" d=\"M 390.484375 442.08 \r\nL 391.276989 442.08 \r\nL 391.276989 442.08 \r\nL 390.484375 442.08 \r\nz\r\n\" style=\"fill:#1f77b4;fill-opacity:0.5;stroke:#000000;stroke-linejoin:miter;stroke-width:0.079261;\"/>\r\n   </g>\r\n   <g id=\"patch_399\">\r\n    <path clip-path=\"url(#p1e020dd2c8)\" d=\"M 391.276989 442.08 \r\nL 392.069602 442.08 \r\nL 392.069602 442.08 \r\nL 391.276989 442.08 \r\nz\r\n\" style=\"fill:#1f77b4;fill-opacity:0.5;stroke:#000000;stroke-linejoin:miter;stroke-width:0.079261;\"/>\r\n   </g>\r\n   <g id=\"patch_400\">\r\n    <path clip-path=\"url(#p1e020dd2c8)\" d=\"M 392.069602 442.08 \r\nL 392.862216 442.08 \r\nL 392.862216 442.08 \r\nL 392.069602 442.08 \r\nz\r\n\" style=\"fill:#1f77b4;fill-opacity:0.5;stroke:#000000;stroke-linejoin:miter;stroke-width:0.079261;\"/>\r\n   </g>\r\n   <g id=\"patch_401\">\r\n    <path clip-path=\"url(#p1e020dd2c8)\" d=\"M 392.862216 442.08 \r\nL 393.65483 442.08 \r\nL 393.65483 442.08 \r\nL 392.862216 442.08 \r\nz\r\n\" style=\"fill:#1f77b4;fill-opacity:0.5;stroke:#000000;stroke-linejoin:miter;stroke-width:0.079261;\"/>\r\n   </g>\r\n   <g id=\"patch_402\">\r\n    <path clip-path=\"url(#p1e020dd2c8)\" d=\"M 393.65483 442.08 \r\nL 394.447443 442.08 \r\nL 394.447443 442.08 \r\nL 393.65483 442.08 \r\nz\r\n\" style=\"fill:#1f77b4;fill-opacity:0.5;stroke:#000000;stroke-linejoin:miter;stroke-width:0.079261;\"/>\r\n   </g>\r\n   <g id=\"patch_403\">\r\n    <path clip-path=\"url(#p1e020dd2c8)\" d=\"M 394.447443 442.08 \r\nL 395.240057 442.08 \r\nL 395.240057 442.08 \r\nL 394.447443 442.08 \r\nz\r\n\" style=\"fill:#1f77b4;fill-opacity:0.5;stroke:#000000;stroke-linejoin:miter;stroke-width:0.079261;\"/>\r\n   </g>\r\n   <g id=\"patch_404\">\r\n    <path clip-path=\"url(#p1e020dd2c8)\" d=\"M 395.240057 442.08 \r\nL 396.03267 442.08 \r\nL 396.03267 442.08 \r\nL 395.240057 442.08 \r\nz\r\n\" style=\"fill:#1f77b4;fill-opacity:0.5;stroke:#000000;stroke-linejoin:miter;stroke-width:0.079261;\"/>\r\n   </g>\r\n   <g id=\"patch_405\">\r\n    <path clip-path=\"url(#p1e020dd2c8)\" d=\"M 396.03267 442.08 \r\nL 396.825284 442.08 \r\nL 396.825284 442.08 \r\nL 396.03267 442.08 \r\nz\r\n\" style=\"fill:#1f77b4;fill-opacity:0.5;stroke:#000000;stroke-linejoin:miter;stroke-width:0.079261;\"/>\r\n   </g>\r\n   <g id=\"patch_406\">\r\n    <path clip-path=\"url(#p1e020dd2c8)\" d=\"M 396.825284 442.08 \r\nL 397.617898 442.08 \r\nL 397.617898 442.08 \r\nL 396.825284 442.08 \r\nz\r\n\" style=\"fill:#1f77b4;fill-opacity:0.5;stroke:#000000;stroke-linejoin:miter;stroke-width:0.079261;\"/>\r\n   </g>\r\n   <g id=\"patch_407\">\r\n    <path clip-path=\"url(#p1e020dd2c8)\" d=\"M 397.617898 442.08 \r\nL 398.410511 442.08 \r\nL 398.410511 442.08 \r\nL 397.617898 442.08 \r\nz\r\n\" style=\"fill:#1f77b4;fill-opacity:0.5;stroke:#000000;stroke-linejoin:miter;stroke-width:0.079261;\"/>\r\n   </g>\r\n   <g id=\"patch_408\">\r\n    <path clip-path=\"url(#p1e020dd2c8)\" d=\"M 398.410511 442.08 \r\nL 399.203125 442.08 \r\nL 399.203125 442.08 \r\nL 398.410511 442.08 \r\nz\r\n\" style=\"fill:#1f77b4;fill-opacity:0.5;stroke:#000000;stroke-linejoin:miter;stroke-width:0.079261;\"/>\r\n   </g>\r\n   <g id=\"patch_409\">\r\n    <path clip-path=\"url(#p1e020dd2c8)\" d=\"M 399.203125 442.08 \r\nL 399.995739 442.08 \r\nL 399.995739 442.08 \r\nL 399.203125 442.08 \r\nz\r\n\" style=\"fill:#1f77b4;fill-opacity:0.5;stroke:#000000;stroke-linejoin:miter;stroke-width:0.079261;\"/>\r\n   </g>\r\n   <g id=\"patch_410\">\r\n    <path clip-path=\"url(#p1e020dd2c8)\" d=\"M 399.995739 442.08 \r\nL 400.788352 442.08 \r\nL 400.788352 442.08 \r\nL 399.995739 442.08 \r\nz\r\n\" style=\"fill:#1f77b4;fill-opacity:0.5;stroke:#000000;stroke-linejoin:miter;stroke-width:0.079261;\"/>\r\n   </g>\r\n   <g id=\"patch_411\">\r\n    <path clip-path=\"url(#p1e020dd2c8)\" d=\"M 400.788352 442.08 \r\nL 401.580966 442.08 \r\nL 401.580966 442.08 \r\nL 400.788352 442.08 \r\nz\r\n\" style=\"fill:#1f77b4;fill-opacity:0.5;stroke:#000000;stroke-linejoin:miter;stroke-width:0.079261;\"/>\r\n   </g>\r\n   <g id=\"patch_412\">\r\n    <path clip-path=\"url(#p1e020dd2c8)\" d=\"M 401.580966 442.08 \r\nL 402.37358 442.08 \r\nL 402.37358 442.08 \r\nL 401.580966 442.08 \r\nz\r\n\" style=\"fill:#1f77b4;fill-opacity:0.5;stroke:#000000;stroke-linejoin:miter;stroke-width:0.079261;\"/>\r\n   </g>\r\n   <g id=\"patch_413\">\r\n    <path clip-path=\"url(#p1e020dd2c8)\" d=\"M 402.37358 442.08 \r\nL 403.166193 442.08 \r\nL 403.166193 442.08 \r\nL 402.37358 442.08 \r\nz\r\n\" style=\"fill:#1f77b4;fill-opacity:0.5;stroke:#000000;stroke-linejoin:miter;stroke-width:0.079261;\"/>\r\n   </g>\r\n   <g id=\"patch_414\">\r\n    <path clip-path=\"url(#p1e020dd2c8)\" d=\"M 403.166193 442.08 \r\nL 403.958807 442.08 \r\nL 403.958807 442.08 \r\nL 403.166193 442.08 \r\nz\r\n\" style=\"fill:#1f77b4;fill-opacity:0.5;stroke:#000000;stroke-linejoin:miter;stroke-width:0.079261;\"/>\r\n   </g>\r\n   <g id=\"patch_415\">\r\n    <path clip-path=\"url(#p1e020dd2c8)\" d=\"M 403.958807 442.08 \r\nL 404.75142 442.08 \r\nL 404.75142 442.08 \r\nL 403.958807 442.08 \r\nz\r\n\" style=\"fill:#1f77b4;fill-opacity:0.5;stroke:#000000;stroke-linejoin:miter;stroke-width:0.079261;\"/>\r\n   </g>\r\n   <g id=\"patch_416\">\r\n    <path clip-path=\"url(#p1e020dd2c8)\" d=\"M 404.75142 442.08 \r\nL 405.544034 442.08 \r\nL 405.544034 442.08 \r\nL 404.75142 442.08 \r\nz\r\n\" style=\"fill:#1f77b4;fill-opacity:0.5;stroke:#000000;stroke-linejoin:miter;stroke-width:0.079261;\"/>\r\n   </g>\r\n   <g id=\"patch_417\">\r\n    <path clip-path=\"url(#p1e020dd2c8)\" d=\"M 405.544034 442.08 \r\nL 406.336648 442.08 \r\nL 406.336648 442.08 \r\nL 405.544034 442.08 \r\nz\r\n\" style=\"fill:#1f77b4;fill-opacity:0.5;stroke:#000000;stroke-linejoin:miter;stroke-width:0.079261;\"/>\r\n   </g>\r\n   <g id=\"patch_418\">\r\n    <path clip-path=\"url(#p1e020dd2c8)\" d=\"M 406.336648 442.08 \r\nL 407.129261 442.08 \r\nL 407.129261 442.08 \r\nL 406.336648 442.08 \r\nz\r\n\" style=\"fill:#1f77b4;fill-opacity:0.5;stroke:#000000;stroke-linejoin:miter;stroke-width:0.079261;\"/>\r\n   </g>\r\n   <g id=\"patch_419\">\r\n    <path clip-path=\"url(#p1e020dd2c8)\" d=\"M 407.129261 442.08 \r\nL 407.921875 442.08 \r\nL 407.921875 442.08 \r\nL 407.129261 442.08 \r\nz\r\n\" style=\"fill:#1f77b4;fill-opacity:0.5;stroke:#000000;stroke-linejoin:miter;stroke-width:0.079261;\"/>\r\n   </g>\r\n   <g id=\"patch_420\">\r\n    <path clip-path=\"url(#p1e020dd2c8)\" d=\"M 407.921875 442.08 \r\nL 408.714489 442.08 \r\nL 408.714489 442.08 \r\nL 407.921875 442.08 \r\nz\r\n\" style=\"fill:#1f77b4;fill-opacity:0.5;stroke:#000000;stroke-linejoin:miter;stroke-width:0.079261;\"/>\r\n   </g>\r\n   <g id=\"patch_421\">\r\n    <path clip-path=\"url(#p1e020dd2c8)\" d=\"M 408.714489 442.08 \r\nL 409.507102 442.08 \r\nL 409.507102 442.08 \r\nL 408.714489 442.08 \r\nz\r\n\" style=\"fill:#1f77b4;fill-opacity:0.5;stroke:#000000;stroke-linejoin:miter;stroke-width:0.079261;\"/>\r\n   </g>\r\n   <g id=\"patch_422\">\r\n    <path clip-path=\"url(#p1e020dd2c8)\" d=\"M 409.507102 442.08 \r\nL 410.299716 442.08 \r\nL 410.299716 442.08 \r\nL 409.507102 442.08 \r\nz\r\n\" style=\"fill:#1f77b4;fill-opacity:0.5;stroke:#000000;stroke-linejoin:miter;stroke-width:0.079261;\"/>\r\n   </g>\r\n   <g id=\"patch_423\">\r\n    <path clip-path=\"url(#p1e020dd2c8)\" d=\"M 410.299716 442.08 \r\nL 411.09233 442.08 \r\nL 411.09233 442.08 \r\nL 410.299716 442.08 \r\nz\r\n\" style=\"fill:#1f77b4;fill-opacity:0.5;stroke:#000000;stroke-linejoin:miter;stroke-width:0.079261;\"/>\r\n   </g>\r\n   <g id=\"patch_424\">\r\n    <path clip-path=\"url(#p1e020dd2c8)\" d=\"M 411.09233 442.08 \r\nL 411.884943 442.08 \r\nL 411.884943 442.08 \r\nL 411.09233 442.08 \r\nz\r\n\" style=\"fill:#1f77b4;fill-opacity:0.5;stroke:#000000;stroke-linejoin:miter;stroke-width:0.079261;\"/>\r\n   </g>\r\n   <g id=\"patch_425\">\r\n    <path clip-path=\"url(#p1e020dd2c8)\" d=\"M 411.884943 442.08 \r\nL 412.677557 442.08 \r\nL 412.677557 442.08 \r\nL 411.884943 442.08 \r\nz\r\n\" style=\"fill:#1f77b4;fill-opacity:0.5;stroke:#000000;stroke-linejoin:miter;stroke-width:0.079261;\"/>\r\n   </g>\r\n   <g id=\"patch_426\">\r\n    <path clip-path=\"url(#p1e020dd2c8)\" d=\"M 412.677557 442.08 \r\nL 413.47017 442.08 \r\nL 413.47017 442.08 \r\nL 412.677557 442.08 \r\nz\r\n\" style=\"fill:#1f77b4;fill-opacity:0.5;stroke:#000000;stroke-linejoin:miter;stroke-width:0.079261;\"/>\r\n   </g>\r\n   <g id=\"patch_427\">\r\n    <path clip-path=\"url(#p1e020dd2c8)\" d=\"M 413.47017 442.08 \r\nL 414.262784 442.08 \r\nL 414.262784 442.08 \r\nL 413.47017 442.08 \r\nz\r\n\" style=\"fill:#1f77b4;fill-opacity:0.5;stroke:#000000;stroke-linejoin:miter;stroke-width:0.079261;\"/>\r\n   </g>\r\n   <g id=\"patch_428\">\r\n    <path clip-path=\"url(#p1e020dd2c8)\" d=\"M 414.262784 442.08 \r\nL 415.055398 442.08 \r\nL 415.055398 442.08 \r\nL 414.262784 442.08 \r\nz\r\n\" style=\"fill:#1f77b4;fill-opacity:0.5;stroke:#000000;stroke-linejoin:miter;stroke-width:0.079261;\"/>\r\n   </g>\r\n   <g id=\"patch_429\">\r\n    <path clip-path=\"url(#p1e020dd2c8)\" d=\"M 415.055398 442.08 \r\nL 415.848011 442.08 \r\nL 415.848011 442.08 \r\nL 415.055398 442.08 \r\nz\r\n\" style=\"fill:#1f77b4;fill-opacity:0.5;stroke:#000000;stroke-linejoin:miter;stroke-width:0.079261;\"/>\r\n   </g>\r\n   <g id=\"patch_430\">\r\n    <path clip-path=\"url(#p1e020dd2c8)\" d=\"M 415.848011 442.08 \r\nL 416.640625 442.08 \r\nL 416.640625 442.08 \r\nL 415.848011 442.08 \r\nz\r\n\" style=\"fill:#1f77b4;fill-opacity:0.5;stroke:#000000;stroke-linejoin:miter;stroke-width:0.079261;\"/>\r\n   </g>\r\n   <g id=\"patch_431\">\r\n    <path clip-path=\"url(#p1e020dd2c8)\" d=\"M 416.640625 442.08 \r\nL 417.433239 442.08 \r\nL 417.433239 442.08 \r\nL 416.640625 442.08 \r\nz\r\n\" style=\"fill:#1f77b4;fill-opacity:0.5;stroke:#000000;stroke-linejoin:miter;stroke-width:0.079261;\"/>\r\n   </g>\r\n   <g id=\"patch_432\">\r\n    <path clip-path=\"url(#p1e020dd2c8)\" d=\"M 417.433239 442.08 \r\nL 418.225852 442.08 \r\nL 418.225852 442.08 \r\nL 417.433239 442.08 \r\nz\r\n\" style=\"fill:#1f77b4;fill-opacity:0.5;stroke:#000000;stroke-linejoin:miter;stroke-width:0.079261;\"/>\r\n   </g>\r\n   <g id=\"patch_433\">\r\n    <path clip-path=\"url(#p1e020dd2c8)\" d=\"M 418.225852 442.08 \r\nL 419.018466 442.08 \r\nL 419.018466 442.08 \r\nL 418.225852 442.08 \r\nz\r\n\" style=\"fill:#1f77b4;fill-opacity:0.5;stroke:#000000;stroke-linejoin:miter;stroke-width:0.079261;\"/>\r\n   </g>\r\n   <g id=\"patch_434\">\r\n    <path clip-path=\"url(#p1e020dd2c8)\" d=\"M 419.018466 442.08 \r\nL 419.81108 442.08 \r\nL 419.81108 442.08 \r\nL 419.018466 442.08 \r\nz\r\n\" style=\"fill:#1f77b4;fill-opacity:0.5;stroke:#000000;stroke-linejoin:miter;stroke-width:0.079261;\"/>\r\n   </g>\r\n   <g id=\"patch_435\">\r\n    <path clip-path=\"url(#p1e020dd2c8)\" d=\"M 419.81108 442.08 \r\nL 420.603693 442.08 \r\nL 420.603693 442.08 \r\nL 419.81108 442.08 \r\nz\r\n\" style=\"fill:#1f77b4;fill-opacity:0.5;stroke:#000000;stroke-linejoin:miter;stroke-width:0.079261;\"/>\r\n   </g>\r\n   <g id=\"patch_436\">\r\n    <path clip-path=\"url(#p1e020dd2c8)\" d=\"M 420.603693 442.08 \r\nL 421.396307 442.08 \r\nL 421.396307 442.08 \r\nL 420.603693 442.08 \r\nz\r\n\" style=\"fill:#1f77b4;fill-opacity:0.5;stroke:#000000;stroke-linejoin:miter;stroke-width:0.079261;\"/>\r\n   </g>\r\n   <g id=\"patch_437\">\r\n    <path clip-path=\"url(#p1e020dd2c8)\" d=\"M 421.396307 442.08 \r\nL 422.18892 442.08 \r\nL 422.18892 442.08 \r\nL 421.396307 442.08 \r\nz\r\n\" style=\"fill:#1f77b4;fill-opacity:0.5;stroke:#000000;stroke-linejoin:miter;stroke-width:0.079261;\"/>\r\n   </g>\r\n   <g id=\"patch_438\">\r\n    <path clip-path=\"url(#p1e020dd2c8)\" d=\"M 422.18892 442.08 \r\nL 422.981534 442.08 \r\nL 422.981534 442.08 \r\nL 422.18892 442.08 \r\nz\r\n\" style=\"fill:#1f77b4;fill-opacity:0.5;stroke:#000000;stroke-linejoin:miter;stroke-width:0.079261;\"/>\r\n   </g>\r\n   <g id=\"patch_439\">\r\n    <path clip-path=\"url(#p1e020dd2c8)\" d=\"M 422.981534 442.08 \r\nL 423.774148 442.08 \r\nL 423.774148 442.08 \r\nL 422.981534 442.08 \r\nz\r\n\" style=\"fill:#1f77b4;fill-opacity:0.5;stroke:#000000;stroke-linejoin:miter;stroke-width:0.079261;\"/>\r\n   </g>\r\n   <g id=\"patch_440\">\r\n    <path clip-path=\"url(#p1e020dd2c8)\" d=\"M 423.774148 442.08 \r\nL 424.566761 442.08 \r\nL 424.566761 442.08 \r\nL 423.774148 442.08 \r\nz\r\n\" style=\"fill:#1f77b4;fill-opacity:0.5;stroke:#000000;stroke-linejoin:miter;stroke-width:0.079261;\"/>\r\n   </g>\r\n   <g id=\"patch_441\">\r\n    <path clip-path=\"url(#p1e020dd2c8)\" d=\"M 424.566761 442.08 \r\nL 425.359375 442.08 \r\nL 425.359375 442.08 \r\nL 424.566761 442.08 \r\nz\r\n\" style=\"fill:#1f77b4;fill-opacity:0.5;stroke:#000000;stroke-linejoin:miter;stroke-width:0.079261;\"/>\r\n   </g>\r\n   <g id=\"patch_442\">\r\n    <path clip-path=\"url(#p1e020dd2c8)\" d=\"M 425.359375 442.08 \r\nL 426.151989 442.08 \r\nL 426.151989 442.08 \r\nL 425.359375 442.08 \r\nz\r\n\" style=\"fill:#1f77b4;fill-opacity:0.5;stroke:#000000;stroke-linejoin:miter;stroke-width:0.079261;\"/>\r\n   </g>\r\n   <g id=\"patch_443\">\r\n    <path clip-path=\"url(#p1e020dd2c8)\" d=\"M 426.151989 442.08 \r\nL 426.944602 442.08 \r\nL 426.944602 442.08 \r\nL 426.151989 442.08 \r\nz\r\n\" style=\"fill:#1f77b4;fill-opacity:0.5;stroke:#000000;stroke-linejoin:miter;stroke-width:0.079261;\"/>\r\n   </g>\r\n   <g id=\"patch_444\">\r\n    <path clip-path=\"url(#p1e020dd2c8)\" d=\"M 426.944602 442.08 \r\nL 427.737216 442.08 \r\nL 427.737216 442.08 \r\nL 426.944602 442.08 \r\nz\r\n\" style=\"fill:#1f77b4;fill-opacity:0.5;stroke:#000000;stroke-linejoin:miter;stroke-width:0.079261;\"/>\r\n   </g>\r\n   <g id=\"patch_445\">\r\n    <path clip-path=\"url(#p1e020dd2c8)\" d=\"M 427.737216 442.08 \r\nL 428.52983 442.08 \r\nL 428.52983 442.08 \r\nL 427.737216 442.08 \r\nz\r\n\" style=\"fill:#1f77b4;fill-opacity:0.5;stroke:#000000;stroke-linejoin:miter;stroke-width:0.079261;\"/>\r\n   </g>\r\n   <g id=\"patch_446\">\r\n    <path clip-path=\"url(#p1e020dd2c8)\" d=\"M 428.52983 442.08 \r\nL 429.322443 442.08 \r\nL 429.322443 442.08 \r\nL 428.52983 442.08 \r\nz\r\n\" style=\"fill:#1f77b4;fill-opacity:0.5;stroke:#000000;stroke-linejoin:miter;stroke-width:0.079261;\"/>\r\n   </g>\r\n   <g id=\"patch_447\">\r\n    <path clip-path=\"url(#p1e020dd2c8)\" d=\"M 429.322443 442.08 \r\nL 430.115057 442.08 \r\nL 430.115057 442.08 \r\nL 429.322443 442.08 \r\nz\r\n\" style=\"fill:#1f77b4;fill-opacity:0.5;stroke:#000000;stroke-linejoin:miter;stroke-width:0.079261;\"/>\r\n   </g>\r\n   <g id=\"patch_448\">\r\n    <path clip-path=\"url(#p1e020dd2c8)\" d=\"M 430.115057 442.08 \r\nL 430.90767 442.08 \r\nL 430.90767 442.08 \r\nL 430.115057 442.08 \r\nz\r\n\" style=\"fill:#1f77b4;fill-opacity:0.5;stroke:#000000;stroke-linejoin:miter;stroke-width:0.079261;\"/>\r\n   </g>\r\n   <g id=\"patch_449\">\r\n    <path clip-path=\"url(#p1e020dd2c8)\" d=\"M 430.90767 442.08 \r\nL 431.700284 442.08 \r\nL 431.700284 441.516501 \r\nL 430.90767 441.516501 \r\nz\r\n\" style=\"fill:#1f77b4;fill-opacity:0.5;stroke:#000000;stroke-linejoin:miter;stroke-width:0.079261;\"/>\r\n   </g>\r\n   <g id=\"patch_450\">\r\n    <path clip-path=\"url(#p1e020dd2c8)\" d=\"M 431.700284 442.08 \r\nL 432.492898 442.08 \r\nL 432.492898 442.08 \r\nL 431.700284 442.08 \r\nz\r\n\" style=\"fill:#1f77b4;fill-opacity:0.5;stroke:#000000;stroke-linejoin:miter;stroke-width:0.079261;\"/>\r\n   </g>\r\n   <g id=\"patch_451\">\r\n    <path clip-path=\"url(#p1e020dd2c8)\" d=\"M 432.492898 442.08 \r\nL 433.285511 442.08 \r\nL 433.285511 442.08 \r\nL 432.492898 442.08 \r\nz\r\n\" style=\"fill:#1f77b4;fill-opacity:0.5;stroke:#000000;stroke-linejoin:miter;stroke-width:0.079261;\"/>\r\n   </g>\r\n   <g id=\"patch_452\">\r\n    <path clip-path=\"url(#p1e020dd2c8)\" d=\"M 433.285511 442.08 \r\nL 434.078125 442.08 \r\nL 434.078125 442.08 \r\nL 433.285511 442.08 \r\nz\r\n\" style=\"fill:#1f77b4;fill-opacity:0.5;stroke:#000000;stroke-linejoin:miter;stroke-width:0.079261;\"/>\r\n   </g>\r\n   <g id=\"patch_453\">\r\n    <path clip-path=\"url(#p1e020dd2c8)\" d=\"M 434.078125 442.08 \r\nL 434.870739 442.08 \r\nL 434.870739 442.08 \r\nL 434.078125 442.08 \r\nz\r\n\" style=\"fill:#1f77b4;fill-opacity:0.5;stroke:#000000;stroke-linejoin:miter;stroke-width:0.079261;\"/>\r\n   </g>\r\n   <g id=\"patch_454\">\r\n    <path clip-path=\"url(#p1e020dd2c8)\" d=\"M 434.870739 442.08 \r\nL 435.663352 442.08 \r\nL 435.663352 442.08 \r\nL 434.870739 442.08 \r\nz\r\n\" style=\"fill:#1f77b4;fill-opacity:0.5;stroke:#000000;stroke-linejoin:miter;stroke-width:0.079261;\"/>\r\n   </g>\r\n   <g id=\"patch_455\">\r\n    <path clip-path=\"url(#p1e020dd2c8)\" d=\"M 435.663352 442.08 \r\nL 436.455966 442.08 \r\nL 436.455966 442.08 \r\nL 435.663352 442.08 \r\nz\r\n\" style=\"fill:#1f77b4;fill-opacity:0.5;stroke:#000000;stroke-linejoin:miter;stroke-width:0.079261;\"/>\r\n   </g>\r\n   <g id=\"patch_456\">\r\n    <path clip-path=\"url(#p1e020dd2c8)\" d=\"M 436.455966 442.08 \r\nL 437.24858 442.08 \r\nL 437.24858 442.08 \r\nL 436.455966 442.08 \r\nz\r\n\" style=\"fill:#1f77b4;fill-opacity:0.5;stroke:#000000;stroke-linejoin:miter;stroke-width:0.079261;\"/>\r\n   </g>\r\n   <g id=\"patch_457\">\r\n    <path clip-path=\"url(#p1e020dd2c8)\" d=\"M 437.24858 442.08 \r\nL 438.041193 442.08 \r\nL 438.041193 442.08 \r\nL 437.24858 442.08 \r\nz\r\n\" style=\"fill:#1f77b4;fill-opacity:0.5;stroke:#000000;stroke-linejoin:miter;stroke-width:0.079261;\"/>\r\n   </g>\r\n   <g id=\"patch_458\">\r\n    <path clip-path=\"url(#p1e020dd2c8)\" d=\"M 438.041193 442.08 \r\nL 438.833807 442.08 \r\nL 438.833807 442.08 \r\nL 438.041193 442.08 \r\nz\r\n\" style=\"fill:#1f77b4;fill-opacity:0.5;stroke:#000000;stroke-linejoin:miter;stroke-width:0.079261;\"/>\r\n   </g>\r\n   <g id=\"patch_459\">\r\n    <path clip-path=\"url(#p1e020dd2c8)\" d=\"M 438.833807 442.08 \r\nL 439.62642 442.08 \r\nL 439.62642 442.08 \r\nL 438.833807 442.08 \r\nz\r\n\" style=\"fill:#1f77b4;fill-opacity:0.5;stroke:#000000;stroke-linejoin:miter;stroke-width:0.079261;\"/>\r\n   </g>\r\n   <g id=\"patch_460\">\r\n    <path clip-path=\"url(#p1e020dd2c8)\" d=\"M 439.62642 442.08 \r\nL 440.419034 442.08 \r\nL 440.419034 442.08 \r\nL 439.62642 442.08 \r\nz\r\n\" style=\"fill:#1f77b4;fill-opacity:0.5;stroke:#000000;stroke-linejoin:miter;stroke-width:0.079261;\"/>\r\n   </g>\r\n   <g id=\"patch_461\">\r\n    <path clip-path=\"url(#p1e020dd2c8)\" d=\"M 440.419034 442.08 \r\nL 441.211648 442.08 \r\nL 441.211648 442.08 \r\nL 440.419034 442.08 \r\nz\r\n\" style=\"fill:#1f77b4;fill-opacity:0.5;stroke:#000000;stroke-linejoin:miter;stroke-width:0.079261;\"/>\r\n   </g>\r\n   <g id=\"patch_462\">\r\n    <path clip-path=\"url(#p1e020dd2c8)\" d=\"M 441.211648 442.08 \r\nL 442.004261 442.08 \r\nL 442.004261 442.08 \r\nL 441.211648 442.08 \r\nz\r\n\" style=\"fill:#1f77b4;fill-opacity:0.5;stroke:#000000;stroke-linejoin:miter;stroke-width:0.079261;\"/>\r\n   </g>\r\n   <g id=\"patch_463\">\r\n    <path clip-path=\"url(#p1e020dd2c8)\" d=\"M 442.004261 442.08 \r\nL 442.796875 442.08 \r\nL 442.796875 442.08 \r\nL 442.004261 442.08 \r\nz\r\n\" style=\"fill:#1f77b4;fill-opacity:0.5;stroke:#000000;stroke-linejoin:miter;stroke-width:0.079261;\"/>\r\n   </g>\r\n   <g id=\"patch_464\">\r\n    <path clip-path=\"url(#p1e020dd2c8)\" d=\"M 442.796875 442.08 \r\nL 443.589489 442.08 \r\nL 443.589489 442.08 \r\nL 442.796875 442.08 \r\nz\r\n\" style=\"fill:#1f77b4;fill-opacity:0.5;stroke:#000000;stroke-linejoin:miter;stroke-width:0.079261;\"/>\r\n   </g>\r\n   <g id=\"patch_465\">\r\n    <path clip-path=\"url(#p1e020dd2c8)\" d=\"M 443.589489 442.08 \r\nL 444.382102 442.08 \r\nL 444.382102 442.08 \r\nL 443.589489 442.08 \r\nz\r\n\" style=\"fill:#1f77b4;fill-opacity:0.5;stroke:#000000;stroke-linejoin:miter;stroke-width:0.079261;\"/>\r\n   </g>\r\n   <g id=\"patch_466\">\r\n    <path clip-path=\"url(#p1e020dd2c8)\" d=\"M 444.382102 442.08 \r\nL 445.174716 442.08 \r\nL 445.174716 442.08 \r\nL 444.382102 442.08 \r\nz\r\n\" style=\"fill:#1f77b4;fill-opacity:0.5;stroke:#000000;stroke-linejoin:miter;stroke-width:0.079261;\"/>\r\n   </g>\r\n   <g id=\"patch_467\">\r\n    <path clip-path=\"url(#p1e020dd2c8)\" d=\"M 445.174716 442.08 \r\nL 445.96733 442.08 \r\nL 445.96733 442.08 \r\nL 445.174716 442.08 \r\nz\r\n\" style=\"fill:#1f77b4;fill-opacity:0.5;stroke:#000000;stroke-linejoin:miter;stroke-width:0.079261;\"/>\r\n   </g>\r\n   <g id=\"patch_468\">\r\n    <path clip-path=\"url(#p1e020dd2c8)\" d=\"M 445.96733 442.08 \r\nL 446.759943 442.08 \r\nL 446.759943 442.08 \r\nL 445.96733 442.08 \r\nz\r\n\" style=\"fill:#1f77b4;fill-opacity:0.5;stroke:#000000;stroke-linejoin:miter;stroke-width:0.079261;\"/>\r\n   </g>\r\n   <g id=\"patch_469\">\r\n    <path clip-path=\"url(#p1e020dd2c8)\" d=\"M 446.759943 442.08 \r\nL 447.552557 442.08 \r\nL 447.552557 442.08 \r\nL 446.759943 442.08 \r\nz\r\n\" style=\"fill:#1f77b4;fill-opacity:0.5;stroke:#000000;stroke-linejoin:miter;stroke-width:0.079261;\"/>\r\n   </g>\r\n   <g id=\"patch_470\">\r\n    <path clip-path=\"url(#p1e020dd2c8)\" d=\"M 447.552557 442.08 \r\nL 448.34517 442.08 \r\nL 448.34517 442.08 \r\nL 447.552557 442.08 \r\nz\r\n\" style=\"fill:#1f77b4;fill-opacity:0.5;stroke:#000000;stroke-linejoin:miter;stroke-width:0.079261;\"/>\r\n   </g>\r\n   <g id=\"patch_471\">\r\n    <path clip-path=\"url(#p1e020dd2c8)\" d=\"M 448.34517 442.08 \r\nL 449.137784 442.08 \r\nL 449.137784 442.08 \r\nL 448.34517 442.08 \r\nz\r\n\" style=\"fill:#1f77b4;fill-opacity:0.5;stroke:#000000;stroke-linejoin:miter;stroke-width:0.079261;\"/>\r\n   </g>\r\n   <g id=\"patch_472\">\r\n    <path clip-path=\"url(#p1e020dd2c8)\" d=\"M 449.137784 442.08 \r\nL 449.930398 442.08 \r\nL 449.930398 442.08 \r\nL 449.137784 442.08 \r\nz\r\n\" style=\"fill:#1f77b4;fill-opacity:0.5;stroke:#000000;stroke-linejoin:miter;stroke-width:0.079261;\"/>\r\n   </g>\r\n   <g id=\"patch_473\">\r\n    <path clip-path=\"url(#p1e020dd2c8)\" d=\"M 449.930398 442.08 \r\nL 450.723011 442.08 \r\nL 450.723011 442.08 \r\nL 449.930398 442.08 \r\nz\r\n\" style=\"fill:#1f77b4;fill-opacity:0.5;stroke:#000000;stroke-linejoin:miter;stroke-width:0.079261;\"/>\r\n   </g>\r\n   <g id=\"patch_474\">\r\n    <path clip-path=\"url(#p1e020dd2c8)\" d=\"M 450.723011 442.08 \r\nL 451.515625 442.08 \r\nL 451.515625 442.08 \r\nL 450.723011 442.08 \r\nz\r\n\" style=\"fill:#1f77b4;fill-opacity:0.5;stroke:#000000;stroke-linejoin:miter;stroke-width:0.079261;\"/>\r\n   </g>\r\n   <g id=\"patch_475\">\r\n    <path clip-path=\"url(#p1e020dd2c8)\" d=\"M 451.515625 442.08 \r\nL 452.308239 442.08 \r\nL 452.308239 442.08 \r\nL 451.515625 442.08 \r\nz\r\n\" style=\"fill:#1f77b4;fill-opacity:0.5;stroke:#000000;stroke-linejoin:miter;stroke-width:0.079261;\"/>\r\n   </g>\r\n   <g id=\"patch_476\">\r\n    <path clip-path=\"url(#p1e020dd2c8)\" d=\"M 452.308239 442.08 \r\nL 453.100852 442.08 \r\nL 453.100852 442.08 \r\nL 452.308239 442.08 \r\nz\r\n\" style=\"fill:#1f77b4;fill-opacity:0.5;stroke:#000000;stroke-linejoin:miter;stroke-width:0.079261;\"/>\r\n   </g>\r\n   <g id=\"patch_477\">\r\n    <path clip-path=\"url(#p1e020dd2c8)\" d=\"M 453.100852 442.08 \r\nL 453.893466 442.08 \r\nL 453.893466 442.08 \r\nL 453.100852 442.08 \r\nz\r\n\" style=\"fill:#1f77b4;fill-opacity:0.5;stroke:#000000;stroke-linejoin:miter;stroke-width:0.079261;\"/>\r\n   </g>\r\n   <g id=\"patch_478\">\r\n    <path clip-path=\"url(#p1e020dd2c8)\" d=\"M 453.893466 442.08 \r\nL 454.68608 442.08 \r\nL 454.68608 442.08 \r\nL 453.893466 442.08 \r\nz\r\n\" style=\"fill:#1f77b4;fill-opacity:0.5;stroke:#000000;stroke-linejoin:miter;stroke-width:0.079261;\"/>\r\n   </g>\r\n   <g id=\"patch_479\">\r\n    <path clip-path=\"url(#p1e020dd2c8)\" d=\"M 454.68608 442.08 \r\nL 455.478693 442.08 \r\nL 455.478693 442.08 \r\nL 454.68608 442.08 \r\nz\r\n\" style=\"fill:#1f77b4;fill-opacity:0.5;stroke:#000000;stroke-linejoin:miter;stroke-width:0.079261;\"/>\r\n   </g>\r\n   <g id=\"patch_480\">\r\n    <path clip-path=\"url(#p1e020dd2c8)\" d=\"M 455.478693 442.08 \r\nL 456.271307 442.08 \r\nL 456.271307 442.08 \r\nL 455.478693 442.08 \r\nz\r\n\" style=\"fill:#1f77b4;fill-opacity:0.5;stroke:#000000;stroke-linejoin:miter;stroke-width:0.079261;\"/>\r\n   </g>\r\n   <g id=\"patch_481\">\r\n    <path clip-path=\"url(#p1e020dd2c8)\" d=\"M 456.271307 442.08 \r\nL 457.06392 442.08 \r\nL 457.06392 442.08 \r\nL 456.271307 442.08 \r\nz\r\n\" style=\"fill:#1f77b4;fill-opacity:0.5;stroke:#000000;stroke-linejoin:miter;stroke-width:0.079261;\"/>\r\n   </g>\r\n   <g id=\"patch_482\">\r\n    <path clip-path=\"url(#p1e020dd2c8)\" d=\"M 457.06392 442.08 \r\nL 457.856534 442.08 \r\nL 457.856534 442.08 \r\nL 457.06392 442.08 \r\nz\r\n\" style=\"fill:#1f77b4;fill-opacity:0.5;stroke:#000000;stroke-linejoin:miter;stroke-width:0.079261;\"/>\r\n   </g>\r\n   <g id=\"patch_483\">\r\n    <path clip-path=\"url(#p1e020dd2c8)\" d=\"M 457.856534 442.08 \r\nL 458.649148 442.08 \r\nL 458.649148 442.08 \r\nL 457.856534 442.08 \r\nz\r\n\" style=\"fill:#1f77b4;fill-opacity:0.5;stroke:#000000;stroke-linejoin:miter;stroke-width:0.079261;\"/>\r\n   </g>\r\n   <g id=\"patch_484\">\r\n    <path clip-path=\"url(#p1e020dd2c8)\" d=\"M 458.649148 442.08 \r\nL 459.441761 442.08 \r\nL 459.441761 442.08 \r\nL 458.649148 442.08 \r\nz\r\n\" style=\"fill:#1f77b4;fill-opacity:0.5;stroke:#000000;stroke-linejoin:miter;stroke-width:0.079261;\"/>\r\n   </g>\r\n   <g id=\"patch_485\">\r\n    <path clip-path=\"url(#p1e020dd2c8)\" d=\"M 459.441761 442.08 \r\nL 460.234375 442.08 \r\nL 460.234375 442.08 \r\nL 459.441761 442.08 \r\nz\r\n\" style=\"fill:#1f77b4;fill-opacity:0.5;stroke:#000000;stroke-linejoin:miter;stroke-width:0.079261;\"/>\r\n   </g>\r\n   <g id=\"patch_486\">\r\n    <path clip-path=\"url(#p1e020dd2c8)\" d=\"M 460.234375 442.08 \r\nL 461.026989 442.08 \r\nL 461.026989 442.08 \r\nL 460.234375 442.08 \r\nz\r\n\" style=\"fill:#1f77b4;fill-opacity:0.5;stroke:#000000;stroke-linejoin:miter;stroke-width:0.079261;\"/>\r\n   </g>\r\n   <g id=\"patch_487\">\r\n    <path clip-path=\"url(#p1e020dd2c8)\" d=\"M 461.026989 442.08 \r\nL 461.819602 442.08 \r\nL 461.819602 442.08 \r\nL 461.026989 442.08 \r\nz\r\n\" style=\"fill:#1f77b4;fill-opacity:0.5;stroke:#000000;stroke-linejoin:miter;stroke-width:0.079261;\"/>\r\n   </g>\r\n   <g id=\"patch_488\">\r\n    <path clip-path=\"url(#p1e020dd2c8)\" d=\"M 461.819602 442.08 \r\nL 462.612216 442.08 \r\nL 462.612216 442.08 \r\nL 461.819602 442.08 \r\nz\r\n\" style=\"fill:#1f77b4;fill-opacity:0.5;stroke:#000000;stroke-linejoin:miter;stroke-width:0.079261;\"/>\r\n   </g>\r\n   <g id=\"patch_489\">\r\n    <path clip-path=\"url(#p1e020dd2c8)\" d=\"M 462.612216 442.08 \r\nL 463.40483 442.08 \r\nL 463.40483 442.08 \r\nL 462.612216 442.08 \r\nz\r\n\" style=\"fill:#1f77b4;fill-opacity:0.5;stroke:#000000;stroke-linejoin:miter;stroke-width:0.079261;\"/>\r\n   </g>\r\n   <g id=\"patch_490\">\r\n    <path clip-path=\"url(#p1e020dd2c8)\" d=\"M 463.40483 442.08 \r\nL 464.197443 442.08 \r\nL 464.197443 442.08 \r\nL 463.40483 442.08 \r\nz\r\n\" style=\"fill:#1f77b4;fill-opacity:0.5;stroke:#000000;stroke-linejoin:miter;stroke-width:0.079261;\"/>\r\n   </g>\r\n   <g id=\"patch_491\">\r\n    <path clip-path=\"url(#p1e020dd2c8)\" d=\"M 464.197443 442.08 \r\nL 464.990057 442.08 \r\nL 464.990057 442.08 \r\nL 464.197443 442.08 \r\nz\r\n\" style=\"fill:#1f77b4;fill-opacity:0.5;stroke:#000000;stroke-linejoin:miter;stroke-width:0.079261;\"/>\r\n   </g>\r\n   <g id=\"patch_492\">\r\n    <path clip-path=\"url(#p1e020dd2c8)\" d=\"M 464.990057 442.08 \r\nL 465.78267 442.08 \r\nL 465.78267 442.08 \r\nL 464.990057 442.08 \r\nz\r\n\" style=\"fill:#1f77b4;fill-opacity:0.5;stroke:#000000;stroke-linejoin:miter;stroke-width:0.079261;\"/>\r\n   </g>\r\n   <g id=\"patch_493\">\r\n    <path clip-path=\"url(#p1e020dd2c8)\" d=\"M 465.78267 442.08 \r\nL 466.575284 442.08 \r\nL 466.575284 442.08 \r\nL 465.78267 442.08 \r\nz\r\n\" style=\"fill:#1f77b4;fill-opacity:0.5;stroke:#000000;stroke-linejoin:miter;stroke-width:0.079261;\"/>\r\n   </g>\r\n   <g id=\"patch_494\">\r\n    <path clip-path=\"url(#p1e020dd2c8)\" d=\"M 466.575284 442.08 \r\nL 467.367898 442.08 \r\nL 467.367898 442.08 \r\nL 466.575284 442.08 \r\nz\r\n\" style=\"fill:#1f77b4;fill-opacity:0.5;stroke:#000000;stroke-linejoin:miter;stroke-width:0.079261;\"/>\r\n   </g>\r\n   <g id=\"patch_495\">\r\n    <path clip-path=\"url(#p1e020dd2c8)\" d=\"M 467.367898 442.08 \r\nL 468.160511 442.08 \r\nL 468.160511 442.08 \r\nL 467.367898 442.08 \r\nz\r\n\" style=\"fill:#1f77b4;fill-opacity:0.5;stroke:#000000;stroke-linejoin:miter;stroke-width:0.079261;\"/>\r\n   </g>\r\n   <g id=\"patch_496\">\r\n    <path clip-path=\"url(#p1e020dd2c8)\" d=\"M 468.160511 442.08 \r\nL 468.953125 442.08 \r\nL 468.953125 441.516501 \r\nL 468.160511 441.516501 \r\nz\r\n\" style=\"fill:#1f77b4;fill-opacity:0.5;stroke:#000000;stroke-linejoin:miter;stroke-width:0.079261;\"/>\r\n   </g>\r\n   <g id=\"patch_497\">\r\n    <path clip-path=\"url(#p1e020dd2c8)\" d=\"M 468.953125 442.08 \r\nL 469.745739 442.08 \r\nL 469.745739 442.08 \r\nL 468.953125 442.08 \r\nz\r\n\" style=\"fill:#1f77b4;fill-opacity:0.5;stroke:#000000;stroke-linejoin:miter;stroke-width:0.079261;\"/>\r\n   </g>\r\n   <g id=\"patch_498\">\r\n    <path clip-path=\"url(#p1e020dd2c8)\" d=\"M 469.745739 442.08 \r\nL 470.538352 442.08 \r\nL 470.538352 442.08 \r\nL 469.745739 442.08 \r\nz\r\n\" style=\"fill:#1f77b4;fill-opacity:0.5;stroke:#000000;stroke-linejoin:miter;stroke-width:0.079261;\"/>\r\n   </g>\r\n   <g id=\"patch_499\">\r\n    <path clip-path=\"url(#p1e020dd2c8)\" d=\"M 470.538352 442.08 \r\nL 471.330966 442.08 \r\nL 471.330966 442.08 \r\nL 470.538352 442.08 \r\nz\r\n\" style=\"fill:#1f77b4;fill-opacity:0.5;stroke:#000000;stroke-linejoin:miter;stroke-width:0.079261;\"/>\r\n   </g>\r\n   <g id=\"patch_500\">\r\n    <path clip-path=\"url(#p1e020dd2c8)\" d=\"M 471.330966 442.08 \r\nL 472.12358 442.08 \r\nL 472.12358 442.08 \r\nL 471.330966 442.08 \r\nz\r\n\" style=\"fill:#1f77b4;fill-opacity:0.5;stroke:#000000;stroke-linejoin:miter;stroke-width:0.079261;\"/>\r\n   </g>\r\n   <g id=\"patch_501\">\r\n    <path clip-path=\"url(#p1e020dd2c8)\" d=\"M 472.12358 442.08 \r\nL 472.916193 442.08 \r\nL 472.916193 442.08 \r\nL 472.12358 442.08 \r\nz\r\n\" style=\"fill:#1f77b4;fill-opacity:0.5;stroke:#000000;stroke-linejoin:miter;stroke-width:0.079261;\"/>\r\n   </g>\r\n   <g id=\"patch_502\">\r\n    <path clip-path=\"url(#p1e020dd2c8)\" d=\"M 472.916193 442.08 \r\nL 473.708807 442.08 \r\nL 473.708807 442.08 \r\nL 472.916193 442.08 \r\nz\r\n\" style=\"fill:#1f77b4;fill-opacity:0.5;stroke:#000000;stroke-linejoin:miter;stroke-width:0.079261;\"/>\r\n   </g>\r\n   <g id=\"patch_503\">\r\n    <path clip-path=\"url(#p1e020dd2c8)\" d=\"M 473.708807 442.08 \r\nL 474.50142 442.08 \r\nL 474.50142 442.08 \r\nL 473.708807 442.08 \r\nz\r\n\" style=\"fill:#1f77b4;fill-opacity:0.5;stroke:#000000;stroke-linejoin:miter;stroke-width:0.079261;\"/>\r\n   </g>\r\n   <g id=\"patch_504\">\r\n    <path clip-path=\"url(#p1e020dd2c8)\" d=\"M 474.50142 442.08 \r\nL 475.294034 442.08 \r\nL 475.294034 442.08 \r\nL 474.50142 442.08 \r\nz\r\n\" style=\"fill:#1f77b4;fill-opacity:0.5;stroke:#000000;stroke-linejoin:miter;stroke-width:0.079261;\"/>\r\n   </g>\r\n   <g id=\"patch_505\">\r\n    <path clip-path=\"url(#p1e020dd2c8)\" d=\"M 475.294034 442.08 \r\nL 476.086648 442.08 \r\nL 476.086648 442.08 \r\nL 475.294034 442.08 \r\nz\r\n\" style=\"fill:#1f77b4;fill-opacity:0.5;stroke:#000000;stroke-linejoin:miter;stroke-width:0.079261;\"/>\r\n   </g>\r\n   <g id=\"patch_506\">\r\n    <path clip-path=\"url(#p1e020dd2c8)\" d=\"M 476.086648 442.08 \r\nL 476.879261 442.08 \r\nL 476.879261 442.08 \r\nL 476.086648 442.08 \r\nz\r\n\" style=\"fill:#1f77b4;fill-opacity:0.5;stroke:#000000;stroke-linejoin:miter;stroke-width:0.079261;\"/>\r\n   </g>\r\n   <g id=\"patch_507\">\r\n    <path clip-path=\"url(#p1e020dd2c8)\" d=\"M 476.879261 442.08 \r\nL 477.671875 442.08 \r\nL 477.671875 442.08 \r\nL 476.879261 442.08 \r\nz\r\n\" style=\"fill:#1f77b4;fill-opacity:0.5;stroke:#000000;stroke-linejoin:miter;stroke-width:0.079261;\"/>\r\n   </g>\r\n   <g id=\"patch_508\">\r\n    <path clip-path=\"url(#p1e020dd2c8)\" d=\"M 477.671875 442.08 \r\nL 478.464489 442.08 \r\nL 478.464489 442.08 \r\nL 477.671875 442.08 \r\nz\r\n\" style=\"fill:#1f77b4;fill-opacity:0.5;stroke:#000000;stroke-linejoin:miter;stroke-width:0.079261;\"/>\r\n   </g>\r\n   <g id=\"patch_509\">\r\n    <path clip-path=\"url(#p1e020dd2c8)\" d=\"M 478.464489 442.08 \r\nL 479.257102 442.08 \r\nL 479.257102 442.08 \r\nL 478.464489 442.08 \r\nz\r\n\" style=\"fill:#1f77b4;fill-opacity:0.5;stroke:#000000;stroke-linejoin:miter;stroke-width:0.079261;\"/>\r\n   </g>\r\n   <g id=\"patch_510\">\r\n    <path clip-path=\"url(#p1e020dd2c8)\" d=\"M 479.257102 442.08 \r\nL 480.049716 442.08 \r\nL 480.049716 442.08 \r\nL 479.257102 442.08 \r\nz\r\n\" style=\"fill:#1f77b4;fill-opacity:0.5;stroke:#000000;stroke-linejoin:miter;stroke-width:0.079261;\"/>\r\n   </g>\r\n   <g id=\"patch_511\">\r\n    <path clip-path=\"url(#p1e020dd2c8)\" d=\"M 480.049716 442.08 \r\nL 480.84233 442.08 \r\nL 480.84233 442.08 \r\nL 480.049716 442.08 \r\nz\r\n\" style=\"fill:#1f77b4;fill-opacity:0.5;stroke:#000000;stroke-linejoin:miter;stroke-width:0.079261;\"/>\r\n   </g>\r\n   <g id=\"patch_512\">\r\n    <path clip-path=\"url(#p1e020dd2c8)\" d=\"M 480.84233 442.08 \r\nL 481.634943 442.08 \r\nL 481.634943 442.08 \r\nL 480.84233 442.08 \r\nz\r\n\" style=\"fill:#1f77b4;fill-opacity:0.5;stroke:#000000;stroke-linejoin:miter;stroke-width:0.079261;\"/>\r\n   </g>\r\n   <g id=\"patch_513\">\r\n    <path clip-path=\"url(#p1e020dd2c8)\" d=\"M 481.634943 442.08 \r\nL 482.427557 442.08 \r\nL 482.427557 442.08 \r\nL 481.634943 442.08 \r\nz\r\n\" style=\"fill:#1f77b4;fill-opacity:0.5;stroke:#000000;stroke-linejoin:miter;stroke-width:0.079261;\"/>\r\n   </g>\r\n   <g id=\"patch_514\">\r\n    <path clip-path=\"url(#p1e020dd2c8)\" d=\"M 482.427557 442.08 \r\nL 483.22017 442.08 \r\nL 483.22017 442.08 \r\nL 482.427557 442.08 \r\nz\r\n\" style=\"fill:#1f77b4;fill-opacity:0.5;stroke:#000000;stroke-linejoin:miter;stroke-width:0.079261;\"/>\r\n   </g>\r\n   <g id=\"patch_515\">\r\n    <path clip-path=\"url(#p1e020dd2c8)\" d=\"M 483.22017 442.08 \r\nL 484.012784 442.08 \r\nL 484.012784 442.08 \r\nL 483.22017 442.08 \r\nz\r\n\" style=\"fill:#1f77b4;fill-opacity:0.5;stroke:#000000;stroke-linejoin:miter;stroke-width:0.079261;\"/>\r\n   </g>\r\n   <g id=\"patch_516\">\r\n    <path clip-path=\"url(#p1e020dd2c8)\" d=\"M 484.012784 442.08 \r\nL 484.805398 442.08 \r\nL 484.805398 442.08 \r\nL 484.012784 442.08 \r\nz\r\n\" style=\"fill:#1f77b4;fill-opacity:0.5;stroke:#000000;stroke-linejoin:miter;stroke-width:0.079261;\"/>\r\n   </g>\r\n   <g id=\"patch_517\">\r\n    <path clip-path=\"url(#p1e020dd2c8)\" d=\"M 484.805398 442.08 \r\nL 485.598011 442.08 \r\nL 485.598011 442.08 \r\nL 484.805398 442.08 \r\nz\r\n\" style=\"fill:#1f77b4;fill-opacity:0.5;stroke:#000000;stroke-linejoin:miter;stroke-width:0.079261;\"/>\r\n   </g>\r\n   <g id=\"patch_518\">\r\n    <path clip-path=\"url(#p1e020dd2c8)\" d=\"M 485.598011 442.08 \r\nL 486.390625 442.08 \r\nL 486.390625 442.08 \r\nL 485.598011 442.08 \r\nz\r\n\" style=\"fill:#1f77b4;fill-opacity:0.5;stroke:#000000;stroke-linejoin:miter;stroke-width:0.079261;\"/>\r\n   </g>\r\n   <g id=\"patch_519\">\r\n    <path clip-path=\"url(#p1e020dd2c8)\" d=\"M 486.390625 442.08 \r\nL 487.183239 442.08 \r\nL 487.183239 442.08 \r\nL 486.390625 442.08 \r\nz\r\n\" style=\"fill:#1f77b4;fill-opacity:0.5;stroke:#000000;stroke-linejoin:miter;stroke-width:0.079261;\"/>\r\n   </g>\r\n   <g id=\"patch_520\">\r\n    <path clip-path=\"url(#p1e020dd2c8)\" d=\"M 487.183239 442.08 \r\nL 487.975852 442.08 \r\nL 487.975852 442.08 \r\nL 487.183239 442.08 \r\nz\r\n\" style=\"fill:#1f77b4;fill-opacity:0.5;stroke:#000000;stroke-linejoin:miter;stroke-width:0.079261;\"/>\r\n   </g>\r\n   <g id=\"patch_521\">\r\n    <path clip-path=\"url(#p1e020dd2c8)\" d=\"M 487.975852 442.08 \r\nL 488.768466 442.08 \r\nL 488.768466 442.08 \r\nL 487.975852 442.08 \r\nz\r\n\" style=\"fill:#1f77b4;fill-opacity:0.5;stroke:#000000;stroke-linejoin:miter;stroke-width:0.079261;\"/>\r\n   </g>\r\n   <g id=\"patch_522\">\r\n    <path clip-path=\"url(#p1e020dd2c8)\" d=\"M 488.768466 442.08 \r\nL 489.56108 442.08 \r\nL 489.56108 442.08 \r\nL 488.768466 442.08 \r\nz\r\n\" style=\"fill:#1f77b4;fill-opacity:0.5;stroke:#000000;stroke-linejoin:miter;stroke-width:0.079261;\"/>\r\n   </g>\r\n   <g id=\"patch_523\">\r\n    <path clip-path=\"url(#p1e020dd2c8)\" d=\"M 489.56108 442.08 \r\nL 490.353693 442.08 \r\nL 490.353693 442.08 \r\nL 489.56108 442.08 \r\nz\r\n\" style=\"fill:#1f77b4;fill-opacity:0.5;stroke:#000000;stroke-linejoin:miter;stroke-width:0.079261;\"/>\r\n   </g>\r\n   <g id=\"patch_524\">\r\n    <path clip-path=\"url(#p1e020dd2c8)\" d=\"M 490.353693 442.08 \r\nL 491.146307 442.08 \r\nL 491.146307 442.08 \r\nL 490.353693 442.08 \r\nz\r\n\" style=\"fill:#1f77b4;fill-opacity:0.5;stroke:#000000;stroke-linejoin:miter;stroke-width:0.079261;\"/>\r\n   </g>\r\n   <g id=\"patch_525\">\r\n    <path clip-path=\"url(#p1e020dd2c8)\" d=\"M 491.146307 442.08 \r\nL 491.93892 442.08 \r\nL 491.93892 442.08 \r\nL 491.146307 442.08 \r\nz\r\n\" style=\"fill:#1f77b4;fill-opacity:0.5;stroke:#000000;stroke-linejoin:miter;stroke-width:0.079261;\"/>\r\n   </g>\r\n   <g id=\"patch_526\">\r\n    <path clip-path=\"url(#p1e020dd2c8)\" d=\"M 491.93892 442.08 \r\nL 492.731534 442.08 \r\nL 492.731534 442.08 \r\nL 491.93892 442.08 \r\nz\r\n\" style=\"fill:#1f77b4;fill-opacity:0.5;stroke:#000000;stroke-linejoin:miter;stroke-width:0.079261;\"/>\r\n   </g>\r\n   <g id=\"patch_527\">\r\n    <path clip-path=\"url(#p1e020dd2c8)\" d=\"M 492.731534 442.08 \r\nL 493.524148 442.08 \r\nL 493.524148 442.08 \r\nL 492.731534 442.08 \r\nz\r\n\" style=\"fill:#1f77b4;fill-opacity:0.5;stroke:#000000;stroke-linejoin:miter;stroke-width:0.079261;\"/>\r\n   </g>\r\n   <g id=\"patch_528\">\r\n    <path clip-path=\"url(#p1e020dd2c8)\" d=\"M 493.524148 442.08 \r\nL 494.316761 442.08 \r\nL 494.316761 442.08 \r\nL 493.524148 442.08 \r\nz\r\n\" style=\"fill:#1f77b4;fill-opacity:0.5;stroke:#000000;stroke-linejoin:miter;stroke-width:0.079261;\"/>\r\n   </g>\r\n   <g id=\"patch_529\">\r\n    <path clip-path=\"url(#p1e020dd2c8)\" d=\"M 494.316761 442.08 \r\nL 495.109375 442.08 \r\nL 495.109375 442.08 \r\nL 494.316761 442.08 \r\nz\r\n\" style=\"fill:#1f77b4;fill-opacity:0.5;stroke:#000000;stroke-linejoin:miter;stroke-width:0.079261;\"/>\r\n   </g>\r\n   <g id=\"patch_530\">\r\n    <path clip-path=\"url(#p1e020dd2c8)\" d=\"M 495.109375 442.08 \r\nL 495.901989 442.08 \r\nL 495.901989 442.08 \r\nL 495.109375 442.08 \r\nz\r\n\" style=\"fill:#1f77b4;fill-opacity:0.5;stroke:#000000;stroke-linejoin:miter;stroke-width:0.079261;\"/>\r\n   </g>\r\n   <g id=\"patch_531\">\r\n    <path clip-path=\"url(#p1e020dd2c8)\" d=\"M 495.901989 442.08 \r\nL 496.694602 442.08 \r\nL 496.694602 442.08 \r\nL 495.901989 442.08 \r\nz\r\n\" style=\"fill:#1f77b4;fill-opacity:0.5;stroke:#000000;stroke-linejoin:miter;stroke-width:0.079261;\"/>\r\n   </g>\r\n   <g id=\"patch_532\">\r\n    <path clip-path=\"url(#p1e020dd2c8)\" d=\"M 496.694602 442.08 \r\nL 497.487216 442.08 \r\nL 497.487216 442.08 \r\nL 496.694602 442.08 \r\nz\r\n\" style=\"fill:#1f77b4;fill-opacity:0.5;stroke:#000000;stroke-linejoin:miter;stroke-width:0.079261;\"/>\r\n   </g>\r\n   <g id=\"patch_533\">\r\n    <path clip-path=\"url(#p1e020dd2c8)\" d=\"M 497.487216 442.08 \r\nL 498.27983 442.08 \r\nL 498.27983 442.08 \r\nL 497.487216 442.08 \r\nz\r\n\" style=\"fill:#1f77b4;fill-opacity:0.5;stroke:#000000;stroke-linejoin:miter;stroke-width:0.079261;\"/>\r\n   </g>\r\n   <g id=\"patch_534\">\r\n    <path clip-path=\"url(#p1e020dd2c8)\" d=\"M 498.27983 442.08 \r\nL 499.072443 442.08 \r\nL 499.072443 442.08 \r\nL 498.27983 442.08 \r\nz\r\n\" style=\"fill:#1f77b4;fill-opacity:0.5;stroke:#000000;stroke-linejoin:miter;stroke-width:0.079261;\"/>\r\n   </g>\r\n   <g id=\"patch_535\">\r\n    <path clip-path=\"url(#p1e020dd2c8)\" d=\"M 499.072443 442.08 \r\nL 499.865057 442.08 \r\nL 499.865057 442.08 \r\nL 499.072443 442.08 \r\nz\r\n\" style=\"fill:#1f77b4;fill-opacity:0.5;stroke:#000000;stroke-linejoin:miter;stroke-width:0.079261;\"/>\r\n   </g>\r\n   <g id=\"patch_536\">\r\n    <path clip-path=\"url(#p1e020dd2c8)\" d=\"M 499.865057 442.08 \r\nL 500.65767 442.08 \r\nL 500.65767 442.08 \r\nL 499.865057 442.08 \r\nz\r\n\" style=\"fill:#1f77b4;fill-opacity:0.5;stroke:#000000;stroke-linejoin:miter;stroke-width:0.079261;\"/>\r\n   </g>\r\n   <g id=\"patch_537\">\r\n    <path clip-path=\"url(#p1e020dd2c8)\" d=\"M 500.65767 442.08 \r\nL 501.450284 442.08 \r\nL 501.450284 442.08 \r\nL 500.65767 442.08 \r\nz\r\n\" style=\"fill:#1f77b4;fill-opacity:0.5;stroke:#000000;stroke-linejoin:miter;stroke-width:0.079261;\"/>\r\n   </g>\r\n   <g id=\"patch_538\">\r\n    <path clip-path=\"url(#p1e020dd2c8)\" d=\"M 501.450284 442.08 \r\nL 502.242898 442.08 \r\nL 502.242898 442.08 \r\nL 501.450284 442.08 \r\nz\r\n\" style=\"fill:#1f77b4;fill-opacity:0.5;stroke:#000000;stroke-linejoin:miter;stroke-width:0.079261;\"/>\r\n   </g>\r\n   <g id=\"patch_539\">\r\n    <path clip-path=\"url(#p1e020dd2c8)\" d=\"M 502.242898 442.08 \r\nL 503.035511 442.08 \r\nL 503.035511 442.08 \r\nL 502.242898 442.08 \r\nz\r\n\" style=\"fill:#1f77b4;fill-opacity:0.5;stroke:#000000;stroke-linejoin:miter;stroke-width:0.079261;\"/>\r\n   </g>\r\n   <g id=\"patch_540\">\r\n    <path clip-path=\"url(#p1e020dd2c8)\" d=\"M 503.035511 442.08 \r\nL 503.828125 442.08 \r\nL 503.828125 442.08 \r\nL 503.035511 442.08 \r\nz\r\n\" style=\"fill:#1f77b4;fill-opacity:0.5;stroke:#000000;stroke-linejoin:miter;stroke-width:0.079261;\"/>\r\n   </g>\r\n   <g id=\"patch_541\">\r\n    <path clip-path=\"url(#p1e020dd2c8)\" d=\"M 503.828125 442.08 \r\nL 504.620739 442.08 \r\nL 504.620739 442.08 \r\nL 503.828125 442.08 \r\nz\r\n\" style=\"fill:#1f77b4;fill-opacity:0.5;stroke:#000000;stroke-linejoin:miter;stroke-width:0.079261;\"/>\r\n   </g>\r\n   <g id=\"patch_542\">\r\n    <path clip-path=\"url(#p1e020dd2c8)\" d=\"M 504.620739 442.08 \r\nL 505.413352 442.08 \r\nL 505.413352 442.08 \r\nL 504.620739 442.08 \r\nz\r\n\" style=\"fill:#1f77b4;fill-opacity:0.5;stroke:#000000;stroke-linejoin:miter;stroke-width:0.079261;\"/>\r\n   </g>\r\n   <g id=\"patch_543\">\r\n    <path clip-path=\"url(#p1e020dd2c8)\" d=\"M 505.413352 442.08 \r\nL 506.205966 442.08 \r\nL 506.205966 442.08 \r\nL 505.413352 442.08 \r\nz\r\n\" style=\"fill:#1f77b4;fill-opacity:0.5;stroke:#000000;stroke-linejoin:miter;stroke-width:0.079261;\"/>\r\n   </g>\r\n   <g id=\"patch_544\">\r\n    <path clip-path=\"url(#p1e020dd2c8)\" d=\"M 506.205966 442.08 \r\nL 506.99858 442.08 \r\nL 506.99858 442.08 \r\nL 506.205966 442.08 \r\nz\r\n\" style=\"fill:#1f77b4;fill-opacity:0.5;stroke:#000000;stroke-linejoin:miter;stroke-width:0.079261;\"/>\r\n   </g>\r\n   <g id=\"patch_545\">\r\n    <path clip-path=\"url(#p1e020dd2c8)\" d=\"M 506.99858 442.08 \r\nL 507.791193 442.08 \r\nL 507.791193 442.08 \r\nL 506.99858 442.08 \r\nz\r\n\" style=\"fill:#1f77b4;fill-opacity:0.5;stroke:#000000;stroke-linejoin:miter;stroke-width:0.079261;\"/>\r\n   </g>\r\n   <g id=\"patch_546\">\r\n    <path clip-path=\"url(#p1e020dd2c8)\" d=\"M 507.791193 442.08 \r\nL 508.583807 442.08 \r\nL 508.583807 442.08 \r\nL 507.791193 442.08 \r\nz\r\n\" style=\"fill:#1f77b4;fill-opacity:0.5;stroke:#000000;stroke-linejoin:miter;stroke-width:0.079261;\"/>\r\n   </g>\r\n   <g id=\"patch_547\">\r\n    <path clip-path=\"url(#p1e020dd2c8)\" d=\"M 508.583807 442.08 \r\nL 509.37642 442.08 \r\nL 509.37642 442.08 \r\nL 508.583807 442.08 \r\nz\r\n\" style=\"fill:#1f77b4;fill-opacity:0.5;stroke:#000000;stroke-linejoin:miter;stroke-width:0.079261;\"/>\r\n   </g>\r\n   <g id=\"patch_548\">\r\n    <path clip-path=\"url(#p1e020dd2c8)\" d=\"M 509.37642 442.08 \r\nL 510.169034 442.08 \r\nL 510.169034 442.08 \r\nL 509.37642 442.08 \r\nz\r\n\" style=\"fill:#1f77b4;fill-opacity:0.5;stroke:#000000;stroke-linejoin:miter;stroke-width:0.079261;\"/>\r\n   </g>\r\n   <g id=\"patch_549\">\r\n    <path clip-path=\"url(#p1e020dd2c8)\" d=\"M 510.169034 442.08 \r\nL 510.961648 442.08 \r\nL 510.961648 442.08 \r\nL 510.169034 442.08 \r\nz\r\n\" style=\"fill:#1f77b4;fill-opacity:0.5;stroke:#000000;stroke-linejoin:miter;stroke-width:0.079261;\"/>\r\n   </g>\r\n   <g id=\"patch_550\">\r\n    <path clip-path=\"url(#p1e020dd2c8)\" d=\"M 510.961648 442.08 \r\nL 511.754261 442.08 \r\nL 511.754261 442.08 \r\nL 510.961648 442.08 \r\nz\r\n\" style=\"fill:#1f77b4;fill-opacity:0.5;stroke:#000000;stroke-linejoin:miter;stroke-width:0.079261;\"/>\r\n   </g>\r\n   <g id=\"patch_551\">\r\n    <path clip-path=\"url(#p1e020dd2c8)\" d=\"M 511.754261 442.08 \r\nL 512.546875 442.08 \r\nL 512.546875 442.08 \r\nL 511.754261 442.08 \r\nz\r\n\" style=\"fill:#1f77b4;fill-opacity:0.5;stroke:#000000;stroke-linejoin:miter;stroke-width:0.079261;\"/>\r\n   </g>\r\n   <g id=\"patch_552\">\r\n    <path clip-path=\"url(#p1e020dd2c8)\" d=\"M 512.546875 442.08 \r\nL 513.339489 442.08 \r\nL 513.339489 442.08 \r\nL 512.546875 442.08 \r\nz\r\n\" style=\"fill:#1f77b4;fill-opacity:0.5;stroke:#000000;stroke-linejoin:miter;stroke-width:0.079261;\"/>\r\n   </g>\r\n   <g id=\"patch_553\">\r\n    <path clip-path=\"url(#p1e020dd2c8)\" d=\"M 513.339489 442.08 \r\nL 514.132102 442.08 \r\nL 514.132102 442.08 \r\nL 513.339489 442.08 \r\nz\r\n\" style=\"fill:#1f77b4;fill-opacity:0.5;stroke:#000000;stroke-linejoin:miter;stroke-width:0.079261;\"/>\r\n   </g>\r\n   <g id=\"patch_554\">\r\n    <path clip-path=\"url(#p1e020dd2c8)\" d=\"M 514.132102 442.08 \r\nL 514.924716 442.08 \r\nL 514.924716 442.08 \r\nL 514.132102 442.08 \r\nz\r\n\" style=\"fill:#1f77b4;fill-opacity:0.5;stroke:#000000;stroke-linejoin:miter;stroke-width:0.079261;\"/>\r\n   </g>\r\n   <g id=\"patch_555\">\r\n    <path clip-path=\"url(#p1e020dd2c8)\" d=\"M 514.924716 442.08 \r\nL 515.71733 442.08 \r\nL 515.71733 442.08 \r\nL 514.924716 442.08 \r\nz\r\n\" style=\"fill:#1f77b4;fill-opacity:0.5;stroke:#000000;stroke-linejoin:miter;stroke-width:0.079261;\"/>\r\n   </g>\r\n   <g id=\"patch_556\">\r\n    <path clip-path=\"url(#p1e020dd2c8)\" d=\"M 515.71733 442.08 \r\nL 516.509943 442.08 \r\nL 516.509943 442.08 \r\nL 515.71733 442.08 \r\nz\r\n\" style=\"fill:#1f77b4;fill-opacity:0.5;stroke:#000000;stroke-linejoin:miter;stroke-width:0.079261;\"/>\r\n   </g>\r\n   <g id=\"patch_557\">\r\n    <path clip-path=\"url(#p1e020dd2c8)\" d=\"M 516.509943 442.08 \r\nL 517.302557 442.08 \r\nL 517.302557 442.08 \r\nL 516.509943 442.08 \r\nz\r\n\" style=\"fill:#1f77b4;fill-opacity:0.5;stroke:#000000;stroke-linejoin:miter;stroke-width:0.079261;\"/>\r\n   </g>\r\n   <g id=\"patch_558\">\r\n    <path clip-path=\"url(#p1e020dd2c8)\" d=\"M 517.302557 442.08 \r\nL 518.09517 442.08 \r\nL 518.09517 442.08 \r\nL 517.302557 442.08 \r\nz\r\n\" style=\"fill:#1f77b4;fill-opacity:0.5;stroke:#000000;stroke-linejoin:miter;stroke-width:0.079261;\"/>\r\n   </g>\r\n   <g id=\"patch_559\">\r\n    <path clip-path=\"url(#p1e020dd2c8)\" d=\"M 518.09517 442.08 \r\nL 518.887784 442.08 \r\nL 518.887784 442.08 \r\nL 518.09517 442.08 \r\nz\r\n\" style=\"fill:#1f77b4;fill-opacity:0.5;stroke:#000000;stroke-linejoin:miter;stroke-width:0.079261;\"/>\r\n   </g>\r\n   <g id=\"patch_560\">\r\n    <path clip-path=\"url(#p1e020dd2c8)\" d=\"M 518.887784 442.08 \r\nL 519.680398 442.08 \r\nL 519.680398 442.08 \r\nL 518.887784 442.08 \r\nz\r\n\" style=\"fill:#1f77b4;fill-opacity:0.5;stroke:#000000;stroke-linejoin:miter;stroke-width:0.079261;\"/>\r\n   </g>\r\n   <g id=\"patch_561\">\r\n    <path clip-path=\"url(#p1e020dd2c8)\" d=\"M 519.680398 442.08 \r\nL 520.473011 442.08 \r\nL 520.473011 442.08 \r\nL 519.680398 442.08 \r\nz\r\n\" style=\"fill:#1f77b4;fill-opacity:0.5;stroke:#000000;stroke-linejoin:miter;stroke-width:0.079261;\"/>\r\n   </g>\r\n   <g id=\"patch_562\">\r\n    <path clip-path=\"url(#p1e020dd2c8)\" d=\"M 520.473011 442.08 \r\nL 521.265625 442.08 \r\nL 521.265625 442.08 \r\nL 520.473011 442.08 \r\nz\r\n\" style=\"fill:#1f77b4;fill-opacity:0.5;stroke:#000000;stroke-linejoin:miter;stroke-width:0.079261;\"/>\r\n   </g>\r\n   <g id=\"patch_563\">\r\n    <path clip-path=\"url(#p1e020dd2c8)\" d=\"M 521.265625 442.08 \r\nL 522.058239 442.08 \r\nL 522.058239 442.08 \r\nL 521.265625 442.08 \r\nz\r\n\" style=\"fill:#1f77b4;fill-opacity:0.5;stroke:#000000;stroke-linejoin:miter;stroke-width:0.079261;\"/>\r\n   </g>\r\n   <g id=\"patch_564\">\r\n    <path clip-path=\"url(#p1e020dd2c8)\" d=\"M 522.058239 442.08 \r\nL 522.850852 442.08 \r\nL 522.850852 442.08 \r\nL 522.058239 442.08 \r\nz\r\n\" style=\"fill:#1f77b4;fill-opacity:0.5;stroke:#000000;stroke-linejoin:miter;stroke-width:0.079261;\"/>\r\n   </g>\r\n   <g id=\"patch_565\">\r\n    <path clip-path=\"url(#p1e020dd2c8)\" d=\"M 522.850852 442.08 \r\nL 523.643466 442.08 \r\nL 523.643466 442.08 \r\nL 522.850852 442.08 \r\nz\r\n\" style=\"fill:#1f77b4;fill-opacity:0.5;stroke:#000000;stroke-linejoin:miter;stroke-width:0.079261;\"/>\r\n   </g>\r\n   <g id=\"patch_566\">\r\n    <path clip-path=\"url(#p1e020dd2c8)\" d=\"M 523.643466 442.08 \r\nL 524.43608 442.08 \r\nL 524.43608 442.08 \r\nL 523.643466 442.08 \r\nz\r\n\" style=\"fill:#1f77b4;fill-opacity:0.5;stroke:#000000;stroke-linejoin:miter;stroke-width:0.079261;\"/>\r\n   </g>\r\n   <g id=\"patch_567\">\r\n    <path clip-path=\"url(#p1e020dd2c8)\" d=\"M 524.43608 442.08 \r\nL 525.228693 442.08 \r\nL 525.228693 442.08 \r\nL 524.43608 442.08 \r\nz\r\n\" style=\"fill:#1f77b4;fill-opacity:0.5;stroke:#000000;stroke-linejoin:miter;stroke-width:0.079261;\"/>\r\n   </g>\r\n   <g id=\"patch_568\">\r\n    <path clip-path=\"url(#p1e020dd2c8)\" d=\"M 525.228693 442.08 \r\nL 526.021307 442.08 \r\nL 526.021307 442.08 \r\nL 525.228693 442.08 \r\nz\r\n\" style=\"fill:#1f77b4;fill-opacity:0.5;stroke:#000000;stroke-linejoin:miter;stroke-width:0.079261;\"/>\r\n   </g>\r\n   <g id=\"patch_569\">\r\n    <path clip-path=\"url(#p1e020dd2c8)\" d=\"M 526.021307 442.08 \r\nL 526.81392 442.08 \r\nL 526.81392 442.08 \r\nL 526.021307 442.08 \r\nz\r\n\" style=\"fill:#1f77b4;fill-opacity:0.5;stroke:#000000;stroke-linejoin:miter;stroke-width:0.079261;\"/>\r\n   </g>\r\n   <g id=\"patch_570\">\r\n    <path clip-path=\"url(#p1e020dd2c8)\" d=\"M 526.81392 442.08 \r\nL 527.606534 442.08 \r\nL 527.606534 441.516501 \r\nL 526.81392 441.516501 \r\nz\r\n\" style=\"fill:#1f77b4;fill-opacity:0.5;stroke:#000000;stroke-linejoin:miter;stroke-width:0.079261;\"/>\r\n   </g>\r\n   <g id=\"patch_571\">\r\n    <path clip-path=\"url(#p1e020dd2c8)\" d=\"M 527.606534 442.08 \r\nL 528.399148 442.08 \r\nL 528.399148 442.08 \r\nL 527.606534 442.08 \r\nz\r\n\" style=\"fill:#1f77b4;fill-opacity:0.5;stroke:#000000;stroke-linejoin:miter;stroke-width:0.079261;\"/>\r\n   </g>\r\n   <g id=\"patch_572\">\r\n    <path clip-path=\"url(#p1e020dd2c8)\" d=\"M 528.399148 442.08 \r\nL 529.191761 442.08 \r\nL 529.191761 442.08 \r\nL 528.399148 442.08 \r\nz\r\n\" style=\"fill:#1f77b4;fill-opacity:0.5;stroke:#000000;stroke-linejoin:miter;stroke-width:0.079261;\"/>\r\n   </g>\r\n   <g id=\"patch_573\">\r\n    <path clip-path=\"url(#p1e020dd2c8)\" d=\"M 529.191761 442.08 \r\nL 529.984375 442.08 \r\nL 529.984375 442.08 \r\nL 529.191761 442.08 \r\nz\r\n\" style=\"fill:#1f77b4;fill-opacity:0.5;stroke:#000000;stroke-linejoin:miter;stroke-width:0.079261;\"/>\r\n   </g>\r\n   <g id=\"patch_574\">\r\n    <path clip-path=\"url(#p1e020dd2c8)\" d=\"M 529.984375 442.08 \r\nL 530.776989 442.08 \r\nL 530.776989 442.08 \r\nL 529.984375 442.08 \r\nz\r\n\" style=\"fill:#1f77b4;fill-opacity:0.5;stroke:#000000;stroke-linejoin:miter;stroke-width:0.079261;\"/>\r\n   </g>\r\n   <g id=\"patch_575\">\r\n    <path clip-path=\"url(#p1e020dd2c8)\" d=\"M 530.776989 442.08 \r\nL 531.569602 442.08 \r\nL 531.569602 442.08 \r\nL 530.776989 442.08 \r\nz\r\n\" style=\"fill:#1f77b4;fill-opacity:0.5;stroke:#000000;stroke-linejoin:miter;stroke-width:0.079261;\"/>\r\n   </g>\r\n   <g id=\"patch_576\">\r\n    <path clip-path=\"url(#p1e020dd2c8)\" d=\"M 531.569602 442.08 \r\nL 532.362216 442.08 \r\nL 532.362216 442.08 \r\nL 531.569602 442.08 \r\nz\r\n\" style=\"fill:#1f77b4;fill-opacity:0.5;stroke:#000000;stroke-linejoin:miter;stroke-width:0.079261;\"/>\r\n   </g>\r\n   <g id=\"patch_577\">\r\n    <path clip-path=\"url(#p1e020dd2c8)\" d=\"M 532.362216 442.08 \r\nL 533.15483 442.08 \r\nL 533.15483 442.08 \r\nL 532.362216 442.08 \r\nz\r\n\" style=\"fill:#1f77b4;fill-opacity:0.5;stroke:#000000;stroke-linejoin:miter;stroke-width:0.079261;\"/>\r\n   </g>\r\n   <g id=\"patch_578\">\r\n    <path clip-path=\"url(#p1e020dd2c8)\" d=\"M 533.15483 442.08 \r\nL 533.947443 442.08 \r\nL 533.947443 442.08 \r\nL 533.15483 442.08 \r\nz\r\n\" style=\"fill:#1f77b4;fill-opacity:0.5;stroke:#000000;stroke-linejoin:miter;stroke-width:0.079261;\"/>\r\n   </g>\r\n   <g id=\"patch_579\">\r\n    <path clip-path=\"url(#p1e020dd2c8)\" d=\"M 533.947443 442.08 \r\nL 534.740057 442.08 \r\nL 534.740057 442.08 \r\nL 533.947443 442.08 \r\nz\r\n\" style=\"fill:#1f77b4;fill-opacity:0.5;stroke:#000000;stroke-linejoin:miter;stroke-width:0.079261;\"/>\r\n   </g>\r\n   <g id=\"patch_580\">\r\n    <path clip-path=\"url(#p1e020dd2c8)\" d=\"M 534.740057 442.08 \r\nL 535.53267 442.08 \r\nL 535.53267 442.08 \r\nL 534.740057 442.08 \r\nz\r\n\" style=\"fill:#1f77b4;fill-opacity:0.5;stroke:#000000;stroke-linejoin:miter;stroke-width:0.079261;\"/>\r\n   </g>\r\n   <g id=\"patch_581\">\r\n    <path clip-path=\"url(#p1e020dd2c8)\" d=\"M 535.53267 442.08 \r\nL 536.325284 442.08 \r\nL 536.325284 442.08 \r\nL 535.53267 442.08 \r\nz\r\n\" style=\"fill:#1f77b4;fill-opacity:0.5;stroke:#000000;stroke-linejoin:miter;stroke-width:0.079261;\"/>\r\n   </g>\r\n   <g id=\"patch_582\">\r\n    <path clip-path=\"url(#p1e020dd2c8)\" d=\"M 536.325284 442.08 \r\nL 537.117898 442.08 \r\nL 537.117898 442.08 \r\nL 536.325284 442.08 \r\nz\r\n\" style=\"fill:#1f77b4;fill-opacity:0.5;stroke:#000000;stroke-linejoin:miter;stroke-width:0.079261;\"/>\r\n   </g>\r\n   <g id=\"patch_583\">\r\n    <path clip-path=\"url(#p1e020dd2c8)\" d=\"M 537.117898 442.08 \r\nL 537.910511 442.08 \r\nL 537.910511 442.08 \r\nL 537.117898 442.08 \r\nz\r\n\" style=\"fill:#1f77b4;fill-opacity:0.5;stroke:#000000;stroke-linejoin:miter;stroke-width:0.079261;\"/>\r\n   </g>\r\n   <g id=\"patch_584\">\r\n    <path clip-path=\"url(#p1e020dd2c8)\" d=\"M 537.910511 442.08 \r\nL 538.703125 442.08 \r\nL 538.703125 442.08 \r\nL 537.910511 442.08 \r\nz\r\n\" style=\"fill:#1f77b4;fill-opacity:0.5;stroke:#000000;stroke-linejoin:miter;stroke-width:0.079261;\"/>\r\n   </g>\r\n   <g id=\"patch_585\">\r\n    <path clip-path=\"url(#p1e020dd2c8)\" d=\"M 538.703125 442.08 \r\nL 539.495739 442.08 \r\nL 539.495739 442.08 \r\nL 538.703125 442.08 \r\nz\r\n\" style=\"fill:#1f77b4;fill-opacity:0.5;stroke:#000000;stroke-linejoin:miter;stroke-width:0.079261;\"/>\r\n   </g>\r\n   <g id=\"patch_586\">\r\n    <path clip-path=\"url(#p1e020dd2c8)\" d=\"M 539.495739 442.08 \r\nL 540.288352 442.08 \r\nL 540.288352 442.08 \r\nL 539.495739 442.08 \r\nz\r\n\" style=\"fill:#1f77b4;fill-opacity:0.5;stroke:#000000;stroke-linejoin:miter;stroke-width:0.079261;\"/>\r\n   </g>\r\n   <g id=\"patch_587\">\r\n    <path clip-path=\"url(#p1e020dd2c8)\" d=\"M 540.288352 442.08 \r\nL 541.080966 442.08 \r\nL 541.080966 442.08 \r\nL 540.288352 442.08 \r\nz\r\n\" style=\"fill:#1f77b4;fill-opacity:0.5;stroke:#000000;stroke-linejoin:miter;stroke-width:0.079261;\"/>\r\n   </g>\r\n   <g id=\"patch_588\">\r\n    <path clip-path=\"url(#p1e020dd2c8)\" d=\"M 541.080966 442.08 \r\nL 541.87358 442.08 \r\nL 541.87358 442.08 \r\nL 541.080966 442.08 \r\nz\r\n\" style=\"fill:#1f77b4;fill-opacity:0.5;stroke:#000000;stroke-linejoin:miter;stroke-width:0.079261;\"/>\r\n   </g>\r\n   <g id=\"patch_589\">\r\n    <path clip-path=\"url(#p1e020dd2c8)\" d=\"M 541.87358 442.08 \r\nL 542.666193 442.08 \r\nL 542.666193 442.08 \r\nL 541.87358 442.08 \r\nz\r\n\" style=\"fill:#1f77b4;fill-opacity:0.5;stroke:#000000;stroke-linejoin:miter;stroke-width:0.079261;\"/>\r\n   </g>\r\n   <g id=\"patch_590\">\r\n    <path clip-path=\"url(#p1e020dd2c8)\" d=\"M 542.666193 442.08 \r\nL 543.458807 442.08 \r\nL 543.458807 442.08 \r\nL 542.666193 442.08 \r\nz\r\n\" style=\"fill:#1f77b4;fill-opacity:0.5;stroke:#000000;stroke-linejoin:miter;stroke-width:0.079261;\"/>\r\n   </g>\r\n   <g id=\"patch_591\">\r\n    <path clip-path=\"url(#p1e020dd2c8)\" d=\"M 543.458807 442.08 \r\nL 544.25142 442.08 \r\nL 544.25142 442.08 \r\nL 543.458807 442.08 \r\nz\r\n\" style=\"fill:#1f77b4;fill-opacity:0.5;stroke:#000000;stroke-linejoin:miter;stroke-width:0.079261;\"/>\r\n   </g>\r\n   <g id=\"patch_592\">\r\n    <path clip-path=\"url(#p1e020dd2c8)\" d=\"M 544.25142 442.08 \r\nL 545.044034 442.08 \r\nL 545.044034 442.08 \r\nL 544.25142 442.08 \r\nz\r\n\" style=\"fill:#1f77b4;fill-opacity:0.5;stroke:#000000;stroke-linejoin:miter;stroke-width:0.079261;\"/>\r\n   </g>\r\n   <g id=\"patch_593\">\r\n    <path clip-path=\"url(#p1e020dd2c8)\" d=\"M 545.044034 442.08 \r\nL 545.836648 442.08 \r\nL 545.836648 442.08 \r\nL 545.044034 442.08 \r\nz\r\n\" style=\"fill:#1f77b4;fill-opacity:0.5;stroke:#000000;stroke-linejoin:miter;stroke-width:0.079261;\"/>\r\n   </g>\r\n   <g id=\"patch_594\">\r\n    <path clip-path=\"url(#p1e020dd2c8)\" d=\"M 545.836648 442.08 \r\nL 546.629261 442.08 \r\nL 546.629261 442.08 \r\nL 545.836648 442.08 \r\nz\r\n\" style=\"fill:#1f77b4;fill-opacity:0.5;stroke:#000000;stroke-linejoin:miter;stroke-width:0.079261;\"/>\r\n   </g>\r\n   <g id=\"patch_595\">\r\n    <path clip-path=\"url(#p1e020dd2c8)\" d=\"M 546.629261 442.08 \r\nL 547.421875 442.08 \r\nL 547.421875 442.08 \r\nL 546.629261 442.08 \r\nz\r\n\" style=\"fill:#1f77b4;fill-opacity:0.5;stroke:#000000;stroke-linejoin:miter;stroke-width:0.079261;\"/>\r\n   </g>\r\n   <g id=\"patch_596\">\r\n    <path clip-path=\"url(#p1e020dd2c8)\" d=\"M 547.421875 442.08 \r\nL 548.214489 442.08 \r\nL 548.214489 442.08 \r\nL 547.421875 442.08 \r\nz\r\n\" style=\"fill:#1f77b4;fill-opacity:0.5;stroke:#000000;stroke-linejoin:miter;stroke-width:0.079261;\"/>\r\n   </g>\r\n   <g id=\"patch_597\">\r\n    <path clip-path=\"url(#p1e020dd2c8)\" d=\"M 548.214489 442.08 \r\nL 549.007102 442.08 \r\nL 549.007102 442.08 \r\nL 548.214489 442.08 \r\nz\r\n\" style=\"fill:#1f77b4;fill-opacity:0.5;stroke:#000000;stroke-linejoin:miter;stroke-width:0.079261;\"/>\r\n   </g>\r\n   <g id=\"patch_598\">\r\n    <path clip-path=\"url(#p1e020dd2c8)\" d=\"M 549.007102 442.08 \r\nL 549.799716 442.08 \r\nL 549.799716 442.08 \r\nL 549.007102 442.08 \r\nz\r\n\" style=\"fill:#1f77b4;fill-opacity:0.5;stroke:#000000;stroke-linejoin:miter;stroke-width:0.079261;\"/>\r\n   </g>\r\n   <g id=\"patch_599\">\r\n    <path clip-path=\"url(#p1e020dd2c8)\" d=\"M 549.799716 442.08 \r\nL 550.59233 442.08 \r\nL 550.59233 442.08 \r\nL 549.799716 442.08 \r\nz\r\n\" style=\"fill:#1f77b4;fill-opacity:0.5;stroke:#000000;stroke-linejoin:miter;stroke-width:0.079261;\"/>\r\n   </g>\r\n   <g id=\"patch_600\">\r\n    <path clip-path=\"url(#p1e020dd2c8)\" d=\"M 550.59233 442.08 \r\nL 551.384943 442.08 \r\nL 551.384943 442.08 \r\nL 550.59233 442.08 \r\nz\r\n\" style=\"fill:#1f77b4;fill-opacity:0.5;stroke:#000000;stroke-linejoin:miter;stroke-width:0.079261;\"/>\r\n   </g>\r\n   <g id=\"patch_601\">\r\n    <path clip-path=\"url(#p1e020dd2c8)\" d=\"M 551.384943 442.08 \r\nL 552.177557 442.08 \r\nL 552.177557 442.08 \r\nL 551.384943 442.08 \r\nz\r\n\" style=\"fill:#1f77b4;fill-opacity:0.5;stroke:#000000;stroke-linejoin:miter;stroke-width:0.079261;\"/>\r\n   </g>\r\n   <g id=\"patch_602\">\r\n    <path clip-path=\"url(#p1e020dd2c8)\" d=\"M 552.177557 442.08 \r\nL 552.97017 442.08 \r\nL 552.97017 442.08 \r\nL 552.177557 442.08 \r\nz\r\n\" style=\"fill:#1f77b4;fill-opacity:0.5;stroke:#000000;stroke-linejoin:miter;stroke-width:0.079261;\"/>\r\n   </g>\r\n   <g id=\"patch_603\">\r\n    <path clip-path=\"url(#p1e020dd2c8)\" d=\"M 552.97017 442.08 \r\nL 553.762784 442.08 \r\nL 553.762784 442.08 \r\nL 552.97017 442.08 \r\nz\r\n\" style=\"fill:#1f77b4;fill-opacity:0.5;stroke:#000000;stroke-linejoin:miter;stroke-width:0.079261;\"/>\r\n   </g>\r\n   <g id=\"patch_604\">\r\n    <path clip-path=\"url(#p1e020dd2c8)\" d=\"M 553.762784 442.08 \r\nL 554.555398 442.08 \r\nL 554.555398 442.08 \r\nL 553.762784 442.08 \r\nz\r\n\" style=\"fill:#1f77b4;fill-opacity:0.5;stroke:#000000;stroke-linejoin:miter;stroke-width:0.079261;\"/>\r\n   </g>\r\n   <g id=\"patch_605\">\r\n    <path clip-path=\"url(#p1e020dd2c8)\" d=\"M 554.555398 442.08 \r\nL 555.348011 442.08 \r\nL 555.348011 442.08 \r\nL 554.555398 442.08 \r\nz\r\n\" style=\"fill:#1f77b4;fill-opacity:0.5;stroke:#000000;stroke-linejoin:miter;stroke-width:0.079261;\"/>\r\n   </g>\r\n   <g id=\"patch_606\">\r\n    <path clip-path=\"url(#p1e020dd2c8)\" d=\"M 555.348011 442.08 \r\nL 556.140625 442.08 \r\nL 556.140625 442.08 \r\nL 555.348011 442.08 \r\nz\r\n\" style=\"fill:#1f77b4;fill-opacity:0.5;stroke:#000000;stroke-linejoin:miter;stroke-width:0.079261;\"/>\r\n   </g>\r\n   <g id=\"patch_607\">\r\n    <path clip-path=\"url(#p1e020dd2c8)\" d=\"M 556.140625 442.08 \r\nL 556.933239 442.08 \r\nL 556.933239 442.08 \r\nL 556.140625 442.08 \r\nz\r\n\" style=\"fill:#1f77b4;fill-opacity:0.5;stroke:#000000;stroke-linejoin:miter;stroke-width:0.079261;\"/>\r\n   </g>\r\n   <g id=\"patch_608\">\r\n    <path clip-path=\"url(#p1e020dd2c8)\" d=\"M 556.933239 442.08 \r\nL 557.725852 442.08 \r\nL 557.725852 442.08 \r\nL 556.933239 442.08 \r\nz\r\n\" style=\"fill:#1f77b4;fill-opacity:0.5;stroke:#000000;stroke-linejoin:miter;stroke-width:0.079261;\"/>\r\n   </g>\r\n   <g id=\"patch_609\">\r\n    <path clip-path=\"url(#p1e020dd2c8)\" d=\"M 557.725852 442.08 \r\nL 558.518466 442.08 \r\nL 558.518466 442.08 \r\nL 557.725852 442.08 \r\nz\r\n\" style=\"fill:#1f77b4;fill-opacity:0.5;stroke:#000000;stroke-linejoin:miter;stroke-width:0.079261;\"/>\r\n   </g>\r\n   <g id=\"patch_610\">\r\n    <path clip-path=\"url(#p1e020dd2c8)\" d=\"M 558.518466 442.08 \r\nL 559.31108 442.08 \r\nL 559.31108 442.08 \r\nL 558.518466 442.08 \r\nz\r\n\" style=\"fill:#1f77b4;fill-opacity:0.5;stroke:#000000;stroke-linejoin:miter;stroke-width:0.079261;\"/>\r\n   </g>\r\n   <g id=\"patch_611\">\r\n    <path clip-path=\"url(#p1e020dd2c8)\" d=\"M 559.31108 442.08 \r\nL 560.103693 442.08 \r\nL 560.103693 442.08 \r\nL 559.31108 442.08 \r\nz\r\n\" style=\"fill:#1f77b4;fill-opacity:0.5;stroke:#000000;stroke-linejoin:miter;stroke-width:0.079261;\"/>\r\n   </g>\r\n   <g id=\"patch_612\">\r\n    <path clip-path=\"url(#p1e020dd2c8)\" d=\"M 560.103693 442.08 \r\nL 560.896307 442.08 \r\nL 560.896307 442.08 \r\nL 560.103693 442.08 \r\nz\r\n\" style=\"fill:#1f77b4;fill-opacity:0.5;stroke:#000000;stroke-linejoin:miter;stroke-width:0.079261;\"/>\r\n   </g>\r\n   <g id=\"patch_613\">\r\n    <path clip-path=\"url(#p1e020dd2c8)\" d=\"M 560.896307 442.08 \r\nL 561.68892 442.08 \r\nL 561.68892 442.08 \r\nL 560.896307 442.08 \r\nz\r\n\" style=\"fill:#1f77b4;fill-opacity:0.5;stroke:#000000;stroke-linejoin:miter;stroke-width:0.079261;\"/>\r\n   </g>\r\n   <g id=\"patch_614\">\r\n    <path clip-path=\"url(#p1e020dd2c8)\" d=\"M 561.68892 442.08 \r\nL 562.481534 442.08 \r\nL 562.481534 442.08 \r\nL 561.68892 442.08 \r\nz\r\n\" style=\"fill:#1f77b4;fill-opacity:0.5;stroke:#000000;stroke-linejoin:miter;stroke-width:0.079261;\"/>\r\n   </g>\r\n   <g id=\"patch_615\">\r\n    <path clip-path=\"url(#p1e020dd2c8)\" d=\"M 562.481534 442.08 \r\nL 563.274148 442.08 \r\nL 563.274148 442.08 \r\nL 562.481534 442.08 \r\nz\r\n\" style=\"fill:#1f77b4;fill-opacity:0.5;stroke:#000000;stroke-linejoin:miter;stroke-width:0.079261;\"/>\r\n   </g>\r\n   <g id=\"patch_616\">\r\n    <path clip-path=\"url(#p1e020dd2c8)\" d=\"M 563.274148 442.08 \r\nL 564.066761 442.08 \r\nL 564.066761 442.08 \r\nL 563.274148 442.08 \r\nz\r\n\" style=\"fill:#1f77b4;fill-opacity:0.5;stroke:#000000;stroke-linejoin:miter;stroke-width:0.079261;\"/>\r\n   </g>\r\n   <g id=\"patch_617\">\r\n    <path clip-path=\"url(#p1e020dd2c8)\" d=\"M 564.066761 442.08 \r\nL 564.859375 442.08 \r\nL 564.859375 442.08 \r\nL 564.066761 442.08 \r\nz\r\n\" style=\"fill:#1f77b4;fill-opacity:0.5;stroke:#000000;stroke-linejoin:miter;stroke-width:0.079261;\"/>\r\n   </g>\r\n   <g id=\"patch_618\">\r\n    <path clip-path=\"url(#p1e020dd2c8)\" d=\"M 564.859375 442.08 \r\nL 565.651989 442.08 \r\nL 565.651989 442.08 \r\nL 564.859375 442.08 \r\nz\r\n\" style=\"fill:#1f77b4;fill-opacity:0.5;stroke:#000000;stroke-linejoin:miter;stroke-width:0.079261;\"/>\r\n   </g>\r\n   <g id=\"patch_619\">\r\n    <path clip-path=\"url(#p1e020dd2c8)\" d=\"M 565.651989 442.08 \r\nL 566.444602 442.08 \r\nL 566.444602 442.08 \r\nL 565.651989 442.08 \r\nz\r\n\" style=\"fill:#1f77b4;fill-opacity:0.5;stroke:#000000;stroke-linejoin:miter;stroke-width:0.079261;\"/>\r\n   </g>\r\n   <g id=\"patch_620\">\r\n    <path clip-path=\"url(#p1e020dd2c8)\" d=\"M 566.444602 442.08 \r\nL 567.237216 442.08 \r\nL 567.237216 442.08 \r\nL 566.444602 442.08 \r\nz\r\n\" style=\"fill:#1f77b4;fill-opacity:0.5;stroke:#000000;stroke-linejoin:miter;stroke-width:0.079261;\"/>\r\n   </g>\r\n   <g id=\"patch_621\">\r\n    <path clip-path=\"url(#p1e020dd2c8)\" d=\"M 567.237216 442.08 \r\nL 568.02983 442.08 \r\nL 568.02983 442.08 \r\nL 567.237216 442.08 \r\nz\r\n\" style=\"fill:#1f77b4;fill-opacity:0.5;stroke:#000000;stroke-linejoin:miter;stroke-width:0.079261;\"/>\r\n   </g>\r\n   <g id=\"patch_622\">\r\n    <path clip-path=\"url(#p1e020dd2c8)\" d=\"M 568.02983 442.08 \r\nL 568.822443 442.08 \r\nL 568.822443 442.08 \r\nL 568.02983 442.08 \r\nz\r\n\" style=\"fill:#1f77b4;fill-opacity:0.5;stroke:#000000;stroke-linejoin:miter;stroke-width:0.079261;\"/>\r\n   </g>\r\n   <g id=\"patch_623\">\r\n    <path clip-path=\"url(#p1e020dd2c8)\" d=\"M 568.822443 442.08 \r\nL 569.615057 442.08 \r\nL 569.615057 442.08 \r\nL 568.822443 442.08 \r\nz\r\n\" style=\"fill:#1f77b4;fill-opacity:0.5;stroke:#000000;stroke-linejoin:miter;stroke-width:0.079261;\"/>\r\n   </g>\r\n   <g id=\"patch_624\">\r\n    <path clip-path=\"url(#p1e020dd2c8)\" d=\"M 569.615057 442.08 \r\nL 570.40767 442.08 \r\nL 570.40767 442.08 \r\nL 569.615057 442.08 \r\nz\r\n\" style=\"fill:#1f77b4;fill-opacity:0.5;stroke:#000000;stroke-linejoin:miter;stroke-width:0.079261;\"/>\r\n   </g>\r\n   <g id=\"patch_625\">\r\n    <path clip-path=\"url(#p1e020dd2c8)\" d=\"M 570.40767 442.08 \r\nL 571.200284 442.08 \r\nL 571.200284 442.08 \r\nL 570.40767 442.08 \r\nz\r\n\" style=\"fill:#1f77b4;fill-opacity:0.5;stroke:#000000;stroke-linejoin:miter;stroke-width:0.079261;\"/>\r\n   </g>\r\n   <g id=\"patch_626\">\r\n    <path clip-path=\"url(#p1e020dd2c8)\" d=\"M 571.200284 442.08 \r\nL 571.992898 442.08 \r\nL 571.992898 442.08 \r\nL 571.200284 442.08 \r\nz\r\n\" style=\"fill:#1f77b4;fill-opacity:0.5;stroke:#000000;stroke-linejoin:miter;stroke-width:0.079261;\"/>\r\n   </g>\r\n   <g id=\"patch_627\">\r\n    <path clip-path=\"url(#p1e020dd2c8)\" d=\"M 571.992898 442.08 \r\nL 572.785511 442.08 \r\nL 572.785511 442.08 \r\nL 571.992898 442.08 \r\nz\r\n\" style=\"fill:#1f77b4;fill-opacity:0.5;stroke:#000000;stroke-linejoin:miter;stroke-width:0.079261;\"/>\r\n   </g>\r\n   <g id=\"patch_628\">\r\n    <path clip-path=\"url(#p1e020dd2c8)\" d=\"M 572.785511 442.08 \r\nL 573.578125 442.08 \r\nL 573.578125 442.08 \r\nL 572.785511 442.08 \r\nz\r\n\" style=\"fill:#1f77b4;fill-opacity:0.5;stroke:#000000;stroke-linejoin:miter;stroke-width:0.079261;\"/>\r\n   </g>\r\n   <g id=\"patch_629\">\r\n    <path clip-path=\"url(#p1e020dd2c8)\" d=\"M 573.578125 442.08 \r\nL 574.370739 442.08 \r\nL 574.370739 442.08 \r\nL 573.578125 442.08 \r\nz\r\n\" style=\"fill:#1f77b4;fill-opacity:0.5;stroke:#000000;stroke-linejoin:miter;stroke-width:0.079261;\"/>\r\n   </g>\r\n   <g id=\"patch_630\">\r\n    <path clip-path=\"url(#p1e020dd2c8)\" d=\"M 574.370739 442.08 \r\nL 575.163352 442.08 \r\nL 575.163352 442.08 \r\nL 574.370739 442.08 \r\nz\r\n\" style=\"fill:#1f77b4;fill-opacity:0.5;stroke:#000000;stroke-linejoin:miter;stroke-width:0.079261;\"/>\r\n   </g>\r\n   <g id=\"patch_631\">\r\n    <path clip-path=\"url(#p1e020dd2c8)\" d=\"M 575.163352 442.08 \r\nL 575.955966 442.08 \r\nL 575.955966 442.08 \r\nL 575.163352 442.08 \r\nz\r\n\" style=\"fill:#1f77b4;fill-opacity:0.5;stroke:#000000;stroke-linejoin:miter;stroke-width:0.079261;\"/>\r\n   </g>\r\n   <g id=\"patch_632\">\r\n    <path clip-path=\"url(#p1e020dd2c8)\" d=\"M 575.955966 442.08 \r\nL 576.74858 442.08 \r\nL 576.74858 442.08 \r\nL 575.955966 442.08 \r\nz\r\n\" style=\"fill:#1f77b4;fill-opacity:0.5;stroke:#000000;stroke-linejoin:miter;stroke-width:0.079261;\"/>\r\n   </g>\r\n   <g id=\"patch_633\">\r\n    <path clip-path=\"url(#p1e020dd2c8)\" d=\"M 576.74858 442.08 \r\nL 577.541193 442.08 \r\nL 577.541193 442.08 \r\nL 576.74858 442.08 \r\nz\r\n\" style=\"fill:#1f77b4;fill-opacity:0.5;stroke:#000000;stroke-linejoin:miter;stroke-width:0.079261;\"/>\r\n   </g>\r\n   <g id=\"patch_634\">\r\n    <path clip-path=\"url(#p1e020dd2c8)\" d=\"M 577.541193 442.08 \r\nL 578.333807 442.08 \r\nL 578.333807 442.08 \r\nL 577.541193 442.08 \r\nz\r\n\" style=\"fill:#1f77b4;fill-opacity:0.5;stroke:#000000;stroke-linejoin:miter;stroke-width:0.079261;\"/>\r\n   </g>\r\n   <g id=\"patch_635\">\r\n    <path clip-path=\"url(#p1e020dd2c8)\" d=\"M 578.333807 442.08 \r\nL 579.12642 442.08 \r\nL 579.12642 442.08 \r\nL 578.333807 442.08 \r\nz\r\n\" style=\"fill:#1f77b4;fill-opacity:0.5;stroke:#000000;stroke-linejoin:miter;stroke-width:0.079261;\"/>\r\n   </g>\r\n   <g id=\"patch_636\">\r\n    <path clip-path=\"url(#p1e020dd2c8)\" d=\"M 579.12642 442.08 \r\nL 579.919034 442.08 \r\nL 579.919034 442.08 \r\nL 579.12642 442.08 \r\nz\r\n\" style=\"fill:#1f77b4;fill-opacity:0.5;stroke:#000000;stroke-linejoin:miter;stroke-width:0.079261;\"/>\r\n   </g>\r\n   <g id=\"patch_637\">\r\n    <path clip-path=\"url(#p1e020dd2c8)\" d=\"M 579.919034 442.08 \r\nL 580.711648 442.08 \r\nL 580.711648 442.08 \r\nL 579.919034 442.08 \r\nz\r\n\" style=\"fill:#1f77b4;fill-opacity:0.5;stroke:#000000;stroke-linejoin:miter;stroke-width:0.079261;\"/>\r\n   </g>\r\n   <g id=\"patch_638\">\r\n    <path clip-path=\"url(#p1e020dd2c8)\" d=\"M 580.711648 442.08 \r\nL 581.504261 442.08 \r\nL 581.504261 442.08 \r\nL 580.711648 442.08 \r\nz\r\n\" style=\"fill:#1f77b4;fill-opacity:0.5;stroke:#000000;stroke-linejoin:miter;stroke-width:0.079261;\"/>\r\n   </g>\r\n   <g id=\"patch_639\">\r\n    <path clip-path=\"url(#p1e020dd2c8)\" d=\"M 581.504261 442.08 \r\nL 582.296875 442.08 \r\nL 582.296875 442.08 \r\nL 581.504261 442.08 \r\nz\r\n\" style=\"fill:#1f77b4;fill-opacity:0.5;stroke:#000000;stroke-linejoin:miter;stroke-width:0.079261;\"/>\r\n   </g>\r\n   <g id=\"patch_640\">\r\n    <path clip-path=\"url(#p1e020dd2c8)\" d=\"M 582.296875 442.08 \r\nL 583.089489 442.08 \r\nL 583.089489 442.08 \r\nL 582.296875 442.08 \r\nz\r\n\" style=\"fill:#1f77b4;fill-opacity:0.5;stroke:#000000;stroke-linejoin:miter;stroke-width:0.079261;\"/>\r\n   </g>\r\n   <g id=\"patch_641\">\r\n    <path clip-path=\"url(#p1e020dd2c8)\" d=\"M 583.089489 442.08 \r\nL 583.882102 442.08 \r\nL 583.882102 442.08 \r\nL 583.089489 442.08 \r\nz\r\n\" style=\"fill:#1f77b4;fill-opacity:0.5;stroke:#000000;stroke-linejoin:miter;stroke-width:0.079261;\"/>\r\n   </g>\r\n   <g id=\"patch_642\">\r\n    <path clip-path=\"url(#p1e020dd2c8)\" d=\"M 583.882102 442.08 \r\nL 584.674716 442.08 \r\nL 584.674716 442.08 \r\nL 583.882102 442.08 \r\nz\r\n\" style=\"fill:#1f77b4;fill-opacity:0.5;stroke:#000000;stroke-linejoin:miter;stroke-width:0.079261;\"/>\r\n   </g>\r\n   <g id=\"patch_643\">\r\n    <path clip-path=\"url(#p1e020dd2c8)\" d=\"M 584.674716 442.08 \r\nL 585.46733 442.08 \r\nL 585.46733 442.08 \r\nL 584.674716 442.08 \r\nz\r\n\" style=\"fill:#1f77b4;fill-opacity:0.5;stroke:#000000;stroke-linejoin:miter;stroke-width:0.079261;\"/>\r\n   </g>\r\n   <g id=\"patch_644\">\r\n    <path clip-path=\"url(#p1e020dd2c8)\" d=\"M 585.46733 442.08 \r\nL 586.259943 442.08 \r\nL 586.259943 442.08 \r\nL 585.46733 442.08 \r\nz\r\n\" style=\"fill:#1f77b4;fill-opacity:0.5;stroke:#000000;stroke-linejoin:miter;stroke-width:0.079261;\"/>\r\n   </g>\r\n   <g id=\"patch_645\">\r\n    <path clip-path=\"url(#p1e020dd2c8)\" d=\"M 586.259943 442.08 \r\nL 587.052557 442.08 \r\nL 587.052557 442.08 \r\nL 586.259943 442.08 \r\nz\r\n\" style=\"fill:#1f77b4;fill-opacity:0.5;stroke:#000000;stroke-linejoin:miter;stroke-width:0.079261;\"/>\r\n   </g>\r\n   <g id=\"patch_646\">\r\n    <path clip-path=\"url(#p1e020dd2c8)\" d=\"M 587.052557 442.08 \r\nL 587.84517 442.08 \r\nL 587.84517 442.08 \r\nL 587.052557 442.08 \r\nz\r\n\" style=\"fill:#1f77b4;fill-opacity:0.5;stroke:#000000;stroke-linejoin:miter;stroke-width:0.079261;\"/>\r\n   </g>\r\n   <g id=\"patch_647\">\r\n    <path clip-path=\"url(#p1e020dd2c8)\" d=\"M 587.84517 442.08 \r\nL 588.637784 442.08 \r\nL 588.637784 442.08 \r\nL 587.84517 442.08 \r\nz\r\n\" style=\"fill:#1f77b4;fill-opacity:0.5;stroke:#000000;stroke-linejoin:miter;stroke-width:0.079261;\"/>\r\n   </g>\r\n   <g id=\"patch_648\">\r\n    <path clip-path=\"url(#p1e020dd2c8)\" d=\"M 588.637784 442.08 \r\nL 589.430398 442.08 \r\nL 589.430398 442.08 \r\nL 588.637784 442.08 \r\nz\r\n\" style=\"fill:#1f77b4;fill-opacity:0.5;stroke:#000000;stroke-linejoin:miter;stroke-width:0.079261;\"/>\r\n   </g>\r\n   <g id=\"patch_649\">\r\n    <path clip-path=\"url(#p1e020dd2c8)\" d=\"M 589.430398 442.08 \r\nL 590.223011 442.08 \r\nL 590.223011 442.08 \r\nL 589.430398 442.08 \r\nz\r\n\" style=\"fill:#1f77b4;fill-opacity:0.5;stroke:#000000;stroke-linejoin:miter;stroke-width:0.079261;\"/>\r\n   </g>\r\n   <g id=\"patch_650\">\r\n    <path clip-path=\"url(#p1e020dd2c8)\" d=\"M 590.223011 442.08 \r\nL 591.015625 442.08 \r\nL 591.015625 442.08 \r\nL 590.223011 442.08 \r\nz\r\n\" style=\"fill:#1f77b4;fill-opacity:0.5;stroke:#000000;stroke-linejoin:miter;stroke-width:0.079261;\"/>\r\n   </g>\r\n   <g id=\"patch_651\">\r\n    <path clip-path=\"url(#p1e020dd2c8)\" d=\"M 591.015625 442.08 \r\nL 591.808239 442.08 \r\nL 591.808239 442.08 \r\nL 591.015625 442.08 \r\nz\r\n\" style=\"fill:#1f77b4;fill-opacity:0.5;stroke:#000000;stroke-linejoin:miter;stroke-width:0.079261;\"/>\r\n   </g>\r\n   <g id=\"patch_652\">\r\n    <path clip-path=\"url(#p1e020dd2c8)\" d=\"M 591.808239 442.08 \r\nL 592.600852 442.08 \r\nL 592.600852 442.08 \r\nL 591.808239 442.08 \r\nz\r\n\" style=\"fill:#1f77b4;fill-opacity:0.5;stroke:#000000;stroke-linejoin:miter;stroke-width:0.079261;\"/>\r\n   </g>\r\n   <g id=\"patch_653\">\r\n    <path clip-path=\"url(#p1e020dd2c8)\" d=\"M 592.600852 442.08 \r\nL 593.393466 442.08 \r\nL 593.393466 442.08 \r\nL 592.600852 442.08 \r\nz\r\n\" style=\"fill:#1f77b4;fill-opacity:0.5;stroke:#000000;stroke-linejoin:miter;stroke-width:0.079261;\"/>\r\n   </g>\r\n   <g id=\"patch_654\">\r\n    <path clip-path=\"url(#p1e020dd2c8)\" d=\"M 593.393466 442.08 \r\nL 594.18608 442.08 \r\nL 594.18608 442.08 \r\nL 593.393466 442.08 \r\nz\r\n\" style=\"fill:#1f77b4;fill-opacity:0.5;stroke:#000000;stroke-linejoin:miter;stroke-width:0.079261;\"/>\r\n   </g>\r\n   <g id=\"patch_655\">\r\n    <path clip-path=\"url(#p1e020dd2c8)\" d=\"M 594.18608 442.08 \r\nL 594.978693 442.08 \r\nL 594.978693 442.08 \r\nL 594.18608 442.08 \r\nz\r\n\" style=\"fill:#1f77b4;fill-opacity:0.5;stroke:#000000;stroke-linejoin:miter;stroke-width:0.079261;\"/>\r\n   </g>\r\n   <g id=\"patch_656\">\r\n    <path clip-path=\"url(#p1e020dd2c8)\" d=\"M 594.978693 442.08 \r\nL 595.771307 442.08 \r\nL 595.771307 442.08 \r\nL 594.978693 442.08 \r\nz\r\n\" style=\"fill:#1f77b4;fill-opacity:0.5;stroke:#000000;stroke-linejoin:miter;stroke-width:0.079261;\"/>\r\n   </g>\r\n   <g id=\"patch_657\">\r\n    <path clip-path=\"url(#p1e020dd2c8)\" d=\"M 595.771307 442.08 \r\nL 596.56392 442.08 \r\nL 596.56392 442.08 \r\nL 595.771307 442.08 \r\nz\r\n\" style=\"fill:#1f77b4;fill-opacity:0.5;stroke:#000000;stroke-linejoin:miter;stroke-width:0.079261;\"/>\r\n   </g>\r\n   <g id=\"patch_658\">\r\n    <path clip-path=\"url(#p1e020dd2c8)\" d=\"M 596.56392 442.08 \r\nL 597.356534 442.08 \r\nL 597.356534 442.08 \r\nL 596.56392 442.08 \r\nz\r\n\" style=\"fill:#1f77b4;fill-opacity:0.5;stroke:#000000;stroke-linejoin:miter;stroke-width:0.079261;\"/>\r\n   </g>\r\n   <g id=\"patch_659\">\r\n    <path clip-path=\"url(#p1e020dd2c8)\" d=\"M 597.356534 442.08 \r\nL 598.149148 442.08 \r\nL 598.149148 442.08 \r\nL 597.356534 442.08 \r\nz\r\n\" style=\"fill:#1f77b4;fill-opacity:0.5;stroke:#000000;stroke-linejoin:miter;stroke-width:0.079261;\"/>\r\n   </g>\r\n   <g id=\"patch_660\">\r\n    <path clip-path=\"url(#p1e020dd2c8)\" d=\"M 598.149148 442.08 \r\nL 598.941761 442.08 \r\nL 598.941761 442.08 \r\nL 598.149148 442.08 \r\nz\r\n\" style=\"fill:#1f77b4;fill-opacity:0.5;stroke:#000000;stroke-linejoin:miter;stroke-width:0.079261;\"/>\r\n   </g>\r\n   <g id=\"patch_661\">\r\n    <path clip-path=\"url(#p1e020dd2c8)\" d=\"M 598.941761 442.08 \r\nL 599.734375 442.08 \r\nL 599.734375 442.08 \r\nL 598.941761 442.08 \r\nz\r\n\" style=\"fill:#1f77b4;fill-opacity:0.5;stroke:#000000;stroke-linejoin:miter;stroke-width:0.079261;\"/>\r\n   </g>\r\n   <g id=\"patch_662\">\r\n    <path clip-path=\"url(#p1e020dd2c8)\" d=\"M 599.734375 442.08 \r\nL 600.526989 442.08 \r\nL 600.526989 442.08 \r\nL 599.734375 442.08 \r\nz\r\n\" style=\"fill:#1f77b4;fill-opacity:0.5;stroke:#000000;stroke-linejoin:miter;stroke-width:0.079261;\"/>\r\n   </g>\r\n   <g id=\"patch_663\">\r\n    <path clip-path=\"url(#p1e020dd2c8)\" d=\"M 600.526989 442.08 \r\nL 601.319602 442.08 \r\nL 601.319602 442.08 \r\nL 600.526989 442.08 \r\nz\r\n\" style=\"fill:#1f77b4;fill-opacity:0.5;stroke:#000000;stroke-linejoin:miter;stroke-width:0.079261;\"/>\r\n   </g>\r\n   <g id=\"patch_664\">\r\n    <path clip-path=\"url(#p1e020dd2c8)\" d=\"M 601.319602 442.08 \r\nL 602.112216 442.08 \r\nL 602.112216 442.08 \r\nL 601.319602 442.08 \r\nz\r\n\" style=\"fill:#1f77b4;fill-opacity:0.5;stroke:#000000;stroke-linejoin:miter;stroke-width:0.079261;\"/>\r\n   </g>\r\n   <g id=\"patch_665\">\r\n    <path clip-path=\"url(#p1e020dd2c8)\" d=\"M 602.112216 442.08 \r\nL 602.90483 442.08 \r\nL 602.90483 442.08 \r\nL 602.112216 442.08 \r\nz\r\n\" style=\"fill:#1f77b4;fill-opacity:0.5;stroke:#000000;stroke-linejoin:miter;stroke-width:0.079261;\"/>\r\n   </g>\r\n   <g id=\"patch_666\">\r\n    <path clip-path=\"url(#p1e020dd2c8)\" d=\"M 602.90483 442.08 \r\nL 603.697443 442.08 \r\nL 603.697443 442.08 \r\nL 602.90483 442.08 \r\nz\r\n\" style=\"fill:#1f77b4;fill-opacity:0.5;stroke:#000000;stroke-linejoin:miter;stroke-width:0.079261;\"/>\r\n   </g>\r\n   <g id=\"patch_667\">\r\n    <path clip-path=\"url(#p1e020dd2c8)\" d=\"M 603.697443 442.08 \r\nL 604.490057 442.08 \r\nL 604.490057 442.08 \r\nL 603.697443 442.08 \r\nz\r\n\" style=\"fill:#1f77b4;fill-opacity:0.5;stroke:#000000;stroke-linejoin:miter;stroke-width:0.079261;\"/>\r\n   </g>\r\n   <g id=\"patch_668\">\r\n    <path clip-path=\"url(#p1e020dd2c8)\" d=\"M 604.490057 442.08 \r\nL 605.28267 442.08 \r\nL 605.28267 442.08 \r\nL 604.490057 442.08 \r\nz\r\n\" style=\"fill:#1f77b4;fill-opacity:0.5;stroke:#000000;stroke-linejoin:miter;stroke-width:0.079261;\"/>\r\n   </g>\r\n   <g id=\"patch_669\">\r\n    <path clip-path=\"url(#p1e020dd2c8)\" d=\"M 605.28267 442.08 \r\nL 606.075284 442.08 \r\nL 606.075284 442.08 \r\nL 605.28267 442.08 \r\nz\r\n\" style=\"fill:#1f77b4;fill-opacity:0.5;stroke:#000000;stroke-linejoin:miter;stroke-width:0.079261;\"/>\r\n   </g>\r\n   <g id=\"patch_670\">\r\n    <path clip-path=\"url(#p1e020dd2c8)\" d=\"M 606.075284 442.08 \r\nL 606.867898 442.08 \r\nL 606.867898 442.08 \r\nL 606.075284 442.08 \r\nz\r\n\" style=\"fill:#1f77b4;fill-opacity:0.5;stroke:#000000;stroke-linejoin:miter;stroke-width:0.079261;\"/>\r\n   </g>\r\n   <g id=\"patch_671\">\r\n    <path clip-path=\"url(#p1e020dd2c8)\" d=\"M 606.867898 442.08 \r\nL 607.660511 442.08 \r\nL 607.660511 442.08 \r\nL 606.867898 442.08 \r\nz\r\n\" style=\"fill:#1f77b4;fill-opacity:0.5;stroke:#000000;stroke-linejoin:miter;stroke-width:0.079261;\"/>\r\n   </g>\r\n   <g id=\"patch_672\">\r\n    <path clip-path=\"url(#p1e020dd2c8)\" d=\"M 607.660511 442.08 \r\nL 608.453125 442.08 \r\nL 608.453125 442.08 \r\nL 607.660511 442.08 \r\nz\r\n\" style=\"fill:#1f77b4;fill-opacity:0.5;stroke:#000000;stroke-linejoin:miter;stroke-width:0.079261;\"/>\r\n   </g>\r\n   <g id=\"patch_673\">\r\n    <path clip-path=\"url(#p1e020dd2c8)\" d=\"M 608.453125 442.08 \r\nL 609.245739 442.08 \r\nL 609.245739 442.08 \r\nL 608.453125 442.08 \r\nz\r\n\" style=\"fill:#1f77b4;fill-opacity:0.5;stroke:#000000;stroke-linejoin:miter;stroke-width:0.079261;\"/>\r\n   </g>\r\n   <g id=\"patch_674\">\r\n    <path clip-path=\"url(#p1e020dd2c8)\" d=\"M 609.245739 442.08 \r\nL 610.038352 442.08 \r\nL 610.038352 442.08 \r\nL 609.245739 442.08 \r\nz\r\n\" style=\"fill:#1f77b4;fill-opacity:0.5;stroke:#000000;stroke-linejoin:miter;stroke-width:0.079261;\"/>\r\n   </g>\r\n   <g id=\"patch_675\">\r\n    <path clip-path=\"url(#p1e020dd2c8)\" d=\"M 610.038352 442.08 \r\nL 610.830966 442.08 \r\nL 610.830966 442.08 \r\nL 610.038352 442.08 \r\nz\r\n\" style=\"fill:#1f77b4;fill-opacity:0.5;stroke:#000000;stroke-linejoin:miter;stroke-width:0.079261;\"/>\r\n   </g>\r\n   <g id=\"patch_676\">\r\n    <path clip-path=\"url(#p1e020dd2c8)\" d=\"M 610.830966 442.08 \r\nL 611.62358 442.08 \r\nL 611.62358 442.08 \r\nL 610.830966 442.08 \r\nz\r\n\" style=\"fill:#1f77b4;fill-opacity:0.5;stroke:#000000;stroke-linejoin:miter;stroke-width:0.079261;\"/>\r\n   </g>\r\n   <g id=\"patch_677\">\r\n    <path clip-path=\"url(#p1e020dd2c8)\" d=\"M 611.62358 442.08 \r\nL 612.416193 442.08 \r\nL 612.416193 442.08 \r\nL 611.62358 442.08 \r\nz\r\n\" style=\"fill:#1f77b4;fill-opacity:0.5;stroke:#000000;stroke-linejoin:miter;stroke-width:0.079261;\"/>\r\n   </g>\r\n   <g id=\"patch_678\">\r\n    <path clip-path=\"url(#p1e020dd2c8)\" d=\"M 612.416193 442.08 \r\nL 613.208807 442.08 \r\nL 613.208807 442.08 \r\nL 612.416193 442.08 \r\nz\r\n\" style=\"fill:#1f77b4;fill-opacity:0.5;stroke:#000000;stroke-linejoin:miter;stroke-width:0.079261;\"/>\r\n   </g>\r\n   <g id=\"patch_679\">\r\n    <path clip-path=\"url(#p1e020dd2c8)\" d=\"M 613.208807 442.08 \r\nL 614.00142 442.08 \r\nL 614.00142 442.08 \r\nL 613.208807 442.08 \r\nz\r\n\" style=\"fill:#1f77b4;fill-opacity:0.5;stroke:#000000;stroke-linejoin:miter;stroke-width:0.079261;\"/>\r\n   </g>\r\n   <g id=\"patch_680\">\r\n    <path clip-path=\"url(#p1e020dd2c8)\" d=\"M 614.00142 442.08 \r\nL 614.794034 442.08 \r\nL 614.794034 442.08 \r\nL 614.00142 442.08 \r\nz\r\n\" style=\"fill:#1f77b4;fill-opacity:0.5;stroke:#000000;stroke-linejoin:miter;stroke-width:0.079261;\"/>\r\n   </g>\r\n   <g id=\"patch_681\">\r\n    <path clip-path=\"url(#p1e020dd2c8)\" d=\"M 614.794034 442.08 \r\nL 615.586648 442.08 \r\nL 615.586648 442.08 \r\nL 614.794034 442.08 \r\nz\r\n\" style=\"fill:#1f77b4;fill-opacity:0.5;stroke:#000000;stroke-linejoin:miter;stroke-width:0.079261;\"/>\r\n   </g>\r\n   <g id=\"patch_682\">\r\n    <path clip-path=\"url(#p1e020dd2c8)\" d=\"M 615.586648 442.08 \r\nL 616.379261 442.08 \r\nL 616.379261 442.08 \r\nL 615.586648 442.08 \r\nz\r\n\" style=\"fill:#1f77b4;fill-opacity:0.5;stroke:#000000;stroke-linejoin:miter;stroke-width:0.079261;\"/>\r\n   </g>\r\n   <g id=\"patch_683\">\r\n    <path clip-path=\"url(#p1e020dd2c8)\" d=\"M 616.379261 442.08 \r\nL 617.171875 442.08 \r\nL 617.171875 442.08 \r\nL 616.379261 442.08 \r\nz\r\n\" style=\"fill:#1f77b4;fill-opacity:0.5;stroke:#000000;stroke-linejoin:miter;stroke-width:0.079261;\"/>\r\n   </g>\r\n   <g id=\"patch_684\">\r\n    <path clip-path=\"url(#p1e020dd2c8)\" d=\"M 617.171875 442.08 \r\nL 617.964489 442.08 \r\nL 617.964489 442.08 \r\nL 617.171875 442.08 \r\nz\r\n\" style=\"fill:#1f77b4;fill-opacity:0.5;stroke:#000000;stroke-linejoin:miter;stroke-width:0.079261;\"/>\r\n   </g>\r\n   <g id=\"patch_685\">\r\n    <path clip-path=\"url(#p1e020dd2c8)\" d=\"M 617.964489 442.08 \r\nL 618.757102 442.08 \r\nL 618.757102 442.08 \r\nL 617.964489 442.08 \r\nz\r\n\" style=\"fill:#1f77b4;fill-opacity:0.5;stroke:#000000;stroke-linejoin:miter;stroke-width:0.079261;\"/>\r\n   </g>\r\n   <g id=\"patch_686\">\r\n    <path clip-path=\"url(#p1e020dd2c8)\" d=\"M 618.757102 442.08 \r\nL 619.549716 442.08 \r\nL 619.549716 442.08 \r\nL 618.757102 442.08 \r\nz\r\n\" style=\"fill:#1f77b4;fill-opacity:0.5;stroke:#000000;stroke-linejoin:miter;stroke-width:0.079261;\"/>\r\n   </g>\r\n   <g id=\"patch_687\">\r\n    <path clip-path=\"url(#p1e020dd2c8)\" d=\"M 619.549716 442.08 \r\nL 620.34233 442.08 \r\nL 620.34233 442.08 \r\nL 619.549716 442.08 \r\nz\r\n\" style=\"fill:#1f77b4;fill-opacity:0.5;stroke:#000000;stroke-linejoin:miter;stroke-width:0.079261;\"/>\r\n   </g>\r\n   <g id=\"patch_688\">\r\n    <path clip-path=\"url(#p1e020dd2c8)\" d=\"M 620.34233 442.08 \r\nL 621.134943 442.08 \r\nL 621.134943 442.08 \r\nL 620.34233 442.08 \r\nz\r\n\" style=\"fill:#1f77b4;fill-opacity:0.5;stroke:#000000;stroke-linejoin:miter;stroke-width:0.079261;\"/>\r\n   </g>\r\n   <g id=\"patch_689\">\r\n    <path clip-path=\"url(#p1e020dd2c8)\" d=\"M 621.134943 442.08 \r\nL 621.927557 442.08 \r\nL 621.927557 442.08 \r\nL 621.134943 442.08 \r\nz\r\n\" style=\"fill:#1f77b4;fill-opacity:0.5;stroke:#000000;stroke-linejoin:miter;stroke-width:0.079261;\"/>\r\n   </g>\r\n   <g id=\"patch_690\">\r\n    <path clip-path=\"url(#p1e020dd2c8)\" d=\"M 621.927557 442.08 \r\nL 622.72017 442.08 \r\nL 622.72017 442.08 \r\nL 621.927557 442.08 \r\nz\r\n\" style=\"fill:#1f77b4;fill-opacity:0.5;stroke:#000000;stroke-linejoin:miter;stroke-width:0.079261;\"/>\r\n   </g>\r\n   <g id=\"patch_691\">\r\n    <path clip-path=\"url(#p1e020dd2c8)\" d=\"M 622.72017 442.08 \r\nL 623.512784 442.08 \r\nL 623.512784 442.08 \r\nL 622.72017 442.08 \r\nz\r\n\" style=\"fill:#1f77b4;fill-opacity:0.5;stroke:#000000;stroke-linejoin:miter;stroke-width:0.079261;\"/>\r\n   </g>\r\n   <g id=\"patch_692\">\r\n    <path clip-path=\"url(#p1e020dd2c8)\" d=\"M 623.512784 442.08 \r\nL 624.305398 442.08 \r\nL 624.305398 442.08 \r\nL 623.512784 442.08 \r\nz\r\n\" style=\"fill:#1f77b4;fill-opacity:0.5;stroke:#000000;stroke-linejoin:miter;stroke-width:0.079261;\"/>\r\n   </g>\r\n   <g id=\"patch_693\">\r\n    <path clip-path=\"url(#p1e020dd2c8)\" d=\"M 624.305398 442.08 \r\nL 625.098011 442.08 \r\nL 625.098011 442.08 \r\nL 624.305398 442.08 \r\nz\r\n\" style=\"fill:#1f77b4;fill-opacity:0.5;stroke:#000000;stroke-linejoin:miter;stroke-width:0.079261;\"/>\r\n   </g>\r\n   <g id=\"patch_694\">\r\n    <path clip-path=\"url(#p1e020dd2c8)\" d=\"M 625.098011 442.08 \r\nL 625.890625 442.08 \r\nL 625.890625 442.08 \r\nL 625.098011 442.08 \r\nz\r\n\" style=\"fill:#1f77b4;fill-opacity:0.5;stroke:#000000;stroke-linejoin:miter;stroke-width:0.079261;\"/>\r\n   </g>\r\n   <g id=\"patch_695\">\r\n    <path clip-path=\"url(#p1e020dd2c8)\" d=\"M 625.890625 442.08 \r\nL 626.683239 442.08 \r\nL 626.683239 442.08 \r\nL 625.890625 442.08 \r\nz\r\n\" style=\"fill:#1f77b4;fill-opacity:0.5;stroke:#000000;stroke-linejoin:miter;stroke-width:0.079261;\"/>\r\n   </g>\r\n   <g id=\"patch_696\">\r\n    <path clip-path=\"url(#p1e020dd2c8)\" d=\"M 626.683239 442.08 \r\nL 627.475852 442.08 \r\nL 627.475852 442.08 \r\nL 626.683239 442.08 \r\nz\r\n\" style=\"fill:#1f77b4;fill-opacity:0.5;stroke:#000000;stroke-linejoin:miter;stroke-width:0.079261;\"/>\r\n   </g>\r\n   <g id=\"patch_697\">\r\n    <path clip-path=\"url(#p1e020dd2c8)\" d=\"M 627.475852 442.08 \r\nL 628.268466 442.08 \r\nL 628.268466 442.08 \r\nL 627.475852 442.08 \r\nz\r\n\" style=\"fill:#1f77b4;fill-opacity:0.5;stroke:#000000;stroke-linejoin:miter;stroke-width:0.079261;\"/>\r\n   </g>\r\n   <g id=\"patch_698\">\r\n    <path clip-path=\"url(#p1e020dd2c8)\" d=\"M 628.268466 442.08 \r\nL 629.06108 442.08 \r\nL 629.06108 442.08 \r\nL 628.268466 442.08 \r\nz\r\n\" style=\"fill:#1f77b4;fill-opacity:0.5;stroke:#000000;stroke-linejoin:miter;stroke-width:0.079261;\"/>\r\n   </g>\r\n   <g id=\"patch_699\">\r\n    <path clip-path=\"url(#p1e020dd2c8)\" d=\"M 629.06108 442.08 \r\nL 629.853693 442.08 \r\nL 629.853693 442.08 \r\nL 629.06108 442.08 \r\nz\r\n\" style=\"fill:#1f77b4;fill-opacity:0.5;stroke:#000000;stroke-linejoin:miter;stroke-width:0.079261;\"/>\r\n   </g>\r\n   <g id=\"patch_700\">\r\n    <path clip-path=\"url(#p1e020dd2c8)\" d=\"M 629.853693 442.08 \r\nL 630.646307 442.08 \r\nL 630.646307 442.08 \r\nL 629.853693 442.08 \r\nz\r\n\" style=\"fill:#1f77b4;fill-opacity:0.5;stroke:#000000;stroke-linejoin:miter;stroke-width:0.079261;\"/>\r\n   </g>\r\n   <g id=\"patch_701\">\r\n    <path clip-path=\"url(#p1e020dd2c8)\" d=\"M 630.646307 442.08 \r\nL 631.43892 442.08 \r\nL 631.43892 442.08 \r\nL 630.646307 442.08 \r\nz\r\n\" style=\"fill:#1f77b4;fill-opacity:0.5;stroke:#000000;stroke-linejoin:miter;stroke-width:0.079261;\"/>\r\n   </g>\r\n   <g id=\"patch_702\">\r\n    <path clip-path=\"url(#p1e020dd2c8)\" d=\"M 631.43892 442.08 \r\nL 632.231534 442.08 \r\nL 632.231534 442.08 \r\nL 631.43892 442.08 \r\nz\r\n\" style=\"fill:#1f77b4;fill-opacity:0.5;stroke:#000000;stroke-linejoin:miter;stroke-width:0.079261;\"/>\r\n   </g>\r\n   <g id=\"patch_703\">\r\n    <path clip-path=\"url(#p1e020dd2c8)\" d=\"M 632.231534 442.08 \r\nL 633.024148 442.08 \r\nL 633.024148 442.08 \r\nL 632.231534 442.08 \r\nz\r\n\" style=\"fill:#1f77b4;fill-opacity:0.5;stroke:#000000;stroke-linejoin:miter;stroke-width:0.079261;\"/>\r\n   </g>\r\n   <g id=\"patch_704\">\r\n    <path clip-path=\"url(#p1e020dd2c8)\" d=\"M 633.024148 442.08 \r\nL 633.816761 442.08 \r\nL 633.816761 442.08 \r\nL 633.024148 442.08 \r\nz\r\n\" style=\"fill:#1f77b4;fill-opacity:0.5;stroke:#000000;stroke-linejoin:miter;stroke-width:0.079261;\"/>\r\n   </g>\r\n   <g id=\"patch_705\">\r\n    <path clip-path=\"url(#p1e020dd2c8)\" d=\"M 633.816761 442.08 \r\nL 634.609375 442.08 \r\nL 634.609375 442.08 \r\nL 633.816761 442.08 \r\nz\r\n\" style=\"fill:#1f77b4;fill-opacity:0.5;stroke:#000000;stroke-linejoin:miter;stroke-width:0.079261;\"/>\r\n   </g>\r\n   <g id=\"patch_706\">\r\n    <path clip-path=\"url(#p1e020dd2c8)\" d=\"M 634.609375 442.08 \r\nL 635.401989 442.08 \r\nL 635.401989 442.08 \r\nL 634.609375 442.08 \r\nz\r\n\" style=\"fill:#1f77b4;fill-opacity:0.5;stroke:#000000;stroke-linejoin:miter;stroke-width:0.079261;\"/>\r\n   </g>\r\n   <g id=\"patch_707\">\r\n    <path clip-path=\"url(#p1e020dd2c8)\" d=\"M 635.401989 442.08 \r\nL 636.194602 442.08 \r\nL 636.194602 442.08 \r\nL 635.401989 442.08 \r\nz\r\n\" style=\"fill:#1f77b4;fill-opacity:0.5;stroke:#000000;stroke-linejoin:miter;stroke-width:0.079261;\"/>\r\n   </g>\r\n   <g id=\"patch_708\">\r\n    <path clip-path=\"url(#p1e020dd2c8)\" d=\"M 636.194602 442.08 \r\nL 636.987216 442.08 \r\nL 636.987216 442.08 \r\nL 636.194602 442.08 \r\nz\r\n\" style=\"fill:#1f77b4;fill-opacity:0.5;stroke:#000000;stroke-linejoin:miter;stroke-width:0.079261;\"/>\r\n   </g>\r\n   <g id=\"patch_709\">\r\n    <path clip-path=\"url(#p1e020dd2c8)\" d=\"M 636.987216 442.08 \r\nL 637.77983 442.08 \r\nL 637.77983 442.08 \r\nL 636.987216 442.08 \r\nz\r\n\" style=\"fill:#1f77b4;fill-opacity:0.5;stroke:#000000;stroke-linejoin:miter;stroke-width:0.079261;\"/>\r\n   </g>\r\n   <g id=\"patch_710\">\r\n    <path clip-path=\"url(#p1e020dd2c8)\" d=\"M 637.77983 442.08 \r\nL 638.572443 442.08 \r\nL 638.572443 442.08 \r\nL 637.77983 442.08 \r\nz\r\n\" style=\"fill:#1f77b4;fill-opacity:0.5;stroke:#000000;stroke-linejoin:miter;stroke-width:0.079261;\"/>\r\n   </g>\r\n   <g id=\"patch_711\">\r\n    <path clip-path=\"url(#p1e020dd2c8)\" d=\"M 638.572443 442.08 \r\nL 639.365057 442.08 \r\nL 639.365057 442.08 \r\nL 638.572443 442.08 \r\nz\r\n\" style=\"fill:#1f77b4;fill-opacity:0.5;stroke:#000000;stroke-linejoin:miter;stroke-width:0.079261;\"/>\r\n   </g>\r\n   <g id=\"patch_712\">\r\n    <path clip-path=\"url(#p1e020dd2c8)\" d=\"M 639.365057 442.08 \r\nL 640.15767 442.08 \r\nL 640.15767 442.08 \r\nL 639.365057 442.08 \r\nz\r\n\" style=\"fill:#1f77b4;fill-opacity:0.5;stroke:#000000;stroke-linejoin:miter;stroke-width:0.079261;\"/>\r\n   </g>\r\n   <g id=\"patch_713\">\r\n    <path clip-path=\"url(#p1e020dd2c8)\" d=\"M 640.15767 442.08 \r\nL 640.950284 442.08 \r\nL 640.950284 442.08 \r\nL 640.15767 442.08 \r\nz\r\n\" style=\"fill:#1f77b4;fill-opacity:0.5;stroke:#000000;stroke-linejoin:miter;stroke-width:0.079261;\"/>\r\n   </g>\r\n   <g id=\"patch_714\">\r\n    <path clip-path=\"url(#p1e020dd2c8)\" d=\"M 640.950284 442.08 \r\nL 641.742898 442.08 \r\nL 641.742898 442.08 \r\nL 640.950284 442.08 \r\nz\r\n\" style=\"fill:#1f77b4;fill-opacity:0.5;stroke:#000000;stroke-linejoin:miter;stroke-width:0.079261;\"/>\r\n   </g>\r\n   <g id=\"patch_715\">\r\n    <path clip-path=\"url(#p1e020dd2c8)\" d=\"M 641.742898 442.08 \r\nL 642.535511 442.08 \r\nL 642.535511 442.08 \r\nL 641.742898 442.08 \r\nz\r\n\" style=\"fill:#1f77b4;fill-opacity:0.5;stroke:#000000;stroke-linejoin:miter;stroke-width:0.079261;\"/>\r\n   </g>\r\n   <g id=\"patch_716\">\r\n    <path clip-path=\"url(#p1e020dd2c8)\" d=\"M 642.535511 442.08 \r\nL 643.328125 442.08 \r\nL 643.328125 442.08 \r\nL 642.535511 442.08 \r\nz\r\n\" style=\"fill:#1f77b4;fill-opacity:0.5;stroke:#000000;stroke-linejoin:miter;stroke-width:0.079261;\"/>\r\n   </g>\r\n   <g id=\"patch_717\">\r\n    <path clip-path=\"url(#p1e020dd2c8)\" d=\"M 643.328125 442.08 \r\nL 644.120739 442.08 \r\nL 644.120739 442.08 \r\nL 643.328125 442.08 \r\nz\r\n\" style=\"fill:#1f77b4;fill-opacity:0.5;stroke:#000000;stroke-linejoin:miter;stroke-width:0.079261;\"/>\r\n   </g>\r\n   <g id=\"patch_718\">\r\n    <path clip-path=\"url(#p1e020dd2c8)\" d=\"M 644.120739 442.08 \r\nL 644.913352 442.08 \r\nL 644.913352 442.08 \r\nL 644.120739 442.08 \r\nz\r\n\" style=\"fill:#1f77b4;fill-opacity:0.5;stroke:#000000;stroke-linejoin:miter;stroke-width:0.079261;\"/>\r\n   </g>\r\n   <g id=\"patch_719\">\r\n    <path clip-path=\"url(#p1e020dd2c8)\" d=\"M 644.913352 442.08 \r\nL 645.705966 442.08 \r\nL 645.705966 442.08 \r\nL 644.913352 442.08 \r\nz\r\n\" style=\"fill:#1f77b4;fill-opacity:0.5;stroke:#000000;stroke-linejoin:miter;stroke-width:0.079261;\"/>\r\n   </g>\r\n   <g id=\"patch_720\">\r\n    <path clip-path=\"url(#p1e020dd2c8)\" d=\"M 645.705966 442.08 \r\nL 646.49858 442.08 \r\nL 646.49858 442.08 \r\nL 645.705966 442.08 \r\nz\r\n\" style=\"fill:#1f77b4;fill-opacity:0.5;stroke:#000000;stroke-linejoin:miter;stroke-width:0.079261;\"/>\r\n   </g>\r\n   <g id=\"patch_721\">\r\n    <path clip-path=\"url(#p1e020dd2c8)\" d=\"M 646.49858 442.08 \r\nL 647.291193 442.08 \r\nL 647.291193 442.08 \r\nL 646.49858 442.08 \r\nz\r\n\" style=\"fill:#1f77b4;fill-opacity:0.5;stroke:#000000;stroke-linejoin:miter;stroke-width:0.079261;\"/>\r\n   </g>\r\n   <g id=\"patch_722\">\r\n    <path clip-path=\"url(#p1e020dd2c8)\" d=\"M 647.291193 442.08 \r\nL 648.083807 442.08 \r\nL 648.083807 442.08 \r\nL 647.291193 442.08 \r\nz\r\n\" style=\"fill:#1f77b4;fill-opacity:0.5;stroke:#000000;stroke-linejoin:miter;stroke-width:0.079261;\"/>\r\n   </g>\r\n   <g id=\"patch_723\">\r\n    <path clip-path=\"url(#p1e020dd2c8)\" d=\"M 648.083807 442.08 \r\nL 648.87642 442.08 \r\nL 648.87642 442.08 \r\nL 648.083807 442.08 \r\nz\r\n\" style=\"fill:#1f77b4;fill-opacity:0.5;stroke:#000000;stroke-linejoin:miter;stroke-width:0.079261;\"/>\r\n   </g>\r\n   <g id=\"patch_724\">\r\n    <path clip-path=\"url(#p1e020dd2c8)\" d=\"M 648.87642 442.08 \r\nL 649.669034 442.08 \r\nL 649.669034 442.08 \r\nL 648.87642 442.08 \r\nz\r\n\" style=\"fill:#1f77b4;fill-opacity:0.5;stroke:#000000;stroke-linejoin:miter;stroke-width:0.079261;\"/>\r\n   </g>\r\n   <g id=\"patch_725\">\r\n    <path clip-path=\"url(#p1e020dd2c8)\" d=\"M 649.669034 442.08 \r\nL 650.461648 442.08 \r\nL 650.461648 442.08 \r\nL 649.669034 442.08 \r\nz\r\n\" style=\"fill:#1f77b4;fill-opacity:0.5;stroke:#000000;stroke-linejoin:miter;stroke-width:0.079261;\"/>\r\n   </g>\r\n   <g id=\"patch_726\">\r\n    <path clip-path=\"url(#p1e020dd2c8)\" d=\"M 650.461648 442.08 \r\nL 651.254261 442.08 \r\nL 651.254261 442.08 \r\nL 650.461648 442.08 \r\nz\r\n\" style=\"fill:#1f77b4;fill-opacity:0.5;stroke:#000000;stroke-linejoin:miter;stroke-width:0.079261;\"/>\r\n   </g>\r\n   <g id=\"patch_727\">\r\n    <path clip-path=\"url(#p1e020dd2c8)\" d=\"M 651.254261 442.08 \r\nL 652.046875 442.08 \r\nL 652.046875 442.08 \r\nL 651.254261 442.08 \r\nz\r\n\" style=\"fill:#1f77b4;fill-opacity:0.5;stroke:#000000;stroke-linejoin:miter;stroke-width:0.079261;\"/>\r\n   </g>\r\n   <g id=\"patch_728\">\r\n    <path clip-path=\"url(#p1e020dd2c8)\" d=\"M 652.046875 442.08 \r\nL 652.839489 442.08 \r\nL 652.839489 442.08 \r\nL 652.046875 442.08 \r\nz\r\n\" style=\"fill:#1f77b4;fill-opacity:0.5;stroke:#000000;stroke-linejoin:miter;stroke-width:0.079261;\"/>\r\n   </g>\r\n   <g id=\"patch_729\">\r\n    <path clip-path=\"url(#p1e020dd2c8)\" d=\"M 652.839489 442.08 \r\nL 653.632102 442.08 \r\nL 653.632102 442.08 \r\nL 652.839489 442.08 \r\nz\r\n\" style=\"fill:#1f77b4;fill-opacity:0.5;stroke:#000000;stroke-linejoin:miter;stroke-width:0.079261;\"/>\r\n   </g>\r\n   <g id=\"patch_730\">\r\n    <path clip-path=\"url(#p1e020dd2c8)\" d=\"M 653.632102 442.08 \r\nL 654.424716 442.08 \r\nL 654.424716 442.08 \r\nL 653.632102 442.08 \r\nz\r\n\" style=\"fill:#1f77b4;fill-opacity:0.5;stroke:#000000;stroke-linejoin:miter;stroke-width:0.079261;\"/>\r\n   </g>\r\n   <g id=\"patch_731\">\r\n    <path clip-path=\"url(#p1e020dd2c8)\" d=\"M 654.424716 442.08 \r\nL 655.21733 442.08 \r\nL 655.21733 442.08 \r\nL 654.424716 442.08 \r\nz\r\n\" style=\"fill:#1f77b4;fill-opacity:0.5;stroke:#000000;stroke-linejoin:miter;stroke-width:0.079261;\"/>\r\n   </g>\r\n   <g id=\"patch_732\">\r\n    <path clip-path=\"url(#p1e020dd2c8)\" d=\"M 655.21733 442.08 \r\nL 656.009943 442.08 \r\nL 656.009943 442.08 \r\nL 655.21733 442.08 \r\nz\r\n\" style=\"fill:#1f77b4;fill-opacity:0.5;stroke:#000000;stroke-linejoin:miter;stroke-width:0.079261;\"/>\r\n   </g>\r\n   <g id=\"patch_733\">\r\n    <path clip-path=\"url(#p1e020dd2c8)\" d=\"M 656.009943 442.08 \r\nL 656.802557 442.08 \r\nL 656.802557 442.08 \r\nL 656.009943 442.08 \r\nz\r\n\" style=\"fill:#1f77b4;fill-opacity:0.5;stroke:#000000;stroke-linejoin:miter;stroke-width:0.079261;\"/>\r\n   </g>\r\n   <g id=\"patch_734\">\r\n    <path clip-path=\"url(#p1e020dd2c8)\" d=\"M 656.802557 442.08 \r\nL 657.59517 442.08 \r\nL 657.59517 442.08 \r\nL 656.802557 442.08 \r\nz\r\n\" style=\"fill:#1f77b4;fill-opacity:0.5;stroke:#000000;stroke-linejoin:miter;stroke-width:0.079261;\"/>\r\n   </g>\r\n   <g id=\"patch_735\">\r\n    <path clip-path=\"url(#p1e020dd2c8)\" d=\"M 657.59517 442.08 \r\nL 658.387784 442.08 \r\nL 658.387784 442.08 \r\nL 657.59517 442.08 \r\nz\r\n\" style=\"fill:#1f77b4;fill-opacity:0.5;stroke:#000000;stroke-linejoin:miter;stroke-width:0.079261;\"/>\r\n   </g>\r\n   <g id=\"patch_736\">\r\n    <path clip-path=\"url(#p1e020dd2c8)\" d=\"M 658.387784 442.08 \r\nL 659.180398 442.08 \r\nL 659.180398 442.08 \r\nL 658.387784 442.08 \r\nz\r\n\" style=\"fill:#1f77b4;fill-opacity:0.5;stroke:#000000;stroke-linejoin:miter;stroke-width:0.079261;\"/>\r\n   </g>\r\n   <g id=\"patch_737\">\r\n    <path clip-path=\"url(#p1e020dd2c8)\" d=\"M 659.180398 442.08 \r\nL 659.973011 442.08 \r\nL 659.973011 442.08 \r\nL 659.180398 442.08 \r\nz\r\n\" style=\"fill:#1f77b4;fill-opacity:0.5;stroke:#000000;stroke-linejoin:miter;stroke-width:0.079261;\"/>\r\n   </g>\r\n   <g id=\"patch_738\">\r\n    <path clip-path=\"url(#p1e020dd2c8)\" d=\"M 659.973011 442.08 \r\nL 660.765625 442.08 \r\nL 660.765625 442.08 \r\nL 659.973011 442.08 \r\nz\r\n\" style=\"fill:#1f77b4;fill-opacity:0.5;stroke:#000000;stroke-linejoin:miter;stroke-width:0.079261;\"/>\r\n   </g>\r\n   <g id=\"patch_739\">\r\n    <path clip-path=\"url(#p1e020dd2c8)\" d=\"M 660.765625 442.08 \r\nL 661.558239 442.08 \r\nL 661.558239 442.08 \r\nL 660.765625 442.08 \r\nz\r\n\" style=\"fill:#1f77b4;fill-opacity:0.5;stroke:#000000;stroke-linejoin:miter;stroke-width:0.079261;\"/>\r\n   </g>\r\n   <g id=\"patch_740\">\r\n    <path clip-path=\"url(#p1e020dd2c8)\" d=\"M 661.558239 442.08 \r\nL 662.350852 442.08 \r\nL 662.350852 442.08 \r\nL 661.558239 442.08 \r\nz\r\n\" style=\"fill:#1f77b4;fill-opacity:0.5;stroke:#000000;stroke-linejoin:miter;stroke-width:0.079261;\"/>\r\n   </g>\r\n   <g id=\"patch_741\">\r\n    <path clip-path=\"url(#p1e020dd2c8)\" d=\"M 662.350852 442.08 \r\nL 663.143466 442.08 \r\nL 663.143466 442.08 \r\nL 662.350852 442.08 \r\nz\r\n\" style=\"fill:#1f77b4;fill-opacity:0.5;stroke:#000000;stroke-linejoin:miter;stroke-width:0.079261;\"/>\r\n   </g>\r\n   <g id=\"patch_742\">\r\n    <path clip-path=\"url(#p1e020dd2c8)\" d=\"M 663.143466 442.08 \r\nL 663.93608 442.08 \r\nL 663.93608 442.08 \r\nL 663.143466 442.08 \r\nz\r\n\" style=\"fill:#1f77b4;fill-opacity:0.5;stroke:#000000;stroke-linejoin:miter;stroke-width:0.079261;\"/>\r\n   </g>\r\n   <g id=\"patch_743\">\r\n    <path clip-path=\"url(#p1e020dd2c8)\" d=\"M 663.93608 442.08 \r\nL 664.728693 442.08 \r\nL 664.728693 442.08 \r\nL 663.93608 442.08 \r\nz\r\n\" style=\"fill:#1f77b4;fill-opacity:0.5;stroke:#000000;stroke-linejoin:miter;stroke-width:0.079261;\"/>\r\n   </g>\r\n   <g id=\"patch_744\">\r\n    <path clip-path=\"url(#p1e020dd2c8)\" d=\"M 664.728693 442.08 \r\nL 665.521307 442.08 \r\nL 665.521307 442.08 \r\nL 664.728693 442.08 \r\nz\r\n\" style=\"fill:#1f77b4;fill-opacity:0.5;stroke:#000000;stroke-linejoin:miter;stroke-width:0.079261;\"/>\r\n   </g>\r\n   <g id=\"patch_745\">\r\n    <path clip-path=\"url(#p1e020dd2c8)\" d=\"M 665.521307 442.08 \r\nL 666.31392 442.08 \r\nL 666.31392 442.08 \r\nL 665.521307 442.08 \r\nz\r\n\" style=\"fill:#1f77b4;fill-opacity:0.5;stroke:#000000;stroke-linejoin:miter;stroke-width:0.079261;\"/>\r\n   </g>\r\n   <g id=\"patch_746\">\r\n    <path clip-path=\"url(#p1e020dd2c8)\" d=\"M 666.31392 442.08 \r\nL 667.106534 442.08 \r\nL 667.106534 442.08 \r\nL 666.31392 442.08 \r\nz\r\n\" style=\"fill:#1f77b4;fill-opacity:0.5;stroke:#000000;stroke-linejoin:miter;stroke-width:0.079261;\"/>\r\n   </g>\r\n   <g id=\"patch_747\">\r\n    <path clip-path=\"url(#p1e020dd2c8)\" d=\"M 667.106534 442.08 \r\nL 667.899148 442.08 \r\nL 667.899148 442.08 \r\nL 667.106534 442.08 \r\nz\r\n\" style=\"fill:#1f77b4;fill-opacity:0.5;stroke:#000000;stroke-linejoin:miter;stroke-width:0.079261;\"/>\r\n   </g>\r\n   <g id=\"patch_748\">\r\n    <path clip-path=\"url(#p1e020dd2c8)\" d=\"M 667.899148 442.08 \r\nL 668.691761 442.08 \r\nL 668.691761 442.08 \r\nL 667.899148 442.08 \r\nz\r\n\" style=\"fill:#1f77b4;fill-opacity:0.5;stroke:#000000;stroke-linejoin:miter;stroke-width:0.079261;\"/>\r\n   </g>\r\n   <g id=\"patch_749\">\r\n    <path clip-path=\"url(#p1e020dd2c8)\" d=\"M 668.691761 442.08 \r\nL 669.484375 442.08 \r\nL 669.484375 442.08 \r\nL 668.691761 442.08 \r\nz\r\n\" style=\"fill:#1f77b4;fill-opacity:0.5;stroke:#000000;stroke-linejoin:miter;stroke-width:0.079261;\"/>\r\n   </g>\r\n   <g id=\"patch_750\">\r\n    <path clip-path=\"url(#p1e020dd2c8)\" d=\"M 669.484375 442.08 \r\nL 670.276989 442.08 \r\nL 670.276989 442.08 \r\nL 669.484375 442.08 \r\nz\r\n\" style=\"fill:#1f77b4;fill-opacity:0.5;stroke:#000000;stroke-linejoin:miter;stroke-width:0.079261;\"/>\r\n   </g>\r\n   <g id=\"patch_751\">\r\n    <path clip-path=\"url(#p1e020dd2c8)\" d=\"M 670.276989 442.08 \r\nL 671.069602 442.08 \r\nL 671.069602 442.08 \r\nL 670.276989 442.08 \r\nz\r\n\" style=\"fill:#1f77b4;fill-opacity:0.5;stroke:#000000;stroke-linejoin:miter;stroke-width:0.079261;\"/>\r\n   </g>\r\n   <g id=\"patch_752\">\r\n    <path clip-path=\"url(#p1e020dd2c8)\" d=\"M 671.069602 442.08 \r\nL 671.862216 442.08 \r\nL 671.862216 442.08 \r\nL 671.069602 442.08 \r\nz\r\n\" style=\"fill:#1f77b4;fill-opacity:0.5;stroke:#000000;stroke-linejoin:miter;stroke-width:0.079261;\"/>\r\n   </g>\r\n   <g id=\"patch_753\">\r\n    <path clip-path=\"url(#p1e020dd2c8)\" d=\"M 671.862216 442.08 \r\nL 672.65483 442.08 \r\nL 672.65483 442.08 \r\nL 671.862216 442.08 \r\nz\r\n\" style=\"fill:#1f77b4;fill-opacity:0.5;stroke:#000000;stroke-linejoin:miter;stroke-width:0.079261;\"/>\r\n   </g>\r\n   <g id=\"patch_754\">\r\n    <path clip-path=\"url(#p1e020dd2c8)\" d=\"M 672.65483 442.08 \r\nL 673.447443 442.08 \r\nL 673.447443 442.08 \r\nL 672.65483 442.08 \r\nz\r\n\" style=\"fill:#1f77b4;fill-opacity:0.5;stroke:#000000;stroke-linejoin:miter;stroke-width:0.079261;\"/>\r\n   </g>\r\n   <g id=\"patch_755\">\r\n    <path clip-path=\"url(#p1e020dd2c8)\" d=\"M 673.447443 442.08 \r\nL 674.240057 442.08 \r\nL 674.240057 442.08 \r\nL 673.447443 442.08 \r\nz\r\n\" style=\"fill:#1f77b4;fill-opacity:0.5;stroke:#000000;stroke-linejoin:miter;stroke-width:0.079261;\"/>\r\n   </g>\r\n   <g id=\"patch_756\">\r\n    <path clip-path=\"url(#p1e020dd2c8)\" d=\"M 674.240057 442.08 \r\nL 675.03267 442.08 \r\nL 675.03267 442.08 \r\nL 674.240057 442.08 \r\nz\r\n\" style=\"fill:#1f77b4;fill-opacity:0.5;stroke:#000000;stroke-linejoin:miter;stroke-width:0.079261;\"/>\r\n   </g>\r\n   <g id=\"patch_757\">\r\n    <path clip-path=\"url(#p1e020dd2c8)\" d=\"M 675.03267 442.08 \r\nL 675.825284 442.08 \r\nL 675.825284 442.08 \r\nL 675.03267 442.08 \r\nz\r\n\" style=\"fill:#1f77b4;fill-opacity:0.5;stroke:#000000;stroke-linejoin:miter;stroke-width:0.079261;\"/>\r\n   </g>\r\n   <g id=\"patch_758\">\r\n    <path clip-path=\"url(#p1e020dd2c8)\" d=\"M 675.825284 442.08 \r\nL 676.617898 442.08 \r\nL 676.617898 442.08 \r\nL 675.825284 442.08 \r\nz\r\n\" style=\"fill:#1f77b4;fill-opacity:0.5;stroke:#000000;stroke-linejoin:miter;stroke-width:0.079261;\"/>\r\n   </g>\r\n   <g id=\"patch_759\">\r\n    <path clip-path=\"url(#p1e020dd2c8)\" d=\"M 676.617898 442.08 \r\nL 677.410511 442.08 \r\nL 677.410511 442.08 \r\nL 676.617898 442.08 \r\nz\r\n\" style=\"fill:#1f77b4;fill-opacity:0.5;stroke:#000000;stroke-linejoin:miter;stroke-width:0.079261;\"/>\r\n   </g>\r\n   <g id=\"patch_760\">\r\n    <path clip-path=\"url(#p1e020dd2c8)\" d=\"M 677.410511 442.08 \r\nL 678.203125 442.08 \r\nL 678.203125 442.08 \r\nL 677.410511 442.08 \r\nz\r\n\" style=\"fill:#1f77b4;fill-opacity:0.5;stroke:#000000;stroke-linejoin:miter;stroke-width:0.079261;\"/>\r\n   </g>\r\n   <g id=\"patch_761\">\r\n    <path clip-path=\"url(#p1e020dd2c8)\" d=\"M 678.203125 442.08 \r\nL 678.995739 442.08 \r\nL 678.995739 442.08 \r\nL 678.203125 442.08 \r\nz\r\n\" style=\"fill:#1f77b4;fill-opacity:0.5;stroke:#000000;stroke-linejoin:miter;stroke-width:0.079261;\"/>\r\n   </g>\r\n   <g id=\"patch_762\">\r\n    <path clip-path=\"url(#p1e020dd2c8)\" d=\"M 678.995739 442.08 \r\nL 679.788352 442.08 \r\nL 679.788352 442.08 \r\nL 678.995739 442.08 \r\nz\r\n\" style=\"fill:#1f77b4;fill-opacity:0.5;stroke:#000000;stroke-linejoin:miter;stroke-width:0.079261;\"/>\r\n   </g>\r\n   <g id=\"patch_763\">\r\n    <path clip-path=\"url(#p1e020dd2c8)\" d=\"M 679.788352 442.08 \r\nL 680.580966 442.08 \r\nL 680.580966 442.08 \r\nL 679.788352 442.08 \r\nz\r\n\" style=\"fill:#1f77b4;fill-opacity:0.5;stroke:#000000;stroke-linejoin:miter;stroke-width:0.079261;\"/>\r\n   </g>\r\n   <g id=\"patch_764\">\r\n    <path clip-path=\"url(#p1e020dd2c8)\" d=\"M 680.580966 442.08 \r\nL 681.37358 442.08 \r\nL 681.37358 442.08 \r\nL 680.580966 442.08 \r\nz\r\n\" style=\"fill:#1f77b4;fill-opacity:0.5;stroke:#000000;stroke-linejoin:miter;stroke-width:0.079261;\"/>\r\n   </g>\r\n   <g id=\"patch_765\">\r\n    <path clip-path=\"url(#p1e020dd2c8)\" d=\"M 681.37358 442.08 \r\nL 682.166193 442.08 \r\nL 682.166193 442.08 \r\nL 681.37358 442.08 \r\nz\r\n\" style=\"fill:#1f77b4;fill-opacity:0.5;stroke:#000000;stroke-linejoin:miter;stroke-width:0.079261;\"/>\r\n   </g>\r\n   <g id=\"patch_766\">\r\n    <path clip-path=\"url(#p1e020dd2c8)\" d=\"M 682.166193 442.08 \r\nL 682.958807 442.08 \r\nL 682.958807 442.08 \r\nL 682.166193 442.08 \r\nz\r\n\" style=\"fill:#1f77b4;fill-opacity:0.5;stroke:#000000;stroke-linejoin:miter;stroke-width:0.079261;\"/>\r\n   </g>\r\n   <g id=\"patch_767\">\r\n    <path clip-path=\"url(#p1e020dd2c8)\" d=\"M 682.958807 442.08 \r\nL 683.75142 442.08 \r\nL 683.75142 442.08 \r\nL 682.958807 442.08 \r\nz\r\n\" style=\"fill:#1f77b4;fill-opacity:0.5;stroke:#000000;stroke-linejoin:miter;stroke-width:0.079261;\"/>\r\n   </g>\r\n   <g id=\"patch_768\">\r\n    <path clip-path=\"url(#p1e020dd2c8)\" d=\"M 683.75142 442.08 \r\nL 684.544034 442.08 \r\nL 684.544034 442.08 \r\nL 683.75142 442.08 \r\nz\r\n\" style=\"fill:#1f77b4;fill-opacity:0.5;stroke:#000000;stroke-linejoin:miter;stroke-width:0.079261;\"/>\r\n   </g>\r\n   <g id=\"patch_769\">\r\n    <path clip-path=\"url(#p1e020dd2c8)\" d=\"M 684.544034 442.08 \r\nL 685.336648 442.08 \r\nL 685.336648 442.08 \r\nL 684.544034 442.08 \r\nz\r\n\" style=\"fill:#1f77b4;fill-opacity:0.5;stroke:#000000;stroke-linejoin:miter;stroke-width:0.079261;\"/>\r\n   </g>\r\n   <g id=\"patch_770\">\r\n    <path clip-path=\"url(#p1e020dd2c8)\" d=\"M 685.336648 442.08 \r\nL 686.129261 442.08 \r\nL 686.129261 441.516501 \r\nL 685.336648 441.516501 \r\nz\r\n\" style=\"fill:#1f77b4;fill-opacity:0.5;stroke:#000000;stroke-linejoin:miter;stroke-width:0.079261;\"/>\r\n   </g>\r\n   <g id=\"matplotlib.axis_1\">\r\n    <g id=\"xtick_1\">\r\n     <g id=\"line2d_1\">\r\n      <defs>\r\n       <path d=\"M 0 0 \r\nL 0 3.5 \r\n\" id=\"m05b6b19631\" style=\"stroke:#000000;stroke-width:0.8;\"/>\r\n      </defs>\r\n      <g>\r\n       <use style=\"stroke:#000000;stroke-width:0.8;\" x=\"77.325726\" xlink:href=\"#m05b6b19631\" y=\"442.08\"/>\r\n      </g>\r\n     </g>\r\n     <g id=\"text_1\">\r\n      <!-- 0 -->\r\n      <g transform=\"translate(74.144476 456.678437)scale(0.1 -0.1)\">\r\n       <defs>\r\n        <path d=\"M 31.78125 66.40625 \r\nQ 24.171875 66.40625 20.328125 58.90625 \r\nQ 16.5 51.421875 16.5 36.375 \r\nQ 16.5 21.390625 20.328125 13.890625 \r\nQ 24.171875 6.390625 31.78125 6.390625 \r\nQ 39.453125 6.390625 43.28125 13.890625 \r\nQ 47.125 21.390625 47.125 36.375 \r\nQ 47.125 51.421875 43.28125 58.90625 \r\nQ 39.453125 66.40625 31.78125 66.40625 \r\nz\r\nM 31.78125 74.21875 \r\nQ 44.046875 74.21875 50.515625 64.515625 \r\nQ 56.984375 54.828125 56.984375 36.375 \r\nQ 56.984375 17.96875 50.515625 8.265625 \r\nQ 44.046875 -1.421875 31.78125 -1.421875 \r\nQ 19.53125 -1.421875 13.0625 8.265625 \r\nQ 6.59375 17.96875 6.59375 36.375 \r\nQ 6.59375 54.828125 13.0625 64.515625 \r\nQ 19.53125 74.21875 31.78125 74.21875 \r\nz\r\n\" id=\"DejaVuSans-48\"/>\r\n       </defs>\r\n       <use xlink:href=\"#DejaVuSans-48\"/>\r\n      </g>\r\n     </g>\r\n    </g>\r\n    <g id=\"xtick_2\">\r\n     <g id=\"line2d_2\">\r\n      <g>\r\n       <use style=\"stroke:#000000;stroke-width:0.8;\" x=\"153.588226\" xlink:href=\"#m05b6b19631\" y=\"442.08\"/>\r\n      </g>\r\n     </g>\r\n     <g id=\"text_2\">\r\n      <!-- 1000 -->\r\n      <g transform=\"translate(140.863226 456.678437)scale(0.1 -0.1)\">\r\n       <defs>\r\n        <path d=\"M 12.40625 8.296875 \r\nL 28.515625 8.296875 \r\nL 28.515625 63.921875 \r\nL 10.984375 60.40625 \r\nL 10.984375 69.390625 \r\nL 28.421875 72.90625 \r\nL 38.28125 72.90625 \r\nL 38.28125 8.296875 \r\nL 54.390625 8.296875 \r\nL 54.390625 0 \r\nL 12.40625 0 \r\nz\r\n\" id=\"DejaVuSans-49\"/>\r\n       </defs>\r\n       <use xlink:href=\"#DejaVuSans-49\"/>\r\n       <use x=\"63.623047\" xlink:href=\"#DejaVuSans-48\"/>\r\n       <use x=\"127.246094\" xlink:href=\"#DejaVuSans-48\"/>\r\n       <use x=\"190.869141\" xlink:href=\"#DejaVuSans-48\"/>\r\n      </g>\r\n     </g>\r\n    </g>\r\n    <g id=\"xtick_3\">\r\n     <g id=\"line2d_3\">\r\n      <g>\r\n       <use style=\"stroke:#000000;stroke-width:0.8;\" x=\"229.850726\" xlink:href=\"#m05b6b19631\" y=\"442.08\"/>\r\n      </g>\r\n     </g>\r\n     <g id=\"text_3\">\r\n      <!-- 2000 -->\r\n      <g transform=\"translate(217.125726 456.678437)scale(0.1 -0.1)\">\r\n       <defs>\r\n        <path d=\"M 19.1875 8.296875 \r\nL 53.609375 8.296875 \r\nL 53.609375 0 \r\nL 7.328125 0 \r\nL 7.328125 8.296875 \r\nQ 12.9375 14.109375 22.625 23.890625 \r\nQ 32.328125 33.6875 34.8125 36.53125 \r\nQ 39.546875 41.84375 41.421875 45.53125 \r\nQ 43.3125 49.21875 43.3125 52.78125 \r\nQ 43.3125 58.59375 39.234375 62.25 \r\nQ 35.15625 65.921875 28.609375 65.921875 \r\nQ 23.96875 65.921875 18.8125 64.3125 \r\nQ 13.671875 62.703125 7.8125 59.421875 \r\nL 7.8125 69.390625 \r\nQ 13.765625 71.78125 18.9375 73 \r\nQ 24.125 74.21875 28.421875 74.21875 \r\nQ 39.75 74.21875 46.484375 68.546875 \r\nQ 53.21875 62.890625 53.21875 53.421875 \r\nQ 53.21875 48.921875 51.53125 44.890625 \r\nQ 49.859375 40.875 45.40625 35.40625 \r\nQ 44.1875 33.984375 37.640625 27.21875 \r\nQ 31.109375 20.453125 19.1875 8.296875 \r\nz\r\n\" id=\"DejaVuSans-50\"/>\r\n       </defs>\r\n       <use xlink:href=\"#DejaVuSans-50\"/>\r\n       <use x=\"63.623047\" xlink:href=\"#DejaVuSans-48\"/>\r\n       <use x=\"127.246094\" xlink:href=\"#DejaVuSans-48\"/>\r\n       <use x=\"190.869141\" xlink:href=\"#DejaVuSans-48\"/>\r\n      </g>\r\n     </g>\r\n    </g>\r\n    <g id=\"xtick_4\">\r\n     <g id=\"line2d_4\">\r\n      <g>\r\n       <use style=\"stroke:#000000;stroke-width:0.8;\" x=\"306.113225\" xlink:href=\"#m05b6b19631\" y=\"442.08\"/>\r\n      </g>\r\n     </g>\r\n     <g id=\"text_4\">\r\n      <!-- 3000 -->\r\n      <g transform=\"translate(293.388225 456.678437)scale(0.1 -0.1)\">\r\n       <defs>\r\n        <path d=\"M 40.578125 39.3125 \r\nQ 47.65625 37.796875 51.625 33 \r\nQ 55.609375 28.21875 55.609375 21.1875 \r\nQ 55.609375 10.40625 48.1875 4.484375 \r\nQ 40.765625 -1.421875 27.09375 -1.421875 \r\nQ 22.515625 -1.421875 17.65625 -0.515625 \r\nQ 12.796875 0.390625 7.625 2.203125 \r\nL 7.625 11.71875 \r\nQ 11.71875 9.328125 16.59375 8.109375 \r\nQ 21.484375 6.890625 26.8125 6.890625 \r\nQ 36.078125 6.890625 40.9375 10.546875 \r\nQ 45.796875 14.203125 45.796875 21.1875 \r\nQ 45.796875 27.640625 41.28125 31.265625 \r\nQ 36.765625 34.90625 28.71875 34.90625 \r\nL 20.21875 34.90625 \r\nL 20.21875 43.015625 \r\nL 29.109375 43.015625 \r\nQ 36.375 43.015625 40.234375 45.921875 \r\nQ 44.09375 48.828125 44.09375 54.296875 \r\nQ 44.09375 59.90625 40.109375 62.90625 \r\nQ 36.140625 65.921875 28.71875 65.921875 \r\nQ 24.65625 65.921875 20.015625 65.03125 \r\nQ 15.375 64.15625 9.8125 62.3125 \r\nL 9.8125 71.09375 \r\nQ 15.4375 72.65625 20.34375 73.4375 \r\nQ 25.25 74.21875 29.59375 74.21875 \r\nQ 40.828125 74.21875 47.359375 69.109375 \r\nQ 53.90625 64.015625 53.90625 55.328125 \r\nQ 53.90625 49.265625 50.4375 45.09375 \r\nQ 46.96875 40.921875 40.578125 39.3125 \r\nz\r\n\" id=\"DejaVuSans-51\"/>\r\n       </defs>\r\n       <use xlink:href=\"#DejaVuSans-51\"/>\r\n       <use x=\"63.623047\" xlink:href=\"#DejaVuSans-48\"/>\r\n       <use x=\"127.246094\" xlink:href=\"#DejaVuSans-48\"/>\r\n       <use x=\"190.869141\" xlink:href=\"#DejaVuSans-48\"/>\r\n      </g>\r\n     </g>\r\n    </g>\r\n    <g id=\"xtick_5\">\r\n     <g id=\"line2d_5\">\r\n      <g>\r\n       <use style=\"stroke:#000000;stroke-width:0.8;\" x=\"382.375725\" xlink:href=\"#m05b6b19631\" y=\"442.08\"/>\r\n      </g>\r\n     </g>\r\n     <g id=\"text_5\">\r\n      <!-- 4000 -->\r\n      <g transform=\"translate(369.650725 456.678437)scale(0.1 -0.1)\">\r\n       <defs>\r\n        <path d=\"M 37.796875 64.3125 \r\nL 12.890625 25.390625 \r\nL 37.796875 25.390625 \r\nz\r\nM 35.203125 72.90625 \r\nL 47.609375 72.90625 \r\nL 47.609375 25.390625 \r\nL 58.015625 25.390625 \r\nL 58.015625 17.1875 \r\nL 47.609375 17.1875 \r\nL 47.609375 0 \r\nL 37.796875 0 \r\nL 37.796875 17.1875 \r\nL 4.890625 17.1875 \r\nL 4.890625 26.703125 \r\nz\r\n\" id=\"DejaVuSans-52\"/>\r\n       </defs>\r\n       <use xlink:href=\"#DejaVuSans-52\"/>\r\n       <use x=\"63.623047\" xlink:href=\"#DejaVuSans-48\"/>\r\n       <use x=\"127.246094\" xlink:href=\"#DejaVuSans-48\"/>\r\n       <use x=\"190.869141\" xlink:href=\"#DejaVuSans-48\"/>\r\n      </g>\r\n     </g>\r\n    </g>\r\n    <g id=\"xtick_6\">\r\n     <g id=\"line2d_6\">\r\n      <g>\r\n       <use style=\"stroke:#000000;stroke-width:0.8;\" x=\"458.638225\" xlink:href=\"#m05b6b19631\" y=\"442.08\"/>\r\n      </g>\r\n     </g>\r\n     <g id=\"text_6\">\r\n      <!-- 5000 -->\r\n      <g transform=\"translate(445.913225 456.678437)scale(0.1 -0.1)\">\r\n       <defs>\r\n        <path d=\"M 10.796875 72.90625 \r\nL 49.515625 72.90625 \r\nL 49.515625 64.59375 \r\nL 19.828125 64.59375 \r\nL 19.828125 46.734375 \r\nQ 21.96875 47.46875 24.109375 47.828125 \r\nQ 26.265625 48.1875 28.421875 48.1875 \r\nQ 40.625 48.1875 47.75 41.5 \r\nQ 54.890625 34.8125 54.890625 23.390625 \r\nQ 54.890625 11.625 47.5625 5.09375 \r\nQ 40.234375 -1.421875 26.90625 -1.421875 \r\nQ 22.3125 -1.421875 17.546875 -0.640625 \r\nQ 12.796875 0.140625 7.71875 1.703125 \r\nL 7.71875 11.625 \r\nQ 12.109375 9.234375 16.796875 8.0625 \r\nQ 21.484375 6.890625 26.703125 6.890625 \r\nQ 35.15625 6.890625 40.078125 11.328125 \r\nQ 45.015625 15.765625 45.015625 23.390625 \r\nQ 45.015625 31 40.078125 35.4375 \r\nQ 35.15625 39.890625 26.703125 39.890625 \r\nQ 22.75 39.890625 18.8125 39.015625 \r\nQ 14.890625 38.140625 10.796875 36.28125 \r\nz\r\n\" id=\"DejaVuSans-53\"/>\r\n       </defs>\r\n       <use xlink:href=\"#DejaVuSans-53\"/>\r\n       <use x=\"63.623047\" xlink:href=\"#DejaVuSans-48\"/>\r\n       <use x=\"127.246094\" xlink:href=\"#DejaVuSans-48\"/>\r\n       <use x=\"190.869141\" xlink:href=\"#DejaVuSans-48\"/>\r\n      </g>\r\n     </g>\r\n    </g>\r\n    <g id=\"xtick_7\">\r\n     <g id=\"line2d_7\">\r\n      <g>\r\n       <use style=\"stroke:#000000;stroke-width:0.8;\" x=\"534.900724\" xlink:href=\"#m05b6b19631\" y=\"442.08\"/>\r\n      </g>\r\n     </g>\r\n     <g id=\"text_7\">\r\n      <!-- 6000 -->\r\n      <g transform=\"translate(522.175724 456.678437)scale(0.1 -0.1)\">\r\n       <defs>\r\n        <path d=\"M 33.015625 40.375 \r\nQ 26.375 40.375 22.484375 35.828125 \r\nQ 18.609375 31.296875 18.609375 23.390625 \r\nQ 18.609375 15.53125 22.484375 10.953125 \r\nQ 26.375 6.390625 33.015625 6.390625 \r\nQ 39.65625 6.390625 43.53125 10.953125 \r\nQ 47.40625 15.53125 47.40625 23.390625 \r\nQ 47.40625 31.296875 43.53125 35.828125 \r\nQ 39.65625 40.375 33.015625 40.375 \r\nz\r\nM 52.59375 71.296875 \r\nL 52.59375 62.3125 \r\nQ 48.875 64.0625 45.09375 64.984375 \r\nQ 41.3125 65.921875 37.59375 65.921875 \r\nQ 27.828125 65.921875 22.671875 59.328125 \r\nQ 17.53125 52.734375 16.796875 39.40625 \r\nQ 19.671875 43.65625 24.015625 45.921875 \r\nQ 28.375 48.1875 33.59375 48.1875 \r\nQ 44.578125 48.1875 50.953125 41.515625 \r\nQ 57.328125 34.859375 57.328125 23.390625 \r\nQ 57.328125 12.15625 50.6875 5.359375 \r\nQ 44.046875 -1.421875 33.015625 -1.421875 \r\nQ 20.359375 -1.421875 13.671875 8.265625 \r\nQ 6.984375 17.96875 6.984375 36.375 \r\nQ 6.984375 53.65625 15.1875 63.9375 \r\nQ 23.390625 74.21875 37.203125 74.21875 \r\nQ 40.921875 74.21875 44.703125 73.484375 \r\nQ 48.484375 72.75 52.59375 71.296875 \r\nz\r\n\" id=\"DejaVuSans-54\"/>\r\n       </defs>\r\n       <use xlink:href=\"#DejaVuSans-54\"/>\r\n       <use x=\"63.623047\" xlink:href=\"#DejaVuSans-48\"/>\r\n       <use x=\"127.246094\" xlink:href=\"#DejaVuSans-48\"/>\r\n       <use x=\"190.869141\" xlink:href=\"#DejaVuSans-48\"/>\r\n      </g>\r\n     </g>\r\n    </g>\r\n    <g id=\"xtick_8\">\r\n     <g id=\"line2d_8\">\r\n      <g>\r\n       <use style=\"stroke:#000000;stroke-width:0.8;\" x=\"611.163224\" xlink:href=\"#m05b6b19631\" y=\"442.08\"/>\r\n      </g>\r\n     </g>\r\n     <g id=\"text_8\">\r\n      <!-- 7000 -->\r\n      <g transform=\"translate(598.438224 456.678437)scale(0.1 -0.1)\">\r\n       <defs>\r\n        <path d=\"M 8.203125 72.90625 \r\nL 55.078125 72.90625 \r\nL 55.078125 68.703125 \r\nL 28.609375 0 \r\nL 18.3125 0 \r\nL 43.21875 64.59375 \r\nL 8.203125 64.59375 \r\nz\r\n\" id=\"DejaVuSans-55\"/>\r\n       </defs>\r\n       <use xlink:href=\"#DejaVuSans-55\"/>\r\n       <use x=\"63.623047\" xlink:href=\"#DejaVuSans-48\"/>\r\n       <use x=\"127.246094\" xlink:href=\"#DejaVuSans-48\"/>\r\n       <use x=\"190.869141\" xlink:href=\"#DejaVuSans-48\"/>\r\n      </g>\r\n     </g>\r\n    </g>\r\n    <g id=\"xtick_9\">\r\n     <g id=\"line2d_9\">\r\n      <g>\r\n       <use style=\"stroke:#000000;stroke-width:0.8;\" x=\"687.425724\" xlink:href=\"#m05b6b19631\" y=\"442.08\"/>\r\n      </g>\r\n     </g>\r\n     <g id=\"text_9\">\r\n      <!-- 8000 -->\r\n      <g transform=\"translate(674.700724 456.678437)scale(0.1 -0.1)\">\r\n       <defs>\r\n        <path d=\"M 31.78125 34.625 \r\nQ 24.75 34.625 20.71875 30.859375 \r\nQ 16.703125 27.09375 16.703125 20.515625 \r\nQ 16.703125 13.921875 20.71875 10.15625 \r\nQ 24.75 6.390625 31.78125 6.390625 \r\nQ 38.8125 6.390625 42.859375 10.171875 \r\nQ 46.921875 13.96875 46.921875 20.515625 \r\nQ 46.921875 27.09375 42.890625 30.859375 \r\nQ 38.875 34.625 31.78125 34.625 \r\nz\r\nM 21.921875 38.8125 \r\nQ 15.578125 40.375 12.03125 44.71875 \r\nQ 8.5 49.078125 8.5 55.328125 \r\nQ 8.5 64.0625 14.71875 69.140625 \r\nQ 20.953125 74.21875 31.78125 74.21875 \r\nQ 42.671875 74.21875 48.875 69.140625 \r\nQ 55.078125 64.0625 55.078125 55.328125 \r\nQ 55.078125 49.078125 51.53125 44.71875 \r\nQ 48 40.375 41.703125 38.8125 \r\nQ 48.828125 37.15625 52.796875 32.3125 \r\nQ 56.78125 27.484375 56.78125 20.515625 \r\nQ 56.78125 9.90625 50.3125 4.234375 \r\nQ 43.84375 -1.421875 31.78125 -1.421875 \r\nQ 19.734375 -1.421875 13.25 4.234375 \r\nQ 6.78125 9.90625 6.78125 20.515625 \r\nQ 6.78125 27.484375 10.78125 32.3125 \r\nQ 14.796875 37.15625 21.921875 38.8125 \r\nz\r\nM 18.3125 54.390625 \r\nQ 18.3125 48.734375 21.84375 45.5625 \r\nQ 25.390625 42.390625 31.78125 42.390625 \r\nQ 38.140625 42.390625 41.71875 45.5625 \r\nQ 45.3125 48.734375 45.3125 54.390625 \r\nQ 45.3125 60.0625 41.71875 63.234375 \r\nQ 38.140625 66.40625 31.78125 66.40625 \r\nQ 25.390625 66.40625 21.84375 63.234375 \r\nQ 18.3125 60.0625 18.3125 54.390625 \r\nz\r\n\" id=\"DejaVuSans-56\"/>\r\n       </defs>\r\n       <use xlink:href=\"#DejaVuSans-56\"/>\r\n       <use x=\"63.623047\" xlink:href=\"#DejaVuSans-48\"/>\r\n       <use x=\"127.246094\" xlink:href=\"#DejaVuSans-48\"/>\r\n       <use x=\"190.869141\" xlink:href=\"#DejaVuSans-48\"/>\r\n      </g>\r\n     </g>\r\n    </g>\r\n    <g id=\"text_10\">\r\n     <!-- InvoiceNo -->\r\n     <g transform=\"translate(357.088281 470.356562)scale(0.1 -0.1)\">\r\n      <defs>\r\n       <path d=\"M 9.8125 72.90625 \r\nL 19.671875 72.90625 \r\nL 19.671875 0 \r\nL 9.8125 0 \r\nz\r\n\" id=\"DejaVuSans-73\"/>\r\n       <path d=\"M 54.890625 33.015625 \r\nL 54.890625 0 \r\nL 45.90625 0 \r\nL 45.90625 32.71875 \r\nQ 45.90625 40.484375 42.875 44.328125 \r\nQ 39.84375 48.1875 33.796875 48.1875 \r\nQ 26.515625 48.1875 22.3125 43.546875 \r\nQ 18.109375 38.921875 18.109375 30.90625 \r\nL 18.109375 0 \r\nL 9.078125 0 \r\nL 9.078125 54.6875 \r\nL 18.109375 54.6875 \r\nL 18.109375 46.1875 \r\nQ 21.34375 51.125 25.703125 53.5625 \r\nQ 30.078125 56 35.796875 56 \r\nQ 45.21875 56 50.046875 50.171875 \r\nQ 54.890625 44.34375 54.890625 33.015625 \r\nz\r\n\" id=\"DejaVuSans-110\"/>\r\n       <path d=\"M 2.984375 54.6875 \r\nL 12.5 54.6875 \r\nL 29.59375 8.796875 \r\nL 46.6875 54.6875 \r\nL 56.203125 54.6875 \r\nL 35.6875 0 \r\nL 23.484375 0 \r\nz\r\n\" id=\"DejaVuSans-118\"/>\r\n       <path d=\"M 30.609375 48.390625 \r\nQ 23.390625 48.390625 19.1875 42.75 \r\nQ 14.984375 37.109375 14.984375 27.296875 \r\nQ 14.984375 17.484375 19.15625 11.84375 \r\nQ 23.34375 6.203125 30.609375 6.203125 \r\nQ 37.796875 6.203125 41.984375 11.859375 \r\nQ 46.1875 17.53125 46.1875 27.296875 \r\nQ 46.1875 37.015625 41.984375 42.703125 \r\nQ 37.796875 48.390625 30.609375 48.390625 \r\nz\r\nM 30.609375 56 \r\nQ 42.328125 56 49.015625 48.375 \r\nQ 55.71875 40.765625 55.71875 27.296875 \r\nQ 55.71875 13.875 49.015625 6.21875 \r\nQ 42.328125 -1.421875 30.609375 -1.421875 \r\nQ 18.84375 -1.421875 12.171875 6.21875 \r\nQ 5.515625 13.875 5.515625 27.296875 \r\nQ 5.515625 40.765625 12.171875 48.375 \r\nQ 18.84375 56 30.609375 56 \r\nz\r\n\" id=\"DejaVuSans-111\"/>\r\n       <path d=\"M 9.421875 54.6875 \r\nL 18.40625 54.6875 \r\nL 18.40625 0 \r\nL 9.421875 0 \r\nz\r\nM 9.421875 75.984375 \r\nL 18.40625 75.984375 \r\nL 18.40625 64.59375 \r\nL 9.421875 64.59375 \r\nz\r\n\" id=\"DejaVuSans-105\"/>\r\n       <path d=\"M 48.78125 52.59375 \r\nL 48.78125 44.1875 \r\nQ 44.96875 46.296875 41.140625 47.34375 \r\nQ 37.3125 48.390625 33.40625 48.390625 \r\nQ 24.65625 48.390625 19.8125 42.84375 \r\nQ 14.984375 37.3125 14.984375 27.296875 \r\nQ 14.984375 17.28125 19.8125 11.734375 \r\nQ 24.65625 6.203125 33.40625 6.203125 \r\nQ 37.3125 6.203125 41.140625 7.25 \r\nQ 44.96875 8.296875 48.78125 10.40625 \r\nL 48.78125 2.09375 \r\nQ 45.015625 0.34375 40.984375 -0.53125 \r\nQ 36.96875 -1.421875 32.421875 -1.421875 \r\nQ 20.0625 -1.421875 12.78125 6.34375 \r\nQ 5.515625 14.109375 5.515625 27.296875 \r\nQ 5.515625 40.671875 12.859375 48.328125 \r\nQ 20.21875 56 33.015625 56 \r\nQ 37.15625 56 41.109375 55.140625 \r\nQ 45.0625 54.296875 48.78125 52.59375 \r\nz\r\n\" id=\"DejaVuSans-99\"/>\r\n       <path d=\"M 56.203125 29.59375 \r\nL 56.203125 25.203125 \r\nL 14.890625 25.203125 \r\nQ 15.484375 15.921875 20.484375 11.0625 \r\nQ 25.484375 6.203125 34.421875 6.203125 \r\nQ 39.59375 6.203125 44.453125 7.46875 \r\nQ 49.3125 8.734375 54.109375 11.28125 \r\nL 54.109375 2.78125 \r\nQ 49.265625 0.734375 44.1875 -0.34375 \r\nQ 39.109375 -1.421875 33.890625 -1.421875 \r\nQ 20.796875 -1.421875 13.15625 6.1875 \r\nQ 5.515625 13.8125 5.515625 26.8125 \r\nQ 5.515625 40.234375 12.765625 48.109375 \r\nQ 20.015625 56 32.328125 56 \r\nQ 43.359375 56 49.78125 48.890625 \r\nQ 56.203125 41.796875 56.203125 29.59375 \r\nz\r\nM 47.21875 32.234375 \r\nQ 47.125 39.59375 43.09375 43.984375 \r\nQ 39.0625 48.390625 32.421875 48.390625 \r\nQ 24.90625 48.390625 20.390625 44.140625 \r\nQ 15.875 39.890625 15.1875 32.171875 \r\nz\r\n\" id=\"DejaVuSans-101\"/>\r\n       <path d=\"M 9.8125 72.90625 \r\nL 23.09375 72.90625 \r\nL 55.421875 11.921875 \r\nL 55.421875 72.90625 \r\nL 64.984375 72.90625 \r\nL 64.984375 0 \r\nL 51.703125 0 \r\nL 19.390625 60.984375 \r\nL 19.390625 0 \r\nL 9.8125 0 \r\nz\r\n\" id=\"DejaVuSans-78\"/>\r\n      </defs>\r\n      <use xlink:href=\"#DejaVuSans-73\"/>\r\n      <use x=\"29.492188\" xlink:href=\"#DejaVuSans-110\"/>\r\n      <use x=\"92.871094\" xlink:href=\"#DejaVuSans-118\"/>\r\n      <use x=\"152.050781\" xlink:href=\"#DejaVuSans-111\"/>\r\n      <use x=\"213.232422\" xlink:href=\"#DejaVuSans-105\"/>\r\n      <use x=\"241.015625\" xlink:href=\"#DejaVuSans-99\"/>\r\n      <use x=\"295.996094\" xlink:href=\"#DejaVuSans-101\"/>\r\n      <use x=\"357.519531\" xlink:href=\"#DejaVuSans-78\"/>\r\n      <use x=\"432.324219\" xlink:href=\"#DejaVuSans-111\"/>\r\n     </g>\r\n    </g>\r\n   </g>\r\n   <g id=\"matplotlib.axis_2\">\r\n    <g id=\"ytick_1\">\r\n     <g id=\"line2d_10\">\r\n      <defs>\r\n       <path d=\"M 0 0 \r\nL -3.5 0 \r\n\" id=\"md76368826a\" style=\"stroke:#000000;stroke-width:0.8;\"/>\r\n      </defs>\r\n      <g>\r\n       <use style=\"stroke:#000000;stroke-width:0.8;\" x=\"46.965625\" xlink:href=\"#md76368826a\" y=\"442.08\"/>\r\n      </g>\r\n     </g>\r\n     <g id=\"text_11\">\r\n      <!-- 0 -->\r\n      <g transform=\"translate(33.603125 445.879219)scale(0.1 -0.1)\">\r\n       <use xlink:href=\"#DejaVuSans-48\"/>\r\n      </g>\r\n     </g>\r\n    </g>\r\n    <g id=\"ytick_2\">\r\n     <g id=\"line2d_11\">\r\n      <g>\r\n       <use style=\"stroke:#000000;stroke-width:0.8;\" x=\"46.965625\" xlink:href=\"#md76368826a\" y=\"385.730146\"/>\r\n      </g>\r\n     </g>\r\n     <g id=\"text_12\">\r\n      <!-- 100 -->\r\n      <g transform=\"translate(20.878125 389.529365)scale(0.1 -0.1)\">\r\n       <use xlink:href=\"#DejaVuSans-49\"/>\r\n       <use x=\"63.623047\" xlink:href=\"#DejaVuSans-48\"/>\r\n       <use x=\"127.246094\" xlink:href=\"#DejaVuSans-48\"/>\r\n      </g>\r\n     </g>\r\n    </g>\r\n    <g id=\"ytick_3\">\r\n     <g id=\"line2d_12\">\r\n      <g>\r\n       <use style=\"stroke:#000000;stroke-width:0.8;\" x=\"46.965625\" xlink:href=\"#md76368826a\" y=\"329.380292\"/>\r\n      </g>\r\n     </g>\r\n     <g id=\"text_13\">\r\n      <!-- 200 -->\r\n      <g transform=\"translate(20.878125 333.17951)scale(0.1 -0.1)\">\r\n       <use xlink:href=\"#DejaVuSans-50\"/>\r\n       <use x=\"63.623047\" xlink:href=\"#DejaVuSans-48\"/>\r\n       <use x=\"127.246094\" xlink:href=\"#DejaVuSans-48\"/>\r\n      </g>\r\n     </g>\r\n    </g>\r\n    <g id=\"ytick_4\">\r\n     <g id=\"line2d_13\">\r\n      <g>\r\n       <use style=\"stroke:#000000;stroke-width:0.8;\" x=\"46.965625\" xlink:href=\"#md76368826a\" y=\"273.030437\"/>\r\n      </g>\r\n     </g>\r\n     <g id=\"text_14\">\r\n      <!-- 300 -->\r\n      <g transform=\"translate(20.878125 276.829656)scale(0.1 -0.1)\">\r\n       <use xlink:href=\"#DejaVuSans-51\"/>\r\n       <use x=\"63.623047\" xlink:href=\"#DejaVuSans-48\"/>\r\n       <use x=\"127.246094\" xlink:href=\"#DejaVuSans-48\"/>\r\n      </g>\r\n     </g>\r\n    </g>\r\n    <g id=\"ytick_5\">\r\n     <g id=\"line2d_14\">\r\n      <g>\r\n       <use style=\"stroke:#000000;stroke-width:0.8;\" x=\"46.965625\" xlink:href=\"#md76368826a\" y=\"216.680583\"/>\r\n      </g>\r\n     </g>\r\n     <g id=\"text_15\">\r\n      <!-- 400 -->\r\n      <g transform=\"translate(20.878125 220.479802)scale(0.1 -0.1)\">\r\n       <use xlink:href=\"#DejaVuSans-52\"/>\r\n       <use x=\"63.623047\" xlink:href=\"#DejaVuSans-48\"/>\r\n       <use x=\"127.246094\" xlink:href=\"#DejaVuSans-48\"/>\r\n      </g>\r\n     </g>\r\n    </g>\r\n    <g id=\"ytick_6\">\r\n     <g id=\"line2d_15\">\r\n      <g>\r\n       <use style=\"stroke:#000000;stroke-width:0.8;\" x=\"46.965625\" xlink:href=\"#md76368826a\" y=\"160.330729\"/>\r\n      </g>\r\n     </g>\r\n     <g id=\"text_16\">\r\n      <!-- 500 -->\r\n      <g transform=\"translate(20.878125 164.129948)scale(0.1 -0.1)\">\r\n       <use xlink:href=\"#DejaVuSans-53\"/>\r\n       <use x=\"63.623047\" xlink:href=\"#DejaVuSans-48\"/>\r\n       <use x=\"127.246094\" xlink:href=\"#DejaVuSans-48\"/>\r\n      </g>\r\n     </g>\r\n    </g>\r\n    <g id=\"ytick_7\">\r\n     <g id=\"line2d_16\">\r\n      <g>\r\n       <use style=\"stroke:#000000;stroke-width:0.8;\" x=\"46.965625\" xlink:href=\"#md76368826a\" y=\"103.980875\"/>\r\n      </g>\r\n     </g>\r\n     <g id=\"text_17\">\r\n      <!-- 600 -->\r\n      <g transform=\"translate(20.878125 107.780093)scale(0.1 -0.1)\">\r\n       <use xlink:href=\"#DejaVuSans-54\"/>\r\n       <use x=\"63.623047\" xlink:href=\"#DejaVuSans-48\"/>\r\n       <use x=\"127.246094\" xlink:href=\"#DejaVuSans-48\"/>\r\n      </g>\r\n     </g>\r\n    </g>\r\n    <g id=\"ytick_8\">\r\n     <g id=\"line2d_17\">\r\n      <g>\r\n       <use style=\"stroke:#000000;stroke-width:0.8;\" x=\"46.965625\" xlink:href=\"#md76368826a\" y=\"47.63102\"/>\r\n      </g>\r\n     </g>\r\n     <g id=\"text_18\">\r\n      <!-- 700 -->\r\n      <g transform=\"translate(20.878125 51.430239)scale(0.1 -0.1)\">\r\n       <use xlink:href=\"#DejaVuSans-55\"/>\r\n       <use x=\"63.623047\" xlink:href=\"#DejaVuSans-48\"/>\r\n       <use x=\"127.246094\" xlink:href=\"#DejaVuSans-48\"/>\r\n      </g>\r\n     </g>\r\n    </g>\r\n    <g id=\"text_19\">\r\n     <!-- Count -->\r\n     <g transform=\"translate(14.798438 239.488437)rotate(-90)scale(0.1 -0.1)\">\r\n      <defs>\r\n       <path d=\"M 64.40625 67.28125 \r\nL 64.40625 56.890625 \r\nQ 59.421875 61.53125 53.78125 63.8125 \r\nQ 48.140625 66.109375 41.796875 66.109375 \r\nQ 29.296875 66.109375 22.65625 58.46875 \r\nQ 16.015625 50.828125 16.015625 36.375 \r\nQ 16.015625 21.96875 22.65625 14.328125 \r\nQ 29.296875 6.6875 41.796875 6.6875 \r\nQ 48.140625 6.6875 53.78125 8.984375 \r\nQ 59.421875 11.28125 64.40625 15.921875 \r\nL 64.40625 5.609375 \r\nQ 59.234375 2.09375 53.4375 0.328125 \r\nQ 47.65625 -1.421875 41.21875 -1.421875 \r\nQ 24.65625 -1.421875 15.125 8.703125 \r\nQ 5.609375 18.84375 5.609375 36.375 \r\nQ 5.609375 53.953125 15.125 64.078125 \r\nQ 24.65625 74.21875 41.21875 74.21875 \r\nQ 47.75 74.21875 53.53125 72.484375 \r\nQ 59.328125 70.75 64.40625 67.28125 \r\nz\r\n\" id=\"DejaVuSans-67\"/>\r\n       <path d=\"M 8.5 21.578125 \r\nL 8.5 54.6875 \r\nL 17.484375 54.6875 \r\nL 17.484375 21.921875 \r\nQ 17.484375 14.15625 20.5 10.265625 \r\nQ 23.53125 6.390625 29.59375 6.390625 \r\nQ 36.859375 6.390625 41.078125 11.03125 \r\nQ 45.3125 15.671875 45.3125 23.6875 \r\nL 45.3125 54.6875 \r\nL 54.296875 54.6875 \r\nL 54.296875 0 \r\nL 45.3125 0 \r\nL 45.3125 8.40625 \r\nQ 42.046875 3.421875 37.71875 1 \r\nQ 33.40625 -1.421875 27.6875 -1.421875 \r\nQ 18.265625 -1.421875 13.375 4.4375 \r\nQ 8.5 10.296875 8.5 21.578125 \r\nz\r\nM 31.109375 56 \r\nz\r\n\" id=\"DejaVuSans-117\"/>\r\n       <path d=\"M 18.3125 70.21875 \r\nL 18.3125 54.6875 \r\nL 36.8125 54.6875 \r\nL 36.8125 47.703125 \r\nL 18.3125 47.703125 \r\nL 18.3125 18.015625 \r\nQ 18.3125 11.328125 20.140625 9.421875 \r\nQ 21.96875 7.515625 27.59375 7.515625 \r\nL 36.8125 7.515625 \r\nL 36.8125 0 \r\nL 27.59375 0 \r\nQ 17.1875 0 13.234375 3.875 \r\nQ 9.28125 7.765625 9.28125 18.015625 \r\nL 9.28125 47.703125 \r\nL 2.6875 47.703125 \r\nL 2.6875 54.6875 \r\nL 9.28125 54.6875 \r\nL 9.28125 70.21875 \r\nz\r\n\" id=\"DejaVuSans-116\"/>\r\n      </defs>\r\n      <use xlink:href=\"#DejaVuSans-67\"/>\r\n      <use x=\"69.824219\" xlink:href=\"#DejaVuSans-111\"/>\r\n      <use x=\"131.005859\" xlink:href=\"#DejaVuSans-117\"/>\r\n      <use x=\"194.384766\" xlink:href=\"#DejaVuSans-110\"/>\r\n      <use x=\"257.763672\" xlink:href=\"#DejaVuSans-116\"/>\r\n     </g>\r\n    </g>\r\n   </g>\r\n   <g id=\"line2d_18\">\r\n    <path clip-path=\"url(#p1e020dd2c8)\" d=\"M 77.401989 315.153437 \r\nL 80.46092 290.463106 \r\nL 83.519851 332.456418 \r\nL 86.578782 379.139775 \r\nL 89.637713 406.052294 \r\nL 92.696644 420.045739 \r\nL 95.755575 427.342662 \r\nL 98.814506 431.404086 \r\nL 101.873437 434.17949 \r\nL 104.932368 436.291516 \r\nL 107.991299 437.653603 \r\nL 111.05023 438.517026 \r\nL 117.168092 439.933744 \r\nL 120.227023 440.475318 \r\nL 123.285954 440.879841 \r\nL 126.344885 441.094049 \r\nL 132.462747 441.277688 \r\nL 138.580609 441.811589 \r\nL 141.63954 441.918955 \r\nL 163.052057 441.810553 \r\nL 169.169919 441.90876 \r\nL 178.346712 442.038431 \r\nL 199.759229 442.022603 \r\nL 205.877091 441.996302 \r\nL 215.053884 442.052314 \r\nL 224.230678 442.06485 \r\nL 254.819988 442.079955 \r\nL 628.009572 442.08 \r\nL 686.129261 442.026257 \r\nL 686.129261 442.026257 \r\n\" style=\"fill:none;stroke:#1f77b4;stroke-linecap:square;stroke-width:1.5;\"/>\r\n   </g>\r\n   <g id=\"patch_771\">\r\n    <path d=\"M 46.965625 442.08 \r\nL 46.965625 7.2 \r\n\" style=\"fill:none;stroke:#000000;stroke-linecap:square;stroke-linejoin:miter;stroke-width:0.8;\"/>\r\n   </g>\r\n   <g id=\"patch_772\">\r\n    <path d=\"M 716.565625 442.08 \r\nL 716.565625 7.2 \r\n\" style=\"fill:none;stroke:#000000;stroke-linecap:square;stroke-linejoin:miter;stroke-width:0.8;\"/>\r\n   </g>\r\n   <g id=\"patch_773\">\r\n    <path d=\"M 46.965625 442.08 \r\nL 716.565625 442.08 \r\n\" style=\"fill:none;stroke:#000000;stroke-linecap:square;stroke-linejoin:miter;stroke-width:0.8;\"/>\r\n   </g>\r\n   <g id=\"patch_774\">\r\n    <path d=\"M 46.965625 7.2 \r\nL 716.565625 7.2 \r\n\" style=\"fill:none;stroke:#000000;stroke-linecap:square;stroke-linejoin:miter;stroke-width:0.8;\"/>\r\n   </g>\r\n  </g>\r\n </g>\r\n <defs>\r\n  <clipPath id=\"p1e020dd2c8\">\r\n   <rect height=\"434.88\" width=\"669.6\" x=\"46.965625\" y=\"7.2\"/>\r\n  </clipPath>\r\n </defs>\r\n</svg>\r\n",
            "image/png": "[encoded data removed]"
          },
          "metadata": {
            "needs_background": "light"
          }
        }
      ],
      "metadata": {
        "id": "yUtZAHu1iqbA"
      }
    },
    {
      "cell_type": "markdown",
      "source": [
        "### v. Monetary: Total amount of money spent\n",
        "\n",
        "The monetary value is calculated by adding together the cost of the customers' purchases.\n"
      ],
      "metadata": {
        "id": "wUY3gKjQQGWh"
      }
    },
    {
      "cell_type": "markdown",
      "source": [
        "1. Calculate sum total cost by customers and named \"Monetary\""
      ],
      "metadata": {
        "id": "5_4_QLWtiqbA"
      }
    },
    {
      "cell_type": "code",
      "execution_count": 163,
      "source": [
        "df_uk2.groupby(\"CustomerID\")[\"UnitPrice\"].sum()"
      ],
      "outputs": [
        {
          "output_type": "execute_result",
          "data": {
            "text/plain": [
              "CustomerID\n",
              "12346.0       2.08\n",
              "12347.0     481.21\n",
              "12348.0     178.71\n",
              "12349.0     605.10\n",
              "12350.0      65.30\n",
              "            ...   \n",
              "18280.0      47.65\n",
              "18281.0      39.36\n",
              "18282.0      62.68\n",
              "18283.0    1220.93\n",
              "18287.0     104.55\n",
              "Name: UnitPrice, Length: 4372, dtype: float64"
            ]
          },
          "metadata": {},
          "execution_count": 163
        }
      ],
      "metadata": {
        "id": "bilKBqvIiqbB"
      }
    },
    {
      "cell_type": "markdown",
      "source": [
        "2. Plot RFM distributions"
      ],
      "metadata": {
        "id": "dYsaCPRDiqbB"
      }
    },
    {
      "cell_type": "code",
      "execution_count": 173,
      "source": [
        "plt.figure(figsize=(12,8))\r\n",
        "sns.histplot(x=df_uk2.groupby(\"CustomerID\")[\"UnitPrice\"].sum(), kde=True, bins=150)\r\n",
        "plt.xlim(0, 10000);"
      ],
      "outputs": [
        {
          "output_type": "display_data",
          "data": {
            "text/plain": [
              "<Figure size 864x576 with 1 Axes>"
            ],
            "image/svg+xml": "<?xml version=\"1.0\" encoding=\"utf-8\" standalone=\"no\"?>\r\n<!DOCTYPE svg PUBLIC \"-//W3C//DTD SVG 1.1//EN\"\r\n  \"http://www.w3.org/Graphics/SVG/1.1/DTD/svg11.dtd\">\r\n<!-- Created with matplotlib (https://matplotlib.org/) -->\r\n<svg height=\"479.63625pt\" version=\"1.1\" viewBox=\"0 0 746.034375 479.63625\" width=\"746.034375pt\" xmlns=\"http://www.w3.org/2000/svg\" xmlns:xlink=\"http://www.w3.org/1999/xlink\">\r\n <metadata>\r\n  <rdf:RDF xmlns:cc=\"http://creativecommons.org/ns#\" xmlns:dc=\"http://purl.org/dc/elements/1.1/\" xmlns:rdf=\"http://www.w3.org/1999/02/22-rdf-syntax-ns#\">\r\n   <cc:Work>\r\n    <dc:type rdf:resource=\"http://purl.org/dc/dcmitype/StillImage\"/>\r\n    <dc:date>2021-08-22T18:29:16.619488</dc:date>\r\n    <dc:format>image/svg+xml</dc:format>\r\n    <dc:creator>\r\n     <cc:Agent>\r\n      <dc:title>Matplotlib v3.3.4, https://matplotlib.org/</dc:title>\r\n     </cc:Agent>\r\n    </dc:creator>\r\n   </cc:Work>\r\n  </rdf:RDF>\r\n </metadata>\r\n <defs>\r\n  <style type=\"text/css\">*{stroke-linecap:butt;stroke-linejoin:round;}</style>\r\n </defs>\r\n <g id=\"figure_1\">\r\n  <g id=\"patch_1\">\r\n   <path d=\"M 0 479.63625 \r\nL 746.034375 479.63625 \r\nL 746.034375 0 \r\nL 0 0 \r\nz\r\n\" style=\"fill:none;\"/>\r\n  </g>\r\n  <g id=\"axes_1\">\r\n   <g id=\"patch_2\">\r\n    <path d=\"M 53.328125 442.08 \r\nL 722.928125 442.08 \r\nL 722.928125 7.2 \r\nL 53.328125 7.2 \r\nz\r\n\" style=\"fill:#ffffff;\"/>\r\n   </g>\r\n   <g id=\"patch_3\">\r\n    <path clip-path=\"url(#pafde85e837)\" d=\"M 53.328125 442.08 \r\nL 71.798519 442.08 \r\nL 71.798519 27.908571 \r\nL 53.328125 27.908571 \r\nz\r\n\" style=\"fill:#1f77b4;fill-opacity:0.5;stroke:#000000;stroke-linejoin:miter;stroke-width:0.405818;\"/>\r\n   </g>\r\n   <g id=\"patch_4\">\r\n    <path clip-path=\"url(#pafde85e837)\" d=\"M 71.798519 442.08 \r\nL 90.268912 442.08 \r\nL 90.268912 356.263052 \r\nL 71.798519 356.263052 \r\nz\r\n\" style=\"fill:#1f77b4;fill-opacity:0.5;stroke:#000000;stroke-linejoin:miter;stroke-width:0.405818;\"/>\r\n   </g>\r\n   <g id=\"patch_5\">\r\n    <path clip-path=\"url(#pafde85e837)\" d=\"M 90.268912 442.08 \r\nL 108.739306 442.08 \r\nL 108.739306 410.160282 \r\nL 90.268912 410.160282 \r\nz\r\n\" style=\"fill:#1f77b4;fill-opacity:0.5;stroke:#000000;stroke-linejoin:miter;stroke-width:0.405818;\"/>\r\n   </g>\r\n   <g id=\"patch_6\">\r\n    <path clip-path=\"url(#pafde85e837)\" d=\"M 108.739306 442.08 \r\nL 127.2097 442.08 \r\nL 127.2097 426.643415 \r\nL 108.739306 426.643415 \r\nz\r\n\" style=\"fill:#1f77b4;fill-opacity:0.5;stroke:#000000;stroke-linejoin:miter;stroke-width:0.405818;\"/>\r\n   </g>\r\n   <g id=\"patch_7\">\r\n    <path clip-path=\"url(#pafde85e837)\" d=\"M 127.2097 442.08 \r\nL 145.680094 442.08 \r\nL 145.680094 432.530248 \r\nL 127.2097 432.530248 \r\nz\r\n\" style=\"fill:#1f77b4;fill-opacity:0.5;stroke:#000000;stroke-linejoin:miter;stroke-width:0.405818;\"/>\r\n   </g>\r\n   <g id=\"patch_8\">\r\n    <path clip-path=\"url(#pafde85e837)\" d=\"M 145.680094 442.08 \r\nL 164.150487 442.08 \r\nL 164.150487 437.63217 \r\nL 145.680094 437.63217 \r\nz\r\n\" style=\"fill:#1f77b4;fill-opacity:0.5;stroke:#000000;stroke-linejoin:miter;stroke-width:0.405818;\"/>\r\n   </g>\r\n   <g id=\"patch_9\">\r\n    <path clip-path=\"url(#pafde85e837)\" d=\"M 164.150487 442.08 \r\nL 182.620881 442.08 \r\nL 182.620881 439.594448 \r\nL 164.150487 439.594448 \r\nz\r\n\" style=\"fill:#1f77b4;fill-opacity:0.5;stroke:#000000;stroke-linejoin:miter;stroke-width:0.405818;\"/>\r\n   </g>\r\n   <g id=\"patch_10\">\r\n    <path clip-path=\"url(#pafde85e837)\" d=\"M 182.620881 442.08 \r\nL 201.091275 442.08 \r\nL 201.091275 439.986904 \r\nL 182.620881 439.986904 \r\nz\r\n\" style=\"fill:#1f77b4;fill-opacity:0.5;stroke:#000000;stroke-linejoin:miter;stroke-width:0.405818;\"/>\r\n   </g>\r\n   <g id=\"patch_11\">\r\n    <path clip-path=\"url(#pafde85e837)\" d=\"M 201.091275 442.08 \r\nL 219.561668 442.08 \r\nL 219.561668 440.771815 \r\nL 201.091275 440.771815 \r\nz\r\n\" style=\"fill:#1f77b4;fill-opacity:0.5;stroke:#000000;stroke-linejoin:miter;stroke-width:0.405818;\"/>\r\n   </g>\r\n   <g id=\"patch_12\">\r\n    <path clip-path=\"url(#pafde85e837)\" d=\"M 219.561668 442.08 \r\nL 238.032062 442.08 \r\nL 238.032062 441.16427 \r\nL 219.561668 441.16427 \r\nz\r\n\" style=\"fill:#1f77b4;fill-opacity:0.5;stroke:#000000;stroke-linejoin:miter;stroke-width:0.405818;\"/>\r\n   </g>\r\n   <g id=\"patch_13\">\r\n    <path clip-path=\"url(#pafde85e837)\" d=\"M 238.032062 442.08 \r\nL 256.502456 442.08 \r\nL 256.502456 441.818363 \r\nL 238.032062 441.818363 \r\nz\r\n\" style=\"fill:#1f77b4;fill-opacity:0.5;stroke:#000000;stroke-linejoin:miter;stroke-width:0.405818;\"/>\r\n   </g>\r\n   <g id=\"patch_14\">\r\n    <path clip-path=\"url(#pafde85e837)\" d=\"M 256.502456 442.08 \r\nL 274.97285 442.08 \r\nL 274.97285 441.818363 \r\nL 256.502456 441.818363 \r\nz\r\n\" style=\"fill:#1f77b4;fill-opacity:0.5;stroke:#000000;stroke-linejoin:miter;stroke-width:0.405818;\"/>\r\n   </g>\r\n   <g id=\"patch_15\">\r\n    <path clip-path=\"url(#pafde85e837)\" d=\"M 274.97285 442.08 \r\nL 293.443243 442.08 \r\nL 293.443243 441.818363 \r\nL 274.97285 441.818363 \r\nz\r\n\" style=\"fill:#1f77b4;fill-opacity:0.5;stroke:#000000;stroke-linejoin:miter;stroke-width:0.405818;\"/>\r\n   </g>\r\n   <g id=\"patch_16\">\r\n    <path clip-path=\"url(#pafde85e837)\" d=\"M 293.443243 442.08 \r\nL 311.913637 442.08 \r\nL 311.913637 441.687544 \r\nL 293.443243 441.687544 \r\nz\r\n\" style=\"fill:#1f77b4;fill-opacity:0.5;stroke:#000000;stroke-linejoin:miter;stroke-width:0.405818;\"/>\r\n   </g>\r\n   <g id=\"patch_17\">\r\n    <path clip-path=\"url(#pafde85e837)\" d=\"M 311.913637 442.08 \r\nL 330.384031 442.08 \r\nL 330.384031 441.949181 \r\nL 311.913637 441.949181 \r\nz\r\n\" style=\"fill:#1f77b4;fill-opacity:0.5;stroke:#000000;stroke-linejoin:miter;stroke-width:0.405818;\"/>\r\n   </g>\r\n   <g id=\"patch_18\">\r\n    <path clip-path=\"url(#pafde85e837)\" d=\"M 330.384031 442.08 \r\nL 348.854424 442.08 \r\nL 348.854424 441.949181 \r\nL 330.384031 441.949181 \r\nz\r\n\" style=\"fill:#1f77b4;fill-opacity:0.5;stroke:#000000;stroke-linejoin:miter;stroke-width:0.405818;\"/>\r\n   </g>\r\n   <g id=\"patch_19\">\r\n    <path clip-path=\"url(#pafde85e837)\" d=\"M 348.854424 442.08 \r\nL 367.324818 442.08 \r\nL 367.324818 442.08 \r\nL 348.854424 442.08 \r\nz\r\n\" style=\"fill:#1f77b4;fill-opacity:0.5;stroke:#000000;stroke-linejoin:miter;stroke-width:0.405818;\"/>\r\n   </g>\r\n   <g id=\"patch_20\">\r\n    <path clip-path=\"url(#pafde85e837)\" d=\"M 367.324818 442.08 \r\nL 385.795212 442.08 \r\nL 385.795212 441.949181 \r\nL 367.324818 441.949181 \r\nz\r\n\" style=\"fill:#1f77b4;fill-opacity:0.5;stroke:#000000;stroke-linejoin:miter;stroke-width:0.405818;\"/>\r\n   </g>\r\n   <g id=\"patch_21\">\r\n    <path clip-path=\"url(#pafde85e837)\" d=\"M 385.795212 442.08 \r\nL 404.265606 442.08 \r\nL 404.265606 441.818363 \r\nL 385.795212 441.818363 \r\nz\r\n\" style=\"fill:#1f77b4;fill-opacity:0.5;stroke:#000000;stroke-linejoin:miter;stroke-width:0.405818;\"/>\r\n   </g>\r\n   <g id=\"patch_22\">\r\n    <path clip-path=\"url(#pafde85e837)\" d=\"M 404.265606 442.08 \r\nL 422.735999 442.08 \r\nL 422.735999 441.949181 \r\nL 404.265606 441.949181 \r\nz\r\n\" style=\"fill:#1f77b4;fill-opacity:0.5;stroke:#000000;stroke-linejoin:miter;stroke-width:0.405818;\"/>\r\n   </g>\r\n   <g id=\"patch_23\">\r\n    <path clip-path=\"url(#pafde85e837)\" d=\"M 422.735999 442.08 \r\nL 441.206393 442.08 \r\nL 441.206393 442.08 \r\nL 422.735999 442.08 \r\nz\r\n\" style=\"fill:#1f77b4;fill-opacity:0.5;stroke:#000000;stroke-linejoin:miter;stroke-width:0.405818;\"/>\r\n   </g>\r\n   <g id=\"patch_24\">\r\n    <path clip-path=\"url(#pafde85e837)\" d=\"M 441.206393 442.08 \r\nL 459.676787 442.08 \r\nL 459.676787 441.949181 \r\nL 441.206393 441.949181 \r\nz\r\n\" style=\"fill:#1f77b4;fill-opacity:0.5;stroke:#000000;stroke-linejoin:miter;stroke-width:0.405818;\"/>\r\n   </g>\r\n   <g id=\"patch_25\">\r\n    <path clip-path=\"url(#pafde85e837)\" d=\"M 459.676787 442.08 \r\nL 478.14718 442.08 \r\nL 478.14718 441.949181 \r\nL 459.676787 441.949181 \r\nz\r\n\" style=\"fill:#1f77b4;fill-opacity:0.5;stroke:#000000;stroke-linejoin:miter;stroke-width:0.405818;\"/>\r\n   </g>\r\n   <g id=\"patch_26\">\r\n    <path clip-path=\"url(#pafde85e837)\" d=\"M 478.14718 442.08 \r\nL 496.617574 442.08 \r\nL 496.617574 441.949181 \r\nL 478.14718 441.949181 \r\nz\r\n\" style=\"fill:#1f77b4;fill-opacity:0.5;stroke:#000000;stroke-linejoin:miter;stroke-width:0.405818;\"/>\r\n   </g>\r\n   <g id=\"patch_27\">\r\n    <path clip-path=\"url(#pafde85e837)\" d=\"M 496.617574 442.08 \r\nL 515.087968 442.08 \r\nL 515.087968 442.08 \r\nL 496.617574 442.08 \r\nz\r\n\" style=\"fill:#1f77b4;fill-opacity:0.5;stroke:#000000;stroke-linejoin:miter;stroke-width:0.405818;\"/>\r\n   </g>\r\n   <g id=\"patch_28\">\r\n    <path clip-path=\"url(#pafde85e837)\" d=\"M 515.087968 442.08 \r\nL 533.558362 442.08 \r\nL 533.558362 442.08 \r\nL 515.087968 442.08 \r\nz\r\n\" style=\"fill:#1f77b4;fill-opacity:0.5;stroke:#000000;stroke-linejoin:miter;stroke-width:0.405818;\"/>\r\n   </g>\r\n   <g id=\"patch_29\">\r\n    <path clip-path=\"url(#pafde85e837)\" d=\"M 533.558362 442.08 \r\nL 552.028755 442.08 \r\nL 552.028755 442.08 \r\nL 533.558362 442.08 \r\nz\r\n\" style=\"fill:#1f77b4;fill-opacity:0.5;stroke:#000000;stroke-linejoin:miter;stroke-width:0.405818;\"/>\r\n   </g>\r\n   <g id=\"patch_30\">\r\n    <path clip-path=\"url(#pafde85e837)\" d=\"M 552.028755 442.08 \r\nL 570.499149 442.08 \r\nL 570.499149 442.08 \r\nL 552.028755 442.08 \r\nz\r\n\" style=\"fill:#1f77b4;fill-opacity:0.5;stroke:#000000;stroke-linejoin:miter;stroke-width:0.405818;\"/>\r\n   </g>\r\n   <g id=\"patch_31\">\r\n    <path clip-path=\"url(#pafde85e837)\" d=\"M 570.499149 442.08 \r\nL 588.969543 442.08 \r\nL 588.969543 441.818363 \r\nL 570.499149 441.818363 \r\nz\r\n\" style=\"fill:#1f77b4;fill-opacity:0.5;stroke:#000000;stroke-linejoin:miter;stroke-width:0.405818;\"/>\r\n   </g>\r\n   <g id=\"patch_32\">\r\n    <path clip-path=\"url(#pafde85e837)\" d=\"M 588.969543 442.08 \r\nL 607.439936 442.08 \r\nL 607.439936 441.949181 \r\nL 588.969543 441.949181 \r\nz\r\n\" style=\"fill:#1f77b4;fill-opacity:0.5;stroke:#000000;stroke-linejoin:miter;stroke-width:0.405818;\"/>\r\n   </g>\r\n   <g id=\"patch_33\">\r\n    <path clip-path=\"url(#pafde85e837)\" d=\"M 607.439936 442.08 \r\nL 625.91033 442.08 \r\nL 625.91033 442.08 \r\nL 607.439936 442.08 \r\nz\r\n\" style=\"fill:#1f77b4;fill-opacity:0.5;stroke:#000000;stroke-linejoin:miter;stroke-width:0.405818;\"/>\r\n   </g>\r\n   <g id=\"patch_34\">\r\n    <path clip-path=\"url(#pafde85e837)\" d=\"M 625.91033 442.08 \r\nL 644.380724 442.08 \r\nL 644.380724 442.08 \r\nL 625.91033 442.08 \r\nz\r\n\" style=\"fill:#1f77b4;fill-opacity:0.5;stroke:#000000;stroke-linejoin:miter;stroke-width:0.405818;\"/>\r\n   </g>\r\n   <g id=\"patch_35\">\r\n    <path clip-path=\"url(#pafde85e837)\" d=\"M 644.380724 442.08 \r\nL 662.851117 442.08 \r\nL 662.851117 442.08 \r\nL 644.380724 442.08 \r\nz\r\n\" style=\"fill:#1f77b4;fill-opacity:0.5;stroke:#000000;stroke-linejoin:miter;stroke-width:0.405818;\"/>\r\n   </g>\r\n   <g id=\"patch_36\">\r\n    <path clip-path=\"url(#pafde85e837)\" d=\"M 662.851117 442.08 \r\nL 681.321511 442.08 \r\nL 681.321511 442.08 \r\nL 662.851117 442.08 \r\nz\r\n\" style=\"fill:#1f77b4;fill-opacity:0.5;stroke:#000000;stroke-linejoin:miter;stroke-width:0.405818;\"/>\r\n   </g>\r\n   <g id=\"patch_37\">\r\n    <path clip-path=\"url(#pafde85e837)\" d=\"M 681.321511 442.08 \r\nL 699.791905 442.08 \r\nL 699.791905 442.08 \r\nL 681.321511 442.08 \r\nz\r\n\" style=\"fill:#1f77b4;fill-opacity:0.5;stroke:#000000;stroke-linejoin:miter;stroke-width:0.405818;\"/>\r\n   </g>\r\n   <g id=\"patch_38\">\r\n    <path clip-path=\"url(#pafde85e837)\" d=\"M 699.791905 442.08 \r\nL 718.262299 442.08 \r\nL 718.262299 442.08 \r\nL 699.791905 442.08 \r\nz\r\n\" style=\"fill:#1f77b4;fill-opacity:0.5;stroke:#000000;stroke-linejoin:miter;stroke-width:0.405818;\"/>\r\n   </g>\r\n   <g id=\"patch_39\">\r\n    <path clip-path=\"url(#pafde85e837)\" d=\"M 718.262299 442.08 \r\nL 736.732692 442.08 \r\nL 736.732692 442.08 \r\nL 718.262299 442.08 \r\nz\r\n\" style=\"fill:#1f77b4;fill-opacity:0.5;stroke:#000000;stroke-linejoin:miter;stroke-width:0.405818;\"/>\r\n   </g>\r\n   <g id=\"patch_40\">\r\n    <path clip-path=\"url(#pafde85e837)\" d=\"M 736.732692 442.08 \r\nL 755.203086 442.08 \r\nL 755.203086 442.08 \r\nL 736.732692 442.08 \r\nz\r\n\" style=\"fill:#1f77b4;fill-opacity:0.5;stroke:#000000;stroke-linejoin:miter;stroke-width:0.405818;\"/>\r\n   </g>\r\n   <g id=\"patch_41\">\r\n    <path clip-path=\"url(#pafde85e837)\" d=\"M 755.203086 442.08 \r\nL 773.67348 442.08 \r\nL 773.67348 442.08 \r\nL 755.203086 442.08 \r\nz\r\n\" style=\"fill:#1f77b4;fill-opacity:0.5;stroke:#000000;stroke-linejoin:miter;stroke-width:0.405818;\"/>\r\n   </g>\r\n   <g id=\"patch_42\">\r\n    <path clip-path=\"url(#pafde85e837)\" d=\"M 773.67348 442.08 \r\nL 792.143873 442.08 \r\nL 792.143873 442.08 \r\nL 773.67348 442.08 \r\nz\r\n\" style=\"fill:#1f77b4;fill-opacity:0.5;stroke:#000000;stroke-linejoin:miter;stroke-width:0.405818;\"/>\r\n   </g>\r\n   <g id=\"patch_43\">\r\n    <path clip-path=\"url(#pafde85e837)\" d=\"M 792.143873 442.08 \r\nL 810.614267 442.08 \r\nL 810.614267 442.08 \r\nL 792.143873 442.08 \r\nz\r\n\" style=\"fill:#1f77b4;fill-opacity:0.5;stroke:#000000;stroke-linejoin:miter;stroke-width:0.405818;\"/>\r\n   </g>\r\n   <g id=\"patch_44\">\r\n    <path clip-path=\"url(#pafde85e837)\" d=\"M 810.614267 442.08 \r\nL 829.084661 442.08 \r\nL 829.084661 442.08 \r\nL 810.614267 442.08 \r\nz\r\n\" style=\"fill:#1f77b4;fill-opacity:0.5;stroke:#000000;stroke-linejoin:miter;stroke-width:0.405818;\"/>\r\n   </g>\r\n   <g id=\"patch_45\">\r\n    <path clip-path=\"url(#pafde85e837)\" d=\"M 829.084661 442.08 \r\nL 847.555055 442.08 \r\nL 847.555055 442.08 \r\nL 829.084661 442.08 \r\nz\r\n\" style=\"fill:#1f77b4;fill-opacity:0.5;stroke:#000000;stroke-linejoin:miter;stroke-width:0.405818;\"/>\r\n   </g>\r\n   <g id=\"patch_46\">\r\n    <path clip-path=\"url(#pafde85e837)\" d=\"M 847.555055 442.08 \r\nL 866.025448 442.08 \r\nL 866.025448 442.08 \r\nL 847.555055 442.08 \r\nz\r\n\" style=\"fill:#1f77b4;fill-opacity:0.5;stroke:#000000;stroke-linejoin:miter;stroke-width:0.405818;\"/>\r\n   </g>\r\n   <g id=\"patch_47\">\r\n    <path clip-path=\"url(#pafde85e837)\" d=\"M 866.025448 442.08 \r\nL 884.495842 442.08 \r\nL 884.495842 442.08 \r\nL 866.025448 442.08 \r\nz\r\n\" style=\"fill:#1f77b4;fill-opacity:0.5;stroke:#000000;stroke-linejoin:miter;stroke-width:0.405818;\"/>\r\n   </g>\r\n   <g id=\"patch_48\">\r\n    <path clip-path=\"url(#pafde85e837)\" d=\"M 884.495842 442.08 \r\nL 902.966236 442.08 \r\nL 902.966236 442.08 \r\nL 884.495842 442.08 \r\nz\r\n\" style=\"fill:#1f77b4;fill-opacity:0.5;stroke:#000000;stroke-linejoin:miter;stroke-width:0.405818;\"/>\r\n   </g>\r\n   <g id=\"patch_49\">\r\n    <path clip-path=\"url(#pafde85e837)\" d=\"M 902.966236 442.08 \r\nL 921.436629 442.08 \r\nL 921.436629 442.08 \r\nL 902.966236 442.08 \r\nz\r\n\" style=\"fill:#1f77b4;fill-opacity:0.5;stroke:#000000;stroke-linejoin:miter;stroke-width:0.405818;\"/>\r\n   </g>\r\n   <g id=\"patch_50\">\r\n    <path clip-path=\"url(#pafde85e837)\" d=\"M 921.436629 442.08 \r\nL 939.907023 442.08 \r\nL 939.907023 442.08 \r\nL 921.436629 442.08 \r\nz\r\n\" style=\"fill:#1f77b4;fill-opacity:0.5;stroke:#000000;stroke-linejoin:miter;stroke-width:0.405818;\"/>\r\n   </g>\r\n   <g id=\"patch_51\">\r\n    <path clip-path=\"url(#pafde85e837)\" d=\"M 939.907023 442.08 \r\nL 958.377417 442.08 \r\nL 958.377417 441.949181 \r\nL 939.907023 441.949181 \r\nz\r\n\" style=\"fill:#1f77b4;fill-opacity:0.5;stroke:#000000;stroke-linejoin:miter;stroke-width:0.405818;\"/>\r\n   </g>\r\n   <g id=\"patch_52\">\r\n    <path clip-path=\"url(#pafde85e837)\" d=\"M 958.377417 442.08 \r\nL 976.847811 442.08 \r\nL 976.847811 442.08 \r\nL 958.377417 442.08 \r\nz\r\n\" style=\"fill:#1f77b4;fill-opacity:0.5;stroke:#000000;stroke-linejoin:miter;stroke-width:0.405818;\"/>\r\n   </g>\r\n   <g id=\"patch_53\">\r\n    <path clip-path=\"url(#pafde85e837)\" d=\"M 976.847811 442.08 \r\nL 995.318204 442.08 \r\nL 995.318204 442.08 \r\nL 976.847811 442.08 \r\nz\r\n\" style=\"fill:#1f77b4;fill-opacity:0.5;stroke:#000000;stroke-linejoin:miter;stroke-width:0.405818;\"/>\r\n   </g>\r\n   <g id=\"patch_54\">\r\n    <path clip-path=\"url(#pafde85e837)\" d=\"M 995.318204 442.08 \r\nL 1013.788598 442.08 \r\nL 1013.788598 442.08 \r\nL 995.318204 442.08 \r\nz\r\n\" style=\"fill:#1f77b4;fill-opacity:0.5;stroke:#000000;stroke-linejoin:miter;stroke-width:0.405818;\"/>\r\n   </g>\r\n   <g id=\"patch_55\">\r\n    <path clip-path=\"url(#pafde85e837)\" d=\"M 1013.788598 442.08 \r\nL 1032.258992 442.08 \r\nL 1032.258992 442.08 \r\nL 1013.788598 442.08 \r\nz\r\n\" style=\"fill:#1f77b4;fill-opacity:0.5;stroke:#000000;stroke-linejoin:miter;stroke-width:0.405818;\"/>\r\n   </g>\r\n   <g id=\"patch_56\">\r\n    <path clip-path=\"url(#pafde85e837)\" d=\"M 1032.258992 442.08 \r\nL 1050.729385 442.08 \r\nL 1050.729385 442.08 \r\nL 1032.258992 442.08 \r\nz\r\n\" style=\"fill:#1f77b4;fill-opacity:0.5;stroke:#000000;stroke-linejoin:miter;stroke-width:0.405818;\"/>\r\n   </g>\r\n   <g id=\"patch_57\">\r\n    <path clip-path=\"url(#pafde85e837)\" d=\"M 1050.729385 442.08 \r\nL 1069.199779 442.08 \r\nL 1069.199779 441.949181 \r\nL 1050.729385 441.949181 \r\nz\r\n\" style=\"fill:#1f77b4;fill-opacity:0.5;stroke:#000000;stroke-linejoin:miter;stroke-width:0.405818;\"/>\r\n   </g>\r\n   <g id=\"patch_58\">\r\n    <path clip-path=\"url(#pafde85e837)\" d=\"M 1069.199779 442.08 \r\nL 1087.670173 442.08 \r\nL 1087.670173 442.08 \r\nL 1069.199779 442.08 \r\nz\r\n\" style=\"fill:#1f77b4;fill-opacity:0.5;stroke:#000000;stroke-linejoin:miter;stroke-width:0.405818;\"/>\r\n   </g>\r\n   <g id=\"patch_59\">\r\n    <path clip-path=\"url(#pafde85e837)\" d=\"M 1087.670173 442.08 \r\nL 1106.140567 442.08 \r\nL 1106.140567 442.08 \r\nL 1087.670173 442.08 \r\nz\r\n\" style=\"fill:#1f77b4;fill-opacity:0.5;stroke:#000000;stroke-linejoin:miter;stroke-width:0.405818;\"/>\r\n   </g>\r\n   <g id=\"patch_60\">\r\n    <path clip-path=\"url(#pafde85e837)\" d=\"M 1106.140567 442.08 \r\nL 1124.61096 442.08 \r\nL 1124.61096 442.08 \r\nL 1106.140567 442.08 \r\nz\r\n\" style=\"fill:#1f77b4;fill-opacity:0.5;stroke:#000000;stroke-linejoin:miter;stroke-width:0.405818;\"/>\r\n   </g>\r\n   <g id=\"patch_61\">\r\n    <path clip-path=\"url(#pafde85e837)\" d=\"M 1124.61096 442.08 \r\nL 1143.081354 442.08 \r\nL 1143.081354 442.08 \r\nL 1124.61096 442.08 \r\nz\r\n\" style=\"fill:#1f77b4;fill-opacity:0.5;stroke:#000000;stroke-linejoin:miter;stroke-width:0.405818;\"/>\r\n   </g>\r\n   <g id=\"patch_62\">\r\n    <path clip-path=\"url(#pafde85e837)\" d=\"M 1143.081354 442.08 \r\nL 1161.551748 442.08 \r\nL 1161.551748 442.08 \r\nL 1143.081354 442.08 \r\nz\r\n\" style=\"fill:#1f77b4;fill-opacity:0.5;stroke:#000000;stroke-linejoin:miter;stroke-width:0.405818;\"/>\r\n   </g>\r\n   <g id=\"patch_63\">\r\n    <path clip-path=\"url(#pafde85e837)\" d=\"M 1161.551748 442.08 \r\nL 1180.022141 442.08 \r\nL 1180.022141 442.08 \r\nL 1161.551748 442.08 \r\nz\r\n\" style=\"fill:#1f77b4;fill-opacity:0.5;stroke:#000000;stroke-linejoin:miter;stroke-width:0.405818;\"/>\r\n   </g>\r\n   <g id=\"patch_64\">\r\n    <path clip-path=\"url(#pafde85e837)\" d=\"M 1180.022141 442.08 \r\nL 1198.492535 442.08 \r\nL 1198.492535 442.08 \r\nL 1180.022141 442.08 \r\nz\r\n\" style=\"fill:#1f77b4;fill-opacity:0.5;stroke:#000000;stroke-linejoin:miter;stroke-width:0.405818;\"/>\r\n   </g>\r\n   <g id=\"patch_65\">\r\n    <path clip-path=\"url(#pafde85e837)\" d=\"M 1198.492535 442.08 \r\nL 1216.962929 442.08 \r\nL 1216.962929 442.08 \r\nL 1198.492535 442.08 \r\nz\r\n\" style=\"fill:#1f77b4;fill-opacity:0.5;stroke:#000000;stroke-linejoin:miter;stroke-width:0.405818;\"/>\r\n   </g>\r\n   <g id=\"patch_66\">\r\n    <path clip-path=\"url(#pafde85e837)\" d=\"M 1216.962929 442.08 \r\nL 1235.433323 442.08 \r\nL 1235.433323 442.08 \r\nL 1216.962929 442.08 \r\nz\r\n\" style=\"fill:#1f77b4;fill-opacity:0.5;stroke:#000000;stroke-linejoin:miter;stroke-width:0.405818;\"/>\r\n   </g>\r\n   <g id=\"patch_67\">\r\n    <path clip-path=\"url(#pafde85e837)\" d=\"M 1235.433323 442.08 \r\nL 1253.903716 442.08 \r\nL 1253.903716 442.08 \r\nL 1235.433323 442.08 \r\nz\r\n\" style=\"fill:#1f77b4;fill-opacity:0.5;stroke:#000000;stroke-linejoin:miter;stroke-width:0.405818;\"/>\r\n   </g>\r\n   <g id=\"patch_68\">\r\n    <path clip-path=\"url(#pafde85e837)\" d=\"M 1253.903716 442.08 \r\nL 1272.37411 442.08 \r\nL 1272.37411 442.08 \r\nL 1253.903716 442.08 \r\nz\r\n\" style=\"fill:#1f77b4;fill-opacity:0.5;stroke:#000000;stroke-linejoin:miter;stroke-width:0.405818;\"/>\r\n   </g>\r\n   <g id=\"patch_69\">\r\n    <path clip-path=\"url(#pafde85e837)\" d=\"M 1272.37411 442.08 \r\nL 1290.844504 442.08 \r\nL 1290.844504 442.08 \r\nL 1272.37411 442.08 \r\nz\r\n\" style=\"fill:#1f77b4;fill-opacity:0.5;stroke:#000000;stroke-linejoin:miter;stroke-width:0.405818;\"/>\r\n   </g>\r\n   <g id=\"patch_70\">\r\n    <path clip-path=\"url(#pafde85e837)\" d=\"M 1290.844504 442.08 \r\nL 1309.314897 442.08 \r\nL 1309.314897 442.08 \r\nL 1290.844504 442.08 \r\nz\r\n\" style=\"fill:#1f77b4;fill-opacity:0.5;stroke:#000000;stroke-linejoin:miter;stroke-width:0.405818;\"/>\r\n   </g>\r\n   <g id=\"patch_71\">\r\n    <path clip-path=\"url(#pafde85e837)\" d=\"M 1309.314897 442.08 \r\nL 1327.785291 442.08 \r\nL 1327.785291 442.08 \r\nL 1309.314897 442.08 \r\nz\r\n\" style=\"fill:#1f77b4;fill-opacity:0.5;stroke:#000000;stroke-linejoin:miter;stroke-width:0.405818;\"/>\r\n   </g>\r\n   <g id=\"patch_72\">\r\n    <path clip-path=\"url(#pafde85e837)\" d=\"M 1327.785291 442.08 \r\nL 1346.255685 442.08 \r\nL 1346.255685 442.08 \r\nL 1327.785291 442.08 \r\nz\r\n\" style=\"fill:#1f77b4;fill-opacity:0.5;stroke:#000000;stroke-linejoin:miter;stroke-width:0.405818;\"/>\r\n   </g>\r\n   <g id=\"patch_73\">\r\n    <path clip-path=\"url(#pafde85e837)\" d=\"M 1346.255685 442.08 \r\nL 1364.726079 442.08 \r\nL 1364.726079 442.08 \r\nL 1346.255685 442.08 \r\nz\r\n\" style=\"fill:#1f77b4;fill-opacity:0.5;stroke:#000000;stroke-linejoin:miter;stroke-width:0.405818;\"/>\r\n   </g>\r\n   <g id=\"patch_74\">\r\n    <path clip-path=\"url(#pafde85e837)\" d=\"M 1364.726079 442.08 \r\nL 1383.196472 442.08 \r\nL 1383.196472 442.08 \r\nL 1364.726079 442.08 \r\nz\r\n\" style=\"fill:#1f77b4;fill-opacity:0.5;stroke:#000000;stroke-linejoin:miter;stroke-width:0.405818;\"/>\r\n   </g>\r\n   <g id=\"patch_75\">\r\n    <path clip-path=\"url(#pafde85e837)\" d=\"M 1383.196472 442.08 \r\nL 1401.666866 442.08 \r\nL 1401.666866 442.08 \r\nL 1383.196472 442.08 \r\nz\r\n\" style=\"fill:#1f77b4;fill-opacity:0.5;stroke:#000000;stroke-linejoin:miter;stroke-width:0.405818;\"/>\r\n   </g>\r\n   <g id=\"patch_76\">\r\n    <path clip-path=\"url(#pafde85e837)\" d=\"M 1401.666866 442.08 \r\nL 1420.13726 442.08 \r\nL 1420.13726 441.949181 \r\nL 1401.666866 441.949181 \r\nz\r\n\" style=\"fill:#1f77b4;fill-opacity:0.5;stroke:#000000;stroke-linejoin:miter;stroke-width:0.405818;\"/>\r\n   </g>\r\n   <g id=\"patch_77\">\r\n    <path clip-path=\"url(#pafde85e837)\" d=\"M 1420.13726 442.08 \r\nL 1438.607653 442.08 \r\nL 1438.607653 442.08 \r\nL 1420.13726 442.08 \r\nz\r\n\" style=\"fill:#1f77b4;fill-opacity:0.5;stroke:#000000;stroke-linejoin:miter;stroke-width:0.405818;\"/>\r\n   </g>\r\n   <g id=\"patch_78\">\r\n    <path clip-path=\"url(#pafde85e837)\" d=\"M 1438.607653 442.08 \r\nL 1457.078047 442.08 \r\nL 1457.078047 442.08 \r\nL 1438.607653 442.08 \r\nz\r\n\" style=\"fill:#1f77b4;fill-opacity:0.5;stroke:#000000;stroke-linejoin:miter;stroke-width:0.405818;\"/>\r\n   </g>\r\n   <g id=\"patch_79\">\r\n    <path clip-path=\"url(#pafde85e837)\" d=\"M 1457.078047 442.08 \r\nL 1475.548441 442.08 \r\nL 1475.548441 442.08 \r\nL 1457.078047 442.08 \r\nz\r\n\" style=\"fill:#1f77b4;fill-opacity:0.5;stroke:#000000;stroke-linejoin:miter;stroke-width:0.405818;\"/>\r\n   </g>\r\n   <g id=\"patch_80\">\r\n    <path clip-path=\"url(#pafde85e837)\" d=\"M 1475.548441 442.08 \r\nL 1494.018835 442.08 \r\nL 1494.018835 442.08 \r\nL 1475.548441 442.08 \r\nz\r\n\" style=\"fill:#1f77b4;fill-opacity:0.5;stroke:#000000;stroke-linejoin:miter;stroke-width:0.405818;\"/>\r\n   </g>\r\n   <g id=\"patch_81\">\r\n    <path clip-path=\"url(#pafde85e837)\" d=\"M 1494.018835 442.08 \r\nL 1512.489228 442.08 \r\nL 1512.489228 442.08 \r\nL 1494.018835 442.08 \r\nz\r\n\" style=\"fill:#1f77b4;fill-opacity:0.5;stroke:#000000;stroke-linejoin:miter;stroke-width:0.405818;\"/>\r\n   </g>\r\n   <g id=\"patch_82\">\r\n    <path clip-path=\"url(#pafde85e837)\" d=\"M 1512.489228 442.08 \r\nL 1530.959622 442.08 \r\nL 1530.959622 442.08 \r\nL 1512.489228 442.08 \r\nz\r\n\" style=\"fill:#1f77b4;fill-opacity:0.5;stroke:#000000;stroke-linejoin:miter;stroke-width:0.405818;\"/>\r\n   </g>\r\n   <g id=\"patch_83\">\r\n    <path clip-path=\"url(#pafde85e837)\" d=\"M 1530.959622 442.08 \r\nL 1549.430016 442.08 \r\nL 1549.430016 442.08 \r\nL 1530.959622 442.08 \r\nz\r\n\" style=\"fill:#1f77b4;fill-opacity:0.5;stroke:#000000;stroke-linejoin:miter;stroke-width:0.405818;\"/>\r\n   </g>\r\n   <g id=\"patch_84\">\r\n    <path clip-path=\"url(#pafde85e837)\" d=\"M 1549.430016 442.08 \r\nL 1567.900409 442.08 \r\nL 1567.900409 442.08 \r\nL 1549.430016 442.08 \r\nz\r\n\" style=\"fill:#1f77b4;fill-opacity:0.5;stroke:#000000;stroke-linejoin:miter;stroke-width:0.405818;\"/>\r\n   </g>\r\n   <g id=\"patch_85\">\r\n    <path clip-path=\"url(#pafde85e837)\" d=\"M 1567.900409 442.08 \r\nL 1586.370803 442.08 \r\nL 1586.370803 442.08 \r\nL 1567.900409 442.08 \r\nz\r\n\" style=\"fill:#1f77b4;fill-opacity:0.5;stroke:#000000;stroke-linejoin:miter;stroke-width:0.405818;\"/>\r\n   </g>\r\n   <g id=\"patch_86\">\r\n    <path clip-path=\"url(#pafde85e837)\" d=\"M 1586.370803 442.08 \r\nL 1604.841197 442.08 \r\nL 1604.841197 442.08 \r\nL 1586.370803 442.08 \r\nz\r\n\" style=\"fill:#1f77b4;fill-opacity:0.5;stroke:#000000;stroke-linejoin:miter;stroke-width:0.405818;\"/>\r\n   </g>\r\n   <g id=\"patch_87\">\r\n    <path clip-path=\"url(#pafde85e837)\" d=\"M 1604.841197 442.08 \r\nL 1623.311591 442.08 \r\nL 1623.311591 442.08 \r\nL 1604.841197 442.08 \r\nz\r\n\" style=\"fill:#1f77b4;fill-opacity:0.5;stroke:#000000;stroke-linejoin:miter;stroke-width:0.405818;\"/>\r\n   </g>\r\n   <g id=\"patch_88\">\r\n    <path clip-path=\"url(#pafde85e837)\" d=\"M 1623.311591 442.08 \r\nL 1641.781984 442.08 \r\nL 1641.781984 442.08 \r\nL 1623.311591 442.08 \r\nz\r\n\" style=\"fill:#1f77b4;fill-opacity:0.5;stroke:#000000;stroke-linejoin:miter;stroke-width:0.405818;\"/>\r\n   </g>\r\n   <g id=\"patch_89\">\r\n    <path clip-path=\"url(#pafde85e837)\" d=\"M 1641.781984 442.08 \r\nL 1660.252378 442.08 \r\nL 1660.252378 442.08 \r\nL 1641.781984 442.08 \r\nz\r\n\" style=\"fill:#1f77b4;fill-opacity:0.5;stroke:#000000;stroke-linejoin:miter;stroke-width:0.405818;\"/>\r\n   </g>\r\n   <g id=\"patch_90\">\r\n    <path clip-path=\"url(#pafde85e837)\" d=\"M 1660.252378 442.08 \r\nL 1678.722772 442.08 \r\nL 1678.722772 441.949181 \r\nL 1660.252378 441.949181 \r\nz\r\n\" style=\"fill:#1f77b4;fill-opacity:0.5;stroke:#000000;stroke-linejoin:miter;stroke-width:0.405818;\"/>\r\n   </g>\r\n   <g id=\"patch_91\">\r\n    <path clip-path=\"url(#pafde85e837)\" d=\"M 1678.722772 442.08 \r\nL 1697.193165 442.08 \r\nL 1697.193165 442.08 \r\nL 1678.722772 442.08 \r\nz\r\n\" style=\"fill:#1f77b4;fill-opacity:0.5;stroke:#000000;stroke-linejoin:miter;stroke-width:0.405818;\"/>\r\n   </g>\r\n   <g id=\"patch_92\">\r\n    <path clip-path=\"url(#pafde85e837)\" d=\"M 1697.193165 442.08 \r\nL 1715.663559 442.08 \r\nL 1715.663559 442.08 \r\nL 1697.193165 442.08 \r\nz\r\n\" style=\"fill:#1f77b4;fill-opacity:0.5;stroke:#000000;stroke-linejoin:miter;stroke-width:0.405818;\"/>\r\n   </g>\r\n   <g id=\"patch_93\">\r\n    <path clip-path=\"url(#pafde85e837)\" d=\"M 1715.663559 442.08 \r\nL 1734.133953 442.08 \r\nL 1734.133953 442.08 \r\nL 1715.663559 442.08 \r\nz\r\n\" style=\"fill:#1f77b4;fill-opacity:0.5;stroke:#000000;stroke-linejoin:miter;stroke-width:0.405818;\"/>\r\n   </g>\r\n   <g id=\"patch_94\">\r\n    <path clip-path=\"url(#pafde85e837)\" d=\"M 1734.133953 442.08 \r\nL 1752.604347 442.08 \r\nL 1752.604347 441.949181 \r\nL 1734.133953 441.949181 \r\nz\r\n\" style=\"fill:#1f77b4;fill-opacity:0.5;stroke:#000000;stroke-linejoin:miter;stroke-width:0.405818;\"/>\r\n   </g>\r\n   <g id=\"patch_95\">\r\n    <path clip-path=\"url(#pafde85e837)\" d=\"M 1752.604347 442.08 \r\nL 1771.07474 442.08 \r\nL 1771.07474 442.08 \r\nL 1752.604347 442.08 \r\nz\r\n\" style=\"fill:#1f77b4;fill-opacity:0.5;stroke:#000000;stroke-linejoin:miter;stroke-width:0.405818;\"/>\r\n   </g>\r\n   <g id=\"patch_96\">\r\n    <path clip-path=\"url(#pafde85e837)\" d=\"M 1771.07474 442.08 \r\nL 1789.545134 442.08 \r\nL 1789.545134 442.08 \r\nL 1771.07474 442.08 \r\nz\r\n\" style=\"fill:#1f77b4;fill-opacity:0.5;stroke:#000000;stroke-linejoin:miter;stroke-width:0.405818;\"/>\r\n   </g>\r\n   <g id=\"patch_97\">\r\n    <path clip-path=\"url(#pafde85e837)\" d=\"M 1789.545134 442.08 \r\nL 1808.015528 442.08 \r\nL 1808.015528 442.08 \r\nL 1789.545134 442.08 \r\nz\r\n\" style=\"fill:#1f77b4;fill-opacity:0.5;stroke:#000000;stroke-linejoin:miter;stroke-width:0.405818;\"/>\r\n   </g>\r\n   <g id=\"patch_98\">\r\n    <path clip-path=\"url(#pafde85e837)\" d=\"M 1808.015528 442.08 \r\nL 1826.485921 442.08 \r\nL 1826.485921 442.08 \r\nL 1808.015528 442.08 \r\nz\r\n\" style=\"fill:#1f77b4;fill-opacity:0.5;stroke:#000000;stroke-linejoin:miter;stroke-width:0.405818;\"/>\r\n   </g>\r\n   <g id=\"patch_99\">\r\n    <path clip-path=\"url(#pafde85e837)\" d=\"M 1826.485921 442.08 \r\nL 1844.956315 442.08 \r\nL 1844.956315 442.08 \r\nL 1826.485921 442.08 \r\nz\r\n\" style=\"fill:#1f77b4;fill-opacity:0.5;stroke:#000000;stroke-linejoin:miter;stroke-width:0.405818;\"/>\r\n   </g>\r\n   <g id=\"patch_100\">\r\n    <path clip-path=\"url(#pafde85e837)\" d=\"M 1844.956315 442.08 \r\nL 1863.426709 442.08 \r\nL 1863.426709 442.08 \r\nL 1844.956315 442.08 \r\nz\r\n\" style=\"fill:#1f77b4;fill-opacity:0.5;stroke:#000000;stroke-linejoin:miter;stroke-width:0.405818;\"/>\r\n   </g>\r\n   <g id=\"patch_101\">\r\n    <path clip-path=\"url(#pafde85e837)\" d=\"M 1863.426709 442.08 \r\nL 1881.897102 442.08 \r\nL 1881.897102 442.08 \r\nL 1863.426709 442.08 \r\nz\r\n\" style=\"fill:#1f77b4;fill-opacity:0.5;stroke:#000000;stroke-linejoin:miter;stroke-width:0.405818;\"/>\r\n   </g>\r\n   <g id=\"patch_102\">\r\n    <path clip-path=\"url(#pafde85e837)\" d=\"M 1881.897102 442.08 \r\nL 1900.367496 442.08 \r\nL 1900.367496 442.08 \r\nL 1881.897102 442.08 \r\nz\r\n\" style=\"fill:#1f77b4;fill-opacity:0.5;stroke:#000000;stroke-linejoin:miter;stroke-width:0.405818;\"/>\r\n   </g>\r\n   <g id=\"patch_103\">\r\n    <path clip-path=\"url(#pafde85e837)\" d=\"M 1900.367496 442.08 \r\nL 1918.83789 442.08 \r\nL 1918.83789 442.08 \r\nL 1900.367496 442.08 \r\nz\r\n\" style=\"fill:#1f77b4;fill-opacity:0.5;stroke:#000000;stroke-linejoin:miter;stroke-width:0.405818;\"/>\r\n   </g>\r\n   <g id=\"patch_104\">\r\n    <path clip-path=\"url(#pafde85e837)\" d=\"M 1918.83789 442.08 \r\nL 1937.308284 442.08 \r\nL 1937.308284 442.08 \r\nL 1918.83789 442.08 \r\nz\r\n\" style=\"fill:#1f77b4;fill-opacity:0.5;stroke:#000000;stroke-linejoin:miter;stroke-width:0.405818;\"/>\r\n   </g>\r\n   <g id=\"patch_105\">\r\n    <path clip-path=\"url(#pafde85e837)\" d=\"M 1937.308284 442.08 \r\nL 1955.778677 442.08 \r\nL 1955.778677 442.08 \r\nL 1937.308284 442.08 \r\nz\r\n\" style=\"fill:#1f77b4;fill-opacity:0.5;stroke:#000000;stroke-linejoin:miter;stroke-width:0.405818;\"/>\r\n   </g>\r\n   <g id=\"patch_106\">\r\n    <path clip-path=\"url(#pafde85e837)\" d=\"M 1955.778677 442.08 \r\nL 1974.249071 442.08 \r\nL 1974.249071 442.08 \r\nL 1955.778677 442.08 \r\nz\r\n\" style=\"fill:#1f77b4;fill-opacity:0.5;stroke:#000000;stroke-linejoin:miter;stroke-width:0.405818;\"/>\r\n   </g>\r\n   <g id=\"patch_107\">\r\n    <path clip-path=\"url(#pafde85e837)\" d=\"M 1974.249071 442.08 \r\nL 1992.719465 442.08 \r\nL 1992.719465 442.08 \r\nL 1974.249071 442.08 \r\nz\r\n\" style=\"fill:#1f77b4;fill-opacity:0.5;stroke:#000000;stroke-linejoin:miter;stroke-width:0.405818;\"/>\r\n   </g>\r\n   <g id=\"patch_108\">\r\n    <path clip-path=\"url(#pafde85e837)\" d=\"M 1992.719465 442.08 \r\nL 2011.189858 442.08 \r\nL 2011.189858 442.08 \r\nL 1992.719465 442.08 \r\nz\r\n\" style=\"fill:#1f77b4;fill-opacity:0.5;stroke:#000000;stroke-linejoin:miter;stroke-width:0.405818;\"/>\r\n   </g>\r\n   <g id=\"patch_109\">\r\n    <path clip-path=\"url(#pafde85e837)\" d=\"M 2011.189858 442.08 \r\nL 2029.660252 442.08 \r\nL 2029.660252 442.08 \r\nL 2011.189858 442.08 \r\nz\r\n\" style=\"fill:#1f77b4;fill-opacity:0.5;stroke:#000000;stroke-linejoin:miter;stroke-width:0.405818;\"/>\r\n   </g>\r\n   <g id=\"patch_110\">\r\n    <path clip-path=\"url(#pafde85e837)\" d=\"M 2029.660252 442.08 \r\nL 2048.130646 442.08 \r\nL 2048.130646 442.08 \r\nL 2029.660252 442.08 \r\nz\r\n\" style=\"fill:#1f77b4;fill-opacity:0.5;stroke:#000000;stroke-linejoin:miter;stroke-width:0.405818;\"/>\r\n   </g>\r\n   <g id=\"patch_111\">\r\n    <path clip-path=\"url(#pafde85e837)\" d=\"M 2048.130646 442.08 \r\nL 2066.60104 442.08 \r\nL 2066.60104 442.08 \r\nL 2048.130646 442.08 \r\nz\r\n\" style=\"fill:#1f77b4;fill-opacity:0.5;stroke:#000000;stroke-linejoin:miter;stroke-width:0.405818;\"/>\r\n   </g>\r\n   <g id=\"patch_112\">\r\n    <path clip-path=\"url(#pafde85e837)\" d=\"M 2066.60104 442.08 \r\nL 2085.071433 442.08 \r\nL 2085.071433 442.08 \r\nL 2066.60104 442.08 \r\nz\r\n\" style=\"fill:#1f77b4;fill-opacity:0.5;stroke:#000000;stroke-linejoin:miter;stroke-width:0.405818;\"/>\r\n   </g>\r\n   <g id=\"patch_113\">\r\n    <path clip-path=\"url(#pafde85e837)\" d=\"M 2085.071433 442.08 \r\nL 2103.541827 442.08 \r\nL 2103.541827 442.08 \r\nL 2085.071433 442.08 \r\nz\r\n\" style=\"fill:#1f77b4;fill-opacity:0.5;stroke:#000000;stroke-linejoin:miter;stroke-width:0.405818;\"/>\r\n   </g>\r\n   <g id=\"patch_114\">\r\n    <path clip-path=\"url(#pafde85e837)\" d=\"M 2103.541827 442.08 \r\nL 2122.012221 442.08 \r\nL 2122.012221 442.08 \r\nL 2103.541827 442.08 \r\nz\r\n\" style=\"fill:#1f77b4;fill-opacity:0.5;stroke:#000000;stroke-linejoin:miter;stroke-width:0.405818;\"/>\r\n   </g>\r\n   <g id=\"patch_115\">\r\n    <path clip-path=\"url(#pafde85e837)\" d=\"M 2122.012221 442.08 \r\nL 2140.482614 442.08 \r\nL 2140.482614 441.949181 \r\nL 2122.012221 441.949181 \r\nz\r\n\" style=\"fill:#1f77b4;fill-opacity:0.5;stroke:#000000;stroke-linejoin:miter;stroke-width:0.405818;\"/>\r\n   </g>\r\n   <g id=\"patch_116\">\r\n    <path clip-path=\"url(#pafde85e837)\" d=\"M 2140.482614 442.08 \r\nL 2158.953008 442.08 \r\nL 2158.953008 442.08 \r\nL 2140.482614 442.08 \r\nz\r\n\" style=\"fill:#1f77b4;fill-opacity:0.5;stroke:#000000;stroke-linejoin:miter;stroke-width:0.405818;\"/>\r\n   </g>\r\n   <g id=\"patch_117\">\r\n    <path clip-path=\"url(#pafde85e837)\" d=\"M 2158.953008 442.08 \r\nL 2177.423402 442.08 \r\nL 2177.423402 442.08 \r\nL 2158.953008 442.08 \r\nz\r\n\" style=\"fill:#1f77b4;fill-opacity:0.5;stroke:#000000;stroke-linejoin:miter;stroke-width:0.405818;\"/>\r\n   </g>\r\n   <g id=\"patch_118\">\r\n    <path clip-path=\"url(#pafde85e837)\" d=\"M 2177.423402 442.08 \r\nL 2195.893796 442.08 \r\nL 2195.893796 442.08 \r\nL 2177.423402 442.08 \r\nz\r\n\" style=\"fill:#1f77b4;fill-opacity:0.5;stroke:#000000;stroke-linejoin:miter;stroke-width:0.405818;\"/>\r\n   </g>\r\n   <g id=\"patch_119\">\r\n    <path clip-path=\"url(#pafde85e837)\" d=\"M 2195.893796 442.08 \r\nL 2214.364189 442.08 \r\nL 2214.364189 442.08 \r\nL 2195.893796 442.08 \r\nz\r\n\" style=\"fill:#1f77b4;fill-opacity:0.5;stroke:#000000;stroke-linejoin:miter;stroke-width:0.405818;\"/>\r\n   </g>\r\n   <g id=\"patch_120\">\r\n    <path clip-path=\"url(#pafde85e837)\" d=\"M 2214.364189 442.08 \r\nL 2232.834583 442.08 \r\nL 2232.834583 442.08 \r\nL 2214.364189 442.08 \r\nz\r\n\" style=\"fill:#1f77b4;fill-opacity:0.5;stroke:#000000;stroke-linejoin:miter;stroke-width:0.405818;\"/>\r\n   </g>\r\n   <g id=\"patch_121\">\r\n    <path clip-path=\"url(#pafde85e837)\" d=\"M 2232.834583 442.08 \r\nL 2251.304977 442.08 \r\nL 2251.304977 442.08 \r\nL 2232.834583 442.08 \r\nz\r\n\" style=\"fill:#1f77b4;fill-opacity:0.5;stroke:#000000;stroke-linejoin:miter;stroke-width:0.405818;\"/>\r\n   </g>\r\n   <g id=\"patch_122\">\r\n    <path clip-path=\"url(#pafde85e837)\" d=\"M 2251.304977 442.08 \r\nL 2269.77537 442.08 \r\nL 2269.77537 442.08 \r\nL 2251.304977 442.08 \r\nz\r\n\" style=\"fill:#1f77b4;fill-opacity:0.5;stroke:#000000;stroke-linejoin:miter;stroke-width:0.405818;\"/>\r\n   </g>\r\n   <g id=\"patch_123\">\r\n    <path clip-path=\"url(#pafde85e837)\" d=\"M 2269.77537 442.08 \r\nL 2288.245764 442.08 \r\nL 2288.245764 442.08 \r\nL 2269.77537 442.08 \r\nz\r\n\" style=\"fill:#1f77b4;fill-opacity:0.5;stroke:#000000;stroke-linejoin:miter;stroke-width:0.405818;\"/>\r\n   </g>\r\n   <g id=\"patch_124\">\r\n    <path clip-path=\"url(#pafde85e837)\" d=\"M 2288.245764 442.08 \r\nL 2306.716158 442.08 \r\nL 2306.716158 442.08 \r\nL 2288.245764 442.08 \r\nz\r\n\" style=\"fill:#1f77b4;fill-opacity:0.5;stroke:#000000;stroke-linejoin:miter;stroke-width:0.405818;\"/>\r\n   </g>\r\n   <g id=\"patch_125\">\r\n    <path clip-path=\"url(#pafde85e837)\" d=\"M 2306.716158 442.08 \r\nL 2325.186552 442.08 \r\nL 2325.186552 442.08 \r\nL 2306.716158 442.08 \r\nz\r\n\" style=\"fill:#1f77b4;fill-opacity:0.5;stroke:#000000;stroke-linejoin:miter;stroke-width:0.405818;\"/>\r\n   </g>\r\n   <g id=\"patch_126\">\r\n    <path clip-path=\"url(#pafde85e837)\" d=\"M 2325.186552 442.08 \r\nL 2343.656945 442.08 \r\nL 2343.656945 442.08 \r\nL 2325.186552 442.08 \r\nz\r\n\" style=\"fill:#1f77b4;fill-opacity:0.5;stroke:#000000;stroke-linejoin:miter;stroke-width:0.405818;\"/>\r\n   </g>\r\n   <g id=\"patch_127\">\r\n    <path clip-path=\"url(#pafde85e837)\" d=\"M 2343.656945 442.08 \r\nL 2362.127339 442.08 \r\nL 2362.127339 442.08 \r\nL 2343.656945 442.08 \r\nz\r\n\" style=\"fill:#1f77b4;fill-opacity:0.5;stroke:#000000;stroke-linejoin:miter;stroke-width:0.405818;\"/>\r\n   </g>\r\n   <g id=\"patch_128\">\r\n    <path clip-path=\"url(#pafde85e837)\" d=\"M 2362.127339 442.08 \r\nL 2380.597733 442.08 \r\nL 2380.597733 442.08 \r\nL 2362.127339 442.08 \r\nz\r\n\" style=\"fill:#1f77b4;fill-opacity:0.5;stroke:#000000;stroke-linejoin:miter;stroke-width:0.405818;\"/>\r\n   </g>\r\n   <g id=\"patch_129\">\r\n    <path clip-path=\"url(#pafde85e837)\" d=\"M 2380.597733 442.08 \r\nL 2399.068126 442.08 \r\nL 2399.068126 442.08 \r\nL 2380.597733 442.08 \r\nz\r\n\" style=\"fill:#1f77b4;fill-opacity:0.5;stroke:#000000;stroke-linejoin:miter;stroke-width:0.405818;\"/>\r\n   </g>\r\n   <g id=\"patch_130\">\r\n    <path clip-path=\"url(#pafde85e837)\" d=\"M 2399.068126 442.08 \r\nL 2417.53852 442.08 \r\nL 2417.53852 442.08 \r\nL 2399.068126 442.08 \r\nz\r\n\" style=\"fill:#1f77b4;fill-opacity:0.5;stroke:#000000;stroke-linejoin:miter;stroke-width:0.405818;\"/>\r\n   </g>\r\n   <g id=\"patch_131\">\r\n    <path clip-path=\"url(#pafde85e837)\" d=\"M 2417.53852 442.08 \r\nL 2436.008914 442.08 \r\nL 2436.008914 442.08 \r\nL 2417.53852 442.08 \r\nz\r\n\" style=\"fill:#1f77b4;fill-opacity:0.5;stroke:#000000;stroke-linejoin:miter;stroke-width:0.405818;\"/>\r\n   </g>\r\n   <g id=\"patch_132\">\r\n    <path clip-path=\"url(#pafde85e837)\" d=\"M 2436.008914 442.08 \r\nL 2454.479308 442.08 \r\nL 2454.479308 442.08 \r\nL 2436.008914 442.08 \r\nz\r\n\" style=\"fill:#1f77b4;fill-opacity:0.5;stroke:#000000;stroke-linejoin:miter;stroke-width:0.405818;\"/>\r\n   </g>\r\n   <g id=\"patch_133\">\r\n    <path clip-path=\"url(#pafde85e837)\" d=\"M 2454.479308 442.08 \r\nL 2472.949701 442.08 \r\nL 2472.949701 442.08 \r\nL 2454.479308 442.08 \r\nz\r\n\" style=\"fill:#1f77b4;fill-opacity:0.5;stroke:#000000;stroke-linejoin:miter;stroke-width:0.405818;\"/>\r\n   </g>\r\n   <g id=\"patch_134\">\r\n    <path clip-path=\"url(#pafde85e837)\" d=\"M 2472.949701 442.08 \r\nL 2491.420095 442.08 \r\nL 2491.420095 442.08 \r\nL 2472.949701 442.08 \r\nz\r\n\" style=\"fill:#1f77b4;fill-opacity:0.5;stroke:#000000;stroke-linejoin:miter;stroke-width:0.405818;\"/>\r\n   </g>\r\n   <g id=\"patch_135\">\r\n    <path clip-path=\"url(#pafde85e837)\" d=\"M 2491.420095 442.08 \r\nL 2509.890489 442.08 \r\nL 2509.890489 442.08 \r\nL 2491.420095 442.08 \r\nz\r\n\" style=\"fill:#1f77b4;fill-opacity:0.5;stroke:#000000;stroke-linejoin:miter;stroke-width:0.405818;\"/>\r\n   </g>\r\n   <g id=\"patch_136\">\r\n    <path clip-path=\"url(#pafde85e837)\" d=\"M 2509.890489 442.08 \r\nL 2528.360882 442.08 \r\nL 2528.360882 442.08 \r\nL 2509.890489 442.08 \r\nz\r\n\" style=\"fill:#1f77b4;fill-opacity:0.5;stroke:#000000;stroke-linejoin:miter;stroke-width:0.405818;\"/>\r\n   </g>\r\n   <g id=\"patch_137\">\r\n    <path clip-path=\"url(#pafde85e837)\" d=\"M 2528.360882 442.08 \r\nL 2546.831276 442.08 \r\nL 2546.831276 442.08 \r\nL 2528.360882 442.08 \r\nz\r\n\" style=\"fill:#1f77b4;fill-opacity:0.5;stroke:#000000;stroke-linejoin:miter;stroke-width:0.405818;\"/>\r\n   </g>\r\n   <g id=\"patch_138\">\r\n    <path clip-path=\"url(#pafde85e837)\" d=\"M 2546.831276 442.08 \r\nL 2565.30167 442.08 \r\nL 2565.30167 442.08 \r\nL 2546.831276 442.08 \r\nz\r\n\" style=\"fill:#1f77b4;fill-opacity:0.5;stroke:#000000;stroke-linejoin:miter;stroke-width:0.405818;\"/>\r\n   </g>\r\n   <g id=\"patch_139\">\r\n    <path clip-path=\"url(#pafde85e837)\" d=\"M 2565.30167 442.08 \r\nL 2583.772064 442.08 \r\nL 2583.772064 442.08 \r\nL 2565.30167 442.08 \r\nz\r\n\" style=\"fill:#1f77b4;fill-opacity:0.5;stroke:#000000;stroke-linejoin:miter;stroke-width:0.405818;\"/>\r\n   </g>\r\n   <g id=\"patch_140\">\r\n    <path clip-path=\"url(#pafde85e837)\" d=\"M 2583.772064 442.08 \r\nL 2602.242457 442.08 \r\nL 2602.242457 442.08 \r\nL 2583.772064 442.08 \r\nz\r\n\" style=\"fill:#1f77b4;fill-opacity:0.5;stroke:#000000;stroke-linejoin:miter;stroke-width:0.405818;\"/>\r\n   </g>\r\n   <g id=\"patch_141\">\r\n    <path clip-path=\"url(#pafde85e837)\" d=\"M 2602.242457 442.08 \r\nL 2620.712851 442.08 \r\nL 2620.712851 442.08 \r\nL 2602.242457 442.08 \r\nz\r\n\" style=\"fill:#1f77b4;fill-opacity:0.5;stroke:#000000;stroke-linejoin:miter;stroke-width:0.405818;\"/>\r\n   </g>\r\n   <g id=\"patch_142\">\r\n    <path clip-path=\"url(#pafde85e837)\" d=\"M 2620.712851 442.08 \r\nL 2639.183245 442.08 \r\nL 2639.183245 442.08 \r\nL 2620.712851 442.08 \r\nz\r\n\" style=\"fill:#1f77b4;fill-opacity:0.5;stroke:#000000;stroke-linejoin:miter;stroke-width:0.405818;\"/>\r\n   </g>\r\n   <g id=\"patch_143\">\r\n    <path clip-path=\"url(#pafde85e837)\" d=\"M 2639.183245 442.08 \r\nL 2657.653638 442.08 \r\nL 2657.653638 442.08 \r\nL 2639.183245 442.08 \r\nz\r\n\" style=\"fill:#1f77b4;fill-opacity:0.5;stroke:#000000;stroke-linejoin:miter;stroke-width:0.405818;\"/>\r\n   </g>\r\n   <g id=\"patch_144\">\r\n    <path clip-path=\"url(#pafde85e837)\" d=\"M 2657.653638 442.08 \r\nL 2676.124032 442.08 \r\nL 2676.124032 442.08 \r\nL 2657.653638 442.08 \r\nz\r\n\" style=\"fill:#1f77b4;fill-opacity:0.5;stroke:#000000;stroke-linejoin:miter;stroke-width:0.405818;\"/>\r\n   </g>\r\n   <g id=\"patch_145\">\r\n    <path clip-path=\"url(#pafde85e837)\" d=\"M 2676.124032 442.08 \r\nL 2694.594426 442.08 \r\nL 2694.594426 442.08 \r\nL 2676.124032 442.08 \r\nz\r\n\" style=\"fill:#1f77b4;fill-opacity:0.5;stroke:#000000;stroke-linejoin:miter;stroke-width:0.405818;\"/>\r\n   </g>\r\n   <g id=\"patch_146\">\r\n    <path clip-path=\"url(#pafde85e837)\" d=\"M 2694.594426 442.08 \r\nL 2713.06482 442.08 \r\nL 2713.06482 442.08 \r\nL 2694.594426 442.08 \r\nz\r\n\" style=\"fill:#1f77b4;fill-opacity:0.5;stroke:#000000;stroke-linejoin:miter;stroke-width:0.405818;\"/>\r\n   </g>\r\n   <g id=\"patch_147\">\r\n    <path clip-path=\"url(#pafde85e837)\" d=\"M 2713.06482 442.08 \r\nL 2731.535213 442.08 \r\nL 2731.535213 442.08 \r\nL 2713.06482 442.08 \r\nz\r\n\" style=\"fill:#1f77b4;fill-opacity:0.5;stroke:#000000;stroke-linejoin:miter;stroke-width:0.405818;\"/>\r\n   </g>\r\n   <g id=\"patch_148\">\r\n    <path clip-path=\"url(#pafde85e837)\" d=\"M 2731.535213 442.08 \r\nL 2750.005607 442.08 \r\nL 2750.005607 442.08 \r\nL 2731.535213 442.08 \r\nz\r\n\" style=\"fill:#1f77b4;fill-opacity:0.5;stroke:#000000;stroke-linejoin:miter;stroke-width:0.405818;\"/>\r\n   </g>\r\n   <g id=\"patch_149\">\r\n    <path clip-path=\"url(#pafde85e837)\" d=\"M 2750.005607 442.08 \r\nL 2768.476001 442.08 \r\nL 2768.476001 441.949181 \r\nL 2750.005607 441.949181 \r\nz\r\n\" style=\"fill:#1f77b4;fill-opacity:0.5;stroke:#000000;stroke-linejoin:miter;stroke-width:0.405818;\"/>\r\n   </g>\r\n   <g id=\"patch_150\">\r\n    <path clip-path=\"url(#pafde85e837)\" d=\"M 2768.476001 442.08 \r\nL 2786.946394 442.08 \r\nL 2786.946394 442.08 \r\nL 2768.476001 442.08 \r\nz\r\n\" style=\"fill:#1f77b4;fill-opacity:0.5;stroke:#000000;stroke-linejoin:miter;stroke-width:0.405818;\"/>\r\n   </g>\r\n   <g id=\"patch_151\">\r\n    <path clip-path=\"url(#pafde85e837)\" d=\"M 2786.946394 442.08 \r\nL 2805.416788 442.08 \r\nL 2805.416788 442.08 \r\nL 2786.946394 442.08 \r\nz\r\n\" style=\"fill:#1f77b4;fill-opacity:0.5;stroke:#000000;stroke-linejoin:miter;stroke-width:0.405818;\"/>\r\n   </g>\r\n   <g id=\"patch_152\">\r\n    <path clip-path=\"url(#pafde85e837)\" d=\"M 2805.416788 442.08 \r\nL 2823.887182 442.08 \r\nL 2823.887182 441.949181 \r\nL 2805.416788 441.949181 \r\nz\r\n\" style=\"fill:#1f77b4;fill-opacity:0.5;stroke:#000000;stroke-linejoin:miter;stroke-width:0.405818;\"/>\r\n   </g>\r\n   <g id=\"matplotlib.axis_1\">\r\n    <g id=\"xtick_1\">\r\n     <g id=\"line2d_1\">\r\n      <defs>\r\n       <path d=\"M 0 0 \r\nL 0 3.5 \r\n\" id=\"m9db688743b\" style=\"stroke:#000000;stroke-width:0.8;\"/>\r\n      </defs>\r\n      <g>\r\n       <use style=\"stroke:#000000;stroke-width:0.8;\" x=\"53.328125\" xlink:href=\"#m9db688743b\" y=\"442.08\"/>\r\n      </g>\r\n     </g>\r\n     <g id=\"text_1\">\r\n      <!-- 0 -->\r\n      <g transform=\"translate(50.146875 456.678437)scale(0.1 -0.1)\">\r\n       <defs>\r\n        <path d=\"M 31.78125 66.40625 \r\nQ 24.171875 66.40625 20.328125 58.90625 \r\nQ 16.5 51.421875 16.5 36.375 \r\nQ 16.5 21.390625 20.328125 13.890625 \r\nQ 24.171875 6.390625 31.78125 6.390625 \r\nQ 39.453125 6.390625 43.28125 13.890625 \r\nQ 47.125 21.390625 47.125 36.375 \r\nQ 47.125 51.421875 43.28125 58.90625 \r\nQ 39.453125 66.40625 31.78125 66.40625 \r\nz\r\nM 31.78125 74.21875 \r\nQ 44.046875 74.21875 50.515625 64.515625 \r\nQ 56.984375 54.828125 56.984375 36.375 \r\nQ 56.984375 17.96875 50.515625 8.265625 \r\nQ 44.046875 -1.421875 31.78125 -1.421875 \r\nQ 19.53125 -1.421875 13.0625 8.265625 \r\nQ 6.59375 17.96875 6.59375 36.375 \r\nQ 6.59375 54.828125 13.0625 64.515625 \r\nQ 19.53125 74.21875 31.78125 74.21875 \r\nz\r\n\" id=\"DejaVuSans-48\"/>\r\n       </defs>\r\n       <use xlink:href=\"#DejaVuSans-48\"/>\r\n      </g>\r\n     </g>\r\n    </g>\r\n    <g id=\"xtick_2\">\r\n     <g id=\"line2d_2\">\r\n      <g>\r\n       <use style=\"stroke:#000000;stroke-width:0.8;\" x=\"187.248125\" xlink:href=\"#m9db688743b\" y=\"442.08\"/>\r\n      </g>\r\n     </g>\r\n     <g id=\"text_2\">\r\n      <!-- 2000 -->\r\n      <g transform=\"translate(174.523125 456.678437)scale(0.1 -0.1)\">\r\n       <defs>\r\n        <path d=\"M 19.1875 8.296875 \r\nL 53.609375 8.296875 \r\nL 53.609375 0 \r\nL 7.328125 0 \r\nL 7.328125 8.296875 \r\nQ 12.9375 14.109375 22.625 23.890625 \r\nQ 32.328125 33.6875 34.8125 36.53125 \r\nQ 39.546875 41.84375 41.421875 45.53125 \r\nQ 43.3125 49.21875 43.3125 52.78125 \r\nQ 43.3125 58.59375 39.234375 62.25 \r\nQ 35.15625 65.921875 28.609375 65.921875 \r\nQ 23.96875 65.921875 18.8125 64.3125 \r\nQ 13.671875 62.703125 7.8125 59.421875 \r\nL 7.8125 69.390625 \r\nQ 13.765625 71.78125 18.9375 73 \r\nQ 24.125 74.21875 28.421875 74.21875 \r\nQ 39.75 74.21875 46.484375 68.546875 \r\nQ 53.21875 62.890625 53.21875 53.421875 \r\nQ 53.21875 48.921875 51.53125 44.890625 \r\nQ 49.859375 40.875 45.40625 35.40625 \r\nQ 44.1875 33.984375 37.640625 27.21875 \r\nQ 31.109375 20.453125 19.1875 8.296875 \r\nz\r\n\" id=\"DejaVuSans-50\"/>\r\n       </defs>\r\n       <use xlink:href=\"#DejaVuSans-50\"/>\r\n       <use x=\"63.623047\" xlink:href=\"#DejaVuSans-48\"/>\r\n       <use x=\"127.246094\" xlink:href=\"#DejaVuSans-48\"/>\r\n       <use x=\"190.869141\" xlink:href=\"#DejaVuSans-48\"/>\r\n      </g>\r\n     </g>\r\n    </g>\r\n    <g id=\"xtick_3\">\r\n     <g id=\"line2d_3\">\r\n      <g>\r\n       <use style=\"stroke:#000000;stroke-width:0.8;\" x=\"321.168125\" xlink:href=\"#m9db688743b\" y=\"442.08\"/>\r\n      </g>\r\n     </g>\r\n     <g id=\"text_3\">\r\n      <!-- 4000 -->\r\n      <g transform=\"translate(308.443125 456.678437)scale(0.1 -0.1)\">\r\n       <defs>\r\n        <path d=\"M 37.796875 64.3125 \r\nL 12.890625 25.390625 \r\nL 37.796875 25.390625 \r\nz\r\nM 35.203125 72.90625 \r\nL 47.609375 72.90625 \r\nL 47.609375 25.390625 \r\nL 58.015625 25.390625 \r\nL 58.015625 17.1875 \r\nL 47.609375 17.1875 \r\nL 47.609375 0 \r\nL 37.796875 0 \r\nL 37.796875 17.1875 \r\nL 4.890625 17.1875 \r\nL 4.890625 26.703125 \r\nz\r\n\" id=\"DejaVuSans-52\"/>\r\n       </defs>\r\n       <use xlink:href=\"#DejaVuSans-52\"/>\r\n       <use x=\"63.623047\" xlink:href=\"#DejaVuSans-48\"/>\r\n       <use x=\"127.246094\" xlink:href=\"#DejaVuSans-48\"/>\r\n       <use x=\"190.869141\" xlink:href=\"#DejaVuSans-48\"/>\r\n      </g>\r\n     </g>\r\n    </g>\r\n    <g id=\"xtick_4\">\r\n     <g id=\"line2d_4\">\r\n      <g>\r\n       <use style=\"stroke:#000000;stroke-width:0.8;\" x=\"455.088125\" xlink:href=\"#m9db688743b\" y=\"442.08\"/>\r\n      </g>\r\n     </g>\r\n     <g id=\"text_4\">\r\n      <!-- 6000 -->\r\n      <g transform=\"translate(442.363125 456.678437)scale(0.1 -0.1)\">\r\n       <defs>\r\n        <path d=\"M 33.015625 40.375 \r\nQ 26.375 40.375 22.484375 35.828125 \r\nQ 18.609375 31.296875 18.609375 23.390625 \r\nQ 18.609375 15.53125 22.484375 10.953125 \r\nQ 26.375 6.390625 33.015625 6.390625 \r\nQ 39.65625 6.390625 43.53125 10.953125 \r\nQ 47.40625 15.53125 47.40625 23.390625 \r\nQ 47.40625 31.296875 43.53125 35.828125 \r\nQ 39.65625 40.375 33.015625 40.375 \r\nz\r\nM 52.59375 71.296875 \r\nL 52.59375 62.3125 \r\nQ 48.875 64.0625 45.09375 64.984375 \r\nQ 41.3125 65.921875 37.59375 65.921875 \r\nQ 27.828125 65.921875 22.671875 59.328125 \r\nQ 17.53125 52.734375 16.796875 39.40625 \r\nQ 19.671875 43.65625 24.015625 45.921875 \r\nQ 28.375 48.1875 33.59375 48.1875 \r\nQ 44.578125 48.1875 50.953125 41.515625 \r\nQ 57.328125 34.859375 57.328125 23.390625 \r\nQ 57.328125 12.15625 50.6875 5.359375 \r\nQ 44.046875 -1.421875 33.015625 -1.421875 \r\nQ 20.359375 -1.421875 13.671875 8.265625 \r\nQ 6.984375 17.96875 6.984375 36.375 \r\nQ 6.984375 53.65625 15.1875 63.9375 \r\nQ 23.390625 74.21875 37.203125 74.21875 \r\nQ 40.921875 74.21875 44.703125 73.484375 \r\nQ 48.484375 72.75 52.59375 71.296875 \r\nz\r\n\" id=\"DejaVuSans-54\"/>\r\n       </defs>\r\n       <use xlink:href=\"#DejaVuSans-54\"/>\r\n       <use x=\"63.623047\" xlink:href=\"#DejaVuSans-48\"/>\r\n       <use x=\"127.246094\" xlink:href=\"#DejaVuSans-48\"/>\r\n       <use x=\"190.869141\" xlink:href=\"#DejaVuSans-48\"/>\r\n      </g>\r\n     </g>\r\n    </g>\r\n    <g id=\"xtick_5\">\r\n     <g id=\"line2d_5\">\r\n      <g>\r\n       <use style=\"stroke:#000000;stroke-width:0.8;\" x=\"589.008125\" xlink:href=\"#m9db688743b\" y=\"442.08\"/>\r\n      </g>\r\n     </g>\r\n     <g id=\"text_5\">\r\n      <!-- 8000 -->\r\n      <g transform=\"translate(576.283125 456.678437)scale(0.1 -0.1)\">\r\n       <defs>\r\n        <path d=\"M 31.78125 34.625 \r\nQ 24.75 34.625 20.71875 30.859375 \r\nQ 16.703125 27.09375 16.703125 20.515625 \r\nQ 16.703125 13.921875 20.71875 10.15625 \r\nQ 24.75 6.390625 31.78125 6.390625 \r\nQ 38.8125 6.390625 42.859375 10.171875 \r\nQ 46.921875 13.96875 46.921875 20.515625 \r\nQ 46.921875 27.09375 42.890625 30.859375 \r\nQ 38.875 34.625 31.78125 34.625 \r\nz\r\nM 21.921875 38.8125 \r\nQ 15.578125 40.375 12.03125 44.71875 \r\nQ 8.5 49.078125 8.5 55.328125 \r\nQ 8.5 64.0625 14.71875 69.140625 \r\nQ 20.953125 74.21875 31.78125 74.21875 \r\nQ 42.671875 74.21875 48.875 69.140625 \r\nQ 55.078125 64.0625 55.078125 55.328125 \r\nQ 55.078125 49.078125 51.53125 44.71875 \r\nQ 48 40.375 41.703125 38.8125 \r\nQ 48.828125 37.15625 52.796875 32.3125 \r\nQ 56.78125 27.484375 56.78125 20.515625 \r\nQ 56.78125 9.90625 50.3125 4.234375 \r\nQ 43.84375 -1.421875 31.78125 -1.421875 \r\nQ 19.734375 -1.421875 13.25 4.234375 \r\nQ 6.78125 9.90625 6.78125 20.515625 \r\nQ 6.78125 27.484375 10.78125 32.3125 \r\nQ 14.796875 37.15625 21.921875 38.8125 \r\nz\r\nM 18.3125 54.390625 \r\nQ 18.3125 48.734375 21.84375 45.5625 \r\nQ 25.390625 42.390625 31.78125 42.390625 \r\nQ 38.140625 42.390625 41.71875 45.5625 \r\nQ 45.3125 48.734375 45.3125 54.390625 \r\nQ 45.3125 60.0625 41.71875 63.234375 \r\nQ 38.140625 66.40625 31.78125 66.40625 \r\nQ 25.390625 66.40625 21.84375 63.234375 \r\nQ 18.3125 60.0625 18.3125 54.390625 \r\nz\r\n\" id=\"DejaVuSans-56\"/>\r\n       </defs>\r\n       <use xlink:href=\"#DejaVuSans-56\"/>\r\n       <use x=\"63.623047\" xlink:href=\"#DejaVuSans-48\"/>\r\n       <use x=\"127.246094\" xlink:href=\"#DejaVuSans-48\"/>\r\n       <use x=\"190.869141\" xlink:href=\"#DejaVuSans-48\"/>\r\n      </g>\r\n     </g>\r\n    </g>\r\n    <g id=\"xtick_6\">\r\n     <g id=\"line2d_6\">\r\n      <g>\r\n       <use style=\"stroke:#000000;stroke-width:0.8;\" x=\"722.928125\" xlink:href=\"#m9db688743b\" y=\"442.08\"/>\r\n      </g>\r\n     </g>\r\n     <g id=\"text_6\">\r\n      <!-- 10000 -->\r\n      <g transform=\"translate(707.021875 456.678437)scale(0.1 -0.1)\">\r\n       <defs>\r\n        <path d=\"M 12.40625 8.296875 \r\nL 28.515625 8.296875 \r\nL 28.515625 63.921875 \r\nL 10.984375 60.40625 \r\nL 10.984375 69.390625 \r\nL 28.421875 72.90625 \r\nL 38.28125 72.90625 \r\nL 38.28125 8.296875 \r\nL 54.390625 8.296875 \r\nL 54.390625 0 \r\nL 12.40625 0 \r\nz\r\n\" id=\"DejaVuSans-49\"/>\r\n       </defs>\r\n       <use xlink:href=\"#DejaVuSans-49\"/>\r\n       <use x=\"63.623047\" xlink:href=\"#DejaVuSans-48\"/>\r\n       <use x=\"127.246094\" xlink:href=\"#DejaVuSans-48\"/>\r\n       <use x=\"190.869141\" xlink:href=\"#DejaVuSans-48\"/>\r\n       <use x=\"254.492188\" xlink:href=\"#DejaVuSans-48\"/>\r\n      </g>\r\n     </g>\r\n    </g>\r\n    <g id=\"text_7\">\r\n     <!-- UnitPrice -->\r\n     <g transform=\"translate(365.753125 470.356562)scale(0.1 -0.1)\">\r\n      <defs>\r\n       <path d=\"M 8.6875 72.90625 \r\nL 18.609375 72.90625 \r\nL 18.609375 28.609375 \r\nQ 18.609375 16.890625 22.84375 11.734375 \r\nQ 27.09375 6.59375 36.625 6.59375 \r\nQ 46.09375 6.59375 50.34375 11.734375 \r\nQ 54.59375 16.890625 54.59375 28.609375 \r\nL 54.59375 72.90625 \r\nL 64.5 72.90625 \r\nL 64.5 27.390625 \r\nQ 64.5 13.140625 57.4375 5.859375 \r\nQ 50.390625 -1.421875 36.625 -1.421875 \r\nQ 22.796875 -1.421875 15.734375 5.859375 \r\nQ 8.6875 13.140625 8.6875 27.390625 \r\nz\r\n\" id=\"DejaVuSans-85\"/>\r\n       <path d=\"M 54.890625 33.015625 \r\nL 54.890625 0 \r\nL 45.90625 0 \r\nL 45.90625 32.71875 \r\nQ 45.90625 40.484375 42.875 44.328125 \r\nQ 39.84375 48.1875 33.796875 48.1875 \r\nQ 26.515625 48.1875 22.3125 43.546875 \r\nQ 18.109375 38.921875 18.109375 30.90625 \r\nL 18.109375 0 \r\nL 9.078125 0 \r\nL 9.078125 54.6875 \r\nL 18.109375 54.6875 \r\nL 18.109375 46.1875 \r\nQ 21.34375 51.125 25.703125 53.5625 \r\nQ 30.078125 56 35.796875 56 \r\nQ 45.21875 56 50.046875 50.171875 \r\nQ 54.890625 44.34375 54.890625 33.015625 \r\nz\r\n\" id=\"DejaVuSans-110\"/>\r\n       <path d=\"M 9.421875 54.6875 \r\nL 18.40625 54.6875 \r\nL 18.40625 0 \r\nL 9.421875 0 \r\nz\r\nM 9.421875 75.984375 \r\nL 18.40625 75.984375 \r\nL 18.40625 64.59375 \r\nL 9.421875 64.59375 \r\nz\r\n\" id=\"DejaVuSans-105\"/>\r\n       <path d=\"M 18.3125 70.21875 \r\nL 18.3125 54.6875 \r\nL 36.8125 54.6875 \r\nL 36.8125 47.703125 \r\nL 18.3125 47.703125 \r\nL 18.3125 18.015625 \r\nQ 18.3125 11.328125 20.140625 9.421875 \r\nQ 21.96875 7.515625 27.59375 7.515625 \r\nL 36.8125 7.515625 \r\nL 36.8125 0 \r\nL 27.59375 0 \r\nQ 17.1875 0 13.234375 3.875 \r\nQ 9.28125 7.765625 9.28125 18.015625 \r\nL 9.28125 47.703125 \r\nL 2.6875 47.703125 \r\nL 2.6875 54.6875 \r\nL 9.28125 54.6875 \r\nL 9.28125 70.21875 \r\nz\r\n\" id=\"DejaVuSans-116\"/>\r\n       <path d=\"M 19.671875 64.796875 \r\nL 19.671875 37.40625 \r\nL 32.078125 37.40625 \r\nQ 38.96875 37.40625 42.71875 40.96875 \r\nQ 46.484375 44.53125 46.484375 51.125 \r\nQ 46.484375 57.671875 42.71875 61.234375 \r\nQ 38.96875 64.796875 32.078125 64.796875 \r\nz\r\nM 9.8125 72.90625 \r\nL 32.078125 72.90625 \r\nQ 44.34375 72.90625 50.609375 67.359375 \r\nQ 56.890625 61.8125 56.890625 51.125 \r\nQ 56.890625 40.328125 50.609375 34.8125 \r\nQ 44.34375 29.296875 32.078125 29.296875 \r\nL 19.671875 29.296875 \r\nL 19.671875 0 \r\nL 9.8125 0 \r\nz\r\n\" id=\"DejaVuSans-80\"/>\r\n       <path d=\"M 41.109375 46.296875 \r\nQ 39.59375 47.171875 37.8125 47.578125 \r\nQ 36.03125 48 33.890625 48 \r\nQ 26.265625 48 22.1875 43.046875 \r\nQ 18.109375 38.09375 18.109375 28.8125 \r\nL 18.109375 0 \r\nL 9.078125 0 \r\nL 9.078125 54.6875 \r\nL 18.109375 54.6875 \r\nL 18.109375 46.1875 \r\nQ 20.953125 51.171875 25.484375 53.578125 \r\nQ 30.03125 56 36.53125 56 \r\nQ 37.453125 56 38.578125 55.875 \r\nQ 39.703125 55.765625 41.0625 55.515625 \r\nz\r\n\" id=\"DejaVuSans-114\"/>\r\n       <path d=\"M 48.78125 52.59375 \r\nL 48.78125 44.1875 \r\nQ 44.96875 46.296875 41.140625 47.34375 \r\nQ 37.3125 48.390625 33.40625 48.390625 \r\nQ 24.65625 48.390625 19.8125 42.84375 \r\nQ 14.984375 37.3125 14.984375 27.296875 \r\nQ 14.984375 17.28125 19.8125 11.734375 \r\nQ 24.65625 6.203125 33.40625 6.203125 \r\nQ 37.3125 6.203125 41.140625 7.25 \r\nQ 44.96875 8.296875 48.78125 10.40625 \r\nL 48.78125 2.09375 \r\nQ 45.015625 0.34375 40.984375 -0.53125 \r\nQ 36.96875 -1.421875 32.421875 -1.421875 \r\nQ 20.0625 -1.421875 12.78125 6.34375 \r\nQ 5.515625 14.109375 5.515625 27.296875 \r\nQ 5.515625 40.671875 12.859375 48.328125 \r\nQ 20.21875 56 33.015625 56 \r\nQ 37.15625 56 41.109375 55.140625 \r\nQ 45.0625 54.296875 48.78125 52.59375 \r\nz\r\n\" id=\"DejaVuSans-99\"/>\r\n       <path d=\"M 56.203125 29.59375 \r\nL 56.203125 25.203125 \r\nL 14.890625 25.203125 \r\nQ 15.484375 15.921875 20.484375 11.0625 \r\nQ 25.484375 6.203125 34.421875 6.203125 \r\nQ 39.59375 6.203125 44.453125 7.46875 \r\nQ 49.3125 8.734375 54.109375 11.28125 \r\nL 54.109375 2.78125 \r\nQ 49.265625 0.734375 44.1875 -0.34375 \r\nQ 39.109375 -1.421875 33.890625 -1.421875 \r\nQ 20.796875 -1.421875 13.15625 6.1875 \r\nQ 5.515625 13.8125 5.515625 26.8125 \r\nQ 5.515625 40.234375 12.765625 48.109375 \r\nQ 20.015625 56 32.328125 56 \r\nQ 43.359375 56 49.78125 48.890625 \r\nQ 56.203125 41.796875 56.203125 29.59375 \r\nz\r\nM 47.21875 32.234375 \r\nQ 47.125 39.59375 43.09375 43.984375 \r\nQ 39.0625 48.390625 32.421875 48.390625 \r\nQ 24.90625 48.390625 20.390625 44.140625 \r\nQ 15.875 39.890625 15.1875 32.171875 \r\nz\r\n\" id=\"DejaVuSans-101\"/>\r\n      </defs>\r\n      <use xlink:href=\"#DejaVuSans-85\"/>\r\n      <use x=\"73.193359\" xlink:href=\"#DejaVuSans-110\"/>\r\n      <use x=\"136.572266\" xlink:href=\"#DejaVuSans-105\"/>\r\n      <use x=\"164.355469\" xlink:href=\"#DejaVuSans-116\"/>\r\n      <use x=\"203.564453\" xlink:href=\"#DejaVuSans-80\"/>\r\n      <use x=\"262.117188\" xlink:href=\"#DejaVuSans-114\"/>\r\n      <use x=\"303.230469\" xlink:href=\"#DejaVuSans-105\"/>\r\n      <use x=\"331.013672\" xlink:href=\"#DejaVuSans-99\"/>\r\n      <use x=\"385.994141\" xlink:href=\"#DejaVuSans-101\"/>\r\n     </g>\r\n    </g>\r\n   </g>\r\n   <g id=\"matplotlib.axis_2\">\r\n    <g id=\"ytick_1\">\r\n     <g id=\"line2d_7\">\r\n      <defs>\r\n       <path d=\"M 0 0 \r\nL -3.5 0 \r\n\" id=\"m76013ef929\" style=\"stroke:#000000;stroke-width:0.8;\"/>\r\n      </defs>\r\n      <g>\r\n       <use style=\"stroke:#000000;stroke-width:0.8;\" x=\"53.328125\" xlink:href=\"#m76013ef929\" y=\"442.08\"/>\r\n      </g>\r\n     </g>\r\n     <g id=\"text_8\">\r\n      <!-- 0 -->\r\n      <g transform=\"translate(39.965625 445.879219)scale(0.1 -0.1)\">\r\n       <use xlink:href=\"#DejaVuSans-48\"/>\r\n      </g>\r\n     </g>\r\n    </g>\r\n    <g id=\"ytick_2\">\r\n     <g id=\"line2d_8\">\r\n      <g>\r\n       <use style=\"stroke:#000000;stroke-width:0.8;\" x=\"53.328125\" xlink:href=\"#m76013ef929\" y=\"376.670741\"/>\r\n      </g>\r\n     </g>\r\n     <g id=\"text_9\">\r\n      <!-- 500 -->\r\n      <g transform=\"translate(27.240625 380.46996)scale(0.1 -0.1)\">\r\n       <defs>\r\n        <path d=\"M 10.796875 72.90625 \r\nL 49.515625 72.90625 \r\nL 49.515625 64.59375 \r\nL 19.828125 64.59375 \r\nL 19.828125 46.734375 \r\nQ 21.96875 47.46875 24.109375 47.828125 \r\nQ 26.265625 48.1875 28.421875 48.1875 \r\nQ 40.625 48.1875 47.75 41.5 \r\nQ 54.890625 34.8125 54.890625 23.390625 \r\nQ 54.890625 11.625 47.5625 5.09375 \r\nQ 40.234375 -1.421875 26.90625 -1.421875 \r\nQ 22.3125 -1.421875 17.546875 -0.640625 \r\nQ 12.796875 0.140625 7.71875 1.703125 \r\nL 7.71875 11.625 \r\nQ 12.109375 9.234375 16.796875 8.0625 \r\nQ 21.484375 6.890625 26.703125 6.890625 \r\nQ 35.15625 6.890625 40.078125 11.328125 \r\nQ 45.015625 15.765625 45.015625 23.390625 \r\nQ 45.015625 31 40.078125 35.4375 \r\nQ 35.15625 39.890625 26.703125 39.890625 \r\nQ 22.75 39.890625 18.8125 39.015625 \r\nQ 14.890625 38.140625 10.796875 36.28125 \r\nz\r\n\" id=\"DejaVuSans-53\"/>\r\n       </defs>\r\n       <use xlink:href=\"#DejaVuSans-53\"/>\r\n       <use x=\"63.623047\" xlink:href=\"#DejaVuSans-48\"/>\r\n       <use x=\"127.246094\" xlink:href=\"#DejaVuSans-48\"/>\r\n      </g>\r\n     </g>\r\n    </g>\r\n    <g id=\"ytick_3\">\r\n     <g id=\"line2d_9\">\r\n      <g>\r\n       <use style=\"stroke:#000000;stroke-width:0.8;\" x=\"53.328125\" xlink:href=\"#m76013ef929\" y=\"311.261482\"/>\r\n      </g>\r\n     </g>\r\n     <g id=\"text_10\">\r\n      <!-- 1000 -->\r\n      <g transform=\"translate(20.878125 315.060701)scale(0.1 -0.1)\">\r\n       <use xlink:href=\"#DejaVuSans-49\"/>\r\n       <use x=\"63.623047\" xlink:href=\"#DejaVuSans-48\"/>\r\n       <use x=\"127.246094\" xlink:href=\"#DejaVuSans-48\"/>\r\n       <use x=\"190.869141\" xlink:href=\"#DejaVuSans-48\"/>\r\n      </g>\r\n     </g>\r\n    </g>\r\n    <g id=\"ytick_4\">\r\n     <g id=\"line2d_10\">\r\n      <g>\r\n       <use style=\"stroke:#000000;stroke-width:0.8;\" x=\"53.328125\" xlink:href=\"#m76013ef929\" y=\"245.852223\"/>\r\n      </g>\r\n     </g>\r\n     <g id=\"text_11\">\r\n      <!-- 1500 -->\r\n      <g transform=\"translate(20.878125 249.651441)scale(0.1 -0.1)\">\r\n       <use xlink:href=\"#DejaVuSans-49\"/>\r\n       <use x=\"63.623047\" xlink:href=\"#DejaVuSans-53\"/>\r\n       <use x=\"127.246094\" xlink:href=\"#DejaVuSans-48\"/>\r\n       <use x=\"190.869141\" xlink:href=\"#DejaVuSans-48\"/>\r\n      </g>\r\n     </g>\r\n    </g>\r\n    <g id=\"ytick_5\">\r\n     <g id=\"line2d_11\">\r\n      <g>\r\n       <use style=\"stroke:#000000;stroke-width:0.8;\" x=\"53.328125\" xlink:href=\"#m76013ef929\" y=\"180.442964\"/>\r\n      </g>\r\n     </g>\r\n     <g id=\"text_12\">\r\n      <!-- 2000 -->\r\n      <g transform=\"translate(20.878125 184.242182)scale(0.1 -0.1)\">\r\n       <use xlink:href=\"#DejaVuSans-50\"/>\r\n       <use x=\"63.623047\" xlink:href=\"#DejaVuSans-48\"/>\r\n       <use x=\"127.246094\" xlink:href=\"#DejaVuSans-48\"/>\r\n       <use x=\"190.869141\" xlink:href=\"#DejaVuSans-48\"/>\r\n      </g>\r\n     </g>\r\n    </g>\r\n    <g id=\"ytick_6\">\r\n     <g id=\"line2d_12\">\r\n      <g>\r\n       <use style=\"stroke:#000000;stroke-width:0.8;\" x=\"53.328125\" xlink:href=\"#m76013ef929\" y=\"115.033705\"/>\r\n      </g>\r\n     </g>\r\n     <g id=\"text_13\">\r\n      <!-- 2500 -->\r\n      <g transform=\"translate(20.878125 118.832923)scale(0.1 -0.1)\">\r\n       <use xlink:href=\"#DejaVuSans-50\"/>\r\n       <use x=\"63.623047\" xlink:href=\"#DejaVuSans-53\"/>\r\n       <use x=\"127.246094\" xlink:href=\"#DejaVuSans-48\"/>\r\n       <use x=\"190.869141\" xlink:href=\"#DejaVuSans-48\"/>\r\n      </g>\r\n     </g>\r\n    </g>\r\n    <g id=\"ytick_7\">\r\n     <g id=\"line2d_13\">\r\n      <g>\r\n       <use style=\"stroke:#000000;stroke-width:0.8;\" x=\"53.328125\" xlink:href=\"#m76013ef929\" y=\"49.624445\"/>\r\n      </g>\r\n     </g>\r\n     <g id=\"text_14\">\r\n      <!-- 3000 -->\r\n      <g transform=\"translate(20.878125 53.423664)scale(0.1 -0.1)\">\r\n       <defs>\r\n        <path d=\"M 40.578125 39.3125 \r\nQ 47.65625 37.796875 51.625 33 \r\nQ 55.609375 28.21875 55.609375 21.1875 \r\nQ 55.609375 10.40625 48.1875 4.484375 \r\nQ 40.765625 -1.421875 27.09375 -1.421875 \r\nQ 22.515625 -1.421875 17.65625 -0.515625 \r\nQ 12.796875 0.390625 7.625 2.203125 \r\nL 7.625 11.71875 \r\nQ 11.71875 9.328125 16.59375 8.109375 \r\nQ 21.484375 6.890625 26.8125 6.890625 \r\nQ 36.078125 6.890625 40.9375 10.546875 \r\nQ 45.796875 14.203125 45.796875 21.1875 \r\nQ 45.796875 27.640625 41.28125 31.265625 \r\nQ 36.765625 34.90625 28.71875 34.90625 \r\nL 20.21875 34.90625 \r\nL 20.21875 43.015625 \r\nL 29.109375 43.015625 \r\nQ 36.375 43.015625 40.234375 45.921875 \r\nQ 44.09375 48.828125 44.09375 54.296875 \r\nQ 44.09375 59.90625 40.109375 62.90625 \r\nQ 36.140625 65.921875 28.71875 65.921875 \r\nQ 24.65625 65.921875 20.015625 65.03125 \r\nQ 15.375 64.15625 9.8125 62.3125 \r\nL 9.8125 71.09375 \r\nQ 15.4375 72.65625 20.34375 73.4375 \r\nQ 25.25 74.21875 29.59375 74.21875 \r\nQ 40.828125 74.21875 47.359375 69.109375 \r\nQ 53.90625 64.015625 53.90625 55.328125 \r\nQ 53.90625 49.265625 50.4375 45.09375 \r\nQ 46.96875 40.921875 40.578125 39.3125 \r\nz\r\n\" id=\"DejaVuSans-51\"/>\r\n       </defs>\r\n       <use xlink:href=\"#DejaVuSans-51\"/>\r\n       <use x=\"63.623047\" xlink:href=\"#DejaVuSans-48\"/>\r\n       <use x=\"127.246094\" xlink:href=\"#DejaVuSans-48\"/>\r\n       <use x=\"190.869141\" xlink:href=\"#DejaVuSans-48\"/>\r\n      </g>\r\n     </g>\r\n    </g>\r\n    <g id=\"text_15\">\r\n     <!-- Count -->\r\n     <g transform=\"translate(14.798438 239.488437)rotate(-90)scale(0.1 -0.1)\">\r\n      <defs>\r\n       <path d=\"M 64.40625 67.28125 \r\nL 64.40625 56.890625 \r\nQ 59.421875 61.53125 53.78125 63.8125 \r\nQ 48.140625 66.109375 41.796875 66.109375 \r\nQ 29.296875 66.109375 22.65625 58.46875 \r\nQ 16.015625 50.828125 16.015625 36.375 \r\nQ 16.015625 21.96875 22.65625 14.328125 \r\nQ 29.296875 6.6875 41.796875 6.6875 \r\nQ 48.140625 6.6875 53.78125 8.984375 \r\nQ 59.421875 11.28125 64.40625 15.921875 \r\nL 64.40625 5.609375 \r\nQ 59.234375 2.09375 53.4375 0.328125 \r\nQ 47.65625 -1.421875 41.21875 -1.421875 \r\nQ 24.65625 -1.421875 15.125 8.703125 \r\nQ 5.609375 18.84375 5.609375 36.375 \r\nQ 5.609375 53.953125 15.125 64.078125 \r\nQ 24.65625 74.21875 41.21875 74.21875 \r\nQ 47.75 74.21875 53.53125 72.484375 \r\nQ 59.328125 70.75 64.40625 67.28125 \r\nz\r\n\" id=\"DejaVuSans-67\"/>\r\n       <path d=\"M 30.609375 48.390625 \r\nQ 23.390625 48.390625 19.1875 42.75 \r\nQ 14.984375 37.109375 14.984375 27.296875 \r\nQ 14.984375 17.484375 19.15625 11.84375 \r\nQ 23.34375 6.203125 30.609375 6.203125 \r\nQ 37.796875 6.203125 41.984375 11.859375 \r\nQ 46.1875 17.53125 46.1875 27.296875 \r\nQ 46.1875 37.015625 41.984375 42.703125 \r\nQ 37.796875 48.390625 30.609375 48.390625 \r\nz\r\nM 30.609375 56 \r\nQ 42.328125 56 49.015625 48.375 \r\nQ 55.71875 40.765625 55.71875 27.296875 \r\nQ 55.71875 13.875 49.015625 6.21875 \r\nQ 42.328125 -1.421875 30.609375 -1.421875 \r\nQ 18.84375 -1.421875 12.171875 6.21875 \r\nQ 5.515625 13.875 5.515625 27.296875 \r\nQ 5.515625 40.765625 12.171875 48.375 \r\nQ 18.84375 56 30.609375 56 \r\nz\r\n\" id=\"DejaVuSans-111\"/>\r\n       <path d=\"M 8.5 21.578125 \r\nL 8.5 54.6875 \r\nL 17.484375 54.6875 \r\nL 17.484375 21.921875 \r\nQ 17.484375 14.15625 20.5 10.265625 \r\nQ 23.53125 6.390625 29.59375 6.390625 \r\nQ 36.859375 6.390625 41.078125 11.03125 \r\nQ 45.3125 15.671875 45.3125 23.6875 \r\nL 45.3125 54.6875 \r\nL 54.296875 54.6875 \r\nL 54.296875 0 \r\nL 45.3125 0 \r\nL 45.3125 8.40625 \r\nQ 42.046875 3.421875 37.71875 1 \r\nQ 33.40625 -1.421875 27.6875 -1.421875 \r\nQ 18.265625 -1.421875 13.375 4.4375 \r\nQ 8.5 10.296875 8.5 21.578125 \r\nz\r\nM 31.109375 56 \r\nz\r\n\" id=\"DejaVuSans-117\"/>\r\n      </defs>\r\n      <use xlink:href=\"#DejaVuSans-67\"/>\r\n      <use x=\"69.824219\" xlink:href=\"#DejaVuSans-111\"/>\r\n      <use x=\"131.005859\" xlink:href=\"#DejaVuSans-117\"/>\r\n      <use x=\"194.384766\" xlink:href=\"#DejaVuSans-110\"/>\r\n      <use x=\"257.763672\" xlink:href=\"#DejaVuSans-116\"/>\r\n     </g>\r\n    </g>\r\n   </g>\r\n   <g id=\"line2d_14\">\r\n    <path clip-path=\"url(#pafde85e837)\" d=\"M 53.328125 261.723157 \r\nL 67.250532 246.03612 \r\nL 81.17294 314.826581 \r\nL 95.095347 380.706539 \r\nL 109.017754 412.510062 \r\nL 122.940162 425.688384 \r\nL 136.862569 432.10697 \r\nL 150.784976 435.812548 \r\nL 164.707384 438.020392 \r\nL 178.629791 439.283153 \r\nL 192.552198 440.018858 \r\nL 220.397013 440.998055 \r\nL 234.31942 441.424769 \r\nL 248.241827 441.693711 \r\nL 276.086642 441.771452 \r\nL 387.465901 441.92723 \r\nL 415.310715 441.942373 \r\nL 443.15553 442.007009 \r\nL 484.922752 441.968907 \r\nL 540.612381 442.071135 \r\nL 596.302011 441.959401 \r\nL 638.069232 442.078997 \r\nL 747.034375 442.08 \r\nL 747.034375 442.08 \r\n\" style=\"fill:none;stroke:#1f77b4;stroke-linecap:square;stroke-width:1.5;\"/>\r\n   </g>\r\n   <g id=\"patch_153\">\r\n    <path d=\"M 53.328125 442.08 \r\nL 53.328125 7.2 \r\n\" style=\"fill:none;stroke:#000000;stroke-linecap:square;stroke-linejoin:miter;stroke-width:0.8;\"/>\r\n   </g>\r\n   <g id=\"patch_154\">\r\n    <path d=\"M 722.928125 442.08 \r\nL 722.928125 7.2 \r\n\" style=\"fill:none;stroke:#000000;stroke-linecap:square;stroke-linejoin:miter;stroke-width:0.8;\"/>\r\n   </g>\r\n   <g id=\"patch_155\">\r\n    <path d=\"M 53.328125 442.08 \r\nL 722.928125 442.08 \r\n\" style=\"fill:none;stroke:#000000;stroke-linecap:square;stroke-linejoin:miter;stroke-width:0.8;\"/>\r\n   </g>\r\n   <g id=\"patch_156\">\r\n    <path d=\"M 53.328125 7.2 \r\nL 722.928125 7.2 \r\n\" style=\"fill:none;stroke:#000000;stroke-linecap:square;stroke-linejoin:miter;stroke-width:0.8;\"/>\r\n   </g>\r\n  </g>\r\n </g>\r\n <defs>\r\n  <clipPath id=\"pafde85e837\">\r\n   <rect height=\"434.88\" width=\"669.6\" x=\"53.328125\" y=\"7.2\"/>\r\n  </clipPath>\r\n </defs>\r\n</svg>\r\n",
            "image/png": "[encoded data removed]"
          },
          "metadata": {
            "needs_background": "light"
          }
        }
      ],
      "metadata": {
        "id": "Sd41fD67iqbB"
      }
    },
    {
      "cell_type": "markdown",
      "source": [
        "### vi. Create RFM Table\n",
        "Merge the recency, frequency and motetary dataframes"
      ],
      "metadata": {
        "id": "SeaecPkSQGWj"
      }
    },
    {
      "cell_type": "code",
      "execution_count": null,
      "source": [],
      "outputs": [],
      "metadata": {
        "id": "M88KNSbyiqbB"
      }
    },
    {
      "cell_type": "markdown",
      "source": [
        "# 3. Customer Segmentation with RFM Scores"
      ],
      "metadata": {
        "id": "ULWwsxCkQGWl"
      }
    },
    {
      "cell_type": "markdown",
      "source": [
        "Businesses have this ever-lasting urge to understand their customers. The better you understand the customer, the better you serve them, and the higher the financial gain you receive from that customer. Since the dawn of trade, this process of understanding customers for a strategic gain has been there practiced and this task is known majorly as [Customer Segmentation](https://clevertap.com/blog/rfm-analysis/).\n",
        "Well as the name suggests, Customer Segmentation could segment customers according to their precise needs. Some of the common ways of segmenting customers are based on their Recency-Frequency-Monatory values, their demographics like gender, region, country, etc, and some of their business-crafted scores. You will use Recency-Frequency-Monatory values for this case.\n",
        "\n",
        "In this section, you will create an RFM Segmentation Table where you segment your customers by using the RFM table. For example, you can label the best customer as \"Big Spenders\" and the lost customer as \"Lost Customer\"."
      ],
      "metadata": {
        "id": "TZrxUBX4iqbB"
      }
    },
    {
      "cell_type": "markdown",
      "source": [
        "## Calculate RFM Scoring\n",
        "\n",
        "The simplest way to create customer segments from an RFM model is by using **Quartiles**. We will assign a score from 1 to 4 to each category (Recency, Frequency, and Monetary) with 4 being the highest/best value. The final RFM score is calculated by combining all RFM values. For Customer Segmentation, you will use the df_rfm data set resulting from the RFM analysis.\n",
        "<br>\n",
        "<br>\n",
        "**Note**: Data can be assigned into more groups for better granularity, but we will use 4 in this case."
      ],
      "metadata": {
        "id": "anOsOGpfQGWl"
      }
    },
    {
      "cell_type": "markdown",
      "source": [
        "1. Divide the df_rfm into quarters"
      ],
      "metadata": {
        "id": "WiwXSsP7iqbB"
      }
    },
    {
      "cell_type": "code",
      "execution_count": null,
      "source": [],
      "outputs": [],
      "metadata": {
        "id": "mFQJGPYHiqbC"
      }
    },
    {
      "cell_type": "markdown",
      "source": [
        "### i. Creating the RFM Segmentation Table\n"
      ],
      "metadata": {
        "id": "KnkzCAf9QGWo"
      }
    },
    {
      "cell_type": "markdown",
      "source": [
        "1. Create two functions, one for Recency and one for Frequency and Monetary. For Recency, customers in the first quarter should be scored as 4, this represents the highest Recency value. Conversely, for Frequency and Monetary, customers in the last quarter should be scored as 4, representing the highest Frequency and Monetary values."
      ],
      "metadata": {
        "id": "hLIB-z-_iqbC"
      }
    },
    {
      "cell_type": "code",
      "execution_count": null,
      "source": [],
      "outputs": [],
      "metadata": {
        "id": "SXnW03R8iqbC"
      }
    },
    {
      "cell_type": "markdown",
      "source": [
        "2. Score customers from 1 to 4 by applying the functions you have created. Also create separate score column for each value. "
      ],
      "metadata": {
        "id": "tLDK_XeLiqbC"
      }
    },
    {
      "cell_type": "code",
      "execution_count": null,
      "source": [],
      "outputs": [],
      "metadata": {
        "id": "plReZMcQiqbC"
      }
    },
    {
      "cell_type": "markdown",
      "source": [
        "3. Now that scored each customer, you'll combine the scores for segmentation."
      ],
      "metadata": {
        "id": "JskteCFdQGWq"
      }
    },
    {
      "cell_type": "code",
      "execution_count": null,
      "source": [],
      "outputs": [],
      "metadata": {
        "id": "ZYfoHF6QiqbC"
      }
    },
    {
      "cell_type": "markdown",
      "source": [
        "4. Define rfm_level function that tags customers by using RFM_Scrores and Create a new variable RFM_Level"
      ],
      "metadata": {
        "id": "uWwWeyjPiqbC"
      }
    },
    {
      "cell_type": "code",
      "execution_count": null,
      "source": [],
      "outputs": [],
      "metadata": {
        "id": "mxXk7jFPiqbD"
      }
    },
    {
      "cell_type": "markdown",
      "source": [
        "5. Calculate average values for each RFM_Level, and return a size of each segment "
      ],
      "metadata": {
        "id": "Lq36PiX3iqbD"
      }
    },
    {
      "cell_type": "code",
      "execution_count": null,
      "source": [],
      "outputs": [],
      "metadata": {
        "id": "jn5r5P2WiqbD"
      }
    },
    {
      "cell_type": "markdown",
      "source": [
        "## Plot RFM Segments"
      ],
      "metadata": {
        "id": "tuZ5Olo4iqbD"
      }
    },
    {
      "cell_type": "markdown",
      "source": [
        "1. Create your plot and resize it."
      ],
      "metadata": {
        "id": "STfELckwiqbD"
      }
    },
    {
      "cell_type": "code",
      "execution_count": null,
      "source": [],
      "outputs": [],
      "metadata": {
        "id": "Oef37q3diqbD"
      }
    },
    {
      "cell_type": "markdown",
      "source": [
        "Using customer segmentation categories found [here](http://www.blastam.com/blog/rfm-analysis-boosts-sales) we can formulate different marketing strategies and approaches for customer engagement for each type of customer.\n",
        "\n",
        "Note: The author in the article scores 1 as the highest and 4 as the lowest"
      ],
      "metadata": {
        "id": "FhOe2bb6QGWu"
      }
    },
    {
      "cell_type": "markdown",
      "source": [
        "2. How many customers do we have in each segment?"
      ],
      "metadata": {
        "id": "Te_6gUR5iqbD"
      }
    },
    {
      "cell_type": "code",
      "execution_count": null,
      "source": [],
      "outputs": [],
      "metadata": {
        "id": "Gs4rP-0viqbD"
      }
    },
    {
      "cell_type": "markdown",
      "source": [
        "# 3. Applying K-Means Clustering"
      ],
      "metadata": {
        "id": "1RwemvLyQGWv"
      }
    },
    {
      "cell_type": "markdown",
      "source": [
        "Now that we have our customers segmented into 6 different categories, we can gain further insight into customer behavior by using predictive models in conjuction with out RFM model.\n",
        "Possible algorithms include **Logistic Regression**, **K-means Clustering**, and **K-nearest Neighbor**. We will go with [K-Means](https://towardsdatascience.com/understanding-k-means-clustering-in-machine-learning-6a6e67336aa1) since we already have our distinct groups determined. K-means has also been widely used for market segmentation and has the advantage of being simple to implement."
      ],
      "metadata": {
        "id": "h6WZ0PnZQGWv"
      }
    },
    {
      "cell_type": "markdown",
      "source": [
        "## Data Pre-Processing and Exploring"
      ],
      "metadata": {
        "id": "IrWIRLkMiqbE"
      }
    },
    {
      "cell_type": "code",
      "execution_count": null,
      "source": [],
      "outputs": [],
      "metadata": {
        "id": "cLoRGR6NiqbE"
      }
    },
    {
      "cell_type": "markdown",
      "source": [
        "### i. Define and Plot Feature Correlations"
      ],
      "metadata": {
        "id": "-6SGV0xoQGWw"
      }
    },
    {
      "cell_type": "markdown",
      "source": [
        "Create Heatmap and evaluate the results "
      ],
      "metadata": {
        "id": "JpMAiWNBiqbE"
      }
    },
    {
      "cell_type": "code",
      "execution_count": null,
      "source": [],
      "outputs": [],
      "metadata": {
        "id": "I6Cv8_EqiqbE"
      }
    },
    {
      "cell_type": "markdown",
      "source": [
        "### ii. Visualize Feature Distributions\n",
        "\n",
        "To get a better understanding of the dataset, you can costruct a scatter matrix of each of the three features in the RFM data."
      ],
      "metadata": {
        "id": "8WhL5MBEQGWy"
      }
    },
    {
      "cell_type": "code",
      "execution_count": null,
      "source": [],
      "outputs": [],
      "metadata": {
        "id": "FHE0Vb0KiqbE"
      }
    },
    {
      "cell_type": "markdown",
      "source": [
        "### iii. Data Normalization"
      ],
      "metadata": {
        "id": "Q2RsjzjbQGWz"
      }
    },
    {
      "cell_type": "markdown",
      "source": [
        "1. You can use the logarithm method to normalize the values in a column."
      ],
      "metadata": {
        "id": "hXsrPpegiqbF"
      }
    },
    {
      "cell_type": "code",
      "execution_count": null,
      "source": [],
      "outputs": [],
      "metadata": {
        "id": "b-cBU8jxiqbF"
      }
    },
    {
      "cell_type": "markdown",
      "source": [
        "2. Plot normalized data with scatter matrix or pairplot. Also evaluate results."
      ],
      "metadata": {
        "id": "fC6dHnqKiqbF"
      }
    },
    {
      "cell_type": "code",
      "execution_count": null,
      "source": [],
      "outputs": [],
      "metadata": {
        "id": "iB9jDUPriqbF"
      }
    },
    {
      "cell_type": "markdown",
      "source": [
        "## K-Means Implementation\n",
        "\n",
        "For k-means, you have to set k to the number of clusters you want, but figuring out how many clusters is not obvious from the beginning. We will try different cluster numbers and check their [silhouette coefficient](http://scikit-learn.org/stable/auto_examples/cluster/plot_kmeans_silhouette_analysis.html). The silhouette coefficient for a data point measures how similar it is to its assigned cluster from -1 (dissimilar) to 1 (similar). \n",
        "<br>\n",
        "<br>\n",
        "**Note**: K-means is sensitive to initializations because they are critical to qualifty of optima found. Thus, we will use smart initialization called \"Elbow Method\"."
      ],
      "metadata": {
        "id": "35c0aDixQGW4"
      }
    },
    {
      "cell_type": "markdown",
      "source": [
        "### i. Define the Optimal Number of Clusters"
      ],
      "metadata": {
        "id": "JloMSEeriqbF"
      }
    },
    {
      "cell_type": "markdown",
      "source": [
        "[The Elbow Method](https://en.wikipedia.org/wiki/Elbow_method_(clustering) "
      ],
      "metadata": {
        "id": "McFq6IWZt5hg"
      }
    },
    {
      "cell_type": "code",
      "execution_count": null,
      "source": [],
      "outputs": [],
      "metadata": {
        "id": "2202eo2riqbF"
      }
    },
    {
      "cell_type": "markdown",
      "source": [
        "[Silhouette Coefficient](http://scikit-learn.org/stable/auto_examples/cluster/plot_kmeans_silhouette_analysis.html)"
      ],
      "metadata": {
        "id": "ACT_d0UpwUSC"
      }
    },
    {
      "cell_type": "code",
      "execution_count": null,
      "source": [],
      "outputs": [],
      "metadata": {
        "id": "qS4TLbRniqbG"
      }
    },
    {
      "cell_type": "markdown",
      "source": [
        "### ii. Model Fitting"
      ],
      "metadata": {
        "id": "o6dW2MWZiqbG"
      }
    },
    {
      "cell_type": "markdown",
      "source": [
        "Fit the K-Means Algorithm with the optimal number of clusters you decided and save the model to disk."
      ],
      "metadata": {
        "id": "cXM5ksoPiqbG"
      }
    },
    {
      "cell_type": "code",
      "execution_count": null,
      "source": [],
      "outputs": [],
      "metadata": {
        "id": "geMuViLniqbG"
      }
    },
    {
      "cell_type": "markdown",
      "source": [
        "### iii. Visualize the Clusters"
      ],
      "metadata": {
        "id": "GqcSwNZTQGW7"
      }
    },
    {
      "cell_type": "markdown",
      "source": [
        "1. Create a scatter plot and select cluster centers"
      ],
      "metadata": {
        "id": "Cfx5kzPriqbG"
      }
    },
    {
      "cell_type": "code",
      "execution_count": null,
      "source": [],
      "outputs": [],
      "metadata": {
        "id": "cyrovJB0iqbH"
      }
    },
    {
      "cell_type": "markdown",
      "source": [
        "2. Visualize Cluster Id vs Recency, Cluster Id vs Frequency and Cluster Id vs Monetary using Box plot. Also evaluate the results. "
      ],
      "metadata": {
        "id": "D4sHOvlniqbH"
      }
    },
    {
      "cell_type": "code",
      "execution_count": null,
      "source": [],
      "outputs": [],
      "metadata": {
        "id": "lzPl-LXViqbH"
      }
    },
    {
      "cell_type": "markdown",
      "source": [
        "### iv. Assign the Label"
      ],
      "metadata": {
        "id": "yRyku5qJiqbH"
      }
    },
    {
      "cell_type": "code",
      "execution_count": null,
      "source": [],
      "outputs": [],
      "metadata": {
        "id": "gVrkisf9iqbH"
      }
    },
    {
      "cell_type": "markdown",
      "source": [
        "**Conclusion**\n",
        "\n",
        "- Cluster 0 : The first cluster belongs to the \"Best Customers\" segment which we saw earlier as they purchase recently (R=4), frequent buyers (F=4), and spent the most (M=4)\n",
        "\n",
        "- Cluster 1 : Second cluster can be interpreted as passer customers as their last purchase is long ago (R<=1),purchased very few (F>=2 & F < 4) and spent little (M>=4 & M < 4).Company has to come up with new strategies to make them permanent members. Low value customers\n",
        "- Cluster 2 : The third cluster is more related to the \"Almost Lost\" segment as they Haven’t purchased for some time(R=1), but used to purchase frequently and spent a lot."
      ],
      "metadata": {
        "id": "_DiG6sxS4gWH"
      }
    },
    {
      "cell_type": "markdown",
      "source": [
        "### v. Conclusion\n",
        "\n",
        "Discuss your final results. Compare your own labels from the Customer Segmentation with the labels found by K-Means."
      ],
      "metadata": {
        "id": "lf4OsPmSQGXA"
      }
    },
    {
      "cell_type": "markdown",
      "source": [
        "How we want to continue this analysis depends on how the business plans to use the results and the level of granularity the business stakeholders want to see in the clusters. We can also ask what range of customer behavior from high to low value customers are the stakeholders interested in exploring. From those answers, various methods of clustering can be used and applied on RFM variable or directly on the transaction data set."
      ],
      "metadata": {
        "id": "UFaHgoLoQGXA"
      }
    },
    {
      "cell_type": "markdown",
      "source": [
        "**Annotation:**\n",
        "\n",
        "Limitations of K-means clustering:\n",
        "\n",
        "1. There is no assurance that it will lead to the global best solution.\n",
        "2. Can't deal with different shapes(not circular) and consider one point's probability of belonging to more than one cluster.\n",
        "\n",
        "These disadvantages of K-means show that for many datasets (especially low-dimensional datasets), it may not perform as well as you might hope."
      ],
      "metadata": {
        "id": "ysCkU1B-iqbI"
      }
    },
    {
      "cell_type": "markdown",
      "source": [
        "# 5. Create Cohort & Conduct Cohort Analysis\n",
        "[Cohort Analysis](https://medium.com/swlh/cohort-analysis-using-python-and-pandas-d2a60f4d0a4d) is specifically useful in analyzing user growth patterns for products. In terms of a product, a cohort can be a group of people with the same sign-up date, the same usage starts month/date, or the same traffic source.\n",
        "Cohort analysis is an analytics method by which these groups can be tracked over time for finding key insights. This analysis can further be used to do customer segmentation and track metrics like retention, churn, and lifetime value.\n",
        "\n",
        "For e-commerce organizations, cohort analysis is a unique opportunity to find out which clients are the most valuable to their business. by performing Cohort analysis you can get the following answers to the following questions:\n",
        "\n",
        "- How much effective was a marketing campaign held in a particular time period?\n",
        "- Did the strategy employ to improve the conversion rates of Customers worked?\n",
        "- Should I focus more on retention rather than acquiring new customers?\n",
        "- Are my customer nurturing strategies effective?\n",
        "- Which marketing channels bring me the best results?\n",
        "- Is there a seasonality pattern in Customer behavior?\n",
        "- Along with various performance measures/metrics for your organization."
      ],
      "metadata": {
        "id": "xiPd_IbnQGVn"
      }
    },
    {
      "cell_type": "markdown",
      "source": [
        "Since we will be performing Cohort Analysis based on transaction records of customers, the columns we will be dealing with mainly:\n",
        "- Invoice Data\n",
        "- CustomerID\n",
        "- Price\n",
        "- Quantity\n",
        "\n",
        "The following steps will performed to generate the Cohort Chart of Retention Rate:\n",
        "- Month Extraction from InvioceDate column\n",
        "- Assigning Cohort to Each Transaction\n",
        "- Assigning Cohort Index to each transaction\n",
        "- Calculating number of unique customers in each Group of (ChortDate,Index)\n",
        "- Creating Cohort Table for Retention Rate\n",
        "- Creating the Cohort Chart using the Cohort Table\n",
        "\n",
        "The Detailed information about each step is given below:"
      ],
      "metadata": {
        "id": "xhiYivPrQGVo"
      }
    },
    {
      "cell_type": "markdown",
      "source": [
        "## Future Engineering"
      ],
      "metadata": {
        "id": "eo0GB_osiqbI"
      }
    },
    {
      "cell_type": "markdown",
      "source": [
        "### i. Extract the Month of the Purchase\n",
        "First we will create a function, which takes any date and returns the formatted date with day value as 1st of the same month and Year."
      ],
      "metadata": {
        "id": "JVwPNjpyQGVo"
      }
    },
    {
      "cell_type": "code",
      "execution_count": null,
      "source": [],
      "outputs": [],
      "metadata": {
        "id": "lK1CqlNQiqbI"
      }
    },
    {
      "cell_type": "markdown",
      "source": [
        "Now we will use the function created above to convert all the invoice dates into respective month date format."
      ],
      "metadata": {
        "id": "NQKsM_9IQGVq"
      }
    },
    {
      "cell_type": "code",
      "execution_count": null,
      "source": [],
      "outputs": [],
      "metadata": {
        "id": "DL17u0dniqbJ"
      }
    },
    {
      "cell_type": "markdown",
      "source": [
        "### ii. Calculating time offset in Months i.e. Cohort Index:\n",
        "Calculating time offset for each transaction will allows us to report the metrics for each cohort in a comparable fashion.\n",
        "First, you will create 4 variables that capture the integer value of years, months for Invoice and Cohort Date using the get_date_int() function which you'll create it below."
      ],
      "metadata": {
        "id": "XPE7kTz2QGVs"
      }
    },
    {
      "cell_type": "code",
      "execution_count": null,
      "source": [],
      "outputs": [],
      "metadata": {
        "id": "1_3aYf4FiqbJ"
      }
    },
    {
      "cell_type": "markdown",
      "source": [
        "You will use this function to extract the integer values for Invoice as well as Cohort Date in 3 seperate series for each of the two columns"
      ],
      "metadata": {
        "id": "SGm1eweDQGVu"
      }
    },
    {
      "cell_type": "code",
      "execution_count": null,
      "source": [],
      "outputs": [],
      "metadata": {
        "id": "2wF_ViD_iqbJ"
      }
    },
    {
      "cell_type": "markdown",
      "source": [
        "Use the variables created above to calcualte the difference in days and store them in cohort Index column."
      ],
      "metadata": {
        "id": "Z9jYVljviqbJ"
      }
    },
    {
      "cell_type": "code",
      "execution_count": null,
      "source": [],
      "outputs": [],
      "metadata": {
        "id": "wVlAYCbEiqbJ"
      }
    },
    {
      "cell_type": "markdown",
      "source": [
        "## Create 1st Cohort: User number & Retention Rate"
      ],
      "metadata": {
        "id": "W-t76CXSQGVw"
      }
    },
    {
      "cell_type": "markdown",
      "source": [
        "### i. Pivot Cohort and Cohort Retention"
      ],
      "metadata": {
        "id": "bKvUWci9iqbJ"
      }
    },
    {
      "cell_type": "code",
      "execution_count": null,
      "source": [],
      "outputs": [],
      "metadata": {
        "id": "U-8HzlZWiqbK"
      }
    },
    {
      "cell_type": "markdown",
      "source": [
        "### ii. Visualize analysis of cohort 1 using seaborn and matplotlib modules"
      ],
      "metadata": {
        "id": "63TIyBY6iqbK"
      }
    },
    {
      "cell_type": "code",
      "execution_count": null,
      "source": [],
      "outputs": [],
      "metadata": {
        "id": "SY7mPvCAiqbK"
      }
    },
    {
      "cell_type": "markdown",
      "source": [
        "## Create the 2nd Cohort: Average Quantity Sold"
      ],
      "metadata": {
        "id": "yORYolvqQGV0"
      }
    },
    {
      "cell_type": "markdown",
      "source": [
        "### i. Pivot Cohort and Cohort Retention"
      ],
      "metadata": {
        "id": "Tu1hM3CFiqbK"
      }
    },
    {
      "cell_type": "code",
      "execution_count": null,
      "source": [],
      "outputs": [],
      "metadata": {
        "id": "yQ8jlhPEiqbK"
      }
    },
    {
      "cell_type": "markdown",
      "source": [
        "### ii. Visualize analysis of cohort 2 using seaborn and matplotlib modules"
      ],
      "metadata": {
        "id": "F3PJHMS6iqbK"
      }
    },
    {
      "cell_type": "code",
      "execution_count": null,
      "source": [],
      "outputs": [],
      "metadata": {
        "id": "9vuHi3wPiqbK"
      }
    },
    {
      "cell_type": "markdown",
      "source": [
        "## Create the 3rd Cohort: Average Sales\n"
      ],
      "metadata": {
        "id": "UUoG5yUIQGV3"
      }
    },
    {
      "cell_type": "markdown",
      "source": [
        "### i. Pivot Cohort and Cohort Retention"
      ],
      "metadata": {
        "id": "EKNS-mO5iqbL"
      }
    },
    {
      "cell_type": "code",
      "execution_count": null,
      "source": [],
      "outputs": [],
      "metadata": {
        "id": "t2s-zyWeiqbL"
      }
    },
    {
      "cell_type": "markdown",
      "source": [
        "### ii. Visualize analysis of cohort 3 using seaborn and matplotlib modules"
      ],
      "metadata": {
        "id": "tRGOpeUPiqbL"
      }
    },
    {
      "cell_type": "code",
      "execution_count": null,
      "source": [],
      "outputs": [],
      "metadata": {
        "id": "EYkkDncXiqbL"
      }
    },
    {
      "cell_type": "markdown",
      "source": [
        "For e-commerce organisations, cohort analysis is a unique opportunity to find out which clients are the most valuable to their business. by performing Cohort analysis you can get answers to following questions:\n",
        "\n",
        "- How much effective was a marketing campaign held in a particular time period?\n",
        "- Did the strategy employed to improve the conversion rates of Customers worked?\n",
        "- Should I focus more on retention rather than acquiring new customers?\n",
        "- Are my customer nurturing strategies effective?\n",
        "- Which marketing channels bring me the best results?\n",
        "- Is there a seasoanlity pattern in Customer behahiour?"
      ],
      "metadata": {
        "id": "uD9lu1ExQGV5"
      }
    },
    {
      "cell_type": "markdown",
      "source": [
        "___\n",
        "\n",
        "<p style=\"text-align: center;\"><img src=\"https://docs.google.com/uc?id=1lY0Uj5R04yMY3-ZppPWxqCr5pvBLYPnV\" class=\"img-fluid\" alt=\"CLRSWY\"></p>\n",
        "\n",
        "___"
      ],
      "metadata": {
        "id": "ZX_Y6S36iqbL"
      }
    }
  ]
}