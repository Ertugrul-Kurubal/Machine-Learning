{
  "nbformat": 4,
  "nbformat_minor": 2,
  "metadata": {
    "colab": {
      "name": "RFM - Customer Segmentation_Student_V3.ipynb",
      "provenance": [],
      "collapsed_sections": [
        "lf4OsPmSQGXA"
      ],
      "toc_visible": true
    },
    "kernelspec": {
      "name": "python3",
      "display_name": "Python 3.9.0 64-bit (system)"
    },
    "language_info": {
      "codemirror_mode": {
        "name": "ipython",
        "version": 3
      },
      "file_extension": ".py",
      "mimetype": "text/x-python",
      "name": "python",
      "nbconvert_exporter": "python",
      "pygments_lexer": "ipython3",
      "version": "3.9.0"
    },
    "interpreter": {
      "hash": "43a9cd95aa030499ef934e4da31e07dde54f3fc3a1fd0cc4aeef7f16459ee2ac"
    }
  },
  "cells": [
    {
      "cell_type": "markdown",
      "source": [
        "___\n",
        "\n",
        "<p style=\"text-align: center;\"><img src=\"https://docs.google.com/uc?id=1lY0Uj5R04yMY3-ZppPWxqCr5pvBLYPnV\" class=\"img-fluid\" alt=\"CLRSWY\"></p>\n",
        "\n",
        "___"
      ],
      "metadata": {
        "id": "yG6Ti6UOiqav"
      }
    },
    {
      "cell_type": "markdown",
      "source": [
        "# WELCOME!"
      ],
      "metadata": {
        "id": "M2v-2JDuiqa0"
      }
    },
    {
      "cell_type": "markdown",
      "source": [
        "Welcome to \"RFM Customer Segmentation & Cohort Analysis Project\". This is the first project of the Capstone Project Series, which consists of 4 different project that contain different scenarios.\n",
        "\n",
        "This is a project which you will learn what is RFM? And how to apply RFM Analysis and Customer Segmentation using K-Means Clustering. Also you will improve your Data Cleaning, Data Visualization and Exploratory Data Analysis capabilities. On the other hand you will create Cohort and Conduct Cohort Analysis. \n",
        "\n",
        "Before diving into the project, please take a look at the determines and project structure.\n",
        "\n",
        "- **NOTE:** This tutorial assumes that you already know the basics of coding in Python and are familiar with the theory behind K-Means Clustering.\n",
        "\n"
      ],
      "metadata": {
        "id": "oLS5y2Jqiqa1"
      }
    },
    {
      "cell_type": "markdown",
      "source": [
        "# #Determines\r\n",
        "\r\n",
        "Using the [Online Retail dataset](https://archive.ics.uci.edu/ml/datasets/Online+Retail) from the UCI Machine Learning Repository for exploratory data analysis, ***Customer Segmentation***, ***RFM Analysis***, ***K-Means Clustering*** and ***Cohort Analysis***.\r\n",
        "\r\n",
        "This is a transnational data set which contains all the transactions occurring between 01/12/2010 and 09/12/2011 for a UK-based and registered non-store online retail. The company mainly sells unique all-occasion gifts. Many customers of the company are wholesalers.\r\n",
        "\r\n",
        "Feature Information:\r\n",
        "\r\n",
        "**InvoiceNo**: Invoice number. *Nominal*, a 6-digit integral number uniquely assigned to each transaction. If this code starts with letter 'c', it indicates a cancellation. \r\n",
        "<br>\r\n",
        "**StockCode**: Product (item) code. *Nominal*, a 5-digit integral number uniquely assigned to each distinct product.\r\n",
        "<br>\r\n",
        "**Description**: Product (item) name. *Nominal*. \r\n",
        "<br>\r\n",
        "**Quantity**: The quantities of each product (item) per transaction. *Numeric*.\r\n",
        "<br>\r\n",
        "**InvoiceDate**: Invoice Date and time. *Numeric*, the day and time when each transaction was generated.\r\n",
        "<br>\r\n",
        "**UnitPrice**: Unit price. *Numeric*, Product price per unit in sterling.\r\n",
        "<br>\r\n",
        "**CustomerID**: Customer number. *Nominal*, a 5-digit integral number uniquely assigned to each customer.\r\n",
        "<br>\r\n",
        "**Country**: Country name. *Nominal*, the name of the country where each customer resides.\r\n",
        "\r\n",
        "\r\n",
        "---\r\n",
        "\r\n",
        "\r\n",
        "First of all, to observe the structure of the data and missing values, you can use exploratory data analysis and data visualization techniques.\r\n",
        "\r\n",
        "You must do descriptive analysis. Because you must understand the relationship of the features to each other and clear the noise and missing values in the data. After that, the data set will be ready for RFM analysis.\r\n",
        "\r\n",
        "Before starting the RFM Analysis, you will be asked to do some analysis regarding the distribution of *Orders*, *Customers* and *Countries*. These analyzes will help the company develop its sales policies and contribute to the correct use of resources.\r\n",
        "\r\n",
        "You will notice that the UK not only has the most sales revenue, but also the most customers. So you will continue to analyze only UK transactions in the next RFM Analysis, Customer Segmentation and K-Means Clustering topics.\r\n",
        "\r\n",
        "Next, you will begin RFM Analysis, a customer segmentation technique based on customers' past purchasing behavior. \r\n",
        "\r\n",
        "By using RFM Analysis, you can enable companies to develop different approaches to different customer segments so that they can get to know their customers better, observe trends better, and increase customer retention and sales revenues.\r\n",
        "\r\n",
        "You will calculate the Recency, Frequency and Monetary values of the customers in the RFM Analysis you will make using the data consisting of UK transactions. Ultimately, you have to create an RFM table containing these values.\r\n",
        "\r\n",
        "In the Customer Segmentation section, you will create an RFM Segmentation Table where you segment your customers by using the RFM table. For example, you can label the best customer as \"Big Spenders\" and the lost customer as \"Lost Customer\".\r\n",
        "\r\n",
        "We will segment the customers ourselves based on their recency, frequency, and monetary values. But can an **unsupervised learning** model do this better for us? You will use the K-Means algorithm to find the answer to this question. Then you will compare the classification made by the algorithm with the classification you have made yourself.\r\n",
        "\r\n",
        "Before applying K-Means Clustering, you should do data pre-processing. In this context, it will be useful to examine feature correlations and distributions. In addition, the data you apply for K-Means should be normalized.\r\n",
        "\r\n",
        "On the other hand, you should inform the K-means algorithm about the number of clusters it will predict. You will also try the *** Elbow method *** and *** Silhouette Analysis *** to find the optimum number of clusters.\r\n",
        "\r\n",
        "After the above operations, you will have made cluster estimation with K-Means. You should visualize the cluster distribution by using a scatter plot. You can observe the properties of the resulting clusters with the help of the boxplot. Thus you will be able to tag clusters and interpret results.\r\n",
        "\r\n",
        "Finally, you will do Cohort Analysis with the data you used at the beginning, regardless of the analysis you have done before. Cohort analysis is a subset of behavioral analytics that takes the user data and breaks them into related groups for analysis. This analysis can further be used to do customer segmentation and track metrics like retention, churn, and lifetime value.\r\n"
      ],
      "metadata": {
        "id": "1SCOFEfqiqa1"
      }
    },
    {
      "cell_type": "markdown",
      "source": [
        "# #Project Structures\n",
        "\n",
        "- Data Cleaning & Exploratory Data Analysis\n",
        "- RFM Analysis\n",
        "- Customer Segmentation\n",
        "- Applying K-Means Clustering\n",
        "- Create Cohort and Conduct Cohort Analysis"
      ],
      "metadata": {
        "id": "KQ62QseViqa2"
      }
    },
    {
      "cell_type": "markdown",
      "source": [
        "# #Tasks\n",
        "\n",
        "#### 1. Data Cleaning & Exploratory Data Analysis\n",
        "\n",
        "- Import Modules, Load Data & Data Review\n",
        "- Follow the Steps Below\n",
        "\n",
        "    *i. Take a look at relationships between InvoiceNo, Quantity and UnitPrice columns.*\n",
        "    \n",
        "    *ii. What does the letter \"C\" in the invoiceno column mean?*\n",
        "    \n",
        "    *iii. Handling Missing Values*\n",
        "    \n",
        "    *iv. Clean the Data from the Noise and Missing Values*\n",
        "    \n",
        "    *v. Explore the Orders*\n",
        "    \n",
        "    *vi. Explore Customers by Country*\n",
        "    \n",
        "    *vii. Explore the UK Market*\n",
        "    \n",
        "#### 2. RFM Analysis\n",
        "\n",
        "- Follow the steps below\n",
        "\n",
        "   *i. Import Libraries*\n",
        "   \n",
        "   *ii. Review \"df_uk\" DataFrame (the df_uk what you create at the end of the Task 1)*\n",
        "   \n",
        "   *iii. Calculate Recency*\n",
        "   \n",
        "   *iv. Calculate Frequency*\n",
        "   \n",
        "   *v. Calculate Monetary Values*\n",
        "   \n",
        "   *vi. Create RFM Table*\n",
        "\n",
        "#### 3. Customer Segmentation with RFM Scores\n",
        "- Calculate RFM Scoring\n",
        "\n",
        "    *i. Creating the RFM Segmentation Table*\n",
        " \n",
        "- Plot RFM Segments\n",
        "\n",
        "#### 4. Applying K-Means Clustering\n",
        "- Data Pre-Processing and Exploring\n",
        "\n",
        "    *i. Define and Plot Feature Correlations*\n",
        " \n",
        "    *ii. Visualize Feature Distributions*\n",
        " \n",
        "    *iii. Data Normalization*\n",
        "\n",
        "- K-Means Implementation\n",
        "\n",
        "    *i. Define Optimal Cluster Number (K) by using \"Elbow Method\" and \"Silhouette Analysis\"*\n",
        " \n",
        "    *ii. Visualize the Clusters*\n",
        " \n",
        "    *iii. Assign the label*\n",
        " \n",
        "    *iv. Conclusion*\n",
        " \n",
        "#### 5. Create Cohort and Conduct Cohort Analysis\n",
        "- Future Engineering\n",
        "\n",
        "    *i. Extract the Month of the Purchase*\n",
        " \n",
        "    *ii. Calculating time offset in Months i.e. Cohort Index*\n",
        " \n",
        "- Create 1st Cohort: User Number & Retention Rate \n",
        "\n",
        "    *i. Pivot Cohort and Cohort Retention*\n",
        " \n",
        "    *ii. Visualize analysis of cohort 1 using seaborn and matplotlib*\n",
        "\n",
        "- Create 2nd Cohort: Average Quantity Sold \n",
        "\n",
        "    *i. Pivot Cohort and Cohort Retention*\n",
        " \n",
        "    *ii. Visualize analysis of cohort 2 using seaborn and matplotlib*\n",
        "\n",
        "- Create 3rd Cohort: Average Sales\n",
        "\n",
        "    *i. Pivot Cohort and Cohort Retention*\n",
        " \n",
        "    *ii. Visualize analysis of cohort 3 using seaborn and matplotlib*\n",
        "    \n",
        "- **Note: There may be sub-tasks associated with each task, you will see them in order during the course of the work.**\n"
      ],
      "metadata": {
        "id": "wsPQ1tUwiqa2"
      }
    },
    {
      "cell_type": "markdown",
      "source": [
        "# 1. Data Cleaning & Exploratory Data Analysis"
      ],
      "metadata": {
        "id": "k-NlVU1UQGVA"
      }
    },
    {
      "cell_type": "markdown",
      "source": [
        "## Import Modules, Load Data & Data Review"
      ],
      "metadata": {
        "id": "L63G_-Dqiqa3"
      }
    },
    {
      "cell_type": "code",
      "execution_count": 1,
      "source": [
        "import pandas as pd\r\n",
        "import numpy as np\r\n",
        "import matplotlib.pyplot as plt\r\n",
        "import seaborn as sns"
      ],
      "outputs": [],
      "metadata": {
        "id": "J-Zb5JfOiqa3"
      }
    },
    {
      "cell_type": "code",
      "execution_count": 2,
      "source": [
        "df = pd.read_excel(\"Online Retail.xlsx\")"
      ],
      "outputs": [],
      "metadata": {}
    },
    {
      "cell_type": "code",
      "execution_count": 3,
      "source": [
        "df.head()"
      ],
      "outputs": [
        {
          "output_type": "execute_result",
          "data": {
            "text/plain": [
              "  InvoiceNo StockCode                          Description  Quantity  \\\n",
              "0    536365    85123A   WHITE HANGING HEART T-LIGHT HOLDER         6   \n",
              "1    536365     71053                  WHITE METAL LANTERN         6   \n",
              "2    536365    84406B       CREAM CUPID HEARTS COAT HANGER         8   \n",
              "3    536365    84029G  KNITTED UNION FLAG HOT WATER BOTTLE         6   \n",
              "4    536365    84029E       RED WOOLLY HOTTIE WHITE HEART.         6   \n",
              "\n",
              "          InvoiceDate  UnitPrice  CustomerID         Country  \n",
              "0 2010-12-01 08:26:00       2.55     17850.0  United Kingdom  \n",
              "1 2010-12-01 08:26:00       3.39     17850.0  United Kingdom  \n",
              "2 2010-12-01 08:26:00       2.75     17850.0  United Kingdom  \n",
              "3 2010-12-01 08:26:00       3.39     17850.0  United Kingdom  \n",
              "4 2010-12-01 08:26:00       3.39     17850.0  United Kingdom  "
            ],
            "text/html": [
              "<div>\n",
              "<style scoped>\n",
              "    .dataframe tbody tr th:only-of-type {\n",
              "        vertical-align: middle;\n",
              "    }\n",
              "\n",
              "    .dataframe tbody tr th {\n",
              "        vertical-align: top;\n",
              "    }\n",
              "\n",
              "    .dataframe thead th {\n",
              "        text-align: right;\n",
              "    }\n",
              "</style>\n",
              "<table border=\"1\" class=\"dataframe\">\n",
              "  <thead>\n",
              "    <tr style=\"text-align: right;\">\n",
              "      <th></th>\n",
              "      <th>InvoiceNo</th>\n",
              "      <th>StockCode</th>\n",
              "      <th>Description</th>\n",
              "      <th>Quantity</th>\n",
              "      <th>InvoiceDate</th>\n",
              "      <th>UnitPrice</th>\n",
              "      <th>CustomerID</th>\n",
              "      <th>Country</th>\n",
              "    </tr>\n",
              "  </thead>\n",
              "  <tbody>\n",
              "    <tr>\n",
              "      <th>0</th>\n",
              "      <td>536365</td>\n",
              "      <td>85123A</td>\n",
              "      <td>WHITE HANGING HEART T-LIGHT HOLDER</td>\n",
              "      <td>6</td>\n",
              "      <td>2010-12-01 08:26:00</td>\n",
              "      <td>2.55</td>\n",
              "      <td>17850.0</td>\n",
              "      <td>United Kingdom</td>\n",
              "    </tr>\n",
              "    <tr>\n",
              "      <th>1</th>\n",
              "      <td>536365</td>\n",
              "      <td>71053</td>\n",
              "      <td>WHITE METAL LANTERN</td>\n",
              "      <td>6</td>\n",
              "      <td>2010-12-01 08:26:00</td>\n",
              "      <td>3.39</td>\n",
              "      <td>17850.0</td>\n",
              "      <td>United Kingdom</td>\n",
              "    </tr>\n",
              "    <tr>\n",
              "      <th>2</th>\n",
              "      <td>536365</td>\n",
              "      <td>84406B</td>\n",
              "      <td>CREAM CUPID HEARTS COAT HANGER</td>\n",
              "      <td>8</td>\n",
              "      <td>2010-12-01 08:26:00</td>\n",
              "      <td>2.75</td>\n",
              "      <td>17850.0</td>\n",
              "      <td>United Kingdom</td>\n",
              "    </tr>\n",
              "    <tr>\n",
              "      <th>3</th>\n",
              "      <td>536365</td>\n",
              "      <td>84029G</td>\n",
              "      <td>KNITTED UNION FLAG HOT WATER BOTTLE</td>\n",
              "      <td>6</td>\n",
              "      <td>2010-12-01 08:26:00</td>\n",
              "      <td>3.39</td>\n",
              "      <td>17850.0</td>\n",
              "      <td>United Kingdom</td>\n",
              "    </tr>\n",
              "    <tr>\n",
              "      <th>4</th>\n",
              "      <td>536365</td>\n",
              "      <td>84029E</td>\n",
              "      <td>RED WOOLLY HOTTIE WHITE HEART.</td>\n",
              "      <td>6</td>\n",
              "      <td>2010-12-01 08:26:00</td>\n",
              "      <td>3.39</td>\n",
              "      <td>17850.0</td>\n",
              "      <td>United Kingdom</td>\n",
              "    </tr>\n",
              "  </tbody>\n",
              "</table>\n",
              "</div>"
            ]
          },
          "metadata": {},
          "execution_count": 3
        }
      ],
      "metadata": {}
    },
    {
      "cell_type": "code",
      "execution_count": 4,
      "source": [
        "df.info()"
      ],
      "outputs": [
        {
          "output_type": "stream",
          "name": "stdout",
          "text": [
            "<class 'pandas.core.frame.DataFrame'>\n",
            "RangeIndex: 541909 entries, 0 to 541908\n",
            "Data columns (total 8 columns):\n",
            " #   Column       Non-Null Count   Dtype         \n",
            "---  ------       --------------   -----         \n",
            " 0   InvoiceNo    541909 non-null  object        \n",
            " 1   StockCode    541909 non-null  object        \n",
            " 2   Description  540455 non-null  object        \n",
            " 3   Quantity     541909 non-null  int64         \n",
            " 4   InvoiceDate  541909 non-null  datetime64[ns]\n",
            " 5   UnitPrice    541909 non-null  float64       \n",
            " 6   CustomerID   406829 non-null  float64       \n",
            " 7   Country      541909 non-null  object        \n",
            "dtypes: datetime64[ns](1), float64(2), int64(1), object(4)\n",
            "memory usage: 33.1+ MB\n"
          ]
        }
      ],
      "metadata": {}
    },
    {
      "cell_type": "code",
      "execution_count": 5,
      "source": [
        "df.describe()"
      ],
      "outputs": [
        {
          "output_type": "execute_result",
          "data": {
            "text/plain": [
              "            Quantity      UnitPrice     CustomerID\n",
              "count  541909.000000  541909.000000  406829.000000\n",
              "mean        9.552250       4.611114   15287.690570\n",
              "std       218.081158      96.759853    1713.600303\n",
              "min    -80995.000000  -11062.060000   12346.000000\n",
              "25%         1.000000       1.250000   13953.000000\n",
              "50%         3.000000       2.080000   15152.000000\n",
              "75%        10.000000       4.130000   16791.000000\n",
              "max     80995.000000   38970.000000   18287.000000"
            ],
            "text/html": [
              "<div>\n",
              "<style scoped>\n",
              "    .dataframe tbody tr th:only-of-type {\n",
              "        vertical-align: middle;\n",
              "    }\n",
              "\n",
              "    .dataframe tbody tr th {\n",
              "        vertical-align: top;\n",
              "    }\n",
              "\n",
              "    .dataframe thead th {\n",
              "        text-align: right;\n",
              "    }\n",
              "</style>\n",
              "<table border=\"1\" class=\"dataframe\">\n",
              "  <thead>\n",
              "    <tr style=\"text-align: right;\">\n",
              "      <th></th>\n",
              "      <th>Quantity</th>\n",
              "      <th>UnitPrice</th>\n",
              "      <th>CustomerID</th>\n",
              "    </tr>\n",
              "  </thead>\n",
              "  <tbody>\n",
              "    <tr>\n",
              "      <th>count</th>\n",
              "      <td>541909.000000</td>\n",
              "      <td>541909.000000</td>\n",
              "      <td>406829.000000</td>\n",
              "    </tr>\n",
              "    <tr>\n",
              "      <th>mean</th>\n",
              "      <td>9.552250</td>\n",
              "      <td>4.611114</td>\n",
              "      <td>15287.690570</td>\n",
              "    </tr>\n",
              "    <tr>\n",
              "      <th>std</th>\n",
              "      <td>218.081158</td>\n",
              "      <td>96.759853</td>\n",
              "      <td>1713.600303</td>\n",
              "    </tr>\n",
              "    <tr>\n",
              "      <th>min</th>\n",
              "      <td>-80995.000000</td>\n",
              "      <td>-11062.060000</td>\n",
              "      <td>12346.000000</td>\n",
              "    </tr>\n",
              "    <tr>\n",
              "      <th>25%</th>\n",
              "      <td>1.000000</td>\n",
              "      <td>1.250000</td>\n",
              "      <td>13953.000000</td>\n",
              "    </tr>\n",
              "    <tr>\n",
              "      <th>50%</th>\n",
              "      <td>3.000000</td>\n",
              "      <td>2.080000</td>\n",
              "      <td>15152.000000</td>\n",
              "    </tr>\n",
              "    <tr>\n",
              "      <th>75%</th>\n",
              "      <td>10.000000</td>\n",
              "      <td>4.130000</td>\n",
              "      <td>16791.000000</td>\n",
              "    </tr>\n",
              "    <tr>\n",
              "      <th>max</th>\n",
              "      <td>80995.000000</td>\n",
              "      <td>38970.000000</td>\n",
              "      <td>18287.000000</td>\n",
              "    </tr>\n",
              "  </tbody>\n",
              "</table>\n",
              "</div>"
            ]
          },
          "metadata": {},
          "execution_count": 5
        }
      ],
      "metadata": {}
    },
    {
      "cell_type": "code",
      "execution_count": 6,
      "source": [
        "for i in df.columns:\r\n",
        "    nvalue = df[i].nunique()\r\n",
        "    print(f\"{i} has {nvalue} unique values\")"
      ],
      "outputs": [
        {
          "output_type": "stream",
          "name": "stdout",
          "text": [
            "InvoiceNo has 25900 unique values\n",
            "StockCode has 4070 unique values\n",
            "Description has 4223 unique values\n",
            "Quantity has 722 unique values\n",
            "InvoiceDate has 23260 unique values\n",
            "UnitPrice has 1630 unique values\n",
            "CustomerID has 4372 unique values\n",
            "Country has 38 unique values\n"
          ]
        }
      ],
      "metadata": {}
    },
    {
      "cell_type": "markdown",
      "source": [
        "### i. Take a look at relationships between InvoiceNo, Quantity and UnitPrice columns."
      ],
      "metadata": {
        "id": "YECMxCzUQGV7"
      }
    },
    {
      "cell_type": "code",
      "execution_count": 8,
      "source": [
        "InvQUnit = df[[\"InvoiceNo\", \"Quantity\", \"UnitPrice\"]]\r\n",
        "InvQUnit"
      ],
      "outputs": [
        {
          "output_type": "execute_result",
          "data": {
            "text/plain": [
              "       InvoiceNo  Quantity  UnitPrice\n",
              "0         536365         6       2.55\n",
              "1         536365         6       3.39\n",
              "2         536365         8       2.75\n",
              "3         536365         6       3.39\n",
              "4         536365         6       3.39\n",
              "...          ...       ...        ...\n",
              "541904    581587        12       0.85\n",
              "541905    581587         6       2.10\n",
              "541906    581587         4       4.15\n",
              "541907    581587         4       4.15\n",
              "541908    581587         3       4.95\n",
              "\n",
              "[541909 rows x 3 columns]"
            ],
            "text/html": [
              "<div>\n",
              "<style scoped>\n",
              "    .dataframe tbody tr th:only-of-type {\n",
              "        vertical-align: middle;\n",
              "    }\n",
              "\n",
              "    .dataframe tbody tr th {\n",
              "        vertical-align: top;\n",
              "    }\n",
              "\n",
              "    .dataframe thead th {\n",
              "        text-align: right;\n",
              "    }\n",
              "</style>\n",
              "<table border=\"1\" class=\"dataframe\">\n",
              "  <thead>\n",
              "    <tr style=\"text-align: right;\">\n",
              "      <th></th>\n",
              "      <th>InvoiceNo</th>\n",
              "      <th>Quantity</th>\n",
              "      <th>UnitPrice</th>\n",
              "    </tr>\n",
              "  </thead>\n",
              "  <tbody>\n",
              "    <tr>\n",
              "      <th>0</th>\n",
              "      <td>536365</td>\n",
              "      <td>6</td>\n",
              "      <td>2.55</td>\n",
              "    </tr>\n",
              "    <tr>\n",
              "      <th>1</th>\n",
              "      <td>536365</td>\n",
              "      <td>6</td>\n",
              "      <td>3.39</td>\n",
              "    </tr>\n",
              "    <tr>\n",
              "      <th>2</th>\n",
              "      <td>536365</td>\n",
              "      <td>8</td>\n",
              "      <td>2.75</td>\n",
              "    </tr>\n",
              "    <tr>\n",
              "      <th>3</th>\n",
              "      <td>536365</td>\n",
              "      <td>6</td>\n",
              "      <td>3.39</td>\n",
              "    </tr>\n",
              "    <tr>\n",
              "      <th>4</th>\n",
              "      <td>536365</td>\n",
              "      <td>6</td>\n",
              "      <td>3.39</td>\n",
              "    </tr>\n",
              "    <tr>\n",
              "      <th>...</th>\n",
              "      <td>...</td>\n",
              "      <td>...</td>\n",
              "      <td>...</td>\n",
              "    </tr>\n",
              "    <tr>\n",
              "      <th>541904</th>\n",
              "      <td>581587</td>\n",
              "      <td>12</td>\n",
              "      <td>0.85</td>\n",
              "    </tr>\n",
              "    <tr>\n",
              "      <th>541905</th>\n",
              "      <td>581587</td>\n",
              "      <td>6</td>\n",
              "      <td>2.10</td>\n",
              "    </tr>\n",
              "    <tr>\n",
              "      <th>541906</th>\n",
              "      <td>581587</td>\n",
              "      <td>4</td>\n",
              "      <td>4.15</td>\n",
              "    </tr>\n",
              "    <tr>\n",
              "      <th>541907</th>\n",
              "      <td>581587</td>\n",
              "      <td>4</td>\n",
              "      <td>4.15</td>\n",
              "    </tr>\n",
              "    <tr>\n",
              "      <th>541908</th>\n",
              "      <td>581587</td>\n",
              "      <td>3</td>\n",
              "      <td>4.95</td>\n",
              "    </tr>\n",
              "  </tbody>\n",
              "</table>\n",
              "<p>541909 rows × 3 columns</p>\n",
              "</div>"
            ]
          },
          "metadata": {},
          "execution_count": 8
        }
      ],
      "metadata": {
        "id": "nQ8vAKbbiqa4"
      }
    },
    {
      "cell_type": "markdown",
      "source": [
        "We see that there are negative values in the Quantity and UnitPrice columns. These are possibly canceled and returned orders. Let's check it out."
      ],
      "metadata": {
        "id": "KiSW67N_QGV8"
      }
    },
    {
      "cell_type": "code",
      "execution_count": 48,
      "source": [
        "neg_quan = InvQUnit[InvQUnit.Quantity<0]\r\n",
        "neg_quan"
      ],
      "outputs": [
        {
          "output_type": "execute_result",
          "data": {
            "text/plain": [
              "       InvoiceNo  Quantity  UnitPrice\n",
              "141      C536379        -1      27.50\n",
              "154      C536383        -1       4.65\n",
              "235      C536391       -12       1.65\n",
              "236      C536391       -24       0.29\n",
              "237      C536391       -24       0.29\n",
              "...          ...       ...        ...\n",
              "540449   C581490       -11       0.83\n",
              "541541   C581499        -1     224.69\n",
              "541715   C581568        -5      10.95\n",
              "541716   C581569        -1       1.25\n",
              "541717   C581569        -5       1.25\n",
              "\n",
              "[10624 rows x 3 columns]"
            ],
            "text/html": [
              "<div>\n",
              "<style scoped>\n",
              "    .dataframe tbody tr th:only-of-type {\n",
              "        vertical-align: middle;\n",
              "    }\n",
              "\n",
              "    .dataframe tbody tr th {\n",
              "        vertical-align: top;\n",
              "    }\n",
              "\n",
              "    .dataframe thead th {\n",
              "        text-align: right;\n",
              "    }\n",
              "</style>\n",
              "<table border=\"1\" class=\"dataframe\">\n",
              "  <thead>\n",
              "    <tr style=\"text-align: right;\">\n",
              "      <th></th>\n",
              "      <th>InvoiceNo</th>\n",
              "      <th>Quantity</th>\n",
              "      <th>UnitPrice</th>\n",
              "    </tr>\n",
              "  </thead>\n",
              "  <tbody>\n",
              "    <tr>\n",
              "      <th>141</th>\n",
              "      <td>C536379</td>\n",
              "      <td>-1</td>\n",
              "      <td>27.50</td>\n",
              "    </tr>\n",
              "    <tr>\n",
              "      <th>154</th>\n",
              "      <td>C536383</td>\n",
              "      <td>-1</td>\n",
              "      <td>4.65</td>\n",
              "    </tr>\n",
              "    <tr>\n",
              "      <th>235</th>\n",
              "      <td>C536391</td>\n",
              "      <td>-12</td>\n",
              "      <td>1.65</td>\n",
              "    </tr>\n",
              "    <tr>\n",
              "      <th>236</th>\n",
              "      <td>C536391</td>\n",
              "      <td>-24</td>\n",
              "      <td>0.29</td>\n",
              "    </tr>\n",
              "    <tr>\n",
              "      <th>237</th>\n",
              "      <td>C536391</td>\n",
              "      <td>-24</td>\n",
              "      <td>0.29</td>\n",
              "    </tr>\n",
              "    <tr>\n",
              "      <th>...</th>\n",
              "      <td>...</td>\n",
              "      <td>...</td>\n",
              "      <td>...</td>\n",
              "    </tr>\n",
              "    <tr>\n",
              "      <th>540449</th>\n",
              "      <td>C581490</td>\n",
              "      <td>-11</td>\n",
              "      <td>0.83</td>\n",
              "    </tr>\n",
              "    <tr>\n",
              "      <th>541541</th>\n",
              "      <td>C581499</td>\n",
              "      <td>-1</td>\n",
              "      <td>224.69</td>\n",
              "    </tr>\n",
              "    <tr>\n",
              "      <th>541715</th>\n",
              "      <td>C581568</td>\n",
              "      <td>-5</td>\n",
              "      <td>10.95</td>\n",
              "    </tr>\n",
              "    <tr>\n",
              "      <th>541716</th>\n",
              "      <td>C581569</td>\n",
              "      <td>-1</td>\n",
              "      <td>1.25</td>\n",
              "    </tr>\n",
              "    <tr>\n",
              "      <th>541717</th>\n",
              "      <td>C581569</td>\n",
              "      <td>-5</td>\n",
              "      <td>1.25</td>\n",
              "    </tr>\n",
              "  </tbody>\n",
              "</table>\n",
              "<p>10624 rows × 3 columns</p>\n",
              "</div>"
            ]
          },
          "metadata": {},
          "execution_count": 48
        }
      ],
      "metadata": {
        "id": "ZoHopX7-iqa4"
      }
    },
    {
      "cell_type": "code",
      "execution_count": 62,
      "source": [
        "len(neg_quan)"
      ],
      "outputs": [
        {
          "output_type": "execute_result",
          "data": {
            "text/plain": [
              "10624"
            ]
          },
          "metadata": {},
          "execution_count": 62
        }
      ],
      "metadata": {}
    },
    {
      "cell_type": "code",
      "execution_count": 34,
      "source": [
        "InvQUnit.InvoiceNo.sample(10) # All data"
      ],
      "outputs": [
        {
          "output_type": "execute_result",
          "data": {
            "text/plain": [
              "12661      537391\n",
              "275666     561001\n",
              "466731     576329\n",
              "370083    C569128\n",
              "428214     573415\n",
              "254431     559311\n",
              "416610     572553\n",
              "14560      537604\n",
              "223226     556474\n",
              "216303     555841\n",
              "Name: InvoiceNo, dtype: object"
            ]
          },
          "metadata": {},
          "execution_count": 34
        }
      ],
      "metadata": {}
    },
    {
      "cell_type": "markdown",
      "source": [
        "### ii. What does the letter \"C\" in the InvoiceNo column mean?"
      ],
      "metadata": {
        "id": "7OoPE-QLiqa4"
      }
    },
    {
      "cell_type": "code",
      "execution_count": 60,
      "source": [
        "C_Invoice = InvQUnit[InvQUnit.InvoiceNo.str.contains(\"C\", na=False)] # All data\r\n",
        "C_Invoice"
      ],
      "outputs": [
        {
          "output_type": "execute_result",
          "data": {
            "text/plain": [
              "       InvoiceNo  Quantity  UnitPrice\n",
              "141      C536379        -1      27.50\n",
              "154      C536383        -1       4.65\n",
              "235      C536391       -12       1.65\n",
              "236      C536391       -24       0.29\n",
              "237      C536391       -24       0.29\n",
              "...          ...       ...        ...\n",
              "540449   C581490       -11       0.83\n",
              "541541   C581499        -1     224.69\n",
              "541715   C581568        -5      10.95\n",
              "541716   C581569        -1       1.25\n",
              "541717   C581569        -5       1.25\n",
              "\n",
              "[9288 rows x 3 columns]"
            ],
            "text/html": [
              "<div>\n",
              "<style scoped>\n",
              "    .dataframe tbody tr th:only-of-type {\n",
              "        vertical-align: middle;\n",
              "    }\n",
              "\n",
              "    .dataframe tbody tr th {\n",
              "        vertical-align: top;\n",
              "    }\n",
              "\n",
              "    .dataframe thead th {\n",
              "        text-align: right;\n",
              "    }\n",
              "</style>\n",
              "<table border=\"1\" class=\"dataframe\">\n",
              "  <thead>\n",
              "    <tr style=\"text-align: right;\">\n",
              "      <th></th>\n",
              "      <th>InvoiceNo</th>\n",
              "      <th>Quantity</th>\n",
              "      <th>UnitPrice</th>\n",
              "    </tr>\n",
              "  </thead>\n",
              "  <tbody>\n",
              "    <tr>\n",
              "      <th>141</th>\n",
              "      <td>C536379</td>\n",
              "      <td>-1</td>\n",
              "      <td>27.50</td>\n",
              "    </tr>\n",
              "    <tr>\n",
              "      <th>154</th>\n",
              "      <td>C536383</td>\n",
              "      <td>-1</td>\n",
              "      <td>4.65</td>\n",
              "    </tr>\n",
              "    <tr>\n",
              "      <th>235</th>\n",
              "      <td>C536391</td>\n",
              "      <td>-12</td>\n",
              "      <td>1.65</td>\n",
              "    </tr>\n",
              "    <tr>\n",
              "      <th>236</th>\n",
              "      <td>C536391</td>\n",
              "      <td>-24</td>\n",
              "      <td>0.29</td>\n",
              "    </tr>\n",
              "    <tr>\n",
              "      <th>237</th>\n",
              "      <td>C536391</td>\n",
              "      <td>-24</td>\n",
              "      <td>0.29</td>\n",
              "    </tr>\n",
              "    <tr>\n",
              "      <th>...</th>\n",
              "      <td>...</td>\n",
              "      <td>...</td>\n",
              "      <td>...</td>\n",
              "    </tr>\n",
              "    <tr>\n",
              "      <th>540449</th>\n",
              "      <td>C581490</td>\n",
              "      <td>-11</td>\n",
              "      <td>0.83</td>\n",
              "    </tr>\n",
              "    <tr>\n",
              "      <th>541541</th>\n",
              "      <td>C581499</td>\n",
              "      <td>-1</td>\n",
              "      <td>224.69</td>\n",
              "    </tr>\n",
              "    <tr>\n",
              "      <th>541715</th>\n",
              "      <td>C581568</td>\n",
              "      <td>-5</td>\n",
              "      <td>10.95</td>\n",
              "    </tr>\n",
              "    <tr>\n",
              "      <th>541716</th>\n",
              "      <td>C581569</td>\n",
              "      <td>-1</td>\n",
              "      <td>1.25</td>\n",
              "    </tr>\n",
              "    <tr>\n",
              "      <th>541717</th>\n",
              "      <td>C581569</td>\n",
              "      <td>-5</td>\n",
              "      <td>1.25</td>\n",
              "    </tr>\n",
              "  </tbody>\n",
              "</table>\n",
              "<p>9288 rows × 3 columns</p>\n",
              "</div>"
            ]
          },
          "metadata": {},
          "execution_count": 60
        }
      ],
      "metadata": {
        "id": "PgN0C80Giqa5"
      }
    },
    {
      "cell_type": "code",
      "execution_count": 57,
      "source": [
        "neg_quan[neg_quan.InvoiceNo.str.contains(\"C\", na=False)] # Neg Quantity Data"
      ],
      "outputs": [
        {
          "output_type": "execute_result",
          "data": {
            "text/plain": [
              "       InvoiceNo  Quantity  UnitPrice\n",
              "141      C536379        -1      27.50\n",
              "154      C536383        -1       4.65\n",
              "235      C536391       -12       1.65\n",
              "236      C536391       -24       0.29\n",
              "237      C536391       -24       0.29\n",
              "...          ...       ...        ...\n",
              "540449   C581490       -11       0.83\n",
              "541541   C581499        -1     224.69\n",
              "541715   C581568        -5      10.95\n",
              "541716   C581569        -1       1.25\n",
              "541717   C581569        -5       1.25\n",
              "\n",
              "[9288 rows x 3 columns]"
            ],
            "text/html": [
              "<div>\n",
              "<style scoped>\n",
              "    .dataframe tbody tr th:only-of-type {\n",
              "        vertical-align: middle;\n",
              "    }\n",
              "\n",
              "    .dataframe tbody tr th {\n",
              "        vertical-align: top;\n",
              "    }\n",
              "\n",
              "    .dataframe thead th {\n",
              "        text-align: right;\n",
              "    }\n",
              "</style>\n",
              "<table border=\"1\" class=\"dataframe\">\n",
              "  <thead>\n",
              "    <tr style=\"text-align: right;\">\n",
              "      <th></th>\n",
              "      <th>InvoiceNo</th>\n",
              "      <th>Quantity</th>\n",
              "      <th>UnitPrice</th>\n",
              "    </tr>\n",
              "  </thead>\n",
              "  <tbody>\n",
              "    <tr>\n",
              "      <th>141</th>\n",
              "      <td>C536379</td>\n",
              "      <td>-1</td>\n",
              "      <td>27.50</td>\n",
              "    </tr>\n",
              "    <tr>\n",
              "      <th>154</th>\n",
              "      <td>C536383</td>\n",
              "      <td>-1</td>\n",
              "      <td>4.65</td>\n",
              "    </tr>\n",
              "    <tr>\n",
              "      <th>235</th>\n",
              "      <td>C536391</td>\n",
              "      <td>-12</td>\n",
              "      <td>1.65</td>\n",
              "    </tr>\n",
              "    <tr>\n",
              "      <th>236</th>\n",
              "      <td>C536391</td>\n",
              "      <td>-24</td>\n",
              "      <td>0.29</td>\n",
              "    </tr>\n",
              "    <tr>\n",
              "      <th>237</th>\n",
              "      <td>C536391</td>\n",
              "      <td>-24</td>\n",
              "      <td>0.29</td>\n",
              "    </tr>\n",
              "    <tr>\n",
              "      <th>...</th>\n",
              "      <td>...</td>\n",
              "      <td>...</td>\n",
              "      <td>...</td>\n",
              "    </tr>\n",
              "    <tr>\n",
              "      <th>540449</th>\n",
              "      <td>C581490</td>\n",
              "      <td>-11</td>\n",
              "      <td>0.83</td>\n",
              "    </tr>\n",
              "    <tr>\n",
              "      <th>541541</th>\n",
              "      <td>C581499</td>\n",
              "      <td>-1</td>\n",
              "      <td>224.69</td>\n",
              "    </tr>\n",
              "    <tr>\n",
              "      <th>541715</th>\n",
              "      <td>C581568</td>\n",
              "      <td>-5</td>\n",
              "      <td>10.95</td>\n",
              "    </tr>\n",
              "    <tr>\n",
              "      <th>541716</th>\n",
              "      <td>C581569</td>\n",
              "      <td>-1</td>\n",
              "      <td>1.25</td>\n",
              "    </tr>\n",
              "    <tr>\n",
              "      <th>541717</th>\n",
              "      <td>C581569</td>\n",
              "      <td>-5</td>\n",
              "      <td>1.25</td>\n",
              "    </tr>\n",
              "  </tbody>\n",
              "</table>\n",
              "<p>9288 rows × 3 columns</p>\n",
              "</div>"
            ]
          },
          "metadata": {},
          "execution_count": 57
        }
      ],
      "metadata": {}
    },
    {
      "cell_type": "markdown",
      "source": [
        "If the invoice number starts with the letter \"C\", it means the order was cancelled. Or those who abandon their order."
      ],
      "metadata": {
        "id": "Kt32SZgJQGV8"
      }
    },
    {
      "cell_type": "code",
      "execution_count": 58,
      "source": [
        "len(InvQUnit[InvQUnit.InvoiceNo.str.contains(\"C\", na=False)]) # In All Data"
      ],
      "outputs": [
        {
          "output_type": "execute_result",
          "data": {
            "text/plain": [
              "9288"
            ]
          },
          "metadata": {},
          "execution_count": 58
        }
      ],
      "metadata": {
        "id": "-sdD1F4Xiqa5"
      }
    },
    {
      "cell_type": "code",
      "execution_count": 59,
      "source": [
        "len(neg_quan[neg_quan.InvoiceNo.str.contains(\"C\", na=False)]) # In Negative Quantity"
      ],
      "outputs": [
        {
          "output_type": "execute_result",
          "data": {
            "text/plain": [
              "9288"
            ]
          },
          "metadata": {},
          "execution_count": 59
        }
      ],
      "metadata": {}
    },
    {
      "cell_type": "markdown",
      "source": [
        "When we filter canceled orders by Quantity> 0 or filter non-canceled orders by Quantity <0 nothing returns, this confirms that negative values mean the order was canceled. So lets find out how many orders were cancelled?"
      ],
      "metadata": {
        "id": "YP5RPZq1QGV_"
      }
    },
    {
      "cell_type": "code",
      "execution_count": 61,
      "source": [
        "C_Invoice[C_Invoice.Quantity > 0]"
      ],
      "outputs": [
        {
          "output_type": "execute_result",
          "data": {
            "text/plain": [
              "Empty DataFrame\n",
              "Columns: [InvoiceNo, Quantity, UnitPrice]\n",
              "Index: []"
            ],
            "text/html": [
              "<div>\n",
              "<style scoped>\n",
              "    .dataframe tbody tr th:only-of-type {\n",
              "        vertical-align: middle;\n",
              "    }\n",
              "\n",
              "    .dataframe tbody tr th {\n",
              "        vertical-align: top;\n",
              "    }\n",
              "\n",
              "    .dataframe thead th {\n",
              "        text-align: right;\n",
              "    }\n",
              "</style>\n",
              "<table border=\"1\" class=\"dataframe\">\n",
              "  <thead>\n",
              "    <tr style=\"text-align: right;\">\n",
              "      <th></th>\n",
              "      <th>InvoiceNo</th>\n",
              "      <th>Quantity</th>\n",
              "      <th>UnitPrice</th>\n",
              "    </tr>\n",
              "  </thead>\n",
              "  <tbody>\n",
              "  </tbody>\n",
              "</table>\n",
              "</div>"
            ]
          },
          "metadata": {},
          "execution_count": 61
        }
      ],
      "metadata": {
        "id": "IxrhRFHhiqa5"
      }
    },
    {
      "cell_type": "code",
      "execution_count": 69,
      "source": [
        "neg_quan[~neg_quan.InvoiceNo.str.contains(\"C\", na=False)] # Not C letter include Invoice but they are negative quantity and also UnitPrice are 0.0 "
      ],
      "outputs": [
        {
          "output_type": "execute_result",
          "data": {
            "text/plain": [
              "       InvoiceNo  Quantity  UnitPrice\n",
              "2406      536589       -10        0.0\n",
              "4347      536764       -38        0.0\n",
              "7188      536996       -20        0.0\n",
              "7189      536997       -20        0.0\n",
              "7190      536998        -6        0.0\n",
              "...          ...       ...        ...\n",
              "535333    581210       -26        0.0\n",
              "535335    581212     -1050        0.0\n",
              "535336    581213       -30        0.0\n",
              "536908    581226      -338        0.0\n",
              "538919    581422      -235        0.0\n",
              "\n",
              "[1336 rows x 3 columns]"
            ],
            "text/html": [
              "<div>\n",
              "<style scoped>\n",
              "    .dataframe tbody tr th:only-of-type {\n",
              "        vertical-align: middle;\n",
              "    }\n",
              "\n",
              "    .dataframe tbody tr th {\n",
              "        vertical-align: top;\n",
              "    }\n",
              "\n",
              "    .dataframe thead th {\n",
              "        text-align: right;\n",
              "    }\n",
              "</style>\n",
              "<table border=\"1\" class=\"dataframe\">\n",
              "  <thead>\n",
              "    <tr style=\"text-align: right;\">\n",
              "      <th></th>\n",
              "      <th>InvoiceNo</th>\n",
              "      <th>Quantity</th>\n",
              "      <th>UnitPrice</th>\n",
              "    </tr>\n",
              "  </thead>\n",
              "  <tbody>\n",
              "    <tr>\n",
              "      <th>2406</th>\n",
              "      <td>536589</td>\n",
              "      <td>-10</td>\n",
              "      <td>0.0</td>\n",
              "    </tr>\n",
              "    <tr>\n",
              "      <th>4347</th>\n",
              "      <td>536764</td>\n",
              "      <td>-38</td>\n",
              "      <td>0.0</td>\n",
              "    </tr>\n",
              "    <tr>\n",
              "      <th>7188</th>\n",
              "      <td>536996</td>\n",
              "      <td>-20</td>\n",
              "      <td>0.0</td>\n",
              "    </tr>\n",
              "    <tr>\n",
              "      <th>7189</th>\n",
              "      <td>536997</td>\n",
              "      <td>-20</td>\n",
              "      <td>0.0</td>\n",
              "    </tr>\n",
              "    <tr>\n",
              "      <th>7190</th>\n",
              "      <td>536998</td>\n",
              "      <td>-6</td>\n",
              "      <td>0.0</td>\n",
              "    </tr>\n",
              "    <tr>\n",
              "      <th>...</th>\n",
              "      <td>...</td>\n",
              "      <td>...</td>\n",
              "      <td>...</td>\n",
              "    </tr>\n",
              "    <tr>\n",
              "      <th>535333</th>\n",
              "      <td>581210</td>\n",
              "      <td>-26</td>\n",
              "      <td>0.0</td>\n",
              "    </tr>\n",
              "    <tr>\n",
              "      <th>535335</th>\n",
              "      <td>581212</td>\n",
              "      <td>-1050</td>\n",
              "      <td>0.0</td>\n",
              "    </tr>\n",
              "    <tr>\n",
              "      <th>535336</th>\n",
              "      <td>581213</td>\n",
              "      <td>-30</td>\n",
              "      <td>0.0</td>\n",
              "    </tr>\n",
              "    <tr>\n",
              "      <th>536908</th>\n",
              "      <td>581226</td>\n",
              "      <td>-338</td>\n",
              "      <td>0.0</td>\n",
              "    </tr>\n",
              "    <tr>\n",
              "      <th>538919</th>\n",
              "      <td>581422</td>\n",
              "      <td>-235</td>\n",
              "      <td>0.0</td>\n",
              "    </tr>\n",
              "  </tbody>\n",
              "</table>\n",
              "<p>1336 rows × 3 columns</p>\n",
              "</div>"
            ]
          },
          "metadata": {},
          "execution_count": 69
        }
      ],
      "metadata": {}
    },
    {
      "cell_type": "code",
      "execution_count": 70,
      "source": [
        "neg_quan[~neg_quan.InvoiceNo.str.contains(\"C\", na=False)][\"UnitPrice\"].value_counts() # All UnitPrice are 0.0"
      ],
      "outputs": [
        {
          "output_type": "execute_result",
          "data": {
            "text/plain": [
              "0.0    1336\n",
              "Name: UnitPrice, dtype: int64"
            ]
          },
          "metadata": {},
          "execution_count": 70
        }
      ],
      "metadata": {}
    },
    {
      "cell_type": "markdown",
      "source": [
        "NOT: All InvoiceNo starting with C letter are in negative quantity data and there are no bigger than zero Quantity in InvoiceNo starting with C letter. So C means cancel order."
      ],
      "metadata": {}
    },
    {
      "cell_type": "markdown",
      "source": [
        "#### 9288 or about 36% of the orders were cancelled. Looking deeper into why these orders were cancelled may prevent future cancellations. Now let's find out what a negative UnitPrice means.\n"
      ],
      "metadata": {
        "id": "nrp8logRQGWA"
      }
    },
    {
      "cell_type": "code",
      "execution_count": 63,
      "source": [
        "neg_unit = InvQUnit[InvQUnit.UnitPrice<0] # Negative Unit\r\n",
        "neg_unit"
      ],
      "outputs": [
        {
          "output_type": "execute_result",
          "data": {
            "text/plain": [
              "       InvoiceNo  Quantity  UnitPrice\n",
              "299983   A563186         1  -11062.06\n",
              "299984   A563187         1  -11062.06"
            ],
            "text/html": [
              "<div>\n",
              "<style scoped>\n",
              "    .dataframe tbody tr th:only-of-type {\n",
              "        vertical-align: middle;\n",
              "    }\n",
              "\n",
              "    .dataframe tbody tr th {\n",
              "        vertical-align: top;\n",
              "    }\n",
              "\n",
              "    .dataframe thead th {\n",
              "        text-align: right;\n",
              "    }\n",
              "</style>\n",
              "<table border=\"1\" class=\"dataframe\">\n",
              "  <thead>\n",
              "    <tr style=\"text-align: right;\">\n",
              "      <th></th>\n",
              "      <th>InvoiceNo</th>\n",
              "      <th>Quantity</th>\n",
              "      <th>UnitPrice</th>\n",
              "    </tr>\n",
              "  </thead>\n",
              "  <tbody>\n",
              "    <tr>\n",
              "      <th>299983</th>\n",
              "      <td>A563186</td>\n",
              "      <td>1</td>\n",
              "      <td>-11062.06</td>\n",
              "    </tr>\n",
              "    <tr>\n",
              "      <th>299984</th>\n",
              "      <td>A563187</td>\n",
              "      <td>1</td>\n",
              "      <td>-11062.06</td>\n",
              "    </tr>\n",
              "  </tbody>\n",
              "</table>\n",
              "</div>"
            ]
          },
          "metadata": {},
          "execution_count": 63
        }
      ],
      "metadata": {}
    },
    {
      "cell_type": "code",
      "execution_count": 64,
      "source": [
        "InvQUnit[InvQUnit.InvoiceNo.str.contains(\"A\", na=False)] # A letter include Invoice in all data"
      ],
      "outputs": [
        {
          "output_type": "execute_result",
          "data": {
            "text/plain": [
              "       InvoiceNo  Quantity  UnitPrice\n",
              "299982   A563185         1   11062.06\n",
              "299983   A563186         1  -11062.06\n",
              "299984   A563187         1  -11062.06"
            ],
            "text/html": [
              "<div>\n",
              "<style scoped>\n",
              "    .dataframe tbody tr th:only-of-type {\n",
              "        vertical-align: middle;\n",
              "    }\n",
              "\n",
              "    .dataframe tbody tr th {\n",
              "        vertical-align: top;\n",
              "    }\n",
              "\n",
              "    .dataframe thead th {\n",
              "        text-align: right;\n",
              "    }\n",
              "</style>\n",
              "<table border=\"1\" class=\"dataframe\">\n",
              "  <thead>\n",
              "    <tr style=\"text-align: right;\">\n",
              "      <th></th>\n",
              "      <th>InvoiceNo</th>\n",
              "      <th>Quantity</th>\n",
              "      <th>UnitPrice</th>\n",
              "    </tr>\n",
              "  </thead>\n",
              "  <tbody>\n",
              "    <tr>\n",
              "      <th>299982</th>\n",
              "      <td>A563185</td>\n",
              "      <td>1</td>\n",
              "      <td>11062.06</td>\n",
              "    </tr>\n",
              "    <tr>\n",
              "      <th>299983</th>\n",
              "      <td>A563186</td>\n",
              "      <td>1</td>\n",
              "      <td>-11062.06</td>\n",
              "    </tr>\n",
              "    <tr>\n",
              "      <th>299984</th>\n",
              "      <td>A563187</td>\n",
              "      <td>1</td>\n",
              "      <td>-11062.06</td>\n",
              "    </tr>\n",
              "  </tbody>\n",
              "</table>\n",
              "</div>"
            ]
          },
          "metadata": {},
          "execution_count": 64
        }
      ],
      "metadata": {}
    },
    {
      "cell_type": "markdown",
      "source": [
        "NOT : A means abandon orders"
      ],
      "metadata": {}
    },
    {
      "cell_type": "markdown",
      "source": [
        "### iii. Handling Missing Values"
      ],
      "metadata": {
        "id": "nXVVls6sQGVQ"
      }
    },
    {
      "cell_type": "code",
      "execution_count": null,
      "source": [],
      "outputs": [],
      "metadata": {
        "id": "yExVxnQsiqa6"
      }
    },
    {
      "cell_type": "markdown",
      "source": [
        "Since the customer ID's are missing, lets assume these orders were not made by the customers already in the data set because those customers already have ID's. \n",
        "\n",
        "We also don't want to assign these orders to those customers because this would alter the insights we draw from the data. \n"
      ],
      "metadata": {
        "id": "EQtZK5paQGVf"
      }
    },
    {
      "cell_type": "code",
      "execution_count": null,
      "source": [],
      "outputs": [],
      "metadata": {
        "id": "WjvtekM3iqa6"
      }
    },
    {
      "cell_type": "markdown",
      "source": [
        "### iv. Clean the Data from the Noise and Missing Values"
      ],
      "metadata": {
        "id": "llu-bMTAiqa6"
      }
    },
    {
      "cell_type": "code",
      "execution_count": null,
      "source": [],
      "outputs": [],
      "metadata": {
        "id": "R-TgtE4Ziqa6"
      }
    },
    {
      "cell_type": "markdown",
      "source": [
        "### v. Explore the Orders\n"
      ],
      "metadata": {
        "id": "25MkNjZqQGWC"
      }
    },
    {
      "cell_type": "markdown",
      "source": [
        "1. Find the unique number of InvoiceNo  per customer"
      ],
      "metadata": {
        "id": "8OAkPoUjiqa7"
      }
    },
    {
      "cell_type": "code",
      "execution_count": null,
      "source": [],
      "outputs": [],
      "metadata": {
        "id": "n1A76M7Jiqa7"
      }
    },
    {
      "cell_type": "markdown",
      "source": [
        "2. What's the average number of unqiue items per order or per customer?"
      ],
      "metadata": {
        "id": "di03OKjzQGWE"
      }
    },
    {
      "cell_type": "code",
      "execution_count": null,
      "source": [],
      "outputs": [],
      "metadata": {
        "id": "V4LxkeIIiqa7"
      }
    },
    {
      "cell_type": "markdown",
      "source": [
        "3. Let's see how this compares to the number of unique products per customer."
      ],
      "metadata": {
        "id": "HUKzA73dQGWH"
      }
    },
    {
      "cell_type": "code",
      "execution_count": null,
      "source": [],
      "outputs": [],
      "metadata": {
        "id": "b8uzjYyKiqa7"
      }
    },
    {
      "cell_type": "markdown",
      "source": [
        "### vi. Explore Customers by Country"
      ],
      "metadata": {
        "id": "I_Ozp-U5QGWK"
      }
    },
    {
      "cell_type": "markdown",
      "source": [
        "1. What's the total revenue per country?"
      ],
      "metadata": {
        "id": "SP6M3isLiqa8"
      }
    },
    {
      "cell_type": "code",
      "execution_count": null,
      "source": [],
      "outputs": [],
      "metadata": {
        "id": "VISxZ3Ixiqa8"
      }
    },
    {
      "cell_type": "markdown",
      "source": [
        "2. Visualize number of customer per country"
      ],
      "metadata": {
        "id": "qk64qtEliqa8"
      }
    },
    {
      "cell_type": "code",
      "execution_count": null,
      "source": [],
      "outputs": [],
      "metadata": {
        "id": "atuYU8W2iqa8"
      }
    },
    {
      "cell_type": "markdown",
      "source": [
        "3. Visualize total cost per country"
      ],
      "metadata": {
        "id": "2TD66fT3iqa8"
      }
    },
    {
      "cell_type": "code",
      "execution_count": null,
      "source": [],
      "outputs": [],
      "metadata": {
        "id": "5i0nVOggiqa8"
      }
    },
    {
      "cell_type": "markdown",
      "source": [
        "#### The UK not only has the most sales revenue, but also the most customers. Since the majority of this data set contains orders from the UK, we can explore the UK market further by finding out what products the customers buy together and any other buying behaviors to improve our sales and targeting strategy."
      ],
      "metadata": {
        "id": "hwfJuBVCQGWR"
      }
    },
    {
      "cell_type": "code",
      "execution_count": null,
      "source": [],
      "outputs": [],
      "metadata": {
        "id": "LlyhW9eXiqa9"
      }
    },
    {
      "cell_type": "markdown",
      "source": [
        "### vii. Explore the UK Market\n"
      ],
      "metadata": {
        "id": "7A25nnqIQGWR"
      }
    },
    {
      "cell_type": "markdown",
      "source": [
        "1. Create df_uk DataFrame"
      ],
      "metadata": {
        "id": "wtWchB1Ziqa9"
      }
    },
    {
      "cell_type": "code",
      "execution_count": null,
      "source": [],
      "outputs": [],
      "metadata": {
        "id": "dsdH3cuZiqa9"
      }
    },
    {
      "cell_type": "markdown",
      "source": [
        "2. What are the most popular products that are bought in the UK?"
      ],
      "metadata": {
        "id": "is5kus2bQGWT"
      }
    },
    {
      "cell_type": "code",
      "execution_count": null,
      "source": [],
      "outputs": [],
      "metadata": {
        "id": "sCN56amLiqa9"
      }
    },
    {
      "cell_type": "markdown",
      "source": [
        "### We will continue analyzing the UK transactions with customer segmentation."
      ],
      "metadata": {
        "id": "LHbqJD7bQGWU"
      }
    },
    {
      "cell_type": "markdown",
      "source": [
        "# 2. RFM Analysis"
      ],
      "metadata": {
        "id": "MAtzWvugQGWV"
      }
    },
    {
      "cell_type": "markdown",
      "source": [
        "In the age of the internet and e-commerce, companies that do not expand their businesses online or utilize digital tools to reach their customers will run into issues like scalability and a lack of digital precsence. An important marketing strategy e-commerce businesses use for analyzing and predicting customer value is customer segmentation. Customer data is used to sort customers into group based on their behaviors and preferences.\n",
        "\n",
        "**[RFM](https://www.putler.com/rfm-analysis/) (Recency, Frequency, Monetary) Analysis** is a customer segmentation technique for analyzing customer value based on past buying behavior. RFM analysis was first used by the direct mail industry more than four decades ago, yet it is still an effective way to optimize your marketing.\n",
        "<br>\n",
        "<br>\n",
        "Our goal in this Notebook is to cluster the customers in our data set to:\n",
        " - Recognize who are our most valuable customers\n",
        " - Increase revenue\n",
        " - Increase customer retention\n",
        " - Learn more about the trends and behaviors of our customers\n",
        " - Define customers that are at risk\n",
        "\n",
        "We will start with **RFM Analysis** and then compliment our findings with predictive analysis using **K-Means Clustering Algorithms.**\n",
        "\n",
        "- RECENCY (R): Time since last purchase\n",
        "- FREQUENCY (F): Total number of purchases\n",
        "- MONETARY VALUE (M): Total monetary value\n",
        "\n",
        "\n",
        "\n",
        "\n",
        "Benefits of RFM Analysis\n",
        "\n",
        "- Increased customer retention\n",
        "- Increased response rate\n",
        "- Increased conversion rate\n",
        "- Increased revenue\n",
        "\n",
        "RFM Analysis answers the following questions:\n",
        " - Who are our best customers?\n",
        " - Who has the potential to be converted into more profitable customers?\n",
        " - Which customers do we need to retain?\n",
        " - Which group of customers is most likely to respond to our marketing campaign?\n",
        " "
      ],
      "metadata": {
        "id": "v5uUAUQpQGWV"
      }
    },
    {
      "cell_type": "markdown",
      "source": [
        "### i. Import Libraries"
      ],
      "metadata": {
        "id": "zX47_J8OQGWV"
      }
    },
    {
      "cell_type": "code",
      "execution_count": null,
      "source": [],
      "outputs": [],
      "metadata": {
        "id": "MOD15BxHiqa-"
      }
    },
    {
      "cell_type": "markdown",
      "source": [
        "### ii. Review df_uk DataFrame"
      ],
      "metadata": {
        "id": "9rYM4MJsQGWW"
      }
    },
    {
      "cell_type": "code",
      "execution_count": null,
      "source": [],
      "outputs": [],
      "metadata": {
        "id": "oQHyAJNeiqa-"
      }
    },
    {
      "cell_type": "markdown",
      "source": [
        "### iii. Recency: Days since last purchase\n",
        "To calculate the recency values, follow these steps in order:\n",
        "\n",
        "1. To calculate recency, we need to choose a date as a point of reference to evaluate how many days ago was the customer's last purchase.\n",
        "2. Create a new column called Date which contains the invoice date without the timestamp\n",
        "3. Group by CustomerID and check the last date of purchase\n",
        "4. Calculate the days since last purchase\n",
        "5. Drop Last_Purchase_Date since we don't need it anymore\n",
        "6. Plot RFM distributions"
      ],
      "metadata": {
        "id": "MvfCcPLgQGWa"
      }
    },
    {
      "cell_type": "markdown",
      "source": [
        "1. Choose a date as a point of reference to evaluate how many days ago was the customer's last purchase."
      ],
      "metadata": {
        "id": "b7Gzn6r6QGWb"
      }
    },
    {
      "cell_type": "code",
      "execution_count": null,
      "source": [],
      "outputs": [],
      "metadata": {
        "id": "DwWODVSZiqa-"
      }
    },
    {
      "cell_type": "markdown",
      "source": [
        "2. Create a new column called Date which contains the invoice date without the timestamp"
      ],
      "metadata": {
        "id": "Ge34PCT0iqa-"
      }
    },
    {
      "cell_type": "code",
      "execution_count": null,
      "source": [],
      "outputs": [],
      "metadata": {
        "id": "xsaFUydXiqa_"
      }
    },
    {
      "cell_type": "markdown",
      "source": [
        "3. Group by CustomerID and check the last date of purchase"
      ],
      "metadata": {
        "id": "1KJzP5Ldiqa_"
      }
    },
    {
      "cell_type": "code",
      "execution_count": null,
      "source": [],
      "outputs": [],
      "metadata": {
        "id": "x8kMt-Uyiqa_"
      }
    },
    {
      "cell_type": "markdown",
      "source": [
        "4. Calculate the days since last purchase"
      ],
      "metadata": {
        "id": "1Zxs1mzPiqa_"
      }
    },
    {
      "cell_type": "code",
      "execution_count": null,
      "source": [],
      "outputs": [],
      "metadata": {
        "id": "iTeKws6giqa_"
      }
    },
    {
      "cell_type": "markdown",
      "source": [
        "5. Drop Last_Purchase_Date since we don't need it anymore"
      ],
      "metadata": {
        "id": "yAuMSkfsiqa_"
      }
    },
    {
      "cell_type": "code",
      "execution_count": null,
      "source": [],
      "outputs": [],
      "metadata": {
        "id": "4bNmKqHNiqa_"
      }
    },
    {
      "cell_type": "markdown",
      "source": [
        "6. Plot RFM distributions"
      ],
      "metadata": {
        "id": "IB9a0AL9iqa_"
      }
    },
    {
      "cell_type": "code",
      "execution_count": null,
      "source": [],
      "outputs": [],
      "metadata": {
        "id": "c8e-QiwRiqa_"
      }
    },
    {
      "cell_type": "markdown",
      "source": [
        "### iv. Frequency: Number of purchases\n",
        "\n",
        "To calculate how many times a customer purchased something, we need to count how many invoices each customer has. To calculate the frequency values, follow these steps in order:"
      ],
      "metadata": {
        "id": "MAjKZD0KQGWg"
      }
    },
    {
      "cell_type": "markdown",
      "source": [
        "1. Make a copy of df_uk and drop duplicates"
      ],
      "metadata": {
        "id": "TDoNslseiqbA"
      }
    },
    {
      "cell_type": "code",
      "execution_count": null,
      "source": [],
      "outputs": [],
      "metadata": {
        "id": "6gk2gokFiqbA"
      }
    },
    {
      "cell_type": "markdown",
      "source": [
        "2. Calculate the frequency of purchases"
      ],
      "metadata": {
        "id": "7KrnuXrLiqbA"
      }
    },
    {
      "cell_type": "code",
      "execution_count": null,
      "source": [],
      "outputs": [],
      "metadata": {
        "id": "1LTM_cxpiqbA"
      }
    },
    {
      "cell_type": "markdown",
      "source": [
        "3. Plot RFM distributions"
      ],
      "metadata": {
        "id": "V9NNBCNgiqbA"
      }
    },
    {
      "cell_type": "code",
      "execution_count": null,
      "source": [],
      "outputs": [],
      "metadata": {
        "id": "yUtZAHu1iqbA"
      }
    },
    {
      "cell_type": "markdown",
      "source": [
        "### v. Monetary: Total amount of money spent\n",
        "\n",
        "The monetary value is calculated by adding together the cost of the customers' purchases.\n"
      ],
      "metadata": {
        "id": "wUY3gKjQQGWh"
      }
    },
    {
      "cell_type": "markdown",
      "source": [
        "1. Calculate sum total cost by customers and named \"Monetary\""
      ],
      "metadata": {
        "id": "5_4_QLWtiqbA"
      }
    },
    {
      "cell_type": "code",
      "execution_count": null,
      "source": [],
      "outputs": [],
      "metadata": {
        "id": "bilKBqvIiqbB"
      }
    },
    {
      "cell_type": "markdown",
      "source": [
        "2. Plot RFM distributions"
      ],
      "metadata": {
        "id": "dYsaCPRDiqbB"
      }
    },
    {
      "cell_type": "code",
      "execution_count": null,
      "source": [],
      "outputs": [],
      "metadata": {
        "id": "Sd41fD67iqbB"
      }
    },
    {
      "cell_type": "markdown",
      "source": [
        "### vi. Create RFM Table\n",
        "Merge the recency, frequency and motetary dataframes"
      ],
      "metadata": {
        "id": "SeaecPkSQGWj"
      }
    },
    {
      "cell_type": "code",
      "execution_count": null,
      "source": [],
      "outputs": [],
      "metadata": {
        "id": "M88KNSbyiqbB"
      }
    },
    {
      "cell_type": "markdown",
      "source": [
        "# 3. Customer Segmentation with RFM Scores"
      ],
      "metadata": {
        "id": "ULWwsxCkQGWl"
      }
    },
    {
      "cell_type": "markdown",
      "source": [
        "Businesses have this ever-lasting urge to understand their customers. The better you understand the customer, the better you serve them, and the higher the financial gain you receive from that customer. Since the dawn of trade, this process of understanding customers for a strategic gain has been there practiced and this task is known majorly as [Customer Segmentation](https://clevertap.com/blog/rfm-analysis/).\n",
        "Well as the name suggests, Customer Segmentation could segment customers according to their precise needs. Some of the common ways of segmenting customers are based on their Recency-Frequency-Monatory values, their demographics like gender, region, country, etc, and some of their business-crafted scores. You will use Recency-Frequency-Monatory values for this case.\n",
        "\n",
        "In this section, you will create an RFM Segmentation Table where you segment your customers by using the RFM table. For example, you can label the best customer as \"Big Spenders\" and the lost customer as \"Lost Customer\"."
      ],
      "metadata": {
        "id": "TZrxUBX4iqbB"
      }
    },
    {
      "cell_type": "markdown",
      "source": [
        "## Calculate RFM Scoring\n",
        "\n",
        "The simplest way to create customer segments from an RFM model is by using **Quartiles**. We will assign a score from 1 to 4 to each category (Recency, Frequency, and Monetary) with 4 being the highest/best value. The final RFM score is calculated by combining all RFM values. For Customer Segmentation, you will use the df_rfm data set resulting from the RFM analysis.\n",
        "<br>\n",
        "<br>\n",
        "**Note**: Data can be assigned into more groups for better granularity, but we will use 4 in this case."
      ],
      "metadata": {
        "id": "anOsOGpfQGWl"
      }
    },
    {
      "cell_type": "markdown",
      "source": [
        "1. Divide the df_rfm into quarters"
      ],
      "metadata": {
        "id": "WiwXSsP7iqbB"
      }
    },
    {
      "cell_type": "code",
      "execution_count": null,
      "source": [],
      "outputs": [],
      "metadata": {
        "id": "mFQJGPYHiqbC"
      }
    },
    {
      "cell_type": "markdown",
      "source": [
        "### i. Creating the RFM Segmentation Table\n"
      ],
      "metadata": {
        "id": "KnkzCAf9QGWo"
      }
    },
    {
      "cell_type": "markdown",
      "source": [
        "1. Create two functions, one for Recency and one for Frequency and Monetary. For Recency, customers in the first quarter should be scored as 4, this represents the highest Recency value. Conversely, for Frequency and Monetary, customers in the last quarter should be scored as 4, representing the highest Frequency and Monetary values."
      ],
      "metadata": {
        "id": "hLIB-z-_iqbC"
      }
    },
    {
      "cell_type": "code",
      "execution_count": null,
      "source": [],
      "outputs": [],
      "metadata": {
        "id": "SXnW03R8iqbC"
      }
    },
    {
      "cell_type": "markdown",
      "source": [
        "2. Score customers from 1 to 4 by applying the functions you have created. Also create separate score column for each value. "
      ],
      "metadata": {
        "id": "tLDK_XeLiqbC"
      }
    },
    {
      "cell_type": "code",
      "execution_count": null,
      "source": [],
      "outputs": [],
      "metadata": {
        "id": "plReZMcQiqbC"
      }
    },
    {
      "cell_type": "markdown",
      "source": [
        "3. Now that scored each customer, you'll combine the scores for segmentation."
      ],
      "metadata": {
        "id": "JskteCFdQGWq"
      }
    },
    {
      "cell_type": "code",
      "execution_count": null,
      "source": [],
      "outputs": [],
      "metadata": {
        "id": "ZYfoHF6QiqbC"
      }
    },
    {
      "cell_type": "markdown",
      "source": [
        "4. Define rfm_level function that tags customers by using RFM_Scrores and Create a new variable RFM_Level"
      ],
      "metadata": {
        "id": "uWwWeyjPiqbC"
      }
    },
    {
      "cell_type": "code",
      "execution_count": null,
      "source": [],
      "outputs": [],
      "metadata": {
        "id": "mxXk7jFPiqbD"
      }
    },
    {
      "cell_type": "markdown",
      "source": [
        "5. Calculate average values for each RFM_Level, and return a size of each segment "
      ],
      "metadata": {
        "id": "Lq36PiX3iqbD"
      }
    },
    {
      "cell_type": "code",
      "execution_count": null,
      "source": [],
      "outputs": [],
      "metadata": {
        "id": "jn5r5P2WiqbD"
      }
    },
    {
      "cell_type": "markdown",
      "source": [
        "## Plot RFM Segments"
      ],
      "metadata": {
        "id": "tuZ5Olo4iqbD"
      }
    },
    {
      "cell_type": "markdown",
      "source": [
        "1. Create your plot and resize it."
      ],
      "metadata": {
        "id": "STfELckwiqbD"
      }
    },
    {
      "cell_type": "code",
      "execution_count": null,
      "source": [],
      "outputs": [],
      "metadata": {
        "id": "Oef37q3diqbD"
      }
    },
    {
      "cell_type": "markdown",
      "source": [
        "Using customer segmentation categories found [here](http://www.blastam.com/blog/rfm-analysis-boosts-sales) we can formulate different marketing strategies and approaches for customer engagement for each type of customer.\n",
        "\n",
        "Note: The author in the article scores 1 as the highest and 4 as the lowest"
      ],
      "metadata": {
        "id": "FhOe2bb6QGWu"
      }
    },
    {
      "cell_type": "markdown",
      "source": [
        "2. How many customers do we have in each segment?"
      ],
      "metadata": {
        "id": "Te_6gUR5iqbD"
      }
    },
    {
      "cell_type": "code",
      "execution_count": null,
      "source": [],
      "outputs": [],
      "metadata": {
        "id": "Gs4rP-0viqbD"
      }
    },
    {
      "cell_type": "markdown",
      "source": [
        "# 3. Applying K-Means Clustering"
      ],
      "metadata": {
        "id": "1RwemvLyQGWv"
      }
    },
    {
      "cell_type": "markdown",
      "source": [
        "Now that we have our customers segmented into 6 different categories, we can gain further insight into customer behavior by using predictive models in conjuction with out RFM model.\n",
        "Possible algorithms include **Logistic Regression**, **K-means Clustering**, and **K-nearest Neighbor**. We will go with [K-Means](https://towardsdatascience.com/understanding-k-means-clustering-in-machine-learning-6a6e67336aa1) since we already have our distinct groups determined. K-means has also been widely used for market segmentation and has the advantage of being simple to implement."
      ],
      "metadata": {
        "id": "h6WZ0PnZQGWv"
      }
    },
    {
      "cell_type": "markdown",
      "source": [
        "## Data Pre-Processing and Exploring"
      ],
      "metadata": {
        "id": "IrWIRLkMiqbE"
      }
    },
    {
      "cell_type": "code",
      "execution_count": null,
      "source": [],
      "outputs": [],
      "metadata": {
        "id": "cLoRGR6NiqbE"
      }
    },
    {
      "cell_type": "markdown",
      "source": [
        "### i. Define and Plot Feature Correlations"
      ],
      "metadata": {
        "id": "-6SGV0xoQGWw"
      }
    },
    {
      "cell_type": "markdown",
      "source": [
        "Create Heatmap and evaluate the results "
      ],
      "metadata": {
        "id": "JpMAiWNBiqbE"
      }
    },
    {
      "cell_type": "code",
      "execution_count": null,
      "source": [],
      "outputs": [],
      "metadata": {
        "id": "I6Cv8_EqiqbE"
      }
    },
    {
      "cell_type": "markdown",
      "source": [
        "### ii. Visualize Feature Distributions\n",
        "\n",
        "To get a better understanding of the dataset, you can costruct a scatter matrix of each of the three features in the RFM data."
      ],
      "metadata": {
        "id": "8WhL5MBEQGWy"
      }
    },
    {
      "cell_type": "code",
      "execution_count": null,
      "source": [],
      "outputs": [],
      "metadata": {
        "id": "FHE0Vb0KiqbE"
      }
    },
    {
      "cell_type": "markdown",
      "source": [
        "### iii. Data Normalization"
      ],
      "metadata": {
        "id": "Q2RsjzjbQGWz"
      }
    },
    {
      "cell_type": "markdown",
      "source": [
        "1. You can use the logarithm method to normalize the values in a column."
      ],
      "metadata": {
        "id": "hXsrPpegiqbF"
      }
    },
    {
      "cell_type": "code",
      "execution_count": null,
      "source": [],
      "outputs": [],
      "metadata": {
        "id": "b-cBU8jxiqbF"
      }
    },
    {
      "cell_type": "markdown",
      "source": [
        "2. Plot normalized data with scatter matrix or pairplot. Also evaluate results."
      ],
      "metadata": {
        "id": "fC6dHnqKiqbF"
      }
    },
    {
      "cell_type": "code",
      "execution_count": null,
      "source": [],
      "outputs": [],
      "metadata": {
        "id": "iB9jDUPriqbF"
      }
    },
    {
      "cell_type": "markdown",
      "source": [
        "## K-Means Implementation\n",
        "\n",
        "For k-means, you have to set k to the number of clusters you want, but figuring out how many clusters is not obvious from the beginning. We will try different cluster numbers and check their [silhouette coefficient](http://scikit-learn.org/stable/auto_examples/cluster/plot_kmeans_silhouette_analysis.html). The silhouette coefficient for a data point measures how similar it is to its assigned cluster from -1 (dissimilar) to 1 (similar). \n",
        "<br>\n",
        "<br>\n",
        "**Note**: K-means is sensitive to initializations because they are critical to qualifty of optima found. Thus, we will use smart initialization called \"Elbow Method\"."
      ],
      "metadata": {
        "id": "35c0aDixQGW4"
      }
    },
    {
      "cell_type": "markdown",
      "source": [
        "### i. Define the Optimal Number of Clusters"
      ],
      "metadata": {
        "id": "JloMSEeriqbF"
      }
    },
    {
      "cell_type": "markdown",
      "source": [
        "[The Elbow Method](https://en.wikipedia.org/wiki/Elbow_method_(clustering) "
      ],
      "metadata": {
        "id": "McFq6IWZt5hg"
      }
    },
    {
      "cell_type": "code",
      "execution_count": null,
      "source": [],
      "outputs": [],
      "metadata": {
        "id": "2202eo2riqbF"
      }
    },
    {
      "cell_type": "markdown",
      "source": [
        "[Silhouette Coefficient](http://scikit-learn.org/stable/auto_examples/cluster/plot_kmeans_silhouette_analysis.html)"
      ],
      "metadata": {
        "id": "ACT_d0UpwUSC"
      }
    },
    {
      "cell_type": "code",
      "execution_count": null,
      "source": [],
      "outputs": [],
      "metadata": {
        "id": "qS4TLbRniqbG"
      }
    },
    {
      "cell_type": "markdown",
      "source": [
        "### ii. Model Fitting"
      ],
      "metadata": {
        "id": "o6dW2MWZiqbG"
      }
    },
    {
      "cell_type": "markdown",
      "source": [
        "Fit the K-Means Algorithm with the optimal number of clusters you decided and save the model to disk."
      ],
      "metadata": {
        "id": "cXM5ksoPiqbG"
      }
    },
    {
      "cell_type": "code",
      "execution_count": null,
      "source": [],
      "outputs": [],
      "metadata": {
        "id": "geMuViLniqbG"
      }
    },
    {
      "cell_type": "markdown",
      "source": [
        "### iii. Visualize the Clusters"
      ],
      "metadata": {
        "id": "GqcSwNZTQGW7"
      }
    },
    {
      "cell_type": "markdown",
      "source": [
        "1. Create a scatter plot and select cluster centers"
      ],
      "metadata": {
        "id": "Cfx5kzPriqbG"
      }
    },
    {
      "cell_type": "code",
      "execution_count": null,
      "source": [],
      "outputs": [],
      "metadata": {
        "id": "cyrovJB0iqbH"
      }
    },
    {
      "cell_type": "markdown",
      "source": [
        "2. Visualize Cluster Id vs Recency, Cluster Id vs Frequency and Cluster Id vs Monetary using Box plot. Also evaluate the results. "
      ],
      "metadata": {
        "id": "D4sHOvlniqbH"
      }
    },
    {
      "cell_type": "code",
      "execution_count": null,
      "source": [],
      "outputs": [],
      "metadata": {
        "id": "lzPl-LXViqbH"
      }
    },
    {
      "cell_type": "markdown",
      "source": [
        "### iv. Assign the Label"
      ],
      "metadata": {
        "id": "yRyku5qJiqbH"
      }
    },
    {
      "cell_type": "code",
      "execution_count": null,
      "source": [],
      "outputs": [],
      "metadata": {
        "id": "gVrkisf9iqbH"
      }
    },
    {
      "cell_type": "markdown",
      "source": [
        "**Conclusion**\n",
        "\n",
        "- Cluster 0 : The first cluster belongs to the \"Best Customers\" segment which we saw earlier as they purchase recently (R=4), frequent buyers (F=4), and spent the most (M=4)\n",
        "\n",
        "- Cluster 1 : Second cluster can be interpreted as passer customers as their last purchase is long ago (R<=1),purchased very few (F>=2 & F < 4) and spent little (M>=4 & M < 4).Company has to come up with new strategies to make them permanent members. Low value customers\n",
        "- Cluster 2 : The third cluster is more related to the \"Almost Lost\" segment as they Haven’t purchased for some time(R=1), but used to purchase frequently and spent a lot."
      ],
      "metadata": {
        "id": "_DiG6sxS4gWH"
      }
    },
    {
      "cell_type": "markdown",
      "source": [
        "### v. Conclusion\n",
        "\n",
        "Discuss your final results. Compare your own labels from the Customer Segmentation with the labels found by K-Means."
      ],
      "metadata": {
        "id": "lf4OsPmSQGXA"
      }
    },
    {
      "cell_type": "markdown",
      "source": [
        "How we want to continue this analysis depends on how the business plans to use the results and the level of granularity the business stakeholders want to see in the clusters. We can also ask what range of customer behavior from high to low value customers are the stakeholders interested in exploring. From those answers, various methods of clustering can be used and applied on RFM variable or directly on the transaction data set."
      ],
      "metadata": {
        "id": "UFaHgoLoQGXA"
      }
    },
    {
      "cell_type": "markdown",
      "source": [
        "**Annotation:**\n",
        "\n",
        "Limitations of K-means clustering:\n",
        "\n",
        "1. There is no assurance that it will lead to the global best solution.\n",
        "2. Can't deal with different shapes(not circular) and consider one point's probability of belonging to more than one cluster.\n",
        "\n",
        "These disadvantages of K-means show that for many datasets (especially low-dimensional datasets), it may not perform as well as you might hope."
      ],
      "metadata": {
        "id": "ysCkU1B-iqbI"
      }
    },
    {
      "cell_type": "markdown",
      "source": [
        "# 5. Create Cohort & Conduct Cohort Analysis\n",
        "[Cohort Analysis](https://medium.com/swlh/cohort-analysis-using-python-and-pandas-d2a60f4d0a4d) is specifically useful in analyzing user growth patterns for products. In terms of a product, a cohort can be a group of people with the same sign-up date, the same usage starts month/date, or the same traffic source.\n",
        "Cohort analysis is an analytics method by which these groups can be tracked over time for finding key insights. This analysis can further be used to do customer segmentation and track metrics like retention, churn, and lifetime value.\n",
        "\n",
        "For e-commerce organizations, cohort analysis is a unique opportunity to find out which clients are the most valuable to their business. by performing Cohort analysis you can get the following answers to the following questions:\n",
        "\n",
        "- How much effective was a marketing campaign held in a particular time period?\n",
        "- Did the strategy employ to improve the conversion rates of Customers worked?\n",
        "- Should I focus more on retention rather than acquiring new customers?\n",
        "- Are my customer nurturing strategies effective?\n",
        "- Which marketing channels bring me the best results?\n",
        "- Is there a seasonality pattern in Customer behavior?\n",
        "- Along with various performance measures/metrics for your organization."
      ],
      "metadata": {
        "id": "xiPd_IbnQGVn"
      }
    },
    {
      "cell_type": "markdown",
      "source": [
        "Since we will be performing Cohort Analysis based on transaction records of customers, the columns we will be dealing with mainly:\n",
        "- Invoice Data\n",
        "- CustomerID\n",
        "- Price\n",
        "- Quantity\n",
        "\n",
        "The following steps will performed to generate the Cohort Chart of Retention Rate:\n",
        "- Month Extraction from InvioceDate column\n",
        "- Assigning Cohort to Each Transaction\n",
        "- Assigning Cohort Index to each transaction\n",
        "- Calculating number of unique customers in each Group of (ChortDate,Index)\n",
        "- Creating Cohort Table for Retention Rate\n",
        "- Creating the Cohort Chart using the Cohort Table\n",
        "\n",
        "The Detailed information about each step is given below:"
      ],
      "metadata": {
        "id": "xhiYivPrQGVo"
      }
    },
    {
      "cell_type": "markdown",
      "source": [
        "## Future Engineering"
      ],
      "metadata": {
        "id": "eo0GB_osiqbI"
      }
    },
    {
      "cell_type": "markdown",
      "source": [
        "### i. Extract the Month of the Purchase\n",
        "First we will create a function, which takes any date and returns the formatted date with day value as 1st of the same month and Year."
      ],
      "metadata": {
        "id": "JVwPNjpyQGVo"
      }
    },
    {
      "cell_type": "code",
      "execution_count": null,
      "source": [],
      "outputs": [],
      "metadata": {
        "id": "lK1CqlNQiqbI"
      }
    },
    {
      "cell_type": "markdown",
      "source": [
        "Now we will use the function created above to convert all the invoice dates into respective month date format."
      ],
      "metadata": {
        "id": "NQKsM_9IQGVq"
      }
    },
    {
      "cell_type": "code",
      "execution_count": null,
      "source": [],
      "outputs": [],
      "metadata": {
        "id": "DL17u0dniqbJ"
      }
    },
    {
      "cell_type": "markdown",
      "source": [
        "### ii. Calculating time offset in Months i.e. Cohort Index:\n",
        "Calculating time offset for each transaction will allows us to report the metrics for each cohort in a comparable fashion.\n",
        "First, you will create 4 variables that capture the integer value of years, months for Invoice and Cohort Date using the get_date_int() function which you'll create it below."
      ],
      "metadata": {
        "id": "XPE7kTz2QGVs"
      }
    },
    {
      "cell_type": "code",
      "execution_count": null,
      "source": [],
      "outputs": [],
      "metadata": {
        "id": "1_3aYf4FiqbJ"
      }
    },
    {
      "cell_type": "markdown",
      "source": [
        "You will use this function to extract the integer values for Invoice as well as Cohort Date in 3 seperate series for each of the two columns"
      ],
      "metadata": {
        "id": "SGm1eweDQGVu"
      }
    },
    {
      "cell_type": "code",
      "execution_count": null,
      "source": [],
      "outputs": [],
      "metadata": {
        "id": "2wF_ViD_iqbJ"
      }
    },
    {
      "cell_type": "markdown",
      "source": [
        "Use the variables created above to calcualte the difference in days and store them in cohort Index column."
      ],
      "metadata": {
        "id": "Z9jYVljviqbJ"
      }
    },
    {
      "cell_type": "code",
      "execution_count": null,
      "source": [],
      "outputs": [],
      "metadata": {
        "id": "wVlAYCbEiqbJ"
      }
    },
    {
      "cell_type": "markdown",
      "source": [
        "## Create 1st Cohort: User number & Retention Rate"
      ],
      "metadata": {
        "id": "W-t76CXSQGVw"
      }
    },
    {
      "cell_type": "markdown",
      "source": [
        "### i. Pivot Cohort and Cohort Retention"
      ],
      "metadata": {
        "id": "bKvUWci9iqbJ"
      }
    },
    {
      "cell_type": "code",
      "execution_count": null,
      "source": [],
      "outputs": [],
      "metadata": {
        "id": "U-8HzlZWiqbK"
      }
    },
    {
      "cell_type": "markdown",
      "source": [
        "### ii. Visualize analysis of cohort 1 using seaborn and matplotlib modules"
      ],
      "metadata": {
        "id": "63TIyBY6iqbK"
      }
    },
    {
      "cell_type": "code",
      "execution_count": null,
      "source": [],
      "outputs": [],
      "metadata": {
        "id": "SY7mPvCAiqbK"
      }
    },
    {
      "cell_type": "markdown",
      "source": [
        "## Create the 2nd Cohort: Average Quantity Sold"
      ],
      "metadata": {
        "id": "yORYolvqQGV0"
      }
    },
    {
      "cell_type": "markdown",
      "source": [
        "### i. Pivot Cohort and Cohort Retention"
      ],
      "metadata": {
        "id": "Tu1hM3CFiqbK"
      }
    },
    {
      "cell_type": "code",
      "execution_count": null,
      "source": [],
      "outputs": [],
      "metadata": {
        "id": "yQ8jlhPEiqbK"
      }
    },
    {
      "cell_type": "markdown",
      "source": [
        "### ii. Visualize analysis of cohort 2 using seaborn and matplotlib modules"
      ],
      "metadata": {
        "id": "F3PJHMS6iqbK"
      }
    },
    {
      "cell_type": "code",
      "execution_count": null,
      "source": [],
      "outputs": [],
      "metadata": {
        "id": "9vuHi3wPiqbK"
      }
    },
    {
      "cell_type": "markdown",
      "source": [
        "## Create the 3rd Cohort: Average Sales\n"
      ],
      "metadata": {
        "id": "UUoG5yUIQGV3"
      }
    },
    {
      "cell_type": "markdown",
      "source": [
        "### i. Pivot Cohort and Cohort Retention"
      ],
      "metadata": {
        "id": "EKNS-mO5iqbL"
      }
    },
    {
      "cell_type": "code",
      "execution_count": null,
      "source": [],
      "outputs": [],
      "metadata": {
        "id": "t2s-zyWeiqbL"
      }
    },
    {
      "cell_type": "markdown",
      "source": [
        "### ii. Visualize analysis of cohort 3 using seaborn and matplotlib modules"
      ],
      "metadata": {
        "id": "tRGOpeUPiqbL"
      }
    },
    {
      "cell_type": "code",
      "execution_count": null,
      "source": [],
      "outputs": [],
      "metadata": {
        "id": "EYkkDncXiqbL"
      }
    },
    {
      "cell_type": "markdown",
      "source": [
        "For e-commerce organisations, cohort analysis is a unique opportunity to find out which clients are the most valuable to their business. by performing Cohort analysis you can get answers to following questions:\n",
        "\n",
        "- How much effective was a marketing campaign held in a particular time period?\n",
        "- Did the strategy employed to improve the conversion rates of Customers worked?\n",
        "- Should I focus more on retention rather than acquiring new customers?\n",
        "- Are my customer nurturing strategies effective?\n",
        "- Which marketing channels bring me the best results?\n",
        "- Is there a seasoanlity pattern in Customer behahiour?"
      ],
      "metadata": {
        "id": "uD9lu1ExQGV5"
      }
    },
    {
      "cell_type": "markdown",
      "source": [
        "___\n",
        "\n",
        "<p style=\"text-align: center;\"><img src=\"https://docs.google.com/uc?id=1lY0Uj5R04yMY3-ZppPWxqCr5pvBLYPnV\" class=\"img-fluid\" alt=\"CLRSWY\"></p>\n",
        "\n",
        "___"
      ],
      "metadata": {
        "id": "ZX_Y6S36iqbL"
      }
    }
  ]
}