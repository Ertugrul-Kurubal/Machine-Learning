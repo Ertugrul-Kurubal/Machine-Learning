{
  "nbformat": 4,
  "nbformat_minor": 2,
  "metadata": {
    "colab": {
      "name": "RFM - Customer Segmentation_Student_V3.ipynb",
      "provenance": [],
      "collapsed_sections": [
        "lf4OsPmSQGXA"
      ],
      "toc_visible": true
    },
    "kernelspec": {
      "name": "python3",
      "display_name": "Python 3.9.0 64-bit (system)"
    },
    "language_info": {
      "codemirror_mode": {
        "name": "ipython",
        "version": 3
      },
      "file_extension": ".py",
      "mimetype": "text/x-python",
      "name": "python",
      "nbconvert_exporter": "python",
      "pygments_lexer": "ipython3",
      "version": "3.9.0"
    },
    "interpreter": {
      "hash": "43a9cd95aa030499ef934e4da31e07dde54f3fc3a1fd0cc4aeef7f16459ee2ac"
    }
  },
  "cells": [
    {
      "cell_type": "markdown",
      "source": [
        "___\n",
        "\n",
        "<p style=\"text-align: center;\"><img src=\"https://docs.google.com/uc?id=1lY0Uj5R04yMY3-ZppPWxqCr5pvBLYPnV\" class=\"img-fluid\" alt=\"CLRSWY\"></p>\n",
        "\n",
        "___"
      ],
      "metadata": {
        "id": "yG6Ti6UOiqav"
      }
    },
    {
      "cell_type": "markdown",
      "source": [
        "# WELCOME!"
      ],
      "metadata": {
        "id": "M2v-2JDuiqa0"
      }
    },
    {
      "cell_type": "markdown",
      "source": [
        "Welcome to \"RFM Customer Segmentation & Cohort Analysis Project\". This is the first project of the Capstone Project Series, which consists of 4 different project that contain different scenarios.\n",
        "\n",
        "This is a project which you will learn what is RFM? And how to apply RFM Analysis and Customer Segmentation using K-Means Clustering. Also you will improve your Data Cleaning, Data Visualization and Exploratory Data Analysis capabilities. On the other hand you will create Cohort and Conduct Cohort Analysis. \n",
        "\n",
        "Before diving into the project, please take a look at the determines and project structure.\n",
        "\n",
        "- **NOTE:** This tutorial assumes that you already know the basics of coding in Python and are familiar with the theory behind K-Means Clustering.\n",
        "\n"
      ],
      "metadata": {
        "id": "oLS5y2Jqiqa1"
      }
    },
    {
      "cell_type": "markdown",
      "source": [
        "# #Determines\r\n",
        "\r\n",
        "Using the [Online Retail dataset](https://archive.ics.uci.edu/ml/datasets/Online+Retail) from the UCI Machine Learning Repository for exploratory data analysis, ***Customer Segmentation***, ***RFM Analysis***, ***K-Means Clustering*** and ***Cohort Analysis***.\r\n",
        "\r\n",
        "This is a transnational data set which contains all the transactions occurring between 01/12/2010 and 09/12/2011 for a UK-based and registered non-store online retail. The company mainly sells unique all-occasion gifts. Many customers of the company are wholesalers.\r\n",
        "\r\n",
        "Feature Information:\r\n",
        "\r\n",
        "**InvoiceNo**: Invoice number. *Nominal*, a 6-digit integral number uniquely assigned to each transaction. If this code starts with letter 'c', it indicates a cancellation. \r\n",
        "<br>\r\n",
        "**StockCode**: Product (item) code. *Nominal*, a 5-digit integral number uniquely assigned to each distinct product.\r\n",
        "<br>\r\n",
        "**Description**: Product (item) name. *Nominal*. \r\n",
        "<br>\r\n",
        "**Quantity**: The quantities of each product (item) per transaction. *Numeric*.\r\n",
        "<br>\r\n",
        "**InvoiceDate**: Invoice Date and time. *Numeric*, the day and time when each transaction was generated.\r\n",
        "<br>\r\n",
        "**UnitPrice**: Unit price. *Numeric*, Product price per unit in sterling.\r\n",
        "<br>\r\n",
        "**CustomerID**: Customer number. *Nominal*, a 5-digit integral number uniquely assigned to each customer.\r\n",
        "<br>\r\n",
        "**Country**: Country name. *Nominal*, the name of the country where each customer resides.\r\n",
        "\r\n",
        "\r\n",
        "---\r\n",
        "\r\n",
        "\r\n",
        "First of all, to observe the structure of the data and missing values, you can use exploratory data analysis and data visualization techniques.\r\n",
        "\r\n",
        "You must do descriptive analysis. Because you must understand the relationship of the features to each other and clear the noise and missing values in the data. After that, the data set will be ready for RFM analysis.\r\n",
        "\r\n",
        "Before starting the RFM Analysis, you will be asked to do some analysis regarding the distribution of *Orders*, *Customers* and *Countries*. These analyzes will help the company develop its sales policies and contribute to the correct use of resources.\r\n",
        "\r\n",
        "You will notice that the UK not only has the most sales revenue, but also the most customers. So you will continue to analyze only UK transactions in the next RFM Analysis, Customer Segmentation and K-Means Clustering topics.\r\n",
        "\r\n",
        "Next, you will begin RFM Analysis, a customer segmentation technique based on customers' past purchasing behavior. \r\n",
        "\r\n",
        "By using RFM Analysis, you can enable companies to develop different approaches to different customer segments so that they can get to know their customers better, observe trends better, and increase customer retention and sales revenues.\r\n",
        "\r\n",
        "You will calculate the Recency, Frequency and Monetary values of the customers in the RFM Analysis you will make using the data consisting of UK transactions. Ultimately, you have to create an RFM table containing these values.\r\n",
        "\r\n",
        "In the Customer Segmentation section, you will create an RFM Segmentation Table where you segment your customers by using the RFM table. For example, you can label the best customer as \"Big Spenders\" and the lost customer as \"Lost Customer\".\r\n",
        "\r\n",
        "We will segment the customers ourselves based on their recency, frequency, and monetary values. But can an **unsupervised learning** model do this better for us? You will use the K-Means algorithm to find the answer to this question. Then you will compare the classification made by the algorithm with the classification you have made yourself.\r\n",
        "\r\n",
        "Before applying K-Means Clustering, you should do data pre-processing. In this context, it will be useful to examine feature correlations and distributions. In addition, the data you apply for K-Means should be normalized.\r\n",
        "\r\n",
        "On the other hand, you should inform the K-means algorithm about the number of clusters it will predict. You will also try the *** Elbow method *** and *** Silhouette Analysis *** to find the optimum number of clusters.\r\n",
        "\r\n",
        "After the above operations, you will have made cluster estimation with K-Means. You should visualize the cluster distribution by using a scatter plot. You can observe the properties of the resulting clusters with the help of the boxplot. Thus you will be able to tag clusters and interpret results.\r\n",
        "\r\n",
        "Finally, you will do Cohort Analysis with the data you used at the beginning, regardless of the analysis you have done before. Cohort analysis is a subset of behavioral analytics that takes the user data and breaks them into related groups for analysis. This analysis can further be used to do customer segmentation and track metrics like retention, churn, and lifetime value.\r\n"
      ],
      "metadata": {
        "id": "1SCOFEfqiqa1"
      }
    },
    {
      "cell_type": "markdown",
      "source": [
        "# #Project Structures\n",
        "\n",
        "- Data Cleaning & Exploratory Data Analysis\n",
        "- RFM Analysis\n",
        "- Customer Segmentation\n",
        "- Applying K-Means Clustering\n",
        "- Create Cohort and Conduct Cohort Analysis"
      ],
      "metadata": {
        "id": "KQ62QseViqa2"
      }
    },
    {
      "cell_type": "markdown",
      "source": [
        "# #Tasks\n",
        "\n",
        "#### 1. Data Cleaning & Exploratory Data Analysis\n",
        "\n",
        "- Import Modules, Load Data & Data Review\n",
        "- Follow the Steps Below\n",
        "\n",
        "    *i. Take a look at relationships between InvoiceNo, Quantity and UnitPrice columns.*\n",
        "    \n",
        "    *ii. What does the letter \"C\" in the invoiceno column mean?*\n",
        "    \n",
        "    *iii. Handling Missing Values*\n",
        "    \n",
        "    *iv. Clean the Data from the Noise and Missing Values*\n",
        "    \n",
        "    *v. Explore the Orders*\n",
        "    \n",
        "    *vi. Explore Customers by Country*\n",
        "    \n",
        "    *vii. Explore the UK Market*\n",
        "    \n",
        "#### 2. RFM Analysis\n",
        "\n",
        "- Follow the steps below\n",
        "\n",
        "   *i. Import Libraries*\n",
        "   \n",
        "   *ii. Review \"df_uk\" DataFrame (the df_uk what you create at the end of the Task 1)*\n",
        "   \n",
        "   *iii. Calculate Recency*\n",
        "   \n",
        "   *iv. Calculate Frequency*\n",
        "   \n",
        "   *v. Calculate Monetary Values*\n",
        "   \n",
        "   *vi. Create RFM Table*\n",
        "\n",
        "#### 3. Customer Segmentation with RFM Scores\n",
        "- Calculate RFM Scoring\n",
        "\n",
        "    *i. Creating the RFM Segmentation Table*\n",
        " \n",
        "- Plot RFM Segments\n",
        "\n",
        "#### 4. Applying K-Means Clustering\n",
        "- Data Pre-Processing and Exploring\n",
        "\n",
        "    *i. Define and Plot Feature Correlations*\n",
        " \n",
        "    *ii. Visualize Feature Distributions*\n",
        " \n",
        "    *iii. Data Normalization*\n",
        "\n",
        "- K-Means Implementation\n",
        "\n",
        "    *i. Define Optimal Cluster Number (K) by using \"Elbow Method\" and \"Silhouette Analysis\"*\n",
        " \n",
        "    *ii. Visualize the Clusters*\n",
        " \n",
        "    *iii. Assign the label*\n",
        " \n",
        "    *iv. Conclusion*\n",
        " \n",
        "#### 5. Create Cohort and Conduct Cohort Analysis\n",
        "- Future Engineering\n",
        "\n",
        "    *i. Extract the Month of the Purchase*\n",
        " \n",
        "    *ii. Calculating time offset in Months i.e. Cohort Index*\n",
        " \n",
        "- Create 1st Cohort: User Number & Retention Rate \n",
        "\n",
        "    *i. Pivot Cohort and Cohort Retention*\n",
        " \n",
        "    *ii. Visualize analysis of cohort 1 using seaborn and matplotlib*\n",
        "\n",
        "- Create 2nd Cohort: Average Quantity Sold \n",
        "\n",
        "    *i. Pivot Cohort and Cohort Retention*\n",
        " \n",
        "    *ii. Visualize analysis of cohort 2 using seaborn and matplotlib*\n",
        "\n",
        "- Create 3rd Cohort: Average Sales\n",
        "\n",
        "    *i. Pivot Cohort and Cohort Retention*\n",
        " \n",
        "    *ii. Visualize analysis of cohort 3 using seaborn and matplotlib*\n",
        "    \n",
        "- **Note: There may be sub-tasks associated with each task, you will see them in order during the course of the work.**\n"
      ],
      "metadata": {
        "id": "wsPQ1tUwiqa2"
      }
    },
    {
      "cell_type": "markdown",
      "source": [
        "# 1. Data Cleaning & Exploratory Data Analysis"
      ],
      "metadata": {
        "id": "k-NlVU1UQGVA"
      }
    },
    {
      "cell_type": "markdown",
      "source": [
        "## Import Modules, Load Data & Data Review"
      ],
      "metadata": {
        "id": "L63G_-Dqiqa3"
      }
    },
    {
      "cell_type": "code",
      "execution_count": 1,
      "source": [
        "import pandas as pd\r\n",
        "import numpy as np\r\n",
        "import matplotlib.pyplot as plt\r\n",
        "import seaborn as sns"
      ],
      "outputs": [],
      "metadata": {
        "id": "J-Zb5JfOiqa3"
      }
    },
    {
      "cell_type": "code",
      "execution_count": 2,
      "source": [
        "df = pd.read_excel(\"Online Retail.xlsx\")"
      ],
      "outputs": [],
      "metadata": {}
    },
    {
      "cell_type": "code",
      "execution_count": 3,
      "source": [
        "df.head()"
      ],
      "outputs": [
        {
          "output_type": "execute_result",
          "data": {
            "text/plain": [
              "  InvoiceNo StockCode                          Description  Quantity  \\\n",
              "0    536365    85123A   WHITE HANGING HEART T-LIGHT HOLDER         6   \n",
              "1    536365     71053                  WHITE METAL LANTERN         6   \n",
              "2    536365    84406B       CREAM CUPID HEARTS COAT HANGER         8   \n",
              "3    536365    84029G  KNITTED UNION FLAG HOT WATER BOTTLE         6   \n",
              "4    536365    84029E       RED WOOLLY HOTTIE WHITE HEART.         6   \n",
              "\n",
              "          InvoiceDate  UnitPrice  CustomerID         Country  \n",
              "0 2010-12-01 08:26:00       2.55     17850.0  United Kingdom  \n",
              "1 2010-12-01 08:26:00       3.39     17850.0  United Kingdom  \n",
              "2 2010-12-01 08:26:00       2.75     17850.0  United Kingdom  \n",
              "3 2010-12-01 08:26:00       3.39     17850.0  United Kingdom  \n",
              "4 2010-12-01 08:26:00       3.39     17850.0  United Kingdom  "
            ],
            "text/html": [
              "<div>\n",
              "<style scoped>\n",
              "    .dataframe tbody tr th:only-of-type {\n",
              "        vertical-align: middle;\n",
              "    }\n",
              "\n",
              "    .dataframe tbody tr th {\n",
              "        vertical-align: top;\n",
              "    }\n",
              "\n",
              "    .dataframe thead th {\n",
              "        text-align: right;\n",
              "    }\n",
              "</style>\n",
              "<table border=\"1\" class=\"dataframe\">\n",
              "  <thead>\n",
              "    <tr style=\"text-align: right;\">\n",
              "      <th></th>\n",
              "      <th>InvoiceNo</th>\n",
              "      <th>StockCode</th>\n",
              "      <th>Description</th>\n",
              "      <th>Quantity</th>\n",
              "      <th>InvoiceDate</th>\n",
              "      <th>UnitPrice</th>\n",
              "      <th>CustomerID</th>\n",
              "      <th>Country</th>\n",
              "    </tr>\n",
              "  </thead>\n",
              "  <tbody>\n",
              "    <tr>\n",
              "      <th>0</th>\n",
              "      <td>536365</td>\n",
              "      <td>85123A</td>\n",
              "      <td>WHITE HANGING HEART T-LIGHT HOLDER</td>\n",
              "      <td>6</td>\n",
              "      <td>2010-12-01 08:26:00</td>\n",
              "      <td>2.55</td>\n",
              "      <td>17850.0</td>\n",
              "      <td>United Kingdom</td>\n",
              "    </tr>\n",
              "    <tr>\n",
              "      <th>1</th>\n",
              "      <td>536365</td>\n",
              "      <td>71053</td>\n",
              "      <td>WHITE METAL LANTERN</td>\n",
              "      <td>6</td>\n",
              "      <td>2010-12-01 08:26:00</td>\n",
              "      <td>3.39</td>\n",
              "      <td>17850.0</td>\n",
              "      <td>United Kingdom</td>\n",
              "    </tr>\n",
              "    <tr>\n",
              "      <th>2</th>\n",
              "      <td>536365</td>\n",
              "      <td>84406B</td>\n",
              "      <td>CREAM CUPID HEARTS COAT HANGER</td>\n",
              "      <td>8</td>\n",
              "      <td>2010-12-01 08:26:00</td>\n",
              "      <td>2.75</td>\n",
              "      <td>17850.0</td>\n",
              "      <td>United Kingdom</td>\n",
              "    </tr>\n",
              "    <tr>\n",
              "      <th>3</th>\n",
              "      <td>536365</td>\n",
              "      <td>84029G</td>\n",
              "      <td>KNITTED UNION FLAG HOT WATER BOTTLE</td>\n",
              "      <td>6</td>\n",
              "      <td>2010-12-01 08:26:00</td>\n",
              "      <td>3.39</td>\n",
              "      <td>17850.0</td>\n",
              "      <td>United Kingdom</td>\n",
              "    </tr>\n",
              "    <tr>\n",
              "      <th>4</th>\n",
              "      <td>536365</td>\n",
              "      <td>84029E</td>\n",
              "      <td>RED WOOLLY HOTTIE WHITE HEART.</td>\n",
              "      <td>6</td>\n",
              "      <td>2010-12-01 08:26:00</td>\n",
              "      <td>3.39</td>\n",
              "      <td>17850.0</td>\n",
              "      <td>United Kingdom</td>\n",
              "    </tr>\n",
              "  </tbody>\n",
              "</table>\n",
              "</div>"
            ]
          },
          "metadata": {},
          "execution_count": 3
        }
      ],
      "metadata": {}
    },
    {
      "cell_type": "code",
      "execution_count": 4,
      "source": [
        "df.info()"
      ],
      "outputs": [
        {
          "output_type": "stream",
          "name": "stdout",
          "text": [
            "<class 'pandas.core.frame.DataFrame'>\n",
            "RangeIndex: 541909 entries, 0 to 541908\n",
            "Data columns (total 8 columns):\n",
            " #   Column       Non-Null Count   Dtype         \n",
            "---  ------       --------------   -----         \n",
            " 0   InvoiceNo    541909 non-null  object        \n",
            " 1   StockCode    541909 non-null  object        \n",
            " 2   Description  540455 non-null  object        \n",
            " 3   Quantity     541909 non-null  int64         \n",
            " 4   InvoiceDate  541909 non-null  datetime64[ns]\n",
            " 5   UnitPrice    541909 non-null  float64       \n",
            " 6   CustomerID   406829 non-null  float64       \n",
            " 7   Country      541909 non-null  object        \n",
            "dtypes: datetime64[ns](1), float64(2), int64(1), object(4)\n",
            "memory usage: 33.1+ MB\n"
          ]
        }
      ],
      "metadata": {}
    },
    {
      "cell_type": "code",
      "execution_count": 5,
      "source": [
        "df.describe()"
      ],
      "outputs": [
        {
          "output_type": "execute_result",
          "data": {
            "text/plain": [
              "            Quantity      UnitPrice     CustomerID\n",
              "count  541909.000000  541909.000000  406829.000000\n",
              "mean        9.552250       4.611114   15287.690570\n",
              "std       218.081158      96.759853    1713.600303\n",
              "min    -80995.000000  -11062.060000   12346.000000\n",
              "25%         1.000000       1.250000   13953.000000\n",
              "50%         3.000000       2.080000   15152.000000\n",
              "75%        10.000000       4.130000   16791.000000\n",
              "max     80995.000000   38970.000000   18287.000000"
            ],
            "text/html": [
              "<div>\n",
              "<style scoped>\n",
              "    .dataframe tbody tr th:only-of-type {\n",
              "        vertical-align: middle;\n",
              "    }\n",
              "\n",
              "    .dataframe tbody tr th {\n",
              "        vertical-align: top;\n",
              "    }\n",
              "\n",
              "    .dataframe thead th {\n",
              "        text-align: right;\n",
              "    }\n",
              "</style>\n",
              "<table border=\"1\" class=\"dataframe\">\n",
              "  <thead>\n",
              "    <tr style=\"text-align: right;\">\n",
              "      <th></th>\n",
              "      <th>Quantity</th>\n",
              "      <th>UnitPrice</th>\n",
              "      <th>CustomerID</th>\n",
              "    </tr>\n",
              "  </thead>\n",
              "  <tbody>\n",
              "    <tr>\n",
              "      <th>count</th>\n",
              "      <td>541909.000000</td>\n",
              "      <td>541909.000000</td>\n",
              "      <td>406829.000000</td>\n",
              "    </tr>\n",
              "    <tr>\n",
              "      <th>mean</th>\n",
              "      <td>9.552250</td>\n",
              "      <td>4.611114</td>\n",
              "      <td>15287.690570</td>\n",
              "    </tr>\n",
              "    <tr>\n",
              "      <th>std</th>\n",
              "      <td>218.081158</td>\n",
              "      <td>96.759853</td>\n",
              "      <td>1713.600303</td>\n",
              "    </tr>\n",
              "    <tr>\n",
              "      <th>min</th>\n",
              "      <td>-80995.000000</td>\n",
              "      <td>-11062.060000</td>\n",
              "      <td>12346.000000</td>\n",
              "    </tr>\n",
              "    <tr>\n",
              "      <th>25%</th>\n",
              "      <td>1.000000</td>\n",
              "      <td>1.250000</td>\n",
              "      <td>13953.000000</td>\n",
              "    </tr>\n",
              "    <tr>\n",
              "      <th>50%</th>\n",
              "      <td>3.000000</td>\n",
              "      <td>2.080000</td>\n",
              "      <td>15152.000000</td>\n",
              "    </tr>\n",
              "    <tr>\n",
              "      <th>75%</th>\n",
              "      <td>10.000000</td>\n",
              "      <td>4.130000</td>\n",
              "      <td>16791.000000</td>\n",
              "    </tr>\n",
              "    <tr>\n",
              "      <th>max</th>\n",
              "      <td>80995.000000</td>\n",
              "      <td>38970.000000</td>\n",
              "      <td>18287.000000</td>\n",
              "    </tr>\n",
              "  </tbody>\n",
              "</table>\n",
              "</div>"
            ]
          },
          "metadata": {},
          "execution_count": 5
        }
      ],
      "metadata": {}
    },
    {
      "cell_type": "code",
      "execution_count": 6,
      "source": [
        "df.isnull().sum()"
      ],
      "outputs": [
        {
          "output_type": "execute_result",
          "data": {
            "text/plain": [
              "InvoiceNo           0\n",
              "StockCode           0\n",
              "Description      1454\n",
              "Quantity            0\n",
              "InvoiceDate         0\n",
              "UnitPrice           0\n",
              "CustomerID     135080\n",
              "Country             0\n",
              "dtype: int64"
            ]
          },
          "metadata": {},
          "execution_count": 6
        }
      ],
      "metadata": {}
    },
    {
      "cell_type": "code",
      "execution_count": 7,
      "source": [
        "for i in df.columns:\r\n",
        "    nvalue = df[i].nunique()\r\n",
        "    print(f\"{i} has {nvalue} unique values\")"
      ],
      "outputs": [
        {
          "output_type": "stream",
          "name": "stdout",
          "text": [
            "InvoiceNo has 25900 unique values\n",
            "StockCode has 4070 unique values\n",
            "Description has 4223 unique values\n",
            "Quantity has 722 unique values\n",
            "InvoiceDate has 23260 unique values\n",
            "UnitPrice has 1630 unique values\n",
            "CustomerID has 4372 unique values\n",
            "Country has 38 unique values\n"
          ]
        }
      ],
      "metadata": {}
    },
    {
      "cell_type": "markdown",
      "source": [
        "### i. Take a look at relationships between InvoiceNo, Quantity and UnitPrice columns."
      ],
      "metadata": {
        "id": "YECMxCzUQGV7"
      }
    },
    {
      "cell_type": "code",
      "execution_count": 8,
      "source": [
        "InvQUnit = df[[\"InvoiceNo\", \"Quantity\", \"UnitPrice\"]]\r\n",
        "InvQUnit"
      ],
      "outputs": [
        {
          "output_type": "execute_result",
          "data": {
            "text/plain": [
              "       InvoiceNo  Quantity  UnitPrice\n",
              "0         536365         6       2.55\n",
              "1         536365         6       3.39\n",
              "2         536365         8       2.75\n",
              "3         536365         6       3.39\n",
              "4         536365         6       3.39\n",
              "...          ...       ...        ...\n",
              "541904    581587        12       0.85\n",
              "541905    581587         6       2.10\n",
              "541906    581587         4       4.15\n",
              "541907    581587         4       4.15\n",
              "541908    581587         3       4.95\n",
              "\n",
              "[541909 rows x 3 columns]"
            ],
            "text/html": [
              "<div>\n",
              "<style scoped>\n",
              "    .dataframe tbody tr th:only-of-type {\n",
              "        vertical-align: middle;\n",
              "    }\n",
              "\n",
              "    .dataframe tbody tr th {\n",
              "        vertical-align: top;\n",
              "    }\n",
              "\n",
              "    .dataframe thead th {\n",
              "        text-align: right;\n",
              "    }\n",
              "</style>\n",
              "<table border=\"1\" class=\"dataframe\">\n",
              "  <thead>\n",
              "    <tr style=\"text-align: right;\">\n",
              "      <th></th>\n",
              "      <th>InvoiceNo</th>\n",
              "      <th>Quantity</th>\n",
              "      <th>UnitPrice</th>\n",
              "    </tr>\n",
              "  </thead>\n",
              "  <tbody>\n",
              "    <tr>\n",
              "      <th>0</th>\n",
              "      <td>536365</td>\n",
              "      <td>6</td>\n",
              "      <td>2.55</td>\n",
              "    </tr>\n",
              "    <tr>\n",
              "      <th>1</th>\n",
              "      <td>536365</td>\n",
              "      <td>6</td>\n",
              "      <td>3.39</td>\n",
              "    </tr>\n",
              "    <tr>\n",
              "      <th>2</th>\n",
              "      <td>536365</td>\n",
              "      <td>8</td>\n",
              "      <td>2.75</td>\n",
              "    </tr>\n",
              "    <tr>\n",
              "      <th>3</th>\n",
              "      <td>536365</td>\n",
              "      <td>6</td>\n",
              "      <td>3.39</td>\n",
              "    </tr>\n",
              "    <tr>\n",
              "      <th>4</th>\n",
              "      <td>536365</td>\n",
              "      <td>6</td>\n",
              "      <td>3.39</td>\n",
              "    </tr>\n",
              "    <tr>\n",
              "      <th>...</th>\n",
              "      <td>...</td>\n",
              "      <td>...</td>\n",
              "      <td>...</td>\n",
              "    </tr>\n",
              "    <tr>\n",
              "      <th>541904</th>\n",
              "      <td>581587</td>\n",
              "      <td>12</td>\n",
              "      <td>0.85</td>\n",
              "    </tr>\n",
              "    <tr>\n",
              "      <th>541905</th>\n",
              "      <td>581587</td>\n",
              "      <td>6</td>\n",
              "      <td>2.10</td>\n",
              "    </tr>\n",
              "    <tr>\n",
              "      <th>541906</th>\n",
              "      <td>581587</td>\n",
              "      <td>4</td>\n",
              "      <td>4.15</td>\n",
              "    </tr>\n",
              "    <tr>\n",
              "      <th>541907</th>\n",
              "      <td>581587</td>\n",
              "      <td>4</td>\n",
              "      <td>4.15</td>\n",
              "    </tr>\n",
              "    <tr>\n",
              "      <th>541908</th>\n",
              "      <td>581587</td>\n",
              "      <td>3</td>\n",
              "      <td>4.95</td>\n",
              "    </tr>\n",
              "  </tbody>\n",
              "</table>\n",
              "<p>541909 rows × 3 columns</p>\n",
              "</div>"
            ]
          },
          "metadata": {},
          "execution_count": 8
        }
      ],
      "metadata": {
        "id": "nQ8vAKbbiqa4"
      }
    },
    {
      "cell_type": "markdown",
      "source": [
        "We see that there are negative values in the Quantity and UnitPrice columns. These are possibly canceled and returned orders. Let's check it out."
      ],
      "metadata": {
        "id": "KiSW67N_QGV8"
      }
    },
    {
      "cell_type": "code",
      "execution_count": 9,
      "source": [
        "neg_quan = InvQUnit[InvQUnit.Quantity<0]\r\n",
        "neg_quan"
      ],
      "outputs": [
        {
          "output_type": "execute_result",
          "data": {
            "text/plain": [
              "       InvoiceNo  Quantity  UnitPrice\n",
              "141      C536379        -1      27.50\n",
              "154      C536383        -1       4.65\n",
              "235      C536391       -12       1.65\n",
              "236      C536391       -24       0.29\n",
              "237      C536391       -24       0.29\n",
              "...          ...       ...        ...\n",
              "540449   C581490       -11       0.83\n",
              "541541   C581499        -1     224.69\n",
              "541715   C581568        -5      10.95\n",
              "541716   C581569        -1       1.25\n",
              "541717   C581569        -5       1.25\n",
              "\n",
              "[10624 rows x 3 columns]"
            ],
            "text/html": [
              "<div>\n",
              "<style scoped>\n",
              "    .dataframe tbody tr th:only-of-type {\n",
              "        vertical-align: middle;\n",
              "    }\n",
              "\n",
              "    .dataframe tbody tr th {\n",
              "        vertical-align: top;\n",
              "    }\n",
              "\n",
              "    .dataframe thead th {\n",
              "        text-align: right;\n",
              "    }\n",
              "</style>\n",
              "<table border=\"1\" class=\"dataframe\">\n",
              "  <thead>\n",
              "    <tr style=\"text-align: right;\">\n",
              "      <th></th>\n",
              "      <th>InvoiceNo</th>\n",
              "      <th>Quantity</th>\n",
              "      <th>UnitPrice</th>\n",
              "    </tr>\n",
              "  </thead>\n",
              "  <tbody>\n",
              "    <tr>\n",
              "      <th>141</th>\n",
              "      <td>C536379</td>\n",
              "      <td>-1</td>\n",
              "      <td>27.50</td>\n",
              "    </tr>\n",
              "    <tr>\n",
              "      <th>154</th>\n",
              "      <td>C536383</td>\n",
              "      <td>-1</td>\n",
              "      <td>4.65</td>\n",
              "    </tr>\n",
              "    <tr>\n",
              "      <th>235</th>\n",
              "      <td>C536391</td>\n",
              "      <td>-12</td>\n",
              "      <td>1.65</td>\n",
              "    </tr>\n",
              "    <tr>\n",
              "      <th>236</th>\n",
              "      <td>C536391</td>\n",
              "      <td>-24</td>\n",
              "      <td>0.29</td>\n",
              "    </tr>\n",
              "    <tr>\n",
              "      <th>237</th>\n",
              "      <td>C536391</td>\n",
              "      <td>-24</td>\n",
              "      <td>0.29</td>\n",
              "    </tr>\n",
              "    <tr>\n",
              "      <th>...</th>\n",
              "      <td>...</td>\n",
              "      <td>...</td>\n",
              "      <td>...</td>\n",
              "    </tr>\n",
              "    <tr>\n",
              "      <th>540449</th>\n",
              "      <td>C581490</td>\n",
              "      <td>-11</td>\n",
              "      <td>0.83</td>\n",
              "    </tr>\n",
              "    <tr>\n",
              "      <th>541541</th>\n",
              "      <td>C581499</td>\n",
              "      <td>-1</td>\n",
              "      <td>224.69</td>\n",
              "    </tr>\n",
              "    <tr>\n",
              "      <th>541715</th>\n",
              "      <td>C581568</td>\n",
              "      <td>-5</td>\n",
              "      <td>10.95</td>\n",
              "    </tr>\n",
              "    <tr>\n",
              "      <th>541716</th>\n",
              "      <td>C581569</td>\n",
              "      <td>-1</td>\n",
              "      <td>1.25</td>\n",
              "    </tr>\n",
              "    <tr>\n",
              "      <th>541717</th>\n",
              "      <td>C581569</td>\n",
              "      <td>-5</td>\n",
              "      <td>1.25</td>\n",
              "    </tr>\n",
              "  </tbody>\n",
              "</table>\n",
              "<p>10624 rows × 3 columns</p>\n",
              "</div>"
            ]
          },
          "metadata": {},
          "execution_count": 9
        }
      ],
      "metadata": {
        "id": "ZoHopX7-iqa4"
      }
    },
    {
      "cell_type": "code",
      "execution_count": 10,
      "source": [
        "len(neg_quan)"
      ],
      "outputs": [
        {
          "output_type": "execute_result",
          "data": {
            "text/plain": [
              "10624"
            ]
          },
          "metadata": {},
          "execution_count": 10
        }
      ],
      "metadata": {}
    },
    {
      "cell_type": "code",
      "execution_count": 11,
      "source": [
        "InvQUnit.InvoiceNo.sample(10) # All data"
      ],
      "outputs": [
        {
          "output_type": "execute_result",
          "data": {
            "text/plain": [
              "536058    581218\n",
              "290702    562417\n",
              "31180     538902\n",
              "149215    549281\n",
              "33375     539250\n",
              "271538    560700\n",
              "200413    554132\n",
              "455533    575627\n",
              "389835    570488\n",
              "406875    571837\n",
              "Name: InvoiceNo, dtype: object"
            ]
          },
          "metadata": {},
          "execution_count": 11
        }
      ],
      "metadata": {}
    },
    {
      "cell_type": "markdown",
      "source": [
        "### ii. What does the letter \"C\" in the InvoiceNo column mean?"
      ],
      "metadata": {
        "id": "7OoPE-QLiqa4"
      }
    },
    {
      "cell_type": "code",
      "execution_count": 12,
      "source": [
        "C_Invoice = InvQUnit[InvQUnit.InvoiceNo.str.contains(\"C\", na=False)] # All data\r\n",
        "C_Invoice"
      ],
      "outputs": [
        {
          "output_type": "execute_result",
          "data": {
            "text/plain": [
              "       InvoiceNo  Quantity  UnitPrice\n",
              "141      C536379        -1      27.50\n",
              "154      C536383        -1       4.65\n",
              "235      C536391       -12       1.65\n",
              "236      C536391       -24       0.29\n",
              "237      C536391       -24       0.29\n",
              "...          ...       ...        ...\n",
              "540449   C581490       -11       0.83\n",
              "541541   C581499        -1     224.69\n",
              "541715   C581568        -5      10.95\n",
              "541716   C581569        -1       1.25\n",
              "541717   C581569        -5       1.25\n",
              "\n",
              "[9288 rows x 3 columns]"
            ],
            "text/html": [
              "<div>\n",
              "<style scoped>\n",
              "    .dataframe tbody tr th:only-of-type {\n",
              "        vertical-align: middle;\n",
              "    }\n",
              "\n",
              "    .dataframe tbody tr th {\n",
              "        vertical-align: top;\n",
              "    }\n",
              "\n",
              "    .dataframe thead th {\n",
              "        text-align: right;\n",
              "    }\n",
              "</style>\n",
              "<table border=\"1\" class=\"dataframe\">\n",
              "  <thead>\n",
              "    <tr style=\"text-align: right;\">\n",
              "      <th></th>\n",
              "      <th>InvoiceNo</th>\n",
              "      <th>Quantity</th>\n",
              "      <th>UnitPrice</th>\n",
              "    </tr>\n",
              "  </thead>\n",
              "  <tbody>\n",
              "    <tr>\n",
              "      <th>141</th>\n",
              "      <td>C536379</td>\n",
              "      <td>-1</td>\n",
              "      <td>27.50</td>\n",
              "    </tr>\n",
              "    <tr>\n",
              "      <th>154</th>\n",
              "      <td>C536383</td>\n",
              "      <td>-1</td>\n",
              "      <td>4.65</td>\n",
              "    </tr>\n",
              "    <tr>\n",
              "      <th>235</th>\n",
              "      <td>C536391</td>\n",
              "      <td>-12</td>\n",
              "      <td>1.65</td>\n",
              "    </tr>\n",
              "    <tr>\n",
              "      <th>236</th>\n",
              "      <td>C536391</td>\n",
              "      <td>-24</td>\n",
              "      <td>0.29</td>\n",
              "    </tr>\n",
              "    <tr>\n",
              "      <th>237</th>\n",
              "      <td>C536391</td>\n",
              "      <td>-24</td>\n",
              "      <td>0.29</td>\n",
              "    </tr>\n",
              "    <tr>\n",
              "      <th>...</th>\n",
              "      <td>...</td>\n",
              "      <td>...</td>\n",
              "      <td>...</td>\n",
              "    </tr>\n",
              "    <tr>\n",
              "      <th>540449</th>\n",
              "      <td>C581490</td>\n",
              "      <td>-11</td>\n",
              "      <td>0.83</td>\n",
              "    </tr>\n",
              "    <tr>\n",
              "      <th>541541</th>\n",
              "      <td>C581499</td>\n",
              "      <td>-1</td>\n",
              "      <td>224.69</td>\n",
              "    </tr>\n",
              "    <tr>\n",
              "      <th>541715</th>\n",
              "      <td>C581568</td>\n",
              "      <td>-5</td>\n",
              "      <td>10.95</td>\n",
              "    </tr>\n",
              "    <tr>\n",
              "      <th>541716</th>\n",
              "      <td>C581569</td>\n",
              "      <td>-1</td>\n",
              "      <td>1.25</td>\n",
              "    </tr>\n",
              "    <tr>\n",
              "      <th>541717</th>\n",
              "      <td>C581569</td>\n",
              "      <td>-5</td>\n",
              "      <td>1.25</td>\n",
              "    </tr>\n",
              "  </tbody>\n",
              "</table>\n",
              "<p>9288 rows × 3 columns</p>\n",
              "</div>"
            ]
          },
          "metadata": {},
          "execution_count": 12
        }
      ],
      "metadata": {
        "id": "PgN0C80Giqa5"
      }
    },
    {
      "cell_type": "code",
      "execution_count": 13,
      "source": [
        "neg_quan[neg_quan.InvoiceNo.str.contains(\"C\", na=False)] # Neg Quantity Data"
      ],
      "outputs": [
        {
          "output_type": "execute_result",
          "data": {
            "text/plain": [
              "       InvoiceNo  Quantity  UnitPrice\n",
              "141      C536379        -1      27.50\n",
              "154      C536383        -1       4.65\n",
              "235      C536391       -12       1.65\n",
              "236      C536391       -24       0.29\n",
              "237      C536391       -24       0.29\n",
              "...          ...       ...        ...\n",
              "540449   C581490       -11       0.83\n",
              "541541   C581499        -1     224.69\n",
              "541715   C581568        -5      10.95\n",
              "541716   C581569        -1       1.25\n",
              "541717   C581569        -5       1.25\n",
              "\n",
              "[9288 rows x 3 columns]"
            ],
            "text/html": [
              "<div>\n",
              "<style scoped>\n",
              "    .dataframe tbody tr th:only-of-type {\n",
              "        vertical-align: middle;\n",
              "    }\n",
              "\n",
              "    .dataframe tbody tr th {\n",
              "        vertical-align: top;\n",
              "    }\n",
              "\n",
              "    .dataframe thead th {\n",
              "        text-align: right;\n",
              "    }\n",
              "</style>\n",
              "<table border=\"1\" class=\"dataframe\">\n",
              "  <thead>\n",
              "    <tr style=\"text-align: right;\">\n",
              "      <th></th>\n",
              "      <th>InvoiceNo</th>\n",
              "      <th>Quantity</th>\n",
              "      <th>UnitPrice</th>\n",
              "    </tr>\n",
              "  </thead>\n",
              "  <tbody>\n",
              "    <tr>\n",
              "      <th>141</th>\n",
              "      <td>C536379</td>\n",
              "      <td>-1</td>\n",
              "      <td>27.50</td>\n",
              "    </tr>\n",
              "    <tr>\n",
              "      <th>154</th>\n",
              "      <td>C536383</td>\n",
              "      <td>-1</td>\n",
              "      <td>4.65</td>\n",
              "    </tr>\n",
              "    <tr>\n",
              "      <th>235</th>\n",
              "      <td>C536391</td>\n",
              "      <td>-12</td>\n",
              "      <td>1.65</td>\n",
              "    </tr>\n",
              "    <tr>\n",
              "      <th>236</th>\n",
              "      <td>C536391</td>\n",
              "      <td>-24</td>\n",
              "      <td>0.29</td>\n",
              "    </tr>\n",
              "    <tr>\n",
              "      <th>237</th>\n",
              "      <td>C536391</td>\n",
              "      <td>-24</td>\n",
              "      <td>0.29</td>\n",
              "    </tr>\n",
              "    <tr>\n",
              "      <th>...</th>\n",
              "      <td>...</td>\n",
              "      <td>...</td>\n",
              "      <td>...</td>\n",
              "    </tr>\n",
              "    <tr>\n",
              "      <th>540449</th>\n",
              "      <td>C581490</td>\n",
              "      <td>-11</td>\n",
              "      <td>0.83</td>\n",
              "    </tr>\n",
              "    <tr>\n",
              "      <th>541541</th>\n",
              "      <td>C581499</td>\n",
              "      <td>-1</td>\n",
              "      <td>224.69</td>\n",
              "    </tr>\n",
              "    <tr>\n",
              "      <th>541715</th>\n",
              "      <td>C581568</td>\n",
              "      <td>-5</td>\n",
              "      <td>10.95</td>\n",
              "    </tr>\n",
              "    <tr>\n",
              "      <th>541716</th>\n",
              "      <td>C581569</td>\n",
              "      <td>-1</td>\n",
              "      <td>1.25</td>\n",
              "    </tr>\n",
              "    <tr>\n",
              "      <th>541717</th>\n",
              "      <td>C581569</td>\n",
              "      <td>-5</td>\n",
              "      <td>1.25</td>\n",
              "    </tr>\n",
              "  </tbody>\n",
              "</table>\n",
              "<p>9288 rows × 3 columns</p>\n",
              "</div>"
            ]
          },
          "metadata": {},
          "execution_count": 13
        }
      ],
      "metadata": {}
    },
    {
      "cell_type": "markdown",
      "source": [
        "If the invoice number starts with the letter \"C\", it means the order was cancelled. Or those who abandon their order."
      ],
      "metadata": {
        "id": "Kt32SZgJQGV8"
      }
    },
    {
      "cell_type": "code",
      "execution_count": 14,
      "source": [
        "len(InvQUnit[InvQUnit.InvoiceNo.str.contains(\"C\", na=False)]) # In All Data"
      ],
      "outputs": [
        {
          "output_type": "execute_result",
          "data": {
            "text/plain": [
              "9288"
            ]
          },
          "metadata": {},
          "execution_count": 14
        }
      ],
      "metadata": {
        "id": "-sdD1F4Xiqa5"
      }
    },
    {
      "cell_type": "code",
      "execution_count": 15,
      "source": [
        "len(neg_quan[neg_quan.InvoiceNo.str.contains(\"C\", na=False)]) # In Negative Quantity"
      ],
      "outputs": [
        {
          "output_type": "execute_result",
          "data": {
            "text/plain": [
              "9288"
            ]
          },
          "metadata": {},
          "execution_count": 15
        }
      ],
      "metadata": {}
    },
    {
      "cell_type": "markdown",
      "source": [
        "When we filter canceled orders by Quantity> 0 or filter non-canceled orders by Quantity <0 nothing returns, this confirms that negative values mean the order was canceled. So lets find out how many orders were cancelled?"
      ],
      "metadata": {
        "id": "YP5RPZq1QGV_"
      }
    },
    {
      "cell_type": "code",
      "execution_count": 16,
      "source": [
        "C_Invoice[C_Invoice.Quantity > 0] # Quaantity değeri sıfırdan büyük olup InvoiceNo da \"C\" harfi olan siperiş var mı kontrol ediyoruz."
      ],
      "outputs": [
        {
          "output_type": "execute_result",
          "data": {
            "text/plain": [
              "Empty DataFrame\n",
              "Columns: [InvoiceNo, Quantity, UnitPrice]\n",
              "Index: []"
            ],
            "text/html": [
              "<div>\n",
              "<style scoped>\n",
              "    .dataframe tbody tr th:only-of-type {\n",
              "        vertical-align: middle;\n",
              "    }\n",
              "\n",
              "    .dataframe tbody tr th {\n",
              "        vertical-align: top;\n",
              "    }\n",
              "\n",
              "    .dataframe thead th {\n",
              "        text-align: right;\n",
              "    }\n",
              "</style>\n",
              "<table border=\"1\" class=\"dataframe\">\n",
              "  <thead>\n",
              "    <tr style=\"text-align: right;\">\n",
              "      <th></th>\n",
              "      <th>InvoiceNo</th>\n",
              "      <th>Quantity</th>\n",
              "      <th>UnitPrice</th>\n",
              "    </tr>\n",
              "  </thead>\n",
              "  <tbody>\n",
              "  </tbody>\n",
              "</table>\n",
              "</div>"
            ]
          },
          "metadata": {},
          "execution_count": 16
        }
      ],
      "metadata": {
        "id": "IxrhRFHhiqa5"
      }
    },
    {
      "cell_type": "code",
      "execution_count": 17,
      "source": [
        "neg_quan[~neg_quan.InvoiceNo.str.contains(\"C\", na=False)] # Not C letter include Invoice but they are negative quantity and also UnitPrice are 0.0 (C harfi içermeyen fakat Quantity değeri negatif olan verileri kontrol ettiğimizde UnitPrice ların 0.0 olduğunu görüyoruz.)"
      ],
      "outputs": [
        {
          "output_type": "execute_result",
          "data": {
            "text/plain": [
              "       InvoiceNo  Quantity  UnitPrice\n",
              "2406      536589       -10        0.0\n",
              "4347      536764       -38        0.0\n",
              "7188      536996       -20        0.0\n",
              "7189      536997       -20        0.0\n",
              "7190      536998        -6        0.0\n",
              "...          ...       ...        ...\n",
              "535333    581210       -26        0.0\n",
              "535335    581212     -1050        0.0\n",
              "535336    581213       -30        0.0\n",
              "536908    581226      -338        0.0\n",
              "538919    581422      -235        0.0\n",
              "\n",
              "[1336 rows x 3 columns]"
            ],
            "text/html": [
              "<div>\n",
              "<style scoped>\n",
              "    .dataframe tbody tr th:only-of-type {\n",
              "        vertical-align: middle;\n",
              "    }\n",
              "\n",
              "    .dataframe tbody tr th {\n",
              "        vertical-align: top;\n",
              "    }\n",
              "\n",
              "    .dataframe thead th {\n",
              "        text-align: right;\n",
              "    }\n",
              "</style>\n",
              "<table border=\"1\" class=\"dataframe\">\n",
              "  <thead>\n",
              "    <tr style=\"text-align: right;\">\n",
              "      <th></th>\n",
              "      <th>InvoiceNo</th>\n",
              "      <th>Quantity</th>\n",
              "      <th>UnitPrice</th>\n",
              "    </tr>\n",
              "  </thead>\n",
              "  <tbody>\n",
              "    <tr>\n",
              "      <th>2406</th>\n",
              "      <td>536589</td>\n",
              "      <td>-10</td>\n",
              "      <td>0.0</td>\n",
              "    </tr>\n",
              "    <tr>\n",
              "      <th>4347</th>\n",
              "      <td>536764</td>\n",
              "      <td>-38</td>\n",
              "      <td>0.0</td>\n",
              "    </tr>\n",
              "    <tr>\n",
              "      <th>7188</th>\n",
              "      <td>536996</td>\n",
              "      <td>-20</td>\n",
              "      <td>0.0</td>\n",
              "    </tr>\n",
              "    <tr>\n",
              "      <th>7189</th>\n",
              "      <td>536997</td>\n",
              "      <td>-20</td>\n",
              "      <td>0.0</td>\n",
              "    </tr>\n",
              "    <tr>\n",
              "      <th>7190</th>\n",
              "      <td>536998</td>\n",
              "      <td>-6</td>\n",
              "      <td>0.0</td>\n",
              "    </tr>\n",
              "    <tr>\n",
              "      <th>...</th>\n",
              "      <td>...</td>\n",
              "      <td>...</td>\n",
              "      <td>...</td>\n",
              "    </tr>\n",
              "    <tr>\n",
              "      <th>535333</th>\n",
              "      <td>581210</td>\n",
              "      <td>-26</td>\n",
              "      <td>0.0</td>\n",
              "    </tr>\n",
              "    <tr>\n",
              "      <th>535335</th>\n",
              "      <td>581212</td>\n",
              "      <td>-1050</td>\n",
              "      <td>0.0</td>\n",
              "    </tr>\n",
              "    <tr>\n",
              "      <th>535336</th>\n",
              "      <td>581213</td>\n",
              "      <td>-30</td>\n",
              "      <td>0.0</td>\n",
              "    </tr>\n",
              "    <tr>\n",
              "      <th>536908</th>\n",
              "      <td>581226</td>\n",
              "      <td>-338</td>\n",
              "      <td>0.0</td>\n",
              "    </tr>\n",
              "    <tr>\n",
              "      <th>538919</th>\n",
              "      <td>581422</td>\n",
              "      <td>-235</td>\n",
              "      <td>0.0</td>\n",
              "    </tr>\n",
              "  </tbody>\n",
              "</table>\n",
              "<p>1336 rows × 3 columns</p>\n",
              "</div>"
            ]
          },
          "metadata": {},
          "execution_count": 17
        }
      ],
      "metadata": {}
    },
    {
      "cell_type": "code",
      "execution_count": 18,
      "source": [
        "neg_quan[~neg_quan.InvoiceNo.str.contains(\"C\", na=False)][\"UnitPrice\"].value_counts() # All UnitPrice are 0.0 (UniTPrice ların hepsinin 0.0 mı olduğunu kontrol ediyoruz)"
      ],
      "outputs": [
        {
          "output_type": "execute_result",
          "data": {
            "text/plain": [
              "0.0    1336\n",
              "Name: UnitPrice, dtype: int64"
            ]
          },
          "metadata": {},
          "execution_count": 18
        }
      ],
      "metadata": {}
    },
    {
      "cell_type": "markdown",
      "source": [
        "NOT: All InvoiceNo starting with C letter are in negative quantity data and there are no bigger than zero Quantity in InvoiceNo starting with C letter. So C means cancel order."
      ],
      "metadata": {}
    },
    {
      "cell_type": "markdown",
      "source": [
        "#### 9288 or about 36% of the orders were cancelled. Looking deeper into why these orders were cancelled may prevent future cancellations. Now let's find out what a negative UnitPrice means.\n"
      ],
      "metadata": {
        "id": "nrp8logRQGWA"
      }
    },
    {
      "cell_type": "code",
      "execution_count": 19,
      "source": [
        "neg_unit = InvQUnit[InvQUnit.UnitPrice<0] # Negative UnitPrice\r\n",
        "neg_unit"
      ],
      "outputs": [
        {
          "output_type": "execute_result",
          "data": {
            "text/plain": [
              "       InvoiceNo  Quantity  UnitPrice\n",
              "299983   A563186         1  -11062.06\n",
              "299984   A563187         1  -11062.06"
            ],
            "text/html": [
              "<div>\n",
              "<style scoped>\n",
              "    .dataframe tbody tr th:only-of-type {\n",
              "        vertical-align: middle;\n",
              "    }\n",
              "\n",
              "    .dataframe tbody tr th {\n",
              "        vertical-align: top;\n",
              "    }\n",
              "\n",
              "    .dataframe thead th {\n",
              "        text-align: right;\n",
              "    }\n",
              "</style>\n",
              "<table border=\"1\" class=\"dataframe\">\n",
              "  <thead>\n",
              "    <tr style=\"text-align: right;\">\n",
              "      <th></th>\n",
              "      <th>InvoiceNo</th>\n",
              "      <th>Quantity</th>\n",
              "      <th>UnitPrice</th>\n",
              "    </tr>\n",
              "  </thead>\n",
              "  <tbody>\n",
              "    <tr>\n",
              "      <th>299983</th>\n",
              "      <td>A563186</td>\n",
              "      <td>1</td>\n",
              "      <td>-11062.06</td>\n",
              "    </tr>\n",
              "    <tr>\n",
              "      <th>299984</th>\n",
              "      <td>A563187</td>\n",
              "      <td>1</td>\n",
              "      <td>-11062.06</td>\n",
              "    </tr>\n",
              "  </tbody>\n",
              "</table>\n",
              "</div>"
            ]
          },
          "metadata": {},
          "execution_count": 19
        }
      ],
      "metadata": {}
    },
    {
      "cell_type": "code",
      "execution_count": 20,
      "source": [
        "InvQUnit[InvQUnit.InvoiceNo.str.contains(\"A\", na=False)] # A letter include Invoice in all data"
      ],
      "outputs": [
        {
          "output_type": "execute_result",
          "data": {
            "text/plain": [
              "       InvoiceNo  Quantity  UnitPrice\n",
              "299982   A563185         1   11062.06\n",
              "299983   A563186         1  -11062.06\n",
              "299984   A563187         1  -11062.06"
            ],
            "text/html": [
              "<div>\n",
              "<style scoped>\n",
              "    .dataframe tbody tr th:only-of-type {\n",
              "        vertical-align: middle;\n",
              "    }\n",
              "\n",
              "    .dataframe tbody tr th {\n",
              "        vertical-align: top;\n",
              "    }\n",
              "\n",
              "    .dataframe thead th {\n",
              "        text-align: right;\n",
              "    }\n",
              "</style>\n",
              "<table border=\"1\" class=\"dataframe\">\n",
              "  <thead>\n",
              "    <tr style=\"text-align: right;\">\n",
              "      <th></th>\n",
              "      <th>InvoiceNo</th>\n",
              "      <th>Quantity</th>\n",
              "      <th>UnitPrice</th>\n",
              "    </tr>\n",
              "  </thead>\n",
              "  <tbody>\n",
              "    <tr>\n",
              "      <th>299982</th>\n",
              "      <td>A563185</td>\n",
              "      <td>1</td>\n",
              "      <td>11062.06</td>\n",
              "    </tr>\n",
              "    <tr>\n",
              "      <th>299983</th>\n",
              "      <td>A563186</td>\n",
              "      <td>1</td>\n",
              "      <td>-11062.06</td>\n",
              "    </tr>\n",
              "    <tr>\n",
              "      <th>299984</th>\n",
              "      <td>A563187</td>\n",
              "      <td>1</td>\n",
              "      <td>-11062.06</td>\n",
              "    </tr>\n",
              "  </tbody>\n",
              "</table>\n",
              "</div>"
            ]
          },
          "metadata": {},
          "execution_count": 20
        }
      ],
      "metadata": {}
    },
    {
      "cell_type": "markdown",
      "source": [
        "NOT : A means abandon orders. The invoice numbers are consecutive and the prices are the same. It may be due to card limit issue or connection issue. "
      ],
      "metadata": {}
    },
    {
      "cell_type": "markdown",
      "source": [
        "### iii. Handling Missing Values"
      ],
      "metadata": {
        "id": "nXVVls6sQGVQ"
      }
    },
    {
      "cell_type": "code",
      "execution_count": 21,
      "source": [
        "df[df.CustomerID.isnull()] # Missing value değerlerinin sayısını kontrol ediyoruz."
      ],
      "outputs": [
        {
          "output_type": "execute_result",
          "data": {
            "text/plain": [
              "       InvoiceNo StockCode                      Description  Quantity  \\\n",
              "622       536414     22139                              NaN        56   \n",
              "1443      536544     21773  DECORATIVE ROSE BATHROOM BOTTLE         1   \n",
              "1444      536544     21774  DECORATIVE CATS BATHROOM BOTTLE         2   \n",
              "1445      536544     21786               POLKADOT RAIN HAT          4   \n",
              "1446      536544     21787            RAIN PONCHO RETROSPOT         2   \n",
              "...          ...       ...                              ...       ...   \n",
              "541536    581498    85099B          JUMBO BAG RED RETROSPOT         5   \n",
              "541537    581498    85099C   JUMBO  BAG BAROQUE BLACK WHITE         4   \n",
              "541538    581498     85150    LADIES & GENTLEMEN METAL SIGN         1   \n",
              "541539    581498     85174                S/4 CACTI CANDLES         1   \n",
              "541540    581498       DOT                   DOTCOM POSTAGE         1   \n",
              "\n",
              "               InvoiceDate  UnitPrice  CustomerID         Country  \n",
              "622    2010-12-01 11:52:00       0.00         NaN  United Kingdom  \n",
              "1443   2010-12-01 14:32:00       2.51         NaN  United Kingdom  \n",
              "1444   2010-12-01 14:32:00       2.51         NaN  United Kingdom  \n",
              "1445   2010-12-01 14:32:00       0.85         NaN  United Kingdom  \n",
              "1446   2010-12-01 14:32:00       1.66         NaN  United Kingdom  \n",
              "...                    ...        ...         ...             ...  \n",
              "541536 2011-12-09 10:26:00       4.13         NaN  United Kingdom  \n",
              "541537 2011-12-09 10:26:00       4.13         NaN  United Kingdom  \n",
              "541538 2011-12-09 10:26:00       4.96         NaN  United Kingdom  \n",
              "541539 2011-12-09 10:26:00      10.79         NaN  United Kingdom  \n",
              "541540 2011-12-09 10:26:00    1714.17         NaN  United Kingdom  \n",
              "\n",
              "[135080 rows x 8 columns]"
            ],
            "text/html": [
              "<div>\n",
              "<style scoped>\n",
              "    .dataframe tbody tr th:only-of-type {\n",
              "        vertical-align: middle;\n",
              "    }\n",
              "\n",
              "    .dataframe tbody tr th {\n",
              "        vertical-align: top;\n",
              "    }\n",
              "\n",
              "    .dataframe thead th {\n",
              "        text-align: right;\n",
              "    }\n",
              "</style>\n",
              "<table border=\"1\" class=\"dataframe\">\n",
              "  <thead>\n",
              "    <tr style=\"text-align: right;\">\n",
              "      <th></th>\n",
              "      <th>InvoiceNo</th>\n",
              "      <th>StockCode</th>\n",
              "      <th>Description</th>\n",
              "      <th>Quantity</th>\n",
              "      <th>InvoiceDate</th>\n",
              "      <th>UnitPrice</th>\n",
              "      <th>CustomerID</th>\n",
              "      <th>Country</th>\n",
              "    </tr>\n",
              "  </thead>\n",
              "  <tbody>\n",
              "    <tr>\n",
              "      <th>622</th>\n",
              "      <td>536414</td>\n",
              "      <td>22139</td>\n",
              "      <td>NaN</td>\n",
              "      <td>56</td>\n",
              "      <td>2010-12-01 11:52:00</td>\n",
              "      <td>0.00</td>\n",
              "      <td>NaN</td>\n",
              "      <td>United Kingdom</td>\n",
              "    </tr>\n",
              "    <tr>\n",
              "      <th>1443</th>\n",
              "      <td>536544</td>\n",
              "      <td>21773</td>\n",
              "      <td>DECORATIVE ROSE BATHROOM BOTTLE</td>\n",
              "      <td>1</td>\n",
              "      <td>2010-12-01 14:32:00</td>\n",
              "      <td>2.51</td>\n",
              "      <td>NaN</td>\n",
              "      <td>United Kingdom</td>\n",
              "    </tr>\n",
              "    <tr>\n",
              "      <th>1444</th>\n",
              "      <td>536544</td>\n",
              "      <td>21774</td>\n",
              "      <td>DECORATIVE CATS BATHROOM BOTTLE</td>\n",
              "      <td>2</td>\n",
              "      <td>2010-12-01 14:32:00</td>\n",
              "      <td>2.51</td>\n",
              "      <td>NaN</td>\n",
              "      <td>United Kingdom</td>\n",
              "    </tr>\n",
              "    <tr>\n",
              "      <th>1445</th>\n",
              "      <td>536544</td>\n",
              "      <td>21786</td>\n",
              "      <td>POLKADOT RAIN HAT</td>\n",
              "      <td>4</td>\n",
              "      <td>2010-12-01 14:32:00</td>\n",
              "      <td>0.85</td>\n",
              "      <td>NaN</td>\n",
              "      <td>United Kingdom</td>\n",
              "    </tr>\n",
              "    <tr>\n",
              "      <th>1446</th>\n",
              "      <td>536544</td>\n",
              "      <td>21787</td>\n",
              "      <td>RAIN PONCHO RETROSPOT</td>\n",
              "      <td>2</td>\n",
              "      <td>2010-12-01 14:32:00</td>\n",
              "      <td>1.66</td>\n",
              "      <td>NaN</td>\n",
              "      <td>United Kingdom</td>\n",
              "    </tr>\n",
              "    <tr>\n",
              "      <th>...</th>\n",
              "      <td>...</td>\n",
              "      <td>...</td>\n",
              "      <td>...</td>\n",
              "      <td>...</td>\n",
              "      <td>...</td>\n",
              "      <td>...</td>\n",
              "      <td>...</td>\n",
              "      <td>...</td>\n",
              "    </tr>\n",
              "    <tr>\n",
              "      <th>541536</th>\n",
              "      <td>581498</td>\n",
              "      <td>85099B</td>\n",
              "      <td>JUMBO BAG RED RETROSPOT</td>\n",
              "      <td>5</td>\n",
              "      <td>2011-12-09 10:26:00</td>\n",
              "      <td>4.13</td>\n",
              "      <td>NaN</td>\n",
              "      <td>United Kingdom</td>\n",
              "    </tr>\n",
              "    <tr>\n",
              "      <th>541537</th>\n",
              "      <td>581498</td>\n",
              "      <td>85099C</td>\n",
              "      <td>JUMBO  BAG BAROQUE BLACK WHITE</td>\n",
              "      <td>4</td>\n",
              "      <td>2011-12-09 10:26:00</td>\n",
              "      <td>4.13</td>\n",
              "      <td>NaN</td>\n",
              "      <td>United Kingdom</td>\n",
              "    </tr>\n",
              "    <tr>\n",
              "      <th>541538</th>\n",
              "      <td>581498</td>\n",
              "      <td>85150</td>\n",
              "      <td>LADIES &amp; GENTLEMEN METAL SIGN</td>\n",
              "      <td>1</td>\n",
              "      <td>2011-12-09 10:26:00</td>\n",
              "      <td>4.96</td>\n",
              "      <td>NaN</td>\n",
              "      <td>United Kingdom</td>\n",
              "    </tr>\n",
              "    <tr>\n",
              "      <th>541539</th>\n",
              "      <td>581498</td>\n",
              "      <td>85174</td>\n",
              "      <td>S/4 CACTI CANDLES</td>\n",
              "      <td>1</td>\n",
              "      <td>2011-12-09 10:26:00</td>\n",
              "      <td>10.79</td>\n",
              "      <td>NaN</td>\n",
              "      <td>United Kingdom</td>\n",
              "    </tr>\n",
              "    <tr>\n",
              "      <th>541540</th>\n",
              "      <td>581498</td>\n",
              "      <td>DOT</td>\n",
              "      <td>DOTCOM POSTAGE</td>\n",
              "      <td>1</td>\n",
              "      <td>2011-12-09 10:26:00</td>\n",
              "      <td>1714.17</td>\n",
              "      <td>NaN</td>\n",
              "      <td>United Kingdom</td>\n",
              "    </tr>\n",
              "  </tbody>\n",
              "</table>\n",
              "<p>135080 rows × 8 columns</p>\n",
              "</div>"
            ]
          },
          "metadata": {},
          "execution_count": 21
        }
      ],
      "metadata": {
        "id": "yExVxnQsiqa6"
      }
    },
    {
      "cell_type": "code",
      "execution_count": 22,
      "source": [
        "# df.dropna()"
      ],
      "outputs": [],
      "metadata": {}
    },
    {
      "cell_type": "markdown",
      "source": [
        "Since the customer ID's are missing, lets assume these orders were not made by the customers already in the data set because those customers already have ID's. \r\n",
        "\r\n",
        "We also don't want to assign these orders to those customers because this would alter the insights we draw from the data. \r\n"
      ],
      "metadata": {
        "id": "EQtZK5paQGVf"
      }
    },
    {
      "cell_type": "code",
      "execution_count": 23,
      "source": [
        "df[df.InvoiceNo == 581498] # 581498 InvoiceNo ile eşleşen CustomerID var mı kontrol ediyoruz. CustomerID NaN olmayan CustomerID ile eşleşme ihtimaline karşın."
      ],
      "outputs": [
        {
          "output_type": "execute_result",
          "data": {
            "text/plain": [
              "       InvoiceNo StockCode                     Description  Quantity  \\\n",
              "541323    581498   15056bl         EDWARDIAN PARASOL BLACK         2   \n",
              "541324    581498     20669           RED HEART LUGGAGE TAG         3   \n",
              "541325    581498     20679           EDWARDIAN PARASOL RED         5   \n",
              "541326    581498     20712      JUMBO BAG WOODLAND ANIMALS         3   \n",
              "541327    581498     20713                  JUMBO BAG OWLS         8   \n",
              "...          ...       ...                             ...       ...   \n",
              "541536    581498    85099B         JUMBO BAG RED RETROSPOT         5   \n",
              "541537    581498    85099C  JUMBO  BAG BAROQUE BLACK WHITE         4   \n",
              "541538    581498     85150   LADIES & GENTLEMEN METAL SIGN         1   \n",
              "541539    581498     85174               S/4 CACTI CANDLES         1   \n",
              "541540    581498       DOT                  DOTCOM POSTAGE         1   \n",
              "\n",
              "               InvoiceDate  UnitPrice  CustomerID         Country  \n",
              "541323 2011-12-09 10:26:00      12.46         NaN  United Kingdom  \n",
              "541324 2011-12-09 10:26:00       2.46         NaN  United Kingdom  \n",
              "541325 2011-12-09 10:26:00      12.46         NaN  United Kingdom  \n",
              "541326 2011-12-09 10:26:00       4.13         NaN  United Kingdom  \n",
              "541327 2011-12-09 10:26:00       4.13         NaN  United Kingdom  \n",
              "...                    ...        ...         ...             ...  \n",
              "541536 2011-12-09 10:26:00       4.13         NaN  United Kingdom  \n",
              "541537 2011-12-09 10:26:00       4.13         NaN  United Kingdom  \n",
              "541538 2011-12-09 10:26:00       4.96         NaN  United Kingdom  \n",
              "541539 2011-12-09 10:26:00      10.79         NaN  United Kingdom  \n",
              "541540 2011-12-09 10:26:00    1714.17         NaN  United Kingdom  \n",
              "\n",
              "[218 rows x 8 columns]"
            ],
            "text/html": [
              "<div>\n",
              "<style scoped>\n",
              "    .dataframe tbody tr th:only-of-type {\n",
              "        vertical-align: middle;\n",
              "    }\n",
              "\n",
              "    .dataframe tbody tr th {\n",
              "        vertical-align: top;\n",
              "    }\n",
              "\n",
              "    .dataframe thead th {\n",
              "        text-align: right;\n",
              "    }\n",
              "</style>\n",
              "<table border=\"1\" class=\"dataframe\">\n",
              "  <thead>\n",
              "    <tr style=\"text-align: right;\">\n",
              "      <th></th>\n",
              "      <th>InvoiceNo</th>\n",
              "      <th>StockCode</th>\n",
              "      <th>Description</th>\n",
              "      <th>Quantity</th>\n",
              "      <th>InvoiceDate</th>\n",
              "      <th>UnitPrice</th>\n",
              "      <th>CustomerID</th>\n",
              "      <th>Country</th>\n",
              "    </tr>\n",
              "  </thead>\n",
              "  <tbody>\n",
              "    <tr>\n",
              "      <th>541323</th>\n",
              "      <td>581498</td>\n",
              "      <td>15056bl</td>\n",
              "      <td>EDWARDIAN PARASOL BLACK</td>\n",
              "      <td>2</td>\n",
              "      <td>2011-12-09 10:26:00</td>\n",
              "      <td>12.46</td>\n",
              "      <td>NaN</td>\n",
              "      <td>United Kingdom</td>\n",
              "    </tr>\n",
              "    <tr>\n",
              "      <th>541324</th>\n",
              "      <td>581498</td>\n",
              "      <td>20669</td>\n",
              "      <td>RED HEART LUGGAGE TAG</td>\n",
              "      <td>3</td>\n",
              "      <td>2011-12-09 10:26:00</td>\n",
              "      <td>2.46</td>\n",
              "      <td>NaN</td>\n",
              "      <td>United Kingdom</td>\n",
              "    </tr>\n",
              "    <tr>\n",
              "      <th>541325</th>\n",
              "      <td>581498</td>\n",
              "      <td>20679</td>\n",
              "      <td>EDWARDIAN PARASOL RED</td>\n",
              "      <td>5</td>\n",
              "      <td>2011-12-09 10:26:00</td>\n",
              "      <td>12.46</td>\n",
              "      <td>NaN</td>\n",
              "      <td>United Kingdom</td>\n",
              "    </tr>\n",
              "    <tr>\n",
              "      <th>541326</th>\n",
              "      <td>581498</td>\n",
              "      <td>20712</td>\n",
              "      <td>JUMBO BAG WOODLAND ANIMALS</td>\n",
              "      <td>3</td>\n",
              "      <td>2011-12-09 10:26:00</td>\n",
              "      <td>4.13</td>\n",
              "      <td>NaN</td>\n",
              "      <td>United Kingdom</td>\n",
              "    </tr>\n",
              "    <tr>\n",
              "      <th>541327</th>\n",
              "      <td>581498</td>\n",
              "      <td>20713</td>\n",
              "      <td>JUMBO BAG OWLS</td>\n",
              "      <td>8</td>\n",
              "      <td>2011-12-09 10:26:00</td>\n",
              "      <td>4.13</td>\n",
              "      <td>NaN</td>\n",
              "      <td>United Kingdom</td>\n",
              "    </tr>\n",
              "    <tr>\n",
              "      <th>...</th>\n",
              "      <td>...</td>\n",
              "      <td>...</td>\n",
              "      <td>...</td>\n",
              "      <td>...</td>\n",
              "      <td>...</td>\n",
              "      <td>...</td>\n",
              "      <td>...</td>\n",
              "      <td>...</td>\n",
              "    </tr>\n",
              "    <tr>\n",
              "      <th>541536</th>\n",
              "      <td>581498</td>\n",
              "      <td>85099B</td>\n",
              "      <td>JUMBO BAG RED RETROSPOT</td>\n",
              "      <td>5</td>\n",
              "      <td>2011-12-09 10:26:00</td>\n",
              "      <td>4.13</td>\n",
              "      <td>NaN</td>\n",
              "      <td>United Kingdom</td>\n",
              "    </tr>\n",
              "    <tr>\n",
              "      <th>541537</th>\n",
              "      <td>581498</td>\n",
              "      <td>85099C</td>\n",
              "      <td>JUMBO  BAG BAROQUE BLACK WHITE</td>\n",
              "      <td>4</td>\n",
              "      <td>2011-12-09 10:26:00</td>\n",
              "      <td>4.13</td>\n",
              "      <td>NaN</td>\n",
              "      <td>United Kingdom</td>\n",
              "    </tr>\n",
              "    <tr>\n",
              "      <th>541538</th>\n",
              "      <td>581498</td>\n",
              "      <td>85150</td>\n",
              "      <td>LADIES &amp; GENTLEMEN METAL SIGN</td>\n",
              "      <td>1</td>\n",
              "      <td>2011-12-09 10:26:00</td>\n",
              "      <td>4.96</td>\n",
              "      <td>NaN</td>\n",
              "      <td>United Kingdom</td>\n",
              "    </tr>\n",
              "    <tr>\n",
              "      <th>541539</th>\n",
              "      <td>581498</td>\n",
              "      <td>85174</td>\n",
              "      <td>S/4 CACTI CANDLES</td>\n",
              "      <td>1</td>\n",
              "      <td>2011-12-09 10:26:00</td>\n",
              "      <td>10.79</td>\n",
              "      <td>NaN</td>\n",
              "      <td>United Kingdom</td>\n",
              "    </tr>\n",
              "    <tr>\n",
              "      <th>541540</th>\n",
              "      <td>581498</td>\n",
              "      <td>DOT</td>\n",
              "      <td>DOTCOM POSTAGE</td>\n",
              "      <td>1</td>\n",
              "      <td>2011-12-09 10:26:00</td>\n",
              "      <td>1714.17</td>\n",
              "      <td>NaN</td>\n",
              "      <td>United Kingdom</td>\n",
              "    </tr>\n",
              "  </tbody>\n",
              "</table>\n",
              "<p>218 rows × 8 columns</p>\n",
              "</div>"
            ]
          },
          "metadata": {},
          "execution_count": 23
        }
      ],
      "metadata": {}
    },
    {
      "cell_type": "code",
      "execution_count": 24,
      "source": [
        "df[df.InvoiceNo == 581498][\"CustomerID\"].unique() # Check any CustomerId assignee same InvoiceNo in NaN CustomerID (CustomerId NaN olan bir faturanın CuatomerID olanla eşleşme ihtimalini kontrol ediyoruz.) InvoiceNo == 581498 tüm CustomerID lerin NaN olduğunu gördük."
      ],
      "outputs": [
        {
          "output_type": "execute_result",
          "data": {
            "text/plain": [
              "array([nan])"
            ]
          },
          "metadata": {},
          "execution_count": 24
        }
      ],
      "metadata": {}
    },
    {
      "cell_type": "code",
      "execution_count": 25,
      "source": [
        "df[df.InvoiceNo == 536544] # Başka bit InvoiceNo kontrol ediyoruz."
      ],
      "outputs": [
        {
          "output_type": "execute_result",
          "data": {
            "text/plain": [
              "     InvoiceNo StockCode                      Description  Quantity  \\\n",
              "1443    536544     21773  DECORATIVE ROSE BATHROOM BOTTLE         1   \n",
              "1444    536544     21774  DECORATIVE CATS BATHROOM BOTTLE         2   \n",
              "1445    536544     21786               POLKADOT RAIN HAT          4   \n",
              "1446    536544     21787            RAIN PONCHO RETROSPOT         2   \n",
              "1447    536544     21790               VINTAGE SNAP CARDS         9   \n",
              "...        ...       ...                              ...       ...   \n",
              "1965    536544     21721        CANDY SHOP  STICKER SHEET         1   \n",
              "1966    536544     21722      SWEET PUDDING STICKER SHEET         1   \n",
              "1967    536544     21731    RED TOADSTOOL LED NIGHT LIGHT         5   \n",
              "1968    536544     21742      LARGE ROUND WICKER PLATTER          1   \n",
              "1969    536544     21758             VINTAGE SHELLS PRINT         1   \n",
              "\n",
              "             InvoiceDate  UnitPrice  CustomerID         Country  \n",
              "1443 2010-12-01 14:32:00       2.51         NaN  United Kingdom  \n",
              "1444 2010-12-01 14:32:00       2.51         NaN  United Kingdom  \n",
              "1445 2010-12-01 14:32:00       0.85         NaN  United Kingdom  \n",
              "1446 2010-12-01 14:32:00       1.66         NaN  United Kingdom  \n",
              "1447 2010-12-01 14:32:00       1.66         NaN  United Kingdom  \n",
              "...                  ...        ...         ...             ...  \n",
              "1965 2010-12-01 14:32:00       1.66         NaN  United Kingdom  \n",
              "1966 2010-12-01 14:32:00       1.66         NaN  United Kingdom  \n",
              "1967 2010-12-01 14:32:00       3.36         NaN  United Kingdom  \n",
              "1968 2010-12-01 14:32:00      12.72         NaN  United Kingdom  \n",
              "1969 2010-12-01 14:32:00      12.72         NaN  United Kingdom  \n",
              "\n",
              "[527 rows x 8 columns]"
            ],
            "text/html": [
              "<div>\n",
              "<style scoped>\n",
              "    .dataframe tbody tr th:only-of-type {\n",
              "        vertical-align: middle;\n",
              "    }\n",
              "\n",
              "    .dataframe tbody tr th {\n",
              "        vertical-align: top;\n",
              "    }\n",
              "\n",
              "    .dataframe thead th {\n",
              "        text-align: right;\n",
              "    }\n",
              "</style>\n",
              "<table border=\"1\" class=\"dataframe\">\n",
              "  <thead>\n",
              "    <tr style=\"text-align: right;\">\n",
              "      <th></th>\n",
              "      <th>InvoiceNo</th>\n",
              "      <th>StockCode</th>\n",
              "      <th>Description</th>\n",
              "      <th>Quantity</th>\n",
              "      <th>InvoiceDate</th>\n",
              "      <th>UnitPrice</th>\n",
              "      <th>CustomerID</th>\n",
              "      <th>Country</th>\n",
              "    </tr>\n",
              "  </thead>\n",
              "  <tbody>\n",
              "    <tr>\n",
              "      <th>1443</th>\n",
              "      <td>536544</td>\n",
              "      <td>21773</td>\n",
              "      <td>DECORATIVE ROSE BATHROOM BOTTLE</td>\n",
              "      <td>1</td>\n",
              "      <td>2010-12-01 14:32:00</td>\n",
              "      <td>2.51</td>\n",
              "      <td>NaN</td>\n",
              "      <td>United Kingdom</td>\n",
              "    </tr>\n",
              "    <tr>\n",
              "      <th>1444</th>\n",
              "      <td>536544</td>\n",
              "      <td>21774</td>\n",
              "      <td>DECORATIVE CATS BATHROOM BOTTLE</td>\n",
              "      <td>2</td>\n",
              "      <td>2010-12-01 14:32:00</td>\n",
              "      <td>2.51</td>\n",
              "      <td>NaN</td>\n",
              "      <td>United Kingdom</td>\n",
              "    </tr>\n",
              "    <tr>\n",
              "      <th>1445</th>\n",
              "      <td>536544</td>\n",
              "      <td>21786</td>\n",
              "      <td>POLKADOT RAIN HAT</td>\n",
              "      <td>4</td>\n",
              "      <td>2010-12-01 14:32:00</td>\n",
              "      <td>0.85</td>\n",
              "      <td>NaN</td>\n",
              "      <td>United Kingdom</td>\n",
              "    </tr>\n",
              "    <tr>\n",
              "      <th>1446</th>\n",
              "      <td>536544</td>\n",
              "      <td>21787</td>\n",
              "      <td>RAIN PONCHO RETROSPOT</td>\n",
              "      <td>2</td>\n",
              "      <td>2010-12-01 14:32:00</td>\n",
              "      <td>1.66</td>\n",
              "      <td>NaN</td>\n",
              "      <td>United Kingdom</td>\n",
              "    </tr>\n",
              "    <tr>\n",
              "      <th>1447</th>\n",
              "      <td>536544</td>\n",
              "      <td>21790</td>\n",
              "      <td>VINTAGE SNAP CARDS</td>\n",
              "      <td>9</td>\n",
              "      <td>2010-12-01 14:32:00</td>\n",
              "      <td>1.66</td>\n",
              "      <td>NaN</td>\n",
              "      <td>United Kingdom</td>\n",
              "    </tr>\n",
              "    <tr>\n",
              "      <th>...</th>\n",
              "      <td>...</td>\n",
              "      <td>...</td>\n",
              "      <td>...</td>\n",
              "      <td>...</td>\n",
              "      <td>...</td>\n",
              "      <td>...</td>\n",
              "      <td>...</td>\n",
              "      <td>...</td>\n",
              "    </tr>\n",
              "    <tr>\n",
              "      <th>1965</th>\n",
              "      <td>536544</td>\n",
              "      <td>21721</td>\n",
              "      <td>CANDY SHOP  STICKER SHEET</td>\n",
              "      <td>1</td>\n",
              "      <td>2010-12-01 14:32:00</td>\n",
              "      <td>1.66</td>\n",
              "      <td>NaN</td>\n",
              "      <td>United Kingdom</td>\n",
              "    </tr>\n",
              "    <tr>\n",
              "      <th>1966</th>\n",
              "      <td>536544</td>\n",
              "      <td>21722</td>\n",
              "      <td>SWEET PUDDING STICKER SHEET</td>\n",
              "      <td>1</td>\n",
              "      <td>2010-12-01 14:32:00</td>\n",
              "      <td>1.66</td>\n",
              "      <td>NaN</td>\n",
              "      <td>United Kingdom</td>\n",
              "    </tr>\n",
              "    <tr>\n",
              "      <th>1967</th>\n",
              "      <td>536544</td>\n",
              "      <td>21731</td>\n",
              "      <td>RED TOADSTOOL LED NIGHT LIGHT</td>\n",
              "      <td>5</td>\n",
              "      <td>2010-12-01 14:32:00</td>\n",
              "      <td>3.36</td>\n",
              "      <td>NaN</td>\n",
              "      <td>United Kingdom</td>\n",
              "    </tr>\n",
              "    <tr>\n",
              "      <th>1968</th>\n",
              "      <td>536544</td>\n",
              "      <td>21742</td>\n",
              "      <td>LARGE ROUND WICKER PLATTER</td>\n",
              "      <td>1</td>\n",
              "      <td>2010-12-01 14:32:00</td>\n",
              "      <td>12.72</td>\n",
              "      <td>NaN</td>\n",
              "      <td>United Kingdom</td>\n",
              "    </tr>\n",
              "    <tr>\n",
              "      <th>1969</th>\n",
              "      <td>536544</td>\n",
              "      <td>21758</td>\n",
              "      <td>VINTAGE SHELLS PRINT</td>\n",
              "      <td>1</td>\n",
              "      <td>2010-12-01 14:32:00</td>\n",
              "      <td>12.72</td>\n",
              "      <td>NaN</td>\n",
              "      <td>United Kingdom</td>\n",
              "    </tr>\n",
              "  </tbody>\n",
              "</table>\n",
              "<p>527 rows × 8 columns</p>\n",
              "</div>"
            ]
          },
          "metadata": {},
          "execution_count": 25
        }
      ],
      "metadata": {}
    },
    {
      "cell_type": "code",
      "execution_count": 26,
      "source": [
        "df[df.InvoiceNo == 536544][\"CustomerID\"].unique()"
      ],
      "outputs": [
        {
          "output_type": "execute_result",
          "data": {
            "text/plain": [
              "array([nan])"
            ]
          },
          "metadata": {},
          "execution_count": 26
        }
      ],
      "metadata": {}
    },
    {
      "cell_type": "markdown",
      "source": [
        "NOT: There are not any non CustomerID(NaN) and CustomerID assignee same InvoiceNo"
      ],
      "metadata": {}
    },
    {
      "cell_type": "markdown",
      "source": [
        "### iv. Clean the Data from the Noise and Missing Values"
      ],
      "metadata": {
        "id": "llu-bMTAiqa6"
      }
    },
    {
      "cell_type": "code",
      "execution_count": 27,
      "source": [
        "df.dropna(subset=[\"CustomerID\"], axis=0, inplace=True)"
      ],
      "outputs": [],
      "metadata": {
        "id": "R-TgtE4Ziqa6"
      }
    },
    {
      "cell_type": "code",
      "execution_count": 28,
      "source": [
        "df = df.astype({'CustomerID': 'int64'}) # CustomerID int e çevirdik"
      ],
      "outputs": [],
      "metadata": {}
    },
    {
      "cell_type": "code",
      "execution_count": 29,
      "source": [
        "df.info()"
      ],
      "outputs": [
        {
          "output_type": "stream",
          "name": "stdout",
          "text": [
            "<class 'pandas.core.frame.DataFrame'>\n",
            "Int64Index: 406829 entries, 0 to 541908\n",
            "Data columns (total 8 columns):\n",
            " #   Column       Non-Null Count   Dtype         \n",
            "---  ------       --------------   -----         \n",
            " 0   InvoiceNo    406829 non-null  object        \n",
            " 1   StockCode    406829 non-null  object        \n",
            " 2   Description  406829 non-null  object        \n",
            " 3   Quantity     406829 non-null  int64         \n",
            " 4   InvoiceDate  406829 non-null  datetime64[ns]\n",
            " 5   UnitPrice    406829 non-null  float64       \n",
            " 6   CustomerID   406829 non-null  int64         \n",
            " 7   Country      406829 non-null  object        \n",
            "dtypes: datetime64[ns](1), float64(1), int64(2), object(4)\n",
            "memory usage: 27.9+ MB\n"
          ]
        }
      ],
      "metadata": {}
    },
    {
      "cell_type": "code",
      "execution_count": 30,
      "source": [
        "df = df.drop_duplicates()"
      ],
      "outputs": [],
      "metadata": {}
    },
    {
      "cell_type": "code",
      "execution_count": 31,
      "source": [
        "df.info()"
      ],
      "outputs": [
        {
          "output_type": "stream",
          "name": "stdout",
          "text": [
            "<class 'pandas.core.frame.DataFrame'>\n",
            "Int64Index: 401604 entries, 0 to 541908\n",
            "Data columns (total 8 columns):\n",
            " #   Column       Non-Null Count   Dtype         \n",
            "---  ------       --------------   -----         \n",
            " 0   InvoiceNo    401604 non-null  object        \n",
            " 1   StockCode    401604 non-null  object        \n",
            " 2   Description  401604 non-null  object        \n",
            " 3   Quantity     401604 non-null  int64         \n",
            " 4   InvoiceDate  401604 non-null  datetime64[ns]\n",
            " 5   UnitPrice    401604 non-null  float64       \n",
            " 6   CustomerID   401604 non-null  int64         \n",
            " 7   Country      401604 non-null  object        \n",
            "dtypes: datetime64[ns](1), float64(1), int64(2), object(4)\n",
            "memory usage: 27.6+ MB\n"
          ]
        }
      ],
      "metadata": {}
    },
    {
      "cell_type": "code",
      "execution_count": 32,
      "source": [
        "df.isnull().sum()"
      ],
      "outputs": [
        {
          "output_type": "execute_result",
          "data": {
            "text/plain": [
              "InvoiceNo      0\n",
              "StockCode      0\n",
              "Description    0\n",
              "Quantity       0\n",
              "InvoiceDate    0\n",
              "UnitPrice      0\n",
              "CustomerID     0\n",
              "Country        0\n",
              "dtype: int64"
            ]
          },
          "metadata": {},
          "execution_count": 32
        }
      ],
      "metadata": {}
    },
    {
      "cell_type": "markdown",
      "source": [
        "### v. Explore the Orders\n"
      ],
      "metadata": {
        "id": "25MkNjZqQGWC"
      }
    },
    {
      "cell_type": "markdown",
      "source": [
        "1. Find the unique number of InvoiceNo  per customer"
      ],
      "metadata": {
        "id": "8OAkPoUjiqa7"
      }
    },
    {
      "cell_type": "code",
      "execution_count": 33,
      "source": [
        "df.groupby(\"CustomerID\")[\"InvoiceNo\"].nunique()"
      ],
      "outputs": [
        {
          "output_type": "execute_result",
          "data": {
            "text/plain": [
              "CustomerID\n",
              "12346     2\n",
              "12347     7\n",
              "12348     4\n",
              "12349     1\n",
              "12350     1\n",
              "         ..\n",
              "18280     1\n",
              "18281     1\n",
              "18282     3\n",
              "18283    16\n",
              "18287     3\n",
              "Name: InvoiceNo, Length: 4372, dtype: int64"
            ]
          },
          "metadata": {},
          "execution_count": 33
        }
      ],
      "metadata": {
        "id": "n1A76M7Jiqa7"
      }
    },
    {
      "cell_type": "code",
      "execution_count": 34,
      "source": [
        "plt.figure(figsize=(7,5))\r\n",
        "sns.histplot(df.groupby(\"CustomerID\")[\"InvoiceNo\"].nunique())\r\n",
        "plt.xlim(0,50);"
      ],
      "outputs": [
        {
          "output_type": "display_data",
          "data": {
            "text/plain": [
              "<Figure size 504x360 with 1 Axes>"
            ],
            "image/svg+xml": "<?xml version=\"1.0\" encoding=\"utf-8\" standalone=\"no\"?>\r\n<!DOCTYPE svg PUBLIC \"-//W3C//DTD SVG 1.1//EN\"\r\n  \"http://www.w3.org/Graphics/SVG/1.1/DTD/svg11.dtd\">\r\n<!-- Created with matplotlib (https://matplotlib.org/) -->\r\n<svg height=\"316.55625pt\" version=\"1.1\" viewBox=\"0 0 457.490625 316.55625\" width=\"457.490625pt\" xmlns=\"http://www.w3.org/2000/svg\" xmlns:xlink=\"http://www.w3.org/1999/xlink\">\r\n <metadata>\r\n  <rdf:RDF xmlns:cc=\"http://creativecommons.org/ns#\" xmlns:dc=\"http://purl.org/dc/elements/1.1/\" xmlns:rdf=\"http://www.w3.org/1999/02/22-rdf-syntax-ns#\">\r\n   <cc:Work>\r\n    <dc:type rdf:resource=\"http://purl.org/dc/dcmitype/StillImage\"/>\r\n    <dc:date>2021-08-24T10:10:31.584588</dc:date>\r\n    <dc:format>image/svg+xml</dc:format>\r\n    <dc:creator>\r\n     <cc:Agent>\r\n      <dc:title>Matplotlib v3.3.4, https://matplotlib.org/</dc:title>\r\n     </cc:Agent>\r\n    </dc:creator>\r\n   </cc:Work>\r\n  </rdf:RDF>\r\n </metadata>\r\n <defs>\r\n  <style type=\"text/css\">*{stroke-linecap:butt;stroke-linejoin:round;}</style>\r\n </defs>\r\n <g id=\"figure_1\">\r\n  <g id=\"patch_1\">\r\n   <path d=\"M 0 316.55625 \r\nL 457.490625 316.55625 \r\nL 457.490625 0 \r\nL 0 0 \r\nz\r\n\" style=\"fill:none;\"/>\r\n  </g>\r\n  <g id=\"axes_1\">\r\n   <g id=\"patch_2\">\r\n    <path d=\"M 53.328125 279 \r\nL 443.928125 279 \r\nL 443.928125 7.2 \r\nL 53.328125 7.2 \r\nz\r\n\" style=\"fill:#ffffff;\"/>\r\n   </g>\r\n   <g id=\"patch_3\">\r\n    <path clip-path=\"url(#p31ebe19260)\" d=\"M 61.140125 279 \r\nL 64.961044 279 \r\nL 64.961044 20.142857 \r\nL 61.140125 20.142857 \r\nz\r\n\" style=\"fill:#1f77b4;fill-opacity:0.75;stroke:#000000;stroke-linejoin:miter;stroke-width:0.070315;\"/>\r\n   </g>\r\n   <g id=\"patch_4\">\r\n    <path clip-path=\"url(#p31ebe19260)\" d=\"M 64.961044 279 \r\nL 68.781963 279 \r\nL 68.781963 279 \r\nL 64.961044 279 \r\nz\r\n\" style=\"fill:#1f77b4;fill-opacity:0.75;stroke:#000000;stroke-linejoin:miter;stroke-width:0.070315;\"/>\r\n   </g>\r\n   <g id=\"patch_5\">\r\n    <path clip-path=\"url(#p31ebe19260)\" d=\"M 68.781963 279 \r\nL 72.602881 279 \r\nL 72.602881 117.928952 \r\nL 68.781963 117.928952 \r\nz\r\n\" style=\"fill:#1f77b4;fill-opacity:0.75;stroke:#000000;stroke-linejoin:miter;stroke-width:0.070315;\"/>\r\n   </g>\r\n   <g id=\"patch_6\">\r\n    <path clip-path=\"url(#p31ebe19260)\" d=\"M 72.602881 279 \r\nL 76.4238 279 \r\nL 76.4238 279 \r\nL 72.602881 279 \r\nz\r\n\" style=\"fill:#1f77b4;fill-opacity:0.75;stroke:#000000;stroke-linejoin:miter;stroke-width:0.070315;\"/>\r\n   </g>\r\n   <g id=\"patch_7\">\r\n    <path clip-path=\"url(#p31ebe19260)\" d=\"M 76.4238 279 \r\nL 80.244719 279 \r\nL 80.244719 182.396801 \r\nL 76.4238 182.396801 \r\nz\r\n\" style=\"fill:#1f77b4;fill-opacity:0.75;stroke:#000000;stroke-linejoin:miter;stroke-width:0.070315;\"/>\r\n   </g>\r\n   <g id=\"patch_8\">\r\n    <path clip-path=\"url(#p31ebe19260)\" d=\"M 80.244719 279 \r\nL 84.065638 279 \r\nL 84.065638 279 \r\nL 80.244719 279 \r\nz\r\n\" style=\"fill:#1f77b4;fill-opacity:0.75;stroke:#000000;stroke-linejoin:miter;stroke-width:0.070315;\"/>\r\n   </g>\r\n   <g id=\"patch_9\">\r\n    <path clip-path=\"url(#p31ebe19260)\" d=\"M 84.065638 279 \r\nL 87.886557 279 \r\nL 87.886557 204.674682 \r\nL 84.065638 204.674682 \r\nz\r\n\" style=\"fill:#1f77b4;fill-opacity:0.75;stroke:#000000;stroke-linejoin:miter;stroke-width:0.070315;\"/>\r\n   </g>\r\n   <g id=\"patch_10\">\r\n    <path clip-path=\"url(#p31ebe19260)\" d=\"M 87.886557 279 \r\nL 91.707475 279 \r\nL 91.707475 279 \r\nL 87.886557 279 \r\nz\r\n\" style=\"fill:#1f77b4;fill-opacity:0.75;stroke:#000000;stroke-linejoin:miter;stroke-width:0.070315;\"/>\r\n   </g>\r\n   <g id=\"patch_11\">\r\n    <path clip-path=\"url(#p31ebe19260)\" d=\"M 91.707475 279 \r\nL 95.528394 279 \r\nL 95.528394 222.220977 \r\nL 91.707475 222.220977 \r\nz\r\n\" style=\"fill:#1f77b4;fill-opacity:0.75;stroke:#000000;stroke-linejoin:miter;stroke-width:0.070315;\"/>\r\n   </g>\r\n   <g id=\"patch_12\">\r\n    <path clip-path=\"url(#p31ebe19260)\" d=\"M 95.528394 279 \r\nL 99.349313 279 \r\nL 99.349313 279 \r\nL 95.528394 279 \r\nz\r\n\" style=\"fill:#1f77b4;fill-opacity:0.75;stroke:#000000;stroke-linejoin:miter;stroke-width:0.070315;\"/>\r\n   </g>\r\n   <g id=\"patch_13\">\r\n    <path clip-path=\"url(#p31ebe19260)\" d=\"M 99.349313 279 \r\nL 103.170232 279 \r\nL 103.170232 240.35872 \r\nL 99.349313 240.35872 \r\nz\r\n\" style=\"fill:#1f77b4;fill-opacity:0.75;stroke:#000000;stroke-linejoin:miter;stroke-width:0.070315;\"/>\r\n   </g>\r\n   <g id=\"patch_14\">\r\n    <path clip-path=\"url(#p31ebe19260)\" d=\"M 103.170232 279 \r\nL 106.991151 279 \r\nL 106.991151 279 \r\nL 103.170232 279 \r\nz\r\n\" style=\"fill:#1f77b4;fill-opacity:0.75;stroke:#000000;stroke-linejoin:miter;stroke-width:0.070315;\"/>\r\n   </g>\r\n   <g id=\"patch_15\">\r\n    <path clip-path=\"url(#p31ebe19260)\" d=\"M 106.991151 279 \r\nL 110.81207 279 \r\nL 110.81207 248.047547 \r\nL 106.991151 248.047547 \r\nz\r\n\" style=\"fill:#1f77b4;fill-opacity:0.75;stroke:#000000;stroke-linejoin:miter;stroke-width:0.070315;\"/>\r\n   </g>\r\n   <g id=\"patch_16\">\r\n    <path clip-path=\"url(#p31ebe19260)\" d=\"M 110.81207 279 \r\nL 114.632988 279 \r\nL 114.632988 279 \r\nL 110.81207 279 \r\nz\r\n\" style=\"fill:#1f77b4;fill-opacity:0.75;stroke:#000000;stroke-linejoin:miter;stroke-width:0.070315;\"/>\r\n   </g>\r\n   <g id=\"patch_17\">\r\n    <path clip-path=\"url(#p31ebe19260)\" d=\"M 114.632988 279 \r\nL 118.453907 279 \r\nL 118.453907 255.933522 \r\nL 114.632988 255.933522 \r\nz\r\n\" style=\"fill:#1f77b4;fill-opacity:0.75;stroke:#000000;stroke-linejoin:miter;stroke-width:0.070315;\"/>\r\n   </g>\r\n   <g id=\"patch_18\">\r\n    <path clip-path=\"url(#p31ebe19260)\" d=\"M 118.453907 279 \r\nL 122.274826 279 \r\nL 122.274826 279 \r\nL 118.453907 279 \r\nz\r\n\" style=\"fill:#1f77b4;fill-opacity:0.75;stroke:#000000;stroke-linejoin:miter;stroke-width:0.070315;\"/>\r\n   </g>\r\n   <g id=\"patch_19\">\r\n    <path clip-path=\"url(#p31ebe19260)\" d=\"M 122.274826 279 \r\nL 126.095745 279 \r\nL 126.095745 263.228049 \r\nL 122.274826 263.228049 \r\nz\r\n\" style=\"fill:#1f77b4;fill-opacity:0.75;stroke:#000000;stroke-linejoin:miter;stroke-width:0.070315;\"/>\r\n   </g>\r\n   <g id=\"patch_20\">\r\n    <path clip-path=\"url(#p31ebe19260)\" d=\"M 126.095745 279 \r\nL 129.916664 279 \r\nL 129.916664 279 \r\nL 126.095745 279 \r\nz\r\n\" style=\"fill:#1f77b4;fill-opacity:0.75;stroke:#000000;stroke-linejoin:miter;stroke-width:0.070315;\"/>\r\n   </g>\r\n   <g id=\"patch_21\">\r\n    <path clip-path=\"url(#p31ebe19260)\" d=\"M 129.916664 279 \r\nL 133.737582 279 \r\nL 133.737582 263.622348 \r\nL 129.916664 263.622348 \r\nz\r\n\" style=\"fill:#1f77b4;fill-opacity:0.75;stroke:#000000;stroke-linejoin:miter;stroke-width:0.070315;\"/>\r\n   </g>\r\n   <g id=\"patch_22\">\r\n    <path clip-path=\"url(#p31ebe19260)\" d=\"M 133.737582 279 \r\nL 137.558501 279 \r\nL 137.558501 279 \r\nL 133.737582 279 \r\nz\r\n\" style=\"fill:#1f77b4;fill-opacity:0.75;stroke:#000000;stroke-linejoin:miter;stroke-width:0.070315;\"/>\r\n   </g>\r\n   <g id=\"patch_23\">\r\n    <path clip-path=\"url(#p31ebe19260)\" d=\"M 137.558501 279 \r\nL 141.37942 279 \r\nL 141.37942 266.776738 \r\nL 137.558501 266.776738 \r\nz\r\n\" style=\"fill:#1f77b4;fill-opacity:0.75;stroke:#000000;stroke-linejoin:miter;stroke-width:0.070315;\"/>\r\n   </g>\r\n   <g id=\"patch_24\">\r\n    <path clip-path=\"url(#p31ebe19260)\" d=\"M 141.37942 279 \r\nL 145.200339 279 \r\nL 145.200339 279 \r\nL 141.37942 279 \r\nz\r\n\" style=\"fill:#1f77b4;fill-opacity:0.75;stroke:#000000;stroke-linejoin:miter;stroke-width:0.070315;\"/>\r\n   </g>\r\n   <g id=\"patch_25\">\r\n    <path clip-path=\"url(#p31ebe19260)\" d=\"M 145.200339 279 \r\nL 149.021258 279 \r\nL 149.021258 268.945381 \r\nL 145.200339 268.945381 \r\nz\r\n\" style=\"fill:#1f77b4;fill-opacity:0.75;stroke:#000000;stroke-linejoin:miter;stroke-width:0.070315;\"/>\r\n   </g>\r\n   <g id=\"patch_26\">\r\n    <path clip-path=\"url(#p31ebe19260)\" d=\"M 149.021258 279 \r\nL 152.842176 279 \r\nL 152.842176 279 \r\nL 149.021258 279 \r\nz\r\n\" style=\"fill:#1f77b4;fill-opacity:0.75;stroke:#000000;stroke-linejoin:miter;stroke-width:0.070315;\"/>\r\n   </g>\r\n   <g id=\"patch_27\">\r\n    <path clip-path=\"url(#p31ebe19260)\" d=\"M 152.842176 279 \r\nL 156.663095 279 \r\nL 156.663095 271.508323 \r\nL 152.842176 271.508323 \r\nz\r\n\" style=\"fill:#1f77b4;fill-opacity:0.75;stroke:#000000;stroke-linejoin:miter;stroke-width:0.070315;\"/>\r\n   </g>\r\n   <g id=\"patch_28\">\r\n    <path clip-path=\"url(#p31ebe19260)\" d=\"M 156.663095 279 \r\nL 160.484014 279 \r\nL 160.484014 279 \r\nL 156.663095 279 \r\nz\r\n\" style=\"fill:#1f77b4;fill-opacity:0.75;stroke:#000000;stroke-linejoin:miter;stroke-width:0.070315;\"/>\r\n   </g>\r\n   <g id=\"patch_29\">\r\n    <path clip-path=\"url(#p31ebe19260)\" d=\"M 160.484014 279 \r\nL 164.304933 279 \r\nL 164.304933 270.916875 \r\nL 160.484014 270.916875 \r\nz\r\n\" style=\"fill:#1f77b4;fill-opacity:0.75;stroke:#000000;stroke-linejoin:miter;stroke-width:0.070315;\"/>\r\n   </g>\r\n   <g id=\"patch_30\">\r\n    <path clip-path=\"url(#p31ebe19260)\" d=\"M 164.304933 279 \r\nL 168.125852 279 \r\nL 168.125852 279 \r\nL 164.304933 279 \r\nz\r\n\" style=\"fill:#1f77b4;fill-opacity:0.75;stroke:#000000;stroke-linejoin:miter;stroke-width:0.070315;\"/>\r\n   </g>\r\n   <g id=\"patch_31\">\r\n    <path clip-path=\"url(#p31ebe19260)\" d=\"M 168.125852 279 \r\nL 171.946771 279 \r\nL 171.946771 273.479817 \r\nL 168.125852 273.479817 \r\nz\r\n\" style=\"fill:#1f77b4;fill-opacity:0.75;stroke:#000000;stroke-linejoin:miter;stroke-width:0.070315;\"/>\r\n   </g>\r\n   <g id=\"patch_32\">\r\n    <path clip-path=\"url(#p31ebe19260)\" d=\"M 171.946771 279 \r\nL 175.767689 279 \r\nL 175.767689 279 \r\nL 171.946771 279 \r\nz\r\n\" style=\"fill:#1f77b4;fill-opacity:0.75;stroke:#000000;stroke-linejoin:miter;stroke-width:0.070315;\"/>\r\n   </g>\r\n   <g id=\"patch_33\">\r\n    <path clip-path=\"url(#p31ebe19260)\" d=\"M 175.767689 279 \r\nL 179.588608 279 \r\nL 179.588608 273.874116 \r\nL 175.767689 273.874116 \r\nz\r\n\" style=\"fill:#1f77b4;fill-opacity:0.75;stroke:#000000;stroke-linejoin:miter;stroke-width:0.070315;\"/>\r\n   </g>\r\n   <g id=\"patch_34\">\r\n    <path clip-path=\"url(#p31ebe19260)\" d=\"M 179.588608 279 \r\nL 183.409527 279 \r\nL 183.409527 279 \r\nL 179.588608 279 \r\nz\r\n\" style=\"fill:#1f77b4;fill-opacity:0.75;stroke:#000000;stroke-linejoin:miter;stroke-width:0.070315;\"/>\r\n   </g>\r\n   <g id=\"patch_35\">\r\n    <path clip-path=\"url(#p31ebe19260)\" d=\"M 183.409527 279 \r\nL 187.230446 279 \r\nL 187.230446 275.254162 \r\nL 183.409527 275.254162 \r\nz\r\n\" style=\"fill:#1f77b4;fill-opacity:0.75;stroke:#000000;stroke-linejoin:miter;stroke-width:0.070315;\"/>\r\n   </g>\r\n   <g id=\"patch_36\">\r\n    <path clip-path=\"url(#p31ebe19260)\" d=\"M 187.230446 279 \r\nL 191.051365 279 \r\nL 191.051365 279 \r\nL 187.230446 279 \r\nz\r\n\" style=\"fill:#1f77b4;fill-opacity:0.75;stroke:#000000;stroke-linejoin:miter;stroke-width:0.070315;\"/>\r\n   </g>\r\n   <g id=\"patch_37\">\r\n    <path clip-path=\"url(#p31ebe19260)\" d=\"M 191.051365 279 \r\nL 194.872283 279 \r\nL 194.872283 274.662714 \r\nL 191.051365 274.662714 \r\nz\r\n\" style=\"fill:#1f77b4;fill-opacity:0.75;stroke:#000000;stroke-linejoin:miter;stroke-width:0.070315;\"/>\r\n   </g>\r\n   <g id=\"patch_38\">\r\n    <path clip-path=\"url(#p31ebe19260)\" d=\"M 194.872283 279 \r\nL 198.693202 279 \r\nL 198.693202 279 \r\nL 194.872283 279 \r\nz\r\n\" style=\"fill:#1f77b4;fill-opacity:0.75;stroke:#000000;stroke-linejoin:miter;stroke-width:0.070315;\"/>\r\n   </g>\r\n   <g id=\"patch_39\">\r\n    <path clip-path=\"url(#p31ebe19260)\" d=\"M 198.693202 279 \r\nL 202.514121 279 \r\nL 202.514121 275.84561 \r\nL 198.693202 275.84561 \r\nz\r\n\" style=\"fill:#1f77b4;fill-opacity:0.75;stroke:#000000;stroke-linejoin:miter;stroke-width:0.070315;\"/>\r\n   </g>\r\n   <g id=\"patch_40\">\r\n    <path clip-path=\"url(#p31ebe19260)\" d=\"M 202.514121 279 \r\nL 206.33504 279 \r\nL 206.33504 279 \r\nL 202.514121 279 \r\nz\r\n\" style=\"fill:#1f77b4;fill-opacity:0.75;stroke:#000000;stroke-linejoin:miter;stroke-width:0.070315;\"/>\r\n   </g>\r\n   <g id=\"patch_41\">\r\n    <path clip-path=\"url(#p31ebe19260)\" d=\"M 206.33504 279 \r\nL 210.155959 279 \r\nL 210.155959 276.239909 \r\nL 206.33504 276.239909 \r\nz\r\n\" style=\"fill:#1f77b4;fill-opacity:0.75;stroke:#000000;stroke-linejoin:miter;stroke-width:0.070315;\"/>\r\n   </g>\r\n   <g id=\"patch_42\">\r\n    <path clip-path=\"url(#p31ebe19260)\" d=\"M 210.155959 279 \r\nL 213.976877 279 \r\nL 213.976877 279 \r\nL 210.155959 279 \r\nz\r\n\" style=\"fill:#1f77b4;fill-opacity:0.75;stroke:#000000;stroke-linejoin:miter;stroke-width:0.070315;\"/>\r\n   </g>\r\n   <g id=\"patch_43\">\r\n    <path clip-path=\"url(#p31ebe19260)\" d=\"M 213.976877 279 \r\nL 217.797796 279 \r\nL 217.797796 277.028506 \r\nL 213.976877 277.028506 \r\nz\r\n\" style=\"fill:#1f77b4;fill-opacity:0.75;stroke:#000000;stroke-linejoin:miter;stroke-width:0.070315;\"/>\r\n   </g>\r\n   <g id=\"patch_44\">\r\n    <path clip-path=\"url(#p31ebe19260)\" d=\"M 217.797796 279 \r\nL 221.618715 279 \r\nL 221.618715 279 \r\nL 217.797796 279 \r\nz\r\n\" style=\"fill:#1f77b4;fill-opacity:0.75;stroke:#000000;stroke-linejoin:miter;stroke-width:0.070315;\"/>\r\n   </g>\r\n   <g id=\"patch_45\">\r\n    <path clip-path=\"url(#p31ebe19260)\" d=\"M 221.618715 279 \r\nL 225.439634 279 \r\nL 225.439634 276.437058 \r\nL 221.618715 276.437058 \r\nz\r\n\" style=\"fill:#1f77b4;fill-opacity:0.75;stroke:#000000;stroke-linejoin:miter;stroke-width:0.070315;\"/>\r\n   </g>\r\n   <g id=\"patch_46\">\r\n    <path clip-path=\"url(#p31ebe19260)\" d=\"M 225.439634 279 \r\nL 229.260553 279 \r\nL 229.260553 279 \r\nL 225.439634 279 \r\nz\r\n\" style=\"fill:#1f77b4;fill-opacity:0.75;stroke:#000000;stroke-linejoin:miter;stroke-width:0.070315;\"/>\r\n   </g>\r\n   <g id=\"patch_47\">\r\n    <path clip-path=\"url(#p31ebe19260)\" d=\"M 229.260553 279 \r\nL 233.081472 279 \r\nL 233.081472 277.225656 \r\nL 229.260553 277.225656 \r\nz\r\n\" style=\"fill:#1f77b4;fill-opacity:0.75;stroke:#000000;stroke-linejoin:miter;stroke-width:0.070315;\"/>\r\n   </g>\r\n   <g id=\"patch_48\">\r\n    <path clip-path=\"url(#p31ebe19260)\" d=\"M 233.081472 279 \r\nL 236.90239 279 \r\nL 236.90239 279 \r\nL 233.081472 279 \r\nz\r\n\" style=\"fill:#1f77b4;fill-opacity:0.75;stroke:#000000;stroke-linejoin:miter;stroke-width:0.070315;\"/>\r\n   </g>\r\n   <g id=\"patch_49\">\r\n    <path clip-path=\"url(#p31ebe19260)\" d=\"M 236.90239 279 \r\nL 240.723309 279 \r\nL 240.723309 279 \r\nL 236.90239 279 \r\nz\r\n\" style=\"fill:#1f77b4;fill-opacity:0.75;stroke:#000000;stroke-linejoin:miter;stroke-width:0.070315;\"/>\r\n   </g>\r\n   <g id=\"patch_50\">\r\n    <path clip-path=\"url(#p31ebe19260)\" d=\"M 240.723309 279 \r\nL 244.544228 279 \r\nL 244.544228 277.817104 \r\nL 240.723309 277.817104 \r\nz\r\n\" style=\"fill:#1f77b4;fill-opacity:0.75;stroke:#000000;stroke-linejoin:miter;stroke-width:0.070315;\"/>\r\n   </g>\r\n   <g id=\"patch_51\">\r\n    <path clip-path=\"url(#p31ebe19260)\" d=\"M 244.544228 279 \r\nL 248.365147 279 \r\nL 248.365147 279 \r\nL 244.544228 279 \r\nz\r\n\" style=\"fill:#1f77b4;fill-opacity:0.75;stroke:#000000;stroke-linejoin:miter;stroke-width:0.070315;\"/>\r\n   </g>\r\n   <g id=\"patch_52\">\r\n    <path clip-path=\"url(#p31ebe19260)\" d=\"M 248.365147 279 \r\nL 252.186066 279 \r\nL 252.186066 278.211402 \r\nL 248.365147 278.211402 \r\nz\r\n\" style=\"fill:#1f77b4;fill-opacity:0.75;stroke:#000000;stroke-linejoin:miter;stroke-width:0.070315;\"/>\r\n   </g>\r\n   <g id=\"patch_53\">\r\n    <path clip-path=\"url(#p31ebe19260)\" d=\"M 252.186066 279 \r\nL 256.006984 279 \r\nL 256.006984 279 \r\nL 252.186066 279 \r\nz\r\n\" style=\"fill:#1f77b4;fill-opacity:0.75;stroke:#000000;stroke-linejoin:miter;stroke-width:0.070315;\"/>\r\n   </g>\r\n   <g id=\"patch_54\">\r\n    <path clip-path=\"url(#p31ebe19260)\" d=\"M 256.006984 279 \r\nL 259.827903 279 \r\nL 259.827903 277.619954 \r\nL 256.006984 277.619954 \r\nz\r\n\" style=\"fill:#1f77b4;fill-opacity:0.75;stroke:#000000;stroke-linejoin:miter;stroke-width:0.070315;\"/>\r\n   </g>\r\n   <g id=\"patch_55\">\r\n    <path clip-path=\"url(#p31ebe19260)\" d=\"M 259.827903 279 \r\nL 263.648822 279 \r\nL 263.648822 279 \r\nL 259.827903 279 \r\nz\r\n\" style=\"fill:#1f77b4;fill-opacity:0.75;stroke:#000000;stroke-linejoin:miter;stroke-width:0.070315;\"/>\r\n   </g>\r\n   <g id=\"patch_56\">\r\n    <path clip-path=\"url(#p31ebe19260)\" d=\"M 263.648822 279 \r\nL 267.469741 279 \r\nL 267.469741 276.634207 \r\nL 263.648822 276.634207 \r\nz\r\n\" style=\"fill:#1f77b4;fill-opacity:0.75;stroke:#000000;stroke-linejoin:miter;stroke-width:0.070315;\"/>\r\n   </g>\r\n   <g id=\"patch_57\">\r\n    <path clip-path=\"url(#p31ebe19260)\" d=\"M 267.469741 279 \r\nL 271.29066 279 \r\nL 271.29066 279 \r\nL 267.469741 279 \r\nz\r\n\" style=\"fill:#1f77b4;fill-opacity:0.75;stroke:#000000;stroke-linejoin:miter;stroke-width:0.070315;\"/>\r\n   </g>\r\n   <g id=\"patch_58\">\r\n    <path clip-path=\"url(#p31ebe19260)\" d=\"M 271.29066 279 \r\nL 275.111578 279 \r\nL 275.111578 278.014253 \r\nL 271.29066 278.014253 \r\nz\r\n\" style=\"fill:#1f77b4;fill-opacity:0.75;stroke:#000000;stroke-linejoin:miter;stroke-width:0.070315;\"/>\r\n   </g>\r\n   <g id=\"patch_59\">\r\n    <path clip-path=\"url(#p31ebe19260)\" d=\"M 275.111578 279 \r\nL 278.932497 279 \r\nL 278.932497 279 \r\nL 275.111578 279 \r\nz\r\n\" style=\"fill:#1f77b4;fill-opacity:0.75;stroke:#000000;stroke-linejoin:miter;stroke-width:0.070315;\"/>\r\n   </g>\r\n   <g id=\"patch_60\">\r\n    <path clip-path=\"url(#p31ebe19260)\" d=\"M 278.932497 279 \r\nL 282.753416 279 \r\nL 282.753416 277.225656 \r\nL 278.932497 277.225656 \r\nz\r\n\" style=\"fill:#1f77b4;fill-opacity:0.75;stroke:#000000;stroke-linejoin:miter;stroke-width:0.070315;\"/>\r\n   </g>\r\n   <g id=\"patch_61\">\r\n    <path clip-path=\"url(#p31ebe19260)\" d=\"M 282.753416 279 \r\nL 286.574335 279 \r\nL 286.574335 279 \r\nL 282.753416 279 \r\nz\r\n\" style=\"fill:#1f77b4;fill-opacity:0.75;stroke:#000000;stroke-linejoin:miter;stroke-width:0.070315;\"/>\r\n   </g>\r\n   <g id=\"patch_62\">\r\n    <path clip-path=\"url(#p31ebe19260)\" d=\"M 286.574335 279 \r\nL 290.395254 279 \r\nL 290.395254 278.408552 \r\nL 286.574335 278.408552 \r\nz\r\n\" style=\"fill:#1f77b4;fill-opacity:0.75;stroke:#000000;stroke-linejoin:miter;stroke-width:0.070315;\"/>\r\n   </g>\r\n   <g id=\"patch_63\">\r\n    <path clip-path=\"url(#p31ebe19260)\" d=\"M 290.395254 279 \r\nL 294.216173 279 \r\nL 294.216173 279 \r\nL 290.395254 279 \r\nz\r\n\" style=\"fill:#1f77b4;fill-opacity:0.75;stroke:#000000;stroke-linejoin:miter;stroke-width:0.070315;\"/>\r\n   </g>\r\n   <g id=\"patch_64\">\r\n    <path clip-path=\"url(#p31ebe19260)\" d=\"M 294.216173 279 \r\nL 298.037091 279 \r\nL 298.037091 277.422805 \r\nL 294.216173 277.422805 \r\nz\r\n\" style=\"fill:#1f77b4;fill-opacity:0.75;stroke:#000000;stroke-linejoin:miter;stroke-width:0.070315;\"/>\r\n   </g>\r\n   <g id=\"patch_65\">\r\n    <path clip-path=\"url(#p31ebe19260)\" d=\"M 298.037091 279 \r\nL 301.85801 279 \r\nL 301.85801 279 \r\nL 298.037091 279 \r\nz\r\n\" style=\"fill:#1f77b4;fill-opacity:0.75;stroke:#000000;stroke-linejoin:miter;stroke-width:0.070315;\"/>\r\n   </g>\r\n   <g id=\"patch_66\">\r\n    <path clip-path=\"url(#p31ebe19260)\" d=\"M 301.85801 279 \r\nL 305.678929 279 \r\nL 305.678929 278.802851 \r\nL 301.85801 278.802851 \r\nz\r\n\" style=\"fill:#1f77b4;fill-opacity:0.75;stroke:#000000;stroke-linejoin:miter;stroke-width:0.070315;\"/>\r\n   </g>\r\n   <g id=\"patch_67\">\r\n    <path clip-path=\"url(#p31ebe19260)\" d=\"M 305.678929 279 \r\nL 309.499848 279 \r\nL 309.499848 279 \r\nL 305.678929 279 \r\nz\r\n\" style=\"fill:#1f77b4;fill-opacity:0.75;stroke:#000000;stroke-linejoin:miter;stroke-width:0.070315;\"/>\r\n   </g>\r\n   <g id=\"patch_68\">\r\n    <path clip-path=\"url(#p31ebe19260)\" d=\"M 309.499848 279 \r\nL 313.320767 279 \r\nL 313.320767 278.605701 \r\nL 309.499848 278.605701 \r\nz\r\n\" style=\"fill:#1f77b4;fill-opacity:0.75;stroke:#000000;stroke-linejoin:miter;stroke-width:0.070315;\"/>\r\n   </g>\r\n   <g id=\"patch_69\">\r\n    <path clip-path=\"url(#p31ebe19260)\" d=\"M 313.320767 279 \r\nL 317.141685 279 \r\nL 317.141685 279 \r\nL 313.320767 279 \r\nz\r\n\" style=\"fill:#1f77b4;fill-opacity:0.75;stroke:#000000;stroke-linejoin:miter;stroke-width:0.070315;\"/>\r\n   </g>\r\n   <g id=\"patch_70\">\r\n    <path clip-path=\"url(#p31ebe19260)\" d=\"M 317.141685 279 \r\nL 320.962604 279 \r\nL 320.962604 278.408552 \r\nL 317.141685 278.408552 \r\nz\r\n\" style=\"fill:#1f77b4;fill-opacity:0.75;stroke:#000000;stroke-linejoin:miter;stroke-width:0.070315;\"/>\r\n   </g>\r\n   <g id=\"patch_71\">\r\n    <path clip-path=\"url(#p31ebe19260)\" d=\"M 320.962604 279 \r\nL 324.783523 279 \r\nL 324.783523 279 \r\nL 320.962604 279 \r\nz\r\n\" style=\"fill:#1f77b4;fill-opacity:0.75;stroke:#000000;stroke-linejoin:miter;stroke-width:0.070315;\"/>\r\n   </g>\r\n   <g id=\"patch_72\">\r\n    <path clip-path=\"url(#p31ebe19260)\" d=\"M 324.783523 279 \r\nL 328.604442 279 \r\nL 328.604442 278.014253 \r\nL 324.783523 278.014253 \r\nz\r\n\" style=\"fill:#1f77b4;fill-opacity:0.75;stroke:#000000;stroke-linejoin:miter;stroke-width:0.070315;\"/>\r\n   </g>\r\n   <g id=\"patch_73\">\r\n    <path clip-path=\"url(#p31ebe19260)\" d=\"M 328.604442 279 \r\nL 332.425361 279 \r\nL 332.425361 279 \r\nL 328.604442 279 \r\nz\r\n\" style=\"fill:#1f77b4;fill-opacity:0.75;stroke:#000000;stroke-linejoin:miter;stroke-width:0.070315;\"/>\r\n   </g>\r\n   <g id=\"patch_74\">\r\n    <path clip-path=\"url(#p31ebe19260)\" d=\"M 332.425361 279 \r\nL 336.246279 279 \r\nL 336.246279 278.605701 \r\nL 332.425361 278.605701 \r\nz\r\n\" style=\"fill:#1f77b4;fill-opacity:0.75;stroke:#000000;stroke-linejoin:miter;stroke-width:0.070315;\"/>\r\n   </g>\r\n   <g id=\"patch_75\">\r\n    <path clip-path=\"url(#p31ebe19260)\" d=\"M 336.246279 279 \r\nL 340.067198 279 \r\nL 340.067198 279 \r\nL 336.246279 279 \r\nz\r\n\" style=\"fill:#1f77b4;fill-opacity:0.75;stroke:#000000;stroke-linejoin:miter;stroke-width:0.070315;\"/>\r\n   </g>\r\n   <g id=\"patch_76\">\r\n    <path clip-path=\"url(#p31ebe19260)\" d=\"M 340.067198 279 \r\nL 343.888117 279 \r\nL 343.888117 279 \r\nL 340.067198 279 \r\nz\r\n\" style=\"fill:#1f77b4;fill-opacity:0.75;stroke:#000000;stroke-linejoin:miter;stroke-width:0.070315;\"/>\r\n   </g>\r\n   <g id=\"patch_77\">\r\n    <path clip-path=\"url(#p31ebe19260)\" d=\"M 343.888117 279 \r\nL 347.709036 279 \r\nL 347.709036 279 \r\nL 343.888117 279 \r\nz\r\n\" style=\"fill:#1f77b4;fill-opacity:0.75;stroke:#000000;stroke-linejoin:miter;stroke-width:0.070315;\"/>\r\n   </g>\r\n   <g id=\"patch_78\">\r\n    <path clip-path=\"url(#p31ebe19260)\" d=\"M 347.709036 279 \r\nL 351.529955 279 \r\nL 351.529955 278.802851 \r\nL 347.709036 278.802851 \r\nz\r\n\" style=\"fill:#1f77b4;fill-opacity:0.75;stroke:#000000;stroke-linejoin:miter;stroke-width:0.070315;\"/>\r\n   </g>\r\n   <g id=\"patch_79\">\r\n    <path clip-path=\"url(#p31ebe19260)\" d=\"M 351.529955 279 \r\nL 355.350874 279 \r\nL 355.350874 279 \r\nL 351.529955 279 \r\nz\r\n\" style=\"fill:#1f77b4;fill-opacity:0.75;stroke:#000000;stroke-linejoin:miter;stroke-width:0.070315;\"/>\r\n   </g>\r\n   <g id=\"patch_80\">\r\n    <path clip-path=\"url(#p31ebe19260)\" d=\"M 355.350874 279 \r\nL 359.171792 279 \r\nL 359.171792 278.408552 \r\nL 355.350874 278.408552 \r\nz\r\n\" style=\"fill:#1f77b4;fill-opacity:0.75;stroke:#000000;stroke-linejoin:miter;stroke-width:0.070315;\"/>\r\n   </g>\r\n   <g id=\"patch_81\">\r\n    <path clip-path=\"url(#p31ebe19260)\" d=\"M 359.171792 279 \r\nL 362.992711 279 \r\nL 362.992711 279 \r\nL 359.171792 279 \r\nz\r\n\" style=\"fill:#1f77b4;fill-opacity:0.75;stroke:#000000;stroke-linejoin:miter;stroke-width:0.070315;\"/>\r\n   </g>\r\n   <g id=\"patch_82\">\r\n    <path clip-path=\"url(#p31ebe19260)\" d=\"M 362.992711 279 \r\nL 366.81363 279 \r\nL 366.81363 278.802851 \r\nL 362.992711 278.802851 \r\nz\r\n\" style=\"fill:#1f77b4;fill-opacity:0.75;stroke:#000000;stroke-linejoin:miter;stroke-width:0.070315;\"/>\r\n   </g>\r\n   <g id=\"patch_83\">\r\n    <path clip-path=\"url(#p31ebe19260)\" d=\"M 366.81363 279 \r\nL 370.634549 279 \r\nL 370.634549 279 \r\nL 366.81363 279 \r\nz\r\n\" style=\"fill:#1f77b4;fill-opacity:0.75;stroke:#000000;stroke-linejoin:miter;stroke-width:0.070315;\"/>\r\n   </g>\r\n   <g id=\"patch_84\">\r\n    <path clip-path=\"url(#p31ebe19260)\" d=\"M 370.634549 279 \r\nL 374.455468 279 \r\nL 374.455468 278.211402 \r\nL 370.634549 278.211402 \r\nz\r\n\" style=\"fill:#1f77b4;fill-opacity:0.75;stroke:#000000;stroke-linejoin:miter;stroke-width:0.070315;\"/>\r\n   </g>\r\n   <g id=\"patch_85\">\r\n    <path clip-path=\"url(#p31ebe19260)\" d=\"M 374.455468 279 \r\nL 378.276386 279 \r\nL 378.276386 279 \r\nL 374.455468 279 \r\nz\r\n\" style=\"fill:#1f77b4;fill-opacity:0.75;stroke:#000000;stroke-linejoin:miter;stroke-width:0.070315;\"/>\r\n   </g>\r\n   <g id=\"patch_86\">\r\n    <path clip-path=\"url(#p31ebe19260)\" d=\"M 378.276386 279 \r\nL 382.097305 279 \r\nL 382.097305 279 \r\nL 378.276386 279 \r\nz\r\n\" style=\"fill:#1f77b4;fill-opacity:0.75;stroke:#000000;stroke-linejoin:miter;stroke-width:0.070315;\"/>\r\n   </g>\r\n   <g id=\"patch_87\">\r\n    <path clip-path=\"url(#p31ebe19260)\" d=\"M 382.097305 279 \r\nL 385.918224 279 \r\nL 385.918224 279 \r\nL 382.097305 279 \r\nz\r\n\" style=\"fill:#1f77b4;fill-opacity:0.75;stroke:#000000;stroke-linejoin:miter;stroke-width:0.070315;\"/>\r\n   </g>\r\n   <g id=\"patch_88\">\r\n    <path clip-path=\"url(#p31ebe19260)\" d=\"M 385.918224 279 \r\nL 389.739143 279 \r\nL 389.739143 278.014253 \r\nL 385.918224 278.014253 \r\nz\r\n\" style=\"fill:#1f77b4;fill-opacity:0.75;stroke:#000000;stroke-linejoin:miter;stroke-width:0.070315;\"/>\r\n   </g>\r\n   <g id=\"patch_89\">\r\n    <path clip-path=\"url(#p31ebe19260)\" d=\"M 389.739143 279 \r\nL 393.560062 279 \r\nL 393.560062 279 \r\nL 389.739143 279 \r\nz\r\n\" style=\"fill:#1f77b4;fill-opacity:0.75;stroke:#000000;stroke-linejoin:miter;stroke-width:0.070315;\"/>\r\n   </g>\r\n   <g id=\"patch_90\">\r\n    <path clip-path=\"url(#p31ebe19260)\" d=\"M 393.560062 279 \r\nL 397.38098 279 \r\nL 397.38098 279 \r\nL 393.560062 279 \r\nz\r\n\" style=\"fill:#1f77b4;fill-opacity:0.75;stroke:#000000;stroke-linejoin:miter;stroke-width:0.070315;\"/>\r\n   </g>\r\n   <g id=\"patch_91\">\r\n    <path clip-path=\"url(#p31ebe19260)\" d=\"M 397.38098 279 \r\nL 401.201899 279 \r\nL 401.201899 279 \r\nL 397.38098 279 \r\nz\r\n\" style=\"fill:#1f77b4;fill-opacity:0.75;stroke:#000000;stroke-linejoin:miter;stroke-width:0.070315;\"/>\r\n   </g>\r\n   <g id=\"patch_92\">\r\n    <path clip-path=\"url(#p31ebe19260)\" d=\"M 401.201899 279 \r\nL 405.022818 279 \r\nL 405.022818 278.802851 \r\nL 401.201899 278.802851 \r\nz\r\n\" style=\"fill:#1f77b4;fill-opacity:0.75;stroke:#000000;stroke-linejoin:miter;stroke-width:0.070315;\"/>\r\n   </g>\r\n   <g id=\"patch_93\">\r\n    <path clip-path=\"url(#p31ebe19260)\" d=\"M 405.022818 279 \r\nL 408.843737 279 \r\nL 408.843737 279 \r\nL 405.022818 279 \r\nz\r\n\" style=\"fill:#1f77b4;fill-opacity:0.75;stroke:#000000;stroke-linejoin:miter;stroke-width:0.070315;\"/>\r\n   </g>\r\n   <g id=\"patch_94\">\r\n    <path clip-path=\"url(#p31ebe19260)\" d=\"M 408.843737 279 \r\nL 412.664656 279 \r\nL 412.664656 279 \r\nL 408.843737 279 \r\nz\r\n\" style=\"fill:#1f77b4;fill-opacity:0.75;stroke:#000000;stroke-linejoin:miter;stroke-width:0.070315;\"/>\r\n   </g>\r\n   <g id=\"patch_95\">\r\n    <path clip-path=\"url(#p31ebe19260)\" d=\"M 412.664656 279 \r\nL 416.485575 279 \r\nL 416.485575 278.605701 \r\nL 412.664656 278.605701 \r\nz\r\n\" style=\"fill:#1f77b4;fill-opacity:0.75;stroke:#000000;stroke-linejoin:miter;stroke-width:0.070315;\"/>\r\n   </g>\r\n   <g id=\"patch_96\">\r\n    <path clip-path=\"url(#p31ebe19260)\" d=\"M 416.485575 279 \r\nL 420.306493 279 \r\nL 420.306493 279 \r\nL 416.485575 279 \r\nz\r\n\" style=\"fill:#1f77b4;fill-opacity:0.75;stroke:#000000;stroke-linejoin:miter;stroke-width:0.070315;\"/>\r\n   </g>\r\n   <g id=\"patch_97\">\r\n    <path clip-path=\"url(#p31ebe19260)\" d=\"M 420.306493 279 \r\nL 424.127412 279 \r\nL 424.127412 279 \r\nL 420.306493 279 \r\nz\r\n\" style=\"fill:#1f77b4;fill-opacity:0.75;stroke:#000000;stroke-linejoin:miter;stroke-width:0.070315;\"/>\r\n   </g>\r\n   <g id=\"patch_98\">\r\n    <path clip-path=\"url(#p31ebe19260)\" d=\"M 424.127412 279 \r\nL 427.948331 279 \r\nL 427.948331 279 \r\nL 424.127412 279 \r\nz\r\n\" style=\"fill:#1f77b4;fill-opacity:0.75;stroke:#000000;stroke-linejoin:miter;stroke-width:0.070315;\"/>\r\n   </g>\r\n   <g id=\"patch_99\">\r\n    <path clip-path=\"url(#p31ebe19260)\" d=\"M 427.948331 279 \r\nL 431.76925 279 \r\nL 431.76925 279 \r\nL 427.948331 279 \r\nz\r\n\" style=\"fill:#1f77b4;fill-opacity:0.75;stroke:#000000;stroke-linejoin:miter;stroke-width:0.070315;\"/>\r\n   </g>\r\n   <g id=\"patch_100\">\r\n    <path clip-path=\"url(#p31ebe19260)\" d=\"M 431.76925 279 \r\nL 435.590169 279 \r\nL 435.590169 279 \r\nL 431.76925 279 \r\nz\r\n\" style=\"fill:#1f77b4;fill-opacity:0.75;stroke:#000000;stroke-linejoin:miter;stroke-width:0.070315;\"/>\r\n   </g>\r\n   <g id=\"patch_101\">\r\n    <path clip-path=\"url(#p31ebe19260)\" d=\"M 435.590169 279 \r\nL 439.411087 279 \r\nL 439.411087 278.802851 \r\nL 435.590169 278.802851 \r\nz\r\n\" style=\"fill:#1f77b4;fill-opacity:0.75;stroke:#000000;stroke-linejoin:miter;stroke-width:0.070315;\"/>\r\n   </g>\r\n   <g id=\"patch_102\">\r\n    <path clip-path=\"url(#p31ebe19260)\" d=\"M 439.411087 279 \r\nL 443.232006 279 \r\nL 443.232006 279 \r\nL 439.411087 279 \r\nz\r\n\" style=\"fill:#1f77b4;fill-opacity:0.75;stroke:#000000;stroke-linejoin:miter;stroke-width:0.070315;\"/>\r\n   </g>\r\n   <g id=\"patch_103\">\r\n    <path clip-path=\"url(#p31ebe19260)\" d=\"M 443.232006 279 \r\nL 447.052925 279 \r\nL 447.052925 278.802851 \r\nL 443.232006 278.802851 \r\nz\r\n\" style=\"fill:#1f77b4;fill-opacity:0.75;stroke:#000000;stroke-linejoin:miter;stroke-width:0.070315;\"/>\r\n   </g>\r\n   <g id=\"patch_104\">\r\n    <path clip-path=\"url(#p31ebe19260)\" d=\"M 447.052925 279 \r\nL 450.873844 279 \r\nL 450.873844 279 \r\nL 447.052925 279 \r\nz\r\n\" style=\"fill:#1f77b4;fill-opacity:0.75;stroke:#000000;stroke-linejoin:miter;stroke-width:0.070315;\"/>\r\n   </g>\r\n   <g id=\"patch_105\">\r\n    <path clip-path=\"url(#p31ebe19260)\" d=\"M 450.873844 279 \r\nL 454.694763 279 \r\nL 454.694763 278.802851 \r\nL 450.873844 278.802851 \r\nz\r\n\" style=\"fill:#1f77b4;fill-opacity:0.75;stroke:#000000;stroke-linejoin:miter;stroke-width:0.070315;\"/>\r\n   </g>\r\n   <g id=\"patch_106\">\r\n    <path clip-path=\"url(#p31ebe19260)\" d=\"M 454.694763 279 \r\nL 458.515681 279 \r\nL 458.515681 279 \r\nL 454.694763 279 \r\nz\r\n\" style=\"fill:#1f77b4;fill-opacity:0.75;stroke:#000000;stroke-linejoin:miter;stroke-width:0.070315;\"/>\r\n   </g>\r\n   <g id=\"patch_107\">\r\n    <path clip-path=\"url(#p31ebe19260)\" d=\"M 458.515681 279 \r\nL 462.3366 279 \r\nL 462.3366 278.408552 \r\nL 458.515681 278.408552 \r\nz\r\n\" style=\"fill:#1f77b4;fill-opacity:0.75;stroke:#000000;stroke-linejoin:miter;stroke-width:0.070315;\"/>\r\n   </g>\r\n   <g id=\"patch_108\">\r\n    <path clip-path=\"url(#p31ebe19260)\" d=\"M 462.3366 279 \r\nL 466.157519 279 \r\nL 466.157519 279 \r\nL 462.3366 279 \r\nz\r\n\" style=\"fill:#1f77b4;fill-opacity:0.75;stroke:#000000;stroke-linejoin:miter;stroke-width:0.070315;\"/>\r\n   </g>\r\n   <g id=\"patch_109\">\r\n    <path clip-path=\"url(#p31ebe19260)\" d=\"M 466.157519 279 \r\nL 469.978438 279 \r\nL 469.978438 278.802851 \r\nL 466.157519 278.802851 \r\nz\r\n\" style=\"fill:#1f77b4;fill-opacity:0.75;stroke:#000000;stroke-linejoin:miter;stroke-width:0.070315;\"/>\r\n   </g>\r\n   <g id=\"patch_110\">\r\n    <path clip-path=\"url(#p31ebe19260)\" d=\"M 469.978438 279 \r\nL 473.799357 279 \r\nL 473.799357 279 \r\nL 469.978438 279 \r\nz\r\n\" style=\"fill:#1f77b4;fill-opacity:0.75;stroke:#000000;stroke-linejoin:miter;stroke-width:0.070315;\"/>\r\n   </g>\r\n   <g id=\"patch_111\">\r\n    <path clip-path=\"url(#p31ebe19260)\" d=\"M 473.799357 279 \r\nL 477.620275 279 \r\nL 477.620275 278.802851 \r\nL 473.799357 278.802851 \r\nz\r\n\" style=\"fill:#1f77b4;fill-opacity:0.75;stroke:#000000;stroke-linejoin:miter;stroke-width:0.070315;\"/>\r\n   </g>\r\n   <g id=\"patch_112\">\r\n    <path clip-path=\"url(#p31ebe19260)\" d=\"M 477.620275 279 \r\nL 481.441194 279 \r\nL 481.441194 279 \r\nL 477.620275 279 \r\nz\r\n\" style=\"fill:#1f77b4;fill-opacity:0.75;stroke:#000000;stroke-linejoin:miter;stroke-width:0.070315;\"/>\r\n   </g>\r\n   <g id=\"patch_113\">\r\n    <path clip-path=\"url(#p31ebe19260)\" d=\"M 481.441194 279 \r\nL 485.262113 279 \r\nL 485.262113 278.605701 \r\nL 481.441194 278.605701 \r\nz\r\n\" style=\"fill:#1f77b4;fill-opacity:0.75;stroke:#000000;stroke-linejoin:miter;stroke-width:0.070315;\"/>\r\n   </g>\r\n   <g id=\"patch_114\">\r\n    <path clip-path=\"url(#p31ebe19260)\" d=\"M 485.262113 279 \r\nL 489.083032 279 \r\nL 489.083032 279 \r\nL 485.262113 279 \r\nz\r\n\" style=\"fill:#1f77b4;fill-opacity:0.75;stroke:#000000;stroke-linejoin:miter;stroke-width:0.070315;\"/>\r\n   </g>\r\n   <g id=\"patch_115\">\r\n    <path clip-path=\"url(#p31ebe19260)\" d=\"M 489.083032 279 \r\nL 492.903951 279 \r\nL 492.903951 279 \r\nL 489.083032 279 \r\nz\r\n\" style=\"fill:#1f77b4;fill-opacity:0.75;stroke:#000000;stroke-linejoin:miter;stroke-width:0.070315;\"/>\r\n   </g>\r\n   <g id=\"patch_116\">\r\n    <path clip-path=\"url(#p31ebe19260)\" d=\"M 492.903951 279 \r\nL 496.72487 279 \r\nL 496.72487 279 \r\nL 492.903951 279 \r\nz\r\n\" style=\"fill:#1f77b4;fill-opacity:0.75;stroke:#000000;stroke-linejoin:miter;stroke-width:0.070315;\"/>\r\n   </g>\r\n   <g id=\"patch_117\">\r\n    <path clip-path=\"url(#p31ebe19260)\" d=\"M 496.72487 279 \r\nL 500.545788 279 \r\nL 500.545788 279 \r\nL 496.72487 279 \r\nz\r\n\" style=\"fill:#1f77b4;fill-opacity:0.75;stroke:#000000;stroke-linejoin:miter;stroke-width:0.070315;\"/>\r\n   </g>\r\n   <g id=\"patch_118\">\r\n    <path clip-path=\"url(#p31ebe19260)\" d=\"M 500.545788 279 \r\nL 504.366707 279 \r\nL 504.366707 279 \r\nL 500.545788 279 \r\nz\r\n\" style=\"fill:#1f77b4;fill-opacity:0.75;stroke:#000000;stroke-linejoin:miter;stroke-width:0.070315;\"/>\r\n   </g>\r\n   <g id=\"patch_119\">\r\n    <path clip-path=\"url(#p31ebe19260)\" d=\"M 504.366707 279 \r\nL 508.187626 279 \r\nL 508.187626 279 \r\nL 504.366707 279 \r\nz\r\n\" style=\"fill:#1f77b4;fill-opacity:0.75;stroke:#000000;stroke-linejoin:miter;stroke-width:0.070315;\"/>\r\n   </g>\r\n   <g id=\"patch_120\">\r\n    <path clip-path=\"url(#p31ebe19260)\" d=\"M 508.187626 279 \r\nL 512.008545 279 \r\nL 512.008545 279 \r\nL 508.187626 279 \r\nz\r\n\" style=\"fill:#1f77b4;fill-opacity:0.75;stroke:#000000;stroke-linejoin:miter;stroke-width:0.070315;\"/>\r\n   </g>\r\n   <g id=\"patch_121\">\r\n    <path clip-path=\"url(#p31ebe19260)\" d=\"M 512.008545 279 \r\nL 515.829464 279 \r\nL 515.829464 279 \r\nL 512.008545 279 \r\nz\r\n\" style=\"fill:#1f77b4;fill-opacity:0.75;stroke:#000000;stroke-linejoin:miter;stroke-width:0.070315;\"/>\r\n   </g>\r\n   <g id=\"patch_122\">\r\n    <path clip-path=\"url(#p31ebe19260)\" d=\"M 515.829464 279 \r\nL 519.650382 279 \r\nL 519.650382 279 \r\nL 515.829464 279 \r\nz\r\n\" style=\"fill:#1f77b4;fill-opacity:0.75;stroke:#000000;stroke-linejoin:miter;stroke-width:0.070315;\"/>\r\n   </g>\r\n   <g id=\"patch_123\">\r\n    <path clip-path=\"url(#p31ebe19260)\" d=\"M 519.650382 279 \r\nL 523.471301 279 \r\nL 523.471301 278.802851 \r\nL 519.650382 278.802851 \r\nz\r\n\" style=\"fill:#1f77b4;fill-opacity:0.75;stroke:#000000;stroke-linejoin:miter;stroke-width:0.070315;\"/>\r\n   </g>\r\n   <g id=\"patch_124\">\r\n    <path clip-path=\"url(#p31ebe19260)\" d=\"M 523.471301 279 \r\nL 527.29222 279 \r\nL 527.29222 279 \r\nL 523.471301 279 \r\nz\r\n\" style=\"fill:#1f77b4;fill-opacity:0.75;stroke:#000000;stroke-linejoin:miter;stroke-width:0.070315;\"/>\r\n   </g>\r\n   <g id=\"patch_125\">\r\n    <path clip-path=\"url(#p31ebe19260)\" d=\"M 527.29222 279 \r\nL 531.113139 279 \r\nL 531.113139 279 \r\nL 527.29222 279 \r\nz\r\n\" style=\"fill:#1f77b4;fill-opacity:0.75;stroke:#000000;stroke-linejoin:miter;stroke-width:0.070315;\"/>\r\n   </g>\r\n   <g id=\"patch_126\">\r\n    <path clip-path=\"url(#p31ebe19260)\" d=\"M 531.113139 279 \r\nL 534.934058 279 \r\nL 534.934058 279 \r\nL 531.113139 279 \r\nz\r\n\" style=\"fill:#1f77b4;fill-opacity:0.75;stroke:#000000;stroke-linejoin:miter;stroke-width:0.070315;\"/>\r\n   </g>\r\n   <g id=\"patch_127\">\r\n    <path clip-path=\"url(#p31ebe19260)\" d=\"M 534.934058 279 \r\nL 538.754976 279 \r\nL 538.754976 278.802851 \r\nL 534.934058 278.802851 \r\nz\r\n\" style=\"fill:#1f77b4;fill-opacity:0.75;stroke:#000000;stroke-linejoin:miter;stroke-width:0.070315;\"/>\r\n   </g>\r\n   <g id=\"patch_128\">\r\n    <path clip-path=\"url(#p31ebe19260)\" d=\"M 538.754976 279 \r\nL 542.575895 279 \r\nL 542.575895 279 \r\nL 538.754976 279 \r\nz\r\n\" style=\"fill:#1f77b4;fill-opacity:0.75;stroke:#000000;stroke-linejoin:miter;stroke-width:0.070315;\"/>\r\n   </g>\r\n   <g id=\"patch_129\">\r\n    <path clip-path=\"url(#p31ebe19260)\" d=\"M 542.575895 279 \r\nL 546.396814 279 \r\nL 546.396814 278.802851 \r\nL 542.575895 278.802851 \r\nz\r\n\" style=\"fill:#1f77b4;fill-opacity:0.75;stroke:#000000;stroke-linejoin:miter;stroke-width:0.070315;\"/>\r\n   </g>\r\n   <g id=\"patch_130\">\r\n    <path clip-path=\"url(#p31ebe19260)\" d=\"M 546.396814 279 \r\nL 550.217733 279 \r\nL 550.217733 279 \r\nL 546.396814 279 \r\nz\r\n\" style=\"fill:#1f77b4;fill-opacity:0.75;stroke:#000000;stroke-linejoin:miter;stroke-width:0.070315;\"/>\r\n   </g>\r\n   <g id=\"patch_131\">\r\n    <path clip-path=\"url(#p31ebe19260)\" d=\"M 550.217733 279 \r\nL 554.038652 279 \r\nL 554.038652 279 \r\nL 550.217733 279 \r\nz\r\n\" style=\"fill:#1f77b4;fill-opacity:0.75;stroke:#000000;stroke-linejoin:miter;stroke-width:0.070315;\"/>\r\n   </g>\r\n   <g id=\"patch_132\">\r\n    <path clip-path=\"url(#p31ebe19260)\" d=\"M 554.038652 279 \r\nL 557.859571 279 \r\nL 557.859571 279 \r\nL 554.038652 279 \r\nz\r\n\" style=\"fill:#1f77b4;fill-opacity:0.75;stroke:#000000;stroke-linejoin:miter;stroke-width:0.070315;\"/>\r\n   </g>\r\n   <g id=\"patch_133\">\r\n    <path clip-path=\"url(#p31ebe19260)\" d=\"M 557.859571 279 \r\nL 561.680489 279 \r\nL 561.680489 279 \r\nL 557.859571 279 \r\nz\r\n\" style=\"fill:#1f77b4;fill-opacity:0.75;stroke:#000000;stroke-linejoin:miter;stroke-width:0.070315;\"/>\r\n   </g>\r\n   <g id=\"patch_134\">\r\n    <path clip-path=\"url(#p31ebe19260)\" d=\"M 561.680489 279 \r\nL 565.501408 279 \r\nL 565.501408 279 \r\nL 561.680489 279 \r\nz\r\n\" style=\"fill:#1f77b4;fill-opacity:0.75;stroke:#000000;stroke-linejoin:miter;stroke-width:0.070315;\"/>\r\n   </g>\r\n   <g id=\"patch_135\">\r\n    <path clip-path=\"url(#p31ebe19260)\" d=\"M 565.501408 279 \r\nL 569.322327 279 \r\nL 569.322327 278.802851 \r\nL 565.501408 278.802851 \r\nz\r\n\" style=\"fill:#1f77b4;fill-opacity:0.75;stroke:#000000;stroke-linejoin:miter;stroke-width:0.070315;\"/>\r\n   </g>\r\n   <g id=\"patch_136\">\r\n    <path clip-path=\"url(#p31ebe19260)\" d=\"M 569.322327 279 \r\nL 573.143246 279 \r\nL 573.143246 279 \r\nL 569.322327 279 \r\nz\r\n\" style=\"fill:#1f77b4;fill-opacity:0.75;stroke:#000000;stroke-linejoin:miter;stroke-width:0.070315;\"/>\r\n   </g>\r\n   <g id=\"patch_137\">\r\n    <path clip-path=\"url(#p31ebe19260)\" d=\"M 573.143246 279 \r\nL 576.964165 279 \r\nL 576.964165 279 \r\nL 573.143246 279 \r\nz\r\n\" style=\"fill:#1f77b4;fill-opacity:0.75;stroke:#000000;stroke-linejoin:miter;stroke-width:0.070315;\"/>\r\n   </g>\r\n   <g id=\"patch_138\">\r\n    <path clip-path=\"url(#p31ebe19260)\" d=\"M 576.964165 279 \r\nL 580.785083 279 \r\nL 580.785083 279 \r\nL 576.964165 279 \r\nz\r\n\" style=\"fill:#1f77b4;fill-opacity:0.75;stroke:#000000;stroke-linejoin:miter;stroke-width:0.070315;\"/>\r\n   </g>\r\n   <g id=\"patch_139\">\r\n    <path clip-path=\"url(#p31ebe19260)\" d=\"M 580.785083 279 \r\nL 584.606002 279 \r\nL 584.606002 279 \r\nL 580.785083 279 \r\nz\r\n\" style=\"fill:#1f77b4;fill-opacity:0.75;stroke:#000000;stroke-linejoin:miter;stroke-width:0.070315;\"/>\r\n   </g>\r\n   <g id=\"patch_140\">\r\n    <path clip-path=\"url(#p31ebe19260)\" d=\"M 584.606002 279 \r\nL 588.426921 279 \r\nL 588.426921 279 \r\nL 584.606002 279 \r\nz\r\n\" style=\"fill:#1f77b4;fill-opacity:0.75;stroke:#000000;stroke-linejoin:miter;stroke-width:0.070315;\"/>\r\n   </g>\r\n   <g id=\"patch_141\">\r\n    <path clip-path=\"url(#p31ebe19260)\" d=\"M 588.426921 279 \r\nL 592.24784 279 \r\nL 592.24784 279 \r\nL 588.426921 279 \r\nz\r\n\" style=\"fill:#1f77b4;fill-opacity:0.75;stroke:#000000;stroke-linejoin:miter;stroke-width:0.070315;\"/>\r\n   </g>\r\n   <g id=\"patch_142\">\r\n    <path clip-path=\"url(#p31ebe19260)\" d=\"M 592.24784 279 \r\nL 596.068759 279 \r\nL 596.068759 279 \r\nL 592.24784 279 \r\nz\r\n\" style=\"fill:#1f77b4;fill-opacity:0.75;stroke:#000000;stroke-linejoin:miter;stroke-width:0.070315;\"/>\r\n   </g>\r\n   <g id=\"patch_143\">\r\n    <path clip-path=\"url(#p31ebe19260)\" d=\"M 596.068759 279 \r\nL 599.889677 279 \r\nL 599.889677 279 \r\nL 596.068759 279 \r\nz\r\n\" style=\"fill:#1f77b4;fill-opacity:0.75;stroke:#000000;stroke-linejoin:miter;stroke-width:0.070315;\"/>\r\n   </g>\r\n   <g id=\"patch_144\">\r\n    <path clip-path=\"url(#p31ebe19260)\" d=\"M 599.889677 279 \r\nL 603.710596 279 \r\nL 603.710596 279 \r\nL 599.889677 279 \r\nz\r\n\" style=\"fill:#1f77b4;fill-opacity:0.75;stroke:#000000;stroke-linejoin:miter;stroke-width:0.070315;\"/>\r\n   </g>\r\n   <g id=\"patch_145\">\r\n    <path clip-path=\"url(#p31ebe19260)\" d=\"M 603.710596 279 \r\nL 607.531515 279 \r\nL 607.531515 279 \r\nL 603.710596 279 \r\nz\r\n\" style=\"fill:#1f77b4;fill-opacity:0.75;stroke:#000000;stroke-linejoin:miter;stroke-width:0.070315;\"/>\r\n   </g>\r\n   <g id=\"patch_146\">\r\n    <path clip-path=\"url(#p31ebe19260)\" d=\"M 607.531515 279 \r\nL 611.352434 279 \r\nL 611.352434 279 \r\nL 607.531515 279 \r\nz\r\n\" style=\"fill:#1f77b4;fill-opacity:0.75;stroke:#000000;stroke-linejoin:miter;stroke-width:0.070315;\"/>\r\n   </g>\r\n   <g id=\"patch_147\">\r\n    <path clip-path=\"url(#p31ebe19260)\" d=\"M 611.352434 279 \r\nL 615.173353 279 \r\nL 615.173353 279 \r\nL 611.352434 279 \r\nz\r\n\" style=\"fill:#1f77b4;fill-opacity:0.75;stroke:#000000;stroke-linejoin:miter;stroke-width:0.070315;\"/>\r\n   </g>\r\n   <g id=\"patch_148\">\r\n    <path clip-path=\"url(#p31ebe19260)\" d=\"M 615.173353 279 \r\nL 618.994272 279 \r\nL 618.994272 279 \r\nL 615.173353 279 \r\nz\r\n\" style=\"fill:#1f77b4;fill-opacity:0.75;stroke:#000000;stroke-linejoin:miter;stroke-width:0.070315;\"/>\r\n   </g>\r\n   <g id=\"patch_149\">\r\n    <path clip-path=\"url(#p31ebe19260)\" d=\"M 618.994272 279 \r\nL 622.81519 279 \r\nL 622.81519 279 \r\nL 618.994272 279 \r\nz\r\n\" style=\"fill:#1f77b4;fill-opacity:0.75;stroke:#000000;stroke-linejoin:miter;stroke-width:0.070315;\"/>\r\n   </g>\r\n   <g id=\"patch_150\">\r\n    <path clip-path=\"url(#p31ebe19260)\" d=\"M 622.81519 279 \r\nL 626.636109 279 \r\nL 626.636109 279 \r\nL 622.81519 279 \r\nz\r\n\" style=\"fill:#1f77b4;fill-opacity:0.75;stroke:#000000;stroke-linejoin:miter;stroke-width:0.070315;\"/>\r\n   </g>\r\n   <g id=\"patch_151\">\r\n    <path clip-path=\"url(#p31ebe19260)\" d=\"M 626.636109 279 \r\nL 630.457028 279 \r\nL 630.457028 279 \r\nL 626.636109 279 \r\nz\r\n\" style=\"fill:#1f77b4;fill-opacity:0.75;stroke:#000000;stroke-linejoin:miter;stroke-width:0.070315;\"/>\r\n   </g>\r\n   <g id=\"patch_152\">\r\n    <path clip-path=\"url(#p31ebe19260)\" d=\"M 630.457028 279 \r\nL 634.277947 279 \r\nL 634.277947 279 \r\nL 630.457028 279 \r\nz\r\n\" style=\"fill:#1f77b4;fill-opacity:0.75;stroke:#000000;stroke-linejoin:miter;stroke-width:0.070315;\"/>\r\n   </g>\r\n   <g id=\"patch_153\">\r\n    <path clip-path=\"url(#p31ebe19260)\" d=\"M 634.277947 279 \r\nL 638.098866 279 \r\nL 638.098866 279 \r\nL 634.277947 279 \r\nz\r\n\" style=\"fill:#1f77b4;fill-opacity:0.75;stroke:#000000;stroke-linejoin:miter;stroke-width:0.070315;\"/>\r\n   </g>\r\n   <g id=\"patch_154\">\r\n    <path clip-path=\"url(#p31ebe19260)\" d=\"M 638.098866 279 \r\nL 641.919784 279 \r\nL 641.919784 278.802851 \r\nL 638.098866 278.802851 \r\nz\r\n\" style=\"fill:#1f77b4;fill-opacity:0.75;stroke:#000000;stroke-linejoin:miter;stroke-width:0.070315;\"/>\r\n   </g>\r\n   <g id=\"patch_155\">\r\n    <path clip-path=\"url(#p31ebe19260)\" d=\"M 641.919784 279 \r\nL 645.740703 279 \r\nL 645.740703 279 \r\nL 641.919784 279 \r\nz\r\n\" style=\"fill:#1f77b4;fill-opacity:0.75;stroke:#000000;stroke-linejoin:miter;stroke-width:0.070315;\"/>\r\n   </g>\r\n   <g id=\"patch_156\">\r\n    <path clip-path=\"url(#p31ebe19260)\" d=\"M 645.740703 279 \r\nL 649.561622 279 \r\nL 649.561622 278.802851 \r\nL 645.740703 278.802851 \r\nz\r\n\" style=\"fill:#1f77b4;fill-opacity:0.75;stroke:#000000;stroke-linejoin:miter;stroke-width:0.070315;\"/>\r\n   </g>\r\n   <g id=\"patch_157\">\r\n    <path clip-path=\"url(#p31ebe19260)\" d=\"M 649.561622 279 \r\nL 653.382541 279 \r\nL 653.382541 279 \r\nL 649.561622 279 \r\nz\r\n\" style=\"fill:#1f77b4;fill-opacity:0.75;stroke:#000000;stroke-linejoin:miter;stroke-width:0.070315;\"/>\r\n   </g>\r\n   <g id=\"patch_158\">\r\n    <path clip-path=\"url(#p31ebe19260)\" d=\"M 653.382541 279 \r\nL 657.20346 279 \r\nL 657.20346 278.802851 \r\nL 653.382541 278.802851 \r\nz\r\n\" style=\"fill:#1f77b4;fill-opacity:0.75;stroke:#000000;stroke-linejoin:miter;stroke-width:0.070315;\"/>\r\n   </g>\r\n   <g id=\"patch_159\">\r\n    <path clip-path=\"url(#p31ebe19260)\" d=\"M 657.20346 279 \r\nL 661.024378 279 \r\nL 661.024378 279 \r\nL 657.20346 279 \r\nz\r\n\" style=\"fill:#1f77b4;fill-opacity:0.75;stroke:#000000;stroke-linejoin:miter;stroke-width:0.070315;\"/>\r\n   </g>\r\n   <g id=\"patch_160\">\r\n    <path clip-path=\"url(#p31ebe19260)\" d=\"M 661.024378 279 \r\nL 664.845297 279 \r\nL 664.845297 279 \r\nL 661.024378 279 \r\nz\r\n\" style=\"fill:#1f77b4;fill-opacity:0.75;stroke:#000000;stroke-linejoin:miter;stroke-width:0.070315;\"/>\r\n   </g>\r\n   <g id=\"patch_161\">\r\n    <path clip-path=\"url(#p31ebe19260)\" d=\"M 664.845297 279 \r\nL 668.666216 279 \r\nL 668.666216 279 \r\nL 664.845297 279 \r\nz\r\n\" style=\"fill:#1f77b4;fill-opacity:0.75;stroke:#000000;stroke-linejoin:miter;stroke-width:0.070315;\"/>\r\n   </g>\r\n   <g id=\"patch_162\">\r\n    <path clip-path=\"url(#p31ebe19260)\" d=\"M 668.666216 279 \r\nL 672.487135 279 \r\nL 672.487135 279 \r\nL 668.666216 279 \r\nz\r\n\" style=\"fill:#1f77b4;fill-opacity:0.75;stroke:#000000;stroke-linejoin:miter;stroke-width:0.070315;\"/>\r\n   </g>\r\n   <g id=\"patch_163\">\r\n    <path clip-path=\"url(#p31ebe19260)\" d=\"M 672.487135 279 \r\nL 676.308054 279 \r\nL 676.308054 279 \r\nL 672.487135 279 \r\nz\r\n\" style=\"fill:#1f77b4;fill-opacity:0.75;stroke:#000000;stroke-linejoin:miter;stroke-width:0.070315;\"/>\r\n   </g>\r\n   <g id=\"patch_164\">\r\n    <path clip-path=\"url(#p31ebe19260)\" d=\"M 676.308054 279 \r\nL 680.128973 279 \r\nL 680.128973 279 \r\nL 676.308054 279 \r\nz\r\n\" style=\"fill:#1f77b4;fill-opacity:0.75;stroke:#000000;stroke-linejoin:miter;stroke-width:0.070315;\"/>\r\n   </g>\r\n   <g id=\"patch_165\">\r\n    <path clip-path=\"url(#p31ebe19260)\" d=\"M 680.128973 279 \r\nL 683.949891 279 \r\nL 683.949891 279 \r\nL 680.128973 279 \r\nz\r\n\" style=\"fill:#1f77b4;fill-opacity:0.75;stroke:#000000;stroke-linejoin:miter;stroke-width:0.070315;\"/>\r\n   </g>\r\n   <g id=\"patch_166\">\r\n    <path clip-path=\"url(#p31ebe19260)\" d=\"M 683.949891 279 \r\nL 687.77081 279 \r\nL 687.77081 278.802851 \r\nL 683.949891 278.802851 \r\nz\r\n\" style=\"fill:#1f77b4;fill-opacity:0.75;stroke:#000000;stroke-linejoin:miter;stroke-width:0.070315;\"/>\r\n   </g>\r\n   <g id=\"patch_167\">\r\n    <path clip-path=\"url(#p31ebe19260)\" d=\"M 687.77081 279 \r\nL 691.591729 279 \r\nL 691.591729 279 \r\nL 687.77081 279 \r\nz\r\n\" style=\"fill:#1f77b4;fill-opacity:0.75;stroke:#000000;stroke-linejoin:miter;stroke-width:0.070315;\"/>\r\n   </g>\r\n   <g id=\"patch_168\">\r\n    <path clip-path=\"url(#p31ebe19260)\" d=\"M 691.591729 279 \r\nL 695.412648 279 \r\nL 695.412648 279 \r\nL 691.591729 279 \r\nz\r\n\" style=\"fill:#1f77b4;fill-opacity:0.75;stroke:#000000;stroke-linejoin:miter;stroke-width:0.070315;\"/>\r\n   </g>\r\n   <g id=\"patch_169\">\r\n    <path clip-path=\"url(#p31ebe19260)\" d=\"M 695.412648 279 \r\nL 699.233567 279 \r\nL 699.233567 279 \r\nL 695.412648 279 \r\nz\r\n\" style=\"fill:#1f77b4;fill-opacity:0.75;stroke:#000000;stroke-linejoin:miter;stroke-width:0.070315;\"/>\r\n   </g>\r\n   <g id=\"patch_170\">\r\n    <path clip-path=\"url(#p31ebe19260)\" d=\"M 699.233567 279 \r\nL 703.054485 279 \r\nL 703.054485 279 \r\nL 699.233567 279 \r\nz\r\n\" style=\"fill:#1f77b4;fill-opacity:0.75;stroke:#000000;stroke-linejoin:miter;stroke-width:0.070315;\"/>\r\n   </g>\r\n   <g id=\"patch_171\">\r\n    <path clip-path=\"url(#p31ebe19260)\" d=\"M 703.054485 279 \r\nL 706.875404 279 \r\nL 706.875404 279 \r\nL 703.054485 279 \r\nz\r\n\" style=\"fill:#1f77b4;fill-opacity:0.75;stroke:#000000;stroke-linejoin:miter;stroke-width:0.070315;\"/>\r\n   </g>\r\n   <g id=\"patch_172\">\r\n    <path clip-path=\"url(#p31ebe19260)\" d=\"M 706.875404 279 \r\nL 710.696323 279 \r\nL 710.696323 279 \r\nL 706.875404 279 \r\nz\r\n\" style=\"fill:#1f77b4;fill-opacity:0.75;stroke:#000000;stroke-linejoin:miter;stroke-width:0.070315;\"/>\r\n   </g>\r\n   <g id=\"patch_173\">\r\n    <path clip-path=\"url(#p31ebe19260)\" d=\"M 710.696323 279 \r\nL 714.517242 279 \r\nL 714.517242 279 \r\nL 710.696323 279 \r\nz\r\n\" style=\"fill:#1f77b4;fill-opacity:0.75;stroke:#000000;stroke-linejoin:miter;stroke-width:0.070315;\"/>\r\n   </g>\r\n   <g id=\"patch_174\">\r\n    <path clip-path=\"url(#p31ebe19260)\" d=\"M 714.517242 279 \r\nL 718.338161 279 \r\nL 718.338161 279 \r\nL 714.517242 279 \r\nz\r\n\" style=\"fill:#1f77b4;fill-opacity:0.75;stroke:#000000;stroke-linejoin:miter;stroke-width:0.070315;\"/>\r\n   </g>\r\n   <g id=\"patch_175\">\r\n    <path clip-path=\"url(#p31ebe19260)\" d=\"M 718.338161 279 \r\nL 722.159079 279 \r\nL 722.159079 279 \r\nL 718.338161 279 \r\nz\r\n\" style=\"fill:#1f77b4;fill-opacity:0.75;stroke:#000000;stroke-linejoin:miter;stroke-width:0.070315;\"/>\r\n   </g>\r\n   <g id=\"patch_176\">\r\n    <path clip-path=\"url(#p31ebe19260)\" d=\"M 722.159079 279 \r\nL 725.979998 279 \r\nL 725.979998 278.802851 \r\nL 722.159079 278.802851 \r\nz\r\n\" style=\"fill:#1f77b4;fill-opacity:0.75;stroke:#000000;stroke-linejoin:miter;stroke-width:0.070315;\"/>\r\n   </g>\r\n   <g id=\"patch_177\">\r\n    <path clip-path=\"url(#p31ebe19260)\" d=\"M 725.979998 279 \r\nL 729.800917 279 \r\nL 729.800917 279 \r\nL 725.979998 279 \r\nz\r\n\" style=\"fill:#1f77b4;fill-opacity:0.75;stroke:#000000;stroke-linejoin:miter;stroke-width:0.070315;\"/>\r\n   </g>\r\n   <g id=\"patch_178\">\r\n    <path clip-path=\"url(#p31ebe19260)\" d=\"M 729.800917 279 \r\nL 733.621836 279 \r\nL 733.621836 279 \r\nL 729.800917 279 \r\nz\r\n\" style=\"fill:#1f77b4;fill-opacity:0.75;stroke:#000000;stroke-linejoin:miter;stroke-width:0.070315;\"/>\r\n   </g>\r\n   <g id=\"patch_179\">\r\n    <path clip-path=\"url(#p31ebe19260)\" d=\"M 733.621836 279 \r\nL 737.442755 279 \r\nL 737.442755 279 \r\nL 733.621836 279 \r\nz\r\n\" style=\"fill:#1f77b4;fill-opacity:0.75;stroke:#000000;stroke-linejoin:miter;stroke-width:0.070315;\"/>\r\n   </g>\r\n   <g id=\"patch_180\">\r\n    <path clip-path=\"url(#p31ebe19260)\" d=\"M 737.442755 279 \r\nL 741.263674 279 \r\nL 741.263674 279 \r\nL 737.442755 279 \r\nz\r\n\" style=\"fill:#1f77b4;fill-opacity:0.75;stroke:#000000;stroke-linejoin:miter;stroke-width:0.070315;\"/>\r\n   </g>\r\n   <g id=\"patch_181\">\r\n    <path clip-path=\"url(#p31ebe19260)\" d=\"M 741.263674 279 \r\nL 745.084592 279 \r\nL 745.084592 279 \r\nL 741.263674 279 \r\nz\r\n\" style=\"fill:#1f77b4;fill-opacity:0.75;stroke:#000000;stroke-linejoin:miter;stroke-width:0.070315;\"/>\r\n   </g>\r\n   <g id=\"patch_182\">\r\n    <path clip-path=\"url(#p31ebe19260)\" d=\"M 745.084592 279 \r\nL 748.905511 279 \r\nL 748.905511 278.802851 \r\nL 745.084592 278.802851 \r\nz\r\n\" style=\"fill:#1f77b4;fill-opacity:0.75;stroke:#000000;stroke-linejoin:miter;stroke-width:0.070315;\"/>\r\n   </g>\r\n   <g id=\"patch_183\">\r\n    <path clip-path=\"url(#p31ebe19260)\" d=\"M 748.905511 279 \r\nL 752.72643 279 \r\nL 752.72643 279 \r\nL 748.905511 279 \r\nz\r\n\" style=\"fill:#1f77b4;fill-opacity:0.75;stroke:#000000;stroke-linejoin:miter;stroke-width:0.070315;\"/>\r\n   </g>\r\n   <g id=\"patch_184\">\r\n    <path clip-path=\"url(#p31ebe19260)\" d=\"M 752.72643 279 \r\nL 756.547349 279 \r\nL 756.547349 279 \r\nL 752.72643 279 \r\nz\r\n\" style=\"fill:#1f77b4;fill-opacity:0.75;stroke:#000000;stroke-linejoin:miter;stroke-width:0.070315;\"/>\r\n   </g>\r\n   <g id=\"patch_185\">\r\n    <path clip-path=\"url(#p31ebe19260)\" d=\"M 756.547349 279 \r\nL 760.368268 279 \r\nL 760.368268 279 \r\nL 756.547349 279 \r\nz\r\n\" style=\"fill:#1f77b4;fill-opacity:0.75;stroke:#000000;stroke-linejoin:miter;stroke-width:0.070315;\"/>\r\n   </g>\r\n   <g id=\"patch_186\">\r\n    <path clip-path=\"url(#p31ebe19260)\" d=\"M 760.368268 279 \r\nL 764.189186 279 \r\nL 764.189186 279 \r\nL 760.368268 279 \r\nz\r\n\" style=\"fill:#1f77b4;fill-opacity:0.75;stroke:#000000;stroke-linejoin:miter;stroke-width:0.070315;\"/>\r\n   </g>\r\n   <g id=\"patch_187\">\r\n    <path clip-path=\"url(#p31ebe19260)\" d=\"M 764.189186 279 \r\nL 768.010105 279 \r\nL 768.010105 279 \r\nL 764.189186 279 \r\nz\r\n\" style=\"fill:#1f77b4;fill-opacity:0.75;stroke:#000000;stroke-linejoin:miter;stroke-width:0.070315;\"/>\r\n   </g>\r\n   <g id=\"patch_188\">\r\n    <path clip-path=\"url(#p31ebe19260)\" d=\"M 768.010105 279 \r\nL 771.831024 279 \r\nL 771.831024 279 \r\nL 768.010105 279 \r\nz\r\n\" style=\"fill:#1f77b4;fill-opacity:0.75;stroke:#000000;stroke-linejoin:miter;stroke-width:0.070315;\"/>\r\n   </g>\r\n   <g id=\"patch_189\">\r\n    <path clip-path=\"url(#p31ebe19260)\" d=\"M 771.831024 279 \r\nL 775.651943 279 \r\nL 775.651943 279 \r\nL 771.831024 279 \r\nz\r\n\" style=\"fill:#1f77b4;fill-opacity:0.75;stroke:#000000;stroke-linejoin:miter;stroke-width:0.070315;\"/>\r\n   </g>\r\n   <g id=\"patch_190\">\r\n    <path clip-path=\"url(#p31ebe19260)\" d=\"M 775.651943 279 \r\nL 779.472862 279 \r\nL 779.472862 279 \r\nL 775.651943 279 \r\nz\r\n\" style=\"fill:#1f77b4;fill-opacity:0.75;stroke:#000000;stroke-linejoin:miter;stroke-width:0.070315;\"/>\r\n   </g>\r\n   <g id=\"patch_191\">\r\n    <path clip-path=\"url(#p31ebe19260)\" d=\"M 779.472862 279 \r\nL 783.29378 279 \r\nL 783.29378 279 \r\nL 779.472862 279 \r\nz\r\n\" style=\"fill:#1f77b4;fill-opacity:0.75;stroke:#000000;stroke-linejoin:miter;stroke-width:0.070315;\"/>\r\n   </g>\r\n   <g id=\"patch_192\">\r\n    <path clip-path=\"url(#p31ebe19260)\" d=\"M 783.29378 279 \r\nL 787.114699 279 \r\nL 787.114699 279 \r\nL 783.29378 279 \r\nz\r\n\" style=\"fill:#1f77b4;fill-opacity:0.75;stroke:#000000;stroke-linejoin:miter;stroke-width:0.070315;\"/>\r\n   </g>\r\n   <g id=\"patch_193\">\r\n    <path clip-path=\"url(#p31ebe19260)\" d=\"M 787.114699 279 \r\nL 790.935618 279 \r\nL 790.935618 279 \r\nL 787.114699 279 \r\nz\r\n\" style=\"fill:#1f77b4;fill-opacity:0.75;stroke:#000000;stroke-linejoin:miter;stroke-width:0.070315;\"/>\r\n   </g>\r\n   <g id=\"patch_194\">\r\n    <path clip-path=\"url(#p31ebe19260)\" d=\"M 790.935618 279 \r\nL 794.756537 279 \r\nL 794.756537 279 \r\nL 790.935618 279 \r\nz\r\n\" style=\"fill:#1f77b4;fill-opacity:0.75;stroke:#000000;stroke-linejoin:miter;stroke-width:0.070315;\"/>\r\n   </g>\r\n   <g id=\"patch_195\">\r\n    <path clip-path=\"url(#p31ebe19260)\" d=\"M 794.756537 279 \r\nL 798.577456 279 \r\nL 798.577456 279 \r\nL 794.756537 279 \r\nz\r\n\" style=\"fill:#1f77b4;fill-opacity:0.75;stroke:#000000;stroke-linejoin:miter;stroke-width:0.070315;\"/>\r\n   </g>\r\n   <g id=\"patch_196\">\r\n    <path clip-path=\"url(#p31ebe19260)\" d=\"M 798.577456 279 \r\nL 802.398375 279 \r\nL 802.398375 279 \r\nL 798.577456 279 \r\nz\r\n\" style=\"fill:#1f77b4;fill-opacity:0.75;stroke:#000000;stroke-linejoin:miter;stroke-width:0.070315;\"/>\r\n   </g>\r\n   <g id=\"patch_197\">\r\n    <path clip-path=\"url(#p31ebe19260)\" d=\"M 802.398375 279 \r\nL 806.219293 279 \r\nL 806.219293 279 \r\nL 802.398375 279 \r\nz\r\n\" style=\"fill:#1f77b4;fill-opacity:0.75;stroke:#000000;stroke-linejoin:miter;stroke-width:0.070315;\"/>\r\n   </g>\r\n   <g id=\"patch_198\">\r\n    <path clip-path=\"url(#p31ebe19260)\" d=\"M 806.219293 279 \r\nL 810.040212 279 \r\nL 810.040212 279 \r\nL 806.219293 279 \r\nz\r\n\" style=\"fill:#1f77b4;fill-opacity:0.75;stroke:#000000;stroke-linejoin:miter;stroke-width:0.070315;\"/>\r\n   </g>\r\n   <g id=\"patch_199\">\r\n    <path clip-path=\"url(#p31ebe19260)\" d=\"M 810.040212 279 \r\nL 813.861131 279 \r\nL 813.861131 279 \r\nL 810.040212 279 \r\nz\r\n\" style=\"fill:#1f77b4;fill-opacity:0.75;stroke:#000000;stroke-linejoin:miter;stroke-width:0.070315;\"/>\r\n   </g>\r\n   <g id=\"patch_200\">\r\n    <path clip-path=\"url(#p31ebe19260)\" d=\"M 813.861131 279 \r\nL 817.68205 279 \r\nL 817.68205 279 \r\nL 813.861131 279 \r\nz\r\n\" style=\"fill:#1f77b4;fill-opacity:0.75;stroke:#000000;stroke-linejoin:miter;stroke-width:0.070315;\"/>\r\n   </g>\r\n   <g id=\"patch_201\">\r\n    <path clip-path=\"url(#p31ebe19260)\" d=\"M 817.68205 279 \r\nL 821.502969 279 \r\nL 821.502969 279 \r\nL 817.68205 279 \r\nz\r\n\" style=\"fill:#1f77b4;fill-opacity:0.75;stroke:#000000;stroke-linejoin:miter;stroke-width:0.070315;\"/>\r\n   </g>\r\n   <g id=\"patch_202\">\r\n    <path clip-path=\"url(#p31ebe19260)\" d=\"M 821.502969 279 \r\nL 825.323887 279 \r\nL 825.323887 279 \r\nL 821.502969 279 \r\nz\r\n\" style=\"fill:#1f77b4;fill-opacity:0.75;stroke:#000000;stroke-linejoin:miter;stroke-width:0.070315;\"/>\r\n   </g>\r\n   <g id=\"patch_203\">\r\n    <path clip-path=\"url(#p31ebe19260)\" d=\"M 825.323887 279 \r\nL 829.144806 279 \r\nL 829.144806 279 \r\nL 825.323887 279 \r\nz\r\n\" style=\"fill:#1f77b4;fill-opacity:0.75;stroke:#000000;stroke-linejoin:miter;stroke-width:0.070315;\"/>\r\n   </g>\r\n   <g id=\"patch_204\">\r\n    <path clip-path=\"url(#p31ebe19260)\" d=\"M 829.144806 279 \r\nL 832.965725 279 \r\nL 832.965725 279 \r\nL 829.144806 279 \r\nz\r\n\" style=\"fill:#1f77b4;fill-opacity:0.75;stroke:#000000;stroke-linejoin:miter;stroke-width:0.070315;\"/>\r\n   </g>\r\n   <g id=\"patch_205\">\r\n    <path clip-path=\"url(#p31ebe19260)\" d=\"M 832.965725 279 \r\nL 836.786644 279 \r\nL 836.786644 279 \r\nL 832.965725 279 \r\nz\r\n\" style=\"fill:#1f77b4;fill-opacity:0.75;stroke:#000000;stroke-linejoin:miter;stroke-width:0.070315;\"/>\r\n   </g>\r\n   <g id=\"patch_206\">\r\n    <path clip-path=\"url(#p31ebe19260)\" d=\"M 836.786644 279 \r\nL 840.607563 279 \r\nL 840.607563 279 \r\nL 836.786644 279 \r\nz\r\n\" style=\"fill:#1f77b4;fill-opacity:0.75;stroke:#000000;stroke-linejoin:miter;stroke-width:0.070315;\"/>\r\n   </g>\r\n   <g id=\"patch_207\">\r\n    <path clip-path=\"url(#p31ebe19260)\" d=\"M 840.607563 279 \r\nL 844.428481 279 \r\nL 844.428481 279 \r\nL 840.607563 279 \r\nz\r\n\" style=\"fill:#1f77b4;fill-opacity:0.75;stroke:#000000;stroke-linejoin:miter;stroke-width:0.070315;\"/>\r\n   </g>\r\n   <g id=\"patch_208\">\r\n    <path clip-path=\"url(#p31ebe19260)\" d=\"M 844.428481 279 \r\nL 848.2494 279 \r\nL 848.2494 279 \r\nL 844.428481 279 \r\nz\r\n\" style=\"fill:#1f77b4;fill-opacity:0.75;stroke:#000000;stroke-linejoin:miter;stroke-width:0.070315;\"/>\r\n   </g>\r\n   <g id=\"patch_209\">\r\n    <path clip-path=\"url(#p31ebe19260)\" d=\"M 848.2494 279 \r\nL 852.070319 279 \r\nL 852.070319 279 \r\nL 848.2494 279 \r\nz\r\n\" style=\"fill:#1f77b4;fill-opacity:0.75;stroke:#000000;stroke-linejoin:miter;stroke-width:0.070315;\"/>\r\n   </g>\r\n   <g id=\"patch_210\">\r\n    <path clip-path=\"url(#p31ebe19260)\" d=\"M 852.070319 279 \r\nL 855.891238 279 \r\nL 855.891238 279 \r\nL 852.070319 279 \r\nz\r\n\" style=\"fill:#1f77b4;fill-opacity:0.75;stroke:#000000;stroke-linejoin:miter;stroke-width:0.070315;\"/>\r\n   </g>\r\n   <g id=\"patch_211\">\r\n    <path clip-path=\"url(#p31ebe19260)\" d=\"M 855.891238 279 \r\nL 859.712157 279 \r\nL 859.712157 279 \r\nL 855.891238 279 \r\nz\r\n\" style=\"fill:#1f77b4;fill-opacity:0.75;stroke:#000000;stroke-linejoin:miter;stroke-width:0.070315;\"/>\r\n   </g>\r\n   <g id=\"patch_212\">\r\n    <path clip-path=\"url(#p31ebe19260)\" d=\"M 859.712157 279 \r\nL 863.533075 279 \r\nL 863.533075 279 \r\nL 859.712157 279 \r\nz\r\n\" style=\"fill:#1f77b4;fill-opacity:0.75;stroke:#000000;stroke-linejoin:miter;stroke-width:0.070315;\"/>\r\n   </g>\r\n   <g id=\"patch_213\">\r\n    <path clip-path=\"url(#p31ebe19260)\" d=\"M 863.533075 279 \r\nL 867.353994 279 \r\nL 867.353994 279 \r\nL 863.533075 279 \r\nz\r\n\" style=\"fill:#1f77b4;fill-opacity:0.75;stroke:#000000;stroke-linejoin:miter;stroke-width:0.070315;\"/>\r\n   </g>\r\n   <g id=\"patch_214\">\r\n    <path clip-path=\"url(#p31ebe19260)\" d=\"M 867.353994 279 \r\nL 871.174913 279 \r\nL 871.174913 279 \r\nL 867.353994 279 \r\nz\r\n\" style=\"fill:#1f77b4;fill-opacity:0.75;stroke:#000000;stroke-linejoin:miter;stroke-width:0.070315;\"/>\r\n   </g>\r\n   <g id=\"patch_215\">\r\n    <path clip-path=\"url(#p31ebe19260)\" d=\"M 871.174913 279 \r\nL 874.995832 279 \r\nL 874.995832 279 \r\nL 871.174913 279 \r\nz\r\n\" style=\"fill:#1f77b4;fill-opacity:0.75;stroke:#000000;stroke-linejoin:miter;stroke-width:0.070315;\"/>\r\n   </g>\r\n   <g id=\"patch_216\">\r\n    <path clip-path=\"url(#p31ebe19260)\" d=\"M 874.995832 279 \r\nL 878.816751 279 \r\nL 878.816751 279 \r\nL 874.995832 279 \r\nz\r\n\" style=\"fill:#1f77b4;fill-opacity:0.75;stroke:#000000;stroke-linejoin:miter;stroke-width:0.070315;\"/>\r\n   </g>\r\n   <g id=\"patch_217\">\r\n    <path clip-path=\"url(#p31ebe19260)\" d=\"M 878.816751 279 \r\nL 882.63767 279 \r\nL 882.63767 279 \r\nL 878.816751 279 \r\nz\r\n\" style=\"fill:#1f77b4;fill-opacity:0.75;stroke:#000000;stroke-linejoin:miter;stroke-width:0.070315;\"/>\r\n   </g>\r\n   <g id=\"patch_218\">\r\n    <path clip-path=\"url(#p31ebe19260)\" d=\"M 882.63767 279 \r\nL 886.458588 279 \r\nL 886.458588 279 \r\nL 882.63767 279 \r\nz\r\n\" style=\"fill:#1f77b4;fill-opacity:0.75;stroke:#000000;stroke-linejoin:miter;stroke-width:0.070315;\"/>\r\n   </g>\r\n   <g id=\"patch_219\">\r\n    <path clip-path=\"url(#p31ebe19260)\" d=\"M 886.458588 279 \r\nL 890.279507 279 \r\nL 890.279507 279 \r\nL 886.458588 279 \r\nz\r\n\" style=\"fill:#1f77b4;fill-opacity:0.75;stroke:#000000;stroke-linejoin:miter;stroke-width:0.070315;\"/>\r\n   </g>\r\n   <g id=\"patch_220\">\r\n    <path clip-path=\"url(#p31ebe19260)\" d=\"M 890.279507 279 \r\nL 894.100426 279 \r\nL 894.100426 279 \r\nL 890.279507 279 \r\nz\r\n\" style=\"fill:#1f77b4;fill-opacity:0.75;stroke:#000000;stroke-linejoin:miter;stroke-width:0.070315;\"/>\r\n   </g>\r\n   <g id=\"patch_221\">\r\n    <path clip-path=\"url(#p31ebe19260)\" d=\"M 894.100426 279 \r\nL 897.921345 279 \r\nL 897.921345 279 \r\nL 894.100426 279 \r\nz\r\n\" style=\"fill:#1f77b4;fill-opacity:0.75;stroke:#000000;stroke-linejoin:miter;stroke-width:0.070315;\"/>\r\n   </g>\r\n   <g id=\"patch_222\">\r\n    <path clip-path=\"url(#p31ebe19260)\" d=\"M 897.921345 279 \r\nL 901.742264 279 \r\nL 901.742264 279 \r\nL 897.921345 279 \r\nz\r\n\" style=\"fill:#1f77b4;fill-opacity:0.75;stroke:#000000;stroke-linejoin:miter;stroke-width:0.070315;\"/>\r\n   </g>\r\n   <g id=\"patch_223\">\r\n    <path clip-path=\"url(#p31ebe19260)\" d=\"M 901.742264 279 \r\nL 905.563182 279 \r\nL 905.563182 279 \r\nL 901.742264 279 \r\nz\r\n\" style=\"fill:#1f77b4;fill-opacity:0.75;stroke:#000000;stroke-linejoin:miter;stroke-width:0.070315;\"/>\r\n   </g>\r\n   <g id=\"patch_224\">\r\n    <path clip-path=\"url(#p31ebe19260)\" d=\"M 905.563182 279 \r\nL 909.384101 279 \r\nL 909.384101 279 \r\nL 905.563182 279 \r\nz\r\n\" style=\"fill:#1f77b4;fill-opacity:0.75;stroke:#000000;stroke-linejoin:miter;stroke-width:0.070315;\"/>\r\n   </g>\r\n   <g id=\"patch_225\">\r\n    <path clip-path=\"url(#p31ebe19260)\" d=\"M 909.384101 279 \r\nL 913.20502 279 \r\nL 913.20502 279 \r\nL 909.384101 279 \r\nz\r\n\" style=\"fill:#1f77b4;fill-opacity:0.75;stroke:#000000;stroke-linejoin:miter;stroke-width:0.070315;\"/>\r\n   </g>\r\n   <g id=\"patch_226\">\r\n    <path clip-path=\"url(#p31ebe19260)\" d=\"M 913.20502 279 \r\nL 917.025939 279 \r\nL 917.025939 279 \r\nL 913.20502 279 \r\nz\r\n\" style=\"fill:#1f77b4;fill-opacity:0.75;stroke:#000000;stroke-linejoin:miter;stroke-width:0.070315;\"/>\r\n   </g>\r\n   <g id=\"patch_227\">\r\n    <path clip-path=\"url(#p31ebe19260)\" d=\"M 917.025939 279 \r\nL 920.846858 279 \r\nL 920.846858 279 \r\nL 917.025939 279 \r\nz\r\n\" style=\"fill:#1f77b4;fill-opacity:0.75;stroke:#000000;stroke-linejoin:miter;stroke-width:0.070315;\"/>\r\n   </g>\r\n   <g id=\"patch_228\">\r\n    <path clip-path=\"url(#p31ebe19260)\" d=\"M 920.846858 279 \r\nL 924.667776 279 \r\nL 924.667776 279 \r\nL 920.846858 279 \r\nz\r\n\" style=\"fill:#1f77b4;fill-opacity:0.75;stroke:#000000;stroke-linejoin:miter;stroke-width:0.070315;\"/>\r\n   </g>\r\n   <g id=\"patch_229\">\r\n    <path clip-path=\"url(#p31ebe19260)\" d=\"M 924.667776 279 \r\nL 928.488695 279 \r\nL 928.488695 279 \r\nL 924.667776 279 \r\nz\r\n\" style=\"fill:#1f77b4;fill-opacity:0.75;stroke:#000000;stroke-linejoin:miter;stroke-width:0.070315;\"/>\r\n   </g>\r\n   <g id=\"patch_230\">\r\n    <path clip-path=\"url(#p31ebe19260)\" d=\"M 928.488695 279 \r\nL 932.309614 279 \r\nL 932.309614 279 \r\nL 928.488695 279 \r\nz\r\n\" style=\"fill:#1f77b4;fill-opacity:0.75;stroke:#000000;stroke-linejoin:miter;stroke-width:0.070315;\"/>\r\n   </g>\r\n   <g id=\"patch_231\">\r\n    <path clip-path=\"url(#p31ebe19260)\" d=\"M 932.309614 279 \r\nL 936.130533 279 \r\nL 936.130533 279 \r\nL 932.309614 279 \r\nz\r\n\" style=\"fill:#1f77b4;fill-opacity:0.75;stroke:#000000;stroke-linejoin:miter;stroke-width:0.070315;\"/>\r\n   </g>\r\n   <g id=\"patch_232\">\r\n    <path clip-path=\"url(#p31ebe19260)\" d=\"M 936.130533 279 \r\nL 939.951452 279 \r\nL 939.951452 279 \r\nL 936.130533 279 \r\nz\r\n\" style=\"fill:#1f77b4;fill-opacity:0.75;stroke:#000000;stroke-linejoin:miter;stroke-width:0.070315;\"/>\r\n   </g>\r\n   <g id=\"patch_233\">\r\n    <path clip-path=\"url(#p31ebe19260)\" d=\"M 939.951452 279 \r\nL 943.772371 279 \r\nL 943.772371 279 \r\nL 939.951452 279 \r\nz\r\n\" style=\"fill:#1f77b4;fill-opacity:0.75;stroke:#000000;stroke-linejoin:miter;stroke-width:0.070315;\"/>\r\n   </g>\r\n   <g id=\"patch_234\">\r\n    <path clip-path=\"url(#p31ebe19260)\" d=\"M 943.772371 279 \r\nL 947.593289 279 \r\nL 947.593289 279 \r\nL 943.772371 279 \r\nz\r\n\" style=\"fill:#1f77b4;fill-opacity:0.75;stroke:#000000;stroke-linejoin:miter;stroke-width:0.070315;\"/>\r\n   </g>\r\n   <g id=\"patch_235\">\r\n    <path clip-path=\"url(#p31ebe19260)\" d=\"M 947.593289 279 \r\nL 951.414208 279 \r\nL 951.414208 279 \r\nL 947.593289 279 \r\nz\r\n\" style=\"fill:#1f77b4;fill-opacity:0.75;stroke:#000000;stroke-linejoin:miter;stroke-width:0.070315;\"/>\r\n   </g>\r\n   <g id=\"patch_236\">\r\n    <path clip-path=\"url(#p31ebe19260)\" d=\"M 951.414208 279 \r\nL 955.235127 279 \r\nL 955.235127 279 \r\nL 951.414208 279 \r\nz\r\n\" style=\"fill:#1f77b4;fill-opacity:0.75;stroke:#000000;stroke-linejoin:miter;stroke-width:0.070315;\"/>\r\n   </g>\r\n   <g id=\"patch_237\">\r\n    <path clip-path=\"url(#p31ebe19260)\" d=\"M 955.235127 279 \r\nL 959.056046 279 \r\nL 959.056046 279 \r\nL 955.235127 279 \r\nz\r\n\" style=\"fill:#1f77b4;fill-opacity:0.75;stroke:#000000;stroke-linejoin:miter;stroke-width:0.070315;\"/>\r\n   </g>\r\n   <g id=\"patch_238\">\r\n    <path clip-path=\"url(#p31ebe19260)\" d=\"M 959.056046 279 \r\nL 962.876965 279 \r\nL 962.876965 279 \r\nL 959.056046 279 \r\nz\r\n\" style=\"fill:#1f77b4;fill-opacity:0.75;stroke:#000000;stroke-linejoin:miter;stroke-width:0.070315;\"/>\r\n   </g>\r\n   <g id=\"patch_239\">\r\n    <path clip-path=\"url(#p31ebe19260)\" d=\"M 962.876965 279 \r\nL 966.697883 279 \r\nL 966.697883 279 \r\nL 962.876965 279 \r\nz\r\n\" style=\"fill:#1f77b4;fill-opacity:0.75;stroke:#000000;stroke-linejoin:miter;stroke-width:0.070315;\"/>\r\n   </g>\r\n   <g id=\"patch_240\">\r\n    <path clip-path=\"url(#p31ebe19260)\" d=\"M 966.697883 279 \r\nL 970.518802 279 \r\nL 970.518802 279 \r\nL 966.697883 279 \r\nz\r\n\" style=\"fill:#1f77b4;fill-opacity:0.75;stroke:#000000;stroke-linejoin:miter;stroke-width:0.070315;\"/>\r\n   </g>\r\n   <g id=\"patch_241\">\r\n    <path clip-path=\"url(#p31ebe19260)\" d=\"M 970.518802 279 \r\nL 974.339721 279 \r\nL 974.339721 279 \r\nL 970.518802 279 \r\nz\r\n\" style=\"fill:#1f77b4;fill-opacity:0.75;stroke:#000000;stroke-linejoin:miter;stroke-width:0.070315;\"/>\r\n   </g>\r\n   <g id=\"patch_242\">\r\n    <path clip-path=\"url(#p31ebe19260)\" d=\"M 974.339721 279 \r\nL 978.16064 279 \r\nL 978.16064 278.605701 \r\nL 974.339721 278.605701 \r\nz\r\n\" style=\"fill:#1f77b4;fill-opacity:0.75;stroke:#000000;stroke-linejoin:miter;stroke-width:0.070315;\"/>\r\n   </g>\r\n   <g id=\"patch_243\">\r\n    <path clip-path=\"url(#p31ebe19260)\" d=\"M 978.16064 279 \r\nL 981.981559 279 \r\nL 981.981559 279 \r\nL 978.16064 279 \r\nz\r\n\" style=\"fill:#1f77b4;fill-opacity:0.75;stroke:#000000;stroke-linejoin:miter;stroke-width:0.070315;\"/>\r\n   </g>\r\n   <g id=\"patch_244\">\r\n    <path clip-path=\"url(#p31ebe19260)\" d=\"M 981.981559 279 \r\nL 985.802477 279 \r\nL 985.802477 279 \r\nL 981.981559 279 \r\nz\r\n\" style=\"fill:#1f77b4;fill-opacity:0.75;stroke:#000000;stroke-linejoin:miter;stroke-width:0.070315;\"/>\r\n   </g>\r\n   <g id=\"patch_245\">\r\n    <path clip-path=\"url(#p31ebe19260)\" d=\"M 985.802477 279 \r\nL 989.623396 279 \r\nL 989.623396 279 \r\nL 985.802477 279 \r\nz\r\n\" style=\"fill:#1f77b4;fill-opacity:0.75;stroke:#000000;stroke-linejoin:miter;stroke-width:0.070315;\"/>\r\n   </g>\r\n   <g id=\"patch_246\">\r\n    <path clip-path=\"url(#p31ebe19260)\" d=\"M 989.623396 279 \r\nL 993.444315 279 \r\nL 993.444315 279 \r\nL 989.623396 279 \r\nz\r\n\" style=\"fill:#1f77b4;fill-opacity:0.75;stroke:#000000;stroke-linejoin:miter;stroke-width:0.070315;\"/>\r\n   </g>\r\n   <g id=\"patch_247\">\r\n    <path clip-path=\"url(#p31ebe19260)\" d=\"M 993.444315 279 \r\nL 997.265234 279 \r\nL 997.265234 279 \r\nL 993.444315 279 \r\nz\r\n\" style=\"fill:#1f77b4;fill-opacity:0.75;stroke:#000000;stroke-linejoin:miter;stroke-width:0.070315;\"/>\r\n   </g>\r\n   <g id=\"patch_248\">\r\n    <path clip-path=\"url(#p31ebe19260)\" d=\"M 997.265234 279 \r\nL 1001.086153 279 \r\nL 1001.086153 279 \r\nL 997.265234 279 \r\nz\r\n\" style=\"fill:#1f77b4;fill-opacity:0.75;stroke:#000000;stroke-linejoin:miter;stroke-width:0.070315;\"/>\r\n   </g>\r\n   <g id=\"patch_249\">\r\n    <path clip-path=\"url(#p31ebe19260)\" d=\"M 1001.086153 279 \r\nL 1004.907072 279 \r\nL 1004.907072 279 \r\nL 1001.086153 279 \r\nz\r\n\" style=\"fill:#1f77b4;fill-opacity:0.75;stroke:#000000;stroke-linejoin:miter;stroke-width:0.070315;\"/>\r\n   </g>\r\n   <g id=\"patch_250\">\r\n    <path clip-path=\"url(#p31ebe19260)\" d=\"M 1004.907072 279 \r\nL 1008.72799 279 \r\nL 1008.72799 279 \r\nL 1004.907072 279 \r\nz\r\n\" style=\"fill:#1f77b4;fill-opacity:0.75;stroke:#000000;stroke-linejoin:miter;stroke-width:0.070315;\"/>\r\n   </g>\r\n   <g id=\"patch_251\">\r\n    <path clip-path=\"url(#p31ebe19260)\" d=\"M 1008.72799 279 \r\nL 1012.548909 279 \r\nL 1012.548909 279 \r\nL 1008.72799 279 \r\nz\r\n\" style=\"fill:#1f77b4;fill-opacity:0.75;stroke:#000000;stroke-linejoin:miter;stroke-width:0.070315;\"/>\r\n   </g>\r\n   <g id=\"patch_252\">\r\n    <path clip-path=\"url(#p31ebe19260)\" d=\"M 1012.548909 279 \r\nL 1016.369828 279 \r\nL 1016.369828 279 \r\nL 1012.548909 279 \r\nz\r\n\" style=\"fill:#1f77b4;fill-opacity:0.75;stroke:#000000;stroke-linejoin:miter;stroke-width:0.070315;\"/>\r\n   </g>\r\n   <g id=\"patch_253\">\r\n    <path clip-path=\"url(#p31ebe19260)\" d=\"M 1016.369828 279 \r\nL 1020.190747 279 \r\nL 1020.190747 279 \r\nL 1016.369828 279 \r\nz\r\n\" style=\"fill:#1f77b4;fill-opacity:0.75;stroke:#000000;stroke-linejoin:miter;stroke-width:0.070315;\"/>\r\n   </g>\r\n   <g id=\"patch_254\">\r\n    <path clip-path=\"url(#p31ebe19260)\" d=\"M 1020.190747 279 \r\nL 1024.011666 279 \r\nL 1024.011666 279 \r\nL 1020.190747 279 \r\nz\r\n\" style=\"fill:#1f77b4;fill-opacity:0.75;stroke:#000000;stroke-linejoin:miter;stroke-width:0.070315;\"/>\r\n   </g>\r\n   <g id=\"patch_255\">\r\n    <path clip-path=\"url(#p31ebe19260)\" d=\"M 1024.011666 279 \r\nL 1027.832584 279 \r\nL 1027.832584 279 \r\nL 1024.011666 279 \r\nz\r\n\" style=\"fill:#1f77b4;fill-opacity:0.75;stroke:#000000;stroke-linejoin:miter;stroke-width:0.070315;\"/>\r\n   </g>\r\n   <g id=\"patch_256\">\r\n    <path clip-path=\"url(#p31ebe19260)\" d=\"M 1027.832584 279 \r\nL 1031.653503 279 \r\nL 1031.653503 279 \r\nL 1027.832584 279 \r\nz\r\n\" style=\"fill:#1f77b4;fill-opacity:0.75;stroke:#000000;stroke-linejoin:miter;stroke-width:0.070315;\"/>\r\n   </g>\r\n   <g id=\"patch_257\">\r\n    <path clip-path=\"url(#p31ebe19260)\" d=\"M 1031.653503 279 \r\nL 1035.474422 279 \r\nL 1035.474422 279 \r\nL 1031.653503 279 \r\nz\r\n\" style=\"fill:#1f77b4;fill-opacity:0.75;stroke:#000000;stroke-linejoin:miter;stroke-width:0.070315;\"/>\r\n   </g>\r\n   <g id=\"patch_258\">\r\n    <path clip-path=\"url(#p31ebe19260)\" d=\"M 1035.474422 279 \r\nL 1039.295341 279 \r\nL 1039.295341 279 \r\nL 1035.474422 279 \r\nz\r\n\" style=\"fill:#1f77b4;fill-opacity:0.75;stroke:#000000;stroke-linejoin:miter;stroke-width:0.070315;\"/>\r\n   </g>\r\n   <g id=\"patch_259\">\r\n    <path clip-path=\"url(#p31ebe19260)\" d=\"M 1039.295341 279 \r\nL 1043.11626 279 \r\nL 1043.11626 279 \r\nL 1039.295341 279 \r\nz\r\n\" style=\"fill:#1f77b4;fill-opacity:0.75;stroke:#000000;stroke-linejoin:miter;stroke-width:0.070315;\"/>\r\n   </g>\r\n   <g id=\"patch_260\">\r\n    <path clip-path=\"url(#p31ebe19260)\" d=\"M 1043.11626 279 \r\nL 1046.937178 279 \r\nL 1046.937178 279 \r\nL 1043.11626 279 \r\nz\r\n\" style=\"fill:#1f77b4;fill-opacity:0.75;stroke:#000000;stroke-linejoin:miter;stroke-width:0.070315;\"/>\r\n   </g>\r\n   <g id=\"patch_261\">\r\n    <path clip-path=\"url(#p31ebe19260)\" d=\"M 1046.937178 279 \r\nL 1050.758097 279 \r\nL 1050.758097 279 \r\nL 1046.937178 279 \r\nz\r\n\" style=\"fill:#1f77b4;fill-opacity:0.75;stroke:#000000;stroke-linejoin:miter;stroke-width:0.070315;\"/>\r\n   </g>\r\n   <g id=\"patch_262\">\r\n    <path clip-path=\"url(#p31ebe19260)\" d=\"M 1050.758097 279 \r\nL 1054.579016 279 \r\nL 1054.579016 278.802851 \r\nL 1050.758097 278.802851 \r\nz\r\n\" style=\"fill:#1f77b4;fill-opacity:0.75;stroke:#000000;stroke-linejoin:miter;stroke-width:0.070315;\"/>\r\n   </g>\r\n   <g id=\"patch_263\">\r\n    <path clip-path=\"url(#p31ebe19260)\" d=\"M 1054.579016 279 \r\nL 1058.399935 279 \r\nL 1058.399935 279 \r\nL 1054.579016 279 \r\nz\r\n\" style=\"fill:#1f77b4;fill-opacity:0.75;stroke:#000000;stroke-linejoin:miter;stroke-width:0.070315;\"/>\r\n   </g>\r\n   <g id=\"patch_264\">\r\n    <path clip-path=\"url(#p31ebe19260)\" d=\"M 1058.399935 279 \r\nL 1062.220854 279 \r\nL 1062.220854 279 \r\nL 1058.399935 279 \r\nz\r\n\" style=\"fill:#1f77b4;fill-opacity:0.75;stroke:#000000;stroke-linejoin:miter;stroke-width:0.070315;\"/>\r\n   </g>\r\n   <g id=\"patch_265\">\r\n    <path clip-path=\"url(#p31ebe19260)\" d=\"M 1062.220854 279 \r\nL 1066.041773 279 \r\nL 1066.041773 279 \r\nL 1062.220854 279 \r\nz\r\n\" style=\"fill:#1f77b4;fill-opacity:0.75;stroke:#000000;stroke-linejoin:miter;stroke-width:0.070315;\"/>\r\n   </g>\r\n   <g id=\"patch_266\">\r\n    <path clip-path=\"url(#p31ebe19260)\" d=\"M 1066.041773 279 \r\nL 1069.862691 279 \r\nL 1069.862691 279 \r\nL 1066.041773 279 \r\nz\r\n\" style=\"fill:#1f77b4;fill-opacity:0.75;stroke:#000000;stroke-linejoin:miter;stroke-width:0.070315;\"/>\r\n   </g>\r\n   <g id=\"patch_267\">\r\n    <path clip-path=\"url(#p31ebe19260)\" d=\"M 1069.862691 279 \r\nL 1073.68361 279 \r\nL 1073.68361 279 \r\nL 1069.862691 279 \r\nz\r\n\" style=\"fill:#1f77b4;fill-opacity:0.75;stroke:#000000;stroke-linejoin:miter;stroke-width:0.070315;\"/>\r\n   </g>\r\n   <g id=\"patch_268\">\r\n    <path clip-path=\"url(#p31ebe19260)\" d=\"M 1073.68361 279 \r\nL 1077.504529 279 \r\nL 1077.504529 279 \r\nL 1073.68361 279 \r\nz\r\n\" style=\"fill:#1f77b4;fill-opacity:0.75;stroke:#000000;stroke-linejoin:miter;stroke-width:0.070315;\"/>\r\n   </g>\r\n   <g id=\"patch_269\">\r\n    <path clip-path=\"url(#p31ebe19260)\" d=\"M 1077.504529 279 \r\nL 1081.325448 279 \r\nL 1081.325448 279 \r\nL 1077.504529 279 \r\nz\r\n\" style=\"fill:#1f77b4;fill-opacity:0.75;stroke:#000000;stroke-linejoin:miter;stroke-width:0.070315;\"/>\r\n   </g>\r\n   <g id=\"patch_270\">\r\n    <path clip-path=\"url(#p31ebe19260)\" d=\"M 1081.325448 279 \r\nL 1085.146367 279 \r\nL 1085.146367 279 \r\nL 1081.325448 279 \r\nz\r\n\" style=\"fill:#1f77b4;fill-opacity:0.75;stroke:#000000;stroke-linejoin:miter;stroke-width:0.070315;\"/>\r\n   </g>\r\n   <g id=\"patch_271\">\r\n    <path clip-path=\"url(#p31ebe19260)\" d=\"M 1085.146367 279 \r\nL 1088.967285 279 \r\nL 1088.967285 279 \r\nL 1085.146367 279 \r\nz\r\n\" style=\"fill:#1f77b4;fill-opacity:0.75;stroke:#000000;stroke-linejoin:miter;stroke-width:0.070315;\"/>\r\n   </g>\r\n   <g id=\"patch_272\">\r\n    <path clip-path=\"url(#p31ebe19260)\" d=\"M 1088.967285 279 \r\nL 1092.788204 279 \r\nL 1092.788204 279 \r\nL 1088.967285 279 \r\nz\r\n\" style=\"fill:#1f77b4;fill-opacity:0.75;stroke:#000000;stroke-linejoin:miter;stroke-width:0.070315;\"/>\r\n   </g>\r\n   <g id=\"patch_273\">\r\n    <path clip-path=\"url(#p31ebe19260)\" d=\"M 1092.788204 279 \r\nL 1096.609123 279 \r\nL 1096.609123 279 \r\nL 1092.788204 279 \r\nz\r\n\" style=\"fill:#1f77b4;fill-opacity:0.75;stroke:#000000;stroke-linejoin:miter;stroke-width:0.070315;\"/>\r\n   </g>\r\n   <g id=\"patch_274\">\r\n    <path clip-path=\"url(#p31ebe19260)\" d=\"M 1096.609123 279 \r\nL 1100.430042 279 \r\nL 1100.430042 279 \r\nL 1096.609123 279 \r\nz\r\n\" style=\"fill:#1f77b4;fill-opacity:0.75;stroke:#000000;stroke-linejoin:miter;stroke-width:0.070315;\"/>\r\n   </g>\r\n   <g id=\"patch_275\">\r\n    <path clip-path=\"url(#p31ebe19260)\" d=\"M 1100.430042 279 \r\nL 1104.250961 279 \r\nL 1104.250961 279 \r\nL 1100.430042 279 \r\nz\r\n\" style=\"fill:#1f77b4;fill-opacity:0.75;stroke:#000000;stroke-linejoin:miter;stroke-width:0.070315;\"/>\r\n   </g>\r\n   <g id=\"patch_276\">\r\n    <path clip-path=\"url(#p31ebe19260)\" d=\"M 1104.250961 279 \r\nL 1108.071879 279 \r\nL 1108.071879 279 \r\nL 1104.250961 279 \r\nz\r\n\" style=\"fill:#1f77b4;fill-opacity:0.75;stroke:#000000;stroke-linejoin:miter;stroke-width:0.070315;\"/>\r\n   </g>\r\n   <g id=\"patch_277\">\r\n    <path clip-path=\"url(#p31ebe19260)\" d=\"M 1108.071879 279 \r\nL 1111.892798 279 \r\nL 1111.892798 279 \r\nL 1108.071879 279 \r\nz\r\n\" style=\"fill:#1f77b4;fill-opacity:0.75;stroke:#000000;stroke-linejoin:miter;stroke-width:0.070315;\"/>\r\n   </g>\r\n   <g id=\"patch_278\">\r\n    <path clip-path=\"url(#p31ebe19260)\" d=\"M 1111.892798 279 \r\nL 1115.713717 279 \r\nL 1115.713717 279 \r\nL 1111.892798 279 \r\nz\r\n\" style=\"fill:#1f77b4;fill-opacity:0.75;stroke:#000000;stroke-linejoin:miter;stroke-width:0.070315;\"/>\r\n   </g>\r\n   <g id=\"patch_279\">\r\n    <path clip-path=\"url(#p31ebe19260)\" d=\"M 1115.713717 279 \r\nL 1119.534636 279 \r\nL 1119.534636 279 \r\nL 1115.713717 279 \r\nz\r\n\" style=\"fill:#1f77b4;fill-opacity:0.75;stroke:#000000;stroke-linejoin:miter;stroke-width:0.070315;\"/>\r\n   </g>\r\n   <g id=\"patch_280\">\r\n    <path clip-path=\"url(#p31ebe19260)\" d=\"M 1119.534636 279 \r\nL 1123.355555 279 \r\nL 1123.355555 279 \r\nL 1119.534636 279 \r\nz\r\n\" style=\"fill:#1f77b4;fill-opacity:0.75;stroke:#000000;stroke-linejoin:miter;stroke-width:0.070315;\"/>\r\n   </g>\r\n   <g id=\"patch_281\">\r\n    <path clip-path=\"url(#p31ebe19260)\" d=\"M 1123.355555 279 \r\nL 1127.176474 279 \r\nL 1127.176474 279 \r\nL 1123.355555 279 \r\nz\r\n\" style=\"fill:#1f77b4;fill-opacity:0.75;stroke:#000000;stroke-linejoin:miter;stroke-width:0.070315;\"/>\r\n   </g>\r\n   <g id=\"patch_282\">\r\n    <path clip-path=\"url(#p31ebe19260)\" d=\"M 1127.176474 279 \r\nL 1130.997392 279 \r\nL 1130.997392 279 \r\nL 1127.176474 279 \r\nz\r\n\" style=\"fill:#1f77b4;fill-opacity:0.75;stroke:#000000;stroke-linejoin:miter;stroke-width:0.070315;\"/>\r\n   </g>\r\n   <g id=\"patch_283\">\r\n    <path clip-path=\"url(#p31ebe19260)\" d=\"M 1130.997392 279 \r\nL 1134.818311 279 \r\nL 1134.818311 279 \r\nL 1130.997392 279 \r\nz\r\n\" style=\"fill:#1f77b4;fill-opacity:0.75;stroke:#000000;stroke-linejoin:miter;stroke-width:0.070315;\"/>\r\n   </g>\r\n   <g id=\"patch_284\">\r\n    <path clip-path=\"url(#p31ebe19260)\" d=\"M 1134.818311 279 \r\nL 1138.63923 279 \r\nL 1138.63923 279 \r\nL 1134.818311 279 \r\nz\r\n\" style=\"fill:#1f77b4;fill-opacity:0.75;stroke:#000000;stroke-linejoin:miter;stroke-width:0.070315;\"/>\r\n   </g>\r\n   <g id=\"patch_285\">\r\n    <path clip-path=\"url(#p31ebe19260)\" d=\"M 1138.63923 279 \r\nL 1142.460149 279 \r\nL 1142.460149 279 \r\nL 1138.63923 279 \r\nz\r\n\" style=\"fill:#1f77b4;fill-opacity:0.75;stroke:#000000;stroke-linejoin:miter;stroke-width:0.070315;\"/>\r\n   </g>\r\n   <g id=\"patch_286\">\r\n    <path clip-path=\"url(#p31ebe19260)\" d=\"M 1142.460149 279 \r\nL 1146.281068 279 \r\nL 1146.281068 279 \r\nL 1142.460149 279 \r\nz\r\n\" style=\"fill:#1f77b4;fill-opacity:0.75;stroke:#000000;stroke-linejoin:miter;stroke-width:0.070315;\"/>\r\n   </g>\r\n   <g id=\"patch_287\">\r\n    <path clip-path=\"url(#p31ebe19260)\" d=\"M 1146.281068 279 \r\nL 1150.101986 279 \r\nL 1150.101986 279 \r\nL 1146.281068 279 \r\nz\r\n\" style=\"fill:#1f77b4;fill-opacity:0.75;stroke:#000000;stroke-linejoin:miter;stroke-width:0.070315;\"/>\r\n   </g>\r\n   <g id=\"patch_288\">\r\n    <path clip-path=\"url(#p31ebe19260)\" d=\"M 1150.101986 279 \r\nL 1153.922905 279 \r\nL 1153.922905 279 \r\nL 1150.101986 279 \r\nz\r\n\" style=\"fill:#1f77b4;fill-opacity:0.75;stroke:#000000;stroke-linejoin:miter;stroke-width:0.070315;\"/>\r\n   </g>\r\n   <g id=\"patch_289\">\r\n    <path clip-path=\"url(#p31ebe19260)\" d=\"M 1153.922905 279 \r\nL 1157.743824 279 \r\nL 1157.743824 279 \r\nL 1153.922905 279 \r\nz\r\n\" style=\"fill:#1f77b4;fill-opacity:0.75;stroke:#000000;stroke-linejoin:miter;stroke-width:0.070315;\"/>\r\n   </g>\r\n   <g id=\"patch_290\">\r\n    <path clip-path=\"url(#p31ebe19260)\" d=\"M 1157.743824 279 \r\nL 1161.564743 279 \r\nL 1161.564743 279 \r\nL 1157.743824 279 \r\nz\r\n\" style=\"fill:#1f77b4;fill-opacity:0.75;stroke:#000000;stroke-linejoin:miter;stroke-width:0.070315;\"/>\r\n   </g>\r\n   <g id=\"patch_291\">\r\n    <path clip-path=\"url(#p31ebe19260)\" d=\"M 1161.564743 279 \r\nL 1165.385662 279 \r\nL 1165.385662 279 \r\nL 1161.564743 279 \r\nz\r\n\" style=\"fill:#1f77b4;fill-opacity:0.75;stroke:#000000;stroke-linejoin:miter;stroke-width:0.070315;\"/>\r\n   </g>\r\n   <g id=\"patch_292\">\r\n    <path clip-path=\"url(#p31ebe19260)\" d=\"M 1165.385662 279 \r\nL 1169.20658 279 \r\nL 1169.20658 279 \r\nL 1165.385662 279 \r\nz\r\n\" style=\"fill:#1f77b4;fill-opacity:0.75;stroke:#000000;stroke-linejoin:miter;stroke-width:0.070315;\"/>\r\n   </g>\r\n   <g id=\"patch_293\">\r\n    <path clip-path=\"url(#p31ebe19260)\" d=\"M 1169.20658 279 \r\nL 1173.027499 279 \r\nL 1173.027499 279 \r\nL 1169.20658 279 \r\nz\r\n\" style=\"fill:#1f77b4;fill-opacity:0.75;stroke:#000000;stroke-linejoin:miter;stroke-width:0.070315;\"/>\r\n   </g>\r\n   <g id=\"patch_294\">\r\n    <path clip-path=\"url(#p31ebe19260)\" d=\"M 1173.027499 279 \r\nL 1176.848418 279 \r\nL 1176.848418 279 \r\nL 1173.027499 279 \r\nz\r\n\" style=\"fill:#1f77b4;fill-opacity:0.75;stroke:#000000;stroke-linejoin:miter;stroke-width:0.070315;\"/>\r\n   </g>\r\n   <g id=\"patch_295\">\r\n    <path clip-path=\"url(#p31ebe19260)\" d=\"M 1176.848418 279 \r\nL 1180.669337 279 \r\nL 1180.669337 279 \r\nL 1176.848418 279 \r\nz\r\n\" style=\"fill:#1f77b4;fill-opacity:0.75;stroke:#000000;stroke-linejoin:miter;stroke-width:0.070315;\"/>\r\n   </g>\r\n   <g id=\"patch_296\">\r\n    <path clip-path=\"url(#p31ebe19260)\" d=\"M 1180.669337 279 \r\nL 1184.490256 279 \r\nL 1184.490256 279 \r\nL 1180.669337 279 \r\nz\r\n\" style=\"fill:#1f77b4;fill-opacity:0.75;stroke:#000000;stroke-linejoin:miter;stroke-width:0.070315;\"/>\r\n   </g>\r\n   <g id=\"patch_297\">\r\n    <path clip-path=\"url(#p31ebe19260)\" d=\"M 1184.490256 279 \r\nL 1188.311175 279 \r\nL 1188.311175 279 \r\nL 1184.490256 279 \r\nz\r\n\" style=\"fill:#1f77b4;fill-opacity:0.75;stroke:#000000;stroke-linejoin:miter;stroke-width:0.070315;\"/>\r\n   </g>\r\n   <g id=\"patch_298\">\r\n    <path clip-path=\"url(#p31ebe19260)\" d=\"M 1188.311175 279 \r\nL 1192.132093 279 \r\nL 1192.132093 279 \r\nL 1188.311175 279 \r\nz\r\n\" style=\"fill:#1f77b4;fill-opacity:0.75;stroke:#000000;stroke-linejoin:miter;stroke-width:0.070315;\"/>\r\n   </g>\r\n   <g id=\"patch_299\">\r\n    <path clip-path=\"url(#p31ebe19260)\" d=\"M 1192.132093 279 \r\nL 1195.953012 279 \r\nL 1195.953012 279 \r\nL 1192.132093 279 \r\nz\r\n\" style=\"fill:#1f77b4;fill-opacity:0.75;stroke:#000000;stroke-linejoin:miter;stroke-width:0.070315;\"/>\r\n   </g>\r\n   <g id=\"patch_300\">\r\n    <path clip-path=\"url(#p31ebe19260)\" d=\"M 1195.953012 279 \r\nL 1199.773931 279 \r\nL 1199.773931 279 \r\nL 1195.953012 279 \r\nz\r\n\" style=\"fill:#1f77b4;fill-opacity:0.75;stroke:#000000;stroke-linejoin:miter;stroke-width:0.070315;\"/>\r\n   </g>\r\n   <g id=\"patch_301\">\r\n    <path clip-path=\"url(#p31ebe19260)\" d=\"M 1199.773931 279 \r\nL 1203.59485 279 \r\nL 1203.59485 279 \r\nL 1199.773931 279 \r\nz\r\n\" style=\"fill:#1f77b4;fill-opacity:0.75;stroke:#000000;stroke-linejoin:miter;stroke-width:0.070315;\"/>\r\n   </g>\r\n   <g id=\"patch_302\">\r\n    <path clip-path=\"url(#p31ebe19260)\" d=\"M 1203.59485 279 \r\nL 1207.415769 279 \r\nL 1207.415769 279 \r\nL 1203.59485 279 \r\nz\r\n\" style=\"fill:#1f77b4;fill-opacity:0.75;stroke:#000000;stroke-linejoin:miter;stroke-width:0.070315;\"/>\r\n   </g>\r\n   <g id=\"patch_303\">\r\n    <path clip-path=\"url(#p31ebe19260)\" d=\"M 1207.415769 279 \r\nL 1211.236687 279 \r\nL 1211.236687 279 \r\nL 1207.415769 279 \r\nz\r\n\" style=\"fill:#1f77b4;fill-opacity:0.75;stroke:#000000;stroke-linejoin:miter;stroke-width:0.070315;\"/>\r\n   </g>\r\n   <g id=\"patch_304\">\r\n    <path clip-path=\"url(#p31ebe19260)\" d=\"M 1211.236687 279 \r\nL 1215.057606 279 \r\nL 1215.057606 279 \r\nL 1211.236687 279 \r\nz\r\n\" style=\"fill:#1f77b4;fill-opacity:0.75;stroke:#000000;stroke-linejoin:miter;stroke-width:0.070315;\"/>\r\n   </g>\r\n   <g id=\"patch_305\">\r\n    <path clip-path=\"url(#p31ebe19260)\" d=\"M 1215.057606 279 \r\nL 1218.878525 279 \r\nL 1218.878525 279 \r\nL 1215.057606 279 \r\nz\r\n\" style=\"fill:#1f77b4;fill-opacity:0.75;stroke:#000000;stroke-linejoin:miter;stroke-width:0.070315;\"/>\r\n   </g>\r\n   <g id=\"patch_306\">\r\n    <path clip-path=\"url(#p31ebe19260)\" d=\"M 1218.878525 279 \r\nL 1222.699444 279 \r\nL 1222.699444 279 \r\nL 1218.878525 279 \r\nz\r\n\" style=\"fill:#1f77b4;fill-opacity:0.75;stroke:#000000;stroke-linejoin:miter;stroke-width:0.070315;\"/>\r\n   </g>\r\n   <g id=\"patch_307\">\r\n    <path clip-path=\"url(#p31ebe19260)\" d=\"M 1222.699444 279 \r\nL 1226.520363 279 \r\nL 1226.520363 279 \r\nL 1222.699444 279 \r\nz\r\n\" style=\"fill:#1f77b4;fill-opacity:0.75;stroke:#000000;stroke-linejoin:miter;stroke-width:0.070315;\"/>\r\n   </g>\r\n   <g id=\"patch_308\">\r\n    <path clip-path=\"url(#p31ebe19260)\" d=\"M 1226.520363 279 \r\nL 1230.341281 279 \r\nL 1230.341281 279 \r\nL 1226.520363 279 \r\nz\r\n\" style=\"fill:#1f77b4;fill-opacity:0.75;stroke:#000000;stroke-linejoin:miter;stroke-width:0.070315;\"/>\r\n   </g>\r\n   <g id=\"patch_309\">\r\n    <path clip-path=\"url(#p31ebe19260)\" d=\"M 1230.341281 279 \r\nL 1234.1622 279 \r\nL 1234.1622 279 \r\nL 1230.341281 279 \r\nz\r\n\" style=\"fill:#1f77b4;fill-opacity:0.75;stroke:#000000;stroke-linejoin:miter;stroke-width:0.070315;\"/>\r\n   </g>\r\n   <g id=\"patch_310\">\r\n    <path clip-path=\"url(#p31ebe19260)\" d=\"M 1234.1622 279 \r\nL 1237.983119 279 \r\nL 1237.983119 279 \r\nL 1234.1622 279 \r\nz\r\n\" style=\"fill:#1f77b4;fill-opacity:0.75;stroke:#000000;stroke-linejoin:miter;stroke-width:0.070315;\"/>\r\n   </g>\r\n   <g id=\"patch_311\">\r\n    <path clip-path=\"url(#p31ebe19260)\" d=\"M 1237.983119 279 \r\nL 1241.804038 279 \r\nL 1241.804038 279 \r\nL 1237.983119 279 \r\nz\r\n\" style=\"fill:#1f77b4;fill-opacity:0.75;stroke:#000000;stroke-linejoin:miter;stroke-width:0.070315;\"/>\r\n   </g>\r\n   <g id=\"patch_312\">\r\n    <path clip-path=\"url(#p31ebe19260)\" d=\"M 1241.804038 279 \r\nL 1245.624957 279 \r\nL 1245.624957 279 \r\nL 1241.804038 279 \r\nz\r\n\" style=\"fill:#1f77b4;fill-opacity:0.75;stroke:#000000;stroke-linejoin:miter;stroke-width:0.070315;\"/>\r\n   </g>\r\n   <g id=\"patch_313\">\r\n    <path clip-path=\"url(#p31ebe19260)\" d=\"M 1245.624957 279 \r\nL 1249.445875 279 \r\nL 1249.445875 279 \r\nL 1245.624957 279 \r\nz\r\n\" style=\"fill:#1f77b4;fill-opacity:0.75;stroke:#000000;stroke-linejoin:miter;stroke-width:0.070315;\"/>\r\n   </g>\r\n   <g id=\"patch_314\">\r\n    <path clip-path=\"url(#p31ebe19260)\" d=\"M 1249.445875 279 \r\nL 1253.266794 279 \r\nL 1253.266794 279 \r\nL 1249.445875 279 \r\nz\r\n\" style=\"fill:#1f77b4;fill-opacity:0.75;stroke:#000000;stroke-linejoin:miter;stroke-width:0.070315;\"/>\r\n   </g>\r\n   <g id=\"patch_315\">\r\n    <path clip-path=\"url(#p31ebe19260)\" d=\"M 1253.266794 279 \r\nL 1257.087713 279 \r\nL 1257.087713 279 \r\nL 1253.266794 279 \r\nz\r\n\" style=\"fill:#1f77b4;fill-opacity:0.75;stroke:#000000;stroke-linejoin:miter;stroke-width:0.070315;\"/>\r\n   </g>\r\n   <g id=\"patch_316\">\r\n    <path clip-path=\"url(#p31ebe19260)\" d=\"M 1257.087713 279 \r\nL 1260.908632 279 \r\nL 1260.908632 279 \r\nL 1257.087713 279 \r\nz\r\n\" style=\"fill:#1f77b4;fill-opacity:0.75;stroke:#000000;stroke-linejoin:miter;stroke-width:0.070315;\"/>\r\n   </g>\r\n   <g id=\"patch_317\">\r\n    <path clip-path=\"url(#p31ebe19260)\" d=\"M 1260.908632 279 \r\nL 1264.729551 279 \r\nL 1264.729551 279 \r\nL 1260.908632 279 \r\nz\r\n\" style=\"fill:#1f77b4;fill-opacity:0.75;stroke:#000000;stroke-linejoin:miter;stroke-width:0.070315;\"/>\r\n   </g>\r\n   <g id=\"patch_318\">\r\n    <path clip-path=\"url(#p31ebe19260)\" d=\"M 1264.729551 279 \r\nL 1268.55047 279 \r\nL 1268.55047 279 \r\nL 1264.729551 279 \r\nz\r\n\" style=\"fill:#1f77b4;fill-opacity:0.75;stroke:#000000;stroke-linejoin:miter;stroke-width:0.070315;\"/>\r\n   </g>\r\n   <g id=\"patch_319\">\r\n    <path clip-path=\"url(#p31ebe19260)\" d=\"M 1268.55047 279 \r\nL 1272.371388 279 \r\nL 1272.371388 279 \r\nL 1268.55047 279 \r\nz\r\n\" style=\"fill:#1f77b4;fill-opacity:0.75;stroke:#000000;stroke-linejoin:miter;stroke-width:0.070315;\"/>\r\n   </g>\r\n   <g id=\"patch_320\">\r\n    <path clip-path=\"url(#p31ebe19260)\" d=\"M 1272.371388 279 \r\nL 1276.192307 279 \r\nL 1276.192307 279 \r\nL 1272.371388 279 \r\nz\r\n\" style=\"fill:#1f77b4;fill-opacity:0.75;stroke:#000000;stroke-linejoin:miter;stroke-width:0.070315;\"/>\r\n   </g>\r\n   <g id=\"patch_321\">\r\n    <path clip-path=\"url(#p31ebe19260)\" d=\"M 1276.192307 279 \r\nL 1280.013226 279 \r\nL 1280.013226 279 \r\nL 1276.192307 279 \r\nz\r\n\" style=\"fill:#1f77b4;fill-opacity:0.75;stroke:#000000;stroke-linejoin:miter;stroke-width:0.070315;\"/>\r\n   </g>\r\n   <g id=\"patch_322\">\r\n    <path clip-path=\"url(#p31ebe19260)\" d=\"M 1280.013226 279 \r\nL 1283.834145 279 \r\nL 1283.834145 279 \r\nL 1280.013226 279 \r\nz\r\n\" style=\"fill:#1f77b4;fill-opacity:0.75;stroke:#000000;stroke-linejoin:miter;stroke-width:0.070315;\"/>\r\n   </g>\r\n   <g id=\"patch_323\">\r\n    <path clip-path=\"url(#p31ebe19260)\" d=\"M 1283.834145 279 \r\nL 1287.655064 279 \r\nL 1287.655064 279 \r\nL 1283.834145 279 \r\nz\r\n\" style=\"fill:#1f77b4;fill-opacity:0.75;stroke:#000000;stroke-linejoin:miter;stroke-width:0.070315;\"/>\r\n   </g>\r\n   <g id=\"patch_324\">\r\n    <path clip-path=\"url(#p31ebe19260)\" d=\"M 1287.655064 279 \r\nL 1291.475982 279 \r\nL 1291.475982 279 \r\nL 1287.655064 279 \r\nz\r\n\" style=\"fill:#1f77b4;fill-opacity:0.75;stroke:#000000;stroke-linejoin:miter;stroke-width:0.070315;\"/>\r\n   </g>\r\n   <g id=\"patch_325\">\r\n    <path clip-path=\"url(#p31ebe19260)\" d=\"M 1291.475982 279 \r\nL 1295.296901 279 \r\nL 1295.296901 279 \r\nL 1291.475982 279 \r\nz\r\n\" style=\"fill:#1f77b4;fill-opacity:0.75;stroke:#000000;stroke-linejoin:miter;stroke-width:0.070315;\"/>\r\n   </g>\r\n   <g id=\"patch_326\">\r\n    <path clip-path=\"url(#p31ebe19260)\" d=\"M 1295.296901 279 \r\nL 1299.11782 279 \r\nL 1299.11782 279 \r\nL 1295.296901 279 \r\nz\r\n\" style=\"fill:#1f77b4;fill-opacity:0.75;stroke:#000000;stroke-linejoin:miter;stroke-width:0.070315;\"/>\r\n   </g>\r\n   <g id=\"patch_327\">\r\n    <path clip-path=\"url(#p31ebe19260)\" d=\"M 1299.11782 279 \r\nL 1302.938739 279 \r\nL 1302.938739 279 \r\nL 1299.11782 279 \r\nz\r\n\" style=\"fill:#1f77b4;fill-opacity:0.75;stroke:#000000;stroke-linejoin:miter;stroke-width:0.070315;\"/>\r\n   </g>\r\n   <g id=\"patch_328\">\r\n    <path clip-path=\"url(#p31ebe19260)\" d=\"M 1302.938739 279 \r\nL 1306.759658 279 \r\nL 1306.759658 279 \r\nL 1302.938739 279 \r\nz\r\n\" style=\"fill:#1f77b4;fill-opacity:0.75;stroke:#000000;stroke-linejoin:miter;stroke-width:0.070315;\"/>\r\n   </g>\r\n   <g id=\"patch_329\">\r\n    <path clip-path=\"url(#p31ebe19260)\" d=\"M 1306.759658 279 \r\nL 1310.580576 279 \r\nL 1310.580576 279 \r\nL 1306.759658 279 \r\nz\r\n\" style=\"fill:#1f77b4;fill-opacity:0.75;stroke:#000000;stroke-linejoin:miter;stroke-width:0.070315;\"/>\r\n   </g>\r\n   <g id=\"patch_330\">\r\n    <path clip-path=\"url(#p31ebe19260)\" d=\"M 1310.580576 279 \r\nL 1314.401495 279 \r\nL 1314.401495 279 \r\nL 1310.580576 279 \r\nz\r\n\" style=\"fill:#1f77b4;fill-opacity:0.75;stroke:#000000;stroke-linejoin:miter;stroke-width:0.070315;\"/>\r\n   </g>\r\n   <g id=\"patch_331\">\r\n    <path clip-path=\"url(#p31ebe19260)\" d=\"M 1314.401495 279 \r\nL 1318.222414 279 \r\nL 1318.222414 279 \r\nL 1314.401495 279 \r\nz\r\n\" style=\"fill:#1f77b4;fill-opacity:0.75;stroke:#000000;stroke-linejoin:miter;stroke-width:0.070315;\"/>\r\n   </g>\r\n   <g id=\"patch_332\">\r\n    <path clip-path=\"url(#p31ebe19260)\" d=\"M 1318.222414 279 \r\nL 1322.043333 279 \r\nL 1322.043333 279 \r\nL 1318.222414 279 \r\nz\r\n\" style=\"fill:#1f77b4;fill-opacity:0.75;stroke:#000000;stroke-linejoin:miter;stroke-width:0.070315;\"/>\r\n   </g>\r\n   <g id=\"patch_333\">\r\n    <path clip-path=\"url(#p31ebe19260)\" d=\"M 1322.043333 279 \r\nL 1325.864252 279 \r\nL 1325.864252 279 \r\nL 1322.043333 279 \r\nz\r\n\" style=\"fill:#1f77b4;fill-opacity:0.75;stroke:#000000;stroke-linejoin:miter;stroke-width:0.070315;\"/>\r\n   </g>\r\n   <g id=\"patch_334\">\r\n    <path clip-path=\"url(#p31ebe19260)\" d=\"M 1325.864252 279 \r\nL 1329.685171 279 \r\nL 1329.685171 279 \r\nL 1325.864252 279 \r\nz\r\n\" style=\"fill:#1f77b4;fill-opacity:0.75;stroke:#000000;stroke-linejoin:miter;stroke-width:0.070315;\"/>\r\n   </g>\r\n   <g id=\"patch_335\">\r\n    <path clip-path=\"url(#p31ebe19260)\" d=\"M 1329.685171 279 \r\nL 1333.506089 279 \r\nL 1333.506089 279 \r\nL 1329.685171 279 \r\nz\r\n\" style=\"fill:#1f77b4;fill-opacity:0.75;stroke:#000000;stroke-linejoin:miter;stroke-width:0.070315;\"/>\r\n   </g>\r\n   <g id=\"patch_336\">\r\n    <path clip-path=\"url(#p31ebe19260)\" d=\"M 1333.506089 279 \r\nL 1337.327008 279 \r\nL 1337.327008 279 \r\nL 1333.506089 279 \r\nz\r\n\" style=\"fill:#1f77b4;fill-opacity:0.75;stroke:#000000;stroke-linejoin:miter;stroke-width:0.070315;\"/>\r\n   </g>\r\n   <g id=\"patch_337\">\r\n    <path clip-path=\"url(#p31ebe19260)\" d=\"M 1337.327008 279 \r\nL 1341.147927 279 \r\nL 1341.147927 279 \r\nL 1337.327008 279 \r\nz\r\n\" style=\"fill:#1f77b4;fill-opacity:0.75;stroke:#000000;stroke-linejoin:miter;stroke-width:0.070315;\"/>\r\n   </g>\r\n   <g id=\"patch_338\">\r\n    <path clip-path=\"url(#p31ebe19260)\" d=\"M 1341.147927 279 \r\nL 1344.968846 279 \r\nL 1344.968846 279 \r\nL 1341.147927 279 \r\nz\r\n\" style=\"fill:#1f77b4;fill-opacity:0.75;stroke:#000000;stroke-linejoin:miter;stroke-width:0.070315;\"/>\r\n   </g>\r\n   <g id=\"patch_339\">\r\n    <path clip-path=\"url(#p31ebe19260)\" d=\"M 1344.968846 279 \r\nL 1348.789765 279 \r\nL 1348.789765 279 \r\nL 1344.968846 279 \r\nz\r\n\" style=\"fill:#1f77b4;fill-opacity:0.75;stroke:#000000;stroke-linejoin:miter;stroke-width:0.070315;\"/>\r\n   </g>\r\n   <g id=\"patch_340\">\r\n    <path clip-path=\"url(#p31ebe19260)\" d=\"M 1348.789765 279 \r\nL 1352.610683 279 \r\nL 1352.610683 279 \r\nL 1348.789765 279 \r\nz\r\n\" style=\"fill:#1f77b4;fill-opacity:0.75;stroke:#000000;stroke-linejoin:miter;stroke-width:0.070315;\"/>\r\n   </g>\r\n   <g id=\"patch_341\">\r\n    <path clip-path=\"url(#p31ebe19260)\" d=\"M 1352.610683 279 \r\nL 1356.431602 279 \r\nL 1356.431602 279 \r\nL 1352.610683 279 \r\nz\r\n\" style=\"fill:#1f77b4;fill-opacity:0.75;stroke:#000000;stroke-linejoin:miter;stroke-width:0.070315;\"/>\r\n   </g>\r\n   <g id=\"patch_342\">\r\n    <path clip-path=\"url(#p31ebe19260)\" d=\"M 1356.431602 279 \r\nL 1360.252521 279 \r\nL 1360.252521 279 \r\nL 1356.431602 279 \r\nz\r\n\" style=\"fill:#1f77b4;fill-opacity:0.75;stroke:#000000;stroke-linejoin:miter;stroke-width:0.070315;\"/>\r\n   </g>\r\n   <g id=\"patch_343\">\r\n    <path clip-path=\"url(#p31ebe19260)\" d=\"M 1360.252521 279 \r\nL 1364.07344 279 \r\nL 1364.07344 279 \r\nL 1360.252521 279 \r\nz\r\n\" style=\"fill:#1f77b4;fill-opacity:0.75;stroke:#000000;stroke-linejoin:miter;stroke-width:0.070315;\"/>\r\n   </g>\r\n   <g id=\"patch_344\">\r\n    <path clip-path=\"url(#p31ebe19260)\" d=\"M 1364.07344 279 \r\nL 1367.894359 279 \r\nL 1367.894359 279 \r\nL 1364.07344 279 \r\nz\r\n\" style=\"fill:#1f77b4;fill-opacity:0.75;stroke:#000000;stroke-linejoin:miter;stroke-width:0.070315;\"/>\r\n   </g>\r\n   <g id=\"patch_345\">\r\n    <path clip-path=\"url(#p31ebe19260)\" d=\"M 1367.894359 279 \r\nL 1371.715277 279 \r\nL 1371.715277 279 \r\nL 1367.894359 279 \r\nz\r\n\" style=\"fill:#1f77b4;fill-opacity:0.75;stroke:#000000;stroke-linejoin:miter;stroke-width:0.070315;\"/>\r\n   </g>\r\n   <g id=\"patch_346\">\r\n    <path clip-path=\"url(#p31ebe19260)\" d=\"M 1371.715277 279 \r\nL 1375.536196 279 \r\nL 1375.536196 278.802851 \r\nL 1371.715277 278.802851 \r\nz\r\n\" style=\"fill:#1f77b4;fill-opacity:0.75;stroke:#000000;stroke-linejoin:miter;stroke-width:0.070315;\"/>\r\n   </g>\r\n   <g id=\"patch_347\">\r\n    <path clip-path=\"url(#p31ebe19260)\" d=\"M 1375.536196 279 \r\nL 1379.357115 279 \r\nL 1379.357115 279 \r\nL 1375.536196 279 \r\nz\r\n\" style=\"fill:#1f77b4;fill-opacity:0.75;stroke:#000000;stroke-linejoin:miter;stroke-width:0.070315;\"/>\r\n   </g>\r\n   <g id=\"patch_348\">\r\n    <path clip-path=\"url(#p31ebe19260)\" d=\"M 1379.357115 279 \r\nL 1383.178034 279 \r\nL 1383.178034 279 \r\nL 1379.357115 279 \r\nz\r\n\" style=\"fill:#1f77b4;fill-opacity:0.75;stroke:#000000;stroke-linejoin:miter;stroke-width:0.070315;\"/>\r\n   </g>\r\n   <g id=\"patch_349\">\r\n    <path clip-path=\"url(#p31ebe19260)\" d=\"M 1383.178034 279 \r\nL 1386.998953 279 \r\nL 1386.998953 279 \r\nL 1383.178034 279 \r\nz\r\n\" style=\"fill:#1f77b4;fill-opacity:0.75;stroke:#000000;stroke-linejoin:miter;stroke-width:0.070315;\"/>\r\n   </g>\r\n   <g id=\"patch_350\">\r\n    <path clip-path=\"url(#p31ebe19260)\" d=\"M 1386.998953 279 \r\nL 1390.819872 279 \r\nL 1390.819872 279 \r\nL 1386.998953 279 \r\nz\r\n\" style=\"fill:#1f77b4;fill-opacity:0.75;stroke:#000000;stroke-linejoin:miter;stroke-width:0.070315;\"/>\r\n   </g>\r\n   <g id=\"patch_351\">\r\n    <path clip-path=\"url(#p31ebe19260)\" d=\"M 1390.819872 279 \r\nL 1394.64079 279 \r\nL 1394.64079 279 \r\nL 1390.819872 279 \r\nz\r\n\" style=\"fill:#1f77b4;fill-opacity:0.75;stroke:#000000;stroke-linejoin:miter;stroke-width:0.070315;\"/>\r\n   </g>\r\n   <g id=\"patch_352\">\r\n    <path clip-path=\"url(#p31ebe19260)\" d=\"M 1394.64079 279 \r\nL 1398.461709 279 \r\nL 1398.461709 279 \r\nL 1394.64079 279 \r\nz\r\n\" style=\"fill:#1f77b4;fill-opacity:0.75;stroke:#000000;stroke-linejoin:miter;stroke-width:0.070315;\"/>\r\n   </g>\r\n   <g id=\"patch_353\">\r\n    <path clip-path=\"url(#p31ebe19260)\" d=\"M 1398.461709 279 \r\nL 1402.282628 279 \r\nL 1402.282628 279 \r\nL 1398.461709 279 \r\nz\r\n\" style=\"fill:#1f77b4;fill-opacity:0.75;stroke:#000000;stroke-linejoin:miter;stroke-width:0.070315;\"/>\r\n   </g>\r\n   <g id=\"patch_354\">\r\n    <path clip-path=\"url(#p31ebe19260)\" d=\"M 1402.282628 279 \r\nL 1406.103547 279 \r\nL 1406.103547 279 \r\nL 1402.282628 279 \r\nz\r\n\" style=\"fill:#1f77b4;fill-opacity:0.75;stroke:#000000;stroke-linejoin:miter;stroke-width:0.070315;\"/>\r\n   </g>\r\n   <g id=\"patch_355\">\r\n    <path clip-path=\"url(#p31ebe19260)\" d=\"M 1406.103547 279 \r\nL 1409.924466 279 \r\nL 1409.924466 279 \r\nL 1406.103547 279 \r\nz\r\n\" style=\"fill:#1f77b4;fill-opacity:0.75;stroke:#000000;stroke-linejoin:miter;stroke-width:0.070315;\"/>\r\n   </g>\r\n   <g id=\"patch_356\">\r\n    <path clip-path=\"url(#p31ebe19260)\" d=\"M 1409.924466 279 \r\nL 1413.745384 279 \r\nL 1413.745384 279 \r\nL 1409.924466 279 \r\nz\r\n\" style=\"fill:#1f77b4;fill-opacity:0.75;stroke:#000000;stroke-linejoin:miter;stroke-width:0.070315;\"/>\r\n   </g>\r\n   <g id=\"patch_357\">\r\n    <path clip-path=\"url(#p31ebe19260)\" d=\"M 1413.745384 279 \r\nL 1417.566303 279 \r\nL 1417.566303 279 \r\nL 1413.745384 279 \r\nz\r\n\" style=\"fill:#1f77b4;fill-opacity:0.75;stroke:#000000;stroke-linejoin:miter;stroke-width:0.070315;\"/>\r\n   </g>\r\n   <g id=\"patch_358\">\r\n    <path clip-path=\"url(#p31ebe19260)\" d=\"M 1417.566303 279 \r\nL 1421.387222 279 \r\nL 1421.387222 279 \r\nL 1417.566303 279 \r\nz\r\n\" style=\"fill:#1f77b4;fill-opacity:0.75;stroke:#000000;stroke-linejoin:miter;stroke-width:0.070315;\"/>\r\n   </g>\r\n   <g id=\"patch_359\">\r\n    <path clip-path=\"url(#p31ebe19260)\" d=\"M 1421.387222 279 \r\nL 1425.208141 279 \r\nL 1425.208141 279 \r\nL 1421.387222 279 \r\nz\r\n\" style=\"fill:#1f77b4;fill-opacity:0.75;stroke:#000000;stroke-linejoin:miter;stroke-width:0.070315;\"/>\r\n   </g>\r\n   <g id=\"patch_360\">\r\n    <path clip-path=\"url(#p31ebe19260)\" d=\"M 1425.208141 279 \r\nL 1429.02906 279 \r\nL 1429.02906 279 \r\nL 1425.208141 279 \r\nz\r\n\" style=\"fill:#1f77b4;fill-opacity:0.75;stroke:#000000;stroke-linejoin:miter;stroke-width:0.070315;\"/>\r\n   </g>\r\n   <g id=\"patch_361\">\r\n    <path clip-path=\"url(#p31ebe19260)\" d=\"M 1429.02906 279 \r\nL 1432.849978 279 \r\nL 1432.849978 279 \r\nL 1429.02906 279 \r\nz\r\n\" style=\"fill:#1f77b4;fill-opacity:0.75;stroke:#000000;stroke-linejoin:miter;stroke-width:0.070315;\"/>\r\n   </g>\r\n   <g id=\"patch_362\">\r\n    <path clip-path=\"url(#p31ebe19260)\" d=\"M 1432.849978 279 \r\nL 1436.670897 279 \r\nL 1436.670897 279 \r\nL 1432.849978 279 \r\nz\r\n\" style=\"fill:#1f77b4;fill-opacity:0.75;stroke:#000000;stroke-linejoin:miter;stroke-width:0.070315;\"/>\r\n   </g>\r\n   <g id=\"patch_363\">\r\n    <path clip-path=\"url(#p31ebe19260)\" d=\"M 1436.670897 279 \r\nL 1440.491816 279 \r\nL 1440.491816 279 \r\nL 1436.670897 279 \r\nz\r\n\" style=\"fill:#1f77b4;fill-opacity:0.75;stroke:#000000;stroke-linejoin:miter;stroke-width:0.070315;\"/>\r\n   </g>\r\n   <g id=\"patch_364\">\r\n    <path clip-path=\"url(#p31ebe19260)\" d=\"M 1440.491816 279 \r\nL 1444.312735 279 \r\nL 1444.312735 279 \r\nL 1440.491816 279 \r\nz\r\n\" style=\"fill:#1f77b4;fill-opacity:0.75;stroke:#000000;stroke-linejoin:miter;stroke-width:0.070315;\"/>\r\n   </g>\r\n   <g id=\"patch_365\">\r\n    <path clip-path=\"url(#p31ebe19260)\" d=\"M 1444.312735 279 \r\nL 1448.133654 279 \r\nL 1448.133654 279 \r\nL 1444.312735 279 \r\nz\r\n\" style=\"fill:#1f77b4;fill-opacity:0.75;stroke:#000000;stroke-linejoin:miter;stroke-width:0.070315;\"/>\r\n   </g>\r\n   <g id=\"patch_366\">\r\n    <path clip-path=\"url(#p31ebe19260)\" d=\"M 1448.133654 279 \r\nL 1451.954573 279 \r\nL 1451.954573 279 \r\nL 1448.133654 279 \r\nz\r\n\" style=\"fill:#1f77b4;fill-opacity:0.75;stroke:#000000;stroke-linejoin:miter;stroke-width:0.070315;\"/>\r\n   </g>\r\n   <g id=\"patch_367\">\r\n    <path clip-path=\"url(#p31ebe19260)\" d=\"M 1451.954573 279 \r\nL 1455.775491 279 \r\nL 1455.775491 279 \r\nL 1451.954573 279 \r\nz\r\n\" style=\"fill:#1f77b4;fill-opacity:0.75;stroke:#000000;stroke-linejoin:miter;stroke-width:0.070315;\"/>\r\n   </g>\r\n   <g id=\"patch_368\">\r\n    <path clip-path=\"url(#p31ebe19260)\" d=\"M 1455.775491 279 \r\nL 1459.59641 279 \r\nL 1459.59641 279 \r\nL 1455.775491 279 \r\nz\r\n\" style=\"fill:#1f77b4;fill-opacity:0.75;stroke:#000000;stroke-linejoin:miter;stroke-width:0.070315;\"/>\r\n   </g>\r\n   <g id=\"patch_369\">\r\n    <path clip-path=\"url(#p31ebe19260)\" d=\"M 1459.59641 279 \r\nL 1463.417329 279 \r\nL 1463.417329 279 \r\nL 1459.59641 279 \r\nz\r\n\" style=\"fill:#1f77b4;fill-opacity:0.75;stroke:#000000;stroke-linejoin:miter;stroke-width:0.070315;\"/>\r\n   </g>\r\n   <g id=\"patch_370\">\r\n    <path clip-path=\"url(#p31ebe19260)\" d=\"M 1463.417329 279 \r\nL 1467.238248 279 \r\nL 1467.238248 279 \r\nL 1463.417329 279 \r\nz\r\n\" style=\"fill:#1f77b4;fill-opacity:0.75;stroke:#000000;stroke-linejoin:miter;stroke-width:0.070315;\"/>\r\n   </g>\r\n   <g id=\"patch_371\">\r\n    <path clip-path=\"url(#p31ebe19260)\" d=\"M 1467.238248 279 \r\nL 1471.059167 279 \r\nL 1471.059167 279 \r\nL 1467.238248 279 \r\nz\r\n\" style=\"fill:#1f77b4;fill-opacity:0.75;stroke:#000000;stroke-linejoin:miter;stroke-width:0.070315;\"/>\r\n   </g>\r\n   <g id=\"patch_372\">\r\n    <path clip-path=\"url(#p31ebe19260)\" d=\"M 1471.059167 279 \r\nL 1474.880085 279 \r\nL 1474.880085 279 \r\nL 1471.059167 279 \r\nz\r\n\" style=\"fill:#1f77b4;fill-opacity:0.75;stroke:#000000;stroke-linejoin:miter;stroke-width:0.070315;\"/>\r\n   </g>\r\n   <g id=\"patch_373\">\r\n    <path clip-path=\"url(#p31ebe19260)\" d=\"M 1474.880085 279 \r\nL 1478.701004 279 \r\nL 1478.701004 279 \r\nL 1474.880085 279 \r\nz\r\n\" style=\"fill:#1f77b4;fill-opacity:0.75;stroke:#000000;stroke-linejoin:miter;stroke-width:0.070315;\"/>\r\n   </g>\r\n   <g id=\"patch_374\">\r\n    <path clip-path=\"url(#p31ebe19260)\" d=\"M 1478.701004 279 \r\nL 1482.521923 279 \r\nL 1482.521923 279 \r\nL 1478.701004 279 \r\nz\r\n\" style=\"fill:#1f77b4;fill-opacity:0.75;stroke:#000000;stroke-linejoin:miter;stroke-width:0.070315;\"/>\r\n   </g>\r\n   <g id=\"patch_375\">\r\n    <path clip-path=\"url(#p31ebe19260)\" d=\"M 1482.521923 279 \r\nL 1486.342842 279 \r\nL 1486.342842 279 \r\nL 1482.521923 279 \r\nz\r\n\" style=\"fill:#1f77b4;fill-opacity:0.75;stroke:#000000;stroke-linejoin:miter;stroke-width:0.070315;\"/>\r\n   </g>\r\n   <g id=\"patch_376\">\r\n    <path clip-path=\"url(#p31ebe19260)\" d=\"M 1486.342842 279 \r\nL 1490.163761 279 \r\nL 1490.163761 279 \r\nL 1486.342842 279 \r\nz\r\n\" style=\"fill:#1f77b4;fill-opacity:0.75;stroke:#000000;stroke-linejoin:miter;stroke-width:0.070315;\"/>\r\n   </g>\r\n   <g id=\"patch_377\">\r\n    <path clip-path=\"url(#p31ebe19260)\" d=\"M 1490.163761 279 \r\nL 1493.984679 279 \r\nL 1493.984679 279 \r\nL 1490.163761 279 \r\nz\r\n\" style=\"fill:#1f77b4;fill-opacity:0.75;stroke:#000000;stroke-linejoin:miter;stroke-width:0.070315;\"/>\r\n   </g>\r\n   <g id=\"patch_378\">\r\n    <path clip-path=\"url(#p31ebe19260)\" d=\"M 1493.984679 279 \r\nL 1497.805598 279 \r\nL 1497.805598 279 \r\nL 1493.984679 279 \r\nz\r\n\" style=\"fill:#1f77b4;fill-opacity:0.75;stroke:#000000;stroke-linejoin:miter;stroke-width:0.070315;\"/>\r\n   </g>\r\n   <g id=\"patch_379\">\r\n    <path clip-path=\"url(#p31ebe19260)\" d=\"M 1497.805598 279 \r\nL 1501.626517 279 \r\nL 1501.626517 279 \r\nL 1497.805598 279 \r\nz\r\n\" style=\"fill:#1f77b4;fill-opacity:0.75;stroke:#000000;stroke-linejoin:miter;stroke-width:0.070315;\"/>\r\n   </g>\r\n   <g id=\"patch_380\">\r\n    <path clip-path=\"url(#p31ebe19260)\" d=\"M 1501.626517 279 \r\nL 1505.447436 279 \r\nL 1505.447436 279 \r\nL 1501.626517 279 \r\nz\r\n\" style=\"fill:#1f77b4;fill-opacity:0.75;stroke:#000000;stroke-linejoin:miter;stroke-width:0.070315;\"/>\r\n   </g>\r\n   <g id=\"patch_381\">\r\n    <path clip-path=\"url(#p31ebe19260)\" d=\"M 1505.447436 279 \r\nL 1509.268355 279 \r\nL 1509.268355 279 \r\nL 1505.447436 279 \r\nz\r\n\" style=\"fill:#1f77b4;fill-opacity:0.75;stroke:#000000;stroke-linejoin:miter;stroke-width:0.070315;\"/>\r\n   </g>\r\n   <g id=\"patch_382\">\r\n    <path clip-path=\"url(#p31ebe19260)\" d=\"M 1509.268355 279 \r\nL 1513.089274 279 \r\nL 1513.089274 279 \r\nL 1509.268355 279 \r\nz\r\n\" style=\"fill:#1f77b4;fill-opacity:0.75;stroke:#000000;stroke-linejoin:miter;stroke-width:0.070315;\"/>\r\n   </g>\r\n   <g id=\"patch_383\">\r\n    <path clip-path=\"url(#p31ebe19260)\" d=\"M 1513.089274 279 \r\nL 1516.910192 279 \r\nL 1516.910192 279 \r\nL 1513.089274 279 \r\nz\r\n\" style=\"fill:#1f77b4;fill-opacity:0.75;stroke:#000000;stroke-linejoin:miter;stroke-width:0.070315;\"/>\r\n   </g>\r\n   <g id=\"patch_384\">\r\n    <path clip-path=\"url(#p31ebe19260)\" d=\"M 1516.910192 279 \r\nL 1520.731111 279 \r\nL 1520.731111 279 \r\nL 1516.910192 279 \r\nz\r\n\" style=\"fill:#1f77b4;fill-opacity:0.75;stroke:#000000;stroke-linejoin:miter;stroke-width:0.070315;\"/>\r\n   </g>\r\n   <g id=\"patch_385\">\r\n    <path clip-path=\"url(#p31ebe19260)\" d=\"M 1520.731111 279 \r\nL 1524.55203 279 \r\nL 1524.55203 279 \r\nL 1520.731111 279 \r\nz\r\n\" style=\"fill:#1f77b4;fill-opacity:0.75;stroke:#000000;stroke-linejoin:miter;stroke-width:0.070315;\"/>\r\n   </g>\r\n   <g id=\"patch_386\">\r\n    <path clip-path=\"url(#p31ebe19260)\" d=\"M 1524.55203 279 \r\nL 1528.372949 279 \r\nL 1528.372949 279 \r\nL 1524.55203 279 \r\nz\r\n\" style=\"fill:#1f77b4;fill-opacity:0.75;stroke:#000000;stroke-linejoin:miter;stroke-width:0.070315;\"/>\r\n   </g>\r\n   <g id=\"patch_387\">\r\n    <path clip-path=\"url(#p31ebe19260)\" d=\"M 1528.372949 279 \r\nL 1532.193868 279 \r\nL 1532.193868 279 \r\nL 1528.372949 279 \r\nz\r\n\" style=\"fill:#1f77b4;fill-opacity:0.75;stroke:#000000;stroke-linejoin:miter;stroke-width:0.070315;\"/>\r\n   </g>\r\n   <g id=\"patch_388\">\r\n    <path clip-path=\"url(#p31ebe19260)\" d=\"M 1532.193868 279 \r\nL 1536.014786 279 \r\nL 1536.014786 279 \r\nL 1532.193868 279 \r\nz\r\n\" style=\"fill:#1f77b4;fill-opacity:0.75;stroke:#000000;stroke-linejoin:miter;stroke-width:0.070315;\"/>\r\n   </g>\r\n   <g id=\"patch_389\">\r\n    <path clip-path=\"url(#p31ebe19260)\" d=\"M 1536.014786 279 \r\nL 1539.835705 279 \r\nL 1539.835705 279 \r\nL 1536.014786 279 \r\nz\r\n\" style=\"fill:#1f77b4;fill-opacity:0.75;stroke:#000000;stroke-linejoin:miter;stroke-width:0.070315;\"/>\r\n   </g>\r\n   <g id=\"patch_390\">\r\n    <path clip-path=\"url(#p31ebe19260)\" d=\"M 1539.835705 279 \r\nL 1543.656624 279 \r\nL 1543.656624 279 \r\nL 1539.835705 279 \r\nz\r\n\" style=\"fill:#1f77b4;fill-opacity:0.75;stroke:#000000;stroke-linejoin:miter;stroke-width:0.070315;\"/>\r\n   </g>\r\n   <g id=\"patch_391\">\r\n    <path clip-path=\"url(#p31ebe19260)\" d=\"M 1543.656624 279 \r\nL 1547.477543 279 \r\nL 1547.477543 279 \r\nL 1543.656624 279 \r\nz\r\n\" style=\"fill:#1f77b4;fill-opacity:0.75;stroke:#000000;stroke-linejoin:miter;stroke-width:0.070315;\"/>\r\n   </g>\r\n   <g id=\"patch_392\">\r\n    <path clip-path=\"url(#p31ebe19260)\" d=\"M 1547.477543 279 \r\nL 1551.298462 279 \r\nL 1551.298462 279 \r\nL 1547.477543 279 \r\nz\r\n\" style=\"fill:#1f77b4;fill-opacity:0.75;stroke:#000000;stroke-linejoin:miter;stroke-width:0.070315;\"/>\r\n   </g>\r\n   <g id=\"patch_393\">\r\n    <path clip-path=\"url(#p31ebe19260)\" d=\"M 1551.298462 279 \r\nL 1555.11938 279 \r\nL 1555.11938 279 \r\nL 1551.298462 279 \r\nz\r\n\" style=\"fill:#1f77b4;fill-opacity:0.75;stroke:#000000;stroke-linejoin:miter;stroke-width:0.070315;\"/>\r\n   </g>\r\n   <g id=\"patch_394\">\r\n    <path clip-path=\"url(#p31ebe19260)\" d=\"M 1555.11938 279 \r\nL 1558.940299 279 \r\nL 1558.940299 279 \r\nL 1555.11938 279 \r\nz\r\n\" style=\"fill:#1f77b4;fill-opacity:0.75;stroke:#000000;stroke-linejoin:miter;stroke-width:0.070315;\"/>\r\n   </g>\r\n   <g id=\"patch_395\">\r\n    <path clip-path=\"url(#p31ebe19260)\" d=\"M 1558.940299 279 \r\nL 1562.761218 279 \r\nL 1562.761218 279 \r\nL 1558.940299 279 \r\nz\r\n\" style=\"fill:#1f77b4;fill-opacity:0.75;stroke:#000000;stroke-linejoin:miter;stroke-width:0.070315;\"/>\r\n   </g>\r\n   <g id=\"patch_396\">\r\n    <path clip-path=\"url(#p31ebe19260)\" d=\"M 1562.761218 279 \r\nL 1566.582137 279 \r\nL 1566.582137 279 \r\nL 1562.761218 279 \r\nz\r\n\" style=\"fill:#1f77b4;fill-opacity:0.75;stroke:#000000;stroke-linejoin:miter;stroke-width:0.070315;\"/>\r\n   </g>\r\n   <g id=\"patch_397\">\r\n    <path clip-path=\"url(#p31ebe19260)\" d=\"M 1566.582137 279 \r\nL 1570.403056 279 \r\nL 1570.403056 279 \r\nL 1566.582137 279 \r\nz\r\n\" style=\"fill:#1f77b4;fill-opacity:0.75;stroke:#000000;stroke-linejoin:miter;stroke-width:0.070315;\"/>\r\n   </g>\r\n   <g id=\"patch_398\">\r\n    <path clip-path=\"url(#p31ebe19260)\" d=\"M 1570.403056 279 \r\nL 1574.223975 279 \r\nL 1574.223975 279 \r\nL 1570.403056 279 \r\nz\r\n\" style=\"fill:#1f77b4;fill-opacity:0.75;stroke:#000000;stroke-linejoin:miter;stroke-width:0.070315;\"/>\r\n   </g>\r\n   <g id=\"patch_399\">\r\n    <path clip-path=\"url(#p31ebe19260)\" d=\"M 1574.223975 279 \r\nL 1578.044893 279 \r\nL 1578.044893 279 \r\nL 1574.223975 279 \r\nz\r\n\" style=\"fill:#1f77b4;fill-opacity:0.75;stroke:#000000;stroke-linejoin:miter;stroke-width:0.070315;\"/>\r\n   </g>\r\n   <g id=\"patch_400\">\r\n    <path clip-path=\"url(#p31ebe19260)\" d=\"M 1578.044893 279 \r\nL 1581.865812 279 \r\nL 1581.865812 279 \r\nL 1578.044893 279 \r\nz\r\n\" style=\"fill:#1f77b4;fill-opacity:0.75;stroke:#000000;stroke-linejoin:miter;stroke-width:0.070315;\"/>\r\n   </g>\r\n   <g id=\"patch_401\">\r\n    <path clip-path=\"url(#p31ebe19260)\" d=\"M 1581.865812 279 \r\nL 1585.686731 279 \r\nL 1585.686731 279 \r\nL 1581.865812 279 \r\nz\r\n\" style=\"fill:#1f77b4;fill-opacity:0.75;stroke:#000000;stroke-linejoin:miter;stroke-width:0.070315;\"/>\r\n   </g>\r\n   <g id=\"patch_402\">\r\n    <path clip-path=\"url(#p31ebe19260)\" d=\"M 1585.686731 279 \r\nL 1589.50765 279 \r\nL 1589.50765 279 \r\nL 1585.686731 279 \r\nz\r\n\" style=\"fill:#1f77b4;fill-opacity:0.75;stroke:#000000;stroke-linejoin:miter;stroke-width:0.070315;\"/>\r\n   </g>\r\n   <g id=\"patch_403\">\r\n    <path clip-path=\"url(#p31ebe19260)\" d=\"M 1589.50765 279 \r\nL 1593.328569 279 \r\nL 1593.328569 279 \r\nL 1589.50765 279 \r\nz\r\n\" style=\"fill:#1f77b4;fill-opacity:0.75;stroke:#000000;stroke-linejoin:miter;stroke-width:0.070315;\"/>\r\n   </g>\r\n   <g id=\"patch_404\">\r\n    <path clip-path=\"url(#p31ebe19260)\" d=\"M 1593.328569 279 \r\nL 1597.149487 279 \r\nL 1597.149487 279 \r\nL 1593.328569 279 \r\nz\r\n\" style=\"fill:#1f77b4;fill-opacity:0.75;stroke:#000000;stroke-linejoin:miter;stroke-width:0.070315;\"/>\r\n   </g>\r\n   <g id=\"patch_405\">\r\n    <path clip-path=\"url(#p31ebe19260)\" d=\"M 1597.149487 279 \r\nL 1600.970406 279 \r\nL 1600.970406 279 \r\nL 1597.149487 279 \r\nz\r\n\" style=\"fill:#1f77b4;fill-opacity:0.75;stroke:#000000;stroke-linejoin:miter;stroke-width:0.070315;\"/>\r\n   </g>\r\n   <g id=\"patch_406\">\r\n    <path clip-path=\"url(#p31ebe19260)\" d=\"M 1600.970406 279 \r\nL 1604.791325 279 \r\nL 1604.791325 279 \r\nL 1600.970406 279 \r\nz\r\n\" style=\"fill:#1f77b4;fill-opacity:0.75;stroke:#000000;stroke-linejoin:miter;stroke-width:0.070315;\"/>\r\n   </g>\r\n   <g id=\"patch_407\">\r\n    <path clip-path=\"url(#p31ebe19260)\" d=\"M 1604.791325 279 \r\nL 1608.612244 279 \r\nL 1608.612244 279 \r\nL 1604.791325 279 \r\nz\r\n\" style=\"fill:#1f77b4;fill-opacity:0.75;stroke:#000000;stroke-linejoin:miter;stroke-width:0.070315;\"/>\r\n   </g>\r\n   <g id=\"patch_408\">\r\n    <path clip-path=\"url(#p31ebe19260)\" d=\"M 1608.612244 279 \r\nL 1612.433163 279 \r\nL 1612.433163 279 \r\nL 1608.612244 279 \r\nz\r\n\" style=\"fill:#1f77b4;fill-opacity:0.75;stroke:#000000;stroke-linejoin:miter;stroke-width:0.070315;\"/>\r\n   </g>\r\n   <g id=\"patch_409\">\r\n    <path clip-path=\"url(#p31ebe19260)\" d=\"M 1612.433163 279 \r\nL 1616.254081 279 \r\nL 1616.254081 279 \r\nL 1612.433163 279 \r\nz\r\n\" style=\"fill:#1f77b4;fill-opacity:0.75;stroke:#000000;stroke-linejoin:miter;stroke-width:0.070315;\"/>\r\n   </g>\r\n   <g id=\"patch_410\">\r\n    <path clip-path=\"url(#p31ebe19260)\" d=\"M 1616.254081 279 \r\nL 1620.075 279 \r\nL 1620.075 279 \r\nL 1616.254081 279 \r\nz\r\n\" style=\"fill:#1f77b4;fill-opacity:0.75;stroke:#000000;stroke-linejoin:miter;stroke-width:0.070315;\"/>\r\n   </g>\r\n   <g id=\"patch_411\">\r\n    <path clip-path=\"url(#p31ebe19260)\" d=\"M 1620.075 279 \r\nL 1623.895919 279 \r\nL 1623.895919 279 \r\nL 1620.075 279 \r\nz\r\n\" style=\"fill:#1f77b4;fill-opacity:0.75;stroke:#000000;stroke-linejoin:miter;stroke-width:0.070315;\"/>\r\n   </g>\r\n   <g id=\"patch_412\">\r\n    <path clip-path=\"url(#p31ebe19260)\" d=\"M 1623.895919 279 \r\nL 1627.716838 279 \r\nL 1627.716838 279 \r\nL 1623.895919 279 \r\nz\r\n\" style=\"fill:#1f77b4;fill-opacity:0.75;stroke:#000000;stroke-linejoin:miter;stroke-width:0.070315;\"/>\r\n   </g>\r\n   <g id=\"patch_413\">\r\n    <path clip-path=\"url(#p31ebe19260)\" d=\"M 1627.716838 279 \r\nL 1631.537757 279 \r\nL 1631.537757 279 \r\nL 1627.716838 279 \r\nz\r\n\" style=\"fill:#1f77b4;fill-opacity:0.75;stroke:#000000;stroke-linejoin:miter;stroke-width:0.070315;\"/>\r\n   </g>\r\n   <g id=\"patch_414\">\r\n    <path clip-path=\"url(#p31ebe19260)\" d=\"M 1631.537757 279 \r\nL 1635.358675 279 \r\nL 1635.358675 279 \r\nL 1631.537757 279 \r\nz\r\n\" style=\"fill:#1f77b4;fill-opacity:0.75;stroke:#000000;stroke-linejoin:miter;stroke-width:0.070315;\"/>\r\n   </g>\r\n   <g id=\"patch_415\">\r\n    <path clip-path=\"url(#p31ebe19260)\" d=\"M 1635.358675 279 \r\nL 1639.179594 279 \r\nL 1639.179594 279 \r\nL 1635.358675 279 \r\nz\r\n\" style=\"fill:#1f77b4;fill-opacity:0.75;stroke:#000000;stroke-linejoin:miter;stroke-width:0.070315;\"/>\r\n   </g>\r\n   <g id=\"patch_416\">\r\n    <path clip-path=\"url(#p31ebe19260)\" d=\"M 1639.179594 279 \r\nL 1643.000513 279 \r\nL 1643.000513 279 \r\nL 1639.179594 279 \r\nz\r\n\" style=\"fill:#1f77b4;fill-opacity:0.75;stroke:#000000;stroke-linejoin:miter;stroke-width:0.070315;\"/>\r\n   </g>\r\n   <g id=\"patch_417\">\r\n    <path clip-path=\"url(#p31ebe19260)\" d=\"M 1643.000513 279 \r\nL 1646.821432 279 \r\nL 1646.821432 279 \r\nL 1643.000513 279 \r\nz\r\n\" style=\"fill:#1f77b4;fill-opacity:0.75;stroke:#000000;stroke-linejoin:miter;stroke-width:0.070315;\"/>\r\n   </g>\r\n   <g id=\"patch_418\">\r\n    <path clip-path=\"url(#p31ebe19260)\" d=\"M 1646.821432 279 \r\nL 1650.642351 279 \r\nL 1650.642351 279 \r\nL 1646.821432 279 \r\nz\r\n\" style=\"fill:#1f77b4;fill-opacity:0.75;stroke:#000000;stroke-linejoin:miter;stroke-width:0.070315;\"/>\r\n   </g>\r\n   <g id=\"patch_419\">\r\n    <path clip-path=\"url(#p31ebe19260)\" d=\"M 1650.642351 279 \r\nL 1654.46327 279 \r\nL 1654.46327 279 \r\nL 1650.642351 279 \r\nz\r\n\" style=\"fill:#1f77b4;fill-opacity:0.75;stroke:#000000;stroke-linejoin:miter;stroke-width:0.070315;\"/>\r\n   </g>\r\n   <g id=\"patch_420\">\r\n    <path clip-path=\"url(#p31ebe19260)\" d=\"M 1654.46327 279 \r\nL 1658.284188 279 \r\nL 1658.284188 279 \r\nL 1654.46327 279 \r\nz\r\n\" style=\"fill:#1f77b4;fill-opacity:0.75;stroke:#000000;stroke-linejoin:miter;stroke-width:0.070315;\"/>\r\n   </g>\r\n   <g id=\"patch_421\">\r\n    <path clip-path=\"url(#p31ebe19260)\" d=\"M 1658.284188 279 \r\nL 1662.105107 279 \r\nL 1662.105107 279 \r\nL 1658.284188 279 \r\nz\r\n\" style=\"fill:#1f77b4;fill-opacity:0.75;stroke:#000000;stroke-linejoin:miter;stroke-width:0.070315;\"/>\r\n   </g>\r\n   <g id=\"patch_422\">\r\n    <path clip-path=\"url(#p31ebe19260)\" d=\"M 1662.105107 279 \r\nL 1665.926026 279 \r\nL 1665.926026 279 \r\nL 1662.105107 279 \r\nz\r\n\" style=\"fill:#1f77b4;fill-opacity:0.75;stroke:#000000;stroke-linejoin:miter;stroke-width:0.070315;\"/>\r\n   </g>\r\n   <g id=\"patch_423\">\r\n    <path clip-path=\"url(#p31ebe19260)\" d=\"M 1665.926026 279 \r\nL 1669.746945 279 \r\nL 1669.746945 279 \r\nL 1665.926026 279 \r\nz\r\n\" style=\"fill:#1f77b4;fill-opacity:0.75;stroke:#000000;stroke-linejoin:miter;stroke-width:0.070315;\"/>\r\n   </g>\r\n   <g id=\"patch_424\">\r\n    <path clip-path=\"url(#p31ebe19260)\" d=\"M 1669.746945 279 \r\nL 1673.567864 279 \r\nL 1673.567864 279 \r\nL 1669.746945 279 \r\nz\r\n\" style=\"fill:#1f77b4;fill-opacity:0.75;stroke:#000000;stroke-linejoin:miter;stroke-width:0.070315;\"/>\r\n   </g>\r\n   <g id=\"patch_425\">\r\n    <path clip-path=\"url(#p31ebe19260)\" d=\"M 1673.567864 279 \r\nL 1677.388782 279 \r\nL 1677.388782 279 \r\nL 1673.567864 279 \r\nz\r\n\" style=\"fill:#1f77b4;fill-opacity:0.75;stroke:#000000;stroke-linejoin:miter;stroke-width:0.070315;\"/>\r\n   </g>\r\n   <g id=\"patch_426\">\r\n    <path clip-path=\"url(#p31ebe19260)\" d=\"M 1677.388782 279 \r\nL 1681.209701 279 \r\nL 1681.209701 279 \r\nL 1677.388782 279 \r\nz\r\n\" style=\"fill:#1f77b4;fill-opacity:0.75;stroke:#000000;stroke-linejoin:miter;stroke-width:0.070315;\"/>\r\n   </g>\r\n   <g id=\"patch_427\">\r\n    <path clip-path=\"url(#p31ebe19260)\" d=\"M 1681.209701 279 \r\nL 1685.03062 279 \r\nL 1685.03062 279 \r\nL 1681.209701 279 \r\nz\r\n\" style=\"fill:#1f77b4;fill-opacity:0.75;stroke:#000000;stroke-linejoin:miter;stroke-width:0.070315;\"/>\r\n   </g>\r\n   <g id=\"patch_428\">\r\n    <path clip-path=\"url(#p31ebe19260)\" d=\"M 1685.03062 279 \r\nL 1688.851539 279 \r\nL 1688.851539 279 \r\nL 1685.03062 279 \r\nz\r\n\" style=\"fill:#1f77b4;fill-opacity:0.75;stroke:#000000;stroke-linejoin:miter;stroke-width:0.070315;\"/>\r\n   </g>\r\n   <g id=\"patch_429\">\r\n    <path clip-path=\"url(#p31ebe19260)\" d=\"M 1688.851539 279 \r\nL 1692.672458 279 \r\nL 1692.672458 279 \r\nL 1688.851539 279 \r\nz\r\n\" style=\"fill:#1f77b4;fill-opacity:0.75;stroke:#000000;stroke-linejoin:miter;stroke-width:0.070315;\"/>\r\n   </g>\r\n   <g id=\"patch_430\">\r\n    <path clip-path=\"url(#p31ebe19260)\" d=\"M 1692.672458 279 \r\nL 1696.493376 279 \r\nL 1696.493376 279 \r\nL 1692.672458 279 \r\nz\r\n\" style=\"fill:#1f77b4;fill-opacity:0.75;stroke:#000000;stroke-linejoin:miter;stroke-width:0.070315;\"/>\r\n   </g>\r\n   <g id=\"patch_431\">\r\n    <path clip-path=\"url(#p31ebe19260)\" d=\"M 1696.493376 279 \r\nL 1700.314295 279 \r\nL 1700.314295 279 \r\nL 1696.493376 279 \r\nz\r\n\" style=\"fill:#1f77b4;fill-opacity:0.75;stroke:#000000;stroke-linejoin:miter;stroke-width:0.070315;\"/>\r\n   </g>\r\n   <g id=\"patch_432\">\r\n    <path clip-path=\"url(#p31ebe19260)\" d=\"M 1700.314295 279 \r\nL 1704.135214 279 \r\nL 1704.135214 279 \r\nL 1700.314295 279 \r\nz\r\n\" style=\"fill:#1f77b4;fill-opacity:0.75;stroke:#000000;stroke-linejoin:miter;stroke-width:0.070315;\"/>\r\n   </g>\r\n   <g id=\"patch_433\">\r\n    <path clip-path=\"url(#p31ebe19260)\" d=\"M 1704.135214 279 \r\nL 1707.956133 279 \r\nL 1707.956133 279 \r\nL 1704.135214 279 \r\nz\r\n\" style=\"fill:#1f77b4;fill-opacity:0.75;stroke:#000000;stroke-linejoin:miter;stroke-width:0.070315;\"/>\r\n   </g>\r\n   <g id=\"patch_434\">\r\n    <path clip-path=\"url(#p31ebe19260)\" d=\"M 1707.956133 279 \r\nL 1711.777052 279 \r\nL 1711.777052 279 \r\nL 1707.956133 279 \r\nz\r\n\" style=\"fill:#1f77b4;fill-opacity:0.75;stroke:#000000;stroke-linejoin:miter;stroke-width:0.070315;\"/>\r\n   </g>\r\n   <g id=\"patch_435\">\r\n    <path clip-path=\"url(#p31ebe19260)\" d=\"M 1711.777052 279 \r\nL 1715.597971 279 \r\nL 1715.597971 279 \r\nL 1711.777052 279 \r\nz\r\n\" style=\"fill:#1f77b4;fill-opacity:0.75;stroke:#000000;stroke-linejoin:miter;stroke-width:0.070315;\"/>\r\n   </g>\r\n   <g id=\"patch_436\">\r\n    <path clip-path=\"url(#p31ebe19260)\" d=\"M 1715.597971 279 \r\nL 1719.418889 279 \r\nL 1719.418889 279 \r\nL 1715.597971 279 \r\nz\r\n\" style=\"fill:#1f77b4;fill-opacity:0.75;stroke:#000000;stroke-linejoin:miter;stroke-width:0.070315;\"/>\r\n   </g>\r\n   <g id=\"patch_437\">\r\n    <path clip-path=\"url(#p31ebe19260)\" d=\"M 1719.418889 279 \r\nL 1723.239808 279 \r\nL 1723.239808 279 \r\nL 1719.418889 279 \r\nz\r\n\" style=\"fill:#1f77b4;fill-opacity:0.75;stroke:#000000;stroke-linejoin:miter;stroke-width:0.070315;\"/>\r\n   </g>\r\n   <g id=\"patch_438\">\r\n    <path clip-path=\"url(#p31ebe19260)\" d=\"M 1723.239808 279 \r\nL 1727.060727 279 \r\nL 1727.060727 279 \r\nL 1723.239808 279 \r\nz\r\n\" style=\"fill:#1f77b4;fill-opacity:0.75;stroke:#000000;stroke-linejoin:miter;stroke-width:0.070315;\"/>\r\n   </g>\r\n   <g id=\"patch_439\">\r\n    <path clip-path=\"url(#p31ebe19260)\" d=\"M 1727.060727 279 \r\nL 1730.881646 279 \r\nL 1730.881646 279 \r\nL 1727.060727 279 \r\nz\r\n\" style=\"fill:#1f77b4;fill-opacity:0.75;stroke:#000000;stroke-linejoin:miter;stroke-width:0.070315;\"/>\r\n   </g>\r\n   <g id=\"patch_440\">\r\n    <path clip-path=\"url(#p31ebe19260)\" d=\"M 1730.881646 279 \r\nL 1734.702565 279 \r\nL 1734.702565 279 \r\nL 1730.881646 279 \r\nz\r\n\" style=\"fill:#1f77b4;fill-opacity:0.75;stroke:#000000;stroke-linejoin:miter;stroke-width:0.070315;\"/>\r\n   </g>\r\n   <g id=\"patch_441\">\r\n    <path clip-path=\"url(#p31ebe19260)\" d=\"M 1734.702565 279 \r\nL 1738.523483 279 \r\nL 1738.523483 279 \r\nL 1734.702565 279 \r\nz\r\n\" style=\"fill:#1f77b4;fill-opacity:0.75;stroke:#000000;stroke-linejoin:miter;stroke-width:0.070315;\"/>\r\n   </g>\r\n   <g id=\"patch_442\">\r\n    <path clip-path=\"url(#p31ebe19260)\" d=\"M 1738.523483 279 \r\nL 1742.344402 279 \r\nL 1742.344402 279 \r\nL 1738.523483 279 \r\nz\r\n\" style=\"fill:#1f77b4;fill-opacity:0.75;stroke:#000000;stroke-linejoin:miter;stroke-width:0.070315;\"/>\r\n   </g>\r\n   <g id=\"patch_443\">\r\n    <path clip-path=\"url(#p31ebe19260)\" d=\"M 1742.344402 279 \r\nL 1746.165321 279 \r\nL 1746.165321 279 \r\nL 1742.344402 279 \r\nz\r\n\" style=\"fill:#1f77b4;fill-opacity:0.75;stroke:#000000;stroke-linejoin:miter;stroke-width:0.070315;\"/>\r\n   </g>\r\n   <g id=\"patch_444\">\r\n    <path clip-path=\"url(#p31ebe19260)\" d=\"M 1746.165321 279 \r\nL 1749.98624 279 \r\nL 1749.98624 279 \r\nL 1746.165321 279 \r\nz\r\n\" style=\"fill:#1f77b4;fill-opacity:0.75;stroke:#000000;stroke-linejoin:miter;stroke-width:0.070315;\"/>\r\n   </g>\r\n   <g id=\"patch_445\">\r\n    <path clip-path=\"url(#p31ebe19260)\" d=\"M 1749.98624 279 \r\nL 1753.807159 279 \r\nL 1753.807159 279 \r\nL 1749.98624 279 \r\nz\r\n\" style=\"fill:#1f77b4;fill-opacity:0.75;stroke:#000000;stroke-linejoin:miter;stroke-width:0.070315;\"/>\r\n   </g>\r\n   <g id=\"patch_446\">\r\n    <path clip-path=\"url(#p31ebe19260)\" d=\"M 1753.807159 279 \r\nL 1757.628077 279 \r\nL 1757.628077 279 \r\nL 1753.807159 279 \r\nz\r\n\" style=\"fill:#1f77b4;fill-opacity:0.75;stroke:#000000;stroke-linejoin:miter;stroke-width:0.070315;\"/>\r\n   </g>\r\n   <g id=\"patch_447\">\r\n    <path clip-path=\"url(#p31ebe19260)\" d=\"M 1757.628077 279 \r\nL 1761.448996 279 \r\nL 1761.448996 279 \r\nL 1757.628077 279 \r\nz\r\n\" style=\"fill:#1f77b4;fill-opacity:0.75;stroke:#000000;stroke-linejoin:miter;stroke-width:0.070315;\"/>\r\n   </g>\r\n   <g id=\"patch_448\">\r\n    <path clip-path=\"url(#p31ebe19260)\" d=\"M 1761.448996 279 \r\nL 1765.269915 279 \r\nL 1765.269915 279 \r\nL 1761.448996 279 \r\nz\r\n\" style=\"fill:#1f77b4;fill-opacity:0.75;stroke:#000000;stroke-linejoin:miter;stroke-width:0.070315;\"/>\r\n   </g>\r\n   <g id=\"patch_449\">\r\n    <path clip-path=\"url(#p31ebe19260)\" d=\"M 1765.269915 279 \r\nL 1769.090834 279 \r\nL 1769.090834 279 \r\nL 1765.269915 279 \r\nz\r\n\" style=\"fill:#1f77b4;fill-opacity:0.75;stroke:#000000;stroke-linejoin:miter;stroke-width:0.070315;\"/>\r\n   </g>\r\n   <g id=\"patch_450\">\r\n    <path clip-path=\"url(#p31ebe19260)\" d=\"M 1769.090834 279 \r\nL 1772.911753 279 \r\nL 1772.911753 279 \r\nL 1769.090834 279 \r\nz\r\n\" style=\"fill:#1f77b4;fill-opacity:0.75;stroke:#000000;stroke-linejoin:miter;stroke-width:0.070315;\"/>\r\n   </g>\r\n   <g id=\"patch_451\">\r\n    <path clip-path=\"url(#p31ebe19260)\" d=\"M 1772.911753 279 \r\nL 1776.732672 279 \r\nL 1776.732672 279 \r\nL 1772.911753 279 \r\nz\r\n\" style=\"fill:#1f77b4;fill-opacity:0.75;stroke:#000000;stroke-linejoin:miter;stroke-width:0.070315;\"/>\r\n   </g>\r\n   <g id=\"patch_452\">\r\n    <path clip-path=\"url(#p31ebe19260)\" d=\"M 1776.732672 279 \r\nL 1780.55359 279 \r\nL 1780.55359 279 \r\nL 1776.732672 279 \r\nz\r\n\" style=\"fill:#1f77b4;fill-opacity:0.75;stroke:#000000;stroke-linejoin:miter;stroke-width:0.070315;\"/>\r\n   </g>\r\n   <g id=\"patch_453\">\r\n    <path clip-path=\"url(#p31ebe19260)\" d=\"M 1780.55359 279 \r\nL 1784.374509 279 \r\nL 1784.374509 279 \r\nL 1780.55359 279 \r\nz\r\n\" style=\"fill:#1f77b4;fill-opacity:0.75;stroke:#000000;stroke-linejoin:miter;stroke-width:0.070315;\"/>\r\n   </g>\r\n   <g id=\"patch_454\">\r\n    <path clip-path=\"url(#p31ebe19260)\" d=\"M 1784.374509 279 \r\nL 1788.195428 279 \r\nL 1788.195428 279 \r\nL 1784.374509 279 \r\nz\r\n\" style=\"fill:#1f77b4;fill-opacity:0.75;stroke:#000000;stroke-linejoin:miter;stroke-width:0.070315;\"/>\r\n   </g>\r\n   <g id=\"patch_455\">\r\n    <path clip-path=\"url(#p31ebe19260)\" d=\"M 1788.195428 279 \r\nL 1792.016347 279 \r\nL 1792.016347 279 \r\nL 1788.195428 279 \r\nz\r\n\" style=\"fill:#1f77b4;fill-opacity:0.75;stroke:#000000;stroke-linejoin:miter;stroke-width:0.070315;\"/>\r\n   </g>\r\n   <g id=\"patch_456\">\r\n    <path clip-path=\"url(#p31ebe19260)\" d=\"M 1792.016347 279 \r\nL 1795.837266 279 \r\nL 1795.837266 279 \r\nL 1792.016347 279 \r\nz\r\n\" style=\"fill:#1f77b4;fill-opacity:0.75;stroke:#000000;stroke-linejoin:miter;stroke-width:0.070315;\"/>\r\n   </g>\r\n   <g id=\"patch_457\">\r\n    <path clip-path=\"url(#p31ebe19260)\" d=\"M 1795.837266 279 \r\nL 1799.658184 279 \r\nL 1799.658184 279 \r\nL 1795.837266 279 \r\nz\r\n\" style=\"fill:#1f77b4;fill-opacity:0.75;stroke:#000000;stroke-linejoin:miter;stroke-width:0.070315;\"/>\r\n   </g>\r\n   <g id=\"patch_458\">\r\n    <path clip-path=\"url(#p31ebe19260)\" d=\"M 1799.658184 279 \r\nL 1803.479103 279 \r\nL 1803.479103 278.802851 \r\nL 1799.658184 278.802851 \r\nz\r\n\" style=\"fill:#1f77b4;fill-opacity:0.75;stroke:#000000;stroke-linejoin:miter;stroke-width:0.070315;\"/>\r\n   </g>\r\n   <g id=\"patch_459\">\r\n    <path clip-path=\"url(#p31ebe19260)\" d=\"M 1803.479103 279 \r\nL 1807.300022 279 \r\nL 1807.300022 279 \r\nL 1803.479103 279 \r\nz\r\n\" style=\"fill:#1f77b4;fill-opacity:0.75;stroke:#000000;stroke-linejoin:miter;stroke-width:0.070315;\"/>\r\n   </g>\r\n   <g id=\"patch_460\">\r\n    <path clip-path=\"url(#p31ebe19260)\" d=\"M 1807.300022 279 \r\nL 1811.120941 279 \r\nL 1811.120941 279 \r\nL 1807.300022 279 \r\nz\r\n\" style=\"fill:#1f77b4;fill-opacity:0.75;stroke:#000000;stroke-linejoin:miter;stroke-width:0.070315;\"/>\r\n   </g>\r\n   <g id=\"patch_461\">\r\n    <path clip-path=\"url(#p31ebe19260)\" d=\"M 1811.120941 279 \r\nL 1814.94186 279 \r\nL 1814.94186 279 \r\nL 1811.120941 279 \r\nz\r\n\" style=\"fill:#1f77b4;fill-opacity:0.75;stroke:#000000;stroke-linejoin:miter;stroke-width:0.070315;\"/>\r\n   </g>\r\n   <g id=\"patch_462\">\r\n    <path clip-path=\"url(#p31ebe19260)\" d=\"M 1814.94186 279 \r\nL 1818.762778 279 \r\nL 1818.762778 279 \r\nL 1814.94186 279 \r\nz\r\n\" style=\"fill:#1f77b4;fill-opacity:0.75;stroke:#000000;stroke-linejoin:miter;stroke-width:0.070315;\"/>\r\n   </g>\r\n   <g id=\"patch_463\">\r\n    <path clip-path=\"url(#p31ebe19260)\" d=\"M 1818.762778 279 \r\nL 1822.583697 279 \r\nL 1822.583697 279 \r\nL 1818.762778 279 \r\nz\r\n\" style=\"fill:#1f77b4;fill-opacity:0.75;stroke:#000000;stroke-linejoin:miter;stroke-width:0.070315;\"/>\r\n   </g>\r\n   <g id=\"patch_464\">\r\n    <path clip-path=\"url(#p31ebe19260)\" d=\"M 1822.583697 279 \r\nL 1826.404616 279 \r\nL 1826.404616 279 \r\nL 1822.583697 279 \r\nz\r\n\" style=\"fill:#1f77b4;fill-opacity:0.75;stroke:#000000;stroke-linejoin:miter;stroke-width:0.070315;\"/>\r\n   </g>\r\n   <g id=\"patch_465\">\r\n    <path clip-path=\"url(#p31ebe19260)\" d=\"M 1826.404616 279 \r\nL 1830.225535 279 \r\nL 1830.225535 279 \r\nL 1826.404616 279 \r\nz\r\n\" style=\"fill:#1f77b4;fill-opacity:0.75;stroke:#000000;stroke-linejoin:miter;stroke-width:0.070315;\"/>\r\n   </g>\r\n   <g id=\"patch_466\">\r\n    <path clip-path=\"url(#p31ebe19260)\" d=\"M 1830.225535 279 \r\nL 1834.046454 279 \r\nL 1834.046454 279 \r\nL 1830.225535 279 \r\nz\r\n\" style=\"fill:#1f77b4;fill-opacity:0.75;stroke:#000000;stroke-linejoin:miter;stroke-width:0.070315;\"/>\r\n   </g>\r\n   <g id=\"patch_467\">\r\n    <path clip-path=\"url(#p31ebe19260)\" d=\"M 1834.046454 279 \r\nL 1837.867373 279 \r\nL 1837.867373 279 \r\nL 1834.046454 279 \r\nz\r\n\" style=\"fill:#1f77b4;fill-opacity:0.75;stroke:#000000;stroke-linejoin:miter;stroke-width:0.070315;\"/>\r\n   </g>\r\n   <g id=\"patch_468\">\r\n    <path clip-path=\"url(#p31ebe19260)\" d=\"M 1837.867373 279 \r\nL 1841.688291 279 \r\nL 1841.688291 279 \r\nL 1837.867373 279 \r\nz\r\n\" style=\"fill:#1f77b4;fill-opacity:0.75;stroke:#000000;stroke-linejoin:miter;stroke-width:0.070315;\"/>\r\n   </g>\r\n   <g id=\"patch_469\">\r\n    <path clip-path=\"url(#p31ebe19260)\" d=\"M 1841.688291 279 \r\nL 1845.50921 279 \r\nL 1845.50921 279 \r\nL 1841.688291 279 \r\nz\r\n\" style=\"fill:#1f77b4;fill-opacity:0.75;stroke:#000000;stroke-linejoin:miter;stroke-width:0.070315;\"/>\r\n   </g>\r\n   <g id=\"patch_470\">\r\n    <path clip-path=\"url(#p31ebe19260)\" d=\"M 1845.50921 279 \r\nL 1849.330129 279 \r\nL 1849.330129 279 \r\nL 1845.50921 279 \r\nz\r\n\" style=\"fill:#1f77b4;fill-opacity:0.75;stroke:#000000;stroke-linejoin:miter;stroke-width:0.070315;\"/>\r\n   </g>\r\n   <g id=\"patch_471\">\r\n    <path clip-path=\"url(#p31ebe19260)\" d=\"M 1849.330129 279 \r\nL 1853.151048 279 \r\nL 1853.151048 279 \r\nL 1849.330129 279 \r\nz\r\n\" style=\"fill:#1f77b4;fill-opacity:0.75;stroke:#000000;stroke-linejoin:miter;stroke-width:0.070315;\"/>\r\n   </g>\r\n   <g id=\"patch_472\">\r\n    <path clip-path=\"url(#p31ebe19260)\" d=\"M 1853.151048 279 \r\nL 1856.971967 279 \r\nL 1856.971967 279 \r\nL 1853.151048 279 \r\nz\r\n\" style=\"fill:#1f77b4;fill-opacity:0.75;stroke:#000000;stroke-linejoin:miter;stroke-width:0.070315;\"/>\r\n   </g>\r\n   <g id=\"patch_473\">\r\n    <path clip-path=\"url(#p31ebe19260)\" d=\"M 1856.971967 279 \r\nL 1860.792885 279 \r\nL 1860.792885 279 \r\nL 1856.971967 279 \r\nz\r\n\" style=\"fill:#1f77b4;fill-opacity:0.75;stroke:#000000;stroke-linejoin:miter;stroke-width:0.070315;\"/>\r\n   </g>\r\n   <g id=\"patch_474\">\r\n    <path clip-path=\"url(#p31ebe19260)\" d=\"M 1860.792885 279 \r\nL 1864.613804 279 \r\nL 1864.613804 279 \r\nL 1860.792885 279 \r\nz\r\n\" style=\"fill:#1f77b4;fill-opacity:0.75;stroke:#000000;stroke-linejoin:miter;stroke-width:0.070315;\"/>\r\n   </g>\r\n   <g id=\"patch_475\">\r\n    <path clip-path=\"url(#p31ebe19260)\" d=\"M 1864.613804 279 \r\nL 1868.434723 279 \r\nL 1868.434723 279 \r\nL 1864.613804 279 \r\nz\r\n\" style=\"fill:#1f77b4;fill-opacity:0.75;stroke:#000000;stroke-linejoin:miter;stroke-width:0.070315;\"/>\r\n   </g>\r\n   <g id=\"patch_476\">\r\n    <path clip-path=\"url(#p31ebe19260)\" d=\"M 1868.434723 279 \r\nL 1872.255642 279 \r\nL 1872.255642 279 \r\nL 1868.434723 279 \r\nz\r\n\" style=\"fill:#1f77b4;fill-opacity:0.75;stroke:#000000;stroke-linejoin:miter;stroke-width:0.070315;\"/>\r\n   </g>\r\n   <g id=\"patch_477\">\r\n    <path clip-path=\"url(#p31ebe19260)\" d=\"M 1872.255642 279 \r\nL 1876.076561 279 \r\nL 1876.076561 279 \r\nL 1872.255642 279 \r\nz\r\n\" style=\"fill:#1f77b4;fill-opacity:0.75;stroke:#000000;stroke-linejoin:miter;stroke-width:0.070315;\"/>\r\n   </g>\r\n   <g id=\"patch_478\">\r\n    <path clip-path=\"url(#p31ebe19260)\" d=\"M 1876.076561 279 \r\nL 1879.897479 279 \r\nL 1879.897479 279 \r\nL 1876.076561 279 \r\nz\r\n\" style=\"fill:#1f77b4;fill-opacity:0.75;stroke:#000000;stroke-linejoin:miter;stroke-width:0.070315;\"/>\r\n   </g>\r\n   <g id=\"patch_479\">\r\n    <path clip-path=\"url(#p31ebe19260)\" d=\"M 1879.897479 279 \r\nL 1883.718398 279 \r\nL 1883.718398 279 \r\nL 1879.897479 279 \r\nz\r\n\" style=\"fill:#1f77b4;fill-opacity:0.75;stroke:#000000;stroke-linejoin:miter;stroke-width:0.070315;\"/>\r\n   </g>\r\n   <g id=\"patch_480\">\r\n    <path clip-path=\"url(#p31ebe19260)\" d=\"M 1883.718398 279 \r\nL 1887.539317 279 \r\nL 1887.539317 279 \r\nL 1883.718398 279 \r\nz\r\n\" style=\"fill:#1f77b4;fill-opacity:0.75;stroke:#000000;stroke-linejoin:miter;stroke-width:0.070315;\"/>\r\n   </g>\r\n   <g id=\"patch_481\">\r\n    <path clip-path=\"url(#p31ebe19260)\" d=\"M 1887.539317 279 \r\nL 1891.360236 279 \r\nL 1891.360236 279 \r\nL 1887.539317 279 \r\nz\r\n\" style=\"fill:#1f77b4;fill-opacity:0.75;stroke:#000000;stroke-linejoin:miter;stroke-width:0.070315;\"/>\r\n   </g>\r\n   <g id=\"patch_482\">\r\n    <path clip-path=\"url(#p31ebe19260)\" d=\"M 1891.360236 279 \r\nL 1895.181155 279 \r\nL 1895.181155 279 \r\nL 1891.360236 279 \r\nz\r\n\" style=\"fill:#1f77b4;fill-opacity:0.75;stroke:#000000;stroke-linejoin:miter;stroke-width:0.070315;\"/>\r\n   </g>\r\n   <g id=\"patch_483\">\r\n    <path clip-path=\"url(#p31ebe19260)\" d=\"M 1895.181155 279 \r\nL 1899.002074 279 \r\nL 1899.002074 279 \r\nL 1895.181155 279 \r\nz\r\n\" style=\"fill:#1f77b4;fill-opacity:0.75;stroke:#000000;stroke-linejoin:miter;stroke-width:0.070315;\"/>\r\n   </g>\r\n   <g id=\"patch_484\">\r\n    <path clip-path=\"url(#p31ebe19260)\" d=\"M 1899.002074 279 \r\nL 1902.822992 279 \r\nL 1902.822992 279 \r\nL 1899.002074 279 \r\nz\r\n\" style=\"fill:#1f77b4;fill-opacity:0.75;stroke:#000000;stroke-linejoin:miter;stroke-width:0.070315;\"/>\r\n   </g>\r\n   <g id=\"patch_485\">\r\n    <path clip-path=\"url(#p31ebe19260)\" d=\"M 1902.822992 279 \r\nL 1906.643911 279 \r\nL 1906.643911 279 \r\nL 1902.822992 279 \r\nz\r\n\" style=\"fill:#1f77b4;fill-opacity:0.75;stroke:#000000;stroke-linejoin:miter;stroke-width:0.070315;\"/>\r\n   </g>\r\n   <g id=\"patch_486\">\r\n    <path clip-path=\"url(#p31ebe19260)\" d=\"M 1906.643911 279 \r\nL 1910.46483 279 \r\nL 1910.46483 279 \r\nL 1906.643911 279 \r\nz\r\n\" style=\"fill:#1f77b4;fill-opacity:0.75;stroke:#000000;stroke-linejoin:miter;stroke-width:0.070315;\"/>\r\n   </g>\r\n   <g id=\"patch_487\">\r\n    <path clip-path=\"url(#p31ebe19260)\" d=\"M 1910.46483 279 \r\nL 1914.285749 279 \r\nL 1914.285749 279 \r\nL 1910.46483 279 \r\nz\r\n\" style=\"fill:#1f77b4;fill-opacity:0.75;stroke:#000000;stroke-linejoin:miter;stroke-width:0.070315;\"/>\r\n   </g>\r\n   <g id=\"patch_488\">\r\n    <path clip-path=\"url(#p31ebe19260)\" d=\"M 1914.285749 279 \r\nL 1918.106668 279 \r\nL 1918.106668 279 \r\nL 1914.285749 279 \r\nz\r\n\" style=\"fill:#1f77b4;fill-opacity:0.75;stroke:#000000;stroke-linejoin:miter;stroke-width:0.070315;\"/>\r\n   </g>\r\n   <g id=\"patch_489\">\r\n    <path clip-path=\"url(#p31ebe19260)\" d=\"M 1918.106668 279 \r\nL 1921.927586 279 \r\nL 1921.927586 279 \r\nL 1918.106668 279 \r\nz\r\n\" style=\"fill:#1f77b4;fill-opacity:0.75;stroke:#000000;stroke-linejoin:miter;stroke-width:0.070315;\"/>\r\n   </g>\r\n   <g id=\"patch_490\">\r\n    <path clip-path=\"url(#p31ebe19260)\" d=\"M 1921.927586 279 \r\nL 1925.748505 279 \r\nL 1925.748505 279 \r\nL 1921.927586 279 \r\nz\r\n\" style=\"fill:#1f77b4;fill-opacity:0.75;stroke:#000000;stroke-linejoin:miter;stroke-width:0.070315;\"/>\r\n   </g>\r\n   <g id=\"patch_491\">\r\n    <path clip-path=\"url(#p31ebe19260)\" d=\"M 1925.748505 279 \r\nL 1929.569424 279 \r\nL 1929.569424 279 \r\nL 1925.748505 279 \r\nz\r\n\" style=\"fill:#1f77b4;fill-opacity:0.75;stroke:#000000;stroke-linejoin:miter;stroke-width:0.070315;\"/>\r\n   </g>\r\n   <g id=\"patch_492\">\r\n    <path clip-path=\"url(#p31ebe19260)\" d=\"M 1929.569424 279 \r\nL 1933.390343 279 \r\nL 1933.390343 279 \r\nL 1929.569424 279 \r\nz\r\n\" style=\"fill:#1f77b4;fill-opacity:0.75;stroke:#000000;stroke-linejoin:miter;stroke-width:0.070315;\"/>\r\n   </g>\r\n   <g id=\"patch_493\">\r\n    <path clip-path=\"url(#p31ebe19260)\" d=\"M 1933.390343 279 \r\nL 1937.211262 279 \r\nL 1937.211262 279 \r\nL 1933.390343 279 \r\nz\r\n\" style=\"fill:#1f77b4;fill-opacity:0.75;stroke:#000000;stroke-linejoin:miter;stroke-width:0.070315;\"/>\r\n   </g>\r\n   <g id=\"patch_494\">\r\n    <path clip-path=\"url(#p31ebe19260)\" d=\"M 1937.211262 279 \r\nL 1941.03218 279 \r\nL 1941.03218 279 \r\nL 1937.211262 279 \r\nz\r\n\" style=\"fill:#1f77b4;fill-opacity:0.75;stroke:#000000;stroke-linejoin:miter;stroke-width:0.070315;\"/>\r\n   </g>\r\n   <g id=\"patch_495\">\r\n    <path clip-path=\"url(#p31ebe19260)\" d=\"M 1941.03218 279 \r\nL 1944.853099 279 \r\nL 1944.853099 279 \r\nL 1941.03218 279 \r\nz\r\n\" style=\"fill:#1f77b4;fill-opacity:0.75;stroke:#000000;stroke-linejoin:miter;stroke-width:0.070315;\"/>\r\n   </g>\r\n   <g id=\"patch_496\">\r\n    <path clip-path=\"url(#p31ebe19260)\" d=\"M 1944.853099 279 \r\nL 1948.674018 279 \r\nL 1948.674018 279 \r\nL 1944.853099 279 \r\nz\r\n\" style=\"fill:#1f77b4;fill-opacity:0.75;stroke:#000000;stroke-linejoin:miter;stroke-width:0.070315;\"/>\r\n   </g>\r\n   <g id=\"patch_497\">\r\n    <path clip-path=\"url(#p31ebe19260)\" d=\"M 1948.674018 279 \r\nL 1952.494937 279 \r\nL 1952.494937 279 \r\nL 1948.674018 279 \r\nz\r\n\" style=\"fill:#1f77b4;fill-opacity:0.75;stroke:#000000;stroke-linejoin:miter;stroke-width:0.070315;\"/>\r\n   </g>\r\n   <g id=\"patch_498\">\r\n    <path clip-path=\"url(#p31ebe19260)\" d=\"M 1952.494937 279 \r\nL 1956.315856 279 \r\nL 1956.315856 279 \r\nL 1952.494937 279 \r\nz\r\n\" style=\"fill:#1f77b4;fill-opacity:0.75;stroke:#000000;stroke-linejoin:miter;stroke-width:0.070315;\"/>\r\n   </g>\r\n   <g id=\"patch_499\">\r\n    <path clip-path=\"url(#p31ebe19260)\" d=\"M 1956.315856 279 \r\nL 1960.136775 279 \r\nL 1960.136775 279 \r\nL 1956.315856 279 \r\nz\r\n\" style=\"fill:#1f77b4;fill-opacity:0.75;stroke:#000000;stroke-linejoin:miter;stroke-width:0.070315;\"/>\r\n   </g>\r\n   <g id=\"patch_500\">\r\n    <path clip-path=\"url(#p31ebe19260)\" d=\"M 1960.136775 279 \r\nL 1963.957693 279 \r\nL 1963.957693 279 \r\nL 1960.136775 279 \r\nz\r\n\" style=\"fill:#1f77b4;fill-opacity:0.75;stroke:#000000;stroke-linejoin:miter;stroke-width:0.070315;\"/>\r\n   </g>\r\n   <g id=\"patch_501\">\r\n    <path clip-path=\"url(#p31ebe19260)\" d=\"M 1963.957693 279 \r\nL 1967.778612 279 \r\nL 1967.778612 279 \r\nL 1963.957693 279 \r\nz\r\n\" style=\"fill:#1f77b4;fill-opacity:0.75;stroke:#000000;stroke-linejoin:miter;stroke-width:0.070315;\"/>\r\n   </g>\r\n   <g id=\"patch_502\">\r\n    <path clip-path=\"url(#p31ebe19260)\" d=\"M 1967.778612 279 \r\nL 1971.599531 279 \r\nL 1971.599531 279 \r\nL 1967.778612 279 \r\nz\r\n\" style=\"fill:#1f77b4;fill-opacity:0.75;stroke:#000000;stroke-linejoin:miter;stroke-width:0.070315;\"/>\r\n   </g>\r\n   <g id=\"patch_503\">\r\n    <path clip-path=\"url(#p31ebe19260)\" d=\"M 1971.599531 279 \r\nL 1975.42045 279 \r\nL 1975.42045 279 \r\nL 1971.599531 279 \r\nz\r\n\" style=\"fill:#1f77b4;fill-opacity:0.75;stroke:#000000;stroke-linejoin:miter;stroke-width:0.070315;\"/>\r\n   </g>\r\n   <g id=\"patch_504\">\r\n    <path clip-path=\"url(#p31ebe19260)\" d=\"M 1975.42045 279 \r\nL 1979.241369 279 \r\nL 1979.241369 279 \r\nL 1975.42045 279 \r\nz\r\n\" style=\"fill:#1f77b4;fill-opacity:0.75;stroke:#000000;stroke-linejoin:miter;stroke-width:0.070315;\"/>\r\n   </g>\r\n   <g id=\"patch_505\">\r\n    <path clip-path=\"url(#p31ebe19260)\" d=\"M 1979.241369 279 \r\nL 1983.062287 279 \r\nL 1983.062287 279 \r\nL 1979.241369 279 \r\nz\r\n\" style=\"fill:#1f77b4;fill-opacity:0.75;stroke:#000000;stroke-linejoin:miter;stroke-width:0.070315;\"/>\r\n   </g>\r\n   <g id=\"patch_506\">\r\n    <path clip-path=\"url(#p31ebe19260)\" d=\"M 1983.062287 279 \r\nL 1986.883206 279 \r\nL 1986.883206 279 \r\nL 1983.062287 279 \r\nz\r\n\" style=\"fill:#1f77b4;fill-opacity:0.75;stroke:#000000;stroke-linejoin:miter;stroke-width:0.070315;\"/>\r\n   </g>\r\n   <g id=\"patch_507\">\r\n    <path clip-path=\"url(#p31ebe19260)\" d=\"M 1986.883206 279 \r\nL 1990.704125 279 \r\nL 1990.704125 278.802851 \r\nL 1986.883206 278.802851 \r\nz\r\n\" style=\"fill:#1f77b4;fill-opacity:0.75;stroke:#000000;stroke-linejoin:miter;stroke-width:0.070315;\"/>\r\n   </g>\r\n   <g id=\"matplotlib.axis_1\">\r\n    <g id=\"xtick_1\">\r\n     <g id=\"line2d_1\">\r\n      <defs>\r\n       <path d=\"M 0 0 \r\nL 0 3.5 \r\n\" id=\"m5a4a499a65\" style=\"stroke:#000000;stroke-width:0.8;\"/>\r\n      </defs>\r\n      <g>\r\n       <use style=\"stroke:#000000;stroke-width:0.8;\" x=\"53.328125\" xlink:href=\"#m5a4a499a65\" y=\"279\"/>\r\n      </g>\r\n     </g>\r\n     <g id=\"text_1\">\r\n      <!-- 0 -->\r\n      <g transform=\"translate(50.146875 293.598437)scale(0.1 -0.1)\">\r\n       <defs>\r\n        <path d=\"M 31.78125 66.40625 \r\nQ 24.171875 66.40625 20.328125 58.90625 \r\nQ 16.5 51.421875 16.5 36.375 \r\nQ 16.5 21.390625 20.328125 13.890625 \r\nQ 24.171875 6.390625 31.78125 6.390625 \r\nQ 39.453125 6.390625 43.28125 13.890625 \r\nQ 47.125 21.390625 47.125 36.375 \r\nQ 47.125 51.421875 43.28125 58.90625 \r\nQ 39.453125 66.40625 31.78125 66.40625 \r\nz\r\nM 31.78125 74.21875 \r\nQ 44.046875 74.21875 50.515625 64.515625 \r\nQ 56.984375 54.828125 56.984375 36.375 \r\nQ 56.984375 17.96875 50.515625 8.265625 \r\nQ 44.046875 -1.421875 31.78125 -1.421875 \r\nQ 19.53125 -1.421875 13.0625 8.265625 \r\nQ 6.59375 17.96875 6.59375 36.375 \r\nQ 6.59375 54.828125 13.0625 64.515625 \r\nQ 19.53125 74.21875 31.78125 74.21875 \r\nz\r\n\" id=\"DejaVuSans-48\"/>\r\n       </defs>\r\n       <use xlink:href=\"#DejaVuSans-48\"/>\r\n      </g>\r\n     </g>\r\n    </g>\r\n    <g id=\"xtick_2\">\r\n     <g id=\"line2d_2\">\r\n      <g>\r\n       <use style=\"stroke:#000000;stroke-width:0.8;\" x=\"131.448125\" xlink:href=\"#m5a4a499a65\" y=\"279\"/>\r\n      </g>\r\n     </g>\r\n     <g id=\"text_2\">\r\n      <!-- 10 -->\r\n      <g transform=\"translate(125.085625 293.598437)scale(0.1 -0.1)\">\r\n       <defs>\r\n        <path d=\"M 12.40625 8.296875 \r\nL 28.515625 8.296875 \r\nL 28.515625 63.921875 \r\nL 10.984375 60.40625 \r\nL 10.984375 69.390625 \r\nL 28.421875 72.90625 \r\nL 38.28125 72.90625 \r\nL 38.28125 8.296875 \r\nL 54.390625 8.296875 \r\nL 54.390625 0 \r\nL 12.40625 0 \r\nz\r\n\" id=\"DejaVuSans-49\"/>\r\n       </defs>\r\n       <use xlink:href=\"#DejaVuSans-49\"/>\r\n       <use x=\"63.623047\" xlink:href=\"#DejaVuSans-48\"/>\r\n      </g>\r\n     </g>\r\n    </g>\r\n    <g id=\"xtick_3\">\r\n     <g id=\"line2d_3\">\r\n      <g>\r\n       <use style=\"stroke:#000000;stroke-width:0.8;\" x=\"209.568125\" xlink:href=\"#m5a4a499a65\" y=\"279\"/>\r\n      </g>\r\n     </g>\r\n     <g id=\"text_3\">\r\n      <!-- 20 -->\r\n      <g transform=\"translate(203.205625 293.598437)scale(0.1 -0.1)\">\r\n       <defs>\r\n        <path d=\"M 19.1875 8.296875 \r\nL 53.609375 8.296875 \r\nL 53.609375 0 \r\nL 7.328125 0 \r\nL 7.328125 8.296875 \r\nQ 12.9375 14.109375 22.625 23.890625 \r\nQ 32.328125 33.6875 34.8125 36.53125 \r\nQ 39.546875 41.84375 41.421875 45.53125 \r\nQ 43.3125 49.21875 43.3125 52.78125 \r\nQ 43.3125 58.59375 39.234375 62.25 \r\nQ 35.15625 65.921875 28.609375 65.921875 \r\nQ 23.96875 65.921875 18.8125 64.3125 \r\nQ 13.671875 62.703125 7.8125 59.421875 \r\nL 7.8125 69.390625 \r\nQ 13.765625 71.78125 18.9375 73 \r\nQ 24.125 74.21875 28.421875 74.21875 \r\nQ 39.75 74.21875 46.484375 68.546875 \r\nQ 53.21875 62.890625 53.21875 53.421875 \r\nQ 53.21875 48.921875 51.53125 44.890625 \r\nQ 49.859375 40.875 45.40625 35.40625 \r\nQ 44.1875 33.984375 37.640625 27.21875 \r\nQ 31.109375 20.453125 19.1875 8.296875 \r\nz\r\n\" id=\"DejaVuSans-50\"/>\r\n       </defs>\r\n       <use xlink:href=\"#DejaVuSans-50\"/>\r\n       <use x=\"63.623047\" xlink:href=\"#DejaVuSans-48\"/>\r\n      </g>\r\n     </g>\r\n    </g>\r\n    <g id=\"xtick_4\">\r\n     <g id=\"line2d_4\">\r\n      <g>\r\n       <use style=\"stroke:#000000;stroke-width:0.8;\" x=\"287.688125\" xlink:href=\"#m5a4a499a65\" y=\"279\"/>\r\n      </g>\r\n     </g>\r\n     <g id=\"text_4\">\r\n      <!-- 30 -->\r\n      <g transform=\"translate(281.325625 293.598437)scale(0.1 -0.1)\">\r\n       <defs>\r\n        <path d=\"M 40.578125 39.3125 \r\nQ 47.65625 37.796875 51.625 33 \r\nQ 55.609375 28.21875 55.609375 21.1875 \r\nQ 55.609375 10.40625 48.1875 4.484375 \r\nQ 40.765625 -1.421875 27.09375 -1.421875 \r\nQ 22.515625 -1.421875 17.65625 -0.515625 \r\nQ 12.796875 0.390625 7.625 2.203125 \r\nL 7.625 11.71875 \r\nQ 11.71875 9.328125 16.59375 8.109375 \r\nQ 21.484375 6.890625 26.8125 6.890625 \r\nQ 36.078125 6.890625 40.9375 10.546875 \r\nQ 45.796875 14.203125 45.796875 21.1875 \r\nQ 45.796875 27.640625 41.28125 31.265625 \r\nQ 36.765625 34.90625 28.71875 34.90625 \r\nL 20.21875 34.90625 \r\nL 20.21875 43.015625 \r\nL 29.109375 43.015625 \r\nQ 36.375 43.015625 40.234375 45.921875 \r\nQ 44.09375 48.828125 44.09375 54.296875 \r\nQ 44.09375 59.90625 40.109375 62.90625 \r\nQ 36.140625 65.921875 28.71875 65.921875 \r\nQ 24.65625 65.921875 20.015625 65.03125 \r\nQ 15.375 64.15625 9.8125 62.3125 \r\nL 9.8125 71.09375 \r\nQ 15.4375 72.65625 20.34375 73.4375 \r\nQ 25.25 74.21875 29.59375 74.21875 \r\nQ 40.828125 74.21875 47.359375 69.109375 \r\nQ 53.90625 64.015625 53.90625 55.328125 \r\nQ 53.90625 49.265625 50.4375 45.09375 \r\nQ 46.96875 40.921875 40.578125 39.3125 \r\nz\r\n\" id=\"DejaVuSans-51\"/>\r\n       </defs>\r\n       <use xlink:href=\"#DejaVuSans-51\"/>\r\n       <use x=\"63.623047\" xlink:href=\"#DejaVuSans-48\"/>\r\n      </g>\r\n     </g>\r\n    </g>\r\n    <g id=\"xtick_5\">\r\n     <g id=\"line2d_5\">\r\n      <g>\r\n       <use style=\"stroke:#000000;stroke-width:0.8;\" x=\"365.808125\" xlink:href=\"#m5a4a499a65\" y=\"279\"/>\r\n      </g>\r\n     </g>\r\n     <g id=\"text_5\">\r\n      <!-- 40 -->\r\n      <g transform=\"translate(359.445625 293.598437)scale(0.1 -0.1)\">\r\n       <defs>\r\n        <path d=\"M 37.796875 64.3125 \r\nL 12.890625 25.390625 \r\nL 37.796875 25.390625 \r\nz\r\nM 35.203125 72.90625 \r\nL 47.609375 72.90625 \r\nL 47.609375 25.390625 \r\nL 58.015625 25.390625 \r\nL 58.015625 17.1875 \r\nL 47.609375 17.1875 \r\nL 47.609375 0 \r\nL 37.796875 0 \r\nL 37.796875 17.1875 \r\nL 4.890625 17.1875 \r\nL 4.890625 26.703125 \r\nz\r\n\" id=\"DejaVuSans-52\"/>\r\n       </defs>\r\n       <use xlink:href=\"#DejaVuSans-52\"/>\r\n       <use x=\"63.623047\" xlink:href=\"#DejaVuSans-48\"/>\r\n      </g>\r\n     </g>\r\n    </g>\r\n    <g id=\"xtick_6\">\r\n     <g id=\"line2d_6\">\r\n      <g>\r\n       <use style=\"stroke:#000000;stroke-width:0.8;\" x=\"443.928125\" xlink:href=\"#m5a4a499a65\" y=\"279\"/>\r\n      </g>\r\n     </g>\r\n     <g id=\"text_6\">\r\n      <!-- 50 -->\r\n      <g transform=\"translate(437.565625 293.598437)scale(0.1 -0.1)\">\r\n       <defs>\r\n        <path d=\"M 10.796875 72.90625 \r\nL 49.515625 72.90625 \r\nL 49.515625 64.59375 \r\nL 19.828125 64.59375 \r\nL 19.828125 46.734375 \r\nQ 21.96875 47.46875 24.109375 47.828125 \r\nQ 26.265625 48.1875 28.421875 48.1875 \r\nQ 40.625 48.1875 47.75 41.5 \r\nQ 54.890625 34.8125 54.890625 23.390625 \r\nQ 54.890625 11.625 47.5625 5.09375 \r\nQ 40.234375 -1.421875 26.90625 -1.421875 \r\nQ 22.3125 -1.421875 17.546875 -0.640625 \r\nQ 12.796875 0.140625 7.71875 1.703125 \r\nL 7.71875 11.625 \r\nQ 12.109375 9.234375 16.796875 8.0625 \r\nQ 21.484375 6.890625 26.703125 6.890625 \r\nQ 35.15625 6.890625 40.078125 11.328125 \r\nQ 45.015625 15.765625 45.015625 23.390625 \r\nQ 45.015625 31 40.078125 35.4375 \r\nQ 35.15625 39.890625 26.703125 39.890625 \r\nQ 22.75 39.890625 18.8125 39.015625 \r\nQ 14.890625 38.140625 10.796875 36.28125 \r\nz\r\n\" id=\"DejaVuSans-53\"/>\r\n       </defs>\r\n       <use xlink:href=\"#DejaVuSans-53\"/>\r\n       <use x=\"63.623047\" xlink:href=\"#DejaVuSans-48\"/>\r\n      </g>\r\n     </g>\r\n    </g>\r\n    <g id=\"text_7\">\r\n     <!-- InvoiceNo -->\r\n     <g transform=\"translate(223.950781 307.276562)scale(0.1 -0.1)\">\r\n      <defs>\r\n       <path d=\"M 9.8125 72.90625 \r\nL 19.671875 72.90625 \r\nL 19.671875 0 \r\nL 9.8125 0 \r\nz\r\n\" id=\"DejaVuSans-73\"/>\r\n       <path d=\"M 54.890625 33.015625 \r\nL 54.890625 0 \r\nL 45.90625 0 \r\nL 45.90625 32.71875 \r\nQ 45.90625 40.484375 42.875 44.328125 \r\nQ 39.84375 48.1875 33.796875 48.1875 \r\nQ 26.515625 48.1875 22.3125 43.546875 \r\nQ 18.109375 38.921875 18.109375 30.90625 \r\nL 18.109375 0 \r\nL 9.078125 0 \r\nL 9.078125 54.6875 \r\nL 18.109375 54.6875 \r\nL 18.109375 46.1875 \r\nQ 21.34375 51.125 25.703125 53.5625 \r\nQ 30.078125 56 35.796875 56 \r\nQ 45.21875 56 50.046875 50.171875 \r\nQ 54.890625 44.34375 54.890625 33.015625 \r\nz\r\n\" id=\"DejaVuSans-110\"/>\r\n       <path d=\"M 2.984375 54.6875 \r\nL 12.5 54.6875 \r\nL 29.59375 8.796875 \r\nL 46.6875 54.6875 \r\nL 56.203125 54.6875 \r\nL 35.6875 0 \r\nL 23.484375 0 \r\nz\r\n\" id=\"DejaVuSans-118\"/>\r\n       <path d=\"M 30.609375 48.390625 \r\nQ 23.390625 48.390625 19.1875 42.75 \r\nQ 14.984375 37.109375 14.984375 27.296875 \r\nQ 14.984375 17.484375 19.15625 11.84375 \r\nQ 23.34375 6.203125 30.609375 6.203125 \r\nQ 37.796875 6.203125 41.984375 11.859375 \r\nQ 46.1875 17.53125 46.1875 27.296875 \r\nQ 46.1875 37.015625 41.984375 42.703125 \r\nQ 37.796875 48.390625 30.609375 48.390625 \r\nz\r\nM 30.609375 56 \r\nQ 42.328125 56 49.015625 48.375 \r\nQ 55.71875 40.765625 55.71875 27.296875 \r\nQ 55.71875 13.875 49.015625 6.21875 \r\nQ 42.328125 -1.421875 30.609375 -1.421875 \r\nQ 18.84375 -1.421875 12.171875 6.21875 \r\nQ 5.515625 13.875 5.515625 27.296875 \r\nQ 5.515625 40.765625 12.171875 48.375 \r\nQ 18.84375 56 30.609375 56 \r\nz\r\n\" id=\"DejaVuSans-111\"/>\r\n       <path d=\"M 9.421875 54.6875 \r\nL 18.40625 54.6875 \r\nL 18.40625 0 \r\nL 9.421875 0 \r\nz\r\nM 9.421875 75.984375 \r\nL 18.40625 75.984375 \r\nL 18.40625 64.59375 \r\nL 9.421875 64.59375 \r\nz\r\n\" id=\"DejaVuSans-105\"/>\r\n       <path d=\"M 48.78125 52.59375 \r\nL 48.78125 44.1875 \r\nQ 44.96875 46.296875 41.140625 47.34375 \r\nQ 37.3125 48.390625 33.40625 48.390625 \r\nQ 24.65625 48.390625 19.8125 42.84375 \r\nQ 14.984375 37.3125 14.984375 27.296875 \r\nQ 14.984375 17.28125 19.8125 11.734375 \r\nQ 24.65625 6.203125 33.40625 6.203125 \r\nQ 37.3125 6.203125 41.140625 7.25 \r\nQ 44.96875 8.296875 48.78125 10.40625 \r\nL 48.78125 2.09375 \r\nQ 45.015625 0.34375 40.984375 -0.53125 \r\nQ 36.96875 -1.421875 32.421875 -1.421875 \r\nQ 20.0625 -1.421875 12.78125 6.34375 \r\nQ 5.515625 14.109375 5.515625 27.296875 \r\nQ 5.515625 40.671875 12.859375 48.328125 \r\nQ 20.21875 56 33.015625 56 \r\nQ 37.15625 56 41.109375 55.140625 \r\nQ 45.0625 54.296875 48.78125 52.59375 \r\nz\r\n\" id=\"DejaVuSans-99\"/>\r\n       <path d=\"M 56.203125 29.59375 \r\nL 56.203125 25.203125 \r\nL 14.890625 25.203125 \r\nQ 15.484375 15.921875 20.484375 11.0625 \r\nQ 25.484375 6.203125 34.421875 6.203125 \r\nQ 39.59375 6.203125 44.453125 7.46875 \r\nQ 49.3125 8.734375 54.109375 11.28125 \r\nL 54.109375 2.78125 \r\nQ 49.265625 0.734375 44.1875 -0.34375 \r\nQ 39.109375 -1.421875 33.890625 -1.421875 \r\nQ 20.796875 -1.421875 13.15625 6.1875 \r\nQ 5.515625 13.8125 5.515625 26.8125 \r\nQ 5.515625 40.234375 12.765625 48.109375 \r\nQ 20.015625 56 32.328125 56 \r\nQ 43.359375 56 49.78125 48.890625 \r\nQ 56.203125 41.796875 56.203125 29.59375 \r\nz\r\nM 47.21875 32.234375 \r\nQ 47.125 39.59375 43.09375 43.984375 \r\nQ 39.0625 48.390625 32.421875 48.390625 \r\nQ 24.90625 48.390625 20.390625 44.140625 \r\nQ 15.875 39.890625 15.1875 32.171875 \r\nz\r\n\" id=\"DejaVuSans-101\"/>\r\n       <path d=\"M 9.8125 72.90625 \r\nL 23.09375 72.90625 \r\nL 55.421875 11.921875 \r\nL 55.421875 72.90625 \r\nL 64.984375 72.90625 \r\nL 64.984375 0 \r\nL 51.703125 0 \r\nL 19.390625 60.984375 \r\nL 19.390625 0 \r\nL 9.8125 0 \r\nz\r\n\" id=\"DejaVuSans-78\"/>\r\n      </defs>\r\n      <use xlink:href=\"#DejaVuSans-73\"/>\r\n      <use x=\"29.492188\" xlink:href=\"#DejaVuSans-110\"/>\r\n      <use x=\"92.871094\" xlink:href=\"#DejaVuSans-118\"/>\r\n      <use x=\"152.050781\" xlink:href=\"#DejaVuSans-111\"/>\r\n      <use x=\"213.232422\" xlink:href=\"#DejaVuSans-105\"/>\r\n      <use x=\"241.015625\" xlink:href=\"#DejaVuSans-99\"/>\r\n      <use x=\"295.996094\" xlink:href=\"#DejaVuSans-101\"/>\r\n      <use x=\"357.519531\" xlink:href=\"#DejaVuSans-78\"/>\r\n      <use x=\"432.324219\" xlink:href=\"#DejaVuSans-111\"/>\r\n     </g>\r\n    </g>\r\n   </g>\r\n   <g id=\"matplotlib.axis_2\">\r\n    <g id=\"ytick_1\">\r\n     <g id=\"line2d_7\">\r\n      <defs>\r\n       <path d=\"M 0 0 \r\nL -3.5 0 \r\n\" id=\"m9cb09635dd\" style=\"stroke:#000000;stroke-width:0.8;\"/>\r\n      </defs>\r\n      <g>\r\n       <use style=\"stroke:#000000;stroke-width:0.8;\" x=\"53.328125\" xlink:href=\"#m9cb09635dd\" y=\"279\"/>\r\n      </g>\r\n     </g>\r\n     <g id=\"text_8\">\r\n      <!-- 0 -->\r\n      <g transform=\"translate(39.965625 282.799219)scale(0.1 -0.1)\">\r\n       <use xlink:href=\"#DejaVuSans-48\"/>\r\n      </g>\r\n     </g>\r\n    </g>\r\n    <g id=\"ytick_2\">\r\n     <g id=\"line2d_8\">\r\n      <g>\r\n       <use style=\"stroke:#000000;stroke-width:0.8;\" x=\"53.328125\" xlink:href=\"#m9cb09635dd\" y=\"239.570123\"/>\r\n      </g>\r\n     </g>\r\n     <g id=\"text_9\">\r\n      <!-- 200 -->\r\n      <g transform=\"translate(27.240625 243.369342)scale(0.1 -0.1)\">\r\n       <use xlink:href=\"#DejaVuSans-50\"/>\r\n       <use x=\"63.623047\" xlink:href=\"#DejaVuSans-48\"/>\r\n       <use x=\"127.246094\" xlink:href=\"#DejaVuSans-48\"/>\r\n      </g>\r\n     </g>\r\n    </g>\r\n    <g id=\"ytick_3\">\r\n     <g id=\"line2d_9\">\r\n      <g>\r\n       <use style=\"stroke:#000000;stroke-width:0.8;\" x=\"53.328125\" xlink:href=\"#m9cb09635dd\" y=\"200.140246\"/>\r\n      </g>\r\n     </g>\r\n     <g id=\"text_10\">\r\n      <!-- 400 -->\r\n      <g transform=\"translate(27.240625 203.939465)scale(0.1 -0.1)\">\r\n       <use xlink:href=\"#DejaVuSans-52\"/>\r\n       <use x=\"63.623047\" xlink:href=\"#DejaVuSans-48\"/>\r\n       <use x=\"127.246094\" xlink:href=\"#DejaVuSans-48\"/>\r\n      </g>\r\n     </g>\r\n    </g>\r\n    <g id=\"ytick_4\">\r\n     <g id=\"line2d_10\">\r\n      <g>\r\n       <use style=\"stroke:#000000;stroke-width:0.8;\" x=\"53.328125\" xlink:href=\"#m9cb09635dd\" y=\"160.710369\"/>\r\n      </g>\r\n     </g>\r\n     <g id=\"text_11\">\r\n      <!-- 600 -->\r\n      <g transform=\"translate(27.240625 164.509588)scale(0.1 -0.1)\">\r\n       <defs>\r\n        <path d=\"M 33.015625 40.375 \r\nQ 26.375 40.375 22.484375 35.828125 \r\nQ 18.609375 31.296875 18.609375 23.390625 \r\nQ 18.609375 15.53125 22.484375 10.953125 \r\nQ 26.375 6.390625 33.015625 6.390625 \r\nQ 39.65625 6.390625 43.53125 10.953125 \r\nQ 47.40625 15.53125 47.40625 23.390625 \r\nQ 47.40625 31.296875 43.53125 35.828125 \r\nQ 39.65625 40.375 33.015625 40.375 \r\nz\r\nM 52.59375 71.296875 \r\nL 52.59375 62.3125 \r\nQ 48.875 64.0625 45.09375 64.984375 \r\nQ 41.3125 65.921875 37.59375 65.921875 \r\nQ 27.828125 65.921875 22.671875 59.328125 \r\nQ 17.53125 52.734375 16.796875 39.40625 \r\nQ 19.671875 43.65625 24.015625 45.921875 \r\nQ 28.375 48.1875 33.59375 48.1875 \r\nQ 44.578125 48.1875 50.953125 41.515625 \r\nQ 57.328125 34.859375 57.328125 23.390625 \r\nQ 57.328125 12.15625 50.6875 5.359375 \r\nQ 44.046875 -1.421875 33.015625 -1.421875 \r\nQ 20.359375 -1.421875 13.671875 8.265625 \r\nQ 6.984375 17.96875 6.984375 36.375 \r\nQ 6.984375 53.65625 15.1875 63.9375 \r\nQ 23.390625 74.21875 37.203125 74.21875 \r\nQ 40.921875 74.21875 44.703125 73.484375 \r\nQ 48.484375 72.75 52.59375 71.296875 \r\nz\r\n\" id=\"DejaVuSans-54\"/>\r\n       </defs>\r\n       <use xlink:href=\"#DejaVuSans-54\"/>\r\n       <use x=\"63.623047\" xlink:href=\"#DejaVuSans-48\"/>\r\n       <use x=\"127.246094\" xlink:href=\"#DejaVuSans-48\"/>\r\n      </g>\r\n     </g>\r\n    </g>\r\n    <g id=\"ytick_5\">\r\n     <g id=\"line2d_11\">\r\n      <g>\r\n       <use style=\"stroke:#000000;stroke-width:0.8;\" x=\"53.328125\" xlink:href=\"#m9cb09635dd\" y=\"121.280492\"/>\r\n      </g>\r\n     </g>\r\n     <g id=\"text_12\">\r\n      <!-- 800 -->\r\n      <g transform=\"translate(27.240625 125.079711)scale(0.1 -0.1)\">\r\n       <defs>\r\n        <path d=\"M 31.78125 34.625 \r\nQ 24.75 34.625 20.71875 30.859375 \r\nQ 16.703125 27.09375 16.703125 20.515625 \r\nQ 16.703125 13.921875 20.71875 10.15625 \r\nQ 24.75 6.390625 31.78125 6.390625 \r\nQ 38.8125 6.390625 42.859375 10.171875 \r\nQ 46.921875 13.96875 46.921875 20.515625 \r\nQ 46.921875 27.09375 42.890625 30.859375 \r\nQ 38.875 34.625 31.78125 34.625 \r\nz\r\nM 21.921875 38.8125 \r\nQ 15.578125 40.375 12.03125 44.71875 \r\nQ 8.5 49.078125 8.5 55.328125 \r\nQ 8.5 64.0625 14.71875 69.140625 \r\nQ 20.953125 74.21875 31.78125 74.21875 \r\nQ 42.671875 74.21875 48.875 69.140625 \r\nQ 55.078125 64.0625 55.078125 55.328125 \r\nQ 55.078125 49.078125 51.53125 44.71875 \r\nQ 48 40.375 41.703125 38.8125 \r\nQ 48.828125 37.15625 52.796875 32.3125 \r\nQ 56.78125 27.484375 56.78125 20.515625 \r\nQ 56.78125 9.90625 50.3125 4.234375 \r\nQ 43.84375 -1.421875 31.78125 -1.421875 \r\nQ 19.734375 -1.421875 13.25 4.234375 \r\nQ 6.78125 9.90625 6.78125 20.515625 \r\nQ 6.78125 27.484375 10.78125 32.3125 \r\nQ 14.796875 37.15625 21.921875 38.8125 \r\nz\r\nM 18.3125 54.390625 \r\nQ 18.3125 48.734375 21.84375 45.5625 \r\nQ 25.390625 42.390625 31.78125 42.390625 \r\nQ 38.140625 42.390625 41.71875 45.5625 \r\nQ 45.3125 48.734375 45.3125 54.390625 \r\nQ 45.3125 60.0625 41.71875 63.234375 \r\nQ 38.140625 66.40625 31.78125 66.40625 \r\nQ 25.390625 66.40625 21.84375 63.234375 \r\nQ 18.3125 60.0625 18.3125 54.390625 \r\nz\r\n\" id=\"DejaVuSans-56\"/>\r\n       </defs>\r\n       <use xlink:href=\"#DejaVuSans-56\"/>\r\n       <use x=\"63.623047\" xlink:href=\"#DejaVuSans-48\"/>\r\n       <use x=\"127.246094\" xlink:href=\"#DejaVuSans-48\"/>\r\n      </g>\r\n     </g>\r\n    </g>\r\n    <g id=\"ytick_6\">\r\n     <g id=\"line2d_12\">\r\n      <g>\r\n       <use style=\"stroke:#000000;stroke-width:0.8;\" x=\"53.328125\" xlink:href=\"#m9cb09635dd\" y=\"81.850615\"/>\r\n      </g>\r\n     </g>\r\n     <g id=\"text_13\">\r\n      <!-- 1000 -->\r\n      <g transform=\"translate(20.878125 85.649833)scale(0.1 -0.1)\">\r\n       <use xlink:href=\"#DejaVuSans-49\"/>\r\n       <use x=\"63.623047\" xlink:href=\"#DejaVuSans-48\"/>\r\n       <use x=\"127.246094\" xlink:href=\"#DejaVuSans-48\"/>\r\n       <use x=\"190.869141\" xlink:href=\"#DejaVuSans-48\"/>\r\n      </g>\r\n     </g>\r\n    </g>\r\n    <g id=\"ytick_7\">\r\n     <g id=\"line2d_13\">\r\n      <g>\r\n       <use style=\"stroke:#000000;stroke-width:0.8;\" x=\"53.328125\" xlink:href=\"#m9cb09635dd\" y=\"42.420738\"/>\r\n      </g>\r\n     </g>\r\n     <g id=\"text_14\">\r\n      <!-- 1200 -->\r\n      <g transform=\"translate(20.878125 46.219956)scale(0.1 -0.1)\">\r\n       <use xlink:href=\"#DejaVuSans-49\"/>\r\n       <use x=\"63.623047\" xlink:href=\"#DejaVuSans-50\"/>\r\n       <use x=\"127.246094\" xlink:href=\"#DejaVuSans-48\"/>\r\n       <use x=\"190.869141\" xlink:href=\"#DejaVuSans-48\"/>\r\n      </g>\r\n     </g>\r\n    </g>\r\n    <g id=\"text_15\">\r\n     <!-- Count -->\r\n     <g transform=\"translate(14.798438 157.948437)rotate(-90)scale(0.1 -0.1)\">\r\n      <defs>\r\n       <path d=\"M 64.40625 67.28125 \r\nL 64.40625 56.890625 \r\nQ 59.421875 61.53125 53.78125 63.8125 \r\nQ 48.140625 66.109375 41.796875 66.109375 \r\nQ 29.296875 66.109375 22.65625 58.46875 \r\nQ 16.015625 50.828125 16.015625 36.375 \r\nQ 16.015625 21.96875 22.65625 14.328125 \r\nQ 29.296875 6.6875 41.796875 6.6875 \r\nQ 48.140625 6.6875 53.78125 8.984375 \r\nQ 59.421875 11.28125 64.40625 15.921875 \r\nL 64.40625 5.609375 \r\nQ 59.234375 2.09375 53.4375 0.328125 \r\nQ 47.65625 -1.421875 41.21875 -1.421875 \r\nQ 24.65625 -1.421875 15.125 8.703125 \r\nQ 5.609375 18.84375 5.609375 36.375 \r\nQ 5.609375 53.953125 15.125 64.078125 \r\nQ 24.65625 74.21875 41.21875 74.21875 \r\nQ 47.75 74.21875 53.53125 72.484375 \r\nQ 59.328125 70.75 64.40625 67.28125 \r\nz\r\n\" id=\"DejaVuSans-67\"/>\r\n       <path d=\"M 8.5 21.578125 \r\nL 8.5 54.6875 \r\nL 17.484375 54.6875 \r\nL 17.484375 21.921875 \r\nQ 17.484375 14.15625 20.5 10.265625 \r\nQ 23.53125 6.390625 29.59375 6.390625 \r\nQ 36.859375 6.390625 41.078125 11.03125 \r\nQ 45.3125 15.671875 45.3125 23.6875 \r\nL 45.3125 54.6875 \r\nL 54.296875 54.6875 \r\nL 54.296875 0 \r\nL 45.3125 0 \r\nL 45.3125 8.40625 \r\nQ 42.046875 3.421875 37.71875 1 \r\nQ 33.40625 -1.421875 27.6875 -1.421875 \r\nQ 18.265625 -1.421875 13.375 4.4375 \r\nQ 8.5 10.296875 8.5 21.578125 \r\nz\r\nM 31.109375 56 \r\nz\r\n\" id=\"DejaVuSans-117\"/>\r\n       <path d=\"M 18.3125 70.21875 \r\nL 18.3125 54.6875 \r\nL 36.8125 54.6875 \r\nL 36.8125 47.703125 \r\nL 18.3125 47.703125 \r\nL 18.3125 18.015625 \r\nQ 18.3125 11.328125 20.140625 9.421875 \r\nQ 21.96875 7.515625 27.59375 7.515625 \r\nL 36.8125 7.515625 \r\nL 36.8125 0 \r\nL 27.59375 0 \r\nQ 17.1875 0 13.234375 3.875 \r\nQ 9.28125 7.765625 9.28125 18.015625 \r\nL 9.28125 47.703125 \r\nL 2.6875 47.703125 \r\nL 2.6875 54.6875 \r\nL 9.28125 54.6875 \r\nL 9.28125 70.21875 \r\nz\r\n\" id=\"DejaVuSans-116\"/>\r\n      </defs>\r\n      <use xlink:href=\"#DejaVuSans-67\"/>\r\n      <use x=\"69.824219\" xlink:href=\"#DejaVuSans-111\"/>\r\n      <use x=\"131.005859\" xlink:href=\"#DejaVuSans-117\"/>\r\n      <use x=\"194.384766\" xlink:href=\"#DejaVuSans-110\"/>\r\n      <use x=\"257.763672\" xlink:href=\"#DejaVuSans-116\"/>\r\n     </g>\r\n    </g>\r\n   </g>\r\n   <g id=\"patch_508\">\r\n    <path d=\"M 53.328125 279 \r\nL 53.328125 7.2 \r\n\" style=\"fill:none;stroke:#000000;stroke-linecap:square;stroke-linejoin:miter;stroke-width:0.8;\"/>\r\n   </g>\r\n   <g id=\"patch_509\">\r\n    <path d=\"M 443.928125 279 \r\nL 443.928125 7.2 \r\n\" style=\"fill:none;stroke:#000000;stroke-linecap:square;stroke-linejoin:miter;stroke-width:0.8;\"/>\r\n   </g>\r\n   <g id=\"patch_510\">\r\n    <path d=\"M 53.328125 279 \r\nL 443.928125 279 \r\n\" style=\"fill:none;stroke:#000000;stroke-linecap:square;stroke-linejoin:miter;stroke-width:0.8;\"/>\r\n   </g>\r\n   <g id=\"patch_511\">\r\n    <path d=\"M 53.328125 7.2 \r\nL 443.928125 7.2 \r\n\" style=\"fill:none;stroke:#000000;stroke-linecap:square;stroke-linejoin:miter;stroke-width:0.8;\"/>\r\n   </g>\r\n  </g>\r\n </g>\r\n <defs>\r\n  <clipPath id=\"p31ebe19260\">\r\n   <rect height=\"271.8\" width=\"390.6\" x=\"53.328125\" y=\"7.2\"/>\r\n  </clipPath>\r\n </defs>\r\n</svg>\r\n",
            "image/png": "[encoded data removed]"
          },
          "metadata": {
            "needs_background": "light"
          }
        }
      ],
      "metadata": {}
    },
    {
      "cell_type": "markdown",
      "source": [
        "2. What's the average number of unqiue items per order or per customer?"
      ],
      "metadata": {
        "id": "di03OKjzQGWE"
      }
    },
    {
      "cell_type": "code",
      "execution_count": 35,
      "source": [
        "df.groupby(['CustomerID', 'InvoiceNo'])['StockCode'].nunique().sort_values(ascending=False)"
      ],
      "outputs": [
        {
          "output_type": "execute_result",
          "data": {
            "text/plain": [
              "CustomerID  InvoiceNo\n",
              "14096       576339       541\n",
              "            579196       529\n",
              "            580727       525\n",
              "            578270       439\n",
              "            573576       434\n",
              "                        ... \n",
              "14745       C545673        1\n",
              "            560871         1\n",
              "14744       C545520        1\n",
              "            C544590        1\n",
              "12346       541431         1\n",
              "Name: StockCode, Length: 22190, dtype: int64"
            ]
          },
          "metadata": {},
          "execution_count": 35
        }
      ],
      "metadata": {
        "id": "V4LxkeIIiqa7"
      }
    },
    {
      "cell_type": "code",
      "execution_count": 36,
      "source": [
        "df.groupby(['CustomerID', 'InvoiceNo'])['StockCode'].nunique().mean()"
      ],
      "outputs": [
        {
          "output_type": "execute_result",
          "data": {
            "text/plain": [
              "17.87656602073006"
            ]
          },
          "metadata": {},
          "execution_count": 36
        }
      ],
      "metadata": {}
    },
    {
      "cell_type": "markdown",
      "source": [
        "3. Let's see how this compares to the number of unique products per customer."
      ],
      "metadata": {
        "id": "HUKzA73dQGWH"
      }
    },
    {
      "cell_type": "code",
      "execution_count": 37,
      "source": [
        "df.Description.unique()"
      ],
      "outputs": [
        {
          "output_type": "execute_result",
          "data": {
            "text/plain": [
              "array(['WHITE HANGING HEART T-LIGHT HOLDER', 'WHITE METAL LANTERN',\n",
              "       'CREAM CUPID HEARTS COAT HANGER', ...,\n",
              "       'PINK CRYSTAL SKULL PHONE CHARM',\n",
              "       'CREAM HANGING HEART T-LIGHT HOLDER',\n",
              "       'PAPER CRAFT , LITTLE BIRDIE'], dtype=object)"
            ]
          },
          "metadata": {},
          "execution_count": 37
        }
      ],
      "metadata": {}
    },
    {
      "cell_type": "code",
      "execution_count": 38,
      "source": [
        "df.Description.nunique()"
      ],
      "outputs": [
        {
          "output_type": "execute_result",
          "data": {
            "text/plain": [
              "3896"
            ]
          },
          "metadata": {},
          "execution_count": 38
        }
      ],
      "metadata": {}
    },
    {
      "cell_type": "code",
      "execution_count": 39,
      "source": [
        "df.groupby(\"CustomerID\")[\"Description\"].nunique()"
      ],
      "outputs": [
        {
          "output_type": "execute_result",
          "data": {
            "text/plain": [
              "CustomerID\n",
              "12346      1\n",
              "12347    103\n",
              "12348     22\n",
              "12349     73\n",
              "12350     17\n",
              "        ... \n",
              "18280     10\n",
              "18281      7\n",
              "18282     12\n",
              "18283    272\n",
              "18287     59\n",
              "Name: Description, Length: 4372, dtype: int64"
            ]
          },
          "metadata": {},
          "execution_count": 39
        }
      ],
      "metadata": {
        "id": "b8uzjYyKiqa7"
      }
    },
    {
      "cell_type": "code",
      "execution_count": 40,
      "source": [
        "plt.figure(figsize=(7,5))\r\n",
        "sns.histplot(df.groupby(\"CustomerID\")[\"Description\"].nunique())\r\n",
        "plt.xlim(0,500);"
      ],
      "outputs": [
        {
          "output_type": "display_data",
          "data": {
            "text/plain": [
              "<Figure size 504x360 with 1 Axes>"
            ],
            "image/svg+xml": "<?xml version=\"1.0\" encoding=\"utf-8\" standalone=\"no\"?>\r\n<!DOCTYPE svg PUBLIC \"-//W3C//DTD SVG 1.1//EN\"\r\n  \"http://www.w3.org/Graphics/SVG/1.1/DTD/svg11.dtd\">\r\n<!-- Created with matplotlib (https://matplotlib.org/) -->\r\n<svg height=\"316.55625pt\" version=\"1.1\" viewBox=\"0 0 454.309375 316.55625\" width=\"454.309375pt\" xmlns=\"http://www.w3.org/2000/svg\" xmlns:xlink=\"http://www.w3.org/1999/xlink\">\r\n <metadata>\r\n  <rdf:RDF xmlns:cc=\"http://creativecommons.org/ns#\" xmlns:dc=\"http://purl.org/dc/elements/1.1/\" xmlns:rdf=\"http://www.w3.org/1999/02/22-rdf-syntax-ns#\">\r\n   <cc:Work>\r\n    <dc:type rdf:resource=\"http://purl.org/dc/dcmitype/StillImage\"/>\r\n    <dc:date>2021-08-24T10:10:33.110531</dc:date>\r\n    <dc:format>image/svg+xml</dc:format>\r\n    <dc:creator>\r\n     <cc:Agent>\r\n      <dc:title>Matplotlib v3.3.4, https://matplotlib.org/</dc:title>\r\n     </cc:Agent>\r\n    </dc:creator>\r\n   </cc:Work>\r\n  </rdf:RDF>\r\n </metadata>\r\n <defs>\r\n  <style type=\"text/css\">*{stroke-linecap:butt;stroke-linejoin:round;}</style>\r\n </defs>\r\n <g id=\"figure_1\">\r\n  <g id=\"patch_1\">\r\n   <path d=\"M 0 316.55625 \r\nL 454.309375 316.55625 \r\nL 454.309375 0 \r\nL 0 0 \r\nz\r\n\" style=\"fill:none;\"/>\r\n  </g>\r\n  <g id=\"axes_1\">\r\n   <g id=\"patch_2\">\r\n    <path d=\"M 46.965625 279 \r\nL 437.565625 279 \r\nL 437.565625 7.2 \r\nL 46.965625 7.2 \r\nz\r\n\" style=\"fill:#ffffff;\"/>\r\n   </g>\r\n   <g id=\"patch_3\">\r\n    <path clip-path=\"url(#p29e3c64f05)\" d=\"M 47.746825 279 \r\nL 53.656068 279 \r\nL 53.656068 20.142857 \r\nL 47.746825 20.142857 \r\nz\r\n\" style=\"fill:#1f77b4;fill-opacity:0.75;stroke:#000000;stroke-linejoin:miter;stroke-width:0.147341;\"/>\r\n   </g>\r\n   <g id=\"patch_4\">\r\n    <path clip-path=\"url(#p29e3c64f05)\" d=\"M 53.656068 279 \r\nL 59.565311 279 \r\nL 59.565311 25.452747 \r\nL 53.656068 25.452747 \r\nz\r\n\" style=\"fill:#1f77b4;fill-opacity:0.75;stroke:#000000;stroke-linejoin:miter;stroke-width:0.147341;\"/>\r\n   </g>\r\n   <g id=\"patch_5\">\r\n    <path clip-path=\"url(#p29e3c64f05)\" d=\"M 59.565311 279 \r\nL 65.474554 279 \r\nL 65.474554 90.05641 \r\nL 59.565311 90.05641 \r\nz\r\n\" style=\"fill:#1f77b4;fill-opacity:0.75;stroke:#000000;stroke-linejoin:miter;stroke-width:0.147341;\"/>\r\n   </g>\r\n   <g id=\"patch_6\">\r\n    <path clip-path=\"url(#p29e3c64f05)\" d=\"M 65.474554 279 \r\nL 71.383798 279 \r\nL 71.383798 77.666667 \r\nL 65.474554 77.666667 \r\nz\r\n\" style=\"fill:#1f77b4;fill-opacity:0.75;stroke:#000000;stroke-linejoin:miter;stroke-width:0.147341;\"/>\r\n   </g>\r\n   <g id=\"patch_7\">\r\n    <path clip-path=\"url(#p29e3c64f05)\" d=\"M 71.383798 279 \r\nL 77.293041 279 \r\nL 77.293041 157.757509 \r\nL 71.383798 157.757509 \r\nz\r\n\" style=\"fill:#1f77b4;fill-opacity:0.75;stroke:#000000;stroke-linejoin:miter;stroke-width:0.147341;\"/>\r\n   </g>\r\n   <g id=\"patch_8\">\r\n    <path clip-path=\"url(#p29e3c64f05)\" d=\"M 77.293041 279 \r\nL 83.202284 279 \r\nL 83.202284 167.934799 \r\nL 77.293041 167.934799 \r\nz\r\n\" style=\"fill:#1f77b4;fill-opacity:0.75;stroke:#000000;stroke-linejoin:miter;stroke-width:0.147341;\"/>\r\n   </g>\r\n   <g id=\"patch_9\">\r\n    <path clip-path=\"url(#p29e3c64f05)\" d=\"M 83.202284 279 \r\nL 89.111527 279 \r\nL 89.111527 183.421978 \r\nL 83.202284 183.421978 \r\nz\r\n\" style=\"fill:#1f77b4;fill-opacity:0.75;stroke:#000000;stroke-linejoin:miter;stroke-width:0.147341;\"/>\r\n   </g>\r\n   <g id=\"patch_10\">\r\n    <path clip-path=\"url(#p29e3c64f05)\" d=\"M 89.111527 279 \r\nL 95.02077 279 \r\nL 95.02077 190.944322 \r\nL 89.111527 190.944322 \r\nz\r\n\" style=\"fill:#1f77b4;fill-opacity:0.75;stroke:#000000;stroke-linejoin:miter;stroke-width:0.147341;\"/>\r\n   </g>\r\n   <g id=\"patch_11\">\r\n    <path clip-path=\"url(#p29e3c64f05)\" d=\"M 95.02077 279 \r\nL 100.930013 279 \r\nL 100.930013 207.758974 \r\nL 95.02077 207.758974 \r\nz\r\n\" style=\"fill:#1f77b4;fill-opacity:0.75;stroke:#000000;stroke-linejoin:miter;stroke-width:0.147341;\"/>\r\n   </g>\r\n   <g id=\"patch_12\">\r\n    <path clip-path=\"url(#p29e3c64f05)\" d=\"M 100.930013 279 \r\nL 106.839257 279 \r\nL 106.839257 224.573626 \r\nL 100.930013 224.573626 \r\nz\r\n\" style=\"fill:#1f77b4;fill-opacity:0.75;stroke:#000000;stroke-linejoin:miter;stroke-width:0.147341;\"/>\r\n   </g>\r\n   <g id=\"patch_13\">\r\n    <path clip-path=\"url(#p29e3c64f05)\" d=\"M 106.839257 279 \r\nL 112.7485 279 \r\nL 112.7485 228.113553 \r\nL 106.839257 228.113553 \r\nz\r\n\" style=\"fill:#1f77b4;fill-opacity:0.75;stroke:#000000;stroke-linejoin:miter;stroke-width:0.147341;\"/>\r\n   </g>\r\n   <g id=\"patch_14\">\r\n    <path clip-path=\"url(#p29e3c64f05)\" d=\"M 112.7485 279 \r\nL 118.657743 279 \r\nL 118.657743 232.538462 \r\nL 112.7485 232.538462 \r\nz\r\n\" style=\"fill:#1f77b4;fill-opacity:0.75;stroke:#000000;stroke-linejoin:miter;stroke-width:0.147341;\"/>\r\n   </g>\r\n   <g id=\"patch_15\">\r\n    <path clip-path=\"url(#p29e3c64f05)\" d=\"M 118.657743 279 \r\nL 124.566986 279 \r\nL 124.566986 237.405861 \r\nL 118.657743 237.405861 \r\nz\r\n\" style=\"fill:#1f77b4;fill-opacity:0.75;stroke:#000000;stroke-linejoin:miter;stroke-width:0.147341;\"/>\r\n   </g>\r\n   <g id=\"patch_16\">\r\n    <path clip-path=\"url(#p29e3c64f05)\" d=\"M 124.566986 279 \r\nL 130.476229 279 \r\nL 130.476229 241.388278 \r\nL 124.566986 241.388278 \r\nz\r\n\" style=\"fill:#1f77b4;fill-opacity:0.75;stroke:#000000;stroke-linejoin:miter;stroke-width:0.147341;\"/>\r\n   </g>\r\n   <g id=\"patch_17\">\r\n    <path clip-path=\"url(#p29e3c64f05)\" d=\"M 130.476229 279 \r\nL 136.385472 279 \r\nL 136.385472 243.158242 \r\nL 130.476229 243.158242 \r\nz\r\n\" style=\"fill:#1f77b4;fill-opacity:0.75;stroke:#000000;stroke-linejoin:miter;stroke-width:0.147341;\"/>\r\n   </g>\r\n   <g id=\"patch_18\">\r\n    <path clip-path=\"url(#p29e3c64f05)\" d=\"M 136.385472 279 \r\nL 142.294715 279 \r\nL 142.294715 249.795604 \r\nL 136.385472 249.795604 \r\nz\r\n\" style=\"fill:#1f77b4;fill-opacity:0.75;stroke:#000000;stroke-linejoin:miter;stroke-width:0.147341;\"/>\r\n   </g>\r\n   <g id=\"patch_19\">\r\n    <path clip-path=\"url(#p29e3c64f05)\" d=\"M 142.294715 279 \r\nL 148.203959 279 \r\nL 148.203959 253.778022 \r\nL 142.294715 253.778022 \r\nz\r\n\" style=\"fill:#1f77b4;fill-opacity:0.75;stroke:#000000;stroke-linejoin:miter;stroke-width:0.147341;\"/>\r\n   </g>\r\n   <g id=\"patch_20\">\r\n    <path clip-path=\"url(#p29e3c64f05)\" d=\"M 148.203959 279 \r\nL 154.113202 279 \r\nL 154.113202 263.512821 \r\nL 148.203959 263.512821 \r\nz\r\n\" style=\"fill:#1f77b4;fill-opacity:0.75;stroke:#000000;stroke-linejoin:miter;stroke-width:0.147341;\"/>\r\n   </g>\r\n   <g id=\"patch_21\">\r\n    <path clip-path=\"url(#p29e3c64f05)\" d=\"M 154.113202 279 \r\nL 160.022445 279 \r\nL 160.022445 260.415385 \r\nL 154.113202 260.415385 \r\nz\r\n\" style=\"fill:#1f77b4;fill-opacity:0.75;stroke:#000000;stroke-linejoin:miter;stroke-width:0.147341;\"/>\r\n   </g>\r\n   <g id=\"patch_22\">\r\n    <path clip-path=\"url(#p29e3c64f05)\" d=\"M 160.022445 279 \r\nL 165.931688 279 \r\nL 165.931688 260.415385 \r\nL 160.022445 260.415385 \r\nz\r\n\" style=\"fill:#1f77b4;fill-opacity:0.75;stroke:#000000;stroke-linejoin:miter;stroke-width:0.147341;\"/>\r\n   </g>\r\n   <g id=\"patch_23\">\r\n    <path clip-path=\"url(#p29e3c64f05)\" d=\"M 165.931688 279 \r\nL 171.840931 279 \r\nL 171.840931 264.397802 \r\nL 165.931688 264.397802 \r\nz\r\n\" style=\"fill:#1f77b4;fill-opacity:0.75;stroke:#000000;stroke-linejoin:miter;stroke-width:0.147341;\"/>\r\n   </g>\r\n   <g id=\"patch_24\">\r\n    <path clip-path=\"url(#p29e3c64f05)\" d=\"M 171.840931 279 \r\nL 177.750174 279 \r\nL 177.750174 262.627839 \r\nL 171.840931 262.627839 \r\nz\r\n\" style=\"fill:#1f77b4;fill-opacity:0.75;stroke:#000000;stroke-linejoin:miter;stroke-width:0.147341;\"/>\r\n   </g>\r\n   <g id=\"patch_25\">\r\n    <path clip-path=\"url(#p29e3c64f05)\" d=\"M 177.750174 279 \r\nL 183.659418 279 \r\nL 183.659418 270.592674 \r\nL 177.750174 270.592674 \r\nz\r\n\" style=\"fill:#1f77b4;fill-opacity:0.75;stroke:#000000;stroke-linejoin:miter;stroke-width:0.147341;\"/>\r\n   </g>\r\n   <g id=\"patch_26\">\r\n    <path clip-path=\"url(#p29e3c64f05)\" d=\"M 183.659418 279 \r\nL 189.568661 279 \r\nL 189.568661 267.937729 \r\nL 183.659418 267.937729 \r\nz\r\n\" style=\"fill:#1f77b4;fill-opacity:0.75;stroke:#000000;stroke-linejoin:miter;stroke-width:0.147341;\"/>\r\n   </g>\r\n   <g id=\"patch_27\">\r\n    <path clip-path=\"url(#p29e3c64f05)\" d=\"M 189.568661 279 \r\nL 195.477904 279 \r\nL 195.477904 268.38022 \r\nL 189.568661 268.38022 \r\nz\r\n\" style=\"fill:#1f77b4;fill-opacity:0.75;stroke:#000000;stroke-linejoin:miter;stroke-width:0.147341;\"/>\r\n   </g>\r\n   <g id=\"patch_28\">\r\n    <path clip-path=\"url(#p29e3c64f05)\" d=\"M 195.477904 279 \r\nL 201.387147 279 \r\nL 201.387147 271.477656 \r\nL 195.477904 271.477656 \r\nz\r\n\" style=\"fill:#1f77b4;fill-opacity:0.75;stroke:#000000;stroke-linejoin:miter;stroke-width:0.147341;\"/>\r\n   </g>\r\n   <g id=\"patch_29\">\r\n    <path clip-path=\"url(#p29e3c64f05)\" d=\"M 201.387147 279 \r\nL 207.29639 279 \r\nL 207.29639 272.805128 \r\nL 201.387147 272.805128 \r\nz\r\n\" style=\"fill:#1f77b4;fill-opacity:0.75;stroke:#000000;stroke-linejoin:miter;stroke-width:0.147341;\"/>\r\n   </g>\r\n   <g id=\"patch_30\">\r\n    <path clip-path=\"url(#p29e3c64f05)\" d=\"M 207.29639 279 \r\nL 213.205633 279 \r\nL 213.205633 272.805128 \r\nL 207.29639 272.805128 \r\nz\r\n\" style=\"fill:#1f77b4;fill-opacity:0.75;stroke:#000000;stroke-linejoin:miter;stroke-width:0.147341;\"/>\r\n   </g>\r\n   <g id=\"patch_31\">\r\n    <path clip-path=\"url(#p29e3c64f05)\" d=\"M 213.205633 279 \r\nL 219.114876 279 \r\nL 219.114876 269.707692 \r\nL 213.205633 269.707692 \r\nz\r\n\" style=\"fill:#1f77b4;fill-opacity:0.75;stroke:#000000;stroke-linejoin:miter;stroke-width:0.147341;\"/>\r\n   </g>\r\n   <g id=\"patch_32\">\r\n    <path clip-path=\"url(#p29e3c64f05)\" d=\"M 219.114876 279 \r\nL 225.02412 279 \r\nL 225.02412 273.69011 \r\nL 219.114876 273.69011 \r\nz\r\n\" style=\"fill:#1f77b4;fill-opacity:0.75;stroke:#000000;stroke-linejoin:miter;stroke-width:0.147341;\"/>\r\n   </g>\r\n   <g id=\"patch_33\">\r\n    <path clip-path=\"url(#p29e3c64f05)\" d=\"M 225.02412 279 \r\nL 230.933363 279 \r\nL 230.933363 271.920147 \r\nL 225.02412 271.920147 \r\nz\r\n\" style=\"fill:#1f77b4;fill-opacity:0.75;stroke:#000000;stroke-linejoin:miter;stroke-width:0.147341;\"/>\r\n   </g>\r\n   <g id=\"patch_34\">\r\n    <path clip-path=\"url(#p29e3c64f05)\" d=\"M 230.933363 279 \r\nL 236.842606 279 \r\nL 236.842606 272.805128 \r\nL 230.933363 272.805128 \r\nz\r\n\" style=\"fill:#1f77b4;fill-opacity:0.75;stroke:#000000;stroke-linejoin:miter;stroke-width:0.147341;\"/>\r\n   </g>\r\n   <g id=\"patch_35\">\r\n    <path clip-path=\"url(#p29e3c64f05)\" d=\"M 236.842606 279 \r\nL 242.751849 279 \r\nL 242.751849 273.247619 \r\nL 236.842606 273.247619 \r\nz\r\n\" style=\"fill:#1f77b4;fill-opacity:0.75;stroke:#000000;stroke-linejoin:miter;stroke-width:0.147341;\"/>\r\n   </g>\r\n   <g id=\"patch_36\">\r\n    <path clip-path=\"url(#p29e3c64f05)\" d=\"M 242.751849 279 \r\nL 248.661092 279 \r\nL 248.661092 276.345055 \r\nL 242.751849 276.345055 \r\nz\r\n\" style=\"fill:#1f77b4;fill-opacity:0.75;stroke:#000000;stroke-linejoin:miter;stroke-width:0.147341;\"/>\r\n   </g>\r\n   <g id=\"patch_37\">\r\n    <path clip-path=\"url(#p29e3c64f05)\" d=\"M 248.661092 279 \r\nL 254.570335 279 \r\nL 254.570335 274.575092 \r\nL 248.661092 274.575092 \r\nz\r\n\" style=\"fill:#1f77b4;fill-opacity:0.75;stroke:#000000;stroke-linejoin:miter;stroke-width:0.147341;\"/>\r\n   </g>\r\n   <g id=\"patch_38\">\r\n    <path clip-path=\"url(#p29e3c64f05)\" d=\"M 254.570335 279 \r\nL 260.479579 279 \r\nL 260.479579 275.902564 \r\nL 254.570335 275.902564 \r\nz\r\n\" style=\"fill:#1f77b4;fill-opacity:0.75;stroke:#000000;stroke-linejoin:miter;stroke-width:0.147341;\"/>\r\n   </g>\r\n   <g id=\"patch_39\">\r\n    <path clip-path=\"url(#p29e3c64f05)\" d=\"M 260.479579 279 \r\nL 266.388822 279 \r\nL 266.388822 275.017582 \r\nL 260.479579 275.017582 \r\nz\r\n\" style=\"fill:#1f77b4;fill-opacity:0.75;stroke:#000000;stroke-linejoin:miter;stroke-width:0.147341;\"/>\r\n   </g>\r\n   <g id=\"patch_40\">\r\n    <path clip-path=\"url(#p29e3c64f05)\" d=\"M 266.388822 279 \r\nL 272.298065 279 \r\nL 272.298065 274.132601 \r\nL 266.388822 274.132601 \r\nz\r\n\" style=\"fill:#1f77b4;fill-opacity:0.75;stroke:#000000;stroke-linejoin:miter;stroke-width:0.147341;\"/>\r\n   </g>\r\n   <g id=\"patch_41\">\r\n    <path clip-path=\"url(#p29e3c64f05)\" d=\"M 272.298065 279 \r\nL 278.207308 279 \r\nL 278.207308 278.557509 \r\nL 272.298065 278.557509 \r\nz\r\n\" style=\"fill:#1f77b4;fill-opacity:0.75;stroke:#000000;stroke-linejoin:miter;stroke-width:0.147341;\"/>\r\n   </g>\r\n   <g id=\"patch_42\">\r\n    <path clip-path=\"url(#p29e3c64f05)\" d=\"M 278.207308 279 \r\nL 284.116551 279 \r\nL 284.116551 275.460073 \r\nL 278.207308 275.460073 \r\nz\r\n\" style=\"fill:#1f77b4;fill-opacity:0.75;stroke:#000000;stroke-linejoin:miter;stroke-width:0.147341;\"/>\r\n   </g>\r\n   <g id=\"patch_43\">\r\n    <path clip-path=\"url(#p29e3c64f05)\" d=\"M 284.116551 279 \r\nL 290.025794 279 \r\nL 290.025794 276.787546 \r\nL 284.116551 276.787546 \r\nz\r\n\" style=\"fill:#1f77b4;fill-opacity:0.75;stroke:#000000;stroke-linejoin:miter;stroke-width:0.147341;\"/>\r\n   </g>\r\n   <g id=\"patch_44\">\r\n    <path clip-path=\"url(#p29e3c64f05)\" d=\"M 290.025794 279 \r\nL 295.935037 279 \r\nL 295.935037 275.460073 \r\nL 290.025794 275.460073 \r\nz\r\n\" style=\"fill:#1f77b4;fill-opacity:0.75;stroke:#000000;stroke-linejoin:miter;stroke-width:0.147341;\"/>\r\n   </g>\r\n   <g id=\"patch_45\">\r\n    <path clip-path=\"url(#p29e3c64f05)\" d=\"M 295.935037 279 \r\nL 301.844281 279 \r\nL 301.844281 277.672527 \r\nL 295.935037 277.672527 \r\nz\r\n\" style=\"fill:#1f77b4;fill-opacity:0.75;stroke:#000000;stroke-linejoin:miter;stroke-width:0.147341;\"/>\r\n   </g>\r\n   <g id=\"patch_46\">\r\n    <path clip-path=\"url(#p29e3c64f05)\" d=\"M 301.844281 279 \r\nL 307.753524 279 \r\nL 307.753524 278.115018 \r\nL 301.844281 278.115018 \r\nz\r\n\" style=\"fill:#1f77b4;fill-opacity:0.75;stroke:#000000;stroke-linejoin:miter;stroke-width:0.147341;\"/>\r\n   </g>\r\n   <g id=\"patch_47\">\r\n    <path clip-path=\"url(#p29e3c64f05)\" d=\"M 307.753524 279 \r\nL 313.662767 279 \r\nL 313.662767 276.345055 \r\nL 307.753524 276.345055 \r\nz\r\n\" style=\"fill:#1f77b4;fill-opacity:0.75;stroke:#000000;stroke-linejoin:miter;stroke-width:0.147341;\"/>\r\n   </g>\r\n   <g id=\"patch_48\">\r\n    <path clip-path=\"url(#p29e3c64f05)\" d=\"M 313.662767 279 \r\nL 319.57201 279 \r\nL 319.57201 277.672527 \r\nL 313.662767 277.672527 \r\nz\r\n\" style=\"fill:#1f77b4;fill-opacity:0.75;stroke:#000000;stroke-linejoin:miter;stroke-width:0.147341;\"/>\r\n   </g>\r\n   <g id=\"patch_49\">\r\n    <path clip-path=\"url(#p29e3c64f05)\" d=\"M 319.57201 279 \r\nL 325.481253 279 \r\nL 325.481253 276.787546 \r\nL 319.57201 276.787546 \r\nz\r\n\" style=\"fill:#1f77b4;fill-opacity:0.75;stroke:#000000;stroke-linejoin:miter;stroke-width:0.147341;\"/>\r\n   </g>\r\n   <g id=\"patch_50\">\r\n    <path clip-path=\"url(#p29e3c64f05)\" d=\"M 325.481253 279 \r\nL 331.390496 279 \r\nL 331.390496 278.557509 \r\nL 325.481253 278.557509 \r\nz\r\n\" style=\"fill:#1f77b4;fill-opacity:0.75;stroke:#000000;stroke-linejoin:miter;stroke-width:0.147341;\"/>\r\n   </g>\r\n   <g id=\"patch_51\">\r\n    <path clip-path=\"url(#p29e3c64f05)\" d=\"M 331.390496 279 \r\nL 337.29974 279 \r\nL 337.29974 277.230037 \r\nL 331.390496 277.230037 \r\nz\r\n\" style=\"fill:#1f77b4;fill-opacity:0.75;stroke:#000000;stroke-linejoin:miter;stroke-width:0.147341;\"/>\r\n   </g>\r\n   <g id=\"patch_52\">\r\n    <path clip-path=\"url(#p29e3c64f05)\" d=\"M 337.29974 279 \r\nL 343.208983 279 \r\nL 343.208983 277.672527 \r\nL 337.29974 277.672527 \r\nz\r\n\" style=\"fill:#1f77b4;fill-opacity:0.75;stroke:#000000;stroke-linejoin:miter;stroke-width:0.147341;\"/>\r\n   </g>\r\n   <g id=\"patch_53\">\r\n    <path clip-path=\"url(#p29e3c64f05)\" d=\"M 343.208983 279 \r\nL 349.118226 279 \r\nL 349.118226 278.557509 \r\nL 343.208983 278.557509 \r\nz\r\n\" style=\"fill:#1f77b4;fill-opacity:0.75;stroke:#000000;stroke-linejoin:miter;stroke-width:0.147341;\"/>\r\n   </g>\r\n   <g id=\"patch_54\">\r\n    <path clip-path=\"url(#p29e3c64f05)\" d=\"M 349.118226 279 \r\nL 355.027469 279 \r\nL 355.027469 278.115018 \r\nL 349.118226 278.115018 \r\nz\r\n\" style=\"fill:#1f77b4;fill-opacity:0.75;stroke:#000000;stroke-linejoin:miter;stroke-width:0.147341;\"/>\r\n   </g>\r\n   <g id=\"patch_55\">\r\n    <path clip-path=\"url(#p29e3c64f05)\" d=\"M 355.027469 279 \r\nL 360.936712 279 \r\nL 360.936712 278.557509 \r\nL 355.027469 278.557509 \r\nz\r\n\" style=\"fill:#1f77b4;fill-opacity:0.75;stroke:#000000;stroke-linejoin:miter;stroke-width:0.147341;\"/>\r\n   </g>\r\n   <g id=\"patch_56\">\r\n    <path clip-path=\"url(#p29e3c64f05)\" d=\"M 360.936712 279 \r\nL 366.845955 279 \r\nL 366.845955 278.115018 \r\nL 360.936712 278.115018 \r\nz\r\n\" style=\"fill:#1f77b4;fill-opacity:0.75;stroke:#000000;stroke-linejoin:miter;stroke-width:0.147341;\"/>\r\n   </g>\r\n   <g id=\"patch_57\">\r\n    <path clip-path=\"url(#p29e3c64f05)\" d=\"M 366.845955 279 \r\nL 372.755198 279 \r\nL 372.755198 277.672527 \r\nL 366.845955 277.672527 \r\nz\r\n\" style=\"fill:#1f77b4;fill-opacity:0.75;stroke:#000000;stroke-linejoin:miter;stroke-width:0.147341;\"/>\r\n   </g>\r\n   <g id=\"patch_58\">\r\n    <path clip-path=\"url(#p29e3c64f05)\" d=\"M 372.755198 279 \r\nL 378.664442 279 \r\nL 378.664442 278.115018 \r\nL 372.755198 278.115018 \r\nz\r\n\" style=\"fill:#1f77b4;fill-opacity:0.75;stroke:#000000;stroke-linejoin:miter;stroke-width:0.147341;\"/>\r\n   </g>\r\n   <g id=\"patch_59\">\r\n    <path clip-path=\"url(#p29e3c64f05)\" d=\"M 378.664442 279 \r\nL 384.573685 279 \r\nL 384.573685 278.557509 \r\nL 378.664442 278.557509 \r\nz\r\n\" style=\"fill:#1f77b4;fill-opacity:0.75;stroke:#000000;stroke-linejoin:miter;stroke-width:0.147341;\"/>\r\n   </g>\r\n   <g id=\"patch_60\">\r\n    <path clip-path=\"url(#p29e3c64f05)\" d=\"M 384.573685 279 \r\nL 390.482928 279 \r\nL 390.482928 279 \r\nL 384.573685 279 \r\nz\r\n\" style=\"fill:#1f77b4;fill-opacity:0.75;stroke:#000000;stroke-linejoin:miter;stroke-width:0.147341;\"/>\r\n   </g>\r\n   <g id=\"patch_61\">\r\n    <path clip-path=\"url(#p29e3c64f05)\" d=\"M 390.482928 279 \r\nL 396.392171 279 \r\nL 396.392171 278.115018 \r\nL 390.482928 278.115018 \r\nz\r\n\" style=\"fill:#1f77b4;fill-opacity:0.75;stroke:#000000;stroke-linejoin:miter;stroke-width:0.147341;\"/>\r\n   </g>\r\n   <g id=\"patch_62\">\r\n    <path clip-path=\"url(#p29e3c64f05)\" d=\"M 396.392171 279 \r\nL 402.301414 279 \r\nL 402.301414 277.230037 \r\nL 396.392171 277.230037 \r\nz\r\n\" style=\"fill:#1f77b4;fill-opacity:0.75;stroke:#000000;stroke-linejoin:miter;stroke-width:0.147341;\"/>\r\n   </g>\r\n   <g id=\"patch_63\">\r\n    <path clip-path=\"url(#p29e3c64f05)\" d=\"M 402.301414 279 \r\nL 408.210657 279 \r\nL 408.210657 279 \r\nL 402.301414 279 \r\nz\r\n\" style=\"fill:#1f77b4;fill-opacity:0.75;stroke:#000000;stroke-linejoin:miter;stroke-width:0.147341;\"/>\r\n   </g>\r\n   <g id=\"patch_64\">\r\n    <path clip-path=\"url(#p29e3c64f05)\" d=\"M 408.210657 279 \r\nL 414.119901 279 \r\nL 414.119901 279 \r\nL 408.210657 279 \r\nz\r\n\" style=\"fill:#1f77b4;fill-opacity:0.75;stroke:#000000;stroke-linejoin:miter;stroke-width:0.147341;\"/>\r\n   </g>\r\n   <g id=\"patch_65\">\r\n    <path clip-path=\"url(#p29e3c64f05)\" d=\"M 414.119901 279 \r\nL 420.029144 279 \r\nL 420.029144 279 \r\nL 414.119901 279 \r\nz\r\n\" style=\"fill:#1f77b4;fill-opacity:0.75;stroke:#000000;stroke-linejoin:miter;stroke-width:0.147341;\"/>\r\n   </g>\r\n   <g id=\"patch_66\">\r\n    <path clip-path=\"url(#p29e3c64f05)\" d=\"M 420.029144 279 \r\nL 425.938387 279 \r\nL 425.938387 278.557509 \r\nL 420.029144 278.557509 \r\nz\r\n\" style=\"fill:#1f77b4;fill-opacity:0.75;stroke:#000000;stroke-linejoin:miter;stroke-width:0.147341;\"/>\r\n   </g>\r\n   <g id=\"patch_67\">\r\n    <path clip-path=\"url(#p29e3c64f05)\" d=\"M 425.938387 279 \r\nL 431.84763 279 \r\nL 431.84763 279 \r\nL 425.938387 279 \r\nz\r\n\" style=\"fill:#1f77b4;fill-opacity:0.75;stroke:#000000;stroke-linejoin:miter;stroke-width:0.147341;\"/>\r\n   </g>\r\n   <g id=\"patch_68\">\r\n    <path clip-path=\"url(#p29e3c64f05)\" d=\"M 431.84763 279 \r\nL 437.756873 279 \r\nL 437.756873 279 \r\nL 431.84763 279 \r\nz\r\n\" style=\"fill:#1f77b4;fill-opacity:0.75;stroke:#000000;stroke-linejoin:miter;stroke-width:0.147341;\"/>\r\n   </g>\r\n   <g id=\"patch_69\">\r\n    <path clip-path=\"url(#p29e3c64f05)\" d=\"M 437.756873 279 \r\nL 443.666116 279 \r\nL 443.666116 278.557509 \r\nL 437.756873 278.557509 \r\nz\r\n\" style=\"fill:#1f77b4;fill-opacity:0.75;stroke:#000000;stroke-linejoin:miter;stroke-width:0.147341;\"/>\r\n   </g>\r\n   <g id=\"patch_70\">\r\n    <path clip-path=\"url(#p29e3c64f05)\" d=\"M 443.666116 279 \r\nL 449.575359 279 \r\nL 449.575359 279 \r\nL 443.666116 279 \r\nz\r\n\" style=\"fill:#1f77b4;fill-opacity:0.75;stroke:#000000;stroke-linejoin:miter;stroke-width:0.147341;\"/>\r\n   </g>\r\n   <g id=\"patch_71\">\r\n    <path clip-path=\"url(#p29e3c64f05)\" d=\"M 449.575359 279 \r\nL 455.484603 279 \r\nL 455.484603 278.557509 \r\nL 449.575359 278.557509 \r\nz\r\n\" style=\"fill:#1f77b4;fill-opacity:0.75;stroke:#000000;stroke-linejoin:miter;stroke-width:0.147341;\"/>\r\n   </g>\r\n   <g id=\"patch_72\">\r\n    <path clip-path=\"url(#p29e3c64f05)\" d=\"M 455.484603 279 \r\nL 461.393846 279 \r\nL 461.393846 279 \r\nL 455.484603 279 \r\nz\r\n\" style=\"fill:#1f77b4;fill-opacity:0.75;stroke:#000000;stroke-linejoin:miter;stroke-width:0.147341;\"/>\r\n   </g>\r\n   <g id=\"patch_73\">\r\n    <path clip-path=\"url(#p29e3c64f05)\" d=\"M 461.393846 279 \r\nL 467.303089 279 \r\nL 467.303089 279 \r\nL 461.393846 279 \r\nz\r\n\" style=\"fill:#1f77b4;fill-opacity:0.75;stroke:#000000;stroke-linejoin:miter;stroke-width:0.147341;\"/>\r\n   </g>\r\n   <g id=\"patch_74\">\r\n    <path clip-path=\"url(#p29e3c64f05)\" d=\"M 467.303089 279 \r\nL 473.212332 279 \r\nL 473.212332 278.115018 \r\nL 467.303089 278.115018 \r\nz\r\n\" style=\"fill:#1f77b4;fill-opacity:0.75;stroke:#000000;stroke-linejoin:miter;stroke-width:0.147341;\"/>\r\n   </g>\r\n   <g id=\"patch_75\">\r\n    <path clip-path=\"url(#p29e3c64f05)\" d=\"M 473.212332 279 \r\nL 479.121575 279 \r\nL 479.121575 279 \r\nL 473.212332 279 \r\nz\r\n\" style=\"fill:#1f77b4;fill-opacity:0.75;stroke:#000000;stroke-linejoin:miter;stroke-width:0.147341;\"/>\r\n   </g>\r\n   <g id=\"patch_76\">\r\n    <path clip-path=\"url(#p29e3c64f05)\" d=\"M 479.121575 279 \r\nL 485.030818 279 \r\nL 485.030818 279 \r\nL 479.121575 279 \r\nz\r\n\" style=\"fill:#1f77b4;fill-opacity:0.75;stroke:#000000;stroke-linejoin:miter;stroke-width:0.147341;\"/>\r\n   </g>\r\n   <g id=\"patch_77\">\r\n    <path clip-path=\"url(#p29e3c64f05)\" d=\"M 485.030818 279 \r\nL 490.940062 279 \r\nL 490.940062 279 \r\nL 485.030818 279 \r\nz\r\n\" style=\"fill:#1f77b4;fill-opacity:0.75;stroke:#000000;stroke-linejoin:miter;stroke-width:0.147341;\"/>\r\n   </g>\r\n   <g id=\"patch_78\">\r\n    <path clip-path=\"url(#p29e3c64f05)\" d=\"M 490.940062 279 \r\nL 496.849305 279 \r\nL 496.849305 279 \r\nL 490.940062 279 \r\nz\r\n\" style=\"fill:#1f77b4;fill-opacity:0.75;stroke:#000000;stroke-linejoin:miter;stroke-width:0.147341;\"/>\r\n   </g>\r\n   <g id=\"patch_79\">\r\n    <path clip-path=\"url(#p29e3c64f05)\" d=\"M 496.849305 279 \r\nL 502.758548 279 \r\nL 502.758548 278.115018 \r\nL 496.849305 278.115018 \r\nz\r\n\" style=\"fill:#1f77b4;fill-opacity:0.75;stroke:#000000;stroke-linejoin:miter;stroke-width:0.147341;\"/>\r\n   </g>\r\n   <g id=\"patch_80\">\r\n    <path clip-path=\"url(#p29e3c64f05)\" d=\"M 502.758548 279 \r\nL 508.667791 279 \r\nL 508.667791 279 \r\nL 502.758548 279 \r\nz\r\n\" style=\"fill:#1f77b4;fill-opacity:0.75;stroke:#000000;stroke-linejoin:miter;stroke-width:0.147341;\"/>\r\n   </g>\r\n   <g id=\"patch_81\">\r\n    <path clip-path=\"url(#p29e3c64f05)\" d=\"M 508.667791 279 \r\nL 514.577034 279 \r\nL 514.577034 279 \r\nL 508.667791 279 \r\nz\r\n\" style=\"fill:#1f77b4;fill-opacity:0.75;stroke:#000000;stroke-linejoin:miter;stroke-width:0.147341;\"/>\r\n   </g>\r\n   <g id=\"patch_82\">\r\n    <path clip-path=\"url(#p29e3c64f05)\" d=\"M 514.577034 279 \r\nL 520.486277 279 \r\nL 520.486277 279 \r\nL 514.577034 279 \r\nz\r\n\" style=\"fill:#1f77b4;fill-opacity:0.75;stroke:#000000;stroke-linejoin:miter;stroke-width:0.147341;\"/>\r\n   </g>\r\n   <g id=\"patch_83\">\r\n    <path clip-path=\"url(#p29e3c64f05)\" d=\"M 520.486277 279 \r\nL 526.39552 279 \r\nL 526.39552 279 \r\nL 520.486277 279 \r\nz\r\n\" style=\"fill:#1f77b4;fill-opacity:0.75;stroke:#000000;stroke-linejoin:miter;stroke-width:0.147341;\"/>\r\n   </g>\r\n   <g id=\"patch_84\">\r\n    <path clip-path=\"url(#p29e3c64f05)\" d=\"M 526.39552 279 \r\nL 532.304764 279 \r\nL 532.304764 279 \r\nL 526.39552 279 \r\nz\r\n\" style=\"fill:#1f77b4;fill-opacity:0.75;stroke:#000000;stroke-linejoin:miter;stroke-width:0.147341;\"/>\r\n   </g>\r\n   <g id=\"patch_85\">\r\n    <path clip-path=\"url(#p29e3c64f05)\" d=\"M 532.304764 279 \r\nL 538.214007 279 \r\nL 538.214007 279 \r\nL 532.304764 279 \r\nz\r\n\" style=\"fill:#1f77b4;fill-opacity:0.75;stroke:#000000;stroke-linejoin:miter;stroke-width:0.147341;\"/>\r\n   </g>\r\n   <g id=\"patch_86\">\r\n    <path clip-path=\"url(#p29e3c64f05)\" d=\"M 538.214007 279 \r\nL 544.12325 279 \r\nL 544.12325 279 \r\nL 538.214007 279 \r\nz\r\n\" style=\"fill:#1f77b4;fill-opacity:0.75;stroke:#000000;stroke-linejoin:miter;stroke-width:0.147341;\"/>\r\n   </g>\r\n   <g id=\"patch_87\">\r\n    <path clip-path=\"url(#p29e3c64f05)\" d=\"M 544.12325 279 \r\nL 550.032493 279 \r\nL 550.032493 279 \r\nL 544.12325 279 \r\nz\r\n\" style=\"fill:#1f77b4;fill-opacity:0.75;stroke:#000000;stroke-linejoin:miter;stroke-width:0.147341;\"/>\r\n   </g>\r\n   <g id=\"patch_88\">\r\n    <path clip-path=\"url(#p29e3c64f05)\" d=\"M 550.032493 279 \r\nL 555.941736 279 \r\nL 555.941736 279 \r\nL 550.032493 279 \r\nz\r\n\" style=\"fill:#1f77b4;fill-opacity:0.75;stroke:#000000;stroke-linejoin:miter;stroke-width:0.147341;\"/>\r\n   </g>\r\n   <g id=\"patch_89\">\r\n    <path clip-path=\"url(#p29e3c64f05)\" d=\"M 555.941736 279 \r\nL 561.850979 279 \r\nL 561.850979 279 \r\nL 555.941736 279 \r\nz\r\n\" style=\"fill:#1f77b4;fill-opacity:0.75;stroke:#000000;stroke-linejoin:miter;stroke-width:0.147341;\"/>\r\n   </g>\r\n   <g id=\"patch_90\">\r\n    <path clip-path=\"url(#p29e3c64f05)\" d=\"M 561.850979 279 \r\nL 567.760223 279 \r\nL 567.760223 278.557509 \r\nL 561.850979 278.557509 \r\nz\r\n\" style=\"fill:#1f77b4;fill-opacity:0.75;stroke:#000000;stroke-linejoin:miter;stroke-width:0.147341;\"/>\r\n   </g>\r\n   <g id=\"patch_91\">\r\n    <path clip-path=\"url(#p29e3c64f05)\" d=\"M 567.760223 279 \r\nL 573.669466 279 \r\nL 573.669466 279 \r\nL 567.760223 279 \r\nz\r\n\" style=\"fill:#1f77b4;fill-opacity:0.75;stroke:#000000;stroke-linejoin:miter;stroke-width:0.147341;\"/>\r\n   </g>\r\n   <g id=\"patch_92\">\r\n    <path clip-path=\"url(#p29e3c64f05)\" d=\"M 573.669466 279 \r\nL 579.578709 279 \r\nL 579.578709 279 \r\nL 573.669466 279 \r\nz\r\n\" style=\"fill:#1f77b4;fill-opacity:0.75;stroke:#000000;stroke-linejoin:miter;stroke-width:0.147341;\"/>\r\n   </g>\r\n   <g id=\"patch_93\">\r\n    <path clip-path=\"url(#p29e3c64f05)\" d=\"M 579.578709 279 \r\nL 585.487952 279 \r\nL 585.487952 279 \r\nL 579.578709 279 \r\nz\r\n\" style=\"fill:#1f77b4;fill-opacity:0.75;stroke:#000000;stroke-linejoin:miter;stroke-width:0.147341;\"/>\r\n   </g>\r\n   <g id=\"patch_94\">\r\n    <path clip-path=\"url(#p29e3c64f05)\" d=\"M 585.487952 279 \r\nL 591.397195 279 \r\nL 591.397195 279 \r\nL 585.487952 279 \r\nz\r\n\" style=\"fill:#1f77b4;fill-opacity:0.75;stroke:#000000;stroke-linejoin:miter;stroke-width:0.147341;\"/>\r\n   </g>\r\n   <g id=\"patch_95\">\r\n    <path clip-path=\"url(#p29e3c64f05)\" d=\"M 591.397195 279 \r\nL 597.306438 279 \r\nL 597.306438 279 \r\nL 591.397195 279 \r\nz\r\n\" style=\"fill:#1f77b4;fill-opacity:0.75;stroke:#000000;stroke-linejoin:miter;stroke-width:0.147341;\"/>\r\n   </g>\r\n   <g id=\"patch_96\">\r\n    <path clip-path=\"url(#p29e3c64f05)\" d=\"M 597.306438 279 \r\nL 603.215681 279 \r\nL 603.215681 279 \r\nL 597.306438 279 \r\nz\r\n\" style=\"fill:#1f77b4;fill-opacity:0.75;stroke:#000000;stroke-linejoin:miter;stroke-width:0.147341;\"/>\r\n   </g>\r\n   <g id=\"patch_97\">\r\n    <path clip-path=\"url(#p29e3c64f05)\" d=\"M 603.215681 279 \r\nL 609.124925 279 \r\nL 609.124925 279 \r\nL 603.215681 279 \r\nz\r\n\" style=\"fill:#1f77b4;fill-opacity:0.75;stroke:#000000;stroke-linejoin:miter;stroke-width:0.147341;\"/>\r\n   </g>\r\n   <g id=\"patch_98\">\r\n    <path clip-path=\"url(#p29e3c64f05)\" d=\"M 609.124925 279 \r\nL 615.034168 279 \r\nL 615.034168 278.115018 \r\nL 609.124925 278.115018 \r\nz\r\n\" style=\"fill:#1f77b4;fill-opacity:0.75;stroke:#000000;stroke-linejoin:miter;stroke-width:0.147341;\"/>\r\n   </g>\r\n   <g id=\"patch_99\">\r\n    <path clip-path=\"url(#p29e3c64f05)\" d=\"M 615.034168 279 \r\nL 620.943411 279 \r\nL 620.943411 278.557509 \r\nL 615.034168 278.557509 \r\nz\r\n\" style=\"fill:#1f77b4;fill-opacity:0.75;stroke:#000000;stroke-linejoin:miter;stroke-width:0.147341;\"/>\r\n   </g>\r\n   <g id=\"patch_100\">\r\n    <path clip-path=\"url(#p29e3c64f05)\" d=\"M 620.943411 279 \r\nL 626.852654 279 \r\nL 626.852654 279 \r\nL 620.943411 279 \r\nz\r\n\" style=\"fill:#1f77b4;fill-opacity:0.75;stroke:#000000;stroke-linejoin:miter;stroke-width:0.147341;\"/>\r\n   </g>\r\n   <g id=\"patch_101\">\r\n    <path clip-path=\"url(#p29e3c64f05)\" d=\"M 626.852654 279 \r\nL 632.761897 279 \r\nL 632.761897 279 \r\nL 626.852654 279 \r\nz\r\n\" style=\"fill:#1f77b4;fill-opacity:0.75;stroke:#000000;stroke-linejoin:miter;stroke-width:0.147341;\"/>\r\n   </g>\r\n   <g id=\"patch_102\">\r\n    <path clip-path=\"url(#p29e3c64f05)\" d=\"M 632.761897 279 \r\nL 638.67114 279 \r\nL 638.67114 279 \r\nL 632.761897 279 \r\nz\r\n\" style=\"fill:#1f77b4;fill-opacity:0.75;stroke:#000000;stroke-linejoin:miter;stroke-width:0.147341;\"/>\r\n   </g>\r\n   <g id=\"patch_103\">\r\n    <path clip-path=\"url(#p29e3c64f05)\" d=\"M 638.67114 279 \r\nL 644.580384 279 \r\nL 644.580384 279 \r\nL 638.67114 279 \r\nz\r\n\" style=\"fill:#1f77b4;fill-opacity:0.75;stroke:#000000;stroke-linejoin:miter;stroke-width:0.147341;\"/>\r\n   </g>\r\n   <g id=\"patch_104\">\r\n    <path clip-path=\"url(#p29e3c64f05)\" d=\"M 644.580384 279 \r\nL 650.489627 279 \r\nL 650.489627 279 \r\nL 644.580384 279 \r\nz\r\n\" style=\"fill:#1f77b4;fill-opacity:0.75;stroke:#000000;stroke-linejoin:miter;stroke-width:0.147341;\"/>\r\n   </g>\r\n   <g id=\"patch_105\">\r\n    <path clip-path=\"url(#p29e3c64f05)\" d=\"M 650.489627 279 \r\nL 656.39887 279 \r\nL 656.39887 279 \r\nL 650.489627 279 \r\nz\r\n\" style=\"fill:#1f77b4;fill-opacity:0.75;stroke:#000000;stroke-linejoin:miter;stroke-width:0.147341;\"/>\r\n   </g>\r\n   <g id=\"patch_106\">\r\n    <path clip-path=\"url(#p29e3c64f05)\" d=\"M 656.39887 279 \r\nL 662.308113 279 \r\nL 662.308113 279 \r\nL 656.39887 279 \r\nz\r\n\" style=\"fill:#1f77b4;fill-opacity:0.75;stroke:#000000;stroke-linejoin:miter;stroke-width:0.147341;\"/>\r\n   </g>\r\n   <g id=\"patch_107\">\r\n    <path clip-path=\"url(#p29e3c64f05)\" d=\"M 662.308113 279 \r\nL 668.217356 279 \r\nL 668.217356 279 \r\nL 662.308113 279 \r\nz\r\n\" style=\"fill:#1f77b4;fill-opacity:0.75;stroke:#000000;stroke-linejoin:miter;stroke-width:0.147341;\"/>\r\n   </g>\r\n   <g id=\"patch_108\">\r\n    <path clip-path=\"url(#p29e3c64f05)\" d=\"M 668.217356 279 \r\nL 674.126599 279 \r\nL 674.126599 279 \r\nL 668.217356 279 \r\nz\r\n\" style=\"fill:#1f77b4;fill-opacity:0.75;stroke:#000000;stroke-linejoin:miter;stroke-width:0.147341;\"/>\r\n   </g>\r\n   <g id=\"patch_109\">\r\n    <path clip-path=\"url(#p29e3c64f05)\" d=\"M 674.126599 279 \r\nL 680.035842 279 \r\nL 680.035842 279 \r\nL 674.126599 279 \r\nz\r\n\" style=\"fill:#1f77b4;fill-opacity:0.75;stroke:#000000;stroke-linejoin:miter;stroke-width:0.147341;\"/>\r\n   </g>\r\n   <g id=\"patch_110\">\r\n    <path clip-path=\"url(#p29e3c64f05)\" d=\"M 680.035842 279 \r\nL 685.945086 279 \r\nL 685.945086 279 \r\nL 680.035842 279 \r\nz\r\n\" style=\"fill:#1f77b4;fill-opacity:0.75;stroke:#000000;stroke-linejoin:miter;stroke-width:0.147341;\"/>\r\n   </g>\r\n   <g id=\"patch_111\">\r\n    <path clip-path=\"url(#p29e3c64f05)\" d=\"M 685.945086 279 \r\nL 691.854329 279 \r\nL 691.854329 279 \r\nL 685.945086 279 \r\nz\r\n\" style=\"fill:#1f77b4;fill-opacity:0.75;stroke:#000000;stroke-linejoin:miter;stroke-width:0.147341;\"/>\r\n   </g>\r\n   <g id=\"patch_112\">\r\n    <path clip-path=\"url(#p29e3c64f05)\" d=\"M 691.854329 279 \r\nL 697.763572 279 \r\nL 697.763572 279 \r\nL 691.854329 279 \r\nz\r\n\" style=\"fill:#1f77b4;fill-opacity:0.75;stroke:#000000;stroke-linejoin:miter;stroke-width:0.147341;\"/>\r\n   </g>\r\n   <g id=\"patch_113\">\r\n    <path clip-path=\"url(#p29e3c64f05)\" d=\"M 697.763572 279 \r\nL 703.672815 279 \r\nL 703.672815 278.557509 \r\nL 697.763572 278.557509 \r\nz\r\n\" style=\"fill:#1f77b4;fill-opacity:0.75;stroke:#000000;stroke-linejoin:miter;stroke-width:0.147341;\"/>\r\n   </g>\r\n   <g id=\"patch_114\">\r\n    <path clip-path=\"url(#p29e3c64f05)\" d=\"M 703.672815 279 \r\nL 709.582058 279 \r\nL 709.582058 279 \r\nL 703.672815 279 \r\nz\r\n\" style=\"fill:#1f77b4;fill-opacity:0.75;stroke:#000000;stroke-linejoin:miter;stroke-width:0.147341;\"/>\r\n   </g>\r\n   <g id=\"patch_115\">\r\n    <path clip-path=\"url(#p29e3c64f05)\" d=\"M 709.582058 279 \r\nL 715.491301 279 \r\nL 715.491301 279 \r\nL 709.582058 279 \r\nz\r\n\" style=\"fill:#1f77b4;fill-opacity:0.75;stroke:#000000;stroke-linejoin:miter;stroke-width:0.147341;\"/>\r\n   </g>\r\n   <g id=\"patch_116\">\r\n    <path clip-path=\"url(#p29e3c64f05)\" d=\"M 715.491301 279 \r\nL 721.400545 279 \r\nL 721.400545 279 \r\nL 715.491301 279 \r\nz\r\n\" style=\"fill:#1f77b4;fill-opacity:0.75;stroke:#000000;stroke-linejoin:miter;stroke-width:0.147341;\"/>\r\n   </g>\r\n   <g id=\"patch_117\">\r\n    <path clip-path=\"url(#p29e3c64f05)\" d=\"M 721.400545 279 \r\nL 727.309788 279 \r\nL 727.309788 279 \r\nL 721.400545 279 \r\nz\r\n\" style=\"fill:#1f77b4;fill-opacity:0.75;stroke:#000000;stroke-linejoin:miter;stroke-width:0.147341;\"/>\r\n   </g>\r\n   <g id=\"patch_118\">\r\n    <path clip-path=\"url(#p29e3c64f05)\" d=\"M 727.309788 279 \r\nL 733.219031 279 \r\nL 733.219031 279 \r\nL 727.309788 279 \r\nz\r\n\" style=\"fill:#1f77b4;fill-opacity:0.75;stroke:#000000;stroke-linejoin:miter;stroke-width:0.147341;\"/>\r\n   </g>\r\n   <g id=\"patch_119\">\r\n    <path clip-path=\"url(#p29e3c64f05)\" d=\"M 733.219031 279 \r\nL 739.128274 279 \r\nL 739.128274 279 \r\nL 733.219031 279 \r\nz\r\n\" style=\"fill:#1f77b4;fill-opacity:0.75;stroke:#000000;stroke-linejoin:miter;stroke-width:0.147341;\"/>\r\n   </g>\r\n   <g id=\"patch_120\">\r\n    <path clip-path=\"url(#p29e3c64f05)\" d=\"M 739.128274 279 \r\nL 745.037517 279 \r\nL 745.037517 278.557509 \r\nL 739.128274 278.557509 \r\nz\r\n\" style=\"fill:#1f77b4;fill-opacity:0.75;stroke:#000000;stroke-linejoin:miter;stroke-width:0.147341;\"/>\r\n   </g>\r\n   <g id=\"patch_121\">\r\n    <path clip-path=\"url(#p29e3c64f05)\" d=\"M 745.037517 279 \r\nL 750.94676 279 \r\nL 750.94676 279 \r\nL 745.037517 279 \r\nz\r\n\" style=\"fill:#1f77b4;fill-opacity:0.75;stroke:#000000;stroke-linejoin:miter;stroke-width:0.147341;\"/>\r\n   </g>\r\n   <g id=\"patch_122\">\r\n    <path clip-path=\"url(#p29e3c64f05)\" d=\"M 750.94676 279 \r\nL 756.856003 279 \r\nL 756.856003 279 \r\nL 750.94676 279 \r\nz\r\n\" style=\"fill:#1f77b4;fill-opacity:0.75;stroke:#000000;stroke-linejoin:miter;stroke-width:0.147341;\"/>\r\n   </g>\r\n   <g id=\"patch_123\">\r\n    <path clip-path=\"url(#p29e3c64f05)\" d=\"M 756.856003 279 \r\nL 762.765247 279 \r\nL 762.765247 279 \r\nL 756.856003 279 \r\nz\r\n\" style=\"fill:#1f77b4;fill-opacity:0.75;stroke:#000000;stroke-linejoin:miter;stroke-width:0.147341;\"/>\r\n   </g>\r\n   <g id=\"patch_124\">\r\n    <path clip-path=\"url(#p29e3c64f05)\" d=\"M 762.765247 279 \r\nL 768.67449 279 \r\nL 768.67449 279 \r\nL 762.765247 279 \r\nz\r\n\" style=\"fill:#1f77b4;fill-opacity:0.75;stroke:#000000;stroke-linejoin:miter;stroke-width:0.147341;\"/>\r\n   </g>\r\n   <g id=\"patch_125\">\r\n    <path clip-path=\"url(#p29e3c64f05)\" d=\"M 768.67449 279 \r\nL 774.583733 279 \r\nL 774.583733 279 \r\nL 768.67449 279 \r\nz\r\n\" style=\"fill:#1f77b4;fill-opacity:0.75;stroke:#000000;stroke-linejoin:miter;stroke-width:0.147341;\"/>\r\n   </g>\r\n   <g id=\"patch_126\">\r\n    <path clip-path=\"url(#p29e3c64f05)\" d=\"M 774.583733 279 \r\nL 780.492976 279 \r\nL 780.492976 279 \r\nL 774.583733 279 \r\nz\r\n\" style=\"fill:#1f77b4;fill-opacity:0.75;stroke:#000000;stroke-linejoin:miter;stroke-width:0.147341;\"/>\r\n   </g>\r\n   <g id=\"patch_127\">\r\n    <path clip-path=\"url(#p29e3c64f05)\" d=\"M 780.492976 279 \r\nL 786.402219 279 \r\nL 786.402219 279 \r\nL 780.492976 279 \r\nz\r\n\" style=\"fill:#1f77b4;fill-opacity:0.75;stroke:#000000;stroke-linejoin:miter;stroke-width:0.147341;\"/>\r\n   </g>\r\n   <g id=\"patch_128\">\r\n    <path clip-path=\"url(#p29e3c64f05)\" d=\"M 786.402219 279 \r\nL 792.311462 279 \r\nL 792.311462 279 \r\nL 786.402219 279 \r\nz\r\n\" style=\"fill:#1f77b4;fill-opacity:0.75;stroke:#000000;stroke-linejoin:miter;stroke-width:0.147341;\"/>\r\n   </g>\r\n   <g id=\"patch_129\">\r\n    <path clip-path=\"url(#p29e3c64f05)\" d=\"M 792.311462 279 \r\nL 798.220705 279 \r\nL 798.220705 279 \r\nL 792.311462 279 \r\nz\r\n\" style=\"fill:#1f77b4;fill-opacity:0.75;stroke:#000000;stroke-linejoin:miter;stroke-width:0.147341;\"/>\r\n   </g>\r\n   <g id=\"patch_130\">\r\n    <path clip-path=\"url(#p29e3c64f05)\" d=\"M 798.220705 279 \r\nL 804.129949 279 \r\nL 804.129949 279 \r\nL 798.220705 279 \r\nz\r\n\" style=\"fill:#1f77b4;fill-opacity:0.75;stroke:#000000;stroke-linejoin:miter;stroke-width:0.147341;\"/>\r\n   </g>\r\n   <g id=\"patch_131\">\r\n    <path clip-path=\"url(#p29e3c64f05)\" d=\"M 804.129949 279 \r\nL 810.039192 279 \r\nL 810.039192 279 \r\nL 804.129949 279 \r\nz\r\n\" style=\"fill:#1f77b4;fill-opacity:0.75;stroke:#000000;stroke-linejoin:miter;stroke-width:0.147341;\"/>\r\n   </g>\r\n   <g id=\"patch_132\">\r\n    <path clip-path=\"url(#p29e3c64f05)\" d=\"M 810.039192 279 \r\nL 815.948435 279 \r\nL 815.948435 279 \r\nL 810.039192 279 \r\nz\r\n\" style=\"fill:#1f77b4;fill-opacity:0.75;stroke:#000000;stroke-linejoin:miter;stroke-width:0.147341;\"/>\r\n   </g>\r\n   <g id=\"patch_133\">\r\n    <path clip-path=\"url(#p29e3c64f05)\" d=\"M 815.948435 279 \r\nL 821.857678 279 \r\nL 821.857678 279 \r\nL 815.948435 279 \r\nz\r\n\" style=\"fill:#1f77b4;fill-opacity:0.75;stroke:#000000;stroke-linejoin:miter;stroke-width:0.147341;\"/>\r\n   </g>\r\n   <g id=\"patch_134\">\r\n    <path clip-path=\"url(#p29e3c64f05)\" d=\"M 821.857678 279 \r\nL 827.766921 279 \r\nL 827.766921 279 \r\nL 821.857678 279 \r\nz\r\n\" style=\"fill:#1f77b4;fill-opacity:0.75;stroke:#000000;stroke-linejoin:miter;stroke-width:0.147341;\"/>\r\n   </g>\r\n   <g id=\"patch_135\">\r\n    <path clip-path=\"url(#p29e3c64f05)\" d=\"M 827.766921 279 \r\nL 833.676164 279 \r\nL 833.676164 279 \r\nL 827.766921 279 \r\nz\r\n\" style=\"fill:#1f77b4;fill-opacity:0.75;stroke:#000000;stroke-linejoin:miter;stroke-width:0.147341;\"/>\r\n   </g>\r\n   <g id=\"patch_136\">\r\n    <path clip-path=\"url(#p29e3c64f05)\" d=\"M 833.676164 279 \r\nL 839.585408 279 \r\nL 839.585408 279 \r\nL 833.676164 279 \r\nz\r\n\" style=\"fill:#1f77b4;fill-opacity:0.75;stroke:#000000;stroke-linejoin:miter;stroke-width:0.147341;\"/>\r\n   </g>\r\n   <g id=\"patch_137\">\r\n    <path clip-path=\"url(#p29e3c64f05)\" d=\"M 839.585408 279 \r\nL 845.494651 279 \r\nL 845.494651 279 \r\nL 839.585408 279 \r\nz\r\n\" style=\"fill:#1f77b4;fill-opacity:0.75;stroke:#000000;stroke-linejoin:miter;stroke-width:0.147341;\"/>\r\n   </g>\r\n   <g id=\"patch_138\">\r\n    <path clip-path=\"url(#p29e3c64f05)\" d=\"M 845.494651 279 \r\nL 851.403894 279 \r\nL 851.403894 279 \r\nL 845.494651 279 \r\nz\r\n\" style=\"fill:#1f77b4;fill-opacity:0.75;stroke:#000000;stroke-linejoin:miter;stroke-width:0.147341;\"/>\r\n   </g>\r\n   <g id=\"patch_139\">\r\n    <path clip-path=\"url(#p29e3c64f05)\" d=\"M 851.403894 279 \r\nL 857.313137 279 \r\nL 857.313137 279 \r\nL 851.403894 279 \r\nz\r\n\" style=\"fill:#1f77b4;fill-opacity:0.75;stroke:#000000;stroke-linejoin:miter;stroke-width:0.147341;\"/>\r\n   </g>\r\n   <g id=\"patch_140\">\r\n    <path clip-path=\"url(#p29e3c64f05)\" d=\"M 857.313137 279 \r\nL 863.22238 279 \r\nL 863.22238 279 \r\nL 857.313137 279 \r\nz\r\n\" style=\"fill:#1f77b4;fill-opacity:0.75;stroke:#000000;stroke-linejoin:miter;stroke-width:0.147341;\"/>\r\n   </g>\r\n   <g id=\"patch_141\">\r\n    <path clip-path=\"url(#p29e3c64f05)\" d=\"M 863.22238 279 \r\nL 869.131623 279 \r\nL 869.131623 279 \r\nL 863.22238 279 \r\nz\r\n\" style=\"fill:#1f77b4;fill-opacity:0.75;stroke:#000000;stroke-linejoin:miter;stroke-width:0.147341;\"/>\r\n   </g>\r\n   <g id=\"patch_142\">\r\n    <path clip-path=\"url(#p29e3c64f05)\" d=\"M 869.131623 279 \r\nL 875.040866 279 \r\nL 875.040866 279 \r\nL 869.131623 279 \r\nz\r\n\" style=\"fill:#1f77b4;fill-opacity:0.75;stroke:#000000;stroke-linejoin:miter;stroke-width:0.147341;\"/>\r\n   </g>\r\n   <g id=\"patch_143\">\r\n    <path clip-path=\"url(#p29e3c64f05)\" d=\"M 875.040866 279 \r\nL 880.95011 279 \r\nL 880.95011 279 \r\nL 875.040866 279 \r\nz\r\n\" style=\"fill:#1f77b4;fill-opacity:0.75;stroke:#000000;stroke-linejoin:miter;stroke-width:0.147341;\"/>\r\n   </g>\r\n   <g id=\"patch_144\">\r\n    <path clip-path=\"url(#p29e3c64f05)\" d=\"M 880.95011 279 \r\nL 886.859353 279 \r\nL 886.859353 279 \r\nL 880.95011 279 \r\nz\r\n\" style=\"fill:#1f77b4;fill-opacity:0.75;stroke:#000000;stroke-linejoin:miter;stroke-width:0.147341;\"/>\r\n   </g>\r\n   <g id=\"patch_145\">\r\n    <path clip-path=\"url(#p29e3c64f05)\" d=\"M 886.859353 279 \r\nL 892.768596 279 \r\nL 892.768596 279 \r\nL 886.859353 279 \r\nz\r\n\" style=\"fill:#1f77b4;fill-opacity:0.75;stroke:#000000;stroke-linejoin:miter;stroke-width:0.147341;\"/>\r\n   </g>\r\n   <g id=\"patch_146\">\r\n    <path clip-path=\"url(#p29e3c64f05)\" d=\"M 892.768596 279 \r\nL 898.677839 279 \r\nL 898.677839 279 \r\nL 892.768596 279 \r\nz\r\n\" style=\"fill:#1f77b4;fill-opacity:0.75;stroke:#000000;stroke-linejoin:miter;stroke-width:0.147341;\"/>\r\n   </g>\r\n   <g id=\"patch_147\">\r\n    <path clip-path=\"url(#p29e3c64f05)\" d=\"M 898.677839 279 \r\nL 904.587082 279 \r\nL 904.587082 279 \r\nL 898.677839 279 \r\nz\r\n\" style=\"fill:#1f77b4;fill-opacity:0.75;stroke:#000000;stroke-linejoin:miter;stroke-width:0.147341;\"/>\r\n   </g>\r\n   <g id=\"patch_148\">\r\n    <path clip-path=\"url(#p29e3c64f05)\" d=\"M 904.587082 279 \r\nL 910.496325 279 \r\nL 910.496325 279 \r\nL 904.587082 279 \r\nz\r\n\" style=\"fill:#1f77b4;fill-opacity:0.75;stroke:#000000;stroke-linejoin:miter;stroke-width:0.147341;\"/>\r\n   </g>\r\n   <g id=\"patch_149\">\r\n    <path clip-path=\"url(#p29e3c64f05)\" d=\"M 910.496325 279 \r\nL 916.405569 279 \r\nL 916.405569 279 \r\nL 910.496325 279 \r\nz\r\n\" style=\"fill:#1f77b4;fill-opacity:0.75;stroke:#000000;stroke-linejoin:miter;stroke-width:0.147341;\"/>\r\n   </g>\r\n   <g id=\"patch_150\">\r\n    <path clip-path=\"url(#p29e3c64f05)\" d=\"M 916.405569 279 \r\nL 922.314812 279 \r\nL 922.314812 279 \r\nL 916.405569 279 \r\nz\r\n\" style=\"fill:#1f77b4;fill-opacity:0.75;stroke:#000000;stroke-linejoin:miter;stroke-width:0.147341;\"/>\r\n   </g>\r\n   <g id=\"patch_151\">\r\n    <path clip-path=\"url(#p29e3c64f05)\" d=\"M 922.314812 279 \r\nL 928.224055 279 \r\nL 928.224055 279 \r\nL 922.314812 279 \r\nz\r\n\" style=\"fill:#1f77b4;fill-opacity:0.75;stroke:#000000;stroke-linejoin:miter;stroke-width:0.147341;\"/>\r\n   </g>\r\n   <g id=\"patch_152\">\r\n    <path clip-path=\"url(#p29e3c64f05)\" d=\"M 928.224055 279 \r\nL 934.133298 279 \r\nL 934.133298 278.557509 \r\nL 928.224055 278.557509 \r\nz\r\n\" style=\"fill:#1f77b4;fill-opacity:0.75;stroke:#000000;stroke-linejoin:miter;stroke-width:0.147341;\"/>\r\n   </g>\r\n   <g id=\"patch_153\">\r\n    <path clip-path=\"url(#p29e3c64f05)\" d=\"M 934.133298 279 \r\nL 940.042541 279 \r\nL 940.042541 279 \r\nL 934.133298 279 \r\nz\r\n\" style=\"fill:#1f77b4;fill-opacity:0.75;stroke:#000000;stroke-linejoin:miter;stroke-width:0.147341;\"/>\r\n   </g>\r\n   <g id=\"patch_154\">\r\n    <path clip-path=\"url(#p29e3c64f05)\" d=\"M 940.042541 279 \r\nL 945.951784 279 \r\nL 945.951784 279 \r\nL 940.042541 279 \r\nz\r\n\" style=\"fill:#1f77b4;fill-opacity:0.75;stroke:#000000;stroke-linejoin:miter;stroke-width:0.147341;\"/>\r\n   </g>\r\n   <g id=\"patch_155\">\r\n    <path clip-path=\"url(#p29e3c64f05)\" d=\"M 945.951784 279 \r\nL 951.861027 279 \r\nL 951.861027 279 \r\nL 945.951784 279 \r\nz\r\n\" style=\"fill:#1f77b4;fill-opacity:0.75;stroke:#000000;stroke-linejoin:miter;stroke-width:0.147341;\"/>\r\n   </g>\r\n   <g id=\"patch_156\">\r\n    <path clip-path=\"url(#p29e3c64f05)\" d=\"M 951.861027 279 \r\nL 957.770271 279 \r\nL 957.770271 279 \r\nL 951.861027 279 \r\nz\r\n\" style=\"fill:#1f77b4;fill-opacity:0.75;stroke:#000000;stroke-linejoin:miter;stroke-width:0.147341;\"/>\r\n   </g>\r\n   <g id=\"patch_157\">\r\n    <path clip-path=\"url(#p29e3c64f05)\" d=\"M 957.770271 279 \r\nL 963.679514 279 \r\nL 963.679514 279 \r\nL 957.770271 279 \r\nz\r\n\" style=\"fill:#1f77b4;fill-opacity:0.75;stroke:#000000;stroke-linejoin:miter;stroke-width:0.147341;\"/>\r\n   </g>\r\n   <g id=\"patch_158\">\r\n    <path clip-path=\"url(#p29e3c64f05)\" d=\"M 963.679514 279 \r\nL 969.588757 279 \r\nL 969.588757 279 \r\nL 963.679514 279 \r\nz\r\n\" style=\"fill:#1f77b4;fill-opacity:0.75;stroke:#000000;stroke-linejoin:miter;stroke-width:0.147341;\"/>\r\n   </g>\r\n   <g id=\"patch_159\">\r\n    <path clip-path=\"url(#p29e3c64f05)\" d=\"M 969.588757 279 \r\nL 975.498 279 \r\nL 975.498 279 \r\nL 969.588757 279 \r\nz\r\n\" style=\"fill:#1f77b4;fill-opacity:0.75;stroke:#000000;stroke-linejoin:miter;stroke-width:0.147341;\"/>\r\n   </g>\r\n   <g id=\"patch_160\">\r\n    <path clip-path=\"url(#p29e3c64f05)\" d=\"M 975.498 279 \r\nL 981.407243 279 \r\nL 981.407243 279 \r\nL 975.498 279 \r\nz\r\n\" style=\"fill:#1f77b4;fill-opacity:0.75;stroke:#000000;stroke-linejoin:miter;stroke-width:0.147341;\"/>\r\n   </g>\r\n   <g id=\"patch_161\">\r\n    <path clip-path=\"url(#p29e3c64f05)\" d=\"M 981.407243 279 \r\nL 987.316486 279 \r\nL 987.316486 279 \r\nL 981.407243 279 \r\nz\r\n\" style=\"fill:#1f77b4;fill-opacity:0.75;stroke:#000000;stroke-linejoin:miter;stroke-width:0.147341;\"/>\r\n   </g>\r\n   <g id=\"patch_162\">\r\n    <path clip-path=\"url(#p29e3c64f05)\" d=\"M 987.316486 279 \r\nL 993.22573 279 \r\nL 993.22573 279 \r\nL 987.316486 279 \r\nz\r\n\" style=\"fill:#1f77b4;fill-opacity:0.75;stroke:#000000;stroke-linejoin:miter;stroke-width:0.147341;\"/>\r\n   </g>\r\n   <g id=\"patch_163\">\r\n    <path clip-path=\"url(#p29e3c64f05)\" d=\"M 993.22573 279 \r\nL 999.134973 279 \r\nL 999.134973 279 \r\nL 993.22573 279 \r\nz\r\n\" style=\"fill:#1f77b4;fill-opacity:0.75;stroke:#000000;stroke-linejoin:miter;stroke-width:0.147341;\"/>\r\n   </g>\r\n   <g id=\"patch_164\">\r\n    <path clip-path=\"url(#p29e3c64f05)\" d=\"M 999.134973 279 \r\nL 1005.044216 279 \r\nL 1005.044216 279 \r\nL 999.134973 279 \r\nz\r\n\" style=\"fill:#1f77b4;fill-opacity:0.75;stroke:#000000;stroke-linejoin:miter;stroke-width:0.147341;\"/>\r\n   </g>\r\n   <g id=\"patch_165\">\r\n    <path clip-path=\"url(#p29e3c64f05)\" d=\"M 1005.044216 279 \r\nL 1010.953459 279 \r\nL 1010.953459 279 \r\nL 1005.044216 279 \r\nz\r\n\" style=\"fill:#1f77b4;fill-opacity:0.75;stroke:#000000;stroke-linejoin:miter;stroke-width:0.147341;\"/>\r\n   </g>\r\n   <g id=\"patch_166\">\r\n    <path clip-path=\"url(#p29e3c64f05)\" d=\"M 1010.953459 279 \r\nL 1016.862702 279 \r\nL 1016.862702 279 \r\nL 1010.953459 279 \r\nz\r\n\" style=\"fill:#1f77b4;fill-opacity:0.75;stroke:#000000;stroke-linejoin:miter;stroke-width:0.147341;\"/>\r\n   </g>\r\n   <g id=\"patch_167\">\r\n    <path clip-path=\"url(#p29e3c64f05)\" d=\"M 1016.862702 279 \r\nL 1022.771945 279 \r\nL 1022.771945 279 \r\nL 1016.862702 279 \r\nz\r\n\" style=\"fill:#1f77b4;fill-opacity:0.75;stroke:#000000;stroke-linejoin:miter;stroke-width:0.147341;\"/>\r\n   </g>\r\n   <g id=\"patch_168\">\r\n    <path clip-path=\"url(#p29e3c64f05)\" d=\"M 1022.771945 279 \r\nL 1028.681188 279 \r\nL 1028.681188 279 \r\nL 1022.771945 279 \r\nz\r\n\" style=\"fill:#1f77b4;fill-opacity:0.75;stroke:#000000;stroke-linejoin:miter;stroke-width:0.147341;\"/>\r\n   </g>\r\n   <g id=\"patch_169\">\r\n    <path clip-path=\"url(#p29e3c64f05)\" d=\"M 1028.681188 279 \r\nL 1034.590432 279 \r\nL 1034.590432 279 \r\nL 1028.681188 279 \r\nz\r\n\" style=\"fill:#1f77b4;fill-opacity:0.75;stroke:#000000;stroke-linejoin:miter;stroke-width:0.147341;\"/>\r\n   </g>\r\n   <g id=\"patch_170\">\r\n    <path clip-path=\"url(#p29e3c64f05)\" d=\"M 1034.590432 279 \r\nL 1040.499675 279 \r\nL 1040.499675 279 \r\nL 1034.590432 279 \r\nz\r\n\" style=\"fill:#1f77b4;fill-opacity:0.75;stroke:#000000;stroke-linejoin:miter;stroke-width:0.147341;\"/>\r\n   </g>\r\n   <g id=\"patch_171\">\r\n    <path clip-path=\"url(#p29e3c64f05)\" d=\"M 1040.499675 279 \r\nL 1046.408918 279 \r\nL 1046.408918 279 \r\nL 1040.499675 279 \r\nz\r\n\" style=\"fill:#1f77b4;fill-opacity:0.75;stroke:#000000;stroke-linejoin:miter;stroke-width:0.147341;\"/>\r\n   </g>\r\n   <g id=\"patch_172\">\r\n    <path clip-path=\"url(#p29e3c64f05)\" d=\"M 1046.408918 279 \r\nL 1052.318161 279 \r\nL 1052.318161 279 \r\nL 1046.408918 279 \r\nz\r\n\" style=\"fill:#1f77b4;fill-opacity:0.75;stroke:#000000;stroke-linejoin:miter;stroke-width:0.147341;\"/>\r\n   </g>\r\n   <g id=\"patch_173\">\r\n    <path clip-path=\"url(#p29e3c64f05)\" d=\"M 1052.318161 279 \r\nL 1058.227404 279 \r\nL 1058.227404 279 \r\nL 1052.318161 279 \r\nz\r\n\" style=\"fill:#1f77b4;fill-opacity:0.75;stroke:#000000;stroke-linejoin:miter;stroke-width:0.147341;\"/>\r\n   </g>\r\n   <g id=\"patch_174\">\r\n    <path clip-path=\"url(#p29e3c64f05)\" d=\"M 1058.227404 279 \r\nL 1064.136647 279 \r\nL 1064.136647 279 \r\nL 1058.227404 279 \r\nz\r\n\" style=\"fill:#1f77b4;fill-opacity:0.75;stroke:#000000;stroke-linejoin:miter;stroke-width:0.147341;\"/>\r\n   </g>\r\n   <g id=\"patch_175\">\r\n    <path clip-path=\"url(#p29e3c64f05)\" d=\"M 1064.136647 279 \r\nL 1070.045891 279 \r\nL 1070.045891 279 \r\nL 1064.136647 279 \r\nz\r\n\" style=\"fill:#1f77b4;fill-opacity:0.75;stroke:#000000;stroke-linejoin:miter;stroke-width:0.147341;\"/>\r\n   </g>\r\n   <g id=\"patch_176\">\r\n    <path clip-path=\"url(#p29e3c64f05)\" d=\"M 1070.045891 279 \r\nL 1075.955134 279 \r\nL 1075.955134 279 \r\nL 1070.045891 279 \r\nz\r\n\" style=\"fill:#1f77b4;fill-opacity:0.75;stroke:#000000;stroke-linejoin:miter;stroke-width:0.147341;\"/>\r\n   </g>\r\n   <g id=\"patch_177\">\r\n    <path clip-path=\"url(#p29e3c64f05)\" d=\"M 1075.955134 279 \r\nL 1081.864377 279 \r\nL 1081.864377 279 \r\nL 1075.955134 279 \r\nz\r\n\" style=\"fill:#1f77b4;fill-opacity:0.75;stroke:#000000;stroke-linejoin:miter;stroke-width:0.147341;\"/>\r\n   </g>\r\n   <g id=\"patch_178\">\r\n    <path clip-path=\"url(#p29e3c64f05)\" d=\"M 1081.864377 279 \r\nL 1087.77362 279 \r\nL 1087.77362 279 \r\nL 1081.864377 279 \r\nz\r\n\" style=\"fill:#1f77b4;fill-opacity:0.75;stroke:#000000;stroke-linejoin:miter;stroke-width:0.147341;\"/>\r\n   </g>\r\n   <g id=\"patch_179\">\r\n    <path clip-path=\"url(#p29e3c64f05)\" d=\"M 1087.77362 279 \r\nL 1093.682863 279 \r\nL 1093.682863 279 \r\nL 1087.77362 279 \r\nz\r\n\" style=\"fill:#1f77b4;fill-opacity:0.75;stroke:#000000;stroke-linejoin:miter;stroke-width:0.147341;\"/>\r\n   </g>\r\n   <g id=\"patch_180\">\r\n    <path clip-path=\"url(#p29e3c64f05)\" d=\"M 1093.682863 279 \r\nL 1099.592106 279 \r\nL 1099.592106 279 \r\nL 1093.682863 279 \r\nz\r\n\" style=\"fill:#1f77b4;fill-opacity:0.75;stroke:#000000;stroke-linejoin:miter;stroke-width:0.147341;\"/>\r\n   </g>\r\n   <g id=\"patch_181\">\r\n    <path clip-path=\"url(#p29e3c64f05)\" d=\"M 1099.592106 279 \r\nL 1105.501349 279 \r\nL 1105.501349 278.557509 \r\nL 1099.592106 278.557509 \r\nz\r\n\" style=\"fill:#1f77b4;fill-opacity:0.75;stroke:#000000;stroke-linejoin:miter;stroke-width:0.147341;\"/>\r\n   </g>\r\n   <g id=\"patch_182\">\r\n    <path clip-path=\"url(#p29e3c64f05)\" d=\"M 1105.501349 279 \r\nL 1111.410593 279 \r\nL 1111.410593 279 \r\nL 1105.501349 279 \r\nz\r\n\" style=\"fill:#1f77b4;fill-opacity:0.75;stroke:#000000;stroke-linejoin:miter;stroke-width:0.147341;\"/>\r\n   </g>\r\n   <g id=\"patch_183\">\r\n    <path clip-path=\"url(#p29e3c64f05)\" d=\"M 1111.410593 279 \r\nL 1117.319836 279 \r\nL 1117.319836 279 \r\nL 1111.410593 279 \r\nz\r\n\" style=\"fill:#1f77b4;fill-opacity:0.75;stroke:#000000;stroke-linejoin:miter;stroke-width:0.147341;\"/>\r\n   </g>\r\n   <g id=\"patch_184\">\r\n    <path clip-path=\"url(#p29e3c64f05)\" d=\"M 1117.319836 279 \r\nL 1123.229079 279 \r\nL 1123.229079 279 \r\nL 1117.319836 279 \r\nz\r\n\" style=\"fill:#1f77b4;fill-opacity:0.75;stroke:#000000;stroke-linejoin:miter;stroke-width:0.147341;\"/>\r\n   </g>\r\n   <g id=\"patch_185\">\r\n    <path clip-path=\"url(#p29e3c64f05)\" d=\"M 1123.229079 279 \r\nL 1129.138322 279 \r\nL 1129.138322 279 \r\nL 1123.229079 279 \r\nz\r\n\" style=\"fill:#1f77b4;fill-opacity:0.75;stroke:#000000;stroke-linejoin:miter;stroke-width:0.147341;\"/>\r\n   </g>\r\n   <g id=\"patch_186\">\r\n    <path clip-path=\"url(#p29e3c64f05)\" d=\"M 1129.138322 279 \r\nL 1135.047565 279 \r\nL 1135.047565 279 \r\nL 1129.138322 279 \r\nz\r\n\" style=\"fill:#1f77b4;fill-opacity:0.75;stroke:#000000;stroke-linejoin:miter;stroke-width:0.147341;\"/>\r\n   </g>\r\n   <g id=\"patch_187\">\r\n    <path clip-path=\"url(#p29e3c64f05)\" d=\"M 1135.047565 279 \r\nL 1140.956808 279 \r\nL 1140.956808 279 \r\nL 1135.047565 279 \r\nz\r\n\" style=\"fill:#1f77b4;fill-opacity:0.75;stroke:#000000;stroke-linejoin:miter;stroke-width:0.147341;\"/>\r\n   </g>\r\n   <g id=\"patch_188\">\r\n    <path clip-path=\"url(#p29e3c64f05)\" d=\"M 1140.956808 279 \r\nL 1146.866052 279 \r\nL 1146.866052 279 \r\nL 1140.956808 279 \r\nz\r\n\" style=\"fill:#1f77b4;fill-opacity:0.75;stroke:#000000;stroke-linejoin:miter;stroke-width:0.147341;\"/>\r\n   </g>\r\n   <g id=\"patch_189\">\r\n    <path clip-path=\"url(#p29e3c64f05)\" d=\"M 1146.866052 279 \r\nL 1152.775295 279 \r\nL 1152.775295 279 \r\nL 1146.866052 279 \r\nz\r\n\" style=\"fill:#1f77b4;fill-opacity:0.75;stroke:#000000;stroke-linejoin:miter;stroke-width:0.147341;\"/>\r\n   </g>\r\n   <g id=\"patch_190\">\r\n    <path clip-path=\"url(#p29e3c64f05)\" d=\"M 1152.775295 279 \r\nL 1158.684538 279 \r\nL 1158.684538 279 \r\nL 1152.775295 279 \r\nz\r\n\" style=\"fill:#1f77b4;fill-opacity:0.75;stroke:#000000;stroke-linejoin:miter;stroke-width:0.147341;\"/>\r\n   </g>\r\n   <g id=\"patch_191\">\r\n    <path clip-path=\"url(#p29e3c64f05)\" d=\"M 1158.684538 279 \r\nL 1164.593781 279 \r\nL 1164.593781 279 \r\nL 1158.684538 279 \r\nz\r\n\" style=\"fill:#1f77b4;fill-opacity:0.75;stroke:#000000;stroke-linejoin:miter;stroke-width:0.147341;\"/>\r\n   </g>\r\n   <g id=\"patch_192\">\r\n    <path clip-path=\"url(#p29e3c64f05)\" d=\"M 1164.593781 279 \r\nL 1170.503024 279 \r\nL 1170.503024 279 \r\nL 1164.593781 279 \r\nz\r\n\" style=\"fill:#1f77b4;fill-opacity:0.75;stroke:#000000;stroke-linejoin:miter;stroke-width:0.147341;\"/>\r\n   </g>\r\n   <g id=\"patch_193\">\r\n    <path clip-path=\"url(#p29e3c64f05)\" d=\"M 1170.503024 279 \r\nL 1176.412267 279 \r\nL 1176.412267 279 \r\nL 1170.503024 279 \r\nz\r\n\" style=\"fill:#1f77b4;fill-opacity:0.75;stroke:#000000;stroke-linejoin:miter;stroke-width:0.147341;\"/>\r\n   </g>\r\n   <g id=\"patch_194\">\r\n    <path clip-path=\"url(#p29e3c64f05)\" d=\"M 1176.412267 279 \r\nL 1182.32151 279 \r\nL 1182.32151 279 \r\nL 1176.412267 279 \r\nz\r\n\" style=\"fill:#1f77b4;fill-opacity:0.75;stroke:#000000;stroke-linejoin:miter;stroke-width:0.147341;\"/>\r\n   </g>\r\n   <g id=\"patch_195\">\r\n    <path clip-path=\"url(#p29e3c64f05)\" d=\"M 1182.32151 279 \r\nL 1188.230754 279 \r\nL 1188.230754 279 \r\nL 1182.32151 279 \r\nz\r\n\" style=\"fill:#1f77b4;fill-opacity:0.75;stroke:#000000;stroke-linejoin:miter;stroke-width:0.147341;\"/>\r\n   </g>\r\n   <g id=\"patch_196\">\r\n    <path clip-path=\"url(#p29e3c64f05)\" d=\"M 1188.230754 279 \r\nL 1194.139997 279 \r\nL 1194.139997 279 \r\nL 1188.230754 279 \r\nz\r\n\" style=\"fill:#1f77b4;fill-opacity:0.75;stroke:#000000;stroke-linejoin:miter;stroke-width:0.147341;\"/>\r\n   </g>\r\n   <g id=\"patch_197\">\r\n    <path clip-path=\"url(#p29e3c64f05)\" d=\"M 1194.139997 279 \r\nL 1200.04924 279 \r\nL 1200.04924 279 \r\nL 1194.139997 279 \r\nz\r\n\" style=\"fill:#1f77b4;fill-opacity:0.75;stroke:#000000;stroke-linejoin:miter;stroke-width:0.147341;\"/>\r\n   </g>\r\n   <g id=\"patch_198\">\r\n    <path clip-path=\"url(#p29e3c64f05)\" d=\"M 1200.04924 279 \r\nL 1205.958483 279 \r\nL 1205.958483 279 \r\nL 1200.04924 279 \r\nz\r\n\" style=\"fill:#1f77b4;fill-opacity:0.75;stroke:#000000;stroke-linejoin:miter;stroke-width:0.147341;\"/>\r\n   </g>\r\n   <g id=\"patch_199\">\r\n    <path clip-path=\"url(#p29e3c64f05)\" d=\"M 1205.958483 279 \r\nL 1211.867726 279 \r\nL 1211.867726 279 \r\nL 1205.958483 279 \r\nz\r\n\" style=\"fill:#1f77b4;fill-opacity:0.75;stroke:#000000;stroke-linejoin:miter;stroke-width:0.147341;\"/>\r\n   </g>\r\n   <g id=\"patch_200\">\r\n    <path clip-path=\"url(#p29e3c64f05)\" d=\"M 1211.867726 279 \r\nL 1217.776969 279 \r\nL 1217.776969 279 \r\nL 1211.867726 279 \r\nz\r\n\" style=\"fill:#1f77b4;fill-opacity:0.75;stroke:#000000;stroke-linejoin:miter;stroke-width:0.147341;\"/>\r\n   </g>\r\n   <g id=\"patch_201\">\r\n    <path clip-path=\"url(#p29e3c64f05)\" d=\"M 1217.776969 279 \r\nL 1223.686213 279 \r\nL 1223.686213 279 \r\nL 1217.776969 279 \r\nz\r\n\" style=\"fill:#1f77b4;fill-opacity:0.75;stroke:#000000;stroke-linejoin:miter;stroke-width:0.147341;\"/>\r\n   </g>\r\n   <g id=\"patch_202\">\r\n    <path clip-path=\"url(#p29e3c64f05)\" d=\"M 1223.686213 279 \r\nL 1229.595456 279 \r\nL 1229.595456 279 \r\nL 1223.686213 279 \r\nz\r\n\" style=\"fill:#1f77b4;fill-opacity:0.75;stroke:#000000;stroke-linejoin:miter;stroke-width:0.147341;\"/>\r\n   </g>\r\n   <g id=\"patch_203\">\r\n    <path clip-path=\"url(#p29e3c64f05)\" d=\"M 1229.595456 279 \r\nL 1235.504699 279 \r\nL 1235.504699 279 \r\nL 1229.595456 279 \r\nz\r\n\" style=\"fill:#1f77b4;fill-opacity:0.75;stroke:#000000;stroke-linejoin:miter;stroke-width:0.147341;\"/>\r\n   </g>\r\n   <g id=\"patch_204\">\r\n    <path clip-path=\"url(#p29e3c64f05)\" d=\"M 1235.504699 279 \r\nL 1241.413942 279 \r\nL 1241.413942 279 \r\nL 1235.504699 279 \r\nz\r\n\" style=\"fill:#1f77b4;fill-opacity:0.75;stroke:#000000;stroke-linejoin:miter;stroke-width:0.147341;\"/>\r\n   </g>\r\n   <g id=\"patch_205\">\r\n    <path clip-path=\"url(#p29e3c64f05)\" d=\"M 1241.413942 279 \r\nL 1247.323185 279 \r\nL 1247.323185 279 \r\nL 1241.413942 279 \r\nz\r\n\" style=\"fill:#1f77b4;fill-opacity:0.75;stroke:#000000;stroke-linejoin:miter;stroke-width:0.147341;\"/>\r\n   </g>\r\n   <g id=\"patch_206\">\r\n    <path clip-path=\"url(#p29e3c64f05)\" d=\"M 1247.323185 279 \r\nL 1253.232428 279 \r\nL 1253.232428 279 \r\nL 1247.323185 279 \r\nz\r\n\" style=\"fill:#1f77b4;fill-opacity:0.75;stroke:#000000;stroke-linejoin:miter;stroke-width:0.147341;\"/>\r\n   </g>\r\n   <g id=\"patch_207\">\r\n    <path clip-path=\"url(#p29e3c64f05)\" d=\"M 1253.232428 279 \r\nL 1259.141671 279 \r\nL 1259.141671 279 \r\nL 1253.232428 279 \r\nz\r\n\" style=\"fill:#1f77b4;fill-opacity:0.75;stroke:#000000;stroke-linejoin:miter;stroke-width:0.147341;\"/>\r\n   </g>\r\n   <g id=\"patch_208\">\r\n    <path clip-path=\"url(#p29e3c64f05)\" d=\"M 1259.141671 279 \r\nL 1265.050915 279 \r\nL 1265.050915 279 \r\nL 1259.141671 279 \r\nz\r\n\" style=\"fill:#1f77b4;fill-opacity:0.75;stroke:#000000;stroke-linejoin:miter;stroke-width:0.147341;\"/>\r\n   </g>\r\n   <g id=\"patch_209\">\r\n    <path clip-path=\"url(#p29e3c64f05)\" d=\"M 1265.050915 279 \r\nL 1270.960158 279 \r\nL 1270.960158 279 \r\nL 1265.050915 279 \r\nz\r\n\" style=\"fill:#1f77b4;fill-opacity:0.75;stroke:#000000;stroke-linejoin:miter;stroke-width:0.147341;\"/>\r\n   </g>\r\n   <g id=\"patch_210\">\r\n    <path clip-path=\"url(#p29e3c64f05)\" d=\"M 1270.960158 279 \r\nL 1276.869401 279 \r\nL 1276.869401 279 \r\nL 1270.960158 279 \r\nz\r\n\" style=\"fill:#1f77b4;fill-opacity:0.75;stroke:#000000;stroke-linejoin:miter;stroke-width:0.147341;\"/>\r\n   </g>\r\n   <g id=\"patch_211\">\r\n    <path clip-path=\"url(#p29e3c64f05)\" d=\"M 1276.869401 279 \r\nL 1282.778644 279 \r\nL 1282.778644 279 \r\nL 1276.869401 279 \r\nz\r\n\" style=\"fill:#1f77b4;fill-opacity:0.75;stroke:#000000;stroke-linejoin:miter;stroke-width:0.147341;\"/>\r\n   </g>\r\n   <g id=\"patch_212\">\r\n    <path clip-path=\"url(#p29e3c64f05)\" d=\"M 1282.778644 279 \r\nL 1288.687887 279 \r\nL 1288.687887 279 \r\nL 1282.778644 279 \r\nz\r\n\" style=\"fill:#1f77b4;fill-opacity:0.75;stroke:#000000;stroke-linejoin:miter;stroke-width:0.147341;\"/>\r\n   </g>\r\n   <g id=\"patch_213\">\r\n    <path clip-path=\"url(#p29e3c64f05)\" d=\"M 1288.687887 279 \r\nL 1294.59713 279 \r\nL 1294.59713 279 \r\nL 1288.687887 279 \r\nz\r\n\" style=\"fill:#1f77b4;fill-opacity:0.75;stroke:#000000;stroke-linejoin:miter;stroke-width:0.147341;\"/>\r\n   </g>\r\n   <g id=\"patch_214\">\r\n    <path clip-path=\"url(#p29e3c64f05)\" d=\"M 1294.59713 279 \r\nL 1300.506374 279 \r\nL 1300.506374 279 \r\nL 1294.59713 279 \r\nz\r\n\" style=\"fill:#1f77b4;fill-opacity:0.75;stroke:#000000;stroke-linejoin:miter;stroke-width:0.147341;\"/>\r\n   </g>\r\n   <g id=\"patch_215\">\r\n    <path clip-path=\"url(#p29e3c64f05)\" d=\"M 1300.506374 279 \r\nL 1306.415617 279 \r\nL 1306.415617 279 \r\nL 1300.506374 279 \r\nz\r\n\" style=\"fill:#1f77b4;fill-opacity:0.75;stroke:#000000;stroke-linejoin:miter;stroke-width:0.147341;\"/>\r\n   </g>\r\n   <g id=\"patch_216\">\r\n    <path clip-path=\"url(#p29e3c64f05)\" d=\"M 1306.415617 279 \r\nL 1312.32486 279 \r\nL 1312.32486 279 \r\nL 1306.415617 279 \r\nz\r\n\" style=\"fill:#1f77b4;fill-opacity:0.75;stroke:#000000;stroke-linejoin:miter;stroke-width:0.147341;\"/>\r\n   </g>\r\n   <g id=\"patch_217\">\r\n    <path clip-path=\"url(#p29e3c64f05)\" d=\"M 1312.32486 279 \r\nL 1318.234103 279 \r\nL 1318.234103 279 \r\nL 1312.32486 279 \r\nz\r\n\" style=\"fill:#1f77b4;fill-opacity:0.75;stroke:#000000;stroke-linejoin:miter;stroke-width:0.147341;\"/>\r\n   </g>\r\n   <g id=\"patch_218\">\r\n    <path clip-path=\"url(#p29e3c64f05)\" d=\"M 1318.234103 279 \r\nL 1324.143346 279 \r\nL 1324.143346 279 \r\nL 1318.234103 279 \r\nz\r\n\" style=\"fill:#1f77b4;fill-opacity:0.75;stroke:#000000;stroke-linejoin:miter;stroke-width:0.147341;\"/>\r\n   </g>\r\n   <g id=\"patch_219\">\r\n    <path clip-path=\"url(#p29e3c64f05)\" d=\"M 1324.143346 279 \r\nL 1330.052589 279 \r\nL 1330.052589 279 \r\nL 1324.143346 279 \r\nz\r\n\" style=\"fill:#1f77b4;fill-opacity:0.75;stroke:#000000;stroke-linejoin:miter;stroke-width:0.147341;\"/>\r\n   </g>\r\n   <g id=\"patch_220\">\r\n    <path clip-path=\"url(#p29e3c64f05)\" d=\"M 1330.052589 279 \r\nL 1335.961832 279 \r\nL 1335.961832 279 \r\nL 1330.052589 279 \r\nz\r\n\" style=\"fill:#1f77b4;fill-opacity:0.75;stroke:#000000;stroke-linejoin:miter;stroke-width:0.147341;\"/>\r\n   </g>\r\n   <g id=\"patch_221\">\r\n    <path clip-path=\"url(#p29e3c64f05)\" d=\"M 1335.961832 279 \r\nL 1341.871076 279 \r\nL 1341.871076 279 \r\nL 1335.961832 279 \r\nz\r\n\" style=\"fill:#1f77b4;fill-opacity:0.75;stroke:#000000;stroke-linejoin:miter;stroke-width:0.147341;\"/>\r\n   </g>\r\n   <g id=\"patch_222\">\r\n    <path clip-path=\"url(#p29e3c64f05)\" d=\"M 1341.871076 279 \r\nL 1347.780319 279 \r\nL 1347.780319 279 \r\nL 1341.871076 279 \r\nz\r\n\" style=\"fill:#1f77b4;fill-opacity:0.75;stroke:#000000;stroke-linejoin:miter;stroke-width:0.147341;\"/>\r\n   </g>\r\n   <g id=\"patch_223\">\r\n    <path clip-path=\"url(#p29e3c64f05)\" d=\"M 1347.780319 279 \r\nL 1353.689562 279 \r\nL 1353.689562 279 \r\nL 1347.780319 279 \r\nz\r\n\" style=\"fill:#1f77b4;fill-opacity:0.75;stroke:#000000;stroke-linejoin:miter;stroke-width:0.147341;\"/>\r\n   </g>\r\n   <g id=\"patch_224\">\r\n    <path clip-path=\"url(#p29e3c64f05)\" d=\"M 1353.689562 279 \r\nL 1359.598805 279 \r\nL 1359.598805 279 \r\nL 1353.689562 279 \r\nz\r\n\" style=\"fill:#1f77b4;fill-opacity:0.75;stroke:#000000;stroke-linejoin:miter;stroke-width:0.147341;\"/>\r\n   </g>\r\n   <g id=\"patch_225\">\r\n    <path clip-path=\"url(#p29e3c64f05)\" d=\"M 1359.598805 279 \r\nL 1365.508048 279 \r\nL 1365.508048 279 \r\nL 1359.598805 279 \r\nz\r\n\" style=\"fill:#1f77b4;fill-opacity:0.75;stroke:#000000;stroke-linejoin:miter;stroke-width:0.147341;\"/>\r\n   </g>\r\n   <g id=\"patch_226\">\r\n    <path clip-path=\"url(#p29e3c64f05)\" d=\"M 1365.508048 279 \r\nL 1371.417291 279 \r\nL 1371.417291 279 \r\nL 1365.508048 279 \r\nz\r\n\" style=\"fill:#1f77b4;fill-opacity:0.75;stroke:#000000;stroke-linejoin:miter;stroke-width:0.147341;\"/>\r\n   </g>\r\n   <g id=\"patch_227\">\r\n    <path clip-path=\"url(#p29e3c64f05)\" d=\"M 1371.417291 279 \r\nL 1377.326535 279 \r\nL 1377.326535 279 \r\nL 1371.417291 279 \r\nz\r\n\" style=\"fill:#1f77b4;fill-opacity:0.75;stroke:#000000;stroke-linejoin:miter;stroke-width:0.147341;\"/>\r\n   </g>\r\n   <g id=\"patch_228\">\r\n    <path clip-path=\"url(#p29e3c64f05)\" d=\"M 1377.326535 279 \r\nL 1383.235778 279 \r\nL 1383.235778 279 \r\nL 1377.326535 279 \r\nz\r\n\" style=\"fill:#1f77b4;fill-opacity:0.75;stroke:#000000;stroke-linejoin:miter;stroke-width:0.147341;\"/>\r\n   </g>\r\n   <g id=\"patch_229\">\r\n    <path clip-path=\"url(#p29e3c64f05)\" d=\"M 1383.235778 279 \r\nL 1389.145021 279 \r\nL 1389.145021 279 \r\nL 1383.235778 279 \r\nz\r\n\" style=\"fill:#1f77b4;fill-opacity:0.75;stroke:#000000;stroke-linejoin:miter;stroke-width:0.147341;\"/>\r\n   </g>\r\n   <g id=\"patch_230\">\r\n    <path clip-path=\"url(#p29e3c64f05)\" d=\"M 1389.145021 279 \r\nL 1395.054264 279 \r\nL 1395.054264 279 \r\nL 1389.145021 279 \r\nz\r\n\" style=\"fill:#1f77b4;fill-opacity:0.75;stroke:#000000;stroke-linejoin:miter;stroke-width:0.147341;\"/>\r\n   </g>\r\n   <g id=\"patch_231\">\r\n    <path clip-path=\"url(#p29e3c64f05)\" d=\"M 1395.054264 279 \r\nL 1400.963507 279 \r\nL 1400.963507 279 \r\nL 1395.054264 279 \r\nz\r\n\" style=\"fill:#1f77b4;fill-opacity:0.75;stroke:#000000;stroke-linejoin:miter;stroke-width:0.147341;\"/>\r\n   </g>\r\n   <g id=\"patch_232\">\r\n    <path clip-path=\"url(#p29e3c64f05)\" d=\"M 1400.963507 279 \r\nL 1406.87275 279 \r\nL 1406.87275 279 \r\nL 1400.963507 279 \r\nz\r\n\" style=\"fill:#1f77b4;fill-opacity:0.75;stroke:#000000;stroke-linejoin:miter;stroke-width:0.147341;\"/>\r\n   </g>\r\n   <g id=\"patch_233\">\r\n    <path clip-path=\"url(#p29e3c64f05)\" d=\"M 1406.87275 279 \r\nL 1412.781993 279 \r\nL 1412.781993 279 \r\nL 1406.87275 279 \r\nz\r\n\" style=\"fill:#1f77b4;fill-opacity:0.75;stroke:#000000;stroke-linejoin:miter;stroke-width:0.147341;\"/>\r\n   </g>\r\n   <g id=\"patch_234\">\r\n    <path clip-path=\"url(#p29e3c64f05)\" d=\"M 1412.781993 279 \r\nL 1418.691237 279 \r\nL 1418.691237 279 \r\nL 1412.781993 279 \r\nz\r\n\" style=\"fill:#1f77b4;fill-opacity:0.75;stroke:#000000;stroke-linejoin:miter;stroke-width:0.147341;\"/>\r\n   </g>\r\n   <g id=\"patch_235\">\r\n    <path clip-path=\"url(#p29e3c64f05)\" d=\"M 1418.691237 279 \r\nL 1424.60048 279 \r\nL 1424.60048 279 \r\nL 1418.691237 279 \r\nz\r\n\" style=\"fill:#1f77b4;fill-opacity:0.75;stroke:#000000;stroke-linejoin:miter;stroke-width:0.147341;\"/>\r\n   </g>\r\n   <g id=\"patch_236\">\r\n    <path clip-path=\"url(#p29e3c64f05)\" d=\"M 1424.60048 279 \r\nL 1430.509723 279 \r\nL 1430.509723 279 \r\nL 1424.60048 279 \r\nz\r\n\" style=\"fill:#1f77b4;fill-opacity:0.75;stroke:#000000;stroke-linejoin:miter;stroke-width:0.147341;\"/>\r\n   </g>\r\n   <g id=\"patch_237\">\r\n    <path clip-path=\"url(#p29e3c64f05)\" d=\"M 1430.509723 279 \r\nL 1436.418966 279 \r\nL 1436.418966 279 \r\nL 1430.509723 279 \r\nz\r\n\" style=\"fill:#1f77b4;fill-opacity:0.75;stroke:#000000;stroke-linejoin:miter;stroke-width:0.147341;\"/>\r\n   </g>\r\n   <g id=\"patch_238\">\r\n    <path clip-path=\"url(#p29e3c64f05)\" d=\"M 1436.418966 279 \r\nL 1442.328209 279 \r\nL 1442.328209 278.557509 \r\nL 1436.418966 278.557509 \r\nz\r\n\" style=\"fill:#1f77b4;fill-opacity:0.75;stroke:#000000;stroke-linejoin:miter;stroke-width:0.147341;\"/>\r\n   </g>\r\n   <g id=\"patch_239\">\r\n    <path clip-path=\"url(#p29e3c64f05)\" d=\"M 1442.328209 279 \r\nL 1448.237452 279 \r\nL 1448.237452 279 \r\nL 1442.328209 279 \r\nz\r\n\" style=\"fill:#1f77b4;fill-opacity:0.75;stroke:#000000;stroke-linejoin:miter;stroke-width:0.147341;\"/>\r\n   </g>\r\n   <g id=\"patch_240\">\r\n    <path clip-path=\"url(#p29e3c64f05)\" d=\"M 1448.237452 279 \r\nL 1454.146696 279 \r\nL 1454.146696 279 \r\nL 1448.237452 279 \r\nz\r\n\" style=\"fill:#1f77b4;fill-opacity:0.75;stroke:#000000;stroke-linejoin:miter;stroke-width:0.147341;\"/>\r\n   </g>\r\n   <g id=\"patch_241\">\r\n    <path clip-path=\"url(#p29e3c64f05)\" d=\"M 1454.146696 279 \r\nL 1460.055939 279 \r\nL 1460.055939 279 \r\nL 1454.146696 279 \r\nz\r\n\" style=\"fill:#1f77b4;fill-opacity:0.75;stroke:#000000;stroke-linejoin:miter;stroke-width:0.147341;\"/>\r\n   </g>\r\n   <g id=\"patch_242\">\r\n    <path clip-path=\"url(#p29e3c64f05)\" d=\"M 1460.055939 279 \r\nL 1465.965182 279 \r\nL 1465.965182 279 \r\nL 1460.055939 279 \r\nz\r\n\" style=\"fill:#1f77b4;fill-opacity:0.75;stroke:#000000;stroke-linejoin:miter;stroke-width:0.147341;\"/>\r\n   </g>\r\n   <g id=\"patch_243\">\r\n    <path clip-path=\"url(#p29e3c64f05)\" d=\"M 1465.965182 279 \r\nL 1471.874425 279 \r\nL 1471.874425 278.557509 \r\nL 1465.965182 278.557509 \r\nz\r\n\" style=\"fill:#1f77b4;fill-opacity:0.75;stroke:#000000;stroke-linejoin:miter;stroke-width:0.147341;\"/>\r\n   </g>\r\n   <g id=\"matplotlib.axis_1\">\r\n    <g id=\"xtick_1\">\r\n     <g id=\"line2d_1\">\r\n      <defs>\r\n       <path d=\"M 0 0 \r\nL 0 3.5 \r\n\" id=\"ma12143a926\" style=\"stroke:#000000;stroke-width:0.8;\"/>\r\n      </defs>\r\n      <g>\r\n       <use style=\"stroke:#000000;stroke-width:0.8;\" x=\"46.965625\" xlink:href=\"#ma12143a926\" y=\"279\"/>\r\n      </g>\r\n     </g>\r\n     <g id=\"text_1\">\r\n      <!-- 0 -->\r\n      <g transform=\"translate(43.784375 293.598437)scale(0.1 -0.1)\">\r\n       <defs>\r\n        <path d=\"M 31.78125 66.40625 \r\nQ 24.171875 66.40625 20.328125 58.90625 \r\nQ 16.5 51.421875 16.5 36.375 \r\nQ 16.5 21.390625 20.328125 13.890625 \r\nQ 24.171875 6.390625 31.78125 6.390625 \r\nQ 39.453125 6.390625 43.28125 13.890625 \r\nQ 47.125 21.390625 47.125 36.375 \r\nQ 47.125 51.421875 43.28125 58.90625 \r\nQ 39.453125 66.40625 31.78125 66.40625 \r\nz\r\nM 31.78125 74.21875 \r\nQ 44.046875 74.21875 50.515625 64.515625 \r\nQ 56.984375 54.828125 56.984375 36.375 \r\nQ 56.984375 17.96875 50.515625 8.265625 \r\nQ 44.046875 -1.421875 31.78125 -1.421875 \r\nQ 19.53125 -1.421875 13.0625 8.265625 \r\nQ 6.59375 17.96875 6.59375 36.375 \r\nQ 6.59375 54.828125 13.0625 64.515625 \r\nQ 19.53125 74.21875 31.78125 74.21875 \r\nz\r\n\" id=\"DejaVuSans-48\"/>\r\n       </defs>\r\n       <use xlink:href=\"#DejaVuSans-48\"/>\r\n      </g>\r\n     </g>\r\n    </g>\r\n    <g id=\"xtick_2\">\r\n     <g id=\"line2d_2\">\r\n      <g>\r\n       <use style=\"stroke:#000000;stroke-width:0.8;\" x=\"125.085625\" xlink:href=\"#ma12143a926\" y=\"279\"/>\r\n      </g>\r\n     </g>\r\n     <g id=\"text_2\">\r\n      <!-- 100 -->\r\n      <g transform=\"translate(115.541875 293.598437)scale(0.1 -0.1)\">\r\n       <defs>\r\n        <path d=\"M 12.40625 8.296875 \r\nL 28.515625 8.296875 \r\nL 28.515625 63.921875 \r\nL 10.984375 60.40625 \r\nL 10.984375 69.390625 \r\nL 28.421875 72.90625 \r\nL 38.28125 72.90625 \r\nL 38.28125 8.296875 \r\nL 54.390625 8.296875 \r\nL 54.390625 0 \r\nL 12.40625 0 \r\nz\r\n\" id=\"DejaVuSans-49\"/>\r\n       </defs>\r\n       <use xlink:href=\"#DejaVuSans-49\"/>\r\n       <use x=\"63.623047\" xlink:href=\"#DejaVuSans-48\"/>\r\n       <use x=\"127.246094\" xlink:href=\"#DejaVuSans-48\"/>\r\n      </g>\r\n     </g>\r\n    </g>\r\n    <g id=\"xtick_3\">\r\n     <g id=\"line2d_3\">\r\n      <g>\r\n       <use style=\"stroke:#000000;stroke-width:0.8;\" x=\"203.205625\" xlink:href=\"#ma12143a926\" y=\"279\"/>\r\n      </g>\r\n     </g>\r\n     <g id=\"text_3\">\r\n      <!-- 200 -->\r\n      <g transform=\"translate(193.661875 293.598437)scale(0.1 -0.1)\">\r\n       <defs>\r\n        <path d=\"M 19.1875 8.296875 \r\nL 53.609375 8.296875 \r\nL 53.609375 0 \r\nL 7.328125 0 \r\nL 7.328125 8.296875 \r\nQ 12.9375 14.109375 22.625 23.890625 \r\nQ 32.328125 33.6875 34.8125 36.53125 \r\nQ 39.546875 41.84375 41.421875 45.53125 \r\nQ 43.3125 49.21875 43.3125 52.78125 \r\nQ 43.3125 58.59375 39.234375 62.25 \r\nQ 35.15625 65.921875 28.609375 65.921875 \r\nQ 23.96875 65.921875 18.8125 64.3125 \r\nQ 13.671875 62.703125 7.8125 59.421875 \r\nL 7.8125 69.390625 \r\nQ 13.765625 71.78125 18.9375 73 \r\nQ 24.125 74.21875 28.421875 74.21875 \r\nQ 39.75 74.21875 46.484375 68.546875 \r\nQ 53.21875 62.890625 53.21875 53.421875 \r\nQ 53.21875 48.921875 51.53125 44.890625 \r\nQ 49.859375 40.875 45.40625 35.40625 \r\nQ 44.1875 33.984375 37.640625 27.21875 \r\nQ 31.109375 20.453125 19.1875 8.296875 \r\nz\r\n\" id=\"DejaVuSans-50\"/>\r\n       </defs>\r\n       <use xlink:href=\"#DejaVuSans-50\"/>\r\n       <use x=\"63.623047\" xlink:href=\"#DejaVuSans-48\"/>\r\n       <use x=\"127.246094\" xlink:href=\"#DejaVuSans-48\"/>\r\n      </g>\r\n     </g>\r\n    </g>\r\n    <g id=\"xtick_4\">\r\n     <g id=\"line2d_4\">\r\n      <g>\r\n       <use style=\"stroke:#000000;stroke-width:0.8;\" x=\"281.325625\" xlink:href=\"#ma12143a926\" y=\"279\"/>\r\n      </g>\r\n     </g>\r\n     <g id=\"text_4\">\r\n      <!-- 300 -->\r\n      <g transform=\"translate(271.781875 293.598437)scale(0.1 -0.1)\">\r\n       <defs>\r\n        <path d=\"M 40.578125 39.3125 \r\nQ 47.65625 37.796875 51.625 33 \r\nQ 55.609375 28.21875 55.609375 21.1875 \r\nQ 55.609375 10.40625 48.1875 4.484375 \r\nQ 40.765625 -1.421875 27.09375 -1.421875 \r\nQ 22.515625 -1.421875 17.65625 -0.515625 \r\nQ 12.796875 0.390625 7.625 2.203125 \r\nL 7.625 11.71875 \r\nQ 11.71875 9.328125 16.59375 8.109375 \r\nQ 21.484375 6.890625 26.8125 6.890625 \r\nQ 36.078125 6.890625 40.9375 10.546875 \r\nQ 45.796875 14.203125 45.796875 21.1875 \r\nQ 45.796875 27.640625 41.28125 31.265625 \r\nQ 36.765625 34.90625 28.71875 34.90625 \r\nL 20.21875 34.90625 \r\nL 20.21875 43.015625 \r\nL 29.109375 43.015625 \r\nQ 36.375 43.015625 40.234375 45.921875 \r\nQ 44.09375 48.828125 44.09375 54.296875 \r\nQ 44.09375 59.90625 40.109375 62.90625 \r\nQ 36.140625 65.921875 28.71875 65.921875 \r\nQ 24.65625 65.921875 20.015625 65.03125 \r\nQ 15.375 64.15625 9.8125 62.3125 \r\nL 9.8125 71.09375 \r\nQ 15.4375 72.65625 20.34375 73.4375 \r\nQ 25.25 74.21875 29.59375 74.21875 \r\nQ 40.828125 74.21875 47.359375 69.109375 \r\nQ 53.90625 64.015625 53.90625 55.328125 \r\nQ 53.90625 49.265625 50.4375 45.09375 \r\nQ 46.96875 40.921875 40.578125 39.3125 \r\nz\r\n\" id=\"DejaVuSans-51\"/>\r\n       </defs>\r\n       <use xlink:href=\"#DejaVuSans-51\"/>\r\n       <use x=\"63.623047\" xlink:href=\"#DejaVuSans-48\"/>\r\n       <use x=\"127.246094\" xlink:href=\"#DejaVuSans-48\"/>\r\n      </g>\r\n     </g>\r\n    </g>\r\n    <g id=\"xtick_5\">\r\n     <g id=\"line2d_5\">\r\n      <g>\r\n       <use style=\"stroke:#000000;stroke-width:0.8;\" x=\"359.445625\" xlink:href=\"#ma12143a926\" y=\"279\"/>\r\n      </g>\r\n     </g>\r\n     <g id=\"text_5\">\r\n      <!-- 400 -->\r\n      <g transform=\"translate(349.901875 293.598437)scale(0.1 -0.1)\">\r\n       <defs>\r\n        <path d=\"M 37.796875 64.3125 \r\nL 12.890625 25.390625 \r\nL 37.796875 25.390625 \r\nz\r\nM 35.203125 72.90625 \r\nL 47.609375 72.90625 \r\nL 47.609375 25.390625 \r\nL 58.015625 25.390625 \r\nL 58.015625 17.1875 \r\nL 47.609375 17.1875 \r\nL 47.609375 0 \r\nL 37.796875 0 \r\nL 37.796875 17.1875 \r\nL 4.890625 17.1875 \r\nL 4.890625 26.703125 \r\nz\r\n\" id=\"DejaVuSans-52\"/>\r\n       </defs>\r\n       <use xlink:href=\"#DejaVuSans-52\"/>\r\n       <use x=\"63.623047\" xlink:href=\"#DejaVuSans-48\"/>\r\n       <use x=\"127.246094\" xlink:href=\"#DejaVuSans-48\"/>\r\n      </g>\r\n     </g>\r\n    </g>\r\n    <g id=\"xtick_6\">\r\n     <g id=\"line2d_6\">\r\n      <g>\r\n       <use style=\"stroke:#000000;stroke-width:0.8;\" x=\"437.565625\" xlink:href=\"#ma12143a926\" y=\"279\"/>\r\n      </g>\r\n     </g>\r\n     <g id=\"text_6\">\r\n      <!-- 500 -->\r\n      <g transform=\"translate(428.021875 293.598437)scale(0.1 -0.1)\">\r\n       <defs>\r\n        <path d=\"M 10.796875 72.90625 \r\nL 49.515625 72.90625 \r\nL 49.515625 64.59375 \r\nL 19.828125 64.59375 \r\nL 19.828125 46.734375 \r\nQ 21.96875 47.46875 24.109375 47.828125 \r\nQ 26.265625 48.1875 28.421875 48.1875 \r\nQ 40.625 48.1875 47.75 41.5 \r\nQ 54.890625 34.8125 54.890625 23.390625 \r\nQ 54.890625 11.625 47.5625 5.09375 \r\nQ 40.234375 -1.421875 26.90625 -1.421875 \r\nQ 22.3125 -1.421875 17.546875 -0.640625 \r\nQ 12.796875 0.140625 7.71875 1.703125 \r\nL 7.71875 11.625 \r\nQ 12.109375 9.234375 16.796875 8.0625 \r\nQ 21.484375 6.890625 26.703125 6.890625 \r\nQ 35.15625 6.890625 40.078125 11.328125 \r\nQ 45.015625 15.765625 45.015625 23.390625 \r\nQ 45.015625 31 40.078125 35.4375 \r\nQ 35.15625 39.890625 26.703125 39.890625 \r\nQ 22.75 39.890625 18.8125 39.015625 \r\nQ 14.890625 38.140625 10.796875 36.28125 \r\nz\r\n\" id=\"DejaVuSans-53\"/>\r\n       </defs>\r\n       <use xlink:href=\"#DejaVuSans-53\"/>\r\n       <use x=\"63.623047\" xlink:href=\"#DejaVuSans-48\"/>\r\n       <use x=\"127.246094\" xlink:href=\"#DejaVuSans-48\"/>\r\n      </g>\r\n     </g>\r\n    </g>\r\n    <g id=\"text_7\">\r\n     <!-- Description -->\r\n     <g transform=\"translate(213.789062 307.276562)scale(0.1 -0.1)\">\r\n      <defs>\r\n       <path d=\"M 19.671875 64.796875 \r\nL 19.671875 8.109375 \r\nL 31.59375 8.109375 \r\nQ 46.6875 8.109375 53.6875 14.9375 \r\nQ 60.6875 21.78125 60.6875 36.53125 \r\nQ 60.6875 51.171875 53.6875 57.984375 \r\nQ 46.6875 64.796875 31.59375 64.796875 \r\nz\r\nM 9.8125 72.90625 \r\nL 30.078125 72.90625 \r\nQ 51.265625 72.90625 61.171875 64.09375 \r\nQ 71.09375 55.28125 71.09375 36.53125 \r\nQ 71.09375 17.671875 61.125 8.828125 \r\nQ 51.171875 0 30.078125 0 \r\nL 9.8125 0 \r\nz\r\n\" id=\"DejaVuSans-68\"/>\r\n       <path d=\"M 56.203125 29.59375 \r\nL 56.203125 25.203125 \r\nL 14.890625 25.203125 \r\nQ 15.484375 15.921875 20.484375 11.0625 \r\nQ 25.484375 6.203125 34.421875 6.203125 \r\nQ 39.59375 6.203125 44.453125 7.46875 \r\nQ 49.3125 8.734375 54.109375 11.28125 \r\nL 54.109375 2.78125 \r\nQ 49.265625 0.734375 44.1875 -0.34375 \r\nQ 39.109375 -1.421875 33.890625 -1.421875 \r\nQ 20.796875 -1.421875 13.15625 6.1875 \r\nQ 5.515625 13.8125 5.515625 26.8125 \r\nQ 5.515625 40.234375 12.765625 48.109375 \r\nQ 20.015625 56 32.328125 56 \r\nQ 43.359375 56 49.78125 48.890625 \r\nQ 56.203125 41.796875 56.203125 29.59375 \r\nz\r\nM 47.21875 32.234375 \r\nQ 47.125 39.59375 43.09375 43.984375 \r\nQ 39.0625 48.390625 32.421875 48.390625 \r\nQ 24.90625 48.390625 20.390625 44.140625 \r\nQ 15.875 39.890625 15.1875 32.171875 \r\nz\r\n\" id=\"DejaVuSans-101\"/>\r\n       <path d=\"M 44.28125 53.078125 \r\nL 44.28125 44.578125 \r\nQ 40.484375 46.53125 36.375 47.5 \r\nQ 32.28125 48.484375 27.875 48.484375 \r\nQ 21.1875 48.484375 17.84375 46.4375 \r\nQ 14.5 44.390625 14.5 40.28125 \r\nQ 14.5 37.15625 16.890625 35.375 \r\nQ 19.28125 33.59375 26.515625 31.984375 \r\nL 29.59375 31.296875 \r\nQ 39.15625 29.25 43.1875 25.515625 \r\nQ 47.21875 21.78125 47.21875 15.09375 \r\nQ 47.21875 7.46875 41.1875 3.015625 \r\nQ 35.15625 -1.421875 24.609375 -1.421875 \r\nQ 20.21875 -1.421875 15.453125 -0.5625 \r\nQ 10.6875 0.296875 5.421875 2 \r\nL 5.421875 11.28125 \r\nQ 10.40625 8.6875 15.234375 7.390625 \r\nQ 20.0625 6.109375 24.8125 6.109375 \r\nQ 31.15625 6.109375 34.5625 8.28125 \r\nQ 37.984375 10.453125 37.984375 14.40625 \r\nQ 37.984375 18.0625 35.515625 20.015625 \r\nQ 33.0625 21.96875 24.703125 23.78125 \r\nL 21.578125 24.515625 \r\nQ 13.234375 26.265625 9.515625 29.90625 \r\nQ 5.8125 33.546875 5.8125 39.890625 \r\nQ 5.8125 47.609375 11.28125 51.796875 \r\nQ 16.75 56 26.8125 56 \r\nQ 31.78125 56 36.171875 55.265625 \r\nQ 40.578125 54.546875 44.28125 53.078125 \r\nz\r\n\" id=\"DejaVuSans-115\"/>\r\n       <path d=\"M 48.78125 52.59375 \r\nL 48.78125 44.1875 \r\nQ 44.96875 46.296875 41.140625 47.34375 \r\nQ 37.3125 48.390625 33.40625 48.390625 \r\nQ 24.65625 48.390625 19.8125 42.84375 \r\nQ 14.984375 37.3125 14.984375 27.296875 \r\nQ 14.984375 17.28125 19.8125 11.734375 \r\nQ 24.65625 6.203125 33.40625 6.203125 \r\nQ 37.3125 6.203125 41.140625 7.25 \r\nQ 44.96875 8.296875 48.78125 10.40625 \r\nL 48.78125 2.09375 \r\nQ 45.015625 0.34375 40.984375 -0.53125 \r\nQ 36.96875 -1.421875 32.421875 -1.421875 \r\nQ 20.0625 -1.421875 12.78125 6.34375 \r\nQ 5.515625 14.109375 5.515625 27.296875 \r\nQ 5.515625 40.671875 12.859375 48.328125 \r\nQ 20.21875 56 33.015625 56 \r\nQ 37.15625 56 41.109375 55.140625 \r\nQ 45.0625 54.296875 48.78125 52.59375 \r\nz\r\n\" id=\"DejaVuSans-99\"/>\r\n       <path d=\"M 41.109375 46.296875 \r\nQ 39.59375 47.171875 37.8125 47.578125 \r\nQ 36.03125 48 33.890625 48 \r\nQ 26.265625 48 22.1875 43.046875 \r\nQ 18.109375 38.09375 18.109375 28.8125 \r\nL 18.109375 0 \r\nL 9.078125 0 \r\nL 9.078125 54.6875 \r\nL 18.109375 54.6875 \r\nL 18.109375 46.1875 \r\nQ 20.953125 51.171875 25.484375 53.578125 \r\nQ 30.03125 56 36.53125 56 \r\nQ 37.453125 56 38.578125 55.875 \r\nQ 39.703125 55.765625 41.0625 55.515625 \r\nz\r\n\" id=\"DejaVuSans-114\"/>\r\n       <path d=\"M 9.421875 54.6875 \r\nL 18.40625 54.6875 \r\nL 18.40625 0 \r\nL 9.421875 0 \r\nz\r\nM 9.421875 75.984375 \r\nL 18.40625 75.984375 \r\nL 18.40625 64.59375 \r\nL 9.421875 64.59375 \r\nz\r\n\" id=\"DejaVuSans-105\"/>\r\n       <path d=\"M 18.109375 8.203125 \r\nL 18.109375 -20.796875 \r\nL 9.078125 -20.796875 \r\nL 9.078125 54.6875 \r\nL 18.109375 54.6875 \r\nL 18.109375 46.390625 \r\nQ 20.953125 51.265625 25.265625 53.625 \r\nQ 29.59375 56 35.59375 56 \r\nQ 45.5625 56 51.78125 48.09375 \r\nQ 58.015625 40.1875 58.015625 27.296875 \r\nQ 58.015625 14.40625 51.78125 6.484375 \r\nQ 45.5625 -1.421875 35.59375 -1.421875 \r\nQ 29.59375 -1.421875 25.265625 0.953125 \r\nQ 20.953125 3.328125 18.109375 8.203125 \r\nz\r\nM 48.6875 27.296875 \r\nQ 48.6875 37.203125 44.609375 42.84375 \r\nQ 40.53125 48.484375 33.40625 48.484375 \r\nQ 26.265625 48.484375 22.1875 42.84375 \r\nQ 18.109375 37.203125 18.109375 27.296875 \r\nQ 18.109375 17.390625 22.1875 11.75 \r\nQ 26.265625 6.109375 33.40625 6.109375 \r\nQ 40.53125 6.109375 44.609375 11.75 \r\nQ 48.6875 17.390625 48.6875 27.296875 \r\nz\r\n\" id=\"DejaVuSans-112\"/>\r\n       <path d=\"M 18.3125 70.21875 \r\nL 18.3125 54.6875 \r\nL 36.8125 54.6875 \r\nL 36.8125 47.703125 \r\nL 18.3125 47.703125 \r\nL 18.3125 18.015625 \r\nQ 18.3125 11.328125 20.140625 9.421875 \r\nQ 21.96875 7.515625 27.59375 7.515625 \r\nL 36.8125 7.515625 \r\nL 36.8125 0 \r\nL 27.59375 0 \r\nQ 17.1875 0 13.234375 3.875 \r\nQ 9.28125 7.765625 9.28125 18.015625 \r\nL 9.28125 47.703125 \r\nL 2.6875 47.703125 \r\nL 2.6875 54.6875 \r\nL 9.28125 54.6875 \r\nL 9.28125 70.21875 \r\nz\r\n\" id=\"DejaVuSans-116\"/>\r\n       <path d=\"M 30.609375 48.390625 \r\nQ 23.390625 48.390625 19.1875 42.75 \r\nQ 14.984375 37.109375 14.984375 27.296875 \r\nQ 14.984375 17.484375 19.15625 11.84375 \r\nQ 23.34375 6.203125 30.609375 6.203125 \r\nQ 37.796875 6.203125 41.984375 11.859375 \r\nQ 46.1875 17.53125 46.1875 27.296875 \r\nQ 46.1875 37.015625 41.984375 42.703125 \r\nQ 37.796875 48.390625 30.609375 48.390625 \r\nz\r\nM 30.609375 56 \r\nQ 42.328125 56 49.015625 48.375 \r\nQ 55.71875 40.765625 55.71875 27.296875 \r\nQ 55.71875 13.875 49.015625 6.21875 \r\nQ 42.328125 -1.421875 30.609375 -1.421875 \r\nQ 18.84375 -1.421875 12.171875 6.21875 \r\nQ 5.515625 13.875 5.515625 27.296875 \r\nQ 5.515625 40.765625 12.171875 48.375 \r\nQ 18.84375 56 30.609375 56 \r\nz\r\n\" id=\"DejaVuSans-111\"/>\r\n       <path d=\"M 54.890625 33.015625 \r\nL 54.890625 0 \r\nL 45.90625 0 \r\nL 45.90625 32.71875 \r\nQ 45.90625 40.484375 42.875 44.328125 \r\nQ 39.84375 48.1875 33.796875 48.1875 \r\nQ 26.515625 48.1875 22.3125 43.546875 \r\nQ 18.109375 38.921875 18.109375 30.90625 \r\nL 18.109375 0 \r\nL 9.078125 0 \r\nL 9.078125 54.6875 \r\nL 18.109375 54.6875 \r\nL 18.109375 46.1875 \r\nQ 21.34375 51.125 25.703125 53.5625 \r\nQ 30.078125 56 35.796875 56 \r\nQ 45.21875 56 50.046875 50.171875 \r\nQ 54.890625 44.34375 54.890625 33.015625 \r\nz\r\n\" id=\"DejaVuSans-110\"/>\r\n      </defs>\r\n      <use xlink:href=\"#DejaVuSans-68\"/>\r\n      <use x=\"77.001953\" xlink:href=\"#DejaVuSans-101\"/>\r\n      <use x=\"138.525391\" xlink:href=\"#DejaVuSans-115\"/>\r\n      <use x=\"190.625\" xlink:href=\"#DejaVuSans-99\"/>\r\n      <use x=\"245.605469\" xlink:href=\"#DejaVuSans-114\"/>\r\n      <use x=\"286.71875\" xlink:href=\"#DejaVuSans-105\"/>\r\n      <use x=\"314.501953\" xlink:href=\"#DejaVuSans-112\"/>\r\n      <use x=\"377.978516\" xlink:href=\"#DejaVuSans-116\"/>\r\n      <use x=\"417.1875\" xlink:href=\"#DejaVuSans-105\"/>\r\n      <use x=\"444.970703\" xlink:href=\"#DejaVuSans-111\"/>\r\n      <use x=\"506.152344\" xlink:href=\"#DejaVuSans-110\"/>\r\n     </g>\r\n    </g>\r\n   </g>\r\n   <g id=\"matplotlib.axis_2\">\r\n    <g id=\"ytick_1\">\r\n     <g id=\"line2d_7\">\r\n      <defs>\r\n       <path d=\"M 0 0 \r\nL -3.5 0 \r\n\" id=\"m06bb5c22fc\" style=\"stroke:#000000;stroke-width:0.8;\"/>\r\n      </defs>\r\n      <g>\r\n       <use style=\"stroke:#000000;stroke-width:0.8;\" x=\"46.965625\" xlink:href=\"#m06bb5c22fc\" y=\"279\"/>\r\n      </g>\r\n     </g>\r\n     <g id=\"text_8\">\r\n      <!-- 0 -->\r\n      <g transform=\"translate(33.603125 282.799219)scale(0.1 -0.1)\">\r\n       <use xlink:href=\"#DejaVuSans-48\"/>\r\n      </g>\r\n     </g>\r\n    </g>\r\n    <g id=\"ytick_2\">\r\n     <g id=\"line2d_8\">\r\n      <g>\r\n       <use style=\"stroke:#000000;stroke-width:0.8;\" x=\"46.965625\" xlink:href=\"#m06bb5c22fc\" y=\"234.750916\"/>\r\n      </g>\r\n     </g>\r\n     <g id=\"text_9\">\r\n      <!-- 100 -->\r\n      <g transform=\"translate(20.878125 238.550135)scale(0.1 -0.1)\">\r\n       <use xlink:href=\"#DejaVuSans-49\"/>\r\n       <use x=\"63.623047\" xlink:href=\"#DejaVuSans-48\"/>\r\n       <use x=\"127.246094\" xlink:href=\"#DejaVuSans-48\"/>\r\n      </g>\r\n     </g>\r\n    </g>\r\n    <g id=\"ytick_3\">\r\n     <g id=\"line2d_9\">\r\n      <g>\r\n       <use style=\"stroke:#000000;stroke-width:0.8;\" x=\"46.965625\" xlink:href=\"#m06bb5c22fc\" y=\"190.501832\"/>\r\n      </g>\r\n     </g>\r\n     <g id=\"text_10\">\r\n      <!-- 200 -->\r\n      <g transform=\"translate(20.878125 194.30105)scale(0.1 -0.1)\">\r\n       <use xlink:href=\"#DejaVuSans-50\"/>\r\n       <use x=\"63.623047\" xlink:href=\"#DejaVuSans-48\"/>\r\n       <use x=\"127.246094\" xlink:href=\"#DejaVuSans-48\"/>\r\n      </g>\r\n     </g>\r\n    </g>\r\n    <g id=\"ytick_4\">\r\n     <g id=\"line2d_10\">\r\n      <g>\r\n       <use style=\"stroke:#000000;stroke-width:0.8;\" x=\"46.965625\" xlink:href=\"#m06bb5c22fc\" y=\"146.252747\"/>\r\n      </g>\r\n     </g>\r\n     <g id=\"text_11\">\r\n      <!-- 300 -->\r\n      <g transform=\"translate(20.878125 150.051966)scale(0.1 -0.1)\">\r\n       <use xlink:href=\"#DejaVuSans-51\"/>\r\n       <use x=\"63.623047\" xlink:href=\"#DejaVuSans-48\"/>\r\n       <use x=\"127.246094\" xlink:href=\"#DejaVuSans-48\"/>\r\n      </g>\r\n     </g>\r\n    </g>\r\n    <g id=\"ytick_5\">\r\n     <g id=\"line2d_11\">\r\n      <g>\r\n       <use style=\"stroke:#000000;stroke-width:0.8;\" x=\"46.965625\" xlink:href=\"#m06bb5c22fc\" y=\"102.003663\"/>\r\n      </g>\r\n     </g>\r\n     <g id=\"text_12\">\r\n      <!-- 400 -->\r\n      <g transform=\"translate(20.878125 105.802882)scale(0.1 -0.1)\">\r\n       <use xlink:href=\"#DejaVuSans-52\"/>\r\n       <use x=\"63.623047\" xlink:href=\"#DejaVuSans-48\"/>\r\n       <use x=\"127.246094\" xlink:href=\"#DejaVuSans-48\"/>\r\n      </g>\r\n     </g>\r\n    </g>\r\n    <g id=\"ytick_6\">\r\n     <g id=\"line2d_12\">\r\n      <g>\r\n       <use style=\"stroke:#000000;stroke-width:0.8;\" x=\"46.965625\" xlink:href=\"#m06bb5c22fc\" y=\"57.754579\"/>\r\n      </g>\r\n     </g>\r\n     <g id=\"text_13\">\r\n      <!-- 500 -->\r\n      <g transform=\"translate(20.878125 61.553798)scale(0.1 -0.1)\">\r\n       <use xlink:href=\"#DejaVuSans-53\"/>\r\n       <use x=\"63.623047\" xlink:href=\"#DejaVuSans-48\"/>\r\n       <use x=\"127.246094\" xlink:href=\"#DejaVuSans-48\"/>\r\n      </g>\r\n     </g>\r\n    </g>\r\n    <g id=\"ytick_7\">\r\n     <g id=\"line2d_13\">\r\n      <g>\r\n       <use style=\"stroke:#000000;stroke-width:0.8;\" x=\"46.965625\" xlink:href=\"#m06bb5c22fc\" y=\"13.505495\"/>\r\n      </g>\r\n     </g>\r\n     <g id=\"text_14\">\r\n      <!-- 600 -->\r\n      <g transform=\"translate(20.878125 17.304713)scale(0.1 -0.1)\">\r\n       <defs>\r\n        <path d=\"M 33.015625 40.375 \r\nQ 26.375 40.375 22.484375 35.828125 \r\nQ 18.609375 31.296875 18.609375 23.390625 \r\nQ 18.609375 15.53125 22.484375 10.953125 \r\nQ 26.375 6.390625 33.015625 6.390625 \r\nQ 39.65625 6.390625 43.53125 10.953125 \r\nQ 47.40625 15.53125 47.40625 23.390625 \r\nQ 47.40625 31.296875 43.53125 35.828125 \r\nQ 39.65625 40.375 33.015625 40.375 \r\nz\r\nM 52.59375 71.296875 \r\nL 52.59375 62.3125 \r\nQ 48.875 64.0625 45.09375 64.984375 \r\nQ 41.3125 65.921875 37.59375 65.921875 \r\nQ 27.828125 65.921875 22.671875 59.328125 \r\nQ 17.53125 52.734375 16.796875 39.40625 \r\nQ 19.671875 43.65625 24.015625 45.921875 \r\nQ 28.375 48.1875 33.59375 48.1875 \r\nQ 44.578125 48.1875 50.953125 41.515625 \r\nQ 57.328125 34.859375 57.328125 23.390625 \r\nQ 57.328125 12.15625 50.6875 5.359375 \r\nQ 44.046875 -1.421875 33.015625 -1.421875 \r\nQ 20.359375 -1.421875 13.671875 8.265625 \r\nQ 6.984375 17.96875 6.984375 36.375 \r\nQ 6.984375 53.65625 15.1875 63.9375 \r\nQ 23.390625 74.21875 37.203125 74.21875 \r\nQ 40.921875 74.21875 44.703125 73.484375 \r\nQ 48.484375 72.75 52.59375 71.296875 \r\nz\r\n\" id=\"DejaVuSans-54\"/>\r\n       </defs>\r\n       <use xlink:href=\"#DejaVuSans-54\"/>\r\n       <use x=\"63.623047\" xlink:href=\"#DejaVuSans-48\"/>\r\n       <use x=\"127.246094\" xlink:href=\"#DejaVuSans-48\"/>\r\n      </g>\r\n     </g>\r\n    </g>\r\n    <g id=\"text_15\">\r\n     <!-- Count -->\r\n     <g transform=\"translate(14.798437 157.948437)rotate(-90)scale(0.1 -0.1)\">\r\n      <defs>\r\n       <path d=\"M 64.40625 67.28125 \r\nL 64.40625 56.890625 \r\nQ 59.421875 61.53125 53.78125 63.8125 \r\nQ 48.140625 66.109375 41.796875 66.109375 \r\nQ 29.296875 66.109375 22.65625 58.46875 \r\nQ 16.015625 50.828125 16.015625 36.375 \r\nQ 16.015625 21.96875 22.65625 14.328125 \r\nQ 29.296875 6.6875 41.796875 6.6875 \r\nQ 48.140625 6.6875 53.78125 8.984375 \r\nQ 59.421875 11.28125 64.40625 15.921875 \r\nL 64.40625 5.609375 \r\nQ 59.234375 2.09375 53.4375 0.328125 \r\nQ 47.65625 -1.421875 41.21875 -1.421875 \r\nQ 24.65625 -1.421875 15.125 8.703125 \r\nQ 5.609375 18.84375 5.609375 36.375 \r\nQ 5.609375 53.953125 15.125 64.078125 \r\nQ 24.65625 74.21875 41.21875 74.21875 \r\nQ 47.75 74.21875 53.53125 72.484375 \r\nQ 59.328125 70.75 64.40625 67.28125 \r\nz\r\n\" id=\"DejaVuSans-67\"/>\r\n       <path d=\"M 8.5 21.578125 \r\nL 8.5 54.6875 \r\nL 17.484375 54.6875 \r\nL 17.484375 21.921875 \r\nQ 17.484375 14.15625 20.5 10.265625 \r\nQ 23.53125 6.390625 29.59375 6.390625 \r\nQ 36.859375 6.390625 41.078125 11.03125 \r\nQ 45.3125 15.671875 45.3125 23.6875 \r\nL 45.3125 54.6875 \r\nL 54.296875 54.6875 \r\nL 54.296875 0 \r\nL 45.3125 0 \r\nL 45.3125 8.40625 \r\nQ 42.046875 3.421875 37.71875 1 \r\nQ 33.40625 -1.421875 27.6875 -1.421875 \r\nQ 18.265625 -1.421875 13.375 4.4375 \r\nQ 8.5 10.296875 8.5 21.578125 \r\nz\r\nM 31.109375 56 \r\nz\r\n\" id=\"DejaVuSans-117\"/>\r\n      </defs>\r\n      <use xlink:href=\"#DejaVuSans-67\"/>\r\n      <use x=\"69.824219\" xlink:href=\"#DejaVuSans-111\"/>\r\n      <use x=\"131.005859\" xlink:href=\"#DejaVuSans-117\"/>\r\n      <use x=\"194.384766\" xlink:href=\"#DejaVuSans-110\"/>\r\n      <use x=\"257.763672\" xlink:href=\"#DejaVuSans-116\"/>\r\n     </g>\r\n    </g>\r\n   </g>\r\n   <g id=\"patch_244\">\r\n    <path d=\"M 46.965625 279 \r\nL 46.965625 7.2 \r\n\" style=\"fill:none;stroke:#000000;stroke-linecap:square;stroke-linejoin:miter;stroke-width:0.8;\"/>\r\n   </g>\r\n   <g id=\"patch_245\">\r\n    <path d=\"M 437.565625 279 \r\nL 437.565625 7.2 \r\n\" style=\"fill:none;stroke:#000000;stroke-linecap:square;stroke-linejoin:miter;stroke-width:0.8;\"/>\r\n   </g>\r\n   <g id=\"patch_246\">\r\n    <path d=\"M 46.965625 279 \r\nL 437.565625 279 \r\n\" style=\"fill:none;stroke:#000000;stroke-linecap:square;stroke-linejoin:miter;stroke-width:0.8;\"/>\r\n   </g>\r\n   <g id=\"patch_247\">\r\n    <path d=\"M 46.965625 7.2 \r\nL 437.565625 7.2 \r\n\" style=\"fill:none;stroke:#000000;stroke-linecap:square;stroke-linejoin:miter;stroke-width:0.8;\"/>\r\n   </g>\r\n  </g>\r\n </g>\r\n <defs>\r\n  <clipPath id=\"p29e3c64f05\">\r\n   <rect height=\"271.8\" width=\"390.6\" x=\"46.965625\" y=\"7.2\"/>\r\n  </clipPath>\r\n </defs>\r\n</svg>\r\n",
            "image/png": "[encoded data removed]"
          },
          "metadata": {
            "needs_background": "light"
          }
        }
      ],
      "metadata": {}
    },
    {
      "cell_type": "markdown",
      "source": [
        "### vi. Explore Customers by Country"
      ],
      "metadata": {
        "id": "I_Ozp-U5QGWK"
      }
    },
    {
      "cell_type": "markdown",
      "source": [
        "1. What's the total revenue per country?"
      ],
      "metadata": {
        "id": "SP6M3isLiqa8"
      }
    },
    {
      "cell_type": "code",
      "execution_count": 41,
      "source": [
        "df[\"TotalPrice\"] = df[\"UnitPrice\"]*df[\"Quantity\"]"
      ],
      "outputs": [],
      "metadata": {}
    },
    {
      "cell_type": "code",
      "execution_count": 42,
      "source": [
        "df.groupby(\"Country\")[\"TotalPrice\"].sum().sort_values(ascending=False)"
      ],
      "outputs": [
        {
          "output_type": "execute_result",
          "data": {
            "text/plain": [
              "Country\n",
              "United Kingdom          6.747156e+06\n",
              "Netherlands             2.846615e+05\n",
              "EIRE                    2.500018e+05\n",
              "Germany                 2.215095e+05\n",
              "France                  1.966260e+05\n",
              "Australia               1.370098e+05\n",
              "Switzerland             5.573940e+04\n",
              "Spain                   5.475603e+04\n",
              "Belgium                 4.091096e+04\n",
              "Sweden                  3.658541e+04\n",
              "Japan                   3.534062e+04\n",
              "Norway                  3.516346e+04\n",
              "Portugal                2.899576e+04\n",
              "Finland                 2.232674e+04\n",
              "Channel Islands         2.007639e+04\n",
              "Denmark                 1.876814e+04\n",
              "Italy                   1.689051e+04\n",
              "Cyprus                  1.285876e+04\n",
              "Austria                 1.015432e+04\n",
              "Singapore               9.120390e+03\n",
              "Poland                  7.213140e+03\n",
              "Israel                  6.988400e+03\n",
              "Greece                  4.710520e+03\n",
              "Iceland                 4.310000e+03\n",
              "Canada                  3.666380e+03\n",
              "Unspecified             2.660770e+03\n",
              "Malta                   2.505470e+03\n",
              "United Arab Emirates    1.902280e+03\n",
              "USA                     1.730920e+03\n",
              "Lebanon                 1.693880e+03\n",
              "Lithuania               1.661060e+03\n",
              "European Community      1.291750e+03\n",
              "Brazil                  1.143600e+03\n",
              "RSA                     1.002310e+03\n",
              "Czech Republic          7.077200e+02\n",
              "Bahrain                 5.484000e+02\n",
              "Saudi Arabia            1.311700e+02\n",
              "Name: TotalPrice, dtype: float64"
            ]
          },
          "metadata": {},
          "execution_count": 42
        }
      ],
      "metadata": {
        "id": "VISxZ3Ixiqa8"
      }
    },
    {
      "cell_type": "markdown",
      "source": [
        "2. Visualize number of customer per country"
      ],
      "metadata": {
        "id": "qk64qtEliqa8"
      }
    },
    {
      "cell_type": "code",
      "execution_count": 43,
      "source": [
        "df.groupby(\"Country\")[\"CustomerID\"].sum().sort_values(ascending=False)"
      ],
      "outputs": [
        {
          "output_type": "execute_result",
          "data": {
            "text/plain": [
              "Country\n",
              "United Kingdom          5544907004\n",
              "Germany                  119881902\n",
              "EIRE                     110246410\n",
              "France                   107441879\n",
              "Netherlands               34190538\n",
              "Spain                     32626727\n",
              "Belgium                   25718288\n",
              "Switzerland               23775916\n",
              "Portugal                  18749933\n",
              "Australia                 15680571\n",
              "Norway                    13507651\n",
              "Channel Islands           11270289\n",
              "Italy                     10156663\n",
              "Finland                    8699324\n",
              "Cyprus                     7579696\n",
              "Sweden                     6777368\n",
              "Austria                    5021102\n",
              "Denmark                    4876734\n",
              "Japan                      4567292\n",
              "Poland                     4341972\n",
              "USA                        3672086\n",
              "Unspecified                3309817\n",
              "Israel                     3126931\n",
              "Singapore                  2918376\n",
              "Canada                     2615483\n",
              "Iceland                    2247154\n",
              "Malta                      2158496\n",
              "Greece                     2008584\n",
              "United Arab Emirates       1018952\n",
              "European Community          921588\n",
              "RSA                         721868\n",
              "Lebanon                     574380\n",
              "Lithuania                   536620\n",
              "Brazil                      408608\n",
              "Czech Republic              383430\n",
              "Bahrain                     210027\n",
              "Saudi Arabia                125650\n",
              "Name: CustomerID, dtype: int64"
            ]
          },
          "metadata": {},
          "execution_count": 43
        }
      ],
      "metadata": {
        "id": "atuYU8W2iqa8"
      }
    },
    {
      "cell_type": "code",
      "execution_count": 44,
      "source": [
        "# df.groupby(\"Country\")[\"CustomerID\"].sum().sort_values().plot(kind=\"bar\")"
      ],
      "outputs": [],
      "metadata": {}
    },
    {
      "cell_type": "code",
      "execution_count": 45,
      "source": [
        "df.groupby(\"Country\")[\"CustomerID\"].sum().sort_values(ascending=False).index"
      ],
      "outputs": [
        {
          "output_type": "execute_result",
          "data": {
            "text/plain": [
              "Index(['United Kingdom', 'Germany', 'EIRE', 'France', 'Netherlands', 'Spain',\n",
              "       'Belgium', 'Switzerland', 'Portugal', 'Australia', 'Norway',\n",
              "       'Channel Islands', 'Italy', 'Finland', 'Cyprus', 'Sweden', 'Austria',\n",
              "       'Denmark', 'Japan', 'Poland', 'USA', 'Unspecified', 'Israel',\n",
              "       'Singapore', 'Canada', 'Iceland', 'Malta', 'Greece',\n",
              "       'United Arab Emirates', 'European Community', 'RSA', 'Lebanon',\n",
              "       'Lithuania', 'Brazil', 'Czech Republic', 'Bahrain', 'Saudi Arabia'],\n",
              "      dtype='object', name='Country')"
            ]
          },
          "metadata": {},
          "execution_count": 45
        }
      ],
      "metadata": {}
    },
    {
      "cell_type": "code",
      "execution_count": 46,
      "source": [
        "plt.figure(figsize=(12,8))\r\n",
        "sns.barplot(x=df.groupby(\"Country\")[\"CustomerID\"].sum().sort_values(ascending=False).index, y=df.groupby(\"Country\")[\"CustomerID\"].sum().sort_values(ascending=False))\r\n",
        "plt.xticks(rotation=90);"
      ],
      "outputs": [
        {
          "output_type": "display_data",
          "data": {
            "text/plain": [
              "<Figure size 864x576 with 1 Axes>"
            ],
            "image/svg+xml": "<?xml version=\"1.0\" encoding=\"utf-8\" standalone=\"no\"?>\r\n<!DOCTYPE svg PUBLIC \"-//W3C//DTD SVG 1.1//EN\"\r\n  \"http://www.w3.org/Graphics/SVG/1.1/DTD/svg11.dtd\">\r\n<!-- Created with matplotlib (https://matplotlib.org/) -->\r\n<svg height=\"589.237813pt\" version=\"1.1\" viewBox=\"0 0 711.040625 589.237813\" width=\"711.040625pt\" xmlns=\"http://www.w3.org/2000/svg\" xmlns:xlink=\"http://www.w3.org/1999/xlink\">\r\n <metadata>\r\n  <rdf:RDF xmlns:cc=\"http://creativecommons.org/ns#\" xmlns:dc=\"http://purl.org/dc/elements/1.1/\" xmlns:rdf=\"http://www.w3.org/1999/02/22-rdf-syntax-ns#\">\r\n   <cc:Work>\r\n    <dc:type rdf:resource=\"http://purl.org/dc/dcmitype/StillImage\"/>\r\n    <dc:date>2021-08-24T10:10:33.895843</dc:date>\r\n    <dc:format>image/svg+xml</dc:format>\r\n    <dc:creator>\r\n     <cc:Agent>\r\n      <dc:title>Matplotlib v3.3.4, https://matplotlib.org/</dc:title>\r\n     </cc:Agent>\r\n    </dc:creator>\r\n   </cc:Work>\r\n  </rdf:RDF>\r\n </metadata>\r\n <defs>\r\n  <style type=\"text/css\">*{stroke-linecap:butt;stroke-linejoin:round;}</style>\r\n </defs>\r\n <g id=\"figure_1\">\r\n  <g id=\"patch_1\">\r\n   <path d=\"M 0 589.237813 \r\nL 711.040625 589.237813 \r\nL 711.040625 0 \r\nL 0 0 \r\nz\r\n\" style=\"fill:none;\"/>\r\n  </g>\r\n  <g id=\"axes_1\">\r\n   <g id=\"patch_2\">\r\n    <path d=\"M 34.240625 452.678438 \r\nL 703.840625 452.678438 \r\nL 703.840625 17.798437 \r\nL 34.240625 17.798437 \r\nz\r\n\" style=\"fill:#ffffff;\"/>\r\n   </g>\r\n   <g id=\"patch_3\">\r\n    <path clip-path=\"url(#p963d803bda)\" d=\"M 36.050355 452.678438 \r\nL 50.528193 452.678438 \r\nL 50.528193 38.507009 \r\nL 36.050355 38.507009 \r\nz\r\n\" style=\"fill:#ea96a3;\"/>\r\n   </g>\r\n   <g id=\"patch_4\">\r\n    <path clip-path=\"url(#p963d803bda)\" d=\"M 54.147652 452.678438 \r\nL 68.62549 452.678438 \r\nL 68.62549 443.723976 \r\nL 54.147652 443.723976 \r\nz\r\n\" style=\"fill:#ea9795;\"/>\r\n   </g>\r\n   <g id=\"patch_5\">\r\n    <path clip-path=\"url(#p963d803bda)\" d=\"M 72.244949 452.678438 \r\nL 86.722787 452.678438 \r\nL 86.722787 444.443689 \r\nL 72.244949 444.443689 \r\nz\r\n\" style=\"fill:#e7967f;\"/>\r\n   </g>\r\n   <g id=\"patch_6\">\r\n    <path clip-path=\"url(#p963d803bda)\" d=\"M 90.342247 452.678438 \r\nL 104.820084 452.678438 \r\nL 104.820084 444.653171 \r\nL 90.342247 444.653171 \r\nz\r\n\" style=\"fill:#e19258;\"/>\r\n   </g>\r\n   <g id=\"patch_7\">\r\n    <path clip-path=\"url(#p963d803bda)\" d=\"M 108.439544 452.678438 \r\nL 122.917382 452.678438 \r\nL 122.917382 450.124609 \r\nL 108.439544 450.124609 \r\nz\r\n\" style=\"fill:#d3954d;\"/>\r\n   </g>\r\n   <g id=\"patch_8\">\r\n    <path clip-path=\"url(#p963d803bda)\" d=\"M 126.536841 452.678438 \r\nL 141.014679 452.678438 \r\nL 141.014679 450.241416 \r\nL 126.536841 450.241416 \r\nz\r\n\" style=\"fill:#c6994b;\"/>\r\n   </g>\r\n   <g id=\"patch_9\">\r\n    <path clip-path=\"url(#p963d803bda)\" d=\"M 144.634139 452.678438 \r\nL 159.111976 452.678438 \r\nL 159.111976 450.757435 \r\nL 144.634139 450.757435 \r\nz\r\n\" style=\"fill:#ba9b49;\"/>\r\n   </g>\r\n   <g id=\"patch_10\">\r\n    <path clip-path=\"url(#p963d803bda)\" d=\"M 162.731436 452.678438 \r\nL 177.209274 452.678438 \r\nL 177.209274 450.902519 \r\nL 162.731436 450.902519 \r\nz\r\n\" style=\"fill:#b09d48;\"/>\r\n   </g>\r\n   <g id=\"patch_11\">\r\n    <path clip-path=\"url(#p963d803bda)\" d=\"M 180.828733 452.678438 \r\nL 195.306571 452.678438 \r\nL 195.306571 451.27793 \r\nL 180.828733 451.27793 \r\nz\r\n\" style=\"fill:#a59f46;\"/>\r\n   </g>\r\n   <g id=\"patch_12\">\r\n    <path clip-path=\"url(#p963d803bda)\" d=\"M 198.92603 452.678438 \r\nL 213.403868 452.678438 \r\nL 213.403868 451.507193 \r\nL 198.92603 451.507193 \r\nz\r\n\" style=\"fill:#9aa146;\"/>\r\n   </g>\r\n   <g id=\"patch_13\">\r\n    <path clip-path=\"url(#p963d803bda)\" d=\"M 217.023328 452.678438 \r\nL 231.501166 452.678438 \r\nL 231.501166 451.669497 \r\nL 217.023328 451.669497 \r\nz\r\n\" style=\"fill:#8fa546;\"/>\r\n   </g>\r\n   <g id=\"patch_14\">\r\n    <path clip-path=\"url(#p963d803bda)\" d=\"M 235.120625 452.678438 \r\nL 249.598463 452.678438 \r\nL 249.598463 451.836614 \r\nL 235.120625 451.836614 \r\nz\r\n\" style=\"fill:#81a846;\"/>\r\n   </g>\r\n   <g id=\"patch_15\">\r\n    <path clip-path=\"url(#p963d803bda)\" d=\"M 253.217922 452.678438 \r\nL 267.69576 452.678438 \r\nL 267.69576 451.919795 \r\nL 253.217922 451.919795 \r\nz\r\n\" style=\"fill:#6bad47;\"/>\r\n   </g>\r\n   <g id=\"patch_16\">\r\n    <path clip-path=\"url(#p963d803bda)\" d=\"M 271.31522 452.678438 \r\nL 285.793057 452.678438 \r\nL 285.793057 452.02865 \r\nL 271.31522 452.02865 \r\nz\r\n\" style=\"fill:#48b055;\"/>\r\n   </g>\r\n   <g id=\"patch_17\">\r\n    <path clip-path=\"url(#p963d803bda)\" d=\"M 289.412517 452.678438 \r\nL 303.890355 452.678438 \r\nL 303.890355 452.112279 \r\nL 289.412517 452.112279 \r\nz\r\n\" style=\"fill:#49af75;\"/>\r\n   </g>\r\n   <g id=\"patch_18\">\r\n    <path clip-path=\"url(#p963d803bda)\" d=\"M 307.509814 452.678438 \r\nL 321.987652 452.678438 \r\nL 321.987652 452.172209 \r\nL 307.509814 452.172209 \r\nz\r\n\" style=\"fill:#49ae85;\"/>\r\n   </g>\r\n   <g id=\"patch_19\">\r\n    <path clip-path=\"url(#p963d803bda)\" d=\"M 325.607111 452.678438 \r\nL 340.084949 452.678438 \r\nL 340.084949 452.303391 \r\nL 325.607111 452.303391 \r\nz\r\n\" style=\"fill:#4aad91;\"/>\r\n   </g>\r\n   <g id=\"patch_20\">\r\n    <path clip-path=\"url(#p963d803bda)\" d=\"M 343.704409 452.678438 \r\nL 358.182247 452.678438 \r\nL 358.182247 452.314175 \r\nL 343.704409 452.314175 \r\nz\r\n\" style=\"fill:#4aac99;\"/>\r\n   </g>\r\n   <g id=\"patch_21\">\r\n    <path clip-path=\"url(#p963d803bda)\" d=\"M 361.801706 452.678438 \r\nL 376.279544 452.678438 \r\nL 376.279544 452.337288 \r\nL 361.801706 452.337288 \r\nz\r\n\" style=\"fill:#4baca1;\"/>\r\n   </g>\r\n   <g id=\"patch_22\">\r\n    <path clip-path=\"url(#p963d803bda)\" d=\"M 379.899003 452.678438 \r\nL 394.376841 452.678438 \r\nL 394.376841 452.354118 \r\nL 379.899003 452.354118 \r\nz\r\n\" style=\"fill:#4baba8;\"/>\r\n   </g>\r\n   <g id=\"patch_23\">\r\n    <path clip-path=\"url(#p963d803bda)\" d=\"M 397.996301 452.678438 \r\nL 412.474139 452.678438 \r\nL 412.474139 452.404155 \r\nL 397.996301 452.404155 \r\nz\r\n\" style=\"fill:#4cabaf;\"/>\r\n   </g>\r\n   <g id=\"patch_24\">\r\n    <path clip-path=\"url(#p963d803bda)\" d=\"M 416.093598 452.678438 \r\nL 430.571436 452.678438 \r\nL 430.571436 452.431214 \r\nL 416.093598 452.431214 \r\nz\r\n\" style=\"fill:#4eabb7;\"/>\r\n   </g>\r\n   <g id=\"patch_25\">\r\n    <path clip-path=\"url(#p963d803bda)\" d=\"M 434.190895 452.678438 \r\nL 448.668733 452.678438 \r\nL 448.668733 452.444874 \r\nL 434.190895 452.444874 \r\nz\r\n\" style=\"fill:#50acc1;\"/>\r\n   </g>\r\n   <g id=\"patch_26\">\r\n    <path clip-path=\"url(#p963d803bda)\" d=\"M 452.288193 452.678438 \r\nL 466.76603 452.678438 \r\nL 466.76603 452.460452 \r\nL 452.288193 452.460452 \r\nz\r\n\" style=\"fill:#53accc;\"/>\r\n   </g>\r\n   <g id=\"patch_27\">\r\n    <path clip-path=\"url(#p963d803bda)\" d=\"M 470.38549 452.678438 \r\nL 484.863328 452.678438 \r\nL 484.863328 452.483077 \r\nL 470.38549 452.483077 \r\nz\r\n\" style=\"fill:#56adda;\"/>\r\n   </g>\r\n   <g id=\"patch_28\">\r\n    <path clip-path=\"url(#p963d803bda)\" d=\"M 488.482787 452.678438 \r\nL 502.960625 452.678438 \r\nL 502.960625 452.510589 \r\nL 488.482787 452.510589 \r\nz\r\n\" style=\"fill:#7aaee4;\"/>\r\n   </g>\r\n   <g id=\"patch_29\">\r\n    <path clip-path=\"url(#p963d803bda)\" d=\"M 506.580084 452.678438 \r\nL 521.057922 452.678438 \r\nL 521.057922 452.517211 \r\nL 506.580084 452.517211 \r\nz\r\n\" style=\"fill:#96ade8;\"/>\r\n   </g>\r\n   <g id=\"patch_30\">\r\n    <path clip-path=\"url(#p963d803bda)\" d=\"M 524.677382 452.678438 \r\nL 539.15522 452.678438 \r\nL 539.15522 452.528408 \r\nL 524.677382 452.528408 \r\nz\r\n\" style=\"fill:#abaceb;\"/>\r\n   </g>\r\n   <g id=\"patch_31\">\r\n    <path clip-path=\"url(#p963d803bda)\" d=\"M 542.774679 452.678438 \r\nL 557.252517 452.678438 \r\nL 557.252517 452.602328 \r\nL 542.774679 452.602328 \r\nz\r\n\" style=\"fill:#b9a6eb;\"/>\r\n   </g>\r\n   <g id=\"patch_32\">\r\n    <path clip-path=\"url(#p963d803bda)\" d=\"M 560.871976 452.678438 \r\nL 575.349814 452.678438 \r\nL 575.349814 452.6096 \r\nL 560.871976 452.6096 \r\nz\r\n\" style=\"fill:#c6a0ea;\"/>\r\n   </g>\r\n   <g id=\"patch_33\">\r\n    <path clip-path=\"url(#p963d803bda)\" d=\"M 578.969274 452.678438 \r\nL 593.447111 452.678438 \r\nL 593.447111 452.624518 \r\nL 578.969274 452.624518 \r\nz\r\n\" style=\"fill:#d398e8;\"/>\r\n   </g>\r\n   <g id=\"patch_34\">\r\n    <path clip-path=\"url(#p963d803bda)\" d=\"M 597.066571 452.678438 \r\nL 611.544409 452.678438 \r\nL 611.544409 452.635535 \r\nL 597.066571 452.635535 \r\nz\r\n\" style=\"fill:#e18de7;\"/>\r\n   </g>\r\n   <g id=\"patch_35\">\r\n    <path clip-path=\"url(#p963d803bda)\" d=\"M 615.163868 452.678438 \r\nL 629.641706 452.678438 \r\nL 629.641706 452.638355 \r\nL 615.163868 452.638355 \r\nz\r\n\" style=\"fill:#e78bdc;\"/>\r\n   </g>\r\n   <g id=\"patch_36\">\r\n    <path clip-path=\"url(#p963d803bda)\" d=\"M 633.261166 452.678438 \r\nL 647.739003 452.678438 \r\nL 647.739003 452.647917 \r\nL 633.261166 452.647917 \r\nz\r\n\" style=\"fill:#e88ed0;\"/>\r\n   </g>\r\n   <g id=\"patch_37\">\r\n    <path clip-path=\"url(#p963d803bda)\" d=\"M 651.358463 452.678438 \r\nL 665.836301 452.678438 \r\nL 665.836301 452.649798 \r\nL 651.358463 452.649798 \r\nz\r\n\" style=\"fill:#e890c5;\"/>\r\n   </g>\r\n   <g id=\"patch_38\">\r\n    <path clip-path=\"url(#p963d803bda)\" d=\"M 669.45576 452.678438 \r\nL 683.933598 452.678438 \r\nL 683.933598 452.66275 \r\nL 669.45576 452.66275 \r\nz\r\n\" style=\"fill:#e992ba;\"/>\r\n   </g>\r\n   <g id=\"patch_39\">\r\n    <path clip-path=\"url(#p963d803bda)\" d=\"M 687.553057 452.678438 \r\nL 702.030895 452.678438 \r\nL 702.030895 452.669052 \r\nL 687.553057 452.669052 \r\nz\r\n\" style=\"fill:#e994b0;\"/>\r\n   </g>\r\n   <g id=\"matplotlib.axis_1\">\r\n    <g id=\"xtick_1\">\r\n     <g id=\"line2d_1\">\r\n      <defs>\r\n       <path d=\"M 0 0 \r\nL 0 3.5 \r\n\" id=\"m0a46c06bb8\" style=\"stroke:#000000;stroke-width:0.8;\"/>\r\n      </defs>\r\n      <g>\r\n       <use style=\"stroke:#000000;stroke-width:0.8;\" x=\"43.289274\" xlink:href=\"#m0a46c06bb8\" y=\"452.678438\"/>\r\n      </g>\r\n     </g>\r\n     <g id=\"text_1\">\r\n      <!-- United Kingdom -->\r\n      <g transform=\"translate(46.048649 539.9425)rotate(-90)scale(0.1 -0.1)\">\r\n       <defs>\r\n        <path d=\"M 8.6875 72.90625 \r\nL 18.609375 72.90625 \r\nL 18.609375 28.609375 \r\nQ 18.609375 16.890625 22.84375 11.734375 \r\nQ 27.09375 6.59375 36.625 6.59375 \r\nQ 46.09375 6.59375 50.34375 11.734375 \r\nQ 54.59375 16.890625 54.59375 28.609375 \r\nL 54.59375 72.90625 \r\nL 64.5 72.90625 \r\nL 64.5 27.390625 \r\nQ 64.5 13.140625 57.4375 5.859375 \r\nQ 50.390625 -1.421875 36.625 -1.421875 \r\nQ 22.796875 -1.421875 15.734375 5.859375 \r\nQ 8.6875 13.140625 8.6875 27.390625 \r\nz\r\n\" id=\"DejaVuSans-85\"/>\r\n        <path d=\"M 54.890625 33.015625 \r\nL 54.890625 0 \r\nL 45.90625 0 \r\nL 45.90625 32.71875 \r\nQ 45.90625 40.484375 42.875 44.328125 \r\nQ 39.84375 48.1875 33.796875 48.1875 \r\nQ 26.515625 48.1875 22.3125 43.546875 \r\nQ 18.109375 38.921875 18.109375 30.90625 \r\nL 18.109375 0 \r\nL 9.078125 0 \r\nL 9.078125 54.6875 \r\nL 18.109375 54.6875 \r\nL 18.109375 46.1875 \r\nQ 21.34375 51.125 25.703125 53.5625 \r\nQ 30.078125 56 35.796875 56 \r\nQ 45.21875 56 50.046875 50.171875 \r\nQ 54.890625 44.34375 54.890625 33.015625 \r\nz\r\n\" id=\"DejaVuSans-110\"/>\r\n        <path d=\"M 9.421875 54.6875 \r\nL 18.40625 54.6875 \r\nL 18.40625 0 \r\nL 9.421875 0 \r\nz\r\nM 9.421875 75.984375 \r\nL 18.40625 75.984375 \r\nL 18.40625 64.59375 \r\nL 9.421875 64.59375 \r\nz\r\n\" id=\"DejaVuSans-105\"/>\r\n        <path d=\"M 18.3125 70.21875 \r\nL 18.3125 54.6875 \r\nL 36.8125 54.6875 \r\nL 36.8125 47.703125 \r\nL 18.3125 47.703125 \r\nL 18.3125 18.015625 \r\nQ 18.3125 11.328125 20.140625 9.421875 \r\nQ 21.96875 7.515625 27.59375 7.515625 \r\nL 36.8125 7.515625 \r\nL 36.8125 0 \r\nL 27.59375 0 \r\nQ 17.1875 0 13.234375 3.875 \r\nQ 9.28125 7.765625 9.28125 18.015625 \r\nL 9.28125 47.703125 \r\nL 2.6875 47.703125 \r\nL 2.6875 54.6875 \r\nL 9.28125 54.6875 \r\nL 9.28125 70.21875 \r\nz\r\n\" id=\"DejaVuSans-116\"/>\r\n        <path d=\"M 56.203125 29.59375 \r\nL 56.203125 25.203125 \r\nL 14.890625 25.203125 \r\nQ 15.484375 15.921875 20.484375 11.0625 \r\nQ 25.484375 6.203125 34.421875 6.203125 \r\nQ 39.59375 6.203125 44.453125 7.46875 \r\nQ 49.3125 8.734375 54.109375 11.28125 \r\nL 54.109375 2.78125 \r\nQ 49.265625 0.734375 44.1875 -0.34375 \r\nQ 39.109375 -1.421875 33.890625 -1.421875 \r\nQ 20.796875 -1.421875 13.15625 6.1875 \r\nQ 5.515625 13.8125 5.515625 26.8125 \r\nQ 5.515625 40.234375 12.765625 48.109375 \r\nQ 20.015625 56 32.328125 56 \r\nQ 43.359375 56 49.78125 48.890625 \r\nQ 56.203125 41.796875 56.203125 29.59375 \r\nz\r\nM 47.21875 32.234375 \r\nQ 47.125 39.59375 43.09375 43.984375 \r\nQ 39.0625 48.390625 32.421875 48.390625 \r\nQ 24.90625 48.390625 20.390625 44.140625 \r\nQ 15.875 39.890625 15.1875 32.171875 \r\nz\r\n\" id=\"DejaVuSans-101\"/>\r\n        <path d=\"M 45.40625 46.390625 \r\nL 45.40625 75.984375 \r\nL 54.390625 75.984375 \r\nL 54.390625 0 \r\nL 45.40625 0 \r\nL 45.40625 8.203125 \r\nQ 42.578125 3.328125 38.25 0.953125 \r\nQ 33.9375 -1.421875 27.875 -1.421875 \r\nQ 17.96875 -1.421875 11.734375 6.484375 \r\nQ 5.515625 14.40625 5.515625 27.296875 \r\nQ 5.515625 40.1875 11.734375 48.09375 \r\nQ 17.96875 56 27.875 56 \r\nQ 33.9375 56 38.25 53.625 \r\nQ 42.578125 51.265625 45.40625 46.390625 \r\nz\r\nM 14.796875 27.296875 \r\nQ 14.796875 17.390625 18.875 11.75 \r\nQ 22.953125 6.109375 30.078125 6.109375 \r\nQ 37.203125 6.109375 41.296875 11.75 \r\nQ 45.40625 17.390625 45.40625 27.296875 \r\nQ 45.40625 37.203125 41.296875 42.84375 \r\nQ 37.203125 48.484375 30.078125 48.484375 \r\nQ 22.953125 48.484375 18.875 42.84375 \r\nQ 14.796875 37.203125 14.796875 27.296875 \r\nz\r\n\" id=\"DejaVuSans-100\"/>\r\n        <path id=\"DejaVuSans-32\"/>\r\n        <path d=\"M 9.8125 72.90625 \r\nL 19.671875 72.90625 \r\nL 19.671875 42.09375 \r\nL 52.390625 72.90625 \r\nL 65.09375 72.90625 \r\nL 28.90625 38.921875 \r\nL 67.671875 0 \r\nL 54.6875 0 \r\nL 19.671875 35.109375 \r\nL 19.671875 0 \r\nL 9.8125 0 \r\nz\r\n\" id=\"DejaVuSans-75\"/>\r\n        <path d=\"M 45.40625 27.984375 \r\nQ 45.40625 37.75 41.375 43.109375 \r\nQ 37.359375 48.484375 30.078125 48.484375 \r\nQ 22.859375 48.484375 18.828125 43.109375 \r\nQ 14.796875 37.75 14.796875 27.984375 \r\nQ 14.796875 18.265625 18.828125 12.890625 \r\nQ 22.859375 7.515625 30.078125 7.515625 \r\nQ 37.359375 7.515625 41.375 12.890625 \r\nQ 45.40625 18.265625 45.40625 27.984375 \r\nz\r\nM 54.390625 6.78125 \r\nQ 54.390625 -7.171875 48.1875 -13.984375 \r\nQ 42 -20.796875 29.203125 -20.796875 \r\nQ 24.46875 -20.796875 20.265625 -20.09375 \r\nQ 16.0625 -19.390625 12.109375 -17.921875 \r\nL 12.109375 -9.1875 \r\nQ 16.0625 -11.328125 19.921875 -12.34375 \r\nQ 23.78125 -13.375 27.78125 -13.375 \r\nQ 36.625 -13.375 41.015625 -8.765625 \r\nQ 45.40625 -4.15625 45.40625 5.171875 \r\nL 45.40625 9.625 \r\nQ 42.625 4.78125 38.28125 2.390625 \r\nQ 33.9375 0 27.875 0 \r\nQ 17.828125 0 11.671875 7.65625 \r\nQ 5.515625 15.328125 5.515625 27.984375 \r\nQ 5.515625 40.671875 11.671875 48.328125 \r\nQ 17.828125 56 27.875 56 \r\nQ 33.9375 56 38.28125 53.609375 \r\nQ 42.625 51.21875 45.40625 46.390625 \r\nL 45.40625 54.6875 \r\nL 54.390625 54.6875 \r\nz\r\n\" id=\"DejaVuSans-103\"/>\r\n        <path d=\"M 30.609375 48.390625 \r\nQ 23.390625 48.390625 19.1875 42.75 \r\nQ 14.984375 37.109375 14.984375 27.296875 \r\nQ 14.984375 17.484375 19.15625 11.84375 \r\nQ 23.34375 6.203125 30.609375 6.203125 \r\nQ 37.796875 6.203125 41.984375 11.859375 \r\nQ 46.1875 17.53125 46.1875 27.296875 \r\nQ 46.1875 37.015625 41.984375 42.703125 \r\nQ 37.796875 48.390625 30.609375 48.390625 \r\nz\r\nM 30.609375 56 \r\nQ 42.328125 56 49.015625 48.375 \r\nQ 55.71875 40.765625 55.71875 27.296875 \r\nQ 55.71875 13.875 49.015625 6.21875 \r\nQ 42.328125 -1.421875 30.609375 -1.421875 \r\nQ 18.84375 -1.421875 12.171875 6.21875 \r\nQ 5.515625 13.875 5.515625 27.296875 \r\nQ 5.515625 40.765625 12.171875 48.375 \r\nQ 18.84375 56 30.609375 56 \r\nz\r\n\" id=\"DejaVuSans-111\"/>\r\n        <path d=\"M 52 44.1875 \r\nQ 55.375 50.25 60.0625 53.125 \r\nQ 64.75 56 71.09375 56 \r\nQ 79.640625 56 84.28125 50.015625 \r\nQ 88.921875 44.046875 88.921875 33.015625 \r\nL 88.921875 0 \r\nL 79.890625 0 \r\nL 79.890625 32.71875 \r\nQ 79.890625 40.578125 77.09375 44.375 \r\nQ 74.3125 48.1875 68.609375 48.1875 \r\nQ 61.625 48.1875 57.5625 43.546875 \r\nQ 53.515625 38.921875 53.515625 30.90625 \r\nL 53.515625 0 \r\nL 44.484375 0 \r\nL 44.484375 32.71875 \r\nQ 44.484375 40.625 41.703125 44.40625 \r\nQ 38.921875 48.1875 33.109375 48.1875 \r\nQ 26.21875 48.1875 22.15625 43.53125 \r\nQ 18.109375 38.875 18.109375 30.90625 \r\nL 18.109375 0 \r\nL 9.078125 0 \r\nL 9.078125 54.6875 \r\nL 18.109375 54.6875 \r\nL 18.109375 46.1875 \r\nQ 21.1875 51.21875 25.484375 53.609375 \r\nQ 29.78125 56 35.6875 56 \r\nQ 41.65625 56 45.828125 52.96875 \r\nQ 50 49.953125 52 44.1875 \r\nz\r\n\" id=\"DejaVuSans-109\"/>\r\n       </defs>\r\n       <use xlink:href=\"#DejaVuSans-85\"/>\r\n       <use x=\"73.193359\" xlink:href=\"#DejaVuSans-110\"/>\r\n       <use x=\"136.572266\" xlink:href=\"#DejaVuSans-105\"/>\r\n       <use x=\"164.355469\" xlink:href=\"#DejaVuSans-116\"/>\r\n       <use x=\"203.564453\" xlink:href=\"#DejaVuSans-101\"/>\r\n       <use x=\"265.087891\" xlink:href=\"#DejaVuSans-100\"/>\r\n       <use x=\"328.564453\" xlink:href=\"#DejaVuSans-32\"/>\r\n       <use x=\"360.351562\" xlink:href=\"#DejaVuSans-75\"/>\r\n       <use x=\"425.927734\" xlink:href=\"#DejaVuSans-105\"/>\r\n       <use x=\"453.710938\" xlink:href=\"#DejaVuSans-110\"/>\r\n       <use x=\"517.089844\" xlink:href=\"#DejaVuSans-103\"/>\r\n       <use x=\"580.566406\" xlink:href=\"#DejaVuSans-100\"/>\r\n       <use x=\"644.042969\" xlink:href=\"#DejaVuSans-111\"/>\r\n       <use x=\"705.224609\" xlink:href=\"#DejaVuSans-109\"/>\r\n      </g>\r\n     </g>\r\n    </g>\r\n    <g id=\"xtick_2\">\r\n     <g id=\"line2d_2\">\r\n      <g>\r\n       <use style=\"stroke:#000000;stroke-width:0.8;\" x=\"61.386571\" xlink:href=\"#m0a46c06bb8\" y=\"452.678438\"/>\r\n      </g>\r\n     </g>\r\n     <g id=\"text_2\">\r\n      <!-- Germany -->\r\n      <g transform=\"translate(64.145946 505.640938)rotate(-90)scale(0.1 -0.1)\">\r\n       <defs>\r\n        <path d=\"M 59.515625 10.40625 \r\nL 59.515625 29.984375 \r\nL 43.40625 29.984375 \r\nL 43.40625 38.09375 \r\nL 69.28125 38.09375 \r\nL 69.28125 6.78125 \r\nQ 63.578125 2.734375 56.6875 0.65625 \r\nQ 49.8125 -1.421875 42 -1.421875 \r\nQ 24.90625 -1.421875 15.25 8.5625 \r\nQ 5.609375 18.5625 5.609375 36.375 \r\nQ 5.609375 54.25 15.25 64.234375 \r\nQ 24.90625 74.21875 42 74.21875 \r\nQ 49.125 74.21875 55.546875 72.453125 \r\nQ 61.96875 70.703125 67.390625 67.28125 \r\nL 67.390625 56.78125 \r\nQ 61.921875 61.421875 55.765625 63.765625 \r\nQ 49.609375 66.109375 42.828125 66.109375 \r\nQ 29.4375 66.109375 22.71875 58.640625 \r\nQ 16.015625 51.171875 16.015625 36.375 \r\nQ 16.015625 21.625 22.71875 14.15625 \r\nQ 29.4375 6.6875 42.828125 6.6875 \r\nQ 48.046875 6.6875 52.140625 7.59375 \r\nQ 56.25 8.5 59.515625 10.40625 \r\nz\r\n\" id=\"DejaVuSans-71\"/>\r\n        <path d=\"M 41.109375 46.296875 \r\nQ 39.59375 47.171875 37.8125 47.578125 \r\nQ 36.03125 48 33.890625 48 \r\nQ 26.265625 48 22.1875 43.046875 \r\nQ 18.109375 38.09375 18.109375 28.8125 \r\nL 18.109375 0 \r\nL 9.078125 0 \r\nL 9.078125 54.6875 \r\nL 18.109375 54.6875 \r\nL 18.109375 46.1875 \r\nQ 20.953125 51.171875 25.484375 53.578125 \r\nQ 30.03125 56 36.53125 56 \r\nQ 37.453125 56 38.578125 55.875 \r\nQ 39.703125 55.765625 41.0625 55.515625 \r\nz\r\n\" id=\"DejaVuSans-114\"/>\r\n        <path d=\"M 34.28125 27.484375 \r\nQ 23.390625 27.484375 19.1875 25 \r\nQ 14.984375 22.515625 14.984375 16.5 \r\nQ 14.984375 11.71875 18.140625 8.90625 \r\nQ 21.296875 6.109375 26.703125 6.109375 \r\nQ 34.1875 6.109375 38.703125 11.40625 \r\nQ 43.21875 16.703125 43.21875 25.484375 \r\nL 43.21875 27.484375 \r\nz\r\nM 52.203125 31.203125 \r\nL 52.203125 0 \r\nL 43.21875 0 \r\nL 43.21875 8.296875 \r\nQ 40.140625 3.328125 35.546875 0.953125 \r\nQ 30.953125 -1.421875 24.3125 -1.421875 \r\nQ 15.921875 -1.421875 10.953125 3.296875 \r\nQ 6 8.015625 6 15.921875 \r\nQ 6 25.140625 12.171875 29.828125 \r\nQ 18.359375 34.515625 30.609375 34.515625 \r\nL 43.21875 34.515625 \r\nL 43.21875 35.40625 \r\nQ 43.21875 41.609375 39.140625 45 \r\nQ 35.0625 48.390625 27.6875 48.390625 \r\nQ 23 48.390625 18.546875 47.265625 \r\nQ 14.109375 46.140625 10.015625 43.890625 \r\nL 10.015625 52.203125 \r\nQ 14.9375 54.109375 19.578125 55.046875 \r\nQ 24.21875 56 28.609375 56 \r\nQ 40.484375 56 46.34375 49.84375 \r\nQ 52.203125 43.703125 52.203125 31.203125 \r\nz\r\n\" id=\"DejaVuSans-97\"/>\r\n        <path d=\"M 32.171875 -5.078125 \r\nQ 28.375 -14.84375 24.75 -17.8125 \r\nQ 21.140625 -20.796875 15.09375 -20.796875 \r\nL 7.90625 -20.796875 \r\nL 7.90625 -13.28125 \r\nL 13.1875 -13.28125 \r\nQ 16.890625 -13.28125 18.9375 -11.515625 \r\nQ 21 -9.765625 23.484375 -3.21875 \r\nL 25.09375 0.875 \r\nL 2.984375 54.6875 \r\nL 12.5 54.6875 \r\nL 29.59375 11.921875 \r\nL 46.6875 54.6875 \r\nL 56.203125 54.6875 \r\nz\r\n\" id=\"DejaVuSans-121\"/>\r\n       </defs>\r\n       <use xlink:href=\"#DejaVuSans-71\"/>\r\n       <use x=\"77.490234\" xlink:href=\"#DejaVuSans-101\"/>\r\n       <use x=\"139.013672\" xlink:href=\"#DejaVuSans-114\"/>\r\n       <use x=\"178.376953\" xlink:href=\"#DejaVuSans-109\"/>\r\n       <use x=\"275.789062\" xlink:href=\"#DejaVuSans-97\"/>\r\n       <use x=\"337.068359\" xlink:href=\"#DejaVuSans-110\"/>\r\n       <use x=\"400.447266\" xlink:href=\"#DejaVuSans-121\"/>\r\n      </g>\r\n     </g>\r\n    </g>\r\n    <g id=\"xtick_3\">\r\n     <g id=\"line2d_3\">\r\n      <g>\r\n       <use style=\"stroke:#000000;stroke-width:0.8;\" x=\"79.483868\" xlink:href=\"#m0a46c06bb8\" y=\"452.678438\"/>\r\n      </g>\r\n     </g>\r\n     <g id=\"text_3\">\r\n      <!-- EIRE -->\r\n      <g transform=\"translate(82.243243 482.214375)rotate(-90)scale(0.1 -0.1)\">\r\n       <defs>\r\n        <path d=\"M 9.8125 72.90625 \r\nL 55.90625 72.90625 \r\nL 55.90625 64.59375 \r\nL 19.671875 64.59375 \r\nL 19.671875 43.015625 \r\nL 54.390625 43.015625 \r\nL 54.390625 34.71875 \r\nL 19.671875 34.71875 \r\nL 19.671875 8.296875 \r\nL 56.78125 8.296875 \r\nL 56.78125 0 \r\nL 9.8125 0 \r\nz\r\n\" id=\"DejaVuSans-69\"/>\r\n        <path d=\"M 9.8125 72.90625 \r\nL 19.671875 72.90625 \r\nL 19.671875 0 \r\nL 9.8125 0 \r\nz\r\n\" id=\"DejaVuSans-73\"/>\r\n        <path d=\"M 44.390625 34.1875 \r\nQ 47.5625 33.109375 50.5625 29.59375 \r\nQ 53.5625 26.078125 56.59375 19.921875 \r\nL 66.609375 0 \r\nL 56 0 \r\nL 46.6875 18.703125 \r\nQ 43.0625 26.03125 39.671875 28.421875 \r\nQ 36.28125 30.8125 30.421875 30.8125 \r\nL 19.671875 30.8125 \r\nL 19.671875 0 \r\nL 9.8125 0 \r\nL 9.8125 72.90625 \r\nL 32.078125 72.90625 \r\nQ 44.578125 72.90625 50.734375 67.671875 \r\nQ 56.890625 62.453125 56.890625 51.90625 \r\nQ 56.890625 45.015625 53.6875 40.46875 \r\nQ 50.484375 35.9375 44.390625 34.1875 \r\nz\r\nM 19.671875 64.796875 \r\nL 19.671875 38.921875 \r\nL 32.078125 38.921875 \r\nQ 39.203125 38.921875 42.84375 42.21875 \r\nQ 46.484375 45.515625 46.484375 51.90625 \r\nQ 46.484375 58.296875 42.84375 61.546875 \r\nQ 39.203125 64.796875 32.078125 64.796875 \r\nz\r\n\" id=\"DejaVuSans-82\"/>\r\n       </defs>\r\n       <use xlink:href=\"#DejaVuSans-69\"/>\r\n       <use x=\"63.183594\" xlink:href=\"#DejaVuSans-73\"/>\r\n       <use x=\"92.675781\" xlink:href=\"#DejaVuSans-82\"/>\r\n       <use x=\"162.158203\" xlink:href=\"#DejaVuSans-69\"/>\r\n      </g>\r\n     </g>\r\n    </g>\r\n    <g id=\"xtick_4\">\r\n     <g id=\"line2d_4\">\r\n      <g>\r\n       <use style=\"stroke:#000000;stroke-width:0.8;\" x=\"97.581166\" xlink:href=\"#m0a46c06bb8\" y=\"452.678438\"/>\r\n      </g>\r\n     </g>\r\n     <g id=\"text_4\">\r\n      <!-- France -->\r\n      <g transform=\"translate(100.340541 492.933125)rotate(-90)scale(0.1 -0.1)\">\r\n       <defs>\r\n        <path d=\"M 9.8125 72.90625 \r\nL 51.703125 72.90625 \r\nL 51.703125 64.59375 \r\nL 19.671875 64.59375 \r\nL 19.671875 43.109375 \r\nL 48.578125 43.109375 \r\nL 48.578125 34.8125 \r\nL 19.671875 34.8125 \r\nL 19.671875 0 \r\nL 9.8125 0 \r\nz\r\n\" id=\"DejaVuSans-70\"/>\r\n        <path d=\"M 48.78125 52.59375 \r\nL 48.78125 44.1875 \r\nQ 44.96875 46.296875 41.140625 47.34375 \r\nQ 37.3125 48.390625 33.40625 48.390625 \r\nQ 24.65625 48.390625 19.8125 42.84375 \r\nQ 14.984375 37.3125 14.984375 27.296875 \r\nQ 14.984375 17.28125 19.8125 11.734375 \r\nQ 24.65625 6.203125 33.40625 6.203125 \r\nQ 37.3125 6.203125 41.140625 7.25 \r\nQ 44.96875 8.296875 48.78125 10.40625 \r\nL 48.78125 2.09375 \r\nQ 45.015625 0.34375 40.984375 -0.53125 \r\nQ 36.96875 -1.421875 32.421875 -1.421875 \r\nQ 20.0625 -1.421875 12.78125 6.34375 \r\nQ 5.515625 14.109375 5.515625 27.296875 \r\nQ 5.515625 40.671875 12.859375 48.328125 \r\nQ 20.21875 56 33.015625 56 \r\nQ 37.15625 56 41.109375 55.140625 \r\nQ 45.0625 54.296875 48.78125 52.59375 \r\nz\r\n\" id=\"DejaVuSans-99\"/>\r\n       </defs>\r\n       <use xlink:href=\"#DejaVuSans-70\"/>\r\n       <use x=\"50.269531\" xlink:href=\"#DejaVuSans-114\"/>\r\n       <use x=\"91.382812\" xlink:href=\"#DejaVuSans-97\"/>\r\n       <use x=\"152.662109\" xlink:href=\"#DejaVuSans-110\"/>\r\n       <use x=\"216.041016\" xlink:href=\"#DejaVuSans-99\"/>\r\n       <use x=\"271.021484\" xlink:href=\"#DejaVuSans-101\"/>\r\n      </g>\r\n     </g>\r\n    </g>\r\n    <g id=\"xtick_5\">\r\n     <g id=\"line2d_5\">\r\n      <g>\r\n       <use style=\"stroke:#000000;stroke-width:0.8;\" x=\"115.678463\" xlink:href=\"#m0a46c06bb8\" y=\"452.678438\"/>\r\n      </g>\r\n     </g>\r\n     <g id=\"text_5\">\r\n      <!-- Netherlands -->\r\n      <g transform=\"translate(118.437838 520.63625)rotate(-90)scale(0.1 -0.1)\">\r\n       <defs>\r\n        <path d=\"M 9.8125 72.90625 \r\nL 23.09375 72.90625 \r\nL 55.421875 11.921875 \r\nL 55.421875 72.90625 \r\nL 64.984375 72.90625 \r\nL 64.984375 0 \r\nL 51.703125 0 \r\nL 19.390625 60.984375 \r\nL 19.390625 0 \r\nL 9.8125 0 \r\nz\r\n\" id=\"DejaVuSans-78\"/>\r\n        <path d=\"M 54.890625 33.015625 \r\nL 54.890625 0 \r\nL 45.90625 0 \r\nL 45.90625 32.71875 \r\nQ 45.90625 40.484375 42.875 44.328125 \r\nQ 39.84375 48.1875 33.796875 48.1875 \r\nQ 26.515625 48.1875 22.3125 43.546875 \r\nQ 18.109375 38.921875 18.109375 30.90625 \r\nL 18.109375 0 \r\nL 9.078125 0 \r\nL 9.078125 75.984375 \r\nL 18.109375 75.984375 \r\nL 18.109375 46.1875 \r\nQ 21.34375 51.125 25.703125 53.5625 \r\nQ 30.078125 56 35.796875 56 \r\nQ 45.21875 56 50.046875 50.171875 \r\nQ 54.890625 44.34375 54.890625 33.015625 \r\nz\r\n\" id=\"DejaVuSans-104\"/>\r\n        <path d=\"M 9.421875 75.984375 \r\nL 18.40625 75.984375 \r\nL 18.40625 0 \r\nL 9.421875 0 \r\nz\r\n\" id=\"DejaVuSans-108\"/>\r\n        <path d=\"M 44.28125 53.078125 \r\nL 44.28125 44.578125 \r\nQ 40.484375 46.53125 36.375 47.5 \r\nQ 32.28125 48.484375 27.875 48.484375 \r\nQ 21.1875 48.484375 17.84375 46.4375 \r\nQ 14.5 44.390625 14.5 40.28125 \r\nQ 14.5 37.15625 16.890625 35.375 \r\nQ 19.28125 33.59375 26.515625 31.984375 \r\nL 29.59375 31.296875 \r\nQ 39.15625 29.25 43.1875 25.515625 \r\nQ 47.21875 21.78125 47.21875 15.09375 \r\nQ 47.21875 7.46875 41.1875 3.015625 \r\nQ 35.15625 -1.421875 24.609375 -1.421875 \r\nQ 20.21875 -1.421875 15.453125 -0.5625 \r\nQ 10.6875 0.296875 5.421875 2 \r\nL 5.421875 11.28125 \r\nQ 10.40625 8.6875 15.234375 7.390625 \r\nQ 20.0625 6.109375 24.8125 6.109375 \r\nQ 31.15625 6.109375 34.5625 8.28125 \r\nQ 37.984375 10.453125 37.984375 14.40625 \r\nQ 37.984375 18.0625 35.515625 20.015625 \r\nQ 33.0625 21.96875 24.703125 23.78125 \r\nL 21.578125 24.515625 \r\nQ 13.234375 26.265625 9.515625 29.90625 \r\nQ 5.8125 33.546875 5.8125 39.890625 \r\nQ 5.8125 47.609375 11.28125 51.796875 \r\nQ 16.75 56 26.8125 56 \r\nQ 31.78125 56 36.171875 55.265625 \r\nQ 40.578125 54.546875 44.28125 53.078125 \r\nz\r\n\" id=\"DejaVuSans-115\"/>\r\n       </defs>\r\n       <use xlink:href=\"#DejaVuSans-78\"/>\r\n       <use x=\"74.804688\" xlink:href=\"#DejaVuSans-101\"/>\r\n       <use x=\"136.328125\" xlink:href=\"#DejaVuSans-116\"/>\r\n       <use x=\"175.537109\" xlink:href=\"#DejaVuSans-104\"/>\r\n       <use x=\"238.916016\" xlink:href=\"#DejaVuSans-101\"/>\r\n       <use x=\"300.439453\" xlink:href=\"#DejaVuSans-114\"/>\r\n       <use x=\"341.552734\" xlink:href=\"#DejaVuSans-108\"/>\r\n       <use x=\"369.335938\" xlink:href=\"#DejaVuSans-97\"/>\r\n       <use x=\"430.615234\" xlink:href=\"#DejaVuSans-110\"/>\r\n       <use x=\"493.994141\" xlink:href=\"#DejaVuSans-100\"/>\r\n       <use x=\"557.470703\" xlink:href=\"#DejaVuSans-115\"/>\r\n      </g>\r\n     </g>\r\n    </g>\r\n    <g id=\"xtick_6\">\r\n     <g id=\"line2d_6\">\r\n      <g>\r\n       <use style=\"stroke:#000000;stroke-width:0.8;\" x=\"133.77576\" xlink:href=\"#m0a46c06bb8\" y=\"452.678438\"/>\r\n      </g>\r\n     </g>\r\n     <g id=\"text_6\">\r\n      <!-- Spain -->\r\n      <g transform=\"translate(136.535135 487.619063)rotate(-90)scale(0.1 -0.1)\">\r\n       <defs>\r\n        <path d=\"M 53.515625 70.515625 \r\nL 53.515625 60.890625 \r\nQ 47.90625 63.578125 42.921875 64.890625 \r\nQ 37.9375 66.21875 33.296875 66.21875 \r\nQ 25.25 66.21875 20.875 63.09375 \r\nQ 16.5 59.96875 16.5 54.203125 \r\nQ 16.5 49.359375 19.40625 46.890625 \r\nQ 22.3125 44.4375 30.421875 42.921875 \r\nL 36.375 41.703125 \r\nQ 47.40625 39.59375 52.65625 34.296875 \r\nQ 57.90625 29 57.90625 20.125 \r\nQ 57.90625 9.515625 50.796875 4.046875 \r\nQ 43.703125 -1.421875 29.984375 -1.421875 \r\nQ 24.8125 -1.421875 18.96875 -0.25 \r\nQ 13.140625 0.921875 6.890625 3.21875 \r\nL 6.890625 13.375 \r\nQ 12.890625 10.015625 18.65625 8.296875 \r\nQ 24.421875 6.59375 29.984375 6.59375 \r\nQ 38.421875 6.59375 43.015625 9.90625 \r\nQ 47.609375 13.234375 47.609375 19.390625 \r\nQ 47.609375 24.75 44.3125 27.78125 \r\nQ 41.015625 30.8125 33.5 32.328125 \r\nL 27.484375 33.5 \r\nQ 16.453125 35.6875 11.515625 40.375 \r\nQ 6.59375 45.0625 6.59375 53.421875 \r\nQ 6.59375 63.09375 13.40625 68.65625 \r\nQ 20.21875 74.21875 32.171875 74.21875 \r\nQ 37.3125 74.21875 42.625 73.28125 \r\nQ 47.953125 72.359375 53.515625 70.515625 \r\nz\r\n\" id=\"DejaVuSans-83\"/>\r\n        <path d=\"M 18.109375 8.203125 \r\nL 18.109375 -20.796875 \r\nL 9.078125 -20.796875 \r\nL 9.078125 54.6875 \r\nL 18.109375 54.6875 \r\nL 18.109375 46.390625 \r\nQ 20.953125 51.265625 25.265625 53.625 \r\nQ 29.59375 56 35.59375 56 \r\nQ 45.5625 56 51.78125 48.09375 \r\nQ 58.015625 40.1875 58.015625 27.296875 \r\nQ 58.015625 14.40625 51.78125 6.484375 \r\nQ 45.5625 -1.421875 35.59375 -1.421875 \r\nQ 29.59375 -1.421875 25.265625 0.953125 \r\nQ 20.953125 3.328125 18.109375 8.203125 \r\nz\r\nM 48.6875 27.296875 \r\nQ 48.6875 37.203125 44.609375 42.84375 \r\nQ 40.53125 48.484375 33.40625 48.484375 \r\nQ 26.265625 48.484375 22.1875 42.84375 \r\nQ 18.109375 37.203125 18.109375 27.296875 \r\nQ 18.109375 17.390625 22.1875 11.75 \r\nQ 26.265625 6.109375 33.40625 6.109375 \r\nQ 40.53125 6.109375 44.609375 11.75 \r\nQ 48.6875 17.390625 48.6875 27.296875 \r\nz\r\n\" id=\"DejaVuSans-112\"/>\r\n       </defs>\r\n       <use xlink:href=\"#DejaVuSans-83\"/>\r\n       <use x=\"63.476562\" xlink:href=\"#DejaVuSans-112\"/>\r\n       <use x=\"126.953125\" xlink:href=\"#DejaVuSans-97\"/>\r\n       <use x=\"188.232422\" xlink:href=\"#DejaVuSans-105\"/>\r\n       <use x=\"216.015625\" xlink:href=\"#DejaVuSans-110\"/>\r\n      </g>\r\n     </g>\r\n    </g>\r\n    <g id=\"xtick_7\">\r\n     <g id=\"line2d_7\">\r\n      <g>\r\n       <use style=\"stroke:#000000;stroke-width:0.8;\" x=\"151.873057\" xlink:href=\"#m0a46c06bb8\" y=\"452.678438\"/>\r\n      </g>\r\n     </g>\r\n     <g id=\"text_7\">\r\n      <!-- Belgium -->\r\n      <g transform=\"translate(154.632432 500.675313)rotate(-90)scale(0.1 -0.1)\">\r\n       <defs>\r\n        <path d=\"M 19.671875 34.8125 \r\nL 19.671875 8.109375 \r\nL 35.5 8.109375 \r\nQ 43.453125 8.109375 47.28125 11.40625 \r\nQ 51.125 14.703125 51.125 21.484375 \r\nQ 51.125 28.328125 47.28125 31.5625 \r\nQ 43.453125 34.8125 35.5 34.8125 \r\nz\r\nM 19.671875 64.796875 \r\nL 19.671875 42.828125 \r\nL 34.28125 42.828125 \r\nQ 41.5 42.828125 45.03125 45.53125 \r\nQ 48.578125 48.25 48.578125 53.8125 \r\nQ 48.578125 59.328125 45.03125 62.0625 \r\nQ 41.5 64.796875 34.28125 64.796875 \r\nz\r\nM 9.8125 72.90625 \r\nL 35.015625 72.90625 \r\nQ 46.296875 72.90625 52.390625 68.21875 \r\nQ 58.5 63.53125 58.5 54.890625 \r\nQ 58.5 48.1875 55.375 44.234375 \r\nQ 52.25 40.28125 46.1875 39.3125 \r\nQ 53.46875 37.75 57.5 32.78125 \r\nQ 61.53125 27.828125 61.53125 20.40625 \r\nQ 61.53125 10.640625 54.890625 5.3125 \r\nQ 48.25 0 35.984375 0 \r\nL 9.8125 0 \r\nz\r\n\" id=\"DejaVuSans-66\"/>\r\n        <path d=\"M 8.5 21.578125 \r\nL 8.5 54.6875 \r\nL 17.484375 54.6875 \r\nL 17.484375 21.921875 \r\nQ 17.484375 14.15625 20.5 10.265625 \r\nQ 23.53125 6.390625 29.59375 6.390625 \r\nQ 36.859375 6.390625 41.078125 11.03125 \r\nQ 45.3125 15.671875 45.3125 23.6875 \r\nL 45.3125 54.6875 \r\nL 54.296875 54.6875 \r\nL 54.296875 0 \r\nL 45.3125 0 \r\nL 45.3125 8.40625 \r\nQ 42.046875 3.421875 37.71875 1 \r\nQ 33.40625 -1.421875 27.6875 -1.421875 \r\nQ 18.265625 -1.421875 13.375 4.4375 \r\nQ 8.5 10.296875 8.5 21.578125 \r\nz\r\nM 31.109375 56 \r\nz\r\n\" id=\"DejaVuSans-117\"/>\r\n       </defs>\r\n       <use xlink:href=\"#DejaVuSans-66\"/>\r\n       <use x=\"68.603516\" xlink:href=\"#DejaVuSans-101\"/>\r\n       <use x=\"130.126953\" xlink:href=\"#DejaVuSans-108\"/>\r\n       <use x=\"157.910156\" xlink:href=\"#DejaVuSans-103\"/>\r\n       <use x=\"221.386719\" xlink:href=\"#DejaVuSans-105\"/>\r\n       <use x=\"249.169922\" xlink:href=\"#DejaVuSans-117\"/>\r\n       <use x=\"312.548828\" xlink:href=\"#DejaVuSans-109\"/>\r\n      </g>\r\n     </g>\r\n    </g>\r\n    <g id=\"xtick_8\">\r\n     <g id=\"line2d_8\">\r\n      <g>\r\n       <use style=\"stroke:#000000;stroke-width:0.8;\" x=\"169.970355\" xlink:href=\"#m0a46c06bb8\" y=\"452.678438\"/>\r\n      </g>\r\n     </g>\r\n     <g id=\"text_8\">\r\n      <!-- Switzerland -->\r\n      <g transform=\"translate(172.72973 518.008125)rotate(-90)scale(0.1 -0.1)\">\r\n       <defs>\r\n        <path d=\"M 4.203125 54.6875 \r\nL 13.1875 54.6875 \r\nL 24.421875 12.015625 \r\nL 35.59375 54.6875 \r\nL 46.1875 54.6875 \r\nL 57.421875 12.015625 \r\nL 68.609375 54.6875 \r\nL 77.59375 54.6875 \r\nL 63.28125 0 \r\nL 52.6875 0 \r\nL 40.921875 44.828125 \r\nL 29.109375 0 \r\nL 18.5 0 \r\nz\r\n\" id=\"DejaVuSans-119\"/>\r\n        <path d=\"M 5.515625 54.6875 \r\nL 48.1875 54.6875 \r\nL 48.1875 46.484375 \r\nL 14.40625 7.171875 \r\nL 48.1875 7.171875 \r\nL 48.1875 0 \r\nL 4.296875 0 \r\nL 4.296875 8.203125 \r\nL 38.09375 47.515625 \r\nL 5.515625 47.515625 \r\nz\r\n\" id=\"DejaVuSans-122\"/>\r\n       </defs>\r\n       <use xlink:href=\"#DejaVuSans-83\"/>\r\n       <use x=\"63.476562\" xlink:href=\"#DejaVuSans-119\"/>\r\n       <use x=\"145.263672\" xlink:href=\"#DejaVuSans-105\"/>\r\n       <use x=\"173.046875\" xlink:href=\"#DejaVuSans-116\"/>\r\n       <use x=\"212.255859\" xlink:href=\"#DejaVuSans-122\"/>\r\n       <use x=\"264.746094\" xlink:href=\"#DejaVuSans-101\"/>\r\n       <use x=\"326.269531\" xlink:href=\"#DejaVuSans-114\"/>\r\n       <use x=\"367.382812\" xlink:href=\"#DejaVuSans-108\"/>\r\n       <use x=\"395.166016\" xlink:href=\"#DejaVuSans-97\"/>\r\n       <use x=\"456.445312\" xlink:href=\"#DejaVuSans-110\"/>\r\n       <use x=\"519.824219\" xlink:href=\"#DejaVuSans-100\"/>\r\n      </g>\r\n     </g>\r\n    </g>\r\n    <g id=\"xtick_9\">\r\n     <g id=\"line2d_9\">\r\n      <g>\r\n       <use style=\"stroke:#000000;stroke-width:0.8;\" x=\"188.067652\" xlink:href=\"#m0a46c06bb8\" y=\"452.678438\"/>\r\n      </g>\r\n     </g>\r\n     <g id=\"text_9\">\r\n      <!-- Portugal -->\r\n      <g transform=\"translate(190.827027 501.087813)rotate(-90)scale(0.1 -0.1)\">\r\n       <defs>\r\n        <path d=\"M 19.671875 64.796875 \r\nL 19.671875 37.40625 \r\nL 32.078125 37.40625 \r\nQ 38.96875 37.40625 42.71875 40.96875 \r\nQ 46.484375 44.53125 46.484375 51.125 \r\nQ 46.484375 57.671875 42.71875 61.234375 \r\nQ 38.96875 64.796875 32.078125 64.796875 \r\nz\r\nM 9.8125 72.90625 \r\nL 32.078125 72.90625 \r\nQ 44.34375 72.90625 50.609375 67.359375 \r\nQ 56.890625 61.8125 56.890625 51.125 \r\nQ 56.890625 40.328125 50.609375 34.8125 \r\nQ 44.34375 29.296875 32.078125 29.296875 \r\nL 19.671875 29.296875 \r\nL 19.671875 0 \r\nL 9.8125 0 \r\nz\r\n\" id=\"DejaVuSans-80\"/>\r\n       </defs>\r\n       <use xlink:href=\"#DejaVuSans-80\"/>\r\n       <use x=\"56.677734\" xlink:href=\"#DejaVuSans-111\"/>\r\n       <use x=\"117.859375\" xlink:href=\"#DejaVuSans-114\"/>\r\n       <use x=\"158.972656\" xlink:href=\"#DejaVuSans-116\"/>\r\n       <use x=\"198.181641\" xlink:href=\"#DejaVuSans-117\"/>\r\n       <use x=\"261.560547\" xlink:href=\"#DejaVuSans-103\"/>\r\n       <use x=\"325.037109\" xlink:href=\"#DejaVuSans-97\"/>\r\n       <use x=\"386.316406\" xlink:href=\"#DejaVuSans-108\"/>\r\n      </g>\r\n     </g>\r\n    </g>\r\n    <g id=\"xtick_10\">\r\n     <g id=\"line2d_10\">\r\n      <g>\r\n       <use style=\"stroke:#000000;stroke-width:0.8;\" x=\"206.164949\" xlink:href=\"#m0a46c06bb8\" y=\"452.678438\"/>\r\n      </g>\r\n     </g>\r\n     <g id=\"text_10\">\r\n      <!-- Australia -->\r\n      <g transform=\"translate(208.924324 503.909688)rotate(-90)scale(0.1 -0.1)\">\r\n       <defs>\r\n        <path d=\"M 34.1875 63.1875 \r\nL 20.796875 26.90625 \r\nL 47.609375 26.90625 \r\nz\r\nM 28.609375 72.90625 \r\nL 39.796875 72.90625 \r\nL 67.578125 0 \r\nL 57.328125 0 \r\nL 50.6875 18.703125 \r\nL 17.828125 18.703125 \r\nL 11.1875 0 \r\nL 0.78125 0 \r\nz\r\n\" id=\"DejaVuSans-65\"/>\r\n       </defs>\r\n       <use xlink:href=\"#DejaVuSans-65\"/>\r\n       <use x=\"68.408203\" xlink:href=\"#DejaVuSans-117\"/>\r\n       <use x=\"131.787109\" xlink:href=\"#DejaVuSans-115\"/>\r\n       <use x=\"183.886719\" xlink:href=\"#DejaVuSans-116\"/>\r\n       <use x=\"223.095703\" xlink:href=\"#DejaVuSans-114\"/>\r\n       <use x=\"264.208984\" xlink:href=\"#DejaVuSans-97\"/>\r\n       <use x=\"325.488281\" xlink:href=\"#DejaVuSans-108\"/>\r\n       <use x=\"353.271484\" xlink:href=\"#DejaVuSans-105\"/>\r\n       <use x=\"381.054688\" xlink:href=\"#DejaVuSans-97\"/>\r\n      </g>\r\n     </g>\r\n    </g>\r\n    <g id=\"xtick_11\">\r\n     <g id=\"line2d_11\">\r\n      <g>\r\n       <use style=\"stroke:#000000;stroke-width:0.8;\" x=\"224.262247\" xlink:href=\"#m0a46c06bb8\" y=\"452.678438\"/>\r\n      </g>\r\n     </g>\r\n     <g id=\"text_11\">\r\n      <!-- Norway -->\r\n      <g transform=\"translate(227.021622 497.614375)rotate(-90)scale(0.1 -0.1)\">\r\n       <use xlink:href=\"#DejaVuSans-78\"/>\r\n       <use x=\"74.804688\" xlink:href=\"#DejaVuSans-111\"/>\r\n       <use x=\"135.986328\" xlink:href=\"#DejaVuSans-114\"/>\r\n       <use x=\"177.099609\" xlink:href=\"#DejaVuSans-119\"/>\r\n       <use x=\"258.886719\" xlink:href=\"#DejaVuSans-97\"/>\r\n       <use x=\"320.166016\" xlink:href=\"#DejaVuSans-121\"/>\r\n      </g>\r\n     </g>\r\n    </g>\r\n    <g id=\"xtick_12\">\r\n     <g id=\"line2d_12\">\r\n      <g>\r\n       <use style=\"stroke:#000000;stroke-width:0.8;\" x=\"242.359544\" xlink:href=\"#m0a46c06bb8\" y=\"452.678438\"/>\r\n      </g>\r\n     </g>\r\n     <g id=\"text_12\">\r\n      <!-- Channel Islands -->\r\n      <g transform=\"translate(245.118919 538.872187)rotate(-90)scale(0.1 -0.1)\">\r\n       <defs>\r\n        <path d=\"M 64.40625 67.28125 \r\nL 64.40625 56.890625 \r\nQ 59.421875 61.53125 53.78125 63.8125 \r\nQ 48.140625 66.109375 41.796875 66.109375 \r\nQ 29.296875 66.109375 22.65625 58.46875 \r\nQ 16.015625 50.828125 16.015625 36.375 \r\nQ 16.015625 21.96875 22.65625 14.328125 \r\nQ 29.296875 6.6875 41.796875 6.6875 \r\nQ 48.140625 6.6875 53.78125 8.984375 \r\nQ 59.421875 11.28125 64.40625 15.921875 \r\nL 64.40625 5.609375 \r\nQ 59.234375 2.09375 53.4375 0.328125 \r\nQ 47.65625 -1.421875 41.21875 -1.421875 \r\nQ 24.65625 -1.421875 15.125 8.703125 \r\nQ 5.609375 18.84375 5.609375 36.375 \r\nQ 5.609375 53.953125 15.125 64.078125 \r\nQ 24.65625 74.21875 41.21875 74.21875 \r\nQ 47.75 74.21875 53.53125 72.484375 \r\nQ 59.328125 70.75 64.40625 67.28125 \r\nz\r\n\" id=\"DejaVuSans-67\"/>\r\n       </defs>\r\n       <use xlink:href=\"#DejaVuSans-67\"/>\r\n       <use x=\"69.824219\" xlink:href=\"#DejaVuSans-104\"/>\r\n       <use x=\"133.203125\" xlink:href=\"#DejaVuSans-97\"/>\r\n       <use x=\"194.482422\" xlink:href=\"#DejaVuSans-110\"/>\r\n       <use x=\"257.861328\" xlink:href=\"#DejaVuSans-110\"/>\r\n       <use x=\"321.240234\" xlink:href=\"#DejaVuSans-101\"/>\r\n       <use x=\"382.763672\" xlink:href=\"#DejaVuSans-108\"/>\r\n       <use x=\"410.546875\" xlink:href=\"#DejaVuSans-32\"/>\r\n       <use x=\"442.333984\" xlink:href=\"#DejaVuSans-73\"/>\r\n       <use x=\"471.826172\" xlink:href=\"#DejaVuSans-115\"/>\r\n       <use x=\"523.925781\" xlink:href=\"#DejaVuSans-108\"/>\r\n       <use x=\"551.708984\" xlink:href=\"#DejaVuSans-97\"/>\r\n       <use x=\"612.988281\" xlink:href=\"#DejaVuSans-110\"/>\r\n       <use x=\"676.367188\" xlink:href=\"#DejaVuSans-100\"/>\r\n       <use x=\"739.84375\" xlink:href=\"#DejaVuSans-115\"/>\r\n      </g>\r\n     </g>\r\n    </g>\r\n    <g id=\"xtick_13\">\r\n     <g id=\"line2d_13\">\r\n      <g>\r\n       <use style=\"stroke:#000000;stroke-width:0.8;\" x=\"260.456841\" xlink:href=\"#m0a46c06bb8\" y=\"452.678438\"/>\r\n      </g>\r\n     </g>\r\n     <g id=\"text_13\">\r\n      <!-- Italy -->\r\n      <g transform=\"translate(263.216216 481.37375)rotate(-90)scale(0.1 -0.1)\">\r\n       <use xlink:href=\"#DejaVuSans-73\"/>\r\n       <use x=\"29.492188\" xlink:href=\"#DejaVuSans-116\"/>\r\n       <use x=\"68.701172\" xlink:href=\"#DejaVuSans-97\"/>\r\n       <use x=\"129.980469\" xlink:href=\"#DejaVuSans-108\"/>\r\n       <use x=\"157.763672\" xlink:href=\"#DejaVuSans-121\"/>\r\n      </g>\r\n     </g>\r\n    </g>\r\n    <g id=\"xtick_14\">\r\n     <g id=\"line2d_14\">\r\n      <g>\r\n       <use style=\"stroke:#000000;stroke-width:0.8;\" x=\"278.554139\" xlink:href=\"#m0a46c06bb8\" y=\"452.678438\"/>\r\n      </g>\r\n     </g>\r\n     <g id=\"text_14\">\r\n      <!-- Finland -->\r\n      <g transform=\"translate(281.313514 495.412813)rotate(-90)scale(0.1 -0.1)\">\r\n       <use xlink:href=\"#DejaVuSans-70\"/>\r\n       <use x=\"50.269531\" xlink:href=\"#DejaVuSans-105\"/>\r\n       <use x=\"78.052734\" xlink:href=\"#DejaVuSans-110\"/>\r\n       <use x=\"141.431641\" xlink:href=\"#DejaVuSans-108\"/>\r\n       <use x=\"169.214844\" xlink:href=\"#DejaVuSans-97\"/>\r\n       <use x=\"230.494141\" xlink:href=\"#DejaVuSans-110\"/>\r\n       <use x=\"293.873047\" xlink:href=\"#DejaVuSans-100\"/>\r\n      </g>\r\n     </g>\r\n    </g>\r\n    <g id=\"xtick_15\">\r\n     <g id=\"line2d_15\">\r\n      <g>\r\n       <use style=\"stroke:#000000;stroke-width:0.8;\" x=\"296.651436\" xlink:href=\"#m0a46c06bb8\" y=\"452.678438\"/>\r\n      </g>\r\n     </g>\r\n     <g id=\"text_15\">\r\n      <!-- Cyprus -->\r\n      <g transform=\"translate(299.410811 494.58625)rotate(-90)scale(0.1 -0.1)\">\r\n       <use xlink:href=\"#DejaVuSans-67\"/>\r\n       <use x=\"69.824219\" xlink:href=\"#DejaVuSans-121\"/>\r\n       <use x=\"129.003906\" xlink:href=\"#DejaVuSans-112\"/>\r\n       <use x=\"192.480469\" xlink:href=\"#DejaVuSans-114\"/>\r\n       <use x=\"233.59375\" xlink:href=\"#DejaVuSans-117\"/>\r\n       <use x=\"296.972656\" xlink:href=\"#DejaVuSans-115\"/>\r\n      </g>\r\n     </g>\r\n    </g>\r\n    <g id=\"xtick_16\">\r\n     <g id=\"line2d_16\">\r\n      <g>\r\n       <use style=\"stroke:#000000;stroke-width:0.8;\" x=\"314.748733\" xlink:href=\"#m0a46c06bb8\" y=\"452.678438\"/>\r\n      </g>\r\n     </g>\r\n     <g id=\"text_16\">\r\n      <!-- Sweden -->\r\n      <g transform=\"translate(317.508108 499.197188)rotate(-90)scale(0.1 -0.1)\">\r\n       <use xlink:href=\"#DejaVuSans-83\"/>\r\n       <use x=\"63.476562\" xlink:href=\"#DejaVuSans-119\"/>\r\n       <use x=\"145.263672\" xlink:href=\"#DejaVuSans-101\"/>\r\n       <use x=\"206.787109\" xlink:href=\"#DejaVuSans-100\"/>\r\n       <use x=\"270.263672\" xlink:href=\"#DejaVuSans-101\"/>\r\n       <use x=\"331.787109\" xlink:href=\"#DejaVuSans-110\"/>\r\n      </g>\r\n     </g>\r\n    </g>\r\n    <g id=\"xtick_17\">\r\n     <g id=\"line2d_17\">\r\n      <g>\r\n       <use style=\"stroke:#000000;stroke-width:0.8;\" x=\"332.84603\" xlink:href=\"#m0a46c06bb8\" y=\"452.678438\"/>\r\n      </g>\r\n     </g>\r\n     <g id=\"text_17\">\r\n      <!-- Austria -->\r\n      <g transform=\"translate(335.605405 495.003438)rotate(-90)scale(0.1 -0.1)\">\r\n       <use xlink:href=\"#DejaVuSans-65\"/>\r\n       <use x=\"68.408203\" xlink:href=\"#DejaVuSans-117\"/>\r\n       <use x=\"131.787109\" xlink:href=\"#DejaVuSans-115\"/>\r\n       <use x=\"183.886719\" xlink:href=\"#DejaVuSans-116\"/>\r\n       <use x=\"223.095703\" xlink:href=\"#DejaVuSans-114\"/>\r\n       <use x=\"264.208984\" xlink:href=\"#DejaVuSans-105\"/>\r\n       <use x=\"291.992188\" xlink:href=\"#DejaVuSans-97\"/>\r\n      </g>\r\n     </g>\r\n    </g>\r\n    <g id=\"xtick_18\">\r\n     <g id=\"line2d_18\">\r\n      <g>\r\n       <use style=\"stroke:#000000;stroke-width:0.8;\" x=\"350.943328\" xlink:href=\"#m0a46c06bb8\" y=\"452.678438\"/>\r\n      </g>\r\n     </g>\r\n     <g id=\"text_18\">\r\n      <!-- Denmark -->\r\n      <g transform=\"translate(353.702703 505.639375)rotate(-90)scale(0.1 -0.1)\">\r\n       <defs>\r\n        <path d=\"M 19.671875 64.796875 \r\nL 19.671875 8.109375 \r\nL 31.59375 8.109375 \r\nQ 46.6875 8.109375 53.6875 14.9375 \r\nQ 60.6875 21.78125 60.6875 36.53125 \r\nQ 60.6875 51.171875 53.6875 57.984375 \r\nQ 46.6875 64.796875 31.59375 64.796875 \r\nz\r\nM 9.8125 72.90625 \r\nL 30.078125 72.90625 \r\nQ 51.265625 72.90625 61.171875 64.09375 \r\nQ 71.09375 55.28125 71.09375 36.53125 \r\nQ 71.09375 17.671875 61.125 8.828125 \r\nQ 51.171875 0 30.078125 0 \r\nL 9.8125 0 \r\nz\r\n\" id=\"DejaVuSans-68\"/>\r\n        <path d=\"M 9.078125 75.984375 \r\nL 18.109375 75.984375 \r\nL 18.109375 31.109375 \r\nL 44.921875 54.6875 \r\nL 56.390625 54.6875 \r\nL 27.390625 29.109375 \r\nL 57.625 0 \r\nL 45.90625 0 \r\nL 18.109375 26.703125 \r\nL 18.109375 0 \r\nL 9.078125 0 \r\nz\r\n\" id=\"DejaVuSans-107\"/>\r\n       </defs>\r\n       <use xlink:href=\"#DejaVuSans-68\"/>\r\n       <use x=\"77.001953\" xlink:href=\"#DejaVuSans-101\"/>\r\n       <use x=\"138.525391\" xlink:href=\"#DejaVuSans-110\"/>\r\n       <use x=\"201.904297\" xlink:href=\"#DejaVuSans-109\"/>\r\n       <use x=\"299.316406\" xlink:href=\"#DejaVuSans-97\"/>\r\n       <use x=\"360.595703\" xlink:href=\"#DejaVuSans-114\"/>\r\n       <use x=\"401.708984\" xlink:href=\"#DejaVuSans-107\"/>\r\n      </g>\r\n     </g>\r\n    </g>\r\n    <g id=\"xtick_19\">\r\n     <g id=\"line2d_19\">\r\n      <g>\r\n       <use style=\"stroke:#000000;stroke-width:0.8;\" x=\"369.040625\" xlink:href=\"#m0a46c06bb8\" y=\"452.678438\"/>\r\n      </g>\r\n     </g>\r\n     <g id=\"text_19\">\r\n      <!-- Japan -->\r\n      <g transform=\"translate(371.8 487.570625)rotate(-90)scale(0.1 -0.1)\">\r\n       <defs>\r\n        <path d=\"M 9.8125 72.90625 \r\nL 19.671875 72.90625 \r\nL 19.671875 5.078125 \r\nQ 19.671875 -8.109375 14.671875 -14.0625 \r\nQ 9.671875 -20.015625 -1.421875 -20.015625 \r\nL -5.171875 -20.015625 \r\nL -5.171875 -11.71875 \r\nL -2.09375 -11.71875 \r\nQ 4.4375 -11.71875 7.125 -8.046875 \r\nQ 9.8125 -4.390625 9.8125 5.078125 \r\nz\r\n\" id=\"DejaVuSans-74\"/>\r\n       </defs>\r\n       <use xlink:href=\"#DejaVuSans-74\"/>\r\n       <use x=\"29.492188\" xlink:href=\"#DejaVuSans-97\"/>\r\n       <use x=\"90.771484\" xlink:href=\"#DejaVuSans-112\"/>\r\n       <use x=\"154.248047\" xlink:href=\"#DejaVuSans-97\"/>\r\n       <use x=\"215.527344\" xlink:href=\"#DejaVuSans-110\"/>\r\n      </g>\r\n     </g>\r\n    </g>\r\n    <g id=\"xtick_20\">\r\n     <g id=\"line2d_20\">\r\n      <g>\r\n       <use style=\"stroke:#000000;stroke-width:0.8;\" x=\"387.137922\" xlink:href=\"#m0a46c06bb8\" y=\"452.678438\"/>\r\n      </g>\r\n     </g>\r\n     <g id=\"text_20\">\r\n      <!-- Poland -->\r\n      <g transform=\"translate(389.897297 493.056563)rotate(-90)scale(0.1 -0.1)\">\r\n       <use xlink:href=\"#DejaVuSans-80\"/>\r\n       <use x=\"56.677734\" xlink:href=\"#DejaVuSans-111\"/>\r\n       <use x=\"117.859375\" xlink:href=\"#DejaVuSans-108\"/>\r\n       <use x=\"145.642578\" xlink:href=\"#DejaVuSans-97\"/>\r\n       <use x=\"206.921875\" xlink:href=\"#DejaVuSans-110\"/>\r\n       <use x=\"270.300781\" xlink:href=\"#DejaVuSans-100\"/>\r\n      </g>\r\n     </g>\r\n    </g>\r\n    <g id=\"xtick_21\">\r\n     <g id=\"line2d_21\">\r\n      <g>\r\n       <use style=\"stroke:#000000;stroke-width:0.8;\" x=\"405.23522\" xlink:href=\"#m0a46c06bb8\" y=\"452.678438\"/>\r\n      </g>\r\n     </g>\r\n     <g id=\"text_21\">\r\n      <!-- USA -->\r\n      <g transform=\"translate(407.994595 480.37375)rotate(-90)scale(0.1 -0.1)\">\r\n       <use xlink:href=\"#DejaVuSans-85\"/>\r\n       <use x=\"73.193359\" xlink:href=\"#DejaVuSans-83\"/>\r\n       <use x=\"138.544922\" xlink:href=\"#DejaVuSans-65\"/>\r\n      </g>\r\n     </g>\r\n    </g>\r\n    <g id=\"xtick_22\">\r\n     <g id=\"line2d_22\">\r\n      <g>\r\n       <use style=\"stroke:#000000;stroke-width:0.8;\" x=\"423.332517\" xlink:href=\"#m0a46c06bb8\" y=\"452.678438\"/>\r\n      </g>\r\n     </g>\r\n     <g id=\"text_22\">\r\n      <!-- Unspecified -->\r\n      <g transform=\"translate(426.091892 518.122187)rotate(-90)scale(0.1 -0.1)\">\r\n       <defs>\r\n        <path d=\"M 37.109375 75.984375 \r\nL 37.109375 68.5 \r\nL 28.515625 68.5 \r\nQ 23.6875 68.5 21.796875 66.546875 \r\nQ 19.921875 64.59375 19.921875 59.515625 \r\nL 19.921875 54.6875 \r\nL 34.71875 54.6875 \r\nL 34.71875 47.703125 \r\nL 19.921875 47.703125 \r\nL 19.921875 0 \r\nL 10.890625 0 \r\nL 10.890625 47.703125 \r\nL 2.296875 47.703125 \r\nL 2.296875 54.6875 \r\nL 10.890625 54.6875 \r\nL 10.890625 58.5 \r\nQ 10.890625 67.625 15.140625 71.796875 \r\nQ 19.390625 75.984375 28.609375 75.984375 \r\nz\r\n\" id=\"DejaVuSans-102\"/>\r\n       </defs>\r\n       <use xlink:href=\"#DejaVuSans-85\"/>\r\n       <use x=\"73.193359\" xlink:href=\"#DejaVuSans-110\"/>\r\n       <use x=\"136.572266\" xlink:href=\"#DejaVuSans-115\"/>\r\n       <use x=\"188.671875\" xlink:href=\"#DejaVuSans-112\"/>\r\n       <use x=\"252.148438\" xlink:href=\"#DejaVuSans-101\"/>\r\n       <use x=\"313.671875\" xlink:href=\"#DejaVuSans-99\"/>\r\n       <use x=\"368.652344\" xlink:href=\"#DejaVuSans-105\"/>\r\n       <use x=\"396.435547\" xlink:href=\"#DejaVuSans-102\"/>\r\n       <use x=\"431.640625\" xlink:href=\"#DejaVuSans-105\"/>\r\n       <use x=\"459.423828\" xlink:href=\"#DejaVuSans-101\"/>\r\n       <use x=\"520.947266\" xlink:href=\"#DejaVuSans-100\"/>\r\n      </g>\r\n     </g>\r\n    </g>\r\n    <g id=\"xtick_23\">\r\n     <g id=\"line2d_23\">\r\n      <g>\r\n       <use style=\"stroke:#000000;stroke-width:0.8;\" x=\"441.429814\" xlink:href=\"#m0a46c06bb8\" y=\"452.678438\"/>\r\n      </g>\r\n     </g>\r\n     <g id=\"text_23\">\r\n      <!-- Israel -->\r\n      <g transform=\"translate(444.189189 487.008125)rotate(-90)scale(0.1 -0.1)\">\r\n       <use xlink:href=\"#DejaVuSans-73\"/>\r\n       <use x=\"29.492188\" xlink:href=\"#DejaVuSans-115\"/>\r\n       <use x=\"81.591797\" xlink:href=\"#DejaVuSans-114\"/>\r\n       <use x=\"122.705078\" xlink:href=\"#DejaVuSans-97\"/>\r\n       <use x=\"183.984375\" xlink:href=\"#DejaVuSans-101\"/>\r\n       <use x=\"245.507812\" xlink:href=\"#DejaVuSans-108\"/>\r\n      </g>\r\n     </g>\r\n    </g>\r\n    <g id=\"xtick_24\">\r\n     <g id=\"line2d_24\">\r\n      <g>\r\n       <use style=\"stroke:#000000;stroke-width:0.8;\" x=\"459.527111\" xlink:href=\"#m0a46c06bb8\" y=\"452.678438\"/>\r\n      </g>\r\n     </g>\r\n     <g id=\"text_24\">\r\n      <!-- Singapore -->\r\n      <g transform=\"translate(462.286486 510.125313)rotate(-90)scale(0.1 -0.1)\">\r\n       <use xlink:href=\"#DejaVuSans-83\"/>\r\n       <use x=\"63.476562\" xlink:href=\"#DejaVuSans-105\"/>\r\n       <use x=\"91.259766\" xlink:href=\"#DejaVuSans-110\"/>\r\n       <use x=\"154.638672\" xlink:href=\"#DejaVuSans-103\"/>\r\n       <use x=\"218.115234\" xlink:href=\"#DejaVuSans-97\"/>\r\n       <use x=\"279.394531\" xlink:href=\"#DejaVuSans-112\"/>\r\n       <use x=\"342.871094\" xlink:href=\"#DejaVuSans-111\"/>\r\n       <use x=\"404.052734\" xlink:href=\"#DejaVuSans-114\"/>\r\n       <use x=\"442.916016\" xlink:href=\"#DejaVuSans-101\"/>\r\n      </g>\r\n     </g>\r\n    </g>\r\n    <g id=\"xtick_25\">\r\n     <g id=\"line2d_25\">\r\n      <g>\r\n       <use style=\"stroke:#000000;stroke-width:0.8;\" x=\"477.624409\" xlink:href=\"#m0a46c06bb8\" y=\"452.678438\"/>\r\n      </g>\r\n     </g>\r\n     <g id=\"text_25\">\r\n      <!-- Canada -->\r\n      <g transform=\"translate(480.383784 497.731562)rotate(-90)scale(0.1 -0.1)\">\r\n       <use xlink:href=\"#DejaVuSans-67\"/>\r\n       <use x=\"69.824219\" xlink:href=\"#DejaVuSans-97\"/>\r\n       <use x=\"131.103516\" xlink:href=\"#DejaVuSans-110\"/>\r\n       <use x=\"194.482422\" xlink:href=\"#DejaVuSans-97\"/>\r\n       <use x=\"255.761719\" xlink:href=\"#DejaVuSans-100\"/>\r\n       <use x=\"319.238281\" xlink:href=\"#DejaVuSans-97\"/>\r\n      </g>\r\n     </g>\r\n    </g>\r\n    <g id=\"xtick_26\">\r\n     <g id=\"line2d_26\">\r\n      <g>\r\n       <use style=\"stroke:#000000;stroke-width:0.8;\" x=\"495.721706\" xlink:href=\"#m0a46c06bb8\" y=\"452.678438\"/>\r\n      </g>\r\n     </g>\r\n     <g id=\"text_26\">\r\n      <!-- Iceland -->\r\n      <g transform=\"translate(498.481081 495.872187)rotate(-90)scale(0.1 -0.1)\">\r\n       <use xlink:href=\"#DejaVuSans-73\"/>\r\n       <use x=\"29.492188\" xlink:href=\"#DejaVuSans-99\"/>\r\n       <use x=\"84.472656\" xlink:href=\"#DejaVuSans-101\"/>\r\n       <use x=\"145.996094\" xlink:href=\"#DejaVuSans-108\"/>\r\n       <use x=\"173.779297\" xlink:href=\"#DejaVuSans-97\"/>\r\n       <use x=\"235.058594\" xlink:href=\"#DejaVuSans-110\"/>\r\n       <use x=\"298.4375\" xlink:href=\"#DejaVuSans-100\"/>\r\n      </g>\r\n     </g>\r\n    </g>\r\n    <g id=\"xtick_27\">\r\n     <g id=\"line2d_27\">\r\n      <g>\r\n       <use style=\"stroke:#000000;stroke-width:0.8;\" x=\"513.819003\" xlink:href=\"#m0a46c06bb8\" y=\"452.678438\"/>\r\n      </g>\r\n     </g>\r\n     <g id=\"text_27\">\r\n      <!-- Malta -->\r\n      <g transform=\"translate(516.578378 487.26125)rotate(-90)scale(0.1 -0.1)\">\r\n       <defs>\r\n        <path d=\"M 9.8125 72.90625 \r\nL 24.515625 72.90625 \r\nL 43.109375 23.296875 \r\nL 61.8125 72.90625 \r\nL 76.515625 72.90625 \r\nL 76.515625 0 \r\nL 66.890625 0 \r\nL 66.890625 64.015625 \r\nL 48.09375 14.015625 \r\nL 38.1875 14.015625 \r\nL 19.390625 64.015625 \r\nL 19.390625 0 \r\nL 9.8125 0 \r\nz\r\n\" id=\"DejaVuSans-77\"/>\r\n       </defs>\r\n       <use xlink:href=\"#DejaVuSans-77\"/>\r\n       <use x=\"86.279297\" xlink:href=\"#DejaVuSans-97\"/>\r\n       <use x=\"147.558594\" xlink:href=\"#DejaVuSans-108\"/>\r\n       <use x=\"175.341797\" xlink:href=\"#DejaVuSans-116\"/>\r\n       <use x=\"214.550781\" xlink:href=\"#DejaVuSans-97\"/>\r\n      </g>\r\n     </g>\r\n    </g>\r\n    <g id=\"xtick_28\">\r\n     <g id=\"line2d_28\">\r\n      <g>\r\n       <use style=\"stroke:#000000;stroke-width:0.8;\" x=\"531.916301\" xlink:href=\"#m0a46c06bb8\" y=\"452.678438\"/>\r\n      </g>\r\n     </g>\r\n     <g id=\"text_28\">\r\n      <!-- Greece -->\r\n      <g transform=\"translate(534.675676 495.270625)rotate(-90)scale(0.1 -0.1)\">\r\n       <use xlink:href=\"#DejaVuSans-71\"/>\r\n       <use x=\"77.490234\" xlink:href=\"#DejaVuSans-114\"/>\r\n       <use x=\"116.353516\" xlink:href=\"#DejaVuSans-101\"/>\r\n       <use x=\"177.876953\" xlink:href=\"#DejaVuSans-101\"/>\r\n       <use x=\"239.400391\" xlink:href=\"#DejaVuSans-99\"/>\r\n       <use x=\"294.380859\" xlink:href=\"#DejaVuSans-101\"/>\r\n      </g>\r\n     </g>\r\n    </g>\r\n    <g id=\"xtick_29\">\r\n     <g id=\"line2d_29\">\r\n      <g>\r\n       <use style=\"stroke:#000000;stroke-width:0.8;\" x=\"550.013598\" xlink:href=\"#m0a46c06bb8\" y=\"452.678438\"/>\r\n      </g>\r\n     </g>\r\n     <g id=\"text_29\">\r\n      <!-- United Arab Emirates -->\r\n      <g transform=\"translate(552.772973 566.678437)rotate(-90)scale(0.1 -0.1)\">\r\n       <defs>\r\n        <path d=\"M 48.6875 27.296875 \r\nQ 48.6875 37.203125 44.609375 42.84375 \r\nQ 40.53125 48.484375 33.40625 48.484375 \r\nQ 26.265625 48.484375 22.1875 42.84375 \r\nQ 18.109375 37.203125 18.109375 27.296875 \r\nQ 18.109375 17.390625 22.1875 11.75 \r\nQ 26.265625 6.109375 33.40625 6.109375 \r\nQ 40.53125 6.109375 44.609375 11.75 \r\nQ 48.6875 17.390625 48.6875 27.296875 \r\nz\r\nM 18.109375 46.390625 \r\nQ 20.953125 51.265625 25.265625 53.625 \r\nQ 29.59375 56 35.59375 56 \r\nQ 45.5625 56 51.78125 48.09375 \r\nQ 58.015625 40.1875 58.015625 27.296875 \r\nQ 58.015625 14.40625 51.78125 6.484375 \r\nQ 45.5625 -1.421875 35.59375 -1.421875 \r\nQ 29.59375 -1.421875 25.265625 0.953125 \r\nQ 20.953125 3.328125 18.109375 8.203125 \r\nL 18.109375 0 \r\nL 9.078125 0 \r\nL 9.078125 75.984375 \r\nL 18.109375 75.984375 \r\nz\r\n\" id=\"DejaVuSans-98\"/>\r\n       </defs>\r\n       <use xlink:href=\"#DejaVuSans-85\"/>\r\n       <use x=\"73.193359\" xlink:href=\"#DejaVuSans-110\"/>\r\n       <use x=\"136.572266\" xlink:href=\"#DejaVuSans-105\"/>\r\n       <use x=\"164.355469\" xlink:href=\"#DejaVuSans-116\"/>\r\n       <use x=\"203.564453\" xlink:href=\"#DejaVuSans-101\"/>\r\n       <use x=\"265.087891\" xlink:href=\"#DejaVuSans-100\"/>\r\n       <use x=\"328.564453\" xlink:href=\"#DejaVuSans-32\"/>\r\n       <use x=\"360.351562\" xlink:href=\"#DejaVuSans-65\"/>\r\n       <use x=\"428.759766\" xlink:href=\"#DejaVuSans-114\"/>\r\n       <use x=\"469.873047\" xlink:href=\"#DejaVuSans-97\"/>\r\n       <use x=\"531.152344\" xlink:href=\"#DejaVuSans-98\"/>\r\n       <use x=\"594.628906\" xlink:href=\"#DejaVuSans-32\"/>\r\n       <use x=\"626.416016\" xlink:href=\"#DejaVuSans-69\"/>\r\n       <use x=\"689.599609\" xlink:href=\"#DejaVuSans-109\"/>\r\n       <use x=\"787.011719\" xlink:href=\"#DejaVuSans-105\"/>\r\n       <use x=\"814.794922\" xlink:href=\"#DejaVuSans-114\"/>\r\n       <use x=\"855.908203\" xlink:href=\"#DejaVuSans-97\"/>\r\n       <use x=\"917.1875\" xlink:href=\"#DejaVuSans-116\"/>\r\n       <use x=\"956.396484\" xlink:href=\"#DejaVuSans-101\"/>\r\n       <use x=\"1017.919922\" xlink:href=\"#DejaVuSans-115\"/>\r\n      </g>\r\n     </g>\r\n    </g>\r\n    <g id=\"xtick_30\">\r\n     <g id=\"line2d_30\">\r\n      <g>\r\n       <use style=\"stroke:#000000;stroke-width:0.8;\" x=\"568.110895\" xlink:href=\"#m0a46c06bb8\" y=\"452.678438\"/>\r\n      </g>\r\n     </g>\r\n     <g id=\"text_30\">\r\n      <!-- European Community -->\r\n      <g transform=\"translate(570.87027 568.359688)rotate(-90)scale(0.1 -0.1)\">\r\n       <use xlink:href=\"#DejaVuSans-69\"/>\r\n       <use x=\"63.183594\" xlink:href=\"#DejaVuSans-117\"/>\r\n       <use x=\"126.5625\" xlink:href=\"#DejaVuSans-114\"/>\r\n       <use x=\"165.425781\" xlink:href=\"#DejaVuSans-111\"/>\r\n       <use x=\"226.607422\" xlink:href=\"#DejaVuSans-112\"/>\r\n       <use x=\"290.083984\" xlink:href=\"#DejaVuSans-101\"/>\r\n       <use x=\"351.607422\" xlink:href=\"#DejaVuSans-97\"/>\r\n       <use x=\"412.886719\" xlink:href=\"#DejaVuSans-110\"/>\r\n       <use x=\"476.265625\" xlink:href=\"#DejaVuSans-32\"/>\r\n       <use x=\"508.052734\" xlink:href=\"#DejaVuSans-67\"/>\r\n       <use x=\"577.876953\" xlink:href=\"#DejaVuSans-111\"/>\r\n       <use x=\"639.058594\" xlink:href=\"#DejaVuSans-109\"/>\r\n       <use x=\"736.470703\" xlink:href=\"#DejaVuSans-109\"/>\r\n       <use x=\"833.882812\" xlink:href=\"#DejaVuSans-117\"/>\r\n       <use x=\"897.261719\" xlink:href=\"#DejaVuSans-110\"/>\r\n       <use x=\"960.640625\" xlink:href=\"#DejaVuSans-105\"/>\r\n       <use x=\"988.423828\" xlink:href=\"#DejaVuSans-116\"/>\r\n       <use x=\"1027.632812\" xlink:href=\"#DejaVuSans-121\"/>\r\n      </g>\r\n     </g>\r\n    </g>\r\n    <g id=\"xtick_31\">\r\n     <g id=\"line2d_31\">\r\n      <g>\r\n       <use style=\"stroke:#000000;stroke-width:0.8;\" x=\"586.208193\" xlink:href=\"#m0a46c06bb8\" y=\"452.678438\"/>\r\n      </g>\r\n     </g>\r\n     <g id=\"text_31\">\r\n      <!-- RSA -->\r\n      <g transform=\"translate(588.967568 480.003438)rotate(-90)scale(0.1 -0.1)\">\r\n       <use xlink:href=\"#DejaVuSans-82\"/>\r\n       <use x=\"69.482422\" xlink:href=\"#DejaVuSans-83\"/>\r\n       <use x=\"134.833984\" xlink:href=\"#DejaVuSans-65\"/>\r\n      </g>\r\n     </g>\r\n    </g>\r\n    <g id=\"xtick_32\">\r\n     <g id=\"line2d_32\">\r\n      <g>\r\n       <use style=\"stroke:#000000;stroke-width:0.8;\" x=\"604.30549\" xlink:href=\"#m0a46c06bb8\" y=\"452.678438\"/>\r\n      </g>\r\n     </g>\r\n     <g id=\"text_32\">\r\n      <!-- Lebanon -->\r\n      <g transform=\"translate(607.064865 502.49875)rotate(-90)scale(0.1 -0.1)\">\r\n       <defs>\r\n        <path d=\"M 9.8125 72.90625 \r\nL 19.671875 72.90625 \r\nL 19.671875 8.296875 \r\nL 55.171875 8.296875 \r\nL 55.171875 0 \r\nL 9.8125 0 \r\nz\r\n\" id=\"DejaVuSans-76\"/>\r\n       </defs>\r\n       <use xlink:href=\"#DejaVuSans-76\"/>\r\n       <use x=\"53.962891\" xlink:href=\"#DejaVuSans-101\"/>\r\n       <use x=\"115.486328\" xlink:href=\"#DejaVuSans-98\"/>\r\n       <use x=\"178.962891\" xlink:href=\"#DejaVuSans-97\"/>\r\n       <use x=\"240.242188\" xlink:href=\"#DejaVuSans-110\"/>\r\n       <use x=\"303.621094\" xlink:href=\"#DejaVuSans-111\"/>\r\n       <use x=\"364.802734\" xlink:href=\"#DejaVuSans-110\"/>\r\n      </g>\r\n     </g>\r\n    </g>\r\n    <g id=\"xtick_33\">\r\n     <g id=\"line2d_33\">\r\n      <g>\r\n       <use style=\"stroke:#000000;stroke-width:0.8;\" x=\"622.402787\" xlink:href=\"#m0a46c06bb8\" y=\"452.678438\"/>\r\n      </g>\r\n     </g>\r\n     <g id=\"text_33\">\r\n      <!-- Lithuania -->\r\n      <g transform=\"translate(625.162162 505.995625)rotate(-90)scale(0.1 -0.1)\">\r\n       <use xlink:href=\"#DejaVuSans-76\"/>\r\n       <use x=\"55.712891\" xlink:href=\"#DejaVuSans-105\"/>\r\n       <use x=\"83.496094\" xlink:href=\"#DejaVuSans-116\"/>\r\n       <use x=\"122.705078\" xlink:href=\"#DejaVuSans-104\"/>\r\n       <use x=\"186.083984\" xlink:href=\"#DejaVuSans-117\"/>\r\n       <use x=\"249.462891\" xlink:href=\"#DejaVuSans-97\"/>\r\n       <use x=\"310.742188\" xlink:href=\"#DejaVuSans-110\"/>\r\n       <use x=\"374.121094\" xlink:href=\"#DejaVuSans-105\"/>\r\n       <use x=\"401.904297\" xlink:href=\"#DejaVuSans-97\"/>\r\n      </g>\r\n     </g>\r\n    </g>\r\n    <g id=\"xtick_34\">\r\n     <g id=\"line2d_34\">\r\n      <g>\r\n       <use style=\"stroke:#000000;stroke-width:0.8;\" x=\"640.500084\" xlink:href=\"#m0a46c06bb8\" y=\"452.678438\"/>\r\n      </g>\r\n     </g>\r\n     <g id=\"text_34\">\r\n      <!-- Brazil -->\r\n      <g transform=\"translate(643.259459 487.583125)rotate(-90)scale(0.1 -0.1)\">\r\n       <use xlink:href=\"#DejaVuSans-66\"/>\r\n       <use x=\"68.603516\" xlink:href=\"#DejaVuSans-114\"/>\r\n       <use x=\"109.716797\" xlink:href=\"#DejaVuSans-97\"/>\r\n       <use x=\"170.996094\" xlink:href=\"#DejaVuSans-122\"/>\r\n       <use x=\"223.486328\" xlink:href=\"#DejaVuSans-105\"/>\r\n       <use x=\"251.269531\" xlink:href=\"#DejaVuSans-108\"/>\r\n      </g>\r\n     </g>\r\n    </g>\r\n    <g id=\"xtick_35\">\r\n     <g id=\"line2d_35\">\r\n      <g>\r\n       <use style=\"stroke:#000000;stroke-width:0.8;\" x=\"658.597382\" xlink:href=\"#m0a46c06bb8\" y=\"452.678438\"/>\r\n      </g>\r\n     </g>\r\n     <g id=\"text_35\">\r\n      <!-- Czech Republic -->\r\n      <g transform=\"translate(661.356757 535.8175)rotate(-90)scale(0.1 -0.1)\">\r\n       <use xlink:href=\"#DejaVuSans-67\"/>\r\n       <use x=\"69.824219\" xlink:href=\"#DejaVuSans-122\"/>\r\n       <use x=\"122.314453\" xlink:href=\"#DejaVuSans-101\"/>\r\n       <use x=\"183.837891\" xlink:href=\"#DejaVuSans-99\"/>\r\n       <use x=\"238.818359\" xlink:href=\"#DejaVuSans-104\"/>\r\n       <use x=\"302.197266\" xlink:href=\"#DejaVuSans-32\"/>\r\n       <use x=\"333.984375\" xlink:href=\"#DejaVuSans-82\"/>\r\n       <use x=\"398.966797\" xlink:href=\"#DejaVuSans-101\"/>\r\n       <use x=\"460.490234\" xlink:href=\"#DejaVuSans-112\"/>\r\n       <use x=\"523.966797\" xlink:href=\"#DejaVuSans-117\"/>\r\n       <use x=\"587.345703\" xlink:href=\"#DejaVuSans-98\"/>\r\n       <use x=\"650.822266\" xlink:href=\"#DejaVuSans-108\"/>\r\n       <use x=\"678.605469\" xlink:href=\"#DejaVuSans-105\"/>\r\n       <use x=\"706.388672\" xlink:href=\"#DejaVuSans-99\"/>\r\n      </g>\r\n     </g>\r\n    </g>\r\n    <g id=\"xtick_36\">\r\n     <g id=\"line2d_36\">\r\n      <g>\r\n       <use style=\"stroke:#000000;stroke-width:0.8;\" x=\"676.694679\" xlink:href=\"#m0a46c06bb8\" y=\"452.678438\"/>\r\n      </g>\r\n     </g>\r\n     <g id=\"text_36\">\r\n      <!-- Bahrain -->\r\n      <g transform=\"translate(679.454054 498.359688)rotate(-90)scale(0.1 -0.1)\">\r\n       <use xlink:href=\"#DejaVuSans-66\"/>\r\n       <use x=\"68.603516\" xlink:href=\"#DejaVuSans-97\"/>\r\n       <use x=\"129.882812\" xlink:href=\"#DejaVuSans-104\"/>\r\n       <use x=\"193.261719\" xlink:href=\"#DejaVuSans-114\"/>\r\n       <use x=\"234.375\" xlink:href=\"#DejaVuSans-97\"/>\r\n       <use x=\"295.654297\" xlink:href=\"#DejaVuSans-105\"/>\r\n       <use x=\"323.4375\" xlink:href=\"#DejaVuSans-110\"/>\r\n      </g>\r\n     </g>\r\n    </g>\r\n    <g id=\"xtick_37\">\r\n     <g id=\"line2d_37\">\r\n      <g>\r\n       <use style=\"stroke:#000000;stroke-width:0.8;\" x=\"694.791976\" xlink:href=\"#m0a46c06bb8\" y=\"452.678438\"/>\r\n      </g>\r\n     </g>\r\n     <g id=\"text_37\">\r\n      <!-- Saudi Arabia -->\r\n      <g transform=\"translate(697.551351 523.131562)rotate(-90)scale(0.1 -0.1)\">\r\n       <use xlink:href=\"#DejaVuSans-83\"/>\r\n       <use x=\"63.476562\" xlink:href=\"#DejaVuSans-97\"/>\r\n       <use x=\"124.755859\" xlink:href=\"#DejaVuSans-117\"/>\r\n       <use x=\"188.134766\" xlink:href=\"#DejaVuSans-100\"/>\r\n       <use x=\"251.611328\" xlink:href=\"#DejaVuSans-105\"/>\r\n       <use x=\"279.394531\" xlink:href=\"#DejaVuSans-32\"/>\r\n       <use x=\"311.181641\" xlink:href=\"#DejaVuSans-65\"/>\r\n       <use x=\"379.589844\" xlink:href=\"#DejaVuSans-114\"/>\r\n       <use x=\"420.703125\" xlink:href=\"#DejaVuSans-97\"/>\r\n       <use x=\"481.982422\" xlink:href=\"#DejaVuSans-98\"/>\r\n       <use x=\"545.458984\" xlink:href=\"#DejaVuSans-105\"/>\r\n       <use x=\"573.242188\" xlink:href=\"#DejaVuSans-97\"/>\r\n      </g>\r\n     </g>\r\n    </g>\r\n    <g id=\"text_38\">\r\n     <!-- Country -->\r\n     <g transform=\"translate(349.177344 579.958125)scale(0.1 -0.1)\">\r\n      <use xlink:href=\"#DejaVuSans-67\"/>\r\n      <use x=\"69.824219\" xlink:href=\"#DejaVuSans-111\"/>\r\n      <use x=\"131.005859\" xlink:href=\"#DejaVuSans-117\"/>\r\n      <use x=\"194.384766\" xlink:href=\"#DejaVuSans-110\"/>\r\n      <use x=\"257.763672\" xlink:href=\"#DejaVuSans-116\"/>\r\n      <use x=\"296.972656\" xlink:href=\"#DejaVuSans-114\"/>\r\n      <use x=\"338.085938\" xlink:href=\"#DejaVuSans-121\"/>\r\n     </g>\r\n    </g>\r\n   </g>\r\n   <g id=\"matplotlib.axis_2\">\r\n    <g id=\"ytick_1\">\r\n     <g id=\"line2d_38\">\r\n      <defs>\r\n       <path d=\"M 0 0 \r\nL -3.5 0 \r\n\" id=\"m9b7739ab43\" style=\"stroke:#000000;stroke-width:0.8;\"/>\r\n      </defs>\r\n      <g>\r\n       <use style=\"stroke:#000000;stroke-width:0.8;\" x=\"34.240625\" xlink:href=\"#m9b7739ab43\" y=\"452.678438\"/>\r\n      </g>\r\n     </g>\r\n     <g id=\"text_39\">\r\n      <!-- 0 -->\r\n      <g transform=\"translate(20.878125 456.477656)scale(0.1 -0.1)\">\r\n       <defs>\r\n        <path d=\"M 31.78125 66.40625 \r\nQ 24.171875 66.40625 20.328125 58.90625 \r\nQ 16.5 51.421875 16.5 36.375 \r\nQ 16.5 21.390625 20.328125 13.890625 \r\nQ 24.171875 6.390625 31.78125 6.390625 \r\nQ 39.453125 6.390625 43.28125 13.890625 \r\nQ 47.125 21.390625 47.125 36.375 \r\nQ 47.125 51.421875 43.28125 58.90625 \r\nQ 39.453125 66.40625 31.78125 66.40625 \r\nz\r\nM 31.78125 74.21875 \r\nQ 44.046875 74.21875 50.515625 64.515625 \r\nQ 56.984375 54.828125 56.984375 36.375 \r\nQ 56.984375 17.96875 50.515625 8.265625 \r\nQ 44.046875 -1.421875 31.78125 -1.421875 \r\nQ 19.53125 -1.421875 13.0625 8.265625 \r\nQ 6.59375 17.96875 6.59375 36.375 \r\nQ 6.59375 54.828125 13.0625 64.515625 \r\nQ 19.53125 74.21875 31.78125 74.21875 \r\nz\r\n\" id=\"DejaVuSans-48\"/>\r\n       </defs>\r\n       <use xlink:href=\"#DejaVuSans-48\"/>\r\n      </g>\r\n     </g>\r\n    </g>\r\n    <g id=\"ytick_2\">\r\n     <g id=\"line2d_39\">\r\n      <g>\r\n       <use style=\"stroke:#000000;stroke-width:0.8;\" x=\"34.240625\" xlink:href=\"#m9b7739ab43\" y=\"377.984411\"/>\r\n      </g>\r\n     </g>\r\n     <g id=\"text_40\">\r\n      <!-- 1 -->\r\n      <g transform=\"translate(20.878125 381.78363)scale(0.1 -0.1)\">\r\n       <defs>\r\n        <path d=\"M 12.40625 8.296875 \r\nL 28.515625 8.296875 \r\nL 28.515625 63.921875 \r\nL 10.984375 60.40625 \r\nL 10.984375 69.390625 \r\nL 28.421875 72.90625 \r\nL 38.28125 72.90625 \r\nL 38.28125 8.296875 \r\nL 54.390625 8.296875 \r\nL 54.390625 0 \r\nL 12.40625 0 \r\nz\r\n\" id=\"DejaVuSans-49\"/>\r\n       </defs>\r\n       <use xlink:href=\"#DejaVuSans-49\"/>\r\n      </g>\r\n     </g>\r\n    </g>\r\n    <g id=\"ytick_3\">\r\n     <g id=\"line2d_40\">\r\n      <g>\r\n       <use style=\"stroke:#000000;stroke-width:0.8;\" x=\"34.240625\" xlink:href=\"#m9b7739ab43\" y=\"303.290385\"/>\r\n      </g>\r\n     </g>\r\n     <g id=\"text_41\">\r\n      <!-- 2 -->\r\n      <g transform=\"translate(20.878125 307.089604)scale(0.1 -0.1)\">\r\n       <defs>\r\n        <path d=\"M 19.1875 8.296875 \r\nL 53.609375 8.296875 \r\nL 53.609375 0 \r\nL 7.328125 0 \r\nL 7.328125 8.296875 \r\nQ 12.9375 14.109375 22.625 23.890625 \r\nQ 32.328125 33.6875 34.8125 36.53125 \r\nQ 39.546875 41.84375 41.421875 45.53125 \r\nQ 43.3125 49.21875 43.3125 52.78125 \r\nQ 43.3125 58.59375 39.234375 62.25 \r\nQ 35.15625 65.921875 28.609375 65.921875 \r\nQ 23.96875 65.921875 18.8125 64.3125 \r\nQ 13.671875 62.703125 7.8125 59.421875 \r\nL 7.8125 69.390625 \r\nQ 13.765625 71.78125 18.9375 73 \r\nQ 24.125 74.21875 28.421875 74.21875 \r\nQ 39.75 74.21875 46.484375 68.546875 \r\nQ 53.21875 62.890625 53.21875 53.421875 \r\nQ 53.21875 48.921875 51.53125 44.890625 \r\nQ 49.859375 40.875 45.40625 35.40625 \r\nQ 44.1875 33.984375 37.640625 27.21875 \r\nQ 31.109375 20.453125 19.1875 8.296875 \r\nz\r\n\" id=\"DejaVuSans-50\"/>\r\n       </defs>\r\n       <use xlink:href=\"#DejaVuSans-50\"/>\r\n      </g>\r\n     </g>\r\n    </g>\r\n    <g id=\"ytick_4\">\r\n     <g id=\"line2d_41\">\r\n      <g>\r\n       <use style=\"stroke:#000000;stroke-width:0.8;\" x=\"34.240625\" xlink:href=\"#m9b7739ab43\" y=\"228.596359\"/>\r\n      </g>\r\n     </g>\r\n     <g id=\"text_42\">\r\n      <!-- 3 -->\r\n      <g transform=\"translate(20.878125 232.395578)scale(0.1 -0.1)\">\r\n       <defs>\r\n        <path d=\"M 40.578125 39.3125 \r\nQ 47.65625 37.796875 51.625 33 \r\nQ 55.609375 28.21875 55.609375 21.1875 \r\nQ 55.609375 10.40625 48.1875 4.484375 \r\nQ 40.765625 -1.421875 27.09375 -1.421875 \r\nQ 22.515625 -1.421875 17.65625 -0.515625 \r\nQ 12.796875 0.390625 7.625 2.203125 \r\nL 7.625 11.71875 \r\nQ 11.71875 9.328125 16.59375 8.109375 \r\nQ 21.484375 6.890625 26.8125 6.890625 \r\nQ 36.078125 6.890625 40.9375 10.546875 \r\nQ 45.796875 14.203125 45.796875 21.1875 \r\nQ 45.796875 27.640625 41.28125 31.265625 \r\nQ 36.765625 34.90625 28.71875 34.90625 \r\nL 20.21875 34.90625 \r\nL 20.21875 43.015625 \r\nL 29.109375 43.015625 \r\nQ 36.375 43.015625 40.234375 45.921875 \r\nQ 44.09375 48.828125 44.09375 54.296875 \r\nQ 44.09375 59.90625 40.109375 62.90625 \r\nQ 36.140625 65.921875 28.71875 65.921875 \r\nQ 24.65625 65.921875 20.015625 65.03125 \r\nQ 15.375 64.15625 9.8125 62.3125 \r\nL 9.8125 71.09375 \r\nQ 15.4375 72.65625 20.34375 73.4375 \r\nQ 25.25 74.21875 29.59375 74.21875 \r\nQ 40.828125 74.21875 47.359375 69.109375 \r\nQ 53.90625 64.015625 53.90625 55.328125 \r\nQ 53.90625 49.265625 50.4375 45.09375 \r\nQ 46.96875 40.921875 40.578125 39.3125 \r\nz\r\n\" id=\"DejaVuSans-51\"/>\r\n       </defs>\r\n       <use xlink:href=\"#DejaVuSans-51\"/>\r\n      </g>\r\n     </g>\r\n    </g>\r\n    <g id=\"ytick_5\">\r\n     <g id=\"line2d_42\">\r\n      <g>\r\n       <use style=\"stroke:#000000;stroke-width:0.8;\" x=\"34.240625\" xlink:href=\"#m9b7739ab43\" y=\"153.902333\"/>\r\n      </g>\r\n     </g>\r\n     <g id=\"text_43\">\r\n      <!-- 4 -->\r\n      <g transform=\"translate(20.878125 157.701552)scale(0.1 -0.1)\">\r\n       <defs>\r\n        <path d=\"M 37.796875 64.3125 \r\nL 12.890625 25.390625 \r\nL 37.796875 25.390625 \r\nz\r\nM 35.203125 72.90625 \r\nL 47.609375 72.90625 \r\nL 47.609375 25.390625 \r\nL 58.015625 25.390625 \r\nL 58.015625 17.1875 \r\nL 47.609375 17.1875 \r\nL 47.609375 0 \r\nL 37.796875 0 \r\nL 37.796875 17.1875 \r\nL 4.890625 17.1875 \r\nL 4.890625 26.703125 \r\nz\r\n\" id=\"DejaVuSans-52\"/>\r\n       </defs>\r\n       <use xlink:href=\"#DejaVuSans-52\"/>\r\n      </g>\r\n     </g>\r\n    </g>\r\n    <g id=\"ytick_6\">\r\n     <g id=\"line2d_43\">\r\n      <g>\r\n       <use style=\"stroke:#000000;stroke-width:0.8;\" x=\"34.240625\" xlink:href=\"#m9b7739ab43\" y=\"79.208307\"/>\r\n      </g>\r\n     </g>\r\n     <g id=\"text_44\">\r\n      <!-- 5 -->\r\n      <g transform=\"translate(20.878125 83.007526)scale(0.1 -0.1)\">\r\n       <defs>\r\n        <path d=\"M 10.796875 72.90625 \r\nL 49.515625 72.90625 \r\nL 49.515625 64.59375 \r\nL 19.828125 64.59375 \r\nL 19.828125 46.734375 \r\nQ 21.96875 47.46875 24.109375 47.828125 \r\nQ 26.265625 48.1875 28.421875 48.1875 \r\nQ 40.625 48.1875 47.75 41.5 \r\nQ 54.890625 34.8125 54.890625 23.390625 \r\nQ 54.890625 11.625 47.5625 5.09375 \r\nQ 40.234375 -1.421875 26.90625 -1.421875 \r\nQ 22.3125 -1.421875 17.546875 -0.640625 \r\nQ 12.796875 0.140625 7.71875 1.703125 \r\nL 7.71875 11.625 \r\nQ 12.109375 9.234375 16.796875 8.0625 \r\nQ 21.484375 6.890625 26.703125 6.890625 \r\nQ 35.15625 6.890625 40.078125 11.328125 \r\nQ 45.015625 15.765625 45.015625 23.390625 \r\nQ 45.015625 31 40.078125 35.4375 \r\nQ 35.15625 39.890625 26.703125 39.890625 \r\nQ 22.75 39.890625 18.8125 39.015625 \r\nQ 14.890625 38.140625 10.796875 36.28125 \r\nz\r\n\" id=\"DejaVuSans-53\"/>\r\n       </defs>\r\n       <use xlink:href=\"#DejaVuSans-53\"/>\r\n      </g>\r\n     </g>\r\n    </g>\r\n    <g id=\"text_45\">\r\n     <!-- CustomerID -->\r\n     <g transform=\"translate(14.798438 264.850156)rotate(-90)scale(0.1 -0.1)\">\r\n      <use xlink:href=\"#DejaVuSans-67\"/>\r\n      <use x=\"69.824219\" xlink:href=\"#DejaVuSans-117\"/>\r\n      <use x=\"133.203125\" xlink:href=\"#DejaVuSans-115\"/>\r\n      <use x=\"185.302734\" xlink:href=\"#DejaVuSans-116\"/>\r\n      <use x=\"224.511719\" xlink:href=\"#DejaVuSans-111\"/>\r\n      <use x=\"285.693359\" xlink:href=\"#DejaVuSans-109\"/>\r\n      <use x=\"383.105469\" xlink:href=\"#DejaVuSans-101\"/>\r\n      <use x=\"444.628906\" xlink:href=\"#DejaVuSans-114\"/>\r\n      <use x=\"485.742188\" xlink:href=\"#DejaVuSans-73\"/>\r\n      <use x=\"515.234375\" xlink:href=\"#DejaVuSans-68\"/>\r\n     </g>\r\n    </g>\r\n    <g id=\"text_46\">\r\n     <!-- 1e9 -->\r\n     <g transform=\"translate(34.240625 14.798437)scale(0.1 -0.1)\">\r\n      <defs>\r\n       <path d=\"M 10.984375 1.515625 \r\nL 10.984375 10.5 \r\nQ 14.703125 8.734375 18.5 7.8125 \r\nQ 22.3125 6.890625 25.984375 6.890625 \r\nQ 35.75 6.890625 40.890625 13.453125 \r\nQ 46.046875 20.015625 46.78125 33.40625 \r\nQ 43.953125 29.203125 39.59375 26.953125 \r\nQ 35.25 24.703125 29.984375 24.703125 \r\nQ 19.046875 24.703125 12.671875 31.3125 \r\nQ 6.296875 37.9375 6.296875 49.421875 \r\nQ 6.296875 60.640625 12.9375 67.421875 \r\nQ 19.578125 74.21875 30.609375 74.21875 \r\nQ 43.265625 74.21875 49.921875 64.515625 \r\nQ 56.59375 54.828125 56.59375 36.375 \r\nQ 56.59375 19.140625 48.40625 8.859375 \r\nQ 40.234375 -1.421875 26.421875 -1.421875 \r\nQ 22.703125 -1.421875 18.890625 -0.6875 \r\nQ 15.09375 0.046875 10.984375 1.515625 \r\nz\r\nM 30.609375 32.421875 \r\nQ 37.25 32.421875 41.125 36.953125 \r\nQ 45.015625 41.5 45.015625 49.421875 \r\nQ 45.015625 57.28125 41.125 61.84375 \r\nQ 37.25 66.40625 30.609375 66.40625 \r\nQ 23.96875 66.40625 20.09375 61.84375 \r\nQ 16.21875 57.28125 16.21875 49.421875 \r\nQ 16.21875 41.5 20.09375 36.953125 \r\nQ 23.96875 32.421875 30.609375 32.421875 \r\nz\r\n\" id=\"DejaVuSans-57\"/>\r\n      </defs>\r\n      <use xlink:href=\"#DejaVuSans-49\"/>\r\n      <use x=\"63.623047\" xlink:href=\"#DejaVuSans-101\"/>\r\n      <use x=\"125.146484\" xlink:href=\"#DejaVuSans-57\"/>\r\n     </g>\r\n    </g>\r\n   </g>\r\n   <g id=\"line2d_44\">\r\n    <path clip-path=\"url(#p963d803bda)\" d=\"M 0 0 \r\n\" style=\"fill:none;stroke:#424242;stroke-linecap:square;stroke-width:2.7;\"/>\r\n   </g>\r\n   <g id=\"line2d_45\">\r\n    <path clip-path=\"url(#p963d803bda)\" d=\"M 0 0 \r\n\" style=\"fill:none;stroke:#424242;stroke-linecap:square;stroke-width:2.7;\"/>\r\n   </g>\r\n   <g id=\"line2d_46\">\r\n    <path clip-path=\"url(#p963d803bda)\" d=\"M 0 0 \r\n\" style=\"fill:none;stroke:#424242;stroke-linecap:square;stroke-width:2.7;\"/>\r\n   </g>\r\n   <g id=\"line2d_47\">\r\n    <path clip-path=\"url(#p963d803bda)\" d=\"M 0 0 \r\n\" style=\"fill:none;stroke:#424242;stroke-linecap:square;stroke-width:2.7;\"/>\r\n   </g>\r\n   <g id=\"line2d_48\">\r\n    <path clip-path=\"url(#p963d803bda)\" d=\"M 0 0 \r\n\" style=\"fill:none;stroke:#424242;stroke-linecap:square;stroke-width:2.7;\"/>\r\n   </g>\r\n   <g id=\"line2d_49\">\r\n    <path clip-path=\"url(#p963d803bda)\" d=\"M 0 0 \r\n\" style=\"fill:none;stroke:#424242;stroke-linecap:square;stroke-width:2.7;\"/>\r\n   </g>\r\n   <g id=\"line2d_50\">\r\n    <path clip-path=\"url(#p963d803bda)\" d=\"M 0 0 \r\n\" style=\"fill:none;stroke:#424242;stroke-linecap:square;stroke-width:2.7;\"/>\r\n   </g>\r\n   <g id=\"line2d_51\">\r\n    <path clip-path=\"url(#p963d803bda)\" d=\"M 0 0 \r\n\" style=\"fill:none;stroke:#424242;stroke-linecap:square;stroke-width:2.7;\"/>\r\n   </g>\r\n   <g id=\"line2d_52\">\r\n    <path clip-path=\"url(#p963d803bda)\" d=\"M 0 0 \r\n\" style=\"fill:none;stroke:#424242;stroke-linecap:square;stroke-width:2.7;\"/>\r\n   </g>\r\n   <g id=\"line2d_53\">\r\n    <path clip-path=\"url(#p963d803bda)\" d=\"M 0 0 \r\n\" style=\"fill:none;stroke:#424242;stroke-linecap:square;stroke-width:2.7;\"/>\r\n   </g>\r\n   <g id=\"line2d_54\">\r\n    <path clip-path=\"url(#p963d803bda)\" d=\"M 0 0 \r\n\" style=\"fill:none;stroke:#424242;stroke-linecap:square;stroke-width:2.7;\"/>\r\n   </g>\r\n   <g id=\"line2d_55\">\r\n    <path clip-path=\"url(#p963d803bda)\" d=\"M 0 0 \r\n\" style=\"fill:none;stroke:#424242;stroke-linecap:square;stroke-width:2.7;\"/>\r\n   </g>\r\n   <g id=\"line2d_56\">\r\n    <path clip-path=\"url(#p963d803bda)\" d=\"M 0 0 \r\n\" style=\"fill:none;stroke:#424242;stroke-linecap:square;stroke-width:2.7;\"/>\r\n   </g>\r\n   <g id=\"line2d_57\">\r\n    <path clip-path=\"url(#p963d803bda)\" d=\"M 0 0 \r\n\" style=\"fill:none;stroke:#424242;stroke-linecap:square;stroke-width:2.7;\"/>\r\n   </g>\r\n   <g id=\"line2d_58\">\r\n    <path clip-path=\"url(#p963d803bda)\" d=\"M 0 0 \r\n\" style=\"fill:none;stroke:#424242;stroke-linecap:square;stroke-width:2.7;\"/>\r\n   </g>\r\n   <g id=\"line2d_59\">\r\n    <path clip-path=\"url(#p963d803bda)\" d=\"M 0 0 \r\n\" style=\"fill:none;stroke:#424242;stroke-linecap:square;stroke-width:2.7;\"/>\r\n   </g>\r\n   <g id=\"line2d_60\">\r\n    <path clip-path=\"url(#p963d803bda)\" d=\"M 0 0 \r\n\" style=\"fill:none;stroke:#424242;stroke-linecap:square;stroke-width:2.7;\"/>\r\n   </g>\r\n   <g id=\"line2d_61\">\r\n    <path clip-path=\"url(#p963d803bda)\" d=\"M 0 0 \r\n\" style=\"fill:none;stroke:#424242;stroke-linecap:square;stroke-width:2.7;\"/>\r\n   </g>\r\n   <g id=\"line2d_62\">\r\n    <path clip-path=\"url(#p963d803bda)\" d=\"M 0 0 \r\n\" style=\"fill:none;stroke:#424242;stroke-linecap:square;stroke-width:2.7;\"/>\r\n   </g>\r\n   <g id=\"line2d_63\">\r\n    <path clip-path=\"url(#p963d803bda)\" d=\"M 0 0 \r\n\" style=\"fill:none;stroke:#424242;stroke-linecap:square;stroke-width:2.7;\"/>\r\n   </g>\r\n   <g id=\"line2d_64\">\r\n    <path clip-path=\"url(#p963d803bda)\" d=\"M 0 0 \r\n\" style=\"fill:none;stroke:#424242;stroke-linecap:square;stroke-width:2.7;\"/>\r\n   </g>\r\n   <g id=\"line2d_65\">\r\n    <path clip-path=\"url(#p963d803bda)\" d=\"M 0 0 \r\n\" style=\"fill:none;stroke:#424242;stroke-linecap:square;stroke-width:2.7;\"/>\r\n   </g>\r\n   <g id=\"line2d_66\">\r\n    <path clip-path=\"url(#p963d803bda)\" d=\"M 0 0 \r\n\" style=\"fill:none;stroke:#424242;stroke-linecap:square;stroke-width:2.7;\"/>\r\n   </g>\r\n   <g id=\"line2d_67\">\r\n    <path clip-path=\"url(#p963d803bda)\" d=\"M 0 0 \r\n\" style=\"fill:none;stroke:#424242;stroke-linecap:square;stroke-width:2.7;\"/>\r\n   </g>\r\n   <g id=\"line2d_68\">\r\n    <path clip-path=\"url(#p963d803bda)\" d=\"M 0 0 \r\n\" style=\"fill:none;stroke:#424242;stroke-linecap:square;stroke-width:2.7;\"/>\r\n   </g>\r\n   <g id=\"line2d_69\">\r\n    <path clip-path=\"url(#p963d803bda)\" d=\"M 0 0 \r\n\" style=\"fill:none;stroke:#424242;stroke-linecap:square;stroke-width:2.7;\"/>\r\n   </g>\r\n   <g id=\"line2d_70\">\r\n    <path clip-path=\"url(#p963d803bda)\" d=\"M 0 0 \r\n\" style=\"fill:none;stroke:#424242;stroke-linecap:square;stroke-width:2.7;\"/>\r\n   </g>\r\n   <g id=\"line2d_71\">\r\n    <path clip-path=\"url(#p963d803bda)\" d=\"M 0 0 \r\n\" style=\"fill:none;stroke:#424242;stroke-linecap:square;stroke-width:2.7;\"/>\r\n   </g>\r\n   <g id=\"line2d_72\">\r\n    <path clip-path=\"url(#p963d803bda)\" d=\"M 0 0 \r\n\" style=\"fill:none;stroke:#424242;stroke-linecap:square;stroke-width:2.7;\"/>\r\n   </g>\r\n   <g id=\"line2d_73\">\r\n    <path clip-path=\"url(#p963d803bda)\" d=\"M 0 0 \r\n\" style=\"fill:none;stroke:#424242;stroke-linecap:square;stroke-width:2.7;\"/>\r\n   </g>\r\n   <g id=\"line2d_74\">\r\n    <path clip-path=\"url(#p963d803bda)\" d=\"M 0 0 \r\n\" style=\"fill:none;stroke:#424242;stroke-linecap:square;stroke-width:2.7;\"/>\r\n   </g>\r\n   <g id=\"line2d_75\">\r\n    <path clip-path=\"url(#p963d803bda)\" d=\"M 0 0 \r\n\" style=\"fill:none;stroke:#424242;stroke-linecap:square;stroke-width:2.7;\"/>\r\n   </g>\r\n   <g id=\"line2d_76\">\r\n    <path clip-path=\"url(#p963d803bda)\" d=\"M 0 0 \r\n\" style=\"fill:none;stroke:#424242;stroke-linecap:square;stroke-width:2.7;\"/>\r\n   </g>\r\n   <g id=\"line2d_77\">\r\n    <path clip-path=\"url(#p963d803bda)\" d=\"M 0 0 \r\n\" style=\"fill:none;stroke:#424242;stroke-linecap:square;stroke-width:2.7;\"/>\r\n   </g>\r\n   <g id=\"line2d_78\">\r\n    <path clip-path=\"url(#p963d803bda)\" d=\"M 0 0 \r\n\" style=\"fill:none;stroke:#424242;stroke-linecap:square;stroke-width:2.7;\"/>\r\n   </g>\r\n   <g id=\"line2d_79\">\r\n    <path clip-path=\"url(#p963d803bda)\" d=\"M 0 0 \r\n\" style=\"fill:none;stroke:#424242;stroke-linecap:square;stroke-width:2.7;\"/>\r\n   </g>\r\n   <g id=\"line2d_80\">\r\n    <path clip-path=\"url(#p963d803bda)\" d=\"M 0 0 \r\n\" style=\"fill:none;stroke:#424242;stroke-linecap:square;stroke-width:2.7;\"/>\r\n   </g>\r\n   <g id=\"patch_40\">\r\n    <path d=\"M 34.240625 452.678438 \r\nL 34.240625 17.798437 \r\n\" style=\"fill:none;stroke:#000000;stroke-linecap:square;stroke-linejoin:miter;stroke-width:0.8;\"/>\r\n   </g>\r\n   <g id=\"patch_41\">\r\n    <path d=\"M 703.840625 452.678438 \r\nL 703.840625 17.798437 \r\n\" style=\"fill:none;stroke:#000000;stroke-linecap:square;stroke-linejoin:miter;stroke-width:0.8;\"/>\r\n   </g>\r\n   <g id=\"patch_42\">\r\n    <path d=\"M 34.240625 452.678438 \r\nL 703.840625 452.678438 \r\n\" style=\"fill:none;stroke:#000000;stroke-linecap:square;stroke-linejoin:miter;stroke-width:0.8;\"/>\r\n   </g>\r\n   <g id=\"patch_43\">\r\n    <path d=\"M 34.240625 17.798437 \r\nL 703.840625 17.798437 \r\n\" style=\"fill:none;stroke:#000000;stroke-linecap:square;stroke-linejoin:miter;stroke-width:0.8;\"/>\r\n   </g>\r\n  </g>\r\n </g>\r\n <defs>\r\n  <clipPath id=\"p963d803bda\">\r\n   <rect height=\"434.88\" width=\"669.6\" x=\"34.240625\" y=\"17.798437\"/>\r\n  </clipPath>\r\n </defs>\r\n</svg>\r\n",
            "image/png": "[encoded data removed]"
          },
          "metadata": {
            "needs_background": "light"
          }
        }
      ],
      "metadata": {}
    },
    {
      "cell_type": "markdown",
      "source": [
        "3. Visualize total cost per country"
      ],
      "metadata": {
        "id": "2TD66fT3iqa8"
      }
    },
    {
      "cell_type": "code",
      "execution_count": 47,
      "source": [
        "plt.figure(figsize=(12,8))\r\n",
        "sns.barplot(x=\"Country\", y=\"TotalPrice\", data=df, estimator=np.sum)\r\n",
        "plt.xticks(rotation=90);"
      ],
      "outputs": [
        {
          "output_type": "display_data",
          "data": {
            "text/plain": [
              "<Figure size 864x576 with 1 Axes>"
            ],
            "image/svg+xml": "<?xml version=\"1.0\" encoding=\"utf-8\" standalone=\"no\"?>\r\n<!DOCTYPE svg PUBLIC \"-//W3C//DTD SVG 1.1//EN\"\r\n  \"http://www.w3.org/Graphics/SVG/1.1/DTD/svg11.dtd\">\r\n<!-- Created with matplotlib (https://matplotlib.org/) -->\r\n<svg height=\"589.237813pt\" version=\"1.1\" viewBox=\"0 0 711.040625 589.237813\" width=\"711.040625pt\" xmlns=\"http://www.w3.org/2000/svg\" xmlns:xlink=\"http://www.w3.org/1999/xlink\">\r\n <metadata>\r\n  <rdf:RDF xmlns:cc=\"http://creativecommons.org/ns#\" xmlns:dc=\"http://purl.org/dc/elements/1.1/\" xmlns:rdf=\"http://www.w3.org/1999/02/22-rdf-syntax-ns#\">\r\n   <cc:Work>\r\n    <dc:type rdf:resource=\"http://purl.org/dc/dcmitype/StillImage\"/>\r\n    <dc:date>2021-08-24T10:10:38.153857</dc:date>\r\n    <dc:format>image/svg+xml</dc:format>\r\n    <dc:creator>\r\n     <cc:Agent>\r\n      <dc:title>Matplotlib v3.3.4, https://matplotlib.org/</dc:title>\r\n     </cc:Agent>\r\n    </dc:creator>\r\n   </cc:Work>\r\n  </rdf:RDF>\r\n </metadata>\r\n <defs>\r\n  <style type=\"text/css\">*{stroke-linecap:butt;stroke-linejoin:round;}</style>\r\n </defs>\r\n <g id=\"figure_1\">\r\n  <g id=\"patch_1\">\r\n   <path d=\"M 0 589.237813 \r\nL 711.040625 589.237813 \r\nL 711.040625 0 \r\nL 0 0 \r\nz\r\n\" style=\"fill:none;\"/>\r\n  </g>\r\n  <g id=\"axes_1\">\r\n   <g id=\"patch_2\">\r\n    <path d=\"M 34.240625 452.678438 \r\nL 703.840625 452.678438 \r\nL 703.840625 17.798437 \r\nL 34.240625 17.798437 \r\nz\r\n\" style=\"fill:#ffffff;\"/>\r\n   </g>\r\n   <g id=\"patch_3\">\r\n    <path clip-path=\"url(#p5a44f29618)\" d=\"M 36.050355 432.544739 \r\nL 50.528193 432.544739 \r\nL 50.528193 65.723992 \r\nL 36.050355 65.723992 \r\nz\r\n\" style=\"fill:#ea96a3;\"/>\r\n   </g>\r\n   <g id=\"patch_4\">\r\n    <path clip-path=\"url(#p5a44f29618)\" d=\"M 54.147652 432.544739 \r\nL 68.62549 432.544739 \r\nL 68.62549 421.854826 \r\nL 54.147652 421.854826 \r\nz\r\n\" style=\"fill:#ea9795;\"/>\r\n   </g>\r\n   <g id=\"patch_5\">\r\n    <path clip-path=\"url(#p5a44f29618)\" d=\"M 72.244949 432.544739 \r\nL 86.722787 432.544739 \r\nL 86.722787 425.095968 \r\nL 72.244949 425.095968 \r\nz\r\n\" style=\"fill:#e7967f;\"/>\r\n   </g>\r\n   <g id=\"patch_6\">\r\n    <path clip-path=\"url(#p5a44f29618)\" d=\"M 90.342247 432.544739 \r\nL 104.820084 432.544739 \r\nL 104.820084 417.068625 \r\nL 90.342247 417.068625 \r\nz\r\n\" style=\"fill:#e19258;\"/>\r\n   </g>\r\n   <g id=\"patch_7\">\r\n    <path clip-path=\"url(#p5a44f29618)\" d=\"M 108.439544 432.544739 \r\nL 122.917382 432.544739 \r\nL 122.917382 420.501996 \r\nL 108.439544 420.501996 \r\nz\r\n\" style=\"fill:#d3954d;\"/>\r\n   </g>\r\n   <g id=\"patch_8\">\r\n    <path clip-path=\"url(#p5a44f29618)\" d=\"M 126.536841 432.544739 \r\nL 141.014679 432.544739 \r\nL 141.014679 430.633017 \r\nL 126.536841 430.633017 \r\nz\r\n\" style=\"fill:#c6994b;\"/>\r\n   </g>\r\n   <g id=\"patch_9\">\r\n    <path clip-path=\"url(#p5a44f29618)\" d=\"M 144.634139 432.544739 \r\nL 159.111976 432.544739 \r\nL 159.111976 418.952963 \r\nL 144.634139 418.952963 \r\nz\r\n\" style=\"fill:#ba9b49;\"/>\r\n   </g>\r\n   <g id=\"patch_10\">\r\n    <path clip-path=\"url(#p5a44f29618)\" d=\"M 162.731436 432.544739 \r\nL 177.209274 432.544739 \r\nL 177.209274 429.514371 \r\nL 162.731436 429.514371 \r\nz\r\n\" style=\"fill:#b09d48;\"/>\r\n   </g>\r\n   <g id=\"patch_11\">\r\n    <path clip-path=\"url(#p5a44f29618)\" d=\"M 180.828733 432.544739 \r\nL 195.306571 432.544739 \r\nL 195.306571 429.567834 \r\nL 180.828733 429.567834 \r\nz\r\n\" style=\"fill:#a59f46;\"/>\r\n   </g>\r\n   <g id=\"patch_12\">\r\n    <path clip-path=\"url(#p5a44f29618)\" d=\"M 198.92603 432.544739 \r\nL 213.403868 432.544739 \r\nL 213.403868 432.152585 \r\nL 198.92603 432.152585 \r\nz\r\n\" style=\"fill:#9aa146;\"/>\r\n   </g>\r\n   <g id=\"patch_13\">\r\n    <path clip-path=\"url(#p5a44f29618)\" d=\"M 217.023328 432.544739 \r\nL 231.501166 432.544739 \r\nL 231.501166 430.968335 \r\nL 217.023328 430.968335 \r\nz\r\n\" style=\"fill:#8fa546;\"/>\r\n   </g>\r\n   <g id=\"patch_14\">\r\n    <path clip-path=\"url(#p5a44f29618)\" d=\"M 235.120625 432.544739 \r\nL 249.598463 432.544739 \r\nL 249.598463 431.626458 \r\nL 235.120625 431.626458 \r\nz\r\n\" style=\"fill:#81a846;\"/>\r\n   </g>\r\n   <g id=\"patch_15\">\r\n    <path clip-path=\"url(#p5a44f29618)\" d=\"M 253.217922 432.544739 \r\nL 267.69576 432.544739 \r\nL 267.69576 430.320545 \r\nL 253.217922 430.320545 \r\nz\r\n\" style=\"fill:#6bad47;\"/>\r\n   </g>\r\n   <g id=\"patch_16\">\r\n    <path clip-path=\"url(#p5a44f29618)\" d=\"M 271.31522 432.544739 \r\nL 285.793057 432.544739 \r\nL 285.793057 432.454433 \r\nL 271.31522 432.454433 \r\nz\r\n\" style=\"fill:#48b055;\"/>\r\n   </g>\r\n   <g id=\"patch_17\">\r\n    <path clip-path=\"url(#p5a44f29618)\" d=\"M 289.412517 432.544739 \r\nL 303.890355 432.544739 \r\nL 303.890355 430.623386 \r\nL 289.412517 430.623386 \r\nz\r\n\" style=\"fill:#49af75;\"/>\r\n   </g>\r\n   <g id=\"patch_18\">\r\n    <path clip-path=\"url(#p5a44f29618)\" d=\"M 307.509814 432.544739 \r\nL 321.987652 432.544739 \r\nL 321.987652 432.310419 \r\nL 307.509814 432.310419 \r\nz\r\n\" style=\"fill:#49ae85;\"/>\r\n   </g>\r\n   <g id=\"patch_19\">\r\n    <path clip-path=\"url(#p5a44f29618)\" d=\"M 325.607111 432.544739 \r\nL 340.084949 432.544739 \r\nL 340.084949 431.453252 \r\nL 325.607111 431.453252 \r\nz\r\n\" style=\"fill:#4aad91;\"/>\r\n   </g>\r\n   <g id=\"patch_20\">\r\n    <path clip-path=\"url(#p5a44f29618)\" d=\"M 343.704409 432.544739 \r\nL 358.182247 432.544739 \r\nL 358.182247 431.524377 \r\nL 343.704409 431.524377 \r\nz\r\n\" style=\"fill:#4aac99;\"/>\r\n   </g>\r\n   <g id=\"patch_21\">\r\n    <path clip-path=\"url(#p5a44f29618)\" d=\"M 361.801706 432.544739 \r\nL 376.279544 432.544739 \r\nL 376.279544 431.845651 \r\nL 361.801706 431.845651 \r\nz\r\n\" style=\"fill:#4baca1;\"/>\r\n   </g>\r\n   <g id=\"patch_22\">\r\n    <path clip-path=\"url(#p5a44f29618)\" d=\"M 379.899003 432.544739 \r\nL 394.376841 432.544739 \r\nL 394.376841 430.555711 \r\nL 379.899003 430.555711 \r\nz\r\n\" style=\"fill:#4baba8;\"/>\r\n   </g>\r\n   <g id=\"patch_23\">\r\n    <path clip-path=\"url(#p5a44f29618)\" d=\"M 397.996301 432.544739 \r\nL 412.474139 432.544739 \r\nL 412.474139 431.992682 \r\nL 397.996301 431.992682 \r\nz\r\n\" style=\"fill:#4cabaf;\"/>\r\n   </g>\r\n   <g id=\"patch_24\">\r\n    <path clip-path=\"url(#p5a44f29618)\" d=\"M 416.093598 432.544739 \r\nL 430.571436 432.544739 \r\nL 430.571436 432.164803 \r\nL 416.093598 432.164803 \r\nz\r\n\" style=\"fill:#4eabb7;\"/>\r\n   </g>\r\n   <g id=\"patch_25\">\r\n    <path clip-path=\"url(#p5a44f29618)\" d=\"M 434.190895 432.544739 \r\nL 448.668733 432.544739 \r\nL 448.668733 431.330908 \r\nL 434.190895 431.330908 \r\nz\r\n\" style=\"fill:#50acc1;\"/>\r\n   </g>\r\n   <g id=\"patch_26\">\r\n    <path clip-path=\"url(#p5a44f29618)\" d=\"M 452.288193 432.544739 \r\nL 466.76603 432.544739 \r\nL 466.76603 432.288644 \r\nL 452.288193 432.288644 \r\nz\r\n\" style=\"fill:#53accc;\"/>\r\n   </g>\r\n   <g id=\"patch_27\">\r\n    <path clip-path=\"url(#p5a44f29618)\" d=\"M 470.38549 432.544739 \r\nL 484.863328 432.544739 \r\nL 484.863328 432.048894 \r\nL 470.38549 432.048894 \r\nz\r\n\" style=\"fill:#56adda;\"/>\r\n   </g>\r\n   <g id=\"patch_28\">\r\n    <path clip-path=\"url(#p5a44f29618)\" d=\"M 488.482787 432.544739 \r\nL 502.960625 432.544739 \r\nL 502.960625 432.452649 \r\nL 488.482787 432.452649 \r\nz\r\n\" style=\"fill:#7aaee4;\"/>\r\n   </g>\r\n   <g id=\"patch_29\">\r\n    <path clip-path=\"url(#p5a44f29618)\" d=\"M 506.580084 432.544739 \r\nL 521.057922 432.544739 \r\nL 521.057922 432.441319 \r\nL 506.580084 432.441319 \r\nz\r\n\" style=\"fill:#96ade8;\"/>\r\n   </g>\r\n   <g id=\"patch_30\">\r\n    <path clip-path=\"url(#p5a44f29618)\" d=\"M 524.677382 432.544739 \r\nL 539.15522 432.544739 \r\nL 539.15522 432.537608 \r\nL 524.677382 432.537608 \r\nz\r\n\" style=\"fill:#abaceb;\"/>\r\n   </g>\r\n   <g id=\"patch_31\">\r\n    <path clip-path=\"url(#p5a44f29618)\" d=\"M 542.774679 432.544739 \r\nL 557.252517 432.544739 \r\nL 557.252517 432.506263 \r\nL 542.774679 432.506263 \r\nz\r\n\" style=\"fill:#b9a6eb;\"/>\r\n   </g>\r\n   <g id=\"patch_32\">\r\n    <path clip-path=\"url(#p5a44f29618)\" d=\"M 560.871976 432.544739 \r\nL 575.349814 432.544739 \r\nL 575.349814 432.34541 \r\nL 560.871976 432.34541 \r\nz\r\n\" style=\"fill:#c6a0ea;\"/>\r\n   </g>\r\n   <g id=\"patch_33\">\r\n    <path clip-path=\"url(#p5a44f29618)\" d=\"M 578.969274 432.544739 \r\nL 593.447111 432.544739 \r\nL 593.447111 432.400082 \r\nL 578.969274 432.400082 \r\nz\r\n\" style=\"fill:#d398e8;\"/>\r\n   </g>\r\n   <g id=\"patch_34\">\r\n    <path clip-path=\"url(#p5a44f29618)\" d=\"M 597.066571 432.544739 \r\nL 611.544409 432.544739 \r\nL 611.544409 432.482566 \r\nL 597.066571 432.482566 \r\nz\r\n\" style=\"fill:#e18de7;\"/>\r\n   </g>\r\n   <g id=\"patch_35\">\r\n    <path clip-path=\"url(#p5a44f29618)\" d=\"M 615.163868 432.544739 \r\nL 629.641706 432.544739 \r\nL 629.641706 432.450635 \r\nL 615.163868 432.450635 \r\nz\r\n\" style=\"fill:#e78bdc;\"/>\r\n   </g>\r\n   <g id=\"patch_36\">\r\n    <path clip-path=\"url(#p5a44f29618)\" d=\"M 633.261166 432.544739 \r\nL 647.739003 432.544739 \r\nL 647.739003 432.474511 \r\nL 633.261166 432.474511 \r\nz\r\n\" style=\"fill:#e88ed0;\"/>\r\n   </g>\r\n   <g id=\"patch_37\">\r\n    <path clip-path=\"url(#p5a44f29618)\" d=\"M 651.358463 432.544739 \r\nL 665.836301 432.544739 \r\nL 665.836301 432.514925 \r\nL 651.358463 432.514925 \r\nz\r\n\" style=\"fill:#e890c5;\"/>\r\n   </g>\r\n   <g id=\"patch_38\">\r\n    <path clip-path=\"url(#p5a44f29618)\" d=\"M 669.45576 432.544739 \r\nL 683.933598 432.544739 \r\nL 683.933598 432.408525 \r\nL 669.45576 432.408525 \r\nz\r\n\" style=\"fill:#e992ba;\"/>\r\n   </g>\r\n   <g id=\"patch_39\">\r\n    <path clip-path=\"url(#p5a44f29618)\" d=\"M 687.553057 432.544739 \r\nL 702.030895 432.544739 \r\nL 702.030895 432.490247 \r\nL 687.553057 432.490247 \r\nz\r\n\" style=\"fill:#e994b0;\"/>\r\n   </g>\r\n   <g id=\"matplotlib.axis_1\">\r\n    <g id=\"xtick_1\">\r\n     <g id=\"line2d_1\">\r\n      <defs>\r\n       <path d=\"M 0 0 \r\nL 0 3.5 \r\n\" id=\"mcf477ca6ad\" style=\"stroke:#000000;stroke-width:0.8;\"/>\r\n      </defs>\r\n      <g>\r\n       <use style=\"stroke:#000000;stroke-width:0.8;\" x=\"43.289274\" xlink:href=\"#mcf477ca6ad\" y=\"452.678438\"/>\r\n      </g>\r\n     </g>\r\n     <g id=\"text_1\">\r\n      <!-- United Kingdom -->\r\n      <g transform=\"translate(46.048649 539.9425)rotate(-90)scale(0.1 -0.1)\">\r\n       <defs>\r\n        <path d=\"M 8.6875 72.90625 \r\nL 18.609375 72.90625 \r\nL 18.609375 28.609375 \r\nQ 18.609375 16.890625 22.84375 11.734375 \r\nQ 27.09375 6.59375 36.625 6.59375 \r\nQ 46.09375 6.59375 50.34375 11.734375 \r\nQ 54.59375 16.890625 54.59375 28.609375 \r\nL 54.59375 72.90625 \r\nL 64.5 72.90625 \r\nL 64.5 27.390625 \r\nQ 64.5 13.140625 57.4375 5.859375 \r\nQ 50.390625 -1.421875 36.625 -1.421875 \r\nQ 22.796875 -1.421875 15.734375 5.859375 \r\nQ 8.6875 13.140625 8.6875 27.390625 \r\nz\r\n\" id=\"DejaVuSans-85\"/>\r\n        <path d=\"M 54.890625 33.015625 \r\nL 54.890625 0 \r\nL 45.90625 0 \r\nL 45.90625 32.71875 \r\nQ 45.90625 40.484375 42.875 44.328125 \r\nQ 39.84375 48.1875 33.796875 48.1875 \r\nQ 26.515625 48.1875 22.3125 43.546875 \r\nQ 18.109375 38.921875 18.109375 30.90625 \r\nL 18.109375 0 \r\nL 9.078125 0 \r\nL 9.078125 54.6875 \r\nL 18.109375 54.6875 \r\nL 18.109375 46.1875 \r\nQ 21.34375 51.125 25.703125 53.5625 \r\nQ 30.078125 56 35.796875 56 \r\nQ 45.21875 56 50.046875 50.171875 \r\nQ 54.890625 44.34375 54.890625 33.015625 \r\nz\r\n\" id=\"DejaVuSans-110\"/>\r\n        <path d=\"M 9.421875 54.6875 \r\nL 18.40625 54.6875 \r\nL 18.40625 0 \r\nL 9.421875 0 \r\nz\r\nM 9.421875 75.984375 \r\nL 18.40625 75.984375 \r\nL 18.40625 64.59375 \r\nL 9.421875 64.59375 \r\nz\r\n\" id=\"DejaVuSans-105\"/>\r\n        <path d=\"M 18.3125 70.21875 \r\nL 18.3125 54.6875 \r\nL 36.8125 54.6875 \r\nL 36.8125 47.703125 \r\nL 18.3125 47.703125 \r\nL 18.3125 18.015625 \r\nQ 18.3125 11.328125 20.140625 9.421875 \r\nQ 21.96875 7.515625 27.59375 7.515625 \r\nL 36.8125 7.515625 \r\nL 36.8125 0 \r\nL 27.59375 0 \r\nQ 17.1875 0 13.234375 3.875 \r\nQ 9.28125 7.765625 9.28125 18.015625 \r\nL 9.28125 47.703125 \r\nL 2.6875 47.703125 \r\nL 2.6875 54.6875 \r\nL 9.28125 54.6875 \r\nL 9.28125 70.21875 \r\nz\r\n\" id=\"DejaVuSans-116\"/>\r\n        <path d=\"M 56.203125 29.59375 \r\nL 56.203125 25.203125 \r\nL 14.890625 25.203125 \r\nQ 15.484375 15.921875 20.484375 11.0625 \r\nQ 25.484375 6.203125 34.421875 6.203125 \r\nQ 39.59375 6.203125 44.453125 7.46875 \r\nQ 49.3125 8.734375 54.109375 11.28125 \r\nL 54.109375 2.78125 \r\nQ 49.265625 0.734375 44.1875 -0.34375 \r\nQ 39.109375 -1.421875 33.890625 -1.421875 \r\nQ 20.796875 -1.421875 13.15625 6.1875 \r\nQ 5.515625 13.8125 5.515625 26.8125 \r\nQ 5.515625 40.234375 12.765625 48.109375 \r\nQ 20.015625 56 32.328125 56 \r\nQ 43.359375 56 49.78125 48.890625 \r\nQ 56.203125 41.796875 56.203125 29.59375 \r\nz\r\nM 47.21875 32.234375 \r\nQ 47.125 39.59375 43.09375 43.984375 \r\nQ 39.0625 48.390625 32.421875 48.390625 \r\nQ 24.90625 48.390625 20.390625 44.140625 \r\nQ 15.875 39.890625 15.1875 32.171875 \r\nz\r\n\" id=\"DejaVuSans-101\"/>\r\n        <path d=\"M 45.40625 46.390625 \r\nL 45.40625 75.984375 \r\nL 54.390625 75.984375 \r\nL 54.390625 0 \r\nL 45.40625 0 \r\nL 45.40625 8.203125 \r\nQ 42.578125 3.328125 38.25 0.953125 \r\nQ 33.9375 -1.421875 27.875 -1.421875 \r\nQ 17.96875 -1.421875 11.734375 6.484375 \r\nQ 5.515625 14.40625 5.515625 27.296875 \r\nQ 5.515625 40.1875 11.734375 48.09375 \r\nQ 17.96875 56 27.875 56 \r\nQ 33.9375 56 38.25 53.625 \r\nQ 42.578125 51.265625 45.40625 46.390625 \r\nz\r\nM 14.796875 27.296875 \r\nQ 14.796875 17.390625 18.875 11.75 \r\nQ 22.953125 6.109375 30.078125 6.109375 \r\nQ 37.203125 6.109375 41.296875 11.75 \r\nQ 45.40625 17.390625 45.40625 27.296875 \r\nQ 45.40625 37.203125 41.296875 42.84375 \r\nQ 37.203125 48.484375 30.078125 48.484375 \r\nQ 22.953125 48.484375 18.875 42.84375 \r\nQ 14.796875 37.203125 14.796875 27.296875 \r\nz\r\n\" id=\"DejaVuSans-100\"/>\r\n        <path id=\"DejaVuSans-32\"/>\r\n        <path d=\"M 9.8125 72.90625 \r\nL 19.671875 72.90625 \r\nL 19.671875 42.09375 \r\nL 52.390625 72.90625 \r\nL 65.09375 72.90625 \r\nL 28.90625 38.921875 \r\nL 67.671875 0 \r\nL 54.6875 0 \r\nL 19.671875 35.109375 \r\nL 19.671875 0 \r\nL 9.8125 0 \r\nz\r\n\" id=\"DejaVuSans-75\"/>\r\n        <path d=\"M 45.40625 27.984375 \r\nQ 45.40625 37.75 41.375 43.109375 \r\nQ 37.359375 48.484375 30.078125 48.484375 \r\nQ 22.859375 48.484375 18.828125 43.109375 \r\nQ 14.796875 37.75 14.796875 27.984375 \r\nQ 14.796875 18.265625 18.828125 12.890625 \r\nQ 22.859375 7.515625 30.078125 7.515625 \r\nQ 37.359375 7.515625 41.375 12.890625 \r\nQ 45.40625 18.265625 45.40625 27.984375 \r\nz\r\nM 54.390625 6.78125 \r\nQ 54.390625 -7.171875 48.1875 -13.984375 \r\nQ 42 -20.796875 29.203125 -20.796875 \r\nQ 24.46875 -20.796875 20.265625 -20.09375 \r\nQ 16.0625 -19.390625 12.109375 -17.921875 \r\nL 12.109375 -9.1875 \r\nQ 16.0625 -11.328125 19.921875 -12.34375 \r\nQ 23.78125 -13.375 27.78125 -13.375 \r\nQ 36.625 -13.375 41.015625 -8.765625 \r\nQ 45.40625 -4.15625 45.40625 5.171875 \r\nL 45.40625 9.625 \r\nQ 42.625 4.78125 38.28125 2.390625 \r\nQ 33.9375 0 27.875 0 \r\nQ 17.828125 0 11.671875 7.65625 \r\nQ 5.515625 15.328125 5.515625 27.984375 \r\nQ 5.515625 40.671875 11.671875 48.328125 \r\nQ 17.828125 56 27.875 56 \r\nQ 33.9375 56 38.28125 53.609375 \r\nQ 42.625 51.21875 45.40625 46.390625 \r\nL 45.40625 54.6875 \r\nL 54.390625 54.6875 \r\nz\r\n\" id=\"DejaVuSans-103\"/>\r\n        <path d=\"M 30.609375 48.390625 \r\nQ 23.390625 48.390625 19.1875 42.75 \r\nQ 14.984375 37.109375 14.984375 27.296875 \r\nQ 14.984375 17.484375 19.15625 11.84375 \r\nQ 23.34375 6.203125 30.609375 6.203125 \r\nQ 37.796875 6.203125 41.984375 11.859375 \r\nQ 46.1875 17.53125 46.1875 27.296875 \r\nQ 46.1875 37.015625 41.984375 42.703125 \r\nQ 37.796875 48.390625 30.609375 48.390625 \r\nz\r\nM 30.609375 56 \r\nQ 42.328125 56 49.015625 48.375 \r\nQ 55.71875 40.765625 55.71875 27.296875 \r\nQ 55.71875 13.875 49.015625 6.21875 \r\nQ 42.328125 -1.421875 30.609375 -1.421875 \r\nQ 18.84375 -1.421875 12.171875 6.21875 \r\nQ 5.515625 13.875 5.515625 27.296875 \r\nQ 5.515625 40.765625 12.171875 48.375 \r\nQ 18.84375 56 30.609375 56 \r\nz\r\n\" id=\"DejaVuSans-111\"/>\r\n        <path d=\"M 52 44.1875 \r\nQ 55.375 50.25 60.0625 53.125 \r\nQ 64.75 56 71.09375 56 \r\nQ 79.640625 56 84.28125 50.015625 \r\nQ 88.921875 44.046875 88.921875 33.015625 \r\nL 88.921875 0 \r\nL 79.890625 0 \r\nL 79.890625 32.71875 \r\nQ 79.890625 40.578125 77.09375 44.375 \r\nQ 74.3125 48.1875 68.609375 48.1875 \r\nQ 61.625 48.1875 57.5625 43.546875 \r\nQ 53.515625 38.921875 53.515625 30.90625 \r\nL 53.515625 0 \r\nL 44.484375 0 \r\nL 44.484375 32.71875 \r\nQ 44.484375 40.625 41.703125 44.40625 \r\nQ 38.921875 48.1875 33.109375 48.1875 \r\nQ 26.21875 48.1875 22.15625 43.53125 \r\nQ 18.109375 38.875 18.109375 30.90625 \r\nL 18.109375 0 \r\nL 9.078125 0 \r\nL 9.078125 54.6875 \r\nL 18.109375 54.6875 \r\nL 18.109375 46.1875 \r\nQ 21.1875 51.21875 25.484375 53.609375 \r\nQ 29.78125 56 35.6875 56 \r\nQ 41.65625 56 45.828125 52.96875 \r\nQ 50 49.953125 52 44.1875 \r\nz\r\n\" id=\"DejaVuSans-109\"/>\r\n       </defs>\r\n       <use xlink:href=\"#DejaVuSans-85\"/>\r\n       <use x=\"73.193359\" xlink:href=\"#DejaVuSans-110\"/>\r\n       <use x=\"136.572266\" xlink:href=\"#DejaVuSans-105\"/>\r\n       <use x=\"164.355469\" xlink:href=\"#DejaVuSans-116\"/>\r\n       <use x=\"203.564453\" xlink:href=\"#DejaVuSans-101\"/>\r\n       <use x=\"265.087891\" xlink:href=\"#DejaVuSans-100\"/>\r\n       <use x=\"328.564453\" xlink:href=\"#DejaVuSans-32\"/>\r\n       <use x=\"360.351562\" xlink:href=\"#DejaVuSans-75\"/>\r\n       <use x=\"425.927734\" xlink:href=\"#DejaVuSans-105\"/>\r\n       <use x=\"453.710938\" xlink:href=\"#DejaVuSans-110\"/>\r\n       <use x=\"517.089844\" xlink:href=\"#DejaVuSans-103\"/>\r\n       <use x=\"580.566406\" xlink:href=\"#DejaVuSans-100\"/>\r\n       <use x=\"644.042969\" xlink:href=\"#DejaVuSans-111\"/>\r\n       <use x=\"705.224609\" xlink:href=\"#DejaVuSans-109\"/>\r\n      </g>\r\n     </g>\r\n    </g>\r\n    <g id=\"xtick_2\">\r\n     <g id=\"line2d_2\">\r\n      <g>\r\n       <use style=\"stroke:#000000;stroke-width:0.8;\" x=\"61.386571\" xlink:href=\"#mcf477ca6ad\" y=\"452.678438\"/>\r\n      </g>\r\n     </g>\r\n     <g id=\"text_2\">\r\n      <!-- France -->\r\n      <g transform=\"translate(64.145946 492.933125)rotate(-90)scale(0.1 -0.1)\">\r\n       <defs>\r\n        <path d=\"M 9.8125 72.90625 \r\nL 51.703125 72.90625 \r\nL 51.703125 64.59375 \r\nL 19.671875 64.59375 \r\nL 19.671875 43.109375 \r\nL 48.578125 43.109375 \r\nL 48.578125 34.8125 \r\nL 19.671875 34.8125 \r\nL 19.671875 0 \r\nL 9.8125 0 \r\nz\r\n\" id=\"DejaVuSans-70\"/>\r\n        <path d=\"M 41.109375 46.296875 \r\nQ 39.59375 47.171875 37.8125 47.578125 \r\nQ 36.03125 48 33.890625 48 \r\nQ 26.265625 48 22.1875 43.046875 \r\nQ 18.109375 38.09375 18.109375 28.8125 \r\nL 18.109375 0 \r\nL 9.078125 0 \r\nL 9.078125 54.6875 \r\nL 18.109375 54.6875 \r\nL 18.109375 46.1875 \r\nQ 20.953125 51.171875 25.484375 53.578125 \r\nQ 30.03125 56 36.53125 56 \r\nQ 37.453125 56 38.578125 55.875 \r\nQ 39.703125 55.765625 41.0625 55.515625 \r\nz\r\n\" id=\"DejaVuSans-114\"/>\r\n        <path d=\"M 34.28125 27.484375 \r\nQ 23.390625 27.484375 19.1875 25 \r\nQ 14.984375 22.515625 14.984375 16.5 \r\nQ 14.984375 11.71875 18.140625 8.90625 \r\nQ 21.296875 6.109375 26.703125 6.109375 \r\nQ 34.1875 6.109375 38.703125 11.40625 \r\nQ 43.21875 16.703125 43.21875 25.484375 \r\nL 43.21875 27.484375 \r\nz\r\nM 52.203125 31.203125 \r\nL 52.203125 0 \r\nL 43.21875 0 \r\nL 43.21875 8.296875 \r\nQ 40.140625 3.328125 35.546875 0.953125 \r\nQ 30.953125 -1.421875 24.3125 -1.421875 \r\nQ 15.921875 -1.421875 10.953125 3.296875 \r\nQ 6 8.015625 6 15.921875 \r\nQ 6 25.140625 12.171875 29.828125 \r\nQ 18.359375 34.515625 30.609375 34.515625 \r\nL 43.21875 34.515625 \r\nL 43.21875 35.40625 \r\nQ 43.21875 41.609375 39.140625 45 \r\nQ 35.0625 48.390625 27.6875 48.390625 \r\nQ 23 48.390625 18.546875 47.265625 \r\nQ 14.109375 46.140625 10.015625 43.890625 \r\nL 10.015625 52.203125 \r\nQ 14.9375 54.109375 19.578125 55.046875 \r\nQ 24.21875 56 28.609375 56 \r\nQ 40.484375 56 46.34375 49.84375 \r\nQ 52.203125 43.703125 52.203125 31.203125 \r\nz\r\n\" id=\"DejaVuSans-97\"/>\r\n        <path d=\"M 48.78125 52.59375 \r\nL 48.78125 44.1875 \r\nQ 44.96875 46.296875 41.140625 47.34375 \r\nQ 37.3125 48.390625 33.40625 48.390625 \r\nQ 24.65625 48.390625 19.8125 42.84375 \r\nQ 14.984375 37.3125 14.984375 27.296875 \r\nQ 14.984375 17.28125 19.8125 11.734375 \r\nQ 24.65625 6.203125 33.40625 6.203125 \r\nQ 37.3125 6.203125 41.140625 7.25 \r\nQ 44.96875 8.296875 48.78125 10.40625 \r\nL 48.78125 2.09375 \r\nQ 45.015625 0.34375 40.984375 -0.53125 \r\nQ 36.96875 -1.421875 32.421875 -1.421875 \r\nQ 20.0625 -1.421875 12.78125 6.34375 \r\nQ 5.515625 14.109375 5.515625 27.296875 \r\nQ 5.515625 40.671875 12.859375 48.328125 \r\nQ 20.21875 56 33.015625 56 \r\nQ 37.15625 56 41.109375 55.140625 \r\nQ 45.0625 54.296875 48.78125 52.59375 \r\nz\r\n\" id=\"DejaVuSans-99\"/>\r\n       </defs>\r\n       <use xlink:href=\"#DejaVuSans-70\"/>\r\n       <use x=\"50.269531\" xlink:href=\"#DejaVuSans-114\"/>\r\n       <use x=\"91.382812\" xlink:href=\"#DejaVuSans-97\"/>\r\n       <use x=\"152.662109\" xlink:href=\"#DejaVuSans-110\"/>\r\n       <use x=\"216.041016\" xlink:href=\"#DejaVuSans-99\"/>\r\n       <use x=\"271.021484\" xlink:href=\"#DejaVuSans-101\"/>\r\n      </g>\r\n     </g>\r\n    </g>\r\n    <g id=\"xtick_3\">\r\n     <g id=\"line2d_3\">\r\n      <g>\r\n       <use style=\"stroke:#000000;stroke-width:0.8;\" x=\"79.483868\" xlink:href=\"#mcf477ca6ad\" y=\"452.678438\"/>\r\n      </g>\r\n     </g>\r\n     <g id=\"text_3\">\r\n      <!-- Australia -->\r\n      <g transform=\"translate(82.243243 503.909688)rotate(-90)scale(0.1 -0.1)\">\r\n       <defs>\r\n        <path d=\"M 34.1875 63.1875 \r\nL 20.796875 26.90625 \r\nL 47.609375 26.90625 \r\nz\r\nM 28.609375 72.90625 \r\nL 39.796875 72.90625 \r\nL 67.578125 0 \r\nL 57.328125 0 \r\nL 50.6875 18.703125 \r\nL 17.828125 18.703125 \r\nL 11.1875 0 \r\nL 0.78125 0 \r\nz\r\n\" id=\"DejaVuSans-65\"/>\r\n        <path d=\"M 8.5 21.578125 \r\nL 8.5 54.6875 \r\nL 17.484375 54.6875 \r\nL 17.484375 21.921875 \r\nQ 17.484375 14.15625 20.5 10.265625 \r\nQ 23.53125 6.390625 29.59375 6.390625 \r\nQ 36.859375 6.390625 41.078125 11.03125 \r\nQ 45.3125 15.671875 45.3125 23.6875 \r\nL 45.3125 54.6875 \r\nL 54.296875 54.6875 \r\nL 54.296875 0 \r\nL 45.3125 0 \r\nL 45.3125 8.40625 \r\nQ 42.046875 3.421875 37.71875 1 \r\nQ 33.40625 -1.421875 27.6875 -1.421875 \r\nQ 18.265625 -1.421875 13.375 4.4375 \r\nQ 8.5 10.296875 8.5 21.578125 \r\nz\r\nM 31.109375 56 \r\nz\r\n\" id=\"DejaVuSans-117\"/>\r\n        <path d=\"M 44.28125 53.078125 \r\nL 44.28125 44.578125 \r\nQ 40.484375 46.53125 36.375 47.5 \r\nQ 32.28125 48.484375 27.875 48.484375 \r\nQ 21.1875 48.484375 17.84375 46.4375 \r\nQ 14.5 44.390625 14.5 40.28125 \r\nQ 14.5 37.15625 16.890625 35.375 \r\nQ 19.28125 33.59375 26.515625 31.984375 \r\nL 29.59375 31.296875 \r\nQ 39.15625 29.25 43.1875 25.515625 \r\nQ 47.21875 21.78125 47.21875 15.09375 \r\nQ 47.21875 7.46875 41.1875 3.015625 \r\nQ 35.15625 -1.421875 24.609375 -1.421875 \r\nQ 20.21875 -1.421875 15.453125 -0.5625 \r\nQ 10.6875 0.296875 5.421875 2 \r\nL 5.421875 11.28125 \r\nQ 10.40625 8.6875 15.234375 7.390625 \r\nQ 20.0625 6.109375 24.8125 6.109375 \r\nQ 31.15625 6.109375 34.5625 8.28125 \r\nQ 37.984375 10.453125 37.984375 14.40625 \r\nQ 37.984375 18.0625 35.515625 20.015625 \r\nQ 33.0625 21.96875 24.703125 23.78125 \r\nL 21.578125 24.515625 \r\nQ 13.234375 26.265625 9.515625 29.90625 \r\nQ 5.8125 33.546875 5.8125 39.890625 \r\nQ 5.8125 47.609375 11.28125 51.796875 \r\nQ 16.75 56 26.8125 56 \r\nQ 31.78125 56 36.171875 55.265625 \r\nQ 40.578125 54.546875 44.28125 53.078125 \r\nz\r\n\" id=\"DejaVuSans-115\"/>\r\n        <path d=\"M 9.421875 75.984375 \r\nL 18.40625 75.984375 \r\nL 18.40625 0 \r\nL 9.421875 0 \r\nz\r\n\" id=\"DejaVuSans-108\"/>\r\n       </defs>\r\n       <use xlink:href=\"#DejaVuSans-65\"/>\r\n       <use x=\"68.408203\" xlink:href=\"#DejaVuSans-117\"/>\r\n       <use x=\"131.787109\" xlink:href=\"#DejaVuSans-115\"/>\r\n       <use x=\"183.886719\" xlink:href=\"#DejaVuSans-116\"/>\r\n       <use x=\"223.095703\" xlink:href=\"#DejaVuSans-114\"/>\r\n       <use x=\"264.208984\" xlink:href=\"#DejaVuSans-97\"/>\r\n       <use x=\"325.488281\" xlink:href=\"#DejaVuSans-108\"/>\r\n       <use x=\"353.271484\" xlink:href=\"#DejaVuSans-105\"/>\r\n       <use x=\"381.054688\" xlink:href=\"#DejaVuSans-97\"/>\r\n      </g>\r\n     </g>\r\n    </g>\r\n    <g id=\"xtick_4\">\r\n     <g id=\"line2d_4\">\r\n      <g>\r\n       <use style=\"stroke:#000000;stroke-width:0.8;\" x=\"97.581166\" xlink:href=\"#mcf477ca6ad\" y=\"452.678438\"/>\r\n      </g>\r\n     </g>\r\n     <g id=\"text_4\">\r\n      <!-- Netherlands -->\r\n      <g transform=\"translate(100.340541 520.63625)rotate(-90)scale(0.1 -0.1)\">\r\n       <defs>\r\n        <path d=\"M 9.8125 72.90625 \r\nL 23.09375 72.90625 \r\nL 55.421875 11.921875 \r\nL 55.421875 72.90625 \r\nL 64.984375 72.90625 \r\nL 64.984375 0 \r\nL 51.703125 0 \r\nL 19.390625 60.984375 \r\nL 19.390625 0 \r\nL 9.8125 0 \r\nz\r\n\" id=\"DejaVuSans-78\"/>\r\n        <path d=\"M 54.890625 33.015625 \r\nL 54.890625 0 \r\nL 45.90625 0 \r\nL 45.90625 32.71875 \r\nQ 45.90625 40.484375 42.875 44.328125 \r\nQ 39.84375 48.1875 33.796875 48.1875 \r\nQ 26.515625 48.1875 22.3125 43.546875 \r\nQ 18.109375 38.921875 18.109375 30.90625 \r\nL 18.109375 0 \r\nL 9.078125 0 \r\nL 9.078125 75.984375 \r\nL 18.109375 75.984375 \r\nL 18.109375 46.1875 \r\nQ 21.34375 51.125 25.703125 53.5625 \r\nQ 30.078125 56 35.796875 56 \r\nQ 45.21875 56 50.046875 50.171875 \r\nQ 54.890625 44.34375 54.890625 33.015625 \r\nz\r\n\" id=\"DejaVuSans-104\"/>\r\n       </defs>\r\n       <use xlink:href=\"#DejaVuSans-78\"/>\r\n       <use x=\"74.804688\" xlink:href=\"#DejaVuSans-101\"/>\r\n       <use x=\"136.328125\" xlink:href=\"#DejaVuSans-116\"/>\r\n       <use x=\"175.537109\" xlink:href=\"#DejaVuSans-104\"/>\r\n       <use x=\"238.916016\" xlink:href=\"#DejaVuSans-101\"/>\r\n       <use x=\"300.439453\" xlink:href=\"#DejaVuSans-114\"/>\r\n       <use x=\"341.552734\" xlink:href=\"#DejaVuSans-108\"/>\r\n       <use x=\"369.335938\" xlink:href=\"#DejaVuSans-97\"/>\r\n       <use x=\"430.615234\" xlink:href=\"#DejaVuSans-110\"/>\r\n       <use x=\"493.994141\" xlink:href=\"#DejaVuSans-100\"/>\r\n       <use x=\"557.470703\" xlink:href=\"#DejaVuSans-115\"/>\r\n      </g>\r\n     </g>\r\n    </g>\r\n    <g id=\"xtick_5\">\r\n     <g id=\"line2d_5\">\r\n      <g>\r\n       <use style=\"stroke:#000000;stroke-width:0.8;\" x=\"115.678463\" xlink:href=\"#mcf477ca6ad\" y=\"452.678438\"/>\r\n      </g>\r\n     </g>\r\n     <g id=\"text_5\">\r\n      <!-- Germany -->\r\n      <g transform=\"translate(118.437838 505.640938)rotate(-90)scale(0.1 -0.1)\">\r\n       <defs>\r\n        <path d=\"M 59.515625 10.40625 \r\nL 59.515625 29.984375 \r\nL 43.40625 29.984375 \r\nL 43.40625 38.09375 \r\nL 69.28125 38.09375 \r\nL 69.28125 6.78125 \r\nQ 63.578125 2.734375 56.6875 0.65625 \r\nQ 49.8125 -1.421875 42 -1.421875 \r\nQ 24.90625 -1.421875 15.25 8.5625 \r\nQ 5.609375 18.5625 5.609375 36.375 \r\nQ 5.609375 54.25 15.25 64.234375 \r\nQ 24.90625 74.21875 42 74.21875 \r\nQ 49.125 74.21875 55.546875 72.453125 \r\nQ 61.96875 70.703125 67.390625 67.28125 \r\nL 67.390625 56.78125 \r\nQ 61.921875 61.421875 55.765625 63.765625 \r\nQ 49.609375 66.109375 42.828125 66.109375 \r\nQ 29.4375 66.109375 22.71875 58.640625 \r\nQ 16.015625 51.171875 16.015625 36.375 \r\nQ 16.015625 21.625 22.71875 14.15625 \r\nQ 29.4375 6.6875 42.828125 6.6875 \r\nQ 48.046875 6.6875 52.140625 7.59375 \r\nQ 56.25 8.5 59.515625 10.40625 \r\nz\r\n\" id=\"DejaVuSans-71\"/>\r\n        <path d=\"M 32.171875 -5.078125 \r\nQ 28.375 -14.84375 24.75 -17.8125 \r\nQ 21.140625 -20.796875 15.09375 -20.796875 \r\nL 7.90625 -20.796875 \r\nL 7.90625 -13.28125 \r\nL 13.1875 -13.28125 \r\nQ 16.890625 -13.28125 18.9375 -11.515625 \r\nQ 21 -9.765625 23.484375 -3.21875 \r\nL 25.09375 0.875 \r\nL 2.984375 54.6875 \r\nL 12.5 54.6875 \r\nL 29.59375 11.921875 \r\nL 46.6875 54.6875 \r\nL 56.203125 54.6875 \r\nz\r\n\" id=\"DejaVuSans-121\"/>\r\n       </defs>\r\n       <use xlink:href=\"#DejaVuSans-71\"/>\r\n       <use x=\"77.490234\" xlink:href=\"#DejaVuSans-101\"/>\r\n       <use x=\"139.013672\" xlink:href=\"#DejaVuSans-114\"/>\r\n       <use x=\"178.376953\" xlink:href=\"#DejaVuSans-109\"/>\r\n       <use x=\"275.789062\" xlink:href=\"#DejaVuSans-97\"/>\r\n       <use x=\"337.068359\" xlink:href=\"#DejaVuSans-110\"/>\r\n       <use x=\"400.447266\" xlink:href=\"#DejaVuSans-121\"/>\r\n      </g>\r\n     </g>\r\n    </g>\r\n    <g id=\"xtick_6\">\r\n     <g id=\"line2d_6\">\r\n      <g>\r\n       <use style=\"stroke:#000000;stroke-width:0.8;\" x=\"133.77576\" xlink:href=\"#mcf477ca6ad\" y=\"452.678438\"/>\r\n      </g>\r\n     </g>\r\n     <g id=\"text_6\">\r\n      <!-- Norway -->\r\n      <g transform=\"translate(136.535135 497.614375)rotate(-90)scale(0.1 -0.1)\">\r\n       <defs>\r\n        <path d=\"M 4.203125 54.6875 \r\nL 13.1875 54.6875 \r\nL 24.421875 12.015625 \r\nL 35.59375 54.6875 \r\nL 46.1875 54.6875 \r\nL 57.421875 12.015625 \r\nL 68.609375 54.6875 \r\nL 77.59375 54.6875 \r\nL 63.28125 0 \r\nL 52.6875 0 \r\nL 40.921875 44.828125 \r\nL 29.109375 0 \r\nL 18.5 0 \r\nz\r\n\" id=\"DejaVuSans-119\"/>\r\n       </defs>\r\n       <use xlink:href=\"#DejaVuSans-78\"/>\r\n       <use x=\"74.804688\" xlink:href=\"#DejaVuSans-111\"/>\r\n       <use x=\"135.986328\" xlink:href=\"#DejaVuSans-114\"/>\r\n       <use x=\"177.099609\" xlink:href=\"#DejaVuSans-119\"/>\r\n       <use x=\"258.886719\" xlink:href=\"#DejaVuSans-97\"/>\r\n       <use x=\"320.166016\" xlink:href=\"#DejaVuSans-121\"/>\r\n      </g>\r\n     </g>\r\n    </g>\r\n    <g id=\"xtick_7\">\r\n     <g id=\"line2d_7\">\r\n      <g>\r\n       <use style=\"stroke:#000000;stroke-width:0.8;\" x=\"151.873057\" xlink:href=\"#mcf477ca6ad\" y=\"452.678438\"/>\r\n      </g>\r\n     </g>\r\n     <g id=\"text_7\">\r\n      <!-- EIRE -->\r\n      <g transform=\"translate(154.632432 482.214375)rotate(-90)scale(0.1 -0.1)\">\r\n       <defs>\r\n        <path d=\"M 9.8125 72.90625 \r\nL 55.90625 72.90625 \r\nL 55.90625 64.59375 \r\nL 19.671875 64.59375 \r\nL 19.671875 43.015625 \r\nL 54.390625 43.015625 \r\nL 54.390625 34.71875 \r\nL 19.671875 34.71875 \r\nL 19.671875 8.296875 \r\nL 56.78125 8.296875 \r\nL 56.78125 0 \r\nL 9.8125 0 \r\nz\r\n\" id=\"DejaVuSans-69\"/>\r\n        <path d=\"M 9.8125 72.90625 \r\nL 19.671875 72.90625 \r\nL 19.671875 0 \r\nL 9.8125 0 \r\nz\r\n\" id=\"DejaVuSans-73\"/>\r\n        <path d=\"M 44.390625 34.1875 \r\nQ 47.5625 33.109375 50.5625 29.59375 \r\nQ 53.5625 26.078125 56.59375 19.921875 \r\nL 66.609375 0 \r\nL 56 0 \r\nL 46.6875 18.703125 \r\nQ 43.0625 26.03125 39.671875 28.421875 \r\nQ 36.28125 30.8125 30.421875 30.8125 \r\nL 19.671875 30.8125 \r\nL 19.671875 0 \r\nL 9.8125 0 \r\nL 9.8125 72.90625 \r\nL 32.078125 72.90625 \r\nQ 44.578125 72.90625 50.734375 67.671875 \r\nQ 56.890625 62.453125 56.890625 51.90625 \r\nQ 56.890625 45.015625 53.6875 40.46875 \r\nQ 50.484375 35.9375 44.390625 34.1875 \r\nz\r\nM 19.671875 64.796875 \r\nL 19.671875 38.921875 \r\nL 32.078125 38.921875 \r\nQ 39.203125 38.921875 42.84375 42.21875 \r\nQ 46.484375 45.515625 46.484375 51.90625 \r\nQ 46.484375 58.296875 42.84375 61.546875 \r\nQ 39.203125 64.796875 32.078125 64.796875 \r\nz\r\n\" id=\"DejaVuSans-82\"/>\r\n       </defs>\r\n       <use xlink:href=\"#DejaVuSans-69\"/>\r\n       <use x=\"63.183594\" xlink:href=\"#DejaVuSans-73\"/>\r\n       <use x=\"92.675781\" xlink:href=\"#DejaVuSans-82\"/>\r\n       <use x=\"162.158203\" xlink:href=\"#DejaVuSans-69\"/>\r\n      </g>\r\n     </g>\r\n    </g>\r\n    <g id=\"xtick_8\">\r\n     <g id=\"line2d_8\">\r\n      <g>\r\n       <use style=\"stroke:#000000;stroke-width:0.8;\" x=\"169.970355\" xlink:href=\"#mcf477ca6ad\" y=\"452.678438\"/>\r\n      </g>\r\n     </g>\r\n     <g id=\"text_8\">\r\n      <!-- Switzerland -->\r\n      <g transform=\"translate(172.72973 518.008125)rotate(-90)scale(0.1 -0.1)\">\r\n       <defs>\r\n        <path d=\"M 53.515625 70.515625 \r\nL 53.515625 60.890625 \r\nQ 47.90625 63.578125 42.921875 64.890625 \r\nQ 37.9375 66.21875 33.296875 66.21875 \r\nQ 25.25 66.21875 20.875 63.09375 \r\nQ 16.5 59.96875 16.5 54.203125 \r\nQ 16.5 49.359375 19.40625 46.890625 \r\nQ 22.3125 44.4375 30.421875 42.921875 \r\nL 36.375 41.703125 \r\nQ 47.40625 39.59375 52.65625 34.296875 \r\nQ 57.90625 29 57.90625 20.125 \r\nQ 57.90625 9.515625 50.796875 4.046875 \r\nQ 43.703125 -1.421875 29.984375 -1.421875 \r\nQ 24.8125 -1.421875 18.96875 -0.25 \r\nQ 13.140625 0.921875 6.890625 3.21875 \r\nL 6.890625 13.375 \r\nQ 12.890625 10.015625 18.65625 8.296875 \r\nQ 24.421875 6.59375 29.984375 6.59375 \r\nQ 38.421875 6.59375 43.015625 9.90625 \r\nQ 47.609375 13.234375 47.609375 19.390625 \r\nQ 47.609375 24.75 44.3125 27.78125 \r\nQ 41.015625 30.8125 33.5 32.328125 \r\nL 27.484375 33.5 \r\nQ 16.453125 35.6875 11.515625 40.375 \r\nQ 6.59375 45.0625 6.59375 53.421875 \r\nQ 6.59375 63.09375 13.40625 68.65625 \r\nQ 20.21875 74.21875 32.171875 74.21875 \r\nQ 37.3125 74.21875 42.625 73.28125 \r\nQ 47.953125 72.359375 53.515625 70.515625 \r\nz\r\n\" id=\"DejaVuSans-83\"/>\r\n        <path d=\"M 5.515625 54.6875 \r\nL 48.1875 54.6875 \r\nL 48.1875 46.484375 \r\nL 14.40625 7.171875 \r\nL 48.1875 7.171875 \r\nL 48.1875 0 \r\nL 4.296875 0 \r\nL 4.296875 8.203125 \r\nL 38.09375 47.515625 \r\nL 5.515625 47.515625 \r\nz\r\n\" id=\"DejaVuSans-122\"/>\r\n       </defs>\r\n       <use xlink:href=\"#DejaVuSans-83\"/>\r\n       <use x=\"63.476562\" xlink:href=\"#DejaVuSans-119\"/>\r\n       <use x=\"145.263672\" xlink:href=\"#DejaVuSans-105\"/>\r\n       <use x=\"173.046875\" xlink:href=\"#DejaVuSans-116\"/>\r\n       <use x=\"212.255859\" xlink:href=\"#DejaVuSans-122\"/>\r\n       <use x=\"264.746094\" xlink:href=\"#DejaVuSans-101\"/>\r\n       <use x=\"326.269531\" xlink:href=\"#DejaVuSans-114\"/>\r\n       <use x=\"367.382812\" xlink:href=\"#DejaVuSans-108\"/>\r\n       <use x=\"395.166016\" xlink:href=\"#DejaVuSans-97\"/>\r\n       <use x=\"456.445312\" xlink:href=\"#DejaVuSans-110\"/>\r\n       <use x=\"519.824219\" xlink:href=\"#DejaVuSans-100\"/>\r\n      </g>\r\n     </g>\r\n    </g>\r\n    <g id=\"xtick_9\">\r\n     <g id=\"line2d_9\">\r\n      <g>\r\n       <use style=\"stroke:#000000;stroke-width:0.8;\" x=\"188.067652\" xlink:href=\"#mcf477ca6ad\" y=\"452.678438\"/>\r\n      </g>\r\n     </g>\r\n     <g id=\"text_9\">\r\n      <!-- Spain -->\r\n      <g transform=\"translate(190.827027 487.619063)rotate(-90)scale(0.1 -0.1)\">\r\n       <defs>\r\n        <path d=\"M 18.109375 8.203125 \r\nL 18.109375 -20.796875 \r\nL 9.078125 -20.796875 \r\nL 9.078125 54.6875 \r\nL 18.109375 54.6875 \r\nL 18.109375 46.390625 \r\nQ 20.953125 51.265625 25.265625 53.625 \r\nQ 29.59375 56 35.59375 56 \r\nQ 45.5625 56 51.78125 48.09375 \r\nQ 58.015625 40.1875 58.015625 27.296875 \r\nQ 58.015625 14.40625 51.78125 6.484375 \r\nQ 45.5625 -1.421875 35.59375 -1.421875 \r\nQ 29.59375 -1.421875 25.265625 0.953125 \r\nQ 20.953125 3.328125 18.109375 8.203125 \r\nz\r\nM 48.6875 27.296875 \r\nQ 48.6875 37.203125 44.609375 42.84375 \r\nQ 40.53125 48.484375 33.40625 48.484375 \r\nQ 26.265625 48.484375 22.1875 42.84375 \r\nQ 18.109375 37.203125 18.109375 27.296875 \r\nQ 18.109375 17.390625 22.1875 11.75 \r\nQ 26.265625 6.109375 33.40625 6.109375 \r\nQ 40.53125 6.109375 44.609375 11.75 \r\nQ 48.6875 17.390625 48.6875 27.296875 \r\nz\r\n\" id=\"DejaVuSans-112\"/>\r\n       </defs>\r\n       <use xlink:href=\"#DejaVuSans-83\"/>\r\n       <use x=\"63.476562\" xlink:href=\"#DejaVuSans-112\"/>\r\n       <use x=\"126.953125\" xlink:href=\"#DejaVuSans-97\"/>\r\n       <use x=\"188.232422\" xlink:href=\"#DejaVuSans-105\"/>\r\n       <use x=\"216.015625\" xlink:href=\"#DejaVuSans-110\"/>\r\n      </g>\r\n     </g>\r\n    </g>\r\n    <g id=\"xtick_10\">\r\n     <g id=\"line2d_10\">\r\n      <g>\r\n       <use style=\"stroke:#000000;stroke-width:0.8;\" x=\"206.164949\" xlink:href=\"#mcf477ca6ad\" y=\"452.678438\"/>\r\n      </g>\r\n     </g>\r\n     <g id=\"text_10\">\r\n      <!-- Poland -->\r\n      <g transform=\"translate(208.924324 493.056563)rotate(-90)scale(0.1 -0.1)\">\r\n       <defs>\r\n        <path d=\"M 19.671875 64.796875 \r\nL 19.671875 37.40625 \r\nL 32.078125 37.40625 \r\nQ 38.96875 37.40625 42.71875 40.96875 \r\nQ 46.484375 44.53125 46.484375 51.125 \r\nQ 46.484375 57.671875 42.71875 61.234375 \r\nQ 38.96875 64.796875 32.078125 64.796875 \r\nz\r\nM 9.8125 72.90625 \r\nL 32.078125 72.90625 \r\nQ 44.34375 72.90625 50.609375 67.359375 \r\nQ 56.890625 61.8125 56.890625 51.125 \r\nQ 56.890625 40.328125 50.609375 34.8125 \r\nQ 44.34375 29.296875 32.078125 29.296875 \r\nL 19.671875 29.296875 \r\nL 19.671875 0 \r\nL 9.8125 0 \r\nz\r\n\" id=\"DejaVuSans-80\"/>\r\n       </defs>\r\n       <use xlink:href=\"#DejaVuSans-80\"/>\r\n       <use x=\"56.677734\" xlink:href=\"#DejaVuSans-111\"/>\r\n       <use x=\"117.859375\" xlink:href=\"#DejaVuSans-108\"/>\r\n       <use x=\"145.642578\" xlink:href=\"#DejaVuSans-97\"/>\r\n       <use x=\"206.921875\" xlink:href=\"#DejaVuSans-110\"/>\r\n       <use x=\"270.300781\" xlink:href=\"#DejaVuSans-100\"/>\r\n      </g>\r\n     </g>\r\n    </g>\r\n    <g id=\"xtick_11\">\r\n     <g id=\"line2d_11\">\r\n      <g>\r\n       <use style=\"stroke:#000000;stroke-width:0.8;\" x=\"224.262247\" xlink:href=\"#mcf477ca6ad\" y=\"452.678438\"/>\r\n      </g>\r\n     </g>\r\n     <g id=\"text_11\">\r\n      <!-- Portugal -->\r\n      <g transform=\"translate(227.021622 501.087813)rotate(-90)scale(0.1 -0.1)\">\r\n       <use xlink:href=\"#DejaVuSans-80\"/>\r\n       <use x=\"56.677734\" xlink:href=\"#DejaVuSans-111\"/>\r\n       <use x=\"117.859375\" xlink:href=\"#DejaVuSans-114\"/>\r\n       <use x=\"158.972656\" xlink:href=\"#DejaVuSans-116\"/>\r\n       <use x=\"198.181641\" xlink:href=\"#DejaVuSans-117\"/>\r\n       <use x=\"261.560547\" xlink:href=\"#DejaVuSans-103\"/>\r\n       <use x=\"325.037109\" xlink:href=\"#DejaVuSans-97\"/>\r\n       <use x=\"386.316406\" xlink:href=\"#DejaVuSans-108\"/>\r\n      </g>\r\n     </g>\r\n    </g>\r\n    <g id=\"xtick_12\">\r\n     <g id=\"line2d_12\">\r\n      <g>\r\n       <use style=\"stroke:#000000;stroke-width:0.8;\" x=\"242.359544\" xlink:href=\"#mcf477ca6ad\" y=\"452.678438\"/>\r\n      </g>\r\n     </g>\r\n     <g id=\"text_12\">\r\n      <!-- Italy -->\r\n      <g transform=\"translate(245.118919 481.37375)rotate(-90)scale(0.1 -0.1)\">\r\n       <use xlink:href=\"#DejaVuSans-73\"/>\r\n       <use x=\"29.492188\" xlink:href=\"#DejaVuSans-116\"/>\r\n       <use x=\"68.701172\" xlink:href=\"#DejaVuSans-97\"/>\r\n       <use x=\"129.980469\" xlink:href=\"#DejaVuSans-108\"/>\r\n       <use x=\"157.763672\" xlink:href=\"#DejaVuSans-121\"/>\r\n      </g>\r\n     </g>\r\n    </g>\r\n    <g id=\"xtick_13\">\r\n     <g id=\"line2d_13\">\r\n      <g>\r\n       <use style=\"stroke:#000000;stroke-width:0.8;\" x=\"260.456841\" xlink:href=\"#mcf477ca6ad\" y=\"452.678438\"/>\r\n      </g>\r\n     </g>\r\n     <g id=\"text_13\">\r\n      <!-- Belgium -->\r\n      <g transform=\"translate(263.216216 500.675313)rotate(-90)scale(0.1 -0.1)\">\r\n       <defs>\r\n        <path d=\"M 19.671875 34.8125 \r\nL 19.671875 8.109375 \r\nL 35.5 8.109375 \r\nQ 43.453125 8.109375 47.28125 11.40625 \r\nQ 51.125 14.703125 51.125 21.484375 \r\nQ 51.125 28.328125 47.28125 31.5625 \r\nQ 43.453125 34.8125 35.5 34.8125 \r\nz\r\nM 19.671875 64.796875 \r\nL 19.671875 42.828125 \r\nL 34.28125 42.828125 \r\nQ 41.5 42.828125 45.03125 45.53125 \r\nQ 48.578125 48.25 48.578125 53.8125 \r\nQ 48.578125 59.328125 45.03125 62.0625 \r\nQ 41.5 64.796875 34.28125 64.796875 \r\nz\r\nM 9.8125 72.90625 \r\nL 35.015625 72.90625 \r\nQ 46.296875 72.90625 52.390625 68.21875 \r\nQ 58.5 63.53125 58.5 54.890625 \r\nQ 58.5 48.1875 55.375 44.234375 \r\nQ 52.25 40.28125 46.1875 39.3125 \r\nQ 53.46875 37.75 57.5 32.78125 \r\nQ 61.53125 27.828125 61.53125 20.40625 \r\nQ 61.53125 10.640625 54.890625 5.3125 \r\nQ 48.25 0 35.984375 0 \r\nL 9.8125 0 \r\nz\r\n\" id=\"DejaVuSans-66\"/>\r\n       </defs>\r\n       <use xlink:href=\"#DejaVuSans-66\"/>\r\n       <use x=\"68.603516\" xlink:href=\"#DejaVuSans-101\"/>\r\n       <use x=\"130.126953\" xlink:href=\"#DejaVuSans-108\"/>\r\n       <use x=\"157.910156\" xlink:href=\"#DejaVuSans-103\"/>\r\n       <use x=\"221.386719\" xlink:href=\"#DejaVuSans-105\"/>\r\n       <use x=\"249.169922\" xlink:href=\"#DejaVuSans-117\"/>\r\n       <use x=\"312.548828\" xlink:href=\"#DejaVuSans-109\"/>\r\n      </g>\r\n     </g>\r\n    </g>\r\n    <g id=\"xtick_14\">\r\n     <g id=\"line2d_14\">\r\n      <g>\r\n       <use style=\"stroke:#000000;stroke-width:0.8;\" x=\"278.554139\" xlink:href=\"#mcf477ca6ad\" y=\"452.678438\"/>\r\n      </g>\r\n     </g>\r\n     <g id=\"text_14\">\r\n      <!-- Lithuania -->\r\n      <g transform=\"translate(281.313514 505.995625)rotate(-90)scale(0.1 -0.1)\">\r\n       <defs>\r\n        <path d=\"M 9.8125 72.90625 \r\nL 19.671875 72.90625 \r\nL 19.671875 8.296875 \r\nL 55.171875 8.296875 \r\nL 55.171875 0 \r\nL 9.8125 0 \r\nz\r\n\" id=\"DejaVuSans-76\"/>\r\n       </defs>\r\n       <use xlink:href=\"#DejaVuSans-76\"/>\r\n       <use x=\"55.712891\" xlink:href=\"#DejaVuSans-105\"/>\r\n       <use x=\"83.496094\" xlink:href=\"#DejaVuSans-116\"/>\r\n       <use x=\"122.705078\" xlink:href=\"#DejaVuSans-104\"/>\r\n       <use x=\"186.083984\" xlink:href=\"#DejaVuSans-117\"/>\r\n       <use x=\"249.462891\" xlink:href=\"#DejaVuSans-97\"/>\r\n       <use x=\"310.742188\" xlink:href=\"#DejaVuSans-110\"/>\r\n       <use x=\"374.121094\" xlink:href=\"#DejaVuSans-105\"/>\r\n       <use x=\"401.904297\" xlink:href=\"#DejaVuSans-97\"/>\r\n      </g>\r\n     </g>\r\n    </g>\r\n    <g id=\"xtick_15\">\r\n     <g id=\"line2d_15\">\r\n      <g>\r\n       <use style=\"stroke:#000000;stroke-width:0.8;\" x=\"296.651436\" xlink:href=\"#mcf477ca6ad\" y=\"452.678438\"/>\r\n      </g>\r\n     </g>\r\n     <g id=\"text_15\">\r\n      <!-- Japan -->\r\n      <g transform=\"translate(299.410811 487.570625)rotate(-90)scale(0.1 -0.1)\">\r\n       <defs>\r\n        <path d=\"M 9.8125 72.90625 \r\nL 19.671875 72.90625 \r\nL 19.671875 5.078125 \r\nQ 19.671875 -8.109375 14.671875 -14.0625 \r\nQ 9.671875 -20.015625 -1.421875 -20.015625 \r\nL -5.171875 -20.015625 \r\nL -5.171875 -11.71875 \r\nL -2.09375 -11.71875 \r\nQ 4.4375 -11.71875 7.125 -8.046875 \r\nQ 9.8125 -4.390625 9.8125 5.078125 \r\nz\r\n\" id=\"DejaVuSans-74\"/>\r\n       </defs>\r\n       <use xlink:href=\"#DejaVuSans-74\"/>\r\n       <use x=\"29.492188\" xlink:href=\"#DejaVuSans-97\"/>\r\n       <use x=\"90.771484\" xlink:href=\"#DejaVuSans-112\"/>\r\n       <use x=\"154.248047\" xlink:href=\"#DejaVuSans-97\"/>\r\n       <use x=\"215.527344\" xlink:href=\"#DejaVuSans-110\"/>\r\n      </g>\r\n     </g>\r\n    </g>\r\n    <g id=\"xtick_16\">\r\n     <g id=\"line2d_16\">\r\n      <g>\r\n       <use style=\"stroke:#000000;stroke-width:0.8;\" x=\"314.748733\" xlink:href=\"#mcf477ca6ad\" y=\"452.678438\"/>\r\n      </g>\r\n     </g>\r\n     <g id=\"text_16\">\r\n      <!-- Iceland -->\r\n      <g transform=\"translate(317.508108 495.872187)rotate(-90)scale(0.1 -0.1)\">\r\n       <use xlink:href=\"#DejaVuSans-73\"/>\r\n       <use x=\"29.492188\" xlink:href=\"#DejaVuSans-99\"/>\r\n       <use x=\"84.472656\" xlink:href=\"#DejaVuSans-101\"/>\r\n       <use x=\"145.996094\" xlink:href=\"#DejaVuSans-108\"/>\r\n       <use x=\"173.779297\" xlink:href=\"#DejaVuSans-97\"/>\r\n       <use x=\"235.058594\" xlink:href=\"#DejaVuSans-110\"/>\r\n       <use x=\"298.4375\" xlink:href=\"#DejaVuSans-100\"/>\r\n      </g>\r\n     </g>\r\n    </g>\r\n    <g id=\"xtick_17\">\r\n     <g id=\"line2d_17\">\r\n      <g>\r\n       <use style=\"stroke:#000000;stroke-width:0.8;\" x=\"332.84603\" xlink:href=\"#mcf477ca6ad\" y=\"452.678438\"/>\r\n      </g>\r\n     </g>\r\n     <g id=\"text_17\">\r\n      <!-- Channel Islands -->\r\n      <g transform=\"translate(335.605405 538.872187)rotate(-90)scale(0.1 -0.1)\">\r\n       <defs>\r\n        <path d=\"M 64.40625 67.28125 \r\nL 64.40625 56.890625 \r\nQ 59.421875 61.53125 53.78125 63.8125 \r\nQ 48.140625 66.109375 41.796875 66.109375 \r\nQ 29.296875 66.109375 22.65625 58.46875 \r\nQ 16.015625 50.828125 16.015625 36.375 \r\nQ 16.015625 21.96875 22.65625 14.328125 \r\nQ 29.296875 6.6875 41.796875 6.6875 \r\nQ 48.140625 6.6875 53.78125 8.984375 \r\nQ 59.421875 11.28125 64.40625 15.921875 \r\nL 64.40625 5.609375 \r\nQ 59.234375 2.09375 53.4375 0.328125 \r\nQ 47.65625 -1.421875 41.21875 -1.421875 \r\nQ 24.65625 -1.421875 15.125 8.703125 \r\nQ 5.609375 18.84375 5.609375 36.375 \r\nQ 5.609375 53.953125 15.125 64.078125 \r\nQ 24.65625 74.21875 41.21875 74.21875 \r\nQ 47.75 74.21875 53.53125 72.484375 \r\nQ 59.328125 70.75 64.40625 67.28125 \r\nz\r\n\" id=\"DejaVuSans-67\"/>\r\n       </defs>\r\n       <use xlink:href=\"#DejaVuSans-67\"/>\r\n       <use x=\"69.824219\" xlink:href=\"#DejaVuSans-104\"/>\r\n       <use x=\"133.203125\" xlink:href=\"#DejaVuSans-97\"/>\r\n       <use x=\"194.482422\" xlink:href=\"#DejaVuSans-110\"/>\r\n       <use x=\"257.861328\" xlink:href=\"#DejaVuSans-110\"/>\r\n       <use x=\"321.240234\" xlink:href=\"#DejaVuSans-101\"/>\r\n       <use x=\"382.763672\" xlink:href=\"#DejaVuSans-108\"/>\r\n       <use x=\"410.546875\" xlink:href=\"#DejaVuSans-32\"/>\r\n       <use x=\"442.333984\" xlink:href=\"#DejaVuSans-73\"/>\r\n       <use x=\"471.826172\" xlink:href=\"#DejaVuSans-115\"/>\r\n       <use x=\"523.925781\" xlink:href=\"#DejaVuSans-108\"/>\r\n       <use x=\"551.708984\" xlink:href=\"#DejaVuSans-97\"/>\r\n       <use x=\"612.988281\" xlink:href=\"#DejaVuSans-110\"/>\r\n       <use x=\"676.367188\" xlink:href=\"#DejaVuSans-100\"/>\r\n       <use x=\"739.84375\" xlink:href=\"#DejaVuSans-115\"/>\r\n      </g>\r\n     </g>\r\n    </g>\r\n    <g id=\"xtick_18\">\r\n     <g id=\"line2d_18\">\r\n      <g>\r\n       <use style=\"stroke:#000000;stroke-width:0.8;\" x=\"350.943328\" xlink:href=\"#mcf477ca6ad\" y=\"452.678438\"/>\r\n      </g>\r\n     </g>\r\n     <g id=\"text_18\">\r\n      <!-- Denmark -->\r\n      <g transform=\"translate(353.702703 505.639375)rotate(-90)scale(0.1 -0.1)\">\r\n       <defs>\r\n        <path d=\"M 19.671875 64.796875 \r\nL 19.671875 8.109375 \r\nL 31.59375 8.109375 \r\nQ 46.6875 8.109375 53.6875 14.9375 \r\nQ 60.6875 21.78125 60.6875 36.53125 \r\nQ 60.6875 51.171875 53.6875 57.984375 \r\nQ 46.6875 64.796875 31.59375 64.796875 \r\nz\r\nM 9.8125 72.90625 \r\nL 30.078125 72.90625 \r\nQ 51.265625 72.90625 61.171875 64.09375 \r\nQ 71.09375 55.28125 71.09375 36.53125 \r\nQ 71.09375 17.671875 61.125 8.828125 \r\nQ 51.171875 0 30.078125 0 \r\nL 9.8125 0 \r\nz\r\n\" id=\"DejaVuSans-68\"/>\r\n        <path d=\"M 9.078125 75.984375 \r\nL 18.109375 75.984375 \r\nL 18.109375 31.109375 \r\nL 44.921875 54.6875 \r\nL 56.390625 54.6875 \r\nL 27.390625 29.109375 \r\nL 57.625 0 \r\nL 45.90625 0 \r\nL 18.109375 26.703125 \r\nL 18.109375 0 \r\nL 9.078125 0 \r\nz\r\n\" id=\"DejaVuSans-107\"/>\r\n       </defs>\r\n       <use xlink:href=\"#DejaVuSans-68\"/>\r\n       <use x=\"77.001953\" xlink:href=\"#DejaVuSans-101\"/>\r\n       <use x=\"138.525391\" xlink:href=\"#DejaVuSans-110\"/>\r\n       <use x=\"201.904297\" xlink:href=\"#DejaVuSans-109\"/>\r\n       <use x=\"299.316406\" xlink:href=\"#DejaVuSans-97\"/>\r\n       <use x=\"360.595703\" xlink:href=\"#DejaVuSans-114\"/>\r\n       <use x=\"401.708984\" xlink:href=\"#DejaVuSans-107\"/>\r\n      </g>\r\n     </g>\r\n    </g>\r\n    <g id=\"xtick_19\">\r\n     <g id=\"line2d_19\">\r\n      <g>\r\n       <use style=\"stroke:#000000;stroke-width:0.8;\" x=\"369.040625\" xlink:href=\"#mcf477ca6ad\" y=\"452.678438\"/>\r\n      </g>\r\n     </g>\r\n     <g id=\"text_19\">\r\n      <!-- Cyprus -->\r\n      <g transform=\"translate(371.8 494.58625)rotate(-90)scale(0.1 -0.1)\">\r\n       <use xlink:href=\"#DejaVuSans-67\"/>\r\n       <use x=\"69.824219\" xlink:href=\"#DejaVuSans-121\"/>\r\n       <use x=\"129.003906\" xlink:href=\"#DejaVuSans-112\"/>\r\n       <use x=\"192.480469\" xlink:href=\"#DejaVuSans-114\"/>\r\n       <use x=\"233.59375\" xlink:href=\"#DejaVuSans-117\"/>\r\n       <use x=\"296.972656\" xlink:href=\"#DejaVuSans-115\"/>\r\n      </g>\r\n     </g>\r\n    </g>\r\n    <g id=\"xtick_20\">\r\n     <g id=\"line2d_20\">\r\n      <g>\r\n       <use style=\"stroke:#000000;stroke-width:0.8;\" x=\"387.137922\" xlink:href=\"#mcf477ca6ad\" y=\"452.678438\"/>\r\n      </g>\r\n     </g>\r\n     <g id=\"text_20\">\r\n      <!-- Sweden -->\r\n      <g transform=\"translate(389.897297 499.197188)rotate(-90)scale(0.1 -0.1)\">\r\n       <use xlink:href=\"#DejaVuSans-83\"/>\r\n       <use x=\"63.476562\" xlink:href=\"#DejaVuSans-119\"/>\r\n       <use x=\"145.263672\" xlink:href=\"#DejaVuSans-101\"/>\r\n       <use x=\"206.787109\" xlink:href=\"#DejaVuSans-100\"/>\r\n       <use x=\"270.263672\" xlink:href=\"#DejaVuSans-101\"/>\r\n       <use x=\"331.787109\" xlink:href=\"#DejaVuSans-110\"/>\r\n      </g>\r\n     </g>\r\n    </g>\r\n    <g id=\"xtick_21\">\r\n     <g id=\"line2d_21\">\r\n      <g>\r\n       <use style=\"stroke:#000000;stroke-width:0.8;\" x=\"405.23522\" xlink:href=\"#mcf477ca6ad\" y=\"452.678438\"/>\r\n      </g>\r\n     </g>\r\n     <g id=\"text_21\">\r\n      <!-- Austria -->\r\n      <g transform=\"translate(407.994595 495.003438)rotate(-90)scale(0.1 -0.1)\">\r\n       <use xlink:href=\"#DejaVuSans-65\"/>\r\n       <use x=\"68.408203\" xlink:href=\"#DejaVuSans-117\"/>\r\n       <use x=\"131.787109\" xlink:href=\"#DejaVuSans-115\"/>\r\n       <use x=\"183.886719\" xlink:href=\"#DejaVuSans-116\"/>\r\n       <use x=\"223.095703\" xlink:href=\"#DejaVuSans-114\"/>\r\n       <use x=\"264.208984\" xlink:href=\"#DejaVuSans-105\"/>\r\n       <use x=\"291.992188\" xlink:href=\"#DejaVuSans-97\"/>\r\n      </g>\r\n     </g>\r\n    </g>\r\n    <g id=\"xtick_22\">\r\n     <g id=\"line2d_22\">\r\n      <g>\r\n       <use style=\"stroke:#000000;stroke-width:0.8;\" x=\"423.332517\" xlink:href=\"#mcf477ca6ad\" y=\"452.678438\"/>\r\n      </g>\r\n     </g>\r\n     <g id=\"text_22\">\r\n      <!-- Israel -->\r\n      <g transform=\"translate(426.091892 487.008125)rotate(-90)scale(0.1 -0.1)\">\r\n       <use xlink:href=\"#DejaVuSans-73\"/>\r\n       <use x=\"29.492188\" xlink:href=\"#DejaVuSans-115\"/>\r\n       <use x=\"81.591797\" xlink:href=\"#DejaVuSans-114\"/>\r\n       <use x=\"122.705078\" xlink:href=\"#DejaVuSans-97\"/>\r\n       <use x=\"183.984375\" xlink:href=\"#DejaVuSans-101\"/>\r\n       <use x=\"245.507812\" xlink:href=\"#DejaVuSans-108\"/>\r\n      </g>\r\n     </g>\r\n    </g>\r\n    <g id=\"xtick_23\">\r\n     <g id=\"line2d_23\">\r\n      <g>\r\n       <use style=\"stroke:#000000;stroke-width:0.8;\" x=\"441.429814\" xlink:href=\"#mcf477ca6ad\" y=\"452.678438\"/>\r\n      </g>\r\n     </g>\r\n     <g id=\"text_23\">\r\n      <!-- Finland -->\r\n      <g transform=\"translate(444.189189 495.412813)rotate(-90)scale(0.1 -0.1)\">\r\n       <use xlink:href=\"#DejaVuSans-70\"/>\r\n       <use x=\"50.269531\" xlink:href=\"#DejaVuSans-105\"/>\r\n       <use x=\"78.052734\" xlink:href=\"#DejaVuSans-110\"/>\r\n       <use x=\"141.431641\" xlink:href=\"#DejaVuSans-108\"/>\r\n       <use x=\"169.214844\" xlink:href=\"#DejaVuSans-97\"/>\r\n       <use x=\"230.494141\" xlink:href=\"#DejaVuSans-110\"/>\r\n       <use x=\"293.873047\" xlink:href=\"#DejaVuSans-100\"/>\r\n      </g>\r\n     </g>\r\n    </g>\r\n    <g id=\"xtick_24\">\r\n     <g id=\"line2d_24\">\r\n      <g>\r\n       <use style=\"stroke:#000000;stroke-width:0.8;\" x=\"459.527111\" xlink:href=\"#mcf477ca6ad\" y=\"452.678438\"/>\r\n      </g>\r\n     </g>\r\n     <g id=\"text_24\">\r\n      <!-- Greece -->\r\n      <g transform=\"translate(462.286486 495.270625)rotate(-90)scale(0.1 -0.1)\">\r\n       <use xlink:href=\"#DejaVuSans-71\"/>\r\n       <use x=\"77.490234\" xlink:href=\"#DejaVuSans-114\"/>\r\n       <use x=\"116.353516\" xlink:href=\"#DejaVuSans-101\"/>\r\n       <use x=\"177.876953\" xlink:href=\"#DejaVuSans-101\"/>\r\n       <use x=\"239.400391\" xlink:href=\"#DejaVuSans-99\"/>\r\n       <use x=\"294.380859\" xlink:href=\"#DejaVuSans-101\"/>\r\n      </g>\r\n     </g>\r\n    </g>\r\n    <g id=\"xtick_25\">\r\n     <g id=\"line2d_25\">\r\n      <g>\r\n       <use style=\"stroke:#000000;stroke-width:0.8;\" x=\"477.624409\" xlink:href=\"#mcf477ca6ad\" y=\"452.678438\"/>\r\n      </g>\r\n     </g>\r\n     <g id=\"text_25\">\r\n      <!-- Singapore -->\r\n      <g transform=\"translate(480.383784 510.125313)rotate(-90)scale(0.1 -0.1)\">\r\n       <use xlink:href=\"#DejaVuSans-83\"/>\r\n       <use x=\"63.476562\" xlink:href=\"#DejaVuSans-105\"/>\r\n       <use x=\"91.259766\" xlink:href=\"#DejaVuSans-110\"/>\r\n       <use x=\"154.638672\" xlink:href=\"#DejaVuSans-103\"/>\r\n       <use x=\"218.115234\" xlink:href=\"#DejaVuSans-97\"/>\r\n       <use x=\"279.394531\" xlink:href=\"#DejaVuSans-112\"/>\r\n       <use x=\"342.871094\" xlink:href=\"#DejaVuSans-111\"/>\r\n       <use x=\"404.052734\" xlink:href=\"#DejaVuSans-114\"/>\r\n       <use x=\"442.916016\" xlink:href=\"#DejaVuSans-101\"/>\r\n      </g>\r\n     </g>\r\n    </g>\r\n    <g id=\"xtick_26\">\r\n     <g id=\"line2d_26\">\r\n      <g>\r\n       <use style=\"stroke:#000000;stroke-width:0.8;\" x=\"495.721706\" xlink:href=\"#mcf477ca6ad\" y=\"452.678438\"/>\r\n      </g>\r\n     </g>\r\n     <g id=\"text_26\">\r\n      <!-- Lebanon -->\r\n      <g transform=\"translate(498.481081 502.49875)rotate(-90)scale(0.1 -0.1)\">\r\n       <defs>\r\n        <path d=\"M 48.6875 27.296875 \r\nQ 48.6875 37.203125 44.609375 42.84375 \r\nQ 40.53125 48.484375 33.40625 48.484375 \r\nQ 26.265625 48.484375 22.1875 42.84375 \r\nQ 18.109375 37.203125 18.109375 27.296875 \r\nQ 18.109375 17.390625 22.1875 11.75 \r\nQ 26.265625 6.109375 33.40625 6.109375 \r\nQ 40.53125 6.109375 44.609375 11.75 \r\nQ 48.6875 17.390625 48.6875 27.296875 \r\nz\r\nM 18.109375 46.390625 \r\nQ 20.953125 51.265625 25.265625 53.625 \r\nQ 29.59375 56 35.59375 56 \r\nQ 45.5625 56 51.78125 48.09375 \r\nQ 58.015625 40.1875 58.015625 27.296875 \r\nQ 58.015625 14.40625 51.78125 6.484375 \r\nQ 45.5625 -1.421875 35.59375 -1.421875 \r\nQ 29.59375 -1.421875 25.265625 0.953125 \r\nQ 20.953125 3.328125 18.109375 8.203125 \r\nL 18.109375 0 \r\nL 9.078125 0 \r\nL 9.078125 75.984375 \r\nL 18.109375 75.984375 \r\nz\r\n\" id=\"DejaVuSans-98\"/>\r\n       </defs>\r\n       <use xlink:href=\"#DejaVuSans-76\"/>\r\n       <use x=\"53.962891\" xlink:href=\"#DejaVuSans-101\"/>\r\n       <use x=\"115.486328\" xlink:href=\"#DejaVuSans-98\"/>\r\n       <use x=\"178.962891\" xlink:href=\"#DejaVuSans-97\"/>\r\n       <use x=\"240.242188\" xlink:href=\"#DejaVuSans-110\"/>\r\n       <use x=\"303.621094\" xlink:href=\"#DejaVuSans-111\"/>\r\n       <use x=\"364.802734\" xlink:href=\"#DejaVuSans-110\"/>\r\n      </g>\r\n     </g>\r\n    </g>\r\n    <g id=\"xtick_27\">\r\n     <g id=\"line2d_27\">\r\n      <g>\r\n       <use style=\"stroke:#000000;stroke-width:0.8;\" x=\"513.819003\" xlink:href=\"#mcf477ca6ad\" y=\"452.678438\"/>\r\n      </g>\r\n     </g>\r\n     <g id=\"text_27\">\r\n      <!-- United Arab Emirates -->\r\n      <g transform=\"translate(516.578378 566.678437)rotate(-90)scale(0.1 -0.1)\">\r\n       <use xlink:href=\"#DejaVuSans-85\"/>\r\n       <use x=\"73.193359\" xlink:href=\"#DejaVuSans-110\"/>\r\n       <use x=\"136.572266\" xlink:href=\"#DejaVuSans-105\"/>\r\n       <use x=\"164.355469\" xlink:href=\"#DejaVuSans-116\"/>\r\n       <use x=\"203.564453\" xlink:href=\"#DejaVuSans-101\"/>\r\n       <use x=\"265.087891\" xlink:href=\"#DejaVuSans-100\"/>\r\n       <use x=\"328.564453\" xlink:href=\"#DejaVuSans-32\"/>\r\n       <use x=\"360.351562\" xlink:href=\"#DejaVuSans-65\"/>\r\n       <use x=\"428.759766\" xlink:href=\"#DejaVuSans-114\"/>\r\n       <use x=\"469.873047\" xlink:href=\"#DejaVuSans-97\"/>\r\n       <use x=\"531.152344\" xlink:href=\"#DejaVuSans-98\"/>\r\n       <use x=\"594.628906\" xlink:href=\"#DejaVuSans-32\"/>\r\n       <use x=\"626.416016\" xlink:href=\"#DejaVuSans-69\"/>\r\n       <use x=\"689.599609\" xlink:href=\"#DejaVuSans-109\"/>\r\n       <use x=\"787.011719\" xlink:href=\"#DejaVuSans-105\"/>\r\n       <use x=\"814.794922\" xlink:href=\"#DejaVuSans-114\"/>\r\n       <use x=\"855.908203\" xlink:href=\"#DejaVuSans-97\"/>\r\n       <use x=\"917.1875\" xlink:href=\"#DejaVuSans-116\"/>\r\n       <use x=\"956.396484\" xlink:href=\"#DejaVuSans-101\"/>\r\n       <use x=\"1017.919922\" xlink:href=\"#DejaVuSans-115\"/>\r\n      </g>\r\n     </g>\r\n    </g>\r\n    <g id=\"xtick_28\">\r\n     <g id=\"line2d_28\">\r\n      <g>\r\n       <use style=\"stroke:#000000;stroke-width:0.8;\" x=\"531.916301\" xlink:href=\"#mcf477ca6ad\" y=\"452.678438\"/>\r\n      </g>\r\n     </g>\r\n     <g id=\"text_28\">\r\n      <!-- Saudi Arabia -->\r\n      <g transform=\"translate(534.675676 523.131562)rotate(-90)scale(0.1 -0.1)\">\r\n       <use xlink:href=\"#DejaVuSans-83\"/>\r\n       <use x=\"63.476562\" xlink:href=\"#DejaVuSans-97\"/>\r\n       <use x=\"124.755859\" xlink:href=\"#DejaVuSans-117\"/>\r\n       <use x=\"188.134766\" xlink:href=\"#DejaVuSans-100\"/>\r\n       <use x=\"251.611328\" xlink:href=\"#DejaVuSans-105\"/>\r\n       <use x=\"279.394531\" xlink:href=\"#DejaVuSans-32\"/>\r\n       <use x=\"311.181641\" xlink:href=\"#DejaVuSans-65\"/>\r\n       <use x=\"379.589844\" xlink:href=\"#DejaVuSans-114\"/>\r\n       <use x=\"420.703125\" xlink:href=\"#DejaVuSans-97\"/>\r\n       <use x=\"481.982422\" xlink:href=\"#DejaVuSans-98\"/>\r\n       <use x=\"545.458984\" xlink:href=\"#DejaVuSans-105\"/>\r\n       <use x=\"573.242188\" xlink:href=\"#DejaVuSans-97\"/>\r\n      </g>\r\n     </g>\r\n    </g>\r\n    <g id=\"xtick_29\">\r\n     <g id=\"line2d_29\">\r\n      <g>\r\n       <use style=\"stroke:#000000;stroke-width:0.8;\" x=\"550.013598\" xlink:href=\"#mcf477ca6ad\" y=\"452.678438\"/>\r\n      </g>\r\n     </g>\r\n     <g id=\"text_29\">\r\n      <!-- Czech Republic -->\r\n      <g transform=\"translate(552.772973 535.8175)rotate(-90)scale(0.1 -0.1)\">\r\n       <use xlink:href=\"#DejaVuSans-67\"/>\r\n       <use x=\"69.824219\" xlink:href=\"#DejaVuSans-122\"/>\r\n       <use x=\"122.314453\" xlink:href=\"#DejaVuSans-101\"/>\r\n       <use x=\"183.837891\" xlink:href=\"#DejaVuSans-99\"/>\r\n       <use x=\"238.818359\" xlink:href=\"#DejaVuSans-104\"/>\r\n       <use x=\"302.197266\" xlink:href=\"#DejaVuSans-32\"/>\r\n       <use x=\"333.984375\" xlink:href=\"#DejaVuSans-82\"/>\r\n       <use x=\"398.966797\" xlink:href=\"#DejaVuSans-101\"/>\r\n       <use x=\"460.490234\" xlink:href=\"#DejaVuSans-112\"/>\r\n       <use x=\"523.966797\" xlink:href=\"#DejaVuSans-117\"/>\r\n       <use x=\"587.345703\" xlink:href=\"#DejaVuSans-98\"/>\r\n       <use x=\"650.822266\" xlink:href=\"#DejaVuSans-108\"/>\r\n       <use x=\"678.605469\" xlink:href=\"#DejaVuSans-105\"/>\r\n       <use x=\"706.388672\" xlink:href=\"#DejaVuSans-99\"/>\r\n      </g>\r\n     </g>\r\n    </g>\r\n    <g id=\"xtick_30\">\r\n     <g id=\"line2d_30\">\r\n      <g>\r\n       <use style=\"stroke:#000000;stroke-width:0.8;\" x=\"568.110895\" xlink:href=\"#mcf477ca6ad\" y=\"452.678438\"/>\r\n      </g>\r\n     </g>\r\n     <g id=\"text_30\">\r\n      <!-- Canada -->\r\n      <g transform=\"translate(570.87027 497.731562)rotate(-90)scale(0.1 -0.1)\">\r\n       <use xlink:href=\"#DejaVuSans-67\"/>\r\n       <use x=\"69.824219\" xlink:href=\"#DejaVuSans-97\"/>\r\n       <use x=\"131.103516\" xlink:href=\"#DejaVuSans-110\"/>\r\n       <use x=\"194.482422\" xlink:href=\"#DejaVuSans-97\"/>\r\n       <use x=\"255.761719\" xlink:href=\"#DejaVuSans-100\"/>\r\n       <use x=\"319.238281\" xlink:href=\"#DejaVuSans-97\"/>\r\n      </g>\r\n     </g>\r\n    </g>\r\n    <g id=\"xtick_31\">\r\n     <g id=\"line2d_31\">\r\n      <g>\r\n       <use style=\"stroke:#000000;stroke-width:0.8;\" x=\"586.208193\" xlink:href=\"#mcf477ca6ad\" y=\"452.678438\"/>\r\n      </g>\r\n     </g>\r\n     <g id=\"text_31\">\r\n      <!-- Unspecified -->\r\n      <g transform=\"translate(588.967568 518.122187)rotate(-90)scale(0.1 -0.1)\">\r\n       <defs>\r\n        <path d=\"M 37.109375 75.984375 \r\nL 37.109375 68.5 \r\nL 28.515625 68.5 \r\nQ 23.6875 68.5 21.796875 66.546875 \r\nQ 19.921875 64.59375 19.921875 59.515625 \r\nL 19.921875 54.6875 \r\nL 34.71875 54.6875 \r\nL 34.71875 47.703125 \r\nL 19.921875 47.703125 \r\nL 19.921875 0 \r\nL 10.890625 0 \r\nL 10.890625 47.703125 \r\nL 2.296875 47.703125 \r\nL 2.296875 54.6875 \r\nL 10.890625 54.6875 \r\nL 10.890625 58.5 \r\nQ 10.890625 67.625 15.140625 71.796875 \r\nQ 19.390625 75.984375 28.609375 75.984375 \r\nz\r\n\" id=\"DejaVuSans-102\"/>\r\n       </defs>\r\n       <use xlink:href=\"#DejaVuSans-85\"/>\r\n       <use x=\"73.193359\" xlink:href=\"#DejaVuSans-110\"/>\r\n       <use x=\"136.572266\" xlink:href=\"#DejaVuSans-115\"/>\r\n       <use x=\"188.671875\" xlink:href=\"#DejaVuSans-112\"/>\r\n       <use x=\"252.148438\" xlink:href=\"#DejaVuSans-101\"/>\r\n       <use x=\"313.671875\" xlink:href=\"#DejaVuSans-99\"/>\r\n       <use x=\"368.652344\" xlink:href=\"#DejaVuSans-105\"/>\r\n       <use x=\"396.435547\" xlink:href=\"#DejaVuSans-102\"/>\r\n       <use x=\"431.640625\" xlink:href=\"#DejaVuSans-105\"/>\r\n       <use x=\"459.423828\" xlink:href=\"#DejaVuSans-101\"/>\r\n       <use x=\"520.947266\" xlink:href=\"#DejaVuSans-100\"/>\r\n      </g>\r\n     </g>\r\n    </g>\r\n    <g id=\"xtick_32\">\r\n     <g id=\"line2d_32\">\r\n      <g>\r\n       <use style=\"stroke:#000000;stroke-width:0.8;\" x=\"604.30549\" xlink:href=\"#mcf477ca6ad\" y=\"452.678438\"/>\r\n      </g>\r\n     </g>\r\n     <g id=\"text_32\">\r\n      <!-- Brazil -->\r\n      <g transform=\"translate(607.064865 487.583125)rotate(-90)scale(0.1 -0.1)\">\r\n       <use xlink:href=\"#DejaVuSans-66\"/>\r\n       <use x=\"68.603516\" xlink:href=\"#DejaVuSans-114\"/>\r\n       <use x=\"109.716797\" xlink:href=\"#DejaVuSans-97\"/>\r\n       <use x=\"170.996094\" xlink:href=\"#DejaVuSans-122\"/>\r\n       <use x=\"223.486328\" xlink:href=\"#DejaVuSans-105\"/>\r\n       <use x=\"251.269531\" xlink:href=\"#DejaVuSans-108\"/>\r\n      </g>\r\n     </g>\r\n    </g>\r\n    <g id=\"xtick_33\">\r\n     <g id=\"line2d_33\">\r\n      <g>\r\n       <use style=\"stroke:#000000;stroke-width:0.8;\" x=\"622.402787\" xlink:href=\"#mcf477ca6ad\" y=\"452.678438\"/>\r\n      </g>\r\n     </g>\r\n     <g id=\"text_33\">\r\n      <!-- USA -->\r\n      <g transform=\"translate(625.162162 480.37375)rotate(-90)scale(0.1 -0.1)\">\r\n       <use xlink:href=\"#DejaVuSans-85\"/>\r\n       <use x=\"73.193359\" xlink:href=\"#DejaVuSans-83\"/>\r\n       <use x=\"138.544922\" xlink:href=\"#DejaVuSans-65\"/>\r\n      </g>\r\n     </g>\r\n    </g>\r\n    <g id=\"xtick_34\">\r\n     <g id=\"line2d_34\">\r\n      <g>\r\n       <use style=\"stroke:#000000;stroke-width:0.8;\" x=\"640.500084\" xlink:href=\"#mcf477ca6ad\" y=\"452.678438\"/>\r\n      </g>\r\n     </g>\r\n     <g id=\"text_34\">\r\n      <!-- European Community -->\r\n      <g transform=\"translate(643.259459 568.359688)rotate(-90)scale(0.1 -0.1)\">\r\n       <use xlink:href=\"#DejaVuSans-69\"/>\r\n       <use x=\"63.183594\" xlink:href=\"#DejaVuSans-117\"/>\r\n       <use x=\"126.5625\" xlink:href=\"#DejaVuSans-114\"/>\r\n       <use x=\"165.425781\" xlink:href=\"#DejaVuSans-111\"/>\r\n       <use x=\"226.607422\" xlink:href=\"#DejaVuSans-112\"/>\r\n       <use x=\"290.083984\" xlink:href=\"#DejaVuSans-101\"/>\r\n       <use x=\"351.607422\" xlink:href=\"#DejaVuSans-97\"/>\r\n       <use x=\"412.886719\" xlink:href=\"#DejaVuSans-110\"/>\r\n       <use x=\"476.265625\" xlink:href=\"#DejaVuSans-32\"/>\r\n       <use x=\"508.052734\" xlink:href=\"#DejaVuSans-67\"/>\r\n       <use x=\"577.876953\" xlink:href=\"#DejaVuSans-111\"/>\r\n       <use x=\"639.058594\" xlink:href=\"#DejaVuSans-109\"/>\r\n       <use x=\"736.470703\" xlink:href=\"#DejaVuSans-109\"/>\r\n       <use x=\"833.882812\" xlink:href=\"#DejaVuSans-117\"/>\r\n       <use x=\"897.261719\" xlink:href=\"#DejaVuSans-110\"/>\r\n       <use x=\"960.640625\" xlink:href=\"#DejaVuSans-105\"/>\r\n       <use x=\"988.423828\" xlink:href=\"#DejaVuSans-116\"/>\r\n       <use x=\"1027.632812\" xlink:href=\"#DejaVuSans-121\"/>\r\n      </g>\r\n     </g>\r\n    </g>\r\n    <g id=\"xtick_35\">\r\n     <g id=\"line2d_35\">\r\n      <g>\r\n       <use style=\"stroke:#000000;stroke-width:0.8;\" x=\"658.597382\" xlink:href=\"#mcf477ca6ad\" y=\"452.678438\"/>\r\n      </g>\r\n     </g>\r\n     <g id=\"text_35\">\r\n      <!-- Bahrain -->\r\n      <g transform=\"translate(661.356757 498.359688)rotate(-90)scale(0.1 -0.1)\">\r\n       <use xlink:href=\"#DejaVuSans-66\"/>\r\n       <use x=\"68.603516\" xlink:href=\"#DejaVuSans-97\"/>\r\n       <use x=\"129.882812\" xlink:href=\"#DejaVuSans-104\"/>\r\n       <use x=\"193.261719\" xlink:href=\"#DejaVuSans-114\"/>\r\n       <use x=\"234.375\" xlink:href=\"#DejaVuSans-97\"/>\r\n       <use x=\"295.654297\" xlink:href=\"#DejaVuSans-105\"/>\r\n       <use x=\"323.4375\" xlink:href=\"#DejaVuSans-110\"/>\r\n      </g>\r\n     </g>\r\n    </g>\r\n    <g id=\"xtick_36\">\r\n     <g id=\"line2d_36\">\r\n      <g>\r\n       <use style=\"stroke:#000000;stroke-width:0.8;\" x=\"676.694679\" xlink:href=\"#mcf477ca6ad\" y=\"452.678438\"/>\r\n      </g>\r\n     </g>\r\n     <g id=\"text_36\">\r\n      <!-- Malta -->\r\n      <g transform=\"translate(679.454054 487.26125)rotate(-90)scale(0.1 -0.1)\">\r\n       <defs>\r\n        <path d=\"M 9.8125 72.90625 \r\nL 24.515625 72.90625 \r\nL 43.109375 23.296875 \r\nL 61.8125 72.90625 \r\nL 76.515625 72.90625 \r\nL 76.515625 0 \r\nL 66.890625 0 \r\nL 66.890625 64.015625 \r\nL 48.09375 14.015625 \r\nL 38.1875 14.015625 \r\nL 19.390625 64.015625 \r\nL 19.390625 0 \r\nL 9.8125 0 \r\nz\r\n\" id=\"DejaVuSans-77\"/>\r\n       </defs>\r\n       <use xlink:href=\"#DejaVuSans-77\"/>\r\n       <use x=\"86.279297\" xlink:href=\"#DejaVuSans-97\"/>\r\n       <use x=\"147.558594\" xlink:href=\"#DejaVuSans-108\"/>\r\n       <use x=\"175.341797\" xlink:href=\"#DejaVuSans-116\"/>\r\n       <use x=\"214.550781\" xlink:href=\"#DejaVuSans-97\"/>\r\n      </g>\r\n     </g>\r\n    </g>\r\n    <g id=\"xtick_37\">\r\n     <g id=\"line2d_37\">\r\n      <g>\r\n       <use style=\"stroke:#000000;stroke-width:0.8;\" x=\"694.791976\" xlink:href=\"#mcf477ca6ad\" y=\"452.678438\"/>\r\n      </g>\r\n     </g>\r\n     <g id=\"text_37\">\r\n      <!-- RSA -->\r\n      <g transform=\"translate(697.551351 480.003438)rotate(-90)scale(0.1 -0.1)\">\r\n       <use xlink:href=\"#DejaVuSans-82\"/>\r\n       <use x=\"69.482422\" xlink:href=\"#DejaVuSans-83\"/>\r\n       <use x=\"134.833984\" xlink:href=\"#DejaVuSans-65\"/>\r\n      </g>\r\n     </g>\r\n    </g>\r\n    <g id=\"text_38\">\r\n     <!-- Country -->\r\n     <g transform=\"translate(349.177344 579.958125)scale(0.1 -0.1)\">\r\n      <use xlink:href=\"#DejaVuSans-67\"/>\r\n      <use x=\"69.824219\" xlink:href=\"#DejaVuSans-111\"/>\r\n      <use x=\"131.005859\" xlink:href=\"#DejaVuSans-117\"/>\r\n      <use x=\"194.384766\" xlink:href=\"#DejaVuSans-110\"/>\r\n      <use x=\"257.763672\" xlink:href=\"#DejaVuSans-116\"/>\r\n      <use x=\"296.972656\" xlink:href=\"#DejaVuSans-114\"/>\r\n      <use x=\"338.085938\" xlink:href=\"#DejaVuSans-121\"/>\r\n     </g>\r\n    </g>\r\n   </g>\r\n   <g id=\"matplotlib.axis_2\">\r\n    <g id=\"ytick_1\">\r\n     <g id=\"line2d_38\">\r\n      <defs>\r\n       <path d=\"M 0 0 \r\nL -3.5 0 \r\n\" id=\"m2829b12417\" style=\"stroke:#000000;stroke-width:0.8;\"/>\r\n      </defs>\r\n      <g>\r\n       <use style=\"stroke:#000000;stroke-width:0.8;\" x=\"34.240625\" xlink:href=\"#m2829b12417\" y=\"432.544739\"/>\r\n      </g>\r\n     </g>\r\n     <g id=\"text_39\">\r\n      <!-- 0 -->\r\n      <g transform=\"translate(20.878125 436.343958)scale(0.1 -0.1)\">\r\n       <defs>\r\n        <path d=\"M 31.78125 66.40625 \r\nQ 24.171875 66.40625 20.328125 58.90625 \r\nQ 16.5 51.421875 16.5 36.375 \r\nQ 16.5 21.390625 20.328125 13.890625 \r\nQ 24.171875 6.390625 31.78125 6.390625 \r\nQ 39.453125 6.390625 43.28125 13.890625 \r\nQ 47.125 21.390625 47.125 36.375 \r\nQ 47.125 51.421875 43.28125 58.90625 \r\nQ 39.453125 66.40625 31.78125 66.40625 \r\nz\r\nM 31.78125 74.21875 \r\nQ 44.046875 74.21875 50.515625 64.515625 \r\nQ 56.984375 54.828125 56.984375 36.375 \r\nQ 56.984375 17.96875 50.515625 8.265625 \r\nQ 44.046875 -1.421875 31.78125 -1.421875 \r\nQ 19.53125 -1.421875 13.0625 8.265625 \r\nQ 6.59375 17.96875 6.59375 36.375 \r\nQ 6.59375 54.828125 13.0625 64.515625 \r\nQ 19.53125 74.21875 31.78125 74.21875 \r\nz\r\n\" id=\"DejaVuSans-48\"/>\r\n       </defs>\r\n       <use xlink:href=\"#DejaVuSans-48\"/>\r\n      </g>\r\n     </g>\r\n    </g>\r\n    <g id=\"ytick_2\">\r\n     <g id=\"line2d_39\">\r\n      <g>\r\n       <use style=\"stroke:#000000;stroke-width:0.8;\" x=\"34.240625\" xlink:href=\"#m2829b12417\" y=\"378.17802\"/>\r\n      </g>\r\n     </g>\r\n     <g id=\"text_40\">\r\n      <!-- 1 -->\r\n      <g transform=\"translate(20.878125 381.977238)scale(0.1 -0.1)\">\r\n       <defs>\r\n        <path d=\"M 12.40625 8.296875 \r\nL 28.515625 8.296875 \r\nL 28.515625 63.921875 \r\nL 10.984375 60.40625 \r\nL 10.984375 69.390625 \r\nL 28.421875 72.90625 \r\nL 38.28125 72.90625 \r\nL 38.28125 8.296875 \r\nL 54.390625 8.296875 \r\nL 54.390625 0 \r\nL 12.40625 0 \r\nz\r\n\" id=\"DejaVuSans-49\"/>\r\n       </defs>\r\n       <use xlink:href=\"#DejaVuSans-49\"/>\r\n      </g>\r\n     </g>\r\n    </g>\r\n    <g id=\"ytick_3\">\r\n     <g id=\"line2d_40\">\r\n      <g>\r\n       <use style=\"stroke:#000000;stroke-width:0.8;\" x=\"34.240625\" xlink:href=\"#m2829b12417\" y=\"323.8113\"/>\r\n      </g>\r\n     </g>\r\n     <g id=\"text_41\">\r\n      <!-- 2 -->\r\n      <g transform=\"translate(20.878125 327.610519)scale(0.1 -0.1)\">\r\n       <defs>\r\n        <path d=\"M 19.1875 8.296875 \r\nL 53.609375 8.296875 \r\nL 53.609375 0 \r\nL 7.328125 0 \r\nL 7.328125 8.296875 \r\nQ 12.9375 14.109375 22.625 23.890625 \r\nQ 32.328125 33.6875 34.8125 36.53125 \r\nQ 39.546875 41.84375 41.421875 45.53125 \r\nQ 43.3125 49.21875 43.3125 52.78125 \r\nQ 43.3125 58.59375 39.234375 62.25 \r\nQ 35.15625 65.921875 28.609375 65.921875 \r\nQ 23.96875 65.921875 18.8125 64.3125 \r\nQ 13.671875 62.703125 7.8125 59.421875 \r\nL 7.8125 69.390625 \r\nQ 13.765625 71.78125 18.9375 73 \r\nQ 24.125 74.21875 28.421875 74.21875 \r\nQ 39.75 74.21875 46.484375 68.546875 \r\nQ 53.21875 62.890625 53.21875 53.421875 \r\nQ 53.21875 48.921875 51.53125 44.890625 \r\nQ 49.859375 40.875 45.40625 35.40625 \r\nQ 44.1875 33.984375 37.640625 27.21875 \r\nQ 31.109375 20.453125 19.1875 8.296875 \r\nz\r\n\" id=\"DejaVuSans-50\"/>\r\n       </defs>\r\n       <use xlink:href=\"#DejaVuSans-50\"/>\r\n      </g>\r\n     </g>\r\n    </g>\r\n    <g id=\"ytick_4\">\r\n     <g id=\"line2d_41\">\r\n      <g>\r\n       <use style=\"stroke:#000000;stroke-width:0.8;\" x=\"34.240625\" xlink:href=\"#m2829b12417\" y=\"269.44458\"/>\r\n      </g>\r\n     </g>\r\n     <g id=\"text_42\">\r\n      <!-- 3 -->\r\n      <g transform=\"translate(20.878125 273.243799)scale(0.1 -0.1)\">\r\n       <defs>\r\n        <path d=\"M 40.578125 39.3125 \r\nQ 47.65625 37.796875 51.625 33 \r\nQ 55.609375 28.21875 55.609375 21.1875 \r\nQ 55.609375 10.40625 48.1875 4.484375 \r\nQ 40.765625 -1.421875 27.09375 -1.421875 \r\nQ 22.515625 -1.421875 17.65625 -0.515625 \r\nQ 12.796875 0.390625 7.625 2.203125 \r\nL 7.625 11.71875 \r\nQ 11.71875 9.328125 16.59375 8.109375 \r\nQ 21.484375 6.890625 26.8125 6.890625 \r\nQ 36.078125 6.890625 40.9375 10.546875 \r\nQ 45.796875 14.203125 45.796875 21.1875 \r\nQ 45.796875 27.640625 41.28125 31.265625 \r\nQ 36.765625 34.90625 28.71875 34.90625 \r\nL 20.21875 34.90625 \r\nL 20.21875 43.015625 \r\nL 29.109375 43.015625 \r\nQ 36.375 43.015625 40.234375 45.921875 \r\nQ 44.09375 48.828125 44.09375 54.296875 \r\nQ 44.09375 59.90625 40.109375 62.90625 \r\nQ 36.140625 65.921875 28.71875 65.921875 \r\nQ 24.65625 65.921875 20.015625 65.03125 \r\nQ 15.375 64.15625 9.8125 62.3125 \r\nL 9.8125 71.09375 \r\nQ 15.4375 72.65625 20.34375 73.4375 \r\nQ 25.25 74.21875 29.59375 74.21875 \r\nQ 40.828125 74.21875 47.359375 69.109375 \r\nQ 53.90625 64.015625 53.90625 55.328125 \r\nQ 53.90625 49.265625 50.4375 45.09375 \r\nQ 46.96875 40.921875 40.578125 39.3125 \r\nz\r\n\" id=\"DejaVuSans-51\"/>\r\n       </defs>\r\n       <use xlink:href=\"#DejaVuSans-51\"/>\r\n      </g>\r\n     </g>\r\n    </g>\r\n    <g id=\"ytick_5\">\r\n     <g id=\"line2d_42\">\r\n      <g>\r\n       <use style=\"stroke:#000000;stroke-width:0.8;\" x=\"34.240625\" xlink:href=\"#m2829b12417\" y=\"215.077861\"/>\r\n      </g>\r\n     </g>\r\n     <g id=\"text_43\">\r\n      <!-- 4 -->\r\n      <g transform=\"translate(20.878125 218.877079)scale(0.1 -0.1)\">\r\n       <defs>\r\n        <path d=\"M 37.796875 64.3125 \r\nL 12.890625 25.390625 \r\nL 37.796875 25.390625 \r\nz\r\nM 35.203125 72.90625 \r\nL 47.609375 72.90625 \r\nL 47.609375 25.390625 \r\nL 58.015625 25.390625 \r\nL 58.015625 17.1875 \r\nL 47.609375 17.1875 \r\nL 47.609375 0 \r\nL 37.796875 0 \r\nL 37.796875 17.1875 \r\nL 4.890625 17.1875 \r\nL 4.890625 26.703125 \r\nz\r\n\" id=\"DejaVuSans-52\"/>\r\n       </defs>\r\n       <use xlink:href=\"#DejaVuSans-52\"/>\r\n      </g>\r\n     </g>\r\n    </g>\r\n    <g id=\"ytick_6\">\r\n     <g id=\"line2d_43\">\r\n      <g>\r\n       <use style=\"stroke:#000000;stroke-width:0.8;\" x=\"34.240625\" xlink:href=\"#m2829b12417\" y=\"160.711141\"/>\r\n      </g>\r\n     </g>\r\n     <g id=\"text_44\">\r\n      <!-- 5 -->\r\n      <g transform=\"translate(20.878125 164.51036)scale(0.1 -0.1)\">\r\n       <defs>\r\n        <path d=\"M 10.796875 72.90625 \r\nL 49.515625 72.90625 \r\nL 49.515625 64.59375 \r\nL 19.828125 64.59375 \r\nL 19.828125 46.734375 \r\nQ 21.96875 47.46875 24.109375 47.828125 \r\nQ 26.265625 48.1875 28.421875 48.1875 \r\nQ 40.625 48.1875 47.75 41.5 \r\nQ 54.890625 34.8125 54.890625 23.390625 \r\nQ 54.890625 11.625 47.5625 5.09375 \r\nQ 40.234375 -1.421875 26.90625 -1.421875 \r\nQ 22.3125 -1.421875 17.546875 -0.640625 \r\nQ 12.796875 0.140625 7.71875 1.703125 \r\nL 7.71875 11.625 \r\nQ 12.109375 9.234375 16.796875 8.0625 \r\nQ 21.484375 6.890625 26.703125 6.890625 \r\nQ 35.15625 6.890625 40.078125 11.328125 \r\nQ 45.015625 15.765625 45.015625 23.390625 \r\nQ 45.015625 31 40.078125 35.4375 \r\nQ 35.15625 39.890625 26.703125 39.890625 \r\nQ 22.75 39.890625 18.8125 39.015625 \r\nQ 14.890625 38.140625 10.796875 36.28125 \r\nz\r\n\" id=\"DejaVuSans-53\"/>\r\n       </defs>\r\n       <use xlink:href=\"#DejaVuSans-53\"/>\r\n      </g>\r\n     </g>\r\n    </g>\r\n    <g id=\"ytick_7\">\r\n     <g id=\"line2d_44\">\r\n      <g>\r\n       <use style=\"stroke:#000000;stroke-width:0.8;\" x=\"34.240625\" xlink:href=\"#m2829b12417\" y=\"106.344421\"/>\r\n      </g>\r\n     </g>\r\n     <g id=\"text_45\">\r\n      <!-- 6 -->\r\n      <g transform=\"translate(20.878125 110.14364)scale(0.1 -0.1)\">\r\n       <defs>\r\n        <path d=\"M 33.015625 40.375 \r\nQ 26.375 40.375 22.484375 35.828125 \r\nQ 18.609375 31.296875 18.609375 23.390625 \r\nQ 18.609375 15.53125 22.484375 10.953125 \r\nQ 26.375 6.390625 33.015625 6.390625 \r\nQ 39.65625 6.390625 43.53125 10.953125 \r\nQ 47.40625 15.53125 47.40625 23.390625 \r\nQ 47.40625 31.296875 43.53125 35.828125 \r\nQ 39.65625 40.375 33.015625 40.375 \r\nz\r\nM 52.59375 71.296875 \r\nL 52.59375 62.3125 \r\nQ 48.875 64.0625 45.09375 64.984375 \r\nQ 41.3125 65.921875 37.59375 65.921875 \r\nQ 27.828125 65.921875 22.671875 59.328125 \r\nQ 17.53125 52.734375 16.796875 39.40625 \r\nQ 19.671875 43.65625 24.015625 45.921875 \r\nQ 28.375 48.1875 33.59375 48.1875 \r\nQ 44.578125 48.1875 50.953125 41.515625 \r\nQ 57.328125 34.859375 57.328125 23.390625 \r\nQ 57.328125 12.15625 50.6875 5.359375 \r\nQ 44.046875 -1.421875 33.015625 -1.421875 \r\nQ 20.359375 -1.421875 13.671875 8.265625 \r\nQ 6.984375 17.96875 6.984375 36.375 \r\nQ 6.984375 53.65625 15.1875 63.9375 \r\nQ 23.390625 74.21875 37.203125 74.21875 \r\nQ 40.921875 74.21875 44.703125 73.484375 \r\nQ 48.484375 72.75 52.59375 71.296875 \r\nz\r\n\" id=\"DejaVuSans-54\"/>\r\n       </defs>\r\n       <use xlink:href=\"#DejaVuSans-54\"/>\r\n      </g>\r\n     </g>\r\n    </g>\r\n    <g id=\"ytick_8\">\r\n     <g id=\"line2d_45\">\r\n      <g>\r\n       <use style=\"stroke:#000000;stroke-width:0.8;\" x=\"34.240625\" xlink:href=\"#m2829b12417\" y=\"51.977702\"/>\r\n      </g>\r\n     </g>\r\n     <g id=\"text_46\">\r\n      <!-- 7 -->\r\n      <g transform=\"translate(20.878125 55.77692)scale(0.1 -0.1)\">\r\n       <defs>\r\n        <path d=\"M 8.203125 72.90625 \r\nL 55.078125 72.90625 \r\nL 55.078125 68.703125 \r\nL 28.609375 0 \r\nL 18.3125 0 \r\nL 43.21875 64.59375 \r\nL 8.203125 64.59375 \r\nz\r\n\" id=\"DejaVuSans-55\"/>\r\n       </defs>\r\n       <use xlink:href=\"#DejaVuSans-55\"/>\r\n      </g>\r\n     </g>\r\n    </g>\r\n    <g id=\"text_47\">\r\n     <!-- TotalPrice -->\r\n     <g transform=\"translate(14.798438 259.112656)rotate(-90)scale(0.1 -0.1)\">\r\n      <defs>\r\n       <path d=\"M -0.296875 72.90625 \r\nL 61.375 72.90625 \r\nL 61.375 64.59375 \r\nL 35.5 64.59375 \r\nL 35.5 0 \r\nL 25.59375 0 \r\nL 25.59375 64.59375 \r\nL -0.296875 64.59375 \r\nz\r\n\" id=\"DejaVuSans-84\"/>\r\n      </defs>\r\n      <use xlink:href=\"#DejaVuSans-84\"/>\r\n      <use x=\"44.083984\" xlink:href=\"#DejaVuSans-111\"/>\r\n      <use x=\"105.265625\" xlink:href=\"#DejaVuSans-116\"/>\r\n      <use x=\"144.474609\" xlink:href=\"#DejaVuSans-97\"/>\r\n      <use x=\"205.753906\" xlink:href=\"#DejaVuSans-108\"/>\r\n      <use x=\"233.537109\" xlink:href=\"#DejaVuSans-80\"/>\r\n      <use x=\"292.089844\" xlink:href=\"#DejaVuSans-114\"/>\r\n      <use x=\"333.203125\" xlink:href=\"#DejaVuSans-105\"/>\r\n      <use x=\"360.986328\" xlink:href=\"#DejaVuSans-99\"/>\r\n      <use x=\"415.966797\" xlink:href=\"#DejaVuSans-101\"/>\r\n     </g>\r\n    </g>\r\n    <g id=\"text_48\">\r\n     <!-- 1e6 -->\r\n     <g transform=\"translate(34.240625 14.798437)scale(0.1 -0.1)\">\r\n      <use xlink:href=\"#DejaVuSans-49\"/>\r\n      <use x=\"63.623047\" xlink:href=\"#DejaVuSans-101\"/>\r\n      <use x=\"125.146484\" xlink:href=\"#DejaVuSans-54\"/>\r\n     </g>\r\n    </g>\r\n   </g>\r\n   <g id=\"line2d_46\">\r\n    <path clip-path=\"url(#p5a44f29618)\" d=\"M 43.289274 98.092081 \r\nL 43.289274 37.56571 \r\n\" style=\"fill:none;stroke:#424242;stroke-linecap:square;stroke-width:2.7;\"/>\r\n   </g>\r\n   <g id=\"line2d_47\">\r\n    <path clip-path=\"url(#p5a44f29618)\" d=\"M 61.386571 423.073671 \r\nL 61.386571 420.844943 \r\n\" style=\"fill:none;stroke:#424242;stroke-linecap:square;stroke-width:2.7;\"/>\r\n   </g>\r\n   <g id=\"line2d_48\">\r\n    <path clip-path=\"url(#p5a44f29618)\" d=\"M 79.483868 425.689255 \r\nL 79.483868 424.43785 \r\n\" style=\"fill:none;stroke:#424242;stroke-linecap:square;stroke-width:2.7;\"/>\r\n   </g>\r\n   <g id=\"line2d_49\">\r\n    <path clip-path=\"url(#p5a44f29618)\" d=\"M 97.581166 417.916381 \r\nL 97.581166 416.211759 \r\n\" style=\"fill:none;stroke:#424242;stroke-linecap:square;stroke-width:2.7;\"/>\r\n   </g>\r\n   <g id=\"line2d_50\">\r\n    <path clip-path=\"url(#p5a44f29618)\" d=\"M 115.678463 420.871376 \r\nL 115.678463 420.109623 \r\n\" style=\"fill:none;stroke:#424242;stroke-linecap:square;stroke-width:2.7;\"/>\r\n   </g>\r\n   <g id=\"line2d_51\">\r\n    <path clip-path=\"url(#p5a44f29618)\" d=\"M 133.77576 430.787443 \r\nL 133.77576 430.460837 \r\n\" style=\"fill:none;stroke:#424242;stroke-linecap:square;stroke-width:2.7;\"/>\r\n   </g>\r\n   <g id=\"line2d_52\">\r\n    <path clip-path=\"url(#p5a44f29618)\" d=\"M 151.873057 419.754147 \r\nL 151.873057 418.175787 \r\n\" style=\"fill:none;stroke:#424242;stroke-linecap:square;stroke-width:2.7;\"/>\r\n   </g>\r\n   <g id=\"line2d_53\">\r\n    <path clip-path=\"url(#p5a44f29618)\" d=\"M 169.970355 429.683154 \r\nL 169.970355 429.351617 \r\n\" style=\"fill:none;stroke:#424242;stroke-linecap:square;stroke-width:2.7;\"/>\r\n   </g>\r\n   <g id=\"line2d_54\">\r\n    <path clip-path=\"url(#p5a44f29618)\" d=\"M 188.067652 430.046033 \r\nL 188.067652 429.121497 \r\n\" style=\"fill:none;stroke:#424242;stroke-linecap:square;stroke-width:2.7;\"/>\r\n   </g>\r\n   <g id=\"line2d_55\">\r\n    <path clip-path=\"url(#p5a44f29618)\" d=\"M 206.164949 432.182609 \r\nL 206.164949 432.117784 \r\n\" style=\"fill:none;stroke:#424242;stroke-linecap:square;stroke-width:2.7;\"/>\r\n   </g>\r\n   <g id=\"line2d_56\">\r\n    <path clip-path=\"url(#p5a44f29618)\" d=\"M 224.262247 431.29366 \r\nL 224.262247 430.668828 \r\n\" style=\"fill:none;stroke:#424242;stroke-linecap:square;stroke-width:2.7;\"/>\r\n   </g>\r\n   <g id=\"line2d_57\">\r\n    <path clip-path=\"url(#p5a44f29618)\" d=\"M 242.359544 431.690334 \r\nL 242.359544 431.559344 \r\n\" style=\"fill:none;stroke:#424242;stroke-linecap:square;stroke-width:2.7;\"/>\r\n   </g>\r\n   <g id=\"line2d_58\">\r\n    <path clip-path=\"url(#p5a44f29618)\" d=\"M 260.456841 430.392055 \r\nL 260.456841 430.247591 \r\n\" style=\"fill:none;stroke:#424242;stroke-linecap:square;stroke-width:2.7;\"/>\r\n   </g>\r\n   <g id=\"line2d_59\">\r\n    <path clip-path=\"url(#p5a44f29618)\" d=\"M 278.554139 432.468319 \r\nL 278.554139 432.438642 \r\n\" style=\"fill:none;stroke:#424242;stroke-linecap:square;stroke-width:2.7;\"/>\r\n   </g>\r\n   <g id=\"line2d_60\">\r\n    <path clip-path=\"url(#p5a44f29618)\" d=\"M 296.651436 431.18929 \r\nL 296.651436 429.922658 \r\n\" style=\"fill:none;stroke:#424242;stroke-linecap:square;stroke-width:2.7;\"/>\r\n   </g>\r\n   <g id=\"line2d_61\">\r\n    <path clip-path=\"url(#p5a44f29618)\" d=\"M 314.748733 432.340734 \r\nL 314.748733 432.273947 \r\n\" style=\"fill:none;stroke:#424242;stroke-linecap:square;stroke-width:2.7;\"/>\r\n   </g>\r\n   <g id=\"line2d_62\">\r\n    <path clip-path=\"url(#p5a44f29618)\" d=\"M 332.84603 431.557315 \r\nL 332.84603 431.32421 \r\n\" style=\"fill:none;stroke:#424242;stroke-linecap:square;stroke-width:2.7;\"/>\r\n   </g>\r\n   <g id=\"line2d_63\">\r\n    <path clip-path=\"url(#p5a44f29618)\" d=\"M 350.943328 431.670403 \r\nL 350.943328 431.365104 \r\n\" style=\"fill:none;stroke:#424242;stroke-linecap:square;stroke-width:2.7;\"/>\r\n   </g>\r\n   <g id=\"line2d_64\">\r\n    <path clip-path=\"url(#p5a44f29618)\" d=\"M 369.040625 431.93719 \r\nL 369.040625 431.760157 \r\n\" style=\"fill:none;stroke:#424242;stroke-linecap:square;stroke-width:2.7;\"/>\r\n   </g>\r\n   <g id=\"line2d_65\">\r\n    <path clip-path=\"url(#p5a44f29618)\" d=\"M 387.137922 430.855759 \r\nL 387.137922 430.263435 \r\n\" style=\"fill:none;stroke:#424242;stroke-linecap:square;stroke-width:2.7;\"/>\r\n   </g>\r\n   <g id=\"line2d_66\">\r\n    <path clip-path=\"url(#p5a44f29618)\" d=\"M 405.23522 432.059307 \r\nL 405.23522 431.919852 \r\n\" style=\"fill:none;stroke:#424242;stroke-linecap:square;stroke-width:2.7;\"/>\r\n   </g>\r\n   <g id=\"line2d_67\">\r\n    <path clip-path=\"url(#p5a44f29618)\" d=\"M 423.332517 432.223736 \r\nL 423.332517 432.101243 \r\n\" style=\"fill:none;stroke:#424242;stroke-linecap:square;stroke-width:2.7;\"/>\r\n   </g>\r\n   <g id=\"line2d_68\">\r\n    <path clip-path=\"url(#p5a44f29618)\" d=\"M 441.429814 431.468652 \r\nL 441.429814 431.192492 \r\n\" style=\"fill:none;stroke:#424242;stroke-linecap:square;stroke-width:2.7;\"/>\r\n   </g>\r\n   <g id=\"line2d_69\">\r\n    <path clip-path=\"url(#p5a44f29618)\" d=\"M 459.527111 432.335762 \r\nL 459.527111 432.239861 \r\n\" style=\"fill:none;stroke:#424242;stroke-linecap:square;stroke-width:2.7;\"/>\r\n   </g>\r\n   <g id=\"line2d_70\">\r\n    <path clip-path=\"url(#p5a44f29618)\" d=\"M 477.624409 432.911165 \r\nL 477.624409 431.188211 \r\n\" style=\"fill:none;stroke:#424242;stroke-linecap:square;stroke-width:2.7;\"/>\r\n   </g>\r\n   <g id=\"line2d_71\">\r\n    <path clip-path=\"url(#p5a44f29618)\" d=\"M 495.721706 432.471736 \r\nL 495.721706 432.429014 \r\n\" style=\"fill:none;stroke:#424242;stroke-linecap:square;stroke-width:2.7;\"/>\r\n   </g>\r\n   <g id=\"line2d_72\">\r\n    <path clip-path=\"url(#p5a44f29618)\" d=\"M 513.819003 432.461379 \r\nL 513.819003 432.418333 \r\n\" style=\"fill:none;stroke:#424242;stroke-linecap:square;stroke-width:2.7;\"/>\r\n   </g>\r\n   <g id=\"line2d_73\">\r\n    <path clip-path=\"url(#p5a44f29618)\" d=\"M 531.916301 432.542037 \r\nL 531.916301 432.534797 \r\n\" style=\"fill:none;stroke:#424242;stroke-linecap:square;stroke-width:2.7;\"/>\r\n   </g>\r\n   <g id=\"line2d_74\">\r\n    <path clip-path=\"url(#p5a44f29618)\" d=\"M 550.013598 432.522366 \r\nL 550.013598 432.492008 \r\n\" style=\"fill:none;stroke:#424242;stroke-linecap:square;stroke-width:2.7;\"/>\r\n   </g>\r\n   <g id=\"line2d_75\">\r\n    <path clip-path=\"url(#p5a44f29618)\" d=\"M 568.110895 432.408044 \r\nL 568.110895 432.255198 \r\n\" style=\"fill:none;stroke:#424242;stroke-linecap:square;stroke-width:2.7;\"/>\r\n   </g>\r\n   <g id=\"line2d_76\">\r\n    <path clip-path=\"url(#p5a44f29618)\" d=\"M 586.208193 432.41735 \r\nL 586.208193 432.383738 \r\n\" style=\"fill:none;stroke:#424242;stroke-linecap:square;stroke-width:2.7;\"/>\r\n   </g>\r\n   <g id=\"line2d_77\">\r\n    <path clip-path=\"url(#p5a44f29618)\" d=\"M 604.30549 432.498923 \r\nL 604.30549 432.460952 \r\n\" style=\"fill:none;stroke:#424242;stroke-linecap:square;stroke-width:2.7;\"/>\r\n   </g>\r\n   <g id=\"line2d_78\">\r\n    <path clip-path=\"url(#p5a44f29618)\" d=\"M 622.402787 432.489482 \r\nL 622.402787 432.412645 \r\n\" style=\"fill:none;stroke:#424242;stroke-linecap:square;stroke-width:2.7;\"/>\r\n   </g>\r\n   <g id=\"line2d_79\">\r\n    <path clip-path=\"url(#p5a44f29618)\" d=\"M 640.500084 432.483499 \r\nL 640.500084 432.464072 \r\n\" style=\"fill:none;stroke:#424242;stroke-linecap:square;stroke-width:2.7;\"/>\r\n   </g>\r\n   <g id=\"line2d_80\">\r\n    <path clip-path=\"url(#p5a44f29618)\" d=\"M 658.597382 432.524383 \r\nL 658.597382 432.501447 \r\n\" style=\"fill:none;stroke:#424242;stroke-linecap:square;stroke-width:2.7;\"/>\r\n   </g>\r\n   <g id=\"line2d_81\">\r\n    <path clip-path=\"url(#p5a44f29618)\" d=\"M 676.694679 432.451178 \r\nL 676.694679 432.344911 \r\n\" style=\"fill:none;stroke:#424242;stroke-linecap:square;stroke-width:2.7;\"/>\r\n   </g>\r\n   <g id=\"line2d_82\">\r\n    <path clip-path=\"url(#p5a44f29618)\" d=\"M 694.791976 432.494956 \r\nL 694.791976 432.485642 \r\n\" style=\"fill:none;stroke:#424242;stroke-linecap:square;stroke-width:2.7;\"/>\r\n   </g>\r\n   <g id=\"patch_40\">\r\n    <path d=\"M 34.240625 452.678438 \r\nL 34.240625 17.798437 \r\n\" style=\"fill:none;stroke:#000000;stroke-linecap:square;stroke-linejoin:miter;stroke-width:0.8;\"/>\r\n   </g>\r\n   <g id=\"patch_41\">\r\n    <path d=\"M 703.840625 452.678438 \r\nL 703.840625 17.798437 \r\n\" style=\"fill:none;stroke:#000000;stroke-linecap:square;stroke-linejoin:miter;stroke-width:0.8;\"/>\r\n   </g>\r\n   <g id=\"patch_42\">\r\n    <path d=\"M 34.240625 452.678438 \r\nL 703.840625 452.678438 \r\n\" style=\"fill:none;stroke:#000000;stroke-linecap:square;stroke-linejoin:miter;stroke-width:0.8;\"/>\r\n   </g>\r\n   <g id=\"patch_43\">\r\n    <path d=\"M 34.240625 17.798437 \r\nL 703.840625 17.798437 \r\n\" style=\"fill:none;stroke:#000000;stroke-linecap:square;stroke-linejoin:miter;stroke-width:0.8;\"/>\r\n   </g>\r\n  </g>\r\n </g>\r\n <defs>\r\n  <clipPath id=\"p5a44f29618\">\r\n   <rect height=\"434.88\" width=\"669.6\" x=\"34.240625\" y=\"17.798437\"/>\r\n  </clipPath>\r\n </defs>\r\n</svg>\r\n",
            "image/png": "[encoded data removed]"
          },
          "metadata": {
            "needs_background": "light"
          }
        }
      ],
      "metadata": {
        "id": "5i0nVOggiqa8"
      }
    },
    {
      "cell_type": "markdown",
      "source": [
        "#### The UK not only has the most sales revenue, but also the most customers. Since the majority of this data set contains orders from the UK, we can explore the UK market further by finding out what products the customers buy together and any other buying behaviors to improve our sales and targeting strategy."
      ],
      "metadata": {
        "id": "hwfJuBVCQGWR"
      }
    },
    {
      "cell_type": "code",
      "execution_count": 48,
      "source": [
        "df.Country.unique()"
      ],
      "outputs": [
        {
          "output_type": "execute_result",
          "data": {
            "text/plain": [
              "array(['United Kingdom', 'France', 'Australia', 'Netherlands', 'Germany',\n",
              "       'Norway', 'EIRE', 'Switzerland', 'Spain', 'Poland', 'Portugal',\n",
              "       'Italy', 'Belgium', 'Lithuania', 'Japan', 'Iceland',\n",
              "       'Channel Islands', 'Denmark', 'Cyprus', 'Sweden', 'Austria',\n",
              "       'Israel', 'Finland', 'Greece', 'Singapore', 'Lebanon',\n",
              "       'United Arab Emirates', 'Saudi Arabia', 'Czech Republic', 'Canada',\n",
              "       'Unspecified', 'Brazil', 'USA', 'European Community', 'Bahrain',\n",
              "       'Malta', 'RSA'], dtype=object)"
            ]
          },
          "metadata": {},
          "execution_count": 48
        }
      ],
      "metadata": {
        "id": "LlyhW9eXiqa9"
      }
    },
    {
      "cell_type": "code",
      "execution_count": 49,
      "source": [
        "df[df.Country == \"United Kingdom\"]"
      ],
      "outputs": [
        {
          "output_type": "execute_result",
          "data": {
            "text/plain": [
              "       InvoiceNo StockCode                          Description  Quantity  \\\n",
              "0         536365    85123A   WHITE HANGING HEART T-LIGHT HOLDER         6   \n",
              "1         536365     71053                  WHITE METAL LANTERN         6   \n",
              "2         536365    84406B       CREAM CUPID HEARTS COAT HANGER         8   \n",
              "3         536365    84029G  KNITTED UNION FLAG HOT WATER BOTTLE         6   \n",
              "4         536365    84029E       RED WOOLLY HOTTIE WHITE HEART.         6   \n",
              "...          ...       ...                                  ...       ...   \n",
              "541889    581585     22466       FAIRY TALE COTTAGE NIGHT LIGHT        12   \n",
              "541890    581586     22061  LARGE CAKE STAND  HANGING STRAWBERY         8   \n",
              "541891    581586     23275     SET OF 3 HANGING OWLS OLLIE BEAK        24   \n",
              "541892    581586     21217        RED RETROSPOT ROUND CAKE TINS        24   \n",
              "541893    581586     20685                DOORMAT RED RETROSPOT        10   \n",
              "\n",
              "               InvoiceDate  UnitPrice  CustomerID         Country  TotalPrice  \n",
              "0      2010-12-01 08:26:00       2.55       17850  United Kingdom       15.30  \n",
              "1      2010-12-01 08:26:00       3.39       17850  United Kingdom       20.34  \n",
              "2      2010-12-01 08:26:00       2.75       17850  United Kingdom       22.00  \n",
              "3      2010-12-01 08:26:00       3.39       17850  United Kingdom       20.34  \n",
              "4      2010-12-01 08:26:00       3.39       17850  United Kingdom       20.34  \n",
              "...                    ...        ...         ...             ...         ...  \n",
              "541889 2011-12-09 12:31:00       1.95       15804  United Kingdom       23.40  \n",
              "541890 2011-12-09 12:49:00       2.95       13113  United Kingdom       23.60  \n",
              "541891 2011-12-09 12:49:00       1.25       13113  United Kingdom       30.00  \n",
              "541892 2011-12-09 12:49:00       8.95       13113  United Kingdom      214.80  \n",
              "541893 2011-12-09 12:49:00       7.08       13113  United Kingdom       70.80  \n",
              "\n",
              "[356728 rows x 9 columns]"
            ],
            "text/html": [
              "<div>\n",
              "<style scoped>\n",
              "    .dataframe tbody tr th:only-of-type {\n",
              "        vertical-align: middle;\n",
              "    }\n",
              "\n",
              "    .dataframe tbody tr th {\n",
              "        vertical-align: top;\n",
              "    }\n",
              "\n",
              "    .dataframe thead th {\n",
              "        text-align: right;\n",
              "    }\n",
              "</style>\n",
              "<table border=\"1\" class=\"dataframe\">\n",
              "  <thead>\n",
              "    <tr style=\"text-align: right;\">\n",
              "      <th></th>\n",
              "      <th>InvoiceNo</th>\n",
              "      <th>StockCode</th>\n",
              "      <th>Description</th>\n",
              "      <th>Quantity</th>\n",
              "      <th>InvoiceDate</th>\n",
              "      <th>UnitPrice</th>\n",
              "      <th>CustomerID</th>\n",
              "      <th>Country</th>\n",
              "      <th>TotalPrice</th>\n",
              "    </tr>\n",
              "  </thead>\n",
              "  <tbody>\n",
              "    <tr>\n",
              "      <th>0</th>\n",
              "      <td>536365</td>\n",
              "      <td>85123A</td>\n",
              "      <td>WHITE HANGING HEART T-LIGHT HOLDER</td>\n",
              "      <td>6</td>\n",
              "      <td>2010-12-01 08:26:00</td>\n",
              "      <td>2.55</td>\n",
              "      <td>17850</td>\n",
              "      <td>United Kingdom</td>\n",
              "      <td>15.30</td>\n",
              "    </tr>\n",
              "    <tr>\n",
              "      <th>1</th>\n",
              "      <td>536365</td>\n",
              "      <td>71053</td>\n",
              "      <td>WHITE METAL LANTERN</td>\n",
              "      <td>6</td>\n",
              "      <td>2010-12-01 08:26:00</td>\n",
              "      <td>3.39</td>\n",
              "      <td>17850</td>\n",
              "      <td>United Kingdom</td>\n",
              "      <td>20.34</td>\n",
              "    </tr>\n",
              "    <tr>\n",
              "      <th>2</th>\n",
              "      <td>536365</td>\n",
              "      <td>84406B</td>\n",
              "      <td>CREAM CUPID HEARTS COAT HANGER</td>\n",
              "      <td>8</td>\n",
              "      <td>2010-12-01 08:26:00</td>\n",
              "      <td>2.75</td>\n",
              "      <td>17850</td>\n",
              "      <td>United Kingdom</td>\n",
              "      <td>22.00</td>\n",
              "    </tr>\n",
              "    <tr>\n",
              "      <th>3</th>\n",
              "      <td>536365</td>\n",
              "      <td>84029G</td>\n",
              "      <td>KNITTED UNION FLAG HOT WATER BOTTLE</td>\n",
              "      <td>6</td>\n",
              "      <td>2010-12-01 08:26:00</td>\n",
              "      <td>3.39</td>\n",
              "      <td>17850</td>\n",
              "      <td>United Kingdom</td>\n",
              "      <td>20.34</td>\n",
              "    </tr>\n",
              "    <tr>\n",
              "      <th>4</th>\n",
              "      <td>536365</td>\n",
              "      <td>84029E</td>\n",
              "      <td>RED WOOLLY HOTTIE WHITE HEART.</td>\n",
              "      <td>6</td>\n",
              "      <td>2010-12-01 08:26:00</td>\n",
              "      <td>3.39</td>\n",
              "      <td>17850</td>\n",
              "      <td>United Kingdom</td>\n",
              "      <td>20.34</td>\n",
              "    </tr>\n",
              "    <tr>\n",
              "      <th>...</th>\n",
              "      <td>...</td>\n",
              "      <td>...</td>\n",
              "      <td>...</td>\n",
              "      <td>...</td>\n",
              "      <td>...</td>\n",
              "      <td>...</td>\n",
              "      <td>...</td>\n",
              "      <td>...</td>\n",
              "      <td>...</td>\n",
              "    </tr>\n",
              "    <tr>\n",
              "      <th>541889</th>\n",
              "      <td>581585</td>\n",
              "      <td>22466</td>\n",
              "      <td>FAIRY TALE COTTAGE NIGHT LIGHT</td>\n",
              "      <td>12</td>\n",
              "      <td>2011-12-09 12:31:00</td>\n",
              "      <td>1.95</td>\n",
              "      <td>15804</td>\n",
              "      <td>United Kingdom</td>\n",
              "      <td>23.40</td>\n",
              "    </tr>\n",
              "    <tr>\n",
              "      <th>541890</th>\n",
              "      <td>581586</td>\n",
              "      <td>22061</td>\n",
              "      <td>LARGE CAKE STAND  HANGING STRAWBERY</td>\n",
              "      <td>8</td>\n",
              "      <td>2011-12-09 12:49:00</td>\n",
              "      <td>2.95</td>\n",
              "      <td>13113</td>\n",
              "      <td>United Kingdom</td>\n",
              "      <td>23.60</td>\n",
              "    </tr>\n",
              "    <tr>\n",
              "      <th>541891</th>\n",
              "      <td>581586</td>\n",
              "      <td>23275</td>\n",
              "      <td>SET OF 3 HANGING OWLS OLLIE BEAK</td>\n",
              "      <td>24</td>\n",
              "      <td>2011-12-09 12:49:00</td>\n",
              "      <td>1.25</td>\n",
              "      <td>13113</td>\n",
              "      <td>United Kingdom</td>\n",
              "      <td>30.00</td>\n",
              "    </tr>\n",
              "    <tr>\n",
              "      <th>541892</th>\n",
              "      <td>581586</td>\n",
              "      <td>21217</td>\n",
              "      <td>RED RETROSPOT ROUND CAKE TINS</td>\n",
              "      <td>24</td>\n",
              "      <td>2011-12-09 12:49:00</td>\n",
              "      <td>8.95</td>\n",
              "      <td>13113</td>\n",
              "      <td>United Kingdom</td>\n",
              "      <td>214.80</td>\n",
              "    </tr>\n",
              "    <tr>\n",
              "      <th>541893</th>\n",
              "      <td>581586</td>\n",
              "      <td>20685</td>\n",
              "      <td>DOORMAT RED RETROSPOT</td>\n",
              "      <td>10</td>\n",
              "      <td>2011-12-09 12:49:00</td>\n",
              "      <td>7.08</td>\n",
              "      <td>13113</td>\n",
              "      <td>United Kingdom</td>\n",
              "      <td>70.80</td>\n",
              "    </tr>\n",
              "  </tbody>\n",
              "</table>\n",
              "<p>356728 rows × 9 columns</p>\n",
              "</div>"
            ]
          },
          "metadata": {},
          "execution_count": 49
        }
      ],
      "metadata": {}
    },
    {
      "cell_type": "code",
      "execution_count": 50,
      "source": [
        "# df[df.Country == \"United Kingdom\"].isnull().sum()"
      ],
      "outputs": [],
      "metadata": {}
    },
    {
      "cell_type": "markdown",
      "source": [
        "### vii. Explore the UK Market\n"
      ],
      "metadata": {
        "id": "7A25nnqIQGWR"
      }
    },
    {
      "cell_type": "markdown",
      "source": [
        "1. Create df_uk DataFrame"
      ],
      "metadata": {
        "id": "wtWchB1Ziqa9"
      }
    },
    {
      "cell_type": "code",
      "execution_count": 51,
      "source": [
        "df_uk = df[df.Country == \"United Kingdom\"]\r\n",
        "df_uk.head()"
      ],
      "outputs": [
        {
          "output_type": "execute_result",
          "data": {
            "text/plain": [
              "  InvoiceNo StockCode                          Description  Quantity  \\\n",
              "0    536365    85123A   WHITE HANGING HEART T-LIGHT HOLDER         6   \n",
              "1    536365     71053                  WHITE METAL LANTERN         6   \n",
              "2    536365    84406B       CREAM CUPID HEARTS COAT HANGER         8   \n",
              "3    536365    84029G  KNITTED UNION FLAG HOT WATER BOTTLE         6   \n",
              "4    536365    84029E       RED WOOLLY HOTTIE WHITE HEART.         6   \n",
              "\n",
              "          InvoiceDate  UnitPrice  CustomerID         Country  TotalPrice  \n",
              "0 2010-12-01 08:26:00       2.55       17850  United Kingdom       15.30  \n",
              "1 2010-12-01 08:26:00       3.39       17850  United Kingdom       20.34  \n",
              "2 2010-12-01 08:26:00       2.75       17850  United Kingdom       22.00  \n",
              "3 2010-12-01 08:26:00       3.39       17850  United Kingdom       20.34  \n",
              "4 2010-12-01 08:26:00       3.39       17850  United Kingdom       20.34  "
            ],
            "text/html": [
              "<div>\n",
              "<style scoped>\n",
              "    .dataframe tbody tr th:only-of-type {\n",
              "        vertical-align: middle;\n",
              "    }\n",
              "\n",
              "    .dataframe tbody tr th {\n",
              "        vertical-align: top;\n",
              "    }\n",
              "\n",
              "    .dataframe thead th {\n",
              "        text-align: right;\n",
              "    }\n",
              "</style>\n",
              "<table border=\"1\" class=\"dataframe\">\n",
              "  <thead>\n",
              "    <tr style=\"text-align: right;\">\n",
              "      <th></th>\n",
              "      <th>InvoiceNo</th>\n",
              "      <th>StockCode</th>\n",
              "      <th>Description</th>\n",
              "      <th>Quantity</th>\n",
              "      <th>InvoiceDate</th>\n",
              "      <th>UnitPrice</th>\n",
              "      <th>CustomerID</th>\n",
              "      <th>Country</th>\n",
              "      <th>TotalPrice</th>\n",
              "    </tr>\n",
              "  </thead>\n",
              "  <tbody>\n",
              "    <tr>\n",
              "      <th>0</th>\n",
              "      <td>536365</td>\n",
              "      <td>85123A</td>\n",
              "      <td>WHITE HANGING HEART T-LIGHT HOLDER</td>\n",
              "      <td>6</td>\n",
              "      <td>2010-12-01 08:26:00</td>\n",
              "      <td>2.55</td>\n",
              "      <td>17850</td>\n",
              "      <td>United Kingdom</td>\n",
              "      <td>15.30</td>\n",
              "    </tr>\n",
              "    <tr>\n",
              "      <th>1</th>\n",
              "      <td>536365</td>\n",
              "      <td>71053</td>\n",
              "      <td>WHITE METAL LANTERN</td>\n",
              "      <td>6</td>\n",
              "      <td>2010-12-01 08:26:00</td>\n",
              "      <td>3.39</td>\n",
              "      <td>17850</td>\n",
              "      <td>United Kingdom</td>\n",
              "      <td>20.34</td>\n",
              "    </tr>\n",
              "    <tr>\n",
              "      <th>2</th>\n",
              "      <td>536365</td>\n",
              "      <td>84406B</td>\n",
              "      <td>CREAM CUPID HEARTS COAT HANGER</td>\n",
              "      <td>8</td>\n",
              "      <td>2010-12-01 08:26:00</td>\n",
              "      <td>2.75</td>\n",
              "      <td>17850</td>\n",
              "      <td>United Kingdom</td>\n",
              "      <td>22.00</td>\n",
              "    </tr>\n",
              "    <tr>\n",
              "      <th>3</th>\n",
              "      <td>536365</td>\n",
              "      <td>84029G</td>\n",
              "      <td>KNITTED UNION FLAG HOT WATER BOTTLE</td>\n",
              "      <td>6</td>\n",
              "      <td>2010-12-01 08:26:00</td>\n",
              "      <td>3.39</td>\n",
              "      <td>17850</td>\n",
              "      <td>United Kingdom</td>\n",
              "      <td>20.34</td>\n",
              "    </tr>\n",
              "    <tr>\n",
              "      <th>4</th>\n",
              "      <td>536365</td>\n",
              "      <td>84029E</td>\n",
              "      <td>RED WOOLLY HOTTIE WHITE HEART.</td>\n",
              "      <td>6</td>\n",
              "      <td>2010-12-01 08:26:00</td>\n",
              "      <td>3.39</td>\n",
              "      <td>17850</td>\n",
              "      <td>United Kingdom</td>\n",
              "      <td>20.34</td>\n",
              "    </tr>\n",
              "  </tbody>\n",
              "</table>\n",
              "</div>"
            ]
          },
          "metadata": {},
          "execution_count": 51
        }
      ],
      "metadata": {
        "id": "dsdH3cuZiqa9"
      }
    },
    {
      "cell_type": "markdown",
      "source": [
        "2. What are the most popular products that are bought in the UK?"
      ],
      "metadata": {
        "id": "is5kus2bQGWT"
      }
    },
    {
      "cell_type": "code",
      "execution_count": 52,
      "source": [
        "df_uk.Description.value_counts().sort_values(ascending=False)"
      ],
      "outputs": [
        {
          "output_type": "execute_result",
          "data": {
            "text/plain": [
              "WHITE HANGING HEART T-LIGHT HOLDER    1969\n",
              "REGENCY CAKESTAND 3 TIER              1564\n",
              "JUMBO BAG RED RETROSPOT               1502\n",
              "ASSORTED COLOUR BIRD ORNAMENT         1330\n",
              "PARTY BUNTING                         1320\n",
              "                                      ... \n",
              "FLAMINGO LIGHTS                          1\n",
              "LADLE LOVE HEART RED                     1\n",
              "DIAMANTE NECKLACE BLACK                  1\n",
              "SET/6 IVORY BIRD T-LIGHT CANDLES         1\n",
              "VINTAGE BLUE TINSEL REEL                 1\n",
              "Name: Description, Length: 3860, dtype: int64"
            ]
          },
          "metadata": {},
          "execution_count": 52
        }
      ],
      "metadata": {
        "id": "sCN56amLiqa9"
      }
    },
    {
      "cell_type": "code",
      "execution_count": 53,
      "source": [
        "df_uk.Description.nunique()"
      ],
      "outputs": [
        {
          "output_type": "execute_result",
          "data": {
            "text/plain": [
              "3860"
            ]
          },
          "metadata": {},
          "execution_count": 53
        }
      ],
      "metadata": {}
    },
    {
      "cell_type": "markdown",
      "source": [
        "### We will continue analyzing the UK transactions with customer segmentation."
      ],
      "metadata": {
        "id": "LHbqJD7bQGWU"
      }
    },
    {
      "cell_type": "markdown",
      "source": [
        "# 2. RFM Analysis"
      ],
      "metadata": {
        "id": "MAtzWvugQGWV"
      }
    },
    {
      "cell_type": "markdown",
      "source": [
        "In the age of the internet and e-commerce, companies that do not expand their businesses online or utilize digital tools to reach their customers will run into issues like scalability and a lack of digital precsence. An important marketing strategy e-commerce businesses use for analyzing and predicting customer value is customer segmentation. Customer data is used to sort customers into group based on their behaviors and preferences.\n",
        "\n",
        "**[RFM](https://www.putler.com/rfm-analysis/) (Recency, Frequency, Monetary) Analysis** is a customer segmentation technique for analyzing customer value based on past buying behavior. RFM analysis was first used by the direct mail industry more than four decades ago, yet it is still an effective way to optimize your marketing.\n",
        "<br>\n",
        "<br>\n",
        "Our goal in this Notebook is to cluster the customers in our data set to:\n",
        " - Recognize who are our most valuable customers\n",
        " - Increase revenue\n",
        " - Increase customer retention\n",
        " - Learn more about the trends and behaviors of our customers\n",
        " - Define customers that are at risk\n",
        "\n",
        "We will start with **RFM Analysis** and then compliment our findings with predictive analysis using **K-Means Clustering Algorithms.**\n",
        "\n",
        "- RECENCY (R): Time since last purchase\n",
        "- FREQUENCY (F): Total number of purchases\n",
        "- MONETARY VALUE (M): Total monetary value\n",
        "\n",
        "\n",
        "\n",
        "\n",
        "Benefits of RFM Analysis\n",
        "\n",
        "- Increased customer retention\n",
        "- Increased response rate\n",
        "- Increased conversion rate\n",
        "- Increased revenue\n",
        "\n",
        "RFM Analysis answers the following questions:\n",
        " - Who are our best customers?\n",
        " - Who has the potential to be converted into more profitable customers?\n",
        " - Which customers do we need to retain?\n",
        " - Which group of customers is most likely to respond to our marketing campaign?\n",
        " "
      ],
      "metadata": {
        "id": "v5uUAUQpQGWV"
      }
    },
    {
      "cell_type": "markdown",
      "source": [
        "### i. Import Libraries"
      ],
      "metadata": {
        "id": "zX47_J8OQGWV"
      }
    },
    {
      "cell_type": "code",
      "execution_count": 54,
      "source": [
        "import datetime as dt"
      ],
      "outputs": [],
      "metadata": {
        "id": "MOD15BxHiqa-"
      }
    },
    {
      "cell_type": "markdown",
      "source": [
        "### ii. Review df_uk DataFrame"
      ],
      "metadata": {
        "id": "9rYM4MJsQGWW"
      }
    },
    {
      "cell_type": "code",
      "execution_count": 55,
      "source": [
        "df_uk.head()"
      ],
      "outputs": [
        {
          "output_type": "execute_result",
          "data": {
            "text/plain": [
              "  InvoiceNo StockCode                          Description  Quantity  \\\n",
              "0    536365    85123A   WHITE HANGING HEART T-LIGHT HOLDER         6   \n",
              "1    536365     71053                  WHITE METAL LANTERN         6   \n",
              "2    536365    84406B       CREAM CUPID HEARTS COAT HANGER         8   \n",
              "3    536365    84029G  KNITTED UNION FLAG HOT WATER BOTTLE         6   \n",
              "4    536365    84029E       RED WOOLLY HOTTIE WHITE HEART.         6   \n",
              "\n",
              "          InvoiceDate  UnitPrice  CustomerID         Country  TotalPrice  \n",
              "0 2010-12-01 08:26:00       2.55       17850  United Kingdom       15.30  \n",
              "1 2010-12-01 08:26:00       3.39       17850  United Kingdom       20.34  \n",
              "2 2010-12-01 08:26:00       2.75       17850  United Kingdom       22.00  \n",
              "3 2010-12-01 08:26:00       3.39       17850  United Kingdom       20.34  \n",
              "4 2010-12-01 08:26:00       3.39       17850  United Kingdom       20.34  "
            ],
            "text/html": [
              "<div>\n",
              "<style scoped>\n",
              "    .dataframe tbody tr th:only-of-type {\n",
              "        vertical-align: middle;\n",
              "    }\n",
              "\n",
              "    .dataframe tbody tr th {\n",
              "        vertical-align: top;\n",
              "    }\n",
              "\n",
              "    .dataframe thead th {\n",
              "        text-align: right;\n",
              "    }\n",
              "</style>\n",
              "<table border=\"1\" class=\"dataframe\">\n",
              "  <thead>\n",
              "    <tr style=\"text-align: right;\">\n",
              "      <th></th>\n",
              "      <th>InvoiceNo</th>\n",
              "      <th>StockCode</th>\n",
              "      <th>Description</th>\n",
              "      <th>Quantity</th>\n",
              "      <th>InvoiceDate</th>\n",
              "      <th>UnitPrice</th>\n",
              "      <th>CustomerID</th>\n",
              "      <th>Country</th>\n",
              "      <th>TotalPrice</th>\n",
              "    </tr>\n",
              "  </thead>\n",
              "  <tbody>\n",
              "    <tr>\n",
              "      <th>0</th>\n",
              "      <td>536365</td>\n",
              "      <td>85123A</td>\n",
              "      <td>WHITE HANGING HEART T-LIGHT HOLDER</td>\n",
              "      <td>6</td>\n",
              "      <td>2010-12-01 08:26:00</td>\n",
              "      <td>2.55</td>\n",
              "      <td>17850</td>\n",
              "      <td>United Kingdom</td>\n",
              "      <td>15.30</td>\n",
              "    </tr>\n",
              "    <tr>\n",
              "      <th>1</th>\n",
              "      <td>536365</td>\n",
              "      <td>71053</td>\n",
              "      <td>WHITE METAL LANTERN</td>\n",
              "      <td>6</td>\n",
              "      <td>2010-12-01 08:26:00</td>\n",
              "      <td>3.39</td>\n",
              "      <td>17850</td>\n",
              "      <td>United Kingdom</td>\n",
              "      <td>20.34</td>\n",
              "    </tr>\n",
              "    <tr>\n",
              "      <th>2</th>\n",
              "      <td>536365</td>\n",
              "      <td>84406B</td>\n",
              "      <td>CREAM CUPID HEARTS COAT HANGER</td>\n",
              "      <td>8</td>\n",
              "      <td>2010-12-01 08:26:00</td>\n",
              "      <td>2.75</td>\n",
              "      <td>17850</td>\n",
              "      <td>United Kingdom</td>\n",
              "      <td>22.00</td>\n",
              "    </tr>\n",
              "    <tr>\n",
              "      <th>3</th>\n",
              "      <td>536365</td>\n",
              "      <td>84029G</td>\n",
              "      <td>KNITTED UNION FLAG HOT WATER BOTTLE</td>\n",
              "      <td>6</td>\n",
              "      <td>2010-12-01 08:26:00</td>\n",
              "      <td>3.39</td>\n",
              "      <td>17850</td>\n",
              "      <td>United Kingdom</td>\n",
              "      <td>20.34</td>\n",
              "    </tr>\n",
              "    <tr>\n",
              "      <th>4</th>\n",
              "      <td>536365</td>\n",
              "      <td>84029E</td>\n",
              "      <td>RED WOOLLY HOTTIE WHITE HEART.</td>\n",
              "      <td>6</td>\n",
              "      <td>2010-12-01 08:26:00</td>\n",
              "      <td>3.39</td>\n",
              "      <td>17850</td>\n",
              "      <td>United Kingdom</td>\n",
              "      <td>20.34</td>\n",
              "    </tr>\n",
              "  </tbody>\n",
              "</table>\n",
              "</div>"
            ]
          },
          "metadata": {},
          "execution_count": 55
        }
      ],
      "metadata": {
        "id": "oQHyAJNeiqa-"
      }
    },
    {
      "cell_type": "code",
      "execution_count": 56,
      "source": [
        "df_uk.info()"
      ],
      "outputs": [
        {
          "output_type": "stream",
          "name": "stdout",
          "text": [
            "<class 'pandas.core.frame.DataFrame'>\n",
            "Int64Index: 356728 entries, 0 to 541893\n",
            "Data columns (total 9 columns):\n",
            " #   Column       Non-Null Count   Dtype         \n",
            "---  ------       --------------   -----         \n",
            " 0   InvoiceNo    356728 non-null  object        \n",
            " 1   StockCode    356728 non-null  object        \n",
            " 2   Description  356728 non-null  object        \n",
            " 3   Quantity     356728 non-null  int64         \n",
            " 4   InvoiceDate  356728 non-null  datetime64[ns]\n",
            " 5   UnitPrice    356728 non-null  float64       \n",
            " 6   CustomerID   356728 non-null  int64         \n",
            " 7   Country      356728 non-null  object        \n",
            " 8   TotalPrice   356728 non-null  float64       \n",
            "dtypes: datetime64[ns](1), float64(2), int64(2), object(4)\n",
            "memory usage: 27.2+ MB\n"
          ]
        }
      ],
      "metadata": {}
    },
    {
      "cell_type": "code",
      "execution_count": 57,
      "source": [
        "df_uk[df_uk.UnitPrice < 0]"
      ],
      "outputs": [
        {
          "output_type": "execute_result",
          "data": {
            "text/plain": [
              "Empty DataFrame\n",
              "Columns: [InvoiceNo, StockCode, Description, Quantity, InvoiceDate, UnitPrice, CustomerID, Country, TotalPrice]\n",
              "Index: []"
            ],
            "text/html": [
              "<div>\n",
              "<style scoped>\n",
              "    .dataframe tbody tr th:only-of-type {\n",
              "        vertical-align: middle;\n",
              "    }\n",
              "\n",
              "    .dataframe tbody tr th {\n",
              "        vertical-align: top;\n",
              "    }\n",
              "\n",
              "    .dataframe thead th {\n",
              "        text-align: right;\n",
              "    }\n",
              "</style>\n",
              "<table border=\"1\" class=\"dataframe\">\n",
              "  <thead>\n",
              "    <tr style=\"text-align: right;\">\n",
              "      <th></th>\n",
              "      <th>InvoiceNo</th>\n",
              "      <th>StockCode</th>\n",
              "      <th>Description</th>\n",
              "      <th>Quantity</th>\n",
              "      <th>InvoiceDate</th>\n",
              "      <th>UnitPrice</th>\n",
              "      <th>CustomerID</th>\n",
              "      <th>Country</th>\n",
              "      <th>TotalPrice</th>\n",
              "    </tr>\n",
              "  </thead>\n",
              "  <tbody>\n",
              "  </tbody>\n",
              "</table>\n",
              "</div>"
            ]
          },
          "metadata": {},
          "execution_count": 57
        }
      ],
      "metadata": {}
    },
    {
      "cell_type": "code",
      "execution_count": 58,
      "source": [
        "df_uk[df_uk.UnitPrice == 0.0]"
      ],
      "outputs": [
        {
          "output_type": "execute_result",
          "data": {
            "text/plain": [
              "       InvoiceNo StockCode                          Description  Quantity  \\\n",
              "33576     539263     22580         ADVENT CALENDAR GINGHAM SACK         4   \n",
              "47068     540372     22090              PAPER BUNTING RETROSPOT        24   \n",
              "47070     540372     22553               PLASTERS IN TIN SKULLS        24   \n",
              "56674     541109     22168        ORGANISER WOOD ANTIQUE WHITE          1   \n",
              "86789     543599    84535B         FAIRY CAKES NOTEBOOK A6 SIZE        16   \n",
              "130188    547417     22062  CERAMIC BOWL WITH LOVE HEART DESIGN        36   \n",
              "139453    548318     22055   MINI CAKE STAND  HANGING STRAWBERY         5   \n",
              "145208    548871     22162          HEART GARLAND RUSTIC PADDED         2   \n",
              "187613    553000     47566                        PARTY BUNTING         4   \n",
              "279324    561284     22167           OVAL WALL MIRROR DIAMANTE          1   \n",
              "285657    561916         M                               Manual         1   \n",
              "358655    568158      PADS           PADS TO MATCH ALL CUSHIONS         1   \n",
              "361825    568384         M                               Manual         1   \n",
              "379913    569716     22778                   GLASS CLOCHE SMALL         2   \n",
              "420404    572893     21208          PASTEL COLOUR HONEYCOMB FAN         5   \n",
              "436597    574175     22065       CHRISTMAS PUDDING TRINKET POT         12   \n",
              "446125    574879     22625                   RED KITCHEN SCALES         2   \n",
              "446793    574920     22899         CHILDREN'S APRON DOLLY GIRL          1   \n",
              "446794    574920     23480       MINI LIGHTS WOODLAND MUSHROOMS         1   \n",
              "454463    575579     22437        SET OF 9 BLACK SKULL BALLOONS        20   \n",
              "454464    575579     22089        PAPER BUNTING VINTAGE PAISLEY        24   \n",
              "479079    577129     22464          HANGING METAL HEART LANTERN         4   \n",
              "485985    577696         M                               Manual         1   \n",
              "502122    578841     84826       ASSTD DESIGN 3D PAPER STICKERS     12540   \n",
              "\n",
              "               InvoiceDate  UnitPrice  CustomerID         Country  TotalPrice  \n",
              "33576  2010-12-16 14:36:00        0.0       16560  United Kingdom         0.0  \n",
              "47068  2011-01-06 16:41:00        0.0       13081  United Kingdom         0.0  \n",
              "47070  2011-01-06 16:41:00        0.0       13081  United Kingdom         0.0  \n",
              "56674  2011-01-13 15:10:00        0.0       15107  United Kingdom         0.0  \n",
              "86789  2011-02-10 13:08:00        0.0       17560  United Kingdom         0.0  \n",
              "130188 2011-03-23 10:25:00        0.0       13239  United Kingdom         0.0  \n",
              "139453 2011-03-30 12:45:00        0.0       13113  United Kingdom         0.0  \n",
              "145208 2011-04-04 14:42:00        0.0       14410  United Kingdom         0.0  \n",
              "187613 2011-05-12 15:21:00        0.0       17667  United Kingdom         0.0  \n",
              "279324 2011-07-26 12:24:00        0.0       16818  United Kingdom         0.0  \n",
              "285657 2011-08-01 11:44:00        0.0       15581  United Kingdom         0.0  \n",
              "358655 2011-09-25 12:22:00        0.0       16133  United Kingdom         0.0  \n",
              "361825 2011-09-27 09:46:00        0.0       12748  United Kingdom         0.0  \n",
              "379913 2011-10-06 08:17:00        0.0       15804  United Kingdom         0.0  \n",
              "420404 2011-10-26 14:36:00        0.0       18059  United Kingdom         0.0  \n",
              "436597 2011-11-03 11:47:00        0.0       14110  United Kingdom         0.0  \n",
              "446125 2011-11-07 13:22:00        0.0       13014  United Kingdom         0.0  \n",
              "446793 2011-11-07 16:34:00        0.0       13985  United Kingdom         0.0  \n",
              "446794 2011-11-07 16:34:00        0.0       13985  United Kingdom         0.0  \n",
              "454463 2011-11-10 11:49:00        0.0       13081  United Kingdom         0.0  \n",
              "454464 2011-11-10 11:49:00        0.0       13081  United Kingdom         0.0  \n",
              "479079 2011-11-17 19:52:00        0.0       15602  United Kingdom         0.0  \n",
              "485985 2011-11-21 11:57:00        0.0       16406  United Kingdom         0.0  \n",
              "502122 2011-11-25 15:57:00        0.0       13256  United Kingdom         0.0  "
            ],
            "text/html": [
              "<div>\n",
              "<style scoped>\n",
              "    .dataframe tbody tr th:only-of-type {\n",
              "        vertical-align: middle;\n",
              "    }\n",
              "\n",
              "    .dataframe tbody tr th {\n",
              "        vertical-align: top;\n",
              "    }\n",
              "\n",
              "    .dataframe thead th {\n",
              "        text-align: right;\n",
              "    }\n",
              "</style>\n",
              "<table border=\"1\" class=\"dataframe\">\n",
              "  <thead>\n",
              "    <tr style=\"text-align: right;\">\n",
              "      <th></th>\n",
              "      <th>InvoiceNo</th>\n",
              "      <th>StockCode</th>\n",
              "      <th>Description</th>\n",
              "      <th>Quantity</th>\n",
              "      <th>InvoiceDate</th>\n",
              "      <th>UnitPrice</th>\n",
              "      <th>CustomerID</th>\n",
              "      <th>Country</th>\n",
              "      <th>TotalPrice</th>\n",
              "    </tr>\n",
              "  </thead>\n",
              "  <tbody>\n",
              "    <tr>\n",
              "      <th>33576</th>\n",
              "      <td>539263</td>\n",
              "      <td>22580</td>\n",
              "      <td>ADVENT CALENDAR GINGHAM SACK</td>\n",
              "      <td>4</td>\n",
              "      <td>2010-12-16 14:36:00</td>\n",
              "      <td>0.0</td>\n",
              "      <td>16560</td>\n",
              "      <td>United Kingdom</td>\n",
              "      <td>0.0</td>\n",
              "    </tr>\n",
              "    <tr>\n",
              "      <th>47068</th>\n",
              "      <td>540372</td>\n",
              "      <td>22090</td>\n",
              "      <td>PAPER BUNTING RETROSPOT</td>\n",
              "      <td>24</td>\n",
              "      <td>2011-01-06 16:41:00</td>\n",
              "      <td>0.0</td>\n",
              "      <td>13081</td>\n",
              "      <td>United Kingdom</td>\n",
              "      <td>0.0</td>\n",
              "    </tr>\n",
              "    <tr>\n",
              "      <th>47070</th>\n",
              "      <td>540372</td>\n",
              "      <td>22553</td>\n",
              "      <td>PLASTERS IN TIN SKULLS</td>\n",
              "      <td>24</td>\n",
              "      <td>2011-01-06 16:41:00</td>\n",
              "      <td>0.0</td>\n",
              "      <td>13081</td>\n",
              "      <td>United Kingdom</td>\n",
              "      <td>0.0</td>\n",
              "    </tr>\n",
              "    <tr>\n",
              "      <th>56674</th>\n",
              "      <td>541109</td>\n",
              "      <td>22168</td>\n",
              "      <td>ORGANISER WOOD ANTIQUE WHITE</td>\n",
              "      <td>1</td>\n",
              "      <td>2011-01-13 15:10:00</td>\n",
              "      <td>0.0</td>\n",
              "      <td>15107</td>\n",
              "      <td>United Kingdom</td>\n",
              "      <td>0.0</td>\n",
              "    </tr>\n",
              "    <tr>\n",
              "      <th>86789</th>\n",
              "      <td>543599</td>\n",
              "      <td>84535B</td>\n",
              "      <td>FAIRY CAKES NOTEBOOK A6 SIZE</td>\n",
              "      <td>16</td>\n",
              "      <td>2011-02-10 13:08:00</td>\n",
              "      <td>0.0</td>\n",
              "      <td>17560</td>\n",
              "      <td>United Kingdom</td>\n",
              "      <td>0.0</td>\n",
              "    </tr>\n",
              "    <tr>\n",
              "      <th>130188</th>\n",
              "      <td>547417</td>\n",
              "      <td>22062</td>\n",
              "      <td>CERAMIC BOWL WITH LOVE HEART DESIGN</td>\n",
              "      <td>36</td>\n",
              "      <td>2011-03-23 10:25:00</td>\n",
              "      <td>0.0</td>\n",
              "      <td>13239</td>\n",
              "      <td>United Kingdom</td>\n",
              "      <td>0.0</td>\n",
              "    </tr>\n",
              "    <tr>\n",
              "      <th>139453</th>\n",
              "      <td>548318</td>\n",
              "      <td>22055</td>\n",
              "      <td>MINI CAKE STAND  HANGING STRAWBERY</td>\n",
              "      <td>5</td>\n",
              "      <td>2011-03-30 12:45:00</td>\n",
              "      <td>0.0</td>\n",
              "      <td>13113</td>\n",
              "      <td>United Kingdom</td>\n",
              "      <td>0.0</td>\n",
              "    </tr>\n",
              "    <tr>\n",
              "      <th>145208</th>\n",
              "      <td>548871</td>\n",
              "      <td>22162</td>\n",
              "      <td>HEART GARLAND RUSTIC PADDED</td>\n",
              "      <td>2</td>\n",
              "      <td>2011-04-04 14:42:00</td>\n",
              "      <td>0.0</td>\n",
              "      <td>14410</td>\n",
              "      <td>United Kingdom</td>\n",
              "      <td>0.0</td>\n",
              "    </tr>\n",
              "    <tr>\n",
              "      <th>187613</th>\n",
              "      <td>553000</td>\n",
              "      <td>47566</td>\n",
              "      <td>PARTY BUNTING</td>\n",
              "      <td>4</td>\n",
              "      <td>2011-05-12 15:21:00</td>\n",
              "      <td>0.0</td>\n",
              "      <td>17667</td>\n",
              "      <td>United Kingdom</td>\n",
              "      <td>0.0</td>\n",
              "    </tr>\n",
              "    <tr>\n",
              "      <th>279324</th>\n",
              "      <td>561284</td>\n",
              "      <td>22167</td>\n",
              "      <td>OVAL WALL MIRROR DIAMANTE</td>\n",
              "      <td>1</td>\n",
              "      <td>2011-07-26 12:24:00</td>\n",
              "      <td>0.0</td>\n",
              "      <td>16818</td>\n",
              "      <td>United Kingdom</td>\n",
              "      <td>0.0</td>\n",
              "    </tr>\n",
              "    <tr>\n",
              "      <th>285657</th>\n",
              "      <td>561916</td>\n",
              "      <td>M</td>\n",
              "      <td>Manual</td>\n",
              "      <td>1</td>\n",
              "      <td>2011-08-01 11:44:00</td>\n",
              "      <td>0.0</td>\n",
              "      <td>15581</td>\n",
              "      <td>United Kingdom</td>\n",
              "      <td>0.0</td>\n",
              "    </tr>\n",
              "    <tr>\n",
              "      <th>358655</th>\n",
              "      <td>568158</td>\n",
              "      <td>PADS</td>\n",
              "      <td>PADS TO MATCH ALL CUSHIONS</td>\n",
              "      <td>1</td>\n",
              "      <td>2011-09-25 12:22:00</td>\n",
              "      <td>0.0</td>\n",
              "      <td>16133</td>\n",
              "      <td>United Kingdom</td>\n",
              "      <td>0.0</td>\n",
              "    </tr>\n",
              "    <tr>\n",
              "      <th>361825</th>\n",
              "      <td>568384</td>\n",
              "      <td>M</td>\n",
              "      <td>Manual</td>\n",
              "      <td>1</td>\n",
              "      <td>2011-09-27 09:46:00</td>\n",
              "      <td>0.0</td>\n",
              "      <td>12748</td>\n",
              "      <td>United Kingdom</td>\n",
              "      <td>0.0</td>\n",
              "    </tr>\n",
              "    <tr>\n",
              "      <th>379913</th>\n",
              "      <td>569716</td>\n",
              "      <td>22778</td>\n",
              "      <td>GLASS CLOCHE SMALL</td>\n",
              "      <td>2</td>\n",
              "      <td>2011-10-06 08:17:00</td>\n",
              "      <td>0.0</td>\n",
              "      <td>15804</td>\n",
              "      <td>United Kingdom</td>\n",
              "      <td>0.0</td>\n",
              "    </tr>\n",
              "    <tr>\n",
              "      <th>420404</th>\n",
              "      <td>572893</td>\n",
              "      <td>21208</td>\n",
              "      <td>PASTEL COLOUR HONEYCOMB FAN</td>\n",
              "      <td>5</td>\n",
              "      <td>2011-10-26 14:36:00</td>\n",
              "      <td>0.0</td>\n",
              "      <td>18059</td>\n",
              "      <td>United Kingdom</td>\n",
              "      <td>0.0</td>\n",
              "    </tr>\n",
              "    <tr>\n",
              "      <th>436597</th>\n",
              "      <td>574175</td>\n",
              "      <td>22065</td>\n",
              "      <td>CHRISTMAS PUDDING TRINKET POT</td>\n",
              "      <td>12</td>\n",
              "      <td>2011-11-03 11:47:00</td>\n",
              "      <td>0.0</td>\n",
              "      <td>14110</td>\n",
              "      <td>United Kingdom</td>\n",
              "      <td>0.0</td>\n",
              "    </tr>\n",
              "    <tr>\n",
              "      <th>446125</th>\n",
              "      <td>574879</td>\n",
              "      <td>22625</td>\n",
              "      <td>RED KITCHEN SCALES</td>\n",
              "      <td>2</td>\n",
              "      <td>2011-11-07 13:22:00</td>\n",
              "      <td>0.0</td>\n",
              "      <td>13014</td>\n",
              "      <td>United Kingdom</td>\n",
              "      <td>0.0</td>\n",
              "    </tr>\n",
              "    <tr>\n",
              "      <th>446793</th>\n",
              "      <td>574920</td>\n",
              "      <td>22899</td>\n",
              "      <td>CHILDREN'S APRON DOLLY GIRL</td>\n",
              "      <td>1</td>\n",
              "      <td>2011-11-07 16:34:00</td>\n",
              "      <td>0.0</td>\n",
              "      <td>13985</td>\n",
              "      <td>United Kingdom</td>\n",
              "      <td>0.0</td>\n",
              "    </tr>\n",
              "    <tr>\n",
              "      <th>446794</th>\n",
              "      <td>574920</td>\n",
              "      <td>23480</td>\n",
              "      <td>MINI LIGHTS WOODLAND MUSHROOMS</td>\n",
              "      <td>1</td>\n",
              "      <td>2011-11-07 16:34:00</td>\n",
              "      <td>0.0</td>\n",
              "      <td>13985</td>\n",
              "      <td>United Kingdom</td>\n",
              "      <td>0.0</td>\n",
              "    </tr>\n",
              "    <tr>\n",
              "      <th>454463</th>\n",
              "      <td>575579</td>\n",
              "      <td>22437</td>\n",
              "      <td>SET OF 9 BLACK SKULL BALLOONS</td>\n",
              "      <td>20</td>\n",
              "      <td>2011-11-10 11:49:00</td>\n",
              "      <td>0.0</td>\n",
              "      <td>13081</td>\n",
              "      <td>United Kingdom</td>\n",
              "      <td>0.0</td>\n",
              "    </tr>\n",
              "    <tr>\n",
              "      <th>454464</th>\n",
              "      <td>575579</td>\n",
              "      <td>22089</td>\n",
              "      <td>PAPER BUNTING VINTAGE PAISLEY</td>\n",
              "      <td>24</td>\n",
              "      <td>2011-11-10 11:49:00</td>\n",
              "      <td>0.0</td>\n",
              "      <td>13081</td>\n",
              "      <td>United Kingdom</td>\n",
              "      <td>0.0</td>\n",
              "    </tr>\n",
              "    <tr>\n",
              "      <th>479079</th>\n",
              "      <td>577129</td>\n",
              "      <td>22464</td>\n",
              "      <td>HANGING METAL HEART LANTERN</td>\n",
              "      <td>4</td>\n",
              "      <td>2011-11-17 19:52:00</td>\n",
              "      <td>0.0</td>\n",
              "      <td>15602</td>\n",
              "      <td>United Kingdom</td>\n",
              "      <td>0.0</td>\n",
              "    </tr>\n",
              "    <tr>\n",
              "      <th>485985</th>\n",
              "      <td>577696</td>\n",
              "      <td>M</td>\n",
              "      <td>Manual</td>\n",
              "      <td>1</td>\n",
              "      <td>2011-11-21 11:57:00</td>\n",
              "      <td>0.0</td>\n",
              "      <td>16406</td>\n",
              "      <td>United Kingdom</td>\n",
              "      <td>0.0</td>\n",
              "    </tr>\n",
              "    <tr>\n",
              "      <th>502122</th>\n",
              "      <td>578841</td>\n",
              "      <td>84826</td>\n",
              "      <td>ASSTD DESIGN 3D PAPER STICKERS</td>\n",
              "      <td>12540</td>\n",
              "      <td>2011-11-25 15:57:00</td>\n",
              "      <td>0.0</td>\n",
              "      <td>13256</td>\n",
              "      <td>United Kingdom</td>\n",
              "      <td>0.0</td>\n",
              "    </tr>\n",
              "  </tbody>\n",
              "</table>\n",
              "</div>"
            ]
          },
          "metadata": {},
          "execution_count": 58
        }
      ],
      "metadata": {}
    },
    {
      "cell_type": "code",
      "execution_count": 59,
      "source": [
        "df_uk[df_uk.Quantity < 0]"
      ],
      "outputs": [
        {
          "output_type": "execute_result",
          "data": {
            "text/plain": [
              "       InvoiceNo StockCode                       Description  Quantity  \\\n",
              "141      C536379         D                          Discount        -1   \n",
              "154      C536383    35004C   SET OF 3 COLOURED  FLYING DUCKS        -1   \n",
              "235      C536391     22556    PLASTERS IN TIN CIRCUS PARADE        -12   \n",
              "236      C536391     21984  PACK OF 12 PINK PAISLEY TISSUES        -24   \n",
              "237      C536391     21983  PACK OF 12 BLUE PAISLEY TISSUES        -24   \n",
              "...          ...       ...                               ...       ...   \n",
              "540449   C581490     23144   ZINC T-LIGHT HOLDER STARS SMALL       -11   \n",
              "541541   C581499         M                            Manual        -1   \n",
              "541715   C581568     21258        VICTORIAN SEWING BOX LARGE        -5   \n",
              "541716   C581569     84978  HANGING HEART JAR T-LIGHT HOLDER        -1   \n",
              "541717   C581569     20979     36 PENCILS TUBE RED RETROSPOT        -5   \n",
              "\n",
              "               InvoiceDate  UnitPrice  CustomerID         Country  TotalPrice  \n",
              "141    2010-12-01 09:41:00      27.50       14527  United Kingdom      -27.50  \n",
              "154    2010-12-01 09:49:00       4.65       15311  United Kingdom       -4.65  \n",
              "235    2010-12-01 10:24:00       1.65       17548  United Kingdom      -19.80  \n",
              "236    2010-12-01 10:24:00       0.29       17548  United Kingdom       -6.96  \n",
              "237    2010-12-01 10:24:00       0.29       17548  United Kingdom       -6.96  \n",
              "...                    ...        ...         ...             ...         ...  \n",
              "540449 2011-12-09 09:57:00       0.83       14397  United Kingdom       -9.13  \n",
              "541541 2011-12-09 10:28:00     224.69       15498  United Kingdom     -224.69  \n",
              "541715 2011-12-09 11:57:00      10.95       15311  United Kingdom      -54.75  \n",
              "541716 2011-12-09 11:58:00       1.25       17315  United Kingdom       -1.25  \n",
              "541717 2011-12-09 11:58:00       1.25       17315  United Kingdom       -6.25  \n",
              "\n",
              "[7501 rows x 9 columns]"
            ],
            "text/html": [
              "<div>\n",
              "<style scoped>\n",
              "    .dataframe tbody tr th:only-of-type {\n",
              "        vertical-align: middle;\n",
              "    }\n",
              "\n",
              "    .dataframe tbody tr th {\n",
              "        vertical-align: top;\n",
              "    }\n",
              "\n",
              "    .dataframe thead th {\n",
              "        text-align: right;\n",
              "    }\n",
              "</style>\n",
              "<table border=\"1\" class=\"dataframe\">\n",
              "  <thead>\n",
              "    <tr style=\"text-align: right;\">\n",
              "      <th></th>\n",
              "      <th>InvoiceNo</th>\n",
              "      <th>StockCode</th>\n",
              "      <th>Description</th>\n",
              "      <th>Quantity</th>\n",
              "      <th>InvoiceDate</th>\n",
              "      <th>UnitPrice</th>\n",
              "      <th>CustomerID</th>\n",
              "      <th>Country</th>\n",
              "      <th>TotalPrice</th>\n",
              "    </tr>\n",
              "  </thead>\n",
              "  <tbody>\n",
              "    <tr>\n",
              "      <th>141</th>\n",
              "      <td>C536379</td>\n",
              "      <td>D</td>\n",
              "      <td>Discount</td>\n",
              "      <td>-1</td>\n",
              "      <td>2010-12-01 09:41:00</td>\n",
              "      <td>27.50</td>\n",
              "      <td>14527</td>\n",
              "      <td>United Kingdom</td>\n",
              "      <td>-27.50</td>\n",
              "    </tr>\n",
              "    <tr>\n",
              "      <th>154</th>\n",
              "      <td>C536383</td>\n",
              "      <td>35004C</td>\n",
              "      <td>SET OF 3 COLOURED  FLYING DUCKS</td>\n",
              "      <td>-1</td>\n",
              "      <td>2010-12-01 09:49:00</td>\n",
              "      <td>4.65</td>\n",
              "      <td>15311</td>\n",
              "      <td>United Kingdom</td>\n",
              "      <td>-4.65</td>\n",
              "    </tr>\n",
              "    <tr>\n",
              "      <th>235</th>\n",
              "      <td>C536391</td>\n",
              "      <td>22556</td>\n",
              "      <td>PLASTERS IN TIN CIRCUS PARADE</td>\n",
              "      <td>-12</td>\n",
              "      <td>2010-12-01 10:24:00</td>\n",
              "      <td>1.65</td>\n",
              "      <td>17548</td>\n",
              "      <td>United Kingdom</td>\n",
              "      <td>-19.80</td>\n",
              "    </tr>\n",
              "    <tr>\n",
              "      <th>236</th>\n",
              "      <td>C536391</td>\n",
              "      <td>21984</td>\n",
              "      <td>PACK OF 12 PINK PAISLEY TISSUES</td>\n",
              "      <td>-24</td>\n",
              "      <td>2010-12-01 10:24:00</td>\n",
              "      <td>0.29</td>\n",
              "      <td>17548</td>\n",
              "      <td>United Kingdom</td>\n",
              "      <td>-6.96</td>\n",
              "    </tr>\n",
              "    <tr>\n",
              "      <th>237</th>\n",
              "      <td>C536391</td>\n",
              "      <td>21983</td>\n",
              "      <td>PACK OF 12 BLUE PAISLEY TISSUES</td>\n",
              "      <td>-24</td>\n",
              "      <td>2010-12-01 10:24:00</td>\n",
              "      <td>0.29</td>\n",
              "      <td>17548</td>\n",
              "      <td>United Kingdom</td>\n",
              "      <td>-6.96</td>\n",
              "    </tr>\n",
              "    <tr>\n",
              "      <th>...</th>\n",
              "      <td>...</td>\n",
              "      <td>...</td>\n",
              "      <td>...</td>\n",
              "      <td>...</td>\n",
              "      <td>...</td>\n",
              "      <td>...</td>\n",
              "      <td>...</td>\n",
              "      <td>...</td>\n",
              "      <td>...</td>\n",
              "    </tr>\n",
              "    <tr>\n",
              "      <th>540449</th>\n",
              "      <td>C581490</td>\n",
              "      <td>23144</td>\n",
              "      <td>ZINC T-LIGHT HOLDER STARS SMALL</td>\n",
              "      <td>-11</td>\n",
              "      <td>2011-12-09 09:57:00</td>\n",
              "      <td>0.83</td>\n",
              "      <td>14397</td>\n",
              "      <td>United Kingdom</td>\n",
              "      <td>-9.13</td>\n",
              "    </tr>\n",
              "    <tr>\n",
              "      <th>541541</th>\n",
              "      <td>C581499</td>\n",
              "      <td>M</td>\n",
              "      <td>Manual</td>\n",
              "      <td>-1</td>\n",
              "      <td>2011-12-09 10:28:00</td>\n",
              "      <td>224.69</td>\n",
              "      <td>15498</td>\n",
              "      <td>United Kingdom</td>\n",
              "      <td>-224.69</td>\n",
              "    </tr>\n",
              "    <tr>\n",
              "      <th>541715</th>\n",
              "      <td>C581568</td>\n",
              "      <td>21258</td>\n",
              "      <td>VICTORIAN SEWING BOX LARGE</td>\n",
              "      <td>-5</td>\n",
              "      <td>2011-12-09 11:57:00</td>\n",
              "      <td>10.95</td>\n",
              "      <td>15311</td>\n",
              "      <td>United Kingdom</td>\n",
              "      <td>-54.75</td>\n",
              "    </tr>\n",
              "    <tr>\n",
              "      <th>541716</th>\n",
              "      <td>C581569</td>\n",
              "      <td>84978</td>\n",
              "      <td>HANGING HEART JAR T-LIGHT HOLDER</td>\n",
              "      <td>-1</td>\n",
              "      <td>2011-12-09 11:58:00</td>\n",
              "      <td>1.25</td>\n",
              "      <td>17315</td>\n",
              "      <td>United Kingdom</td>\n",
              "      <td>-1.25</td>\n",
              "    </tr>\n",
              "    <tr>\n",
              "      <th>541717</th>\n",
              "      <td>C581569</td>\n",
              "      <td>20979</td>\n",
              "      <td>36 PENCILS TUBE RED RETROSPOT</td>\n",
              "      <td>-5</td>\n",
              "      <td>2011-12-09 11:58:00</td>\n",
              "      <td>1.25</td>\n",
              "      <td>17315</td>\n",
              "      <td>United Kingdom</td>\n",
              "      <td>-6.25</td>\n",
              "    </tr>\n",
              "  </tbody>\n",
              "</table>\n",
              "<p>7501 rows × 9 columns</p>\n",
              "</div>"
            ]
          },
          "metadata": {},
          "execution_count": 59
        }
      ],
      "metadata": {}
    },
    {
      "cell_type": "markdown",
      "source": [
        "### iii. Recency: Days since last purchase\n",
        "To calculate the recency values, follow these steps in order:\n",
        "\n",
        "1. To calculate recency, we need to choose a date as a point of reference to evaluate how many days ago was the customer's last purchase.\n",
        "2. Create a new column called Date which contains the invoice date without the timestamp\n",
        "3. Group by CustomerID and check the last date of purchase\n",
        "4. Calculate the days since last purchase\n",
        "5. Drop Last_Purchase_Date since we don't need it anymore\n",
        "6. Plot RFM distributions"
      ],
      "metadata": {
        "id": "MvfCcPLgQGWa"
      }
    },
    {
      "cell_type": "markdown",
      "source": [
        "1. Choose a date as a point of reference to evaluate how many days ago was the customer's last purchase."
      ],
      "metadata": {
        "id": "b7Gzn6r6QGWb"
      }
    },
    {
      "cell_type": "code",
      "execution_count": 60,
      "source": [
        "max_date = df_uk.InvoiceDate.max()\r\n",
        "max_date"
      ],
      "outputs": [
        {
          "output_type": "execute_result",
          "data": {
            "text/plain": [
              "Timestamp('2011-12-09 12:49:00')"
            ]
          },
          "metadata": {},
          "execution_count": 60
        }
      ],
      "metadata": {
        "id": "DwWODVSZiqa-"
      }
    },
    {
      "cell_type": "code",
      "execution_count": 61,
      "source": [
        "# pd.to_datetime(max_date).year"
      ],
      "outputs": [],
      "metadata": {}
    },
    {
      "cell_type": "code",
      "execution_count": 62,
      "source": [
        "# max_date.day"
      ],
      "outputs": [],
      "metadata": {}
    },
    {
      "cell_type": "code",
      "execution_count": 63,
      "source": [
        "# df_uk.InvoiceDate.max().week"
      ],
      "outputs": [],
      "metadata": {}
    },
    {
      "cell_type": "code",
      "execution_count": 64,
      "source": [
        "min_date = df_uk.InvoiceDate.min()\r\n",
        "min_date"
      ],
      "outputs": [
        {
          "output_type": "execute_result",
          "data": {
            "text/plain": [
              "Timestamp('2010-12-01 08:26:00')"
            ]
          },
          "metadata": {},
          "execution_count": 64
        }
      ],
      "metadata": {}
    },
    {
      "cell_type": "markdown",
      "source": [
        "2. Create a new column called Date which contains the invoice date without the timestamp"
      ],
      "metadata": {
        "id": "Ge34PCT0iqa-"
      }
    },
    {
      "cell_type": "code",
      "execution_count": 65,
      "source": [
        "df_uk[\"Date\"] = df_uk.InvoiceDate.dt.date # dt.week, dt.day, dt.year\r\n",
        "df_uk.head()"
      ],
      "outputs": [
        {
          "output_type": "stream",
          "name": "stderr",
          "text": [
            "<ipython-input-65-760e81731737>:1: SettingWithCopyWarning: \n",
            "A value is trying to be set on a copy of a slice from a DataFrame.\n",
            "Try using .loc[row_indexer,col_indexer] = value instead\n",
            "\n",
            "See the caveats in the documentation: https://pandas.pydata.org/pandas-docs/stable/user_guide/indexing.html#returning-a-view-versus-a-copy\n",
            "  df_uk[\"Date\"] = df_uk.InvoiceDate.dt.date # dt.week, dt.day, dt.year\n"
          ]
        },
        {
          "output_type": "execute_result",
          "data": {
            "text/plain": [
              "  InvoiceNo StockCode                          Description  Quantity  \\\n",
              "0    536365    85123A   WHITE HANGING HEART T-LIGHT HOLDER         6   \n",
              "1    536365     71053                  WHITE METAL LANTERN         6   \n",
              "2    536365    84406B       CREAM CUPID HEARTS COAT HANGER         8   \n",
              "3    536365    84029G  KNITTED UNION FLAG HOT WATER BOTTLE         6   \n",
              "4    536365    84029E       RED WOOLLY HOTTIE WHITE HEART.         6   \n",
              "\n",
              "          InvoiceDate  UnitPrice  CustomerID         Country  TotalPrice  \\\n",
              "0 2010-12-01 08:26:00       2.55       17850  United Kingdom       15.30   \n",
              "1 2010-12-01 08:26:00       3.39       17850  United Kingdom       20.34   \n",
              "2 2010-12-01 08:26:00       2.75       17850  United Kingdom       22.00   \n",
              "3 2010-12-01 08:26:00       3.39       17850  United Kingdom       20.34   \n",
              "4 2010-12-01 08:26:00       3.39       17850  United Kingdom       20.34   \n",
              "\n",
              "         Date  \n",
              "0  2010-12-01  \n",
              "1  2010-12-01  \n",
              "2  2010-12-01  \n",
              "3  2010-12-01  \n",
              "4  2010-12-01  "
            ],
            "text/html": [
              "<div>\n",
              "<style scoped>\n",
              "    .dataframe tbody tr th:only-of-type {\n",
              "        vertical-align: middle;\n",
              "    }\n",
              "\n",
              "    .dataframe tbody tr th {\n",
              "        vertical-align: top;\n",
              "    }\n",
              "\n",
              "    .dataframe thead th {\n",
              "        text-align: right;\n",
              "    }\n",
              "</style>\n",
              "<table border=\"1\" class=\"dataframe\">\n",
              "  <thead>\n",
              "    <tr style=\"text-align: right;\">\n",
              "      <th></th>\n",
              "      <th>InvoiceNo</th>\n",
              "      <th>StockCode</th>\n",
              "      <th>Description</th>\n",
              "      <th>Quantity</th>\n",
              "      <th>InvoiceDate</th>\n",
              "      <th>UnitPrice</th>\n",
              "      <th>CustomerID</th>\n",
              "      <th>Country</th>\n",
              "      <th>TotalPrice</th>\n",
              "      <th>Date</th>\n",
              "    </tr>\n",
              "  </thead>\n",
              "  <tbody>\n",
              "    <tr>\n",
              "      <th>0</th>\n",
              "      <td>536365</td>\n",
              "      <td>85123A</td>\n",
              "      <td>WHITE HANGING HEART T-LIGHT HOLDER</td>\n",
              "      <td>6</td>\n",
              "      <td>2010-12-01 08:26:00</td>\n",
              "      <td>2.55</td>\n",
              "      <td>17850</td>\n",
              "      <td>United Kingdom</td>\n",
              "      <td>15.30</td>\n",
              "      <td>2010-12-01</td>\n",
              "    </tr>\n",
              "    <tr>\n",
              "      <th>1</th>\n",
              "      <td>536365</td>\n",
              "      <td>71053</td>\n",
              "      <td>WHITE METAL LANTERN</td>\n",
              "      <td>6</td>\n",
              "      <td>2010-12-01 08:26:00</td>\n",
              "      <td>3.39</td>\n",
              "      <td>17850</td>\n",
              "      <td>United Kingdom</td>\n",
              "      <td>20.34</td>\n",
              "      <td>2010-12-01</td>\n",
              "    </tr>\n",
              "    <tr>\n",
              "      <th>2</th>\n",
              "      <td>536365</td>\n",
              "      <td>84406B</td>\n",
              "      <td>CREAM CUPID HEARTS COAT HANGER</td>\n",
              "      <td>8</td>\n",
              "      <td>2010-12-01 08:26:00</td>\n",
              "      <td>2.75</td>\n",
              "      <td>17850</td>\n",
              "      <td>United Kingdom</td>\n",
              "      <td>22.00</td>\n",
              "      <td>2010-12-01</td>\n",
              "    </tr>\n",
              "    <tr>\n",
              "      <th>3</th>\n",
              "      <td>536365</td>\n",
              "      <td>84029G</td>\n",
              "      <td>KNITTED UNION FLAG HOT WATER BOTTLE</td>\n",
              "      <td>6</td>\n",
              "      <td>2010-12-01 08:26:00</td>\n",
              "      <td>3.39</td>\n",
              "      <td>17850</td>\n",
              "      <td>United Kingdom</td>\n",
              "      <td>20.34</td>\n",
              "      <td>2010-12-01</td>\n",
              "    </tr>\n",
              "    <tr>\n",
              "      <th>4</th>\n",
              "      <td>536365</td>\n",
              "      <td>84029E</td>\n",
              "      <td>RED WOOLLY HOTTIE WHITE HEART.</td>\n",
              "      <td>6</td>\n",
              "      <td>2010-12-01 08:26:00</td>\n",
              "      <td>3.39</td>\n",
              "      <td>17850</td>\n",
              "      <td>United Kingdom</td>\n",
              "      <td>20.34</td>\n",
              "      <td>2010-12-01</td>\n",
              "    </tr>\n",
              "  </tbody>\n",
              "</table>\n",
              "</div>"
            ]
          },
          "metadata": {},
          "execution_count": 65
        }
      ],
      "metadata": {
        "id": "xsaFUydXiqa_"
      }
    },
    {
      "cell_type": "markdown",
      "source": [
        "3. Group by CustomerID and check the last date of purchase"
      ],
      "metadata": {
        "id": "1KJzP5Ldiqa_"
      }
    },
    {
      "cell_type": "code",
      "execution_count": 66,
      "source": [
        "df_uk.groupby(\"CustomerID\")[\"Date\"].max() # Müşterilerin en son alışveriş yaptığı tarihi buluyoruz."
      ],
      "outputs": [
        {
          "output_type": "execute_result",
          "data": {
            "text/plain": [
              "CustomerID\n",
              "12346    2011-01-18\n",
              "12747    2011-12-07\n",
              "12748    2011-12-09\n",
              "12749    2011-12-06\n",
              "12820    2011-12-06\n",
              "            ...    \n",
              "18280    2011-03-07\n",
              "18281    2011-06-12\n",
              "18282    2011-12-02\n",
              "18283    2011-12-06\n",
              "18287    2011-10-28\n",
              "Name: Date, Length: 3950, dtype: object"
            ]
          },
          "metadata": {},
          "execution_count": 66
        }
      ],
      "metadata": {
        "id": "x8kMt-Uyiqa_"
      }
    },
    {
      "cell_type": "markdown",
      "source": [
        "4. Calculate the days since last purchase"
      ],
      "metadata": {
        "id": "1Zxs1mzPiqa_"
      }
    },
    {
      "cell_type": "code",
      "execution_count": 67,
      "source": [
        "# df_uk[\"Date\"].max() - df_uk[\"Date\"]"
      ],
      "outputs": [],
      "metadata": {}
    },
    {
      "cell_type": "code",
      "execution_count": 68,
      "source": [
        "df_uk[\"Last_Purchase_Date\"] = df_uk[\"Date\"].max() - df_uk[\"Date\"] # En son tarihten(max) diğer tarihleri çıkararak farkı buluyoruz.\r\n",
        "df_uk.head()"
      ],
      "outputs": [
        {
          "output_type": "stream",
          "name": "stderr",
          "text": [
            "<ipython-input-68-3937d08ae287>:1: SettingWithCopyWarning: \n",
            "A value is trying to be set on a copy of a slice from a DataFrame.\n",
            "Try using .loc[row_indexer,col_indexer] = value instead\n",
            "\n",
            "See the caveats in the documentation: https://pandas.pydata.org/pandas-docs/stable/user_guide/indexing.html#returning-a-view-versus-a-copy\n",
            "  df_uk[\"Last_Purchase_Date\"] = df_uk[\"Date\"].max() - df_uk[\"Date\"] # En son tarihten(max) diğer tarihleri çıkararak farkı buluyoruz.\n"
          ]
        },
        {
          "output_type": "execute_result",
          "data": {
            "text/plain": [
              "  InvoiceNo StockCode                          Description  Quantity  \\\n",
              "0    536365    85123A   WHITE HANGING HEART T-LIGHT HOLDER         6   \n",
              "1    536365     71053                  WHITE METAL LANTERN         6   \n",
              "2    536365    84406B       CREAM CUPID HEARTS COAT HANGER         8   \n",
              "3    536365    84029G  KNITTED UNION FLAG HOT WATER BOTTLE         6   \n",
              "4    536365    84029E       RED WOOLLY HOTTIE WHITE HEART.         6   \n",
              "\n",
              "          InvoiceDate  UnitPrice  CustomerID         Country  TotalPrice  \\\n",
              "0 2010-12-01 08:26:00       2.55       17850  United Kingdom       15.30   \n",
              "1 2010-12-01 08:26:00       3.39       17850  United Kingdom       20.34   \n",
              "2 2010-12-01 08:26:00       2.75       17850  United Kingdom       22.00   \n",
              "3 2010-12-01 08:26:00       3.39       17850  United Kingdom       20.34   \n",
              "4 2010-12-01 08:26:00       3.39       17850  United Kingdom       20.34   \n",
              "\n",
              "         Date Last_Purchase_Date  \n",
              "0  2010-12-01           373 days  \n",
              "1  2010-12-01           373 days  \n",
              "2  2010-12-01           373 days  \n",
              "3  2010-12-01           373 days  \n",
              "4  2010-12-01           373 days  "
            ],
            "text/html": [
              "<div>\n",
              "<style scoped>\n",
              "    .dataframe tbody tr th:only-of-type {\n",
              "        vertical-align: middle;\n",
              "    }\n",
              "\n",
              "    .dataframe tbody tr th {\n",
              "        vertical-align: top;\n",
              "    }\n",
              "\n",
              "    .dataframe thead th {\n",
              "        text-align: right;\n",
              "    }\n",
              "</style>\n",
              "<table border=\"1\" class=\"dataframe\">\n",
              "  <thead>\n",
              "    <tr style=\"text-align: right;\">\n",
              "      <th></th>\n",
              "      <th>InvoiceNo</th>\n",
              "      <th>StockCode</th>\n",
              "      <th>Description</th>\n",
              "      <th>Quantity</th>\n",
              "      <th>InvoiceDate</th>\n",
              "      <th>UnitPrice</th>\n",
              "      <th>CustomerID</th>\n",
              "      <th>Country</th>\n",
              "      <th>TotalPrice</th>\n",
              "      <th>Date</th>\n",
              "      <th>Last_Purchase_Date</th>\n",
              "    </tr>\n",
              "  </thead>\n",
              "  <tbody>\n",
              "    <tr>\n",
              "      <th>0</th>\n",
              "      <td>536365</td>\n",
              "      <td>85123A</td>\n",
              "      <td>WHITE HANGING HEART T-LIGHT HOLDER</td>\n",
              "      <td>6</td>\n",
              "      <td>2010-12-01 08:26:00</td>\n",
              "      <td>2.55</td>\n",
              "      <td>17850</td>\n",
              "      <td>United Kingdom</td>\n",
              "      <td>15.30</td>\n",
              "      <td>2010-12-01</td>\n",
              "      <td>373 days</td>\n",
              "    </tr>\n",
              "    <tr>\n",
              "      <th>1</th>\n",
              "      <td>536365</td>\n",
              "      <td>71053</td>\n",
              "      <td>WHITE METAL LANTERN</td>\n",
              "      <td>6</td>\n",
              "      <td>2010-12-01 08:26:00</td>\n",
              "      <td>3.39</td>\n",
              "      <td>17850</td>\n",
              "      <td>United Kingdom</td>\n",
              "      <td>20.34</td>\n",
              "      <td>2010-12-01</td>\n",
              "      <td>373 days</td>\n",
              "    </tr>\n",
              "    <tr>\n",
              "      <th>2</th>\n",
              "      <td>536365</td>\n",
              "      <td>84406B</td>\n",
              "      <td>CREAM CUPID HEARTS COAT HANGER</td>\n",
              "      <td>8</td>\n",
              "      <td>2010-12-01 08:26:00</td>\n",
              "      <td>2.75</td>\n",
              "      <td>17850</td>\n",
              "      <td>United Kingdom</td>\n",
              "      <td>22.00</td>\n",
              "      <td>2010-12-01</td>\n",
              "      <td>373 days</td>\n",
              "    </tr>\n",
              "    <tr>\n",
              "      <th>3</th>\n",
              "      <td>536365</td>\n",
              "      <td>84029G</td>\n",
              "      <td>KNITTED UNION FLAG HOT WATER BOTTLE</td>\n",
              "      <td>6</td>\n",
              "      <td>2010-12-01 08:26:00</td>\n",
              "      <td>3.39</td>\n",
              "      <td>17850</td>\n",
              "      <td>United Kingdom</td>\n",
              "      <td>20.34</td>\n",
              "      <td>2010-12-01</td>\n",
              "      <td>373 days</td>\n",
              "    </tr>\n",
              "    <tr>\n",
              "      <th>4</th>\n",
              "      <td>536365</td>\n",
              "      <td>84029E</td>\n",
              "      <td>RED WOOLLY HOTTIE WHITE HEART.</td>\n",
              "      <td>6</td>\n",
              "      <td>2010-12-01 08:26:00</td>\n",
              "      <td>3.39</td>\n",
              "      <td>17850</td>\n",
              "      <td>United Kingdom</td>\n",
              "      <td>20.34</td>\n",
              "      <td>2010-12-01</td>\n",
              "      <td>373 days</td>\n",
              "    </tr>\n",
              "  </tbody>\n",
              "</table>\n",
              "</div>"
            ]
          },
          "metadata": {},
          "execution_count": 68
        }
      ],
      "metadata": {
        "id": "iTeKws6giqa_"
      }
    },
    {
      "cell_type": "code",
      "execution_count": 69,
      "source": [
        "df_uk.groupby(\"CustomerID\")[\"Last_Purchase_Date\"].min() # MÜşterilerin alışveriş yaptığı en son (min fark) günleri grupluyoruz."
      ],
      "outputs": [
        {
          "output_type": "execute_result",
          "data": {
            "text/plain": [
              "CustomerID\n",
              "12346   325 days\n",
              "12747     2 days\n",
              "12748     0 days\n",
              "12749     3 days\n",
              "12820     3 days\n",
              "          ...   \n",
              "18280   277 days\n",
              "18281   180 days\n",
              "18282     7 days\n",
              "18283     3 days\n",
              "18287    42 days\n",
              "Name: Last_Purchase_Date, Length: 3950, dtype: timedelta64[ns]"
            ]
          },
          "metadata": {},
          "execution_count": 69
        }
      ],
      "metadata": {}
    },
    {
      "cell_type": "code",
      "execution_count": 70,
      "source": [
        "# day_numeric = df_uk.Last_Purchase_Date.dt.days # We comvert timedelta to int\r\n",
        "# day_numeric.head()"
      ],
      "outputs": [],
      "metadata": {}
    },
    {
      "cell_type": "code",
      "execution_count": 71,
      "source": [
        "df_uk[\"Last_Purchase_Date\"].dtypes"
      ],
      "outputs": [
        {
          "output_type": "execute_result",
          "data": {
            "text/plain": [
              "dtype('<m8[ns]')"
            ]
          },
          "metadata": {},
          "execution_count": 71
        }
      ],
      "metadata": {}
    },
    {
      "cell_type": "code",
      "execution_count": 72,
      "source": [
        "recency = df_uk.groupby(\"CustomerID\")[[\"Last_Purchase_Date\"]].min()\r\n",
        "recency.head()"
      ],
      "outputs": [
        {
          "output_type": "execute_result",
          "data": {
            "text/plain": [
              "           Last_Purchase_Date\n",
              "CustomerID                   \n",
              "12346                325 days\n",
              "12747                  2 days\n",
              "12748                  0 days\n",
              "12749                  3 days\n",
              "12820                  3 days"
            ],
            "text/html": [
              "<div>\n",
              "<style scoped>\n",
              "    .dataframe tbody tr th:only-of-type {\n",
              "        vertical-align: middle;\n",
              "    }\n",
              "\n",
              "    .dataframe tbody tr th {\n",
              "        vertical-align: top;\n",
              "    }\n",
              "\n",
              "    .dataframe thead th {\n",
              "        text-align: right;\n",
              "    }\n",
              "</style>\n",
              "<table border=\"1\" class=\"dataframe\">\n",
              "  <thead>\n",
              "    <tr style=\"text-align: right;\">\n",
              "      <th></th>\n",
              "      <th>Last_Purchase_Date</th>\n",
              "    </tr>\n",
              "    <tr>\n",
              "      <th>CustomerID</th>\n",
              "      <th></th>\n",
              "    </tr>\n",
              "  </thead>\n",
              "  <tbody>\n",
              "    <tr>\n",
              "      <th>12346</th>\n",
              "      <td>325 days</td>\n",
              "    </tr>\n",
              "    <tr>\n",
              "      <th>12747</th>\n",
              "      <td>2 days</td>\n",
              "    </tr>\n",
              "    <tr>\n",
              "      <th>12748</th>\n",
              "      <td>0 days</td>\n",
              "    </tr>\n",
              "    <tr>\n",
              "      <th>12749</th>\n",
              "      <td>3 days</td>\n",
              "    </tr>\n",
              "    <tr>\n",
              "      <th>12820</th>\n",
              "      <td>3 days</td>\n",
              "    </tr>\n",
              "  </tbody>\n",
              "</table>\n",
              "</div>"
            ]
          },
          "metadata": {},
          "execution_count": 72
        }
      ],
      "metadata": {}
    },
    {
      "cell_type": "code",
      "execution_count": 73,
      "source": [
        "recency[\"Last_Purchase_Date\"] = recency[\"Last_Purchase_Date\"].dt.days # We comvert timedelta to int\r\n",
        "recency.head()"
      ],
      "outputs": [
        {
          "output_type": "execute_result",
          "data": {
            "text/plain": [
              "            Last_Purchase_Date\n",
              "CustomerID                    \n",
              "12346                      325\n",
              "12747                        2\n",
              "12748                        0\n",
              "12749                        3\n",
              "12820                        3"
            ],
            "text/html": [
              "<div>\n",
              "<style scoped>\n",
              "    .dataframe tbody tr th:only-of-type {\n",
              "        vertical-align: middle;\n",
              "    }\n",
              "\n",
              "    .dataframe tbody tr th {\n",
              "        vertical-align: top;\n",
              "    }\n",
              "\n",
              "    .dataframe thead th {\n",
              "        text-align: right;\n",
              "    }\n",
              "</style>\n",
              "<table border=\"1\" class=\"dataframe\">\n",
              "  <thead>\n",
              "    <tr style=\"text-align: right;\">\n",
              "      <th></th>\n",
              "      <th>Last_Purchase_Date</th>\n",
              "    </tr>\n",
              "    <tr>\n",
              "      <th>CustomerID</th>\n",
              "      <th></th>\n",
              "    </tr>\n",
              "  </thead>\n",
              "  <tbody>\n",
              "    <tr>\n",
              "      <th>12346</th>\n",
              "      <td>325</td>\n",
              "    </tr>\n",
              "    <tr>\n",
              "      <th>12747</th>\n",
              "      <td>2</td>\n",
              "    </tr>\n",
              "    <tr>\n",
              "      <th>12748</th>\n",
              "      <td>0</td>\n",
              "    </tr>\n",
              "    <tr>\n",
              "      <th>12749</th>\n",
              "      <td>3</td>\n",
              "    </tr>\n",
              "    <tr>\n",
              "      <th>12820</th>\n",
              "      <td>3</td>\n",
              "    </tr>\n",
              "  </tbody>\n",
              "</table>\n",
              "</div>"
            ]
          },
          "metadata": {},
          "execution_count": 73
        }
      ],
      "metadata": {}
    },
    {
      "cell_type": "code",
      "execution_count": 74,
      "source": [
        "recency.info()"
      ],
      "outputs": [
        {
          "output_type": "stream",
          "name": "stdout",
          "text": [
            "<class 'pandas.core.frame.DataFrame'>\n",
            "Int64Index: 3950 entries, 12346 to 18287\n",
            "Data columns (total 1 columns):\n",
            " #   Column              Non-Null Count  Dtype\n",
            "---  ------              --------------  -----\n",
            " 0   Last_Purchase_Date  3950 non-null   int64\n",
            "dtypes: int64(1)\n",
            "memory usage: 61.7 KB\n"
          ]
        }
      ],
      "metadata": {}
    },
    {
      "cell_type": "markdown",
      "source": [
        "5. Drop Last_Purchase_Date since we don't need it anymore"
      ],
      "metadata": {
        "id": "yAuMSkfsiqa_"
      }
    },
    {
      "cell_type": "code",
      "execution_count": 75,
      "source": [
        "df_uk.drop(\"Last_Purchase_Date\", axis=1, inplace=True)\r\n",
        "df_uk.head()"
      ],
      "outputs": [
        {
          "output_type": "stream",
          "name": "stderr",
          "text": [
            "C:\\Users\\Ertuğrul\\AppData\\Local\\Programs\\Python\\Python39\\lib\\site-packages\\pandas\\core\\frame.py:4308: SettingWithCopyWarning: \n",
            "A value is trying to be set on a copy of a slice from a DataFrame\n",
            "\n",
            "See the caveats in the documentation: https://pandas.pydata.org/pandas-docs/stable/user_guide/indexing.html#returning-a-view-versus-a-copy\n",
            "  return super().drop(\n"
          ]
        },
        {
          "output_type": "execute_result",
          "data": {
            "text/plain": [
              "  InvoiceNo StockCode                          Description  Quantity  \\\n",
              "0    536365    85123A   WHITE HANGING HEART T-LIGHT HOLDER         6   \n",
              "1    536365     71053                  WHITE METAL LANTERN         6   \n",
              "2    536365    84406B       CREAM CUPID HEARTS COAT HANGER         8   \n",
              "3    536365    84029G  KNITTED UNION FLAG HOT WATER BOTTLE         6   \n",
              "4    536365    84029E       RED WOOLLY HOTTIE WHITE HEART.         6   \n",
              "\n",
              "          InvoiceDate  UnitPrice  CustomerID         Country  TotalPrice  \\\n",
              "0 2010-12-01 08:26:00       2.55       17850  United Kingdom       15.30   \n",
              "1 2010-12-01 08:26:00       3.39       17850  United Kingdom       20.34   \n",
              "2 2010-12-01 08:26:00       2.75       17850  United Kingdom       22.00   \n",
              "3 2010-12-01 08:26:00       3.39       17850  United Kingdom       20.34   \n",
              "4 2010-12-01 08:26:00       3.39       17850  United Kingdom       20.34   \n",
              "\n",
              "         Date  \n",
              "0  2010-12-01  \n",
              "1  2010-12-01  \n",
              "2  2010-12-01  \n",
              "3  2010-12-01  \n",
              "4  2010-12-01  "
            ],
            "text/html": [
              "<div>\n",
              "<style scoped>\n",
              "    .dataframe tbody tr th:only-of-type {\n",
              "        vertical-align: middle;\n",
              "    }\n",
              "\n",
              "    .dataframe tbody tr th {\n",
              "        vertical-align: top;\n",
              "    }\n",
              "\n",
              "    .dataframe thead th {\n",
              "        text-align: right;\n",
              "    }\n",
              "</style>\n",
              "<table border=\"1\" class=\"dataframe\">\n",
              "  <thead>\n",
              "    <tr style=\"text-align: right;\">\n",
              "      <th></th>\n",
              "      <th>InvoiceNo</th>\n",
              "      <th>StockCode</th>\n",
              "      <th>Description</th>\n",
              "      <th>Quantity</th>\n",
              "      <th>InvoiceDate</th>\n",
              "      <th>UnitPrice</th>\n",
              "      <th>CustomerID</th>\n",
              "      <th>Country</th>\n",
              "      <th>TotalPrice</th>\n",
              "      <th>Date</th>\n",
              "    </tr>\n",
              "  </thead>\n",
              "  <tbody>\n",
              "    <tr>\n",
              "      <th>0</th>\n",
              "      <td>536365</td>\n",
              "      <td>85123A</td>\n",
              "      <td>WHITE HANGING HEART T-LIGHT HOLDER</td>\n",
              "      <td>6</td>\n",
              "      <td>2010-12-01 08:26:00</td>\n",
              "      <td>2.55</td>\n",
              "      <td>17850</td>\n",
              "      <td>United Kingdom</td>\n",
              "      <td>15.30</td>\n",
              "      <td>2010-12-01</td>\n",
              "    </tr>\n",
              "    <tr>\n",
              "      <th>1</th>\n",
              "      <td>536365</td>\n",
              "      <td>71053</td>\n",
              "      <td>WHITE METAL LANTERN</td>\n",
              "      <td>6</td>\n",
              "      <td>2010-12-01 08:26:00</td>\n",
              "      <td>3.39</td>\n",
              "      <td>17850</td>\n",
              "      <td>United Kingdom</td>\n",
              "      <td>20.34</td>\n",
              "      <td>2010-12-01</td>\n",
              "    </tr>\n",
              "    <tr>\n",
              "      <th>2</th>\n",
              "      <td>536365</td>\n",
              "      <td>84406B</td>\n",
              "      <td>CREAM CUPID HEARTS COAT HANGER</td>\n",
              "      <td>8</td>\n",
              "      <td>2010-12-01 08:26:00</td>\n",
              "      <td>2.75</td>\n",
              "      <td>17850</td>\n",
              "      <td>United Kingdom</td>\n",
              "      <td>22.00</td>\n",
              "      <td>2010-12-01</td>\n",
              "    </tr>\n",
              "    <tr>\n",
              "      <th>3</th>\n",
              "      <td>536365</td>\n",
              "      <td>84029G</td>\n",
              "      <td>KNITTED UNION FLAG HOT WATER BOTTLE</td>\n",
              "      <td>6</td>\n",
              "      <td>2010-12-01 08:26:00</td>\n",
              "      <td>3.39</td>\n",
              "      <td>17850</td>\n",
              "      <td>United Kingdom</td>\n",
              "      <td>20.34</td>\n",
              "      <td>2010-12-01</td>\n",
              "    </tr>\n",
              "    <tr>\n",
              "      <th>4</th>\n",
              "      <td>536365</td>\n",
              "      <td>84029E</td>\n",
              "      <td>RED WOOLLY HOTTIE WHITE HEART.</td>\n",
              "      <td>6</td>\n",
              "      <td>2010-12-01 08:26:00</td>\n",
              "      <td>3.39</td>\n",
              "      <td>17850</td>\n",
              "      <td>United Kingdom</td>\n",
              "      <td>20.34</td>\n",
              "      <td>2010-12-01</td>\n",
              "    </tr>\n",
              "  </tbody>\n",
              "</table>\n",
              "</div>"
            ]
          },
          "metadata": {},
          "execution_count": 75
        }
      ],
      "metadata": {
        "id": "4bNmKqHNiqa_"
      }
    },
    {
      "cell_type": "markdown",
      "source": [
        "6. Plot RFM distributions"
      ],
      "metadata": {
        "id": "IB9a0AL9iqa_"
      }
    },
    {
      "cell_type": "code",
      "execution_count": 77,
      "source": [
        "plt.figure(figsize=(12,8))\r\n",
        "sns.histplot(x=\"Last_Purchase_Date\", data=recency, kde=True);"
      ],
      "outputs": [
        {
          "output_type": "display_data",
          "data": {
            "text/plain": [
              "<Figure size 864x576 with 1 Axes>"
            ],
            "image/svg+xml": "<?xml version=\"1.0\" encoding=\"utf-8\" standalone=\"no\"?>\r\n<!DOCTYPE svg PUBLIC \"-//W3C//DTD SVG 1.1//EN\"\r\n  \"http://www.w3.org/Graphics/SVG/1.1/DTD/svg11.dtd\">\r\n<!-- Created with matplotlib (https://matplotlib.org/) -->\r\n<svg height=\"479.914375pt\" version=\"1.1\" viewBox=\"0 0 723.765625 479.914375\" width=\"723.765625pt\" xmlns=\"http://www.w3.org/2000/svg\" xmlns:xlink=\"http://www.w3.org/1999/xlink\">\r\n <metadata>\r\n  <rdf:RDF xmlns:cc=\"http://creativecommons.org/ns#\" xmlns:dc=\"http://purl.org/dc/elements/1.1/\" xmlns:rdf=\"http://www.w3.org/1999/02/22-rdf-syntax-ns#\">\r\n   <cc:Work>\r\n    <dc:type rdf:resource=\"http://purl.org/dc/dcmitype/StillImage\"/>\r\n    <dc:date>2021-08-24T10:34:04.757761</dc:date>\r\n    <dc:format>image/svg+xml</dc:format>\r\n    <dc:creator>\r\n     <cc:Agent>\r\n      <dc:title>Matplotlib v3.3.4, https://matplotlib.org/</dc:title>\r\n     </cc:Agent>\r\n    </dc:creator>\r\n   </cc:Work>\r\n  </rdf:RDF>\r\n </metadata>\r\n <defs>\r\n  <style type=\"text/css\">*{stroke-linecap:butt;stroke-linejoin:round;}</style>\r\n </defs>\r\n <g id=\"figure_1\">\r\n  <g id=\"patch_1\">\r\n   <path d=\"M 0 479.914375 \r\nL 723.765625 479.914375 \r\nL 723.765625 0 \r\nL 0 0 \r\nz\r\n\" style=\"fill:none;\"/>\r\n  </g>\r\n  <g id=\"axes_1\">\r\n   <g id=\"patch_2\">\r\n    <path d=\"M 46.965625 442.08 \r\nL 716.565625 442.08 \r\nL 716.565625 7.2 \r\nL 46.965625 7.2 \r\nz\r\n\" style=\"fill:#ffffff;\"/>\r\n   </g>\r\n   <g id=\"patch_3\">\r\n    <path clip-path=\"url(#p2cfdeaa639)\" d=\"M 77.401989 442.08 \r\nL 102.765625 442.08 \r\nL 102.765625 27.908571 \r\nL 77.401989 27.908571 \r\nz\r\n\" style=\"fill:#1f77b4;fill-opacity:0.5;stroke:#000000;stroke-linejoin:miter;\"/>\r\n   </g>\r\n   <g id=\"patch_4\">\r\n    <path clip-path=\"url(#p2cfdeaa639)\" d=\"M 102.765625 442.08 \r\nL 128.129261 442.08 \r\nL 128.129261 157.006687 \r\nL 102.765625 157.006687 \r\nz\r\n\" style=\"fill:#1f77b4;fill-opacity:0.5;stroke:#000000;stroke-linejoin:miter;\"/>\r\n   </g>\r\n   <g id=\"patch_5\">\r\n    <path clip-path=\"url(#p2cfdeaa639)\" d=\"M 128.129261 442.08 \r\nL 153.492898 442.08 \r\nL 153.492898 286.986018 \r\nL 128.129261 286.986018 \r\nz\r\n\" style=\"fill:#1f77b4;fill-opacity:0.5;stroke:#000000;stroke-linejoin:miter;\"/>\r\n   </g>\r\n   <g id=\"patch_6\">\r\n    <path clip-path=\"url(#p2cfdeaa639)\" d=\"M 153.492898 442.08 \r\nL 178.856534 442.08 \r\nL 178.856534 313.422492 \r\nL 153.492898 313.422492 \r\nz\r\n\" style=\"fill:#1f77b4;fill-opacity:0.5;stroke:#000000;stroke-linejoin:miter;\"/>\r\n   </g>\r\n   <g id=\"patch_7\">\r\n    <path clip-path=\"url(#p2cfdeaa639)\" d=\"M 178.856534 442.08 \r\nL 204.22017 442.08 \r\nL 204.22017 325.318906 \r\nL 178.856534 325.318906 \r\nz\r\n\" style=\"fill:#1f77b4;fill-opacity:0.5;stroke:#000000;stroke-linejoin:miter;\"/>\r\n   </g>\r\n   <g id=\"patch_8\">\r\n    <path clip-path=\"url(#p2cfdeaa639)\" d=\"M 204.22017 442.08 \r\nL 229.583807 442.08 \r\nL 229.583807 368.939088 \r\nL 204.22017 368.939088 \r\nz\r\n\" style=\"fill:#1f77b4;fill-opacity:0.5;stroke:#000000;stroke-linejoin:miter;\"/>\r\n   </g>\r\n   <g id=\"patch_9\">\r\n    <path clip-path=\"url(#p2cfdeaa639)\" d=\"M 229.583807 442.08 \r\nL 254.947443 442.08 \r\nL 254.947443 394.494347 \r\nL 229.583807 394.494347 \r\nz\r\n\" style=\"fill:#1f77b4;fill-opacity:0.5;stroke:#000000;stroke-linejoin:miter;\"/>\r\n   </g>\r\n   <g id=\"patch_10\">\r\n    <path clip-path=\"url(#p2cfdeaa639)\" d=\"M 254.947443 442.08 \r\nL 280.31108 442.08 \r\nL 280.31108 400.222249 \r\nL 254.947443 400.222249 \r\nz\r\n\" style=\"fill:#1f77b4;fill-opacity:0.5;stroke:#000000;stroke-linejoin:miter;\"/>\r\n   </g>\r\n   <g id=\"patch_11\">\r\n    <path clip-path=\"url(#p2cfdeaa639)\" d=\"M 280.31108 442.08 \r\nL 305.674716 442.08 \r\nL 305.674716 407.271976 \r\nL 280.31108 407.271976 \r\nz\r\n\" style=\"fill:#1f77b4;fill-opacity:0.5;stroke:#000000;stroke-linejoin:miter;\"/>\r\n   </g>\r\n   <g id=\"patch_12\">\r\n    <path clip-path=\"url(#p2cfdeaa639)\" d=\"M 305.674716 442.08 \r\nL 331.038352 442.08 \r\nL 331.038352 402.865897 \r\nL 305.674716 402.865897 \r\nz\r\n\" style=\"fill:#1f77b4;fill-opacity:0.5;stroke:#000000;stroke-linejoin:miter;\"/>\r\n   </g>\r\n   <g id=\"patch_13\">\r\n    <path clip-path=\"url(#p2cfdeaa639)\" d=\"M 331.038352 442.08 \r\nL 356.401989 442.08 \r\nL 356.401989 406.831368 \r\nL 331.038352 406.831368 \r\nz\r\n\" style=\"fill:#1f77b4;fill-opacity:0.5;stroke:#000000;stroke-linejoin:miter;\"/>\r\n   </g>\r\n   <g id=\"patch_14\">\r\n    <path clip-path=\"url(#p2cfdeaa639)\" d=\"M 356.401989 442.08 \r\nL 381.765625 442.08 \r\nL 381.765625 400.662857 \r\nL 356.401989 400.662857 \r\nz\r\n\" style=\"fill:#1f77b4;fill-opacity:0.5;stroke:#000000;stroke-linejoin:miter;\"/>\r\n   </g>\r\n   <g id=\"patch_15\">\r\n    <path clip-path=\"url(#p2cfdeaa639)\" d=\"M 381.765625 442.08 \r\nL 407.129261 442.08 \r\nL 407.129261 407.712584 \r\nL 381.765625 407.712584 \r\nz\r\n\" style=\"fill:#1f77b4;fill-opacity:0.5;stroke:#000000;stroke-linejoin:miter;\"/>\r\n   </g>\r\n   <g id=\"patch_16\">\r\n    <path clip-path=\"url(#p2cfdeaa639)\" d=\"M 407.129261 442.08 \r\nL 432.492898 442.08 \r\nL 432.492898 409.034407 \r\nL 407.129261 409.034407 \r\nz\r\n\" style=\"fill:#1f77b4;fill-opacity:0.5;stroke:#000000;stroke-linejoin:miter;\"/>\r\n   </g>\r\n   <g id=\"patch_17\">\r\n    <path clip-path=\"url(#p2cfdeaa639)\" d=\"M 432.492898 442.08 \r\nL 457.856534 442.08 \r\nL 457.856534 417.405957 \r\nL 432.492898 417.405957 \r\nz\r\n\" style=\"fill:#1f77b4;fill-opacity:0.5;stroke:#000000;stroke-linejoin:miter;\"/>\r\n   </g>\r\n   <g id=\"patch_18\">\r\n    <path clip-path=\"url(#p2cfdeaa639)\" d=\"M 457.856534 442.08 \r\nL 483.22017 442.08 \r\nL 483.22017 406.831368 \r\nL 457.856534 406.831368 \r\nz\r\n\" style=\"fill:#1f77b4;fill-opacity:0.5;stroke:#000000;stroke-linejoin:miter;\"/>\r\n   </g>\r\n   <g id=\"patch_19\">\r\n    <path clip-path=\"url(#p2cfdeaa639)\" d=\"M 483.22017 442.08 \r\nL 508.583807 442.08 \r\nL 508.583807 407.271976 \r\nL 483.22017 407.271976 \r\nz\r\n\" style=\"fill:#1f77b4;fill-opacity:0.5;stroke:#000000;stroke-linejoin:miter;\"/>\r\n   </g>\r\n   <g id=\"patch_20\">\r\n    <path clip-path=\"url(#p2cfdeaa639)\" d=\"M 508.583807 442.08 \r\nL 533.947443 442.08 \r\nL 533.947443 413.881094 \r\nL 508.583807 413.881094 \r\nz\r\n\" style=\"fill:#1f77b4;fill-opacity:0.5;stroke:#000000;stroke-linejoin:miter;\"/>\r\n   </g>\r\n   <g id=\"patch_21\">\r\n    <path clip-path=\"url(#p2cfdeaa639)\" d=\"M 533.947443 442.08 \r\nL 559.31108 442.08 \r\nL 559.31108 417.405957 \r\nL 533.947443 417.405957 \r\nz\r\n\" style=\"fill:#1f77b4;fill-opacity:0.5;stroke:#000000;stroke-linejoin:miter;\"/>\r\n   </g>\r\n   <g id=\"patch_22\">\r\n    <path clip-path=\"url(#p2cfdeaa639)\" d=\"M 559.31108 442.08 \r\nL 584.674716 442.08 \r\nL 584.674716 419.168389 \r\nL 559.31108 419.168389 \r\nz\r\n\" style=\"fill:#1f77b4;fill-opacity:0.5;stroke:#000000;stroke-linejoin:miter;\"/>\r\n   </g>\r\n   <g id=\"patch_23\">\r\n    <path clip-path=\"url(#p2cfdeaa639)\" d=\"M 584.674716 442.08 \r\nL 610.038352 442.08 \r\nL 610.038352 414.76231 \r\nL 584.674716 414.76231 \r\nz\r\n\" style=\"fill:#1f77b4;fill-opacity:0.5;stroke:#000000;stroke-linejoin:miter;\"/>\r\n   </g>\r\n   <g id=\"patch_24\">\r\n    <path clip-path=\"url(#p2cfdeaa639)\" d=\"M 610.038352 442.08 \r\nL 635.401989 442.08 \r\nL 635.401989 430.624195 \r\nL 610.038352 430.624195 \r\nz\r\n\" style=\"fill:#1f77b4;fill-opacity:0.5;stroke:#000000;stroke-linejoin:miter;\"/>\r\n   </g>\r\n   <g id=\"patch_25\">\r\n    <path clip-path=\"url(#p2cfdeaa639)\" d=\"M 635.401989 442.08 \r\nL 660.765625 442.08 \r\nL 660.765625 435.911489 \r\nL 635.401989 435.911489 \r\nz\r\n\" style=\"fill:#1f77b4;fill-opacity:0.5;stroke:#000000;stroke-linejoin:miter;\"/>\r\n   </g>\r\n   <g id=\"patch_26\">\r\n    <path clip-path=\"url(#p2cfdeaa639)\" d=\"M 660.765625 442.08 \r\nL 686.129261 442.08 \r\nL 686.129261 397.578602 \r\nL 660.765625 397.578602 \r\nz\r\n\" style=\"fill:#1f77b4;fill-opacity:0.5;stroke:#000000;stroke-linejoin:miter;\"/>\r\n   </g>\r\n   <g id=\"matplotlib.axis_1\">\r\n    <g id=\"xtick_1\">\r\n     <g id=\"line2d_1\">\r\n      <defs>\r\n       <path d=\"M 0 0 \r\nL 0 3.5 \r\n\" id=\"m4fc103f2a1\" style=\"stroke:#000000;stroke-width:0.8;\"/>\r\n      </defs>\r\n      <g>\r\n       <use style=\"stroke:#000000;stroke-width:0.8;\" x=\"77.401989\" xlink:href=\"#m4fc103f2a1\" y=\"442.08\"/>\r\n      </g>\r\n     </g>\r\n     <g id=\"text_1\">\r\n      <!-- 0 -->\r\n      <g transform=\"translate(74.220739 456.678437)scale(0.1 -0.1)\">\r\n       <defs>\r\n        <path d=\"M 31.78125 66.40625 \r\nQ 24.171875 66.40625 20.328125 58.90625 \r\nQ 16.5 51.421875 16.5 36.375 \r\nQ 16.5 21.390625 20.328125 13.890625 \r\nQ 24.171875 6.390625 31.78125 6.390625 \r\nQ 39.453125 6.390625 43.28125 13.890625 \r\nQ 47.125 21.390625 47.125 36.375 \r\nQ 47.125 51.421875 43.28125 58.90625 \r\nQ 39.453125 66.40625 31.78125 66.40625 \r\nz\r\nM 31.78125 74.21875 \r\nQ 44.046875 74.21875 50.515625 64.515625 \r\nQ 56.984375 54.828125 56.984375 36.375 \r\nQ 56.984375 17.96875 50.515625 8.265625 \r\nQ 44.046875 -1.421875 31.78125 -1.421875 \r\nQ 19.53125 -1.421875 13.0625 8.265625 \r\nQ 6.59375 17.96875 6.59375 36.375 \r\nQ 6.59375 54.828125 13.0625 64.515625 \r\nQ 19.53125 74.21875 31.78125 74.21875 \r\nz\r\n\" id=\"DejaVuSans-48\"/>\r\n       </defs>\r\n       <use xlink:href=\"#DejaVuSans-48\"/>\r\n      </g>\r\n     </g>\r\n    </g>\r\n    <g id=\"xtick_2\">\r\n     <g id=\"line2d_2\">\r\n      <g>\r\n       <use style=\"stroke:#000000;stroke-width:0.8;\" x=\"159.000819\" xlink:href=\"#m4fc103f2a1\" y=\"442.08\"/>\r\n      </g>\r\n     </g>\r\n     <g id=\"text_2\">\r\n      <!-- 50 -->\r\n      <g transform=\"translate(152.638319 456.678437)scale(0.1 -0.1)\">\r\n       <defs>\r\n        <path d=\"M 10.796875 72.90625 \r\nL 49.515625 72.90625 \r\nL 49.515625 64.59375 \r\nL 19.828125 64.59375 \r\nL 19.828125 46.734375 \r\nQ 21.96875 47.46875 24.109375 47.828125 \r\nQ 26.265625 48.1875 28.421875 48.1875 \r\nQ 40.625 48.1875 47.75 41.5 \r\nQ 54.890625 34.8125 54.890625 23.390625 \r\nQ 54.890625 11.625 47.5625 5.09375 \r\nQ 40.234375 -1.421875 26.90625 -1.421875 \r\nQ 22.3125 -1.421875 17.546875 -0.640625 \r\nQ 12.796875 0.140625 7.71875 1.703125 \r\nL 7.71875 11.625 \r\nQ 12.109375 9.234375 16.796875 8.0625 \r\nQ 21.484375 6.890625 26.703125 6.890625 \r\nQ 35.15625 6.890625 40.078125 11.328125 \r\nQ 45.015625 15.765625 45.015625 23.390625 \r\nQ 45.015625 31 40.078125 35.4375 \r\nQ 35.15625 39.890625 26.703125 39.890625 \r\nQ 22.75 39.890625 18.8125 39.015625 \r\nQ 14.890625 38.140625 10.796875 36.28125 \r\nz\r\n\" id=\"DejaVuSans-53\"/>\r\n       </defs>\r\n       <use xlink:href=\"#DejaVuSans-53\"/>\r\n       <use x=\"63.623047\" xlink:href=\"#DejaVuSans-48\"/>\r\n      </g>\r\n     </g>\r\n    </g>\r\n    <g id=\"xtick_3\">\r\n     <g id=\"line2d_3\">\r\n      <g>\r\n       <use style=\"stroke:#000000;stroke-width:0.8;\" x=\"240.599649\" xlink:href=\"#m4fc103f2a1\" y=\"442.08\"/>\r\n      </g>\r\n     </g>\r\n     <g id=\"text_3\">\r\n      <!-- 100 -->\r\n      <g transform=\"translate(231.055899 456.678437)scale(0.1 -0.1)\">\r\n       <defs>\r\n        <path d=\"M 12.40625 8.296875 \r\nL 28.515625 8.296875 \r\nL 28.515625 63.921875 \r\nL 10.984375 60.40625 \r\nL 10.984375 69.390625 \r\nL 28.421875 72.90625 \r\nL 38.28125 72.90625 \r\nL 38.28125 8.296875 \r\nL 54.390625 8.296875 \r\nL 54.390625 0 \r\nL 12.40625 0 \r\nz\r\n\" id=\"DejaVuSans-49\"/>\r\n       </defs>\r\n       <use xlink:href=\"#DejaVuSans-49\"/>\r\n       <use x=\"63.623047\" xlink:href=\"#DejaVuSans-48\"/>\r\n       <use x=\"127.246094\" xlink:href=\"#DejaVuSans-48\"/>\r\n      </g>\r\n     </g>\r\n    </g>\r\n    <g id=\"xtick_4\">\r\n     <g id=\"line2d_4\">\r\n      <g>\r\n       <use style=\"stroke:#000000;stroke-width:0.8;\" x=\"322.198479\" xlink:href=\"#m4fc103f2a1\" y=\"442.08\"/>\r\n      </g>\r\n     </g>\r\n     <g id=\"text_4\">\r\n      <!-- 150 -->\r\n      <g transform=\"translate(312.654729 456.678437)scale(0.1 -0.1)\">\r\n       <use xlink:href=\"#DejaVuSans-49\"/>\r\n       <use x=\"63.623047\" xlink:href=\"#DejaVuSans-53\"/>\r\n       <use x=\"127.246094\" xlink:href=\"#DejaVuSans-48\"/>\r\n      </g>\r\n     </g>\r\n    </g>\r\n    <g id=\"xtick_5\">\r\n     <g id=\"line2d_5\">\r\n      <g>\r\n       <use style=\"stroke:#000000;stroke-width:0.8;\" x=\"403.797309\" xlink:href=\"#m4fc103f2a1\" y=\"442.08\"/>\r\n      </g>\r\n     </g>\r\n     <g id=\"text_5\">\r\n      <!-- 200 -->\r\n      <g transform=\"translate(394.253559 456.678437)scale(0.1 -0.1)\">\r\n       <defs>\r\n        <path d=\"M 19.1875 8.296875 \r\nL 53.609375 8.296875 \r\nL 53.609375 0 \r\nL 7.328125 0 \r\nL 7.328125 8.296875 \r\nQ 12.9375 14.109375 22.625 23.890625 \r\nQ 32.328125 33.6875 34.8125 36.53125 \r\nQ 39.546875 41.84375 41.421875 45.53125 \r\nQ 43.3125 49.21875 43.3125 52.78125 \r\nQ 43.3125 58.59375 39.234375 62.25 \r\nQ 35.15625 65.921875 28.609375 65.921875 \r\nQ 23.96875 65.921875 18.8125 64.3125 \r\nQ 13.671875 62.703125 7.8125 59.421875 \r\nL 7.8125 69.390625 \r\nQ 13.765625 71.78125 18.9375 73 \r\nQ 24.125 74.21875 28.421875 74.21875 \r\nQ 39.75 74.21875 46.484375 68.546875 \r\nQ 53.21875 62.890625 53.21875 53.421875 \r\nQ 53.21875 48.921875 51.53125 44.890625 \r\nQ 49.859375 40.875 45.40625 35.40625 \r\nQ 44.1875 33.984375 37.640625 27.21875 \r\nQ 31.109375 20.453125 19.1875 8.296875 \r\nz\r\n\" id=\"DejaVuSans-50\"/>\r\n       </defs>\r\n       <use xlink:href=\"#DejaVuSans-50\"/>\r\n       <use x=\"63.623047\" xlink:href=\"#DejaVuSans-48\"/>\r\n       <use x=\"127.246094\" xlink:href=\"#DejaVuSans-48\"/>\r\n      </g>\r\n     </g>\r\n    </g>\r\n    <g id=\"xtick_6\">\r\n     <g id=\"line2d_6\">\r\n      <g>\r\n       <use style=\"stroke:#000000;stroke-width:0.8;\" x=\"485.396139\" xlink:href=\"#m4fc103f2a1\" y=\"442.08\"/>\r\n      </g>\r\n     </g>\r\n     <g id=\"text_6\">\r\n      <!-- 250 -->\r\n      <g transform=\"translate(475.852389 456.678437)scale(0.1 -0.1)\">\r\n       <use xlink:href=\"#DejaVuSans-50\"/>\r\n       <use x=\"63.623047\" xlink:href=\"#DejaVuSans-53\"/>\r\n       <use x=\"127.246094\" xlink:href=\"#DejaVuSans-48\"/>\r\n      </g>\r\n     </g>\r\n    </g>\r\n    <g id=\"xtick_7\">\r\n     <g id=\"line2d_7\">\r\n      <g>\r\n       <use style=\"stroke:#000000;stroke-width:0.8;\" x=\"566.994969\" xlink:href=\"#m4fc103f2a1\" y=\"442.08\"/>\r\n      </g>\r\n     </g>\r\n     <g id=\"text_7\">\r\n      <!-- 300 -->\r\n      <g transform=\"translate(557.451219 456.678437)scale(0.1 -0.1)\">\r\n       <defs>\r\n        <path d=\"M 40.578125 39.3125 \r\nQ 47.65625 37.796875 51.625 33 \r\nQ 55.609375 28.21875 55.609375 21.1875 \r\nQ 55.609375 10.40625 48.1875 4.484375 \r\nQ 40.765625 -1.421875 27.09375 -1.421875 \r\nQ 22.515625 -1.421875 17.65625 -0.515625 \r\nQ 12.796875 0.390625 7.625 2.203125 \r\nL 7.625 11.71875 \r\nQ 11.71875 9.328125 16.59375 8.109375 \r\nQ 21.484375 6.890625 26.8125 6.890625 \r\nQ 36.078125 6.890625 40.9375 10.546875 \r\nQ 45.796875 14.203125 45.796875 21.1875 \r\nQ 45.796875 27.640625 41.28125 31.265625 \r\nQ 36.765625 34.90625 28.71875 34.90625 \r\nL 20.21875 34.90625 \r\nL 20.21875 43.015625 \r\nL 29.109375 43.015625 \r\nQ 36.375 43.015625 40.234375 45.921875 \r\nQ 44.09375 48.828125 44.09375 54.296875 \r\nQ 44.09375 59.90625 40.109375 62.90625 \r\nQ 36.140625 65.921875 28.71875 65.921875 \r\nQ 24.65625 65.921875 20.015625 65.03125 \r\nQ 15.375 64.15625 9.8125 62.3125 \r\nL 9.8125 71.09375 \r\nQ 15.4375 72.65625 20.34375 73.4375 \r\nQ 25.25 74.21875 29.59375 74.21875 \r\nQ 40.828125 74.21875 47.359375 69.109375 \r\nQ 53.90625 64.015625 53.90625 55.328125 \r\nQ 53.90625 49.265625 50.4375 45.09375 \r\nQ 46.96875 40.921875 40.578125 39.3125 \r\nz\r\n\" id=\"DejaVuSans-51\"/>\r\n       </defs>\r\n       <use xlink:href=\"#DejaVuSans-51\"/>\r\n       <use x=\"63.623047\" xlink:href=\"#DejaVuSans-48\"/>\r\n       <use x=\"127.246094\" xlink:href=\"#DejaVuSans-48\"/>\r\n      </g>\r\n     </g>\r\n    </g>\r\n    <g id=\"xtick_8\">\r\n     <g id=\"line2d_8\">\r\n      <g>\r\n       <use style=\"stroke:#000000;stroke-width:0.8;\" x=\"648.5938\" xlink:href=\"#m4fc103f2a1\" y=\"442.08\"/>\r\n      </g>\r\n     </g>\r\n     <g id=\"text_8\">\r\n      <!-- 350 -->\r\n      <g transform=\"translate(639.05005 456.678437)scale(0.1 -0.1)\">\r\n       <use xlink:href=\"#DejaVuSans-51\"/>\r\n       <use x=\"63.623047\" xlink:href=\"#DejaVuSans-53\"/>\r\n       <use x=\"127.246094\" xlink:href=\"#DejaVuSans-48\"/>\r\n      </g>\r\n     </g>\r\n    </g>\r\n    <g id=\"text_9\">\r\n     <!-- Last_Purchase_Date -->\r\n     <g transform=\"translate(331.697656 470.356562)scale(0.1 -0.1)\">\r\n      <defs>\r\n       <path d=\"M 9.8125 72.90625 \r\nL 19.671875 72.90625 \r\nL 19.671875 8.296875 \r\nL 55.171875 8.296875 \r\nL 55.171875 0 \r\nL 9.8125 0 \r\nz\r\n\" id=\"DejaVuSans-76\"/>\r\n       <path d=\"M 34.28125 27.484375 \r\nQ 23.390625 27.484375 19.1875 25 \r\nQ 14.984375 22.515625 14.984375 16.5 \r\nQ 14.984375 11.71875 18.140625 8.90625 \r\nQ 21.296875 6.109375 26.703125 6.109375 \r\nQ 34.1875 6.109375 38.703125 11.40625 \r\nQ 43.21875 16.703125 43.21875 25.484375 \r\nL 43.21875 27.484375 \r\nz\r\nM 52.203125 31.203125 \r\nL 52.203125 0 \r\nL 43.21875 0 \r\nL 43.21875 8.296875 \r\nQ 40.140625 3.328125 35.546875 0.953125 \r\nQ 30.953125 -1.421875 24.3125 -1.421875 \r\nQ 15.921875 -1.421875 10.953125 3.296875 \r\nQ 6 8.015625 6 15.921875 \r\nQ 6 25.140625 12.171875 29.828125 \r\nQ 18.359375 34.515625 30.609375 34.515625 \r\nL 43.21875 34.515625 \r\nL 43.21875 35.40625 \r\nQ 43.21875 41.609375 39.140625 45 \r\nQ 35.0625 48.390625 27.6875 48.390625 \r\nQ 23 48.390625 18.546875 47.265625 \r\nQ 14.109375 46.140625 10.015625 43.890625 \r\nL 10.015625 52.203125 \r\nQ 14.9375 54.109375 19.578125 55.046875 \r\nQ 24.21875 56 28.609375 56 \r\nQ 40.484375 56 46.34375 49.84375 \r\nQ 52.203125 43.703125 52.203125 31.203125 \r\nz\r\n\" id=\"DejaVuSans-97\"/>\r\n       <path d=\"M 44.28125 53.078125 \r\nL 44.28125 44.578125 \r\nQ 40.484375 46.53125 36.375 47.5 \r\nQ 32.28125 48.484375 27.875 48.484375 \r\nQ 21.1875 48.484375 17.84375 46.4375 \r\nQ 14.5 44.390625 14.5 40.28125 \r\nQ 14.5 37.15625 16.890625 35.375 \r\nQ 19.28125 33.59375 26.515625 31.984375 \r\nL 29.59375 31.296875 \r\nQ 39.15625 29.25 43.1875 25.515625 \r\nQ 47.21875 21.78125 47.21875 15.09375 \r\nQ 47.21875 7.46875 41.1875 3.015625 \r\nQ 35.15625 -1.421875 24.609375 -1.421875 \r\nQ 20.21875 -1.421875 15.453125 -0.5625 \r\nQ 10.6875 0.296875 5.421875 2 \r\nL 5.421875 11.28125 \r\nQ 10.40625 8.6875 15.234375 7.390625 \r\nQ 20.0625 6.109375 24.8125 6.109375 \r\nQ 31.15625 6.109375 34.5625 8.28125 \r\nQ 37.984375 10.453125 37.984375 14.40625 \r\nQ 37.984375 18.0625 35.515625 20.015625 \r\nQ 33.0625 21.96875 24.703125 23.78125 \r\nL 21.578125 24.515625 \r\nQ 13.234375 26.265625 9.515625 29.90625 \r\nQ 5.8125 33.546875 5.8125 39.890625 \r\nQ 5.8125 47.609375 11.28125 51.796875 \r\nQ 16.75 56 26.8125 56 \r\nQ 31.78125 56 36.171875 55.265625 \r\nQ 40.578125 54.546875 44.28125 53.078125 \r\nz\r\n\" id=\"DejaVuSans-115\"/>\r\n       <path d=\"M 18.3125 70.21875 \r\nL 18.3125 54.6875 \r\nL 36.8125 54.6875 \r\nL 36.8125 47.703125 \r\nL 18.3125 47.703125 \r\nL 18.3125 18.015625 \r\nQ 18.3125 11.328125 20.140625 9.421875 \r\nQ 21.96875 7.515625 27.59375 7.515625 \r\nL 36.8125 7.515625 \r\nL 36.8125 0 \r\nL 27.59375 0 \r\nQ 17.1875 0 13.234375 3.875 \r\nQ 9.28125 7.765625 9.28125 18.015625 \r\nL 9.28125 47.703125 \r\nL 2.6875 47.703125 \r\nL 2.6875 54.6875 \r\nL 9.28125 54.6875 \r\nL 9.28125 70.21875 \r\nz\r\n\" id=\"DejaVuSans-116\"/>\r\n       <path d=\"M 50.984375 -16.609375 \r\nL 50.984375 -23.578125 \r\nL -0.984375 -23.578125 \r\nL -0.984375 -16.609375 \r\nz\r\n\" id=\"DejaVuSans-95\"/>\r\n       <path d=\"M 19.671875 64.796875 \r\nL 19.671875 37.40625 \r\nL 32.078125 37.40625 \r\nQ 38.96875 37.40625 42.71875 40.96875 \r\nQ 46.484375 44.53125 46.484375 51.125 \r\nQ 46.484375 57.671875 42.71875 61.234375 \r\nQ 38.96875 64.796875 32.078125 64.796875 \r\nz\r\nM 9.8125 72.90625 \r\nL 32.078125 72.90625 \r\nQ 44.34375 72.90625 50.609375 67.359375 \r\nQ 56.890625 61.8125 56.890625 51.125 \r\nQ 56.890625 40.328125 50.609375 34.8125 \r\nQ 44.34375 29.296875 32.078125 29.296875 \r\nL 19.671875 29.296875 \r\nL 19.671875 0 \r\nL 9.8125 0 \r\nz\r\n\" id=\"DejaVuSans-80\"/>\r\n       <path d=\"M 8.5 21.578125 \r\nL 8.5 54.6875 \r\nL 17.484375 54.6875 \r\nL 17.484375 21.921875 \r\nQ 17.484375 14.15625 20.5 10.265625 \r\nQ 23.53125 6.390625 29.59375 6.390625 \r\nQ 36.859375 6.390625 41.078125 11.03125 \r\nQ 45.3125 15.671875 45.3125 23.6875 \r\nL 45.3125 54.6875 \r\nL 54.296875 54.6875 \r\nL 54.296875 0 \r\nL 45.3125 0 \r\nL 45.3125 8.40625 \r\nQ 42.046875 3.421875 37.71875 1 \r\nQ 33.40625 -1.421875 27.6875 -1.421875 \r\nQ 18.265625 -1.421875 13.375 4.4375 \r\nQ 8.5 10.296875 8.5 21.578125 \r\nz\r\nM 31.109375 56 \r\nz\r\n\" id=\"DejaVuSans-117\"/>\r\n       <path d=\"M 41.109375 46.296875 \r\nQ 39.59375 47.171875 37.8125 47.578125 \r\nQ 36.03125 48 33.890625 48 \r\nQ 26.265625 48 22.1875 43.046875 \r\nQ 18.109375 38.09375 18.109375 28.8125 \r\nL 18.109375 0 \r\nL 9.078125 0 \r\nL 9.078125 54.6875 \r\nL 18.109375 54.6875 \r\nL 18.109375 46.1875 \r\nQ 20.953125 51.171875 25.484375 53.578125 \r\nQ 30.03125 56 36.53125 56 \r\nQ 37.453125 56 38.578125 55.875 \r\nQ 39.703125 55.765625 41.0625 55.515625 \r\nz\r\n\" id=\"DejaVuSans-114\"/>\r\n       <path d=\"M 48.78125 52.59375 \r\nL 48.78125 44.1875 \r\nQ 44.96875 46.296875 41.140625 47.34375 \r\nQ 37.3125 48.390625 33.40625 48.390625 \r\nQ 24.65625 48.390625 19.8125 42.84375 \r\nQ 14.984375 37.3125 14.984375 27.296875 \r\nQ 14.984375 17.28125 19.8125 11.734375 \r\nQ 24.65625 6.203125 33.40625 6.203125 \r\nQ 37.3125 6.203125 41.140625 7.25 \r\nQ 44.96875 8.296875 48.78125 10.40625 \r\nL 48.78125 2.09375 \r\nQ 45.015625 0.34375 40.984375 -0.53125 \r\nQ 36.96875 -1.421875 32.421875 -1.421875 \r\nQ 20.0625 -1.421875 12.78125 6.34375 \r\nQ 5.515625 14.109375 5.515625 27.296875 \r\nQ 5.515625 40.671875 12.859375 48.328125 \r\nQ 20.21875 56 33.015625 56 \r\nQ 37.15625 56 41.109375 55.140625 \r\nQ 45.0625 54.296875 48.78125 52.59375 \r\nz\r\n\" id=\"DejaVuSans-99\"/>\r\n       <path d=\"M 54.890625 33.015625 \r\nL 54.890625 0 \r\nL 45.90625 0 \r\nL 45.90625 32.71875 \r\nQ 45.90625 40.484375 42.875 44.328125 \r\nQ 39.84375 48.1875 33.796875 48.1875 \r\nQ 26.515625 48.1875 22.3125 43.546875 \r\nQ 18.109375 38.921875 18.109375 30.90625 \r\nL 18.109375 0 \r\nL 9.078125 0 \r\nL 9.078125 75.984375 \r\nL 18.109375 75.984375 \r\nL 18.109375 46.1875 \r\nQ 21.34375 51.125 25.703125 53.5625 \r\nQ 30.078125 56 35.796875 56 \r\nQ 45.21875 56 50.046875 50.171875 \r\nQ 54.890625 44.34375 54.890625 33.015625 \r\nz\r\n\" id=\"DejaVuSans-104\"/>\r\n       <path d=\"M 56.203125 29.59375 \r\nL 56.203125 25.203125 \r\nL 14.890625 25.203125 \r\nQ 15.484375 15.921875 20.484375 11.0625 \r\nQ 25.484375 6.203125 34.421875 6.203125 \r\nQ 39.59375 6.203125 44.453125 7.46875 \r\nQ 49.3125 8.734375 54.109375 11.28125 \r\nL 54.109375 2.78125 \r\nQ 49.265625 0.734375 44.1875 -0.34375 \r\nQ 39.109375 -1.421875 33.890625 -1.421875 \r\nQ 20.796875 -1.421875 13.15625 6.1875 \r\nQ 5.515625 13.8125 5.515625 26.8125 \r\nQ 5.515625 40.234375 12.765625 48.109375 \r\nQ 20.015625 56 32.328125 56 \r\nQ 43.359375 56 49.78125 48.890625 \r\nQ 56.203125 41.796875 56.203125 29.59375 \r\nz\r\nM 47.21875 32.234375 \r\nQ 47.125 39.59375 43.09375 43.984375 \r\nQ 39.0625 48.390625 32.421875 48.390625 \r\nQ 24.90625 48.390625 20.390625 44.140625 \r\nQ 15.875 39.890625 15.1875 32.171875 \r\nz\r\n\" id=\"DejaVuSans-101\"/>\r\n       <path d=\"M 19.671875 64.796875 \r\nL 19.671875 8.109375 \r\nL 31.59375 8.109375 \r\nQ 46.6875 8.109375 53.6875 14.9375 \r\nQ 60.6875 21.78125 60.6875 36.53125 \r\nQ 60.6875 51.171875 53.6875 57.984375 \r\nQ 46.6875 64.796875 31.59375 64.796875 \r\nz\r\nM 9.8125 72.90625 \r\nL 30.078125 72.90625 \r\nQ 51.265625 72.90625 61.171875 64.09375 \r\nQ 71.09375 55.28125 71.09375 36.53125 \r\nQ 71.09375 17.671875 61.125 8.828125 \r\nQ 51.171875 0 30.078125 0 \r\nL 9.8125 0 \r\nz\r\n\" id=\"DejaVuSans-68\"/>\r\n      </defs>\r\n      <use xlink:href=\"#DejaVuSans-76\"/>\r\n      <use x=\"55.712891\" xlink:href=\"#DejaVuSans-97\"/>\r\n      <use x=\"116.992188\" xlink:href=\"#DejaVuSans-115\"/>\r\n      <use x=\"169.091797\" xlink:href=\"#DejaVuSans-116\"/>\r\n      <use x=\"208.300781\" xlink:href=\"#DejaVuSans-95\"/>\r\n      <use x=\"258.300781\" xlink:href=\"#DejaVuSans-80\"/>\r\n      <use x=\"316.853516\" xlink:href=\"#DejaVuSans-117\"/>\r\n      <use x=\"380.232422\" xlink:href=\"#DejaVuSans-114\"/>\r\n      <use x=\"419.095703\" xlink:href=\"#DejaVuSans-99\"/>\r\n      <use x=\"474.076172\" xlink:href=\"#DejaVuSans-104\"/>\r\n      <use x=\"537.455078\" xlink:href=\"#DejaVuSans-97\"/>\r\n      <use x=\"598.734375\" xlink:href=\"#DejaVuSans-115\"/>\r\n      <use x=\"650.833984\" xlink:href=\"#DejaVuSans-101\"/>\r\n      <use x=\"712.357422\" xlink:href=\"#DejaVuSans-95\"/>\r\n      <use x=\"762.357422\" xlink:href=\"#DejaVuSans-68\"/>\r\n      <use x=\"839.359375\" xlink:href=\"#DejaVuSans-97\"/>\r\n      <use x=\"900.638672\" xlink:href=\"#DejaVuSans-116\"/>\r\n      <use x=\"939.847656\" xlink:href=\"#DejaVuSans-101\"/>\r\n     </g>\r\n    </g>\r\n   </g>\r\n   <g id=\"matplotlib.axis_2\">\r\n    <g id=\"ytick_1\">\r\n     <g id=\"line2d_9\">\r\n      <defs>\r\n       <path d=\"M 0 0 \r\nL -3.5 0 \r\n\" id=\"m88a39876d1\" style=\"stroke:#000000;stroke-width:0.8;\"/>\r\n      </defs>\r\n      <g>\r\n       <use style=\"stroke:#000000;stroke-width:0.8;\" x=\"46.965625\" xlink:href=\"#m88a39876d1\" y=\"442.08\"/>\r\n      </g>\r\n     </g>\r\n     <g id=\"text_10\">\r\n      <!-- 0 -->\r\n      <g transform=\"translate(33.603125 445.879219)scale(0.1 -0.1)\">\r\n       <use xlink:href=\"#DejaVuSans-48\"/>\r\n      </g>\r\n     </g>\r\n    </g>\r\n    <g id=\"ytick_2\">\r\n     <g id=\"line2d_10\">\r\n      <g>\r\n       <use style=\"stroke:#000000;stroke-width:0.8;\" x=\"46.965625\" xlink:href=\"#m88a39876d1\" y=\"353.958419\"/>\r\n      </g>\r\n     </g>\r\n     <g id=\"text_11\">\r\n      <!-- 200 -->\r\n      <g transform=\"translate(20.878125 357.757638)scale(0.1 -0.1)\">\r\n       <use xlink:href=\"#DejaVuSans-50\"/>\r\n       <use x=\"63.623047\" xlink:href=\"#DejaVuSans-48\"/>\r\n       <use x=\"127.246094\" xlink:href=\"#DejaVuSans-48\"/>\r\n      </g>\r\n     </g>\r\n    </g>\r\n    <g id=\"ytick_3\">\r\n     <g id=\"line2d_11\">\r\n      <g>\r\n       <use style=\"stroke:#000000;stroke-width:0.8;\" x=\"46.965625\" xlink:href=\"#m88a39876d1\" y=\"265.836839\"/>\r\n      </g>\r\n     </g>\r\n     <g id=\"text_12\">\r\n      <!-- 400 -->\r\n      <g transform=\"translate(20.878125 269.636058)scale(0.1 -0.1)\">\r\n       <defs>\r\n        <path d=\"M 37.796875 64.3125 \r\nL 12.890625 25.390625 \r\nL 37.796875 25.390625 \r\nz\r\nM 35.203125 72.90625 \r\nL 47.609375 72.90625 \r\nL 47.609375 25.390625 \r\nL 58.015625 25.390625 \r\nL 58.015625 17.1875 \r\nL 47.609375 17.1875 \r\nL 47.609375 0 \r\nL 37.796875 0 \r\nL 37.796875 17.1875 \r\nL 4.890625 17.1875 \r\nL 4.890625 26.703125 \r\nz\r\n\" id=\"DejaVuSans-52\"/>\r\n       </defs>\r\n       <use xlink:href=\"#DejaVuSans-52\"/>\r\n       <use x=\"63.623047\" xlink:href=\"#DejaVuSans-48\"/>\r\n       <use x=\"127.246094\" xlink:href=\"#DejaVuSans-48\"/>\r\n      </g>\r\n     </g>\r\n    </g>\r\n    <g id=\"ytick_4\">\r\n     <g id=\"line2d_12\">\r\n      <g>\r\n       <use style=\"stroke:#000000;stroke-width:0.8;\" x=\"46.965625\" xlink:href=\"#m88a39876d1\" y=\"177.715258\"/>\r\n      </g>\r\n     </g>\r\n     <g id=\"text_13\">\r\n      <!-- 600 -->\r\n      <g transform=\"translate(20.878125 181.514477)scale(0.1 -0.1)\">\r\n       <defs>\r\n        <path d=\"M 33.015625 40.375 \r\nQ 26.375 40.375 22.484375 35.828125 \r\nQ 18.609375 31.296875 18.609375 23.390625 \r\nQ 18.609375 15.53125 22.484375 10.953125 \r\nQ 26.375 6.390625 33.015625 6.390625 \r\nQ 39.65625 6.390625 43.53125 10.953125 \r\nQ 47.40625 15.53125 47.40625 23.390625 \r\nQ 47.40625 31.296875 43.53125 35.828125 \r\nQ 39.65625 40.375 33.015625 40.375 \r\nz\r\nM 52.59375 71.296875 \r\nL 52.59375 62.3125 \r\nQ 48.875 64.0625 45.09375 64.984375 \r\nQ 41.3125 65.921875 37.59375 65.921875 \r\nQ 27.828125 65.921875 22.671875 59.328125 \r\nQ 17.53125 52.734375 16.796875 39.40625 \r\nQ 19.671875 43.65625 24.015625 45.921875 \r\nQ 28.375 48.1875 33.59375 48.1875 \r\nQ 44.578125 48.1875 50.953125 41.515625 \r\nQ 57.328125 34.859375 57.328125 23.390625 \r\nQ 57.328125 12.15625 50.6875 5.359375 \r\nQ 44.046875 -1.421875 33.015625 -1.421875 \r\nQ 20.359375 -1.421875 13.671875 8.265625 \r\nQ 6.984375 17.96875 6.984375 36.375 \r\nQ 6.984375 53.65625 15.1875 63.9375 \r\nQ 23.390625 74.21875 37.203125 74.21875 \r\nQ 40.921875 74.21875 44.703125 73.484375 \r\nQ 48.484375 72.75 52.59375 71.296875 \r\nz\r\n\" id=\"DejaVuSans-54\"/>\r\n       </defs>\r\n       <use xlink:href=\"#DejaVuSans-54\"/>\r\n       <use x=\"63.623047\" xlink:href=\"#DejaVuSans-48\"/>\r\n       <use x=\"127.246094\" xlink:href=\"#DejaVuSans-48\"/>\r\n      </g>\r\n     </g>\r\n    </g>\r\n    <g id=\"ytick_5\">\r\n     <g id=\"line2d_13\">\r\n      <g>\r\n       <use style=\"stroke:#000000;stroke-width:0.8;\" x=\"46.965625\" xlink:href=\"#m88a39876d1\" y=\"89.593678\"/>\r\n      </g>\r\n     </g>\r\n     <g id=\"text_14\">\r\n      <!-- 800 -->\r\n      <g transform=\"translate(20.878125 93.392897)scale(0.1 -0.1)\">\r\n       <defs>\r\n        <path d=\"M 31.78125 34.625 \r\nQ 24.75 34.625 20.71875 30.859375 \r\nQ 16.703125 27.09375 16.703125 20.515625 \r\nQ 16.703125 13.921875 20.71875 10.15625 \r\nQ 24.75 6.390625 31.78125 6.390625 \r\nQ 38.8125 6.390625 42.859375 10.171875 \r\nQ 46.921875 13.96875 46.921875 20.515625 \r\nQ 46.921875 27.09375 42.890625 30.859375 \r\nQ 38.875 34.625 31.78125 34.625 \r\nz\r\nM 21.921875 38.8125 \r\nQ 15.578125 40.375 12.03125 44.71875 \r\nQ 8.5 49.078125 8.5 55.328125 \r\nQ 8.5 64.0625 14.71875 69.140625 \r\nQ 20.953125 74.21875 31.78125 74.21875 \r\nQ 42.671875 74.21875 48.875 69.140625 \r\nQ 55.078125 64.0625 55.078125 55.328125 \r\nQ 55.078125 49.078125 51.53125 44.71875 \r\nQ 48 40.375 41.703125 38.8125 \r\nQ 48.828125 37.15625 52.796875 32.3125 \r\nQ 56.78125 27.484375 56.78125 20.515625 \r\nQ 56.78125 9.90625 50.3125 4.234375 \r\nQ 43.84375 -1.421875 31.78125 -1.421875 \r\nQ 19.734375 -1.421875 13.25 4.234375 \r\nQ 6.78125 9.90625 6.78125 20.515625 \r\nQ 6.78125 27.484375 10.78125 32.3125 \r\nQ 14.796875 37.15625 21.921875 38.8125 \r\nz\r\nM 18.3125 54.390625 \r\nQ 18.3125 48.734375 21.84375 45.5625 \r\nQ 25.390625 42.390625 31.78125 42.390625 \r\nQ 38.140625 42.390625 41.71875 45.5625 \r\nQ 45.3125 48.734375 45.3125 54.390625 \r\nQ 45.3125 60.0625 41.71875 63.234375 \r\nQ 38.140625 66.40625 31.78125 66.40625 \r\nQ 25.390625 66.40625 21.84375 63.234375 \r\nQ 18.3125 60.0625 18.3125 54.390625 \r\nz\r\n\" id=\"DejaVuSans-56\"/>\r\n       </defs>\r\n       <use xlink:href=\"#DejaVuSans-56\"/>\r\n       <use x=\"63.623047\" xlink:href=\"#DejaVuSans-48\"/>\r\n       <use x=\"127.246094\" xlink:href=\"#DejaVuSans-48\"/>\r\n      </g>\r\n     </g>\r\n    </g>\r\n    <g id=\"text_15\">\r\n     <!-- Count -->\r\n     <g transform=\"translate(14.798438 239.488437)rotate(-90)scale(0.1 -0.1)\">\r\n      <defs>\r\n       <path d=\"M 64.40625 67.28125 \r\nL 64.40625 56.890625 \r\nQ 59.421875 61.53125 53.78125 63.8125 \r\nQ 48.140625 66.109375 41.796875 66.109375 \r\nQ 29.296875 66.109375 22.65625 58.46875 \r\nQ 16.015625 50.828125 16.015625 36.375 \r\nQ 16.015625 21.96875 22.65625 14.328125 \r\nQ 29.296875 6.6875 41.796875 6.6875 \r\nQ 48.140625 6.6875 53.78125 8.984375 \r\nQ 59.421875 11.28125 64.40625 15.921875 \r\nL 64.40625 5.609375 \r\nQ 59.234375 2.09375 53.4375 0.328125 \r\nQ 47.65625 -1.421875 41.21875 -1.421875 \r\nQ 24.65625 -1.421875 15.125 8.703125 \r\nQ 5.609375 18.84375 5.609375 36.375 \r\nQ 5.609375 53.953125 15.125 64.078125 \r\nQ 24.65625 74.21875 41.21875 74.21875 \r\nQ 47.75 74.21875 53.53125 72.484375 \r\nQ 59.328125 70.75 64.40625 67.28125 \r\nz\r\n\" id=\"DejaVuSans-67\"/>\r\n       <path d=\"M 30.609375 48.390625 \r\nQ 23.390625 48.390625 19.1875 42.75 \r\nQ 14.984375 37.109375 14.984375 27.296875 \r\nQ 14.984375 17.484375 19.15625 11.84375 \r\nQ 23.34375 6.203125 30.609375 6.203125 \r\nQ 37.796875 6.203125 41.984375 11.859375 \r\nQ 46.1875 17.53125 46.1875 27.296875 \r\nQ 46.1875 37.015625 41.984375 42.703125 \r\nQ 37.796875 48.390625 30.609375 48.390625 \r\nz\r\nM 30.609375 56 \r\nQ 42.328125 56 49.015625 48.375 \r\nQ 55.71875 40.765625 55.71875 27.296875 \r\nQ 55.71875 13.875 49.015625 6.21875 \r\nQ 42.328125 -1.421875 30.609375 -1.421875 \r\nQ 18.84375 -1.421875 12.171875 6.21875 \r\nQ 5.515625 13.875 5.515625 27.296875 \r\nQ 5.515625 40.765625 12.171875 48.375 \r\nQ 18.84375 56 30.609375 56 \r\nz\r\n\" id=\"DejaVuSans-111\"/>\r\n       <path d=\"M 54.890625 33.015625 \r\nL 54.890625 0 \r\nL 45.90625 0 \r\nL 45.90625 32.71875 \r\nQ 45.90625 40.484375 42.875 44.328125 \r\nQ 39.84375 48.1875 33.796875 48.1875 \r\nQ 26.515625 48.1875 22.3125 43.546875 \r\nQ 18.109375 38.921875 18.109375 30.90625 \r\nL 18.109375 0 \r\nL 9.078125 0 \r\nL 9.078125 54.6875 \r\nL 18.109375 54.6875 \r\nL 18.109375 46.1875 \r\nQ 21.34375 51.125 25.703125 53.5625 \r\nQ 30.078125 56 35.796875 56 \r\nQ 45.21875 56 50.046875 50.171875 \r\nQ 54.890625 44.34375 54.890625 33.015625 \r\nz\r\n\" id=\"DejaVuSans-110\"/>\r\n      </defs>\r\n      <use xlink:href=\"#DejaVuSans-67\"/>\r\n      <use x=\"69.824219\" xlink:href=\"#DejaVuSans-111\"/>\r\n      <use x=\"131.005859\" xlink:href=\"#DejaVuSans-117\"/>\r\n      <use x=\"194.384766\" xlink:href=\"#DejaVuSans-110\"/>\r\n      <use x=\"257.763672\" xlink:href=\"#DejaVuSans-116\"/>\r\n     </g>\r\n    </g>\r\n   </g>\r\n   <g id=\"line2d_14\">\r\n    <path clip-path=\"url(#p2cfdeaa639)\" d=\"M 77.401989 264.626016 \r\nL 80.46092 254.465333 \r\nL 83.519851 245.071283 \r\nL 86.578782 236.575621 \r\nL 89.637713 229.090343 \r\nL 92.696644 222.704421 \r\nL 95.755575 217.481474 \r\nL 98.814506 213.458481 \r\nL 101.873437 210.645558 \r\nL 104.932368 209.026765 \r\nL 107.991299 208.561866 \r\nL 111.05023 209.188911 \r\nL 114.109161 210.827468 \r\nL 117.168092 213.382323 \r\nL 120.227023 216.747447 \r\nL 123.285954 220.810039 \r\nL 126.344885 225.454455 \r\nL 129.403816 230.565878 \r\nL 132.462747 236.033592 \r\nL 138.580609 247.631678 \r\nL 150.816333 271.221895 \r\nL 156.934195 282.354316 \r\nL 163.052057 292.776711 \r\nL 169.169919 302.469599 \r\nL 175.287781 311.504714 \r\nL 181.405643 319.998102 \r\nL 187.523505 328.069695 \r\nL 193.641367 335.813711 \r\nL 199.759229 343.281793 \r\nL 205.877091 350.478601 \r\nL 211.994953 357.367814 \r\nL 218.112815 363.885306 \r\nL 224.230678 369.955707 \r\nL 230.34854 375.508697 \r\nL 233.407471 378.073874 \r\nL 236.466402 380.492029 \r\nL 239.525333 382.760752 \r\nL 242.584264 384.879432 \r\nL 245.643195 386.849197 \r\nL 248.702126 388.672778 \r\nL 251.761057 390.354321 \r\nL 254.819988 391.899152 \r\nL 257.878919 393.313525 \r\nL 263.996781 395.778948 \r\nL 270.114643 397.809334 \r\nL 276.232505 399.463041 \r\nL 282.350367 400.793325 \r\nL 288.468229 401.846259 \r\nL 294.586091 402.660961 \r\nL 300.703953 403.27135 \r\nL 306.821815 403.708477 \r\nL 315.998608 404.105608 \r\nL 328.234332 404.315678 \r\nL 355.764711 404.617504 \r\nL 368.000435 405.077006 \r\nL 380.236159 405.827359 \r\nL 392.471884 406.826899 \r\nL 432.237987 410.410541 \r\nL 441.41478 410.902002 \r\nL 450.591573 411.136897 \r\nL 459.768366 411.119776 \r\nL 472.00409 410.831364 \r\nL 487.298745 410.490452 \r\nL 496.475538 410.558057 \r\nL 502.5934 410.783622 \r\nL 508.711262 411.167871 \r\nL 517.888055 412.024399 \r\nL 527.064848 413.138926 \r\nL 557.654159 417.118744 \r\nL 591.3024 420.995883 \r\nL 615.773848 424.264151 \r\nL 621.89171 424.847997 \r\nL 628.009572 425.227982 \r\nL 634.127434 425.382108 \r\nL 640.245296 425.325686 \r\nL 649.422089 424.979523 \r\nL 658.598882 424.624709 \r\nL 664.716744 424.583075 \r\nL 670.834606 424.823249 \r\nL 676.952468 425.416248 \r\nL 683.07033 426.385936 \r\nL 686.129261 427.005525 \r\nL 686.129261 427.005525 \r\n\" style=\"fill:none;stroke:#1f77b4;stroke-linecap:square;stroke-width:1.5;\"/>\r\n   </g>\r\n   <g id=\"patch_27\">\r\n    <path d=\"M 46.965625 442.08 \r\nL 46.965625 7.2 \r\n\" style=\"fill:none;stroke:#000000;stroke-linecap:square;stroke-linejoin:miter;stroke-width:0.8;\"/>\r\n   </g>\r\n   <g id=\"patch_28\">\r\n    <path d=\"M 716.565625 442.08 \r\nL 716.565625 7.2 \r\n\" style=\"fill:none;stroke:#000000;stroke-linecap:square;stroke-linejoin:miter;stroke-width:0.8;\"/>\r\n   </g>\r\n   <g id=\"patch_29\">\r\n    <path d=\"M 46.965625 442.08 \r\nL 716.565625 442.08 \r\n\" style=\"fill:none;stroke:#000000;stroke-linecap:square;stroke-linejoin:miter;stroke-width:0.8;\"/>\r\n   </g>\r\n   <g id=\"patch_30\">\r\n    <path d=\"M 46.965625 7.2 \r\nL 716.565625 7.2 \r\n\" style=\"fill:none;stroke:#000000;stroke-linecap:square;stroke-linejoin:miter;stroke-width:0.8;\"/>\r\n   </g>\r\n  </g>\r\n </g>\r\n <defs>\r\n  <clipPath id=\"p2cfdeaa639\">\r\n   <rect height=\"434.88\" width=\"669.6\" x=\"46.965625\" y=\"7.2\"/>\r\n  </clipPath>\r\n </defs>\r\n</svg>\r\n",
            "image/png": "[encoded data removed]"
          },
          "metadata": {
            "needs_background": "light"
          }
        }
      ],
      "metadata": {}
    },
    {
      "cell_type": "markdown",
      "source": [
        "### iv. Frequency: Number of purchases\n",
        "\n",
        "To calculate how many times a customer purchased something, we need to count how many invoices each customer has. To calculate the frequency values, follow these steps in order:"
      ],
      "metadata": {
        "id": "MAjKZD0KQGWg"
      }
    },
    {
      "cell_type": "markdown",
      "source": [
        "1. Make a copy of df_uk and drop duplicates"
      ],
      "metadata": {
        "id": "TDoNslseiqbA"
      }
    },
    {
      "cell_type": "code",
      "execution_count": null,
      "source": [
        "df_uk2 = df_uk.copy()\r\n",
        "df_uk2.head()"
      ],
      "outputs": [],
      "metadata": {
        "id": "6gk2gokFiqbA"
      }
    },
    {
      "cell_type": "code",
      "execution_count": null,
      "source": [
        "df_uk2.shape"
      ],
      "outputs": [],
      "metadata": {}
    },
    {
      "cell_type": "code",
      "execution_count": null,
      "source": [
        "# df_uk2.drop_duplicates()"
      ],
      "outputs": [],
      "metadata": {}
    },
    {
      "cell_type": "markdown",
      "source": [
        "2. Calculate the frequency of purchases"
      ],
      "metadata": {
        "id": "7KrnuXrLiqbA"
      }
    },
    {
      "cell_type": "code",
      "execution_count": null,
      "source": [
        "df_uk2.groupby(\"CustomerID\")[\"InvoiceNo\"].count() # Without header(InvoiceNo)"
      ],
      "outputs": [],
      "metadata": {
        "id": "1LTM_cxpiqbA"
      }
    },
    {
      "cell_type": "code",
      "execution_count": null,
      "source": [
        "frequency = df_uk2.groupby(\"CustomerID\")[[\"InvoiceNo\"]].count()\r\n",
        "frequency"
      ],
      "outputs": [],
      "metadata": {}
    },
    {
      "cell_type": "markdown",
      "source": [
        "3. Plot RFM distributions"
      ],
      "metadata": {
        "id": "V9NNBCNgiqbA"
      }
    },
    {
      "cell_type": "code",
      "execution_count": null,
      "source": [
        "plt.figure(figsize=(12,8))\r\n",
        "sns.histplot(x=df_uk2.groupby(\"CustomerID\")[\"InvoiceNo\"].count(), kde=True);"
      ],
      "outputs": [],
      "metadata": {
        "id": "yUtZAHu1iqbA"
      }
    },
    {
      "cell_type": "markdown",
      "source": [
        "### v. Monetary: Total amount of money spent\n",
        "\n",
        "The monetary value is calculated by adding together the cost of the customers' purchases.\n"
      ],
      "metadata": {
        "id": "wUY3gKjQQGWh"
      }
    },
    {
      "cell_type": "markdown",
      "source": [
        "1. Calculate sum total cost by customers and named \"Monetary\""
      ],
      "metadata": {
        "id": "5_4_QLWtiqbA"
      }
    },
    {
      "cell_type": "code",
      "execution_count": null,
      "source": [
        "df_uk2.groupby(\"CustomerID\")[\"TotalPrice\"].sum()"
      ],
      "outputs": [],
      "metadata": {
        "id": "bilKBqvIiqbB"
      }
    },
    {
      "cell_type": "code",
      "execution_count": null,
      "source": [
        "monetary = df_uk2.groupby(\"CustomerID\")[[\"TotalPrice\"]].sum()"
      ],
      "outputs": [],
      "metadata": {}
    },
    {
      "cell_type": "markdown",
      "source": [
        "2. Plot RFM distributions"
      ],
      "metadata": {
        "id": "dYsaCPRDiqbB"
      }
    },
    {
      "cell_type": "code",
      "execution_count": null,
      "source": [
        "plt.figure(figsize=(12,8))\r\n",
        "sns.histplot(x=df_uk2.groupby(\"CustomerID\")[\"TotalPrice\"].sum(), kde=True)\r\n",
        "plt.xlim(0, 10000);"
      ],
      "outputs": [],
      "metadata": {
        "id": "Sd41fD67iqbB"
      }
    },
    {
      "cell_type": "markdown",
      "source": [
        "### vi. Create RFM Table\n",
        "Merge the recency, frequency and motetary dataframes"
      ],
      "metadata": {
        "id": "SeaecPkSQGWj"
      }
    },
    {
      "cell_type": "code",
      "execution_count": null,
      "source": [
        "df_rfm = pd.merge(recency, frequency, how=\"inner\", on=\"CustomerID\")\r\n",
        "df_rfm"
      ],
      "outputs": [],
      "metadata": {
        "id": "M88KNSbyiqbB"
      }
    },
    {
      "cell_type": "code",
      "execution_count": null,
      "source": [
        "df_rfm = pd.merge(df_rfm, monetary, how=\"inner\", on=\"CustomerID\")\r\n",
        "df_rfm"
      ],
      "outputs": [],
      "metadata": {}
    },
    {
      "cell_type": "code",
      "execution_count": null,
      "source": [
        "df_rfm.rename(columns={'Last_Purchase_Date': 'Recency', 'InvoiceNo': 'Frequency','TotalPrice': 'Monetary'}, inplace=True)\r\n",
        "df_rfm.sample(10)"
      ],
      "outputs": [],
      "metadata": {}
    },
    {
      "cell_type": "code",
      "execution_count": null,
      "source": [
        "df_rfm.info()"
      ],
      "outputs": [],
      "metadata": {}
    },
    {
      "cell_type": "markdown",
      "source": [
        "# 3. Customer Segmentation with RFM Scores"
      ],
      "metadata": {
        "id": "ULWwsxCkQGWl"
      }
    },
    {
      "cell_type": "markdown",
      "source": [
        "Businesses have this ever-lasting urge to understand their customers. The better you understand the customer, the better you serve them, and the higher the financial gain you receive from that customer. Since the dawn of trade, this process of understanding customers for a strategic gain has been there practiced and this task is known majorly as [Customer Segmentation](https://clevertap.com/blog/rfm-analysis/).\n",
        "Well as the name suggests, Customer Segmentation could segment customers according to their precise needs. Some of the common ways of segmenting customers are based on their Recency-Frequency-Monatory values, their demographics like gender, region, country, etc, and some of their business-crafted scores. You will use Recency-Frequency-Monatory values for this case.\n",
        "\n",
        "In this section, you will create an RFM Segmentation Table where you segment your customers by using the RFM table. For example, you can label the best customer as \"Big Spenders\" and the lost customer as \"Lost Customer\"."
      ],
      "metadata": {
        "id": "TZrxUBX4iqbB"
      }
    },
    {
      "cell_type": "markdown",
      "source": [
        "## Calculate RFM Scoring\n",
        "\n",
        "The simplest way to create customer segments from an RFM model is by using **Quartiles**. We will assign a score from 1 to 4 to each category (Recency, Frequency, and Monetary) with 4 being the highest/best value. The final RFM score is calculated by combining all RFM values. For Customer Segmentation, you will use the df_rfm data set resulting from the RFM analysis.\n",
        "<br>\n",
        "<br>\n",
        "**Note**: Data can be assigned into more groups for better granularity, but we will use 4 in this case."
      ],
      "metadata": {
        "id": "anOsOGpfQGWl"
      }
    },
    {
      "cell_type": "markdown",
      "source": [
        "1. Divide the df_rfm into quarters"
      ],
      "metadata": {
        "id": "WiwXSsP7iqbB"
      }
    },
    {
      "cell_type": "code",
      "execution_count": null,
      "source": [
        "df_rfm.describe()"
      ],
      "outputs": [],
      "metadata": {
        "id": "mFQJGPYHiqbC"
      }
    },
    {
      "cell_type": "markdown",
      "source": [
        "### i. Creating the RFM Segmentation Table\n"
      ],
      "metadata": {
        "id": "KnkzCAf9QGWo"
      }
    },
    {
      "cell_type": "markdown",
      "source": [
        "1. Create two functions, one for Recency and one for Frequency and Monetary. For Recency, customers in the first quarter should be scored as 4, this represents the highest Recency value. Conversely, for Frequency and Monetary, customers in the last quarter should be scored as 4, representing the highest Frequency and Monetary values."
      ],
      "metadata": {
        "id": "hLIB-z-_iqbC"
      }
    },
    {
      "cell_type": "code",
      "execution_count": null,
      "source": [
        "def R_func(x, d, c):\r\n",
        "    a_1 = np.quantile(d[c], 0.25)\r\n",
        "    b_1 = np.quantile(d[c], 0.50)\r\n",
        "    c_1 = np.quantile(d[c], 0.75)\r\n",
        "    if x <= a_1:\r\n",
        "        return 4\r\n",
        "    elif x <= b_1:\r\n",
        "        return 3\r\n",
        "    elif x <= c_1:\r\n",
        "        return 2\r\n",
        "    else:\r\n",
        "        return 1 "
      ],
      "outputs": [],
      "metadata": {}
    },
    {
      "cell_type": "code",
      "execution_count": null,
      "source": [
        "def FM_func(x, d, c):\r\n",
        "    a_1 = np.quantile(d[c], 0.25)\r\n",
        "    b_1 = np.quantile(d[c], 0.50)\r\n",
        "    c_1 = np.quantile(d[c], 0.75)    \r\n",
        "    if x >= c_1:\r\n",
        "        return 4\r\n",
        "    elif x >= b_1:\r\n",
        "        return 3\r\n",
        "    elif x >= a_1:\r\n",
        "        return 2\r\n",
        "    else:\r\n",
        "        return 1 "
      ],
      "outputs": [],
      "metadata": {}
    },
    {
      "cell_type": "code",
      "execution_count": null,
      "source": [
        "R_func(25,df_rfm, \"Recency\")"
      ],
      "outputs": [],
      "metadata": {}
    },
    {
      "cell_type": "code",
      "execution_count": null,
      "source": [
        "FM_func(200,df_rfm, \"Monetary\")"
      ],
      "outputs": [],
      "metadata": {}
    },
    {
      "cell_type": "markdown",
      "source": [
        "2. Score customers from 1 to 4 by applying the functions you have created. Also create separate score column for each value. "
      ],
      "metadata": {
        "id": "tLDK_XeLiqbC"
      }
    },
    {
      "cell_type": "code",
      "execution_count": null,
      "source": [
        "df_rfm[\"R\"] = df_rfm['Recency'].apply(lambda x: R_func(x, df_rfm, \"Recency\"))\r\n",
        "df_rfm.head()"
      ],
      "outputs": [],
      "metadata": {
        "id": "plReZMcQiqbC"
      }
    },
    {
      "cell_type": "code",
      "execution_count": null,
      "source": [
        "df_rfm[\"F\"] = df_rfm['Frequency'].apply(lambda x: FM_func(x, df_rfm, \"Frequency\"))\r\n",
        "df_rfm.head()"
      ],
      "outputs": [],
      "metadata": {}
    },
    {
      "cell_type": "code",
      "execution_count": null,
      "source": [
        "df_rfm[\"M\"] = df_rfm['Monetary'].apply(lambda x: FM_func(x, df_rfm, \"Monetary\"))\r\n",
        "df_rfm.head()"
      ],
      "outputs": [],
      "metadata": {}
    },
    {
      "cell_type": "markdown",
      "source": [
        "3. Now that scored each customer, you'll combine the scores for segmentation."
      ],
      "metadata": {
        "id": "JskteCFdQGWq"
      }
    },
    {
      "cell_type": "code",
      "execution_count": null,
      "source": [
        "# df_rfm[\"RFM_Scores\"] = str(df_rfm.R) + str(df_rfm.F) + str(df_rfm.M)"
      ],
      "outputs": [],
      "metadata": {}
    },
    {
      "cell_type": "code",
      "execution_count": null,
      "source": [
        "df_rfm[\"RFM_Scores\"] = df_rfm.R + df_rfm.F + df_rfm.M"
      ],
      "outputs": [],
      "metadata": {
        "id": "ZYfoHF6QiqbC"
      }
    },
    {
      "cell_type": "code",
      "execution_count": null,
      "source": [
        "df_rfm[\"RFM_Scores\"].sort_values(ascending=False)"
      ],
      "outputs": [],
      "metadata": {}
    },
    {
      "cell_type": "markdown",
      "source": [
        "4. Define rfm_level function that tags customers by using RFM_Scrores and Create a new variable RFM_Level"
      ],
      "metadata": {}
    },
    {
      "cell_type": "code",
      "execution_count": null,
      "source": [
        "labels = [\"Low\", \"Middle\", \"High\", \"Top\"]"
      ],
      "outputs": [],
      "metadata": {
        "id": "mxXk7jFPiqbD"
      }
    },
    {
      "cell_type": "code",
      "execution_count": null,
      "source": [
        "pd.qcut(df_rfm.RFM_Scores, q = 4, labels = labels).values"
      ],
      "outputs": [],
      "metadata": {}
    },
    {
      "cell_type": "code",
      "execution_count": null,
      "source": [
        "df_rfm[\"RFM_Level\"] = pd.qcut(df_rfm.RFM_Scores, q = 4, labels = labels).values\r\n",
        "df_rfm.head()"
      ],
      "outputs": [],
      "metadata": {}
    },
    {
      "cell_type": "markdown",
      "source": [
        "5. Calculate average values for each RFM_Level, and return a size of each segment "
      ],
      "metadata": {
        "id": "Lq36PiX3iqbD"
      }
    },
    {
      "cell_type": "code",
      "execution_count": null,
      "source": [
        "df_rfm.groupby(\"RFM_Level\")[\"RFM_Scores\"].mean()"
      ],
      "outputs": [],
      "metadata": {
        "id": "jn5r5P2WiqbD"
      }
    },
    {
      "cell_type": "code",
      "execution_count": null,
      "source": [
        "df_rfm.groupby(\"RFM_Level\")[\"RFM_Level\"].count()"
      ],
      "outputs": [],
      "metadata": {}
    },
    {
      "cell_type": "code",
      "execution_count": null,
      "source": [
        "df_rfm.groupby('RFM_Level').agg({'Recency': ['mean','count'], 'Frequency': ['mean','count'],'Monetary': ['mean','count']})"
      ],
      "outputs": [],
      "metadata": {}
    },
    {
      "cell_type": "markdown",
      "source": [
        "## Plot RFM Segments"
      ],
      "metadata": {
        "id": "tuZ5Olo4iqbD"
      }
    },
    {
      "cell_type": "markdown",
      "source": [
        "1. Create your plot and resize it."
      ],
      "metadata": {
        "id": "STfELckwiqbD"
      }
    },
    {
      "cell_type": "code",
      "execution_count": null,
      "source": [
        "plt.figure(figsize=(7,5))\r\n",
        "sns.countplot(x=\"RFM_Scores\", data=df_rfm);"
      ],
      "outputs": [],
      "metadata": {}
    },
    {
      "cell_type": "code",
      "execution_count": null,
      "source": [
        "plt.figure(figsize=(7,5))\r\n",
        "sns.histplot(x=\"RFM_Scores\", data=df_rfm, kde=True);"
      ],
      "outputs": [],
      "metadata": {}
    },
    {
      "cell_type": "code",
      "execution_count": null,
      "source": [
        "plt.figure(figsize=(7,5))\r\n",
        "sns.countplot(x=\"RFM_Level\", data=df_rfm);"
      ],
      "outputs": [],
      "metadata": {
        "id": "Oef37q3diqbD"
      }
    },
    {
      "cell_type": "markdown",
      "source": [
        "Using customer segmentation categories found [here](http://www.blastam.com/blog/rfm-analysis-boosts-sales) we can formulate different marketing strategies and approaches for customer engagement for each type of customer.\n",
        "\n",
        "Note: The author in the article scores 1 as the highest and 4 as the lowest"
      ],
      "metadata": {
        "id": "FhOe2bb6QGWu"
      }
    },
    {
      "cell_type": "markdown",
      "source": [
        "2. How many customers do we have in each segment?"
      ],
      "metadata": {
        "id": "Te_6gUR5iqbD"
      }
    },
    {
      "cell_type": "code",
      "execution_count": null,
      "source": [
        "df_rfm.groupby(\"RFM_Scores\")[\"RFM_Scores\"].count().sort_values()"
      ],
      "outputs": [],
      "metadata": {}
    },
    {
      "cell_type": "code",
      "execution_count": null,
      "source": [
        "df_rfm.groupby(\"RFM_Scores\")[\"RFM_Scores\"].count().sort_values().plot(kind=\"bar\")"
      ],
      "outputs": [],
      "metadata": {}
    },
    {
      "cell_type": "code",
      "execution_count": null,
      "source": [
        "df_rfm.RFM_Level.value_counts()"
      ],
      "outputs": [],
      "metadata": {
        "id": "Gs4rP-0viqbD"
      }
    },
    {
      "cell_type": "code",
      "execution_count": null,
      "source": [
        "df_rfm.RFM_Level.value_counts().plot(kind=\"bar\")"
      ],
      "outputs": [],
      "metadata": {}
    },
    {
      "cell_type": "markdown",
      "source": [
        "# 4. Applying K-Means Clustering"
      ],
      "metadata": {
        "id": "1RwemvLyQGWv"
      }
    },
    {
      "cell_type": "markdown",
      "source": [
        "Now that we have our customers segmented into 6 different categories, we can gain further insight into customer behavior by using predictive models in conjuction with out RFM model.\n",
        "Possible algorithms include **Logistic Regression**, **K-means Clustering**, and **K-nearest Neighbor**. We will go with [K-Means](https://towardsdatascience.com/understanding-k-means-clustering-in-machine-learning-6a6e67336aa1) since we already have our distinct groups determined. K-means has also been widely used for market segmentation and has the advantage of being simple to implement."
      ],
      "metadata": {
        "id": "h6WZ0PnZQGWv"
      }
    },
    {
      "cell_type": "markdown",
      "source": [
        "## Data Pre-Processing and Exploring"
      ],
      "metadata": {
        "id": "IrWIRLkMiqbE"
      }
    },
    {
      "cell_type": "code",
      "execution_count": null,
      "source": [
        "df_k = df_rfm.copy()\r\n",
        "df_k.head()"
      ],
      "outputs": [],
      "metadata": {
        "id": "cLoRGR6NiqbE"
      }
    },
    {
      "cell_type": "code",
      "execution_count": null,
      "source": [
        "df_k = df_k[[\"Recency\", \"Frequency\", \"Monetary\"]]\r\n",
        "df_k.head()"
      ],
      "outputs": [],
      "metadata": {}
    },
    {
      "cell_type": "code",
      "execution_count": null,
      "source": [
        "df_k.info()"
      ],
      "outputs": [],
      "metadata": {}
    },
    {
      "cell_type": "markdown",
      "source": [
        "### i. Define and Plot Feature Correlations"
      ],
      "metadata": {
        "id": "-6SGV0xoQGWw"
      }
    },
    {
      "cell_type": "markdown",
      "source": [
        "Create Heatmap and evaluate the results "
      ],
      "metadata": {
        "id": "JpMAiWNBiqbE"
      }
    },
    {
      "cell_type": "code",
      "execution_count": null,
      "source": [
        "plt.figure(figsize=(7,5))\r\n",
        "sns.heatmap(df_k.corr(), annot=True);"
      ],
      "outputs": [],
      "metadata": {
        "id": "I6Cv8_EqiqbE"
      }
    },
    {
      "cell_type": "markdown",
      "source": [
        "### ii. Visualize Feature Distributions\n",
        "\n",
        "To get a better understanding of the dataset, you can costruct a scatter matrix of each of the three features in the RFM data."
      ],
      "metadata": {
        "id": "8WhL5MBEQGWy"
      }
    },
    {
      "cell_type": "code",
      "execution_count": null,
      "source": [
        "fig, ax = plt.subplots(nrows=3, figsize=(12,10))\r\n",
        "sns.histplot(x=\"Recency\", data=df_k, kde=True, ax=ax[0])\r\n",
        "sns.histplot(x=\"Frequency\", data=df_k, kde=True, ax=ax[1])\r\n",
        "sns.histplot(x=\"Monetary\", data=df_k, kde=True, ax=ax[2]);"
      ],
      "outputs": [],
      "metadata": {
        "id": "FHE0Vb0KiqbE"
      }
    },
    {
      "cell_type": "code",
      "execution_count": null,
      "source": [
        "# ???????\r\n",
        "from mpl_toolkits.mplot3d import Axes3D\r\n",
        "plt.rcParams[\"figure.figsize\"] =(9,6)\r\n",
        "fig = plt.figure()\r\n",
        "ax = Axes3D(fig)\r\n",
        "ax.scatter(df_k[\"Recency\"], df_k[\"Frequency\"], df_k[\"Monetary\"],s = 50, cmap = \"YlOrRd\");\r\n"
      ],
      "outputs": [],
      "metadata": {}
    },
    {
      "cell_type": "markdown",
      "source": [
        "### iii. Data Normalization"
      ],
      "metadata": {
        "id": "Q2RsjzjbQGWz"
      }
    },
    {
      "cell_type": "markdown",
      "source": [
        "1. You can use the logarithm method to normalize the values in a column."
      ],
      "metadata": {
        "id": "hXsrPpegiqbF"
      }
    },
    {
      "cell_type": "code",
      "execution_count": null,
      "source": [
        "df_log = np.log(df_k+1)\r\n",
        "df_log.head()"
      ],
      "outputs": [],
      "metadata": {
        "id": "b-cBU8jxiqbF"
      }
    },
    {
      "cell_type": "code",
      "execution_count": null,
      "source": [
        "df_log.info() # Log normalizasyon sonrası NaN value oluştu."
      ],
      "outputs": [],
      "metadata": {}
    },
    {
      "cell_type": "code",
      "execution_count": null,
      "source": [
        "df_log.dropna(inplace=True)"
      ],
      "outputs": [],
      "metadata": {}
    },
    {
      "cell_type": "code",
      "execution_count": null,
      "source": [
        "# df_log.info()"
      ],
      "outputs": [],
      "metadata": {}
    },
    {
      "cell_type": "markdown",
      "source": [
        "2. Plot normalized data with scatter matrix or pairplot. Also evaluate results."
      ],
      "metadata": {
        "id": "fC6dHnqKiqbF"
      }
    },
    {
      "cell_type": "code",
      "execution_count": null,
      "source": [
        "plt.figure(figsize=(10,7))\r\n",
        "sns.pairplot(df_log);"
      ],
      "outputs": [],
      "metadata": {
        "id": "iB9jDUPriqbF"
      }
    },
    {
      "cell_type": "code",
      "execution_count": null,
      "source": [
        "# fig, ax = plt.subplots(nrows=3, ncols=2, figsize=(12,10))\r\n",
        "fig, ax = plt.subplots(nrows=3, ncols=2, figsize=(12,10))\r\n",
        "plt.subplot(3,1,1)\r\n",
        "sns.histplot(x=\"Recency\", data=df_log, kde=True)\r\n",
        "plt.subplot(3,1,2)\r\n",
        "sns.histplot(x=\"Frequency\", data=df_log, kde=True)\r\n",
        "plt.subplot(3,1,3)\r\n",
        "sns.histplot(x=\"Monetary\", data=df_log, kde=True);"
      ],
      "outputs": [],
      "metadata": {}
    },
    {
      "cell_type": "code",
      "execution_count": null,
      "source": [
        "from mpl_toolkits.mplot3d import Axes3D\r\n",
        "plt.rcParams[\"figure.figsize\"] =(9,6)\r\n",
        "fig = plt.figure()\r\n",
        "ax = Axes3D(fig)\r\n",
        "ax.scatter(df_log[\"Recency\"], df_log[\"Frequency\"], df_log[\"Monetary\"],s = 50, cmap = \"YlOrRd\");"
      ],
      "outputs": [],
      "metadata": {}
    },
    {
      "cell_type": "markdown",
      "source": [
        "## K-Means Implementation\n",
        "\n",
        "For k-means, you have to set k to the number of clusters you want, but figuring out how many clusters is not obvious from the beginning. We will try different cluster numbers and check their [silhouette coefficient](http://scikit-learn.org/stable/auto_examples/cluster/plot_kmeans_silhouette_analysis.html). The silhouette coefficient for a data point measures how similar it is to its assigned cluster from -1 (dissimilar) to 1 (similar). \n",
        "<br>\n",
        "<br>\n",
        "**Note**: K-means is sensitive to initializations because they are critical to qualifty of optima found. Thus, we will use smart initialization called \"Elbow Method\"."
      ],
      "metadata": {
        "id": "35c0aDixQGW4"
      }
    },
    {
      "cell_type": "markdown",
      "source": [
        "### i. Define the Optimal Number of Clusters"
      ],
      "metadata": {
        "id": "JloMSEeriqbF"
      }
    },
    {
      "cell_type": "markdown",
      "source": [
        "[The Elbow Method](https://en.wikipedia.org/wiki/Elbow_method_(clustering) "
      ],
      "metadata": {
        "id": "McFq6IWZt5hg"
      }
    },
    {
      "cell_type": "code",
      "execution_count": null,
      "source": [
        "df_cluster = df_log.copy()\r\n",
        "df_cluster.head()"
      ],
      "outputs": [],
      "metadata": {
        "id": "2202eo2riqbF"
      }
    },
    {
      "cell_type": "code",
      "execution_count": null,
      "source": [
        "df_cluster.isnull().sum()"
      ],
      "outputs": [],
      "metadata": {}
    },
    {
      "cell_type": "code",
      "execution_count": null,
      "source": [
        "df_cluster = df_cluster.reset_index()\r\n",
        "df_cluster.head()"
      ],
      "outputs": [],
      "metadata": {}
    },
    {
      "cell_type": "code",
      "execution_count": null,
      "source": [
        "# df_cluster.drop(\"CustomerID\", inplace=True, axis=1)\r\n",
        "# df_cluster.head()"
      ],
      "outputs": [],
      "metadata": {}
    },
    {
      "cell_type": "code",
      "execution_count": null,
      "source": [
        "from pyclustertend import hopkins"
      ],
      "outputs": [],
      "metadata": {}
    },
    {
      "cell_type": "code",
      "execution_count": null,
      "source": [
        "hopkins(df_cluster.drop(\"CustomerID\", axis=1),df_cluster.shape[0])\r\n",
        "# Sıfıra yakınlık iyi bir kümelenmenin göstergesi"
      ],
      "outputs": [],
      "metadata": {}
    },
    {
      "cell_type": "code",
      "execution_count": null,
      "source": [
        "x1 = df_cluster[[\"Recency\",\"Frequency\", \"Monetary\"]]\r\n",
        "x1.head()"
      ],
      "outputs": [],
      "metadata": {}
    },
    {
      "cell_type": "code",
      "execution_count": null,
      "source": [
        "from sklearn.preprocessing import RobustScaler\r\n",
        "scaler = StandardScaler()\r\n",
        "x1 = scaler.fit_transform(x1)"
      ],
      "outputs": [],
      "metadata": {}
    },
    {
      "cell_type": "code",
      "execution_count": null,
      "source": [
        "hopkins(x1, x1.shape[0])"
      ],
      "outputs": [],
      "metadata": {}
    },
    {
      "cell_type": "code",
      "execution_count": null,
      "source": [
        "from sklearn.cluster import KMeans\r\n",
        "\r\n",
        "ssd =[]\r\n",
        "for n in range(2,11):\r\n",
        "    kmeans=KMeans(n_clusters=n,random_state=0)\r\n",
        "    kmeans.fit(x1)\r\n",
        "    ssd.append(kmeans.inertia_)\r\n",
        "plt.figure(figsize=(10,6))\r\n",
        "plt.plot(range(2, 11), ssd, \"bo-\")\r\n",
        "plt.title('The Elbow Method')\r\n",
        "plt.xlabel('No. of Clusters')\r\n",
        "plt.ylabel('ssd')\r\n",
        "plt.show()\r\n",
        "# inertia kümenin kendi içerisindeki ne kadar yoğun bir şekilde kümelendiğini gösteriyor. inertia değerinin küçük olması beklenir."
      ],
      "outputs": [],
      "metadata": {}
    },
    {
      "cell_type": "code",
      "execution_count": null,
      "source": [
        "pd.Series(ssd).diff()"
      ],
      "outputs": [],
      "metadata": {}
    },
    {
      "cell_type": "code",
      "execution_count": null,
      "source": [
        "df_diff =pd.DataFrame(-pd.Series(ssd).diff()).rename(index = lambda x : x+1)\r\n",
        "df_diff"
      ],
      "outputs": [],
      "metadata": {}
    },
    {
      "cell_type": "code",
      "execution_count": null,
      "source": [
        "from yellowbrick.cluster import KElbowVisualizer\r\n",
        "\r\n",
        "kmeans = KMeans()\r\n",
        "visu = KElbowVisualizer(kmeans, k = (2,10))\r\n",
        "visu.fit(x1)\r\n",
        "visu.poof()"
      ],
      "outputs": [],
      "metadata": {}
    },
    {
      "cell_type": "markdown",
      "source": [
        "[Silhouette Coefficient](http://scikit-learn.org/stable/auto_examples/cluster/plot_kmeans_silhouette_analysis.html)"
      ],
      "metadata": {
        "id": "ACT_d0UpwUSC"
      }
    },
    {
      "cell_type": "code",
      "execution_count": null,
      "source": [
        "from sklearn.metrics import silhouette_score\r\n",
        "\r\n",
        "range_n_clusters = range(2,11)\r\n",
        "for num_clusters in range_n_clusters:\r\n",
        "    # intialise kmeans\r\n",
        "    kmeans = KMeans(n_clusters=num_clusters, random_state=42)\r\n",
        "    kmeans.fit(x1)\r\n",
        "    cluster_labels = kmeans.labels_\r\n",
        "    # silhouette score\r\n",
        "    silhouette_avg = silhouette_score(x1, cluster_labels)\r\n",
        "    print(f\"For n_clusters={num_clusters}, the silhouette score is {silhouette_avg}\")\r\n",
        "# silhouette_score verilerin küme içerisinde yakınlık, kümelerin kendi aralarındaki uzaklığına göre score veriyor. Küme sayısı belirlenirken bu scores ın 1 e en yakın olanları değerlendirilmelidir."
      ],
      "outputs": [],
      "metadata": {
        "id": "qS4TLbRniqbG"
      }
    },
    {
      "cell_type": "code",
      "execution_count": null,
      "source": [
        "from sklearn.cluster import KMeans\r\n",
        "\r\n",
        "from yellowbrick.cluster import SilhouetteVisualizer\r\n",
        "\r\n",
        "model = KMeans(n_clusters=5, random_state=42)\r\n",
        "visualizer = SilhouetteVisualizer(model)\r\n",
        "\r\n",
        "visualizer.fit(x1)\r\n",
        "visualizer.poof();"
      ],
      "outputs": [],
      "metadata": {}
    },
    {
      "cell_type": "code",
      "execution_count": null,
      "source": [
        "from scipy.cluster.hierarchy import linkage"
      ],
      "outputs": [],
      "metadata": {}
    },
    {
      "cell_type": "code",
      "execution_count": null,
      "source": [
        "hc_ward = linkage(y = x1, method = \"ward\")"
      ],
      "outputs": [],
      "metadata": {}
    },
    {
      "cell_type": "code",
      "execution_count": null,
      "source": [
        "from scipy.cluster.hierarchy import dendrogram"
      ],
      "outputs": [],
      "metadata": {}
    },
    {
      "cell_type": "code",
      "execution_count": null,
      "source": [
        "plt.figure(figsize = (20,12))\r\n",
        "\r\n",
        "plt.subplot(221)\r\n",
        "plt.title(\"Ward\")\r\n",
        "plt.xlabel(\"Observations\")\r\n",
        "plt.ylabel(\"Distance\")\r\n",
        "dendrogram(hc_ward, leaf_font_size = 10);"
      ],
      "outputs": [],
      "metadata": {}
    },
    {
      "cell_type": "markdown",
      "source": [
        "### ii. Model Fitting"
      ],
      "metadata": {
        "id": "o6dW2MWZiqbG"
      }
    },
    {
      "cell_type": "markdown",
      "source": [
        "Fit the K-Means Algorithm with the optimal number of clusters you decided and save the model to disk."
      ],
      "metadata": {
        "id": "cXM5ksoPiqbG"
      }
    },
    {
      "cell_type": "code",
      "execution_count": null,
      "source": [
        "kmeans = KMeans(n_clusters = 5)\r\n",
        "# Küme sayımızı 5 olarak belirledik."
      ],
      "outputs": [],
      "metadata": {
        "id": "geMuViLniqbG"
      }
    },
    {
      "cell_type": "code",
      "execution_count": null,
      "source": [
        "kmeans.fit_predict(x1)"
      ],
      "outputs": [],
      "metadata": {}
    },
    {
      "cell_type": "code",
      "execution_count": null,
      "source": [
        "cluster = kmeans.labels_"
      ],
      "outputs": [],
      "metadata": {}
    },
    {
      "cell_type": "code",
      "execution_count": null,
      "source": [
        "df_cluster[\"cluster\"] = cluster"
      ],
      "outputs": [],
      "metadata": {}
    },
    {
      "cell_type": "code",
      "execution_count": null,
      "source": [
        "df_cluster.head()"
      ],
      "outputs": [],
      "metadata": {}
    },
    {
      "cell_type": "markdown",
      "source": [
        "### iii. Visualize the Clusters"
      ],
      "metadata": {
        "id": "GqcSwNZTQGW7"
      }
    },
    {
      "cell_type": "markdown",
      "source": [
        "1. Create a scatter plot and select cluster centers"
      ],
      "metadata": {
        "id": "Cfx5kzPriqbG"
      }
    },
    {
      "cell_type": "code",
      "execution_count": null,
      "source": [
        "plt.figure(figsize=(15,8))\r\n",
        "sns.scatterplot(x1.iloc[:,0], x1.iloc[:,1], c=kmeans.labels_, cmap=\"viridis\") # x1 i scale ettiğimiz için x1.iloc[:,0] tarzını kullanıyoruz.\r\n",
        "centers = kmeans.cluster_centers_\r\n",
        "plt.scatter(centers[:, 0], centers[:, 1], c='red', s=100, alpha=0.8);"
      ],
      "outputs": [],
      "metadata": {}
    },
    {
      "cell_type": "code",
      "execution_count": null,
      "source": [
        "plt.figure(figsize=(15,8))\r\n",
        "sns.scatterplot(x1.iloc[:,0], x1.iloc[:,2], c=kmeans.labels_, cmap=\"viridis\")\r\n",
        "centers = kmeans.cluster_centers_\r\n",
        "plt.scatter(centers[:, 0], centers[:, 2], c='red', s=100, alpha=0.8);"
      ],
      "outputs": [],
      "metadata": {}
    },
    {
      "cell_type": "code",
      "execution_count": null,
      "source": [
        "plt.figure(figsize=(15,8))\r\n",
        "sns.scatterplot(x1.iloc[:,1], x1.iloc[:,2], c=kmeans.labels_, cmap=\"viridis\")\r\n",
        "centers = kmeans.cluster_centers_\r\n",
        "plt.scatter(centers[:,1], centers[:,2], c='red', s=100, alpha=0.8);"
      ],
      "outputs": [],
      "metadata": {}
    },
    {
      "cell_type": "code",
      "execution_count": null,
      "source": [
        "from mpl_toolkits.mplot3d import Axes3D\r\n",
        "\r\n",
        "plt.rcParams[\"figure.figsize\"] =(9,6)\r\n",
        "fig = plt.figure()\r\n",
        "ax = Axes3D(fig)\r\n",
        "ax.scatter(x1.iloc[:,0], x1.iloc[:,1], x1.iloc[:,2], c = kmeans.labels_, cmap=\"viridis\");"
      ],
      "outputs": [],
      "metadata": {
        "id": "cyrovJB0iqbH"
      }
    },
    {
      "cell_type": "markdown",
      "source": [
        "2. Visualize Cluster Id vs Recency, Cluster Id vs Frequency and Cluster Id vs Monetary using Box plot. Also evaluate the results. "
      ],
      "metadata": {
        "id": "D4sHOvlniqbH"
      }
    },
    {
      "cell_type": "code",
      "execution_count": null,
      "source": [
        "plt.figure(figsize=(10,7))\r\n",
        "sns.boxplot(x=\"cluster\", y=\"Recency\", data=df_cluster);"
      ],
      "outputs": [],
      "metadata": {}
    },
    {
      "cell_type": "code",
      "execution_count": null,
      "source": [
        "plt.figure(figsize=(10,7))\r\n",
        "sns.boxplot(x=\"cluster\", y=\"Frequency\", data=df_cluster);"
      ],
      "outputs": [],
      "metadata": {}
    },
    {
      "cell_type": "code",
      "execution_count": null,
      "source": [
        "plt.figure(figsize=(10,7))\r\n",
        "sns.boxplot(x=\"cluster\", y=\"Monetary\", data=df_cluster);"
      ],
      "outputs": [],
      "metadata": {}
    },
    {
      "cell_type": "markdown",
      "source": [
        "### iv. Assign the Label"
      ],
      "metadata": {
        "id": "yRyku5qJiqbH"
      }
    },
    {
      "cell_type": "code",
      "execution_count": null,
      "source": [
        "df_cluster_rfm_avg = df_cluster.groupby([\"cluster\"]).agg({\"Recency\":\"mean\", \"Frequency\":\"mean\",\"Monetary\":\"mean\"})\r\n",
        "df_cluster_rfm_avg \r\n"
      ],
      "outputs": [],
      "metadata": {
        "id": "gVrkisf9iqbH"
      }
    },
    {
      "cell_type": "code",
      "execution_count": null,
      "source": [
        "df_cluster[\"cluster\"] = df_cluster[\"cluster\"].map({0:\"Loyal Customers\",1:\"Lost Customers\",2:\"Big Spenders\",3:\"Best Customers\",4:\"Almost Lost\"})\r\n",
        "df_cluster.head()"
      ],
      "outputs": [],
      "metadata": {}
    },
    {
      "cell_type": "code",
      "execution_count": null,
      "source": [
        "df_cluster[\"cluster\"].value_counts()"
      ],
      "outputs": [],
      "metadata": {}
    },
    {
      "cell_type": "code",
      "execution_count": null,
      "source": [
        "plt.figure(figsize=(8,5))\r\n",
        "sns.countplot(x=\"cluster\", data=df_cluster);"
      ],
      "outputs": [],
      "metadata": {}
    },
    {
      "cell_type": "markdown",
      "source": [
        "**Conclusion**\n",
        "\n",
        "- Cluster 0 : The first cluster belongs to the \"Best Customers\" segment which we saw earlier as they purchase recently (R=4), frequent buyers (F=4), and spent the most (M=4)\n",
        "\n",
        "- Cluster 1 : Second cluster can be interpreted as passer customers as their last purchase is long ago (R<=1),purchased very few (F>=2 & F < 4) and spent little (M>=4 & M < 4).Company has to come up with new strategies to make them permanent members. Low value customers\n",
        "- Cluster 2 : The third cluster is more related to the \"Almost Lost\" segment as they Haven’t purchased for some time(R=1), but used to purchase frequently and spent a lot."
      ],
      "metadata": {
        "id": "_DiG6sxS4gWH"
      }
    },
    {
      "cell_type": "markdown",
      "source": [
        "### v. Conclusion\n",
        "\n",
        "Discuss your final results. Compare your own labels from the Customer Segmentation with the labels found by K-Means."
      ],
      "metadata": {
        "id": "lf4OsPmSQGXA"
      }
    },
    {
      "cell_type": "markdown",
      "source": [
        "How we want to continue this analysis depends on how the business plans to use the results and the level of granularity the business stakeholders want to see in the clusters. We can also ask what range of customer behavior from high to low value customers are the stakeholders interested in exploring. From those answers, various methods of clustering can be used and applied on RFM variable or directly on the transaction data set."
      ],
      "metadata": {
        "id": "UFaHgoLoQGXA"
      }
    },
    {
      "cell_type": "markdown",
      "source": [
        "**Annotation:**\n",
        "\n",
        "Limitations of K-means clustering:\n",
        "\n",
        "1. There is no assurance that it will lead to the global best solution.\n",
        "2. Can't deal with different shapes(not circular) and consider one point's probability of belonging to more than one cluster.\n",
        "\n",
        "These disadvantages of K-means show that for many datasets (especially low-dimensional datasets), it may not perform as well as you might hope."
      ],
      "metadata": {
        "id": "ysCkU1B-iqbI"
      }
    },
    {
      "cell_type": "markdown",
      "source": [
        "# 5. Create Cohort & Conduct Cohort Analysis\n",
        "[Cohort Analysis](https://medium.com/swlh/cohort-analysis-using-python-and-pandas-d2a60f4d0a4d) is specifically useful in analyzing user growth patterns for products. In terms of a product, a cohort can be a group of people with the same sign-up date, the same usage starts month/date, or the same traffic source.\n",
        "Cohort analysis is an analytics method by which these groups can be tracked over time for finding key insights. This analysis can further be used to do customer segmentation and track metrics like retention, churn, and lifetime value.\n",
        "\n",
        "For e-commerce organizations, cohort analysis is a unique opportunity to find out which clients are the most valuable to their business. by performing Cohort analysis you can get the following answers to the following questions:\n",
        "\n",
        "- How much effective was a marketing campaign held in a particular time period?\n",
        "- Did the strategy employ to improve the conversion rates of Customers worked?\n",
        "- Should I focus more on retention rather than acquiring new customers?\n",
        "- Are my customer nurturing strategies effective?\n",
        "- Which marketing channels bring me the best results?\n",
        "- Is there a seasonality pattern in Customer behavior?\n",
        "- Along with various performance measures/metrics for your organization."
      ],
      "metadata": {
        "id": "xiPd_IbnQGVn"
      }
    },
    {
      "cell_type": "markdown",
      "source": [
        "Since we will be performing Cohort Analysis based on transaction records of customers, the columns we will be dealing with mainly:\n",
        "- Invoice Data\n",
        "- CustomerID\n",
        "- Price\n",
        "- Quantity\n",
        "\n",
        "The following steps will performed to generate the Cohort Chart of Retention Rate:\n",
        "- Month Extraction from InvioceDate column\n",
        "- Assigning Cohort to Each Transaction\n",
        "- Assigning Cohort Index to each transaction\n",
        "- Calculating number of unique customers in each Group of (ChortDate,Index)\n",
        "- Creating Cohort Table for Retention Rate\n",
        "- Creating the Cohort Chart using the Cohort Table\n",
        "\n",
        "The Detailed information about each step is given below:"
      ],
      "metadata": {
        "id": "xhiYivPrQGVo"
      }
    },
    {
      "cell_type": "markdown",
      "source": [
        "## Future Engineering"
      ],
      "metadata": {
        "id": "eo0GB_osiqbI"
      }
    },
    {
      "cell_type": "markdown",
      "source": [
        "### i. Extract the Month of the Purchase\n",
        "First we will create a function, which takes any date and returns the formatted date with day value as 1st of the same month and Year."
      ],
      "metadata": {
        "id": "JVwPNjpyQGVo"
      }
    },
    {
      "cell_type": "code",
      "execution_count": null,
      "source": [],
      "outputs": [],
      "metadata": {
        "id": "lK1CqlNQiqbI"
      }
    },
    {
      "cell_type": "markdown",
      "source": [
        "Now we will use the function created above to convert all the invoice dates into respective month date format."
      ],
      "metadata": {
        "id": "NQKsM_9IQGVq"
      }
    },
    {
      "cell_type": "code",
      "execution_count": null,
      "source": [],
      "outputs": [],
      "metadata": {
        "id": "DL17u0dniqbJ"
      }
    },
    {
      "cell_type": "markdown",
      "source": [
        "### ii. Calculating time offset in Months i.e. Cohort Index:\n",
        "Calculating time offset for each transaction will allows us to report the metrics for each cohort in a comparable fashion.\n",
        "First, you will create 4 variables that capture the integer value of years, months for Invoice and Cohort Date using the get_date_int() function which you'll create it below."
      ],
      "metadata": {
        "id": "XPE7kTz2QGVs"
      }
    },
    {
      "cell_type": "code",
      "execution_count": null,
      "source": [],
      "outputs": [],
      "metadata": {
        "id": "1_3aYf4FiqbJ"
      }
    },
    {
      "cell_type": "markdown",
      "source": [
        "You will use this function to extract the integer values for Invoice as well as Cohort Date in 3 seperate series for each of the two columns"
      ],
      "metadata": {
        "id": "SGm1eweDQGVu"
      }
    },
    {
      "cell_type": "code",
      "execution_count": null,
      "source": [],
      "outputs": [],
      "metadata": {
        "id": "2wF_ViD_iqbJ"
      }
    },
    {
      "cell_type": "markdown",
      "source": [
        "Use the variables created above to calcualte the difference in days and store them in cohort Index column."
      ],
      "metadata": {
        "id": "Z9jYVljviqbJ"
      }
    },
    {
      "cell_type": "code",
      "execution_count": null,
      "source": [],
      "outputs": [],
      "metadata": {
        "id": "wVlAYCbEiqbJ"
      }
    },
    {
      "cell_type": "markdown",
      "source": [
        "## Create 1st Cohort: User number & Retention Rate"
      ],
      "metadata": {
        "id": "W-t76CXSQGVw"
      }
    },
    {
      "cell_type": "markdown",
      "source": [
        "### i. Pivot Cohort and Cohort Retention"
      ],
      "metadata": {
        "id": "bKvUWci9iqbJ"
      }
    },
    {
      "cell_type": "code",
      "execution_count": null,
      "source": [],
      "outputs": [],
      "metadata": {
        "id": "U-8HzlZWiqbK"
      }
    },
    {
      "cell_type": "markdown",
      "source": [
        "### ii. Visualize analysis of cohort 1 using seaborn and matplotlib modules"
      ],
      "metadata": {
        "id": "63TIyBY6iqbK"
      }
    },
    {
      "cell_type": "code",
      "execution_count": null,
      "source": [],
      "outputs": [],
      "metadata": {
        "id": "SY7mPvCAiqbK"
      }
    },
    {
      "cell_type": "markdown",
      "source": [
        "## Create the 2nd Cohort: Average Quantity Sold"
      ],
      "metadata": {
        "id": "yORYolvqQGV0"
      }
    },
    {
      "cell_type": "markdown",
      "source": [
        "### i. Pivot Cohort and Cohort Retention"
      ],
      "metadata": {
        "id": "Tu1hM3CFiqbK"
      }
    },
    {
      "cell_type": "code",
      "execution_count": null,
      "source": [],
      "outputs": [],
      "metadata": {
        "id": "yQ8jlhPEiqbK"
      }
    },
    {
      "cell_type": "markdown",
      "source": [
        "### ii. Visualize analysis of cohort 2 using seaborn and matplotlib modules"
      ],
      "metadata": {
        "id": "F3PJHMS6iqbK"
      }
    },
    {
      "cell_type": "code",
      "execution_count": null,
      "source": [],
      "outputs": [],
      "metadata": {
        "id": "9vuHi3wPiqbK"
      }
    },
    {
      "cell_type": "markdown",
      "source": [
        "## Create the 3rd Cohort: Average Sales\n"
      ],
      "metadata": {
        "id": "UUoG5yUIQGV3"
      }
    },
    {
      "cell_type": "markdown",
      "source": [
        "### i. Pivot Cohort and Cohort Retention"
      ],
      "metadata": {
        "id": "EKNS-mO5iqbL"
      }
    },
    {
      "cell_type": "code",
      "execution_count": null,
      "source": [],
      "outputs": [],
      "metadata": {
        "id": "t2s-zyWeiqbL"
      }
    },
    {
      "cell_type": "markdown",
      "source": [
        "### ii. Visualize analysis of cohort 3 using seaborn and matplotlib modules"
      ],
      "metadata": {
        "id": "tRGOpeUPiqbL"
      }
    },
    {
      "cell_type": "code",
      "execution_count": null,
      "source": [],
      "outputs": [],
      "metadata": {
        "id": "EYkkDncXiqbL"
      }
    },
    {
      "cell_type": "markdown",
      "source": [
        "For e-commerce organisations, cohort analysis is a unique opportunity to find out which clients are the most valuable to their business. by performing Cohort analysis you can get answers to following questions:\n",
        "\n",
        "- How much effective was a marketing campaign held in a particular time period?\n",
        "- Did the strategy employed to improve the conversion rates of Customers worked?\n",
        "- Should I focus more on retention rather than acquiring new customers?\n",
        "- Are my customer nurturing strategies effective?\n",
        "- Which marketing channels bring me the best results?\n",
        "- Is there a seasoanlity pattern in Customer behahiour?"
      ],
      "metadata": {
        "id": "uD9lu1ExQGV5"
      }
    },
    {
      "cell_type": "markdown",
      "source": [
        "___\n",
        "\n",
        "<p style=\"text-align: center;\"><img src=\"https://docs.google.com/uc?id=1lY0Uj5R04yMY3-ZppPWxqCr5pvBLYPnV\" class=\"img-fluid\" alt=\"CLRSWY\"></p>\n",
        "\n",
        "___"
      ],
      "metadata": {
        "id": "ZX_Y6S36iqbL"
      }
    }
  ]
}