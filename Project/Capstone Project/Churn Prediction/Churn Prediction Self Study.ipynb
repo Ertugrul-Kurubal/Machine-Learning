{
 "cells": [
  {
   "cell_type": "markdown",
   "metadata": {
    "id": "Mg_ZAS0B2slE"
   },
   "source": [
    "___\n",
    "\n",
    "<p style=\"text-align: center;\"><img src=\"https://docs.google.com/uc?id=1lY0Uj5R04yMY3-ZppPWxqCr5pvBLYPnV\" class=\"img-fluid\" alt=\"CLRSWY\"></p>\n",
    "\n",
    "___"
   ]
  },
  {
   "cell_type": "markdown",
   "metadata": {
    "id": "8EjVhtzq2slH"
   },
   "source": [
    "# WELCOME!"
   ]
  },
  {
   "cell_type": "markdown",
   "metadata": {
    "id": "JqV3cXW-2slL"
   },
   "source": [
    "Welcome to \"***Employee Churn Analysis Project***\". This is the second project of Capstone Project Series, which you will be able to build your own classification models for a variety of business settings. \n",
    "\n",
    "Also you will learn what is Employee Churn?, How it is different from customer churn, Exploratory data analysis and visualization of employee churn dataset using ***matplotlib*** and ***seaborn***, model building and evaluation using python ***scikit-learn*** package. \n",
    "\n",
    "You will be able to implement classification techniques in Python. Using Scikit-Learn allowing you to successfully make predictions with the Random Forest, Gradient Descent Boosting , KNN algorithms.\n",
    "\n",
    "At the end of the project, you will have the opportunity to deploy your model using *Streamlit*.\n",
    "\n",
    "Before diving into the project, please take a look at the determines and project structure.\n",
    "\n",
    "- NOTE: This project assumes that you already know the basics of coding in Python and are familiar with model deployement as well as the theory behind K-Means, Gradient Boosting , KNN, Random Forest, and Confusion Matrices. You can try more models and methods beside these to improve your model metrics.\n",
    "\n"
   ]
  },
  {
   "cell_type": "markdown",
   "metadata": {
    "id": "4oRnVXpS2slN"
   },
   "source": [
    "# #Determines\n",
    "In this project you have HR data of a company. A study is requested from you to predict which employee will churn by using this data.\n",
    "\n",
    "The HR dataset has 14,999 samples. In the given dataset, you have two types of employee one who stayed and another who left the company.\n",
    "\n",
    "You can describe 10 attributes in detail as:\n",
    "- ***satisfaction_level:*** It is employee satisfaction point, which ranges from 0-1.\n",
    "- ***last_evaluation:*** It is evaluated performance by the employer, which also ranges from 0-1.\n",
    "- ***number_projects:*** How many of projects assigned to an employee?\n",
    "- ***average_monthly_hours:*** How many hours in averega an employee worked in a month?\n",
    "- **time_spent_company:** time_spent_company means employee experience. The number of years spent by an employee in the company.\n",
    "- ***work_accident:*** Whether an employee has had a work accident or not.\n",
    "- ***promotion_last_5years:*** Whether an employee has had a promotion in the last 5 years or not.\n",
    "- ***Departments:*** Employee's working department/division.\n",
    "- ***Salary:*** Salary level of the employee such as low, medium and high.\n",
    "- ***left:*** Whether the employee has left the company or not.\n",
    "\n",
    "First of all, to observe the structure of the data, outliers, missing values and features that affect the target variable, you must use exploratory data analysis and data visualization techniques. \n",
    "\n",
    "Then, you must perform data pre-processing operations such as ***Scaling*** and ***Label Encoding*** to increase the accuracy score of Gradient Descent Based or Distance-Based algorithms. you are asked to perform ***Cluster Analysis*** based on the information you obtain during exploratory data analysis and data visualization processes. \n",
    "\n",
    "The purpose of clustering analysis is to cluster data with similar characteristics. You are asked to use the ***K-means*** algorithm to make cluster analysis. However, you must provide the K-means algorithm with information about the number of clusters it will make predictions. Also, the data you apply to the K-means algorithm must be scaled. In order to find the optimal number of clusters, you are asked to use the ***Elbow method***. Briefly, try to predict the set to which individuals are related by using K-means and evaluate the estimation results.\n",
    "\n",
    "Once the data is ready to be applied to the model, you must ***split the data into train and test***. Then build a model to predict whether employees will churn or not. Train your models with your train set, test the success of your model with your test set. \n",
    "\n",
    "Try to make your predictions by using the algorithms ***Gradient Boosting Classifier***, ***K Neighbors Classifier***, ***Random Forest Classifier***. You can use the related modules of the ***scikit-learn*** library. You can use scikit-learn ***Confusion Metrics*** module for accuracy calculation. You can use the ***Yellowbrick*** module for model selection and visualization.\n",
    "\n",
    "In the final step, you will deploy your model using Streamlit tool.\n",
    "\n"
   ]
  },
  {
   "cell_type": "markdown",
   "metadata": {
    "id": "97xzRLNj2slO"
   },
   "source": [
    "# #Tasks\n",
    "\n",
    "#### 1. Exploratory Data Analysis\n",
    "- Importing Modules\n",
    "- Loading Dataset\n",
    "- Data Insigts\n",
    "\n",
    "#### 2. Data Visualization\n",
    "- Employees Left\n",
    "- Determine Number of Projects\n",
    "- Determine Time Spent in Company\n",
    "- Subplots of Features\n",
    "\n",
    "#### 3. Data Pre-Processing\n",
    "- Scaling\n",
    "- Label Encoding\n",
    "\n",
    "#### 4. Cluster Analysis\n",
    "- Find the optimal number of clusters (k) using the elbow method for for K-means.\n",
    "- Determine the clusters by using K-Means then Evaluate predicted results.\n",
    "\n",
    "#### 5. Model Building\n",
    "- Split Data as Train and Test set\n",
    "- Built Gradient Boosting Classifier, Evaluate Model Performance and Predict Test Data\n",
    "- Built K Neighbors Classifier and Evaluate Model Performance and Predict Test Data\n",
    "- Built Random Forest Classifier and Evaluate Model Performance and Predict Test Data\n",
    "\n",
    "#### 6. Model Deployement\n",
    "\n",
    "- Save and Export the Model as .pkl\n",
    "- Save and Export Variables as .pkl "
   ]
  },
  {
   "cell_type": "markdown",
   "metadata": {
    "id": "WLTGi7q02slP"
   },
   "source": [
    "## 1. Exploratory Data Analysis\n",
    "\n",
    "Exploratory Data Analysis is an initial process of analysis, in which you can summarize characteristics of data such as pattern, trends, outliers, and hypothesis testing using descriptive statistics and visualization."
   ]
  },
  {
   "cell_type": "markdown",
   "metadata": {
    "id": "TyrWBiyM2sld"
   },
   "source": [
    "### Importing Modules"
   ]
  },
  {
   "cell_type": "code",
   "execution_count": 123,
   "metadata": {
    "id": "TI19sGjE2slf"
   },
   "outputs": [],
   "source": [
    "import pandas as pd\n",
    "import numpy as np\n",
    "import matplotlib.pyplot as plt\n",
    "import seaborn as sns\n",
    "from sklearn.preprocessing import StandardScaler\n",
    "import warnings\n",
    "warnings.filterwarnings('ignore')"
   ]
  },
  {
   "cell_type": "markdown",
   "metadata": {
    "id": "vS9n2J9-2sln"
   },
   "source": [
    "### Loading Dataset\n",
    "\n",
    "Let's first load the required HR dataset using pandas's \"read_csv\" function."
   ]
  },
  {
   "cell_type": "code",
   "execution_count": 124,
   "metadata": {
    "id": "rvS39ktq2slt"
   },
   "outputs": [
    {
     "data": {
      "text/html": [
       "<div>\n",
       "<style scoped>\n",
       "    .dataframe tbody tr th:only-of-type {\n",
       "        vertical-align: middle;\n",
       "    }\n",
       "\n",
       "    .dataframe tbody tr th {\n",
       "        vertical-align: top;\n",
       "    }\n",
       "\n",
       "    .dataframe thead th {\n",
       "        text-align: right;\n",
       "    }\n",
       "</style>\n",
       "<table border=\"1\" class=\"dataframe\">\n",
       "  <thead>\n",
       "    <tr style=\"text-align: right;\">\n",
       "      <th></th>\n",
       "      <th>satisfaction_level</th>\n",
       "      <th>last_evaluation</th>\n",
       "      <th>number_project</th>\n",
       "      <th>average_montly_hours</th>\n",
       "      <th>time_spend_company</th>\n",
       "      <th>Work_accident</th>\n",
       "      <th>left</th>\n",
       "      <th>promotion_last_5years</th>\n",
       "      <th>Departments</th>\n",
       "      <th>salary</th>\n",
       "    </tr>\n",
       "  </thead>\n",
       "  <tbody>\n",
       "    <tr>\n",
       "      <th>0</th>\n",
       "      <td>0.38</td>\n",
       "      <td>0.53</td>\n",
       "      <td>2</td>\n",
       "      <td>157</td>\n",
       "      <td>3</td>\n",
       "      <td>0</td>\n",
       "      <td>1</td>\n",
       "      <td>0</td>\n",
       "      <td>sales</td>\n",
       "      <td>low</td>\n",
       "    </tr>\n",
       "    <tr>\n",
       "      <th>1</th>\n",
       "      <td>0.80</td>\n",
       "      <td>0.86</td>\n",
       "      <td>5</td>\n",
       "      <td>262</td>\n",
       "      <td>6</td>\n",
       "      <td>0</td>\n",
       "      <td>1</td>\n",
       "      <td>0</td>\n",
       "      <td>sales</td>\n",
       "      <td>medium</td>\n",
       "    </tr>\n",
       "    <tr>\n",
       "      <th>2</th>\n",
       "      <td>0.11</td>\n",
       "      <td>0.88</td>\n",
       "      <td>7</td>\n",
       "      <td>272</td>\n",
       "      <td>4</td>\n",
       "      <td>0</td>\n",
       "      <td>1</td>\n",
       "      <td>0</td>\n",
       "      <td>sales</td>\n",
       "      <td>medium</td>\n",
       "    </tr>\n",
       "    <tr>\n",
       "      <th>3</th>\n",
       "      <td>0.72</td>\n",
       "      <td>0.87</td>\n",
       "      <td>5</td>\n",
       "      <td>223</td>\n",
       "      <td>5</td>\n",
       "      <td>0</td>\n",
       "      <td>1</td>\n",
       "      <td>0</td>\n",
       "      <td>sales</td>\n",
       "      <td>low</td>\n",
       "    </tr>\n",
       "    <tr>\n",
       "      <th>4</th>\n",
       "      <td>0.37</td>\n",
       "      <td>0.52</td>\n",
       "      <td>2</td>\n",
       "      <td>159</td>\n",
       "      <td>3</td>\n",
       "      <td>0</td>\n",
       "      <td>1</td>\n",
       "      <td>0</td>\n",
       "      <td>sales</td>\n",
       "      <td>low</td>\n",
       "    </tr>\n",
       "  </tbody>\n",
       "</table>\n",
       "</div>"
      ],
      "text/plain": [
       "   satisfaction_level  last_evaluation  number_project  average_montly_hours  \\\n",
       "0                0.38             0.53               2                   157   \n",
       "1                0.80             0.86               5                   262   \n",
       "2                0.11             0.88               7                   272   \n",
       "3                0.72             0.87               5                   223   \n",
       "4                0.37             0.52               2                   159   \n",
       "\n",
       "   time_spend_company  Work_accident  left  promotion_last_5years  \\\n",
       "0                   3              0     1                      0   \n",
       "1                   6              0     1                      0   \n",
       "2                   4              0     1                      0   \n",
       "3                   5              0     1                      0   \n",
       "4                   3              0     1                      0   \n",
       "\n",
       "  Departments   salary  \n",
       "0        sales     low  \n",
       "1        sales  medium  \n",
       "2        sales  medium  \n",
       "3        sales     low  \n",
       "4        sales     low  "
      ]
     },
     "execution_count": 124,
     "metadata": {},
     "output_type": "execute_result"
    }
   ],
   "source": [
    "df = pd.read_csv(\"HR_Dataset.csv\")\n",
    "df.head()"
   ]
  },
  {
   "cell_type": "markdown",
   "metadata": {
    "id": "wc8t0m9u2sl2"
   },
   "source": [
    "### Data Insights\n",
    "\n",
    "In the given dataset, you have two types of employee one who stayed and another who left the company. So, you can divide data into two groups and compare their characteristics. Here, you can find the average of both the groups using groupby() and mean() function."
   ]
  },
  {
   "cell_type": "code",
   "execution_count": 125,
   "metadata": {
    "id": "6Qd_Mxw-2sl9"
   },
   "outputs": [
    {
     "name": "stdout",
     "output_type": "stream",
     "text": [
      "<class 'pandas.core.frame.DataFrame'>\n",
      "RangeIndex: 14999 entries, 0 to 14998\n",
      "Data columns (total 10 columns):\n",
      " #   Column                 Non-Null Count  Dtype  \n",
      "---  ------                 --------------  -----  \n",
      " 0   satisfaction_level     14999 non-null  float64\n",
      " 1   last_evaluation        14999 non-null  float64\n",
      " 2   number_project         14999 non-null  int64  \n",
      " 3   average_montly_hours   14999 non-null  int64  \n",
      " 4   time_spend_company     14999 non-null  int64  \n",
      " 5   Work_accident          14999 non-null  int64  \n",
      " 6   left                   14999 non-null  int64  \n",
      " 7   promotion_last_5years  14999 non-null  int64  \n",
      " 8   Departments            14999 non-null  object \n",
      " 9   salary                 14999 non-null  object \n",
      "dtypes: float64(2), int64(6), object(2)\n",
      "memory usage: 1.1+ MB\n"
     ]
    }
   ],
   "source": [
    "df.info()"
   ]
  },
  {
   "cell_type": "code",
   "execution_count": 126,
   "metadata": {},
   "outputs": [
    {
     "data": {
      "text/plain": [
       "False    11991\n",
       "True      3008\n",
       "dtype: int64"
      ]
     },
     "execution_count": 126,
     "metadata": {},
     "output_type": "execute_result"
    }
   ],
   "source": [
    "df.duplicated().value_counts()"
   ]
  },
  {
   "cell_type": "code",
   "execution_count": 127,
   "metadata": {},
   "outputs": [
    {
     "data": {
      "text/html": [
       "<div>\n",
       "<style scoped>\n",
       "    .dataframe tbody tr th:only-of-type {\n",
       "        vertical-align: middle;\n",
       "    }\n",
       "\n",
       "    .dataframe tbody tr th {\n",
       "        vertical-align: top;\n",
       "    }\n",
       "\n",
       "    .dataframe thead th {\n",
       "        text-align: right;\n",
       "    }\n",
       "</style>\n",
       "<table border=\"1\" class=\"dataframe\">\n",
       "  <thead>\n",
       "    <tr style=\"text-align: right;\">\n",
       "      <th></th>\n",
       "      <th>satisfaction_level</th>\n",
       "      <th>last_evaluation</th>\n",
       "      <th>number_project</th>\n",
       "      <th>average_montly_hours</th>\n",
       "      <th>time_spend_company</th>\n",
       "      <th>Work_accident</th>\n",
       "      <th>left</th>\n",
       "      <th>promotion_last_5years</th>\n",
       "      <th>Departments</th>\n",
       "      <th>salary</th>\n",
       "    </tr>\n",
       "  </thead>\n",
       "  <tbody>\n",
       "    <tr>\n",
       "      <th>396</th>\n",
       "      <td>0.46</td>\n",
       "      <td>0.57</td>\n",
       "      <td>2</td>\n",
       "      <td>139</td>\n",
       "      <td>3</td>\n",
       "      <td>0</td>\n",
       "      <td>1</td>\n",
       "      <td>0</td>\n",
       "      <td>sales</td>\n",
       "      <td>low</td>\n",
       "    </tr>\n",
       "    <tr>\n",
       "      <th>866</th>\n",
       "      <td>0.41</td>\n",
       "      <td>0.46</td>\n",
       "      <td>2</td>\n",
       "      <td>128</td>\n",
       "      <td>3</td>\n",
       "      <td>0</td>\n",
       "      <td>1</td>\n",
       "      <td>0</td>\n",
       "      <td>accounting</td>\n",
       "      <td>low</td>\n",
       "    </tr>\n",
       "    <tr>\n",
       "      <th>1317</th>\n",
       "      <td>0.37</td>\n",
       "      <td>0.51</td>\n",
       "      <td>2</td>\n",
       "      <td>127</td>\n",
       "      <td>3</td>\n",
       "      <td>0</td>\n",
       "      <td>1</td>\n",
       "      <td>0</td>\n",
       "      <td>sales</td>\n",
       "      <td>medium</td>\n",
       "    </tr>\n",
       "    <tr>\n",
       "      <th>1368</th>\n",
       "      <td>0.41</td>\n",
       "      <td>0.52</td>\n",
       "      <td>2</td>\n",
       "      <td>132</td>\n",
       "      <td>3</td>\n",
       "      <td>0</td>\n",
       "      <td>1</td>\n",
       "      <td>0</td>\n",
       "      <td>RandD</td>\n",
       "      <td>low</td>\n",
       "    </tr>\n",
       "    <tr>\n",
       "      <th>1461</th>\n",
       "      <td>0.42</td>\n",
       "      <td>0.53</td>\n",
       "      <td>2</td>\n",
       "      <td>142</td>\n",
       "      <td>3</td>\n",
       "      <td>0</td>\n",
       "      <td>1</td>\n",
       "      <td>0</td>\n",
       "      <td>sales</td>\n",
       "      <td>low</td>\n",
       "    </tr>\n",
       "    <tr>\n",
       "      <th>...</th>\n",
       "      <td>...</td>\n",
       "      <td>...</td>\n",
       "      <td>...</td>\n",
       "      <td>...</td>\n",
       "      <td>...</td>\n",
       "      <td>...</td>\n",
       "      <td>...</td>\n",
       "      <td>...</td>\n",
       "      <td>...</td>\n",
       "      <td>...</td>\n",
       "    </tr>\n",
       "    <tr>\n",
       "      <th>14994</th>\n",
       "      <td>0.40</td>\n",
       "      <td>0.57</td>\n",
       "      <td>2</td>\n",
       "      <td>151</td>\n",
       "      <td>3</td>\n",
       "      <td>0</td>\n",
       "      <td>1</td>\n",
       "      <td>0</td>\n",
       "      <td>support</td>\n",
       "      <td>low</td>\n",
       "    </tr>\n",
       "    <tr>\n",
       "      <th>14995</th>\n",
       "      <td>0.37</td>\n",
       "      <td>0.48</td>\n",
       "      <td>2</td>\n",
       "      <td>160</td>\n",
       "      <td>3</td>\n",
       "      <td>0</td>\n",
       "      <td>1</td>\n",
       "      <td>0</td>\n",
       "      <td>support</td>\n",
       "      <td>low</td>\n",
       "    </tr>\n",
       "    <tr>\n",
       "      <th>14996</th>\n",
       "      <td>0.37</td>\n",
       "      <td>0.53</td>\n",
       "      <td>2</td>\n",
       "      <td>143</td>\n",
       "      <td>3</td>\n",
       "      <td>0</td>\n",
       "      <td>1</td>\n",
       "      <td>0</td>\n",
       "      <td>support</td>\n",
       "      <td>low</td>\n",
       "    </tr>\n",
       "    <tr>\n",
       "      <th>14997</th>\n",
       "      <td>0.11</td>\n",
       "      <td>0.96</td>\n",
       "      <td>6</td>\n",
       "      <td>280</td>\n",
       "      <td>4</td>\n",
       "      <td>0</td>\n",
       "      <td>1</td>\n",
       "      <td>0</td>\n",
       "      <td>support</td>\n",
       "      <td>low</td>\n",
       "    </tr>\n",
       "    <tr>\n",
       "      <th>14998</th>\n",
       "      <td>0.37</td>\n",
       "      <td>0.52</td>\n",
       "      <td>2</td>\n",
       "      <td>158</td>\n",
       "      <td>3</td>\n",
       "      <td>0</td>\n",
       "      <td>1</td>\n",
       "      <td>0</td>\n",
       "      <td>support</td>\n",
       "      <td>low</td>\n",
       "    </tr>\n",
       "  </tbody>\n",
       "</table>\n",
       "<p>3008 rows × 10 columns</p>\n",
       "</div>"
      ],
      "text/plain": [
       "       satisfaction_level  last_evaluation  number_project  \\\n",
       "396                  0.46             0.57               2   \n",
       "866                  0.41             0.46               2   \n",
       "1317                 0.37             0.51               2   \n",
       "1368                 0.41             0.52               2   \n",
       "1461                 0.42             0.53               2   \n",
       "...                   ...              ...             ...   \n",
       "14994                0.40             0.57               2   \n",
       "14995                0.37             0.48               2   \n",
       "14996                0.37             0.53               2   \n",
       "14997                0.11             0.96               6   \n",
       "14998                0.37             0.52               2   \n",
       "\n",
       "       average_montly_hours  time_spend_company  Work_accident  left  \\\n",
       "396                     139                   3              0     1   \n",
       "866                     128                   3              0     1   \n",
       "1317                    127                   3              0     1   \n",
       "1368                    132                   3              0     1   \n",
       "1461                    142                   3              0     1   \n",
       "...                     ...                 ...            ...   ...   \n",
       "14994                   151                   3              0     1   \n",
       "14995                   160                   3              0     1   \n",
       "14996                   143                   3              0     1   \n",
       "14997                   280                   4              0     1   \n",
       "14998                   158                   3              0     1   \n",
       "\n",
       "       promotion_last_5years Departments   salary  \n",
       "396                        0        sales     low  \n",
       "866                        0   accounting     low  \n",
       "1317                       0        sales  medium  \n",
       "1368                       0        RandD     low  \n",
       "1461                       0        sales     low  \n",
       "...                      ...          ...     ...  \n",
       "14994                      0      support     low  \n",
       "14995                      0      support     low  \n",
       "14996                      0      support     low  \n",
       "14997                      0      support     low  \n",
       "14998                      0      support     low  \n",
       "\n",
       "[3008 rows x 10 columns]"
      ]
     },
     "execution_count": 127,
     "metadata": {},
     "output_type": "execute_result"
    }
   ],
   "source": [
    "df[df.duplicated()]"
   ]
  },
  {
   "cell_type": "code",
   "execution_count": 128,
   "metadata": {},
   "outputs": [
    {
     "data": {
      "text/plain": [
       "Index(['satisfaction_level', 'last_evaluation', 'number_project',\n",
       "       'average_montly_hours', 'time_spend_company', 'Work_accident', 'left',\n",
       "       'promotion_last_5years', 'Departments ', 'salary'],\n",
       "      dtype='object')"
      ]
     },
     "execution_count": 128,
     "metadata": {},
     "output_type": "execute_result"
    }
   ],
   "source": [
    "df.columns"
   ]
  },
  {
   "cell_type": "code",
   "execution_count": 129,
   "metadata": {},
   "outputs": [
    {
     "data": {
      "text/plain": [
       "Index(['satisfaction_level', 'last_evaluation', 'number_project',\n",
       "       'average_montly_hours', 'time_spend_company', 'Work_accident', 'left',\n",
       "       'promotion_last_5years', 'Departments', 'salary'],\n",
       "      dtype='object')"
      ]
     },
     "execution_count": 129,
     "metadata": {},
     "output_type": "execute_result"
    }
   ],
   "source": [
    "df.columns = df.columns.str.strip()\n",
    "df.columns"
   ]
  },
  {
   "cell_type": "code",
   "execution_count": 130,
   "metadata": {},
   "outputs": [
    {
     "data": {
      "text/html": [
       "<div>\n",
       "<style scoped>\n",
       "    .dataframe tbody tr th:only-of-type {\n",
       "        vertical-align: middle;\n",
       "    }\n",
       "\n",
       "    .dataframe tbody tr th {\n",
       "        vertical-align: top;\n",
       "    }\n",
       "\n",
       "    .dataframe thead th {\n",
       "        text-align: right;\n",
       "    }\n",
       "</style>\n",
       "<table border=\"1\" class=\"dataframe\">\n",
       "  <thead>\n",
       "    <tr style=\"text-align: right;\">\n",
       "      <th></th>\n",
       "      <th>satisfaction_level</th>\n",
       "      <th>last_evaluation</th>\n",
       "      <th>number_project</th>\n",
       "      <th>average_montly_hours</th>\n",
       "      <th>time_spend_company</th>\n",
       "      <th>Work_accident</th>\n",
       "      <th>left</th>\n",
       "      <th>promotion_last_5years</th>\n",
       "      <th>Departments</th>\n",
       "      <th>salary</th>\n",
       "    </tr>\n",
       "  </thead>\n",
       "  <tbody>\n",
       "    <tr>\n",
       "      <th>271</th>\n",
       "      <td>0.11</td>\n",
       "      <td>0.84</td>\n",
       "      <td>6</td>\n",
       "      <td>251</td>\n",
       "      <td>4</td>\n",
       "      <td>0</td>\n",
       "      <td>1</td>\n",
       "      <td>0</td>\n",
       "      <td>technical</td>\n",
       "      <td>medium</td>\n",
       "    </tr>\n",
       "    <tr>\n",
       "      <th>350</th>\n",
       "      <td>0.09</td>\n",
       "      <td>0.80</td>\n",
       "      <td>6</td>\n",
       "      <td>304</td>\n",
       "      <td>5</td>\n",
       "      <td>0</td>\n",
       "      <td>1</td>\n",
       "      <td>0</td>\n",
       "      <td>technical</td>\n",
       "      <td>medium</td>\n",
       "    </tr>\n",
       "    <tr>\n",
       "      <th>396</th>\n",
       "      <td>0.46</td>\n",
       "      <td>0.57</td>\n",
       "      <td>2</td>\n",
       "      <td>139</td>\n",
       "      <td>3</td>\n",
       "      <td>0</td>\n",
       "      <td>1</td>\n",
       "      <td>0</td>\n",
       "      <td>sales</td>\n",
       "      <td>low</td>\n",
       "    </tr>\n",
       "    <tr>\n",
       "      <th>515</th>\n",
       "      <td>0.88</td>\n",
       "      <td>1.00</td>\n",
       "      <td>5</td>\n",
       "      <td>219</td>\n",
       "      <td>6</td>\n",
       "      <td>1</td>\n",
       "      <td>1</td>\n",
       "      <td>0</td>\n",
       "      <td>technical</td>\n",
       "      <td>low</td>\n",
       "    </tr>\n",
       "    <tr>\n",
       "      <th>624</th>\n",
       "      <td>0.38</td>\n",
       "      <td>0.50</td>\n",
       "      <td>2</td>\n",
       "      <td>140</td>\n",
       "      <td>3</td>\n",
       "      <td>0</td>\n",
       "      <td>1</td>\n",
       "      <td>0</td>\n",
       "      <td>sales</td>\n",
       "      <td>low</td>\n",
       "    </tr>\n",
       "    <tr>\n",
       "      <th>...</th>\n",
       "      <td>...</td>\n",
       "      <td>...</td>\n",
       "      <td>...</td>\n",
       "      <td>...</td>\n",
       "      <td>...</td>\n",
       "      <td>...</td>\n",
       "      <td>...</td>\n",
       "      <td>...</td>\n",
       "      <td>...</td>\n",
       "      <td>...</td>\n",
       "    </tr>\n",
       "    <tr>\n",
       "      <th>14994</th>\n",
       "      <td>0.40</td>\n",
       "      <td>0.57</td>\n",
       "      <td>2</td>\n",
       "      <td>151</td>\n",
       "      <td>3</td>\n",
       "      <td>0</td>\n",
       "      <td>1</td>\n",
       "      <td>0</td>\n",
       "      <td>support</td>\n",
       "      <td>low</td>\n",
       "    </tr>\n",
       "    <tr>\n",
       "      <th>14995</th>\n",
       "      <td>0.37</td>\n",
       "      <td>0.48</td>\n",
       "      <td>2</td>\n",
       "      <td>160</td>\n",
       "      <td>3</td>\n",
       "      <td>0</td>\n",
       "      <td>1</td>\n",
       "      <td>0</td>\n",
       "      <td>support</td>\n",
       "      <td>low</td>\n",
       "    </tr>\n",
       "    <tr>\n",
       "      <th>14996</th>\n",
       "      <td>0.37</td>\n",
       "      <td>0.53</td>\n",
       "      <td>2</td>\n",
       "      <td>143</td>\n",
       "      <td>3</td>\n",
       "      <td>0</td>\n",
       "      <td>1</td>\n",
       "      <td>0</td>\n",
       "      <td>support</td>\n",
       "      <td>low</td>\n",
       "    </tr>\n",
       "    <tr>\n",
       "      <th>14997</th>\n",
       "      <td>0.11</td>\n",
       "      <td>0.96</td>\n",
       "      <td>6</td>\n",
       "      <td>280</td>\n",
       "      <td>4</td>\n",
       "      <td>0</td>\n",
       "      <td>1</td>\n",
       "      <td>0</td>\n",
       "      <td>support</td>\n",
       "      <td>low</td>\n",
       "    </tr>\n",
       "    <tr>\n",
       "      <th>14998</th>\n",
       "      <td>0.37</td>\n",
       "      <td>0.52</td>\n",
       "      <td>2</td>\n",
       "      <td>158</td>\n",
       "      <td>3</td>\n",
       "      <td>0</td>\n",
       "      <td>1</td>\n",
       "      <td>0</td>\n",
       "      <td>support</td>\n",
       "      <td>low</td>\n",
       "    </tr>\n",
       "  </tbody>\n",
       "</table>\n",
       "<p>3033 rows × 10 columns</p>\n",
       "</div>"
      ],
      "text/plain": [
       "       satisfaction_level  last_evaluation  number_project  \\\n",
       "271                  0.11             0.84               6   \n",
       "350                  0.09             0.80               6   \n",
       "396                  0.46             0.57               2   \n",
       "515                  0.88             1.00               5   \n",
       "624                  0.38             0.50               2   \n",
       "...                   ...              ...             ...   \n",
       "14994                0.40             0.57               2   \n",
       "14995                0.37             0.48               2   \n",
       "14996                0.37             0.53               2   \n",
       "14997                0.11             0.96               6   \n",
       "14998                0.37             0.52               2   \n",
       "\n",
       "       average_montly_hours  time_spend_company  Work_accident  left  \\\n",
       "271                     251                   4              0     1   \n",
       "350                     304                   5              0     1   \n",
       "396                     139                   3              0     1   \n",
       "515                     219                   6              1     1   \n",
       "624                     140                   3              0     1   \n",
       "...                     ...                 ...            ...   ...   \n",
       "14994                   151                   3              0     1   \n",
       "14995                   160                   3              0     1   \n",
       "14996                   143                   3              0     1   \n",
       "14997                   280                   4              0     1   \n",
       "14998                   158                   3              0     1   \n",
       "\n",
       "       promotion_last_5years Departments  salary  \n",
       "271                        0   technical  medium  \n",
       "350                        0   technical  medium  \n",
       "396                        0       sales     low  \n",
       "515                        0   technical     low  \n",
       "624                        0       sales     low  \n",
       "...                      ...         ...     ...  \n",
       "14994                      0     support     low  \n",
       "14995                      0     support     low  \n",
       "14996                      0     support     low  \n",
       "14997                      0     support     low  \n",
       "14998                      0     support     low  \n",
       "\n",
       "[3033 rows x 10 columns]"
      ]
     },
     "execution_count": 130,
     "metadata": {},
     "output_type": "execute_result"
    }
   ],
   "source": [
    "df[df.duplicated([\"satisfaction_level\",\"average_montly_hours\", \"Departments\",\"last_evaluation\"])]"
   ]
  },
  {
   "cell_type": "code",
   "execution_count": 131,
   "metadata": {},
   "outputs": [
    {
     "data": {
      "text/plain": [
       "<AxesSubplot:ylabel='Frequency'>"
      ]
     },
     "execution_count": 131,
     "metadata": {},
     "output_type": "execute_result"
    },
    {
     "data": {
      "image/png": "[encoded data removed]",
      "text/plain": [
       "<Figure size 432x288 with 1 Axes>"
      ]
     },
     "metadata": {
      "needs_background": "light"
     },
     "output_type": "display_data"
    }
   ],
   "source": [
    "df['satisfaction_level'].plot(kind=\"hist\")"
   ]
  },
  {
   "cell_type": "code",
   "execution_count": 132,
   "metadata": {},
   "outputs": [
    {
     "data": {
      "text/html": [
       "<div>\n",
       "<style scoped>\n",
       "    .dataframe tbody tr th:only-of-type {\n",
       "        vertical-align: middle;\n",
       "    }\n",
       "\n",
       "    .dataframe tbody tr th {\n",
       "        vertical-align: top;\n",
       "    }\n",
       "\n",
       "    .dataframe thead th {\n",
       "        text-align: right;\n",
       "    }\n",
       "</style>\n",
       "<table border=\"1\" class=\"dataframe\">\n",
       "  <thead>\n",
       "    <tr style=\"text-align: right;\">\n",
       "      <th></th>\n",
       "      <th>satisfaction_level</th>\n",
       "      <th>last_evaluation</th>\n",
       "      <th>number_project</th>\n",
       "      <th>average_montly_hours</th>\n",
       "      <th>time_spend_company</th>\n",
       "      <th>Work_accident</th>\n",
       "      <th>left</th>\n",
       "      <th>promotion_last_5years</th>\n",
       "      <th>Departments</th>\n",
       "      <th>salary</th>\n",
       "    </tr>\n",
       "  </thead>\n",
       "  <tbody>\n",
       "    <tr>\n",
       "      <th>22</th>\n",
       "      <td>0.09</td>\n",
       "      <td>0.95</td>\n",
       "      <td>6</td>\n",
       "      <td>304</td>\n",
       "      <td>4</td>\n",
       "      <td>0</td>\n",
       "      <td>1</td>\n",
       "      <td>0</td>\n",
       "      <td>sales</td>\n",
       "      <td>low</td>\n",
       "    </tr>\n",
       "    <tr>\n",
       "      <th>12022</th>\n",
       "      <td>0.09</td>\n",
       "      <td>0.95</td>\n",
       "      <td>6</td>\n",
       "      <td>304</td>\n",
       "      <td>4</td>\n",
       "      <td>0</td>\n",
       "      <td>1</td>\n",
       "      <td>0</td>\n",
       "      <td>sales</td>\n",
       "      <td>low</td>\n",
       "    </tr>\n",
       "    <tr>\n",
       "      <th>14233</th>\n",
       "      <td>0.09</td>\n",
       "      <td>0.95</td>\n",
       "      <td>6</td>\n",
       "      <td>304</td>\n",
       "      <td>4</td>\n",
       "      <td>0</td>\n",
       "      <td>1</td>\n",
       "      <td>0</td>\n",
       "      <td>sales</td>\n",
       "      <td>low</td>\n",
       "    </tr>\n",
       "  </tbody>\n",
       "</table>\n",
       "</div>"
      ],
      "text/plain": [
       "       satisfaction_level  last_evaluation  number_project  \\\n",
       "22                   0.09             0.95               6   \n",
       "12022                0.09             0.95               6   \n",
       "14233                0.09             0.95               6   \n",
       "\n",
       "       average_montly_hours  time_spend_company  Work_accident  left  \\\n",
       "22                      304                   4              0     1   \n",
       "12022                   304                   4              0     1   \n",
       "14233                   304                   4              0     1   \n",
       "\n",
       "       promotion_last_5years Departments salary  \n",
       "22                         0       sales    low  \n",
       "12022                      0       sales    low  \n",
       "14233                      0       sales    low  "
      ]
     },
     "execution_count": 132,
     "metadata": {},
     "output_type": "execute_result"
    }
   ],
   "source": [
    "df.loc[(df['satisfaction_level'] == 0.09) & (df['salary'] == \"low\") & (df['number_project'] == 6) & (df['last_evaluation'] == 0.95) & (df['average_montly_hours'] == 304)]"
   ]
  },
  {
   "cell_type": "code",
   "execution_count": 133,
   "metadata": {},
   "outputs": [],
   "source": [
    "df=df.drop_duplicates()"
   ]
  },
  {
   "cell_type": "code",
   "execution_count": 134,
   "metadata": {
    "scrolled": true
   },
   "outputs": [
    {
     "data": {
      "text/html": [
       "<div>\n",
       "<style scoped>\n",
       "    .dataframe tbody tr th:only-of-type {\n",
       "        vertical-align: middle;\n",
       "    }\n",
       "\n",
       "    .dataframe tbody tr th {\n",
       "        vertical-align: top;\n",
       "    }\n",
       "\n",
       "    .dataframe thead th {\n",
       "        text-align: right;\n",
       "    }\n",
       "</style>\n",
       "<table border=\"1\" class=\"dataframe\">\n",
       "  <thead>\n",
       "    <tr style=\"text-align: right;\">\n",
       "      <th></th>\n",
       "      <th>count</th>\n",
       "      <th>mean</th>\n",
       "      <th>std</th>\n",
       "      <th>min</th>\n",
       "      <th>25%</th>\n",
       "      <th>50%</th>\n",
       "      <th>75%</th>\n",
       "      <th>max</th>\n",
       "    </tr>\n",
       "  </thead>\n",
       "  <tbody>\n",
       "    <tr>\n",
       "      <th>satisfaction_level</th>\n",
       "      <td>11991.0</td>\n",
       "      <td>0.629658</td>\n",
       "      <td>0.241070</td>\n",
       "      <td>0.09</td>\n",
       "      <td>0.48</td>\n",
       "      <td>0.66</td>\n",
       "      <td>0.82</td>\n",
       "      <td>1.0</td>\n",
       "    </tr>\n",
       "    <tr>\n",
       "      <th>last_evaluation</th>\n",
       "      <td>11991.0</td>\n",
       "      <td>0.716683</td>\n",
       "      <td>0.168343</td>\n",
       "      <td>0.36</td>\n",
       "      <td>0.57</td>\n",
       "      <td>0.72</td>\n",
       "      <td>0.86</td>\n",
       "      <td>1.0</td>\n",
       "    </tr>\n",
       "    <tr>\n",
       "      <th>number_project</th>\n",
       "      <td>11991.0</td>\n",
       "      <td>3.802852</td>\n",
       "      <td>1.163238</td>\n",
       "      <td>2.00</td>\n",
       "      <td>3.00</td>\n",
       "      <td>4.00</td>\n",
       "      <td>5.00</td>\n",
       "      <td>7.0</td>\n",
       "    </tr>\n",
       "    <tr>\n",
       "      <th>average_montly_hours</th>\n",
       "      <td>11991.0</td>\n",
       "      <td>200.473522</td>\n",
       "      <td>48.727813</td>\n",
       "      <td>96.00</td>\n",
       "      <td>157.00</td>\n",
       "      <td>200.00</td>\n",
       "      <td>243.00</td>\n",
       "      <td>310.0</td>\n",
       "    </tr>\n",
       "    <tr>\n",
       "      <th>time_spend_company</th>\n",
       "      <td>11991.0</td>\n",
       "      <td>3.364857</td>\n",
       "      <td>1.330240</td>\n",
       "      <td>2.00</td>\n",
       "      <td>3.00</td>\n",
       "      <td>3.00</td>\n",
       "      <td>4.00</td>\n",
       "      <td>10.0</td>\n",
       "    </tr>\n",
       "    <tr>\n",
       "      <th>Work_accident</th>\n",
       "      <td>11991.0</td>\n",
       "      <td>0.154282</td>\n",
       "      <td>0.361234</td>\n",
       "      <td>0.00</td>\n",
       "      <td>0.00</td>\n",
       "      <td>0.00</td>\n",
       "      <td>0.00</td>\n",
       "      <td>1.0</td>\n",
       "    </tr>\n",
       "    <tr>\n",
       "      <th>left</th>\n",
       "      <td>11991.0</td>\n",
       "      <td>0.166041</td>\n",
       "      <td>0.372133</td>\n",
       "      <td>0.00</td>\n",
       "      <td>0.00</td>\n",
       "      <td>0.00</td>\n",
       "      <td>0.00</td>\n",
       "      <td>1.0</td>\n",
       "    </tr>\n",
       "    <tr>\n",
       "      <th>promotion_last_5years</th>\n",
       "      <td>11991.0</td>\n",
       "      <td>0.016929</td>\n",
       "      <td>0.129012</td>\n",
       "      <td>0.00</td>\n",
       "      <td>0.00</td>\n",
       "      <td>0.00</td>\n",
       "      <td>0.00</td>\n",
       "      <td>1.0</td>\n",
       "    </tr>\n",
       "  </tbody>\n",
       "</table>\n",
       "</div>"
      ],
      "text/plain": [
       "                         count        mean        std    min     25%     50%  \\\n",
       "satisfaction_level     11991.0    0.629658   0.241070   0.09    0.48    0.66   \n",
       "last_evaluation        11991.0    0.716683   0.168343   0.36    0.57    0.72   \n",
       "number_project         11991.0    3.802852   1.163238   2.00    3.00    4.00   \n",
       "average_montly_hours   11991.0  200.473522  48.727813  96.00  157.00  200.00   \n",
       "time_spend_company     11991.0    3.364857   1.330240   2.00    3.00    3.00   \n",
       "Work_accident          11991.0    0.154282   0.361234   0.00    0.00    0.00   \n",
       "left                   11991.0    0.166041   0.372133   0.00    0.00    0.00   \n",
       "promotion_last_5years  11991.0    0.016929   0.129012   0.00    0.00    0.00   \n",
       "\n",
       "                          75%    max  \n",
       "satisfaction_level       0.82    1.0  \n",
       "last_evaluation          0.86    1.0  \n",
       "number_project           5.00    7.0  \n",
       "average_montly_hours   243.00  310.0  \n",
       "time_spend_company       4.00   10.0  \n",
       "Work_accident            0.00    1.0  \n",
       "left                     0.00    1.0  \n",
       "promotion_last_5years    0.00    1.0  "
      ]
     },
     "execution_count": 134,
     "metadata": {},
     "output_type": "execute_result"
    }
   ],
   "source": [
    "df.describe().T"
   ]
  },
  {
   "cell_type": "code",
   "execution_count": 135,
   "metadata": {},
   "outputs": [
    {
     "data": {
      "text/html": [
       "<div>\n",
       "<style scoped>\n",
       "    .dataframe tbody tr th:only-of-type {\n",
       "        vertical-align: middle;\n",
       "    }\n",
       "\n",
       "    .dataframe tbody tr th {\n",
       "        vertical-align: top;\n",
       "    }\n",
       "\n",
       "    .dataframe thead th {\n",
       "        text-align: right;\n",
       "    }\n",
       "</style>\n",
       "<table border=\"1\" class=\"dataframe\">\n",
       "  <thead>\n",
       "    <tr style=\"text-align: right;\">\n",
       "      <th></th>\n",
       "      <th>left</th>\n",
       "      <th>promotion_last_5years</th>\n",
       "    </tr>\n",
       "  </thead>\n",
       "  <tbody>\n",
       "    <tr>\n",
       "      <th>9635</th>\n",
       "      <td>0</td>\n",
       "      <td>0</td>\n",
       "    </tr>\n",
       "    <tr>\n",
       "      <th>6370</th>\n",
       "      <td>0</td>\n",
       "      <td>0</td>\n",
       "    </tr>\n",
       "    <tr>\n",
       "      <th>6767</th>\n",
       "      <td>0</td>\n",
       "      <td>0</td>\n",
       "    </tr>\n",
       "    <tr>\n",
       "      <th>3834</th>\n",
       "      <td>0</td>\n",
       "      <td>0</td>\n",
       "    </tr>\n",
       "    <tr>\n",
       "      <th>3540</th>\n",
       "      <td>0</td>\n",
       "      <td>0</td>\n",
       "    </tr>\n",
       "    <tr>\n",
       "      <th>5061</th>\n",
       "      <td>0</td>\n",
       "      <td>0</td>\n",
       "    </tr>\n",
       "    <tr>\n",
       "      <th>5345</th>\n",
       "      <td>0</td>\n",
       "      <td>0</td>\n",
       "    </tr>\n",
       "    <tr>\n",
       "      <th>7623</th>\n",
       "      <td>0</td>\n",
       "      <td>0</td>\n",
       "    </tr>\n",
       "    <tr>\n",
       "      <th>8880</th>\n",
       "      <td>0</td>\n",
       "      <td>0</td>\n",
       "    </tr>\n",
       "    <tr>\n",
       "      <th>8981</th>\n",
       "      <td>0</td>\n",
       "      <td>0</td>\n",
       "    </tr>\n",
       "  </tbody>\n",
       "</table>\n",
       "</div>"
      ],
      "text/plain": [
       "      left  promotion_last_5years\n",
       "9635     0                      0\n",
       "6370     0                      0\n",
       "6767     0                      0\n",
       "3834     0                      0\n",
       "3540     0                      0\n",
       "5061     0                      0\n",
       "5345     0                      0\n",
       "7623     0                      0\n",
       "8880     0                      0\n",
       "8981     0                      0"
      ]
     },
     "execution_count": 135,
     "metadata": {},
     "output_type": "execute_result"
    }
   ],
   "source": [
    "df[[\"left\", \"promotion_last_5years\"]].sample(10)"
   ]
  },
  {
   "cell_type": "code",
   "execution_count": 136,
   "metadata": {},
   "outputs": [
    {
     "data": {
      "image/png": "[encoded data removed]",
      "text/plain": [
       "<Figure size 576x360 with 1 Axes>"
      ]
     },
     "metadata": {
      "needs_background": "light"
     },
     "output_type": "display_data"
    }
   ],
   "source": [
    "plt.figure(figsize=(8,5))\n",
    "sns.countplot(x=\"left\", data=df);"
   ]
  },
  {
   "cell_type": "code",
   "execution_count": 137,
   "metadata": {
    "scrolled": true
   },
   "outputs": [
    {
     "data": {
      "image/png": "[encoded data removed]",
      "text/plain": [
       "<Figure size 576x360 with 1 Axes>"
      ]
     },
     "metadata": {
      "needs_background": "light"
     },
     "output_type": "display_data"
    }
   ],
   "source": [
    "plt.figure(figsize=(8,5))\n",
    "sns.countplot(x=\"promotion_last_5years\", data=df);"
   ]
  },
  {
   "cell_type": "code",
   "execution_count": 138,
   "metadata": {},
   "outputs": [
    {
     "name": "stdout",
     "output_type": "stream",
     "text": [
      "Departments has 10 unique values\n",
      "salary has 3 unique values\n"
     ]
    }
   ],
   "source": [
    "for i in df.columns[-2:]:\n",
    "    nvalue = df[i].nunique()\n",
    "    print(f\"{i} has {nvalue} unique values\")"
   ]
  },
  {
   "cell_type": "code",
   "execution_count": 139,
   "metadata": {},
   "outputs": [
    {
     "data": {
      "text/plain": [
       "sales          3239\n",
       "technical      2244\n",
       "support        1821\n",
       "IT              976\n",
       "RandD           694\n",
       "product_mng     686\n",
       "marketing       673\n",
       "accounting      621\n",
       "hr              601\n",
       "management      436\n",
       "Name: Departments, dtype: int64"
      ]
     },
     "execution_count": 139,
     "metadata": {},
     "output_type": "execute_result"
    }
   ],
   "source": [
    "df.Departments.value_counts()"
   ]
  },
  {
   "cell_type": "code",
   "execution_count": 140,
   "metadata": {},
   "outputs": [
    {
     "data": {
      "text/plain": [
       "<AxesSubplot:>"
      ]
     },
     "execution_count": 140,
     "metadata": {},
     "output_type": "execute_result"
    },
    {
     "data": {
      "image/png": "[encoded data removed]",
      "text/plain": [
       "<Figure size 432x288 with 1 Axes>"
      ]
     },
     "metadata": {
      "needs_background": "light"
     },
     "output_type": "display_data"
    }
   ],
   "source": [
    "df.Departments.value_counts().plot(kind=\"bar\")"
   ]
  },
  {
   "cell_type": "code",
   "execution_count": 141,
   "metadata": {},
   "outputs": [
    {
     "data": {
      "text/plain": [
       "low       5740\n",
       "medium    5261\n",
       "high       990\n",
       "Name: salary, dtype: int64"
      ]
     },
     "execution_count": 141,
     "metadata": {},
     "output_type": "execute_result"
    }
   ],
   "source": [
    "df.salary.value_counts()"
   ]
  },
  {
   "cell_type": "code",
   "execution_count": 142,
   "metadata": {},
   "outputs": [
    {
     "data": {
      "text/plain": [
       "<AxesSubplot:>"
      ]
     },
     "execution_count": 142,
     "metadata": {},
     "output_type": "execute_result"
    },
    {
     "data": {
      "image/png": "[encoded data removed]",
      "text/plain": [
       "<Figure size 432x288 with 1 Axes>"
      ]
     },
     "metadata": {
      "needs_background": "light"
     },
     "output_type": "display_data"
    }
   ],
   "source": [
    "df.salary.value_counts().plot(kind=\"bar\")"
   ]
  },
  {
   "cell_type": "code",
   "execution_count": 143,
   "metadata": {
    "scrolled": true
   },
   "outputs": [
    {
     "data": {
      "text/plain": [
       "salary  left\n",
       "high    0        942\n",
       "        1         48\n",
       "low     0       4566\n",
       "        1       1174\n",
       "medium  0       4492\n",
       "        1        769\n",
       "Name: left, dtype: int64"
      ]
     },
     "execution_count": 143,
     "metadata": {},
     "output_type": "execute_result"
    }
   ],
   "source": [
    "df.groupby([\"salary\", \"left\"])[\"left\"].count()"
   ]
  },
  {
   "cell_type": "code",
   "execution_count": 144,
   "metadata": {},
   "outputs": [
    {
     "data": {
      "image/png": "[encoded data removed]",
      "text/plain": [
       "<Figure size 648x360 with 1 Axes>"
      ]
     },
     "metadata": {
      "needs_background": "light"
     },
     "output_type": "display_data"
    }
   ],
   "source": [
    "plt.figure(figsize=(9,5))\n",
    "sns.countplot(x=\"salary\", hue=\"left\", data=df);"
   ]
  },
  {
   "cell_type": "code",
   "execution_count": 145,
   "metadata": {
    "scrolled": true
   },
   "outputs": [
    {
     "data": {
      "text/plain": [
       "Index(['satisfaction_level', 'last_evaluation', 'number_project',\n",
       "       'average_montly_hours', 'time_spend_company', 'Work_accident', 'left',\n",
       "       'promotion_last_5years'],\n",
       "      dtype='object')"
      ]
     },
     "execution_count": 145,
     "metadata": {},
     "output_type": "execute_result"
    }
   ],
   "source": [
    "df.columns[:-2]"
   ]
  },
  {
   "cell_type": "code",
   "execution_count": 146,
   "metadata": {},
   "outputs": [
    {
     "data": {
      "text/plain": [
       "<AxesSubplot:xlabel='time_spend_company'>"
      ]
     },
     "execution_count": 146,
     "metadata": {},
     "output_type": "execute_result"
    },
    {
     "data": {
      "image/png": "[encoded data removed]",
      "text/plain": [
       "<Figure size 432x288 with 1 Axes>"
      ]
     },
     "metadata": {
      "needs_background": "light"
     },
     "output_type": "display_data"
    }
   ],
   "source": [
    "sns.boxplot(x=\"time_spend_company\", data=df)"
   ]
  },
  {
   "cell_type": "code",
   "execution_count": 147,
   "metadata": {},
   "outputs": [
    {
     "data": {
      "text/plain": [
       "array([False, False, False, False, False, False, False, False,  True,\n",
       "        True])"
      ]
     },
     "execution_count": 147,
     "metadata": {},
     "output_type": "execute_result"
    }
   ],
   "source": [
    "df.columns.isin(df.select_dtypes(\"object\").columns)\n"
   ]
  },
  {
   "cell_type": "code",
   "execution_count": 148,
   "metadata": {
    "scrolled": true
   },
   "outputs": [
    {
     "data": {
      "image/png": "[encoded data removed]",
      "text/plain": [
       "<Figure size 432x288 with 1 Axes>"
      ]
     },
     "metadata": {
      "needs_background": "light"
     },
     "output_type": "display_data"
    }
   ],
   "source": [
    "# ????? Boxplot\n",
    "for i in df.columns[:-2]:\n",
    "    plt.subplot()\n",
    "    sns.boxplot(df[i])\n",
    "    "
   ]
  },
  {
   "cell_type": "markdown",
   "metadata": {
    "id": "0PsO9Iew2smG"
   },
   "source": [
    "## 2. Data Visualization\n",
    "\n",
    "You can search for answers to the following questions using data visualization methods. Based on these responses, you can develop comments about the factors that cause churn.\n",
    "- How does the promotion status affect employee churn?\n",
    "- How does years of experience affect employee churn?\n",
    "- How does workload affect employee churn?\n",
    "- How does the salary level affect employee churn?"
   ]
  },
  {
   "cell_type": "markdown",
   "metadata": {
    "id": "qRQhFwtq2smI"
   },
   "source": [
    "### Employees Left\n",
    "\n",
    "Let's check how many employees were left?\n",
    "Here, you can plot a bar graph using Matplotlib. The bar graph is suitable for showing discrete variable counts."
   ]
  },
  {
   "cell_type": "code",
   "execution_count": 149,
   "metadata": {},
   "outputs": [
    {
     "data": {
      "text/plain": [
       "0    10000\n",
       "1     1991\n",
       "Name: left, dtype: int64"
      ]
     },
     "execution_count": 149,
     "metadata": {},
     "output_type": "execute_result"
    }
   ],
   "source": [
    "df.left.value_counts()"
   ]
  },
  {
   "cell_type": "code",
   "execution_count": 150,
   "metadata": {},
   "outputs": [
    {
     "data": {
      "image/png": "[encoded data removed]",
      "text/plain": [
       "<Figure size 576x360 with 1 Axes>"
      ]
     },
     "metadata": {
      "needs_background": "light"
     },
     "output_type": "display_data"
    }
   ],
   "source": [
    "plt.figure(figsize=(8,5))\n",
    "sns.countplot(x=\"left\", data=df);"
   ]
  },
  {
   "cell_type": "markdown",
   "metadata": {
    "id": "Vn6NHSZE2smY"
   },
   "source": [
    "### Number of Projects\n",
    "\n",
    "Similarly, you can also plot a bar graph to count the number of employees deployed on how many projects?"
   ]
  },
  {
   "cell_type": "code",
   "execution_count": 151,
   "metadata": {},
   "outputs": [
    {
     "data": {
      "text/plain": [
       "4    3685\n",
       "3    3520\n",
       "5    2233\n",
       "2    1582\n",
       "6     826\n",
       "7     145\n",
       "Name: number_project, dtype: int64"
      ]
     },
     "execution_count": 151,
     "metadata": {},
     "output_type": "execute_result"
    }
   ],
   "source": [
    "df.number_project.value_counts()"
   ]
  },
  {
   "cell_type": "code",
   "execution_count": 152,
   "metadata": {
    "id": "bGyyJcUP2sma"
   },
   "outputs": [
    {
     "data": {
      "image/png": "[encoded data removed]",
      "text/plain": [
       "<Figure size 576x360 with 1 Axes>"
      ]
     },
     "metadata": {
      "needs_background": "light"
     },
     "output_type": "display_data"
    }
   ],
   "source": [
    "plt.figure(figsize=(8,5))\n",
    "sns.countplot(x=\"number_project\", data=df);"
   ]
  },
  {
   "cell_type": "code",
   "execution_count": 153,
   "metadata": {},
   "outputs": [
    {
     "data": {
      "text/plain": [
       "number_project\n",
       "2    1582\n",
       "3    3520\n",
       "4    3685\n",
       "5    2233\n",
       "6     826\n",
       "7     145\n",
       "Name: left, dtype: int64"
      ]
     },
     "execution_count": 153,
     "metadata": {},
     "output_type": "execute_result"
    }
   ],
   "source": [
    "df.groupby(\"number_project\")[\"left\"].count()"
   ]
  },
  {
   "cell_type": "code",
   "execution_count": 154,
   "metadata": {},
   "outputs": [
    {
     "data": {
      "image/png": "[encoded data removed]",
      "text/plain": [
       "<Figure size 576x360 with 1 Axes>"
      ]
     },
     "metadata": {
      "needs_background": "light"
     },
     "output_type": "display_data"
    }
   ],
   "source": [
    "plt.figure(figsize=(8,5))\n",
    "sns.countplot(x=\"number_project\", hue=\"left\", data=df);"
   ]
  },
  {
   "cell_type": "markdown",
   "metadata": {
    "id": "48X9SO4v2smj"
   },
   "source": [
    "### Time Spent in Company\n",
    "\n",
    "Similarly, you can also plot a bar graph to count the number of employees have based on how much experience?\n"
   ]
  },
  {
   "cell_type": "code",
   "execution_count": 155,
   "metadata": {},
   "outputs": [
    {
     "data": {
      "text/plain": [
       "3     5190\n",
       "2     2910\n",
       "4     2005\n",
       "5     1062\n",
       "6      542\n",
       "10     107\n",
       "7       94\n",
       "8       81\n",
       "Name: time_spend_company, dtype: int64"
      ]
     },
     "execution_count": 155,
     "metadata": {},
     "output_type": "execute_result"
    }
   ],
   "source": [
    "df.time_spend_company.value_counts()"
   ]
  },
  {
   "cell_type": "code",
   "execution_count": 156,
   "metadata": {
    "id": "OW-HRwfU2sml",
    "scrolled": false
   },
   "outputs": [
    {
     "data": {
      "image/png": "[encoded data removed]",
      "text/plain": [
       "<Figure size 576x360 with 1 Axes>"
      ]
     },
     "metadata": {
      "needs_background": "light"
     },
     "output_type": "display_data"
    }
   ],
   "source": [
    "plt.figure(figsize=(8,5))\n",
    "sns.countplot(x=\"time_spend_company\", data=df);"
   ]
  },
  {
   "cell_type": "code",
   "execution_count": 157,
   "metadata": {},
   "outputs": [
    {
     "data": {
      "text/plain": [
       "time_spend_company\n",
       "2     2910\n",
       "3     5190\n",
       "4     2005\n",
       "5     1062\n",
       "6      542\n",
       "7       94\n",
       "8       81\n",
       "10     107\n",
       "Name: left, dtype: int64"
      ]
     },
     "execution_count": 157,
     "metadata": {},
     "output_type": "execute_result"
    }
   ],
   "source": [
    "df.groupby(\"time_spend_company\")[\"left\"].count()"
   ]
  },
  {
   "cell_type": "code",
   "execution_count": 158,
   "metadata": {},
   "outputs": [
    {
     "data": {
      "image/png": "[encoded data removed]",
      "text/plain": [
       "<Figure size 576x360 with 1 Axes>"
      ]
     },
     "metadata": {
      "needs_background": "light"
     },
     "output_type": "display_data"
    }
   ],
   "source": [
    "plt.figure(figsize=(8,5))\n",
    "sns.countplot(x=\"time_spend_company\", hue=\"left\", data=df);"
   ]
  },
  {
   "cell_type": "markdown",
   "metadata": {
    "id": "VEbtBv3q2smq"
   },
   "source": [
    "### Subplots of Features\n",
    "\n",
    "You can use the methods of the matplotlib."
   ]
  },
  {
   "cell_type": "code",
   "execution_count": 159,
   "metadata": {},
   "outputs": [
    {
     "data": {
      "image/png": "[encoded data removed]",
      "text/plain": [
       "<Figure size 576x360 with 1 Axes>"
      ]
     },
     "metadata": {
      "needs_background": "light"
     },
     "output_type": "display_data"
    }
   ],
   "source": [
    "plt.figure(figsize=(8,5))\n",
    "sns.countplot(x=\"left\", hue=\"salary\", data=df);"
   ]
  },
  {
   "cell_type": "code",
   "execution_count": 160,
   "metadata": {
    "id": "Gt8FWYQu2smu"
   },
   "outputs": [
    {
     "data": {
      "image/png": "[encoded data removed]",
      "text/plain": [
       "<Figure size 864x864 with 9 Axes>"
      ]
     },
     "metadata": {
      "needs_background": "light"
     },
     "output_type": "display_data"
    }
   ],
   "source": [
    "# ??? \n",
    "fig, ax = plt.subplots(nrows=3, ncols=3, figsize=(12,12))\n"
   ]
  },
  {
   "cell_type": "code",
   "execution_count": 161,
   "metadata": {
    "scrolled": true
   },
   "outputs": [
    {
     "data": {
      "text/html": [
       "<div>\n",
       "<style scoped>\n",
       "    .dataframe tbody tr th:only-of-type {\n",
       "        vertical-align: middle;\n",
       "    }\n",
       "\n",
       "    .dataframe tbody tr th {\n",
       "        vertical-align: top;\n",
       "    }\n",
       "\n",
       "    .dataframe thead th {\n",
       "        text-align: right;\n",
       "    }\n",
       "</style>\n",
       "<table border=\"1\" class=\"dataframe\">\n",
       "  <thead>\n",
       "    <tr style=\"text-align: right;\">\n",
       "      <th></th>\n",
       "      <th>satisfaction_level</th>\n",
       "      <th>last_evaluation</th>\n",
       "      <th>number_project</th>\n",
       "      <th>average_montly_hours</th>\n",
       "      <th>time_spend_company</th>\n",
       "      <th>Work_accident</th>\n",
       "      <th>left</th>\n",
       "      <th>promotion_last_5years</th>\n",
       "    </tr>\n",
       "  </thead>\n",
       "  <tbody>\n",
       "    <tr>\n",
       "      <th>satisfaction_level</th>\n",
       "      <td>1.000000</td>\n",
       "      <td>0.095186</td>\n",
       "      <td>-0.133246</td>\n",
       "      <td>-0.006252</td>\n",
       "      <td>-0.152915</td>\n",
       "      <td>0.039940</td>\n",
       "      <td>-0.350558</td>\n",
       "      <td>0.019789</td>\n",
       "    </tr>\n",
       "    <tr>\n",
       "      <th>last_evaluation</th>\n",
       "      <td>0.095186</td>\n",
       "      <td>1.000000</td>\n",
       "      <td>0.270256</td>\n",
       "      <td>0.264678</td>\n",
       "      <td>0.096829</td>\n",
       "      <td>-0.005695</td>\n",
       "      <td>0.013520</td>\n",
       "      <td>-0.007206</td>\n",
       "    </tr>\n",
       "    <tr>\n",
       "      <th>number_project</th>\n",
       "      <td>-0.133246</td>\n",
       "      <td>0.270256</td>\n",
       "      <td>1.000000</td>\n",
       "      <td>0.331516</td>\n",
       "      <td>0.188837</td>\n",
       "      <td>-0.005612</td>\n",
       "      <td>0.030928</td>\n",
       "      <td>-0.000544</td>\n",
       "    </tr>\n",
       "    <tr>\n",
       "      <th>average_montly_hours</th>\n",
       "      <td>-0.006252</td>\n",
       "      <td>0.264678</td>\n",
       "      <td>0.331516</td>\n",
       "      <td>1.000000</td>\n",
       "      <td>0.102875</td>\n",
       "      <td>-0.012860</td>\n",
       "      <td>0.070409</td>\n",
       "      <td>-0.004964</td>\n",
       "    </tr>\n",
       "    <tr>\n",
       "      <th>time_spend_company</th>\n",
       "      <td>-0.152915</td>\n",
       "      <td>0.096829</td>\n",
       "      <td>0.188837</td>\n",
       "      <td>0.102875</td>\n",
       "      <td>1.000000</td>\n",
       "      <td>0.000003</td>\n",
       "      <td>0.173295</td>\n",
       "      <td>0.056828</td>\n",
       "    </tr>\n",
       "    <tr>\n",
       "      <th>Work_accident</th>\n",
       "      <td>0.039940</td>\n",
       "      <td>-0.005695</td>\n",
       "      <td>-0.005612</td>\n",
       "      <td>-0.012860</td>\n",
       "      <td>0.000003</td>\n",
       "      <td>1.000000</td>\n",
       "      <td>-0.125436</td>\n",
       "      <td>0.029852</td>\n",
       "    </tr>\n",
       "    <tr>\n",
       "      <th>left</th>\n",
       "      <td>-0.350558</td>\n",
       "      <td>0.013520</td>\n",
       "      <td>0.030928</td>\n",
       "      <td>0.070409</td>\n",
       "      <td>0.173295</td>\n",
       "      <td>-0.125436</td>\n",
       "      <td>1.000000</td>\n",
       "      <td>-0.044657</td>\n",
       "    </tr>\n",
       "    <tr>\n",
       "      <th>promotion_last_5years</th>\n",
       "      <td>0.019789</td>\n",
       "      <td>-0.007206</td>\n",
       "      <td>-0.000544</td>\n",
       "      <td>-0.004964</td>\n",
       "      <td>0.056828</td>\n",
       "      <td>0.029852</td>\n",
       "      <td>-0.044657</td>\n",
       "      <td>1.000000</td>\n",
       "    </tr>\n",
       "  </tbody>\n",
       "</table>\n",
       "</div>"
      ],
      "text/plain": [
       "                       satisfaction_level  last_evaluation  number_project  \\\n",
       "satisfaction_level               1.000000         0.095186       -0.133246   \n",
       "last_evaluation                  0.095186         1.000000        0.270256   \n",
       "number_project                  -0.133246         0.270256        1.000000   \n",
       "average_montly_hours            -0.006252         0.264678        0.331516   \n",
       "time_spend_company              -0.152915         0.096829        0.188837   \n",
       "Work_accident                    0.039940        -0.005695       -0.005612   \n",
       "left                            -0.350558         0.013520        0.030928   \n",
       "promotion_last_5years            0.019789        -0.007206       -0.000544   \n",
       "\n",
       "                       average_montly_hours  time_spend_company  \\\n",
       "satisfaction_level                -0.006252           -0.152915   \n",
       "last_evaluation                    0.264678            0.096829   \n",
       "number_project                     0.331516            0.188837   \n",
       "average_montly_hours               1.000000            0.102875   \n",
       "time_spend_company                 0.102875            1.000000   \n",
       "Work_accident                     -0.012860            0.000003   \n",
       "left                               0.070409            0.173295   \n",
       "promotion_last_5years             -0.004964            0.056828   \n",
       "\n",
       "                       Work_accident      left  promotion_last_5years  \n",
       "satisfaction_level          0.039940 -0.350558               0.019789  \n",
       "last_evaluation            -0.005695  0.013520              -0.007206  \n",
       "number_project             -0.005612  0.030928              -0.000544  \n",
       "average_montly_hours       -0.012860  0.070409              -0.004964  \n",
       "time_spend_company          0.000003  0.173295               0.056828  \n",
       "Work_accident               1.000000 -0.125436               0.029852  \n",
       "left                       -0.125436  1.000000              -0.044657  \n",
       "promotion_last_5years       0.029852 -0.044657               1.000000  "
      ]
     },
     "execution_count": 161,
     "metadata": {},
     "output_type": "execute_result"
    }
   ],
   "source": [
    "df.corr()"
   ]
  },
  {
   "cell_type": "code",
   "execution_count": 162,
   "metadata": {
    "scrolled": false
   },
   "outputs": [
    {
     "data": {
      "image/png": "[encoded data removed]",
      "text/plain": [
       "<Figure size 864x648 with 2 Axes>"
      ]
     },
     "metadata": {
      "needs_background": "light"
     },
     "output_type": "display_data"
    }
   ],
   "source": [
    "plt.figure(figsize=(12,9))\n",
    "sns.heatmap(df.corr(), annot=True);"
   ]
  },
  {
   "cell_type": "code",
   "execution_count": 163,
   "metadata": {
    "scrolled": true
   },
   "outputs": [
    {
     "data": {
      "text/plain": [
       "satisfaction_level      -0.350558\n",
       "last_evaluation          0.013520\n",
       "number_project           0.030928\n",
       "average_montly_hours     0.070409\n",
       "time_spend_company       0.173295\n",
       "Work_accident           -0.125436\n",
       "left                     1.000000\n",
       "promotion_last_5years   -0.044657\n",
       "Name: left, dtype: float64"
      ]
     },
     "execution_count": 163,
     "metadata": {},
     "output_type": "execute_result"
    }
   ],
   "source": [
    "df.corr()[\"left\"]"
   ]
  },
  {
   "cell_type": "code",
   "execution_count": 164,
   "metadata": {},
   "outputs": [
    {
     "data": {
      "text/plain": [
       "<AxesSubplot:>"
      ]
     },
     "execution_count": 164,
     "metadata": {},
     "output_type": "execute_result"
    },
    {
     "data": {
      "image/png": "[encoded data removed]",
      "text/plain": [
       "<Figure size 432x288 with 1 Axes>"
      ]
     },
     "metadata": {
      "needs_background": "light"
     },
     "output_type": "display_data"
    }
   ],
   "source": [
    "df.corr()[\"left\"].plot(kind=\"bar\")"
   ]
  },
  {
   "cell_type": "markdown",
   "metadata": {
    "id": "36OyDJyx2sm2"
   },
   "source": [
    "## 3. Data Pre-Processing"
   ]
  },
  {
   "cell_type": "code",
   "execution_count": 165,
   "metadata": {
    "id": "1HXszRiq2sm4"
   },
   "outputs": [],
   "source": [
    "from sklearn.preprocessing import MinMaxScaler, LabelEncoder, StandardScaler"
   ]
  },
  {
   "cell_type": "markdown",
   "metadata": {
    "id": "L8-SVBoq2snA"
   },
   "source": [
    "#### Label Encoding\n",
    "\n",
    "Lots of machine learning algorithms require numerical input data, so you need to represent categorical columns in a numerical column. In order to encode this data, you could map each value to a number. e.g. Salary column's value can be represented as low:0, medium:1, and high:2. This process is known as label encoding, and sklearn conveniently will do this for you using LabelEncoder.\n",
    "\n"
   ]
  },
  {
   "cell_type": "code",
   "execution_count": 166,
   "metadata": {},
   "outputs": [],
   "source": [
    "from sklearn.preprocessing import MinMaxScaler, LabelEncoder, StandardScaler"
   ]
  },
  {
   "cell_type": "code",
   "execution_count": 167,
   "metadata": {
    "scrolled": true
   },
   "outputs": [
    {
     "data": {
      "text/plain": [
       "Index(['satisfaction_level', 'last_evaluation', 'number_project',\n",
       "       'average_montly_hours', 'time_spend_company', 'Work_accident', 'left',\n",
       "       'promotion_last_5years', 'Departments', 'salary'],\n",
       "      dtype='object')"
      ]
     },
     "execution_count": 167,
     "metadata": {},
     "output_type": "execute_result"
    }
   ],
   "source": [
    "df.columns"
   ]
  },
  {
   "cell_type": "code",
   "execution_count": 168,
   "metadata": {
    "scrolled": true
   },
   "outputs": [
    {
     "data": {
      "text/html": [
       "<div>\n",
       "<style scoped>\n",
       "    .dataframe tbody tr th:only-of-type {\n",
       "        vertical-align: middle;\n",
       "    }\n",
       "\n",
       "    .dataframe tbody tr th {\n",
       "        vertical-align: top;\n",
       "    }\n",
       "\n",
       "    .dataframe thead th {\n",
       "        text-align: right;\n",
       "    }\n",
       "</style>\n",
       "<table border=\"1\" class=\"dataframe\">\n",
       "  <thead>\n",
       "    <tr style=\"text-align: right;\">\n",
       "      <th></th>\n",
       "      <th>Departments</th>\n",
       "      <th>salary</th>\n",
       "    </tr>\n",
       "  </thead>\n",
       "  <tbody>\n",
       "    <tr>\n",
       "      <th>0</th>\n",
       "      <td>sales</td>\n",
       "      <td>low</td>\n",
       "    </tr>\n",
       "    <tr>\n",
       "      <th>1</th>\n",
       "      <td>sales</td>\n",
       "      <td>medium</td>\n",
       "    </tr>\n",
       "    <tr>\n",
       "      <th>2</th>\n",
       "      <td>sales</td>\n",
       "      <td>medium</td>\n",
       "    </tr>\n",
       "    <tr>\n",
       "      <th>3</th>\n",
       "      <td>sales</td>\n",
       "      <td>low</td>\n",
       "    </tr>\n",
       "    <tr>\n",
       "      <th>4</th>\n",
       "      <td>sales</td>\n",
       "      <td>low</td>\n",
       "    </tr>\n",
       "  </tbody>\n",
       "</table>\n",
       "</div>"
      ],
      "text/plain": [
       "  Departments  salary\n",
       "0       sales     low\n",
       "1       sales  medium\n",
       "2       sales  medium\n",
       "3       sales     low\n",
       "4       sales     low"
      ]
     },
     "execution_count": 168,
     "metadata": {},
     "output_type": "execute_result"
    }
   ],
   "source": [
    "df[['Departments', 'salary']].head()"
   ]
  },
  {
   "cell_type": "code",
   "execution_count": 169,
   "metadata": {},
   "outputs": [],
   "source": [
    "label = LabelEncoder()"
   ]
  },
  {
   "cell_type": "code",
   "execution_count": 170,
   "metadata": {
    "id": "-pVP9UBQ2snC"
   },
   "outputs": [],
   "source": [
    "df['Departments'] = label.fit_transform(df['Departments'])"
   ]
  },
  {
   "cell_type": "code",
   "execution_count": 171,
   "metadata": {
    "scrolled": true
   },
   "outputs": [
    {
     "data": {
      "text/plain": [
       "0    7\n",
       "1    7\n",
       "2    7\n",
       "3    7\n",
       "4    7\n",
       "Name: Departments, dtype: int64"
      ]
     },
     "execution_count": 171,
     "metadata": {},
     "output_type": "execute_result"
    }
   ],
   "source": [
    "df['Departments'].head()"
   ]
  },
  {
   "cell_type": "code",
   "execution_count": 172,
   "metadata": {},
   "outputs": [],
   "source": [
    "df['salary'] = label.fit_transform(df['salary'])"
   ]
  },
  {
   "cell_type": "code",
   "execution_count": 173,
   "metadata": {
    "scrolled": true
   },
   "outputs": [
    {
     "data": {
      "text/plain": [
       "0    1\n",
       "1    2\n",
       "2    2\n",
       "3    1\n",
       "4    1\n",
       "Name: salary, dtype: int64"
      ]
     },
     "execution_count": 173,
     "metadata": {},
     "output_type": "execute_result"
    }
   ],
   "source": [
    "df['salary'].head()"
   ]
  },
  {
   "cell_type": "code",
   "execution_count": 174,
   "metadata": {},
   "outputs": [
    {
     "name": "stdout",
     "output_type": "stream",
     "text": [
      "<class 'pandas.core.frame.DataFrame'>\n",
      "Int64Index: 11991 entries, 0 to 11999\n",
      "Data columns (total 10 columns):\n",
      " #   Column                 Non-Null Count  Dtype  \n",
      "---  ------                 --------------  -----  \n",
      " 0   satisfaction_level     11991 non-null  float64\n",
      " 1   last_evaluation        11991 non-null  float64\n",
      " 2   number_project         11991 non-null  int64  \n",
      " 3   average_montly_hours   11991 non-null  int64  \n",
      " 4   time_spend_company     11991 non-null  int64  \n",
      " 5   Work_accident          11991 non-null  int64  \n",
      " 6   left                   11991 non-null  int64  \n",
      " 7   promotion_last_5years  11991 non-null  int64  \n",
      " 8   Departments            11991 non-null  int64  \n",
      " 9   salary                 11991 non-null  int64  \n",
      "dtypes: float64(2), int64(8)\n",
      "memory usage: 1.3 MB\n"
     ]
    }
   ],
   "source": [
    "df.info()"
   ]
  },
  {
   "cell_type": "markdown",
   "metadata": {},
   "source": [
    "#### Scaling\n",
    "\n",
    "Some machine learning algorithms are sensitive to feature scaling while others are virtually invariant to it. Machine learning algorithms like linear regression, logistic regression, neural network, etc. that use gradient descent as an optimization technique require data to be scaled. Also distance algorithms like KNN, K-means, and SVM are most affected by the range of features. This is because behind the scenes they are using distances between data points to determine their similarity.\n",
    "\n",
    "Scaling Types:\n",
    "- Normalization: Normalization is a scaling technique in which values are shifted and rescaled so that they end up ranging between 0 and 1. It is also known as Min-Max scaling.\n",
    "\n",
    "- Standardization: Standardization is another scaling technique where the values are centered around the mean with a unit standard deviation. This means that the mean of the attribute becomes zero and the resultant distribution has a unit standard deviation."
   ]
  },
  {
   "cell_type": "code",
   "execution_count": 175,
   "metadata": {},
   "outputs": [],
   "source": [
    "scaler = MinMaxScaler()"
   ]
  },
  {
   "cell_type": "code",
   "execution_count": 176,
   "metadata": {},
   "outputs": [],
   "source": [
    "df_scaled = scaler.fit_transform(df)"
   ]
  },
  {
   "cell_type": "code",
   "execution_count": 177,
   "metadata": {},
   "outputs": [
    {
     "data": {
      "text/plain": [
       "array([[0.31868132, 0.265625  , 0.        , ..., 0.        , 0.77777778,\n",
       "        0.5       ],\n",
       "       [0.78021978, 0.78125   , 0.6       , ..., 0.        , 0.77777778,\n",
       "        1.        ],\n",
       "       [0.02197802, 0.8125    , 1.        , ..., 0.        , 0.77777778,\n",
       "        1.        ],\n",
       "       ...,\n",
       "       [0.83516484, 0.28125   , 0.2       , ..., 1.        , 0.44444444,\n",
       "        0.        ],\n",
       "       [0.26373626, 0.453125  , 0.2       , ..., 1.        , 0.55555556,\n",
       "        0.        ],\n",
       "       [0.45054945, 0.578125  , 0.4       , ..., 0.        , 0.        ,\n",
       "        0.5       ]])"
      ]
     },
     "execution_count": 177,
     "metadata": {},
     "output_type": "execute_result"
    }
   ],
   "source": [
    "df_scaled"
   ]
  },
  {
   "cell_type": "code",
   "execution_count": 178,
   "metadata": {},
   "outputs": [
    {
     "data": {
      "text/html": [
       "<div>\n",
       "<style scoped>\n",
       "    .dataframe tbody tr th:only-of-type {\n",
       "        vertical-align: middle;\n",
       "    }\n",
       "\n",
       "    .dataframe tbody tr th {\n",
       "        vertical-align: top;\n",
       "    }\n",
       "\n",
       "    .dataframe thead th {\n",
       "        text-align: right;\n",
       "    }\n",
       "</style>\n",
       "<table border=\"1\" class=\"dataframe\">\n",
       "  <thead>\n",
       "    <tr style=\"text-align: right;\">\n",
       "      <th></th>\n",
       "      <th>satisfaction_level</th>\n",
       "      <th>last_evaluation</th>\n",
       "      <th>number_project</th>\n",
       "      <th>average_montly_hours</th>\n",
       "      <th>time_spend_company</th>\n",
       "      <th>Work_accident</th>\n",
       "      <th>left</th>\n",
       "      <th>promotion_last_5years</th>\n",
       "      <th>Departments</th>\n",
       "      <th>salary</th>\n",
       "    </tr>\n",
       "  </thead>\n",
       "  <tbody>\n",
       "    <tr>\n",
       "      <th>0</th>\n",
       "      <td>0.318681</td>\n",
       "      <td>0.265625</td>\n",
       "      <td>0.0</td>\n",
       "      <td>0.285047</td>\n",
       "      <td>0.125</td>\n",
       "      <td>0.0</td>\n",
       "      <td>1.0</td>\n",
       "      <td>0.0</td>\n",
       "      <td>0.777778</td>\n",
       "      <td>0.5</td>\n",
       "    </tr>\n",
       "    <tr>\n",
       "      <th>1</th>\n",
       "      <td>0.780220</td>\n",
       "      <td>0.781250</td>\n",
       "      <td>0.6</td>\n",
       "      <td>0.775701</td>\n",
       "      <td>0.500</td>\n",
       "      <td>0.0</td>\n",
       "      <td>1.0</td>\n",
       "      <td>0.0</td>\n",
       "      <td>0.777778</td>\n",
       "      <td>1.0</td>\n",
       "    </tr>\n",
       "    <tr>\n",
       "      <th>2</th>\n",
       "      <td>0.021978</td>\n",
       "      <td>0.812500</td>\n",
       "      <td>1.0</td>\n",
       "      <td>0.822430</td>\n",
       "      <td>0.250</td>\n",
       "      <td>0.0</td>\n",
       "      <td>1.0</td>\n",
       "      <td>0.0</td>\n",
       "      <td>0.777778</td>\n",
       "      <td>1.0</td>\n",
       "    </tr>\n",
       "    <tr>\n",
       "      <th>3</th>\n",
       "      <td>0.692308</td>\n",
       "      <td>0.796875</td>\n",
       "      <td>0.6</td>\n",
       "      <td>0.593458</td>\n",
       "      <td>0.375</td>\n",
       "      <td>0.0</td>\n",
       "      <td>1.0</td>\n",
       "      <td>0.0</td>\n",
       "      <td>0.777778</td>\n",
       "      <td>0.5</td>\n",
       "    </tr>\n",
       "    <tr>\n",
       "      <th>4</th>\n",
       "      <td>0.307692</td>\n",
       "      <td>0.250000</td>\n",
       "      <td>0.0</td>\n",
       "      <td>0.294393</td>\n",
       "      <td>0.125</td>\n",
       "      <td>0.0</td>\n",
       "      <td>1.0</td>\n",
       "      <td>0.0</td>\n",
       "      <td>0.777778</td>\n",
       "      <td>0.5</td>\n",
       "    </tr>\n",
       "  </tbody>\n",
       "</table>\n",
       "</div>"
      ],
      "text/plain": [
       "   satisfaction_level  last_evaluation  number_project  average_montly_hours  \\\n",
       "0            0.318681         0.265625             0.0              0.285047   \n",
       "1            0.780220         0.781250             0.6              0.775701   \n",
       "2            0.021978         0.812500             1.0              0.822430   \n",
       "3            0.692308         0.796875             0.6              0.593458   \n",
       "4            0.307692         0.250000             0.0              0.294393   \n",
       "\n",
       "   time_spend_company  Work_accident  left  promotion_last_5years  \\\n",
       "0               0.125            0.0   1.0                    0.0   \n",
       "1               0.500            0.0   1.0                    0.0   \n",
       "2               0.250            0.0   1.0                    0.0   \n",
       "3               0.375            0.0   1.0                    0.0   \n",
       "4               0.125            0.0   1.0                    0.0   \n",
       "\n",
       "   Departments  salary  \n",
       "0     0.777778     0.5  \n",
       "1     0.777778     1.0  \n",
       "2     0.777778     1.0  \n",
       "3     0.777778     0.5  \n",
       "4     0.777778     0.5  "
      ]
     },
     "execution_count": 178,
     "metadata": {},
     "output_type": "execute_result"
    }
   ],
   "source": [
    "df = pd.DataFrame(df_scaled, columns=df.columns)\n",
    "df.head()"
   ]
  },
  {
   "cell_type": "markdown",
   "metadata": {
    "id": "c1Gp2f7q2snF"
   },
   "source": [
    "## 4. Cluster Analysis\n",
    "\n",
    "- Cluster analysis or clustering is the task of grouping a set of objects in such a way that objects in the same group (called a cluster) are more similar (in some sense) to each other than to those in other groups (clusters). It is a main task of exploratory data mining, and a common technique for statistical data analysis, used in many fields, including pattern recognition, image analysis, information retrieval, bioinformatics, data compression, computer graphics and machine learning.\n",
    "\n",
    "    [Cluster Analysis](https://en.wikipedia.org/wiki/Cluster_analysis)\n",
    "\n",
    "    [Cluster Analysis2](https://realpython.com/k-means-clustering-python/)"
   ]
  },
  {
   "cell_type": "code",
   "execution_count": 180,
   "metadata": {
    "scrolled": false
   },
   "outputs": [
    {
     "data": {
      "text/html": [
       "<div>\n",
       "<style scoped>\n",
       "    .dataframe tbody tr th:only-of-type {\n",
       "        vertical-align: middle;\n",
       "    }\n",
       "\n",
       "    .dataframe tbody tr th {\n",
       "        vertical-align: top;\n",
       "    }\n",
       "\n",
       "    .dataframe thead th {\n",
       "        text-align: right;\n",
       "    }\n",
       "</style>\n",
       "<table border=\"1\" class=\"dataframe\">\n",
       "  <thead>\n",
       "    <tr style=\"text-align: right;\">\n",
       "      <th></th>\n",
       "      <th>satisfaction_level</th>\n",
       "      <th>last_evaluation</th>\n",
       "      <th>number_project</th>\n",
       "      <th>average_montly_hours</th>\n",
       "      <th>time_spend_company</th>\n",
       "      <th>Work_accident</th>\n",
       "      <th>promotion_last_5years</th>\n",
       "      <th>Departments</th>\n",
       "      <th>salary</th>\n",
       "    </tr>\n",
       "  </thead>\n",
       "  <tbody>\n",
       "    <tr>\n",
       "      <th>0</th>\n",
       "      <td>0.318681</td>\n",
       "      <td>0.265625</td>\n",
       "      <td>0.0</td>\n",
       "      <td>0.285047</td>\n",
       "      <td>0.125</td>\n",
       "      <td>0.0</td>\n",
       "      <td>0.0</td>\n",
       "      <td>0.777778</td>\n",
       "      <td>0.5</td>\n",
       "    </tr>\n",
       "    <tr>\n",
       "      <th>1</th>\n",
       "      <td>0.780220</td>\n",
       "      <td>0.781250</td>\n",
       "      <td>0.6</td>\n",
       "      <td>0.775701</td>\n",
       "      <td>0.500</td>\n",
       "      <td>0.0</td>\n",
       "      <td>0.0</td>\n",
       "      <td>0.777778</td>\n",
       "      <td>1.0</td>\n",
       "    </tr>\n",
       "    <tr>\n",
       "      <th>2</th>\n",
       "      <td>0.021978</td>\n",
       "      <td>0.812500</td>\n",
       "      <td>1.0</td>\n",
       "      <td>0.822430</td>\n",
       "      <td>0.250</td>\n",
       "      <td>0.0</td>\n",
       "      <td>0.0</td>\n",
       "      <td>0.777778</td>\n",
       "      <td>1.0</td>\n",
       "    </tr>\n",
       "    <tr>\n",
       "      <th>3</th>\n",
       "      <td>0.692308</td>\n",
       "      <td>0.796875</td>\n",
       "      <td>0.6</td>\n",
       "      <td>0.593458</td>\n",
       "      <td>0.375</td>\n",
       "      <td>0.0</td>\n",
       "      <td>0.0</td>\n",
       "      <td>0.777778</td>\n",
       "      <td>0.5</td>\n",
       "    </tr>\n",
       "    <tr>\n",
       "      <th>4</th>\n",
       "      <td>0.307692</td>\n",
       "      <td>0.250000</td>\n",
       "      <td>0.0</td>\n",
       "      <td>0.294393</td>\n",
       "      <td>0.125</td>\n",
       "      <td>0.0</td>\n",
       "      <td>0.0</td>\n",
       "      <td>0.777778</td>\n",
       "      <td>0.5</td>\n",
       "    </tr>\n",
       "  </tbody>\n",
       "</table>\n",
       "</div>"
      ],
      "text/plain": [
       "   satisfaction_level  last_evaluation  number_project  average_montly_hours  \\\n",
       "0            0.318681         0.265625             0.0              0.285047   \n",
       "1            0.780220         0.781250             0.6              0.775701   \n",
       "2            0.021978         0.812500             1.0              0.822430   \n",
       "3            0.692308         0.796875             0.6              0.593458   \n",
       "4            0.307692         0.250000             0.0              0.294393   \n",
       "\n",
       "   time_spend_company  Work_accident  promotion_last_5years  Departments  \\\n",
       "0               0.125            0.0                    0.0     0.777778   \n",
       "1               0.500            0.0                    0.0     0.777778   \n",
       "2               0.250            0.0                    0.0     0.777778   \n",
       "3               0.375            0.0                    0.0     0.777778   \n",
       "4               0.125            0.0                    0.0     0.777778   \n",
       "\n",
       "   salary  \n",
       "0     0.5  \n",
       "1     1.0  \n",
       "2     1.0  \n",
       "3     0.5  \n",
       "4     0.5  "
      ]
     },
     "execution_count": 180,
     "metadata": {},
     "output_type": "execute_result"
    }
   ],
   "source": [
    "df_k = df.drop(\"left\", axis=1)\n",
    "df_k.head()"
   ]
  },
  {
   "cell_type": "code",
   "execution_count": 182,
   "metadata": {},
   "outputs": [],
   "source": [
    "x1 = df_k"
   ]
  },
  {
   "cell_type": "code",
   "execution_count": 181,
   "metadata": {},
   "outputs": [],
   "source": [
    "from pyclustertend import hopkins"
   ]
  },
  {
   "cell_type": "code",
   "execution_count": 183,
   "metadata": {},
   "outputs": [
    {
     "data": {
      "text/plain": [
       "0.18605633839066435"
      ]
     },
     "execution_count": 183,
     "metadata": {},
     "output_type": "execute_result"
    }
   ],
   "source": [
    "hopkins(x1, x1.shape[0])"
   ]
  },
  {
   "cell_type": "markdown",
   "metadata": {
    "id": "TWQx_bhw2snG"
   },
   "source": [
    "#### The Elbow Method\n",
    "\n",
    "- \"Elbow Method\" can be used to find the optimum number of clusters in cluster analysis. The elbow method is used to determine the optimal number of clusters in k-means clustering. The elbow method plots the value of the cost function produced by different values of k. If k increases, average distortion will decrease, each cluster will have fewer constituent instances, and the instances will be closer to their respective centroids. However, the improvements in average distortion will decline as k increases. The value of k at which improvement in distortion declines the most is called the elbow, at which we should stop dividing the data into further clusters.\n",
    "\n",
    "    [The Elbow Method](https://en.wikipedia.org/wiki/Elbow_method_(clustering)\n",
    "\n",
    "    [The Elbow Method2](https://medium.com/@mudgalvivek2911/machine-learning-clustering-elbow-method-4e8c2b404a5d)\n",
    "\n",
    "    [KMeans](https://towardsdatascience.com/understanding-k-means-clustering-in-machine-learning-6a6e67336aa1)\n",
    "\n",
    "Let's find out the groups of employees who left. You can observe that the most important factor for any employee to stay or leave is satisfaction and performance in the company. So let's bunch them in the group of people using cluster analysis."
   ]
  },
  {
   "cell_type": "code",
   "execution_count": 184,
   "metadata": {
    "id": "jMLD4mr32snH",
    "scrolled": true
   },
   "outputs": [
    {
     "data": {
      "image/png": "[encoded data removed]",
      "text/plain": [
       "<Figure size 720x432 with 1 Axes>"
      ]
     },
     "metadata": {
      "needs_background": "light"
     },
     "output_type": "display_data"
    }
   ],
   "source": [
    "from sklearn.cluster import KMeans\n",
    "\n",
    "ssd =[]\n",
    "for n in range(2,11):\n",
    "    kmeans=KMeans(n_clusters=n,random_state=0)\n",
    "    kmeans.fit(x1)\n",
    "    ssd.append(kmeans.inertia_)\n",
    "plt.figure(figsize=(10,6))\n",
    "plt.plot(range(2, 11), ssd, \"bo-\")\n",
    "plt.title('The Elbow Method')\n",
    "plt.xlabel('No. of Clusters')\n",
    "plt.ylabel('ssd')\n",
    "plt.show()"
   ]
  },
  {
   "cell_type": "code",
   "execution_count": 185,
   "metadata": {
    "scrolled": true
   },
   "outputs": [
    {
     "data": {
      "text/plain": [
       "0           NaN\n",
       "1   -862.837915\n",
       "2   -605.078722\n",
       "3   -395.917296\n",
       "4   -318.981438\n",
       "5   -191.006207\n",
       "6   -153.318111\n",
       "7   -140.933653\n",
       "8   -117.640203\n",
       "dtype: float64"
      ]
     },
     "execution_count": 185,
     "metadata": {},
     "output_type": "execute_result"
    }
   ],
   "source": [
    "pd.Series(ssd).diff()"
   ]
  },
  {
   "cell_type": "code",
   "execution_count": 186,
   "metadata": {},
   "outputs": [
    {
     "data": {
      "text/html": [
       "<div>\n",
       "<style scoped>\n",
       "    .dataframe tbody tr th:only-of-type {\n",
       "        vertical-align: middle;\n",
       "    }\n",
       "\n",
       "    .dataframe tbody tr th {\n",
       "        vertical-align: top;\n",
       "    }\n",
       "\n",
       "    .dataframe thead th {\n",
       "        text-align: right;\n",
       "    }\n",
       "</style>\n",
       "<table border=\"1\" class=\"dataframe\">\n",
       "  <thead>\n",
       "    <tr style=\"text-align: right;\">\n",
       "      <th></th>\n",
       "      <th>0</th>\n",
       "    </tr>\n",
       "  </thead>\n",
       "  <tbody>\n",
       "    <tr>\n",
       "      <th>1</th>\n",
       "      <td>NaN</td>\n",
       "    </tr>\n",
       "    <tr>\n",
       "      <th>2</th>\n",
       "      <td>862.837915</td>\n",
       "    </tr>\n",
       "    <tr>\n",
       "      <th>3</th>\n",
       "      <td>605.078722</td>\n",
       "    </tr>\n",
       "    <tr>\n",
       "      <th>4</th>\n",
       "      <td>395.917296</td>\n",
       "    </tr>\n",
       "    <tr>\n",
       "      <th>5</th>\n",
       "      <td>318.981438</td>\n",
       "    </tr>\n",
       "    <tr>\n",
       "      <th>6</th>\n",
       "      <td>191.006207</td>\n",
       "    </tr>\n",
       "    <tr>\n",
       "      <th>7</th>\n",
       "      <td>153.318111</td>\n",
       "    </tr>\n",
       "    <tr>\n",
       "      <th>8</th>\n",
       "      <td>140.933653</td>\n",
       "    </tr>\n",
       "    <tr>\n",
       "      <th>9</th>\n",
       "      <td>117.640203</td>\n",
       "    </tr>\n",
       "  </tbody>\n",
       "</table>\n",
       "</div>"
      ],
      "text/plain": [
       "            0\n",
       "1         NaN\n",
       "2  862.837915\n",
       "3  605.078722\n",
       "4  395.917296\n",
       "5  318.981438\n",
       "6  191.006207\n",
       "7  153.318111\n",
       "8  140.933653\n",
       "9  117.640203"
      ]
     },
     "execution_count": 186,
     "metadata": {},
     "output_type": "execute_result"
    }
   ],
   "source": [
    "df_diff =pd.DataFrame(-pd.Series(ssd).diff()).rename(index = lambda x : x+1)\n",
    "df_diff"
   ]
  },
  {
   "cell_type": "code",
   "execution_count": 187,
   "metadata": {
    "scrolled": true
   },
   "outputs": [
    {
     "data": {
      "image/png": "[encoded data removed]",
      "text/plain": [
       "<Figure size 576x396 with 2 Axes>"
      ]
     },
     "metadata": {},
     "output_type": "display_data"
    },
    {
     "data": {
      "text/plain": [
       "<AxesSubplot:title={'center':'Distortion Score Elbow for KMeans Clustering'}, xlabel='k', ylabel='distortion score'>"
      ]
     },
     "execution_count": 187,
     "metadata": {},
     "output_type": "execute_result"
    }
   ],
   "source": [
    "from yellowbrick.cluster import KElbowVisualizer\n",
    "\n",
    "kmeans = KMeans()\n",
    "visu = KElbowVisualizer(kmeans, k = (2,10))\n",
    "visu.fit(x1)\n",
    "visu.poof()"
   ]
  },
  {
   "cell_type": "code",
   "execution_count": 188,
   "metadata": {},
   "outputs": [
    {
     "name": "stdout",
     "output_type": "stream",
     "text": [
      "For n_clusters=2, the silhouette score is 0.3206987112924166\n",
      "For n_clusters=3, the silhouette score is 0.22209922292746462\n",
      "For n_clusters=4, the silhouette score is 0.19906746316679588\n",
      "For n_clusters=5, the silhouette score is 0.2104284668094636\n",
      "For n_clusters=6, the silhouette score is 0.20806797026856516\n",
      "For n_clusters=7, the silhouette score is 0.20922917244172812\n",
      "For n_clusters=8, the silhouette score is 0.2049820407574877\n",
      "For n_clusters=9, the silhouette score is 0.19333934661621532\n",
      "For n_clusters=10, the silhouette score is 0.19046099816199055\n"
     ]
    }
   ],
   "source": [
    "from sklearn.metrics import silhouette_score\n",
    "\n",
    "range_n_clusters = range(2,11)\n",
    "for num_clusters in range_n_clusters:\n",
    "    # intialise kmeans\n",
    "    kmeans = KMeans(n_clusters=num_clusters, random_state=42)\n",
    "    kmeans.fit(x1)\n",
    "    cluster_labels = kmeans.labels_\n",
    "    # silhouette score\n",
    "    silhouette_avg = silhouette_score(x1, cluster_labels)\n",
    "    print(f\"For n_clusters={num_clusters}, the silhouette score is {silhouette_avg}\")"
   ]
  },
  {
   "cell_type": "code",
   "execution_count": null,
   "metadata": {},
   "outputs": [],
   "source": [
    "from sklearn.cluster import KMeans\n",
    "\n",
    "from yellowbrick.cluster import SilhouetteVisualizer\n",
    "\n",
    "model = KMeans(n_clusters=5, random_state=42)\n",
    "visualizer = SilhouetteVisualizer(model)\n",
    "\n",
    "visualizer.fit(x1)\n",
    "visualizer.poof();"
   ]
  },
  {
   "cell_type": "code",
   "execution_count": 189,
   "metadata": {},
   "outputs": [],
   "source": [
    "from scipy.cluster.hierarchy import linkage\n",
    "from scipy.cluster.hierarchy import dendrogram"
   ]
  },
  {
   "cell_type": "code",
   "execution_count": 190,
   "metadata": {},
   "outputs": [],
   "source": [
    "hc_ward = linkage(y = x1, method = \"ward\")"
   ]
  },
  {
   "cell_type": "code",
   "execution_count": 191,
   "metadata": {
    "scrolled": true
   },
   "outputs": [
    {
     "data": {
      "image/png": "[encoded data removed]",
      "text/plain": [
       "<Figure size 1440x864 with 1 Axes>"
      ]
     },
     "metadata": {},
     "output_type": "display_data"
    }
   ],
   "source": [
    "plt.figure(figsize = (20,12))\n",
    "\n",
    "plt.subplot(221)\n",
    "plt.title(\"Ward\")\n",
    "plt.xlabel(\"Observations\")\n",
    "plt.ylabel(\"Distance\")\n",
    "dendrogram(hc_ward, leaf_font_size = 10);"
   ]
  },
  {
   "cell_type": "code",
   "execution_count": 192,
   "metadata": {
    "scrolled": true
   },
   "outputs": [
    {
     "data": {
      "image/png": "[encoded data removed]",
      "text/plain": [
       "<Figure size 576x396 with 1 Axes>"
      ]
     },
     "metadata": {},
     "output_type": "display_data"
    }
   ],
   "source": [
    "# from sklearn.cluster import KMeans\n",
    "from yellowbrick.cluster import SilhouetteVisualizer\n",
    "\n",
    "model = KMeans(n_clusters=5, random_state=42)\n",
    "visualizer = SilhouetteVisualizer(model)\n",
    "\n",
    "visualizer.fit(x1)\n",
    "visualizer.poof();"
   ]
  },
  {
   "cell_type": "code",
   "execution_count": 193,
   "metadata": {},
   "outputs": [
    {
     "data": {
      "image/png": "[encoded data removed]",
      "text/plain": [
       "<Figure size 576x396 with 1 Axes>"
      ]
     },
     "metadata": {},
     "output_type": "display_data"
    }
   ],
   "source": [
    "model = KMeans(n_clusters=4, random_state=42)\n",
    "visualizer = SilhouetteVisualizer(model)\n",
    "\n",
    "visualizer.fit(x1)\n",
    "visualizer.poof();"
   ]
  },
  {
   "cell_type": "code",
   "execution_count": 194,
   "metadata": {},
   "outputs": [
    {
     "data": {
      "image/png": "[encoded data removed]",
      "text/plain": [
       "<Figure size 576x396 with 1 Axes>"
      ]
     },
     "metadata": {},
     "output_type": "display_data"
    }
   ],
   "source": [
    "model = KMeans(n_clusters=2, random_state=42)\n",
    "visualizer = SilhouetteVisualizer(model)\n",
    "\n",
    "visualizer.fit(x1)\n",
    "visualizer.poof();"
   ]
  },
  {
   "cell_type": "markdown",
   "metadata": {
    "id": "WpmbaABr2snN"
   },
   "source": [
    "## 5. Model Building"
   ]
  },
  {
   "cell_type": "markdown",
   "metadata": {
    "id": "pYsKmaZd2snO"
   },
   "source": [
    "### Split Data as Train and Test Set"
   ]
  },
  {
   "cell_type": "markdown",
   "metadata": {
    "id": "I6b_dTvA2snQ"
   },
   "source": [
    "Here, Dataset is broken into two parts in ratio of 70:30. It means 70% data will used for model training and 30% for model testing."
   ]
  },
  {
   "cell_type": "code",
   "execution_count": 195,
   "metadata": {
    "id": "S15Bpefl2snS"
   },
   "outputs": [],
   "source": [
    "from sklearn.model_selection import train_test_split"
   ]
  },
  {
   "cell_type": "code",
   "execution_count": 196,
   "metadata": {},
   "outputs": [],
   "source": [
    "X = df.drop(\"left\", axis=1)\n",
    "y = df.left"
   ]
  },
  {
   "cell_type": "code",
   "execution_count": 202,
   "metadata": {},
   "outputs": [],
   "source": [
    "X_train, X_test, y_train, y_test = train_test_split(X, y, test_size=0.3, random_state=42)"
   ]
  },
  {
   "cell_type": "markdown",
   "metadata": {
    "id": "Y4d55Vek2snX"
   },
   "source": [
    "### #Gradient Boosting Classifier"
   ]
  },
  {
   "cell_type": "markdown",
   "metadata": {
    "id": "L8OkbOrC2snY"
   },
   "source": [
    "#### Model Building"
   ]
  },
  {
   "cell_type": "code",
   "execution_count": 203,
   "metadata": {},
   "outputs": [],
   "source": [
    "from sklearn.metrics import confusion_matrix, classification_report, accuracy_score, recall_score, precision_score, f1_score, roc_auc_score"
   ]
  },
  {
   "cell_type": "code",
   "execution_count": 204,
   "metadata": {
    "id": "MefRCx542snY"
   },
   "outputs": [],
   "source": [
    "from sklearn.ensemble import GradientBoostingClassifier"
   ]
  },
  {
   "cell_type": "code",
   "execution_count": 213,
   "metadata": {},
   "outputs": [],
   "source": [
    "gb_model = GradientBoostingClassifier(random_state=42)"
   ]
  },
  {
   "cell_type": "code",
   "execution_count": 214,
   "metadata": {},
   "outputs": [
    {
     "data": {
      "text/plain": [
       "GradientBoostingClassifier(random_state=42)"
      ]
     },
     "execution_count": 214,
     "metadata": {},
     "output_type": "execute_result"
    }
   ],
   "source": [
    "gb_model.fit(X_train, y_train)"
   ]
  },
  {
   "cell_type": "code",
   "execution_count": 215,
   "metadata": {},
   "outputs": [],
   "source": [
    "y_pred = gb_model.predict(X_test)"
   ]
  },
  {
   "cell_type": "code",
   "execution_count": 216,
   "metadata": {
    "scrolled": true
   },
   "outputs": [
    {
     "name": "stdout",
     "output_type": "stream",
     "text": [
      "[[2971   24]\n",
      " [  48  555]]\n",
      "              precision    recall  f1-score   support\n",
      "\n",
      "         0.0       0.98      0.99      0.99      2995\n",
      "         1.0       0.96      0.92      0.94       603\n",
      "\n",
      "    accuracy                           0.98      3598\n",
      "   macro avg       0.97      0.96      0.96      3598\n",
      "weighted avg       0.98      0.98      0.98      3598\n",
      "\n"
     ]
    }
   ],
   "source": [
    "print(confusion_matrix(y_test, y_pred))\n",
    "print(classification_report(y_test,y_pred))"
   ]
  },
  {
   "cell_type": "code",
   "execution_count": 217,
   "metadata": {
    "scrolled": true
   },
   "outputs": [
    {
     "data": {
      "text/html": [
       "<div>\n",
       "<style scoped>\n",
       "    .dataframe tbody tr th:only-of-type {\n",
       "        vertical-align: middle;\n",
       "    }\n",
       "\n",
       "    .dataframe tbody tr th {\n",
       "        vertical-align: top;\n",
       "    }\n",
       "\n",
       "    .dataframe thead th {\n",
       "        text-align: right;\n",
       "    }\n",
       "</style>\n",
       "<table border=\"1\" class=\"dataframe\">\n",
       "  <thead>\n",
       "    <tr style=\"text-align: right;\">\n",
       "      <th></th>\n",
       "      <th>Importance</th>\n",
       "    </tr>\n",
       "  </thead>\n",
       "  <tbody>\n",
       "    <tr>\n",
       "      <th>satisfaction_level</th>\n",
       "      <td>0.506576</td>\n",
       "    </tr>\n",
       "    <tr>\n",
       "      <th>last_evaluation</th>\n",
       "      <td>0.092620</td>\n",
       "    </tr>\n",
       "    <tr>\n",
       "      <th>number_project</th>\n",
       "      <td>0.164972</td>\n",
       "    </tr>\n",
       "    <tr>\n",
       "      <th>average_montly_hours</th>\n",
       "      <td>0.090244</td>\n",
       "    </tr>\n",
       "    <tr>\n",
       "      <th>time_spend_company</th>\n",
       "      <td>0.143797</td>\n",
       "    </tr>\n",
       "    <tr>\n",
       "      <th>Work_accident</th>\n",
       "      <td>0.000716</td>\n",
       "    </tr>\n",
       "    <tr>\n",
       "      <th>promotion_last_5years</th>\n",
       "      <td>0.000000</td>\n",
       "    </tr>\n",
       "    <tr>\n",
       "      <th>Departments</th>\n",
       "      <td>0.000134</td>\n",
       "    </tr>\n",
       "    <tr>\n",
       "      <th>salary</th>\n",
       "      <td>0.000940</td>\n",
       "    </tr>\n",
       "  </tbody>\n",
       "</table>\n",
       "</div>"
      ],
      "text/plain": [
       "                       Importance\n",
       "satisfaction_level       0.506576\n",
       "last_evaluation          0.092620\n",
       "number_project           0.164972\n",
       "average_montly_hours     0.090244\n",
       "time_spend_company       0.143797\n",
       "Work_accident            0.000716\n",
       "promotion_last_5years    0.000000\n",
       "Departments              0.000134\n",
       "salary                   0.000940"
      ]
     },
     "execution_count": 217,
     "metadata": {},
     "output_type": "execute_result"
    }
   ],
   "source": [
    "feats = pd.DataFrame(index=X.columns, data= gb_model.feature_importances_, columns=['Importance'])\n",
    "feats"
   ]
  },
  {
   "cell_type": "code",
   "execution_count": 218,
   "metadata": {},
   "outputs": [],
   "source": [
    "imp_feats = feats.sort_values(\"Importance\")"
   ]
  },
  {
   "cell_type": "code",
   "execution_count": 219,
   "metadata": {},
   "outputs": [
    {
     "data": {
      "image/png": "[encoded data removed]",
      "text/plain": [
       "<Figure size 864x432 with 1 Axes>"
      ]
     },
     "metadata": {},
     "output_type": "display_data"
    }
   ],
   "source": [
    "plt.figure(figsize=(12,6))\n",
    "sns.barplot(data=imp_feats.sort_values('Importance'),x=imp_feats.sort_values('Importance').index,y='Importance')\n",
    "plt.xticks(rotation=90);"
   ]
  },
  {
   "cell_type": "code",
   "execution_count": 222,
   "metadata": {},
   "outputs": [],
   "source": [
    "from sklearn.model_selection import GridSearchCV"
   ]
  },
  {
   "cell_type": "code",
   "execution_count": 223,
   "metadata": {},
   "outputs": [],
   "source": [
    "param_grid = {\"n_estimators\":[100, 200, 300,500],'max_depth':[3,4,5,6], \"learning_rate\": [0.001, 0.01, 0.1],\n",
    "             \"subsample\":[0.5, 1], \"max_features\" : [None, 2, 3, 4]}"
   ]
  },
  {
   "cell_type": "code",
   "execution_count": 224,
   "metadata": {},
   "outputs": [],
   "source": [
    "gb_model = GradientBoostingClassifier(random_state=42)"
   ]
  },
  {
   "cell_type": "code",
   "execution_count": 225,
   "metadata": {},
   "outputs": [],
   "source": [
    "grid_gb_model = GridSearchCV(estimator=gb_model, param_grid=param_grid, cv=5, scoring = \"f1\", verbose=2,)"
   ]
  },
  {
   "cell_type": "code",
   "execution_count": null,
   "metadata": {},
   "outputs": [
    {
     "name": "stdout",
     "output_type": "stream",
     "text": [
      "Fitting 5 folds for each of 384 candidates, totalling 1920 fits\n",
      "[CV] END learning_rate=0.001, max_depth=3, max_features=None, n_estimators=100, subsample=0.5; total time=   0.3s\n",
      "[CV] END learning_rate=0.001, max_depth=3, max_features=None, n_estimators=100, subsample=0.5; total time=   0.3s\n",
      "[CV] END learning_rate=0.001, max_depth=3, max_features=None, n_estimators=100, subsample=0.5; total time=   0.3s\n",
      "[CV] END learning_rate=0.001, max_depth=3, max_features=None, n_estimators=100, subsample=0.5; total time=   0.3s\n",
      "[CV] END learning_rate=0.001, max_depth=3, max_features=None, n_estimators=100, subsample=0.5; total time=   0.3s\n",
      "[CV] END learning_rate=0.001, max_depth=3, max_features=None, n_estimators=100, subsample=1; total time=   0.4s\n",
      "[CV] END learning_rate=0.001, max_depth=3, max_features=None, n_estimators=100, subsample=1; total time=   0.4s\n",
      "[CV] END learning_rate=0.001, max_depth=3, max_features=None, n_estimators=100, subsample=1; total time=   0.4s\n",
      "[CV] END learning_rate=0.001, max_depth=3, max_features=None, n_estimators=100, subsample=1; total time=   0.4s\n",
      "[CV] END learning_rate=0.001, max_depth=3, max_features=None, n_estimators=100, subsample=1; total time=   0.4s\n",
      "[CV] END learning_rate=0.001, max_depth=3, max_features=None, n_estimators=200, subsample=0.5; total time=   0.6s\n",
      "[CV] END learning_rate=0.001, max_depth=3, max_features=None, n_estimators=200, subsample=0.5; total time=   0.6s\n",
      "[CV] END learning_rate=0.001, max_depth=3, max_features=None, n_estimators=200, subsample=0.5; total time=   0.6s\n",
      "[CV] END learning_rate=0.001, max_depth=3, max_features=None, n_estimators=200, subsample=0.5; total time=   0.6s\n",
      "[CV] END learning_rate=0.001, max_depth=3, max_features=None, n_estimators=200, subsample=0.5; total time=   0.6s\n",
      "[CV] END learning_rate=0.001, max_depth=3, max_features=None, n_estimators=200, subsample=1; total time=   0.8s\n",
      "[CV] END learning_rate=0.001, max_depth=3, max_features=None, n_estimators=200, subsample=1; total time=   0.8s\n",
      "[CV] END learning_rate=0.001, max_depth=3, max_features=None, n_estimators=200, subsample=1; total time=   0.8s\n",
      "[CV] END learning_rate=0.001, max_depth=3, max_features=None, n_estimators=200, subsample=1; total time=   0.8s\n",
      "[CV] END learning_rate=0.001, max_depth=3, max_features=None, n_estimators=200, subsample=1; total time=   0.8s\n",
      "[CV] END learning_rate=0.001, max_depth=3, max_features=None, n_estimators=300, subsample=0.5; total time=   0.9s\n",
      "[CV] END learning_rate=0.001, max_depth=3, max_features=None, n_estimators=300, subsample=0.5; total time=   0.9s\n",
      "[CV] END learning_rate=0.001, max_depth=3, max_features=None, n_estimators=300, subsample=0.5; total time=   0.9s\n",
      "[CV] END learning_rate=0.001, max_depth=3, max_features=None, n_estimators=300, subsample=0.5; total time=   0.9s\n",
      "[CV] END learning_rate=0.001, max_depth=3, max_features=None, n_estimators=300, subsample=0.5; total time=   0.9s\n",
      "[CV] END learning_rate=0.001, max_depth=3, max_features=None, n_estimators=300, subsample=1; total time=   1.2s\n",
      "[CV] END learning_rate=0.001, max_depth=3, max_features=None, n_estimators=300, subsample=1; total time=   1.2s\n",
      "[CV] END learning_rate=0.001, max_depth=3, max_features=None, n_estimators=300, subsample=1; total time=   1.2s\n",
      "[CV] END learning_rate=0.001, max_depth=3, max_features=None, n_estimators=300, subsample=1; total time=   1.2s\n",
      "[CV] END learning_rate=0.001, max_depth=3, max_features=None, n_estimators=300, subsample=1; total time=   1.2s\n",
      "[CV] END learning_rate=0.001, max_depth=3, max_features=None, n_estimators=500, subsample=0.5; total time=   1.4s\n",
      "[CV] END learning_rate=0.001, max_depth=3, max_features=None, n_estimators=500, subsample=0.5; total time=   1.4s\n",
      "[CV] END learning_rate=0.001, max_depth=3, max_features=None, n_estimators=500, subsample=0.5; total time=   1.4s\n",
      "[CV] END learning_rate=0.001, max_depth=3, max_features=None, n_estimators=500, subsample=0.5; total time=   1.4s\n",
      "[CV] END learning_rate=0.001, max_depth=3, max_features=None, n_estimators=500, subsample=0.5; total time=   1.4s\n",
      "[CV] END learning_rate=0.001, max_depth=3, max_features=None, n_estimators=500, subsample=1; total time=   2.0s\n",
      "[CV] END learning_rate=0.001, max_depth=3, max_features=None, n_estimators=500, subsample=1; total time=   2.0s\n",
      "[CV] END learning_rate=0.001, max_depth=3, max_features=None, n_estimators=500, subsample=1; total time=   2.0s\n",
      "[CV] END learning_rate=0.001, max_depth=3, max_features=None, n_estimators=500, subsample=1; total time=   2.1s\n",
      "[CV] END learning_rate=0.001, max_depth=3, max_features=None, n_estimators=500, subsample=1; total time=   2.0s\n",
      "[CV] END learning_rate=0.001, max_depth=3, max_features=2, n_estimators=100, subsample=0.5; total time=   0.2s\n",
      "[CV] END learning_rate=0.001, max_depth=3, max_features=2, n_estimators=100, subsample=0.5; total time=   0.2s\n",
      "[CV] END learning_rate=0.001, max_depth=3, max_features=2, n_estimators=100, subsample=0.5; total time=   0.2s\n",
      "[CV] END learning_rate=0.001, max_depth=3, max_features=2, n_estimators=100, subsample=0.5; total time=   0.2s\n",
      "[CV] END learning_rate=0.001, max_depth=3, max_features=2, n_estimators=100, subsample=0.5; total time=   0.2s\n",
      "[CV] END learning_rate=0.001, max_depth=3, max_features=2, n_estimators=100, subsample=1; total time=   0.2s\n",
      "[CV] END learning_rate=0.001, max_depth=3, max_features=2, n_estimators=100, subsample=1; total time=   0.2s\n",
      "[CV] END learning_rate=0.001, max_depth=3, max_features=2, n_estimators=100, subsample=1; total time=   0.2s\n",
      "[CV] END learning_rate=0.001, max_depth=3, max_features=2, n_estimators=100, subsample=1; total time=   0.2s\n",
      "[CV] END learning_rate=0.001, max_depth=3, max_features=2, n_estimators=100, subsample=1; total time=   0.2s\n",
      "[CV] END learning_rate=0.001, max_depth=3, max_features=2, n_estimators=200, subsample=0.5; total time=   0.3s\n",
      "[CV] END learning_rate=0.001, max_depth=3, max_features=2, n_estimators=200, subsample=0.5; total time=   0.3s\n",
      "[CV] END learning_rate=0.001, max_depth=3, max_features=2, n_estimators=200, subsample=0.5; total time=   0.3s\n",
      "[CV] END learning_rate=0.001, max_depth=3, max_features=2, n_estimators=200, subsample=0.5; total time=   0.3s\n",
      "[CV] END learning_rate=0.001, max_depth=3, max_features=2, n_estimators=200, subsample=0.5; total time=   0.3s\n",
      "[CV] END learning_rate=0.001, max_depth=3, max_features=2, n_estimators=200, subsample=1; total time=   0.3s\n",
      "[CV] END learning_rate=0.001, max_depth=3, max_features=2, n_estimators=200, subsample=1; total time=   0.3s\n",
      "[CV] END learning_rate=0.001, max_depth=3, max_features=2, n_estimators=200, subsample=1; total time=   0.3s\n",
      "[CV] END learning_rate=0.001, max_depth=3, max_features=2, n_estimators=200, subsample=1; total time=   0.3s\n",
      "[CV] END learning_rate=0.001, max_depth=3, max_features=2, n_estimators=200, subsample=1; total time=   0.3s\n",
      "[CV] END learning_rate=0.001, max_depth=3, max_features=2, n_estimators=300, subsample=0.5; total time=   0.5s\n",
      "[CV] END learning_rate=0.001, max_depth=3, max_features=2, n_estimators=300, subsample=0.5; total time=   0.5s\n",
      "[CV] END learning_rate=0.001, max_depth=3, max_features=2, n_estimators=300, subsample=0.5; total time=   0.5s\n",
      "[CV] END learning_rate=0.001, max_depth=3, max_features=2, n_estimators=300, subsample=0.5; total time=   0.5s\n",
      "[CV] END learning_rate=0.001, max_depth=3, max_features=2, n_estimators=300, subsample=0.5; total time=   0.5s\n",
      "[CV] END learning_rate=0.001, max_depth=3, max_features=2, n_estimators=300, subsample=1; total time=   0.5s\n",
      "[CV] END learning_rate=0.001, max_depth=3, max_features=2, n_estimators=300, subsample=1; total time=   0.5s\n",
      "[CV] END learning_rate=0.001, max_depth=3, max_features=2, n_estimators=300, subsample=1; total time=   0.5s\n",
      "[CV] END learning_rate=0.001, max_depth=3, max_features=2, n_estimators=300, subsample=1; total time=   0.5s\n",
      "[CV] END learning_rate=0.001, max_depth=3, max_features=2, n_estimators=300, subsample=1; total time=   0.5s\n",
      "[CV] END learning_rate=0.001, max_depth=3, max_features=2, n_estimators=500, subsample=0.5; total time=   0.8s\n",
      "[CV] END learning_rate=0.001, max_depth=3, max_features=2, n_estimators=500, subsample=0.5; total time=   0.8s\n",
      "[CV] END learning_rate=0.001, max_depth=3, max_features=2, n_estimators=500, subsample=0.5; total time=   0.8s\n"
     ]
    },
    {
     "name": "stdout",
     "output_type": "stream",
     "text": [
      "[CV] END learning_rate=0.001, max_depth=3, max_features=2, n_estimators=500, subsample=0.5; total time=   0.8s\n",
      "[CV] END learning_rate=0.001, max_depth=3, max_features=2, n_estimators=500, subsample=0.5; total time=   0.8s\n",
      "[CV] END learning_rate=0.001, max_depth=3, max_features=2, n_estimators=500, subsample=1; total time=   0.8s\n",
      "[CV] END learning_rate=0.001, max_depth=3, max_features=2, n_estimators=500, subsample=1; total time=   0.8s\n",
      "[CV] END learning_rate=0.001, max_depth=3, max_features=2, n_estimators=500, subsample=1; total time=   0.8s\n",
      "[CV] END learning_rate=0.001, max_depth=3, max_features=2, n_estimators=500, subsample=1; total time=   0.8s\n",
      "[CV] END learning_rate=0.001, max_depth=3, max_features=2, n_estimators=500, subsample=1; total time=   0.8s\n",
      "[CV] END learning_rate=0.001, max_depth=3, max_features=3, n_estimators=100, subsample=0.5; total time=   0.2s\n",
      "[CV] END learning_rate=0.001, max_depth=3, max_features=3, n_estimators=100, subsample=0.5; total time=   0.2s\n",
      "[CV] END learning_rate=0.001, max_depth=3, max_features=3, n_estimators=100, subsample=0.5; total time=   0.2s\n",
      "[CV] END learning_rate=0.001, max_depth=3, max_features=3, n_estimators=100, subsample=0.5; total time=   0.2s\n",
      "[CV] END learning_rate=0.001, max_depth=3, max_features=3, n_estimators=100, subsample=0.5; total time=   0.2s\n",
      "[CV] END learning_rate=0.001, max_depth=3, max_features=3, n_estimators=100, subsample=1; total time=   0.2s\n",
      "[CV] END learning_rate=0.001, max_depth=3, max_features=3, n_estimators=100, subsample=1; total time=   0.2s\n",
      "[CV] END learning_rate=0.001, max_depth=3, max_features=3, n_estimators=100, subsample=1; total time=   0.2s\n",
      "[CV] END learning_rate=0.001, max_depth=3, max_features=3, n_estimators=100, subsample=1; total time=   0.2s\n",
      "[CV] END learning_rate=0.001, max_depth=3, max_features=3, n_estimators=100, subsample=1; total time=   0.2s\n",
      "[CV] END learning_rate=0.001, max_depth=3, max_features=3, n_estimators=200, subsample=0.5; total time=   0.4s\n",
      "[CV] END learning_rate=0.001, max_depth=3, max_features=3, n_estimators=200, subsample=0.5; total time=   0.4s\n",
      "[CV] END learning_rate=0.001, max_depth=3, max_features=3, n_estimators=200, subsample=0.5; total time=   0.4s\n",
      "[CV] END learning_rate=0.001, max_depth=3, max_features=3, n_estimators=200, subsample=0.5; total time=   0.3s\n",
      "[CV] END learning_rate=0.001, max_depth=3, max_features=3, n_estimators=200, subsample=0.5; total time=   0.3s\n",
      "[CV] END learning_rate=0.001, max_depth=3, max_features=3, n_estimators=200, subsample=1; total time=   0.4s\n",
      "[CV] END learning_rate=0.001, max_depth=3, max_features=3, n_estimators=200, subsample=1; total time=   0.4s\n",
      "[CV] END learning_rate=0.001, max_depth=3, max_features=3, n_estimators=200, subsample=1; total time=   0.4s\n",
      "[CV] END learning_rate=0.001, max_depth=3, max_features=3, n_estimators=200, subsample=1; total time=   0.4s\n",
      "[CV] END learning_rate=0.001, max_depth=3, max_features=3, n_estimators=200, subsample=1; total time=   0.4s\n",
      "[CV] END learning_rate=0.001, max_depth=3, max_features=3, n_estimators=300, subsample=0.5; total time=   0.5s\n",
      "[CV] END learning_rate=0.001, max_depth=3, max_features=3, n_estimators=300, subsample=0.5; total time=   0.5s\n",
      "[CV] END learning_rate=0.001, max_depth=3, max_features=3, n_estimators=300, subsample=0.5; total time=   0.5s\n",
      "[CV] END learning_rate=0.001, max_depth=3, max_features=3, n_estimators=300, subsample=0.5; total time=   0.5s\n",
      "[CV] END learning_rate=0.001, max_depth=3, max_features=3, n_estimators=300, subsample=0.5; total time=   0.5s\n",
      "[CV] END learning_rate=0.001, max_depth=3, max_features=3, n_estimators=300, subsample=1; total time=   0.6s\n",
      "[CV] END learning_rate=0.001, max_depth=3, max_features=3, n_estimators=300, subsample=1; total time=   0.6s\n",
      "[CV] END learning_rate=0.001, max_depth=3, max_features=3, n_estimators=300, subsample=1; total time=   0.6s\n",
      "[CV] END learning_rate=0.001, max_depth=3, max_features=3, n_estimators=300, subsample=1; total time=   0.6s\n",
      "[CV] END learning_rate=0.001, max_depth=3, max_features=3, n_estimators=300, subsample=1; total time=   0.6s\n",
      "[CV] END learning_rate=0.001, max_depth=3, max_features=3, n_estimators=500, subsample=0.5; total time=   0.9s\n",
      "[CV] END learning_rate=0.001, max_depth=3, max_features=3, n_estimators=500, subsample=0.5; total time=   0.9s\n",
      "[CV] END learning_rate=0.001, max_depth=3, max_features=3, n_estimators=500, subsample=0.5; total time=   0.9s\n",
      "[CV] END learning_rate=0.001, max_depth=3, max_features=3, n_estimators=500, subsample=0.5; total time=   0.9s\n",
      "[CV] END learning_rate=0.001, max_depth=3, max_features=3, n_estimators=500, subsample=0.5; total time=   0.9s\n",
      "[CV] END learning_rate=0.001, max_depth=3, max_features=3, n_estimators=500, subsample=1; total time=   1.0s\n",
      "[CV] END learning_rate=0.001, max_depth=3, max_features=3, n_estimators=500, subsample=1; total time=   1.0s\n",
      "[CV] END learning_rate=0.001, max_depth=3, max_features=3, n_estimators=500, subsample=1; total time=   1.0s\n",
      "[CV] END learning_rate=0.001, max_depth=3, max_features=3, n_estimators=500, subsample=1; total time=   1.0s\n",
      "[CV] END learning_rate=0.001, max_depth=3, max_features=3, n_estimators=500, subsample=1; total time=   1.0s\n",
      "[CV] END learning_rate=0.001, max_depth=3, max_features=4, n_estimators=100, subsample=0.5; total time=   0.2s\n",
      "[CV] END learning_rate=0.001, max_depth=3, max_features=4, n_estimators=100, subsample=0.5; total time=   0.2s\n",
      "[CV] END learning_rate=0.001, max_depth=3, max_features=4, n_estimators=100, subsample=0.5; total time=   0.2s\n",
      "[CV] END learning_rate=0.001, max_depth=3, max_features=4, n_estimators=100, subsample=0.5; total time=   0.2s\n",
      "[CV] END learning_rate=0.001, max_depth=3, max_features=4, n_estimators=100, subsample=0.5; total time=   0.2s\n",
      "[CV] END learning_rate=0.001, max_depth=3, max_features=4, n_estimators=100, subsample=1; total time=   0.2s\n",
      "[CV] END learning_rate=0.001, max_depth=3, max_features=4, n_estimators=100, subsample=1; total time=   0.2s\n",
      "[CV] END learning_rate=0.001, max_depth=3, max_features=4, n_estimators=100, subsample=1; total time=   0.2s\n",
      "[CV] END learning_rate=0.001, max_depth=3, max_features=4, n_estimators=100, subsample=1; total time=   0.2s\n",
      "[CV] END learning_rate=0.001, max_depth=3, max_features=4, n_estimators=100, subsample=1; total time=   0.2s\n",
      "[CV] END learning_rate=0.001, max_depth=3, max_features=4, n_estimators=200, subsample=0.5; total time=   0.4s\n",
      "[CV] END learning_rate=0.001, max_depth=3, max_features=4, n_estimators=200, subsample=0.5; total time=   0.4s\n",
      "[CV] END learning_rate=0.001, max_depth=3, max_features=4, n_estimators=200, subsample=0.5; total time=   0.4s\n",
      "[CV] END learning_rate=0.001, max_depth=3, max_features=4, n_estimators=200, subsample=0.5; total time=   0.4s\n",
      "[CV] END learning_rate=0.001, max_depth=3, max_features=4, n_estimators=200, subsample=0.5; total time=   0.4s\n",
      "[CV] END learning_rate=0.001, max_depth=3, max_features=4, n_estimators=200, subsample=1; total time=   0.5s\n",
      "[CV] END learning_rate=0.001, max_depth=3, max_features=4, n_estimators=200, subsample=1; total time=   0.5s\n",
      "[CV] END learning_rate=0.001, max_depth=3, max_features=4, n_estimators=200, subsample=1; total time=   0.5s\n",
      "[CV] END learning_rate=0.001, max_depth=3, max_features=4, n_estimators=200, subsample=1; total time=   0.5s\n",
      "[CV] END learning_rate=0.001, max_depth=3, max_features=4, n_estimators=200, subsample=1; total time=   0.5s\n",
      "[CV] END learning_rate=0.001, max_depth=3, max_features=4, n_estimators=300, subsample=0.5; total time=   0.6s\n",
      "[CV] END learning_rate=0.001, max_depth=3, max_features=4, n_estimators=300, subsample=0.5; total time=   0.6s\n",
      "[CV] END learning_rate=0.001, max_depth=3, max_features=4, n_estimators=300, subsample=0.5; total time=   0.6s\n",
      "[CV] END learning_rate=0.001, max_depth=3, max_features=4, n_estimators=300, subsample=0.5; total time=   0.6s\n",
      "[CV] END learning_rate=0.001, max_depth=3, max_features=4, n_estimators=300, subsample=0.5; total time=   0.6s\n",
      "[CV] END learning_rate=0.001, max_depth=3, max_features=4, n_estimators=300, subsample=1; total time=   0.7s\n",
      "[CV] END learning_rate=0.001, max_depth=3, max_features=4, n_estimators=300, subsample=1; total time=   0.7s\n",
      "[CV] END learning_rate=0.001, max_depth=3, max_features=4, n_estimators=300, subsample=1; total time=   0.7s\n"
     ]
    },
    {
     "name": "stdout",
     "output_type": "stream",
     "text": [
      "[CV] END learning_rate=0.001, max_depth=3, max_features=4, n_estimators=300, subsample=1; total time=   0.7s\n",
      "[CV] END learning_rate=0.001, max_depth=3, max_features=4, n_estimators=300, subsample=1; total time=   0.7s\n",
      "[CV] END learning_rate=0.001, max_depth=3, max_features=4, n_estimators=500, subsample=0.5; total time=   1.0s\n",
      "[CV] END learning_rate=0.001, max_depth=3, max_features=4, n_estimators=500, subsample=0.5; total time=   1.0s\n",
      "[CV] END learning_rate=0.001, max_depth=3, max_features=4, n_estimators=500, subsample=0.5; total time=   1.0s\n",
      "[CV] END learning_rate=0.001, max_depth=3, max_features=4, n_estimators=500, subsample=0.5; total time=   1.0s\n",
      "[CV] END learning_rate=0.001, max_depth=3, max_features=4, n_estimators=500, subsample=0.5; total time=   1.0s\n",
      "[CV] END learning_rate=0.001, max_depth=3, max_features=4, n_estimators=500, subsample=1; total time=   1.1s\n",
      "[CV] END learning_rate=0.001, max_depth=3, max_features=4, n_estimators=500, subsample=1; total time=   1.1s\n",
      "[CV] END learning_rate=0.001, max_depth=3, max_features=4, n_estimators=500, subsample=1; total time=   1.1s\n",
      "[CV] END learning_rate=0.001, max_depth=3, max_features=4, n_estimators=500, subsample=1; total time=   1.1s\n",
      "[CV] END learning_rate=0.001, max_depth=3, max_features=4, n_estimators=500, subsample=1; total time=   1.1s\n",
      "[CV] END learning_rate=0.001, max_depth=4, max_features=None, n_estimators=100, subsample=0.5; total time=   0.4s\n",
      "[CV] END learning_rate=0.001, max_depth=4, max_features=None, n_estimators=100, subsample=0.5; total time=   0.4s\n",
      "[CV] END learning_rate=0.001, max_depth=4, max_features=None, n_estimators=100, subsample=0.5; total time=   0.4s\n",
      "[CV] END learning_rate=0.001, max_depth=4, max_features=None, n_estimators=100, subsample=0.5; total time=   0.4s\n",
      "[CV] END learning_rate=0.001, max_depth=4, max_features=None, n_estimators=100, subsample=0.5; total time=   0.4s\n",
      "[CV] END learning_rate=0.001, max_depth=4, max_features=None, n_estimators=100, subsample=1; total time=   0.5s\n",
      "[CV] END learning_rate=0.001, max_depth=4, max_features=None, n_estimators=100, subsample=1; total time=   0.5s\n",
      "[CV] END learning_rate=0.001, max_depth=4, max_features=None, n_estimators=100, subsample=1; total time=   0.5s\n",
      "[CV] END learning_rate=0.001, max_depth=4, max_features=None, n_estimators=100, subsample=1; total time=   0.5s\n",
      "[CV] END learning_rate=0.001, max_depth=4, max_features=None, n_estimators=100, subsample=1; total time=   0.5s\n",
      "[CV] END learning_rate=0.001, max_depth=4, max_features=None, n_estimators=200, subsample=0.5; total time=   0.7s\n",
      "[CV] END learning_rate=0.001, max_depth=4, max_features=None, n_estimators=200, subsample=0.5; total time=   0.7s\n",
      "[CV] END learning_rate=0.001, max_depth=4, max_features=None, n_estimators=200, subsample=0.5; total time=   0.7s\n",
      "[CV] END learning_rate=0.001, max_depth=4, max_features=None, n_estimators=200, subsample=0.5; total time=   0.7s\n",
      "[CV] END learning_rate=0.001, max_depth=4, max_features=None, n_estimators=200, subsample=0.5; total time=   0.7s\n",
      "[CV] END learning_rate=0.001, max_depth=4, max_features=None, n_estimators=200, subsample=1; total time=   1.1s\n",
      "[CV] END learning_rate=0.001, max_depth=4, max_features=None, n_estimators=200, subsample=1; total time=   1.0s\n",
      "[CV] END learning_rate=0.001, max_depth=4, max_features=None, n_estimators=200, subsample=1; total time=   1.1s\n",
      "[CV] END learning_rate=0.001, max_depth=4, max_features=None, n_estimators=200, subsample=1; total time=   1.1s\n",
      "[CV] END learning_rate=0.001, max_depth=4, max_features=None, n_estimators=200, subsample=1; total time=   1.1s\n",
      "[CV] END learning_rate=0.001, max_depth=4, max_features=None, n_estimators=300, subsample=0.5; total time=   1.1s\n",
      "[CV] END learning_rate=0.001, max_depth=4, max_features=None, n_estimators=300, subsample=0.5; total time=   1.1s\n",
      "[CV] END learning_rate=0.001, max_depth=4, max_features=None, n_estimators=300, subsample=0.5; total time=   1.1s\n",
      "[CV] END learning_rate=0.001, max_depth=4, max_features=None, n_estimators=300, subsample=0.5; total time=   1.1s\n",
      "[CV] END learning_rate=0.001, max_depth=4, max_features=None, n_estimators=300, subsample=0.5; total time=   1.1s\n",
      "[CV] END learning_rate=0.001, max_depth=4, max_features=None, n_estimators=300, subsample=1; total time=   1.6s\n",
      "[CV] END learning_rate=0.001, max_depth=4, max_features=None, n_estimators=300, subsample=1; total time=   1.6s\n",
      "[CV] END learning_rate=0.001, max_depth=4, max_features=None, n_estimators=300, subsample=1; total time=   1.6s\n",
      "[CV] END learning_rate=0.001, max_depth=4, max_features=None, n_estimators=300, subsample=1; total time=   1.6s\n",
      "[CV] END learning_rate=0.001, max_depth=4, max_features=None, n_estimators=300, subsample=1; total time=   1.6s\n",
      "[CV] END learning_rate=0.001, max_depth=4, max_features=None, n_estimators=500, subsample=0.5; total time=   1.8s\n",
      "[CV] END learning_rate=0.001, max_depth=4, max_features=None, n_estimators=500, subsample=0.5; total time=   1.8s\n",
      "[CV] END learning_rate=0.001, max_depth=4, max_features=None, n_estimators=500, subsample=0.5; total time=   1.8s\n",
      "[CV] END learning_rate=0.001, max_depth=4, max_features=None, n_estimators=500, subsample=0.5; total time=   1.8s\n",
      "[CV] END learning_rate=0.001, max_depth=4, max_features=None, n_estimators=500, subsample=0.5; total time=   1.8s\n",
      "[CV] END learning_rate=0.001, max_depth=4, max_features=None, n_estimators=500, subsample=1; total time=   2.7s\n",
      "[CV] END learning_rate=0.001, max_depth=4, max_features=None, n_estimators=500, subsample=1; total time=   2.6s\n",
      "[CV] END learning_rate=0.001, max_depth=4, max_features=None, n_estimators=500, subsample=1; total time=   2.7s\n",
      "[CV] END learning_rate=0.001, max_depth=4, max_features=None, n_estimators=500, subsample=1; total time=   2.7s\n",
      "[CV] END learning_rate=0.001, max_depth=4, max_features=None, n_estimators=500, subsample=1; total time=   2.7s\n",
      "[CV] END learning_rate=0.001, max_depth=4, max_features=2, n_estimators=100, subsample=0.5; total time=   0.2s\n",
      "[CV] END learning_rate=0.001, max_depth=4, max_features=2, n_estimators=100, subsample=0.5; total time=   0.2s\n",
      "[CV] END learning_rate=0.001, max_depth=4, max_features=2, n_estimators=100, subsample=0.5; total time=   0.2s\n",
      "[CV] END learning_rate=0.001, max_depth=4, max_features=2, n_estimators=100, subsample=0.5; total time=   0.2s\n",
      "[CV] END learning_rate=0.001, max_depth=4, max_features=2, n_estimators=100, subsample=0.5; total time=   0.2s\n",
      "[CV] END learning_rate=0.001, max_depth=4, max_features=2, n_estimators=100, subsample=1; total time=   0.2s\n",
      "[CV] END learning_rate=0.001, max_depth=4, max_features=2, n_estimators=100, subsample=1; total time=   0.2s\n",
      "[CV] END learning_rate=0.001, max_depth=4, max_features=2, n_estimators=100, subsample=1; total time=   0.2s\n",
      "[CV] END learning_rate=0.001, max_depth=4, max_features=2, n_estimators=100, subsample=1; total time=   0.2s\n",
      "[CV] END learning_rate=0.001, max_depth=4, max_features=2, n_estimators=100, subsample=1; total time=   0.2s\n",
      "[CV] END learning_rate=0.001, max_depth=4, max_features=2, n_estimators=200, subsample=0.5; total time=   0.4s\n",
      "[CV] END learning_rate=0.001, max_depth=4, max_features=2, n_estimators=200, subsample=0.5; total time=   0.4s\n",
      "[CV] END learning_rate=0.001, max_depth=4, max_features=2, n_estimators=200, subsample=0.5; total time=   0.4s\n",
      "[CV] END learning_rate=0.001, max_depth=4, max_features=2, n_estimators=200, subsample=0.5; total time=   0.4s\n",
      "[CV] END learning_rate=0.001, max_depth=4, max_features=2, n_estimators=200, subsample=0.5; total time=   0.4s\n",
      "[CV] END learning_rate=0.001, max_depth=4, max_features=2, n_estimators=200, subsample=1; total time=   0.4s\n",
      "[CV] END learning_rate=0.001, max_depth=4, max_features=2, n_estimators=200, subsample=1; total time=   0.4s\n",
      "[CV] END learning_rate=0.001, max_depth=4, max_features=2, n_estimators=200, subsample=1; total time=   0.4s\n",
      "[CV] END learning_rate=0.001, max_depth=4, max_features=2, n_estimators=200, subsample=1; total time=   0.4s\n",
      "[CV] END learning_rate=0.001, max_depth=4, max_features=2, n_estimators=200, subsample=1; total time=   0.4s\n",
      "[CV] END learning_rate=0.001, max_depth=4, max_features=2, n_estimators=300, subsample=0.5; total time=   0.6s\n",
      "[CV] END learning_rate=0.001, max_depth=4, max_features=2, n_estimators=300, subsample=0.5; total time=   0.6s\n"
     ]
    },
    {
     "name": "stdout",
     "output_type": "stream",
     "text": [
      "[CV] END learning_rate=0.001, max_depth=4, max_features=2, n_estimators=300, subsample=0.5; total time=   0.6s\n",
      "[CV] END learning_rate=0.001, max_depth=4, max_features=2, n_estimators=300, subsample=0.5; total time=   0.6s\n",
      "[CV] END learning_rate=0.001, max_depth=4, max_features=2, n_estimators=300, subsample=0.5; total time=   0.6s\n",
      "[CV] END learning_rate=0.001, max_depth=4, max_features=2, n_estimators=300, subsample=1; total time=   0.6s\n",
      "[CV] END learning_rate=0.001, max_depth=4, max_features=2, n_estimators=300, subsample=1; total time=   0.6s\n",
      "[CV] END learning_rate=0.001, max_depth=4, max_features=2, n_estimators=300, subsample=1; total time=   0.6s\n",
      "[CV] END learning_rate=0.001, max_depth=4, max_features=2, n_estimators=300, subsample=1; total time=   0.6s\n",
      "[CV] END learning_rate=0.001, max_depth=4, max_features=2, n_estimators=300, subsample=1; total time=   0.6s\n",
      "[CV] END learning_rate=0.001, max_depth=4, max_features=2, n_estimators=500, subsample=0.5; total time=   0.9s\n",
      "[CV] END learning_rate=0.001, max_depth=4, max_features=2, n_estimators=500, subsample=0.5; total time=   0.9s\n",
      "[CV] END learning_rate=0.001, max_depth=4, max_features=2, n_estimators=500, subsample=0.5; total time=   0.9s\n",
      "[CV] END learning_rate=0.001, max_depth=4, max_features=2, n_estimators=500, subsample=0.5; total time=   0.9s\n",
      "[CV] END learning_rate=0.001, max_depth=4, max_features=2, n_estimators=500, subsample=0.5; total time=   0.9s\n",
      "[CV] END learning_rate=0.001, max_depth=4, max_features=2, n_estimators=500, subsample=1; total time=   1.0s\n",
      "[CV] END learning_rate=0.001, max_depth=4, max_features=2, n_estimators=500, subsample=1; total time=   1.0s\n",
      "[CV] END learning_rate=0.001, max_depth=4, max_features=2, n_estimators=500, subsample=1; total time=   1.0s\n",
      "[CV] END learning_rate=0.001, max_depth=4, max_features=2, n_estimators=500, subsample=1; total time=   1.0s\n",
      "[CV] END learning_rate=0.001, max_depth=4, max_features=2, n_estimators=500, subsample=1; total time=   1.0s\n",
      "[CV] END learning_rate=0.001, max_depth=4, max_features=3, n_estimators=100, subsample=0.5; total time=   0.2s\n",
      "[CV] END learning_rate=0.001, max_depth=4, max_features=3, n_estimators=100, subsample=0.5; total time=   0.2s\n",
      "[CV] END learning_rate=0.001, max_depth=4, max_features=3, n_estimators=100, subsample=0.5; total time=   0.2s\n",
      "[CV] END learning_rate=0.001, max_depth=4, max_features=3, n_estimators=100, subsample=0.5; total time=   0.2s\n",
      "[CV] END learning_rate=0.001, max_depth=4, max_features=3, n_estimators=100, subsample=0.5; total time=   0.2s\n",
      "[CV] END learning_rate=0.001, max_depth=4, max_features=3, n_estimators=100, subsample=1; total time=   0.3s\n",
      "[CV] END learning_rate=0.001, max_depth=4, max_features=3, n_estimators=100, subsample=1; total time=   0.3s\n",
      "[CV] END learning_rate=0.001, max_depth=4, max_features=3, n_estimators=100, subsample=1; total time=   0.3s\n",
      "[CV] END learning_rate=0.001, max_depth=4, max_features=3, n_estimators=100, subsample=1; total time=   0.3s\n",
      "[CV] END learning_rate=0.001, max_depth=4, max_features=3, n_estimators=100, subsample=1; total time=   0.3s\n",
      "[CV] END learning_rate=0.001, max_depth=4, max_features=3, n_estimators=200, subsample=0.5; total time=   0.4s\n",
      "[CV] END learning_rate=0.001, max_depth=4, max_features=3, n_estimators=200, subsample=0.5; total time=   0.4s\n",
      "[CV] END learning_rate=0.001, max_depth=4, max_features=3, n_estimators=200, subsample=0.5; total time=   0.4s\n",
      "[CV] END learning_rate=0.001, max_depth=4, max_features=3, n_estimators=200, subsample=0.5; total time=   0.4s\n",
      "[CV] END learning_rate=0.001, max_depth=4, max_features=3, n_estimators=200, subsample=0.5; total time=   0.4s\n",
      "[CV] END learning_rate=0.001, max_depth=4, max_features=3, n_estimators=200, subsample=1; total time=   0.5s\n",
      "[CV] END learning_rate=0.001, max_depth=4, max_features=3, n_estimators=200, subsample=1; total time=   0.5s\n",
      "[CV] END learning_rate=0.001, max_depth=4, max_features=3, n_estimators=200, subsample=1; total time=   0.5s\n",
      "[CV] END learning_rate=0.001, max_depth=4, max_features=3, n_estimators=200, subsample=1; total time=   0.5s\n",
      "[CV] END learning_rate=0.001, max_depth=4, max_features=3, n_estimators=200, subsample=1; total time=   0.5s\n",
      "[CV] END learning_rate=0.001, max_depth=4, max_features=3, n_estimators=300, subsample=0.5; total time=   0.6s\n",
      "[CV] END learning_rate=0.001, max_depth=4, max_features=3, n_estimators=300, subsample=0.5; total time=   0.6s\n",
      "[CV] END learning_rate=0.001, max_depth=4, max_features=3, n_estimators=300, subsample=0.5; total time=   0.6s\n",
      "[CV] END learning_rate=0.001, max_depth=4, max_features=3, n_estimators=300, subsample=0.5; total time=   0.6s\n",
      "[CV] END learning_rate=0.001, max_depth=4, max_features=3, n_estimators=300, subsample=0.5; total time=   0.6s\n",
      "[CV] END learning_rate=0.001, max_depth=4, max_features=3, n_estimators=300, subsample=1; total time=   0.8s\n",
      "[CV] END learning_rate=0.001, max_depth=4, max_features=3, n_estimators=300, subsample=1; total time=   0.8s\n",
      "[CV] END learning_rate=0.001, max_depth=4, max_features=3, n_estimators=300, subsample=1; total time=   0.8s\n",
      "[CV] END learning_rate=0.001, max_depth=4, max_features=3, n_estimators=300, subsample=1; total time=   0.8s\n",
      "[CV] END learning_rate=0.001, max_depth=4, max_features=3, n_estimators=300, subsample=1; total time=   0.7s\n",
      "[CV] END learning_rate=0.001, max_depth=4, max_features=3, n_estimators=500, subsample=0.5; total time=   1.1s\n",
      "[CV] END learning_rate=0.001, max_depth=4, max_features=3, n_estimators=500, subsample=0.5; total time=   1.0s\n",
      "[CV] END learning_rate=0.001, max_depth=4, max_features=3, n_estimators=500, subsample=0.5; total time=   1.1s\n",
      "[CV] END learning_rate=0.001, max_depth=4, max_features=3, n_estimators=500, subsample=0.5; total time=   1.1s\n",
      "[CV] END learning_rate=0.001, max_depth=4, max_features=3, n_estimators=500, subsample=0.5; total time=   1.1s\n",
      "[CV] END learning_rate=0.001, max_depth=4, max_features=3, n_estimators=500, subsample=1; total time=   1.2s\n",
      "[CV] END learning_rate=0.001, max_depth=4, max_features=3, n_estimators=500, subsample=1; total time=   1.2s\n",
      "[CV] END learning_rate=0.001, max_depth=4, max_features=3, n_estimators=500, subsample=1; total time=   1.2s\n",
      "[CV] END learning_rate=0.001, max_depth=4, max_features=3, n_estimators=500, subsample=1; total time=   1.2s\n",
      "[CV] END learning_rate=0.001, max_depth=4, max_features=3, n_estimators=500, subsample=1; total time=   1.2s\n",
      "[CV] END learning_rate=0.001, max_depth=4, max_features=4, n_estimators=100, subsample=0.5; total time=   0.2s\n",
      "[CV] END learning_rate=0.001, max_depth=4, max_features=4, n_estimators=100, subsample=0.5; total time=   0.2s\n",
      "[CV] END learning_rate=0.001, max_depth=4, max_features=4, n_estimators=100, subsample=0.5; total time=   0.2s\n",
      "[CV] END learning_rate=0.001, max_depth=4, max_features=4, n_estimators=100, subsample=0.5; total time=   0.2s\n",
      "[CV] END learning_rate=0.001, max_depth=4, max_features=4, n_estimators=100, subsample=0.5; total time=   0.2s\n",
      "[CV] END learning_rate=0.001, max_depth=4, max_features=4, n_estimators=100, subsample=1; total time=   0.3s\n",
      "[CV] END learning_rate=0.001, max_depth=4, max_features=4, n_estimators=100, subsample=1; total time=   0.3s\n",
      "[CV] END learning_rate=0.001, max_depth=4, max_features=4, n_estimators=100, subsample=1; total time=   0.3s\n",
      "[CV] END learning_rate=0.001, max_depth=4, max_features=4, n_estimators=100, subsample=1; total time=   0.3s\n",
      "[CV] END learning_rate=0.001, max_depth=4, max_features=4, n_estimators=100, subsample=1; total time=   0.3s\n",
      "[CV] END learning_rate=0.001, max_depth=4, max_features=4, n_estimators=200, subsample=0.5; total time=   0.5s\n",
      "[CV] END learning_rate=0.001, max_depth=4, max_features=4, n_estimators=200, subsample=0.5; total time=   0.5s\n",
      "[CV] END learning_rate=0.001, max_depth=4, max_features=4, n_estimators=200, subsample=0.5; total time=   0.5s\n",
      "[CV] END learning_rate=0.001, max_depth=4, max_features=4, n_estimators=200, subsample=0.5; total time=   0.5s\n",
      "[CV] END learning_rate=0.001, max_depth=4, max_features=4, n_estimators=200, subsample=0.5; total time=   0.5s\n",
      "[CV] END learning_rate=0.001, max_depth=4, max_features=4, n_estimators=200, subsample=1; total time=   0.6s\n",
      "[CV] END learning_rate=0.001, max_depth=4, max_features=4, n_estimators=200, subsample=1; total time=   0.6s\n"
     ]
    },
    {
     "name": "stdout",
     "output_type": "stream",
     "text": [
      "[CV] END learning_rate=0.001, max_depth=4, max_features=4, n_estimators=200, subsample=1; total time=   0.6s\n",
      "[CV] END learning_rate=0.001, max_depth=4, max_features=4, n_estimators=200, subsample=1; total time=   0.6s\n",
      "[CV] END learning_rate=0.001, max_depth=4, max_features=4, n_estimators=200, subsample=1; total time=   0.6s\n",
      "[CV] END learning_rate=0.001, max_depth=4, max_features=4, n_estimators=300, subsample=0.5; total time=   0.7s\n",
      "[CV] END learning_rate=0.001, max_depth=4, max_features=4, n_estimators=300, subsample=0.5; total time=   0.7s\n",
      "[CV] END learning_rate=0.001, max_depth=4, max_features=4, n_estimators=300, subsample=0.5; total time=   0.7s\n",
      "[CV] END learning_rate=0.001, max_depth=4, max_features=4, n_estimators=300, subsample=0.5; total time=   0.7s\n",
      "[CV] END learning_rate=0.001, max_depth=4, max_features=4, n_estimators=300, subsample=0.5; total time=   0.7s\n",
      "[CV] END learning_rate=0.001, max_depth=4, max_features=4, n_estimators=300, subsample=1; total time=   0.9s\n",
      "[CV] END learning_rate=0.001, max_depth=4, max_features=4, n_estimators=300, subsample=1; total time=   0.9s\n",
      "[CV] END learning_rate=0.001, max_depth=4, max_features=4, n_estimators=300, subsample=1; total time=   0.9s\n",
      "[CV] END learning_rate=0.001, max_depth=4, max_features=4, n_estimators=300, subsample=1; total time=   0.9s\n",
      "[CV] END learning_rate=0.001, max_depth=4, max_features=4, n_estimators=300, subsample=1; total time=   0.9s\n",
      "[CV] END learning_rate=0.001, max_depth=4, max_features=4, n_estimators=500, subsample=0.5; total time=   1.2s\n",
      "[CV] END learning_rate=0.001, max_depth=4, max_features=4, n_estimators=500, subsample=0.5; total time=   1.2s\n",
      "[CV] END learning_rate=0.001, max_depth=4, max_features=4, n_estimators=500, subsample=0.5; total time=   1.2s\n",
      "[CV] END learning_rate=0.001, max_depth=4, max_features=4, n_estimators=500, subsample=0.5; total time=   1.2s\n",
      "[CV] END learning_rate=0.001, max_depth=4, max_features=4, n_estimators=500, subsample=0.5; total time=   1.2s\n",
      "[CV] END learning_rate=0.001, max_depth=4, max_features=4, n_estimators=500, subsample=1; total time=   1.5s\n",
      "[CV] END learning_rate=0.001, max_depth=4, max_features=4, n_estimators=500, subsample=1; total time=   1.5s\n",
      "[CV] END learning_rate=0.001, max_depth=4, max_features=4, n_estimators=500, subsample=1; total time=   1.5s\n",
      "[CV] END learning_rate=0.001, max_depth=4, max_features=4, n_estimators=500, subsample=1; total time=   1.5s\n",
      "[CV] END learning_rate=0.001, max_depth=4, max_features=4, n_estimators=500, subsample=1; total time=   1.5s\n",
      "[CV] END learning_rate=0.001, max_depth=5, max_features=None, n_estimators=100, subsample=0.5; total time=   0.4s\n",
      "[CV] END learning_rate=0.001, max_depth=5, max_features=None, n_estimators=100, subsample=0.5; total time=   0.4s\n",
      "[CV] END learning_rate=0.001, max_depth=5, max_features=None, n_estimators=100, subsample=0.5; total time=   0.4s\n",
      "[CV] END learning_rate=0.001, max_depth=5, max_features=None, n_estimators=100, subsample=0.5; total time=   0.4s\n",
      "[CV] END learning_rate=0.001, max_depth=5, max_features=None, n_estimators=100, subsample=0.5; total time=   0.4s\n",
      "[CV] END learning_rate=0.001, max_depth=5, max_features=None, n_estimators=100, subsample=1; total time=   0.7s\n",
      "[CV] END learning_rate=0.001, max_depth=5, max_features=None, n_estimators=100, subsample=1; total time=   0.6s\n",
      "[CV] END learning_rate=0.001, max_depth=5, max_features=None, n_estimators=100, subsample=1; total time=   0.7s\n",
      "[CV] END learning_rate=0.001, max_depth=5, max_features=None, n_estimators=100, subsample=1; total time=   0.7s\n",
      "[CV] END learning_rate=0.001, max_depth=5, max_features=None, n_estimators=100, subsample=1; total time=   0.7s\n",
      "[CV] END learning_rate=0.001, max_depth=5, max_features=None, n_estimators=200, subsample=0.5; total time=   0.9s\n",
      "[CV] END learning_rate=0.001, max_depth=5, max_features=None, n_estimators=200, subsample=0.5; total time=   0.9s\n",
      "[CV] END learning_rate=0.001, max_depth=5, max_features=None, n_estimators=200, subsample=0.5; total time=   0.9s\n",
      "[CV] END learning_rate=0.001, max_depth=5, max_features=None, n_estimators=200, subsample=0.5; total time=   0.9s\n",
      "[CV] END learning_rate=0.001, max_depth=5, max_features=None, n_estimators=200, subsample=0.5; total time=   0.9s\n",
      "[CV] END learning_rate=0.001, max_depth=5, max_features=None, n_estimators=200, subsample=1; total time=   1.3s\n",
      "[CV] END learning_rate=0.001, max_depth=5, max_features=None, n_estimators=200, subsample=1; total time=   1.3s\n",
      "[CV] END learning_rate=0.001, max_depth=5, max_features=None, n_estimators=200, subsample=1; total time=   1.3s\n",
      "[CV] END learning_rate=0.001, max_depth=5, max_features=None, n_estimators=200, subsample=1; total time=   1.3s\n",
      "[CV] END learning_rate=0.001, max_depth=5, max_features=None, n_estimators=200, subsample=1; total time=   1.3s\n",
      "[CV] END learning_rate=0.001, max_depth=5, max_features=None, n_estimators=300, subsample=0.5; total time=   1.3s\n",
      "[CV] END learning_rate=0.001, max_depth=5, max_features=None, n_estimators=300, subsample=0.5; total time=   1.3s\n",
      "[CV] END learning_rate=0.001, max_depth=5, max_features=None, n_estimators=300, subsample=0.5; total time=   1.3s\n",
      "[CV] END learning_rate=0.001, max_depth=5, max_features=None, n_estimators=300, subsample=0.5; total time=   1.3s\n",
      "[CV] END learning_rate=0.001, max_depth=5, max_features=None, n_estimators=300, subsample=0.5; total time=   1.3s\n",
      "[CV] END learning_rate=0.001, max_depth=5, max_features=None, n_estimators=300, subsample=1; total time=   2.0s\n",
      "[CV] END learning_rate=0.001, max_depth=5, max_features=None, n_estimators=300, subsample=1; total time=   2.0s\n",
      "[CV] END learning_rate=0.001, max_depth=5, max_features=None, n_estimators=300, subsample=1; total time=   2.0s\n",
      "[CV] END learning_rate=0.001, max_depth=5, max_features=None, n_estimators=300, subsample=1; total time=   2.0s\n",
      "[CV] END learning_rate=0.001, max_depth=5, max_features=None, n_estimators=300, subsample=1; total time=   2.0s\n",
      "[CV] END learning_rate=0.001, max_depth=5, max_features=None, n_estimators=500, subsample=0.5; total time=   2.2s\n",
      "[CV] END learning_rate=0.001, max_depth=5, max_features=None, n_estimators=500, subsample=0.5; total time=   2.2s\n",
      "[CV] END learning_rate=0.001, max_depth=5, max_features=None, n_estimators=500, subsample=0.5; total time=   2.2s\n",
      "[CV] END learning_rate=0.001, max_depth=5, max_features=None, n_estimators=500, subsample=0.5; total time=   2.2s\n",
      "[CV] END learning_rate=0.001, max_depth=5, max_features=None, n_estimators=500, subsample=0.5; total time=   2.2s\n",
      "[CV] END learning_rate=0.001, max_depth=5, max_features=None, n_estimators=500, subsample=1; total time=   3.3s\n",
      "[CV] END learning_rate=0.001, max_depth=5, max_features=None, n_estimators=500, subsample=1; total time=   3.3s\n",
      "[CV] END learning_rate=0.001, max_depth=5, max_features=None, n_estimators=500, subsample=1; total time=   3.4s\n",
      "[CV] END learning_rate=0.001, max_depth=5, max_features=None, n_estimators=500, subsample=1; total time=   3.3s\n",
      "[CV] END learning_rate=0.001, max_depth=5, max_features=None, n_estimators=500, subsample=1; total time=   3.3s\n",
      "[CV] END learning_rate=0.001, max_depth=5, max_features=2, n_estimators=100, subsample=0.5; total time=   0.2s\n",
      "[CV] END learning_rate=0.001, max_depth=5, max_features=2, n_estimators=100, subsample=0.5; total time=   0.2s\n",
      "[CV] END learning_rate=0.001, max_depth=5, max_features=2, n_estimators=100, subsample=0.5; total time=   0.2s\n",
      "[CV] END learning_rate=0.001, max_depth=5, max_features=2, n_estimators=100, subsample=0.5; total time=   0.2s\n",
      "[CV] END learning_rate=0.001, max_depth=5, max_features=2, n_estimators=100, subsample=0.5; total time=   0.2s\n",
      "[CV] END learning_rate=0.001, max_depth=5, max_features=2, n_estimators=100, subsample=1; total time=   0.3s\n",
      "[CV] END learning_rate=0.001, max_depth=5, max_features=2, n_estimators=100, subsample=1; total time=   0.3s\n",
      "[CV] END learning_rate=0.001, max_depth=5, max_features=2, n_estimators=100, subsample=1; total time=   0.3s\n",
      "[CV] END learning_rate=0.001, max_depth=5, max_features=2, n_estimators=100, subsample=1; total time=   0.3s\n",
      "[CV] END learning_rate=0.001, max_depth=5, max_features=2, n_estimators=100, subsample=1; total time=   0.3s\n",
      "[CV] END learning_rate=0.001, max_depth=5, max_features=2, n_estimators=200, subsample=0.5; total time=   0.5s\n"
     ]
    },
    {
     "name": "stdout",
     "output_type": "stream",
     "text": [
      "[CV] END learning_rate=0.001, max_depth=5, max_features=2, n_estimators=200, subsample=0.5; total time=   0.5s\n",
      "[CV] END learning_rate=0.001, max_depth=5, max_features=2, n_estimators=200, subsample=0.5; total time=   0.5s\n",
      "[CV] END learning_rate=0.001, max_depth=5, max_features=2, n_estimators=200, subsample=0.5; total time=   0.5s\n",
      "[CV] END learning_rate=0.001, max_depth=5, max_features=2, n_estimators=200, subsample=0.5; total time=   0.5s\n",
      "[CV] END learning_rate=0.001, max_depth=5, max_features=2, n_estimators=200, subsample=1; total time=   0.5s\n",
      "[CV] END learning_rate=0.001, max_depth=5, max_features=2, n_estimators=200, subsample=1; total time=   0.5s\n",
      "[CV] END learning_rate=0.001, max_depth=5, max_features=2, n_estimators=200, subsample=1; total time=   0.5s\n",
      "[CV] END learning_rate=0.001, max_depth=5, max_features=2, n_estimators=200, subsample=1; total time=   0.5s\n",
      "[CV] END learning_rate=0.001, max_depth=5, max_features=2, n_estimators=200, subsample=1; total time=   0.5s\n",
      "[CV] END learning_rate=0.001, max_depth=5, max_features=2, n_estimators=300, subsample=0.5; total time=   0.7s\n",
      "[CV] END learning_rate=0.001, max_depth=5, max_features=2, n_estimators=300, subsample=0.5; total time=   0.7s\n",
      "[CV] END learning_rate=0.001, max_depth=5, max_features=2, n_estimators=300, subsample=0.5; total time=   0.7s\n",
      "[CV] END learning_rate=0.001, max_depth=5, max_features=2, n_estimators=300, subsample=0.5; total time=   0.7s\n",
      "[CV] END learning_rate=0.001, max_depth=5, max_features=2, n_estimators=300, subsample=0.5; total time=   0.7s\n",
      "[CV] END learning_rate=0.001, max_depth=5, max_features=2, n_estimators=300, subsample=1; total time=   0.8s\n",
      "[CV] END learning_rate=0.001, max_depth=5, max_features=2, n_estimators=300, subsample=1; total time=   0.8s\n",
      "[CV] END learning_rate=0.001, max_depth=5, max_features=2, n_estimators=300, subsample=1; total time=   0.8s\n",
      "[CV] END learning_rate=0.001, max_depth=5, max_features=2, n_estimators=300, subsample=1; total time=   0.8s\n",
      "[CV] END learning_rate=0.001, max_depth=5, max_features=2, n_estimators=300, subsample=1; total time=   0.8s\n",
      "[CV] END learning_rate=0.001, max_depth=5, max_features=2, n_estimators=500, subsample=0.5; total time=   1.2s\n",
      "[CV] END learning_rate=0.001, max_depth=5, max_features=2, n_estimators=500, subsample=0.5; total time=   1.2s\n",
      "[CV] END learning_rate=0.001, max_depth=5, max_features=2, n_estimators=500, subsample=0.5; total time=   1.2s\n",
      "[CV] END learning_rate=0.001, max_depth=5, max_features=2, n_estimators=500, subsample=0.5; total time=   1.2s\n",
      "[CV] END learning_rate=0.001, max_depth=5, max_features=2, n_estimators=500, subsample=0.5; total time=   1.2s\n",
      "[CV] END learning_rate=0.001, max_depth=5, max_features=2, n_estimators=500, subsample=1; total time=   1.3s\n",
      "[CV] END learning_rate=0.001, max_depth=5, max_features=2, n_estimators=500, subsample=1; total time=   1.3s\n",
      "[CV] END learning_rate=0.001, max_depth=5, max_features=2, n_estimators=500, subsample=1; total time=   1.3s\n",
      "[CV] END learning_rate=0.001, max_depth=5, max_features=2, n_estimators=500, subsample=1; total time=   1.3s\n",
      "[CV] END learning_rate=0.001, max_depth=5, max_features=2, n_estimators=500, subsample=1; total time=   1.3s\n",
      "[CV] END learning_rate=0.001, max_depth=5, max_features=3, n_estimators=100, subsample=0.5; total time=   0.3s\n",
      "[CV] END learning_rate=0.001, max_depth=5, max_features=3, n_estimators=100, subsample=0.5; total time=   0.3s\n",
      "[CV] END learning_rate=0.001, max_depth=5, max_features=3, n_estimators=100, subsample=0.5; total time=   0.3s\n",
      "[CV] END learning_rate=0.001, max_depth=5, max_features=3, n_estimators=100, subsample=0.5; total time=   0.3s\n",
      "[CV] END learning_rate=0.001, max_depth=5, max_features=3, n_estimators=100, subsample=0.5; total time=   0.3s\n",
      "[CV] END learning_rate=0.001, max_depth=5, max_features=3, n_estimators=100, subsample=1; total time=   0.3s\n",
      "[CV] END learning_rate=0.001, max_depth=5, max_features=3, n_estimators=100, subsample=1; total time=   0.3s\n",
      "[CV] END learning_rate=0.001, max_depth=5, max_features=3, n_estimators=100, subsample=1; total time=   0.3s\n",
      "[CV] END learning_rate=0.001, max_depth=5, max_features=3, n_estimators=100, subsample=1; total time=   0.3s\n",
      "[CV] END learning_rate=0.001, max_depth=5, max_features=3, n_estimators=100, subsample=1; total time=   0.3s\n",
      "[CV] END learning_rate=0.001, max_depth=5, max_features=3, n_estimators=200, subsample=0.5; total time=   0.5s\n",
      "[CV] END learning_rate=0.001, max_depth=5, max_features=3, n_estimators=200, subsample=0.5; total time=   0.5s\n",
      "[CV] END learning_rate=0.001, max_depth=5, max_features=3, n_estimators=200, subsample=0.5; total time=   0.5s\n",
      "[CV] END learning_rate=0.001, max_depth=5, max_features=3, n_estimators=200, subsample=0.5; total time=   0.5s\n",
      "[CV] END learning_rate=0.001, max_depth=5, max_features=3, n_estimators=200, subsample=0.5; total time=   0.5s\n",
      "[CV] END learning_rate=0.001, max_depth=5, max_features=3, n_estimators=200, subsample=1; total time=   0.6s\n",
      "[CV] END learning_rate=0.001, max_depth=5, max_features=3, n_estimators=200, subsample=1; total time=   0.6s\n",
      "[CV] END learning_rate=0.001, max_depth=5, max_features=3, n_estimators=200, subsample=1; total time=   0.6s\n",
      "[CV] END learning_rate=0.001, max_depth=5, max_features=3, n_estimators=200, subsample=1; total time=   0.6s\n",
      "[CV] END learning_rate=0.001, max_depth=5, max_features=3, n_estimators=200, subsample=1; total time=   0.6s\n",
      "[CV] END learning_rate=0.001, max_depth=5, max_features=3, n_estimators=300, subsample=0.5; total time=   0.8s\n",
      "[CV] END learning_rate=0.001, max_depth=5, max_features=3, n_estimators=300, subsample=0.5; total time=   0.8s\n",
      "[CV] END learning_rate=0.001, max_depth=5, max_features=3, n_estimators=300, subsample=0.5; total time=   0.8s\n",
      "[CV] END learning_rate=0.001, max_depth=5, max_features=3, n_estimators=300, subsample=0.5; total time=   0.8s\n",
      "[CV] END learning_rate=0.001, max_depth=5, max_features=3, n_estimators=300, subsample=0.5; total time=   0.8s\n",
      "[CV] END learning_rate=0.001, max_depth=5, max_features=3, n_estimators=300, subsample=1; total time=   1.0s\n",
      "[CV] END learning_rate=0.001, max_depth=5, max_features=3, n_estimators=300, subsample=1; total time=   1.0s\n",
      "[CV] END learning_rate=0.001, max_depth=5, max_features=3, n_estimators=300, subsample=1; total time=   1.0s\n",
      "[CV] END learning_rate=0.001, max_depth=5, max_features=3, n_estimators=300, subsample=1; total time=   1.0s\n",
      "[CV] END learning_rate=0.001, max_depth=5, max_features=3, n_estimators=300, subsample=1; total time=   1.0s\n",
      "[CV] END learning_rate=0.001, max_depth=5, max_features=3, n_estimators=500, subsample=0.5; total time=   1.3s\n",
      "[CV] END learning_rate=0.001, max_depth=5, max_features=3, n_estimators=500, subsample=0.5; total time=   1.3s\n",
      "[CV] END learning_rate=0.001, max_depth=5, max_features=3, n_estimators=500, subsample=0.5; total time=   1.3s\n",
      "[CV] END learning_rate=0.001, max_depth=5, max_features=3, n_estimators=500, subsample=0.5; total time=   1.3s\n",
      "[CV] END learning_rate=0.001, max_depth=5, max_features=3, n_estimators=500, subsample=0.5; total time=   1.3s\n",
      "[CV] END learning_rate=0.001, max_depth=5, max_features=3, n_estimators=500, subsample=1; total time=   1.6s\n",
      "[CV] END learning_rate=0.001, max_depth=5, max_features=3, n_estimators=500, subsample=1; total time=   1.6s\n",
      "[CV] END learning_rate=0.001, max_depth=5, max_features=3, n_estimators=500, subsample=1; total time=   1.6s\n",
      "[CV] END learning_rate=0.001, max_depth=5, max_features=3, n_estimators=500, subsample=1; total time=   1.6s\n",
      "[CV] END learning_rate=0.001, max_depth=5, max_features=3, n_estimators=500, subsample=1; total time=   1.6s\n",
      "[CV] END learning_rate=0.001, max_depth=5, max_features=4, n_estimators=100, subsample=0.5; total time=   0.3s\n",
      "[CV] END learning_rate=0.001, max_depth=5, max_features=4, n_estimators=100, subsample=0.5; total time=   0.3s\n",
      "[CV] END learning_rate=0.001, max_depth=5, max_features=4, n_estimators=100, subsample=0.5; total time=   0.3s\n",
      "[CV] END learning_rate=0.001, max_depth=5, max_features=4, n_estimators=100, subsample=0.5; total time=   0.3s\n",
      "[CV] END learning_rate=0.001, max_depth=5, max_features=4, n_estimators=100, subsample=0.5; total time=   0.3s\n",
      "[CV] END learning_rate=0.001, max_depth=5, max_features=4, n_estimators=100, subsample=1; total time=   0.4s\n"
     ]
    },
    {
     "name": "stdout",
     "output_type": "stream",
     "text": [
      "[CV] END learning_rate=0.001, max_depth=5, max_features=4, n_estimators=100, subsample=1; total time=   0.4s\n",
      "[CV] END learning_rate=0.001, max_depth=5, max_features=4, n_estimators=100, subsample=1; total time=   0.4s\n",
      "[CV] END learning_rate=0.001, max_depth=5, max_features=4, n_estimators=100, subsample=1; total time=   0.4s\n",
      "[CV] END learning_rate=0.001, max_depth=5, max_features=4, n_estimators=100, subsample=1; total time=   0.4s\n",
      "[CV] END learning_rate=0.001, max_depth=5, max_features=4, n_estimators=200, subsample=0.5; total time=   0.6s\n",
      "[CV] END learning_rate=0.001, max_depth=5, max_features=4, n_estimators=200, subsample=0.5; total time=   0.6s\n",
      "[CV] END learning_rate=0.001, max_depth=5, max_features=4, n_estimators=200, subsample=0.5; total time=   0.6s\n",
      "[CV] END learning_rate=0.001, max_depth=5, max_features=4, n_estimators=200, subsample=0.5; total time=   0.6s\n",
      "[CV] END learning_rate=0.001, max_depth=5, max_features=4, n_estimators=200, subsample=0.5; total time=   0.6s\n",
      "[CV] END learning_rate=0.001, max_depth=5, max_features=4, n_estimators=200, subsample=1; total time=   0.7s\n",
      "[CV] END learning_rate=0.001, max_depth=5, max_features=4, n_estimators=200, subsample=1; total time=   0.7s\n",
      "[CV] END learning_rate=0.001, max_depth=5, max_features=4, n_estimators=200, subsample=1; total time=   0.7s\n",
      "[CV] END learning_rate=0.001, max_depth=5, max_features=4, n_estimators=200, subsample=1; total time=   0.7s\n",
      "[CV] END learning_rate=0.001, max_depth=5, max_features=4, n_estimators=200, subsample=1; total time=   0.7s\n",
      "[CV] END learning_rate=0.001, max_depth=5, max_features=4, n_estimators=300, subsample=0.5; total time=   0.9s\n",
      "[CV] END learning_rate=0.001, max_depth=5, max_features=4, n_estimators=300, subsample=0.5; total time=   0.9s\n",
      "[CV] END learning_rate=0.001, max_depth=5, max_features=4, n_estimators=300, subsample=0.5; total time=   0.9s\n",
      "[CV] END learning_rate=0.001, max_depth=5, max_features=4, n_estimators=300, subsample=0.5; total time=   0.9s\n",
      "[CV] END learning_rate=0.001, max_depth=5, max_features=4, n_estimators=300, subsample=0.5; total time=   0.9s\n",
      "[CV] END learning_rate=0.001, max_depth=5, max_features=4, n_estimators=300, subsample=1; total time=   1.1s\n",
      "[CV] END learning_rate=0.001, max_depth=5, max_features=4, n_estimators=300, subsample=1; total time=   1.1s\n",
      "[CV] END learning_rate=0.001, max_depth=5, max_features=4, n_estimators=300, subsample=1; total time=   1.1s\n",
      "[CV] END learning_rate=0.001, max_depth=5, max_features=4, n_estimators=300, subsample=1; total time=   1.1s\n",
      "[CV] END learning_rate=0.001, max_depth=5, max_features=4, n_estimators=300, subsample=1; total time=   1.2s\n",
      "[CV] END learning_rate=0.001, max_depth=5, max_features=4, n_estimators=500, subsample=0.5; total time=   1.5s\n",
      "[CV] END learning_rate=0.001, max_depth=5, max_features=4, n_estimators=500, subsample=0.5; total time=   1.5s\n",
      "[CV] END learning_rate=0.001, max_depth=5, max_features=4, n_estimators=500, subsample=0.5; total time=   1.5s\n",
      "[CV] END learning_rate=0.001, max_depth=5, max_features=4, n_estimators=500, subsample=0.5; total time=   1.5s\n",
      "[CV] END learning_rate=0.001, max_depth=5, max_features=4, n_estimators=500, subsample=0.5; total time=   1.5s\n",
      "[CV] END learning_rate=0.001, max_depth=5, max_features=4, n_estimators=500, subsample=1; total time=   1.9s\n",
      "[CV] END learning_rate=0.001, max_depth=5, max_features=4, n_estimators=500, subsample=1; total time=   1.9s\n",
      "[CV] END learning_rate=0.001, max_depth=5, max_features=4, n_estimators=500, subsample=1; total time=   1.9s\n",
      "[CV] END learning_rate=0.001, max_depth=5, max_features=4, n_estimators=500, subsample=1; total time=   1.9s\n",
      "[CV] END learning_rate=0.001, max_depth=5, max_features=4, n_estimators=500, subsample=1; total time=   1.9s\n",
      "[CV] END learning_rate=0.001, max_depth=6, max_features=None, n_estimators=100, subsample=0.5; total time=   0.5s\n",
      "[CV] END learning_rate=0.001, max_depth=6, max_features=None, n_estimators=100, subsample=0.5; total time=   0.5s\n",
      "[CV] END learning_rate=0.001, max_depth=6, max_features=None, n_estimators=100, subsample=0.5; total time=   0.5s\n",
      "[CV] END learning_rate=0.001, max_depth=6, max_features=None, n_estimators=100, subsample=0.5; total time=   0.5s\n",
      "[CV] END learning_rate=0.001, max_depth=6, max_features=None, n_estimators=100, subsample=0.5; total time=   0.5s\n",
      "[CV] END learning_rate=0.001, max_depth=6, max_features=None, n_estimators=100, subsample=1; total time=   0.8s\n",
      "[CV] END learning_rate=0.001, max_depth=6, max_features=None, n_estimators=100, subsample=1; total time=   0.8s\n",
      "[CV] END learning_rate=0.001, max_depth=6, max_features=None, n_estimators=100, subsample=1; total time=   0.8s\n",
      "[CV] END learning_rate=0.001, max_depth=6, max_features=None, n_estimators=100, subsample=1; total time=   0.8s\n",
      "[CV] END learning_rate=0.001, max_depth=6, max_features=None, n_estimators=100, subsample=1; total time=   0.8s\n",
      "[CV] END learning_rate=0.001, max_depth=6, max_features=None, n_estimators=200, subsample=0.5; total time=   1.1s\n",
      "[CV] END learning_rate=0.001, max_depth=6, max_features=None, n_estimators=200, subsample=0.5; total time=   1.0s\n",
      "[CV] END learning_rate=0.001, max_depth=6, max_features=None, n_estimators=200, subsample=0.5; total time=   1.0s\n",
      "[CV] END learning_rate=0.001, max_depth=6, max_features=None, n_estimators=200, subsample=0.5; total time=   1.0s\n",
      "[CV] END learning_rate=0.001, max_depth=6, max_features=None, n_estimators=200, subsample=0.5; total time=   1.0s\n",
      "[CV] END learning_rate=0.001, max_depth=6, max_features=None, n_estimators=200, subsample=1; total time=   1.6s\n",
      "[CV] END learning_rate=0.001, max_depth=6, max_features=None, n_estimators=200, subsample=1; total time=   1.5s\n",
      "[CV] END learning_rate=0.001, max_depth=6, max_features=None, n_estimators=200, subsample=1; total time=   1.6s\n",
      "[CV] END learning_rate=0.001, max_depth=6, max_features=None, n_estimators=200, subsample=1; total time=   1.6s\n",
      "[CV] END learning_rate=0.001, max_depth=6, max_features=None, n_estimators=200, subsample=1; total time=   1.6s\n",
      "[CV] END learning_rate=0.001, max_depth=6, max_features=None, n_estimators=300, subsample=0.5; total time=   1.6s\n",
      "[CV] END learning_rate=0.001, max_depth=6, max_features=None, n_estimators=300, subsample=0.5; total time=   1.5s\n",
      "[CV] END learning_rate=0.001, max_depth=6, max_features=None, n_estimators=300, subsample=0.5; total time=   1.6s\n",
      "[CV] END learning_rate=0.001, max_depth=6, max_features=None, n_estimators=300, subsample=0.5; total time=   1.6s\n",
      "[CV] END learning_rate=0.001, max_depth=6, max_features=None, n_estimators=300, subsample=0.5; total time=   1.6s\n",
      "[CV] END learning_rate=0.001, max_depth=6, max_features=None, n_estimators=300, subsample=1; total time=   2.4s\n",
      "[CV] END learning_rate=0.001, max_depth=6, max_features=None, n_estimators=300, subsample=1; total time=   2.3s\n",
      "[CV] END learning_rate=0.001, max_depth=6, max_features=None, n_estimators=300, subsample=1; total time=   2.4s\n",
      "[CV] END learning_rate=0.001, max_depth=6, max_features=None, n_estimators=300, subsample=1; total time=   2.4s\n",
      "[CV] END learning_rate=0.001, max_depth=6, max_features=None, n_estimators=300, subsample=1; total time=   2.4s\n",
      "[CV] END learning_rate=0.001, max_depth=6, max_features=None, n_estimators=500, subsample=0.5; total time=   2.7s\n",
      "[CV] END learning_rate=0.001, max_depth=6, max_features=None, n_estimators=500, subsample=0.5; total time=   2.6s\n",
      "[CV] END learning_rate=0.001, max_depth=6, max_features=None, n_estimators=500, subsample=0.5; total time=   2.6s\n",
      "[CV] END learning_rate=0.001, max_depth=6, max_features=None, n_estimators=500, subsample=0.5; total time=   2.7s\n",
      "[CV] END learning_rate=0.001, max_depth=6, max_features=None, n_estimators=500, subsample=0.5; total time=   2.6s\n",
      "[CV] END learning_rate=0.001, max_depth=6, max_features=None, n_estimators=500, subsample=1; total time=   4.0s\n",
      "[CV] END learning_rate=0.001, max_depth=6, max_features=None, n_estimators=500, subsample=1; total time=   3.9s\n",
      "[CV] END learning_rate=0.001, max_depth=6, max_features=None, n_estimators=500, subsample=1; total time=   4.0s\n",
      "[CV] END learning_rate=0.001, max_depth=6, max_features=None, n_estimators=500, subsample=1; total time=   4.0s\n",
      "[CV] END learning_rate=0.001, max_depth=6, max_features=None, n_estimators=500, subsample=1; total time=   4.0s\n"
     ]
    },
    {
     "name": "stdout",
     "output_type": "stream",
     "text": [
      "[CV] END learning_rate=0.001, max_depth=6, max_features=2, n_estimators=100, subsample=0.5; total time=   0.3s\n",
      "[CV] END learning_rate=0.001, max_depth=6, max_features=2, n_estimators=100, subsample=0.5; total time=   0.3s\n",
      "[CV] END learning_rate=0.001, max_depth=6, max_features=2, n_estimators=100, subsample=0.5; total time=   0.3s\n",
      "[CV] END learning_rate=0.001, max_depth=6, max_features=2, n_estimators=100, subsample=0.5; total time=   0.3s\n",
      "[CV] END learning_rate=0.001, max_depth=6, max_features=2, n_estimators=100, subsample=0.5; total time=   0.3s\n",
      "[CV] END learning_rate=0.001, max_depth=6, max_features=2, n_estimators=100, subsample=1; total time=   0.3s\n",
      "[CV] END learning_rate=0.001, max_depth=6, max_features=2, n_estimators=100, subsample=1; total time=   0.3s\n",
      "[CV] END learning_rate=0.001, max_depth=6, max_features=2, n_estimators=100, subsample=1; total time=   0.3s\n",
      "[CV] END learning_rate=0.001, max_depth=6, max_features=2, n_estimators=100, subsample=1; total time=   0.3s\n",
      "[CV] END learning_rate=0.001, max_depth=6, max_features=2, n_estimators=100, subsample=1; total time=   0.3s\n",
      "[CV] END learning_rate=0.001, max_depth=6, max_features=2, n_estimators=200, subsample=0.5; total time=   0.6s\n",
      "[CV] END learning_rate=0.001, max_depth=6, max_features=2, n_estimators=200, subsample=0.5; total time=   0.6s\n",
      "[CV] END learning_rate=0.001, max_depth=6, max_features=2, n_estimators=200, subsample=0.5; total time=   0.6s\n",
      "[CV] END learning_rate=0.001, max_depth=6, max_features=2, n_estimators=200, subsample=0.5; total time=   0.6s\n",
      "[CV] END learning_rate=0.001, max_depth=6, max_features=2, n_estimators=200, subsample=0.5; total time=   0.6s\n",
      "[CV] END learning_rate=0.001, max_depth=6, max_features=2, n_estimators=200, subsample=1; total time=   0.7s\n",
      "[CV] END learning_rate=0.001, max_depth=6, max_features=2, n_estimators=200, subsample=1; total time=   0.7s\n",
      "[CV] END learning_rate=0.001, max_depth=6, max_features=2, n_estimators=200, subsample=1; total time=   0.7s\n",
      "[CV] END learning_rate=0.001, max_depth=6, max_features=2, n_estimators=200, subsample=1; total time=   0.7s\n",
      "[CV] END learning_rate=0.001, max_depth=6, max_features=2, n_estimators=200, subsample=1; total time=   0.7s\n",
      "[CV] END learning_rate=0.001, max_depth=6, max_features=2, n_estimators=300, subsample=0.5; total time=   0.9s\n",
      "[CV] END learning_rate=0.001, max_depth=6, max_features=2, n_estimators=300, subsample=0.5; total time=   0.9s\n",
      "[CV] END learning_rate=0.001, max_depth=6, max_features=2, n_estimators=300, subsample=0.5; total time=   0.9s\n",
      "[CV] END learning_rate=0.001, max_depth=6, max_features=2, n_estimators=300, subsample=0.5; total time=   0.9s\n",
      "[CV] END learning_rate=0.001, max_depth=6, max_features=2, n_estimators=300, subsample=0.5; total time=   0.9s\n",
      "[CV] END learning_rate=0.001, max_depth=6, max_features=2, n_estimators=300, subsample=1; total time=   1.0s\n",
      "[CV] END learning_rate=0.001, max_depth=6, max_features=2, n_estimators=300, subsample=1; total time=   1.0s\n",
      "[CV] END learning_rate=0.001, max_depth=6, max_features=2, n_estimators=300, subsample=1; total time=   1.0s\n",
      "[CV] END learning_rate=0.001, max_depth=6, max_features=2, n_estimators=300, subsample=1; total time=   1.0s\n",
      "[CV] END learning_rate=0.001, max_depth=6, max_features=2, n_estimators=300, subsample=1; total time=   1.0s\n",
      "[CV] END learning_rate=0.001, max_depth=6, max_features=2, n_estimators=500, subsample=0.5; total time=   1.5s\n",
      "[CV] END learning_rate=0.001, max_depth=6, max_features=2, n_estimators=500, subsample=0.5; total time=   1.5s\n",
      "[CV] END learning_rate=0.001, max_depth=6, max_features=2, n_estimators=500, subsample=0.5; total time=   1.5s\n",
      "[CV] END learning_rate=0.001, max_depth=6, max_features=2, n_estimators=500, subsample=0.5; total time=   1.5s\n",
      "[CV] END learning_rate=0.001, max_depth=6, max_features=2, n_estimators=500, subsample=0.5; total time=   1.5s\n",
      "[CV] END learning_rate=0.001, max_depth=6, max_features=2, n_estimators=500, subsample=1; total time=   1.7s\n",
      "[CV] END learning_rate=0.001, max_depth=6, max_features=2, n_estimators=500, subsample=1; total time=   1.7s\n",
      "[CV] END learning_rate=0.001, max_depth=6, max_features=2, n_estimators=500, subsample=1; total time=   1.7s\n",
      "[CV] END learning_rate=0.001, max_depth=6, max_features=2, n_estimators=500, subsample=1; total time=   1.7s\n",
      "[CV] END learning_rate=0.001, max_depth=6, max_features=2, n_estimators=500, subsample=1; total time=   1.7s\n",
      "[CV] END learning_rate=0.001, max_depth=6, max_features=3, n_estimators=100, subsample=0.5; total time=   0.3s\n",
      "[CV] END learning_rate=0.001, max_depth=6, max_features=3, n_estimators=100, subsample=0.5; total time=   0.3s\n",
      "[CV] END learning_rate=0.001, max_depth=6, max_features=3, n_estimators=100, subsample=0.5; total time=   0.3s\n",
      "[CV] END learning_rate=0.001, max_depth=6, max_features=3, n_estimators=100, subsample=0.5; total time=   0.3s\n",
      "[CV] END learning_rate=0.001, max_depth=6, max_features=3, n_estimators=100, subsample=0.5; total time=   0.3s\n",
      "[CV] END learning_rate=0.001, max_depth=6, max_features=3, n_estimators=100, subsample=1; total time=   0.4s\n",
      "[CV] END learning_rate=0.001, max_depth=6, max_features=3, n_estimators=100, subsample=1; total time=   0.4s\n",
      "[CV] END learning_rate=0.001, max_depth=6, max_features=3, n_estimators=100, subsample=1; total time=   0.4s\n",
      "[CV] END learning_rate=0.001, max_depth=6, max_features=3, n_estimators=100, subsample=1; total time=   0.4s\n",
      "[CV] END learning_rate=0.001, max_depth=6, max_features=3, n_estimators=100, subsample=1; total time=   0.4s\n",
      "[CV] END learning_rate=0.001, max_depth=6, max_features=3, n_estimators=200, subsample=0.5; total time=   0.7s\n",
      "[CV] END learning_rate=0.001, max_depth=6, max_features=3, n_estimators=200, subsample=0.5; total time=   0.7s\n",
      "[CV] END learning_rate=0.001, max_depth=6, max_features=3, n_estimators=200, subsample=0.5; total time=   0.7s\n",
      "[CV] END learning_rate=0.001, max_depth=6, max_features=3, n_estimators=200, subsample=0.5; total time=   0.7s\n",
      "[CV] END learning_rate=0.001, max_depth=6, max_features=3, n_estimators=200, subsample=0.5; total time=   0.7s\n",
      "[CV] END learning_rate=0.001, max_depth=6, max_features=3, n_estimators=200, subsample=1; total time=   0.8s\n",
      "[CV] END learning_rate=0.001, max_depth=6, max_features=3, n_estimators=200, subsample=1; total time=   0.8s\n",
      "[CV] END learning_rate=0.001, max_depth=6, max_features=3, n_estimators=200, subsample=1; total time=   0.8s\n",
      "[CV] END learning_rate=0.001, max_depth=6, max_features=3, n_estimators=200, subsample=1; total time=   0.8s\n",
      "[CV] END learning_rate=0.001, max_depth=6, max_features=3, n_estimators=200, subsample=1; total time=   0.8s\n",
      "[CV] END learning_rate=0.001, max_depth=6, max_features=3, n_estimators=300, subsample=0.5; total time=   1.0s\n",
      "[CV] END learning_rate=0.001, max_depth=6, max_features=3, n_estimators=300, subsample=0.5; total time=   1.0s\n",
      "[CV] END learning_rate=0.001, max_depth=6, max_features=3, n_estimators=300, subsample=0.5; total time=   1.0s\n",
      "[CV] END learning_rate=0.001, max_depth=6, max_features=3, n_estimators=300, subsample=0.5; total time=   1.0s\n",
      "[CV] END learning_rate=0.001, max_depth=6, max_features=3, n_estimators=300, subsample=0.5; total time=   1.0s\n",
      "[CV] END learning_rate=0.001, max_depth=6, max_features=3, n_estimators=300, subsample=1; total time=   1.2s\n",
      "[CV] END learning_rate=0.001, max_depth=6, max_features=3, n_estimators=300, subsample=1; total time=   1.2s\n",
      "[CV] END learning_rate=0.001, max_depth=6, max_features=3, n_estimators=300, subsample=1; total time=   1.2s\n",
      "[CV] END learning_rate=0.001, max_depth=6, max_features=3, n_estimators=300, subsample=1; total time=   1.2s\n",
      "[CV] END learning_rate=0.001, max_depth=6, max_features=3, n_estimators=300, subsample=1; total time=   1.2s\n",
      "[CV] END learning_rate=0.001, max_depth=6, max_features=3, n_estimators=500, subsample=0.5; total time=   1.7s\n",
      "[CV] END learning_rate=0.001, max_depth=6, max_features=3, n_estimators=500, subsample=0.5; total time=   1.7s\n",
      "[CV] END learning_rate=0.001, max_depth=6, max_features=3, n_estimators=500, subsample=0.5; total time=   1.7s\n",
      "[CV] END learning_rate=0.001, max_depth=6, max_features=3, n_estimators=500, subsample=0.5; total time=   1.7s\n",
      "[CV] END learning_rate=0.001, max_depth=6, max_features=3, n_estimators=500, subsample=0.5; total time=   1.7s\n"
     ]
    },
    {
     "name": "stdout",
     "output_type": "stream",
     "text": [
      "[CV] END learning_rate=0.001, max_depth=6, max_features=3, n_estimators=500, subsample=1; total time=   2.1s\n",
      "[CV] END learning_rate=0.001, max_depth=6, max_features=3, n_estimators=500, subsample=1; total time=   2.1s\n",
      "[CV] END learning_rate=0.001, max_depth=6, max_features=3, n_estimators=500, subsample=1; total time=   2.1s\n",
      "[CV] END learning_rate=0.001, max_depth=6, max_features=3, n_estimators=500, subsample=1; total time=   2.1s\n",
      "[CV] END learning_rate=0.001, max_depth=6, max_features=3, n_estimators=500, subsample=1; total time=   2.1s\n",
      "[CV] END learning_rate=0.001, max_depth=6, max_features=4, n_estimators=100, subsample=0.5; total time=   0.4s\n",
      "[CV] END learning_rate=0.001, max_depth=6, max_features=4, n_estimators=100, subsample=0.5; total time=   0.4s\n",
      "[CV] END learning_rate=0.001, max_depth=6, max_features=4, n_estimators=100, subsample=0.5; total time=   0.4s\n",
      "[CV] END learning_rate=0.001, max_depth=6, max_features=4, n_estimators=100, subsample=0.5; total time=   0.4s\n",
      "[CV] END learning_rate=0.001, max_depth=6, max_features=4, n_estimators=100, subsample=0.5; total time=   0.4s\n",
      "[CV] END learning_rate=0.001, max_depth=6, max_features=4, n_estimators=100, subsample=1; total time=   0.5s\n",
      "[CV] END learning_rate=0.001, max_depth=6, max_features=4, n_estimators=100, subsample=1; total time=   0.5s\n",
      "[CV] END learning_rate=0.001, max_depth=6, max_features=4, n_estimators=100, subsample=1; total time=   0.5s\n",
      "[CV] END learning_rate=0.001, max_depth=6, max_features=4, n_estimators=100, subsample=1; total time=   0.5s\n",
      "[CV] END learning_rate=0.001, max_depth=6, max_features=4, n_estimators=100, subsample=1; total time=   0.5s\n",
      "[CV] END learning_rate=0.001, max_depth=6, max_features=4, n_estimators=200, subsample=0.5; total time=   0.7s\n",
      "[CV] END learning_rate=0.001, max_depth=6, max_features=4, n_estimators=200, subsample=0.5; total time=   0.7s\n",
      "[CV] END learning_rate=0.001, max_depth=6, max_features=4, n_estimators=200, subsample=0.5; total time=   0.7s\n",
      "[CV] END learning_rate=0.001, max_depth=6, max_features=4, n_estimators=200, subsample=0.5; total time=   0.7s\n",
      "[CV] END learning_rate=0.001, max_depth=6, max_features=4, n_estimators=200, subsample=0.5; total time=   0.7s\n",
      "[CV] END learning_rate=0.001, max_depth=6, max_features=4, n_estimators=200, subsample=1; total time=   1.0s\n",
      "[CV] END learning_rate=0.001, max_depth=6, max_features=4, n_estimators=200, subsample=1; total time=   1.0s\n",
      "[CV] END learning_rate=0.001, max_depth=6, max_features=4, n_estimators=200, subsample=1; total time=   1.0s\n",
      "[CV] END learning_rate=0.001, max_depth=6, max_features=4, n_estimators=200, subsample=1; total time=   1.0s\n",
      "[CV] END learning_rate=0.001, max_depth=6, max_features=4, n_estimators=200, subsample=1; total time=   1.0s\n",
      "[CV] END learning_rate=0.001, max_depth=6, max_features=4, n_estimators=300, subsample=0.5; total time=   1.1s\n",
      "[CV] END learning_rate=0.001, max_depth=6, max_features=4, n_estimators=300, subsample=0.5; total time=   1.1s\n",
      "[CV] END learning_rate=0.001, max_depth=6, max_features=4, n_estimators=300, subsample=0.5; total time=   1.1s\n",
      "[CV] END learning_rate=0.001, max_depth=6, max_features=4, n_estimators=300, subsample=0.5; total time=   1.1s\n",
      "[CV] END learning_rate=0.001, max_depth=6, max_features=4, n_estimators=300, subsample=0.5; total time=   1.1s\n",
      "[CV] END learning_rate=0.001, max_depth=6, max_features=4, n_estimators=300, subsample=1; total time=   1.5s\n",
      "[CV] END learning_rate=0.001, max_depth=6, max_features=4, n_estimators=300, subsample=1; total time=   1.4s\n",
      "[CV] END learning_rate=0.001, max_depth=6, max_features=4, n_estimators=300, subsample=1; total time=   1.4s\n",
      "[CV] END learning_rate=0.001, max_depth=6, max_features=4, n_estimators=300, subsample=1; total time=   1.4s\n",
      "[CV] END learning_rate=0.001, max_depth=6, max_features=4, n_estimators=300, subsample=1; total time=   1.4s\n",
      "[CV] END learning_rate=0.001, max_depth=6, max_features=4, n_estimators=500, subsample=0.5; total time=   1.9s\n",
      "[CV] END learning_rate=0.001, max_depth=6, max_features=4, n_estimators=500, subsample=0.5; total time=   1.8s\n",
      "[CV] END learning_rate=0.001, max_depth=6, max_features=4, n_estimators=500, subsample=0.5; total time=   1.8s\n",
      "[CV] END learning_rate=0.001, max_depth=6, max_features=4, n_estimators=500, subsample=0.5; total time=   1.8s\n",
      "[CV] END learning_rate=0.001, max_depth=6, max_features=4, n_estimators=500, subsample=0.5; total time=   1.8s\n",
      "[CV] END learning_rate=0.001, max_depth=6, max_features=4, n_estimators=500, subsample=1; total time=   2.4s\n",
      "[CV] END learning_rate=0.001, max_depth=6, max_features=4, n_estimators=500, subsample=1; total time=   2.3s\n",
      "[CV] END learning_rate=0.001, max_depth=6, max_features=4, n_estimators=500, subsample=1; total time=   2.4s\n",
      "[CV] END learning_rate=0.001, max_depth=6, max_features=4, n_estimators=500, subsample=1; total time=   2.4s\n",
      "[CV] END learning_rate=0.001, max_depth=6, max_features=4, n_estimators=500, subsample=1; total time=   2.4s\n",
      "[CV] END learning_rate=0.01, max_depth=3, max_features=None, n_estimators=100, subsample=0.5; total time=   0.3s\n",
      "[CV] END learning_rate=0.01, max_depth=3, max_features=None, n_estimators=100, subsample=0.5; total time=   0.3s\n",
      "[CV] END learning_rate=0.01, max_depth=3, max_features=None, n_estimators=100, subsample=0.5; total time=   0.3s\n",
      "[CV] END learning_rate=0.01, max_depth=3, max_features=None, n_estimators=100, subsample=0.5; total time=   0.3s\n",
      "[CV] END learning_rate=0.01, max_depth=3, max_features=None, n_estimators=100, subsample=0.5; total time=   0.3s\n",
      "[CV] END learning_rate=0.01, max_depth=3, max_features=None, n_estimators=100, subsample=1; total time=   0.4s\n",
      "[CV] END learning_rate=0.01, max_depth=3, max_features=None, n_estimators=100, subsample=1; total time=   0.4s\n",
      "[CV] END learning_rate=0.01, max_depth=3, max_features=None, n_estimators=100, subsample=1; total time=   0.4s\n",
      "[CV] END learning_rate=0.01, max_depth=3, max_features=None, n_estimators=100, subsample=1; total time=   0.4s\n",
      "[CV] END learning_rate=0.01, max_depth=3, max_features=None, n_estimators=100, subsample=1; total time=   0.4s\n",
      "[CV] END learning_rate=0.01, max_depth=3, max_features=None, n_estimators=200, subsample=0.5; total time=   0.6s\n",
      "[CV] END learning_rate=0.01, max_depth=3, max_features=None, n_estimators=200, subsample=0.5; total time=   0.6s\n",
      "[CV] END learning_rate=0.01, max_depth=3, max_features=None, n_estimators=200, subsample=0.5; total time=   0.6s\n",
      "[CV] END learning_rate=0.01, max_depth=3, max_features=None, n_estimators=200, subsample=0.5; total time=   0.6s\n",
      "[CV] END learning_rate=0.01, max_depth=3, max_features=None, n_estimators=200, subsample=0.5; total time=   0.6s\n",
      "[CV] END learning_rate=0.01, max_depth=3, max_features=None, n_estimators=200, subsample=1; total time=   0.8s\n",
      "[CV] END learning_rate=0.01, max_depth=3, max_features=None, n_estimators=200, subsample=1; total time=   0.8s\n",
      "[CV] END learning_rate=0.01, max_depth=3, max_features=None, n_estimators=200, subsample=1; total time=   0.8s\n",
      "[CV] END learning_rate=0.01, max_depth=3, max_features=None, n_estimators=200, subsample=1; total time=   0.8s\n",
      "[CV] END learning_rate=0.01, max_depth=3, max_features=None, n_estimators=200, subsample=1; total time=   0.8s\n",
      "[CV] END learning_rate=0.01, max_depth=3, max_features=None, n_estimators=300, subsample=0.5; total time=   0.9s\n",
      "[CV] END learning_rate=0.01, max_depth=3, max_features=None, n_estimators=300, subsample=0.5; total time=   0.9s\n",
      "[CV] END learning_rate=0.01, max_depth=3, max_features=None, n_estimators=300, subsample=0.5; total time=   0.9s\n",
      "[CV] END learning_rate=0.01, max_depth=3, max_features=None, n_estimators=300, subsample=0.5; total time=   0.9s\n",
      "[CV] END learning_rate=0.01, max_depth=3, max_features=None, n_estimators=300, subsample=0.5; total time=   0.9s\n",
      "[CV] END learning_rate=0.01, max_depth=3, max_features=None, n_estimators=300, subsample=1; total time=   1.2s\n",
      "[CV] END learning_rate=0.01, max_depth=3, max_features=None, n_estimators=300, subsample=1; total time=   1.2s\n",
      "[CV] END learning_rate=0.01, max_depth=3, max_features=None, n_estimators=300, subsample=1; total time=   1.2s\n",
      "[CV] END learning_rate=0.01, max_depth=3, max_features=None, n_estimators=300, subsample=1; total time=   1.2s\n"
     ]
    },
    {
     "name": "stdout",
     "output_type": "stream",
     "text": [
      "[CV] END learning_rate=0.01, max_depth=3, max_features=None, n_estimators=300, subsample=1; total time=   1.2s\n",
      "[CV] END learning_rate=0.01, max_depth=3, max_features=None, n_estimators=500, subsample=0.5; total time=   1.4s\n",
      "[CV] END learning_rate=0.01, max_depth=3, max_features=None, n_estimators=500, subsample=0.5; total time=   1.4s\n",
      "[CV] END learning_rate=0.01, max_depth=3, max_features=None, n_estimators=500, subsample=0.5; total time=   1.4s\n",
      "[CV] END learning_rate=0.01, max_depth=3, max_features=None, n_estimators=500, subsample=0.5; total time=   1.4s\n",
      "[CV] END learning_rate=0.01, max_depth=3, max_features=None, n_estimators=500, subsample=0.5; total time=   1.4s\n",
      "[CV] END learning_rate=0.01, max_depth=3, max_features=None, n_estimators=500, subsample=1; total time=   2.0s\n",
      "[CV] END learning_rate=0.01, max_depth=3, max_features=None, n_estimators=500, subsample=1; total time=   2.0s\n",
      "[CV] END learning_rate=0.01, max_depth=3, max_features=None, n_estimators=500, subsample=1; total time=   2.0s\n",
      "[CV] END learning_rate=0.01, max_depth=3, max_features=None, n_estimators=500, subsample=1; total time=   2.0s\n",
      "[CV] END learning_rate=0.01, max_depth=3, max_features=None, n_estimators=500, subsample=1; total time=   2.0s\n",
      "[CV] END learning_rate=0.01, max_depth=3, max_features=2, n_estimators=100, subsample=0.5; total time=   0.2s\n",
      "[CV] END learning_rate=0.01, max_depth=3, max_features=2, n_estimators=100, subsample=0.5; total time=   0.2s\n",
      "[CV] END learning_rate=0.01, max_depth=3, max_features=2, n_estimators=100, subsample=0.5; total time=   0.2s\n",
      "[CV] END learning_rate=0.01, max_depth=3, max_features=2, n_estimators=100, subsample=0.5; total time=   0.2s\n",
      "[CV] END learning_rate=0.01, max_depth=3, max_features=2, n_estimators=100, subsample=0.5; total time=   0.2s\n",
      "[CV] END learning_rate=0.01, max_depth=3, max_features=2, n_estimators=100, subsample=1; total time=   0.2s\n",
      "[CV] END learning_rate=0.01, max_depth=3, max_features=2, n_estimators=100, subsample=1; total time=   0.2s\n",
      "[CV] END learning_rate=0.01, max_depth=3, max_features=2, n_estimators=100, subsample=1; total time=   0.2s\n",
      "[CV] END learning_rate=0.01, max_depth=3, max_features=2, n_estimators=100, subsample=1; total time=   0.2s\n",
      "[CV] END learning_rate=0.01, max_depth=3, max_features=2, n_estimators=100, subsample=1; total time=   0.2s\n",
      "[CV] END learning_rate=0.01, max_depth=3, max_features=2, n_estimators=200, subsample=0.5; total time=   0.3s\n",
      "[CV] END learning_rate=0.01, max_depth=3, max_features=2, n_estimators=200, subsample=0.5; total time=   0.3s\n",
      "[CV] END learning_rate=0.01, max_depth=3, max_features=2, n_estimators=200, subsample=0.5; total time=   0.3s\n",
      "[CV] END learning_rate=0.01, max_depth=3, max_features=2, n_estimators=200, subsample=0.5; total time=   0.3s\n",
      "[CV] END learning_rate=0.01, max_depth=3, max_features=2, n_estimators=200, subsample=0.5; total time=   0.3s\n",
      "[CV] END learning_rate=0.01, max_depth=3, max_features=2, n_estimators=200, subsample=1; total time=   0.3s\n",
      "[CV] END learning_rate=0.01, max_depth=3, max_features=2, n_estimators=200, subsample=1; total time=   0.3s\n",
      "[CV] END learning_rate=0.01, max_depth=3, max_features=2, n_estimators=200, subsample=1; total time=   0.3s\n",
      "[CV] END learning_rate=0.01, max_depth=3, max_features=2, n_estimators=200, subsample=1; total time=   0.3s\n",
      "[CV] END learning_rate=0.01, max_depth=3, max_features=2, n_estimators=200, subsample=1; total time=   0.3s\n",
      "[CV] END learning_rate=0.01, max_depth=3, max_features=2, n_estimators=300, subsample=0.5; total time=   0.5s\n",
      "[CV] END learning_rate=0.01, max_depth=3, max_features=2, n_estimators=300, subsample=0.5; total time=   0.5s\n",
      "[CV] END learning_rate=0.01, max_depth=3, max_features=2, n_estimators=300, subsample=0.5; total time=   0.5s\n",
      "[CV] END learning_rate=0.01, max_depth=3, max_features=2, n_estimators=300, subsample=0.5; total time=   0.5s\n",
      "[CV] END learning_rate=0.01, max_depth=3, max_features=2, n_estimators=300, subsample=0.5; total time=   0.5s\n",
      "[CV] END learning_rate=0.01, max_depth=3, max_features=2, n_estimators=300, subsample=1; total time=   0.5s\n",
      "[CV] END learning_rate=0.01, max_depth=3, max_features=2, n_estimators=300, subsample=1; total time=   0.5s\n",
      "[CV] END learning_rate=0.01, max_depth=3, max_features=2, n_estimators=300, subsample=1; total time=   0.5s\n",
      "[CV] END learning_rate=0.01, max_depth=3, max_features=2, n_estimators=300, subsample=1; total time=   0.5s\n",
      "[CV] END learning_rate=0.01, max_depth=3, max_features=2, n_estimators=300, subsample=1; total time=   0.5s\n",
      "[CV] END learning_rate=0.01, max_depth=3, max_features=2, n_estimators=500, subsample=0.5; total time=   0.8s\n",
      "[CV] END learning_rate=0.01, max_depth=3, max_features=2, n_estimators=500, subsample=0.5; total time=   0.8s\n",
      "[CV] END learning_rate=0.01, max_depth=3, max_features=2, n_estimators=500, subsample=0.5; total time=   0.8s\n",
      "[CV] END learning_rate=0.01, max_depth=3, max_features=2, n_estimators=500, subsample=0.5; total time=   0.8s\n",
      "[CV] END learning_rate=0.01, max_depth=3, max_features=2, n_estimators=500, subsample=0.5; total time=   0.8s\n",
      "[CV] END learning_rate=0.01, max_depth=3, max_features=2, n_estimators=500, subsample=1; total time=   0.8s\n",
      "[CV] END learning_rate=0.01, max_depth=3, max_features=2, n_estimators=500, subsample=1; total time=   0.8s\n",
      "[CV] END learning_rate=0.01, max_depth=3, max_features=2, n_estimators=500, subsample=1; total time=   0.8s\n",
      "[CV] END learning_rate=0.01, max_depth=3, max_features=2, n_estimators=500, subsample=1; total time=   0.8s\n",
      "[CV] END learning_rate=0.01, max_depth=3, max_features=2, n_estimators=500, subsample=1; total time=   0.8s\n",
      "[CV] END learning_rate=0.01, max_depth=3, max_features=3, n_estimators=100, subsample=0.5; total time=   0.2s\n",
      "[CV] END learning_rate=0.01, max_depth=3, max_features=3, n_estimators=100, subsample=0.5; total time=   0.2s\n",
      "[CV] END learning_rate=0.01, max_depth=3, max_features=3, n_estimators=100, subsample=0.5; total time=   0.2s\n",
      "[CV] END learning_rate=0.01, max_depth=3, max_features=3, n_estimators=100, subsample=0.5; total time=   0.2s\n",
      "[CV] END learning_rate=0.01, max_depth=3, max_features=3, n_estimators=100, subsample=0.5; total time=   0.2s\n",
      "[CV] END learning_rate=0.01, max_depth=3, max_features=3, n_estimators=100, subsample=1; total time=   0.2s\n",
      "[CV] END learning_rate=0.01, max_depth=3, max_features=3, n_estimators=100, subsample=1; total time=   0.2s\n",
      "[CV] END learning_rate=0.01, max_depth=3, max_features=3, n_estimators=100, subsample=1; total time=   0.2s\n",
      "[CV] END learning_rate=0.01, max_depth=3, max_features=3, n_estimators=100, subsample=1; total time=   0.2s\n",
      "[CV] END learning_rate=0.01, max_depth=3, max_features=3, n_estimators=100, subsample=1; total time=   0.2s\n",
      "[CV] END learning_rate=0.01, max_depth=3, max_features=3, n_estimators=200, subsample=0.5; total time=   0.4s\n",
      "[CV] END learning_rate=0.01, max_depth=3, max_features=3, n_estimators=200, subsample=0.5; total time=   0.4s\n",
      "[CV] END learning_rate=0.01, max_depth=3, max_features=3, n_estimators=200, subsample=0.5; total time=   0.4s\n",
      "[CV] END learning_rate=0.01, max_depth=3, max_features=3, n_estimators=200, subsample=0.5; total time=   0.4s\n",
      "[CV] END learning_rate=0.01, max_depth=3, max_features=3, n_estimators=200, subsample=0.5; total time=   0.4s\n",
      "[CV] END learning_rate=0.01, max_depth=3, max_features=3, n_estimators=200, subsample=1; total time=   0.4s\n",
      "[CV] END learning_rate=0.01, max_depth=3, max_features=3, n_estimators=200, subsample=1; total time=   0.4s\n",
      "[CV] END learning_rate=0.01, max_depth=3, max_features=3, n_estimators=200, subsample=1; total time=   0.4s\n",
      "[CV] END learning_rate=0.01, max_depth=3, max_features=3, n_estimators=200, subsample=1; total time=   0.4s\n",
      "[CV] END learning_rate=0.01, max_depth=3, max_features=3, n_estimators=200, subsample=1; total time=   0.4s\n",
      "[CV] END learning_rate=0.01, max_depth=3, max_features=3, n_estimators=300, subsample=0.5; total time=   0.5s\n",
      "[CV] END learning_rate=0.01, max_depth=3, max_features=3, n_estimators=300, subsample=0.5; total time=   0.5s\n",
      "[CV] END learning_rate=0.01, max_depth=3, max_features=3, n_estimators=300, subsample=0.5; total time=   0.5s\n",
      "[CV] END learning_rate=0.01, max_depth=3, max_features=3, n_estimators=300, subsample=0.5; total time=   0.5s\n"
     ]
    },
    {
     "name": "stdout",
     "output_type": "stream",
     "text": [
      "[CV] END learning_rate=0.01, max_depth=3, max_features=3, n_estimators=300, subsample=0.5; total time=   0.5s\n",
      "[CV] END learning_rate=0.01, max_depth=3, max_features=3, n_estimators=300, subsample=1; total time=   0.6s\n",
      "[CV] END learning_rate=0.01, max_depth=3, max_features=3, n_estimators=300, subsample=1; total time=   0.6s\n",
      "[CV] END learning_rate=0.01, max_depth=3, max_features=3, n_estimators=300, subsample=1; total time=   0.6s\n",
      "[CV] END learning_rate=0.01, max_depth=3, max_features=3, n_estimators=300, subsample=1; total time=   0.6s\n",
      "[CV] END learning_rate=0.01, max_depth=3, max_features=3, n_estimators=300, subsample=1; total time=   0.6s\n",
      "[CV] END learning_rate=0.01, max_depth=3, max_features=3, n_estimators=500, subsample=0.5; total time=   0.9s\n",
      "[CV] END learning_rate=0.01, max_depth=3, max_features=3, n_estimators=500, subsample=0.5; total time=   0.9s\n",
      "[CV] END learning_rate=0.01, max_depth=3, max_features=3, n_estimators=500, subsample=0.5; total time=   0.9s\n",
      "[CV] END learning_rate=0.01, max_depth=3, max_features=3, n_estimators=500, subsample=0.5; total time=   0.9s\n",
      "[CV] END learning_rate=0.01, max_depth=3, max_features=3, n_estimators=500, subsample=0.5; total time=   0.9s\n",
      "[CV] END learning_rate=0.01, max_depth=3, max_features=3, n_estimators=500, subsample=1; total time=   0.9s\n",
      "[CV] END learning_rate=0.01, max_depth=3, max_features=3, n_estimators=500, subsample=1; total time=   0.9s\n",
      "[CV] END learning_rate=0.01, max_depth=3, max_features=3, n_estimators=500, subsample=1; total time=   0.9s\n",
      "[CV] END learning_rate=0.01, max_depth=3, max_features=3, n_estimators=500, subsample=1; total time=   0.9s\n",
      "[CV] END learning_rate=0.01, max_depth=3, max_features=3, n_estimators=500, subsample=1; total time=   0.9s\n",
      "[CV] END learning_rate=0.01, max_depth=3, max_features=4, n_estimators=100, subsample=0.5; total time=   0.2s\n",
      "[CV] END learning_rate=0.01, max_depth=3, max_features=4, n_estimators=100, subsample=0.5; total time=   0.2s\n",
      "[CV] END learning_rate=0.01, max_depth=3, max_features=4, n_estimators=100, subsample=0.5; total time=   0.2s\n",
      "[CV] END learning_rate=0.01, max_depth=3, max_features=4, n_estimators=100, subsample=0.5; total time=   0.2s\n",
      "[CV] END learning_rate=0.01, max_depth=3, max_features=4, n_estimators=100, subsample=0.5; total time=   0.2s\n",
      "[CV] END learning_rate=0.01, max_depth=3, max_features=4, n_estimators=100, subsample=1; total time=   0.2s\n",
      "[CV] END learning_rate=0.01, max_depth=3, max_features=4, n_estimators=100, subsample=1; total time=   0.2s\n",
      "[CV] END learning_rate=0.01, max_depth=3, max_features=4, n_estimators=100, subsample=1; total time=   0.2s\n",
      "[CV] END learning_rate=0.01, max_depth=3, max_features=4, n_estimators=100, subsample=1; total time=   0.2s\n",
      "[CV] END learning_rate=0.01, max_depth=3, max_features=4, n_estimators=100, subsample=1; total time=   0.2s\n",
      "[CV] END learning_rate=0.01, max_depth=3, max_features=4, n_estimators=200, subsample=0.5; total time=   0.4s\n",
      "[CV] END learning_rate=0.01, max_depth=3, max_features=4, n_estimators=200, subsample=0.5; total time=   0.4s\n",
      "[CV] END learning_rate=0.01, max_depth=3, max_features=4, n_estimators=200, subsample=0.5; total time=   0.4s\n",
      "[CV] END learning_rate=0.01, max_depth=3, max_features=4, n_estimators=200, subsample=0.5; total time=   0.4s\n",
      "[CV] END learning_rate=0.01, max_depth=3, max_features=4, n_estimators=200, subsample=0.5; total time=   0.4s\n",
      "[CV] END learning_rate=0.01, max_depth=3, max_features=4, n_estimators=200, subsample=1; total time=   0.5s\n",
      "[CV] END learning_rate=0.01, max_depth=3, max_features=4, n_estimators=200, subsample=1; total time=   0.5s\n",
      "[CV] END learning_rate=0.01, max_depth=3, max_features=4, n_estimators=200, subsample=1; total time=   0.5s\n",
      "[CV] END learning_rate=0.01, max_depth=3, max_features=4, n_estimators=200, subsample=1; total time=   0.5s\n",
      "[CV] END learning_rate=0.01, max_depth=3, max_features=4, n_estimators=200, subsample=1; total time=   0.5s\n",
      "[CV] END learning_rate=0.01, max_depth=3, max_features=4, n_estimators=300, subsample=0.5; total time=   0.6s\n",
      "[CV] END learning_rate=0.01, max_depth=3, max_features=4, n_estimators=300, subsample=0.5; total time=   0.6s\n",
      "[CV] END learning_rate=0.01, max_depth=3, max_features=4, n_estimators=300, subsample=0.5; total time=   0.6s\n",
      "[CV] END learning_rate=0.01, max_depth=3, max_features=4, n_estimators=300, subsample=0.5; total time=   0.6s\n",
      "[CV] END learning_rate=0.01, max_depth=3, max_features=4, n_estimators=300, subsample=0.5; total time=   0.6s\n",
      "[CV] END learning_rate=0.01, max_depth=3, max_features=4, n_estimators=300, subsample=1; total time=   0.7s\n",
      "[CV] END learning_rate=0.01, max_depth=3, max_features=4, n_estimators=300, subsample=1; total time=   0.7s\n",
      "[CV] END learning_rate=0.01, max_depth=3, max_features=4, n_estimators=300, subsample=1; total time=   0.7s\n",
      "[CV] END learning_rate=0.01, max_depth=3, max_features=4, n_estimators=300, subsample=1; total time=   0.7s\n",
      "[CV] END learning_rate=0.01, max_depth=3, max_features=4, n_estimators=300, subsample=1; total time=   0.7s\n",
      "[CV] END learning_rate=0.01, max_depth=3, max_features=4, n_estimators=500, subsample=0.5; total time=   1.0s\n",
      "[CV] END learning_rate=0.01, max_depth=3, max_features=4, n_estimators=500, subsample=0.5; total time=   1.0s\n",
      "[CV] END learning_rate=0.01, max_depth=3, max_features=4, n_estimators=500, subsample=0.5; total time=   1.0s\n",
      "[CV] END learning_rate=0.01, max_depth=3, max_features=4, n_estimators=500, subsample=0.5; total time=   1.0s\n",
      "[CV] END learning_rate=0.01, max_depth=3, max_features=4, n_estimators=500, subsample=0.5; total time=   1.0s\n",
      "[CV] END learning_rate=0.01, max_depth=3, max_features=4, n_estimators=500, subsample=1; total time=   1.1s\n",
      "[CV] END learning_rate=0.01, max_depth=3, max_features=4, n_estimators=500, subsample=1; total time=   1.1s\n",
      "[CV] END learning_rate=0.01, max_depth=3, max_features=4, n_estimators=500, subsample=1; total time=   1.1s\n",
      "[CV] END learning_rate=0.01, max_depth=3, max_features=4, n_estimators=500, subsample=1; total time=   1.1s\n",
      "[CV] END learning_rate=0.01, max_depth=3, max_features=4, n_estimators=500, subsample=1; total time=   1.1s\n",
      "[CV] END learning_rate=0.01, max_depth=4, max_features=None, n_estimators=100, subsample=0.5; total time=   0.4s\n",
      "[CV] END learning_rate=0.01, max_depth=4, max_features=None, n_estimators=100, subsample=0.5; total time=   0.4s\n",
      "[CV] END learning_rate=0.01, max_depth=4, max_features=None, n_estimators=100, subsample=0.5; total time=   0.4s\n",
      "[CV] END learning_rate=0.01, max_depth=4, max_features=None, n_estimators=100, subsample=0.5; total time=   0.4s\n",
      "[CV] END learning_rate=0.01, max_depth=4, max_features=None, n_estimators=100, subsample=0.5; total time=   0.4s\n",
      "[CV] END learning_rate=0.01, max_depth=4, max_features=None, n_estimators=100, subsample=1; total time=   0.5s\n",
      "[CV] END learning_rate=0.01, max_depth=4, max_features=None, n_estimators=100, subsample=1; total time=   0.5s\n",
      "[CV] END learning_rate=0.01, max_depth=4, max_features=None, n_estimators=100, subsample=1; total time=   0.5s\n",
      "[CV] END learning_rate=0.01, max_depth=4, max_features=None, n_estimators=100, subsample=1; total time=   0.5s\n",
      "[CV] END learning_rate=0.01, max_depth=4, max_features=None, n_estimators=100, subsample=1; total time=   0.5s\n",
      "[CV] END learning_rate=0.01, max_depth=4, max_features=None, n_estimators=200, subsample=0.5; total time=   0.7s\n",
      "[CV] END learning_rate=0.01, max_depth=4, max_features=None, n_estimators=200, subsample=0.5; total time=   0.7s\n",
      "[CV] END learning_rate=0.01, max_depth=4, max_features=None, n_estimators=200, subsample=0.5; total time=   0.7s\n",
      "[CV] END learning_rate=0.01, max_depth=4, max_features=None, n_estimators=200, subsample=0.5; total time=   0.7s\n",
      "[CV] END learning_rate=0.01, max_depth=4, max_features=None, n_estimators=200, subsample=0.5; total time=   0.7s\n",
      "[CV] END learning_rate=0.01, max_depth=4, max_features=None, n_estimators=200, subsample=1; total time=   1.1s\n",
      "[CV] END learning_rate=0.01, max_depth=4, max_features=None, n_estimators=200, subsample=1; total time=   1.0s\n",
      "[CV] END learning_rate=0.01, max_depth=4, max_features=None, n_estimators=200, subsample=1; total time=   1.1s\n",
      "[CV] END learning_rate=0.01, max_depth=4, max_features=None, n_estimators=200, subsample=1; total time=   1.1s\n"
     ]
    },
    {
     "name": "stdout",
     "output_type": "stream",
     "text": [
      "[CV] END learning_rate=0.01, max_depth=4, max_features=None, n_estimators=200, subsample=1; total time=   1.1s\n",
      "[CV] END learning_rate=0.01, max_depth=4, max_features=None, n_estimators=300, subsample=0.5; total time=   1.1s\n",
      "[CV] END learning_rate=0.01, max_depth=4, max_features=None, n_estimators=300, subsample=0.5; total time=   1.1s\n",
      "[CV] END learning_rate=0.01, max_depth=4, max_features=None, n_estimators=300, subsample=0.5; total time=   1.1s\n",
      "[CV] END learning_rate=0.01, max_depth=4, max_features=None, n_estimators=300, subsample=0.5; total time=   1.1s\n",
      "[CV] END learning_rate=0.01, max_depth=4, max_features=None, n_estimators=300, subsample=0.5; total time=   1.1s\n",
      "[CV] END learning_rate=0.01, max_depth=4, max_features=None, n_estimators=300, subsample=1; total time=   1.6s\n",
      "[CV] END learning_rate=0.01, max_depth=4, max_features=None, n_estimators=300, subsample=1; total time=   1.6s\n",
      "[CV] END learning_rate=0.01, max_depth=4, max_features=None, n_estimators=300, subsample=1; total time=   1.6s\n",
      "[CV] END learning_rate=0.01, max_depth=4, max_features=None, n_estimators=300, subsample=1; total time=   1.6s\n",
      "[CV] END learning_rate=0.01, max_depth=4, max_features=None, n_estimators=300, subsample=1; total time=   1.6s\n",
      "[CV] END learning_rate=0.01, max_depth=4, max_features=None, n_estimators=500, subsample=0.5; total time=   1.8s\n",
      "[CV] END learning_rate=0.01, max_depth=4, max_features=None, n_estimators=500, subsample=0.5; total time=   1.8s\n",
      "[CV] END learning_rate=0.01, max_depth=4, max_features=None, n_estimators=500, subsample=0.5; total time=   1.8s\n",
      "[CV] END learning_rate=0.01, max_depth=4, max_features=None, n_estimators=500, subsample=0.5; total time=   1.8s\n",
      "[CV] END learning_rate=0.01, max_depth=4, max_features=None, n_estimators=500, subsample=0.5; total time=   1.8s\n",
      "[CV] END learning_rate=0.01, max_depth=4, max_features=None, n_estimators=500, subsample=1; total time=   2.6s\n",
      "[CV] END learning_rate=0.01, max_depth=4, max_features=None, n_estimators=500, subsample=1; total time=   2.6s\n",
      "[CV] END learning_rate=0.01, max_depth=4, max_features=None, n_estimators=500, subsample=1; total time=   2.6s\n",
      "[CV] END learning_rate=0.01, max_depth=4, max_features=None, n_estimators=500, subsample=1; total time=   2.6s\n",
      "[CV] END learning_rate=0.01, max_depth=4, max_features=None, n_estimators=500, subsample=1; total time=   2.6s\n",
      "[CV] END learning_rate=0.01, max_depth=4, max_features=2, n_estimators=100, subsample=0.5; total time=   0.2s\n",
      "[CV] END learning_rate=0.01, max_depth=4, max_features=2, n_estimators=100, subsample=0.5; total time=   0.2s\n",
      "[CV] END learning_rate=0.01, max_depth=4, max_features=2, n_estimators=100, subsample=0.5; total time=   0.2s\n",
      "[CV] END learning_rate=0.01, max_depth=4, max_features=2, n_estimators=100, subsample=0.5; total time=   0.2s\n",
      "[CV] END learning_rate=0.01, max_depth=4, max_features=2, n_estimators=100, subsample=0.5; total time=   0.2s\n",
      "[CV] END learning_rate=0.01, max_depth=4, max_features=2, n_estimators=100, subsample=1; total time=   0.2s\n",
      "[CV] END learning_rate=0.01, max_depth=4, max_features=2, n_estimators=100, subsample=1; total time=   0.2s\n",
      "[CV] END learning_rate=0.01, max_depth=4, max_features=2, n_estimators=100, subsample=1; total time=   0.2s\n",
      "[CV] END learning_rate=0.01, max_depth=4, max_features=2, n_estimators=100, subsample=1; total time=   0.2s\n",
      "[CV] END learning_rate=0.01, max_depth=4, max_features=2, n_estimators=100, subsample=1; total time=   0.2s\n",
      "[CV] END learning_rate=0.01, max_depth=4, max_features=2, n_estimators=200, subsample=0.5; total time=   0.4s\n",
      "[CV] END learning_rate=0.01, max_depth=4, max_features=2, n_estimators=200, subsample=0.5; total time=   0.4s\n",
      "[CV] END learning_rate=0.01, max_depth=4, max_features=2, n_estimators=200, subsample=0.5; total time=   0.4s\n",
      "[CV] END learning_rate=0.01, max_depth=4, max_features=2, n_estimators=200, subsample=0.5; total time=   0.4s\n",
      "[CV] END learning_rate=0.01, max_depth=4, max_features=2, n_estimators=200, subsample=0.5; total time=   0.4s\n",
      "[CV] END learning_rate=0.01, max_depth=4, max_features=2, n_estimators=200, subsample=1; total time=   0.4s\n",
      "[CV] END learning_rate=0.01, max_depth=4, max_features=2, n_estimators=200, subsample=1; total time=   0.4s\n",
      "[CV] END learning_rate=0.01, max_depth=4, max_features=2, n_estimators=200, subsample=1; total time=   0.4s\n",
      "[CV] END learning_rate=0.01, max_depth=4, max_features=2, n_estimators=200, subsample=1; total time=   0.4s\n",
      "[CV] END learning_rate=0.01, max_depth=4, max_features=2, n_estimators=200, subsample=1; total time=   0.4s\n",
      "[CV] END learning_rate=0.01, max_depth=4, max_features=2, n_estimators=300, subsample=0.5; total time=   0.6s\n",
      "[CV] END learning_rate=0.01, max_depth=4, max_features=2, n_estimators=300, subsample=0.5; total time=   0.6s\n",
      "[CV] END learning_rate=0.01, max_depth=4, max_features=2, n_estimators=300, subsample=0.5; total time=   0.6s\n",
      "[CV] END learning_rate=0.01, max_depth=4, max_features=2, n_estimators=300, subsample=0.5; total time=   0.6s\n",
      "[CV] END learning_rate=0.01, max_depth=4, max_features=2, n_estimators=300, subsample=0.5; total time=   0.6s\n",
      "[CV] END learning_rate=0.01, max_depth=4, max_features=2, n_estimators=300, subsample=1; total time=   0.6s\n",
      "[CV] END learning_rate=0.01, max_depth=4, max_features=2, n_estimators=300, subsample=1; total time=   0.6s\n",
      "[CV] END learning_rate=0.01, max_depth=4, max_features=2, n_estimators=300, subsample=1; total time=   0.6s\n",
      "[CV] END learning_rate=0.01, max_depth=4, max_features=2, n_estimators=300, subsample=1; total time=   0.6s\n",
      "[CV] END learning_rate=0.01, max_depth=4, max_features=2, n_estimators=300, subsample=1; total time=   0.6s\n",
      "[CV] END learning_rate=0.01, max_depth=4, max_features=2, n_estimators=500, subsample=0.5; total time=   0.9s\n",
      "[CV] END learning_rate=0.01, max_depth=4, max_features=2, n_estimators=500, subsample=0.5; total time=   0.9s\n",
      "[CV] END learning_rate=0.01, max_depth=4, max_features=2, n_estimators=500, subsample=0.5; total time=   0.9s\n",
      "[CV] END learning_rate=0.01, max_depth=4, max_features=2, n_estimators=500, subsample=0.5; total time=   0.9s\n",
      "[CV] END learning_rate=0.01, max_depth=4, max_features=2, n_estimators=500, subsample=0.5; total time=   0.9s\n",
      "[CV] END learning_rate=0.01, max_depth=4, max_features=2, n_estimators=500, subsample=1; total time=   1.0s\n",
      "[CV] END learning_rate=0.01, max_depth=4, max_features=2, n_estimators=500, subsample=1; total time=   1.0s\n",
      "[CV] END learning_rate=0.01, max_depth=4, max_features=2, n_estimators=500, subsample=1; total time=   1.0s\n",
      "[CV] END learning_rate=0.01, max_depth=4, max_features=2, n_estimators=500, subsample=1; total time=   1.0s\n",
      "[CV] END learning_rate=0.01, max_depth=4, max_features=2, n_estimators=500, subsample=1; total time=   1.0s\n",
      "[CV] END learning_rate=0.01, max_depth=4, max_features=3, n_estimators=100, subsample=0.5; total time=   0.2s\n",
      "[CV] END learning_rate=0.01, max_depth=4, max_features=3, n_estimators=100, subsample=0.5; total time=   0.2s\n",
      "[CV] END learning_rate=0.01, max_depth=4, max_features=3, n_estimators=100, subsample=0.5; total time=   0.2s\n",
      "[CV] END learning_rate=0.01, max_depth=4, max_features=3, n_estimators=100, subsample=0.5; total time=   0.2s\n",
      "[CV] END learning_rate=0.01, max_depth=4, max_features=3, n_estimators=100, subsample=0.5; total time=   0.2s\n",
      "[CV] END learning_rate=0.01, max_depth=4, max_features=3, n_estimators=100, subsample=1; total time=   0.2s\n",
      "[CV] END learning_rate=0.01, max_depth=4, max_features=3, n_estimators=100, subsample=1; total time=   0.3s\n",
      "[CV] END learning_rate=0.01, max_depth=4, max_features=3, n_estimators=100, subsample=1; total time=   0.2s\n",
      "[CV] END learning_rate=0.01, max_depth=4, max_features=3, n_estimators=100, subsample=1; total time=   0.3s\n",
      "[CV] END learning_rate=0.01, max_depth=4, max_features=3, n_estimators=100, subsample=1; total time=   0.3s\n",
      "[CV] END learning_rate=0.01, max_depth=4, max_features=3, n_estimators=200, subsample=0.5; total time=   0.4s\n",
      "[CV] END learning_rate=0.01, max_depth=4, max_features=3, n_estimators=200, subsample=0.5; total time=   0.4s\n",
      "[CV] END learning_rate=0.01, max_depth=4, max_features=3, n_estimators=200, subsample=0.5; total time=   0.4s\n",
      "[CV] END learning_rate=0.01, max_depth=4, max_features=3, n_estimators=200, subsample=0.5; total time=   0.4s\n"
     ]
    },
    {
     "name": "stdout",
     "output_type": "stream",
     "text": [
      "[CV] END learning_rate=0.01, max_depth=4, max_features=3, n_estimators=200, subsample=0.5; total time=   0.4s\n",
      "[CV] END learning_rate=0.01, max_depth=4, max_features=3, n_estimators=200, subsample=1; total time=   0.5s\n",
      "[CV] END learning_rate=0.01, max_depth=4, max_features=3, n_estimators=200, subsample=1; total time=   0.5s\n",
      "[CV] END learning_rate=0.01, max_depth=4, max_features=3, n_estimators=200, subsample=1; total time=   0.5s\n",
      "[CV] END learning_rate=0.01, max_depth=4, max_features=3, n_estimators=200, subsample=1; total time=   0.5s\n",
      "[CV] END learning_rate=0.01, max_depth=4, max_features=3, n_estimators=200, subsample=1; total time=   0.5s\n",
      "[CV] END learning_rate=0.01, max_depth=4, max_features=3, n_estimators=300, subsample=0.5; total time=   0.6s\n",
      "[CV] END learning_rate=0.01, max_depth=4, max_features=3, n_estimators=300, subsample=0.5; total time=   0.6s\n",
      "[CV] END learning_rate=0.01, max_depth=4, max_features=3, n_estimators=300, subsample=0.5; total time=   0.6s\n",
      "[CV] END learning_rate=0.01, max_depth=4, max_features=3, n_estimators=300, subsample=0.5; total time=   0.6s\n",
      "[CV] END learning_rate=0.01, max_depth=4, max_features=3, n_estimators=300, subsample=0.5; total time=   0.6s\n",
      "[CV] END learning_rate=0.01, max_depth=4, max_features=3, n_estimators=300, subsample=1; total time=   0.7s\n",
      "[CV] END learning_rate=0.01, max_depth=4, max_features=3, n_estimators=300, subsample=1; total time=   0.7s\n",
      "[CV] END learning_rate=0.01, max_depth=4, max_features=3, n_estimators=300, subsample=1; total time=   0.7s\n",
      "[CV] END learning_rate=0.01, max_depth=4, max_features=3, n_estimators=300, subsample=1; total time=   0.7s\n",
      "[CV] END learning_rate=0.01, max_depth=4, max_features=3, n_estimators=300, subsample=1; total time=   0.7s\n",
      "[CV] END learning_rate=0.01, max_depth=4, max_features=3, n_estimators=500, subsample=0.5; total time=   1.0s\n",
      "[CV] END learning_rate=0.01, max_depth=4, max_features=3, n_estimators=500, subsample=0.5; total time=   1.1s\n",
      "[CV] END learning_rate=0.01, max_depth=4, max_features=3, n_estimators=500, subsample=0.5; total time=   1.1s\n",
      "[CV] END learning_rate=0.01, max_depth=4, max_features=3, n_estimators=500, subsample=0.5; total time=   1.1s\n",
      "[CV] END learning_rate=0.01, max_depth=4, max_features=3, n_estimators=500, subsample=0.5; total time=   1.1s\n",
      "[CV] END learning_rate=0.01, max_depth=4, max_features=3, n_estimators=500, subsample=1; total time=   1.2s\n",
      "[CV] END learning_rate=0.01, max_depth=4, max_features=3, n_estimators=500, subsample=1; total time=   1.2s\n",
      "[CV] END learning_rate=0.01, max_depth=4, max_features=3, n_estimators=500, subsample=1; total time=   1.2s\n",
      "[CV] END learning_rate=0.01, max_depth=4, max_features=3, n_estimators=500, subsample=1; total time=   1.2s\n",
      "[CV] END learning_rate=0.01, max_depth=4, max_features=3, n_estimators=500, subsample=1; total time=   1.2s\n",
      "[CV] END learning_rate=0.01, max_depth=4, max_features=4, n_estimators=100, subsample=0.5; total time=   0.2s\n",
      "[CV] END learning_rate=0.01, max_depth=4, max_features=4, n_estimators=100, subsample=0.5; total time=   0.2s\n",
      "[CV] END learning_rate=0.01, max_depth=4, max_features=4, n_estimators=100, subsample=0.5; total time=   0.2s\n",
      "[CV] END learning_rate=0.01, max_depth=4, max_features=4, n_estimators=100, subsample=0.5; total time=   0.2s\n",
      "[CV] END learning_rate=0.01, max_depth=4, max_features=4, n_estimators=100, subsample=0.5; total time=   0.2s\n",
      "[CV] END learning_rate=0.01, max_depth=4, max_features=4, n_estimators=100, subsample=1; total time=   0.3s\n",
      "[CV] END learning_rate=0.01, max_depth=4, max_features=4, n_estimators=100, subsample=1; total time=   0.3s\n",
      "[CV] END learning_rate=0.01, max_depth=4, max_features=4, n_estimators=100, subsample=1; total time=   0.3s\n",
      "[CV] END learning_rate=0.01, max_depth=4, max_features=4, n_estimators=100, subsample=1; total time=   0.3s\n",
      "[CV] END learning_rate=0.01, max_depth=4, max_features=4, n_estimators=100, subsample=1; total time=   0.3s\n",
      "[CV] END learning_rate=0.01, max_depth=4, max_features=4, n_estimators=200, subsample=0.5; total time=   0.5s\n",
      "[CV] END learning_rate=0.01, max_depth=4, max_features=4, n_estimators=200, subsample=0.5; total time=   0.5s\n",
      "[CV] END learning_rate=0.01, max_depth=4, max_features=4, n_estimators=200, subsample=0.5; total time=   0.5s\n",
      "[CV] END learning_rate=0.01, max_depth=4, max_features=4, n_estimators=200, subsample=0.5; total time=   0.5s\n",
      "[CV] END learning_rate=0.01, max_depth=4, max_features=4, n_estimators=200, subsample=0.5; total time=   0.5s\n",
      "[CV] END learning_rate=0.01, max_depth=4, max_features=4, n_estimators=200, subsample=1; total time=   0.6s\n",
      "[CV] END learning_rate=0.01, max_depth=4, max_features=4, n_estimators=200, subsample=1; total time=   0.6s\n",
      "[CV] END learning_rate=0.01, max_depth=4, max_features=4, n_estimators=200, subsample=1; total time=   0.6s\n",
      "[CV] END learning_rate=0.01, max_depth=4, max_features=4, n_estimators=200, subsample=1; total time=   0.6s\n",
      "[CV] END learning_rate=0.01, max_depth=4, max_features=4, n_estimators=200, subsample=1; total time=   0.6s\n",
      "[CV] END learning_rate=0.01, max_depth=4, max_features=4, n_estimators=300, subsample=0.5; total time=   0.7s\n",
      "[CV] END learning_rate=0.01, max_depth=4, max_features=4, n_estimators=300, subsample=0.5; total time=   0.7s\n",
      "[CV] END learning_rate=0.01, max_depth=4, max_features=4, n_estimators=300, subsample=0.5; total time=   0.7s\n",
      "[CV] END learning_rate=0.01, max_depth=4, max_features=4, n_estimators=300, subsample=0.5; total time=   0.7s\n",
      "[CV] END learning_rate=0.01, max_depth=4, max_features=4, n_estimators=300, subsample=0.5; total time=   0.7s\n",
      "[CV] END learning_rate=0.01, max_depth=4, max_features=4, n_estimators=300, subsample=1; total time=   0.9s\n",
      "[CV] END learning_rate=0.01, max_depth=4, max_features=4, n_estimators=300, subsample=1; total time=   0.9s\n",
      "[CV] END learning_rate=0.01, max_depth=4, max_features=4, n_estimators=300, subsample=1; total time=   0.9s\n",
      "[CV] END learning_rate=0.01, max_depth=4, max_features=4, n_estimators=300, subsample=1; total time=   0.9s\n",
      "[CV] END learning_rate=0.01, max_depth=4, max_features=4, n_estimators=300, subsample=1; total time=   0.9s\n",
      "[CV] END learning_rate=0.01, max_depth=4, max_features=4, n_estimators=500, subsample=0.5; total time=   1.2s\n",
      "[CV] END learning_rate=0.01, max_depth=4, max_features=4, n_estimators=500, subsample=0.5; total time=   1.2s\n",
      "[CV] END learning_rate=0.01, max_depth=4, max_features=4, n_estimators=500, subsample=0.5; total time=   1.2s\n",
      "[CV] END learning_rate=0.01, max_depth=4, max_features=4, n_estimators=500, subsample=0.5; total time=   1.2s\n",
      "[CV] END learning_rate=0.01, max_depth=4, max_features=4, n_estimators=500, subsample=0.5; total time=   1.2s\n",
      "[CV] END learning_rate=0.01, max_depth=4, max_features=4, n_estimators=500, subsample=1; total time=   1.5s\n",
      "[CV] END learning_rate=0.01, max_depth=4, max_features=4, n_estimators=500, subsample=1; total time=   1.5s\n",
      "[CV] END learning_rate=0.01, max_depth=4, max_features=4, n_estimators=500, subsample=1; total time=   1.5s\n",
      "[CV] END learning_rate=0.01, max_depth=4, max_features=4, n_estimators=500, subsample=1; total time=   1.5s\n",
      "[CV] END learning_rate=0.01, max_depth=4, max_features=4, n_estimators=500, subsample=1; total time=   1.5s\n",
      "[CV] END learning_rate=0.01, max_depth=5, max_features=None, n_estimators=100, subsample=0.5; total time=   0.4s\n",
      "[CV] END learning_rate=0.01, max_depth=5, max_features=None, n_estimators=100, subsample=0.5; total time=   0.4s\n",
      "[CV] END learning_rate=0.01, max_depth=5, max_features=None, n_estimators=100, subsample=0.5; total time=   0.4s\n",
      "[CV] END learning_rate=0.01, max_depth=5, max_features=None, n_estimators=100, subsample=0.5; total time=   0.4s\n",
      "[CV] END learning_rate=0.01, max_depth=5, max_features=None, n_estimators=100, subsample=0.5; total time=   0.4s\n",
      "[CV] END learning_rate=0.01, max_depth=5, max_features=None, n_estimators=100, subsample=1; total time=   0.7s\n",
      "[CV] END learning_rate=0.01, max_depth=5, max_features=None, n_estimators=100, subsample=1; total time=   0.7s\n",
      "[CV] END learning_rate=0.01, max_depth=5, max_features=None, n_estimators=100, subsample=1; total time=   0.7s\n",
      "[CV] END learning_rate=0.01, max_depth=5, max_features=None, n_estimators=100, subsample=1; total time=   0.7s\n"
     ]
    },
    {
     "name": "stdout",
     "output_type": "stream",
     "text": [
      "[CV] END learning_rate=0.01, max_depth=5, max_features=None, n_estimators=100, subsample=1; total time=   0.7s\n",
      "[CV] END learning_rate=0.01, max_depth=5, max_features=None, n_estimators=200, subsample=0.5; total time=   0.9s\n",
      "[CV] END learning_rate=0.01, max_depth=5, max_features=None, n_estimators=200, subsample=0.5; total time=   0.9s\n",
      "[CV] END learning_rate=0.01, max_depth=5, max_features=None, n_estimators=200, subsample=0.5; total time=   0.9s\n",
      "[CV] END learning_rate=0.01, max_depth=5, max_features=None, n_estimators=200, subsample=0.5; total time=   0.9s\n",
      "[CV] END learning_rate=0.01, max_depth=5, max_features=None, n_estimators=200, subsample=0.5; total time=   0.9s\n"
     ]
    }
   ],
   "source": [
    "grid_gb_model.fit(X_train, y_train)"
   ]
  },
  {
   "cell_type": "code",
   "execution_count": null,
   "metadata": {},
   "outputs": [],
   "source": [
    "grid_gb_model.best_estimator_"
   ]
  },
  {
   "cell_type": "code",
   "execution_count": null,
   "metadata": {},
   "outputs": [],
   "source": [
    "grid_gb_model.best_params_"
   ]
  },
  {
   "cell_type": "code",
   "execution_count": null,
   "metadata": {},
   "outputs": [],
   "source": [
    "y_pred = grid_gb_model.predict(X_test)"
   ]
  },
  {
   "cell_type": "markdown",
   "metadata": {
    "id": "VAiUMdtI2snk"
   },
   "source": [
    "#### Evaluating Model Performance"
   ]
  },
  {
   "cell_type": "markdown",
   "metadata": {
    "id": "92xg3rvR2snl"
   },
   "source": [
    "- Confusion Matrix : You can use scikit-learn metrics module for accuracy calculation. A Confusion matrix is an N x N matrix used for evaluating the performance of a classification model, where N is the number of target classes. The matrix compares the actual target values with those predicted by the machine learning model. This gives us a holistic view of how well our classification model is performing and what kinds of errors it is making.\n",
    "\n",
    "    [Confusion Matrix](https://www.analyticsvidhya.com/blog/2020/04/confusion-matrix-machine-learning/)"
   ]
  },
  {
   "cell_type": "markdown",
   "metadata": {
    "id": "S9VeChm62snm"
   },
   "source": [
    "- Yellowbrick: Yellowbrick is a suite of visualization and diagnostic tools that will enable quicker model selection. It’s a Python package that combines scikit-learn and matplotlib. Some of the more popular visualization tools include model selection, feature visualization, classification and regression visualization\n",
    "\n",
    "    [Yellowbrick](https://www.analyticsvidhya.com/blog/2018/05/yellowbrick-a-set-of-visualization-tools-to-accelerate-your-model-selection-process/)"
   ]
  },
  {
   "cell_type": "code",
   "execution_count": null,
   "metadata": {
    "collapsed": true,
    "id": "ber3WeUk2snn",
    "jupyter": {
     "outputs_hidden": true
    },
    "outputId": "c634b756-d466-4a59-b083-468a5ce04495"
   },
   "outputs": [
    {
     "name": "stdout",
     "output_type": "stream",
     "text": [
      "Requirement already satisfied: yellowbrick in c:\\users\\hp\\anaconda3\\lib\\site-packages (1.2)\n",
      "Requirement already satisfied: scikit-learn>=0.20 in c:\\users\\hp\\anaconda3\\lib\\site-packages (from yellowbrick) (0.22.1)\n",
      "Requirement already satisfied: scipy>=1.0.0 in c:\\users\\hp\\anaconda3\\lib\\site-packages (from yellowbrick) (1.4.1)\n",
      "Requirement already satisfied: numpy>=1.13.0 in c:\\users\\hp\\appdata\\roaming\\python\\python37\\site-packages (from yellowbrick) (1.19.0)\n",
      "Requirement already satisfied: cycler>=0.10.0 in c:\\users\\hp\\anaconda3\\lib\\site-packages (from yellowbrick) (0.10.0)\n",
      "Requirement already satisfied: matplotlib!=3.0.0,>=2.0.2 in c:\\users\\hp\\anaconda3\\lib\\site-packages (from yellowbrick) (3.1.3)\n",
      "Requirement already satisfied: joblib>=0.11 in c:\\users\\hp\\anaconda3\\lib\\site-packages (from scikit-learn>=0.20->yellowbrick) (0.14.1)\n",
      "Requirement already satisfied: six in c:\\users\\hp\\anaconda3\\lib\\site-packages (from cycler>=0.10.0->yellowbrick) (1.15.0)\n",
      "Requirement already satisfied: python-dateutil>=2.1 in c:\\users\\hp\\anaconda3\\lib\\site-packages (from matplotlib!=3.0.0,>=2.0.2->yellowbrick) (2.8.1)\n",
      "Requirement already satisfied: pyparsing!=2.0.4,!=2.1.2,!=2.1.6,>=2.0.1 in c:\\users\\hp\\anaconda3\\lib\\site-packages (from matplotlib!=3.0.0,>=2.0.2->yellowbrick) (2.4.6)\n",
      "Requirement already satisfied: kiwisolver>=1.0.1 in c:\\users\\hp\\anaconda3\\lib\\site-packages (from matplotlib!=3.0.0,>=2.0.2->yellowbrick) (1.1.0)\n",
      "Requirement already satisfied: setuptools in c:\\users\\hp\\anaconda3\\lib\\site-packages (from kiwisolver>=1.0.1->matplotlib!=3.0.0,>=2.0.2->yellowbrick) (50.3.0)\n",
      "Note: you may need to restart the kernel to use updated packages.\n"
     ]
    }
   ],
   "source": [
    "pip install yellowbrick"
   ]
  },
  {
   "cell_type": "code",
   "execution_count": null,
   "metadata": {
    "id": "CSUOz5302snx"
   },
   "outputs": [],
   "source": [
    "gb_f1 = f1_score(y_test, y_pred)\n",
    "gb_recall = recall_score(y_test, y_pred)\n",
    "gb_auc = roc_auc_score(y_test, y_pred)\n",
    "print(confusion_matrix(y_test, y_pred))\n",
    "print(classification_report(y_test,y_pred))"
   ]
  },
  {
   "cell_type": "code",
   "execution_count": null,
   "metadata": {},
   "outputs": [],
   "source": [
    "plot_roc_curve(grid_gb_model, X_test, y_test);"
   ]
  },
  {
   "cell_type": "code",
   "execution_count": null,
   "metadata": {},
   "outputs": [],
   "source": [
    "y_pred = grid_gb_model.predict(X_test)"
   ]
  },
  {
   "cell_type": "code",
   "execution_count": null,
   "metadata": {},
   "outputs": [],
   "source": [
    "result = pd.concat(y_test, y_pred, axis=1)"
   ]
  },
  {
   "cell_type": "code",
   "execution_count": null,
   "metadata": {},
   "outputs": [],
   "source": [
    "pd.DataFrame(result)"
   ]
  },
  {
   "cell_type": "markdown",
   "metadata": {
    "id": "90HfPd4w2sn1"
   },
   "source": [
    "#### Prediction"
   ]
  },
  {
   "cell_type": "code",
   "execution_count": null,
   "metadata": {},
   "outputs": [],
   "source": [
    "grid_gb_model.fit(X,y)"
   ]
  },
  {
   "cell_type": "code",
   "execution_count": null,
   "metadata": {},
   "outputs": [],
   "source": []
  },
  {
   "cell_type": "code",
   "execution_count": null,
   "metadata": {},
   "outputs": [],
   "source": [
    "grid_gb_model.pred(my_dict)"
   ]
  },
  {
   "cell_type": "markdown",
   "metadata": {
    "id": "z9P157eX2sn2"
   },
   "source": [
    "### #KNeighbors Classifier"
   ]
  },
  {
   "cell_type": "markdown",
   "metadata": {
    "id": "QPakx2ON2sn3"
   },
   "source": [
    "#### Model Building"
   ]
  },
  {
   "cell_type": "code",
   "execution_count": null,
   "metadata": {
    "id": "HkNI16f72sn4"
   },
   "outputs": [],
   "source": []
  },
  {
   "cell_type": "markdown",
   "metadata": {
    "id": "MdGymWJ_2sn9"
   },
   "source": [
    "#### Evaluating Model Performance"
   ]
  },
  {
   "cell_type": "code",
   "execution_count": null,
   "metadata": {
    "id": "TPF_wziW2soC"
   },
   "outputs": [],
   "source": []
  },
  {
   "cell_type": "markdown",
   "metadata": {
    "id": "_BYTdWlr2soJ"
   },
   "source": [
    "#### Prediction"
   ]
  },
  {
   "cell_type": "markdown",
   "metadata": {
    "id": "PfMy1D_p2soK"
   },
   "source": [
    "### #Random Forest Classifier"
   ]
  },
  {
   "cell_type": "markdown",
   "metadata": {
    "id": "M4GifMUw2soL"
   },
   "source": [
    "#### Model Building"
   ]
  },
  {
   "cell_type": "code",
   "execution_count": null,
   "metadata": {
    "id": "uhjBZQbu2soN"
   },
   "outputs": [],
   "source": []
  },
  {
   "cell_type": "markdown",
   "metadata": {
    "id": "xRUPvrME2soc"
   },
   "source": [
    "#### Evaluating Model Performance"
   ]
  },
  {
   "cell_type": "code",
   "execution_count": null,
   "metadata": {
    "id": "tXKuonpN2soe"
   },
   "outputs": [],
   "source": []
  },
  {
   "cell_type": "markdown",
   "metadata": {
    "id": "SKLtTwJ82som"
   },
   "source": [
    "#### Prediction"
   ]
  },
  {
   "cell_type": "code",
   "execution_count": null,
   "metadata": {
    "id": "QdFUSrml2sop"
   },
   "outputs": [],
   "source": []
  },
  {
   "cell_type": "markdown",
   "metadata": {},
   "source": [
    "### #XGBoost Classifier"
   ]
  },
  {
   "cell_type": "markdown",
   "metadata": {},
   "source": [
    "#### Model Building"
   ]
  },
  {
   "cell_type": "code",
   "execution_count": null,
   "metadata": {},
   "outputs": [],
   "source": [
    "from xgboost import XGBClassifier"
   ]
  },
  {
   "cell_type": "markdown",
   "metadata": {},
   "source": [
    "#### Evaluating Model Performance"
   ]
  },
  {
   "cell_type": "code",
   "execution_count": null,
   "metadata": {},
   "outputs": [],
   "source": []
  },
  {
   "cell_type": "markdown",
   "metadata": {},
   "source": [
    "#### Prediction"
   ]
  },
  {
   "cell_type": "code",
   "execution_count": null,
   "metadata": {},
   "outputs": [],
   "source": []
  },
  {
   "cell_type": "markdown",
   "metadata": {
    "id": "Hv7E8XsazFMM"
   },
   "source": [
    "## 6. Model Deployement\n",
    "\n",
    "You cooked the food in the kitchen and moved on to the serving stage. The question is how do you showcase your work to others? Model Deployement helps you showcase your work to the world and make better decisions with it. But, deploying a model can get a little tricky at times. Before deploying the model, many things such as data storage, preprocessing, model building and monitoring need to be studied. Streamlit is a popular open source framework used by data scientists for model distribution.\n",
    "\n",
    "Deployment of machine learning models, means making your models available to your other business systems. By deploying models, other systems can send data to them and get their predictions, which are in turn populated back into the company systems. Through machine learning model deployment, can begin to take full advantage of the model you built.\n",
    "\n",
    "Data science is concerned with how to build machine learning models, which algorithm is more predictive, how to design features, and what variables to use to make the models more accurate. However, how these models are actually used is often neglected. And yet this is the most important step in the machine learning pipline. Only when a model is fully integrated with the business systems, real values ​​can be extract from its predictions.\n",
    "\n",
    "After doing the following operations in this notebook, jump to new .py file and create your web app with Streamlit."
   ]
  },
  {
   "cell_type": "markdown",
   "metadata": {
    "id": "m5pwXBOkJPeM"
   },
   "source": [
    "### Save and Export the Model as .pkl"
   ]
  },
  {
   "cell_type": "code",
   "execution_count": null,
   "metadata": {
    "id": "mmlin9CEzFr7"
   },
   "outputs": [],
   "source": []
  },
  {
   "cell_type": "markdown",
   "metadata": {
    "id": "r7sGSN6RJR6V"
   },
   "source": [
    "### Save and Export Variables as .pkl"
   ]
  },
  {
   "cell_type": "code",
   "execution_count": null,
   "metadata": {
    "id": "2WeQNcROJScb"
   },
   "outputs": [],
   "source": []
  },
  {
   "cell_type": "markdown",
   "metadata": {
    "id": "aD6JV41czCKr"
   },
   "source": [
    "___\n",
    "\n",
    "<p style=\"text-align: center;\"><img src=\"https://docs.google.com/uc?id=1lY0Uj5R04yMY3-ZppPWxqCr5pvBLYPnV\" class=\"img-fluid\" alt=\"CLRSWY\"></p>\n",
    "\n",
    "___"
   ]
  }
 ],
 "metadata": {
  "colab": {
   "collapsed_sections": [],
   "name": "Churn Prediction_Student_Notebook.ipynb",
   "provenance": []
  },
  "interpreter": {
   "hash": "43a9cd95aa030499ef934e4da31e07dde54f3fc3a1fd0cc4aeef7f16459ee2ac"
  },
  "kernelspec": {
   "display_name": "Python 3",
   "language": "python",
   "name": "python3"
  },
  "language_info": {
   "codemirror_mode": {
    "name": "ipython",
    "version": 3
   },
   "file_extension": ".py",
   "mimetype": "text/x-python",
   "name": "python",
   "nbconvert_exporter": "python",
   "pygments_lexer": "ipython3",
   "version": "3.8.10"
  }
 },
 "nbformat": 4,
 "nbformat_minor": 2
}
