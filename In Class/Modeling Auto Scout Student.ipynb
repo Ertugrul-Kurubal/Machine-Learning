{
 "cells": [
  {
   "cell_type": "markdown",
   "metadata": {
    "id": "4UCsvzbImqZN"
   },
   "source": [
    "___\n",
    "\n",
    "<p style=\"text-align: center;\"><img src=\"https://docs.google.com/uc?id=1lY0Uj5R04yMY3-ZppPWxqCr5pvBLYPnV\" class=\"img-fluid\" alt=\"CLRSWY\"></p>\n",
    "\n",
    "___"
   ]
  },
  {
   "cell_type": "markdown",
   "metadata": {
    "id": "i5WapR8JmqZN"
   },
   "source": [
    "# WELCOME!"
   ]
  },
  {
   "cell_type": "markdown",
   "metadata": {
    "id": "ZyeGWbuTmqZN"
   },
   "source": [
    "Welcome to \"***Car Price Prediction Project***\". This is the first medium project of ***Machine Learning*** course. In this project you will have the opportunity to apply many algorithms commonly used for regression problems.\n",
    "\n",
    "Also, you will apply various processes such as pre-processing, ***train-test spilit*** and ***cross validation*** that you will use in algorithm modeling and prediction processes in Python with ***scikit-learn***. \n",
    "\n",
    "Before diving into the project, please take a look at the determines and tasks.\n",
    "\n",
    "- **NOTE:** This project assumes that you already know the basics of coding in Python. You should also be familiar with the theory behind regression algorithms and scikit-learn module as well as Machine Learning before you begin.\n"
   ]
  },
  {
   "cell_type": "markdown",
   "metadata": {
    "id": "c0Iul5QymqZN"
   },
   "source": [
    "# #Determines\n",
    "\n",
    "**Auto Scout** data which using for this project, scraped from the on-line car trading company(https://www.autoscout24.com)in 2019, contains many features of 9 different car models. In this project, you will use the data set which is already preprocessed and prepared for algorithms .\n",
    "\n",
    "The aim of this project to understand of machine learning algorithms. Therefore, you will not need any EDA process as you will be working on the edited data.\n",
    "\n",
    "---\n",
    "\n",
    "In this Senario, you will estimate the prices of cars using regression algorithms.\n",
    "\n",
    "While starting you should import the necessary modules and load the data given as pkl file. Also you'll need to do a few pre-processing before moving to modelling. After that you will implement ***Linear Regression, Ridge Regression, Lasso Regression,and Elastic-Net algorithms respectively*** (After completion of Unsupervised Learning section, you can also add bagging and boosting algorithms such as ***Random Forest and XG Boost*** this notebook to develop the project. You can measure the success of your models with regression evaluation metrics as well as with cross validation method.\n",
    "\n",
    "For the better results, you should try to increase the success of your models by performing hyperparameter tuning. Determine feature importances for the model. You can set your model with the most important features for resource saving. You should try to apply this especially in Random Forest and XG Boost algorithms. Unlike the others, you will perform hyperparameter tuning for Random Forest and XG Boost using the ***GridSearchCV*** method. \n",
    "\n",
    "Finally You can compare the performances of algorithms, work more on the algorithm have the most successful prediction rate.\n",
    "\n",
    "\n",
    "\n",
    "\n"
   ]
  },
  {
   "cell_type": "markdown",
   "metadata": {
    "id": "pL-jJ1irmqZN"
   },
   "source": [
    "# #Tasks\n",
    "\n",
    "#### 1. Import Modules, Load Data and Data Review\n",
    "#### 2. Data Pre-Processing\n",
    "#### 3. Implement Linear Regression \n",
    "#### 4. Implement Ridge Regression\n",
    "#### 5. Implement Lasso Regression \n",
    "#### 6. Implement Elastic-Net\n",
    "#### 7. Visually Compare Models Performance In a Graph"
   ]
  },
  {
   "cell_type": "markdown",
   "metadata": {
    "id": "Rik6d_vimqZN"
   },
   "source": [
    "## 1. Import Modules, Load Data and Data Review"
   ]
  },
  {
   "cell_type": "code",
   "execution_count": 13,
   "metadata": {
    "id": "QBddHlqgmqZN"
   },
   "outputs": [],
   "source": [
    "import numpy as np\n",
    "import pandas as pd\n",
    "import matplotlib.pyplot as plt\n",
    "import seaborn as sns\n",
    "pd.set_option('display.max_columns', 100)"
   ]
  },
  {
   "cell_type": "code",
   "execution_count": 14,
   "metadata": {},
   "outputs": [],
   "source": [
    "df = pd.read_pickle(\"golden_data_dummy.pkl\")"
   ]
  },
  {
   "cell_type": "code",
   "execution_count": 15,
   "metadata": {},
   "outputs": [
    {
     "output_type": "execute_result",
     "data": {
      "text/plain": [
       "0.0             1.0        1.0   \n",
       "3                 1.0             1.0        1.0   \n",
       "4                 0.0             1.0        1.0   \n",
       "...               ...             ...        ...   \n",
       "15913             0.0             1.0        1.0   \n",
       "15915             0.0             1.0        1.0   \n",
       "15916             0.0             1.0        1.0   \n",
       "15917             0.0             0.0        1.0   \n",
       "15918             0.0             1.0        1.0   \n",
       "\n",
       "       ss_led_daytime_running_lights  ss_led_headlights  \\\n",
       "0                                0.0                0.0   \n",
       "1                                0.0                0.0   \n",
       "2                                0.0                0.0   \n",
       "3                                0.0                0.0   \n",
       "4                                0.0                0.0   \n",
       "...                              ...                ...   \n",
       "15913                            1.0                1.0   \n",
       "15915                            1.0                1.0   \n",
       "15916                            1.0                1.0   \n",
       "15917                            0.0                1.0   \n",
       "15918                            1.0                0.0   \n",
       "\n",
       "       ss_lane_departure_warning_system  ss_night_view_assist  \\\n",
       "0                                   0.0                   0.0   \n",
       "1                                   0.0                   0.0   \n",
       "2                                   0.0                   0.0   \n",
       "3                                   0.0                   0.0   \n",
       "4                                   0.0                   0.0   \n",
       "...                                 ...                   ...   \n",
       "15913                               1.0                   0.0   \n",
       "15915                               1.0                   0.0   \n",
       "15916                               1.0                   0.0   \n",
       "15917                               0.0                   0.0   \n",
       "15918                               0.0                   0.0   \n",
       "\n",
       "       ss_passenger_side_airbag  ss_power_steering  ss_rear_airbag  \\\n",
       "0                           1.0                1.0             0.0   \n",
       "1                           1.0                1.0             0.0   \n",
       "2                           1.0                1.0             0.0   \n",
       "3                           1.0                1.0             0.0   \n",
       "4                           1.0                1.0             0.0   \n",
       "...                         ...                ...             ...   \n",
       "15913                       1.0                1.0             0.0   \n",
       "15915                       1.0                1.0             0.0   \n",
       "15916                       1.0                1.0             0.0   \n",
       "15917                       1.0                1.0             0.0   \n",
       "15918                       1.0                1.0             0.0   \n",
       "\n",
       "       ss_side_airbag  ss_tire_pressure_monitoring_system  \\\n",
       "0                 1.0                                 1.0   \n",
       "1                 1.0                                 1.0   \n",
       "2                 1.0                                 1.0   \n",
       "3                 1.0                                 1.0   \n",
       "4                 1.0                                 1.0   \n",
       "...               ...                                 ...   \n",
       "15913             1.0                                 1.0   \n",
       "15915             1.0                                 1.0   \n",
       "15916             1.0                                 0.0   \n",
       "15917             1.0                                 1.0   \n",
       "15918             1.0                                 1.0   \n",
       "\n",
       "       ss_traction_control  ss_traffic_sign_recognition  ss_xenon_headlights  \\\n",
       "0                      1.0                          0.0                  1.0   \n",
       "1                      1.0                          0.0                  1.0   \n",
       "2                      1.0                          0.0                  0.0   \n",
       "3                      0.0                          0.0                  0.0   \n",
       "4                      1.0                          0.0                  1.0   \n",
       "...                    ...                          ...                  ...   \n",
       "15913                  1.0                          1.0                  0.0   \n",
       "15915                  1.0                          1.0                  0.0   \n",
       "15916                  1.0                          1.0                  0.0   \n",
       "15917                  0.0                          1.0                  0.0   \n",
       "15918                  0.0                          1.0                  0.0   \n",
       "\n",
       "       consumption_comb  inspection_new  price  age  ent_media_bluetooth  \\\n",
       "0              3.800000               1  15770    3                  1.0   \n",
       "1              5.600000               0  14500    2                  1.0   \n",
       "2              3.800000               0  14640    3                  0.0   \n",
       "3              3.800000               0  14500    3                  1.0   \n",
       "4              4.100000               1  16790    3                  1.0   \n",
       "...                 ...             ...    ...  ...                  ...   \n",
       "15913          6.800000               0  39950    0                  1.0   \n",
       "15915          6.558386               0  39885    0                  1.0   \n",
       "15916          5.300000               1  39875    0                  1.0   \n",
       "15917          5.300000               0  39700    0                  1.0   \n",
       "15918          6.800000               1  40999    0                  0.0   \n",
       "\n",
       "       ent_media_cd_player  ent_media_digital_radio  \\\n",
       "0                      0.0                      0.0   \n",
       "1                      0.0                      0.0   \n",
       "2                      0.0                      0.0   \n",
       "3                      1.0                      0.0   \n",
       "4                      1.0                      0.0   \n",
       "...                    ...                      ...   \n",
       "15913                  0.0                      1.0   \n",
       "15915                  0.0                      1.0   \n",
       "15916                  0.0                      0.0   \n",
       "15917                  0.0                      1.0   \n",
       "15918                  0.0                      0.0   \n",
       "\n",
       "       ent_media_hands_free_equipment  ent_media_mp3  \\\n",
       "0                                 1.0            0.0   \n",
       "1                                 1.0            0.0   \n",
       "2                                 0.0            1.0   \n",
       "3                                 1.0            1.0   \n",
       "4                                 1.0            1.0   \n",
       "...                               ...            ...   \n",
       "15913                             1.0            1.0   \n",
       "15915                             1.0            0.0   \n",
       "15916                             1.0            0.0   \n",
       "15917                             0.0            0.0   \n",
       "15918                             0.0            0.0   \n",
       "\n",
       "       ent_media_on_board_computer  ent_media_radio  ent_media_sound_system  \\\n",
       "0                              1.0              1.0                     0.0   \n",
       "1                              1.0              1.0                     1.0   \n",
       "2                              1.0              0.0                     0.0   \n",
       "3                              1.0              1.0                     1.0   \n",
       "4                              1.0              1.0                     0.0   \n",
       "...                            ...              ...                     ...   \n",
       "15913                          1.0              1.0                     0.0   \n",
       "15915                          0.0              1.0                     0.0   \n",
       "15916                          1.0              1.0                     0.0   \n",
       "15917                          0.0              1.0                     0.0   \n",
       "15918                          0.0              0.0                     0.0   \n",
       "\n",
       "       ent_media_television  ent_media_usb  nr_of_doors  nr_of_seats  \\\n",
       "0                       0.0            0.0          5.0          5.0   \n",
       "1                       0.0            0.0          3.0          4.0   \n",
       "2                       0.0            0.0          4.0          4.0   \n",
       "3                       0.0            1.0          3.0          4.0   \n",
       "4                       0.0            1.0          5.0          5.0   \n",
       "...                     ...            ...          ...          ...   \n",
       "15913                   0.0            1.0          5.0          7.0   \n",
       "15915                   0.0            1.0          5.0          5.0   \n",
       "15916                   0.0            0.0          5.0          7.0   \n",
       "15917                   0.0            1.0          5.0          7.0   \n",
       "15918                   0.0            1.0          5.0          5.0   \n",
       "\n",
       "       warranty  cc_air_conditioning  ...  cc_windshield  ext_alloy_wheels  \\\n",
       "0             1                  1.0  ...            0.0               1.0   \n",
       "1             0                  1.0  ...            0.0               1.0   \n",
       "2             1                  1.0  ...            0.0               1.0   \n",
       "3             0                  0.0  ...            0.0               1.0   \n",
       "4             1                  1.0  ...            0.0               1.0   \n",
       "...         ...                  ...  ...            ...               ...   \n",
       "15913         0                  1.0  ...            0.0               1.0   \n",
       "15915         1                  1.0  ...            0.0               1.0   \n",
       "15916         1                  1.0  ...            0.0               1.0   \n",
       "15917         1                  1.0  ...            0.0               1.0   \n",
       "15918         0                  1.0  ...            0.0               1.0   \n",
       "\n",
       "       ext_touch_screen  ext_trailer_hitch  ext_voice_control  make_Audi  \\\n",
       "0                   0.0                0.0                1.0          1   \n",
       "1                   0.0                0.0                1.0          1   \n",
       "2                   0.0                0.0                1.0          1   \n",
       "3                   0.0                0.0                1.0          1   \n",
       "4                   0.0                0.0                1.0          1   \n",
       "...                 ...                ...                ...        ...   \n",
       "15913               1.0                0.0                1.0          0   \n",
       "15915               1.0                0.0                1.0          0   \n",
       "15916               0.0                0.0                0.0          0   \n",
       "15917               1.0                0.0                0.0          0   \n",
       "15918               1.0                0.0                0.0          0   \n",
       "\n",
       "       make_Opel  make_Renault  model_A1  model_A2  model_A3  model_Astra  \\\n",
       "0              0             0         1         0         0            0   \n",
       "1              0             0         1         0         0            0   \n",
       "2              0             0         1         0         0            0   \n",
       "3              0             0         1         0         0            0   \n",
       "4              0             0         1         0         0            0   \n",
       "...          ...           ...       ...       ...       ...          ...   \n",
       "15913          0             1         0         0         0            0   \n",
       "15915          0             1         0         0         0            0   \n",
       "15916          0             1         0         0         0            0   \n",
       "15917          0             1         0         0         0            0   \n",
       "15918          0             1         0         0         0            0   \n",
       "\n",
       "       model_Clio  model_Corsa  model_Espace  model_Insignia  body_Compact  \\\n",
       "0               0            0             0               0             0   \n",
       "1               0            0             0               0             0   \n",
       "2               0            0             0               0             0   \n",
       "3               0            0             0               0             0   \n",
       "4               0            0             0               0             0   \n",
       "...           ...          ...           ...             ...           ...   \n",
       "15913           0            0             1               0             0   \n",
       "15915           0            0             1               0             0   \n",
       "15916           0            0             1               0             0   \n",
       "15917           0            0             1               0             0   \n",
       "15918           0            0             1               0             0   \n",
       "\n",
       "       body_Convertible  body_Coupe  body_Off-Road  body_Other  body_Sedans  \\\n",
       "0                     0           0              0           0            1   \n",
       "1                     0           0              0           0            1   \n",
       "2                     0           0              0           0            1   \n",
       "3                     0           0              0           0            1   \n",
       "4                     0           0              0           0            1   \n",
       "...                 ...         ...            ...         ...          ...   \n",
       "15913                 0           0              0           0            0   \n",
       "15915                 0           0              0           0            0   \n",
       "15916                 0           0              0           0            0   \n",
       "15917                 0           0              0           0            0   \n",
       "15918                 0           0              0           0            0   \n",
       "\n",
       "       body_Station wagon  body_Transporter  body_Van  body_color_Beige  \\\n",
       "0                       0                 0         0                 0   \n",
       "1                       0                 0         0                 0   \n",
       "2                       0                 0         0                 0   \n",
       "3                       0                 0         0                 0   \n",
       "4                       0                 0         0                 0   \n",
       "...                   ...               ...       ...               ...   \n",
       "15913                   0                 0         1                 0   \n",
       "15915                   0                 0         1                 0   \n",
       "15916                   0                 0         1                 0   \n",
       "15917                   0                 0         1                 0   \n",
       "15918                   0                 0         1                 0   \n",
       "\n",
       "       body_color_Black  body_color_Blue  body_color_Bronze  body_color_Brown  \\\n",
       "0                     1                0                  0                 0   \n",
       "1                     0                0                  0                 0   \n",
       "2                     1                0                  0                 0   \n",
       "3                     0                0                  0                 1   \n",
       "4                     1                0                  0                 0   \n",
       "...                 ...              ...                ...               ...   \n",
       "15913                 0                0                  0                 0   \n",
       "15915                 0                0                  0                 0   \n",
       "15916                 0                0                  0                 0   \n",
       "15917                 0                0                  0                 0   \n",
       "15918                 0                0                  0                 0   \n",
       "\n",
       "       body_color_Green  body_color_Grey  body_color_Orange  body_color_Red  \\\n",
       "0                     0                0                  0               0   \n",
       "1                     0                0                  0               1   \n",
       "2                     0                0                  0               0   \n",
       "3                     0                0                  0               0   \n",
       "4                     0                0                  0               0   \n",
       "...                 ...              ...                ...             ...   \n",
       "15913                 0                0                  0               0   \n",
       "15915                 0                1                  0               0   \n",
       "15916                 0                0                  0               0   \n",
       "15917                 0                1                  0               0   \n",
       "15918                 0                1                  0               0   \n",
       "\n",
       "       body_color_Silver  body_color_Violet  body_color_White  \\\n",
       "0                      0                  0                 0   \n",
       "1                      0                  0                 0   \n",
       "2                      0                  0                 0   \n",
       "3                      0                  0                 0   \n",
       "4                      0                  0                 0   \n",
       "...                  ...                ...               ...   \n",
       "15913                  0                  0                 1   \n",
       "15915                  0                  0                 0   \n",
       "15916                  0                  0                 1   \n",
       "15917                  0                  0                 0   \n",
       "15918                  0                  0                 0   \n",
       "\n",
       "       body_color_Yellow  gearing_type_Automatic  gearing_type_Manual  \\\n",
       "0                      0                       1                    0   \n",
       "1                      0                       1                    0   \n",
       "2                      0                       1                    0   \n",
       "3                      0                       1                    0   \n",
       "4                      0                       1                    0   \n",
       "...                  ...                     ...                  ...   \n",
       "15913                  0                       1                    0   \n",
       "15915                  0                       1                    0   \n",
       "15916                  0                       1                    0   \n",
       "15917                  0                       1                    0   \n",
       "15918                  0                       1                    0   \n",
       "\n",
       "       gearing_type_Semi-automatic  fuel_diesel  fuel_electric  fuel_gasoline  \\\n",
       "0                                0            1              0              0   \n",
       "1                                0            0              0              1   \n",
       "2                                0            1              0              0   \n",
       "3                                0            1              0              0   \n",
       "4                                0            1              0              0   \n",
       "...                            ...          ...            ...            ...   \n",
       "15913                            0            0              0              1   \n",
       "15915                            0            0              0              1   \n",
       "15916                            0            1              0              0   \n",
       "15917                            0            1              0              0   \n",
       "15918                            0            0              0              1   \n",
       "\n",
       "       fuel_lpg  type_Demonstration  type_Employee's car  type_New  \\\n",
       "0             0                   0                    0         0   \n",
       "1             0                   0                    0         0   \n",
       "2             0                   0                    0         0   \n",
       "3             0                   0                    0         0   \n",
       "4             0                   0                    0         0   \n",
       "...         ...                 ...                  ...       ...   \n",
       "15913         0                   1                    0         0   \n",
       "15915         0                   0                    0         0   \n",
       "15916         0                   0                    0         0   \n",
       "15917         0                   0                    0         0   \n",
       "15918         0                   1                    0         0   \n",
       "\n",
       "       type_Pre-registered  type_Used  \n",
       "0                        0          1  \n",
       "1                        0          1  \n",
       "2                        0          1  \n",
       "3                        0          1  \n",
       "4                        0          1  \n",
       "...                    ...        ...  \n",
       "15913                    0          0  \n",
       "15915                    0          1  \n",
       "15916                    1          0  \n",
       "15917                    1          0  \n",
       "15918                    0          0  \n",
       "\n",
       "[14990 rows x 136 columns]"
      ],
      "text/html": "<div>\n<style scoped>\n    .dataframe tbody tr th:only-of-type {\n        vertical-align: middle;\n    }\n\n    .dataframe tbody tr th {\n        vertical-align: top;\n    }\n\n    .dataframe thead th {\n        text-align: right;\n    }\n</style>\n<table border=\"1\" class=\"dataframe\">\n  <thead>\n    <tr style=\"text-align: right;\">\n      <th></th>\n      <th>displacement</th>\n      <th>hp</th>\n      <th>km</th>\n      <th>ss_abs</th>\n      <th>ss_adaptive_cruise_control</th>\n      <th>ss_adaptive_headlights</th>\n      <th>ss_alarm_system</th>\n      <th>ss_blind_spot_monitor</th>\n      <th>ss_central_door_lock</th>\n      <th>ss_central_door_lock_with_remote_control</th>\n      <th>ss_daytime_running_lights</th>\n      <th>ss_driver_drowsiness_detection</th>\n      <th>ss_driver_side_airbag</th>\n      <th>ss_electronic_stability_control</th>\n      <th>ss_emergency_brake_assistant</th>\n      <th>ss_emergency_system</th>\n      <th>ss_fog_lights</th>\n      <th>ss_head_airbag</th>\n      <th>ss_immobilizer</th>\n      <th>ss_isofix</th>\n      <th>ss_led_daytime_running_lights</th>\n      <th>ss_led_headlights</th>\n      <th>ss_lane_departure_warning_system</th>\n      <th>ss_night_view_assist</th>\n      <th>ss_passenger_side_airbag</th>\n      <th>ss_power_steering</th>\n      <th>ss_rear_airbag</th>\n      <th>ss_side_airbag</th>\n      <th>ss_tire_pressure_monitoring_system</th>\n      <th>ss_traction_control</th>\n      <th>ss_traffic_sign_recognition</th>\n      <th>ss_xenon_headlights</th>\n      <th>consumption_comb</th>\n      <th>inspection_new</th>\n      <th>price</th>\n      <th>age</th>\n      <th>ent_media_bluetooth</th>\n      <th>ent_media_cd_player</th>\n      <th>ent_media_digital_radio</th>\n      <th>ent_media_hands_free_equipment</th>\n      <th>ent_media_mp3</th>\n      <th>ent_media_on_board_computer</th>\n      <th>ent_media_radio</th>\n      <th>ent_media_sound_system</th>\n      <th>ent_media_television</th>\n      <th>ent_media_usb</th>\n      <th>nr_of_doors</th>\n      <th>nr_of_seats</th>\n      <th>warranty</th>\n      <th>cc_air_conditioning</th>\n      <th>...</th>\n      <th>cc_windshield</th>\n      <th>ext_alloy_wheels</th>\n      <th>ext_touch_screen</th>\n      <th>ext_trailer_hitch</th>\n      <th>ext_voice_control</th>\n      <th>make_Audi</th>\n      <th>make_Opel</th>\n      <th>make_Renault</th>\n      <th>model_A1</th>\n      <th>model_A2</th>\n      <th>model_A3</th>\n      <th>model_Astra</th>\n      <th>model_Clio</th>\n      <th>model_Corsa</th>\n      <th>model_Espace</th>\n      <th>model_Insignia</th>\n      <th>body_Compact</th>\n      <th>body_Convertible</th>\n      <th>body_Coupe</th>\n      <th>body_Off-Road</th>\n      <th>body_Other</th>\n      <th>body_Sedans</th>\n      <th>body_Station wagon</th>\n      <th>body_Transporter</th>\n      <th>body_Van</th>\n      <th>body_color_Beige</th>\n      <th>body_color_Black</th>\n      <th>body_color_Blue</th>\n      <th>body_color_Bronze</th>\n      <th>body_color_Brown</th>\n      <th>body_color_Green</th>\n      <th>body_color_Grey</th>\n      <th>body_color_Orange</th>\n      <th>body_color_Red</th>\n      <th>body_color_Silver</th>\n      <th>body_color_Violet</th>\n      <th>body_color_White</th>\n      <th>body_color_Yellow</th>\n      <th>gearing_type_Automatic</th>\n      <th>gearing_type_Manual</th>\n      <th>gearing_type_Semi-automatic</th>\n      <th>fuel_diesel</th>\n      <th>fuel_electric</th>\n      <th>fuel_gasoline</th>\n      <th>fuel_lpg</th>\n      <th>type_Demonstration</th>\n      <th>type_Employee's car</th>\n      <th>type_New</th>\n      <th>type_Pre-registered</th>\n      <th>type_Used</th>\n    </tr>\n  </thead>\n  <tbody>\n    <tr>\n      <th>0</th>\n      <td>1422.0</td>\n      <td>66.0</td>\n      <td>56013</td>\n      <td>1.0</td>\n      <td>0.0</td>\n      <td>0.0</td>\n      <td>0.0</td>\n      <td>0.0</td>\n      <td>1.0</td>\n      <td>0.0</td>\n      <td>1.0</td>\n      <td>0.0</td>\n      <td>1.0</td>\n      <td>1.0</td>\n      <td>0.0</td>\n      <td>0.0</td>\n      <td>1.0</td>\n      <td>0.0</td>\n      <td>1.0</td>\n      <td>1.0</td>\n      <td>0.0</td>\n      <td>0.0</td>\n      <td>0.0</td>\n      <td>0.0</td>\n      <td>1.0</td>\n      <td>1.0</td>\n      <td>0.0</td>\n      <td>1.0</td>\n      <td>1.0</td>\n      <td>1.0</td>\n      <td>0.0</td>\n      <td>1.0</td>\n      <td>3.800000</td>\n      <td>1</td>\n      <td>15770</td>\n      <td>3</td>\n      <td>1.0</td>\n      <td>0.0</td>\n      <td>0.0</td>\n      <td>1.0</td>\n      <td>0.0</td>\n      <td>1.0</td>\n      <td>1.0</td>\n      <td>0.0</td>\n      <td>0.0</td>\n      <td>0.0</td>\n      <td>5.0</td>\n      <td>5.0</td>\n      <td>1</td>\n      <td>1.0</td>\n      <td>...</td>\n      <td>0.0</td>\n      <td>1.0</td>\n      <td>0.0</td>\n      <td>0.0</td>\n      <td>1.0</td>\n      <td>1</td>\n      <td>0</td>\n      <td>0</td>\n      <td>1</td>\n      <td>0</td>\n      <td>0</td>\n      <td>0</td>\n      <td>0</td>\n      <td>0</td>\n      <td>0</td>\n      <td>0</td>\n      <td>0</td>\n      <td>0</td>\n      <td>0</td>\n      <td>0</td>\n      <td>0</td>\n      <td>1</td>\n      <td>0</td>\n      <td>0</td>\n      <td>0</td>\n      <td>0</td>\n      <td>1</td>\n      <td>0</td>\n      <td>0</td>\n      <td>0</td>\n      <td>0</td>\n      <td>0</td>\n      <td>0</td>\n      <td>0</td>\n      <td>0</td>\n      <td>0</td>\n      <td>0</td>\n      <td>0</td>\n      <td>1</td>\n      <td>0</td>\n      <td>0</td>\n      <td>1</td>\n      <td>0</td>\n      <td>0</td>\n      <td>0</td>\n      <td>0</td>\n      <td>0</td>\n      <td>0</td>\n      <td>0</td>\n      <td>1</td>\n    </tr>\n    <tr>\n      <th>1</th>\n      <td>1798.0</td>\n      <td>141.0</td>\n      <td>80000</td>\n      <td>1.0</td>\n      <td>0.0</td>\n      <td>0.0</td>\n      <td>0.0</td>\n      <td>0.0</td>\n      <td>1.0</td>\n      <td>1.0</td>\n      <td>1.0</td>\n      <td>0.0</td>\n      <td>1.0</td>\n      <td>1.0</td>\n      <td>0.0</td>\n      <td>0.0</td>\n      <td>0.0</td>\n      <td>1.0</td>\n      <td>1.0</td>\n      <td>1.0</td>\n      <td>0.0</td>\n      <td>0.0</td>\n      <td>0.0</td>\n      <td>0.0</td>\n      <td>1.0</td>\n      <td>1.0</td>\n      <td>0.0</td>\n      <td>1.0</td>\n      <td>1.0</td>\n      <td>1.0</td>\n      <td>0.0</td>\n      <td>1.0</td>\n      <td>5.600000</td>\n      <td>0</td>\n      <td>14500</td>\n      <td>2</td>\n      <td>1.0</td>\n      <td>0.0</td>\n      <td>0.0</td>\n      <td>1.0</td>\n      <td>0.0</td>\n      <td>1.0</td>\n      <td>1.0</td>\n      <td>1.0</td>\n      <td>0.0</td>\n      <td>0.0</td>\n      <td>3.0</td>\n      <td>4.0</td>\n      <td>0</td>\n      <td>1.0</td>\n      <td>...</td>\n      <td>0.0</td>\n      <td>1.0</td>\n      <td>0.0</td>\n      <td>0.0</td>\n      <td>1.0</td>\n      <td>1</td>\n      <td>0</td>\n      <td>0</td>\n      <td>1</td>\n      <td>0</td>\n      <td>0</td>\n      <td>0</td>\n      <td>0</td>\n      <td>0</td>\n      <td>0</td>\n      <td>0</td>\n      <td>0</td>\n      <td>0</td>\n      <td>0</td>\n      <td>0</td>\n      <td>0</td>\n      <td>1</td>\n      <td>0</td>\n      <td>0</td>\n      <td>0</td>\n      <td>0</td>\n      <td>0</td>\n      <td>0</td>\n      <td>0</td>\n      <td>0</td>\n      <td>0</td>\n      <td>0</td>\n      <td>0</td>\n      <td>1</td>\n      <td>0</td>\n      <td>0</td>\n      <td>0</td>\n      <td>0</td>\n      <td>1</td>\n      <td>0</td>\n      <td>0</td>\n      <td>0</td>\n      <td>0</td>\n      <td>1</td>\n      <td>0</td>\n      <td>0</td>\n      <td>0</td>\n      <td>0</td>\n      <td>0</td>\n      <td>1</td>\n    </tr>\n    <tr>\n      <th>2</th>\n      <td>1598.0</td>\n      <td>85.0</td>\n      <td>83450</td>\n      <td>1.0</td>\n      <td>0.0</td>\n      <td>0.0</td>\n      <td>0.0</td>\n      <td>0.0</td>\n      <td>1.0</td>\n      <td>0.0</td>\n      <td>1.0</td>\n      <td>0.0</td>\n      <td>1.0</td>\n      <td>1.0</td>\n      <td>0.0</td>\n      <td>0.0</td>\n      <td>0.0</td>\n      <td>0.0</td>\n      <td>1.0</td>\n      <td>1.0</td>\n      <td>0.0</td>\n      <td>0.0</td>\n      <td>0.0</td>\n      <td>0.0</td>\n      <td>1.0</td>\n      <td>1.0</td>\n      <td>0.0</td>\n      <td>1.0</td>\n      <td>1.0</td>\n      <td>1.0</td>\n      <td>0.0</td>\n      <td>0.0</td>\n      <td>3.800000</td>\n      <td>0</td>\n      <td>14640</td>\n      <td>3</td>\n      <td>0.0</td>\n      <td>0.0</td>\n      <td>0.0</td>\n      <td>0.0</td>\n      <td>1.0</td>\n      <td>1.0</td>\n      <td>0.0</td>\n      <td>0.0</td>\n      <td>0.0</td>\n      <td>0.0</td>\n      <td>4.0</td>\n      <td>4.0</td>\n      <td>1</td>\n      <td>1.0</td>\n      <td>...</td>\n      <td>0.0</td>\n      <td>1.0</td>\n      <td>0.0</td>\n      <td>0.0</td>\n      <td>1.0</td>\n      <td>1</td>\n      <td>0</td>\n      <td>0</td>\n      <td>1</td>\n      <td>0</td>\n      <td>0</td>\n      <td>0</td>\n      <td>0</td>\n      <td>0</td>\n      <td>0</td>\n      <td>0</td>\n      <td>0</td>\n      <td>0</td>\n      <td>0</td>\n      <td>0</td>\n      <td>0</td>\n      <td>1</td>\n      <td>0</td>\n      <td>0</td>\n      <td>0</td>\n      <td>0</td>\n      <td>1</td>\n      <td>0</td>\n      <td>0</td>\n      <td>0</td>\n      <td>0</td>\n      <td>0</td>\n      <td>0</td>\n      <td>0</td>\n      <td>0</td>\n      <td>0</td>\n      <td>0</td>\n      <td>0</td>\n      <td>1</td>\n      <td>0</td>\n      <td>0</td>\n      <td>1</td>\n      <td>0</td>\n      <td>0</td>\n      <td>0</td>\n      <td>0</td>\n      <td>0</td>\n      <td>0</td>\n      <td>0</td>\n      <td>1</td>\n    </tr>\n    <tr>\n      <th>3</th>\n      <td>1422.0</td>\n      <td>66.0</td>\n      <td>73000</td>\n      <td>1.0</td>\n      <td>0.0</td>\n      <td>0.0</td>\n      <td>1.0</td>\n      <td>0.0</td>\n      <td>0.0</td>\n      <td>1.0</td>\n      <td>0.0</td>\n      <td>1.0</td>\n      <td>1.0</td>\n      <td>1.0</td>\n      <td>0.0</td>\n      <td>1.0</td>\n      <td>0.0</td>\n      <td>1.0</td>\n      <td>1.0</td>\n      <td>1.0</td>\n      <td>0.0</td>\n      <td>0.0</td>\n      <td>0.0</td>\n      <td>0.0</td>\n      <td>1.0</td>\n      <td>1.0</td>\n      <td>0.0</td>\n      <td>1.0</td>\n      <td>1.0</td>\n      <td>0.0</td>\n      <td>0.0</td>\n      <td>0.0</td>\n      <td>3.800000</td>\n      <td>0</td>\n      <td>14500</td>\n      <td>3</td>\n      <td>1.0</td>\n      <td>1.0</td>\n      <td>0.0</td>\n      <td>1.0</td>\n      <td>1.0</td>\n      <td>1.0</td>\n      <td>1.0</td>\n      <td>1.0</td>\n      <td>0.0</td>\n      <td>1.0</td>\n      <td>3.0</td>\n      <td>4.0</td>\n      <td>0</td>\n      <td>0.0</td>\n      <td>...</td>\n      <td>0.0</td>\n      <td>1.0</td>\n      <td>0.0</td>\n      <td>0.0</td>\n      <td>1.0</td>\n      <td>1</td>\n      <td>0</td>\n      <td>0</td>\n      <td>1</td>\n      <td>0</td>\n      <td>0</td>\n      <td>0</td>\n      <td>0</td>\n      <td>0</td>\n      <td>0</td>\n      <td>0</td>\n      <td>0</td>\n      <td>0</td>\n      <td>0</td>\n      <td>0</td>\n      <td>0</td>\n      <td>1</td>\n      <td>0</td>\n      <td>0</td>\n      <td>0</td>\n      <td>0</td>\n      <td>0</td>\n      <td>0</td>\n      <td>0</td>\n      <td>1</td>\n      <td>0</td>\n      <td>0</td>\n      <td>0</td>\n      <td>0</td>\n      <td>0</td>\n      <td>0</td>\n      <td>0</td>\n      <td>0</td>\n      <td>1</td>\n      <td>0</td>\n      <td>0</td>\n      <td>1</td>\n      <td>0</td>\n      <td>0</td>\n      <td>0</td>\n      <td>0</td>\n      <td>0</td>\n      <td>0</td>\n      <td>0</td>\n      <td>1</td>\n    </tr>\n    <tr>\n      <th>4</th>\n      <td>1422.0</td>\n      <td>66.0</td>\n      <td>16200</td>\n      <td>1.0</td>\n      <td>0.0</td>\n      <td>0.0</td>\n      <td>0.0</td>\n      <td>0.0</td>\n      <td>1.0</td>\n      <td>0.0</td>\n      <td>0.0</td>\n      <td>0.0</td>\n      <td>1.0</td>\n      <td>1.0</td>\n      <td>0.0</td>\n      <td>0.0</td>\n      <td>1.0</td>\n      <td>0.0</td>\n      <td>1.0</td>\n      <td>1.0</td>\n      <td>0.0</td>\n      <td>0.0</td>\n      <td>0.0</td>\n      <td>0.0</td>\n      <td>1.0</td>\n      <td>1.0</td>\n      <td>0.0</td>\n      <td>1.0</td>\n      <td>1.0</td>\n      <td>1.0</td>\n      <td>0.0</td>\n      <td>1.0</td>\n      <td>4.100000</td>\n      <td>1</td>\n      <td>16790</td>\n      <td>3</td>\n      <td>1.0</td>\n      <td>1.0</td>\n      <td>0.0</td>\n      <td>1.0</td>\n      <td>1.0</td>\n      <td>1.0</td>\n      <td>1.0</td>\n      <td>0.0</td>\n      <td>0.0</td>\n      <td>1.0</td>\n      <td>5.0</td>\n      <td>5.0</td>\n      <td>1</td>\n      <td>1.0</td>\n      <td>...</td>\n      <td>0.0</td>\n      <td>1.0</td>\n      <td>0.0</td>\n      <td>0.0</td>\n      <td>1.0</td>\n      <td>1</td>\n      <td>0</td>\n      <td>0</td>\n      <td>1</td>\n      <td>0</td>\n      <td>0</td>\n      <td>0</td>\n      <td>0</td>\n      <td>0</td>\n      <td>0</td>\n      <td>0</td>\n      <td>0</td>\n      <td>0</td>\n      <td>0</td>\n      <td>0</td>\n      <td>0</td>\n      <td>1</td>\n      <td>0</td>\n      <td>0</td>\n      <td>0</td>\n      <td>0</td>\n      <td>1</td>\n      <td>0</td>\n      <td>0</td>\n      <td>0</td>\n      <td>0</td>\n      <td>0</td>\n      <td>0</td>\n      <td>0</td>\n      <td>0</td>\n      <td>0</td>\n      <td>0</td>\n      <td>0</td>\n      <td>1</td>\n      <td>0</td>\n      <td>0</td>\n      <td>1</td>\n      <td>0</td>\n      <td>0</td>\n      <td>0</td>\n      <td>0</td>\n      <td>0</td>\n      <td>0</td>\n      <td>0</td>\n      <td>1</td>\n    </tr>\n    <tr>\n      <th>...</th>\n      <td>...</td>\n      <td>...</td>\n      <td>...</td>\n      <td>...</td>\n      <td>...</td>\n      <td>...</td>\n      <td>...</td>\n      <td>...</td>\n      <td>...</td>\n      <td>...</td>\n      <td>...</td>\n      <td>...</td>\n      <td>...</td>\n      <td>...</td>\n      <td>...</td>\n      <td>...</td>\n      <td>...</td>\n      <td>...</td>\n      <td>...</td>\n      <td>...</td>\n      <td>...</td>\n      <td>...</td>\n      <td>...</td>\n      <td>...</td>\n      <td>...</td>\n      <td>...</td>\n      <td>...</td>\n      <td>...</td>\n      <td>...</td>\n      <td>...</td>\n      <td>...</td>\n      <td>...</td>\n      <td>...</td>\n      <td>...</td>\n      <td>...</td>\n      <td>...</td>\n      <td>...</td>\n      <td>...</td>\n      <td>...</td>\n      <td>...</td>\n      <td>...</td>\n      <td>...</td>\n      <td>...</td>\n      <td>...</td>\n      <td>...</td>\n      <td>...</td>\n      <td>...</td>\n      <td>...</td>\n      <td>...</td>\n      <td>...</td>\n      <td>...</td>\n      <td>...</td>\n      <td>...</td>\n      <td>...</td>\n      <td>...</td>\n      <td>...</td>\n      <td>...</td>\n      <td>...</td>\n      <td>...</td>\n      <td>...</td>\n      <td>...</td>\n      <td>...</td>\n      <td>...</td>\n      <td>...</td>\n      <td>...</td>\n      <td>...</td>\n      <td>...</td>\n      <td>...</td>\n      <td>...</td>\n      <td>...</td>\n      <td>...</td>\n      <td>...</td>\n      <td>...</td>\n      <td>...</td>\n      <td>...</td>\n      <td>...</td>\n      <td>...</td>\n      <td>...</td>\n      <td>...</td>\n      <td>...</td>\n      <td>...</td>\n      <td>...</td>\n      <td>...</td>\n      <td>...</td>\n      <td>...</td>\n      <td>...</td>\n      <td>...</td>\n      <td>...</td>\n      <td>...</td>\n      <td>...</td>\n      <td>...</td>\n      <td>...</td>\n      <td>...</td>\n      <td>...</td>\n      <td>...</td>\n      <td>...</td>\n      <td>...</td>\n      <td>...</td>\n      <td>...</td>\n      <td>...</td>\n      <td>...</td>\n    </tr>\n    <tr>\n      <th>15913</th>\n      <td>1798.0</td>\n      <td>165.0</td>\n      <td>1000</td>\n      <td>1.0</td>\n      <td>1.0</td>\n      <td>0.0</td>\n      <td>0.0</td>\n      <td>1.0</td>\n      <td>1.0</td>\n      <td>0.0</td>\n      <td>1.0</td>\n      <td>0.0</td>\n      <td>1.0</td>\n      <td>1.0</td>\n      <td>1.0</td>\n      <td>0.0</td>\n      <td>0.0</td>\n      <td>0.0</td>\n      <td>1.0</td>\n      <td>1.0</td>\n      <td>1.0</td>\n      <td>1.0</td>\n      <td>1.0</td>\n      <td>0.0</td>\n      <td>1.0</td>\n      <td>1.0</td>\n      <td>0.0</td>\n      <td>1.0</td>\n      <td>1.0</td>\n      <td>1.0</td>\n      <td>1.0</td>\n      <td>0.0</td>\n      <td>6.800000</td>\n      <td>0</td>\n      <td>39950</td>\n      <td>0</td>\n      <td>1.0</td>\n      <td>0.0</td>\n      <td>1.0</td>\n      <td>1.0</td>\n      <td>1.0</td>\n      <td>1.0</td>\n      <td>1.0</td>\n      <td>0.0</td>\n      <td>0.0</td>\n      <td>1.0</td>\n      <td>5.0</td>\n      <td>7.0</td>\n      <td>0</td>\n      <td>1.0</td>\n      <td>...</td>\n      <td>0.0</td>\n      <td>1.0</td>\n      <td>1.0</td>\n      <td>0.0</td>\n      <td>1.0</td>\n      <td>0</td>\n      <td>0</td>\n      <td>1</td>\n      <td>0</td>\n      <td>0</td>\n      <td>0</td>\n      <td>0</td>\n      <td>0</td>\n      <td>0</td>\n      <td>1</td>\n      <td>0</td>\n      <td>0</td>\n      <td>0</td>\n      <td>0</td>\n      <td>0</td>\n      <td>0</td>\n      <td>0</td>\n      <td>0</td>\n      <td>0</td>\n      <td>1</td>\n      <td>0</td>\n      <td>0</td>\n      <td>0</td>\n      <td>0</td>\n      <td>0</td>\n      <td>0</td>\n      <td>0</td>\n      <td>0</td>\n      <td>0</td>\n      <td>0</td>\n      <td>0</td>\n      <td>1</td>\n      <td>0</td>\n      <td>1</td>\n      <td>0</td>\n      <td>0</td>\n      <td>0</td>\n      <td>0</td>\n      <td>1</td>\n      <td>0</td>\n      <td>1</td>\n      <td>0</td>\n      <td>0</td>\n      <td>0</td>\n      <td>0</td>\n    </tr>\n    <tr>\n      <th>15915</th>\n      <td>1798.0</td>\n      <td>165.0</td>\n      <td>9900</td>\n      <td>1.0</td>\n      <td>1.0</td>\n      <td>0.0</td>\n      <td>0.0</td>\n      <td>1.0</td>\n      <td>1.0</td>\n      <td>0.0</td>\n      <td>1.0</td>\n      <td>0.0</td>\n      <td>1.0</td>\n      <td>1.0</td>\n      <td>1.0</td>\n      <td>0.0</td>\n      <td>0.0</td>\n      <td>0.0</td>\n      <td>1.0</td>\n      <td>1.0</td>\n      <td>1.0</td>\n      <td>1.0</td>\n      <td>1.0</td>\n      <td>0.0</td>\n      <td>1.0</td>\n      <td>1.0</td>\n      <td>0.0</td>\n      <td>1.0</td>\n      <td>1.0</td>\n      <td>1.0</td>\n      <td>1.0</td>\n      <td>0.0</td>\n      <td>6.558386</td>\n      <td>0</td>\n      <td>39885</td>\n      <td>0</td>\n      <td>1.0</td>\n      <td>0.0</td>\n      <td>1.0</td>\n      <td>1.0</td>\n      <td>0.0</td>\n      <td>0.0</td>\n      <td>1.0</td>\n      <td>0.0</td>\n      <td>0.0</td>\n      <td>1.0</td>\n      <td>5.0</td>\n      <td>5.0</td>\n      <td>1</td>\n      <td>1.0</td>\n      <td>...</td>\n      <td>0.0</td>\n      <td>1.0</td>\n      <td>1.0</td>\n      <td>0.0</td>\n      <td>1.0</td>\n      <td>0</td>\n      <td>0</td>\n      <td>1</td>\n      <td>0</td>\n      <td>0</td>\n      <td>0</td>\n      <td>0</td>\n      <td>0</td>\n      <td>0</td>\n      <td>1</td>\n      <td>0</td>\n      <td>0</td>\n      <td>0</td>\n      <td>0</td>\n      <td>0</td>\n      <td>0</td>\n      <td>0</td>\n      <td>0</td>\n      <td>0</td>\n      <td>1</td>\n      <td>0</td>\n      <td>0</td>\n      <td>0</td>\n      <td>0</td>\n      <td>0</td>\n      <td>0</td>\n      <td>1</td>\n      <td>0</td>\n      <td>0</td>\n      <td>0</td>\n      <td>0</td>\n      <td>0</td>\n      <td>0</td>\n      <td>1</td>\n      <td>0</td>\n      <td>0</td>\n      <td>0</td>\n      <td>0</td>\n      <td>1</td>\n      <td>0</td>\n      <td>0</td>\n      <td>0</td>\n      <td>0</td>\n      <td>0</td>\n      <td>1</td>\n    </tr>\n    <tr>\n      <th>15916</th>\n      <td>1997.0</td>\n      <td>146.0</td>\n      <td>15</td>\n      <td>1.0</td>\n      <td>1.0</td>\n      <td>0.0</td>\n      <td>0.0</td>\n      <td>1.0</td>\n      <td>1.0</td>\n      <td>0.0</td>\n      <td>1.0</td>\n      <td>0.0</td>\n      <td>1.0</td>\n      <td>1.0</td>\n      <td>1.0</td>\n      <td>0.0</td>\n      <td>0.0</td>\n      <td>0.0</td>\n      <td>1.0</td>\n      <td>1.0</td>\n      <td>1.0</td>\n      <td>1.0</td>\n      <td>1.0</td>\n      <td>0.0</td>\n      <td>1.0</td>\n      <td>1.0</td>\n      <td>0.0</td>\n      <td>1.0</td>\n      <td>0.0</td>\n      <td>1.0</td>\n      <td>1.0</td>\n      <td>0.0</td>\n      <td>5.300000</td>\n      <td>1</td>\n      <td>39875</td>\n      <td>0</td>\n      <td>1.0</td>\n      <td>0.0</td>\n      <td>0.0</td>\n      <td>1.0</td>\n      <td>0.0</td>\n      <td>1.0</td>\n      <td>1.0</td>\n      <td>0.0</td>\n      <td>0.0</td>\n      <td>0.0</td>\n      <td>5.0</td>\n      <td>7.0</td>\n      <td>1</td>\n      <td>1.0</td>\n      <td>...</td>\n      <td>0.0</td>\n      <td>1.0</td>\n      <td>0.0</td>\n      <td>0.0</td>\n      <td>0.0</td>\n      <td>0</td>\n      <td>0</td>\n      <td>1</td>\n      <td>0</td>\n      <td>0</td>\n      <td>0</td>\n      <td>0</td>\n      <td>0</td>\n      <td>0</td>\n      <td>1</td>\n      <td>0</td>\n      <td>0</td>\n      <td>0</td>\n      <td>0</td>\n      <td>0</td>\n      <td>0</td>\n      <td>0</td>\n      <td>0</td>\n      <td>0</td>\n      <td>1</td>\n      <td>0</td>\n      <td>0</td>\n      <td>0</td>\n      <td>0</td>\n      <td>0</td>\n      <td>0</td>\n      <td>0</td>\n      <td>0</td>\n      <td>0</td>\n      <td>0</td>\n      <td>0</td>\n      <td>1</td>\n      <td>0</td>\n      <td>1</td>\n      <td>0</td>\n      <td>0</td>\n      <td>1</td>\n      <td>0</td>\n      <td>0</td>\n      <td>0</td>\n      <td>0</td>\n      <td>0</td>\n      <td>0</td>\n      <td>1</td>\n      <td>0</td>\n    </tr>\n    <tr>\n      <th>15917</th>\n      <td>1997.0</td>\n      <td>147.0</td>\n      <td>10</td>\n      <td>1.0</td>\n      <td>0.0</td>\n      <td>0.0</td>\n      <td>0.0</td>\n      <td>1.0</td>\n      <td>0.0</td>\n      <td>0.0</td>\n      <td>0.0</td>\n      <td>0.0</td>\n      <td>1.0</td>\n      <td>1.0</td>\n      <td>1.0</td>\n      <td>0.0</td>\n      <td>0.0</td>\n      <td>0.0</td>\n      <td>0.0</td>\n      <td>1.0</td>\n      <td>0.0</td>\n      <td>1.0</td>\n      <td>0.0</td>\n      <td>0.0</td>\n      <td>1.0</td>\n      <td>1.0</td>\n      <td>0.0</td>\n      <td>1.0</td>\n      <td>1.0</td>\n      <td>0.0</td>\n      <td>1.0</td>\n      <td>0.0</td>\n      <td>5.300000</td>\n      <td>0</td>\n      <td>39700</td>\n      <td>0</td>\n      <td>1.0</td>\n      <td>0.0</td>\n      <td>1.0</td>\n      <td>0.0</td>\n      <td>0.0</td>\n      <td>0.0</td>\n      <td>1.0</td>\n      <td>0.0</td>\n      <td>0.0</td>\n      <td>1.0</td>\n      <td>5.0</td>\n      <td>7.0</td>\n      <td>1</td>\n      <td>1.0</td>\n      <td>...</td>\n      <td>0.0</td>\n      <td>1.0</td>\n      <td>1.0</td>\n      <td>0.0</td>\n      <td>0.0</td>\n      <td>0</td>\n      <td>0</td>\n      <td>1</td>\n      <td>0</td>\n      <td>0</td>\n      <td>0</td>\n      <td>0</td>\n      <td>0</td>\n      <td>0</td>\n      <td>1</td>\n      <td>0</td>\n      <td>0</td>\n      <td>0</td>\n      <td>0</td>\n      <td>0</td>\n      <td>0</td>\n      <td>0</td>\n      <td>0</td>\n      <td>0</td>\n      <td>1</td>\n      <td>0</td>\n      <td>0</td>\n      <td>0</td>\n      <td>0</td>\n      <td>0</td>\n      <td>0</td>\n      <td>1</td>\n      <td>0</td>\n      <td>0</td>\n      <td>0</td>\n      <td>0</td>\n      <td>0</td>\n      <td>0</td>\n      <td>1</td>\n      <td>0</td>\n      <td>0</td>\n      <td>1</td>\n      <td>0</td>\n      <td>0</td>\n      <td>0</td>\n      <td>0</td>\n      <td>0</td>\n      <td>0</td>\n      <td>1</td>\n      <td>0</td>\n    </tr>\n    <tr>\n      <th>15918</th>\n      <td>1798.0</td>\n      <td>165.0</td>\n      <td>2095</td>\n      <td>1.0</td>\n      <td>0.0</td>\n      <td>0.0</td>\n      <td>0.0</td>\n      <td>1.0</td>\n      <td>0.0</td>\n      <td>0.0</td>\n      <td>1.0</td>\n      <td>0.0</td>\n      <td>1.0</td>\n      <td>1.0</td>\n      <td>1.0</td>\n      <td>0.0</td>\n      <td>0.0</td>\n      <td>0.0</td>\n      <td>1.0</td>\n      <td>1.0</td>\n      <td>1.0</td>\n      <td>0.0</td>\n      <td>0.0</td>\n      <td>0.0</td>\n      <td>1.0</td>\n      <td>1.0</td>\n      <td>0.0</td>\n      <td>1.0</td>\n      <td>1.0</td>\n      <td>0.0</td>\n      <td>1.0</td>\n      <td>0.0</td>\n      <td>6.800000</td>\n      <td>1</td>\n      <td>40999</td>\n      <td>0</td>\n      <td>0.0</td>\n      <td>0.0</td>\n      <td>0.0</td>\n      <td>0.0</td>\n      <td>0.0</td>\n      <td>0.0</td>\n      <td>0.0</td>\n      <td>0.0</td>\n      <td>0.0</td>\n      <td>1.0</td>\n      <td>5.0</td>\n      <td>5.0</td>\n      <td>0</td>\n      <td>1.0</td>\n      <td>...</td>\n      <td>0.0</td>\n      <td>1.0</td>\n      <td>1.0</td>\n      <td>0.0</td>\n      <td>0.0</td>\n      <td>0</td>\n      <td>0</td>\n      <td>1</td>\n      <td>0</td>\n      <td>0</td>\n      <td>0</td>\n      <td>0</td>\n      <td>0</td>\n      <td>0</td>\n      <td>1</td>\n      <td>0</td>\n      <td>0</td>\n      <td>0</td>\n      <td>0</td>\n      <td>0</td>\n      <td>0</td>\n      <td>0</td>\n      <td>0</td>\n      <td>0</td>\n      <td>1</td>\n      <td>0</td>\n      <td>0</td>\n      <td>0</td>\n      <td>0</td>\n      <td>0</td>\n      <td>0</td>\n      <td>1</td>\n      <td>0</td>\n      <td>0</td>\n      <td>0</td>\n      <td>0</td>\n      <td>0</td>\n      <td>0</td>\n      <td>1</td>\n      <td>0</td>\n      <td>0</td>\n      <td>0</td>\n      <td>0</td>\n      <td>1</td>\n      <td>0</td>\n      <td>1</td>\n      <td>0</td>\n      <td>0</td>\n      <td>0</td>\n      <td>0</td>\n    </tr>\n  </tbody>\n</table>\n<p>14990 rows × 136 columns</p>\n</div>"
     },
     "metadata": {},
     "execution_count": 15
    }
   ],
   "source": [
    "df"
   ]
  },
  {
   "cell_type": "code",
   "execution_count": 6,
   "metadata": {},
   "outputs": [
    {
     "output_type": "execute_result",
     "data": {
      "text/plain": [
       "       displacement            hp             km        ss_abs  \\\n",
       "count  14990.000000  14990.000000   14990.000000  14990.000000   \n",
       "mean    1432.258843     88.231744   33894.105203      0.949767   \n",
       "std      271.764876     26.617304   37284.577857      0.218434   \n",
       "min      890.000000     40.000000       0.000000      0.000000   \n",
       "25%     1229.000000     66.000000    5000.000000      1.000000   \n",
       "50%     1461.000000     85.000000   22487.000000      1.000000   \n",
       "75%     1598.000000    100.000000   49264.500000      1.000000   \n",
       "max     2967.000000    294.000000  317000.000000      1.000000   \n",
       "\n",
       "       ss_adaptive_cruise_control  ss_adaptive_headlights  ss_alarm_system  \\\n",
       "count                14990.000000            14990.000000     14990.000000   \n",
       "mean                     0.080187                0.133422         0.126484   \n",
       "std                      0.271591                0.340042         0.332405   \n",
       "min                      0.000000                0.000000         0.000000   \n",
       "25%                      0.000000                0.000000         0.000000   \n",
       "50%                      0.000000                0.000000         0.000000   \n",
       "75%                      0.000000                0.000000         0.000000   \n",
       "max                      1.000000                1.000000         1.000000   \n",
       "\n",
       "       ss_blind_spot_monitor  ss_central_door_lock  \\\n",
       "count           14990.000000          14990.000000   \n",
       "mean                0.082188              0.859239   \n",
       "std                 0.274660              0.347786   \n",
       "min                 0.000000              0.000000   \n",
       "25%                 0.000000              1.000000   \n",
       "50%                 0.000000              1.000000   \n",
       "75%                 0.000000              1.000000   \n",
       "max                 1.000000              1.000000   \n",
       "\n",
       "       ss_central_door_lock_with_remote_control  ...  \\\n",
       "count                              14990.000000  ...   \n",
       "mean                                   0.155704  ...   \n",
       "std                                    0.362586  ...   \n",
       "min                                    0.000000  ...   \n",
       "25%                                    0.000000  ...   \n",
       "50%                                    0.000000  ...   \n",
       "75%                                    0.000000  ...   \n",
       "max                                    1.000000  ...   \n",
       "\n",
       "       gearing_type_Semi-automatic   fuel_diesel  fuel_electric  \\\n",
       "count                 14990.000000  14990.000000   14990.000000   \n",
       "mean                      0.030754      0.471781       0.000133   \n",
       "std                       0.172656      0.499220       0.011550   \n",
       "min                       0.000000      0.000000       0.000000   \n",
       "25%                       0.000000      0.000000       0.000000   \n",
       "50%                       0.000000      0.000000       0.000000   \n",
       "75%                       0.000000      1.000000       0.000000   \n",
       "max                       1.000000      1.000000       1.000000   \n",
       "\n",
       "       fuel_gasoline      fuel_lpg  type_Demonstration  type_Employee's car  \\\n",
       "count   14990.000000  14990.000000        14990.000000         14990.000000   \n",
       "mean        0.524149      0.003936            0.051634             0.067178   \n",
       "std         0.499433      0.062616            0.221295             0.250339   \n",
       "min         0.000000      0.000000            0.000000             0.000000   \n",
       "25%         0.000000      0.000000            0.000000             0.000000   \n",
       "50%         1.000000      0.000000            0.000000             0.000000   \n",
       "75%         1.000000      0.000000            0.000000             0.000000   \n",
       "max         1.000000      1.000000            1.000000             1.000000   \n",
       "\n",
       "           type_New  type_Pre-registered     type_Used  \n",
       "count  14990.000000         14990.000000  14990.000000  \n",
       "mean       0.054236             0.090127      0.736825  \n",
       "std        0.226491             0.286373      0.440372  \n",
       "min        0.000000             0.000000      0.000000  \n",
       "25%        0.000000             0.000000      0.000000  \n",
       "50%        0.000000             0.000000      1.000000  \n",
       "75%        0.000000             0.000000      1.000000  \n",
       "max        1.000000             1.000000      1.000000  \n",
       "\n",
       "[8 rows x 136 columns]"
      ],
      "text/html": "<div>\n<style scoped>\n    .dataframe tbody tr th:only-of-type {\n        vertical-align: middle;\n    }\n\n    .dataframe tbody tr th {\n        vertical-align: top;\n    }\n\n    .dataframe thead th {\n        text-align: right;\n    }\n</style>\n<table border=\"1\" class=\"dataframe\">\n  <thead>\n    <tr style=\"text-align: right;\">\n      <th></th>\n      <th>displacement</th>\n      <th>hp</th>\n      <th>km</th>\n      <th>ss_abs</th>\n      <th>ss_adaptive_cruise_control</th>\n      <th>ss_adaptive_headlights</th>\n      <th>ss_alarm_system</th>\n      <th>ss_blind_spot_monitor</th>\n      <th>ss_central_door_lock</th>\n      <th>ss_central_door_lock_with_remote_control</th>\n      <th>...</th>\n      <th>gearing_type_Semi-automatic</th>\n      <th>fuel_diesel</th>\n      <th>fuel_electric</th>\n      <th>fuel_gasoline</th>\n      <th>fuel_lpg</th>\n      <th>type_Demonstration</th>\n      <th>type_Employee's car</th>\n      <th>type_New</th>\n      <th>type_Pre-registered</th>\n      <th>type_Used</th>\n    </tr>\n  </thead>\n  <tbody>\n    <tr>\n      <th>count</th>\n      <td>14990.000000</td>\n      <td>14990.000000</td>\n      <td>14990.000000</td>\n      <td>14990.000000</td>\n      <td>14990.000000</td>\n      <td>14990.000000</td>\n      <td>14990.000000</td>\n      <td>14990.000000</td>\n      <td>14990.000000</td>\n      <td>14990.000000</td>\n      <td>...</td>\n      <td>14990.000000</td>\n      <td>14990.000000</td>\n      <td>14990.000000</td>\n      <td>14990.000000</td>\n      <td>14990.000000</td>\n      <td>14990.000000</td>\n      <td>14990.000000</td>\n      <td>14990.000000</td>\n      <td>14990.000000</td>\n      <td>14990.000000</td>\n    </tr>\n    <tr>\n      <th>mean</th>\n      <td>1432.258843</td>\n      <td>88.231744</td>\n      <td>33894.105203</td>\n      <td>0.949767</td>\n      <td>0.080187</td>\n      <td>0.133422</td>\n      <td>0.126484</td>\n      <td>0.082188</td>\n      <td>0.859239</td>\n      <td>0.155704</td>\n      <td>...</td>\n      <td>0.030754</td>\n      <td>0.471781</td>\n      <td>0.000133</td>\n      <td>0.524149</td>\n      <td>0.003936</td>\n      <td>0.051634</td>\n      <td>0.067178</td>\n      <td>0.054236</td>\n      <td>0.090127</td>\n      <td>0.736825</td>\n    </tr>\n    <tr>\n      <th>std</th>\n      <td>271.764876</td>\n      <td>26.617304</td>\n      <td>37284.577857</td>\n      <td>0.218434</td>\n      <td>0.271591</td>\n      <td>0.340042</td>\n      <td>0.332405</td>\n      <td>0.274660</td>\n      <td>0.347786</td>\n      <td>0.362586</td>\n      <td>...</td>\n      <td>0.172656</td>\n      <td>0.499220</td>\n      <td>0.011550</td>\n      <td>0.499433</td>\n      <td>0.062616</td>\n      <td>0.221295</td>\n      <td>0.250339</td>\n      <td>0.226491</td>\n      <td>0.286373</td>\n      <td>0.440372</td>\n    </tr>\n    <tr>\n      <th>min</th>\n      <td>890.000000</td>\n      <td>40.000000</td>\n      <td>0.000000</td>\n      <td>0.000000</td>\n      <td>0.000000</td>\n      <td>0.000000</td>\n      <td>0.000000</td>\n      <td>0.000000</td>\n      <td>0.000000</td>\n      <td>0.000000</td>\n      <td>...</td>\n      <td>0.000000</td>\n      <td>0.000000</td>\n      <td>0.000000</td>\n      <td>0.000000</td>\n      <td>0.000000</td>\n      <td>0.000000</td>\n      <td>0.000000</td>\n      <td>0.000000</td>\n      <td>0.000000</td>\n      <td>0.000000</td>\n    </tr>\n    <tr>\n      <th>25%</th>\n      <td>1229.000000</td>\n      <td>66.000000</td>\n      <td>5000.000000</td>\n      <td>1.000000</td>\n      <td>0.000000</td>\n      <td>0.000000</td>\n      <td>0.000000</td>\n      <td>0.000000</td>\n      <td>1.000000</td>\n      <td>0.000000</td>\n      <td>...</td>\n      <td>0.000000</td>\n      <td>0.000000</td>\n      <td>0.000000</td>\n      <td>0.000000</td>\n      <td>0.000000</td>\n      <td>0.000000</td>\n      <td>0.000000</td>\n      <td>0.000000</td>\n      <td>0.000000</td>\n      <td>0.000000</td>\n    </tr>\n    <tr>\n      <th>50%</th>\n      <td>1461.000000</td>\n      <td>85.000000</td>\n      <td>22487.000000</td>\n      <td>1.000000</td>\n      <td>0.000000</td>\n      <td>0.000000</td>\n      <td>0.000000</td>\n      <td>0.000000</td>\n      <td>1.000000</td>\n      <td>0.000000</td>\n      <td>...</td>\n      <td>0.000000</td>\n      <td>0.000000</td>\n      <td>0.000000</td>\n      <td>1.000000</td>\n      <td>0.000000</td>\n      <td>0.000000</td>\n      <td>0.000000</td>\n      <td>0.000000</td>\n      <td>0.000000</td>\n      <td>1.000000</td>\n    </tr>\n    <tr>\n      <th>75%</th>\n      <td>1598.000000</td>\n      <td>100.000000</td>\n      <td>49264.500000</td>\n      <td>1.000000</td>\n      <td>0.000000</td>\n      <td>0.000000</td>\n      <td>0.000000</td>\n      <td>0.000000</td>\n      <td>1.000000</td>\n      <td>0.000000</td>\n      <td>...</td>\n      <td>0.000000</td>\n      <td>1.000000</td>\n      <td>0.000000</td>\n      <td>1.000000</td>\n      <td>0.000000</td>\n      <td>0.000000</td>\n      <td>0.000000</td>\n      <td>0.000000</td>\n      <td>0.000000</td>\n      <td>1.000000</td>\n    </tr>\n    <tr>\n      <th>max</th>\n      <td>2967.000000</td>\n      <td>294.000000</td>\n      <td>317000.000000</td>\n      <td>1.000000</td>\n      <td>1.000000</td>\n      <td>1.000000</td>\n      <td>1.000000</td>\n      <td>1.000000</td>\n      <td>1.000000</td>\n      <td>1.000000</td>\n      <td>...</td>\n      <td>1.000000</td>\n      <td>1.000000</td>\n      <td>1.000000</td>\n      <td>1.000000</td>\n      <td>1.000000</td>\n      <td>1.000000</td>\n      <td>1.000000</td>\n      <td>1.000000</td>\n      <td>1.000000</td>\n      <td>1.000000</td>\n    </tr>\n  </tbody>\n</table>\n<p>8 rows × 136 columns</p>\n</div>"
     },
     "metadata": {},
     "execution_count": 6
    }
   ],
   "source": [
    "df.describe()"
   ]
  },
  {
   "cell_type": "code",
   "execution_count": 7,
   "metadata": {},
   "outputs": [
    {
     "output_type": "stream",
     "name": "stdout",
     "text": [
      "<class 'pandas.core.frame.DataFrame'>\nInt64Index: 14990 entries, 0 to 15918\nColumns: 136 entries, displacement to type_Used\ndtypes: float64(86), int64(5), uint8(45)\nmemory usage: 11.7 MB\n"
     ]
    }
   ],
   "source": [
    "df.info()"
   ]
  },
  {
   "cell_type": "code",
   "execution_count": 18,
   "metadata": {},
   "outputs": [
    {
     "output_type": "execute_result",
     "data": {
      "text/plain": [
       "displacement                  0\n",
       "hp                            0\n",
       "km                            0\n",
       "ss_abs                        0\n",
       "ss_adaptive_cruise_control    0\n",
       "                             ..\n",
       "type_Demonstration            0\n",
       "type_Employee's car           0\n",
       "type_New                      0\n",
       "type_Pre-registered           0\n",
       "type_Used                     0\n",
       "Length: 136, dtype: int64"
      ]
     },
     "metadata": {},
     "execution_count": 18
    }
   ],
   "source": [
    "df.isnull().sum()"
   ]
  },
  {
   "cell_type": "code",
   "execution_count": 19,
   "metadata": {},
   "outputs": [
    {
     "output_type": "execute_result",
     "data": {
      "text/plain": [
       "Index(['displacement', 'hp', 'km', 'ss_abs', 'ss_adaptive_cruise_control',\n",
       "       'ss_adaptive_headlights', 'ss_alarm_system', 'ss_blind_spot_monitor',\n",
       "       'ss_central_door_lock', 'ss_central_door_lock_with_remote_control',\n",
       "       ...\n",
       "       'gearing_type_Semi-automatic', 'fuel_diesel', 'fuel_electric',\n",
       "       'fuel_gasoline', 'fuel_lpg', 'type_Demonstration',\n",
       "       'type_Employee's car', 'type_New', 'type_Pre-registered', 'type_Used'],\n",
       "      dtype='object', length=136)"
      ]
     },
     "metadata": {},
     "execution_count": 19
    }
   ],
   "source": [
    "df.columns"
   ]
  },
  {
   "cell_type": "code",
   "execution_count": null,
   "metadata": {},
   "outputs": [],
   "source": [
    "# df.corr()"
   ]
  },
  {
   "cell_type": "code",
   "execution_count": null,
   "metadata": {},
   "outputs": [],
   "source": [
    "# plt.figure(figsize=(10,6))\n",
    "# sns.heatmap(df.corr(), annot=True)"
   ]
  },
  {
   "cell_type": "markdown",
   "metadata": {
    "id": "QsEUUAAKmqZN"
   },
   "source": [
    "## 2. Data Pre-Processing"
   ]
  },
  {
   "cell_type": "markdown",
   "metadata": {
    "id": "QtVkM6f2mqZN"
   },
   "source": [
    "As you know, the data set must be edited before proceeding to the implementation of the model. As the last step before model fitting, you need to spilit the data set as train and test. Then, you should train the model with train data and evaluate the performance of the model on the test data. You can use the train and test data you have created for all algorithms.\n",
    "\n",
    "You must also drop your target variable, the column you are trying to predict."
   ]
  },
  {
   "cell_type": "markdown",
   "metadata": {
    "id": "K7d_92iemqZN"
   },
   "source": [
    "You can use many [performance metrics for regression](https://medium.com/analytics-vidhya/evaluation-metrics-for-regression-problems-343c4923d922) to measure the performance of the regression model you train. You can define a function to view different metric results together.\n",
    "\n",
    "You can also use the [cross validation](https://towardsdatascience.com/cross-validation-explained-evaluating-estimator-performance-e51e5430ff85) method to measure the estimator performance. Cross validation uses different data samples from your test set and calculates the accuracy score for each data sample. You can calculate the final performance of your estimator by averaging these scores."
   ]
  },
  {
   "cell_type": "code",
   "execution_count": null,
   "metadata": {
    "id": "-3gMQ3utmqZN"
   },
   "outputs": [],
   "source": []
  },
  {
   "cell_type": "markdown",
   "metadata": {
    "id": "An_5ITcAmqZO"
   },
   "source": [
    "## 3. Implement Linear Regression"
   ]
  },
  {
   "cell_type": "markdown",
   "metadata": {
    "id": "0c0y-w8vmqZO"
   },
   "source": [
    " - Import the modul\n",
    " - Fit the model \n",
    " - Predict the test set\n",
    " - Determine feature coefficiant\n",
    " - Evaluate model performance (use performance metrics for regression and cross_val_score)\n",
    " - Compare different evaluation metrics\n",
    " \n",
    "*Note: You can use the [dir()](https://www.geeksforgeeks.org/python-dir-function/) function to see the methods you need.*"
   ]
  },
  {
   "cell_type": "code",
   "execution_count": null,
   "metadata": {
    "id": "lq6UKn_HmqZO"
   },
   "outputs": [],
   "source": []
  },
  {
   "cell_type": "markdown",
   "metadata": {
    "id": "n2ROwYsymqZO"
   },
   "source": [
    "## 4. Implement Ridge Regression"
   ]
  },
  {
   "cell_type": "markdown",
   "metadata": {
    "id": "3RvdF8CRmqZO"
   },
   "source": [
    "- Import the modul \n",
    "- Do not forget to scale the data or use Normalize parameter as True \n",
    "- Fit the model \n",
    "- Predict the test set \n",
    "- Evaluate model performance (use performance metrics for regression) \n",
    "- Tune alpha hiperparameter by using [cross validation](https://scikit-learn.org/stable/modules/generated/sklearn.linear_model.RidgeCV.html) and determine the optimal alpha value.\n",
    "- Fit the model and predict again with the new alpha value. "
   ]
  },
  {
   "cell_type": "code",
   "execution_count": null,
   "metadata": {
    "id": "CXm_zzZMmqZO"
   },
   "outputs": [],
   "source": []
  },
  {
   "cell_type": "markdown",
   "metadata": {
    "id": "oDfXOSnpmqZO"
   },
   "source": [
    "## 5. Implement Lasso Regression"
   ]
  },
  {
   "cell_type": "markdown",
   "metadata": {
    "id": "icqyxzBymqZO"
   },
   "source": [
    "- Import the modul \n",
    "- Do not forget to scale the data or use Normalize parameter as True(If needed)\n",
    "- Fit the model \n",
    "- Predict the test set \n",
    "- Evaluate model performance (use performance metrics for regression) \n",
    "- Tune alpha hyperparameter by using [cross validation](https://scikit-learn.org/stable/modules/generated/sklearn.linear_model.LassoCV.html) and determine the optimal alpha value.\n",
    "- Fit the model and predict again with the new alpha value.\n",
    "- Compare different evaluation metrics\n",
    "\n",
    "*Note: To understand the importance of the alpha hyperparameter, you can observe the effects of different alpha values on feature coefficants.*"
   ]
  },
  {
   "cell_type": "code",
   "execution_count": null,
   "metadata": {
    "id": "KbGqu0u5mqZO"
   },
   "outputs": [],
   "source": []
  },
  {
   "cell_type": "markdown",
   "metadata": {
    "id": "qpoOypMbmqZO"
   },
   "source": [
    "## 6. Implement Elastic-Net"
   ]
  },
  {
   "cell_type": "markdown",
   "metadata": {
    "id": "El7SNJUemqZO"
   },
   "source": [
    "- Import the modul \n",
    "- Do not forget to scale the data or use Normalize parameter as True(If needed)\n",
    "- Fit the model \n",
    "- Predict the test set \n",
    "- Evaluate model performance (use performance metrics for regression) \n",
    "- Tune alpha hyperparameter by using [GridSearchCV](https://scikit-learn.org/stable/modules/generated/sklearn.model_selection.GridSearchCV.html) and determine the optimal alpha value.\n",
    "- Fit the model and predict again with the new alpha value.\n",
    "- Compare different evaluation metrics"
   ]
  },
  {
   "cell_type": "code",
   "execution_count": null,
   "metadata": {
    "id": "XKVr6v2JmqZO"
   },
   "outputs": [],
   "source": []
  },
  {
   "cell_type": "markdown",
   "metadata": {
    "id": "sYyuZQtWmqZO"
   },
   "source": [
    "## 7. Visually Compare Models Performance In a Graph"
   ]
  },
  {
   "cell_type": "code",
   "execution_count": null,
   "metadata": {
    "id": "iig18G7zmqZO"
   },
   "outputs": [],
   "source": []
  },
  {
   "cell_type": "code",
   "execution_count": null,
   "metadata": {},
   "outputs": [],
   "source": []
  },
  {
   "cell_type": "markdown",
   "metadata": {},
   "source": [
    "___\n",
    "\n",
    "<p style=\"text-align: center;\"><img src=\"https://docs.google.com/uc?id=1lY0Uj5R04yMY3-ZppPWxqCr5pvBLYPnV\" class=\"img-fluid\" alt=\"CLRSWY\"></p>\n",
    "\n",
    "___"
   ]
  },
  {
   "cell_type": "code",
   "execution_count": null,
   "metadata": {},
   "outputs": [],
   "source": []
  }
 ],
 "metadata": {
  "colab": {
   "collapsed_sections": [],
   "name": "modeling_auto_scout_Student_V1.ipynb",
   "provenance": []
  },
  "kernelspec": {
   "name": "python3",
   "display_name": "Python 3.9.0 64-bit"
  },
  "language_info": {
   "codemirror_mode": {
    "name": "ipython",
    "version": 3
   },
   "file_extension": ".py",
   "mimetype": "text/x-python",
   "name": "python",
   "nbconvert_exporter": "python",
   "pygments_lexer": "ipython3",
   "version": "3.9.0"
  },
  "interpreter": {
   "hash": "43a9cd95aa030499ef934e4da31e07dde54f3fc3a1fd0cc4aeef7f16459ee2ac"
  }
 },
 "nbformat": 4,
 "nbformat_minor": 4
}