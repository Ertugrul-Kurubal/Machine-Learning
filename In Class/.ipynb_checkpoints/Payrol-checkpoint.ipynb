{
 "cells": [
  {
   "cell_type": "code",
   "execution_count": 2,
   "metadata": {
    "colab": {
     "base_uri": "https://localhost:8080/"
    },
    "id": "YfB_UQyaWqW3",
    "outputId": "8f48c1d9-54e2-4c2a-f611-ec2eb38cd1f7"
   },
   "outputs": [
    {
     "name": "stdout",
     "output_type": "stream",
     "text": [
      "Collecting pyforest\n",
      "  Downloading pyforest-1.1.0.tar.gz (15 kB)\n",
      "Building wheels for collected packages: pyforest\n",
      "  Building wheel for pyforest (setup.py) ... \u001b[?25ldone\n",
      "\u001b[?25h  Created wheel for pyforest: filename=pyforest-1.1.0-py2.py3-none-any.whl size=14606 sha256=df5a135f74bc8ccba9086a0826dc4f49d954e8fc6b85064155ac57e30a53241b\n",
      "  Stored in directory: /home/kurubal/.cache/pip/wheels/21/2d/19/8b5488f0caea6d892333413745640532d40d70e6b5351d7633\n",
      "Successfully built pyforest\n",
      "Installing collected packages: pyforest\n",
      "Successfully installed pyforest-1.1.0\n",
      "Note: you may need to restart the kernel to use updated packages.\n"
     ]
    }
   ],
   "source": [
    "pip install pyforest"
   ]
  },
  {
   "cell_type": "code",
   "execution_count": 1,
   "metadata": {
    "id": "Vii0hIl6XAiu"
   },
   "outputs": [],
   "source": [
    "import pyforest\n",
    "import scipy.stats as stats\n",
    "from sklearn.linear_model import Ridge, RidgeCV, ElasticNet, ElasticNetCV, Lasso, LassoCV\n",
    "from sklearn.model_selection import cross_validate, cross_val_score, GridSearchCV\n",
    "from sklearn.metrics import mean_squared_error, mean_absolute_error, r2_score\n",
    "import pickle\n"
   ]
  },
  {
   "cell_type": "code",
   "execution_count": 2,
   "metadata": {
    "colab": {
     "base_uri": "https://localhost:8080/",
     "height": 17
    },
    "id": "skFeaJ9XW1FZ",
    "outputId": "4bb36744-1568-40fb-d91f-32c7328e160a"
   },
   "outputs": [],
   "source": [
    "df = pickle.load(open('payrol_cleaned.pkl', 'rb'))"
   ]
  },
  {
   "cell_type": "code",
   "execution_count": 3,
   "metadata": {
    "colab": {
     "base_uri": "https://localhost:8080/",
     "height": 419
    },
    "id": "jHzbFGbLW-WS",
    "outputId": "b2c7b3a4-5072-448f-f0c5-ed9a4d021d71"
   },
   "outputs": [
    {
     "data": {
      "text/html": [
       "<div>\n",
       "<style scoped>\n",
       "    .dataframe tbody tr th:only-of-type {\n",
       "        vertical-align: middle;\n",
       "    }\n",
       "\n",
       "    .dataframe tbody tr th {\n",
       "        vertical-align: top;\n",
       "    }\n",
       "\n",
       "    .dataframe thead th {\n",
       "        text-align: right;\n",
       "    }\n",
       "</style>\n",
       "<table border=\"1\" class=\"dataframe\">\n",
       "  <thead>\n",
       "    <tr style=\"text-align: right;\">\n",
       "      <th></th>\n",
       "      <th>Office</th>\n",
       "      <th>Title</th>\n",
       "      <th>City</th>\n",
       "      <th>Biweeklt/hourly rate</th>\n",
       "      <th>Payrol type</th>\n",
       "      <th>Legislative entity</th>\n",
       "    </tr>\n",
       "  </thead>\n",
       "  <tbody>\n",
       "    <tr>\n",
       "      <th>0</th>\n",
       "      <td>SENATOR TOBY ANN STAVISKY</td>\n",
       "      <td>COMMUNITY LIAISON</td>\n",
       "      <td>FLUSHING</td>\n",
       "      <td>1076.93</td>\n",
       "      <td>SA</td>\n",
       "      <td>SENATE EMPLOYEE</td>\n",
       "    </tr>\n",
       "    <tr>\n",
       "      <th>1</th>\n",
       "      <td>LEGISLATIVE MESSENGER SERVICE</td>\n",
       "      <td>MESSENGER</td>\n",
       "      <td>ALBANY</td>\n",
       "      <td>1173.93</td>\n",
       "      <td>RA</td>\n",
       "      <td>JOINT LEGISLATIVE EMPLOYEE</td>\n",
       "    </tr>\n",
       "    <tr>\n",
       "      <th>2</th>\n",
       "      <td>SENATE FINANCE COMMITTEE/MAJORITY</td>\n",
       "      <td>SENIOR ANALYST</td>\n",
       "      <td>ALBANY</td>\n",
       "      <td>2692.31</td>\n",
       "      <td>RA</td>\n",
       "      <td>SENATE EMPLOYEE</td>\n",
       "    </tr>\n",
       "    <tr>\n",
       "      <th>3</th>\n",
       "      <td>SENATOR JESSICA RAMOS</td>\n",
       "      <td>SR. DIR. LEG. AFFRS / COMMITTEE DIR.</td>\n",
       "      <td>ALBANY</td>\n",
       "      <td>2307.70</td>\n",
       "      <td>RA</td>\n",
       "      <td>SENATE EMPLOYEE</td>\n",
       "    </tr>\n",
       "    <tr>\n",
       "      <th>4</th>\n",
       "      <td>SENATE SERGEANT-AT-ARMS</td>\n",
       "      <td>SESSION SERGEANT-AT-ARMS</td>\n",
       "      <td>ALBANY</td>\n",
       "      <td>820.95</td>\n",
       "      <td>SA</td>\n",
       "      <td>SENATE EMPLOYEE</td>\n",
       "    </tr>\n",
       "    <tr>\n",
       "      <th>...</th>\n",
       "      <td>...</td>\n",
       "      <td>...</td>\n",
       "      <td>...</td>\n",
       "      <td>...</td>\n",
       "      <td>...</td>\n",
       "      <td>...</td>\n",
       "    </tr>\n",
       "    <tr>\n",
       "      <th>958</th>\n",
       "      <td>SENATOR TODD KAMINSKY</td>\n",
       "      <td>COMMUNITY LIAISON</td>\n",
       "      <td>ROCKVILLE CENTRE</td>\n",
       "      <td>1538.47</td>\n",
       "      <td>RA</td>\n",
       "      <td>SENATE EMPLOYEE</td>\n",
       "    </tr>\n",
       "    <tr>\n",
       "      <th>959</th>\n",
       "      <td>SS/PRODUCTION SERVICES</td>\n",
       "      <td>DATA ANALYST</td>\n",
       "      <td>ALBANY</td>\n",
       "      <td>2180.24</td>\n",
       "      <td>RA</td>\n",
       "      <td>SENATE EMPLOYEE</td>\n",
       "    </tr>\n",
       "    <tr>\n",
       "      <th>960</th>\n",
       "      <td>SS/PRODUCTION SERVICES</td>\n",
       "      <td>MAILING OPERATOR II</td>\n",
       "      <td>ALBANY</td>\n",
       "      <td>1770.23</td>\n",
       "      <td>RA</td>\n",
       "      <td>SENATE EMPLOYEE</td>\n",
       "    </tr>\n",
       "    <tr>\n",
       "      <th>961</th>\n",
       "      <td>SENATE TECHNOLOGY SERVICES</td>\n",
       "      <td>SENIOR OFFICE SUPPORT REPRESENTATIVE</td>\n",
       "      <td>ALBANY</td>\n",
       "      <td>2917.25</td>\n",
       "      <td>RA</td>\n",
       "      <td>SENATE EMPLOYEE</td>\n",
       "    </tr>\n",
       "    <tr>\n",
       "      <th>962</th>\n",
       "      <td>MINORITY COUNSEL/PROGRAM</td>\n",
       "      <td>LEGISLATIVE ANALYST</td>\n",
       "      <td>ALBANY</td>\n",
       "      <td>1923.08</td>\n",
       "      <td>RA</td>\n",
       "      <td>SENATE EMPLOYEE</td>\n",
       "    </tr>\n",
       "  </tbody>\n",
       "</table>\n",
       "<p>963 rows × 6 columns</p>\n",
       "</div>"
      ],
      "text/plain": [
       "                                Office                                 Title  \\\n",
       "0            SENATOR TOBY ANN STAVISKY                     COMMUNITY LIAISON   \n",
       "1        LEGISLATIVE MESSENGER SERVICE                             MESSENGER   \n",
       "2    SENATE FINANCE COMMITTEE/MAJORITY                        SENIOR ANALYST   \n",
       "3                SENATOR JESSICA RAMOS  SR. DIR. LEG. AFFRS / COMMITTEE DIR.   \n",
       "4              SENATE SERGEANT-AT-ARMS              SESSION SERGEANT-AT-ARMS   \n",
       "..                                 ...                                   ...   \n",
       "958              SENATOR TODD KAMINSKY                     COMMUNITY LIAISON   \n",
       "959             SS/PRODUCTION SERVICES                          DATA ANALYST   \n",
       "960             SS/PRODUCTION SERVICES                   MAILING OPERATOR II   \n",
       "961         SENATE TECHNOLOGY SERVICES  SENIOR OFFICE SUPPORT REPRESENTATIVE   \n",
       "962           MINORITY COUNSEL/PROGRAM                   LEGISLATIVE ANALYST   \n",
       "\n",
       "                 City  Biweeklt/hourly rate Payrol type  \\\n",
       "0            FLUSHING               1076.93          SA   \n",
       "1              ALBANY               1173.93          RA   \n",
       "2              ALBANY               2692.31          RA   \n",
       "3              ALBANY               2307.70          RA   \n",
       "4              ALBANY                820.95          SA   \n",
       "..                ...                   ...         ...   \n",
       "958  ROCKVILLE CENTRE               1538.47          RA   \n",
       "959            ALBANY               2180.24          RA   \n",
       "960            ALBANY               1770.23          RA   \n",
       "961            ALBANY               2917.25          RA   \n",
       "962            ALBANY               1923.08          RA   \n",
       "\n",
       "             Legislative entity  \n",
       "0               SENATE EMPLOYEE  \n",
       "1    JOINT LEGISLATIVE EMPLOYEE  \n",
       "2               SENATE EMPLOYEE  \n",
       "3               SENATE EMPLOYEE  \n",
       "4               SENATE EMPLOYEE  \n",
       "..                          ...  \n",
       "958             SENATE EMPLOYEE  \n",
       "959             SENATE EMPLOYEE  \n",
       "960             SENATE EMPLOYEE  \n",
       "961             SENATE EMPLOYEE  \n",
       "962             SENATE EMPLOYEE  \n",
       "\n",
       "[963 rows x 6 columns]"
      ]
     },
     "execution_count": 3,
     "metadata": {},
     "output_type": "execute_result"
    }
   ],
   "source": [
    "df"
   ]
  },
  {
   "cell_type": "code",
   "execution_count": 4,
   "metadata": {
    "colab": {
     "base_uri": "https://localhost:8080/"
    },
    "id": "IkSf7g0eXMxp",
    "outputId": "99d9ccf9-9e6e-4d48-95fc-e8e523e8e418"
   },
   "outputs": [
    {
     "data": {
      "text/plain": [
       "(963, 6)"
      ]
     },
     "execution_count": 4,
     "metadata": {},
     "output_type": "execute_result"
    }
   ],
   "source": [
    "\n",
    "df.shape"
   ]
  },
  {
   "cell_type": "code",
   "execution_count": 5,
   "metadata": {
    "colab": {
     "base_uri": "https://localhost:8080/"
    },
    "id": "Kb3FtFxrXP2u",
    "outputId": "d5b217aa-1fd1-4bc4-e24e-223b8471bfc2"
   },
   "outputs": [
    {
     "name": "stdout",
     "output_type": "stream",
     "text": [
      "<class 'pandas.core.frame.DataFrame'>\n",
      "RangeIndex: 963 entries, 0 to 962\n",
      "Data columns (total 6 columns):\n",
      " #   Column                Non-Null Count  Dtype  \n",
      "---  ------                --------------  -----  \n",
      " 0   Office                963 non-null    object \n",
      " 1   Title                 963 non-null    object \n",
      " 2   City                  963 non-null    object \n",
      " 3   Biweeklt/hourly rate  963 non-null    float64\n",
      " 4   Payrol type           963 non-null    object \n",
      " 5   Legislative entity    963 non-null    object \n",
      "dtypes: float64(1), object(5)\n",
      "memory usage: 45.3+ KB\n"
     ]
    }
   ],
   "source": [
    "df.info()"
   ]
  },
  {
   "cell_type": "code",
   "execution_count": 6,
   "metadata": {
    "colab": {
     "base_uri": "https://localhost:8080/"
    },
    "id": "Rb14HBLQXv_G",
    "outputId": "5a85f242-6232-4103-df71-1edc783caa0e"
   },
   "outputs": [
    {
     "data": {
      "text/plain": [
       "Office                  False\n",
       "Title                   False\n",
       "City                    False\n",
       "Biweeklt/hourly rate    False\n",
       "Payrol type             False\n",
       "Legislative entity      False\n",
       "dtype: bool"
      ]
     },
     "execution_count": 6,
     "metadata": {},
     "output_type": "execute_result"
    }
   ],
   "source": [
    "df.isnull().any()"
   ]
  },
  {
   "cell_type": "code",
   "execution_count": 7,
   "metadata": {
    "colab": {
     "base_uri": "https://localhost:8080/"
    },
    "id": "zGaF_cTmXUIZ",
    "outputId": "d8ad7aa4-de0b-4cc9-a975-4fada60c7d31"
   },
   "outputs": [
    {
     "data": {
      "text/plain": [
       "Title\n",
       "COMMUNITY LIAISON                     43\n",
       "CHIEF OF STAFF                        43\n",
       "LEGISLATIVE DIRECTOR                  28\n",
       "ADMINISTRATIVE ASSISTANT              26\n",
       "COMMUNICATIONS DIRECTOR               23\n",
       "                                      ..\n",
       "DRUPAL ARCHITECT                       1\n",
       "DRIVER                                 1\n",
       "DOWNSTATE OPERATIONS COORDINATOR       1\n",
       "DOCUMENT ROOM MANAGER                  1\n",
       "EXEC DIR OF SEN DEM INTERN PROGRAM     1\n",
       "Length: 406, dtype: int64"
      ]
     },
     "execution_count": 7,
     "metadata": {},
     "output_type": "execute_result"
    }
   ],
   "source": [
    "df.value_counts(\"Title\")"
   ]
  },
  {
   "cell_type": "code",
   "execution_count": 10,
   "metadata": {
    "colab": {
     "base_uri": "https://localhost:8080/"
    },
    "id": "RMUUIxv_bS1Z",
    "outputId": "c4079887-b683-4458-e7d1-ab53192cc219"
   },
   "outputs": [
    {
     "data": {
      "text/plain": [
       "CHIEF OF STAFF                          43\n",
       "COMMUNITY LIAISON                       43\n",
       "LEGISLATIVE DIRECTOR                    28\n",
       "ADMINISTRATIVE ASSISTANT                26\n",
       "COMMUNICATIONS DIRECTOR                 23\n",
       "                                        ..\n",
       "ALBANY OFFICE DIRECTOR                   1\n",
       "EXECUTIVE ASSISTANT/COMMITTEE CLERK/     1\n",
       "DIRECTOR & COUNSEL OF EXTERNAL RELAT     1\n",
       "DEPUTY DIR OF SENATE POLICY GROUP        1\n",
       "MAIL SELECTION SPECIALIST                1\n",
       "Name: Title, Length: 406, dtype: int64"
      ]
     },
     "execution_count": 10,
     "metadata": {},
     "output_type": "execute_result"
    }
   ],
   "source": [
    "df.Title.value_counts()"
   ]
  },
  {
   "cell_type": "code",
   "execution_count": 13,
   "metadata": {
    "colab": {
     "base_uri": "https://localhost:8080/"
    },
    "id": "uKvMAH8Ze1-f",
    "outputId": "b9ca3f53-a42a-4bdc-b7c3-7357b74bee6d"
   },
   "outputs": [
    {
     "data": {
      "text/plain": [
       "406"
      ]
     },
     "execution_count": 13,
     "metadata": {},
     "output_type": "execute_result"
    }
   ],
   "source": [
    "len(df.Title.value_counts() < 2)"
   ]
  },
  {
   "cell_type": "code",
   "execution_count": 8,
   "metadata": {
    "colab": {
     "base_uri": "https://localhost:8080/"
    },
    "id": "MhOKEHShb2cW",
    "outputId": "cda623cc-b9c7-46c7-8411-a08023b14f7f"
   },
   "outputs": [
    {
     "data": {
      "text/plain": [
       "array(['COMMUNITY LIAISON', 'MESSENGER', 'SENIOR ANALYST',\n",
       "       'SR. DIR. LEG. AFFRS / COMMITTEE DIR.', 'SESSION SERGEANT-AT-ARMS',\n",
       "       'CHIEF OF STAFF', 'ADMINISTRATIVE ASSISTANT', 'DISTRICT DIRECTOR',\n",
       "       'COMMUNICATIONS DIRECTOR', 'TECHNICAL SUPPORT REPRESENTATIVE',\n",
       "       'EXTERNAL RELATIONS ASSOCIATE', 'LEGISLATIVE DIRECTOR',\n",
       "       'DISTRICT POLICY & ORGANIZING DIRECTO', 'POSTAL CLERK',\n",
       "       'MESSENGER APPRENTICE', 'ASSOCIATE COUNSEL', 'EXECUTIVE AIDE',\n",
       "       'DISTRICT REPRESENTATIVE', 'EXTERNAL RELATIONS LEGISLATIVE AIDE',\n",
       "       'SESSION AIDE', 'OFFICE MANAGER', 'CONSTITUENT RELATIONS AIDE',\n",
       "       'DIRECTOR OF OPERATIONS', 'DEPUTY CHIEF OF STAFF', 'COUNSEL',\n",
       "       'SENIOR ADVISOR', 'EXECUTIVE ASSISTANT',\n",
       "       'DISTRICT OFFICE COORDINATOR',\n",
       "       'CONSTITUENT SERVICES REPRESENTATIVE',\n",
       "       'DIRECTOR OF COMMUNITY RELATIONS', 'TRANSLATOR',\n",
       "       'EMPLOYEE BENEFITS ASSISTANT', 'ATTORNEY',\n",
       "       'EXECUTIVE ASSISTANT/ALBANY OFFICE MA', 'SENATE FELLOW',\n",
       "       'LEGISLATIVE AIDE', 'COMMITTEE DIRECTOR',\n",
       "       'SENIOR CYBERSECURITY ADVISOR', 'LEGISLATIVE ASSISTANT',\n",
       "       'HEALTH COMMITTEE & POLICY ANALYST', 'LEGISLATIVE LIBRARIAN',\n",
       "       'SENATE AIDE', 'BILL JACKETING CLERK', 'SUPPLY CLERK', 'DRIVER',\n",
       "       'SPECIAL ASSISTANT/SCHEDULER', 'CUSTODIAN',\n",
       "       'COMMUNITY AFFAIRS ASSISTANT', 'LEGISLATIVE COUNSEL',\n",
       "       'LAW LIBRARY ASSISTANT', 'CONSTITUENT SERVICE AIDE',\n",
       "       'PAYROLL PROCESSOR', 'COMMUNITY REPRESENTATIVE',\n",
       "       'LEGISLATIVE AIDE/COMMUNITY LIAISON', 'DIRECTOR OF PUBLIC AFFAIRS',\n",
       "       'DIRECTOR OF PRODUCTIONS', 'DIRECTOR OF ECONOMIC DEVELOPMENT',\n",
       "       'SPECIAL ASSISTANT', 'CHIEF OF STAFF, DISTRICT',\n",
       "       'PRODUCTION TECHNICIAN', 'DOWNSTATE OPERATIONS COORDINATOR',\n",
       "       'DOCUMENT CLERK', 'CHIEF OF STAFF/DIR. COMMUNICATIONS',\n",
       "       'COMMUNITY AFFAIRS COORD / SCHEDULER', 'FINISHING TECHNICIAN',\n",
       "       'ACTING CHIEF OF STAFF', 'POLICY ANALYST',\n",
       "       'MANAGER STS EDUC. AND SUPPORT', 'SENIOR PROGRAMMER',\n",
       "       'DIRECTOR OF DISTRICT OFCE OPERATIONS',\n",
       "       'WEB & OPEN PROJECTS COORDINATOR', 'DATA ENTRY OPERATOR',\n",
       "       'DIRECTOR OF COMMUNICATIONS', 'FISCAL ANALYST',\n",
       "       'SR. ADVSR AGING POLICY & SPEC. PROJ', 'ASSISTANT DIRECTOR',\n",
       "       'OFFICE SUPPORT REPRESENTATIVE', 'ASSISTANT CHIEF OF FURNISHINGS',\n",
       "       'COMMUNITY AFFAIRS REPRESENTATIVE', 'BUDGET ANALYST', 'PROGRAMMER',\n",
       "       'EXECUTIVE ASSISTANT/COMMITTEE CLERK/',\n",
       "       'DIRECTOR COMMUNITY AFFAIRS', 'COMPLIANCE ASSISTANT',\n",
       "       'SHOP SUPERVISOR', 'COMMUNITY OUTREACH & CONSTITUENT SER',\n",
       "       'CALENDAR OPERATIONS COORDINATOR',\n",
       "       'DEPUTY DIR. OF MAINT & OPERATIONS',\n",
       "       'ASSISTANT COUNSEL/PROGRAM ANALYST', 'DIRECTOR CREATIVE MEDIA',\n",
       "       'DIRECTOR OF CONSTITUENT AFFAIRS',\n",
       "       'COMMITTEE CLERK/OFFICE MANAGER', 'SENIOR GRAPHIC ARTIST',\n",
       "       'SENIOR SPECIAL EVENTS COORDINATOR',\n",
       "       'RECRUITMENT AND TRAINING COORDINATOR', 'DEPUTY DIRECTOR',\n",
       "       'PRESS OPERATOR I', 'CONSTITUENT RELATIONS MANAGER',\n",
       "       'DISTRICT PRESS OFFICER', 'JOURNAL CLERK', 'STAFF ASSISTANT',\n",
       "       'DIRECTOR OF SCHEDULING', 'DIRECTOR OF ALBANY OPERATIONS',\n",
       "       'DOCUMENT ROOM MANAGER', 'SENIOR PRODUCTION TECHNICIAN', 'INTERN',\n",
       "       'DIRECTOR OF CONSTITUENT SERVICES',\n",
       "       'BUSINESS APPLICATION DEVELOPER', 'SCHEDULER',\n",
       "       'PRESS AIDE/COMMUNITY LIAISON',\n",
       "       'DEPUTY CHIEF OF STAFF FOR CONSTITUEN',\n",
       "       'COMMUNITY REPRESENTATIVE & SPECIAL P', 'IT COORDINATOR',\n",
       "       'DEPUTY PROCUREMENT OFFICER',\n",
       "       'MANAGER OF SECURITY & DOCUMENTATION', 'SPECIAL PROJECTS DIRECTOR',\n",
       "       'PRESS SECRETARY', 'DEPUTY SERGEANT-AT-ARMS',\n",
       "       'SCHEDULING DIRECTOR', 'ACCOUNT CLERK',\n",
       "       'INTERNAL OPERATIONS MANAGER', 'CASE WORKER', 'SENIOR ASSOCIATE',\n",
       "       'COMMUNITY OUTREACH COORDINATOR',\n",
       "       'LEGISLATIVE HEALTH SVC STAFF NURSE', 'CONSTITUENT LIAISON',\n",
       "       'EVENTS COORDINATOR', 'COMMUNICATIONS COORDINATOR',\n",
       "       'POSTAL OPERATIONS MANAGER', 'COMMUNICATIONS ASSOCIATE',\n",
       "       'ASSISTANT POSTMASTER', 'PURCHASING AGENT',\n",
       "       'COMMUNITY AFFAIRS SPECIALIST', 'SENIOR EXECUTIVE ASSISTANT',\n",
       "       'ALBANY OPERATIONS COORDINATOR',\n",
       "       'DIRECTOR OF COMMUNICATIONS & OPERATI', 'WORK COORDINATOR/PROOFER',\n",
       "       'EMPLOYMENT PROCESSING ASSOCIATE', 'CORRESPONDENCE ASSISTANT',\n",
       "       'DEPUTY DIRECTOR OF CONSTITUENT SERV.',\n",
       "       'SENIOR OFFICE SUPPORT REPRESENTATIVE',\n",
       "       'DIRECTOR OF CORRESPONDENCE', 'OSR/ REGIONAL SUPPORT SPECIALIST',\n",
       "       'DATA ANALYST', 'NETWORK SUPPORT ANALYST', 'HOME RULE CLERK',\n",
       "       'ASSISTANT COMMUNITY LIAISON', 'EXECUTIVE SECRETARY',\n",
       "       'MESSENGER COORDINATOR', 'PURCHASING CLERK',\n",
       "       'DEPUTY CHIEF OF STAFF ADMINISTRATION', 'AG LIAISON-ADVISOR',\n",
       "       'DEPUTY DIRECTOR OF COMMUNICATIONS', 'SENIOR BUDGET ANALYST',\n",
       "       'OFFICE ASSISTANT', 'FACILITY ASSISTANT',\n",
       "       'POSTAL OPERATIONS COORDINATOR', 'TELECOMMUNICATIONS ENGINEER',\n",
       "       'MANAGER OF GRAPHICS', 'LEGISLATIVE DIRECTOR/COUNSEL',\n",
       "       'DIRECTOR OF FISCAL STUDIES', 'CHIEF OF STAFF / NYC',\n",
       "       'DESK OPERATIONS CLERK', 'OUTREACH DIRECTOR', 'PAYROLL MANAGER',\n",
       "       'SENIOR DIGITAL OUTREACH COORDINATOR',\n",
       "       'SR. CONSTITUENT & COMMUNITY LIAISON', 'PRINCIPAL BUDGET ANALYST',\n",
       "       'COMMUNICATIONS SPECIALIST', 'SENIOR PROGRAM ANALYST',\n",
       "       'DISTRICT OFFICE MANAGER', 'SPECIAL ASSISTANT TO THE SENATOR',\n",
       "       'CONSTITUENT COMMUNITY COORDINATOR', 'EDUCATION ADVISOR',\n",
       "       'PHOTOGRAPHER', 'LEG. DIR / DIR COM, ECON DEV & SM BS',\n",
       "       'CONSTITUENT RELATIONS SPECIALIST', 'TECHNICAL WRITER',\n",
       "       'CHIEF FURNISHINGS', 'DEPUTY LEGISLATIVE DIRECTOR',\n",
       "       'ALBANY OFFICE DIRECTOR', 'CONSTITUENT REPRESENTATIVE',\n",
       "       'ASSISTANT/SENIOR ADVISOR', 'SENIOR COUNSEL / PROGRAM ANALYST',\n",
       "       'DISTRICT COORDINATOR', 'ASSISTANT SUPERVISOR',\n",
       "       'DIRECTOR OF STRATEGIC PLANNING AND S', 'LEGISLATIVE ANALYST',\n",
       "       'CALENDAR CLERK', 'CONSTITUENT SERVICES SPECIALIST',\n",
       "       'COMMUNITY LIASION / HOUSING SPECIST',\n",
       "       'DIRECTOR OF COMMUNITY OUTREACH', 'WRITER', 'COORDINATOR',\n",
       "       'COMMUNICATIONS AND POLICY DIRECTOR', 'OPERATIONS COORDINATOR',\n",
       "       'LIAISON', 'PRODUCTION FACILITY MANAGER',\n",
       "       'VIDEO PRODUCTION COORDINATOR', 'ASSISTANT COUNSEL',\n",
       "       'GENERAL CLERK', 'LEGAL COUNSEL DIRECTOR OF OPERATIONS',\n",
       "       'SENIOR COUNSEL', 'SENIOR LIASON', 'CONSTITUENT SERVICES',\n",
       "       'DIRECTOR OF COMMUNITY AFFAIRS', 'MAILING ASSISTANT',\n",
       "       'EVENTS COORDINATOR/COMMUNITY LIAISON',\n",
       "       'DEPUTY ACCOUNTS PAYABLE MANAGER',\n",
       "       'COMMUNITY & CONSTITUENT AFFAIRS ASST',\n",
       "       'SUPERVISOR OF COMPUTER OPERATIONS',\n",
       "       'LEGIS ANALYST CONST. SVCS SPECIALIST', 'GRAPHIC ARTIST',\n",
       "       'LAW LIBRARIAN', 'DIRECTOR OF ALBANY OPERATIONS/LEGISL',\n",
       "       'DEPUTY COMMUNICATIONS DIRECTOR',\n",
       "       'PRESS SECRETARY/SPECIAL EVENTS COORD',\n",
       "       'SCHEDULER & CONSTIT. RELATIONS COORD',\n",
       "       'DISTRICT REPRESENTATIVE/COMMUNITY LI',\n",
       "       'REGIONAL DIRECTOR FOR THE HUDSON VAL',\n",
       "       'DEPUTY DIR OF SENATE POLICY GROUP', 'COMMUNITY AFFAIRS LIAISON',\n",
       "       'NEW MEDIA MANAGER', 'DIRECTOR OF SPECIAL PROJECTS',\n",
       "       'SUPERVISOR, APPLICATIONS PROGRAMMING',\n",
       "       'OUTREACH MANAGER / COORDINATOR', 'ACCOUNTS PAYABLE MANAGER',\n",
       "       'FIELD REPRESENTATIVE', 'GRAPHIC ARTIST I',\n",
       "       'DIRECTOR OF HEALTH POLICY', 'PUBLIC AFFAIRS COORDINATOR',\n",
       "       'SCHEDULER/COMMUNITY LIAISON', 'COMMUNITY AFFAIRS MANAGER',\n",
       "       'CONSTITUENT RELATIONS REPRESENTATIVE',\n",
       "       'LEGISLATIVE ASSNT / COMMITTEE CLERK',\n",
       "       'DISTRICT COMMUNICATIONS DIRECTOR', 'PRODUCTION COORDINATOR',\n",
       "       'DEPUTY CHIEF STAFF / SENIOR ADVISOR',\n",
       "       'ASSISTANT SERGEANT-AT-ARMS', 'DISTRICT OFFICE DIRECTOR',\n",
       "       'DIRECTOR OF ADMINISTRATION', 'DRUPAL ARCHITECT',\n",
       "       'SENIOR STAFF ASSISTANT', 'SPECIAL PROJECTS COORDINATOR',\n",
       "       'COUNSEL/LEGISLATIVE DIRECTOR', 'DIGITAL OPERATOR I',\n",
       "       'DIR COMM OUTREACH / LEGISLATIVE AIDE', 'CONSTITUENT SPECIALIST',\n",
       "       'DIRECTOR MEDIA SERVICES', 'ADMINISTRATIVE COORDINATOR',\n",
       "       'COMMUNITY RELATIONS LIAISON', 'CHIEF ELECTRONICS ENGINEER',\n",
       "       'DIRECTOR OF CORRESPONDENCE AND INITI',\n",
       "       'ALBANY DEPUTY CHIEF OF STAFF', 'DIRECTOR OF SCHEDULING & ADMIN.',\n",
       "       'SCHEDULER / COMMUNITY COORDINATOR',\n",
       "       'CONSTITUENT SVCS / DISTRICT COUNSEL',\n",
       "       'SENIOR EMPLOYMENT PROCESSING ASSOCIA',\n",
       "       'DIR. LEGISLATIVE MESSENGER SERVICE', 'MAINTENANCE WORKER',\n",
       "       'CONSTITUENT COORDINATOR', 'OFFICE COORDINATOR',\n",
       "       'MAIL SELECTION SPECIALIST', 'PRESS OFFICER',\n",
       "       'SENIOR PAYROLL PROCESSOR', 'FISCAL STUDIES ANALYST',\n",
       "       'DIRECTOR OF POLICY & OPERATIONS', 'WEB SUPPORT SPECIALIST',\n",
       "       'DIRECTOR', 'LASER/QUICK COPY MANAGER', 'WAREHOUSE CLERK',\n",
       "       'PROGRAM DIRECTOR', 'EXECUTIVE ASSISTANT/SCHEDULER',\n",
       "       'MENTAL HEALTH COMMITTEE DIRECTOR', 'PARLIAMENTARIAN',\n",
       "       'CHIEF FISCAL OFFICER', 'DIRECTOR OF OPERATIONS & LEGISLATION',\n",
       "       'SENIOR COMPUTER OPERATOR', 'ADMINISTRATIVE PROJECT COORDINATOR',\n",
       "       'DEPUTY SUPPLY CHIEF', 'BENEFITS SUPERVISOR/LIAISON',\n",
       "       'COMMUNITY MANAGER', 'BENEFITS ASSISTANT SUPERVISOR',\n",
       "       'COMMITTEE DIR. & LEGISLATIVE DIR.',\n",
       "       'DIRECTOR & COUNSEL OF EXTERNAL RELAT', 'POLICY DIRECTOR',\n",
       "       'LEGIS. DIRECTOR UPSTATE REGIONAL DIR',\n",
       "       'STAFF ASSISTANT / COMMITTEE CLERK', 'SENIOR WEBPRESS OPERATOR I',\n",
       "       \"CNSL. SECTY. OF THE SENATE'S OFFICE\", 'MAINTENANCE SUPERVISOR',\n",
       "       'MANAG DIR OF BUDGET & FISCAL STDIES',\n",
       "       'ADMINISTRATIVE ASST / CASE WORKER',\n",
       "       'CHIEF OF STAFF & DIRECTOR OF COMMUNI', 'LEGISLATIVE ASSOCIATE',\n",
       "       'ASSISTANT DIRECTOR OF OPERATIONS/ OF', 'CHIEF SENATE SUPPLY',\n",
       "       'DIRECTOR OF POLICY & RESEARCH', 'CONSTITUENT AFFAIRS LIAISON',\n",
       "       'NORTH COUNTRY COORD./COUNSEL', 'RECEPTIONIST/OFFICE ASSISTANT',\n",
       "       'PREPRESS TECH II', 'SHOP ASSISTANT', 'CHIEF OF OPERATIONS',\n",
       "       'DIRECTOR OF COMNTY AFFAIRS & COUNSEL', 'CHIEF OF INVESTIGATIONS',\n",
       "       'SENIOR COMMUNITY LIAISON', 'EXECUTIVE DIRECTOR', 'POLICY COUNSEL',\n",
       "       'DIRECTOR OF SOCIAL SERVICES', 'SCHEDULER / LEGISLATIVE ASSISTANT',\n",
       "       'SENATE DESK OPERATIONS CLERK', 'TIME & ATTENDANCE LIAISON',\n",
       "       'CONTENT MANAGER', 'COMMUNITY OUTREACH DIRECTOR',\n",
       "       'SUPERVISOR OF LEGISLATIVE SERVICES',\n",
       "       'CONFERENCE DIRECTOR OF INFORMATION T',\n",
       "       'DEPUTY DIRECTOR, EXTERNAL RELATIONS', 'CHIEF OF RECEIVING',\n",
       "       'COMMITTEE COUNSEL', 'DIRECTOR CONSTITUENT RELATIONS',\n",
       "       'NETWORK ENGINEER', 'PUBLIC AFFAIRS ASSISTANT',\n",
       "       'DEPUTY DIRECTOR SENATE SERVICES',\n",
       "       'COUNSEL TO THE MINORITY LEADER',\n",
       "       'SR. CONFIDENTIAL EXEC. ASSISTANT',\n",
       "       'LEGISLATIVE ASSIT/COMMUNITY LIAISON',\n",
       "       'CONSTITUENT SERVICES MANAGER', 'WEBPRESS OPERATORI',\n",
       "       'HISPANIC LIAISON', 'SENIOR NETWORK ENGINEER',\n",
       "       'SUPERVISOR FOR MICROFILM & INVENTORY',\n",
       "       'ASSISTANT TECHNICAL SUPPORT SUPV.',\n",
       "       'TELECOMMUNICATIONS NETWORK COORD', 'SUPPLY ASSISTANT',\n",
       "       'EXEC. SECRETARY/ALBANY OFFICE MNGR.',\n",
       "       'SENIOR LEGISLATIVE ASSISTANT',\n",
       "       'CONSTITUENT COMMUNICATIONS ASSISTANT', 'PRESS AIDE',\n",
       "       'REGIONAL DIRECTOR', 'TECHNOLOGY SPECIALIST', 'TELEPHONE OPERATOR',\n",
       "       'PRODUCTION SERVICES DATA MANAGER', 'DIRECTOR OF DIGITAL OUTREACH',\n",
       "       'EXEC DIR OF SEN DEM INTERN PROGRAM',\n",
       "       'DEPUTY CHIEF OF STAFF / COUNSEL', 'CREATIVE SERVICES DIRECTOR',\n",
       "       'DISTRICT OFFICE COMMUNITY LIAISON', 'PRODUCTION TECHNICIAN I',\n",
       "       'PRESS ASSISTANT', 'SENIOR PRODUCTION COORDINATOR',\n",
       "       'PRINCIPAL ANALYST', 'SENIOR POLICY ADVISOR',\n",
       "       'CUSTODIAL SUPERVISOR', 'SPECIAL ADVISOR',\n",
       "       'DIRECTOR OF STUDENT PROGRAMS', 'DEPUTY PRESS SECRETARY',\n",
       "       'CONSTITUENT AIDE', 'FINISHING TECH 1', 'LCA PRESS ASSISTANT',\n",
       "       'PROGRAMMER / ANALYST', 'COUNSEL/ALBANY CHIEF OF STAFF',\n",
       "       'CARPENTER II', 'DIRECTOR OF SENATE SERVICES',\n",
       "       'GRANTS COORDINATOR/LEGISLATIVE ASSIS', 'SENIOR DATA ANALYST',\n",
       "       'FLOOR COUNSEL/SENIOR COUNSEL', 'DIR OF ADMIN / COMMITTEE CLERK',\n",
       "       'PUBLIC AFFAIRS LIAISON', 'DIRECTOR OF NEW MEDIA',\n",
       "       'SENIOR GRAPHIC DESIGNER', 'EDITOR',\n",
       "       'DIRECTOR OF GOVERNMENT AFFAIRS', 'CORRESPONDENCE SPECIALIST',\n",
       "       'DISTRICT AIDE', 'SFC / COMMITTEE CLERK',\n",
       "       'BINDER OPERATIONS COORDINATOR', 'LONG ISLAND COORDINATOR',\n",
       "       'SENIOR UNIFIED COMMUNICTNS ENGINEER',\n",
       "       'LEGISLATIVE COMMITTEE DIRECTOR', 'SENIOR GRANTS SPECIALIST',\n",
       "       'COMMUNICATIONS & SPECIAL EVENTS MNGR',\n",
       "       'OPERATIONS & OUTREACH MANAGER', 'OPERATIONS DIRECTOR',\n",
       "       'COMMUNITY POLICY DIRECTOR & DEPUTY C',\n",
       "       'SUPERVISOR SENATE DESK OPERATIONS', 'DEPUTY EXECUTIVE ASSISTANT',\n",
       "       'COUNSEL AND COMMITTEE DIRECTOR', 'DIGITAL DIRECTOR',\n",
       "       'SENIOR CASEWORKER', 'SENIOR RESEARCH ANALYST',\n",
       "       'ASSISTANT PERSONNEL OFFICER',\n",
       "       'DIRECTOR OF ADMIN COUNSEL / PROGRAM',\n",
       "       'INSURANCE COMM DR DPTY CHIEF OF STAF',\n",
       "       'DIST. OFFICE COMMUNICATIONS COORD.', 'COMMITTEE CLERK',\n",
       "       'ASSISTANT PRODUCTION FACILITY MANAGE',\n",
       "       'DEPUTY DIRECTOR DEPUTY COUNSEL', 'LEAD WRITER - COORDINATOR',\n",
       "       'LASER OPERATIONS SUPERVISOR', 'PROOFREADER', 'TEAM COUNSEL',\n",
       "       'CHIEF OF STAFF/COUNSEL', 'POSTMASTER', 'POLICY ASSISTANT',\n",
       "       'MAILING OPERATOR II'], dtype=object)"
      ]
     },
     "execution_count": 8,
     "metadata": {},
     "output_type": "execute_result"
    }
   ],
   "source": [
    "df.Title.unique()"
   ]
  },
  {
   "cell_type": "code",
   "execution_count": 9,
   "metadata": {
    "id": "uKI8PQg_cSkO"
   },
   "outputs": [],
   "source": [
    "list_of_least_title = []\n",
    "for i in df.Title.unique():\n",
    "  if df.Title.value_counts()[i] < 2 :\n",
    "    list_of_least_title.append(i)"
   ]
  },
  {
   "cell_type": "code",
   "execution_count": 10,
   "metadata": {
    "colab": {
     "base_uri": "https://localhost:8080/",
     "height": 419
    },
    "id": "jSMtkMUzlu84",
    "outputId": "11dcf915-f75e-45e9-8ec2-f5402d0fc99c"
   },
   "outputs": [
    {
     "data": {
      "text/html": [
       "<div>\n",
       "<style scoped>\n",
       "    .dataframe tbody tr th:only-of-type {\n",
       "        vertical-align: middle;\n",
       "    }\n",
       "\n",
       "    .dataframe tbody tr th {\n",
       "        vertical-align: top;\n",
       "    }\n",
       "\n",
       "    .dataframe thead th {\n",
       "        text-align: right;\n",
       "    }\n",
       "</style>\n",
       "<table border=\"1\" class=\"dataframe\">\n",
       "  <thead>\n",
       "    <tr style=\"text-align: right;\">\n",
       "      <th></th>\n",
       "      <th>Office</th>\n",
       "      <th>Title</th>\n",
       "      <th>City</th>\n",
       "      <th>Biweeklt/hourly rate</th>\n",
       "      <th>Payrol type</th>\n",
       "      <th>Legislative entity</th>\n",
       "    </tr>\n",
       "  </thead>\n",
       "  <tbody>\n",
       "    <tr>\n",
       "      <th>3</th>\n",
       "      <td>SENATOR JESSICA RAMOS</td>\n",
       "      <td>SR. DIR. LEG. AFFRS / COMMITTEE DIR.</td>\n",
       "      <td>ALBANY</td>\n",
       "      <td>2307.70</td>\n",
       "      <td>RA</td>\n",
       "      <td>SENATE EMPLOYEE</td>\n",
       "    </tr>\n",
       "    <tr>\n",
       "      <th>10</th>\n",
       "      <td>SENATE TECHNOLOGY SERVICES</td>\n",
       "      <td>TECHNICAL SUPPORT REPRESENTATIVE</td>\n",
       "      <td>ALBANY</td>\n",
       "      <td>1307.70</td>\n",
       "      <td>RA</td>\n",
       "      <td>SENATE EMPLOYEE</td>\n",
       "    </tr>\n",
       "    <tr>\n",
       "      <th>13</th>\n",
       "      <td>SENATOR JESSICA RAMOS</td>\n",
       "      <td>DISTRICT POLICY &amp; ORGANIZING DIRECTO</td>\n",
       "      <td>EAST ELMHURST</td>\n",
       "      <td>2000.00</td>\n",
       "      <td>RA</td>\n",
       "      <td>SENATE EMPLOYEE</td>\n",
       "    </tr>\n",
       "    <tr>\n",
       "      <th>20</th>\n",
       "      <td>MAJORITY CONFERENCE SERVICES</td>\n",
       "      <td>EXTERNAL RELATIONS LEGISLATIVE AIDE</td>\n",
       "      <td>ALBANY</td>\n",
       "      <td>2115.39</td>\n",
       "      <td>SA</td>\n",
       "      <td>SENATE EMPLOYEE</td>\n",
       "    </tr>\n",
       "    <tr>\n",
       "      <th>31</th>\n",
       "      <td>SENATOR SUSAN SERINO</td>\n",
       "      <td>DISTRICT OFFICE COORDINATOR</td>\n",
       "      <td>PUTNAM VALLEY</td>\n",
       "      <td>2307.70</td>\n",
       "      <td>RA</td>\n",
       "      <td>SENATE EMPLOYEE</td>\n",
       "    </tr>\n",
       "    <tr>\n",
       "      <th>...</th>\n",
       "      <td>...</td>\n",
       "      <td>...</td>\n",
       "      <td>...</td>\n",
       "      <td>...</td>\n",
       "      <td>...</td>\n",
       "      <td>...</td>\n",
       "    </tr>\n",
       "    <tr>\n",
       "      <th>947</th>\n",
       "      <td>SENATOR JAMES SANDERS</td>\n",
       "      <td>TEAM COUNSEL</td>\n",
       "      <td>ALBANY</td>\n",
       "      <td>2500.00</td>\n",
       "      <td>RA</td>\n",
       "      <td>SENATE EMPLOYEE</td>\n",
       "    </tr>\n",
       "    <tr>\n",
       "      <th>948</th>\n",
       "      <td>SENATOR ANNA M. KAPLAN</td>\n",
       "      <td>CHIEF OF STAFF/COUNSEL</td>\n",
       "      <td>ALBANY</td>\n",
       "      <td>4615.39</td>\n",
       "      <td>RA</td>\n",
       "      <td>SENATE EMPLOYEE</td>\n",
       "    </tr>\n",
       "    <tr>\n",
       "      <th>950</th>\n",
       "      <td>SENATE M&amp;O/POST OFFICE</td>\n",
       "      <td>POSTMASTER</td>\n",
       "      <td>ALBANY</td>\n",
       "      <td>2628.45</td>\n",
       "      <td>RA</td>\n",
       "      <td>SENATE EMPLOYEE</td>\n",
       "    </tr>\n",
       "    <tr>\n",
       "      <th>952</th>\n",
       "      <td>MAJORITY COUNSEL/PROGRAM</td>\n",
       "      <td>POLICY ASSISTANT</td>\n",
       "      <td>ALBANY</td>\n",
       "      <td>1538.47</td>\n",
       "      <td>RA</td>\n",
       "      <td>SENATE EMPLOYEE</td>\n",
       "    </tr>\n",
       "    <tr>\n",
       "      <th>960</th>\n",
       "      <td>SS/PRODUCTION SERVICES</td>\n",
       "      <td>MAILING OPERATOR II</td>\n",
       "      <td>ALBANY</td>\n",
       "      <td>1770.23</td>\n",
       "      <td>RA</td>\n",
       "      <td>SENATE EMPLOYEE</td>\n",
       "    </tr>\n",
       "  </tbody>\n",
       "</table>\n",
       "<p>283 rows × 6 columns</p>\n",
       "</div>"
      ],
      "text/plain": [
       "                           Office                                 Title  \\\n",
       "3           SENATOR JESSICA RAMOS  SR. DIR. LEG. AFFRS / COMMITTEE DIR.   \n",
       "10     SENATE TECHNOLOGY SERVICES      TECHNICAL SUPPORT REPRESENTATIVE   \n",
       "13          SENATOR JESSICA RAMOS  DISTRICT POLICY & ORGANIZING DIRECTO   \n",
       "20   MAJORITY CONFERENCE SERVICES   EXTERNAL RELATIONS LEGISLATIVE AIDE   \n",
       "31           SENATOR SUSAN SERINO           DISTRICT OFFICE COORDINATOR   \n",
       "..                            ...                                   ...   \n",
       "947         SENATOR JAMES SANDERS                          TEAM COUNSEL   \n",
       "948        SENATOR ANNA M. KAPLAN                CHIEF OF STAFF/COUNSEL   \n",
       "950        SENATE M&O/POST OFFICE                            POSTMASTER   \n",
       "952      MAJORITY COUNSEL/PROGRAM                      POLICY ASSISTANT   \n",
       "960        SS/PRODUCTION SERVICES                   MAILING OPERATOR II   \n",
       "\n",
       "              City  Biweeklt/hourly rate Payrol type Legislative entity  \n",
       "3           ALBANY               2307.70          RA    SENATE EMPLOYEE  \n",
       "10          ALBANY               1307.70          RA    SENATE EMPLOYEE  \n",
       "13   EAST ELMHURST               2000.00          RA    SENATE EMPLOYEE  \n",
       "20          ALBANY               2115.39          SA    SENATE EMPLOYEE  \n",
       "31   PUTNAM VALLEY               2307.70          RA    SENATE EMPLOYEE  \n",
       "..             ...                   ...         ...                ...  \n",
       "947         ALBANY               2500.00          RA    SENATE EMPLOYEE  \n",
       "948         ALBANY               4615.39          RA    SENATE EMPLOYEE  \n",
       "950         ALBANY               2628.45          RA    SENATE EMPLOYEE  \n",
       "952         ALBANY               1538.47          RA    SENATE EMPLOYEE  \n",
       "960         ALBANY               1770.23          RA    SENATE EMPLOYEE  \n",
       "\n",
       "[283 rows x 6 columns]"
      ]
     },
     "execution_count": 10,
     "metadata": {},
     "output_type": "execute_result"
    }
   ],
   "source": [
    "least_title_index = []\n",
    "for i in df.Title:\n",
    "  if i in list_of_least_title:\n",
    "    least_title_index.append(df[df.Title == i].index[0])\n",
    "    #print(df[df.Title == i].index)\n",
    "\n",
    "df.iloc[least_title_index]"
   ]
  },
  {
   "cell_type": "markdown",
   "metadata": {
    "id": "5mXymQME-5S_"
   },
   "source": [
    "## Iteretion 2\n"
   ]
  },
  {
   "cell_type": "code",
   "execution_count": 11,
   "metadata": {
    "colab": {
     "base_uri": "https://localhost:8080/",
     "height": 419
    },
    "id": "Ok9hWCTr-5An",
    "outputId": "8e3fb48b-4a7f-4cb2-c0bc-450db34b6fbe"
   },
   "outputs": [
    {
     "data": {
      "text/html": [
       "<div>\n",
       "<style scoped>\n",
       "    .dataframe tbody tr th:only-of-type {\n",
       "        vertical-align: middle;\n",
       "    }\n",
       "\n",
       "    .dataframe tbody tr th {\n",
       "        vertical-align: top;\n",
       "    }\n",
       "\n",
       "    .dataframe thead th {\n",
       "        text-align: right;\n",
       "    }\n",
       "</style>\n",
       "<table border=\"1\" class=\"dataframe\">\n",
       "  <thead>\n",
       "    <tr style=\"text-align: right;\">\n",
       "      <th></th>\n",
       "      <th>Office</th>\n",
       "      <th>Title</th>\n",
       "      <th>City</th>\n",
       "      <th>Biweeklt/hourly rate</th>\n",
       "      <th>Payrol type</th>\n",
       "      <th>Legislative entity</th>\n",
       "    </tr>\n",
       "  </thead>\n",
       "  <tbody>\n",
       "    <tr>\n",
       "      <th>0</th>\n",
       "      <td>SENATOR TOBY ANN STAVISKY</td>\n",
       "      <td>COMMUNITY LIAISON</td>\n",
       "      <td>FLUSHING</td>\n",
       "      <td>1076.93</td>\n",
       "      <td>SA</td>\n",
       "      <td>SENATE EMPLOYEE</td>\n",
       "    </tr>\n",
       "    <tr>\n",
       "      <th>1</th>\n",
       "      <td>LEGISLATIVE MESSENGER SERVICE</td>\n",
       "      <td>MESSENGER</td>\n",
       "      <td>ALBANY</td>\n",
       "      <td>1173.93</td>\n",
       "      <td>RA</td>\n",
       "      <td>JOINT LEGISLATIVE EMPLOYEE</td>\n",
       "    </tr>\n",
       "    <tr>\n",
       "      <th>2</th>\n",
       "      <td>SENATE FINANCE COMMITTEE/MAJORITY</td>\n",
       "      <td>SENIOR ANALYST</td>\n",
       "      <td>ALBANY</td>\n",
       "      <td>2692.31</td>\n",
       "      <td>RA</td>\n",
       "      <td>SENATE EMPLOYEE</td>\n",
       "    </tr>\n",
       "    <tr>\n",
       "      <th>3</th>\n",
       "      <td>SENATOR JESSICA RAMOS</td>\n",
       "      <td>SR. DIR. LEG. AFFRS / COMMITTEE DIR.</td>\n",
       "      <td>ALBANY</td>\n",
       "      <td>2307.70</td>\n",
       "      <td>RA</td>\n",
       "      <td>SENATE EMPLOYEE</td>\n",
       "    </tr>\n",
       "    <tr>\n",
       "      <th>4</th>\n",
       "      <td>SENATE SERGEANT-AT-ARMS</td>\n",
       "      <td>SESSION SERGEANT-AT-ARMS</td>\n",
       "      <td>ALBANY</td>\n",
       "      <td>820.95</td>\n",
       "      <td>SA</td>\n",
       "      <td>SENATE EMPLOYEE</td>\n",
       "    </tr>\n",
       "    <tr>\n",
       "      <th>...</th>\n",
       "      <td>...</td>\n",
       "      <td>...</td>\n",
       "      <td>...</td>\n",
       "      <td>...</td>\n",
       "      <td>...</td>\n",
       "      <td>...</td>\n",
       "    </tr>\n",
       "    <tr>\n",
       "      <th>958</th>\n",
       "      <td>SENATOR TODD KAMINSKY</td>\n",
       "      <td>COMMUNITY LIAISON</td>\n",
       "      <td>ROCKVILLE CENTRE</td>\n",
       "      <td>1538.47</td>\n",
       "      <td>RA</td>\n",
       "      <td>SENATE EMPLOYEE</td>\n",
       "    </tr>\n",
       "    <tr>\n",
       "      <th>959</th>\n",
       "      <td>SS/PRODUCTION SERVICES</td>\n",
       "      <td>DATA ANALYST</td>\n",
       "      <td>ALBANY</td>\n",
       "      <td>2180.24</td>\n",
       "      <td>RA</td>\n",
       "      <td>SENATE EMPLOYEE</td>\n",
       "    </tr>\n",
       "    <tr>\n",
       "      <th>960</th>\n",
       "      <td>SS/PRODUCTION SERVICES</td>\n",
       "      <td>MAILING OPERATOR II</td>\n",
       "      <td>ALBANY</td>\n",
       "      <td>1770.23</td>\n",
       "      <td>RA</td>\n",
       "      <td>SENATE EMPLOYEE</td>\n",
       "    </tr>\n",
       "    <tr>\n",
       "      <th>961</th>\n",
       "      <td>SENATE TECHNOLOGY SERVICES</td>\n",
       "      <td>SENIOR OFFICE SUPPORT REPRESENTATIVE</td>\n",
       "      <td>ALBANY</td>\n",
       "      <td>2917.25</td>\n",
       "      <td>RA</td>\n",
       "      <td>SENATE EMPLOYEE</td>\n",
       "    </tr>\n",
       "    <tr>\n",
       "      <th>962</th>\n",
       "      <td>MINORITY COUNSEL/PROGRAM</td>\n",
       "      <td>LEGISLATIVE ANALYST</td>\n",
       "      <td>ALBANY</td>\n",
       "      <td>1923.08</td>\n",
       "      <td>RA</td>\n",
       "      <td>SENATE EMPLOYEE</td>\n",
       "    </tr>\n",
       "  </tbody>\n",
       "</table>\n",
       "<p>963 rows × 6 columns</p>\n",
       "</div>"
      ],
      "text/plain": [
       "                                Office                                 Title  \\\n",
       "0            SENATOR TOBY ANN STAVISKY                     COMMUNITY LIAISON   \n",
       "1        LEGISLATIVE MESSENGER SERVICE                             MESSENGER   \n",
       "2    SENATE FINANCE COMMITTEE/MAJORITY                        SENIOR ANALYST   \n",
       "3                SENATOR JESSICA RAMOS  SR. DIR. LEG. AFFRS / COMMITTEE DIR.   \n",
       "4              SENATE SERGEANT-AT-ARMS              SESSION SERGEANT-AT-ARMS   \n",
       "..                                 ...                                   ...   \n",
       "958              SENATOR TODD KAMINSKY                     COMMUNITY LIAISON   \n",
       "959             SS/PRODUCTION SERVICES                          DATA ANALYST   \n",
       "960             SS/PRODUCTION SERVICES                   MAILING OPERATOR II   \n",
       "961         SENATE TECHNOLOGY SERVICES  SENIOR OFFICE SUPPORT REPRESENTATIVE   \n",
       "962           MINORITY COUNSEL/PROGRAM                   LEGISLATIVE ANALYST   \n",
       "\n",
       "                 City  Biweeklt/hourly rate Payrol type  \\\n",
       "0            FLUSHING               1076.93          SA   \n",
       "1              ALBANY               1173.93          RA   \n",
       "2              ALBANY               2692.31          RA   \n",
       "3              ALBANY               2307.70          RA   \n",
       "4              ALBANY                820.95          SA   \n",
       "..                ...                   ...         ...   \n",
       "958  ROCKVILLE CENTRE               1538.47          RA   \n",
       "959            ALBANY               2180.24          RA   \n",
       "960            ALBANY               1770.23          RA   \n",
       "961            ALBANY               2917.25          RA   \n",
       "962            ALBANY               1923.08          RA   \n",
       "\n",
       "             Legislative entity  \n",
       "0               SENATE EMPLOYEE  \n",
       "1    JOINT LEGISLATIVE EMPLOYEE  \n",
       "2               SENATE EMPLOYEE  \n",
       "3               SENATE EMPLOYEE  \n",
       "4               SENATE EMPLOYEE  \n",
       "..                          ...  \n",
       "958             SENATE EMPLOYEE  \n",
       "959             SENATE EMPLOYEE  \n",
       "960             SENATE EMPLOYEE  \n",
       "961             SENATE EMPLOYEE  \n",
       "962             SENATE EMPLOYEE  \n",
       "\n",
       "[963 rows x 6 columns]"
      ]
     },
     "execution_count": 11,
     "metadata": {},
     "output_type": "execute_result"
    }
   ],
   "source": [
    "df1 = df.copy()\n",
    "df1"
   ]
  },
  {
   "cell_type": "code",
   "execution_count": 12,
   "metadata": {
    "id": "ffKxqnO54l5k"
   },
   "outputs": [],
   "source": [
    "df1.columns = df1.columns.str.lower()"
   ]
  },
  {
   "cell_type": "code",
   "execution_count": 13,
   "metadata": {
    "colab": {
     "base_uri": "https://localhost:8080/",
     "height": 419
    },
    "id": "RaW0LOhl_Psz",
    "outputId": "afb5af0f-fb62-47a2-e902-27c1fa4cea27"
   },
   "outputs": [
    {
     "data": {
      "text/html": [
       "<div>\n",
       "<style scoped>\n",
       "    .dataframe tbody tr th:only-of-type {\n",
       "        vertical-align: middle;\n",
       "    }\n",
       "\n",
       "    .dataframe tbody tr th {\n",
       "        vertical-align: top;\n",
       "    }\n",
       "\n",
       "    .dataframe thead th {\n",
       "        text-align: right;\n",
       "    }\n",
       "</style>\n",
       "<table border=\"1\" class=\"dataframe\">\n",
       "  <thead>\n",
       "    <tr style=\"text-align: right;\">\n",
       "      <th></th>\n",
       "      <th>office</th>\n",
       "      <th>title</th>\n",
       "      <th>city</th>\n",
       "      <th>biweeklt/hourly rate</th>\n",
       "      <th>payrol type</th>\n",
       "      <th>legislative entity</th>\n",
       "    </tr>\n",
       "  </thead>\n",
       "  <tbody>\n",
       "    <tr>\n",
       "      <th>0</th>\n",
       "      <td>SENATOR TOBY ANN STAVISKY</td>\n",
       "      <td>COMMUNITY LIAISON</td>\n",
       "      <td>FLUSHING</td>\n",
       "      <td>1076.93</td>\n",
       "      <td>SA</td>\n",
       "      <td>SENATE EMPLOYEE</td>\n",
       "    </tr>\n",
       "    <tr>\n",
       "      <th>1</th>\n",
       "      <td>LEGISLATIVE MESSENGER SERVICE</td>\n",
       "      <td>MESSENGER</td>\n",
       "      <td>ALBANY</td>\n",
       "      <td>1173.93</td>\n",
       "      <td>RA</td>\n",
       "      <td>JOINT LEGISLATIVE EMPLOYEE</td>\n",
       "    </tr>\n",
       "    <tr>\n",
       "      <th>2</th>\n",
       "      <td>SENATE FINANCE COMMITTEE/MAJORITY</td>\n",
       "      <td>SENIOR ANALYST</td>\n",
       "      <td>ALBANY</td>\n",
       "      <td>2692.31</td>\n",
       "      <td>RA</td>\n",
       "      <td>SENATE EMPLOYEE</td>\n",
       "    </tr>\n",
       "    <tr>\n",
       "      <th>3</th>\n",
       "      <td>SENATOR JESSICA RAMOS</td>\n",
       "      <td>SR. DIR. LEG. AFFRS / COMMITTEE DIR.</td>\n",
       "      <td>ALBANY</td>\n",
       "      <td>2307.70</td>\n",
       "      <td>RA</td>\n",
       "      <td>SENATE EMPLOYEE</td>\n",
       "    </tr>\n",
       "    <tr>\n",
       "      <th>4</th>\n",
       "      <td>SENATE SERGEANT-AT-ARMS</td>\n",
       "      <td>SESSION SERGEANT-AT-ARMS</td>\n",
       "      <td>ALBANY</td>\n",
       "      <td>820.95</td>\n",
       "      <td>SA</td>\n",
       "      <td>SENATE EMPLOYEE</td>\n",
       "    </tr>\n",
       "    <tr>\n",
       "      <th>...</th>\n",
       "      <td>...</td>\n",
       "      <td>...</td>\n",
       "      <td>...</td>\n",
       "      <td>...</td>\n",
       "      <td>...</td>\n",
       "      <td>...</td>\n",
       "    </tr>\n",
       "    <tr>\n",
       "      <th>958</th>\n",
       "      <td>SENATOR TODD KAMINSKY</td>\n",
       "      <td>COMMUNITY LIAISON</td>\n",
       "      <td>ROCKVILLE CENTRE</td>\n",
       "      <td>1538.47</td>\n",
       "      <td>RA</td>\n",
       "      <td>SENATE EMPLOYEE</td>\n",
       "    </tr>\n",
       "    <tr>\n",
       "      <th>959</th>\n",
       "      <td>SS/PRODUCTION SERVICES</td>\n",
       "      <td>DATA ANALYST</td>\n",
       "      <td>ALBANY</td>\n",
       "      <td>2180.24</td>\n",
       "      <td>RA</td>\n",
       "      <td>SENATE EMPLOYEE</td>\n",
       "    </tr>\n",
       "    <tr>\n",
       "      <th>960</th>\n",
       "      <td>SS/PRODUCTION SERVICES</td>\n",
       "      <td>MAILING OPERATOR II</td>\n",
       "      <td>ALBANY</td>\n",
       "      <td>1770.23</td>\n",
       "      <td>RA</td>\n",
       "      <td>SENATE EMPLOYEE</td>\n",
       "    </tr>\n",
       "    <tr>\n",
       "      <th>961</th>\n",
       "      <td>SENATE TECHNOLOGY SERVICES</td>\n",
       "      <td>SENIOR OFFICE SUPPORT REPRESENTATIVE</td>\n",
       "      <td>ALBANY</td>\n",
       "      <td>2917.25</td>\n",
       "      <td>RA</td>\n",
       "      <td>SENATE EMPLOYEE</td>\n",
       "    </tr>\n",
       "    <tr>\n",
       "      <th>962</th>\n",
       "      <td>MINORITY COUNSEL/PROGRAM</td>\n",
       "      <td>LEGISLATIVE ANALYST</td>\n",
       "      <td>ALBANY</td>\n",
       "      <td>1923.08</td>\n",
       "      <td>RA</td>\n",
       "      <td>SENATE EMPLOYEE</td>\n",
       "    </tr>\n",
       "  </tbody>\n",
       "</table>\n",
       "<p>963 rows × 6 columns</p>\n",
       "</div>"
      ],
      "text/plain": [
       "                                office                                 title  \\\n",
       "0            SENATOR TOBY ANN STAVISKY                     COMMUNITY LIAISON   \n",
       "1        LEGISLATIVE MESSENGER SERVICE                             MESSENGER   \n",
       "2    SENATE FINANCE COMMITTEE/MAJORITY                        SENIOR ANALYST   \n",
       "3                SENATOR JESSICA RAMOS  SR. DIR. LEG. AFFRS / COMMITTEE DIR.   \n",
       "4              SENATE SERGEANT-AT-ARMS              SESSION SERGEANT-AT-ARMS   \n",
       "..                                 ...                                   ...   \n",
       "958              SENATOR TODD KAMINSKY                     COMMUNITY LIAISON   \n",
       "959             SS/PRODUCTION SERVICES                          DATA ANALYST   \n",
       "960             SS/PRODUCTION SERVICES                   MAILING OPERATOR II   \n",
       "961         SENATE TECHNOLOGY SERVICES  SENIOR OFFICE SUPPORT REPRESENTATIVE   \n",
       "962           MINORITY COUNSEL/PROGRAM                   LEGISLATIVE ANALYST   \n",
       "\n",
       "                 city  biweeklt/hourly rate payrol type  \\\n",
       "0            FLUSHING               1076.93          SA   \n",
       "1              ALBANY               1173.93          RA   \n",
       "2              ALBANY               2692.31          RA   \n",
       "3              ALBANY               2307.70          RA   \n",
       "4              ALBANY                820.95          SA   \n",
       "..                ...                   ...         ...   \n",
       "958  ROCKVILLE CENTRE               1538.47          RA   \n",
       "959            ALBANY               2180.24          RA   \n",
       "960            ALBANY               1770.23          RA   \n",
       "961            ALBANY               2917.25          RA   \n",
       "962            ALBANY               1923.08          RA   \n",
       "\n",
       "             legislative entity  \n",
       "0               SENATE EMPLOYEE  \n",
       "1    JOINT LEGISLATIVE EMPLOYEE  \n",
       "2               SENATE EMPLOYEE  \n",
       "3               SENATE EMPLOYEE  \n",
       "4               SENATE EMPLOYEE  \n",
       "..                          ...  \n",
       "958             SENATE EMPLOYEE  \n",
       "959             SENATE EMPLOYEE  \n",
       "960             SENATE EMPLOYEE  \n",
       "961             SENATE EMPLOYEE  \n",
       "962             SENATE EMPLOYEE  \n",
       "\n",
       "[963 rows x 6 columns]"
      ]
     },
     "execution_count": 13,
     "metadata": {},
     "output_type": "execute_result"
    }
   ],
   "source": [
    "df1"
   ]
  },
  {
   "cell_type": "code",
   "execution_count": 14,
   "metadata": {
    "id": "vqTLxlpG_XE4"
   },
   "outputs": [],
   "source": [
    "df1[\"title\"] = df1.title.str.lower()"
   ]
  },
  {
   "cell_type": "code",
   "execution_count": 15,
   "metadata": {
    "colab": {
     "base_uri": "https://localhost:8080/"
    },
    "id": "_litRVX5_ejy",
    "outputId": "7de8820f-eac2-4a38-9c6d-e36db41d4421"
   },
   "outputs": [
    {
     "data": {
      "text/plain": [
       "242"
      ]
     },
     "execution_count": 15,
     "metadata": {},
     "output_type": "execute_result"
    }
   ],
   "source": [
    "df1.title.str.contains(\"dir|manager\").sum()"
   ]
  },
  {
   "cell_type": "code",
   "execution_count": 16,
   "metadata": {
    "colab": {
     "base_uri": "https://localhost:8080/"
    },
    "id": "KAxwgadwDUeG",
    "outputId": "5a017f48-e4de-4910-99ed-4f2cd9984bac"
   },
   "outputs": [
    {
     "data": {
      "text/plain": [
       "147"
      ]
     },
     "execution_count": 16,
     "metadata": {},
     "output_type": "execute_result"
    }
   ],
   "source": [
    "df1.title.str.contains(\"senior|chief|supervisor\").sum()"
   ]
  },
  {
   "cell_type": "code",
   "execution_count": 17,
   "metadata": {
    "colab": {
     "base_uri": "https://localhost:8080/"
    },
    "id": "eU_otUaX_4s-",
    "outputId": "126d6178-1459-46c5-b8a3-09c1d1404512"
   },
   "outputs": [
    {
     "data": {
      "text/plain": [
       "260"
      ]
     },
     "execution_count": 17,
     "metadata": {},
     "output_type": "execute_result"
    }
   ],
   "source": [
    "df1.title.str.contains(\"coordinator|liaison|assistant\").sum()"
   ]
  },
  {
   "cell_type": "code",
   "execution_count": 18,
   "metadata": {
    "colab": {
     "base_uri": "https://localhost:8080/"
    },
    "id": "9rEvkcHpEeXw",
    "outputId": "b313971c-9faf-4963-e8e8-f3474dd84f3e"
   },
   "outputs": [
    {
     "data": {
      "text/plain": [
       "50"
      ]
     },
     "execution_count": 18,
     "metadata": {},
     "output_type": "execute_result"
    }
   ],
   "source": [
    "df1.title.str.contains(\"analyst|engineer|operator\").sum()"
   ]
  },
  {
   "cell_type": "code",
   "execution_count": 19,
   "metadata": {
    "colab": {
     "base_uri": "https://localhost:8080/"
    },
    "id": "hoPTwldZ_-QU",
    "outputId": "f8bb40c4-5b40-4f67-c27b-2647cab54239"
   },
   "outputs": [],
   "source": [
    "df1[\"director_manager\"] = df1.title.str.contains(\"dir|manager\")\n",
    "df1[\"senior_chief_supervisor\"] = df1.title.str.contains(\"senior|chief|supervisor\")\n",
    "df1[\"coordinator_liason_assistant\"] = df1.title.str.contains(\"coordinator|liaison|assistant\")\n",
    "df1[\"analyst_engineer_operator\"] = df1.title.str.contains(\"analyst|engineer|operator\")"
   ]
  },
  {
   "cell_type": "code",
   "execution_count": 20,
   "metadata": {
    "colab": {
     "base_uri": "https://localhost:8080/",
     "height": 521
    },
    "id": "19zdgscGA4E0",
    "outputId": "b715b2e6-403d-49b3-afd7-618fb6924bab"
   },
   "outputs": [
    {
     "data": {
      "text/html": [
       "<div>\n",
       "<style scoped>\n",
       "    .dataframe tbody tr th:only-of-type {\n",
       "        vertical-align: middle;\n",
       "    }\n",
       "\n",
       "    .dataframe tbody tr th {\n",
       "        vertical-align: top;\n",
       "    }\n",
       "\n",
       "    .dataframe thead th {\n",
       "        text-align: right;\n",
       "    }\n",
       "</style>\n",
       "<table border=\"1\" class=\"dataframe\">\n",
       "  <thead>\n",
       "    <tr style=\"text-align: right;\">\n",
       "      <th></th>\n",
       "      <th>office</th>\n",
       "      <th>title</th>\n",
       "      <th>city</th>\n",
       "      <th>biweeklt/hourly rate</th>\n",
       "      <th>payrol type</th>\n",
       "      <th>legislative entity</th>\n",
       "      <th>director_manager</th>\n",
       "      <th>senior_chief_supervisor</th>\n",
       "      <th>coordinator_liason_assistant</th>\n",
       "      <th>analyst_engineer_operator</th>\n",
       "    </tr>\n",
       "  </thead>\n",
       "  <tbody>\n",
       "    <tr>\n",
       "      <th>0</th>\n",
       "      <td>SENATOR TOBY ANN STAVISKY</td>\n",
       "      <td>community liaison</td>\n",
       "      <td>FLUSHING</td>\n",
       "      <td>1076.93</td>\n",
       "      <td>SA</td>\n",
       "      <td>SENATE EMPLOYEE</td>\n",
       "      <td>False</td>\n",
       "      <td>False</td>\n",
       "      <td>True</td>\n",
       "      <td>False</td>\n",
       "    </tr>\n",
       "    <tr>\n",
       "      <th>1</th>\n",
       "      <td>LEGISLATIVE MESSENGER SERVICE</td>\n",
       "      <td>messenger</td>\n",
       "      <td>ALBANY</td>\n",
       "      <td>1173.93</td>\n",
       "      <td>RA</td>\n",
       "      <td>JOINT LEGISLATIVE EMPLOYEE</td>\n",
       "      <td>False</td>\n",
       "      <td>False</td>\n",
       "      <td>False</td>\n",
       "      <td>False</td>\n",
       "    </tr>\n",
       "    <tr>\n",
       "      <th>2</th>\n",
       "      <td>SENATE FINANCE COMMITTEE/MAJORITY</td>\n",
       "      <td>senior analyst</td>\n",
       "      <td>ALBANY</td>\n",
       "      <td>2692.31</td>\n",
       "      <td>RA</td>\n",
       "      <td>SENATE EMPLOYEE</td>\n",
       "      <td>False</td>\n",
       "      <td>True</td>\n",
       "      <td>False</td>\n",
       "      <td>True</td>\n",
       "    </tr>\n",
       "    <tr>\n",
       "      <th>3</th>\n",
       "      <td>SENATOR JESSICA RAMOS</td>\n",
       "      <td>sr. dir. leg. affrs / committee dir.</td>\n",
       "      <td>ALBANY</td>\n",
       "      <td>2307.70</td>\n",
       "      <td>RA</td>\n",
       "      <td>SENATE EMPLOYEE</td>\n",
       "      <td>True</td>\n",
       "      <td>False</td>\n",
       "      <td>False</td>\n",
       "      <td>False</td>\n",
       "    </tr>\n",
       "    <tr>\n",
       "      <th>4</th>\n",
       "      <td>SENATE SERGEANT-AT-ARMS</td>\n",
       "      <td>session sergeant-at-arms</td>\n",
       "      <td>ALBANY</td>\n",
       "      <td>820.95</td>\n",
       "      <td>SA</td>\n",
       "      <td>SENATE EMPLOYEE</td>\n",
       "      <td>False</td>\n",
       "      <td>False</td>\n",
       "      <td>False</td>\n",
       "      <td>False</td>\n",
       "    </tr>\n",
       "    <tr>\n",
       "      <th>...</th>\n",
       "      <td>...</td>\n",
       "      <td>...</td>\n",
       "      <td>...</td>\n",
       "      <td>...</td>\n",
       "      <td>...</td>\n",
       "      <td>...</td>\n",
       "      <td>...</td>\n",
       "      <td>...</td>\n",
       "      <td>...</td>\n",
       "      <td>...</td>\n",
       "    </tr>\n",
       "    <tr>\n",
       "      <th>958</th>\n",
       "      <td>SENATOR TODD KAMINSKY</td>\n",
       "      <td>community liaison</td>\n",
       "      <td>ROCKVILLE CENTRE</td>\n",
       "      <td>1538.47</td>\n",
       "      <td>RA</td>\n",
       "      <td>SENATE EMPLOYEE</td>\n",
       "      <td>False</td>\n",
       "      <td>False</td>\n",
       "      <td>True</td>\n",
       "      <td>False</td>\n",
       "    </tr>\n",
       "    <tr>\n",
       "      <th>959</th>\n",
       "      <td>SS/PRODUCTION SERVICES</td>\n",
       "      <td>data analyst</td>\n",
       "      <td>ALBANY</td>\n",
       "      <td>2180.24</td>\n",
       "      <td>RA</td>\n",
       "      <td>SENATE EMPLOYEE</td>\n",
       "      <td>False</td>\n",
       "      <td>False</td>\n",
       "      <td>False</td>\n",
       "      <td>True</td>\n",
       "    </tr>\n",
       "    <tr>\n",
       "      <th>960</th>\n",
       "      <td>SS/PRODUCTION SERVICES</td>\n",
       "      <td>mailing operator ii</td>\n",
       "      <td>ALBANY</td>\n",
       "      <td>1770.23</td>\n",
       "      <td>RA</td>\n",
       "      <td>SENATE EMPLOYEE</td>\n",
       "      <td>False</td>\n",
       "      <td>False</td>\n",
       "      <td>False</td>\n",
       "      <td>True</td>\n",
       "    </tr>\n",
       "    <tr>\n",
       "      <th>961</th>\n",
       "      <td>SENATE TECHNOLOGY SERVICES</td>\n",
       "      <td>senior office support representative</td>\n",
       "      <td>ALBANY</td>\n",
       "      <td>2917.25</td>\n",
       "      <td>RA</td>\n",
       "      <td>SENATE EMPLOYEE</td>\n",
       "      <td>False</td>\n",
       "      <td>True</td>\n",
       "      <td>False</td>\n",
       "      <td>False</td>\n",
       "    </tr>\n",
       "    <tr>\n",
       "      <th>962</th>\n",
       "      <td>MINORITY COUNSEL/PROGRAM</td>\n",
       "      <td>legislative analyst</td>\n",
       "      <td>ALBANY</td>\n",
       "      <td>1923.08</td>\n",
       "      <td>RA</td>\n",
       "      <td>SENATE EMPLOYEE</td>\n",
       "      <td>False</td>\n",
       "      <td>False</td>\n",
       "      <td>False</td>\n",
       "      <td>True</td>\n",
       "    </tr>\n",
       "  </tbody>\n",
       "</table>\n",
       "<p>963 rows × 10 columns</p>\n",
       "</div>"
      ],
      "text/plain": [
       "                                office                                 title  \\\n",
       "0            SENATOR TOBY ANN STAVISKY                     community liaison   \n",
       "1        LEGISLATIVE MESSENGER SERVICE                             messenger   \n",
       "2    SENATE FINANCE COMMITTEE/MAJORITY                        senior analyst   \n",
       "3                SENATOR JESSICA RAMOS  sr. dir. leg. affrs / committee dir.   \n",
       "4              SENATE SERGEANT-AT-ARMS              session sergeant-at-arms   \n",
       "..                                 ...                                   ...   \n",
       "958              SENATOR TODD KAMINSKY                     community liaison   \n",
       "959             SS/PRODUCTION SERVICES                          data analyst   \n",
       "960             SS/PRODUCTION SERVICES                   mailing operator ii   \n",
       "961         SENATE TECHNOLOGY SERVICES  senior office support representative   \n",
       "962           MINORITY COUNSEL/PROGRAM                   legislative analyst   \n",
       "\n",
       "                 city  biweeklt/hourly rate payrol type  \\\n",
       "0            FLUSHING               1076.93          SA   \n",
       "1              ALBANY               1173.93          RA   \n",
       "2              ALBANY               2692.31          RA   \n",
       "3              ALBANY               2307.70          RA   \n",
       "4              ALBANY                820.95          SA   \n",
       "..                ...                   ...         ...   \n",
       "958  ROCKVILLE CENTRE               1538.47          RA   \n",
       "959            ALBANY               2180.24          RA   \n",
       "960            ALBANY               1770.23          RA   \n",
       "961            ALBANY               2917.25          RA   \n",
       "962            ALBANY               1923.08          RA   \n",
       "\n",
       "             legislative entity  director_manager  senior_chief_supervisor  \\\n",
       "0               SENATE EMPLOYEE             False                    False   \n",
       "1    JOINT LEGISLATIVE EMPLOYEE             False                    False   \n",
       "2               SENATE EMPLOYEE             False                     True   \n",
       "3               SENATE EMPLOYEE              True                    False   \n",
       "4               SENATE EMPLOYEE             False                    False   \n",
       "..                          ...               ...                      ...   \n",
       "958             SENATE EMPLOYEE             False                    False   \n",
       "959             SENATE EMPLOYEE             False                    False   \n",
       "960             SENATE EMPLOYEE             False                    False   \n",
       "961             SENATE EMPLOYEE             False                     True   \n",
       "962             SENATE EMPLOYEE             False                    False   \n",
       "\n",
       "     coordinator_liason_assistant  analyst_engineer_operator  \n",
       "0                            True                      False  \n",
       "1                           False                      False  \n",
       "2                           False                       True  \n",
       "3                           False                      False  \n",
       "4                           False                      False  \n",
       "..                            ...                        ...  \n",
       "958                          True                      False  \n",
       "959                         False                       True  \n",
       "960                         False                       True  \n",
       "961                         False                      False  \n",
       "962                         False                       True  \n",
       "\n",
       "[963 rows x 10 columns]"
      ]
     },
     "execution_count": 20,
     "metadata": {},
     "output_type": "execute_result"
    }
   ],
   "source": [
    "df1"
   ]
  },
  {
   "cell_type": "code",
   "execution_count": 21,
   "metadata": {
    "id": "pKpq4eUkD2fE"
   },
   "outputs": [],
   "source": [
    "df2 = df1.drop(\"title\", axis=1)"
   ]
  },
  {
   "cell_type": "code",
   "execution_count": 22,
   "metadata": {
    "colab": {
     "base_uri": "https://localhost:8080/",
     "height": 419
    },
    "id": "wxNj75u0FQgF",
    "outputId": "f70dead5-9e6b-413a-a2a6-d7a4e1f0e12a"
   },
   "outputs": [
    {
     "data": {
      "text/html": [
       "<div>\n",
       "<style scoped>\n",
       "    .dataframe tbody tr th:only-of-type {\n",
       "        vertical-align: middle;\n",
       "    }\n",
       "\n",
       "    .dataframe tbody tr th {\n",
       "        vertical-align: top;\n",
       "    }\n",
       "\n",
       "    .dataframe thead th {\n",
       "        text-align: right;\n",
       "    }\n",
       "</style>\n",
       "<table border=\"1\" class=\"dataframe\">\n",
       "  <thead>\n",
       "    <tr style=\"text-align: right;\">\n",
       "      <th></th>\n",
       "      <th>office</th>\n",
       "      <th>city</th>\n",
       "      <th>biweeklt/hourly rate</th>\n",
       "      <th>payrol type</th>\n",
       "      <th>legislative entity</th>\n",
       "      <th>director_manager</th>\n",
       "      <th>senior_chief_supervisor</th>\n",
       "      <th>coordinator_liason_assistant</th>\n",
       "      <th>analyst_engineer_operator</th>\n",
       "    </tr>\n",
       "  </thead>\n",
       "  <tbody>\n",
       "    <tr>\n",
       "      <th>0</th>\n",
       "      <td>SENATOR TOBY ANN STAVISKY</td>\n",
       "      <td>FLUSHING</td>\n",
       "      <td>1076.93</td>\n",
       "      <td>SA</td>\n",
       "      <td>SENATE EMPLOYEE</td>\n",
       "      <td>False</td>\n",
       "      <td>False</td>\n",
       "      <td>True</td>\n",
       "      <td>False</td>\n",
       "    </tr>\n",
       "    <tr>\n",
       "      <th>1</th>\n",
       "      <td>LEGISLATIVE MESSENGER SERVICE</td>\n",
       "      <td>ALBANY</td>\n",
       "      <td>1173.93</td>\n",
       "      <td>RA</td>\n",
       "      <td>JOINT LEGISLATIVE EMPLOYEE</td>\n",
       "      <td>False</td>\n",
       "      <td>False</td>\n",
       "      <td>False</td>\n",
       "      <td>False</td>\n",
       "    </tr>\n",
       "    <tr>\n",
       "      <th>2</th>\n",
       "      <td>SENATE FINANCE COMMITTEE/MAJORITY</td>\n",
       "      <td>ALBANY</td>\n",
       "      <td>2692.31</td>\n",
       "      <td>RA</td>\n",
       "      <td>SENATE EMPLOYEE</td>\n",
       "      <td>False</td>\n",
       "      <td>True</td>\n",
       "      <td>False</td>\n",
       "      <td>True</td>\n",
       "    </tr>\n",
       "    <tr>\n",
       "      <th>3</th>\n",
       "      <td>SENATOR JESSICA RAMOS</td>\n",
       "      <td>ALBANY</td>\n",
       "      <td>2307.70</td>\n",
       "      <td>RA</td>\n",
       "      <td>SENATE EMPLOYEE</td>\n",
       "      <td>True</td>\n",
       "      <td>False</td>\n",
       "      <td>False</td>\n",
       "      <td>False</td>\n",
       "    </tr>\n",
       "    <tr>\n",
       "      <th>4</th>\n",
       "      <td>SENATE SERGEANT-AT-ARMS</td>\n",
       "      <td>ALBANY</td>\n",
       "      <td>820.95</td>\n",
       "      <td>SA</td>\n",
       "      <td>SENATE EMPLOYEE</td>\n",
       "      <td>False</td>\n",
       "      <td>False</td>\n",
       "      <td>False</td>\n",
       "      <td>False</td>\n",
       "    </tr>\n",
       "    <tr>\n",
       "      <th>...</th>\n",
       "      <td>...</td>\n",
       "      <td>...</td>\n",
       "      <td>...</td>\n",
       "      <td>...</td>\n",
       "      <td>...</td>\n",
       "      <td>...</td>\n",
       "      <td>...</td>\n",
       "      <td>...</td>\n",
       "      <td>...</td>\n",
       "    </tr>\n",
       "    <tr>\n",
       "      <th>958</th>\n",
       "      <td>SENATOR TODD KAMINSKY</td>\n",
       "      <td>ROCKVILLE CENTRE</td>\n",
       "      <td>1538.47</td>\n",
       "      <td>RA</td>\n",
       "      <td>SENATE EMPLOYEE</td>\n",
       "      <td>False</td>\n",
       "      <td>False</td>\n",
       "      <td>True</td>\n",
       "      <td>False</td>\n",
       "    </tr>\n",
       "    <tr>\n",
       "      <th>959</th>\n",
       "      <td>SS/PRODUCTION SERVICES</td>\n",
       "      <td>ALBANY</td>\n",
       "      <td>2180.24</td>\n",
       "      <td>RA</td>\n",
       "      <td>SENATE EMPLOYEE</td>\n",
       "      <td>False</td>\n",
       "      <td>False</td>\n",
       "      <td>False</td>\n",
       "      <td>True</td>\n",
       "    </tr>\n",
       "    <tr>\n",
       "      <th>960</th>\n",
       "      <td>SS/PRODUCTION SERVICES</td>\n",
       "      <td>ALBANY</td>\n",
       "      <td>1770.23</td>\n",
       "      <td>RA</td>\n",
       "      <td>SENATE EMPLOYEE</td>\n",
       "      <td>False</td>\n",
       "      <td>False</td>\n",
       "      <td>False</td>\n",
       "      <td>True</td>\n",
       "    </tr>\n",
       "    <tr>\n",
       "      <th>961</th>\n",
       "      <td>SENATE TECHNOLOGY SERVICES</td>\n",
       "      <td>ALBANY</td>\n",
       "      <td>2917.25</td>\n",
       "      <td>RA</td>\n",
       "      <td>SENATE EMPLOYEE</td>\n",
       "      <td>False</td>\n",
       "      <td>True</td>\n",
       "      <td>False</td>\n",
       "      <td>False</td>\n",
       "    </tr>\n",
       "    <tr>\n",
       "      <th>962</th>\n",
       "      <td>MINORITY COUNSEL/PROGRAM</td>\n",
       "      <td>ALBANY</td>\n",
       "      <td>1923.08</td>\n",
       "      <td>RA</td>\n",
       "      <td>SENATE EMPLOYEE</td>\n",
       "      <td>False</td>\n",
       "      <td>False</td>\n",
       "      <td>False</td>\n",
       "      <td>True</td>\n",
       "    </tr>\n",
       "  </tbody>\n",
       "</table>\n",
       "<p>963 rows × 9 columns</p>\n",
       "</div>"
      ],
      "text/plain": [
       "                                office              city  \\\n",
       "0            SENATOR TOBY ANN STAVISKY          FLUSHING   \n",
       "1        LEGISLATIVE MESSENGER SERVICE            ALBANY   \n",
       "2    SENATE FINANCE COMMITTEE/MAJORITY            ALBANY   \n",
       "3                SENATOR JESSICA RAMOS            ALBANY   \n",
       "4              SENATE SERGEANT-AT-ARMS            ALBANY   \n",
       "..                                 ...               ...   \n",
       "958              SENATOR TODD KAMINSKY  ROCKVILLE CENTRE   \n",
       "959             SS/PRODUCTION SERVICES            ALBANY   \n",
       "960             SS/PRODUCTION SERVICES            ALBANY   \n",
       "961         SENATE TECHNOLOGY SERVICES            ALBANY   \n",
       "962           MINORITY COUNSEL/PROGRAM            ALBANY   \n",
       "\n",
       "     biweeklt/hourly rate payrol type          legislative entity  \\\n",
       "0                 1076.93          SA             SENATE EMPLOYEE   \n",
       "1                 1173.93          RA  JOINT LEGISLATIVE EMPLOYEE   \n",
       "2                 2692.31          RA             SENATE EMPLOYEE   \n",
       "3                 2307.70          RA             SENATE EMPLOYEE   \n",
       "4                  820.95          SA             SENATE EMPLOYEE   \n",
       "..                    ...         ...                         ...   \n",
       "958               1538.47          RA             SENATE EMPLOYEE   \n",
       "959               2180.24          RA             SENATE EMPLOYEE   \n",
       "960               1770.23          RA             SENATE EMPLOYEE   \n",
       "961               2917.25          RA             SENATE EMPLOYEE   \n",
       "962               1923.08          RA             SENATE EMPLOYEE   \n",
       "\n",
       "     director_manager  senior_chief_supervisor  coordinator_liason_assistant  \\\n",
       "0               False                    False                          True   \n",
       "1               False                    False                         False   \n",
       "2               False                     True                         False   \n",
       "3                True                    False                         False   \n",
       "4               False                    False                         False   \n",
       "..                ...                      ...                           ...   \n",
       "958             False                    False                          True   \n",
       "959             False                    False                         False   \n",
       "960             False                    False                         False   \n",
       "961             False                     True                         False   \n",
       "962             False                    False                         False   \n",
       "\n",
       "     analyst_engineer_operator  \n",
       "0                        False  \n",
       "1                        False  \n",
       "2                         True  \n",
       "3                        False  \n",
       "4                        False  \n",
       "..                         ...  \n",
       "958                      False  \n",
       "959                       True  \n",
       "960                       True  \n",
       "961                      False  \n",
       "962                       True  \n",
       "\n",
       "[963 rows x 9 columns]"
      ]
     },
     "execution_count": 22,
     "metadata": {},
     "output_type": "execute_result"
    }
   ],
   "source": [
    "df2"
   ]
  },
  {
   "cell_type": "code",
   "execution_count": 23,
   "metadata": {
    "colab": {
     "base_uri": "https://localhost:8080/"
    },
    "id": "5QP1yS-7FRgQ",
    "outputId": "49c4465d-0d3b-4fb6-e855-56fb689bd0a6"
   },
   "outputs": [
    {
     "data": {
      "text/plain": [
       "array(['SENATOR TOBY ANN STAVISKY', 'LEGISLATIVE MESSENGER SERVICE',\n",
       "       'SENATE FINANCE COMMITTEE/MAJORITY', 'SENATOR JESSICA RAMOS',\n",
       "       'SENATE SERGEANT-AT-ARMS', 'SENATOR JAMAAL BAILEY',\n",
       "       'SENATOR JOSEPH A. GRIFFO', 'SENATOR JOHN BROOKS',\n",
       "       'SENATE TECHNOLOGY SERVICES', 'MAJORITY CONFERENCE SERVICES',\n",
       "       \"SENATOR THOMAS F. O'MARA\", 'SENATE M&O/POST OFFICE',\n",
       "       'MAJORITY COUNSEL/PROGRAM', 'SENATOR JAMES SANDERS',\n",
       "       'SENATOR DAVID S. CARLUCCI', 'SENATOR KEVIN M. THOMAS',\n",
       "       'SS/SENATE OFFICE SERVICES', 'SENATOR JOSEPH E. ROBACH',\n",
       "       'SENATOR FREDERICK J. AKSHAR II', 'SENATOR ALESSANDRA BIAGGI',\n",
       "       'SENATOR JAMES SKOUFIS', 'MAJORITY COMMUNICATIONS',\n",
       "       'SENATOR SUSAN SERINO', 'SENATOR JULIA C. SALAZAR',\n",
       "       'SENATE PERSONNEL OFFICE', 'SENATOR LUIS SEPULVEDA',\n",
       "       'SENATOR TODD KAMINSKY', 'SEN STUDENT PROGRAM OFF/FELLOWS',\n",
       "       'SENATOR JOSE M. SERRANO', 'SENATOR SHELLEY MAYER',\n",
       "       'SENATOR DIANE J. SAVINO', 'SENATOR MICHAEL H. RANZENHOFER',\n",
       "       'SENATOR JOSE G. RIVERA', 'SENATOR JAMES L. SEWARD',\n",
       "       'LEGISLATIVE LIBRARY', 'SENATOR CHRISTOPHER JACOBS',\n",
       "       \"CH/JOURNAL CLERK'S OFFICE\", 'SENATE M&O/SUPPLY',\n",
       "       'SENATOR ANDREA STEWART-COUSINS', 'SENATE M&O/CUSTODIALSER',\n",
       "       'SENATOR NEIL D. BRESLIN', 'SENATOR MICHAEL N. GIANARIS',\n",
       "       \"SENATOR ELIZABETH 0'C. LITTLE\", 'FO/PAYROLL',\n",
       "       'SENATOR JOHN C. LIU', 'SENATOR BRAD HOYLMAN',\n",
       "       'SENATOR ZELLNOR Y. MYRIE', \"SENATE M&O/DIRECTOR'S OFFICE\",\n",
       "       'SS/PRODUCTION SERVICES', 'SENATOR RICH FUNKE',\n",
       "       'SENATOR ROXANNE J. PERSAUD', 'SENATOR JOHN J. FLANAGAN',\n",
       "       'SENATOR PHILIP BOYLE', 'SS/QUICK COPY',\n",
       "       'SENATE M&O/DO COORDINATOR', 'CH/DOCUMENT ROOM',\n",
       "       'SENATOR JEN METZGER', 'SENATOR PAMELA HELMING',\n",
       "       'SENATOR SIMCHA FELDER', 'STS/BUSINESS APPLICATIONS CENTER',\n",
       "       'SENATOR JAMES TEDISCO', 'SENATOR KENNETH P. LAVALLE',\n",
       "       'SENATOR RACHEL MAY', 'SENATE M&O/FURNISHINGS CONTROL',\n",
       "       'SENATOR ROBERT ORTT', 'LC/LEGISLATIVE ETHICS COMMISSION',\n",
       "       'SENATOR GEORGE AMEDORE', 'SENATE M&O/SHOP',\n",
       "       'SENATOR ELIZABETH KRUEGER', 'MINORITY COUNSEL/PROGRAM',\n",
       "       'SENATOR TIMOTHY M. KENNEDY', 'SS/GRAPHIC ARTS',\n",
       "       'SENATOR PATRICK M. GALLIVAN', 'SENATOR JAMES F. GAUGHRAN',\n",
       "       'SENATOR ROBERT E. ANTONACCI', 'SENATOR BRIAN A. BENJAMIN',\n",
       "       'SENATOR KEVIN S. PARKER', 'SENATOR ROBERT JACKSON',\n",
       "       'SENATOR VELMANETTE MONTGOMERY', 'MEDIA SERVICES',\n",
       "       'SENATOR ANNA M. KAPLAN', 'SENATOR DAPHNE JORDAN',\n",
       "       'SENATOR JOSEPH P. ADDABBO, JR.', 'SENATOR PETER B. HARCKHAM',\n",
       "       'MINORITY LEGISLATIVE SERVICES', 'SENATE M&O/PURCHASING',\n",
       "       'SENATOR ANDREW J. LANZA', 'FO/ACCOUNTS PAYABLE',\n",
       "       'SENATOR PATRICIA A. RITCHIE', 'LEGISLATIVE HEALTH SERVICE',\n",
       "       'SS/SENATE EVENTS', 'SENATOR ANDREW S. GOUNARDES',\n",
       "       'MINORITY ADMINISTRATION', 'MAJORITY OPERATIONS',\n",
       "       'SENATOR LEROY COMRIE', 'SENATOR MONICA R. MARTINEZ',\n",
       "       '57TH SENATORIAL DISTRICT', 'SENATE FINANCE COMMITTEE/MINORITY',\n",
       "       'STS/TELECOMMUNICATIONS', 'MINORITY CONFERENCE SERVICES',\n",
       "       'SENATE M&O/TELEPHONE OPERATORS', 'SENATE SERVICES',\n",
       "       'SENATOR BRIAN KAVANAGH', 'MINORITY COMMUNICATIONS',\n",
       "       \"SECRETARY OF THE SENATE'S OFFICE\", 'MINORITY SENIOR STAFF',\n",
       "       'SENATE M&O/MAINTENANCE', 'SENATE FISCAL OFFICE',\n",
       "       'SENATE STUDENT PROGRAMS OFFICE',\n",
       "       'LC/DEVELOPMENT OF RURAL RESOURCES', 'SENATE M&O/RECEIVING',\n",
       "       'SENATE M&O/INV & RECORDS MANAGEMENT'], dtype=object)"
      ]
     },
     "execution_count": 23,
     "metadata": {},
     "output_type": "execute_result"
    }
   ],
   "source": [
    "df2.office.unique()"
   ]
  },
  {
   "cell_type": "code",
   "execution_count": 24,
   "metadata": {
    "colab": {
     "base_uri": "https://localhost:8080/"
    },
    "id": "p_Np1J_dFad8",
    "outputId": "dac6179d-87ee-49e2-e96d-52336644a0f7"
   },
   "outputs": [
    {
     "data": {
      "text/plain": [
       "138"
      ]
     },
     "execution_count": 24,
     "metadata": {},
     "output_type": "execute_result"
    }
   ],
   "source": [
    "df2.office.str.contains(\"SENATE\").sum()"
   ]
  },
  {
   "cell_type": "code",
   "execution_count": 25,
   "metadata": {
    "colab": {
     "base_uri": "https://localhost:8080/"
    },
    "id": "9OAUXM6VF0bs",
    "outputId": "6d1e10be-6090-4fd4-d5f1-fd88d31f2fbf"
   },
   "outputs": [
    {
     "data": {
      "text/plain": [
       "561"
      ]
     },
     "execution_count": 25,
     "metadata": {},
     "output_type": "execute_result"
    }
   ],
   "source": [
    "df2.office.str.contains(\"SENATOR\").sum()"
   ]
  },
  {
   "cell_type": "code",
   "execution_count": 26,
   "metadata": {
    "colab": {
     "base_uri": "https://localhost:8080/"
    },
    "id": "TKKNZR19F3wf",
    "outputId": "2e9b1f47-738d-450d-d47b-3a3f6f95acff"
   },
   "outputs": [
    {
     "data": {
      "text/plain": [
       "38"
      ]
     },
     "execution_count": 26,
     "metadata": {},
     "output_type": "execute_result"
    }
   ],
   "source": [
    "df2.office.str.contains(\"LEGISLATIVE\").sum()"
   ]
  },
  {
   "cell_type": "code",
   "execution_count": 27,
   "metadata": {
    "colab": {
     "base_uri": "https://localhost:8080/"
    },
    "id": "D2I6GoFzGJh_",
    "outputId": "69e2b5ea-fffb-409a-a714-feadf8984476"
   },
   "outputs": [],
   "source": [
    "df2[\"senate\"] = df2.office.str.contains(\"SENATE\")\n",
    "df2[\"senator\"] = df2.office.str.contains(\"SENATOR\")\n",
    "df2[\"legislative\"] = df2.office.str.contains(\"LEGISLATIVE\")\n"
   ]
  },
  {
   "cell_type": "code",
   "execution_count": 28,
   "metadata": {
    "colab": {
     "base_uri": "https://localhost:8080/",
     "height": 504
    },
    "id": "Ig8iH5KJGtfo",
    "outputId": "caeba92e-a8df-4b3d-8a20-48e6ab4e9932"
   },
   "outputs": [
    {
     "data": {
      "text/html": [
       "<div>\n",
       "<style scoped>\n",
       "    .dataframe tbody tr th:only-of-type {\n",
       "        vertical-align: middle;\n",
       "    }\n",
       "\n",
       "    .dataframe tbody tr th {\n",
       "        vertical-align: top;\n",
       "    }\n",
       "\n",
       "    .dataframe thead th {\n",
       "        text-align: right;\n",
       "    }\n",
       "</style>\n",
       "<table border=\"1\" class=\"dataframe\">\n",
       "  <thead>\n",
       "    <tr style=\"text-align: right;\">\n",
       "      <th></th>\n",
       "      <th>office</th>\n",
       "      <th>city</th>\n",
       "      <th>biweeklt/hourly rate</th>\n",
       "      <th>payrol type</th>\n",
       "      <th>legislative entity</th>\n",
       "      <th>director_manager</th>\n",
       "      <th>senior_chief_supervisor</th>\n",
       "      <th>coordinator_liason_assistant</th>\n",
       "      <th>analyst_engineer_operator</th>\n",
       "      <th>senate</th>\n",
       "      <th>senator</th>\n",
       "      <th>legislative</th>\n",
       "    </tr>\n",
       "  </thead>\n",
       "  <tbody>\n",
       "    <tr>\n",
       "      <th>0</th>\n",
       "      <td>SENATOR TOBY ANN STAVISKY</td>\n",
       "      <td>FLUSHING</td>\n",
       "      <td>1076.93</td>\n",
       "      <td>SA</td>\n",
       "      <td>SENATE EMPLOYEE</td>\n",
       "      <td>False</td>\n",
       "      <td>False</td>\n",
       "      <td>True</td>\n",
       "      <td>False</td>\n",
       "      <td>False</td>\n",
       "      <td>True</td>\n",
       "      <td>False</td>\n",
       "    </tr>\n",
       "    <tr>\n",
       "      <th>1</th>\n",
       "      <td>LEGISLATIVE MESSENGER SERVICE</td>\n",
       "      <td>ALBANY</td>\n",
       "      <td>1173.93</td>\n",
       "      <td>RA</td>\n",
       "      <td>JOINT LEGISLATIVE EMPLOYEE</td>\n",
       "      <td>False</td>\n",
       "      <td>False</td>\n",
       "      <td>False</td>\n",
       "      <td>False</td>\n",
       "      <td>False</td>\n",
       "      <td>False</td>\n",
       "      <td>True</td>\n",
       "    </tr>\n",
       "    <tr>\n",
       "      <th>2</th>\n",
       "      <td>SENATE FINANCE COMMITTEE/MAJORITY</td>\n",
       "      <td>ALBANY</td>\n",
       "      <td>2692.31</td>\n",
       "      <td>RA</td>\n",
       "      <td>SENATE EMPLOYEE</td>\n",
       "      <td>False</td>\n",
       "      <td>True</td>\n",
       "      <td>False</td>\n",
       "      <td>True</td>\n",
       "      <td>True</td>\n",
       "      <td>False</td>\n",
       "      <td>False</td>\n",
       "    </tr>\n",
       "    <tr>\n",
       "      <th>3</th>\n",
       "      <td>SENATOR JESSICA RAMOS</td>\n",
       "      <td>ALBANY</td>\n",
       "      <td>2307.70</td>\n",
       "      <td>RA</td>\n",
       "      <td>SENATE EMPLOYEE</td>\n",
       "      <td>True</td>\n",
       "      <td>False</td>\n",
       "      <td>False</td>\n",
       "      <td>False</td>\n",
       "      <td>False</td>\n",
       "      <td>True</td>\n",
       "      <td>False</td>\n",
       "    </tr>\n",
       "    <tr>\n",
       "      <th>4</th>\n",
       "      <td>SENATE SERGEANT-AT-ARMS</td>\n",
       "      <td>ALBANY</td>\n",
       "      <td>820.95</td>\n",
       "      <td>SA</td>\n",
       "      <td>SENATE EMPLOYEE</td>\n",
       "      <td>False</td>\n",
       "      <td>False</td>\n",
       "      <td>False</td>\n",
       "      <td>False</td>\n",
       "      <td>True</td>\n",
       "      <td>False</td>\n",
       "      <td>False</td>\n",
       "    </tr>\n",
       "    <tr>\n",
       "      <th>...</th>\n",
       "      <td>...</td>\n",
       "      <td>...</td>\n",
       "      <td>...</td>\n",
       "      <td>...</td>\n",
       "      <td>...</td>\n",
       "      <td>...</td>\n",
       "      <td>...</td>\n",
       "      <td>...</td>\n",
       "      <td>...</td>\n",
       "      <td>...</td>\n",
       "      <td>...</td>\n",
       "      <td>...</td>\n",
       "    </tr>\n",
       "    <tr>\n",
       "      <th>958</th>\n",
       "      <td>SENATOR TODD KAMINSKY</td>\n",
       "      <td>ROCKVILLE CENTRE</td>\n",
       "      <td>1538.47</td>\n",
       "      <td>RA</td>\n",
       "      <td>SENATE EMPLOYEE</td>\n",
       "      <td>False</td>\n",
       "      <td>False</td>\n",
       "      <td>True</td>\n",
       "      <td>False</td>\n",
       "      <td>False</td>\n",
       "      <td>True</td>\n",
       "      <td>False</td>\n",
       "    </tr>\n",
       "    <tr>\n",
       "      <th>959</th>\n",
       "      <td>SS/PRODUCTION SERVICES</td>\n",
       "      <td>ALBANY</td>\n",
       "      <td>2180.24</td>\n",
       "      <td>RA</td>\n",
       "      <td>SENATE EMPLOYEE</td>\n",
       "      <td>False</td>\n",
       "      <td>False</td>\n",
       "      <td>False</td>\n",
       "      <td>True</td>\n",
       "      <td>False</td>\n",
       "      <td>False</td>\n",
       "      <td>False</td>\n",
       "    </tr>\n",
       "    <tr>\n",
       "      <th>960</th>\n",
       "      <td>SS/PRODUCTION SERVICES</td>\n",
       "      <td>ALBANY</td>\n",
       "      <td>1770.23</td>\n",
       "      <td>RA</td>\n",
       "      <td>SENATE EMPLOYEE</td>\n",
       "      <td>False</td>\n",
       "      <td>False</td>\n",
       "      <td>False</td>\n",
       "      <td>True</td>\n",
       "      <td>False</td>\n",
       "      <td>False</td>\n",
       "      <td>False</td>\n",
       "    </tr>\n",
       "    <tr>\n",
       "      <th>961</th>\n",
       "      <td>SENATE TECHNOLOGY SERVICES</td>\n",
       "      <td>ALBANY</td>\n",
       "      <td>2917.25</td>\n",
       "      <td>RA</td>\n",
       "      <td>SENATE EMPLOYEE</td>\n",
       "      <td>False</td>\n",
       "      <td>True</td>\n",
       "      <td>False</td>\n",
       "      <td>False</td>\n",
       "      <td>True</td>\n",
       "      <td>False</td>\n",
       "      <td>False</td>\n",
       "    </tr>\n",
       "    <tr>\n",
       "      <th>962</th>\n",
       "      <td>MINORITY COUNSEL/PROGRAM</td>\n",
       "      <td>ALBANY</td>\n",
       "      <td>1923.08</td>\n",
       "      <td>RA</td>\n",
       "      <td>SENATE EMPLOYEE</td>\n",
       "      <td>False</td>\n",
       "      <td>False</td>\n",
       "      <td>False</td>\n",
       "      <td>True</td>\n",
       "      <td>False</td>\n",
       "      <td>False</td>\n",
       "      <td>False</td>\n",
       "    </tr>\n",
       "  </tbody>\n",
       "</table>\n",
       "<p>963 rows × 12 columns</p>\n",
       "</div>"
      ],
      "text/plain": [
       "                                office              city  \\\n",
       "0            SENATOR TOBY ANN STAVISKY          FLUSHING   \n",
       "1        LEGISLATIVE MESSENGER SERVICE            ALBANY   \n",
       "2    SENATE FINANCE COMMITTEE/MAJORITY            ALBANY   \n",
       "3                SENATOR JESSICA RAMOS            ALBANY   \n",
       "4              SENATE SERGEANT-AT-ARMS            ALBANY   \n",
       "..                                 ...               ...   \n",
       "958              SENATOR TODD KAMINSKY  ROCKVILLE CENTRE   \n",
       "959             SS/PRODUCTION SERVICES            ALBANY   \n",
       "960             SS/PRODUCTION SERVICES            ALBANY   \n",
       "961         SENATE TECHNOLOGY SERVICES            ALBANY   \n",
       "962           MINORITY COUNSEL/PROGRAM            ALBANY   \n",
       "\n",
       "     biweeklt/hourly rate payrol type          legislative entity  \\\n",
       "0                 1076.93          SA             SENATE EMPLOYEE   \n",
       "1                 1173.93          RA  JOINT LEGISLATIVE EMPLOYEE   \n",
       "2                 2692.31          RA             SENATE EMPLOYEE   \n",
       "3                 2307.70          RA             SENATE EMPLOYEE   \n",
       "4                  820.95          SA             SENATE EMPLOYEE   \n",
       "..                    ...         ...                         ...   \n",
       "958               1538.47          RA             SENATE EMPLOYEE   \n",
       "959               2180.24          RA             SENATE EMPLOYEE   \n",
       "960               1770.23          RA             SENATE EMPLOYEE   \n",
       "961               2917.25          RA             SENATE EMPLOYEE   \n",
       "962               1923.08          RA             SENATE EMPLOYEE   \n",
       "\n",
       "     director_manager  senior_chief_supervisor  coordinator_liason_assistant  \\\n",
       "0               False                    False                          True   \n",
       "1               False                    False                         False   \n",
       "2               False                     True                         False   \n",
       "3                True                    False                         False   \n",
       "4               False                    False                         False   \n",
       "..                ...                      ...                           ...   \n",
       "958             False                    False                          True   \n",
       "959             False                    False                         False   \n",
       "960             False                    False                         False   \n",
       "961             False                     True                         False   \n",
       "962             False                    False                         False   \n",
       "\n",
       "     analyst_engineer_operator  senate  senator  legislative  \n",
       "0                        False   False     True        False  \n",
       "1                        False   False    False         True  \n",
       "2                         True    True    False        False  \n",
       "3                        False   False     True        False  \n",
       "4                        False    True    False        False  \n",
       "..                         ...     ...      ...          ...  \n",
       "958                      False   False     True        False  \n",
       "959                       True   False    False        False  \n",
       "960                       True   False    False        False  \n",
       "961                      False    True    False        False  \n",
       "962                       True   False    False        False  \n",
       "\n",
       "[963 rows x 12 columns]"
      ]
     },
     "execution_count": 28,
     "metadata": {},
     "output_type": "execute_result"
    }
   ],
   "source": [
    "df2"
   ]
  },
  {
   "cell_type": "code",
   "execution_count": 29,
   "metadata": {
    "colab": {
     "base_uri": "https://localhost:8080/"
    },
    "id": "z90V_6GuGudI",
    "outputId": "8ce53183-2fda-4cab-e8ac-17ec8c6c1192"
   },
   "outputs": [
    {
     "data": {
      "text/plain": [
       "SENATE EMPLOYEE               926\n",
       "JOINT LEGISLATIVE EMPLOYEE     37\n",
       "Name: legislative entity, dtype: int64"
      ]
     },
     "execution_count": 29,
     "metadata": {},
     "output_type": "execute_result"
    }
   ],
   "source": [
    "df2[\"legislative entity\"].value_counts()"
   ]
  },
  {
   "cell_type": "code",
   "execution_count": 30,
   "metadata": {
    "colab": {
     "base_uri": "https://localhost:8080/",
     "height": 419
    },
    "id": "67IhQEU3G8uN",
    "outputId": "ee741099-240f-4e5d-81fa-b60188053046"
   },
   "outputs": [
    {
     "data": {
      "text/html": [
       "<div>\n",
       "<style scoped>\n",
       "    .dataframe tbody tr th:only-of-type {\n",
       "        vertical-align: middle;\n",
       "    }\n",
       "\n",
       "    .dataframe tbody tr th {\n",
       "        vertical-align: top;\n",
       "    }\n",
       "\n",
       "    .dataframe thead th {\n",
       "        text-align: right;\n",
       "    }\n",
       "</style>\n",
       "<table border=\"1\" class=\"dataframe\">\n",
       "  <thead>\n",
       "    <tr style=\"text-align: right;\">\n",
       "      <th></th>\n",
       "      <th>office</th>\n",
       "      <th>city</th>\n",
       "      <th>biweeklt/hourly rate</th>\n",
       "      <th>payrol type</th>\n",
       "      <th>director_manager</th>\n",
       "      <th>senior_chief_supervisor</th>\n",
       "      <th>coordinator_liason_assistant</th>\n",
       "      <th>analyst_engineer_operator</th>\n",
       "      <th>senate</th>\n",
       "      <th>senator</th>\n",
       "      <th>legislative</th>\n",
       "    </tr>\n",
       "  </thead>\n",
       "  <tbody>\n",
       "    <tr>\n",
       "      <th>0</th>\n",
       "      <td>SENATOR TOBY ANN STAVISKY</td>\n",
       "      <td>FLUSHING</td>\n",
       "      <td>1076.93</td>\n",
       "      <td>SA</td>\n",
       "      <td>False</td>\n",
       "      <td>False</td>\n",
       "      <td>True</td>\n",
       "      <td>False</td>\n",
       "      <td>False</td>\n",
       "      <td>True</td>\n",
       "      <td>False</td>\n",
       "    </tr>\n",
       "    <tr>\n",
       "      <th>1</th>\n",
       "      <td>LEGISLATIVE MESSENGER SERVICE</td>\n",
       "      <td>ALBANY</td>\n",
       "      <td>1173.93</td>\n",
       "      <td>RA</td>\n",
       "      <td>False</td>\n",
       "      <td>False</td>\n",
       "      <td>False</td>\n",
       "      <td>False</td>\n",
       "      <td>False</td>\n",
       "      <td>False</td>\n",
       "      <td>True</td>\n",
       "    </tr>\n",
       "    <tr>\n",
       "      <th>2</th>\n",
       "      <td>SENATE FINANCE COMMITTEE/MAJORITY</td>\n",
       "      <td>ALBANY</td>\n",
       "      <td>2692.31</td>\n",
       "      <td>RA</td>\n",
       "      <td>False</td>\n",
       "      <td>True</td>\n",
       "      <td>False</td>\n",
       "      <td>True</td>\n",
       "      <td>True</td>\n",
       "      <td>False</td>\n",
       "      <td>False</td>\n",
       "    </tr>\n",
       "    <tr>\n",
       "      <th>3</th>\n",
       "      <td>SENATOR JESSICA RAMOS</td>\n",
       "      <td>ALBANY</td>\n",
       "      <td>2307.70</td>\n",
       "      <td>RA</td>\n",
       "      <td>True</td>\n",
       "      <td>False</td>\n",
       "      <td>False</td>\n",
       "      <td>False</td>\n",
       "      <td>False</td>\n",
       "      <td>True</td>\n",
       "      <td>False</td>\n",
       "    </tr>\n",
       "    <tr>\n",
       "      <th>4</th>\n",
       "      <td>SENATE SERGEANT-AT-ARMS</td>\n",
       "      <td>ALBANY</td>\n",
       "      <td>820.95</td>\n",
       "      <td>SA</td>\n",
       "      <td>False</td>\n",
       "      <td>False</td>\n",
       "      <td>False</td>\n",
       "      <td>False</td>\n",
       "      <td>True</td>\n",
       "      <td>False</td>\n",
       "      <td>False</td>\n",
       "    </tr>\n",
       "    <tr>\n",
       "      <th>...</th>\n",
       "      <td>...</td>\n",
       "      <td>...</td>\n",
       "      <td>...</td>\n",
       "      <td>...</td>\n",
       "      <td>...</td>\n",
       "      <td>...</td>\n",
       "      <td>...</td>\n",
       "      <td>...</td>\n",
       "      <td>...</td>\n",
       "      <td>...</td>\n",
       "      <td>...</td>\n",
       "    </tr>\n",
       "    <tr>\n",
       "      <th>958</th>\n",
       "      <td>SENATOR TODD KAMINSKY</td>\n",
       "      <td>ROCKVILLE CENTRE</td>\n",
       "      <td>1538.47</td>\n",
       "      <td>RA</td>\n",
       "      <td>False</td>\n",
       "      <td>False</td>\n",
       "      <td>True</td>\n",
       "      <td>False</td>\n",
       "      <td>False</td>\n",
       "      <td>True</td>\n",
       "      <td>False</td>\n",
       "    </tr>\n",
       "    <tr>\n",
       "      <th>959</th>\n",
       "      <td>SS/PRODUCTION SERVICES</td>\n",
       "      <td>ALBANY</td>\n",
       "      <td>2180.24</td>\n",
       "      <td>RA</td>\n",
       "      <td>False</td>\n",
       "      <td>False</td>\n",
       "      <td>False</td>\n",
       "      <td>True</td>\n",
       "      <td>False</td>\n",
       "      <td>False</td>\n",
       "      <td>False</td>\n",
       "    </tr>\n",
       "    <tr>\n",
       "      <th>960</th>\n",
       "      <td>SS/PRODUCTION SERVICES</td>\n",
       "      <td>ALBANY</td>\n",
       "      <td>1770.23</td>\n",
       "      <td>RA</td>\n",
       "      <td>False</td>\n",
       "      <td>False</td>\n",
       "      <td>False</td>\n",
       "      <td>True</td>\n",
       "      <td>False</td>\n",
       "      <td>False</td>\n",
       "      <td>False</td>\n",
       "    </tr>\n",
       "    <tr>\n",
       "      <th>961</th>\n",
       "      <td>SENATE TECHNOLOGY SERVICES</td>\n",
       "      <td>ALBANY</td>\n",
       "      <td>2917.25</td>\n",
       "      <td>RA</td>\n",
       "      <td>False</td>\n",
       "      <td>True</td>\n",
       "      <td>False</td>\n",
       "      <td>False</td>\n",
       "      <td>True</td>\n",
       "      <td>False</td>\n",
       "      <td>False</td>\n",
       "    </tr>\n",
       "    <tr>\n",
       "      <th>962</th>\n",
       "      <td>MINORITY COUNSEL/PROGRAM</td>\n",
       "      <td>ALBANY</td>\n",
       "      <td>1923.08</td>\n",
       "      <td>RA</td>\n",
       "      <td>False</td>\n",
       "      <td>False</td>\n",
       "      <td>False</td>\n",
       "      <td>True</td>\n",
       "      <td>False</td>\n",
       "      <td>False</td>\n",
       "      <td>False</td>\n",
       "    </tr>\n",
       "  </tbody>\n",
       "</table>\n",
       "<p>963 rows × 11 columns</p>\n",
       "</div>"
      ],
      "text/plain": [
       "                                office              city  \\\n",
       "0            SENATOR TOBY ANN STAVISKY          FLUSHING   \n",
       "1        LEGISLATIVE MESSENGER SERVICE            ALBANY   \n",
       "2    SENATE FINANCE COMMITTEE/MAJORITY            ALBANY   \n",
       "3                SENATOR JESSICA RAMOS            ALBANY   \n",
       "4              SENATE SERGEANT-AT-ARMS            ALBANY   \n",
       "..                                 ...               ...   \n",
       "958              SENATOR TODD KAMINSKY  ROCKVILLE CENTRE   \n",
       "959             SS/PRODUCTION SERVICES            ALBANY   \n",
       "960             SS/PRODUCTION SERVICES            ALBANY   \n",
       "961         SENATE TECHNOLOGY SERVICES            ALBANY   \n",
       "962           MINORITY COUNSEL/PROGRAM            ALBANY   \n",
       "\n",
       "     biweeklt/hourly rate payrol type  director_manager  \\\n",
       "0                 1076.93          SA             False   \n",
       "1                 1173.93          RA             False   \n",
       "2                 2692.31          RA             False   \n",
       "3                 2307.70          RA              True   \n",
       "4                  820.95          SA             False   \n",
       "..                    ...         ...               ...   \n",
       "958               1538.47          RA             False   \n",
       "959               2180.24          RA             False   \n",
       "960               1770.23          RA             False   \n",
       "961               2917.25          RA             False   \n",
       "962               1923.08          RA             False   \n",
       "\n",
       "     senior_chief_supervisor  coordinator_liason_assistant  \\\n",
       "0                      False                          True   \n",
       "1                      False                         False   \n",
       "2                       True                         False   \n",
       "3                      False                         False   \n",
       "4                      False                         False   \n",
       "..                       ...                           ...   \n",
       "958                    False                          True   \n",
       "959                    False                         False   \n",
       "960                    False                         False   \n",
       "961                     True                         False   \n",
       "962                    False                         False   \n",
       "\n",
       "     analyst_engineer_operator  senate  senator  legislative  \n",
       "0                        False   False     True        False  \n",
       "1                        False   False    False         True  \n",
       "2                         True    True    False        False  \n",
       "3                        False   False     True        False  \n",
       "4                        False    True    False        False  \n",
       "..                         ...     ...      ...          ...  \n",
       "958                      False   False     True        False  \n",
       "959                       True   False    False        False  \n",
       "960                       True   False    False        False  \n",
       "961                      False    True    False        False  \n",
       "962                       True   False    False        False  \n",
       "\n",
       "[963 rows x 11 columns]"
      ]
     },
     "execution_count": 30,
     "metadata": {},
     "output_type": "execute_result"
    }
   ],
   "source": [
    "df2.drop(\"legislative entity\", axis=1,inplace=True)\n",
    "df2"
   ]
  },
  {
   "cell_type": "code",
   "execution_count": 31,
   "metadata": {
    "colab": {
     "base_uri": "https://localhost:8080/",
     "height": 419
    },
    "id": "GTiP8_ErHNqZ",
    "outputId": "40c61538-a7e6-4989-d0f4-b2a807282615"
   },
   "outputs": [
    {
     "data": {
      "text/html": [
       "<div>\n",
       "<style scoped>\n",
       "    .dataframe tbody tr th:only-of-type {\n",
       "        vertical-align: middle;\n",
       "    }\n",
       "\n",
       "    .dataframe tbody tr th {\n",
       "        vertical-align: top;\n",
       "    }\n",
       "\n",
       "    .dataframe thead th {\n",
       "        text-align: right;\n",
       "    }\n",
       "</style>\n",
       "<table border=\"1\" class=\"dataframe\">\n",
       "  <thead>\n",
       "    <tr style=\"text-align: right;\">\n",
       "      <th></th>\n",
       "      <th>city</th>\n",
       "      <th>biweeklt/hourly rate</th>\n",
       "      <th>payrol type</th>\n",
       "      <th>director_manager</th>\n",
       "      <th>senior_chief_supervisor</th>\n",
       "      <th>coordinator_liason_assistant</th>\n",
       "      <th>analyst_engineer_operator</th>\n",
       "      <th>senate</th>\n",
       "      <th>senator</th>\n",
       "      <th>legislative</th>\n",
       "    </tr>\n",
       "  </thead>\n",
       "  <tbody>\n",
       "    <tr>\n",
       "      <th>0</th>\n",
       "      <td>FLUSHING</td>\n",
       "      <td>1076.93</td>\n",
       "      <td>SA</td>\n",
       "      <td>False</td>\n",
       "      <td>False</td>\n",
       "      <td>True</td>\n",
       "      <td>False</td>\n",
       "      <td>False</td>\n",
       "      <td>True</td>\n",
       "      <td>False</td>\n",
       "    </tr>\n",
       "    <tr>\n",
       "      <th>1</th>\n",
       "      <td>ALBANY</td>\n",
       "      <td>1173.93</td>\n",
       "      <td>RA</td>\n",
       "      <td>False</td>\n",
       "      <td>False</td>\n",
       "      <td>False</td>\n",
       "      <td>False</td>\n",
       "      <td>False</td>\n",
       "      <td>False</td>\n",
       "      <td>True</td>\n",
       "    </tr>\n",
       "    <tr>\n",
       "      <th>2</th>\n",
       "      <td>ALBANY</td>\n",
       "      <td>2692.31</td>\n",
       "      <td>RA</td>\n",
       "      <td>False</td>\n",
       "      <td>True</td>\n",
       "      <td>False</td>\n",
       "      <td>True</td>\n",
       "      <td>True</td>\n",
       "      <td>False</td>\n",
       "      <td>False</td>\n",
       "    </tr>\n",
       "    <tr>\n",
       "      <th>3</th>\n",
       "      <td>ALBANY</td>\n",
       "      <td>2307.70</td>\n",
       "      <td>RA</td>\n",
       "      <td>True</td>\n",
       "      <td>False</td>\n",
       "      <td>False</td>\n",
       "      <td>False</td>\n",
       "      <td>False</td>\n",
       "      <td>True</td>\n",
       "      <td>False</td>\n",
       "    </tr>\n",
       "    <tr>\n",
       "      <th>4</th>\n",
       "      <td>ALBANY</td>\n",
       "      <td>820.95</td>\n",
       "      <td>SA</td>\n",
       "      <td>False</td>\n",
       "      <td>False</td>\n",
       "      <td>False</td>\n",
       "      <td>False</td>\n",
       "      <td>True</td>\n",
       "      <td>False</td>\n",
       "      <td>False</td>\n",
       "    </tr>\n",
       "    <tr>\n",
       "      <th>...</th>\n",
       "      <td>...</td>\n",
       "      <td>...</td>\n",
       "      <td>...</td>\n",
       "      <td>...</td>\n",
       "      <td>...</td>\n",
       "      <td>...</td>\n",
       "      <td>...</td>\n",
       "      <td>...</td>\n",
       "      <td>...</td>\n",
       "      <td>...</td>\n",
       "    </tr>\n",
       "    <tr>\n",
       "      <th>958</th>\n",
       "      <td>ROCKVILLE CENTRE</td>\n",
       "      <td>1538.47</td>\n",
       "      <td>RA</td>\n",
       "      <td>False</td>\n",
       "      <td>False</td>\n",
       "      <td>True</td>\n",
       "      <td>False</td>\n",
       "      <td>False</td>\n",
       "      <td>True</td>\n",
       "      <td>False</td>\n",
       "    </tr>\n",
       "    <tr>\n",
       "      <th>959</th>\n",
       "      <td>ALBANY</td>\n",
       "      <td>2180.24</td>\n",
       "      <td>RA</td>\n",
       "      <td>False</td>\n",
       "      <td>False</td>\n",
       "      <td>False</td>\n",
       "      <td>True</td>\n",
       "      <td>False</td>\n",
       "      <td>False</td>\n",
       "      <td>False</td>\n",
       "    </tr>\n",
       "    <tr>\n",
       "      <th>960</th>\n",
       "      <td>ALBANY</td>\n",
       "      <td>1770.23</td>\n",
       "      <td>RA</td>\n",
       "      <td>False</td>\n",
       "      <td>False</td>\n",
       "      <td>False</td>\n",
       "      <td>True</td>\n",
       "      <td>False</td>\n",
       "      <td>False</td>\n",
       "      <td>False</td>\n",
       "    </tr>\n",
       "    <tr>\n",
       "      <th>961</th>\n",
       "      <td>ALBANY</td>\n",
       "      <td>2917.25</td>\n",
       "      <td>RA</td>\n",
       "      <td>False</td>\n",
       "      <td>True</td>\n",
       "      <td>False</td>\n",
       "      <td>False</td>\n",
       "      <td>True</td>\n",
       "      <td>False</td>\n",
       "      <td>False</td>\n",
       "    </tr>\n",
       "    <tr>\n",
       "      <th>962</th>\n",
       "      <td>ALBANY</td>\n",
       "      <td>1923.08</td>\n",
       "      <td>RA</td>\n",
       "      <td>False</td>\n",
       "      <td>False</td>\n",
       "      <td>False</td>\n",
       "      <td>True</td>\n",
       "      <td>False</td>\n",
       "      <td>False</td>\n",
       "      <td>False</td>\n",
       "    </tr>\n",
       "  </tbody>\n",
       "</table>\n",
       "<p>963 rows × 10 columns</p>\n",
       "</div>"
      ],
      "text/plain": [
       "                 city  biweeklt/hourly rate payrol type  director_manager  \\\n",
       "0            FLUSHING               1076.93          SA             False   \n",
       "1              ALBANY               1173.93          RA             False   \n",
       "2              ALBANY               2692.31          RA             False   \n",
       "3              ALBANY               2307.70          RA              True   \n",
       "4              ALBANY                820.95          SA             False   \n",
       "..                ...                   ...         ...               ...   \n",
       "958  ROCKVILLE CENTRE               1538.47          RA             False   \n",
       "959            ALBANY               2180.24          RA             False   \n",
       "960            ALBANY               1770.23          RA             False   \n",
       "961            ALBANY               2917.25          RA             False   \n",
       "962            ALBANY               1923.08          RA             False   \n",
       "\n",
       "     senior_chief_supervisor  coordinator_liason_assistant  \\\n",
       "0                      False                          True   \n",
       "1                      False                         False   \n",
       "2                       True                         False   \n",
       "3                      False                         False   \n",
       "4                      False                         False   \n",
       "..                       ...                           ...   \n",
       "958                    False                          True   \n",
       "959                    False                         False   \n",
       "960                    False                         False   \n",
       "961                     True                         False   \n",
       "962                    False                         False   \n",
       "\n",
       "     analyst_engineer_operator  senate  senator  legislative  \n",
       "0                        False   False     True        False  \n",
       "1                        False   False    False         True  \n",
       "2                         True    True    False        False  \n",
       "3                        False   False     True        False  \n",
       "4                        False    True    False        False  \n",
       "..                         ...     ...      ...          ...  \n",
       "958                      False   False     True        False  \n",
       "959                       True   False    False        False  \n",
       "960                       True   False    False        False  \n",
       "961                      False    True    False        False  \n",
       "962                       True   False    False        False  \n",
       "\n",
       "[963 rows x 10 columns]"
      ]
     },
     "execution_count": 31,
     "metadata": {},
     "output_type": "execute_result"
    }
   ],
   "source": [
    "df2.drop(\"office\", axis=1,inplace=True)\n",
    "df2"
   ]
  },
  {
   "cell_type": "code",
   "execution_count": 32,
   "metadata": {
    "colab": {
     "base_uri": "https://localhost:8080/",
     "height": 17
    },
    "id": "VJu3lnP-HyY-",
    "jupyter": {
     "outputs_hidden": true
    },
    "outputId": "21cf855f-eff4-4e67-b6f3-461df350e53c",
    "tags": []
   },
   "outputs": [
    {
     "data": {
      "application/javascript": [
       "\n",
       "        if (window._pyforest_update_imports_cell) { window._pyforest_update_imports_cell('import pandas as pd'); }\n",
       "    "
      ],
      "text/plain": [
       "<IPython.core.display.Javascript object>"
      ]
     },
     "metadata": {},
     "output_type": "display_data"
    }
   ],
   "source": [
    "df2 = pd.get_dummies(df2, drop_first=True)"
   ]
  },
  {
   "cell_type": "code",
   "execution_count": 33,
   "metadata": {},
   "outputs": [
    {
     "data": {
      "text/html": [
       "<div>\n",
       "<style scoped>\n",
       "    .dataframe tbody tr th:only-of-type {\n",
       "        vertical-align: middle;\n",
       "    }\n",
       "\n",
       "    .dataframe tbody tr th {\n",
       "        vertical-align: top;\n",
       "    }\n",
       "\n",
       "    .dataframe thead th {\n",
       "        text-align: right;\n",
       "    }\n",
       "</style>\n",
       "<table border=\"1\" class=\"dataframe\">\n",
       "  <thead>\n",
       "    <tr style=\"text-align: right;\">\n",
       "      <th></th>\n",
       "      <th>biweeklt/hourly rate</th>\n",
       "      <th>director_manager</th>\n",
       "      <th>senior_chief_supervisor</th>\n",
       "      <th>coordinator_liason_assistant</th>\n",
       "      <th>analyst_engineer_operator</th>\n",
       "      <th>senate</th>\n",
       "      <th>senator</th>\n",
       "      <th>legislative</th>\n",
       "      <th>city_ASTORIA</th>\n",
       "      <th>city_BAY SHORE</th>\n",
       "      <th>...</th>\n",
       "      <th>city_SMITHTOWN</th>\n",
       "      <th>city_STATEN ISLAND</th>\n",
       "      <th>city_SYOSSET</th>\n",
       "      <th>city_SYRACUSE</th>\n",
       "      <th>city_UTICA</th>\n",
       "      <th>city_WATERTOWN</th>\n",
       "      <th>city_WILLIAMSVILLE</th>\n",
       "      <th>city_YONKERS</th>\n",
       "      <th>payrol type_SA</th>\n",
       "      <th>payrol type_TE</th>\n",
       "    </tr>\n",
       "  </thead>\n",
       "  <tbody>\n",
       "    <tr>\n",
       "      <th>0</th>\n",
       "      <td>1076.93</td>\n",
       "      <td>False</td>\n",
       "      <td>False</td>\n",
       "      <td>True</td>\n",
       "      <td>False</td>\n",
       "      <td>False</td>\n",
       "      <td>True</td>\n",
       "      <td>False</td>\n",
       "      <td>0</td>\n",
       "      <td>0</td>\n",
       "      <td>...</td>\n",
       "      <td>0</td>\n",
       "      <td>0</td>\n",
       "      <td>0</td>\n",
       "      <td>0</td>\n",
       "      <td>0</td>\n",
       "      <td>0</td>\n",
       "      <td>0</td>\n",
       "      <td>0</td>\n",
       "      <td>1</td>\n",
       "      <td>0</td>\n",
       "    </tr>\n",
       "    <tr>\n",
       "      <th>1</th>\n",
       "      <td>1173.93</td>\n",
       "      <td>False</td>\n",
       "      <td>False</td>\n",
       "      <td>False</td>\n",
       "      <td>False</td>\n",
       "      <td>False</td>\n",
       "      <td>False</td>\n",
       "      <td>True</td>\n",
       "      <td>0</td>\n",
       "      <td>0</td>\n",
       "      <td>...</td>\n",
       "      <td>0</td>\n",
       "      <td>0</td>\n",
       "      <td>0</td>\n",
       "      <td>0</td>\n",
       "      <td>0</td>\n",
       "      <td>0</td>\n",
       "      <td>0</td>\n",
       "      <td>0</td>\n",
       "      <td>0</td>\n",
       "      <td>0</td>\n",
       "    </tr>\n",
       "    <tr>\n",
       "      <th>2</th>\n",
       "      <td>2692.31</td>\n",
       "      <td>False</td>\n",
       "      <td>True</td>\n",
       "      <td>False</td>\n",
       "      <td>True</td>\n",
       "      <td>True</td>\n",
       "      <td>False</td>\n",
       "      <td>False</td>\n",
       "      <td>0</td>\n",
       "      <td>0</td>\n",
       "      <td>...</td>\n",
       "      <td>0</td>\n",
       "      <td>0</td>\n",
       "      <td>0</td>\n",
       "      <td>0</td>\n",
       "      <td>0</td>\n",
       "      <td>0</td>\n",
       "      <td>0</td>\n",
       "      <td>0</td>\n",
       "      <td>0</td>\n",
       "      <td>0</td>\n",
       "    </tr>\n",
       "    <tr>\n",
       "      <th>3</th>\n",
       "      <td>2307.70</td>\n",
       "      <td>True</td>\n",
       "      <td>False</td>\n",
       "      <td>False</td>\n",
       "      <td>False</td>\n",
       "      <td>False</td>\n",
       "      <td>True</td>\n",
       "      <td>False</td>\n",
       "      <td>0</td>\n",
       "      <td>0</td>\n",
       "      <td>...</td>\n",
       "      <td>0</td>\n",
       "      <td>0</td>\n",
       "      <td>0</td>\n",
       "      <td>0</td>\n",
       "      <td>0</td>\n",
       "      <td>0</td>\n",
       "      <td>0</td>\n",
       "      <td>0</td>\n",
       "      <td>0</td>\n",
       "      <td>0</td>\n",
       "    </tr>\n",
       "    <tr>\n",
       "      <th>4</th>\n",
       "      <td>820.95</td>\n",
       "      <td>False</td>\n",
       "      <td>False</td>\n",
       "      <td>False</td>\n",
       "      <td>False</td>\n",
       "      <td>True</td>\n",
       "      <td>False</td>\n",
       "      <td>False</td>\n",
       "      <td>0</td>\n",
       "      <td>0</td>\n",
       "      <td>...</td>\n",
       "      <td>0</td>\n",
       "      <td>0</td>\n",
       "      <td>0</td>\n",
       "      <td>0</td>\n",
       "      <td>0</td>\n",
       "      <td>0</td>\n",
       "      <td>0</td>\n",
       "      <td>0</td>\n",
       "      <td>1</td>\n",
       "      <td>0</td>\n",
       "    </tr>\n",
       "    <tr>\n",
       "      <th>...</th>\n",
       "      <td>...</td>\n",
       "      <td>...</td>\n",
       "      <td>...</td>\n",
       "      <td>...</td>\n",
       "      <td>...</td>\n",
       "      <td>...</td>\n",
       "      <td>...</td>\n",
       "      <td>...</td>\n",
       "      <td>...</td>\n",
       "      <td>...</td>\n",
       "      <td>...</td>\n",
       "      <td>...</td>\n",
       "      <td>...</td>\n",
       "      <td>...</td>\n",
       "      <td>...</td>\n",
       "      <td>...</td>\n",
       "      <td>...</td>\n",
       "      <td>...</td>\n",
       "      <td>...</td>\n",
       "      <td>...</td>\n",
       "      <td>...</td>\n",
       "    </tr>\n",
       "    <tr>\n",
       "      <th>958</th>\n",
       "      <td>1538.47</td>\n",
       "      <td>False</td>\n",
       "      <td>False</td>\n",
       "      <td>True</td>\n",
       "      <td>False</td>\n",
       "      <td>False</td>\n",
       "      <td>True</td>\n",
       "      <td>False</td>\n",
       "      <td>0</td>\n",
       "      <td>0</td>\n",
       "      <td>...</td>\n",
       "      <td>0</td>\n",
       "      <td>0</td>\n",
       "      <td>0</td>\n",
       "      <td>0</td>\n",
       "      <td>0</td>\n",
       "      <td>0</td>\n",
       "      <td>0</td>\n",
       "      <td>0</td>\n",
       "      <td>0</td>\n",
       "      <td>0</td>\n",
       "    </tr>\n",
       "    <tr>\n",
       "      <th>959</th>\n",
       "      <td>2180.24</td>\n",
       "      <td>False</td>\n",
       "      <td>False</td>\n",
       "      <td>False</td>\n",
       "      <td>True</td>\n",
       "      <td>False</td>\n",
       "      <td>False</td>\n",
       "      <td>False</td>\n",
       "      <td>0</td>\n",
       "      <td>0</td>\n",
       "      <td>...</td>\n",
       "      <td>0</td>\n",
       "      <td>0</td>\n",
       "      <td>0</td>\n",
       "      <td>0</td>\n",
       "      <td>0</td>\n",
       "      <td>0</td>\n",
       "      <td>0</td>\n",
       "      <td>0</td>\n",
       "      <td>0</td>\n",
       "      <td>0</td>\n",
       "    </tr>\n",
       "    <tr>\n",
       "      <th>960</th>\n",
       "      <td>1770.23</td>\n",
       "      <td>False</td>\n",
       "      <td>False</td>\n",
       "      <td>False</td>\n",
       "      <td>True</td>\n",
       "      <td>False</td>\n",
       "      <td>False</td>\n",
       "      <td>False</td>\n",
       "      <td>0</td>\n",
       "      <td>0</td>\n",
       "      <td>...</td>\n",
       "      <td>0</td>\n",
       "      <td>0</td>\n",
       "      <td>0</td>\n",
       "      <td>0</td>\n",
       "      <td>0</td>\n",
       "      <td>0</td>\n",
       "      <td>0</td>\n",
       "      <td>0</td>\n",
       "      <td>0</td>\n",
       "      <td>0</td>\n",
       "    </tr>\n",
       "    <tr>\n",
       "      <th>961</th>\n",
       "      <td>2917.25</td>\n",
       "      <td>False</td>\n",
       "      <td>True</td>\n",
       "      <td>False</td>\n",
       "      <td>False</td>\n",
       "      <td>True</td>\n",
       "      <td>False</td>\n",
       "      <td>False</td>\n",
       "      <td>0</td>\n",
       "      <td>0</td>\n",
       "      <td>...</td>\n",
       "      <td>0</td>\n",
       "      <td>0</td>\n",
       "      <td>0</td>\n",
       "      <td>0</td>\n",
       "      <td>0</td>\n",
       "      <td>0</td>\n",
       "      <td>0</td>\n",
       "      <td>0</td>\n",
       "      <td>0</td>\n",
       "      <td>0</td>\n",
       "    </tr>\n",
       "    <tr>\n",
       "      <th>962</th>\n",
       "      <td>1923.08</td>\n",
       "      <td>False</td>\n",
       "      <td>False</td>\n",
       "      <td>False</td>\n",
       "      <td>True</td>\n",
       "      <td>False</td>\n",
       "      <td>False</td>\n",
       "      <td>False</td>\n",
       "      <td>0</td>\n",
       "      <td>0</td>\n",
       "      <td>...</td>\n",
       "      <td>0</td>\n",
       "      <td>0</td>\n",
       "      <td>0</td>\n",
       "      <td>0</td>\n",
       "      <td>0</td>\n",
       "      <td>0</td>\n",
       "      <td>0</td>\n",
       "      <td>0</td>\n",
       "      <td>0</td>\n",
       "      <td>0</td>\n",
       "    </tr>\n",
       "  </tbody>\n",
       "</table>\n",
       "<p>963 rows × 62 columns</p>\n",
       "</div>"
      ],
      "text/plain": [
       "     biweeklt/hourly rate  director_manager  senior_chief_supervisor  \\\n",
       "0                 1076.93             False                    False   \n",
       "1                 1173.93             False                    False   \n",
       "2                 2692.31             False                     True   \n",
       "3                 2307.70              True                    False   \n",
       "4                  820.95             False                    False   \n",
       "..                    ...               ...                      ...   \n",
       "958               1538.47             False                    False   \n",
       "959               2180.24             False                    False   \n",
       "960               1770.23             False                    False   \n",
       "961               2917.25             False                     True   \n",
       "962               1923.08             False                    False   \n",
       "\n",
       "     coordinator_liason_assistant  analyst_engineer_operator  senate  senator  \\\n",
       "0                            True                      False   False     True   \n",
       "1                           False                      False   False    False   \n",
       "2                           False                       True    True    False   \n",
       "3                           False                      False   False     True   \n",
       "4                           False                      False    True    False   \n",
       "..                            ...                        ...     ...      ...   \n",
       "958                          True                      False   False     True   \n",
       "959                         False                       True   False    False   \n",
       "960                         False                       True   False    False   \n",
       "961                         False                      False    True    False   \n",
       "962                         False                       True   False    False   \n",
       "\n",
       "     legislative  city_ASTORIA  city_BAY SHORE  ...  city_SMITHTOWN  \\\n",
       "0          False             0               0  ...               0   \n",
       "1           True             0               0  ...               0   \n",
       "2          False             0               0  ...               0   \n",
       "3          False             0               0  ...               0   \n",
       "4          False             0               0  ...               0   \n",
       "..           ...           ...             ...  ...             ...   \n",
       "958        False             0               0  ...               0   \n",
       "959        False             0               0  ...               0   \n",
       "960        False             0               0  ...               0   \n",
       "961        False             0               0  ...               0   \n",
       "962        False             0               0  ...               0   \n",
       "\n",
       "     city_STATEN ISLAND  city_SYOSSET  city_SYRACUSE  city_UTICA  \\\n",
       "0                     0             0              0           0   \n",
       "1                     0             0              0           0   \n",
       "2                     0             0              0           0   \n",
       "3                     0             0              0           0   \n",
       "4                     0             0              0           0   \n",
       "..                  ...           ...            ...         ...   \n",
       "958                   0             0              0           0   \n",
       "959                   0             0              0           0   \n",
       "960                   0             0              0           0   \n",
       "961                   0             0              0           0   \n",
       "962                   0             0              0           0   \n",
       "\n",
       "     city_WATERTOWN  city_WILLIAMSVILLE  city_YONKERS  payrol type_SA  \\\n",
       "0                 0                   0             0               1   \n",
       "1                 0                   0             0               0   \n",
       "2                 0                   0             0               0   \n",
       "3                 0                   0             0               0   \n",
       "4                 0                   0             0               1   \n",
       "..              ...                 ...           ...             ...   \n",
       "958               0                   0             0               0   \n",
       "959               0                   0             0               0   \n",
       "960               0                   0             0               0   \n",
       "961               0                   0             0               0   \n",
       "962               0                   0             0               0   \n",
       "\n",
       "     payrol type_TE  \n",
       "0                 0  \n",
       "1                 0  \n",
       "2                 0  \n",
       "3                 0  \n",
       "4                 0  \n",
       "..              ...  \n",
       "958               0  \n",
       "959               0  \n",
       "960               0  \n",
       "961               0  \n",
       "962               0  \n",
       "\n",
       "[963 rows x 62 columns]"
      ]
     },
     "execution_count": 33,
     "metadata": {},
     "output_type": "execute_result"
    }
   ],
   "source": [
    "df2"
   ]
  },
  {
   "cell_type": "code",
   "execution_count": 34,
   "metadata": {
    "id": "L1uZpODdHcKk"
   },
   "outputs": [],
   "source": [
    "X = df2.drop(\"biweeklt/hourly rate\",axis=1)\n",
    "y = df2[\"biweeklt/hourly rate\"]"
   ]
  },
  {
   "cell_type": "code",
   "execution_count": 35,
   "metadata": {
    "colab": {
     "base_uri": "https://localhost:8080/",
     "height": 17
    },
    "id": "mNXjVOg5If4z",
    "outputId": "3d396d65-85f1-4a6f-d500-66436915913a"
   },
   "outputs": [
    {
     "data": {
      "application/javascript": [
       "\n",
       "        if (window._pyforest_update_imports_cell) { window._pyforest_update_imports_cell('import pandas as pd\\nfrom sklearn.model_selection import train_test_split'); }\n",
       "    "
      ],
      "text/plain": [
       "<IPython.core.display.Javascript object>"
      ]
     },
     "metadata": {},
     "output_type": "display_data"
    }
   ],
   "source": [
    "X_train, X_test, y_train, y_test = train_test_split(X, y, test_size=0.1, random_state=42)"
   ]
  },
  {
   "cell_type": "markdown",
   "metadata": {},
   "source": [
    "# Ridge Regression"
   ]
  },
  {
   "cell_type": "code",
   "execution_count": 37,
   "metadata": {},
   "outputs": [
    {
     "data": {
      "application/javascript": [
       "\n",
       "        if (window._pyforest_update_imports_cell) { window._pyforest_update_imports_cell('import numpy as np\\nimport pandas as pd\\nfrom sklearn.model_selection import train_test_split'); }\n",
       "    "
      ],
      "text/plain": [
       "<IPython.core.display.Javascript object>"
      ]
     },
     "metadata": {},
     "output_type": "display_data"
    }
   ],
   "source": [
    "alpha_space = np.linspace(0.01, 20, 300)"
   ]
  },
  {
   "cell_type": "code",
   "execution_count": 38,
   "metadata": {},
   "outputs": [],
   "source": [
    "ridgecv = RidgeCV(alphas=alpha_space, cv=10).fit(X_train, y_train)"
   ]
  },
  {
   "cell_type": "code",
   "execution_count": 39,
   "metadata": {},
   "outputs": [
    {
     "data": {
      "text/plain": [
       "5.492207357859532"
      ]
     },
     "execution_count": 39,
     "metadata": {},
     "output_type": "execute_result"
    }
   ],
   "source": [
    "ridgecv.alpha_"
   ]
  },
  {
   "cell_type": "code",
   "execution_count": 40,
   "metadata": {},
   "outputs": [],
   "source": [
    "index= [\"Actual\", \"Prediction\"]"
   ]
  },
  {
   "cell_type": "code",
   "execution_count": 41,
   "metadata": {},
   "outputs": [],
   "source": [
    "ypred = ridgecv.predict(X_test)"
   ]
  },
  {
   "cell_type": "code",
   "execution_count": 42,
   "metadata": {},
   "outputs": [],
   "source": [
    "ytrain_pred = ridgecv.predict(X_train)"
   ]
  },
  {
   "cell_type": "code",
   "execution_count": 43,
   "metadata": {},
   "outputs": [
    {
     "data": {
      "application/javascript": [
       "\n",
       "        if (window._pyforest_update_imports_cell) { window._pyforest_update_imports_cell('import numpy as np\\nimport pandas as pd\\nfrom sklearn.model_selection import train_test_split'); }\n",
       "    "
      ],
      "text/plain": [
       "<IPython.core.display.Javascript object>"
      ]
     },
     "metadata": {},
     "output_type": "display_data"
    },
    {
     "data": {
      "text/html": [
       "<div>\n",
       "<style scoped>\n",
       "    .dataframe tbody tr th:only-of-type {\n",
       "        vertical-align: middle;\n",
       "    }\n",
       "\n",
       "    .dataframe tbody tr th {\n",
       "        vertical-align: top;\n",
       "    }\n",
       "\n",
       "    .dataframe thead th {\n",
       "        text-align: right;\n",
       "    }\n",
       "</style>\n",
       "<table border=\"1\" class=\"dataframe\">\n",
       "  <thead>\n",
       "    <tr style=\"text-align: right;\">\n",
       "      <th></th>\n",
       "      <th>Actual</th>\n",
       "      <th>Prediction</th>\n",
       "    </tr>\n",
       "  </thead>\n",
       "  <tbody>\n",
       "    <tr>\n",
       "      <th>79</th>\n",
       "      <td>1157.000745</td>\n",
       "      <td>392.31</td>\n",
       "    </tr>\n",
       "    <tr>\n",
       "      <th>84</th>\n",
       "      <td>2119.789487</td>\n",
       "      <td>1538.47</td>\n",
       "    </tr>\n",
       "    <tr>\n",
       "      <th>94</th>\n",
       "      <td>2217.915406</td>\n",
       "      <td>2884.62</td>\n",
       "    </tr>\n",
       "    <tr>\n",
       "      <th>69</th>\n",
       "      <td>2558.806141</td>\n",
       "      <td>2500.00</td>\n",
       "    </tr>\n",
       "    <tr>\n",
       "      <th>67</th>\n",
       "      <td>2119.789487</td>\n",
       "      <td>2712.31</td>\n",
       "    </tr>\n",
       "    <tr>\n",
       "      <th>23</th>\n",
       "      <td>1699.696269</td>\n",
       "      <td>961.54</td>\n",
       "    </tr>\n",
       "    <tr>\n",
       "      <th>59</th>\n",
       "      <td>1521.683161</td>\n",
       "      <td>1571.43</td>\n",
       "    </tr>\n",
       "    <tr>\n",
       "      <th>57</th>\n",
       "      <td>1676.016148</td>\n",
       "      <td>2153.85</td>\n",
       "    </tr>\n",
       "    <tr>\n",
       "      <th>24</th>\n",
       "      <td>1599.490040</td>\n",
       "      <td>1423.08</td>\n",
       "    </tr>\n",
       "    <tr>\n",
       "      <th>18</th>\n",
       "      <td>870.946791</td>\n",
       "      <td>1057.70</td>\n",
       "    </tr>\n",
       "  </tbody>\n",
       "</table>\n",
       "</div>"
      ],
      "text/plain": [
       "         Actual  Prediction\n",
       "79  1157.000745      392.31\n",
       "84  2119.789487     1538.47\n",
       "94  2217.915406     2884.62\n",
       "69  2558.806141     2500.00\n",
       "67  2119.789487     2712.31\n",
       "23  1699.696269      961.54\n",
       "59  1521.683161     1571.43\n",
       "57  1676.016148     2153.85\n",
       "24  1599.490040     1423.08\n",
       "18   870.946791     1057.70"
      ]
     },
     "execution_count": 43,
     "metadata": {},
     "output_type": "execute_result"
    }
   ],
   "source": [
    "pd.DataFrame([ypred,y_test], index= [\"Actual\", \"Prediction\"]).T.sample(10)"
   ]
  },
  {
   "cell_type": "code",
   "execution_count": 44,
   "metadata": {},
   "outputs": [
    {
     "data": {
      "text/plain": [
       "0.45492686728673987"
      ]
     },
     "execution_count": 44,
     "metadata": {},
     "output_type": "execute_result"
    }
   ],
   "source": [
    "ridgecv.best_score_"
   ]
  },
  {
   "cell_type": "code",
   "execution_count": 45,
   "metadata": {},
   "outputs": [
    {
     "data": {
      "text/plain": [
       "0.4919533175802203"
      ]
     },
     "execution_count": 45,
     "metadata": {},
     "output_type": "execute_result"
    }
   ],
   "source": [
    "ridgecv.score(X_train, y_train)"
   ]
  },
  {
   "cell_type": "code",
   "execution_count": 46,
   "metadata": {},
   "outputs": [
    {
     "data": {
      "text/plain": [
       "0.3617952116573703"
      ]
     },
     "execution_count": 46,
     "metadata": {},
     "output_type": "execute_result"
    }
   ],
   "source": [
    "ridgecv.score(X_test, y_test)"
   ]
  },
  {
   "cell_type": "markdown",
   "metadata": {},
   "source": [
    "* Ridge Regression Failed(Underfitting)"
   ]
  },
  {
   "cell_type": "markdown",
   "metadata": {
    "tags": []
   },
   "source": [
    "# Lasso Regression"
   ]
  },
  {
   "cell_type": "code",
   "execution_count": 47,
   "metadata": {
    "colab": {
     "base_uri": "https://localhost:8080/",
     "height": 17
    },
    "id": "aT-DJPL_Hrg5",
    "outputId": "07e81a28-9936-4b88-d711-8afe31af4cff"
   },
   "outputs": [],
   "source": [
    "lasso_cv_model = LassoCV(alphas = alpha_space,  cv = 10, max_iter = 1000, n_jobs =-1).fit(X_train, y_train)"
   ]
  },
  {
   "cell_type": "code",
   "execution_count": 48,
   "metadata": {
    "colab": {
     "base_uri": "https://localhost:8080/"
    },
    "id": "WrQJ2fnRIJpR",
    "outputId": "76b2ba59-6246-46c6-84ab-5e926712c168"
   },
   "outputs": [
    {
     "data": {
      "text/plain": [
       "2.349966555183946"
      ]
     },
     "execution_count": 48,
     "metadata": {},
     "output_type": "execute_result"
    }
   ],
   "source": [
    "lasso_cv_model.alpha_"
   ]
  },
  {
   "cell_type": "code",
   "execution_count": 49,
   "metadata": {
    "id": "ZNSY0KpsIbWE"
   },
   "outputs": [],
   "source": [
    "ypred = lasso_cv_model.predict(X_test)"
   ]
  },
  {
   "cell_type": "code",
   "execution_count": 50,
   "metadata": {
    "id": "jzg9jukTI1Vj"
   },
   "outputs": [],
   "source": [
    "ytrain_pred = lasso_cv_model.predict(X_train)"
   ]
  },
  {
   "cell_type": "code",
   "execution_count": 51,
   "metadata": {
    "colab": {
     "base_uri": "https://localhost:8080/",
     "height": 419
    },
    "id": "phP_TRXJI9ey",
    "outputId": "1a76afe1-d95e-46b6-a47c-587c9b13bc80"
   },
   "outputs": [
    {
     "data": {
      "application/javascript": [
       "\n",
       "        if (window._pyforest_update_imports_cell) { window._pyforest_update_imports_cell('import numpy as np\\nimport pandas as pd\\nfrom sklearn.model_selection import train_test_split'); }\n",
       "    "
      ],
      "text/plain": [
       "<IPython.core.display.Javascript object>"
      ]
     },
     "metadata": {},
     "output_type": "display_data"
    },
    {
     "data": {
      "text/html": [
       "<div>\n",
       "<style scoped>\n",
       "    .dataframe tbody tr th:only-of-type {\n",
       "        vertical-align: middle;\n",
       "    }\n",
       "\n",
       "    .dataframe tbody tr th {\n",
       "        vertical-align: top;\n",
       "    }\n",
       "\n",
       "    .dataframe thead th {\n",
       "        text-align: right;\n",
       "    }\n",
       "</style>\n",
       "<table border=\"1\" class=\"dataframe\">\n",
       "  <thead>\n",
       "    <tr style=\"text-align: right;\">\n",
       "      <th></th>\n",
       "      <th>Actual</th>\n",
       "      <th>Prediction</th>\n",
       "    </tr>\n",
       "  </thead>\n",
       "  <tbody>\n",
       "    <tr>\n",
       "      <th>28</th>\n",
       "      <td>1699.642782</td>\n",
       "      <td>1884.62</td>\n",
       "    </tr>\n",
       "    <tr>\n",
       "      <th>45</th>\n",
       "      <td>2867.982244</td>\n",
       "      <td>4615.39</td>\n",
       "    </tr>\n",
       "    <tr>\n",
       "      <th>71</th>\n",
       "      <td>2799.748188</td>\n",
       "      <td>2307.70</td>\n",
       "    </tr>\n",
       "    <tr>\n",
       "      <th>96</th>\n",
       "      <td>2125.703519</td>\n",
       "      <td>1625.54</td>\n",
       "    </tr>\n",
       "    <tr>\n",
       "      <th>92</th>\n",
       "      <td>1500.714910</td>\n",
       "      <td>1224.00</td>\n",
       "    </tr>\n",
       "    <tr>\n",
       "      <th>29</th>\n",
       "      <td>2521.048833</td>\n",
       "      <td>2115.39</td>\n",
       "    </tr>\n",
       "    <tr>\n",
       "      <th>91</th>\n",
       "      <td>1947.721723</td>\n",
       "      <td>1634.62</td>\n",
       "    </tr>\n",
       "    <tr>\n",
       "      <th>74</th>\n",
       "      <td>1947.721723</td>\n",
       "      <td>2115.39</td>\n",
       "    </tr>\n",
       "    <tr>\n",
       "      <th>77</th>\n",
       "      <td>1691.900719</td>\n",
       "      <td>1730.77</td>\n",
       "    </tr>\n",
       "    <tr>\n",
       "      <th>34</th>\n",
       "      <td>1829.450259</td>\n",
       "      <td>1538.47</td>\n",
       "    </tr>\n",
       "  </tbody>\n",
       "</table>\n",
       "</div>"
      ],
      "text/plain": [
       "         Actual  Prediction\n",
       "28  1699.642782     1884.62\n",
       "45  2867.982244     4615.39\n",
       "71  2799.748188     2307.70\n",
       "96  2125.703519     1625.54\n",
       "92  1500.714910     1224.00\n",
       "29  2521.048833     2115.39\n",
       "91  1947.721723     1634.62\n",
       "74  1947.721723     2115.39\n",
       "77  1691.900719     1730.77\n",
       "34  1829.450259     1538.47"
      ]
     },
     "execution_count": 51,
     "metadata": {},
     "output_type": "execute_result"
    }
   ],
   "source": [
    "pd.DataFrame([ypred,y_test], index= [\"Actual\", \"Prediction\"]).T.sample(10)"
   ]
  },
  {
   "cell_type": "code",
   "execution_count": 52,
   "metadata": {
    "colab": {
     "base_uri": "https://localhost:8080/"
    },
    "id": "cK1GTaMsJCQ5",
    "outputId": "dd1f3dfb-8905-443c-e91b-682fdf5e6387"
   },
   "outputs": [
    {
     "data": {
      "text/plain": [
       "0.47873101067710366"
      ]
     },
     "execution_count": 52,
     "metadata": {},
     "output_type": "execute_result"
    }
   ],
   "source": [
    "r2_score(y_train, ytrain_pred)"
   ]
  },
  {
   "cell_type": "code",
   "execution_count": 53,
   "metadata": {
    "colab": {
     "base_uri": "https://localhost:8080/"
    },
    "id": "V0lLeBcjJOwl",
    "outputId": "d7fb78bf-c224-48e1-d376-0817bea6e6d1"
   },
   "outputs": [
    {
     "data": {
      "text/plain": [
       "0.34174824000238235"
      ]
     },
     "execution_count": 53,
     "metadata": {},
     "output_type": "execute_result"
    }
   ],
   "source": [
    "r2_score(y_test, ypred)"
   ]
  },
  {
   "cell_type": "markdown",
   "metadata": {},
   "source": [
    "* Lasso Regression Failed (Underfitting)"
   ]
  },
  {
   "cell_type": "markdown",
   "metadata": {},
   "source": [
    "# KNN Regressor"
   ]
  },
  {
   "cell_type": "code",
   "execution_count": 54,
   "metadata": {},
   "outputs": [],
   "source": [
    "from sklearn.neighbors import KNeighborsRegressor"
   ]
  },
  {
   "cell_type": "code",
   "execution_count": 55,
   "metadata": {
    "colab": {
     "base_uri": "https://localhost:8080/",
     "height": 17
    },
    "id": "6FH2RjK_JWv-",
    "outputId": "88d584f7-c44e-40c6-c1d9-98993bdee4a6"
   },
   "outputs": [],
   "source": [
    "model = KNeighborsRegressor()"
   ]
  },
  {
   "cell_type": "code",
   "execution_count": 56,
   "metadata": {
    "colab": {
     "base_uri": "https://localhost:8080/"
    },
    "id": "ghBQNCuxJvyu",
    "outputId": "dc8ca897-b4e3-47be-9a7e-d5e82e65b390"
   },
   "outputs": [
    {
     "data": {
      "text/plain": [
       "KNeighborsRegressor()"
      ]
     },
     "execution_count": 56,
     "metadata": {},
     "output_type": "execute_result"
    }
   ],
   "source": [
    "model.fit(X_train,y_train)"
   ]
  },
  {
   "cell_type": "code",
   "execution_count": 57,
   "metadata": {
    "id": "EgRTT0FwJ46c"
   },
   "outputs": [],
   "source": [
    "ypred = model.predict(X_test)"
   ]
  },
  {
   "cell_type": "code",
   "execution_count": 58,
   "metadata": {
    "id": "Gk1rKNTKKAq3"
   },
   "outputs": [],
   "source": [
    "ytrain_pred = model.predict(X_train)"
   ]
  },
  {
   "cell_type": "code",
   "execution_count": 59,
   "metadata": {
    "colab": {
     "base_uri": "https://localhost:8080/",
     "height": 419
    },
    "id": "LeHCjuSSKEPH",
    "outputId": "efade7aa-26f1-4e73-a0fd-2a9f35de9275"
   },
   "outputs": [
    {
     "data": {
      "application/javascript": [
       "\n",
       "        if (window._pyforest_update_imports_cell) { window._pyforest_update_imports_cell('import numpy as np\\nimport pandas as pd\\nfrom sklearn.model_selection import train_test_split'); }\n",
       "    "
      ],
      "text/plain": [
       "<IPython.core.display.Javascript object>"
      ]
     },
     "metadata": {},
     "output_type": "display_data"
    },
    {
     "data": {
      "text/html": [
       "<div>\n",
       "<style scoped>\n",
       "    .dataframe tbody tr th:only-of-type {\n",
       "        vertical-align: middle;\n",
       "    }\n",
       "\n",
       "    .dataframe tbody tr th {\n",
       "        vertical-align: top;\n",
       "    }\n",
       "\n",
       "    .dataframe thead th {\n",
       "        text-align: right;\n",
       "    }\n",
       "</style>\n",
       "<table border=\"1\" class=\"dataframe\">\n",
       "  <thead>\n",
       "    <tr style=\"text-align: right;\">\n",
       "      <th></th>\n",
       "      <th>Actual</th>\n",
       "      <th>Prediction</th>\n",
       "    </tr>\n",
       "  </thead>\n",
       "  <tbody>\n",
       "    <tr>\n",
       "      <th>62</th>\n",
       "      <td>1990.872</td>\n",
       "      <td>1774.97</td>\n",
       "    </tr>\n",
       "    <tr>\n",
       "      <th>61</th>\n",
       "      <td>1592.312</td>\n",
       "      <td>1538.47</td>\n",
       "    </tr>\n",
       "    <tr>\n",
       "      <th>46</th>\n",
       "      <td>3653.084</td>\n",
       "      <td>2384.62</td>\n",
       "    </tr>\n",
       "    <tr>\n",
       "      <th>37</th>\n",
       "      <td>1269.236</td>\n",
       "      <td>2788.47</td>\n",
       "    </tr>\n",
       "    <tr>\n",
       "      <th>72</th>\n",
       "      <td>2266.954</td>\n",
       "      <td>2041.67</td>\n",
       "    </tr>\n",
       "    <tr>\n",
       "      <th>74</th>\n",
       "      <td>1990.872</td>\n",
       "      <td>2115.39</td>\n",
       "    </tr>\n",
       "    <tr>\n",
       "      <th>32</th>\n",
       "      <td>1677.694</td>\n",
       "      <td>888.00</td>\n",
       "    </tr>\n",
       "    <tr>\n",
       "      <th>31</th>\n",
       "      <td>1976.444</td>\n",
       "      <td>2884.62</td>\n",
       "    </tr>\n",
       "    <tr>\n",
       "      <th>57</th>\n",
       "      <td>1583.698</td>\n",
       "      <td>2153.85</td>\n",
       "    </tr>\n",
       "    <tr>\n",
       "      <th>28</th>\n",
       "      <td>2386.592</td>\n",
       "      <td>1884.62</td>\n",
       "    </tr>\n",
       "  </tbody>\n",
       "</table>\n",
       "</div>"
      ],
      "text/plain": [
       "      Actual  Prediction\n",
       "62  1990.872     1774.97\n",
       "61  1592.312     1538.47\n",
       "46  3653.084     2384.62\n",
       "37  1269.236     2788.47\n",
       "72  2266.954     2041.67\n",
       "74  1990.872     2115.39\n",
       "32  1677.694      888.00\n",
       "31  1976.444     2884.62\n",
       "57  1583.698     2153.85\n",
       "28  2386.592     1884.62"
      ]
     },
     "execution_count": 59,
     "metadata": {},
     "output_type": "execute_result"
    }
   ],
   "source": [
    "pd.DataFrame([ypred,y_test], index= [\"Actual\", \"Prediction\"]).T.sample(10)"
   ]
  },
  {
   "cell_type": "code",
   "execution_count": 60,
   "metadata": {
    "colab": {
     "base_uri": "https://localhost:8080/"
    },
    "id": "iXbvOd_YKMem",
    "outputId": "c66b06ea-70db-4896-a997-b3ea4a3d3d7f"
   },
   "outputs": [
    {
     "data": {
      "text/plain": [
       "0.5544405763545509"
      ]
     },
     "execution_count": 60,
     "metadata": {},
     "output_type": "execute_result"
    }
   ],
   "source": [
    "r2_score(y_train, ytrain_pred)"
   ]
  },
  {
   "cell_type": "code",
   "execution_count": 61,
   "metadata": {
    "colab": {
     "base_uri": "https://localhost:8080/"
    },
    "id": "ltE5oGW4KR_1",
    "outputId": "b6f393e4-6079-4b1c-980f-c4ccc0028404"
   },
   "outputs": [
    {
     "data": {
      "text/plain": [
       "0.15401586904167786"
      ]
     },
     "execution_count": 61,
     "metadata": {},
     "output_type": "execute_result"
    }
   ],
   "source": [
    "r2_score(y_test, ypred)"
   ]
  },
  {
   "cell_type": "code",
   "execution_count": 62,
   "metadata": {},
   "outputs": [],
   "source": [
    "# KNN GridSearchCV"
   ]
  },
  {
   "cell_type": "code",
   "execution_count": 63,
   "metadata": {
    "id": "ZONhV_cNKXvt"
   },
   "outputs": [],
   "source": [
    "from sklearn.model_selection import GridSearchCV"
   ]
  },
  {
   "cell_type": "code",
   "execution_count": 64,
   "metadata": {},
   "outputs": [],
   "source": [
    "knn_grid = KNeighborsRegressor()"
   ]
  },
  {
   "cell_type": "code",
   "execution_count": 65,
   "metadata": {},
   "outputs": [],
   "source": [
    "k_values= range(1,30)"
   ]
  },
  {
   "cell_type": "code",
   "execution_count": 66,
   "metadata": {},
   "outputs": [],
   "source": [
    "param_grid = {\"n_neighbors\":k_values ,\"p\":[1,2], \"weights\": ['uniform',\"distance\"]}"
   ]
  },
  {
   "cell_type": "code",
   "execution_count": 67,
   "metadata": {},
   "outputs": [],
   "source": [
    "knn_grid_model = GridSearchCV(knn_grid, param_grid, cv=10, scoring= 'r2')"
   ]
  },
  {
   "cell_type": "code",
   "execution_count": 68,
   "metadata": {},
   "outputs": [
    {
     "data": {
      "text/plain": [
       "GridSearchCV(cv=10, estimator=KNeighborsRegressor(),\n",
       "             param_grid={'n_neighbors': range(1, 30), 'p': [1, 2],\n",
       "                         'weights': ['uniform', 'distance']},\n",
       "             scoring='r2')"
      ]
     },
     "execution_count": 68,
     "metadata": {},
     "output_type": "execute_result"
    }
   ],
   "source": [
    "knn_grid_model.fit(X_train, y_train)"
   ]
  },
  {
   "cell_type": "code",
   "execution_count": 69,
   "metadata": {},
   "outputs": [
    {
     "data": {
      "text/plain": [
       "KNeighborsRegressor(n_neighbors=16, p=1)"
      ]
     },
     "execution_count": 69,
     "metadata": {},
     "output_type": "execute_result"
    }
   ],
   "source": [
    "knn_grid_model.best_estimator_"
   ]
  },
  {
   "cell_type": "code",
   "execution_count": 70,
   "metadata": {},
   "outputs": [
    {
     "data": {
      "text/plain": [
       "{'n_neighbors': 16, 'p': 1, 'weights': 'uniform'}"
      ]
     },
     "execution_count": 70,
     "metadata": {},
     "output_type": "execute_result"
    }
   ],
   "source": [
    "knn_grid_model.best_params_"
   ]
  },
  {
   "cell_type": "code",
   "execution_count": 71,
   "metadata": {},
   "outputs": [],
   "source": [
    "ypred = knn_grid_model.predict(X_test)"
   ]
  },
  {
   "cell_type": "code",
   "execution_count": 72,
   "metadata": {},
   "outputs": [],
   "source": [
    "ytrain_pred = knn_grid_model.predict(X_train)"
   ]
  },
  {
   "cell_type": "code",
   "execution_count": 73,
   "metadata": {},
   "outputs": [
    {
     "data": {
      "application/javascript": [
       "\n",
       "        if (window._pyforest_update_imports_cell) { window._pyforest_update_imports_cell('import numpy as np\\nimport pandas as pd\\nfrom sklearn.model_selection import train_test_split'); }\n",
       "    "
      ],
      "text/plain": [
       "<IPython.core.display.Javascript object>"
      ]
     },
     "metadata": {},
     "output_type": "display_data"
    },
    {
     "data": {
      "text/html": [
       "<div>\n",
       "<style scoped>\n",
       "    .dataframe tbody tr th:only-of-type {\n",
       "        vertical-align: middle;\n",
       "    }\n",
       "\n",
       "    .dataframe tbody tr th {\n",
       "        vertical-align: top;\n",
       "    }\n",
       "\n",
       "    .dataframe thead th {\n",
       "        text-align: right;\n",
       "    }\n",
       "</style>\n",
       "<table border=\"1\" class=\"dataframe\">\n",
       "  <thead>\n",
       "    <tr style=\"text-align: right;\">\n",
       "      <th></th>\n",
       "      <th>Actual</th>\n",
       "      <th>Prediction</th>\n",
       "    </tr>\n",
       "  </thead>\n",
       "  <tbody>\n",
       "    <tr>\n",
       "      <th>21</th>\n",
       "      <td>2262.589375</td>\n",
       "      <td>2769.24</td>\n",
       "    </tr>\n",
       "    <tr>\n",
       "      <th>51</th>\n",
       "      <td>2296.328750</td>\n",
       "      <td>2167.08</td>\n",
       "    </tr>\n",
       "    <tr>\n",
       "      <th>25</th>\n",
       "      <td>1132.110000</td>\n",
       "      <td>769.24</td>\n",
       "    </tr>\n",
       "    <tr>\n",
       "      <th>29</th>\n",
       "      <td>2447.119375</td>\n",
       "      <td>2115.39</td>\n",
       "    </tr>\n",
       "    <tr>\n",
       "      <th>62</th>\n",
       "      <td>2000.624375</td>\n",
       "      <td>1774.97</td>\n",
       "    </tr>\n",
       "    <tr>\n",
       "      <th>59</th>\n",
       "      <td>1517.544375</td>\n",
       "      <td>1571.43</td>\n",
       "    </tr>\n",
       "    <tr>\n",
       "      <th>80</th>\n",
       "      <td>2020.776875</td>\n",
       "      <td>1538.47</td>\n",
       "    </tr>\n",
       "    <tr>\n",
       "      <th>52</th>\n",
       "      <td>1908.123750</td>\n",
       "      <td>692.31</td>\n",
       "    </tr>\n",
       "    <tr>\n",
       "      <th>30</th>\n",
       "      <td>1982.370000</td>\n",
       "      <td>2000.00</td>\n",
       "    </tr>\n",
       "    <tr>\n",
       "      <th>72</th>\n",
       "      <td>2296.328750</td>\n",
       "      <td>2041.67</td>\n",
       "    </tr>\n",
       "  </tbody>\n",
       "</table>\n",
       "</div>"
      ],
      "text/plain": [
       "         Actual  Prediction\n",
       "21  2262.589375     2769.24\n",
       "51  2296.328750     2167.08\n",
       "25  1132.110000      769.24\n",
       "29  2447.119375     2115.39\n",
       "62  2000.624375     1774.97\n",
       "59  1517.544375     1571.43\n",
       "80  2020.776875     1538.47\n",
       "52  1908.123750      692.31\n",
       "30  1982.370000     2000.00\n",
       "72  2296.328750     2041.67"
      ]
     },
     "execution_count": 73,
     "metadata": {},
     "output_type": "execute_result"
    }
   ],
   "source": [
    "pd.DataFrame([ypred,y_test], index= [\"Actual\", \"Prediction\"]).T.sample(10)"
   ]
  },
  {
   "cell_type": "code",
   "execution_count": 74,
   "metadata": {},
   "outputs": [
    {
     "data": {
      "text/plain": [
       "0.5363943531326361"
      ]
     },
     "execution_count": 74,
     "metadata": {},
     "output_type": "execute_result"
    }
   ],
   "source": [
    "r2_score(y_train, ytrain_pred)"
   ]
  },
  {
   "cell_type": "code",
   "execution_count": 75,
   "metadata": {},
   "outputs": [
    {
     "data": {
      "text/plain": [
       "0.27701303368740815"
      ]
     },
     "execution_count": 75,
     "metadata": {},
     "output_type": "execute_result"
    }
   ],
   "source": [
    "r2_score(y_test, ypred)"
   ]
  },
  {
   "cell_type": "markdown",
   "metadata": {},
   "source": [
    "* KNN Failed(underfittin)"
   ]
  },
  {
   "cell_type": "markdown",
   "metadata": {},
   "source": [
    "## What would you suggest about this project? Writedown below."
   ]
  },
  {
   "cell_type": "markdown",
   "metadata": {},
   "source": []
  }
 ],
 "metadata": {
  "colab": {
   "name": "Payrol.ipynb",
   "provenance": []
  },
  "kernelspec": {
   "display_name": "Python 3",
   "language": "python",
   "name": "python3"
  },
  "language_info": {
   "codemirror_mode": {
    "name": "ipython",
    "version": 3
   },
   "file_extension": ".py",
   "mimetype": "text/x-python",
   "name": "python",
   "nbconvert_exporter": "python",
   "pygments_lexer": "ipython3",
   "version": "3.8.10"
  }
 },
 "nbformat": 4,
 "nbformat_minor": 4
}
