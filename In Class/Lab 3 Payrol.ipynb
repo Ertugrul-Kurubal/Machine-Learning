{
 "cells": [
  {
   "cell_type": "code",
   "execution_count": 45,
   "id": "5a7d2cd2",
   "metadata": {},
   "outputs": [],
   "source": [
    "import pandas as pd\n",
    "import numpy as np\n",
    "import matplotlib.pyplot as plt\n",
    "import seaborn as sns\n",
    "from sklearn.model_selection import train_test_split\n",
    "from sklearn.linear_model import LinearRegression\n",
    "import scipy.stats as stats\n",
    "from yellowbrick.regressor import AlphaSelection, PredictionError, ResidualsPlot\n",
    "from yellowbrick.model_selection import FeatureImportances\n",
    "from sklearn.linear_model import Ridge, RidgeCV, ElasticNet, ElasticNetCV, Lasso, LassoCV\n",
    "from sklearn.model_selection import cross_validate, cross_val_score, GridSearchCV\n",
    "from sklearn.metrics import mean_squared_error, mean_absolute_error, r2_score"
   ]
  },
  {
   "cell_type": "code",
   "execution_count": 4,
   "id": "0f2a0b6c",
   "metadata": {},
   "outputs": [],
   "source": [
    "df = pd.read_csv(\"PAYROL_NY_STATE.csv\")"
   ]
  },
  {
   "cell_type": "code",
   "execution_count": 5,
   "id": "2610a224",
   "metadata": {
    "scrolled": false
   },
   "outputs": [
    {
     "data": {
      "text/html": [
       "<div>\n",
       "<style scoped>\n",
       "    .dataframe tbody tr th:only-of-type {\n",
       "        vertical-align: middle;\n",
       "    }\n",
       "\n",
       "    .dataframe tbody tr th {\n",
       "        vertical-align: top;\n",
       "    }\n",
       "\n",
       "    .dataframe thead th {\n",
       "        text-align: right;\n",
       "    }\n",
       "</style>\n",
       "<table border=\"1\" class=\"dataframe\">\n",
       "  <thead>\n",
       "    <tr style=\"text-align: right;\">\n",
       "      <th></th>\n",
       "      <th>NAME</th>\n",
       "      <th>OFFICE</th>\n",
       "      <th>TITLE</th>\n",
       "      <th>CITY</th>\n",
       "      <th>BIWEEKLT/HOURLY RATE</th>\n",
       "      <th>PAYROL TYPE</th>\n",
       "      <th>PAY PERIOD</th>\n",
       "      <th>LEGISLATIVE ENTITY</th>\n",
       "    </tr>\n",
       "  </thead>\n",
       "  <tbody>\n",
       "    <tr>\n",
       "      <th>0</th>\n",
       "      <td>ABBOT, JUDITH L</td>\n",
       "      <td>SENATOR TOBY ANN STAVISKY</td>\n",
       "      <td>COMMUNITY LIAISON</td>\n",
       "      <td>FLUSHING</td>\n",
       "      <td>1076.93</td>\n",
       "      <td>SA</td>\n",
       "      <td>4</td>\n",
       "      <td>SENATE EMPLOYEE</td>\n",
       "    </tr>\n",
       "    <tr>\n",
       "      <th>1</th>\n",
       "      <td>ABREU, BRIAN A</td>\n",
       "      <td>LEGISLATIVE MESSENGER SERVICE</td>\n",
       "      <td>MESSENGER</td>\n",
       "      <td>ALBANY</td>\n",
       "      <td>1173.93</td>\n",
       "      <td>RA</td>\n",
       "      <td>4</td>\n",
       "      <td>JOINT LEGISLATIVE EMPLOYEE</td>\n",
       "    </tr>\n",
       "    <tr>\n",
       "      <th>2</th>\n",
       "      <td>ABREU, TYDIE Z</td>\n",
       "      <td>SENATE FINANCE COMMITTEE/MAJORITY</td>\n",
       "      <td>SENIOR ANALYST</td>\n",
       "      <td>ALBANY</td>\n",
       "      <td>2692.31</td>\n",
       "      <td>RA</td>\n",
       "      <td>4</td>\n",
       "      <td>SENATE EMPLOYEE</td>\n",
       "    </tr>\n",
       "    <tr>\n",
       "      <th>3</th>\n",
       "      <td>ACEVEDO, SAMANTHA I</td>\n",
       "      <td>SENATOR JESSICA RAMOS</td>\n",
       "      <td>SR. DIR. LEG. AFFRS / COMMITTEE DIR.</td>\n",
       "      <td>ALBANY</td>\n",
       "      <td>2307.70</td>\n",
       "      <td>RA</td>\n",
       "      <td>4</td>\n",
       "      <td>SENATE EMPLOYEE</td>\n",
       "    </tr>\n",
       "    <tr>\n",
       "      <th>4</th>\n",
       "      <td>ADAMS, DAVID V</td>\n",
       "      <td>SENATE SERGEANT-AT-ARMS</td>\n",
       "      <td>SESSION SERGEANT-AT-ARMS</td>\n",
       "      <td>ALBANY</td>\n",
       "      <td>820.95</td>\n",
       "      <td>SA</td>\n",
       "      <td>4</td>\n",
       "      <td>SENATE EMPLOYEE</td>\n",
       "    </tr>\n",
       "  </tbody>\n",
       "</table>\n",
       "</div>"
      ],
      "text/plain": [
       "                  NAME                             OFFICE  \\\n",
       "0      ABBOT, JUDITH L          SENATOR TOBY ANN STAVISKY   \n",
       "1       ABREU, BRIAN A      LEGISLATIVE MESSENGER SERVICE   \n",
       "2       ABREU, TYDIE Z  SENATE FINANCE COMMITTEE/MAJORITY   \n",
       "3  ACEVEDO, SAMANTHA I              SENATOR JESSICA RAMOS   \n",
       "4       ADAMS, DAVID V            SENATE SERGEANT-AT-ARMS   \n",
       "\n",
       "                                  TITLE      CITY  BIWEEKLT/HOURLY RATE  \\\n",
       "0                     COMMUNITY LIAISON  FLUSHING               1076.93   \n",
       "1                             MESSENGER    ALBANY               1173.93   \n",
       "2                        SENIOR ANALYST    ALBANY               2692.31   \n",
       "3  SR. DIR. LEG. AFFRS / COMMITTEE DIR.    ALBANY               2307.70   \n",
       "4              SESSION SERGEANT-AT-ARMS    ALBANY                820.95   \n",
       "\n",
       "  PAYROL TYPE  PAY PERIOD          LEGISLATIVE ENTITY  \n",
       "0          SA           4             SENATE EMPLOYEE  \n",
       "1          RA           4  JOINT LEGISLATIVE EMPLOYEE  \n",
       "2          RA           4             SENATE EMPLOYEE  \n",
       "3          RA           4             SENATE EMPLOYEE  \n",
       "4          SA           4             SENATE EMPLOYEE  "
      ]
     },
     "execution_count": 5,
     "metadata": {},
     "output_type": "execute_result"
    }
   ],
   "source": [
    "df.head()"
   ]
  },
  {
   "cell_type": "code",
   "execution_count": 6,
   "id": "b5843a31",
   "metadata": {
    "scrolled": true
   },
   "outputs": [
    {
     "name": "stdout",
     "output_type": "stream",
     "text": [
      "<class 'pandas.core.frame.DataFrame'>\n",
      "RangeIndex: 1000 entries, 0 to 999\n",
      "Data columns (total 8 columns):\n",
      " #   Column                Non-Null Count  Dtype  \n",
      "---  ------                --------------  -----  \n",
      " 0   NAME                  1000 non-null   object \n",
      " 1   OFFICE                1000 non-null   object \n",
      " 2   TITLE                 1000 non-null   object \n",
      " 3   CITY                  1000 non-null   object \n",
      " 4   BIWEEKLT/HOURLY RATE  1000 non-null   float64\n",
      " 5   PAYROL TYPE           1000 non-null   object \n",
      " 6   PAY PERIOD            1000 non-null   int64  \n",
      " 7   LEGISLATIVE ENTITY    1000 non-null   object \n",
      "dtypes: float64(1), int64(1), object(6)\n",
      "memory usage: 62.6+ KB\n"
     ]
    }
   ],
   "source": [
    "df.info()"
   ]
  },
  {
   "cell_type": "code",
   "execution_count": 7,
   "id": "96095b47",
   "metadata": {},
   "outputs": [
    {
     "data": {
      "text/plain": [
       "(1000, 8)"
      ]
     },
     "execution_count": 7,
     "metadata": {},
     "output_type": "execute_result"
    }
   ],
   "source": [
    "df.shape"
   ]
  },
  {
   "cell_type": "code",
   "execution_count": 8,
   "id": "5867553c",
   "metadata": {
    "scrolled": true
   },
   "outputs": [
    {
     "name": "stdout",
     "output_type": "stream",
     "text": [
      "Column NAME has 1000 unique values.\n",
      "Column OFFICE has 114 unique values.\n",
      "Column TITLE has 429 unique values.\n",
      "Column CITY has 55 unique values.\n",
      "Column PAYROL TYPE has 3 unique values.\n",
      "Column LEGISLATIVE ENTITY has 2 unique values.\n"
     ]
    }
   ],
   "source": [
    "for column in df.select_dtypes('object').columns:\n",
    "    print(f'Column {column} has {df[column].nunique()} unique values.')"
   ]
  },
  {
   "cell_type": "code",
   "execution_count": 10,
   "id": "1346142f",
   "metadata": {},
   "outputs": [
    {
     "data": {
      "text/plain": [
       "1"
      ]
     },
     "execution_count": 10,
     "metadata": {},
     "output_type": "execute_result"
    }
   ],
   "source": [
    "df['PAY PERIOD'].nunique()"
   ]
  },
  {
   "cell_type": "code",
   "execution_count": 11,
   "id": "08109ebe",
   "metadata": {},
   "outputs": [
    {
     "data": {
      "text/html": [
       "<div>\n",
       "<style scoped>\n",
       "    .dataframe tbody tr th:only-of-type {\n",
       "        vertical-align: middle;\n",
       "    }\n",
       "\n",
       "    .dataframe tbody tr th {\n",
       "        vertical-align: top;\n",
       "    }\n",
       "\n",
       "    .dataframe thead th {\n",
       "        text-align: right;\n",
       "    }\n",
       "</style>\n",
       "<table border=\"1\" class=\"dataframe\">\n",
       "  <thead>\n",
       "    <tr style=\"text-align: right;\">\n",
       "      <th></th>\n",
       "      <th>BIWEEKLT/HOURLY RATE</th>\n",
       "      <th>PAY PERIOD</th>\n",
       "    </tr>\n",
       "  </thead>\n",
       "  <tbody>\n",
       "    <tr>\n",
       "      <th>count</th>\n",
       "      <td>1000.000000</td>\n",
       "      <td>1000.0</td>\n",
       "    </tr>\n",
       "    <tr>\n",
       "      <th>mean</th>\n",
       "      <td>2129.122080</td>\n",
       "      <td>4.0</td>\n",
       "    </tr>\n",
       "    <tr>\n",
       "      <th>std</th>\n",
       "      <td>1144.883266</td>\n",
       "      <td>0.0</td>\n",
       "    </tr>\n",
       "    <tr>\n",
       "      <th>min</th>\n",
       "      <td>11.100000</td>\n",
       "      <td>4.0</td>\n",
       "    </tr>\n",
       "    <tr>\n",
       "      <th>25%</th>\n",
       "      <td>1423.080000</td>\n",
       "      <td>4.0</td>\n",
       "    </tr>\n",
       "    <tr>\n",
       "      <th>50%</th>\n",
       "      <td>1923.080000</td>\n",
       "      <td>4.0</td>\n",
       "    </tr>\n",
       "    <tr>\n",
       "      <th>75%</th>\n",
       "      <td>2692.310000</td>\n",
       "      <td>4.0</td>\n",
       "    </tr>\n",
       "    <tr>\n",
       "      <th>max</th>\n",
       "      <td>7115.390000</td>\n",
       "      <td>4.0</td>\n",
       "    </tr>\n",
       "  </tbody>\n",
       "</table>\n",
       "</div>"
      ],
      "text/plain": [
       "       BIWEEKLT/HOURLY RATE  PAY PERIOD\n",
       "count           1000.000000      1000.0\n",
       "mean            2129.122080         4.0\n",
       "std             1144.883266         0.0\n",
       "min               11.100000         4.0\n",
       "25%             1423.080000         4.0\n",
       "50%             1923.080000         4.0\n",
       "75%             2692.310000         4.0\n",
       "max             7115.390000         4.0"
      ]
     },
     "execution_count": 11,
     "metadata": {},
     "output_type": "execute_result"
    }
   ],
   "source": [
    "df.describe()"
   ]
  },
  {
   "cell_type": "code",
   "execution_count": 12,
   "id": "36b0a51f",
   "metadata": {},
   "outputs": [
    {
     "data": {
      "text/plain": [
       "(11.099, 1423.08]     253\n",
       "(1423.08, 1923.08]    249\n",
       "(1923.08, 2692.31]    249\n",
       "(2692.31, 7115.39]    249\n",
       "Name: BIWEEKLT/HOURLY RATE, dtype: int64"
      ]
     },
     "execution_count": 12,
     "metadata": {},
     "output_type": "execute_result"
    }
   ],
   "source": [
    "pd.qcut(df['BIWEEKLT/HOURLY RATE'].sort_values(), q=4).value_counts()"
   ]
  },
  {
   "cell_type": "code",
   "execution_count": 8,
   "id": "a6218fe7",
   "metadata": {},
   "outputs": [
    {
     "data": {
      "text/html": [
       "<div>\n",
       "<style scoped>\n",
       "    .dataframe tbody tr th:only-of-type {\n",
       "        vertical-align: middle;\n",
       "    }\n",
       "\n",
       "    .dataframe tbody tr th {\n",
       "        vertical-align: top;\n",
       "    }\n",
       "\n",
       "    .dataframe thead th {\n",
       "        text-align: right;\n",
       "    }\n",
       "</style>\n",
       "<table border=\"1\" class=\"dataframe\">\n",
       "  <thead>\n",
       "    <tr style=\"text-align: right;\">\n",
       "      <th></th>\n",
       "      <th>NAME</th>\n",
       "      <th>OFFICE</th>\n",
       "      <th>TITLE</th>\n",
       "      <th>CITY</th>\n",
       "      <th>BIWEEKLT/HOURLY RATE</th>\n",
       "      <th>PAYROL TYPE</th>\n",
       "      <th>PAY PERIOD</th>\n",
       "      <th>LEGISLATIVE ENTITY</th>\n",
       "    </tr>\n",
       "  </thead>\n",
       "  <tbody>\n",
       "    <tr>\n",
       "      <th>15</th>\n",
       "      <td>ALEXANDER, ANDREA J</td>\n",
       "      <td>LEGISLATIVE MESSENGER SERVICE</td>\n",
       "      <td>MESSENGER APPRENTICE</td>\n",
       "      <td>ALBANY</td>\n",
       "      <td>11.10</td>\n",
       "      <td>TE</td>\n",
       "      <td>4</td>\n",
       "      <td>JOINT LEGISLATIVE EMPLOYEE</td>\n",
       "    </tr>\n",
       "    <tr>\n",
       "      <th>21</th>\n",
       "      <td>ALLAIN, MICHAEL R</td>\n",
       "      <td>SENATOR KEVIN M. THOMAS</td>\n",
       "      <td>SESSION AIDE</td>\n",
       "      <td>ALBANY</td>\n",
       "      <td>16.00</td>\n",
       "      <td>TE</td>\n",
       "      <td>4</td>\n",
       "      <td>SENATE EMPLOYEE</td>\n",
       "    </tr>\n",
       "    <tr>\n",
       "      <th>45</th>\n",
       "      <td>ASHLAW, RICHARD L</td>\n",
       "      <td>SENATOR JOSEPH A. GRIFFO</td>\n",
       "      <td>CONSTITUENT REPRESENTATIVE</td>\n",
       "      <td>MASSENA</td>\n",
       "      <td>192.31</td>\n",
       "      <td>SA</td>\n",
       "      <td>4</td>\n",
       "      <td>SENATE EMPLOYEE</td>\n",
       "    </tr>\n",
       "    <tr>\n",
       "      <th>110</th>\n",
       "      <td>BOONE, KEVIN D</td>\n",
       "      <td>SENATOR KEVIN M. THOMAS</td>\n",
       "      <td>COMMUNITY AFFAIRS REPRESENTATIVE</td>\n",
       "      <td>ALBANY</td>\n",
       "      <td>15.00</td>\n",
       "      <td>TE</td>\n",
       "      <td>4</td>\n",
       "      <td>SENATE EMPLOYEE</td>\n",
       "    </tr>\n",
       "    <tr>\n",
       "      <th>135</th>\n",
       "      <td>BULGIA, CARLY E</td>\n",
       "      <td>SENATOR SUSAN SERINO</td>\n",
       "      <td>SENIOR SPECIAL EVENTS COORDINATOR</td>\n",
       "      <td>HYDE PARK</td>\n",
       "      <td>20.00</td>\n",
       "      <td>TE</td>\n",
       "      <td>4</td>\n",
       "      <td>SENATE EMPLOYEE</td>\n",
       "    </tr>\n",
       "    <tr>\n",
       "      <th>182</th>\n",
       "      <td>CHEUNG, LANA S</td>\n",
       "      <td>SENATOR BRIAN KAVANAGH</td>\n",
       "      <td>COMMUNITY LIAISON</td>\n",
       "      <td>NEW YORK</td>\n",
       "      <td>76.93</td>\n",
       "      <td>SA</td>\n",
       "      <td>4</td>\n",
       "      <td>SENATE EMPLOYEE</td>\n",
       "    </tr>\n",
       "    <tr>\n",
       "      <th>200</th>\n",
       "      <td>COLLINGS, MONTYNAL B</td>\n",
       "      <td>SENATOR JAMAAL BAILEY</td>\n",
       "      <td>COMMUNITY LIAISON</td>\n",
       "      <td>BRONX</td>\n",
       "      <td>15.00</td>\n",
       "      <td>TE</td>\n",
       "      <td>4</td>\n",
       "      <td>SENATE EMPLOYEE</td>\n",
       "    </tr>\n",
       "    <tr>\n",
       "      <th>234</th>\n",
       "      <td>CULBERTSON, JAMES A</td>\n",
       "      <td>57TH SENATORIAL DISTRICT</td>\n",
       "      <td>COMMUNITY LIAISON</td>\n",
       "      <td>OLEAN</td>\n",
       "      <td>192.31</td>\n",
       "      <td>SA</td>\n",
       "      <td>4</td>\n",
       "      <td>SENATE EMPLOYEE</td>\n",
       "    </tr>\n",
       "    <tr>\n",
       "      <th>246</th>\n",
       "      <td>DAVIE, DUNCAN S</td>\n",
       "      <td>SENATOR JAMES L. SEWARD</td>\n",
       "      <td>CHIEF OF STAFF</td>\n",
       "      <td>ONEONTA</td>\n",
       "      <td>55.00</td>\n",
       "      <td>TE</td>\n",
       "      <td>4</td>\n",
       "      <td>SENATE EMPLOYEE</td>\n",
       "    </tr>\n",
       "    <tr>\n",
       "      <th>269</th>\n",
       "      <td>DEWAN, DEBORAH M</td>\n",
       "      <td>SENATOR JEN METZGER</td>\n",
       "      <td>AG LIAISON-ADVISOR</td>\n",
       "      <td>ALBANY</td>\n",
       "      <td>40.00</td>\n",
       "      <td>TE</td>\n",
       "      <td>4</td>\n",
       "      <td>SENATE EMPLOYEE</td>\n",
       "    </tr>\n",
       "    <tr>\n",
       "      <th>290</th>\n",
       "      <td>DOWNS, TIFFANIE A</td>\n",
       "      <td>SENATOR SUSAN SERINO</td>\n",
       "      <td>EXECUTIVE ASSISTANT</td>\n",
       "      <td>HYDE PARK</td>\n",
       "      <td>19.00</td>\n",
       "      <td>TE</td>\n",
       "      <td>4</td>\n",
       "      <td>SENATE EMPLOYEE</td>\n",
       "    </tr>\n",
       "    <tr>\n",
       "      <th>302</th>\n",
       "      <td>DURKISH, JAMES A</td>\n",
       "      <td>SENATOR JOSEPH A. GRIFFO</td>\n",
       "      <td>CONSTITUENT REPRESENTATIVE</td>\n",
       "      <td>LOWVILLE</td>\n",
       "      <td>192.31</td>\n",
       "      <td>SA</td>\n",
       "      <td>4</td>\n",
       "      <td>SENATE EMPLOYEE</td>\n",
       "    </tr>\n",
       "    <tr>\n",
       "      <th>332</th>\n",
       "      <td>EVANS, JOHN D</td>\n",
       "      <td>SENATOR JOSEPH A. GRIFFO</td>\n",
       "      <td>SENIOR ADVISOR</td>\n",
       "      <td>ALBANY</td>\n",
       "      <td>45.00</td>\n",
       "      <td>TE</td>\n",
       "      <td>4</td>\n",
       "      <td>SENATE EMPLOYEE</td>\n",
       "    </tr>\n",
       "    <tr>\n",
       "      <th>338</th>\n",
       "      <td>FANELLI, KENNETH J</td>\n",
       "      <td>SENATOR JOSEPH A. GRIFFO</td>\n",
       "      <td>CONSTITUENT REPRESENTATIVE</td>\n",
       "      <td>UTICA</td>\n",
       "      <td>13.00</td>\n",
       "      <td>TE</td>\n",
       "      <td>4</td>\n",
       "      <td>SENATE EMPLOYEE</td>\n",
       "    </tr>\n",
       "    <tr>\n",
       "      <th>363</th>\n",
       "      <td>FISCHER, HENRY M</td>\n",
       "      <td>LEGISLATIVE MESSENGER SERVICE</td>\n",
       "      <td>MESSENGER APPRENTICE</td>\n",
       "      <td>ALBANY</td>\n",
       "      <td>11.10</td>\n",
       "      <td>TE</td>\n",
       "      <td>4</td>\n",
       "      <td>JOINT LEGISLATIVE EMPLOYEE</td>\n",
       "    </tr>\n",
       "    <tr>\n",
       "      <th>386</th>\n",
       "      <td>FROHBERG, LESLIE G</td>\n",
       "      <td>SENATOR JAMAAL BAILEY</td>\n",
       "      <td>SENIOR LIASON</td>\n",
       "      <td>BRONX</td>\n",
       "      <td>16.00</td>\n",
       "      <td>TE</td>\n",
       "      <td>4</td>\n",
       "      <td>SENATE EMPLOYEE</td>\n",
       "    </tr>\n",
       "    <tr>\n",
       "      <th>401</th>\n",
       "      <td>GARDNER, STEPHEN J</td>\n",
       "      <td>STS/BUSINESS APPLICATIONS CENTER</td>\n",
       "      <td>DATABASE ADMINISTRATOR</td>\n",
       "      <td>ALBANY</td>\n",
       "      <td>73.50</td>\n",
       "      <td>TE</td>\n",
       "      <td>4</td>\n",
       "      <td>SENATE EMPLOYEE</td>\n",
       "    </tr>\n",
       "    <tr>\n",
       "      <th>425</th>\n",
       "      <td>GODWIN, AUBREY D</td>\n",
       "      <td>SENATOR ROBERT ORTT</td>\n",
       "      <td>CONSTITUENT RELATIONS AIDE</td>\n",
       "      <td>LOCKPORT</td>\n",
       "      <td>15.00</td>\n",
       "      <td>TE</td>\n",
       "      <td>4</td>\n",
       "      <td>SENATE EMPLOYEE</td>\n",
       "    </tr>\n",
       "    <tr>\n",
       "      <th>498</th>\n",
       "      <td>HILTS, WILLIAM R</td>\n",
       "      <td>SENATOR ROBERT ORTT</td>\n",
       "      <td>COMMUNITY REPRESENTATIVE</td>\n",
       "      <td>LOCKPORT</td>\n",
       "      <td>15.30</td>\n",
       "      <td>TE</td>\n",
       "      <td>4</td>\n",
       "      <td>SENATE EMPLOYEE</td>\n",
       "    </tr>\n",
       "    <tr>\n",
       "      <th>503</th>\n",
       "      <td>HOLDEN, ALEXIA L</td>\n",
       "      <td>SENATOR JAMES SKOUFIS</td>\n",
       "      <td>LEGISLATIVE ASSISTANT</td>\n",
       "      <td>ALBANY</td>\n",
       "      <td>15.00</td>\n",
       "      <td>TE</td>\n",
       "      <td>4</td>\n",
       "      <td>SENATE EMPLOYEE</td>\n",
       "    </tr>\n",
       "    <tr>\n",
       "      <th>510</th>\n",
       "      <td>HOWARD, KAREN M</td>\n",
       "      <td>SENATOR PATRICK M. GALLIVAN</td>\n",
       "      <td>COMMUNITY AFFAIRS ASSISTANT</td>\n",
       "      <td>ELMA</td>\n",
       "      <td>15.00</td>\n",
       "      <td>TE</td>\n",
       "      <td>4</td>\n",
       "      <td>SENATE EMPLOYEE</td>\n",
       "    </tr>\n",
       "    <tr>\n",
       "      <th>546</th>\n",
       "      <td>KASH, JANET K</td>\n",
       "      <td>SENATOR JOSEPH P. ADDABBO, JR.</td>\n",
       "      <td>COMMUNICATIONS DIRECTOR</td>\n",
       "      <td>ALBANY</td>\n",
       "      <td>30.00</td>\n",
       "      <td>TE</td>\n",
       "      <td>4</td>\n",
       "      <td>SENATE EMPLOYEE</td>\n",
       "    </tr>\n",
       "    <tr>\n",
       "      <th>646</th>\n",
       "      <td>MALONE, THEO R</td>\n",
       "      <td>SENATOR ROBERT E. ANTONACCI</td>\n",
       "      <td>LEGISLATIVE ASSISTANT</td>\n",
       "      <td>ALBANY</td>\n",
       "      <td>11.10</td>\n",
       "      <td>TE</td>\n",
       "      <td>4</td>\n",
       "      <td>SENATE EMPLOYEE</td>\n",
       "    </tr>\n",
       "    <tr>\n",
       "      <th>656</th>\n",
       "      <td>MAROUN, PAUL A</td>\n",
       "      <td>SENATOR ELIZABETH 0'C. LITTLE</td>\n",
       "      <td>NORTH COUNTRY COORD./COUNSEL</td>\n",
       "      <td>PLATTSBURGH</td>\n",
       "      <td>48.07</td>\n",
       "      <td>TE</td>\n",
       "      <td>4</td>\n",
       "      <td>SENATE EMPLOYEE</td>\n",
       "    </tr>\n",
       "    <tr>\n",
       "      <th>669</th>\n",
       "      <td>MASSRY, MALLORY B</td>\n",
       "      <td>SENATOR DAPHNE JORDAN</td>\n",
       "      <td>CONSTITUENT RELATIONS SPECIALIST</td>\n",
       "      <td>ALBANY</td>\n",
       "      <td>19.00</td>\n",
       "      <td>TE</td>\n",
       "      <td>4</td>\n",
       "      <td>SENATE EMPLOYEE</td>\n",
       "    </tr>\n",
       "    <tr>\n",
       "      <th>672</th>\n",
       "      <td>MAYER, DONNA L</td>\n",
       "      <td>SENATE PERSONNEL OFFICE</td>\n",
       "      <td>ADMINISTRATIVE ASSISTANT</td>\n",
       "      <td>ALBANY</td>\n",
       "      <td>19.00</td>\n",
       "      <td>TE</td>\n",
       "      <td>4</td>\n",
       "      <td>SENATE EMPLOYEE</td>\n",
       "    </tr>\n",
       "    <tr>\n",
       "      <th>702</th>\n",
       "      <td>MEIER, MADELEINE G</td>\n",
       "      <td>SENATOR THOMAS F. O'MARA</td>\n",
       "      <td>INTERN</td>\n",
       "      <td>ELMIRA</td>\n",
       "      <td>17.00</td>\n",
       "      <td>TE</td>\n",
       "      <td>4</td>\n",
       "      <td>SENATE EMPLOYEE</td>\n",
       "    </tr>\n",
       "    <tr>\n",
       "      <th>719</th>\n",
       "      <td>MILLER, RICHARD A</td>\n",
       "      <td>SENATOR JOSEPH A. GRIFFO</td>\n",
       "      <td>CORRESPONDENCE SPECIALIST</td>\n",
       "      <td>UTICA</td>\n",
       "      <td>153.85</td>\n",
       "      <td>SA</td>\n",
       "      <td>4</td>\n",
       "      <td>SENATE EMPLOYEE</td>\n",
       "    </tr>\n",
       "    <tr>\n",
       "      <th>767</th>\n",
       "      <td>NATOLI, DAVID J</td>\n",
       "      <td>SENATE FISCAL OFFICE</td>\n",
       "      <td>SENIOR ADVISOR</td>\n",
       "      <td>ALBANY</td>\n",
       "      <td>90.00</td>\n",
       "      <td>TE</td>\n",
       "      <td>4</td>\n",
       "      <td>SENATE EMPLOYEE</td>\n",
       "    </tr>\n",
       "    <tr>\n",
       "      <th>799</th>\n",
       "      <td>OLIVER, JUNEAY L</td>\n",
       "      <td>SENATOR VELMANETTE MONTGOMERY</td>\n",
       "      <td>LEGISLATIVE AIDE</td>\n",
       "      <td>ALBANY</td>\n",
       "      <td>16.00</td>\n",
       "      <td>TE</td>\n",
       "      <td>4</td>\n",
       "      <td>SENATE EMPLOYEE</td>\n",
       "    </tr>\n",
       "    <tr>\n",
       "      <th>810</th>\n",
       "      <td>PALESANO, MATTHEW J</td>\n",
       "      <td>SENATOR ANDREW J. LANZA</td>\n",
       "      <td>LEGISLATIVE AIDE</td>\n",
       "      <td>ALBANY</td>\n",
       "      <td>15.00</td>\n",
       "      <td>TE</td>\n",
       "      <td>4</td>\n",
       "      <td>SENATE EMPLOYEE</td>\n",
       "    </tr>\n",
       "    <tr>\n",
       "      <th>850</th>\n",
       "      <td>PLATTNER, ROBERT D</td>\n",
       "      <td>SENATE FINANCE COMMITTEE/MAJORITY</td>\n",
       "      <td>SENIOR ADVISOR</td>\n",
       "      <td>ALBANY</td>\n",
       "      <td>82.00</td>\n",
       "      <td>TE</td>\n",
       "      <td>4</td>\n",
       "      <td>SENATE EMPLOYEE</td>\n",
       "    </tr>\n",
       "    <tr>\n",
       "      <th>878</th>\n",
       "      <td>RANSOM, NOLAN T</td>\n",
       "      <td>SENATOR JOSEPH E. ROBACH</td>\n",
       "      <td>INTERN</td>\n",
       "      <td>ROCHESTER</td>\n",
       "      <td>13.00</td>\n",
       "      <td>TE</td>\n",
       "      <td>4</td>\n",
       "      <td>SENATE EMPLOYEE</td>\n",
       "    </tr>\n",
       "    <tr>\n",
       "      <th>883</th>\n",
       "      <td>RAZZORE, ANDREW D</td>\n",
       "      <td>SENATOR ANDREW J. LANZA</td>\n",
       "      <td>INTERN</td>\n",
       "      <td>STATEN ISLAND</td>\n",
       "      <td>15.00</td>\n",
       "      <td>TE</td>\n",
       "      <td>4</td>\n",
       "      <td>SENATE EMPLOYEE</td>\n",
       "    </tr>\n",
       "    <tr>\n",
       "      <th>897</th>\n",
       "      <td>REIMER, NICOLE E</td>\n",
       "      <td>LEGISLATIVE MESSENGER SERVICE</td>\n",
       "      <td>MESSENGER APPRENTICE</td>\n",
       "      <td>ALBANY</td>\n",
       "      <td>11.10</td>\n",
       "      <td>TE</td>\n",
       "      <td>4</td>\n",
       "      <td>JOINT LEGISLATIVE EMPLOYEE</td>\n",
       "    </tr>\n",
       "    <tr>\n",
       "      <th>928</th>\n",
       "      <td>ROSS, WILLIAM L</td>\n",
       "      <td>SENATOR ROBERT ORTT</td>\n",
       "      <td>COMMUNITY REPRESENTATIVE</td>\n",
       "      <td>LOCKPORT</td>\n",
       "      <td>13.00</td>\n",
       "      <td>TE</td>\n",
       "      <td>4</td>\n",
       "      <td>SENATE EMPLOYEE</td>\n",
       "    </tr>\n",
       "    <tr>\n",
       "      <th>940</th>\n",
       "      <td>SACK, MARY E</td>\n",
       "      <td>SECRETARY OF THE SENATE'S OFFICE</td>\n",
       "      <td>DEPUTY EXECUTIVE ASSISTANT</td>\n",
       "      <td>ALBANY</td>\n",
       "      <td>35.71</td>\n",
       "      <td>TE</td>\n",
       "      <td>4</td>\n",
       "      <td>SENATE EMPLOYEE</td>\n",
       "    </tr>\n",
       "  </tbody>\n",
       "</table>\n",
       "</div>"
      ],
      "text/plain": [
       "                     NAME                             OFFICE  \\\n",
       "15    ALEXANDER, ANDREA J      LEGISLATIVE MESSENGER SERVICE   \n",
       "21      ALLAIN, MICHAEL R            SENATOR KEVIN M. THOMAS   \n",
       "45      ASHLAW, RICHARD L           SENATOR JOSEPH A. GRIFFO   \n",
       "110        BOONE, KEVIN D            SENATOR KEVIN M. THOMAS   \n",
       "135       BULGIA, CARLY E               SENATOR SUSAN SERINO   \n",
       "182        CHEUNG, LANA S             SENATOR BRIAN KAVANAGH   \n",
       "200  COLLINGS, MONTYNAL B              SENATOR JAMAAL BAILEY   \n",
       "234   CULBERTSON, JAMES A           57TH SENATORIAL DISTRICT   \n",
       "246       DAVIE, DUNCAN S            SENATOR JAMES L. SEWARD   \n",
       "269      DEWAN, DEBORAH M                SENATOR JEN METZGER   \n",
       "290     DOWNS, TIFFANIE A               SENATOR SUSAN SERINO   \n",
       "302      DURKISH, JAMES A           SENATOR JOSEPH A. GRIFFO   \n",
       "332         EVANS, JOHN D           SENATOR JOSEPH A. GRIFFO   \n",
       "338    FANELLI, KENNETH J           SENATOR JOSEPH A. GRIFFO   \n",
       "363      FISCHER, HENRY M      LEGISLATIVE MESSENGER SERVICE   \n",
       "386    FROHBERG, LESLIE G              SENATOR JAMAAL BAILEY   \n",
       "401    GARDNER, STEPHEN J   STS/BUSINESS APPLICATIONS CENTER   \n",
       "425      GODWIN, AUBREY D                SENATOR ROBERT ORTT   \n",
       "498      HILTS, WILLIAM R                SENATOR ROBERT ORTT   \n",
       "503      HOLDEN, ALEXIA L              SENATOR JAMES SKOUFIS   \n",
       "510       HOWARD, KAREN M        SENATOR PATRICK M. GALLIVAN   \n",
       "546         KASH, JANET K     SENATOR JOSEPH P. ADDABBO, JR.   \n",
       "646        MALONE, THEO R        SENATOR ROBERT E. ANTONACCI   \n",
       "656        MAROUN, PAUL A      SENATOR ELIZABETH 0'C. LITTLE   \n",
       "669     MASSRY, MALLORY B              SENATOR DAPHNE JORDAN   \n",
       "672        MAYER, DONNA L            SENATE PERSONNEL OFFICE   \n",
       "702    MEIER, MADELEINE G           SENATOR THOMAS F. O'MARA   \n",
       "719     MILLER, RICHARD A           SENATOR JOSEPH A. GRIFFO   \n",
       "767       NATOLI, DAVID J               SENATE FISCAL OFFICE   \n",
       "799      OLIVER, JUNEAY L      SENATOR VELMANETTE MONTGOMERY   \n",
       "810   PALESANO, MATTHEW J            SENATOR ANDREW J. LANZA   \n",
       "850    PLATTNER, ROBERT D  SENATE FINANCE COMMITTEE/MAJORITY   \n",
       "878       RANSOM, NOLAN T           SENATOR JOSEPH E. ROBACH   \n",
       "883     RAZZORE, ANDREW D            SENATOR ANDREW J. LANZA   \n",
       "897      REIMER, NICOLE E      LEGISLATIVE MESSENGER SERVICE   \n",
       "928       ROSS, WILLIAM L                SENATOR ROBERT ORTT   \n",
       "940          SACK, MARY E   SECRETARY OF THE SENATE'S OFFICE   \n",
       "\n",
       "                                 TITLE           CITY  BIWEEKLT/HOURLY RATE  \\\n",
       "15                MESSENGER APPRENTICE         ALBANY                 11.10   \n",
       "21                        SESSION AIDE         ALBANY                 16.00   \n",
       "45          CONSTITUENT REPRESENTATIVE        MASSENA                192.31   \n",
       "110   COMMUNITY AFFAIRS REPRESENTATIVE         ALBANY                 15.00   \n",
       "135  SENIOR SPECIAL EVENTS COORDINATOR      HYDE PARK                 20.00   \n",
       "182                  COMMUNITY LIAISON       NEW YORK                 76.93   \n",
       "200                  COMMUNITY LIAISON          BRONX                 15.00   \n",
       "234                  COMMUNITY LIAISON          OLEAN                192.31   \n",
       "246                     CHIEF OF STAFF        ONEONTA                 55.00   \n",
       "269                 AG LIAISON-ADVISOR         ALBANY                 40.00   \n",
       "290                EXECUTIVE ASSISTANT      HYDE PARK                 19.00   \n",
       "302         CONSTITUENT REPRESENTATIVE       LOWVILLE                192.31   \n",
       "332                     SENIOR ADVISOR         ALBANY                 45.00   \n",
       "338         CONSTITUENT REPRESENTATIVE          UTICA                 13.00   \n",
       "363               MESSENGER APPRENTICE         ALBANY                 11.10   \n",
       "386                      SENIOR LIASON          BRONX                 16.00   \n",
       "401             DATABASE ADMINISTRATOR         ALBANY                 73.50   \n",
       "425         CONSTITUENT RELATIONS AIDE       LOCKPORT                 15.00   \n",
       "498           COMMUNITY REPRESENTATIVE       LOCKPORT                 15.30   \n",
       "503              LEGISLATIVE ASSISTANT         ALBANY                 15.00   \n",
       "510        COMMUNITY AFFAIRS ASSISTANT           ELMA                 15.00   \n",
       "546            COMMUNICATIONS DIRECTOR         ALBANY                 30.00   \n",
       "646              LEGISLATIVE ASSISTANT         ALBANY                 11.10   \n",
       "656       NORTH COUNTRY COORD./COUNSEL    PLATTSBURGH                 48.07   \n",
       "669   CONSTITUENT RELATIONS SPECIALIST         ALBANY                 19.00   \n",
       "672           ADMINISTRATIVE ASSISTANT         ALBANY                 19.00   \n",
       "702                             INTERN         ELMIRA                 17.00   \n",
       "719          CORRESPONDENCE SPECIALIST          UTICA                153.85   \n",
       "767                     SENIOR ADVISOR         ALBANY                 90.00   \n",
       "799                   LEGISLATIVE AIDE         ALBANY                 16.00   \n",
       "810                   LEGISLATIVE AIDE         ALBANY                 15.00   \n",
       "850                     SENIOR ADVISOR         ALBANY                 82.00   \n",
       "878                             INTERN      ROCHESTER                 13.00   \n",
       "883                             INTERN  STATEN ISLAND                 15.00   \n",
       "897               MESSENGER APPRENTICE         ALBANY                 11.10   \n",
       "928           COMMUNITY REPRESENTATIVE       LOCKPORT                 13.00   \n",
       "940         DEPUTY EXECUTIVE ASSISTANT         ALBANY                 35.71   \n",
       "\n",
       "    PAYROL TYPE  PAY PERIOD          LEGISLATIVE ENTITY  \n",
       "15           TE           4  JOINT LEGISLATIVE EMPLOYEE  \n",
       "21           TE           4             SENATE EMPLOYEE  \n",
       "45           SA           4             SENATE EMPLOYEE  \n",
       "110          TE           4             SENATE EMPLOYEE  \n",
       "135          TE           4             SENATE EMPLOYEE  \n",
       "182          SA           4             SENATE EMPLOYEE  \n",
       "200          TE           4             SENATE EMPLOYEE  \n",
       "234          SA           4             SENATE EMPLOYEE  \n",
       "246          TE           4             SENATE EMPLOYEE  \n",
       "269          TE           4             SENATE EMPLOYEE  \n",
       "290          TE           4             SENATE EMPLOYEE  \n",
       "302          SA           4             SENATE EMPLOYEE  \n",
       "332          TE           4             SENATE EMPLOYEE  \n",
       "338          TE           4             SENATE EMPLOYEE  \n",
       "363          TE           4  JOINT LEGISLATIVE EMPLOYEE  \n",
       "386          TE           4             SENATE EMPLOYEE  \n",
       "401          TE           4             SENATE EMPLOYEE  \n",
       "425          TE           4             SENATE EMPLOYEE  \n",
       "498          TE           4             SENATE EMPLOYEE  \n",
       "503          TE           4             SENATE EMPLOYEE  \n",
       "510          TE           4             SENATE EMPLOYEE  \n",
       "546          TE           4             SENATE EMPLOYEE  \n",
       "646          TE           4             SENATE EMPLOYEE  \n",
       "656          TE           4             SENATE EMPLOYEE  \n",
       "669          TE           4             SENATE EMPLOYEE  \n",
       "672          TE           4             SENATE EMPLOYEE  \n",
       "702          TE           4             SENATE EMPLOYEE  \n",
       "719          SA           4             SENATE EMPLOYEE  \n",
       "767          TE           4             SENATE EMPLOYEE  \n",
       "799          TE           4             SENATE EMPLOYEE  \n",
       "810          TE           4             SENATE EMPLOYEE  \n",
       "850          TE           4             SENATE EMPLOYEE  \n",
       "878          TE           4             SENATE EMPLOYEE  \n",
       "883          TE           4             SENATE EMPLOYEE  \n",
       "897          TE           4  JOINT LEGISLATIVE EMPLOYEE  \n",
       "928          TE           4             SENATE EMPLOYEE  \n",
       "940          TE           4             SENATE EMPLOYEE  "
      ]
     },
     "execution_count": 8,
     "metadata": {},
     "output_type": "execute_result"
    }
   ],
   "source": [
    "df[df['BIWEEKLT/HOURLY RATE'] < 200]"
   ]
  },
  {
   "cell_type": "code",
   "execution_count": 13,
   "id": "aa71069d",
   "metadata": {},
   "outputs": [
    {
     "data": {
      "text/plain": [
       "(37, 8)"
      ]
     },
     "execution_count": 13,
     "metadata": {},
     "output_type": "execute_result"
    }
   ],
   "source": [
    "df[df['BIWEEKLT/HOURLY RATE'] < 200].shape"
   ]
  },
  {
   "cell_type": "code",
   "execution_count": 14,
   "id": "39380ef2",
   "metadata": {},
   "outputs": [],
   "source": [
    "df['BIWEEKLT/HOURLY RATE'] = df['BIWEEKLT/HOURLY RATE'].map(lambda x: x*80 if x<200 else x)"
   ]
  },
  {
   "cell_type": "code",
   "execution_count": 15,
   "id": "c38d7faa",
   "metadata": {},
   "outputs": [
    {
     "data": {
      "text/plain": [
       "230.77"
      ]
     },
     "execution_count": 15,
     "metadata": {},
     "output_type": "execute_result"
    }
   ],
   "source": [
    "df['BIWEEKLT/HOURLY RATE'].min()"
   ]
  },
  {
   "cell_type": "code",
   "execution_count": 16,
   "id": "59de27b2",
   "metadata": {},
   "outputs": [],
   "source": [
    "df = df[~df['BIWEEKLT/HOURLY RATE'].transform(lambda x: abs(x-x.mean()) > 1.96*x.std()).values]"
   ]
  },
  {
   "cell_type": "code",
   "execution_count": 17,
   "id": "e8c6b896",
   "metadata": {},
   "outputs": [
    {
     "data": {
      "text/plain": [
       "(963, 8)"
      ]
     },
     "execution_count": 17,
     "metadata": {},
     "output_type": "execute_result"
    }
   ],
   "source": [
    "df.shape"
   ]
  },
  {
   "cell_type": "code",
   "execution_count": null,
   "id": "7585c055",
   "metadata": {},
   "outputs": [],
   "source": [
    "df.columns = df.columns.str.capitalize()"
   ]
  },
  {
   "cell_type": "code",
   "execution_count": 18,
   "id": "2f7e3cbd",
   "metadata": {
    "scrolled": true
   },
   "outputs": [
    {
     "data": {
      "text/html": [
       "<div>\n",
       "<style scoped>\n",
       "    .dataframe tbody tr th:only-of-type {\n",
       "        vertical-align: middle;\n",
       "    }\n",
       "\n",
       "    .dataframe tbody tr th {\n",
       "        vertical-align: top;\n",
       "    }\n",
       "\n",
       "    .dataframe thead th {\n",
       "        text-align: right;\n",
       "    }\n",
       "</style>\n",
       "<table border=\"1\" class=\"dataframe\">\n",
       "  <thead>\n",
       "    <tr style=\"text-align: right;\">\n",
       "      <th></th>\n",
       "      <th>NAME</th>\n",
       "      <th>OFFICE</th>\n",
       "      <th>TITLE</th>\n",
       "      <th>CITY</th>\n",
       "      <th>BIWEEKLT/HOURLY RATE</th>\n",
       "      <th>PAYROL TYPE</th>\n",
       "      <th>PAY PERIOD</th>\n",
       "      <th>LEGISLATIVE ENTITY</th>\n",
       "    </tr>\n",
       "  </thead>\n",
       "  <tbody>\n",
       "    <tr>\n",
       "      <th>995</th>\n",
       "      <td>SHROUT, JACKSON K</td>\n",
       "      <td>SENATOR TODD KAMINSKY</td>\n",
       "      <td>COMMUNITY LIAISON</td>\n",
       "      <td>ROCKVILLE CENTRE</td>\n",
       "      <td>1538.47</td>\n",
       "      <td>RA</td>\n",
       "      <td>4</td>\n",
       "      <td>SENATE EMPLOYEE</td>\n",
       "    </tr>\n",
       "    <tr>\n",
       "      <th>996</th>\n",
       "      <td>SHUFON JR, ANTHONY A</td>\n",
       "      <td>SS/PRODUCTION SERVICES</td>\n",
       "      <td>DATA ANALYST</td>\n",
       "      <td>ALBANY</td>\n",
       "      <td>2180.24</td>\n",
       "      <td>RA</td>\n",
       "      <td>4</td>\n",
       "      <td>SENATE EMPLOYEE</td>\n",
       "    </tr>\n",
       "    <tr>\n",
       "      <th>997</th>\n",
       "      <td>SHUTTER, WILLIAM J</td>\n",
       "      <td>SS/PRODUCTION SERVICES</td>\n",
       "      <td>MAILING OPERATOR II</td>\n",
       "      <td>ALBANY</td>\n",
       "      <td>1770.23</td>\n",
       "      <td>RA</td>\n",
       "      <td>4</td>\n",
       "      <td>SENATE EMPLOYEE</td>\n",
       "    </tr>\n",
       "    <tr>\n",
       "      <th>998</th>\n",
       "      <td>SIERZEGA, KIMBERLY</td>\n",
       "      <td>SENATE TECHNOLOGY SERVICES</td>\n",
       "      <td>SENIOR OFFICE SUPPORT REPRESENTATIVE</td>\n",
       "      <td>ALBANY</td>\n",
       "      <td>2917.25</td>\n",
       "      <td>RA</td>\n",
       "      <td>4</td>\n",
       "      <td>SENATE EMPLOYEE</td>\n",
       "    </tr>\n",
       "    <tr>\n",
       "      <th>999</th>\n",
       "      <td>SILVERSTEIN, CHARLES P</td>\n",
       "      <td>MINORITY COUNSEL/PROGRAM</td>\n",
       "      <td>LEGISLATIVE ANALYST</td>\n",
       "      <td>ALBANY</td>\n",
       "      <td>1923.08</td>\n",
       "      <td>RA</td>\n",
       "      <td>4</td>\n",
       "      <td>SENATE EMPLOYEE</td>\n",
       "    </tr>\n",
       "  </tbody>\n",
       "</table>\n",
       "</div>"
      ],
      "text/plain": [
       "                       NAME                      OFFICE  \\\n",
       "995       SHROUT, JACKSON K       SENATOR TODD KAMINSKY   \n",
       "996    SHUFON JR, ANTHONY A      SS/PRODUCTION SERVICES   \n",
       "997      SHUTTER, WILLIAM J      SS/PRODUCTION SERVICES   \n",
       "998      SIERZEGA, KIMBERLY  SENATE TECHNOLOGY SERVICES   \n",
       "999  SILVERSTEIN, CHARLES P    MINORITY COUNSEL/PROGRAM   \n",
       "\n",
       "                                    TITLE              CITY  \\\n",
       "995                     COMMUNITY LIAISON  ROCKVILLE CENTRE   \n",
       "996                          DATA ANALYST            ALBANY   \n",
       "997                   MAILING OPERATOR II            ALBANY   \n",
       "998  SENIOR OFFICE SUPPORT REPRESENTATIVE            ALBANY   \n",
       "999                   LEGISLATIVE ANALYST            ALBANY   \n",
       "\n",
       "     BIWEEKLT/HOURLY RATE PAYROL TYPE  PAY PERIOD LEGISLATIVE ENTITY  \n",
       "995               1538.47          RA           4    SENATE EMPLOYEE  \n",
       "996               2180.24          RA           4    SENATE EMPLOYEE  \n",
       "997               1770.23          RA           4    SENATE EMPLOYEE  \n",
       "998               2917.25          RA           4    SENATE EMPLOYEE  \n",
       "999               1923.08          RA           4    SENATE EMPLOYEE  "
      ]
     },
     "execution_count": 18,
     "metadata": {},
     "output_type": "execute_result"
    }
   ],
   "source": [
    "df.tail()"
   ]
  },
  {
   "cell_type": "code",
   "execution_count": 19,
   "id": "39444176",
   "metadata": {},
   "outputs": [],
   "source": [
    "df.reset_index(drop=True, inplace=True)"
   ]
  },
  {
   "cell_type": "code",
   "execution_count": 20,
   "id": "245531b1",
   "metadata": {
    "scrolled": true
   },
   "outputs": [
    {
     "data": {
      "text/html": [
       "<div>\n",
       "<style scoped>\n",
       "    .dataframe tbody tr th:only-of-type {\n",
       "        vertical-align: middle;\n",
       "    }\n",
       "\n",
       "    .dataframe tbody tr th {\n",
       "        vertical-align: top;\n",
       "    }\n",
       "\n",
       "    .dataframe thead th {\n",
       "        text-align: right;\n",
       "    }\n",
       "</style>\n",
       "<table border=\"1\" class=\"dataframe\">\n",
       "  <thead>\n",
       "    <tr style=\"text-align: right;\">\n",
       "      <th></th>\n",
       "      <th>NAME</th>\n",
       "      <th>OFFICE</th>\n",
       "      <th>TITLE</th>\n",
       "      <th>CITY</th>\n",
       "      <th>BIWEEKLT/HOURLY RATE</th>\n",
       "      <th>PAYROL TYPE</th>\n",
       "      <th>PAY PERIOD</th>\n",
       "      <th>LEGISLATIVE ENTITY</th>\n",
       "    </tr>\n",
       "  </thead>\n",
       "  <tbody>\n",
       "    <tr>\n",
       "      <th>0</th>\n",
       "      <td>ABBOT, JUDITH L</td>\n",
       "      <td>SENATOR TOBY ANN STAVISKY</td>\n",
       "      <td>COMMUNITY LIAISON</td>\n",
       "      <td>FLUSHING</td>\n",
       "      <td>1076.93</td>\n",
       "      <td>SA</td>\n",
       "      <td>4</td>\n",
       "      <td>SENATE EMPLOYEE</td>\n",
       "    </tr>\n",
       "    <tr>\n",
       "      <th>1</th>\n",
       "      <td>ABREU, BRIAN A</td>\n",
       "      <td>LEGISLATIVE MESSENGER SERVICE</td>\n",
       "      <td>MESSENGER</td>\n",
       "      <td>ALBANY</td>\n",
       "      <td>1173.93</td>\n",
       "      <td>RA</td>\n",
       "      <td>4</td>\n",
       "      <td>JOINT LEGISLATIVE EMPLOYEE</td>\n",
       "    </tr>\n",
       "    <tr>\n",
       "      <th>2</th>\n",
       "      <td>ABREU, TYDIE Z</td>\n",
       "      <td>SENATE FINANCE COMMITTEE/MAJORITY</td>\n",
       "      <td>SENIOR ANALYST</td>\n",
       "      <td>ALBANY</td>\n",
       "      <td>2692.31</td>\n",
       "      <td>RA</td>\n",
       "      <td>4</td>\n",
       "      <td>SENATE EMPLOYEE</td>\n",
       "    </tr>\n",
       "    <tr>\n",
       "      <th>3</th>\n",
       "      <td>ACEVEDO, SAMANTHA I</td>\n",
       "      <td>SENATOR JESSICA RAMOS</td>\n",
       "      <td>SR. DIR. LEG. AFFRS / COMMITTEE DIR.</td>\n",
       "      <td>ALBANY</td>\n",
       "      <td>2307.70</td>\n",
       "      <td>RA</td>\n",
       "      <td>4</td>\n",
       "      <td>SENATE EMPLOYEE</td>\n",
       "    </tr>\n",
       "    <tr>\n",
       "      <th>4</th>\n",
       "      <td>ADAMS, DAVID V</td>\n",
       "      <td>SENATE SERGEANT-AT-ARMS</td>\n",
       "      <td>SESSION SERGEANT-AT-ARMS</td>\n",
       "      <td>ALBANY</td>\n",
       "      <td>820.95</td>\n",
       "      <td>SA</td>\n",
       "      <td>4</td>\n",
       "      <td>SENATE EMPLOYEE</td>\n",
       "    </tr>\n",
       "  </tbody>\n",
       "</table>\n",
       "</div>"
      ],
      "text/plain": [
       "                  NAME                             OFFICE  \\\n",
       "0      ABBOT, JUDITH L          SENATOR TOBY ANN STAVISKY   \n",
       "1       ABREU, BRIAN A      LEGISLATIVE MESSENGER SERVICE   \n",
       "2       ABREU, TYDIE Z  SENATE FINANCE COMMITTEE/MAJORITY   \n",
       "3  ACEVEDO, SAMANTHA I              SENATOR JESSICA RAMOS   \n",
       "4       ADAMS, DAVID V            SENATE SERGEANT-AT-ARMS   \n",
       "\n",
       "                                  TITLE      CITY  BIWEEKLT/HOURLY RATE  \\\n",
       "0                     COMMUNITY LIAISON  FLUSHING               1076.93   \n",
       "1                             MESSENGER    ALBANY               1173.93   \n",
       "2                        SENIOR ANALYST    ALBANY               2692.31   \n",
       "3  SR. DIR. LEG. AFFRS / COMMITTEE DIR.    ALBANY               2307.70   \n",
       "4              SESSION SERGEANT-AT-ARMS    ALBANY                820.95   \n",
       "\n",
       "  PAYROL TYPE  PAY PERIOD          LEGISLATIVE ENTITY  \n",
       "0          SA           4             SENATE EMPLOYEE  \n",
       "1          RA           4  JOINT LEGISLATIVE EMPLOYEE  \n",
       "2          RA           4             SENATE EMPLOYEE  \n",
       "3          RA           4             SENATE EMPLOYEE  \n",
       "4          SA           4             SENATE EMPLOYEE  "
      ]
     },
     "execution_count": 20,
     "metadata": {},
     "output_type": "execute_result"
    }
   ],
   "source": [
    "df.head()"
   ]
  },
  {
   "cell_type": "code",
   "execution_count": 21,
   "id": "0a730ce2",
   "metadata": {},
   "outputs": [],
   "source": [
    "df.columns = df.columns.str.capitalize()"
   ]
  },
  {
   "cell_type": "code",
   "execution_count": 22,
   "id": "d789c19c",
   "metadata": {},
   "outputs": [
    {
     "data": {
      "text/html": [
       "<div>\n",
       "<style scoped>\n",
       "    .dataframe tbody tr th:only-of-type {\n",
       "        vertical-align: middle;\n",
       "    }\n",
       "\n",
       "    .dataframe tbody tr th {\n",
       "        vertical-align: top;\n",
       "    }\n",
       "\n",
       "    .dataframe thead th {\n",
       "        text-align: right;\n",
       "    }\n",
       "</style>\n",
       "<table border=\"1\" class=\"dataframe\">\n",
       "  <thead>\n",
       "    <tr style=\"text-align: right;\">\n",
       "      <th></th>\n",
       "      <th>Name</th>\n",
       "      <th>Office</th>\n",
       "      <th>Title</th>\n",
       "      <th>City</th>\n",
       "      <th>Biweeklt/hourly rate</th>\n",
       "      <th>Payrol type</th>\n",
       "      <th>Pay period</th>\n",
       "      <th>Legislative entity</th>\n",
       "    </tr>\n",
       "  </thead>\n",
       "  <tbody>\n",
       "    <tr>\n",
       "      <th>0</th>\n",
       "      <td>ABBOT, JUDITH L</td>\n",
       "      <td>SENATOR TOBY ANN STAVISKY</td>\n",
       "      <td>COMMUNITY LIAISON</td>\n",
       "      <td>FLUSHING</td>\n",
       "      <td>1076.93</td>\n",
       "      <td>SA</td>\n",
       "      <td>4</td>\n",
       "      <td>SENATE EMPLOYEE</td>\n",
       "    </tr>\n",
       "    <tr>\n",
       "      <th>1</th>\n",
       "      <td>ABREU, BRIAN A</td>\n",
       "      <td>LEGISLATIVE MESSENGER SERVICE</td>\n",
       "      <td>MESSENGER</td>\n",
       "      <td>ALBANY</td>\n",
       "      <td>1173.93</td>\n",
       "      <td>RA</td>\n",
       "      <td>4</td>\n",
       "      <td>JOINT LEGISLATIVE EMPLOYEE</td>\n",
       "    </tr>\n",
       "    <tr>\n",
       "      <th>2</th>\n",
       "      <td>ABREU, TYDIE Z</td>\n",
       "      <td>SENATE FINANCE COMMITTEE/MAJORITY</td>\n",
       "      <td>SENIOR ANALYST</td>\n",
       "      <td>ALBANY</td>\n",
       "      <td>2692.31</td>\n",
       "      <td>RA</td>\n",
       "      <td>4</td>\n",
       "      <td>SENATE EMPLOYEE</td>\n",
       "    </tr>\n",
       "    <tr>\n",
       "      <th>3</th>\n",
       "      <td>ACEVEDO, SAMANTHA I</td>\n",
       "      <td>SENATOR JESSICA RAMOS</td>\n",
       "      <td>SR. DIR. LEG. AFFRS / COMMITTEE DIR.</td>\n",
       "      <td>ALBANY</td>\n",
       "      <td>2307.70</td>\n",
       "      <td>RA</td>\n",
       "      <td>4</td>\n",
       "      <td>SENATE EMPLOYEE</td>\n",
       "    </tr>\n",
       "    <tr>\n",
       "      <th>4</th>\n",
       "      <td>ADAMS, DAVID V</td>\n",
       "      <td>SENATE SERGEANT-AT-ARMS</td>\n",
       "      <td>SESSION SERGEANT-AT-ARMS</td>\n",
       "      <td>ALBANY</td>\n",
       "      <td>820.95</td>\n",
       "      <td>SA</td>\n",
       "      <td>4</td>\n",
       "      <td>SENATE EMPLOYEE</td>\n",
       "    </tr>\n",
       "  </tbody>\n",
       "</table>\n",
       "</div>"
      ],
      "text/plain": [
       "                  Name                             Office  \\\n",
       "0      ABBOT, JUDITH L          SENATOR TOBY ANN STAVISKY   \n",
       "1       ABREU, BRIAN A      LEGISLATIVE MESSENGER SERVICE   \n",
       "2       ABREU, TYDIE Z  SENATE FINANCE COMMITTEE/MAJORITY   \n",
       "3  ACEVEDO, SAMANTHA I              SENATOR JESSICA RAMOS   \n",
       "4       ADAMS, DAVID V            SENATE SERGEANT-AT-ARMS   \n",
       "\n",
       "                                  Title      City  Biweeklt/hourly rate  \\\n",
       "0                     COMMUNITY LIAISON  FLUSHING               1076.93   \n",
       "1                             MESSENGER    ALBANY               1173.93   \n",
       "2                        SENIOR ANALYST    ALBANY               2692.31   \n",
       "3  SR. DIR. LEG. AFFRS / COMMITTEE DIR.    ALBANY               2307.70   \n",
       "4              SESSION SERGEANT-AT-ARMS    ALBANY                820.95   \n",
       "\n",
       "  Payrol type  Pay period          Legislative entity  \n",
       "0          SA           4             SENATE EMPLOYEE  \n",
       "1          RA           4  JOINT LEGISLATIVE EMPLOYEE  \n",
       "2          RA           4             SENATE EMPLOYEE  \n",
       "3          RA           4             SENATE EMPLOYEE  \n",
       "4          SA           4             SENATE EMPLOYEE  "
      ]
     },
     "execution_count": 22,
     "metadata": {},
     "output_type": "execute_result"
    }
   ],
   "source": [
    "df.head()"
   ]
  },
  {
   "cell_type": "code",
   "execution_count": 23,
   "id": "229239e3",
   "metadata": {},
   "outputs": [
    {
     "name": "stdout",
     "output_type": "stream",
     "text": [
      "Name has 963 unique items\n",
      "\n",
      "you can drop Name feature \n",
      "\n",
      "Office has 112 unique items\n",
      "Title has 406 unique items\n",
      "City has 53 unique items\n",
      "Biweeklt/hourly rate has 417 unique items\n",
      "Payrol type has 3 unique items\n",
      "Pay period has 1 unique items\n",
      "\n",
      "you can drop Pay period feature \n",
      "\n",
      "Legislative entity has 2 unique items\n"
     ]
    }
   ],
   "source": [
    "for col in df.columns:\n",
    "  print(f\"{col} has {df[col].nunique()} unique items\")\n",
    "  if df[col].nunique() == 1 or df[col].nunique() == 963:\n",
    "    print(f\"\\nyou can drop {col} feature \\n\")"
   ]
  },
  {
   "cell_type": "code",
   "execution_count": 24,
   "id": "f5e08be6",
   "metadata": {},
   "outputs": [],
   "source": [
    "df1 = df.drop([\"Name\", \"Pay period\"], axis= 1).copy()"
   ]
  },
  {
   "cell_type": "code",
   "execution_count": 25,
   "id": "a1bd5209",
   "metadata": {},
   "outputs": [
    {
     "data": {
      "text/html": [
       "<div>\n",
       "<style scoped>\n",
       "    .dataframe tbody tr th:only-of-type {\n",
       "        vertical-align: middle;\n",
       "    }\n",
       "\n",
       "    .dataframe tbody tr th {\n",
       "        vertical-align: top;\n",
       "    }\n",
       "\n",
       "    .dataframe thead th {\n",
       "        text-align: right;\n",
       "    }\n",
       "</style>\n",
       "<table border=\"1\" class=\"dataframe\">\n",
       "  <thead>\n",
       "    <tr style=\"text-align: right;\">\n",
       "      <th></th>\n",
       "      <th>Office</th>\n",
       "      <th>Title</th>\n",
       "      <th>City</th>\n",
       "      <th>Biweeklt/hourly rate</th>\n",
       "      <th>Payrol type</th>\n",
       "      <th>Legislative entity</th>\n",
       "    </tr>\n",
       "  </thead>\n",
       "  <tbody>\n",
       "    <tr>\n",
       "      <th>0</th>\n",
       "      <td>SENATOR TOBY ANN STAVISKY</td>\n",
       "      <td>COMMUNITY LIAISON</td>\n",
       "      <td>FLUSHING</td>\n",
       "      <td>1076.93</td>\n",
       "      <td>SA</td>\n",
       "      <td>SENATE EMPLOYEE</td>\n",
       "    </tr>\n",
       "    <tr>\n",
       "      <th>1</th>\n",
       "      <td>LEGISLATIVE MESSENGER SERVICE</td>\n",
       "      <td>MESSENGER</td>\n",
       "      <td>ALBANY</td>\n",
       "      <td>1173.93</td>\n",
       "      <td>RA</td>\n",
       "      <td>JOINT LEGISLATIVE EMPLOYEE</td>\n",
       "    </tr>\n",
       "    <tr>\n",
       "      <th>2</th>\n",
       "      <td>SENATE FINANCE COMMITTEE/MAJORITY</td>\n",
       "      <td>SENIOR ANALYST</td>\n",
       "      <td>ALBANY</td>\n",
       "      <td>2692.31</td>\n",
       "      <td>RA</td>\n",
       "      <td>SENATE EMPLOYEE</td>\n",
       "    </tr>\n",
       "    <tr>\n",
       "      <th>3</th>\n",
       "      <td>SENATOR JESSICA RAMOS</td>\n",
       "      <td>SR. DIR. LEG. AFFRS / COMMITTEE DIR.</td>\n",
       "      <td>ALBANY</td>\n",
       "      <td>2307.70</td>\n",
       "      <td>RA</td>\n",
       "      <td>SENATE EMPLOYEE</td>\n",
       "    </tr>\n",
       "    <tr>\n",
       "      <th>4</th>\n",
       "      <td>SENATE SERGEANT-AT-ARMS</td>\n",
       "      <td>SESSION SERGEANT-AT-ARMS</td>\n",
       "      <td>ALBANY</td>\n",
       "      <td>820.95</td>\n",
       "      <td>SA</td>\n",
       "      <td>SENATE EMPLOYEE</td>\n",
       "    </tr>\n",
       "  </tbody>\n",
       "</table>\n",
       "</div>"
      ],
      "text/plain": [
       "                              Office                                 Title  \\\n",
       "0          SENATOR TOBY ANN STAVISKY                     COMMUNITY LIAISON   \n",
       "1      LEGISLATIVE MESSENGER SERVICE                             MESSENGER   \n",
       "2  SENATE FINANCE COMMITTEE/MAJORITY                        SENIOR ANALYST   \n",
       "3              SENATOR JESSICA RAMOS  SR. DIR. LEG. AFFRS / COMMITTEE DIR.   \n",
       "4            SENATE SERGEANT-AT-ARMS              SESSION SERGEANT-AT-ARMS   \n",
       "\n",
       "       City  Biweeklt/hourly rate Payrol type          Legislative entity  \n",
       "0  FLUSHING               1076.93          SA             SENATE EMPLOYEE  \n",
       "1    ALBANY               1173.93          RA  JOINT LEGISLATIVE EMPLOYEE  \n",
       "2    ALBANY               2692.31          RA             SENATE EMPLOYEE  \n",
       "3    ALBANY               2307.70          RA             SENATE EMPLOYEE  \n",
       "4    ALBANY                820.95          SA             SENATE EMPLOYEE  "
      ]
     },
     "execution_count": 25,
     "metadata": {},
     "output_type": "execute_result"
    }
   ],
   "source": [
    "df1.head()"
   ]
  },
  {
   "cell_type": "code",
   "execution_count": 26,
   "id": "1eac92f0",
   "metadata": {},
   "outputs": [
    {
     "data": {
      "text/plain": [
       "283"
      ]
     },
     "execution_count": 26,
     "metadata": {},
     "output_type": "execute_result"
    }
   ],
   "source": [
    "(df1.Title.value_counts()==1).sum()"
   ]
  },
  {
   "cell_type": "code",
   "execution_count": 30,
   "id": "2e318ac7",
   "metadata": {},
   "outputs": [
    {
     "name": "stderr",
     "output_type": "stream",
     "text": [
      "/home/kurubal/anaconda3/lib/python3.8/site-packages/seaborn/distributions.py:2557: FutureWarning: `distplot` is a deprecated function and will be removed in a future version. Please adapt your code to use either `displot` (a figure-level function with similar flexibility) or `histplot` (an axes-level function for histograms).\n",
      "  warnings.warn(msg, FutureWarning)\n"
     ]
    },
    {
     "data": {
      "text/plain": [
       "<AxesSubplot:xlabel='Biweeklt/hourly rate', ylabel='Density'>"
      ]
     },
     "execution_count": 30,
     "metadata": {},
     "output_type": "execute_result"
    },
    {
     "data": {
      "image/png": "[encoded data removed]",
      "text/plain": [
       "<Figure size 720x432 with 1 Axes>"
      ]
     },
     "metadata": {},
     "output_type": "display_data"
    }
   ],
   "source": [
    "plt.figure(figsize=(10, 6))\n",
    "sns.distplot(df1['Biweeklt/hourly rate'], fit=stats.norm)"
   ]
  },
  {
   "cell_type": "code",
   "execution_count": null,
   "id": "b7f10e29",
   "metadata": {},
   "outputs": [],
   "source": [
    "list_of_least_title = []\n",
    "for i in df1.Title.unique():\n",
    "  if df.Title.value_counts()[i] < 2 :\n",
    "    list_of_least_title.append(i)"
   ]
  },
  {
   "cell_type": "code",
   "execution_count": 31,
   "id": "f7155b0e",
   "metadata": {},
   "outputs": [
    {
     "data": {
      "text/plain": [
       "0.6036242553202789"
      ]
     },
     "execution_count": 31,
     "metadata": {},
     "output_type": "execute_result"
    }
   ],
   "source": [
    "stats.skew(df1['Biweeklt/hourly rate'])"
   ]
  },
  {
   "cell_type": "code",
   "execution_count": 32,
   "id": "07b68a1d",
   "metadata": {},
   "outputs": [],
   "source": [
    "list_of_least_title = []\n",
    "for i in df1.Title.unique():\n",
    "  if df.Title.value_counts()[i] < 2 :\n",
    "    list_of_least_title.append(i)"
   ]
  },
  {
   "cell_type": "code",
   "execution_count": 33,
   "id": "07ea9e30",
   "metadata": {
    "scrolled": true
   },
   "outputs": [
    {
     "data": {
      "text/html": [
       "<div>\n",
       "<style scoped>\n",
       "    .dataframe tbody tr th:only-of-type {\n",
       "        vertical-align: middle;\n",
       "    }\n",
       "\n",
       "    .dataframe tbody tr th {\n",
       "        vertical-align: top;\n",
       "    }\n",
       "\n",
       "    .dataframe thead th {\n",
       "        text-align: right;\n",
       "    }\n",
       "</style>\n",
       "<table border=\"1\" class=\"dataframe\">\n",
       "  <thead>\n",
       "    <tr style=\"text-align: right;\">\n",
       "      <th></th>\n",
       "      <th>Office</th>\n",
       "      <th>Title</th>\n",
       "      <th>City</th>\n",
       "      <th>Biweeklt/hourly rate</th>\n",
       "      <th>Payrol type</th>\n",
       "      <th>Legislative entity</th>\n",
       "    </tr>\n",
       "  </thead>\n",
       "  <tbody>\n",
       "    <tr>\n",
       "      <th>3</th>\n",
       "      <td>SENATOR JESSICA RAMOS</td>\n",
       "      <td>SR. DIR. LEG. AFFRS / COMMITTEE DIR.</td>\n",
       "      <td>ALBANY</td>\n",
       "      <td>2307.70</td>\n",
       "      <td>RA</td>\n",
       "      <td>SENATE EMPLOYEE</td>\n",
       "    </tr>\n",
       "    <tr>\n",
       "      <th>10</th>\n",
       "      <td>SENATE TECHNOLOGY SERVICES</td>\n",
       "      <td>TECHNICAL SUPPORT REPRESENTATIVE</td>\n",
       "      <td>ALBANY</td>\n",
       "      <td>1307.70</td>\n",
       "      <td>RA</td>\n",
       "      <td>SENATE EMPLOYEE</td>\n",
       "    </tr>\n",
       "    <tr>\n",
       "      <th>13</th>\n",
       "      <td>SENATOR JESSICA RAMOS</td>\n",
       "      <td>DISTRICT POLICY &amp; ORGANIZING DIRECTO</td>\n",
       "      <td>EAST ELMHURST</td>\n",
       "      <td>2000.00</td>\n",
       "      <td>RA</td>\n",
       "      <td>SENATE EMPLOYEE</td>\n",
       "    </tr>\n",
       "    <tr>\n",
       "      <th>20</th>\n",
       "      <td>MAJORITY CONFERENCE SERVICES</td>\n",
       "      <td>EXTERNAL RELATIONS LEGISLATIVE AIDE</td>\n",
       "      <td>ALBANY</td>\n",
       "      <td>2115.39</td>\n",
       "      <td>SA</td>\n",
       "      <td>SENATE EMPLOYEE</td>\n",
       "    </tr>\n",
       "    <tr>\n",
       "      <th>31</th>\n",
       "      <td>SENATOR SUSAN SERINO</td>\n",
       "      <td>DISTRICT OFFICE COORDINATOR</td>\n",
       "      <td>PUTNAM VALLEY</td>\n",
       "      <td>2307.70</td>\n",
       "      <td>RA</td>\n",
       "      <td>SENATE EMPLOYEE</td>\n",
       "    </tr>\n",
       "    <tr>\n",
       "      <th>...</th>\n",
       "      <td>...</td>\n",
       "      <td>...</td>\n",
       "      <td>...</td>\n",
       "      <td>...</td>\n",
       "      <td>...</td>\n",
       "      <td>...</td>\n",
       "    </tr>\n",
       "    <tr>\n",
       "      <th>947</th>\n",
       "      <td>SENATOR JAMES SANDERS</td>\n",
       "      <td>TEAM COUNSEL</td>\n",
       "      <td>ALBANY</td>\n",
       "      <td>2500.00</td>\n",
       "      <td>RA</td>\n",
       "      <td>SENATE EMPLOYEE</td>\n",
       "    </tr>\n",
       "    <tr>\n",
       "      <th>948</th>\n",
       "      <td>SENATOR ANNA M. KAPLAN</td>\n",
       "      <td>CHIEF OF STAFF/COUNSEL</td>\n",
       "      <td>ALBANY</td>\n",
       "      <td>4615.39</td>\n",
       "      <td>RA</td>\n",
       "      <td>SENATE EMPLOYEE</td>\n",
       "    </tr>\n",
       "    <tr>\n",
       "      <th>950</th>\n",
       "      <td>SENATE M&amp;O/POST OFFICE</td>\n",
       "      <td>POSTMASTER</td>\n",
       "      <td>ALBANY</td>\n",
       "      <td>2628.45</td>\n",
       "      <td>RA</td>\n",
       "      <td>SENATE EMPLOYEE</td>\n",
       "    </tr>\n",
       "    <tr>\n",
       "      <th>952</th>\n",
       "      <td>MAJORITY COUNSEL/PROGRAM</td>\n",
       "      <td>POLICY ASSISTANT</td>\n",
       "      <td>ALBANY</td>\n",
       "      <td>1538.47</td>\n",
       "      <td>RA</td>\n",
       "      <td>SENATE EMPLOYEE</td>\n",
       "    </tr>\n",
       "    <tr>\n",
       "      <th>960</th>\n",
       "      <td>SS/PRODUCTION SERVICES</td>\n",
       "      <td>MAILING OPERATOR II</td>\n",
       "      <td>ALBANY</td>\n",
       "      <td>1770.23</td>\n",
       "      <td>RA</td>\n",
       "      <td>SENATE EMPLOYEE</td>\n",
       "    </tr>\n",
       "  </tbody>\n",
       "</table>\n",
       "<p>283 rows × 6 columns</p>\n",
       "</div>"
      ],
      "text/plain": [
       "                           Office                                 Title  \\\n",
       "3           SENATOR JESSICA RAMOS  SR. DIR. LEG. AFFRS / COMMITTEE DIR.   \n",
       "10     SENATE TECHNOLOGY SERVICES      TECHNICAL SUPPORT REPRESENTATIVE   \n",
       "13          SENATOR JESSICA RAMOS  DISTRICT POLICY & ORGANIZING DIRECTO   \n",
       "20   MAJORITY CONFERENCE SERVICES   EXTERNAL RELATIONS LEGISLATIVE AIDE   \n",
       "31           SENATOR SUSAN SERINO           DISTRICT OFFICE COORDINATOR   \n",
       "..                            ...                                   ...   \n",
       "947         SENATOR JAMES SANDERS                          TEAM COUNSEL   \n",
       "948        SENATOR ANNA M. KAPLAN                CHIEF OF STAFF/COUNSEL   \n",
       "950        SENATE M&O/POST OFFICE                            POSTMASTER   \n",
       "952      MAJORITY COUNSEL/PROGRAM                      POLICY ASSISTANT   \n",
       "960        SS/PRODUCTION SERVICES                   MAILING OPERATOR II   \n",
       "\n",
       "              City  Biweeklt/hourly rate Payrol type Legislative entity  \n",
       "3           ALBANY               2307.70          RA    SENATE EMPLOYEE  \n",
       "10          ALBANY               1307.70          RA    SENATE EMPLOYEE  \n",
       "13   EAST ELMHURST               2000.00          RA    SENATE EMPLOYEE  \n",
       "20          ALBANY               2115.39          SA    SENATE EMPLOYEE  \n",
       "31   PUTNAM VALLEY               2307.70          RA    SENATE EMPLOYEE  \n",
       "..             ...                   ...         ...                ...  \n",
       "947         ALBANY               2500.00          RA    SENATE EMPLOYEE  \n",
       "948         ALBANY               4615.39          RA    SENATE EMPLOYEE  \n",
       "950         ALBANY               2628.45          RA    SENATE EMPLOYEE  \n",
       "952         ALBANY               1538.47          RA    SENATE EMPLOYEE  \n",
       "960         ALBANY               1770.23          RA    SENATE EMPLOYEE  \n",
       "\n",
       "[283 rows x 6 columns]"
      ]
     },
     "execution_count": 33,
     "metadata": {},
     "output_type": "execute_result"
    }
   ],
   "source": [
    "df1[df1.Title.isin(list_of_least_title)]"
   ]
  },
  {
   "cell_type": "code",
   "execution_count": 34,
   "id": "6d8c8472",
   "metadata": {},
   "outputs": [
    {
     "data": {
      "text/html": [
       "<div>\n",
       "<style scoped>\n",
       "    .dataframe tbody tr th:only-of-type {\n",
       "        vertical-align: middle;\n",
       "    }\n",
       "\n",
       "    .dataframe tbody tr th {\n",
       "        vertical-align: top;\n",
       "    }\n",
       "\n",
       "    .dataframe thead th {\n",
       "        text-align: right;\n",
       "    }\n",
       "</style>\n",
       "<table border=\"1\" class=\"dataframe\">\n",
       "  <thead>\n",
       "    <tr style=\"text-align: right;\">\n",
       "      <th></th>\n",
       "      <th>Name</th>\n",
       "      <th>Office</th>\n",
       "      <th>Title</th>\n",
       "      <th>City</th>\n",
       "      <th>Biweeklt/hourly rate</th>\n",
       "      <th>Payrol type</th>\n",
       "      <th>Pay period</th>\n",
       "      <th>Legislative entity</th>\n",
       "    </tr>\n",
       "  </thead>\n",
       "  <tbody>\n",
       "    <tr>\n",
       "      <th>0</th>\n",
       "      <td>ABBOT, JUDITH L</td>\n",
       "      <td>SENATOR TOBY ANN STAVISKY</td>\n",
       "      <td>COMMUNITY LIAISON</td>\n",
       "      <td>FLUSHING</td>\n",
       "      <td>1076.93</td>\n",
       "      <td>SA</td>\n",
       "      <td>4</td>\n",
       "      <td>SENATE EMPLOYEE</td>\n",
       "    </tr>\n",
       "    <tr>\n",
       "      <th>1</th>\n",
       "      <td>ABREU, BRIAN A</td>\n",
       "      <td>LEGISLATIVE MESSENGER SERVICE</td>\n",
       "      <td>MESSENGER</td>\n",
       "      <td>ALBANY</td>\n",
       "      <td>1173.93</td>\n",
       "      <td>RA</td>\n",
       "      <td>4</td>\n",
       "      <td>JOINT LEGISLATIVE EMPLOYEE</td>\n",
       "    </tr>\n",
       "    <tr>\n",
       "      <th>2</th>\n",
       "      <td>ABREU, TYDIE Z</td>\n",
       "      <td>SENATE FINANCE COMMITTEE/MAJORITY</td>\n",
       "      <td>SENIOR ANALYST</td>\n",
       "      <td>ALBANY</td>\n",
       "      <td>2692.31</td>\n",
       "      <td>RA</td>\n",
       "      <td>4</td>\n",
       "      <td>SENATE EMPLOYEE</td>\n",
       "    </tr>\n",
       "    <tr>\n",
       "      <th>3</th>\n",
       "      <td>ACEVEDO, SAMANTHA I</td>\n",
       "      <td>SENATOR JESSICA RAMOS</td>\n",
       "      <td>SR. DIR. LEG. AFFRS / COMMITTEE DIR.</td>\n",
       "      <td>ALBANY</td>\n",
       "      <td>2307.70</td>\n",
       "      <td>RA</td>\n",
       "      <td>4</td>\n",
       "      <td>SENATE EMPLOYEE</td>\n",
       "    </tr>\n",
       "    <tr>\n",
       "      <th>4</th>\n",
       "      <td>ADAMS, DAVID V</td>\n",
       "      <td>SENATE SERGEANT-AT-ARMS</td>\n",
       "      <td>SESSION SERGEANT-AT-ARMS</td>\n",
       "      <td>ALBANY</td>\n",
       "      <td>820.95</td>\n",
       "      <td>SA</td>\n",
       "      <td>4</td>\n",
       "      <td>SENATE EMPLOYEE</td>\n",
       "    </tr>\n",
       "  </tbody>\n",
       "</table>\n",
       "</div>"
      ],
      "text/plain": [
       "                  Name                             Office  \\\n",
       "0      ABBOT, JUDITH L          SENATOR TOBY ANN STAVISKY   \n",
       "1       ABREU, BRIAN A      LEGISLATIVE MESSENGER SERVICE   \n",
       "2       ABREU, TYDIE Z  SENATE FINANCE COMMITTEE/MAJORITY   \n",
       "3  ACEVEDO, SAMANTHA I              SENATOR JESSICA RAMOS   \n",
       "4       ADAMS, DAVID V            SENATE SERGEANT-AT-ARMS   \n",
       "\n",
       "                                  Title      City  Biweeklt/hourly rate  \\\n",
       "0                     COMMUNITY LIAISON  FLUSHING               1076.93   \n",
       "1                             MESSENGER    ALBANY               1173.93   \n",
       "2                        SENIOR ANALYST    ALBANY               2692.31   \n",
       "3  SR. DIR. LEG. AFFRS / COMMITTEE DIR.    ALBANY               2307.70   \n",
       "4              SESSION SERGEANT-AT-ARMS    ALBANY                820.95   \n",
       "\n",
       "  Payrol type  Pay period          Legislative entity  \n",
       "0          SA           4             SENATE EMPLOYEE  \n",
       "1          RA           4  JOINT LEGISLATIVE EMPLOYEE  \n",
       "2          RA           4             SENATE EMPLOYEE  \n",
       "3          RA           4             SENATE EMPLOYEE  \n",
       "4          SA           4             SENATE EMPLOYEE  "
      ]
     },
     "execution_count": 34,
     "metadata": {},
     "output_type": "execute_result"
    }
   ],
   "source": [
    "df.head()"
   ]
  },
  {
   "cell_type": "code",
   "execution_count": 35,
   "id": "95d5e742",
   "metadata": {},
   "outputs": [],
   "source": [
    "df2 = pd.get_dummies(df1, drop_first=True)"
   ]
  },
  {
   "cell_type": "code",
   "execution_count": 36,
   "id": "e640156b",
   "metadata": {},
   "outputs": [
    {
     "data": {
      "text/html": [
       "<div>\n",
       "<style scoped>\n",
       "    .dataframe tbody tr th:only-of-type {\n",
       "        vertical-align: middle;\n",
       "    }\n",
       "\n",
       "    .dataframe tbody tr th {\n",
       "        vertical-align: top;\n",
       "    }\n",
       "\n",
       "    .dataframe thead th {\n",
       "        text-align: right;\n",
       "    }\n",
       "</style>\n",
       "<table border=\"1\" class=\"dataframe\">\n",
       "  <thead>\n",
       "    <tr style=\"text-align: right;\">\n",
       "      <th></th>\n",
       "      <th>Biweeklt/hourly rate</th>\n",
       "      <th>Office_CH/DOCUMENT ROOM</th>\n",
       "      <th>Office_CH/JOURNAL CLERK'S OFFICE</th>\n",
       "      <th>Office_FO/ACCOUNTS PAYABLE</th>\n",
       "      <th>Office_FO/PAYROLL</th>\n",
       "      <th>Office_LC/DEVELOPMENT OF RURAL RESOURCES</th>\n",
       "      <th>Office_LC/LEGISLATIVE ETHICS COMMISSION</th>\n",
       "      <th>Office_LEGISLATIVE HEALTH SERVICE</th>\n",
       "      <th>Office_LEGISLATIVE LIBRARY</th>\n",
       "      <th>Office_LEGISLATIVE MESSENGER SERVICE</th>\n",
       "      <th>...</th>\n",
       "      <th>City_STATEN ISLAND</th>\n",
       "      <th>City_SYOSSET</th>\n",
       "      <th>City_SYRACUSE</th>\n",
       "      <th>City_UTICA</th>\n",
       "      <th>City_WATERTOWN</th>\n",
       "      <th>City_WILLIAMSVILLE</th>\n",
       "      <th>City_YONKERS</th>\n",
       "      <th>Payrol type_SA</th>\n",
       "      <th>Payrol type_TE</th>\n",
       "      <th>Legislative entity_SENATE EMPLOYEE</th>\n",
       "    </tr>\n",
       "  </thead>\n",
       "  <tbody>\n",
       "    <tr>\n",
       "      <th>0</th>\n",
       "      <td>1076.93</td>\n",
       "      <td>0</td>\n",
       "      <td>0</td>\n",
       "      <td>0</td>\n",
       "      <td>0</td>\n",
       "      <td>0</td>\n",
       "      <td>0</td>\n",
       "      <td>0</td>\n",
       "      <td>0</td>\n",
       "      <td>0</td>\n",
       "      <td>...</td>\n",
       "      <td>0</td>\n",
       "      <td>0</td>\n",
       "      <td>0</td>\n",
       "      <td>0</td>\n",
       "      <td>0</td>\n",
       "      <td>0</td>\n",
       "      <td>0</td>\n",
       "      <td>1</td>\n",
       "      <td>0</td>\n",
       "      <td>1</td>\n",
       "    </tr>\n",
       "    <tr>\n",
       "      <th>1</th>\n",
       "      <td>1173.93</td>\n",
       "      <td>0</td>\n",
       "      <td>0</td>\n",
       "      <td>0</td>\n",
       "      <td>0</td>\n",
       "      <td>0</td>\n",
       "      <td>0</td>\n",
       "      <td>0</td>\n",
       "      <td>0</td>\n",
       "      <td>1</td>\n",
       "      <td>...</td>\n",
       "      <td>0</td>\n",
       "      <td>0</td>\n",
       "      <td>0</td>\n",
       "      <td>0</td>\n",
       "      <td>0</td>\n",
       "      <td>0</td>\n",
       "      <td>0</td>\n",
       "      <td>0</td>\n",
       "      <td>0</td>\n",
       "      <td>0</td>\n",
       "    </tr>\n",
       "    <tr>\n",
       "      <th>2</th>\n",
       "      <td>2692.31</td>\n",
       "      <td>0</td>\n",
       "      <td>0</td>\n",
       "      <td>0</td>\n",
       "      <td>0</td>\n",
       "      <td>0</td>\n",
       "      <td>0</td>\n",
       "      <td>0</td>\n",
       "      <td>0</td>\n",
       "      <td>0</td>\n",
       "      <td>...</td>\n",
       "      <td>0</td>\n",
       "      <td>0</td>\n",
       "      <td>0</td>\n",
       "      <td>0</td>\n",
       "      <td>0</td>\n",
       "      <td>0</td>\n",
       "      <td>0</td>\n",
       "      <td>0</td>\n",
       "      <td>0</td>\n",
       "      <td>1</td>\n",
       "    </tr>\n",
       "    <tr>\n",
       "      <th>3</th>\n",
       "      <td>2307.70</td>\n",
       "      <td>0</td>\n",
       "      <td>0</td>\n",
       "      <td>0</td>\n",
       "      <td>0</td>\n",
       "      <td>0</td>\n",
       "      <td>0</td>\n",
       "      <td>0</td>\n",
       "      <td>0</td>\n",
       "      <td>0</td>\n",
       "      <td>...</td>\n",
       "      <td>0</td>\n",
       "      <td>0</td>\n",
       "      <td>0</td>\n",
       "      <td>0</td>\n",
       "      <td>0</td>\n",
       "      <td>0</td>\n",
       "      <td>0</td>\n",
       "      <td>0</td>\n",
       "      <td>0</td>\n",
       "      <td>1</td>\n",
       "    </tr>\n",
       "    <tr>\n",
       "      <th>4</th>\n",
       "      <td>820.95</td>\n",
       "      <td>0</td>\n",
       "      <td>0</td>\n",
       "      <td>0</td>\n",
       "      <td>0</td>\n",
       "      <td>0</td>\n",
       "      <td>0</td>\n",
       "      <td>0</td>\n",
       "      <td>0</td>\n",
       "      <td>0</td>\n",
       "      <td>...</td>\n",
       "      <td>0</td>\n",
       "      <td>0</td>\n",
       "      <td>0</td>\n",
       "      <td>0</td>\n",
       "      <td>0</td>\n",
       "      <td>0</td>\n",
       "      <td>0</td>\n",
       "      <td>1</td>\n",
       "      <td>0</td>\n",
       "      <td>1</td>\n",
       "    </tr>\n",
       "  </tbody>\n",
       "</table>\n",
       "<p>5 rows × 572 columns</p>\n",
       "</div>"
      ],
      "text/plain": [
       "   Biweeklt/hourly rate  Office_CH/DOCUMENT ROOM  \\\n",
       "0               1076.93                        0   \n",
       "1               1173.93                        0   \n",
       "2               2692.31                        0   \n",
       "3               2307.70                        0   \n",
       "4                820.95                        0   \n",
       "\n",
       "   Office_CH/JOURNAL CLERK'S OFFICE  Office_FO/ACCOUNTS PAYABLE  \\\n",
       "0                                 0                           0   \n",
       "1                                 0                           0   \n",
       "2                                 0                           0   \n",
       "3                                 0                           0   \n",
       "4                                 0                           0   \n",
       "\n",
       "   Office_FO/PAYROLL  Office_LC/DEVELOPMENT OF RURAL RESOURCES  \\\n",
       "0                  0                                         0   \n",
       "1                  0                                         0   \n",
       "2                  0                                         0   \n",
       "3                  0                                         0   \n",
       "4                  0                                         0   \n",
       "\n",
       "   Office_LC/LEGISLATIVE ETHICS COMMISSION  Office_LEGISLATIVE HEALTH SERVICE  \\\n",
       "0                                        0                                  0   \n",
       "1                                        0                                  0   \n",
       "2                                        0                                  0   \n",
       "3                                        0                                  0   \n",
       "4                                        0                                  0   \n",
       "\n",
       "   Office_LEGISLATIVE LIBRARY  Office_LEGISLATIVE MESSENGER SERVICE  ...  \\\n",
       "0                           0                                     0  ...   \n",
       "1                           0                                     1  ...   \n",
       "2                           0                                     0  ...   \n",
       "3                           0                                     0  ...   \n",
       "4                           0                                     0  ...   \n",
       "\n",
       "   City_STATEN ISLAND  City_SYOSSET  City_SYRACUSE  City_UTICA  \\\n",
       "0                   0             0              0           0   \n",
       "1                   0             0              0           0   \n",
       "2                   0             0              0           0   \n",
       "3                   0             0              0           0   \n",
       "4                   0             0              0           0   \n",
       "\n",
       "   City_WATERTOWN  City_WILLIAMSVILLE  City_YONKERS  Payrol type_SA  \\\n",
       "0               0                   0             0               1   \n",
       "1               0                   0             0               0   \n",
       "2               0                   0             0               0   \n",
       "3               0                   0             0               0   \n",
       "4               0                   0             0               1   \n",
       "\n",
       "   Payrol type_TE  Legislative entity_SENATE EMPLOYEE  \n",
       "0               0                                   1  \n",
       "1               0                                   0  \n",
       "2               0                                   1  \n",
       "3               0                                   1  \n",
       "4               0                                   1  \n",
       "\n",
       "[5 rows x 572 columns]"
      ]
     },
     "execution_count": 36,
     "metadata": {},
     "output_type": "execute_result"
    }
   ],
   "source": [
    "df2.head()"
   ]
  },
  {
   "cell_type": "code",
   "execution_count": 37,
   "id": "2cd628db",
   "metadata": {},
   "outputs": [],
   "source": [
    "def print_evaluate(true, predicted):\n",
    "    mae = metrics.mean_absolute_error(true, predicted)\n",
    "    mse = metrics.mean_squared_error(true, predicted)\n",
    "    rmse = np.sqrt(metrics.mean_squared_error(true, predicted))\n",
    "    r2_square = metrics.r2_score(true, predicted)\n",
    "    print('MAE:', mae)\n",
    "    print('MSE:', mse)\n",
    "    print('RMSE:', rmse)\n",
    "    print('R2 Square', r2_square)\n",
    "    print('__________________________________')"
   ]
  },
  {
   "cell_type": "code",
   "execution_count": 38,
   "id": "111a348d",
   "metadata": {},
   "outputs": [],
   "source": [
    "X = df2.drop(\"Biweeklt/hourly rate\", axis=1)\n",
    "y = df2[\"Biweeklt/hourly rate\"] "
   ]
  },
  {
   "cell_type": "code",
   "execution_count": 39,
   "id": "c17152d7",
   "metadata": {},
   "outputs": [
    {
     "data": {
      "text/plain": [
       "(963, 571)"
      ]
     },
     "execution_count": 39,
     "metadata": {},
     "output_type": "execute_result"
    }
   ],
   "source": [
    "X.shape"
   ]
  },
  {
   "cell_type": "code",
   "execution_count": 42,
   "id": "a58a1216",
   "metadata": {},
   "outputs": [],
   "source": [
    "X_train, X_test, y_train, y_test = train_test_split(X, y, test_size=0.2, random_state=42)"
   ]
  },
  {
   "cell_type": "markdown",
   "id": "7816c330",
   "metadata": {},
   "source": [
    "### Linear Regression"
   ]
  },
  {
   "cell_type": "code",
   "execution_count": 46,
   "id": "a2e96e49",
   "metadata": {},
   "outputs": [],
   "source": [
    "lin_model = LinearRegression()"
   ]
  },
  {
   "cell_type": "code",
   "execution_count": 47,
   "id": "23494204",
   "metadata": {},
   "outputs": [
    {
     "data": {
      "text/plain": [
       "LinearRegression()"
      ]
     },
     "execution_count": 47,
     "metadata": {},
     "output_type": "execute_result"
    }
   ],
   "source": [
    "lin_model.fit(X_train, y_train)"
   ]
  },
  {
   "cell_type": "code",
   "execution_count": 48,
   "id": "0b594bf4",
   "metadata": {},
   "outputs": [
    {
     "data": {
      "text/plain": [
       "0.9287961882422644"
      ]
     },
     "execution_count": 48,
     "metadata": {},
     "output_type": "execute_result"
    }
   ],
   "source": [
    "lin_model.score(X_train, y_train)"
   ]
  },
  {
   "cell_type": "code",
   "execution_count": 49,
   "id": "5c22a59f",
   "metadata": {},
   "outputs": [
    {
     "data": {
      "text/plain": [
       "-1.4764982217080726e+26"
      ]
     },
     "execution_count": 49,
     "metadata": {},
     "output_type": "execute_result"
    }
   ],
   "source": [
    "lin_model.score(X_test, y_test)"
   ]
  },
  {
   "cell_type": "code",
   "execution_count": 50,
   "id": "c86e5f3f",
   "metadata": {},
   "outputs": [
    {
     "data": {
      "image/png": "[encoded data removed]",
      "text/plain": [
       "<Figure size 720x720 with 1 Axes>"
      ]
     },
     "metadata": {},
     "output_type": "display_data"
    },
    {
     "data": {
      "text/plain": [
       "<AxesSubplot:title={'center':'Prediction Error for LinearRegression'}, xlabel='$y$', ylabel='$\\\\hat{y}$'>"
      ]
     },
     "execution_count": 50,
     "metadata": {},
     "output_type": "execute_result"
    }
   ],
   "source": [
    "plt.figure(figsize=(10, 10))\n",
    "visualizer = PredictionError(LinearRegression())\n",
    "visualizer.fit(X_train, y_train)\n",
    "visualizer.score(X_test, y_test)\n",
    "visualizer.show()"
   ]
  },
  {
   "cell_type": "code",
   "execution_count": 51,
   "id": "704e8c73",
   "metadata": {},
   "outputs": [
    {
     "data": {
      "text/plain": [
       "-6780203769347701.0"
      ]
     },
     "execution_count": 51,
     "metadata": {},
     "output_type": "execute_result"
    }
   ],
   "source": [
    "lin_model.intercept_"
   ]
  },
  {
   "cell_type": "code",
   "execution_count": 52,
   "id": "143243c6",
   "metadata": {},
   "outputs": [
    {
     "data": {
      "image/png": "[encoded data removed]",
      "text/plain": [
       "<Figure size 720x720 with 2 Axes>"
      ]
     },
     "metadata": {},
     "output_type": "display_data"
    },
    {
     "data": {
      "text/plain": [
       "<AxesSubplot:title={'center':'Residuals for LinearRegression Model'}, xlabel='Predicted Value', ylabel='Residuals'>"
      ]
     },
     "execution_count": 52,
     "metadata": {},
     "output_type": "execute_result"
    }
   ],
   "source": [
    "plt.figure(figsize=(10, 10))\n",
    "model = ResidualsPlot(LinearRegression())\n",
    "model.fit(X_train, y_train)\n",
    "model.score(X_test, y_test)\n",
    "model.show()"
   ]
  },
  {
   "cell_type": "markdown",
   "id": "571a2ca1",
   "metadata": {},
   "source": [
    "### Ridge Regression"
   ]
  },
  {
   "cell_type": "code",
   "execution_count": 53,
   "id": "efb63d06",
   "metadata": {},
   "outputs": [],
   "source": [
    "ridge_model = Ridge(random_state=42)"
   ]
  },
  {
   "cell_type": "code",
   "execution_count": 54,
   "id": "77181bb6",
   "metadata": {},
   "outputs": [
    {
     "data": {
      "text/plain": [
       "Ridge(random_state=42)"
      ]
     },
     "execution_count": 54,
     "metadata": {},
     "output_type": "execute_result"
    }
   ],
   "source": [
    "ridge_model.fit(X_train, y_train)"
   ]
  },
  {
   "cell_type": "code",
   "execution_count": 55,
   "id": "346aed29",
   "metadata": {},
   "outputs": [
    {
     "data": {
      "text/plain": [
       "0.849483100030242"
      ]
     },
     "execution_count": 55,
     "metadata": {},
     "output_type": "execute_result"
    }
   ],
   "source": [
    "ridge_model.score(X_train, y_train)"
   ]
  },
  {
   "cell_type": "code",
   "execution_count": 56,
   "id": "a0aa4e8a",
   "metadata": {},
   "outputs": [
    {
     "data": {
      "text/plain": [
       "0.3699609114390163"
      ]
     },
     "execution_count": 56,
     "metadata": {},
     "output_type": "execute_result"
    }
   ],
   "source": [
    "ridge_model.score(X_test, y_test)"
   ]
  },
  {
   "cell_type": "code",
   "execution_count": 57,
   "id": "dc5cb8cb",
   "metadata": {},
   "outputs": [],
   "source": [
    "scores = cross_validate(Ridge(random_state=42), X_train, y_train, scoring=['r2',\n",
    "                                                          'neg_mean_absolute_error',\n",
    "                                                          'neg_mean_squared_error',\n",
    "                                                          'neg_root_mean_squared_error'], cv=10)"
   ]
  },
  {
   "cell_type": "code",
   "execution_count": 58,
   "id": "fda5e5ae",
   "metadata": {},
   "outputs": [
    {
     "data": {
      "text/plain": [
       "0.5278337115763038"
      ]
     },
     "execution_count": 58,
     "metadata": {},
     "output_type": "execute_result"
    }
   ],
   "source": [
    "pd.DataFrame(scores)['test_r2'].mean()"
   ]
  },
  {
   "cell_type": "markdown",
   "id": "df2fca72",
   "metadata": {},
   "source": [
    "### Alpha Tuning"
   ]
  },
  {
   "cell_type": "code",
   "execution_count": 59,
   "id": "58c27b8b",
   "metadata": {},
   "outputs": [],
   "source": [
    "alpha_space = np.linspace(0.01, 20, 300)"
   ]
  },
  {
   "cell_type": "code",
   "execution_count": 60,
   "id": "b9a7b639",
   "metadata": {},
   "outputs": [],
   "source": [
    "ridgecv = RidgeCV(alphas=alpha_space, cv=10)"
   ]
  },
  {
   "cell_type": "code",
   "execution_count": 61,
   "id": "4f1055e6",
   "metadata": {
    "scrolled": true
   },
   "outputs": [
    {
     "data": {
      "text/plain": [
       "RidgeCV(alphas=array([1.00000000e-02, 7.68561873e-02, 1.43712375e-01, 2.10568562e-01,\n",
       "       2.77424749e-01, 3.44280936e-01, 4.11137124e-01, 4.77993311e-01,\n",
       "       5.44849498e-01, 6.11705686e-01, 6.78561873e-01, 7.45418060e-01,\n",
       "       8.12274247e-01, 8.79130435e-01, 9.45986622e-01, 1.01284281e+00,\n",
       "       1.07969900e+00, 1.14655518e+00, 1.21341137e+00, 1.28026756e+00,\n",
       "       1.34712375e+00, 1.41397993e+0...\n",
       "       1.84623077e+01, 1.85291639e+01, 1.85960201e+01, 1.86628763e+01,\n",
       "       1.87297324e+01, 1.87965886e+01, 1.88634448e+01, 1.89303010e+01,\n",
       "       1.89971572e+01, 1.90640134e+01, 1.91308696e+01, 1.91977258e+01,\n",
       "       1.92645819e+01, 1.93314381e+01, 1.93982943e+01, 1.94651505e+01,\n",
       "       1.95320067e+01, 1.95988629e+01, 1.96657191e+01, 1.97325753e+01,\n",
       "       1.97994314e+01, 1.98662876e+01, 1.99331438e+01, 2.00000000e+01]),\n",
       "        cv=10)"
      ]
     },
     "execution_count": 61,
     "metadata": {},
     "output_type": "execute_result"
    }
   ],
   "source": [
    "ridgecv.fit(X_train, y_train)"
   ]
  },
  {
   "cell_type": "code",
   "execution_count": 62,
   "id": "bea10b3b",
   "metadata": {},
   "outputs": [
    {
     "data": {
      "text/plain": [
       "0.5284042000334062"
      ]
     },
     "execution_count": 62,
     "metadata": {},
     "output_type": "execute_result"
    }
   ],
   "source": [
    "ridgecv.best_score_"
   ]
  },
  {
   "cell_type": "code",
   "execution_count": 63,
   "id": "8ee6b143",
   "metadata": {
    "scrolled": true
   },
   "outputs": [
    {
     "data": {
      "text/plain": [
       "1.2134113712374581"
      ]
     },
     "execution_count": 63,
     "metadata": {},
     "output_type": "execute_result"
    }
   ],
   "source": [
    "ridgecv.alpha_"
   ]
  },
  {
   "cell_type": "code",
   "execution_count": 64,
   "id": "095f9dba",
   "metadata": {},
   "outputs": [
    {
     "data": {
      "text/plain": [
       "0.8345220419861044"
      ]
     },
     "execution_count": 64,
     "metadata": {},
     "output_type": "execute_result"
    }
   ],
   "source": [
    "ridgecv.score(X_train, y_train)"
   ]
  },
  {
   "cell_type": "code",
   "execution_count": 65,
   "id": "e0f1db83",
   "metadata": {},
   "outputs": [
    {
     "data": {
      "text/plain": [
       "0.36962502932487074"
      ]
     },
     "execution_count": 65,
     "metadata": {},
     "output_type": "execute_result"
    }
   ],
   "source": [
    "ridgecv.score(X_test, y_test)"
   ]
  },
  {
   "cell_type": "code",
   "execution_count": 66,
   "id": "7bf7ecad",
   "metadata": {},
   "outputs": [],
   "source": [
    "ridge_2 = Ridge(alpha=1.2134113712374581, random_state=42)"
   ]
  },
  {
   "cell_type": "code",
   "execution_count": 67,
   "id": "1ad254ad",
   "metadata": {},
   "outputs": [
    {
     "data": {
      "text/plain": [
       "Ridge(alpha=1.2134113712374581, random_state=42)"
      ]
     },
     "execution_count": 67,
     "metadata": {},
     "output_type": "execute_result"
    }
   ],
   "source": [
    "ridge_2.fit(X_train, y_train)"
   ]
  },
  {
   "cell_type": "code",
   "execution_count": 68,
   "id": "ee85c1ba",
   "metadata": {},
   "outputs": [
    {
     "data": {
      "text/plain": [
       "0.8345220419861044"
      ]
     },
     "execution_count": 68,
     "metadata": {},
     "output_type": "execute_result"
    }
   ],
   "source": [
    "ridge_2.score(X_train, y_train)"
   ]
  },
  {
   "cell_type": "code",
   "execution_count": 69,
   "id": "5e512129",
   "metadata": {},
   "outputs": [
    {
     "data": {
      "text/plain": [
       "0.36962502932487074"
      ]
     },
     "execution_count": 69,
     "metadata": {},
     "output_type": "execute_result"
    }
   ],
   "source": [
    "ridge_2.score(X_test, y_test)"
   ]
  },
  {
   "cell_type": "code",
   "execution_count": 70,
   "id": "a5bfe21c",
   "metadata": {},
   "outputs": [
    {
     "data": {
      "image/png": "[encoded data removed]",
      "text/plain": [
       "<Figure size 576x396 with 1 Axes>"
      ]
     },
     "metadata": {},
     "output_type": "display_data"
    },
    {
     "data": {
      "text/plain": [
       "<AxesSubplot:title={'center':'Feature Importances of 571 Features using Ridge'}, xlabel='relative coefficient magnitude'>"
      ]
     },
     "execution_count": 70,
     "metadata": {},
     "output_type": "execute_result"
    }
   ],
   "source": [
    "viz = FeatureImportances(Ridge(alpha=1.414, random_state=42), labels=X.columns)\n",
    "viz.fit(X_train, y_train)\n",
    "viz.show()"
   ]
  },
  {
   "cell_type": "code",
   "execution_count": 71,
   "id": "b4e3a166",
   "metadata": {},
   "outputs": [],
   "source": [
    "y_pred = ridge_2.predict(X_test)"
   ]
  },
  {
   "cell_type": "code",
   "execution_count": 72,
   "id": "9999792d",
   "metadata": {},
   "outputs": [
    {
     "name": "stderr",
     "output_type": "stream",
     "text": [
      "/home/kurubal/anaconda3/lib/python3.8/site-packages/seaborn/distributions.py:2557: FutureWarning: `distplot` is a deprecated function and will be removed in a future version. Please adapt your code to use either `displot` (a figure-level function with similar flexibility) or `histplot` (an axes-level function for histograms).\n",
      "  warnings.warn(msg, FutureWarning)\n"
     ]
    },
    {
     "data": {
      "image/png": "[encoded data removed]",
      "text/plain": [
       "<Figure size 720x360 with 1 Axes>"
      ]
     },
     "metadata": {},
     "output_type": "display_data"
    }
   ],
   "source": [
    "plt.figure(figsize=(10, 5))\n",
    "sns.distplot((y_test - y_pred), bins=50, fit=stats.norm);"
   ]
  },
  {
   "cell_type": "code",
   "execution_count": 73,
   "id": "ae474f8d",
   "metadata": {},
   "outputs": [
    {
     "data": {
      "text/plain": [
       "1.178311029527346"
      ]
     },
     "execution_count": 73,
     "metadata": {},
     "output_type": "execute_result"
    }
   ],
   "source": [
    "stats.skew(y_test - y_pred)"
   ]
  },
  {
   "cell_type": "code",
   "execution_count": 74,
   "id": "5e2208c8",
   "metadata": {},
   "outputs": [
    {
     "data": {
      "image/png": "[encoded data removed]",
      "text/plain": [
       "<Figure size 720x720 with 2 Axes>"
      ]
     },
     "metadata": {},
     "output_type": "display_data"
    },
    {
     "data": {
      "text/plain": [
       "<AxesSubplot:title={'center':'Residuals for Ridge Model'}, xlabel='Predicted Value', ylabel='Residuals'>"
      ]
     },
     "execution_count": 74,
     "metadata": {},
     "output_type": "execute_result"
    }
   ],
   "source": [
    "plt.figure(figsize=(10, 10))\n",
    "model = ResidualsPlot(Ridge(alpha=1.414, random_state=42))\n",
    "model.fit(X_train, y_train)\n",
    "model.score(X_test, y_test)\n",
    "model.show()"
   ]
  },
  {
   "cell_type": "markdown",
   "id": "d0fa1516",
   "metadata": {},
   "source": [
    "### Lasso Regression"
   ]
  },
  {
   "cell_type": "code",
   "execution_count": 75,
   "id": "0c37bf0f",
   "metadata": {},
   "outputs": [],
   "source": [
    "lasso_model = Lasso(random_state=42)"
   ]
  },
  {
   "cell_type": "code",
   "execution_count": 76,
   "id": "c027279e",
   "metadata": {},
   "outputs": [
    {
     "data": {
      "text/plain": [
       "Lasso(random_state=42)"
      ]
     },
     "execution_count": 76,
     "metadata": {},
     "output_type": "execute_result"
    }
   ],
   "source": [
    "lasso_model.fit(X_train, y_train)"
   ]
  },
  {
   "cell_type": "code",
   "execution_count": 77,
   "id": "2560c423",
   "metadata": {},
   "outputs": [
    {
     "data": {
      "text/plain": [
       "0.7823697667590425"
      ]
     },
     "execution_count": 77,
     "metadata": {},
     "output_type": "execute_result"
    }
   ],
   "source": [
    "lasso_model.score(X_train, y_train)"
   ]
  },
  {
   "cell_type": "code",
   "execution_count": 78,
   "id": "d647d735",
   "metadata": {},
   "outputs": [
    {
     "data": {
      "text/plain": [
       "0.34508278440808093"
      ]
     },
     "execution_count": 78,
     "metadata": {},
     "output_type": "execute_result"
    }
   ],
   "source": [
    "lasso_model.score(X_test, y_test)"
   ]
  },
  {
   "cell_type": "code",
   "execution_count": 79,
   "id": "94ebbff3",
   "metadata": {},
   "outputs": [],
   "source": [
    "scores = cross_validate(Lasso(random_state=42), X_train, y_train, scoring=['r2',\n",
    "                                                          'neg_mean_absolute_error',\n",
    "                                                          'neg_mean_squared_error',\n",
    "                                                          'neg_root_mean_squared_error'], cv=10)"
   ]
  },
  {
   "cell_type": "code",
   "execution_count": 80,
   "id": "9edb7840",
   "metadata": {},
   "outputs": [
    {
     "data": {
      "text/html": [
       "<div>\n",
       "<style scoped>\n",
       "    .dataframe tbody tr th:only-of-type {\n",
       "        vertical-align: middle;\n",
       "    }\n",
       "\n",
       "    .dataframe tbody tr th {\n",
       "        vertical-align: top;\n",
       "    }\n",
       "\n",
       "    .dataframe thead th {\n",
       "        text-align: right;\n",
       "    }\n",
       "</style>\n",
       "<table border=\"1\" class=\"dataframe\">\n",
       "  <thead>\n",
       "    <tr style=\"text-align: right;\">\n",
       "      <th></th>\n",
       "      <th>fit_time</th>\n",
       "      <th>score_time</th>\n",
       "      <th>test_r2</th>\n",
       "      <th>test_neg_mean_absolute_error</th>\n",
       "      <th>test_neg_mean_squared_error</th>\n",
       "      <th>test_neg_root_mean_squared_error</th>\n",
       "    </tr>\n",
       "  </thead>\n",
       "  <tbody>\n",
       "    <tr>\n",
       "      <th>0</th>\n",
       "      <td>0.014978</td>\n",
       "      <td>0.004130</td>\n",
       "      <td>0.718153</td>\n",
       "      <td>-368.244571</td>\n",
       "      <td>-211312.530640</td>\n",
       "      <td>-459.687427</td>\n",
       "    </tr>\n",
       "    <tr>\n",
       "      <th>1</th>\n",
       "      <td>0.025162</td>\n",
       "      <td>0.011690</td>\n",
       "      <td>0.409856</td>\n",
       "      <td>-554.501431</td>\n",
       "      <td>-498431.616180</td>\n",
       "      <td>-705.996895</td>\n",
       "    </tr>\n",
       "    <tr>\n",
       "      <th>2</th>\n",
       "      <td>0.023292</td>\n",
       "      <td>0.004656</td>\n",
       "      <td>0.542147</td>\n",
       "      <td>-506.954329</td>\n",
       "      <td>-472459.070815</td>\n",
       "      <td>-687.356582</td>\n",
       "    </tr>\n",
       "    <tr>\n",
       "      <th>3</th>\n",
       "      <td>0.015154</td>\n",
       "      <td>0.005034</td>\n",
       "      <td>0.436698</td>\n",
       "      <td>-477.392641</td>\n",
       "      <td>-499357.495211</td>\n",
       "      <td>-706.652316</td>\n",
       "    </tr>\n",
       "    <tr>\n",
       "      <th>4</th>\n",
       "      <td>0.016828</td>\n",
       "      <td>0.004681</td>\n",
       "      <td>0.365513</td>\n",
       "      <td>-561.525939</td>\n",
       "      <td>-530058.079416</td>\n",
       "      <td>-728.050877</td>\n",
       "    </tr>\n",
       "    <tr>\n",
       "      <th>5</th>\n",
       "      <td>0.015375</td>\n",
       "      <td>0.004674</td>\n",
       "      <td>0.587852</td>\n",
       "      <td>-475.459911</td>\n",
       "      <td>-379415.239619</td>\n",
       "      <td>-615.966914</td>\n",
       "    </tr>\n",
       "    <tr>\n",
       "      <th>6</th>\n",
       "      <td>0.018722</td>\n",
       "      <td>0.004661</td>\n",
       "      <td>0.457776</td>\n",
       "      <td>-516.439232</td>\n",
       "      <td>-500627.159187</td>\n",
       "      <td>-707.550111</td>\n",
       "    </tr>\n",
       "    <tr>\n",
       "      <th>7</th>\n",
       "      <td>0.016100</td>\n",
       "      <td>0.004645</td>\n",
       "      <td>0.379154</td>\n",
       "      <td>-554.735753</td>\n",
       "      <td>-583625.585610</td>\n",
       "      <td>-763.953916</td>\n",
       "    </tr>\n",
       "    <tr>\n",
       "      <th>8</th>\n",
       "      <td>0.014161</td>\n",
       "      <td>0.004717</td>\n",
       "      <td>0.501041</td>\n",
       "      <td>-442.879757</td>\n",
       "      <td>-346693.555368</td>\n",
       "      <td>-588.806891</td>\n",
       "    </tr>\n",
       "    <tr>\n",
       "      <th>9</th>\n",
       "      <td>0.017675</td>\n",
       "      <td>0.004664</td>\n",
       "      <td>0.557860</td>\n",
       "      <td>-440.099454</td>\n",
       "      <td>-341715.632904</td>\n",
       "      <td>-584.564481</td>\n",
       "    </tr>\n",
       "  </tbody>\n",
       "</table>\n",
       "</div>"
      ],
      "text/plain": [
       "   fit_time  score_time   test_r2  test_neg_mean_absolute_error  \\\n",
       "0  0.014978    0.004130  0.718153                   -368.244571   \n",
       "1  0.025162    0.011690  0.409856                   -554.501431   \n",
       "2  0.023292    0.004656  0.542147                   -506.954329   \n",
       "3  0.015154    0.005034  0.436698                   -477.392641   \n",
       "4  0.016828    0.004681  0.365513                   -561.525939   \n",
       "5  0.015375    0.004674  0.587852                   -475.459911   \n",
       "6  0.018722    0.004661  0.457776                   -516.439232   \n",
       "7  0.016100    0.004645  0.379154                   -554.735753   \n",
       "8  0.014161    0.004717  0.501041                   -442.879757   \n",
       "9  0.017675    0.004664  0.557860                   -440.099454   \n",
       "\n",
       "   test_neg_mean_squared_error  test_neg_root_mean_squared_error  \n",
       "0               -211312.530640                       -459.687427  \n",
       "1               -498431.616180                       -705.996895  \n",
       "2               -472459.070815                       -687.356582  \n",
       "3               -499357.495211                       -706.652316  \n",
       "4               -530058.079416                       -728.050877  \n",
       "5               -379415.239619                       -615.966914  \n",
       "6               -500627.159187                       -707.550111  \n",
       "7               -583625.585610                       -763.953916  \n",
       "8               -346693.555368                       -588.806891  \n",
       "9               -341715.632904                       -584.564481  "
      ]
     },
     "execution_count": 80,
     "metadata": {},
     "output_type": "execute_result"
    }
   ],
   "source": [
    "pd.DataFrame(scores)"
   ]
  },
  {
   "cell_type": "code",
   "execution_count": 81,
   "id": "f1fb1aa6",
   "metadata": {},
   "outputs": [
    {
     "data": {
      "text/plain": [
       "0.4956048610289403"
      ]
     },
     "execution_count": 81,
     "metadata": {},
     "output_type": "execute_result"
    }
   ],
   "source": [
    "pd.DataFrame(scores)['test_r2'].mean()"
   ]
  },
  {
   "cell_type": "code",
   "execution_count": 82,
   "id": "adc71389",
   "metadata": {},
   "outputs": [],
   "source": [
    "lasso_cv_model = LassoCV(alphas = alpha_space, cv=10, max_iter=100000, n_jobs =-1, random_state=42).fit(X_train, y_train)"
   ]
  },
  {
   "cell_type": "code",
   "execution_count": 83,
   "id": "2286a8a8",
   "metadata": {},
   "outputs": [
    {
     "data": {
      "text/plain": [
       "0.8122742474916388"
      ]
     },
     "execution_count": 83,
     "metadata": {},
     "output_type": "execute_result"
    }
   ],
   "source": [
    "lasso_cv_model.alpha_"
   ]
  },
  {
   "cell_type": "code",
   "execution_count": 84,
   "id": "93ceb73a",
   "metadata": {
    "scrolled": true
   },
   "outputs": [
    {
     "data": {
      "text/plain": [
       "0.8135192860443252"
      ]
     },
     "execution_count": 84,
     "metadata": {},
     "output_type": "execute_result"
    }
   ],
   "source": [
    "lasso_cv_model.score(X_train, y_train)"
   ]
  },
  {
   "cell_type": "code",
   "execution_count": 85,
   "id": "79c84671",
   "metadata": {},
   "outputs": [
    {
     "data": {
      "text/plain": [
       "0.35556318161579314"
      ]
     },
     "execution_count": 85,
     "metadata": {},
     "output_type": "execute_result"
    }
   ],
   "source": [
    "lasso_cv_model.score(X_test, y_test)"
   ]
  },
  {
   "cell_type": "code",
   "execution_count": 86,
   "id": "b2d80023",
   "metadata": {},
   "outputs": [
    {
     "data": {
      "image/png": "[encoded data removed]",
      "text/plain": [
       "<Figure size 576x396 with 1 Axes>"
      ]
     },
     "metadata": {},
     "output_type": "display_data"
    },
    {
     "data": {
      "text/plain": [
       "<AxesSubplot:title={'center':'Feature Importances of 571 Features using Lasso'}, xlabel='relative coefficient magnitude'>"
      ]
     },
     "execution_count": 86,
     "metadata": {},
     "output_type": "execute_result"
    }
   ],
   "source": [
    "viz = FeatureImportances(Lasso(alpha=0.8791304347826087, random_state=42), labels=X.columns)\n",
    "viz.fit(X_train, y_train)\n",
    "viz.show()"
   ]
  },
  {
   "cell_type": "markdown",
   "id": "b644c3e9",
   "metadata": {},
   "source": [
    "### ElasticNet"
   ]
  },
  {
   "cell_type": "code",
   "execution_count": 87,
   "id": "b84e3e2e",
   "metadata": {},
   "outputs": [],
   "source": [
    "elm = ElasticNet(alpha=0.1, l1_ratio=0.9, selection='random', random_state=42)"
   ]
  },
  {
   "cell_type": "code",
   "execution_count": 88,
   "id": "8742c177",
   "metadata": {},
   "outputs": [
    {
     "data": {
      "text/plain": [
       "ElasticNet(alpha=0.1, l1_ratio=0.9, random_state=42, selection='random')"
      ]
     },
     "execution_count": 88,
     "metadata": {},
     "output_type": "execute_result"
    }
   ],
   "source": [
    "elm.fit(X_train, y_train)"
   ]
  },
  {
   "cell_type": "code",
   "execution_count": 89,
   "id": "0db9bb4b",
   "metadata": {},
   "outputs": [
    {
     "data": {
      "text/plain": [
       "0.6302576586179983"
      ]
     },
     "execution_count": 89,
     "metadata": {},
     "output_type": "execute_result"
    }
   ],
   "source": [
    "elm.score(X_train, y_train)"
   ]
  },
  {
   "cell_type": "code",
   "execution_count": 90,
   "id": "1e9eaadb",
   "metadata": {},
   "outputs": [
    {
     "data": {
      "text/plain": [
       "0.31930731289999614"
      ]
     },
     "execution_count": 90,
     "metadata": {},
     "output_type": "execute_result"
    }
   ],
   "source": [
    "elm.score(X_test, y_test)"
   ]
  },
  {
   "cell_type": "code",
   "execution_count": 91,
   "id": "b057bff9",
   "metadata": {},
   "outputs": [],
   "source": [
    "grid_params = {'alpha':alpha_space, 'l1_ratio':[0.1, 0.2, 0.3, 0.4, 0.5, 0.6, 0.7, 0.8, 0.9]}"
   ]
  },
  {
   "cell_type": "code",
   "execution_count": 92,
   "id": "e4c2239e",
   "metadata": {},
   "outputs": [],
   "source": [
    "grid = GridSearchCV(ElasticNet(), param_grid=grid_params, n_jobs=-1, verbose=2, cv=10)"
   ]
  },
  {
   "cell_type": "code",
   "execution_count": 93,
   "id": "cd8b51e3",
   "metadata": {},
   "outputs": [
    {
     "name": "stdout",
     "output_type": "stream",
     "text": [
      "Fitting 10 folds for each of 2700 candidates, totalling 27000 fits\n"
     ]
    },
    {
     "data": {
      "text/plain": [
       "GridSearchCV(cv=10, estimator=ElasticNet(), n_jobs=-1,\n",
       "             param_grid={'alpha': array([1.00000000e-02, 7.68561873e-02, 1.43712375e-01, 2.10568562e-01,\n",
       "       2.77424749e-01, 3.44280936e-01, 4.11137124e-01, 4.77993311e-01,\n",
       "       5.44849498e-01, 6.11705686e-01, 6.78561873e-01, 7.45418060e-01,\n",
       "       8.12274247e-01, 8.79130435e-01, 9.45986622e-01, 1.01284281e+00,\n",
       "       1.07969900e+00, 1.14655518e+00, 1...\n",
       "       1.87297324e+01, 1.87965886e+01, 1.88634448e+01, 1.89303010e+01,\n",
       "       1.89971572e+01, 1.90640134e+01, 1.91308696e+01, 1.91977258e+01,\n",
       "       1.92645819e+01, 1.93314381e+01, 1.93982943e+01, 1.94651505e+01,\n",
       "       1.95320067e+01, 1.95988629e+01, 1.96657191e+01, 1.97325753e+01,\n",
       "       1.97994314e+01, 1.98662876e+01, 1.99331438e+01, 2.00000000e+01]),\n",
       "                         'l1_ratio': [0.1, 0.2, 0.3, 0.4, 0.5, 0.6, 0.7, 0.8,\n",
       "                                      0.9]},\n",
       "             verbose=2)"
      ]
     },
     "execution_count": 93,
     "metadata": {},
     "output_type": "execute_result"
    }
   ],
   "source": [
    "grid.fit(X_train, y_train)"
   ]
  },
  {
   "cell_type": "code",
   "execution_count": 94,
   "id": "1a1a2394",
   "metadata": {},
   "outputs": [
    {
     "data": {
      "text/plain": [
       "{'alpha': 0.01, 'l1_ratio': 0.8}"
      ]
     },
     "execution_count": 94,
     "metadata": {},
     "output_type": "execute_result"
    }
   ],
   "source": [
    "grid.best_params_"
   ]
  },
  {
   "cell_type": "code",
   "execution_count": 95,
   "id": "f54655ff",
   "metadata": {},
   "outputs": [
    {
     "data": {
      "text/plain": [
       "0.5281738555413359"
      ]
     },
     "execution_count": 95,
     "metadata": {},
     "output_type": "execute_result"
    }
   ],
   "source": [
    "grid.best_score_"
   ]
  },
  {
   "cell_type": "code",
   "execution_count": null,
   "id": "eda12d43",
   "metadata": {},
   "outputs": [],
   "source": []
  },
  {
   "cell_type": "code",
   "execution_count": null,
   "id": "24cb55bc",
   "metadata": {},
   "outputs": [],
   "source": []
  }
 ],
 "metadata": {
  "kernelspec": {
   "display_name": "Python 3",
   "language": "python",
   "name": "python3"
  },
  "language_info": {
   "codemirror_mode": {
    "name": "ipython",
    "version": 3
   },
   "file_extension": ".py",
   "mimetype": "text/x-python",
   "name": "python",
   "nbconvert_exporter": "python",
   "pygments_lexer": "ipython3",
   "version": "3.8.10"
  }
 },
 "nbformat": 4,
 "nbformat_minor": 5
}
